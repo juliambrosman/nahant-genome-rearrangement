{
 "metadata": {
  "name": "",
  "signature": "sha256:d2c6f8cd4e3de99df071d4eddb98c2533a99db9a0b25dc6df78e9fbde8fa78fc"
 },
 "nbformat": 3,
 "nbformat_minor": 0,
 "worksheets": [
  {
   "cells": [
    {
     "cell_type": "code",
     "collapsed": false,
     "input": [
      "import os\n",
      "group=\"P22-like headful (ES18 sub-group)\"\n",
      "os.chdir(\"../\")\n",
      "##use this script to pull out different categories of phages i wish to work with\n",
      "\n",
      "ktblast=open(\"ktblast_terminase_IDs.txt\").readlines()\n",
      "whatsleft=open(\"whats_left.txt\").read().split(\"\\n\")\n",
      "\n",
      "categories={}\n",
      "\n",
      "grouplist=[]\n",
      "\n",
      "for line in ktblast[1:]:\n",
      "    name=line.split(\",\")[0].split(\"_\")[0]\n",
      "    cat=line.split(\",\")[2].replace(\"\\n\",\"\")\n",
      "    if name in whatsleft:\n",
      "        categories[name]=cat\n",
      "\n",
      "for value in categories.keys():\n",
      "    if categories.get(value)==group:\n",
      "        grouplist.append(value)\n",
      "print(grouplist)"
     ],
     "language": "python",
     "metadata": {},
     "outputs": [
      {
       "output_type": "stream",
       "stream": "stdout",
       "text": [
        "['1.199.B.', '1.155.O.', '1.243.O.', '1.003.O.', '1.214.O.', '1.105.O.', '1.236.O.', '1.173.O.', '1.177.O.', '1.213.O.', '1.278.O.', '1.239.O.', '1.036.O.', '1.016.O.', '1.259.O.', '1.199.A.', '1.013.O.', '1.166.O.', '1.256.O.', '1.273.O.', '1.263.B.', '1.123.O.', '1.184.A.', '1.039.O.', '1.110.O.', '1.275.O.', '1.067.O.', '1.112.O.', '1.286.O.', '1.149.O.', '1.186.O.', '1.079.O.', '1.091.O.', '1.137.O.', '1.190.O.', '1.106.O.', '1.090.B.', '1.071.A.', '1.042.O.', '1.263.A.', '1.135.O.', '1.061.O.', '1.216.O.', '1.248.O.', '1.144.O.', '1.007.O.', '1.052.A.']\n"
       ]
      }
     ],
     "prompt_number": 14
    },
    {
     "cell_type": "code",
     "collapsed": false,
     "input": [
      "import os\n",
      "#!mkdir p22like_headful_nogrp4\n",
      "os.chdir(\"./p22like_headful_nogrp4\")\n"
     ],
     "language": "python",
     "metadata": {},
     "outputs": [],
     "prompt_number": 15
    },
    {
     "cell_type": "code",
     "collapsed": false,
     "input": [
      "len(grouplist)"
     ],
     "language": "python",
     "metadata": {},
     "outputs": [
      {
       "metadata": {},
       "output_type": "pyout",
       "prompt_number": 23,
       "text": [
        "47"
       ]
      }
     ],
     "prompt_number": 23
    },
    {
     "cell_type": "code",
     "collapsed": false,
     "input": [
      "step1c1=open(\"step1.contig1.sh\",\"w\")\n",
      "step1c1.write(\"#!/bin/bash\\n#SBATCH -n 16\\n#SBATCH -N 1\\n#SBATCH -o s1c1.out\\n#SBATCH -e s1c1.err\\n#SBATCH -p newnodes\\n\\n\")\n",
      "step1c1.write(\"module add engaging/clc-assembly-cell\\nmodule add engaging/samtools/1.1\\nmodule add engaging/bedtools/2.22.1\\n\\n\")\n",
      "for line in grouplist:\n",
      "    name=line.rstrip(\"\\n\")\n",
      "    step1c1.write(\"\\n\\n#\"+name+\"\\nclc_assembler -o \"+name+\"step1.clc.fasta -m 500 -p fb ss 100 300 -q ../\"+ name+\"*.fastq\\n\")\n",
      "    step1c1.write(\"samtools faidx \"+name+\"step1.clc.fasta 'contig_1'>\"+name+\"step1.contig1.fasta\\n\\nclc_mapper -o \"+name+\"step1.contig1.cas -p fb ss 100 300 -q ../\"+name+\"*.fastq -d \"+name+\"step1.contig1.fasta -a local -r ignore\\n\")\n",
      "    step1c1.write(\"clc_cas_to_sam -a \"+name+\"step1.contig1.cas -o \"+name+\"step1.contig1.bam\\n\\nsamtools sort \"+name+\"step1.contig1.bam \"+name+\"sorted.step1.contig1\\nsamtools index \"+name+\"sorted.step1.contig1.bam\\n\\nbedtools genomecov -ibam \"+name+\"sorted.step1.contig1.bam -d > \"+name+\"step1.contig1.genomecoverage.txt\\n\\n\")\n",
      "    \n",
      "step1c1.close()\n",
      "!open step1.contig1.sh -a textedit"
     ],
     "language": "python",
     "metadata": {},
     "outputs": [],
     "prompt_number": 17
    },
    {
     "cell_type": "code",
     "collapsed": false,
     "input": [
      "!scp step1.contig1.sh jbrown@eofe4.mit.edu:/nobackup1/jbrown/nahant_phage_reads/p22likeheadful_nogrp4/"
     ],
     "language": "python",
     "metadata": {},
     "outputs": [
      {
       "output_type": "stream",
       "stream": "stdout",
       "text": [
        "\r",
        "step1.contig1.sh                                0%    0     0.0KB/s   --:-- ETA"
       ]
      },
      {
       "output_type": "stream",
       "stream": "stdout",
       "text": [
        "\r",
        "step1.contig1.sh                              100%   28KB  28.2KB/s   00:00    \r\n"
       ]
      }
     ],
     "prompt_number": 89
    },
    {
     "cell_type": "markdown",
     "metadata": {},
     "source": []
    },
    {
     "cell_type": "code",
     "collapsed": false,
     "input": [
      "!scp jbrown@eofe4.mit.edu:/nobackup1/jbrown/nahant_phage_reads/p22likeheadful_nogrp4/*step1*.fasta ./\n",
      "!scp jbrown@eofe4.mit.edu:/nobackup1/jbrown/nahant_phage_reads/p22likeheadful_nogrp4/*genomecoverage* ./    "
     ],
     "language": "python",
     "metadata": {},
     "outputs": [
      {
       "output_type": "stream",
       "stream": "stdout",
       "text": [
        "\r",
        "1.003.O.step1.clc.fasta                         0%    0     0.0KB/s   --:-- ETA"
       ]
      },
      {
       "output_type": "stream",
       "stream": "stdout",
       "text": [
        "\r",
        "1.003.O.step1.clc.fasta                       100%   42KB  41.6KB/s   00:00    \r\n"
       ]
      },
      {
       "output_type": "stream",
       "stream": "stdout",
       "text": [
        "\r",
        "1.003.O.step1.contig1.fasta                     0%    0     0.0KB/s   --:-- ETA"
       ]
      },
      {
       "output_type": "stream",
       "stream": "stdout",
       "text": [
        "\r",
        "1.003.O.step1.contig1.fasta                   100%   42KB  41.6KB/s   00:00    \r\n",
        "\r",
        "1.007.O.step1.clc.fasta                         0%    0     0.0KB/s   --:-- ETA"
       ]
      },
      {
       "output_type": "stream",
       "stream": "stdout",
       "text": [
        "\r",
        "1.007.O.step1.clc.fasta                       100%   49KB  48.9KB/s   00:00    \r\n",
        "\r",
        "1.007.O.step1.contig1.fasta                     0%    0     0.0KB/s   --:-- ETA"
       ]
      },
      {
       "output_type": "stream",
       "stream": "stdout",
       "text": [
        "\r",
        "1.007.O.step1.contig1.fasta                   100%   49KB  48.9KB/s   00:00    \r\n"
       ]
      },
      {
       "output_type": "stream",
       "stream": "stdout",
       "text": [
        "\r",
        "1.013.O.step1.clc.fasta                         0%    0     0.0KB/s   --:-- ETA"
       ]
      },
      {
       "output_type": "stream",
       "stream": "stdout",
       "text": [
        "\r",
        "1.013.O.step1.clc.fasta                       100%   48KB  47.5KB/s   00:00    \r\n",
        "\r",
        "1.013.O.step1.contig1.fasta                     0%    0     0.0KB/s   --:-- ETA"
       ]
      },
      {
       "output_type": "stream",
       "stream": "stdout",
       "text": [
        "\r",
        "1.013.O.step1.contig1.fasta                   100%   44KB  44.2KB/s   00:00    \r\n"
       ]
      },
      {
       "output_type": "stream",
       "stream": "stdout",
       "text": [
        "\r",
        "1.016.O.step1.clc.fasta                         0%    0     0.0KB/s   --:-- ETA"
       ]
      },
      {
       "output_type": "stream",
       "stream": "stdout",
       "text": [
        "\r",
        "1.016.O.step1.clc.fasta                       100%   50KB  49.6KB/s   00:01    \r\n"
       ]
      },
      {
       "output_type": "stream",
       "stream": "stdout",
       "text": [
        "\r",
        "1.016.O.step1.contig1.fasta                     0%    0     0.0KB/s   --:-- ETA"
       ]
      },
      {
       "output_type": "stream",
       "stream": "stdout",
       "text": [
        "\r",
        "1.016.O.step1.contig1.fasta                   100%   48KB  47.7KB/s   00:00    \r\n"
       ]
      },
      {
       "output_type": "stream",
       "stream": "stdout",
       "text": [
        "\r",
        "1.036.O.step1.clc.fasta                         0%    0     0.0KB/s   --:-- ETA"
       ]
      },
      {
       "output_type": "stream",
       "stream": "stdout",
       "text": [
        "\r",
        "1.036.O.step1.clc.fasta                       100%   40KB  39.9KB/s   00:00    \r\n"
       ]
      },
      {
       "output_type": "stream",
       "stream": "stdout",
       "text": [
        "\r",
        "1.036.O.step1.contig1.fasta                     0%    0     0.0KB/s   --:-- ETA"
       ]
      },
      {
       "output_type": "stream",
       "stream": "stdout",
       "text": [
        "\r",
        "1.036.O.step1.contig1.fasta                   100%   40KB  39.9KB/s   00:00    \r\n",
        "\r",
        "1.039.O.step1.clc.fasta                         0%    0     0.0KB/s   --:-- ETA"
       ]
      },
      {
       "output_type": "stream",
       "stream": "stdout",
       "text": [
        "\r",
        "1.039.O.step1.clc.fasta                       100%   41KB  40.7KB/s   00:00    \r\n",
        "\r",
        "1.039.O.step1.contig1.fasta                     0%    0     0.0KB/s   --:-- ETA"
       ]
      },
      {
       "output_type": "stream",
       "stream": "stdout",
       "text": [
        "\r",
        "1.039.O.step1.contig1.fasta                   100%   41KB  40.7KB/s   00:00    \r\n"
       ]
      },
      {
       "output_type": "stream",
       "stream": "stdout",
       "text": [
        "\r",
        "1.042.O.step1.clc.fasta                         0%    0     0.0KB/s   --:-- ETA"
       ]
      },
      {
       "output_type": "stream",
       "stream": "stdout",
       "text": [
        "\r",
        "1.042.O.step1.clc.fasta                       100%   49KB  49.4KB/s   00:01    \r\n",
        "\r",
        "1.042.O.step1.contig1.fasta                     0%    0     0.0KB/s   --:-- ETA"
       ]
      },
      {
       "output_type": "stream",
       "stream": "stdout",
       "text": [
        "\r",
        "1.042.O.step1.contig1.fasta                   100%   49KB  49.4KB/s   00:00    \r\n",
        "\r",
        "1.052.A.step1.clc.fasta                         0%    0     0.0KB/s   --:-- ETA"
       ]
      },
      {
       "output_type": "stream",
       "stream": "stdout",
       "text": [
        "\r",
        "1.052.A.step1.clc.fasta                       100%   51KB  51.0KB/s   00:00    \r\n"
       ]
      },
      {
       "output_type": "stream",
       "stream": "stdout",
       "text": [
        "\r",
        "1.052.A.step1.contig1.fasta                     0%    0     0.0KB/s   --:-- ETA"
       ]
      },
      {
       "output_type": "stream",
       "stream": "stdout",
       "text": [
        "\r",
        "1.052.A.step1.contig1.fasta                   100%   43KB  42.6KB/s   00:00    \r\n"
       ]
      },
      {
       "output_type": "stream",
       "stream": "stdout",
       "text": [
        "\r",
        "1.061.O.step1.clc.fasta                         0%    0     0.0KB/s   --:-- ETA"
       ]
      },
      {
       "output_type": "stream",
       "stream": "stdout",
       "text": [
        "\r",
        "1.061.O.step1.clc.fasta                       100%   41KB  41.4KB/s   00:01    \r\n"
       ]
      },
      {
       "output_type": "stream",
       "stream": "stdout",
       "text": [
        "\r",
        "1.061.O.step1.contig1.fasta                     0%    0     0.0KB/s   --:-- ETA"
       ]
      },
      {
       "output_type": "stream",
       "stream": "stdout",
       "text": [
        "\r",
        "1.061.O.step1.contig1.fasta                   100%   41KB  41.4KB/s   00:00    \r\n"
       ]
      },
      {
       "output_type": "stream",
       "stream": "stdout",
       "text": [
        "\r",
        "1.067.O.step1.clc.fasta                         0%    0     0.0KB/s   --:-- ETA"
       ]
      },
      {
       "output_type": "stream",
       "stream": "stdout",
       "text": [
        "\r",
        "1.067.O.step1.clc.fasta                       100%   71KB  71.0KB/s   00:00    \r\n"
       ]
      },
      {
       "output_type": "stream",
       "stream": "stdout",
       "text": [
        "\r",
        "1.067.O.step1.contig1.fasta                     0%    0     0.0KB/s   --:-- ETA"
       ]
      },
      {
       "output_type": "stream",
       "stream": "stdout",
       "text": [
        "\r",
        "1.067.O.step1.contig1.fasta                   100%   41KB  40.7KB/s   00:00    \r\n",
        "\r",
        "1.071.A.step1.clc.fasta                         0%    0     0.0KB/s   --:-- ETA"
       ]
      },
      {
       "output_type": "stream",
       "stream": "stdout",
       "text": [
        "\r",
        "1.071.A.step1.clc.fasta                       100%   48KB  47.8KB/s   00:01    \r\n",
        "\r",
        "1.071.A.step1.contig1.fasta                     0%    0     0.0KB/s   --:-- ETA"
       ]
      },
      {
       "output_type": "stream",
       "stream": "stdout",
       "text": [
        "\r",
        "1.071.A.step1.contig1.fasta                   100%   48KB  47.8KB/s   00:00    \r\n",
        "\r",
        "1.079.O.step1.clc.fasta                         0%    0     0.0KB/s   --:-- ETA"
       ]
      },
      {
       "output_type": "stream",
       "stream": "stdout",
       "text": [
        "\r",
        "1.079.O.step1.clc.fasta                       100%   42KB  42.1KB/s   00:00    \r\n"
       ]
      },
      {
       "output_type": "stream",
       "stream": "stdout",
       "text": [
        "\r",
        "1.079.O.step1.contig1.fasta                     0%    0     0.0KB/s   --:-- ETA"
       ]
      },
      {
       "output_type": "stream",
       "stream": "stdout",
       "text": [
        "\r",
        "1.079.O.step1.contig1.fasta                   100%   42KB  42.1KB/s   00:00    \r\n",
        "\r",
        "1.090.B.step1.clc.fasta                         0%    0     0.0KB/s   --:-- ETA"
       ]
      },
      {
       "output_type": "stream",
       "stream": "stdout",
       "text": [
        "\r",
        "1.090.B.step1.clc.fasta                       100%   42KB  41.6KB/s   00:00    \r\n",
        "\r",
        "1.090.B.step1.contig1.fasta                     0%    0     0.0KB/s   --:-- ETA"
       ]
      },
      {
       "output_type": "stream",
       "stream": "stdout",
       "text": [
        "\r",
        "1.090.B.step1.contig1.fasta                   100%   42KB  41.6KB/s   00:00    \r\n"
       ]
      },
      {
       "output_type": "stream",
       "stream": "stdout",
       "text": [
        "\r",
        "1.091.O.step1.clc.fasta                         0%    0     0.0KB/s   --:-- ETA"
       ]
      },
      {
       "output_type": "stream",
       "stream": "stdout",
       "text": [
        "\r",
        "1.091.O.step1.clc.fasta                       100%   43KB  42.8KB/s   00:00    \r\n",
        "\r",
        "1.091.O.step1.contig1.fasta                     0%    0     0.0KB/s   --:-- ETA"
       ]
      },
      {
       "output_type": "stream",
       "stream": "stdout",
       "text": [
        "\r",
        "1.091.O.step1.contig1.fasta                   100%   43KB  42.8KB/s   00:01    \r\n",
        "\r",
        "1.105.O.step1.clc.fasta                         0%    0     0.0KB/s   --:-- ETA"
       ]
      },
      {
       "output_type": "stream",
       "stream": "stdout",
       "text": [
        "\r",
        "1.105.O.step1.clc.fasta                       100%   49KB  48.7KB/s   00:00    \r\n",
        "\r",
        "1.105.O.step1.contig1.fasta                     0%    0     0.0KB/s   --:-- ETA"
       ]
      },
      {
       "output_type": "stream",
       "stream": "stdout",
       "text": [
        "\r",
        "1.105.O.step1.contig1.fasta                   100%   49KB  48.7KB/s   00:00    \r\n"
       ]
      },
      {
       "output_type": "stream",
       "stream": "stdout",
       "text": [
        "\r",
        "1.106.O.step1.clc.fasta                         0%    0     0.0KB/s   --:-- ETA"
       ]
      },
      {
       "output_type": "stream",
       "stream": "stdout",
       "text": [
        "\r",
        "1.106.O.step1.clc.fasta                       100%   47KB  46.7KB/s   00:00    \r\n",
        "\r",
        "1.106.O.step1.contig1.fasta                     0%    0     0.0KB/s   --:-- ETA"
       ]
      },
      {
       "output_type": "stream",
       "stream": "stdout",
       "text": [
        "\r",
        "1.106.O.step1.contig1.fasta                   100%   47KB  46.7KB/s   00:01    \r\n"
       ]
      },
      {
       "output_type": "stream",
       "stream": "stdout",
       "text": [
        "\r",
        "1.110.O.step1.clc.fasta                         0%    0     0.0KB/s   --:-- ETA"
       ]
      },
      {
       "output_type": "stream",
       "stream": "stdout",
       "text": [
        "\r",
        "1.110.O.step1.clc.fasta                       100%   37KB  37.3KB/s   00:00    \r\n"
       ]
      },
      {
       "output_type": "stream",
       "stream": "stdout",
       "text": [
        "\r",
        "1.110.O.step1.contig1.fasta                     0%    0     0.0KB/s   --:-- ETA"
       ]
      },
      {
       "output_type": "stream",
       "stream": "stdout",
       "text": [
        "\r",
        "1.110.O.step1.contig1.fasta                   100%   37KB  37.3KB/s   00:01    \r\n"
       ]
      },
      {
       "output_type": "stream",
       "stream": "stdout",
       "text": [
        "\r",
        "1.112.O.step1.clc.fasta                         0%    0     0.0KB/s   --:-- ETA"
       ]
      },
      {
       "output_type": "stream",
       "stream": "stdout",
       "text": [
        "\r",
        "1.112.O.step1.clc.fasta                       100%   48KB  47.8KB/s   00:00    \r\n"
       ]
      },
      {
       "output_type": "stream",
       "stream": "stdout",
       "text": [
        "\r",
        "1.112.O.step1.contig1.fasta                     0%    0     0.0KB/s   --:-- ETA"
       ]
      },
      {
       "output_type": "stream",
       "stream": "stdout",
       "text": [
        "\r",
        "1.112.O.step1.contig1.fasta                   100%   48KB  47.8KB/s   00:00    \r\n",
        "\r",
        "1.123.O.step1.clc.fasta                         0%    0     0.0KB/s   --:-- ETA"
       ]
      },
      {
       "output_type": "stream",
       "stream": "stdout",
       "text": [
        "\r",
        "1.123.O.step1.clc.fasta                       100%   46KB  45.8KB/s   00:00    \r\n",
        "\r",
        "1.123.O.step1.contig1.fasta                     0%    0     0.0KB/s   --:-- ETA"
       ]
      },
      {
       "output_type": "stream",
       "stream": "stdout",
       "text": [
        "\r",
        "1.123.O.step1.contig1.fasta                   100%   46KB  45.8KB/s   00:01    \r\n",
        "\r",
        "1.135.O.step1.clc.fasta                         0%    0     0.0KB/s   --:-- ETA"
       ]
      },
      {
       "output_type": "stream",
       "stream": "stdout",
       "text": [
        "\r",
        "1.135.O.step1.clc.fasta                       100%   42KB  41.6KB/s   00:00    \r\n",
        "\r",
        "1.135.O.step1.contig1.fasta                     0%    0     0.0KB/s   --:-- ETA"
       ]
      },
      {
       "output_type": "stream",
       "stream": "stdout",
       "text": [
        "\r",
        "1.135.O.step1.contig1.fasta                   100%   42KB  41.6KB/s   00:00    \r\n",
        "\r",
        "1.137.O.step1.clc.fasta                         0%    0     0.0KB/s   --:-- ETA"
       ]
      },
      {
       "output_type": "stream",
       "stream": "stdout",
       "text": [
        "\r",
        "1.137.O.step1.clc.fasta                       100%   43KB  42.6KB/s   00:00    \r\n",
        "\r",
        "1.137.O.step1.contig1.fasta                     0%    0     0.0KB/s   --:-- ETA"
       ]
      },
      {
       "output_type": "stream",
       "stream": "stdout",
       "text": [
        "\r",
        "1.137.O.step1.contig1.fasta                   100%   38KB  37.7KB/s   00:00    \r\n",
        "\r",
        "1.144.O.step1.clc.fasta                         0%    0     0.0KB/s   --:-- ETA"
       ]
      },
      {
       "output_type": "stream",
       "stream": "stdout",
       "text": [
        "\r",
        "1.144.O.step1.clc.fasta                       100%   44KB  44.1KB/s   00:00    \r\n"
       ]
      },
      {
       "output_type": "stream",
       "stream": "stdout",
       "text": [
        "\r",
        "1.144.O.step1.contig1.fasta                     0%    0     0.0KB/s   --:-- ETA"
       ]
      },
      {
       "output_type": "stream",
       "stream": "stdout",
       "text": [
        "\r",
        "1.144.O.step1.contig1.fasta                   100%   44KB  44.1KB/s   00:00    \r\n",
        "\r",
        "1.149.O.step1.clc.fasta                         0%    0     0.0KB/s   --:-- ETA"
       ]
      },
      {
       "output_type": "stream",
       "stream": "stdout",
       "text": [
        "\r",
        "1.149.O.step1.clc.fasta                       100%   57KB  57.2KB/s   00:00    \r\n"
       ]
      },
      {
       "output_type": "stream",
       "stream": "stdout",
       "text": [
        "\r",
        "1.149.O.step1.contig1.fasta                     0%    0     0.0KB/s   --:-- ETA"
       ]
      },
      {
       "output_type": "stream",
       "stream": "stdout",
       "text": [
        "\r",
        "1.149.O.step1.contig1.fasta                   100%   48KB  48.1KB/s   00:00    \r\n"
       ]
      },
      {
       "output_type": "stream",
       "stream": "stdout",
       "text": [
        "\r",
        "1.155.O.step1.clc.fasta                         0%    0     0.0KB/s   --:-- ETA"
       ]
      },
      {
       "output_type": "stream",
       "stream": "stdout",
       "text": [
        "\r",
        "1.155.O.step1.clc.fasta                       100%   29KB  28.8KB/s   00:00    \r\n"
       ]
      },
      {
       "output_type": "stream",
       "stream": "stdout",
       "text": [
        "\r",
        "1.155.O.step1.contig1.fasta                     0%    0     0.0KB/s   --:-- ETA"
       ]
      },
      {
       "output_type": "stream",
       "stream": "stdout",
       "text": [
        "\r",
        "1.155.O.step1.contig1.fasta                   100%   29KB  28.8KB/s   00:00    \r\n",
        "\r",
        "1.166.O.step1.clc.fasta                         0%    0     0.0KB/s   --:-- ETA"
       ]
      },
      {
       "output_type": "stream",
       "stream": "stdout",
       "text": [
        "\r",
        "1.166.O.step1.clc.fasta                       100%   22KB  21.7KB/s   00:00    \r\n",
        "\r",
        "1.166.O.step1.contig1.fasta                     0%    0     0.0KB/s   --:-- ETA"
       ]
      },
      {
       "output_type": "stream",
       "stream": "stdout",
       "text": [
        "\r",
        "1.166.O.step1.contig1.fasta                   100%   22KB  21.7KB/s   00:00    \r\n",
        "\r",
        "1.173.O.step1.clc.fasta                         0%    0     0.0KB/s   --:-- ETA"
       ]
      },
      {
       "output_type": "stream",
       "stream": "stdout",
       "text": [
        "\r",
        "1.173.O.step1.clc.fasta                       100%   48KB  48.4KB/s   00:00    \r\n"
       ]
      },
      {
       "output_type": "stream",
       "stream": "stdout",
       "text": [
        "\r",
        "1.173.O.step1.contig1.fasta                     0%    0     0.0KB/s   --:-- ETA"
       ]
      },
      {
       "output_type": "stream",
       "stream": "stdout",
       "text": [
        "\r",
        "1.173.O.step1.contig1.fasta                   100%   48KB  47.7KB/s   00:00    \r\n"
       ]
      },
      {
       "output_type": "stream",
       "stream": "stdout",
       "text": [
        "\r",
        "1.177.O.step1.clc.fasta                         0%    0     0.0KB/s   --:-- ETA"
       ]
      },
      {
       "output_type": "stream",
       "stream": "stdout",
       "text": [
        "\r",
        "1.177.O.step1.clc.fasta                       100%   45KB  45.1KB/s   00:01    \r\n"
       ]
      },
      {
       "output_type": "stream",
       "stream": "stdout",
       "text": [
        "\r",
        "1.177.O.step1.contig1.fasta                     0%    0     0.0KB/s   --:-- ETA"
       ]
      },
      {
       "output_type": "stream",
       "stream": "stdout",
       "text": [
        "\r",
        "1.177.O.step1.contig1.fasta                   100%   45KB  45.1KB/s   00:00    \r\n"
       ]
      },
      {
       "output_type": "stream",
       "stream": "stdout",
       "text": [
        "\r",
        "1.184.A.step1.clc.fasta                         0%    0     0.0KB/s   --:-- ETA"
       ]
      },
      {
       "output_type": "stream",
       "stream": "stdout",
       "text": [
        "\r",
        "1.184.A.step1.clc.fasta                       100%   35KB  34.6KB/s   00:00    \r\n"
       ]
      },
      {
       "output_type": "stream",
       "stream": "stdout",
       "text": [
        "\r",
        "1.184.A.step1.contig1.fasta                     0%    0     0.0KB/s   --:-- ETA"
       ]
      },
      {
       "output_type": "stream",
       "stream": "stdout",
       "text": [
        "\r",
        "1.184.A.step1.contig1.fasta                   100%   33KB  33.0KB/s   00:01    \r\n",
        "\r",
        "1.186.O.step1.clc.fasta                         0%    0     0.0KB/s   --:-- ETA"
       ]
      },
      {
       "output_type": "stream",
       "stream": "stdout",
       "text": [
        "\r",
        "1.186.O.step1.clc.fasta                       100%   48KB  48.3KB/s   00:00    \r\n"
       ]
      },
      {
       "output_type": "stream",
       "stream": "stdout",
       "text": [
        "\r",
        "1.186.O.step1.contig1.fasta                     0%    0     0.0KB/s   --:-- ETA"
       ]
      },
      {
       "output_type": "stream",
       "stream": "stdout",
       "text": [
        "\r",
        "1.186.O.step1.contig1.fasta                   100%   48KB  48.3KB/s   00:00    \r\n",
        "\r",
        "1.190.O.step1.clc.fasta                         0%    0     0.0KB/s   --:-- ETA"
       ]
      },
      {
       "output_type": "stream",
       "stream": "stdout",
       "text": [
        "\r",
        "1.190.O.step1.clc.fasta                       100%   22KB  21.6KB/s   00:00    \r\n",
        "\r",
        "1.190.O.step1.contig1.fasta                     0%    0     0.0KB/s   --:-- ETA"
       ]
      },
      {
       "output_type": "stream",
       "stream": "stdout",
       "text": [
        "\r",
        "1.190.O.step1.contig1.fasta                   100%   22KB  21.6KB/s   00:00    \r\n",
        "\r",
        "1.199.A.step1.clc.fasta                         0%    0     0.0KB/s   --:-- ETA"
       ]
      },
      {
       "output_type": "stream",
       "stream": "stdout",
       "text": [
        "\r",
        "1.199.A.step1.clc.fasta                       100%   49KB  48.5KB/s   00:01    \r\n"
       ]
      },
      {
       "output_type": "stream",
       "stream": "stdout",
       "text": [
        "\r",
        "1.199.A.step1.contig1.fasta                     0%    0     0.0KB/s   --:-- ETA"
       ]
      },
      {
       "output_type": "stream",
       "stream": "stdout",
       "text": [
        "\r",
        "1.199.A.step1.contig1.fasta                   100%   48KB  48.0KB/s   00:00    \r\n",
        "\r",
        "1.199.B.step1.clc.fasta                         0%    0     0.0KB/s   --:-- ETA"
       ]
      },
      {
       "output_type": "stream",
       "stream": "stdout",
       "text": [
        "\r",
        "1.199.B.step1.clc.fasta                       100%   50KB  49.7KB/s   00:00    \r\n",
        "\r",
        "1.199.B.step1.contig1.fasta                     0%    0     0.0KB/s   --:-- ETA"
       ]
      },
      {
       "output_type": "stream",
       "stream": "stdout",
       "text": [
        "\r",
        "1.199.B.step1.contig1.fasta                   100%   48KB  48.0KB/s   00:00    \r\n",
        "\r",
        "1.213.O.step1.clc.fasta                         0%    0     0.0KB/s   --:-- ETA"
       ]
      },
      {
       "output_type": "stream",
       "stream": "stdout",
       "text": [
        "\r",
        "1.213.O.step1.clc.fasta                       100%   42KB  42.2KB/s   00:01    \r\n"
       ]
      },
      {
       "output_type": "stream",
       "stream": "stdout",
       "text": [
        "\r",
        "1.213.O.step1.contig1.fasta                     0%    0     0.0KB/s   --:-- ETA"
       ]
      },
      {
       "output_type": "stream",
       "stream": "stdout",
       "text": [
        "\r",
        "1.213.O.step1.contig1.fasta                   100%   42KB  42.2KB/s   00:01    \r\n"
       ]
      },
      {
       "output_type": "stream",
       "stream": "stdout",
       "text": [
        "\r",
        "1.214.O.step1.clc.fasta                         0%    0     0.0KB/s   --:-- ETA"
       ]
      },
      {
       "output_type": "stream",
       "stream": "stdout",
       "text": [
        "\r",
        "1.214.O.step1.clc.fasta                       100%   44KB  43.9KB/s   00:00    \r\n",
        "\r",
        "1.214.O.step1.contig1.fasta                     0%    0     0.0KB/s   --:-- ETA"
       ]
      },
      {
       "output_type": "stream",
       "stream": "stdout",
       "text": [
        "\r",
        "1.214.O.step1.contig1.fasta                   100%   44KB  43.9KB/s   00:00    \r\n",
        "\r",
        "1.216.O.step1.clc.fasta                         0%    0     0.0KB/s   --:-- ETA"
       ]
      },
      {
       "output_type": "stream",
       "stream": "stdout",
       "text": [
        "\r",
        "1.216.O.step1.clc.fasta                       100%   41KB  41.1KB/s   00:01    \r\n"
       ]
      },
      {
       "output_type": "stream",
       "stream": "stdout",
       "text": [
        "\r",
        "1.216.O.step1.contig1.fasta                     0%    0     0.0KB/s   --:-- ETA"
       ]
      },
      {
       "output_type": "stream",
       "stream": "stdout",
       "text": [
        "\r",
        "1.216.O.step1.contig1.fasta                   100%   41KB  41.1KB/s   00:00    \r\n"
       ]
      },
      {
       "output_type": "stream",
       "stream": "stdout",
       "text": [
        "\r",
        "1.236.O.step1.clc.fasta                         0%    0     0.0KB/s   --:-- ETA"
       ]
      },
      {
       "output_type": "stream",
       "stream": "stdout",
       "text": [
        "\r",
        "1.236.O.step1.clc.fasta                       100%   42KB  42.4KB/s   00:00    \r\n",
        "\r",
        "1.236.O.step1.contig1.fasta                     0%    0     0.0KB/s   --:-- ETA"
       ]
      },
      {
       "output_type": "stream",
       "stream": "stdout",
       "text": [
        "\r",
        "1.236.O.step1.contig1.fasta                   100%   42KB  42.4KB/s   00:00    \r\n",
        "\r",
        "1.239.O.step1.clc.fasta                         0%    0     0.0KB/s   --:-- ETA"
       ]
      },
      {
       "output_type": "stream",
       "stream": "stdout",
       "text": [
        "\r",
        "1.239.O.step1.clc.fasta                       100%   38KB  38.4KB/s   00:00    \r\n"
       ]
      },
      {
       "output_type": "stream",
       "stream": "stdout",
       "text": [
        "\r",
        "1.239.O.step1.contig1.fasta                     0%    0     0.0KB/s   --:-- ETA"
       ]
      },
      {
       "output_type": "stream",
       "stream": "stdout",
       "text": [
        "\r",
        "1.239.O.step1.contig1.fasta                   100%   38KB  38.4KB/s   00:01    \r\n"
       ]
      },
      {
       "output_type": "stream",
       "stream": "stdout",
       "text": [
        "\r",
        "1.243.O.step1.clc.fasta                         0%    0     0.0KB/s   --:-- ETA"
       ]
      },
      {
       "output_type": "stream",
       "stream": "stdout",
       "text": [
        "\r",
        "1.243.O.step1.clc.fasta                       100%   48KB  48.1KB/s   00:00    \r\n"
       ]
      },
      {
       "output_type": "stream",
       "stream": "stdout",
       "text": [
        "\r",
        "1.243.O.step1.contig1.fasta                     0%    0     0.0KB/s   --:-- ETA"
       ]
      },
      {
       "output_type": "stream",
       "stream": "stdout",
       "text": [
        "\r",
        "1.243.O.step1.contig1.fasta                   100%   48KB  48.1KB/s   00:00    \r\n",
        "\r",
        "1.248.O.step1.clc.fasta                         0%    0     0.0KB/s   --:-- ETA"
       ]
      },
      {
       "output_type": "stream",
       "stream": "stdout",
       "text": [
        "\r",
        "1.248.O.step1.clc.fasta                       100%   48KB  48.0KB/s   00:00    \r\n"
       ]
      },
      {
       "output_type": "stream",
       "stream": "stdout",
       "text": [
        "\r",
        "1.248.O.step1.contig1.fasta                     0%    0     0.0KB/s   --:-- ETA"
       ]
      },
      {
       "output_type": "stream",
       "stream": "stdout",
       "text": [
        "\r",
        "1.248.O.step1.contig1.fasta                   100%   48KB  48.0KB/s   00:00    \r\n",
        "\r",
        "1.256.O.step1.clc.fasta                         0%    0     0.0KB/s   --:-- ETA"
       ]
      },
      {
       "output_type": "stream",
       "stream": "stdout",
       "text": [
        "\r",
        "1.256.O.step1.clc.fasta                       100%   48KB  47.8KB/s   00:01    \r\n",
        "\r",
        "1.256.O.step1.contig1.fasta                     0%    0     0.0KB/s   --:-- ETA"
       ]
      },
      {
       "output_type": "stream",
       "stream": "stdout",
       "text": [
        "\r",
        "1.256.O.step1.contig1.fasta                   100%   48KB  47.8KB/s   00:00    \r\n",
        "\r",
        "1.259.O.step1.clc.fasta                         0%    0     0.0KB/s   --:-- ETA"
       ]
      },
      {
       "output_type": "stream",
       "stream": "stdout",
       "text": [
        "\r",
        "1.259.O.step1.clc.fasta                       100%   28KB  28.0KB/s   00:00    \r\n"
       ]
      },
      {
       "output_type": "stream",
       "stream": "stdout",
       "text": [
        "\r",
        "1.259.O.step1.contig1.fasta                     0%    0     0.0KB/s   --:-- ETA"
       ]
      },
      {
       "output_type": "stream",
       "stream": "stdout",
       "text": [
        "\r",
        "1.259.O.step1.contig1.fasta                   100%   28KB  28.0KB/s   00:00    \r\n"
       ]
      },
      {
       "output_type": "stream",
       "stream": "stdout",
       "text": [
        "\r",
        "1.263.A.step1.clc.fasta                         0%    0     0.0KB/s   --:-- ETA"
       ]
      },
      {
       "output_type": "stream",
       "stream": "stdout",
       "text": [
        "\r",
        "1.263.A.step1.clc.fasta                       100%   49KB  49.3KB/s   00:01    \r\n"
       ]
      },
      {
       "output_type": "stream",
       "stream": "stdout",
       "text": [
        "\r",
        "1.263.A.step1.contig1.fasta                     0%    0     0.0KB/s   --:-- ETA"
       ]
      },
      {
       "output_type": "stream",
       "stream": "stdout",
       "text": [
        "\r",
        "1.263.A.step1.contig1.fasta                   100%   49KB  49.3KB/s   00:00    \r\n"
       ]
      },
      {
       "output_type": "stream",
       "stream": "stdout",
       "text": [
        "\r",
        "1.263.B.step1.clc.fasta                         0%    0     0.0KB/s   --:-- ETA"
       ]
      },
      {
       "output_type": "stream",
       "stream": "stdout",
       "text": [
        "\r",
        "1.263.B.step1.clc.fasta                       100%   49KB  49.4KB/s   00:01    \r\n",
        "\r",
        "1.263.B.step1.contig1.fasta                     0%    0     0.0KB/s   --:-- ETA"
       ]
      },
      {
       "output_type": "stream",
       "stream": "stdout",
       "text": [
        "\r",
        "1.263.B.step1.contig1.fasta                   100%   49KB  49.4KB/s   00:00    \r\n"
       ]
      },
      {
       "output_type": "stream",
       "stream": "stdout",
       "text": [
        "\r",
        "1.273.O.step1.clc.fasta                         0%    0     0.0KB/s   --:-- ETA"
       ]
      },
      {
       "output_type": "stream",
       "stream": "stdout",
       "text": [
        "\r",
        "1.273.O.step1.clc.fasta                       100%   48KB  47.8KB/s   00:00    \r\n",
        "\r",
        "1.273.O.step1.contig1.fasta                     0%    0     0.0KB/s   --:-- ETA"
       ]
      },
      {
       "output_type": "stream",
       "stream": "stdout",
       "text": [
        "\r",
        "1.273.O.step1.contig1.fasta                   100%   48KB  47.8KB/s   00:01    \r\n",
        "\r",
        "1.275.O.step1.clc.fasta                         0%    0     0.0KB/s   --:-- ETA"
       ]
      },
      {
       "output_type": "stream",
       "stream": "stdout",
       "text": [
        "\r",
        "1.275.O.step1.clc.fasta                       100%   38KB  37.7KB/s   00:00    \r\n",
        "\r",
        "1.275.O.step1.contig1.fasta                     0%    0     0.0KB/s   --:-- ETA"
       ]
      },
      {
       "output_type": "stream",
       "stream": "stdout",
       "text": [
        "\r",
        "1.275.O.step1.contig1.fasta                   100%   38KB  37.7KB/s   00:00    \r\n"
       ]
      },
      {
       "output_type": "stream",
       "stream": "stdout",
       "text": [
        "\r",
        "1.278.O.step1.clc.fasta                         0%    0     0.0KB/s   --:-- ETA"
       ]
      },
      {
       "output_type": "stream",
       "stream": "stdout",
       "text": [
        "\r",
        "1.278.O.step1.clc.fasta                       100%   49KB  48.9KB/s   00:01    \r\n"
       ]
      },
      {
       "output_type": "stream",
       "stream": "stdout",
       "text": [
        "\r",
        "1.278.O.step1.contig1.fasta                     0%    0     0.0KB/s   --:-- ETA"
       ]
      },
      {
       "output_type": "stream",
       "stream": "stdout",
       "text": [
        "\r",
        "1.278.O.step1.contig1.fasta                   100%   49KB  48.9KB/s   00:00    \r\n"
       ]
      },
      {
       "output_type": "stream",
       "stream": "stdout",
       "text": [
        "\r",
        "1.286.O.step1.clc.fasta                         0%    0     0.0KB/s   --:-- ETA"
       ]
      },
      {
       "output_type": "stream",
       "stream": "stdout",
       "text": [
        "\r",
        "1.286.O.step1.clc.fasta                       100%   49KB  48.8KB/s   00:00    \r\n"
       ]
      },
      {
       "output_type": "stream",
       "stream": "stdout",
       "text": [
        "\r",
        "1.286.O.step1.contig1.fasta                     0%    0     0.0KB/s   --:-- ETA"
       ]
      },
      {
       "output_type": "stream",
       "stream": "stdout",
       "text": [
        "\r",
        "1.286.O.step1.contig1.fasta                    65%   32KB  32.0KB/s   00:00 ETA"
       ]
      },
      {
       "output_type": "stream",
       "stream": "stdout",
       "text": [
        "\r",
        "1.286.O.step1.contig1.fasta                   100%   49KB  48.8KB/s   00:01    \r\n"
       ]
      },
      {
       "output_type": "stream",
       "stream": "stdout",
       "text": [
        "\r",
        "1.003.O.rearrange.genomecoverage.txt            0%    0     0.0KB/s   --:-- ETA"
       ]
      },
      {
       "output_type": "stream",
       "stream": "stdout",
       "text": [
        "\r",
        "1.003.O.rearrange.genomecoverage.txt           12%   96KB  96.0KB/s   00:07 ETA"
       ]
      },
      {
       "output_type": "stream",
       "stream": "stdout",
       "text": [
        "\r",
        "1.003.O.rearrange.genomecoverage.txt           43%  336KB 110.4KB/s   00:03 ETA"
       ]
      },
      {
       "output_type": "stream",
       "stream": "stdout",
       "text": [
        "\r",
        "1.003.O.rearrange.genomecoverage.txt           76%  592KB 125.0KB/s   00:01 ETA"
       ]
      },
      {
       "output_type": "stream",
       "stream": "stdout",
       "text": [
        "\r",
        "1.003.O.rearrange.genomecoverage.txt          100%  777KB 194.3KB/s   00:04    \r\n"
       ]
      },
      {
       "output_type": "stream",
       "stream": "stdout",
       "text": [
        "\r",
        "1.003.O.step1.contig1.genomecoverage.txt        0%    0     0.0KB/s   --:-- ETA"
       ]
      },
      {
       "output_type": "stream",
       "stream": "stdout",
       "text": [
        "\r",
        "1.003.O.step1.contig1.genomecoverage.txt       63%  496KB 496.0KB/s   00:00 ETA"
       ]
      },
      {
       "output_type": "stream",
       "stream": "stdout",
       "text": [
        "\r",
        "1.003.O.step1.contig1.genomecoverage.txt      100%  777KB 777.2KB/s   00:01    \r\n",
        "\r",
        "1.007.O.rearrange.genomecoverage.txt            0%    0     0.0KB/s   --:-- ETA"
       ]
      },
      {
       "output_type": "stream",
       "stream": "stdout",
       "text": [
        "\r",
        "1.007.O.rearrange.genomecoverage.txt           24%  240KB 240.0KB/s   00:03 ETA"
       ]
      },
      {
       "output_type": "stream",
       "stream": "stdout",
       "text": [
        "\r",
        "1.007.O.rearrange.genomecoverage.txt           46%  464KB 238.4KB/s   00:02 ETA"
       ]
      },
      {
       "output_type": "stream",
       "stream": "stdout",
       "text": [
        "\r",
        "1.007.O.rearrange.genomecoverage.txt           75%  752KB 243.4KB/s   00:00 ETA"
       ]
      },
      {
       "output_type": "stream",
       "stream": "stdout",
       "text": [
        "\r",
        "1.007.O.rearrange.genomecoverage.txt          100%  993KB 248.3KB/s   00:04    \r\n",
        "\r",
        "1.007.O.step1.contig1.genomecoverage.txt        0%    0     0.0KB/s   --:-- ETA"
       ]
      },
      {
       "output_type": "stream",
       "stream": "stdout",
       "text": [
        "\r",
        "1.007.O.step1.contig1.genomecoverage.txt       20%  208KB 208.0KB/s   00:03 ETA"
       ]
      },
      {
       "output_type": "stream",
       "stream": "stdout",
       "text": [
        "\r",
        "1.007.O.step1.contig1.genomecoverage.txt       40%  400KB 206.4KB/s   00:02 ETA"
       ]
      },
      {
       "output_type": "stream",
       "stream": "stdout",
       "text": [
        "\r",
        "1.007.O.step1.contig1.genomecoverage.txt       78%  784KB 224.2KB/s   00:00 ETA"
       ]
      },
      {
       "output_type": "stream",
       "stream": "stdout",
       "text": [
        "\r",
        "1.007.O.step1.contig1.genomecoverage.txt      100%  993KB 248.3KB/s   00:04    \r\n",
        "\r",
        "1.013.O.rearrange.genomecoverage.txt            0%    0     0.0KB/s   --:-- ETA"
       ]
      },
      {
       "output_type": "stream",
       "stream": "stdout",
       "text": [
        "\r",
        "1.013.O.rearrange.genomecoverage.txt           61%  528KB 528.0KB/s   00:00 ETA"
       ]
      },
      {
       "output_type": "stream",
       "stream": "stdout",
       "text": [
        "\r",
        "1.013.O.rearrange.genomecoverage.txt           90%  784KB 500.8KB/s   00:00 ETA"
       ]
      },
      {
       "output_type": "stream",
       "stream": "stdout",
       "text": [
        "\r",
        "1.013.O.rearrange.genomecoverage.txt          100%  865KB 432.5KB/s   00:02    \r\n"
       ]
      },
      {
       "output_type": "stream",
       "stream": "stdout",
       "text": [
        "\r",
        "1.013.O.step1.contig1.genomecoverage.txt        0%    0     0.0KB/s   --:-- ETA"
       ]
      },
      {
       "output_type": "stream",
       "stream": "stdout",
       "text": [
        "\r",
        "1.013.O.step1.contig1.genomecoverage.txt       27%  240KB 240.0KB/s   00:02 ETA"
       ]
      },
      {
       "output_type": "stream",
       "stream": "stdout",
       "text": [
        "\r",
        "1.013.O.step1.contig1.genomecoverage.txt       53%  464KB 238.4KB/s   00:01 ETA"
       ]
      },
      {
       "output_type": "stream",
       "stream": "stdout",
       "text": [
        "\r",
        "1.013.O.step1.contig1.genomecoverage.txt       90%  784KB 246.6KB/s   00:00 ETA"
       ]
      },
      {
       "output_type": "stream",
       "stream": "stdout",
       "text": [
        "\r",
        "1.013.O.step1.contig1.genomecoverage.txt      100%  865KB 288.3KB/s   00:03    \r\n"
       ]
      },
      {
       "output_type": "stream",
       "stream": "stdout",
       "text": [
        "\r",
        "1.016.O.rearrange.genomecoverage.txt            0%    0     0.0KB/s   --:-- ETA"
       ]
      },
      {
       "output_type": "stream",
       "stream": "stdout",
       "text": [
        "\r",
        "1.016.O.rearrange.genomecoverage.txt           29%  272KB 272.0KB/s   00:02 ETA"
       ]
      },
      {
       "output_type": "stream",
       "stream": "stdout",
       "text": [
        "\r",
        "1.016.O.rearrange.genomecoverage.txt           56%  528KB 270.4KB/s   00:01 ETA"
       ]
      },
      {
       "output_type": "stream",
       "stream": "stdout",
       "text": [
        "\r",
        "1.016.O.rearrange.genomecoverage.txt           77%  720KB 262.6KB/s   00:00 ETA"
       ]
      },
      {
       "output_type": "stream",
       "stream": "stdout",
       "text": [
        "\r",
        "1.016.O.rearrange.genomecoverage.txt           97%  912KB 255.5KB/s   00:00 ETA"
       ]
      },
      {
       "output_type": "stream",
       "stream": "stdout",
       "text": [
        "\r",
        "1.016.O.rearrange.genomecoverage.txt          100%  934KB 233.4KB/s   00:04    \r\n"
       ]
      },
      {
       "output_type": "stream",
       "stream": "stdout",
       "text": [
        "\r",
        "1.016.O.step1.contig1.genomecoverage.txt        0%    0     0.0KB/s   --:-- ETA"
       ]
      },
      {
       "output_type": "stream",
       "stream": "stdout",
       "text": [
        "\r",
        "1.016.O.step1.contig1.genomecoverage.txt       36%  336KB 336.0KB/s   00:01 ETA"
       ]
      },
      {
       "output_type": "stream",
       "stream": "stdout",
       "text": [
        "\r",
        "1.016.O.step1.contig1.genomecoverage.txt       66%  624KB 331.2KB/s   00:00 ETA"
       ]
      },
      {
       "output_type": "stream",
       "stream": "stdout",
       "text": [
        "\r",
        "1.016.O.step1.contig1.genomecoverage.txt      100%  933KB 311.0KB/s   00:03    \r\n",
        "\r",
        "1.036.O.rearrange.genomecoverage.txt            0%    0     0.0KB/s   --:-- ETA"
       ]
      },
      {
       "output_type": "stream",
       "stream": "stdout",
       "text": [
        "\r",
        "1.036.O.rearrange.genomecoverage.txt           37%  304KB 304.0KB/s   00:01 ETA"
       ]
      },
      {
       "output_type": "stream",
       "stream": "stdout",
       "text": [
        "\r",
        "1.036.O.rearrange.genomecoverage.txt           88%  720KB 315.2KB/s   00:00 ETA"
       ]
      },
      {
       "output_type": "stream",
       "stream": "stdout",
       "text": [
        "\r",
        "1.036.O.rearrange.genomecoverage.txt          100%  813KB 271.0KB/s   00:03    \r\n"
       ]
      },
      {
       "output_type": "stream",
       "stream": "stdout",
       "text": [
        "\r",
        "1.036.O.step1.contig1.genomecoverage.txt        0%    0     0.0KB/s   --:-- ETA"
       ]
      },
      {
       "output_type": "stream",
       "stream": "stdout",
       "text": [
        "\r",
        "1.036.O.step1.contig1.genomecoverage.txt       53%  432KB 432.0KB/s   00:00 ETA"
       ]
      },
      {
       "output_type": "stream",
       "stream": "stdout",
       "text": [
        "\r",
        "1.036.O.step1.contig1.genomecoverage.txt      100%  813KB 812.9KB/s   00:01    \r\n",
        "\r",
        "1.039.O.rearrange.genomecoverage.txt            0%    0     0.0KB/s   --:-- ETA"
       ]
      },
      {
       "output_type": "stream",
       "stream": "stdout",
       "text": [
        "\r",
        "1.039.O.rearrange.genomecoverage.txt           36%  304KB 304.0KB/s   00:01 ETA"
       ]
      },
      {
       "output_type": "stream",
       "stream": "stdout",
       "text": [
        "\r",
        "1.039.O.rearrange.genomecoverage.txt           86%  720KB 315.2KB/s   00:00 ETA"
       ]
      },
      {
       "output_type": "stream",
       "stream": "stdout",
       "text": [
        "\r",
        "1.039.O.rearrange.genomecoverage.txt          100%  829KB 276.3KB/s   00:03    \r\n"
       ]
      },
      {
       "output_type": "stream",
       "stream": "stdout",
       "text": [
        "\r",
        "1.039.O.step1.contig1.genomecoverage.txt        0%    0     0.0KB/s   --:-- ETA"
       ]
      },
      {
       "output_type": "stream",
       "stream": "stdout",
       "text": [
        "\r",
        "1.039.O.step1.contig1.genomecoverage.txt       71%  592KB 592.0KB/s   00:00 ETA"
       ]
      },
      {
       "output_type": "stream",
       "stream": "stdout",
       "text": [
        "\r",
        "1.039.O.step1.contig1.genomecoverage.txt      100%  829KB 829.0KB/s   00:01    \r\n"
       ]
      },
      {
       "output_type": "stream",
       "stream": "stdout",
       "text": [
        "\r",
        "1.042.O.rearrange.genomecoverage.txt            0%    0     0.0KB/s   --:-- ETA"
       ]
      },
      {
       "output_type": "stream",
       "stream": "stdout",
       "text": [
        "\r",
        "1.042.O.rearrange.genomecoverage.txt           84%  768KB 768.0KB/s   00:00 ETA"
       ]
      },
      {
       "output_type": "stream",
       "stream": "stdout",
       "text": [
        "\r",
        "1.042.O.rearrange.genomecoverage.txt          100%  912KB 911.9KB/s   00:01    \r\n"
       ]
      },
      {
       "output_type": "stream",
       "stream": "stdout",
       "text": [
        "\r",
        "1.042.O.step1.contig1.genomecoverage.txt        0%    0     0.0KB/s   --:-- ETA"
       ]
      },
      {
       "output_type": "stream",
       "stream": "stdout",
       "text": [
        "\r",
        "1.042.O.step1.contig1.genomecoverage.txt       40%  368KB 368.0KB/s   00:01 ETA"
       ]
      },
      {
       "output_type": "stream",
       "stream": "stdout",
       "text": [
        "\r",
        "1.042.O.step1.contig1.genomecoverage.txt       78%  720KB 366.4KB/s   00:00 ETA"
       ]
      },
      {
       "output_type": "stream",
       "stream": "stdout",
       "text": [
        "\r",
        "1.042.O.step1.contig1.genomecoverage.txt      100%  912KB 304.0KB/s   00:03    \r\n"
       ]
      },
      {
       "output_type": "stream",
       "stream": "stdout",
       "text": [
        "\r",
        "1.052.A.rearrange.genomecoverage.txt            0%    0     0.0KB/s   --:-- ETA"
       ]
      },
      {
       "output_type": "stream",
       "stream": "stdout",
       "text": [
        "\r",
        "1.052.A.rearrange.genomecoverage.txt           55%  432KB 432.0KB/s   00:00 ETA"
       ]
      },
      {
       "output_type": "stream",
       "stream": "stdout",
       "text": [
        "\r",
        "1.052.A.rearrange.genomecoverage.txt          100%  785KB 785.0KB/s   00:01    \r\n",
        "\r",
        "1.052.A.step1.contig1.genomecoverage.txt        0%    0     0.0KB/s   --:-- ETA"
       ]
      },
      {
       "output_type": "stream",
       "stream": "stdout",
       "text": [
        "\r",
        "1.052.A.step1.contig1.genomecoverage.txt       42%  336KB 336.0KB/s   00:01 ETA"
       ]
      },
      {
       "output_type": "stream",
       "stream": "stdout",
       "text": [
        "\r",
        "1.052.A.step1.contig1.genomecoverage.txt      100%  785KB 392.5KB/s   00:02    \r\n",
        "\r",
        "1.061.O.rearrange.genomecoverage.txt            0%    0     0.0KB/s   --:-- ETA"
       ]
      },
      {
       "output_type": "stream",
       "stream": "stdout",
       "text": [
        "\r",
        "1.061.O.rearrange.genomecoverage.txt           52%  400KB 400.0KB/s   00:00 ETA"
       ]
      },
      {
       "output_type": "stream",
       "stream": "stdout",
       "text": [
        "\r",
        "1.061.O.rearrange.genomecoverage.txt          100%  762KB 381.1KB/s   00:02    \r\n"
       ]
      },
      {
       "output_type": "stream",
       "stream": "stdout",
       "text": [
        "\r",
        "1.061.O.step1.contig1.genomecoverage.txt        0%    0     0.0KB/s   --:-- ETA"
       ]
      },
      {
       "output_type": "stream",
       "stream": "stdout",
       "text": [
        "\r",
        "1.061.O.step1.contig1.genomecoverage.txt       69%  528KB 528.0KB/s   00:00 ETA"
       ]
      },
      {
       "output_type": "stream",
       "stream": "stdout",
       "text": [
        "\r",
        "1.061.O.step1.contig1.genomecoverage.txt      100%  762KB 381.1KB/s   00:02    \r\n",
        "\r",
        "1.067.O.rearrange.genomecoverage.txt            0%    0     0.0KB/s   --:-- ETA"
       ]
      },
      {
       "output_type": "stream",
       "stream": "stdout",
       "text": [
        "\r",
        "1.067.O.rearrange.genomecoverage.txt           36%  272KB 272.0KB/s   00:01 ETA"
       ]
      },
      {
       "output_type": "stream",
       "stream": "stdout",
       "text": [
        "\r",
        "1.067.O.rearrange.genomecoverage.txt           70%  528KB 270.4KB/s   00:00 ETA"
       ]
      },
      {
       "output_type": "stream",
       "stream": "stdout",
       "text": [
        "\r",
        "1.067.O.rearrange.genomecoverage.txt          100%  749KB 249.7KB/s   00:03    \r\n",
        "\r",
        "1.067.O.step1.contig1.genomecoverage.txt        0%    0     0.0KB/s   --:-- ETA"
       ]
      },
      {
       "output_type": "stream",
       "stream": "stdout",
       "text": [
        "\r",
        "1.067.O.step1.contig1.genomecoverage.txt       23%  176KB 176.0KB/s   00:03 ETA"
       ]
      },
      {
       "output_type": "stream",
       "stream": "stdout",
       "text": [
        "\r",
        "1.067.O.step1.contig1.genomecoverage.txt       53%  400KB 180.8KB/s   00:01 ETA"
       ]
      },
      {
       "output_type": "stream",
       "stream": "stdout",
       "text": [
        "\r",
        "1.067.O.step1.contig1.genomecoverage.txt      100%  749KB 249.7KB/s   00:03    \r\n"
       ]
      },
      {
       "output_type": "stream",
       "stream": "stdout",
       "text": [
        "\r",
        "1.071.A.rearrange.genomecoverage.txt            0%    0     0.0KB/s   --:-- ETA"
       ]
      },
      {
       "output_type": "stream",
       "stream": "stdout",
       "text": [
        "\r",
        "1.071.A.rearrange.genomecoverage.txt           38%  336KB 336.0KB/s   00:01 ETA"
       ]
      },
      {
       "output_type": "stream",
       "stream": "stdout",
       "text": [
        "\r",
        "1.071.A.rearrange.genomecoverage.txt           96%  848KB 353.6KB/s   00:00 ETA"
       ]
      },
      {
       "output_type": "stream",
       "stream": "stdout",
       "text": [
        "\r",
        "1.071.A.rearrange.genomecoverage.txt          100%  883KB 441.4KB/s   00:02    \r\n"
       ]
      },
      {
       "output_type": "stream",
       "stream": "stdout",
       "text": [
        "\r",
        "1.071.A.step1.contig1.genomecoverage.txt        0%    0     0.0KB/s   --:-- ETA"
       ]
      },
      {
       "output_type": "stream",
       "stream": "stdout",
       "text": [
        "\r",
        "1.071.A.step1.contig1.genomecoverage.txt       41%  368KB 368.0KB/s   00:01 ETA"
       ]
      },
      {
       "output_type": "stream",
       "stream": "stdout",
       "text": [
        "\r",
        "1.071.A.step1.contig1.genomecoverage.txt       77%  688KB 363.2KB/s   00:00 ETA"
       ]
      },
      {
       "output_type": "stream",
       "stream": "stdout",
       "text": [
        "\r",
        "1.071.A.step1.contig1.genomecoverage.txt      100%  883KB 294.3KB/s   00:03    \r\n"
       ]
      },
      {
       "output_type": "stream",
       "stream": "stdout",
       "text": [
        "\r",
        "1.079.O.rearrange.genomecoverage.txt            0%    0     0.0KB/s   --:-- ETA"
       ]
      },
      {
       "output_type": "stream",
       "stream": "stdout",
       "text": [
        "\r",
        "1.079.O.rearrange.genomecoverage.txt           43%  336KB 336.0KB/s   00:01 ETA"
       ]
      },
      {
       "output_type": "stream",
       "stream": "stdout",
       "text": [
        "\r",
        "1.079.O.rearrange.genomecoverage.txt          100%  775KB 775.4KB/s   00:01    \r\n",
        "\r",
        "1.079.O.step1.contig1.genomecoverage.txt        0%    0     0.0KB/s   --:-- ETA"
       ]
      },
      {
       "output_type": "stream",
       "stream": "stdout",
       "text": [
        "\r",
        "1.079.O.step1.contig1.genomecoverage.txt       92%  720KB 720.0KB/s   00:00 ETA"
       ]
      },
      {
       "output_type": "stream",
       "stream": "stdout",
       "text": [
        "\r",
        "1.079.O.step1.contig1.genomecoverage.txt      100%  775KB 387.7KB/s   00:02    \r\n",
        "\r",
        "1.090.B.rearrange.genomecoverage.txt            0%    0     0.0KB/s   --:-- ETA"
       ]
      },
      {
       "output_type": "stream",
       "stream": "stdout",
       "text": [
        "\r",
        "1.090.B.rearrange.genomecoverage.txt           46%  368KB 368.0KB/s   00:01 ETA"
       ]
      },
      {
       "output_type": "stream",
       "stream": "stdout",
       "text": [
        "\r",
        "1.090.B.rearrange.genomecoverage.txt           82%  656KB 360.0KB/s   00:00 ETA"
       ]
      },
      {
       "output_type": "stream",
       "stream": "stdout",
       "text": [
        "\r",
        "1.090.B.rearrange.genomecoverage.txt          100%  792KB 396.2KB/s   00:02    \r\n",
        "\r",
        "1.090.B.step1.contig1.genomecoverage.txt        0%    0     0.0KB/s   --:-- ETA"
       ]
      },
      {
       "output_type": "stream",
       "stream": "stdout",
       "text": [
        "\r",
        "1.090.B.step1.contig1.genomecoverage.txt       58%  464KB 464.0KB/s   00:00 ETA"
       ]
      },
      {
       "output_type": "stream",
       "stream": "stdout",
       "text": [
        "\r",
        "1.090.B.step1.contig1.genomecoverage.txt      100%  792KB 396.2KB/s   00:02    \r\n",
        "\r",
        "1.091.O.rearrange.genomecoverage.txt            0%    0     0.0KB/s   --:-- ETA"
       ]
      },
      {
       "output_type": "stream",
       "stream": "stdout",
       "text": [
        "\r",
        "1.091.O.rearrange.genomecoverage.txt           42%  336KB 336.0KB/s   00:01 ETA"
       ]
      },
      {
       "output_type": "stream",
       "stream": "stdout",
       "text": [
        "\r",
        "1.091.O.rearrange.genomecoverage.txt           83%  656KB 334.4KB/s   00:00 ETA"
       ]
      },
      {
       "output_type": "stream",
       "stream": "stdout",
       "text": [
        "\r",
        "1.091.O.rearrange.genomecoverage.txt          100%  789KB 394.7KB/s   00:02    \r\n",
        "\r",
        "1.091.O.step1.contig1.genomecoverage.txt        0%    0     0.0KB/s   --:-- ETA"
       ]
      },
      {
       "output_type": "stream",
       "stream": "stdout",
       "text": [
        "\r",
        "1.091.O.step1.contig1.genomecoverage.txt       26%  208KB 208.0KB/s   00:02 ETA"
       ]
      },
      {
       "output_type": "stream",
       "stream": "stdout",
       "text": [
        "\r",
        "1.091.O.step1.contig1.genomecoverage.txt       42%  336KB 200.0KB/s   00:02 ETA"
       ]
      },
      {
       "output_type": "stream",
       "stream": "stdout",
       "text": [
        "\r",
        "1.091.O.step1.contig1.genomecoverage.txt       70%  560KB 202.4KB/s   00:01 ETA"
       ]
      },
      {
       "output_type": "stream",
       "stream": "stdout",
       "text": [
        "\r",
        "1.091.O.step1.contig1.genomecoverage.txt      100%  789KB 197.4KB/s   00:04    \r\n"
       ]
      },
      {
       "output_type": "stream",
       "stream": "stdout",
       "text": [
        "\r",
        "1.105.O.rearrange.genomecoverage.txt            0%    0     0.0KB/s   --:-- ETA"
       ]
      },
      {
       "output_type": "stream",
       "stream": "stdout",
       "text": [
        "\r",
        "1.105.O.rearrange.genomecoverage.txt           55%  528KB 528.0KB/s   00:00 ETA"
       ]
      },
      {
       "output_type": "stream",
       "stream": "stdout",
       "text": [
        "\r",
        "1.105.O.rearrange.genomecoverage.txt          100%  947KB 947.0KB/s   00:01    \r\n"
       ]
      },
      {
       "output_type": "stream",
       "stream": "stdout",
       "text": [
        "\r",
        "1.105.O.step1.contig1.genomecoverage.txt        0%    0     0.0KB/s   --:-- ETA"
       ]
      },
      {
       "output_type": "stream",
       "stream": "stdout",
       "text": [
        "\r",
        "1.105.O.step1.contig1.genomecoverage.txt       18%  176KB 176.0KB/s   00:04 ETA"
       ]
      },
      {
       "output_type": "stream",
       "stream": "stdout",
       "text": [
        "\r",
        "1.105.O.step1.contig1.genomecoverage.txt       65%  624KB 203.2KB/s   00:01 ETA"
       ]
      },
      {
       "output_type": "stream",
       "stream": "stdout",
       "text": [
        "\r",
        "1.105.O.step1.contig1.genomecoverage.txt      100%  947KB 473.5KB/s   00:02    \r\n"
       ]
      },
      {
       "output_type": "stream",
       "stream": "stdout",
       "text": [
        "\r",
        "1.106.O.rearrange.genomecoverage.txt            0%    0     0.0KB/s   --:-- ETA"
       ]
      },
      {
       "output_type": "stream",
       "stream": "stdout",
       "text": [
        "\r",
        "1.106.O.rearrange.genomecoverage.txt           46%  400KB 400.0KB/s   00:01 ETA"
       ]
      },
      {
       "output_type": "stream",
       "stream": "stdout",
       "text": [
        "\r",
        "1.106.O.rearrange.genomecoverage.txt           94%  816KB 401.6KB/s   00:00 ETA"
       ]
      },
      {
       "output_type": "stream",
       "stream": "stdout",
       "text": [
        "\r",
        "1.106.O.rearrange.genomecoverage.txt          100%  862KB 431.2KB/s   00:02    \r\n"
       ]
      },
      {
       "output_type": "stream",
       "stream": "stdout",
       "text": [
        "\r",
        "1.106.O.step1.contig1.genomecoverage.txt        0%    0     0.0KB/s   --:-- ETA"
       ]
      },
      {
       "output_type": "stream",
       "stream": "stdout",
       "text": [
        "\r",
        "1.106.O.step1.contig1.genomecoverage.txt       38%  336KB 336.0KB/s   00:01 ETA"
       ]
      },
      {
       "output_type": "stream",
       "stream": "stdout",
       "text": [
        "\r",
        "1.106.O.step1.contig1.genomecoverage.txt       83%  720KB 340.8KB/s   00:00 ETA"
       ]
      },
      {
       "output_type": "stream",
       "stream": "stdout",
       "text": [
        "\r",
        "1.106.O.step1.contig1.genomecoverage.txt      100%  863KB 431.3KB/s   00:02    \r\n",
        "\r",
        "1.110.O.rearrange.genomecoverage.txt            0%    0     0.0KB/s   --:-- ETA"
       ]
      },
      {
       "output_type": "stream",
       "stream": "stdout",
       "text": [
        "\r",
        "1.110.O.rearrange.genomecoverage.txt           72%  496KB 496.0KB/s   00:00 ETA"
       ]
      },
      {
       "output_type": "stream",
       "stream": "stdout",
       "text": [
        "\r",
        "1.110.O.rearrange.genomecoverage.txt          100%  686KB 343.0KB/s   00:02    \r\n"
       ]
      },
      {
       "output_type": "stream",
       "stream": "stdout",
       "text": [
        "\r",
        "1.110.O.step1.contig1.genomecoverage.txt        0%    0     0.0KB/s   --:-- ETA"
       ]
      },
      {
       "output_type": "stream",
       "stream": "stdout",
       "text": [
        "\r",
        "1.110.O.step1.contig1.genomecoverage.txt       86%  592KB 592.0KB/s   00:00 ETA"
       ]
      },
      {
       "output_type": "stream",
       "stream": "stdout",
       "text": [
        "\r",
        "1.110.O.step1.contig1.genomecoverage.txt      100%  686KB 686.0KB/s   00:01    \r\n",
        "\r",
        "1.112.O.rearrange.genomecoverage.txt            0%    0     0.0KB/s   --:-- ETA"
       ]
      },
      {
       "output_type": "stream",
       "stream": "stdout",
       "text": [
        "\r",
        "1.112.O.rearrange.genomecoverage.txt           59%  528KB 528.0KB/s   00:00 ETA"
       ]
      },
      {
       "output_type": "stream",
       "stream": "stdout",
       "text": [
        "\r",
        "1.112.O.rearrange.genomecoverage.txt          100%  883KB 441.3KB/s   00:02    \r\n",
        "\r",
        "1.112.O.step1.contig1.genomecoverage.txt        0%    0     0.0KB/s   --:-- ETA"
       ]
      },
      {
       "output_type": "stream",
       "stream": "stdout",
       "text": [
        "\r",
        "1.112.O.step1.contig1.genomecoverage.txt       48%  432KB 432.0KB/s   00:01 ETA"
       ]
      },
      {
       "output_type": "stream",
       "stream": "stdout",
       "text": [
        "\r",
        "1.112.O.step1.contig1.genomecoverage.txt       81%  720KB 417.6KB/s   00:00 ETA"
       ]
      },
      {
       "output_type": "stream",
       "stream": "stdout",
       "text": [
        "\r",
        "1.112.O.step1.contig1.genomecoverage.txt      100%  883KB 441.3KB/s   00:02    \r\n",
        "\r",
        "1.123.O.rearrange.genomecoverage.txt            0%    0     0.0KB/s   --:-- ETA"
       ]
      },
      {
       "output_type": "stream",
       "stream": "stdout",
       "text": [
        "\r",
        "1.123.O.rearrange.genomecoverage.txt           62%  528KB 528.0KB/s   00:00 ETA"
       ]
      },
      {
       "output_type": "stream",
       "stream": "stdout",
       "text": [
        "\r",
        "1.123.O.rearrange.genomecoverage.txt           85%  720KB 494.4KB/s   00:00 ETA"
       ]
      },
      {
       "output_type": "stream",
       "stream": "stdout",
       "text": [
        "\r",
        "1.123.O.rearrange.genomecoverage.txt          100%  844KB 422.0KB/s   00:02    \r\n",
        "\r",
        "1.123.O.step1.contig1.genomecoverage.txt        0%    0     0.0KB/s   --:-- ETA"
       ]
      },
      {
       "output_type": "stream",
       "stream": "stdout",
       "text": [
        "\r",
        "1.123.O.step1.contig1.genomecoverage.txt       58%  496KB 496.0KB/s   00:00 ETA"
       ]
      },
      {
       "output_type": "stream",
       "stream": "stdout",
       "text": [
        "\r",
        "1.123.O.step1.contig1.genomecoverage.txt      100%  844KB 422.0KB/s   00:02    \r\n",
        "\r",
        "1.135.O.rearrange.genomecoverage.txt            0%    0     0.0KB/s   --:-- ETA"
       ]
      },
      {
       "output_type": "stream",
       "stream": "stdout",
       "text": [
        "\r",
        "1.135.O.rearrange.genomecoverage.txt           43%  336KB 336.0KB/s   00:01 ETA"
       ]
      },
      {
       "output_type": "stream",
       "stream": "stdout",
       "text": [
        "\r",
        "1.135.O.rearrange.genomecoverage.txt           85%  656KB 334.4KB/s   00:00 ETA"
       ]
      },
      {
       "output_type": "stream",
       "stream": "stdout",
       "text": [
        "\r",
        "1.135.O.rearrange.genomecoverage.txt          100%  767KB 255.6KB/s   00:03    \r\n",
        "\r",
        "1.135.O.step1.contig1.genomecoverage.txt        0%    0     0.0KB/s   --:-- ETA"
       ]
      },
      {
       "output_type": "stream",
       "stream": "stdout",
       "text": [
        "\r",
        "1.135.O.step1.contig1.genomecoverage.txt       56%  432KB 432.0KB/s   00:00 ETA"
       ]
      },
      {
       "output_type": "stream",
       "stream": "stdout",
       "text": [
        "\r",
        "1.135.O.step1.contig1.genomecoverage.txt      100%  767KB 766.9KB/s   00:01    \r\n"
       ]
      },
      {
       "output_type": "stream",
       "stream": "stdout",
       "text": [
        "\r",
        "1.137.O.rearrange.genomecoverage.txt            0%    0     0.0KB/s   --:-- ETA"
       ]
      },
      {
       "output_type": "stream",
       "stream": "stdout",
       "text": [
        "\r",
        "1.137.O.rearrange.genomecoverage.txt           80%  560KB 560.0KB/s   00:00 ETA"
       ]
      },
      {
       "output_type": "stream",
       "stream": "stdout",
       "text": [
        "\r",
        "1.137.O.rearrange.genomecoverage.txt          100%  694KB 693.6KB/s   00:01    \r\n",
        "\r",
        "1.137.O.step1.contig1.genomecoverage.txt        0%    0     0.0KB/s   --:-- ETA"
       ]
      },
      {
       "output_type": "stream",
       "stream": "stdout",
       "text": [
        "\r",
        "1.137.O.step1.contig1.genomecoverage.txt       39%  272KB 272.0KB/s   00:01 ETA"
       ]
      },
      {
       "output_type": "stream",
       "stream": "stdout",
       "text": [
        "\r",
        "1.137.O.step1.contig1.genomecoverage.txt       89%  624KB 280.0KB/s   00:00 ETA"
       ]
      },
      {
       "output_type": "stream",
       "stream": "stdout",
       "text": [
        "\r",
        "1.137.O.step1.contig1.genomecoverage.txt      100%  694KB 231.2KB/s   00:03    \r\n"
       ]
      },
      {
       "output_type": "stream",
       "stream": "stdout",
       "text": [
        "\r",
        "1.144.O.rearrange.genomecoverage.txt            0%    0     0.0KB/s   --:-- ETA"
       ]
      },
      {
       "output_type": "stream",
       "stream": "stdout",
       "text": [
        "\r",
        "1.144.O.rearrange.genomecoverage.txt           45%  368KB 368.0KB/s   00:01 ETA"
       ]
      },
      {
       "output_type": "stream",
       "stream": "stdout",
       "text": [
        "\r",
        "1.144.O.rearrange.genomecoverage.txt           92%  752KB 369.6KB/s   00:00 ETA"
       ]
      },
      {
       "output_type": "stream",
       "stream": "stdout",
       "text": [
        "\r",
        "1.144.O.rearrange.genomecoverage.txt          100%  813KB 406.6KB/s   00:02    \r\n"
       ]
      },
      {
       "output_type": "stream",
       "stream": "stdout",
       "text": [
        "\r",
        "1.144.O.step1.contig1.genomecoverage.txt        0%    0     0.0KB/s   --:-- ETA"
       ]
      },
      {
       "output_type": "stream",
       "stream": "stdout",
       "text": [
        "\r",
        "1.144.O.step1.contig1.genomecoverage.txt       25%  208KB 208.0KB/s   00:02 ETA"
       ]
      },
      {
       "output_type": "stream",
       "stream": "stdout",
       "text": [
        "\r",
        "1.144.O.step1.contig1.genomecoverage.txt       60%  496KB 216.0KB/s   00:01 ETA"
       ]
      },
      {
       "output_type": "stream",
       "stream": "stdout",
       "text": [
        "\r",
        "1.144.O.step1.contig1.genomecoverage.txt       84%  688KB 213.6KB/s   00:00 ETA"
       ]
      },
      {
       "output_type": "stream",
       "stream": "stdout",
       "text": [
        "\r",
        "1.144.O.step1.contig1.genomecoverage.txt      100%  813KB 271.0KB/s   00:03    \r\n",
        "\r",
        "1.149.O.rearrange.genomecoverage.txt            0%    0     0.0KB/s   --:-- ETA"
       ]
      },
      {
       "output_type": "stream",
       "stream": "stdout",
       "text": [
        "\r",
        "1.149.O.rearrange.genomecoverage.txt           37%  336KB 336.0KB/s   00:01 ETA"
       ]
      },
      {
       "output_type": "stream",
       "stream": "stdout",
       "text": [
        "\r",
        "1.149.O.rearrange.genomecoverage.txt          100%  889KB 444.3KB/s   00:02    \r\n",
        "\r",
        "1.149.O.step1.contig1.genomecoverage.txt        0%    0     0.0KB/s   --:-- ETA"
       ]
      },
      {
       "output_type": "stream",
       "stream": "stdout",
       "text": [
        "\r",
        "1.149.O.step1.contig1.genomecoverage.txt       37%  336KB 336.0KB/s   00:01 ETA"
       ]
      },
      {
       "output_type": "stream",
       "stream": "stdout",
       "text": [
        "\r",
        "1.149.O.step1.contig1.genomecoverage.txt       66%  592KB 328.0KB/s   00:00 ETA"
       ]
      },
      {
       "output_type": "stream",
       "stream": "stdout",
       "text": [
        "\r",
        "1.149.O.step1.contig1.genomecoverage.txt      100%  889KB 296.2KB/s   00:03    \r\n"
       ]
      },
      {
       "output_type": "stream",
       "stream": "stdout",
       "text": [
        "\r",
        "1.155.O.rearrange.genomecoverage.txt            0%    0     0.0KB/s   --:-- ETA"
       ]
      },
      {
       "output_type": "stream",
       "stream": "stdout",
       "text": [
        "\r",
        "1.155.O.rearrange.genomecoverage.txt           43%  240KB 240.0KB/s   00:01 ETA"
       ]
      },
      {
       "output_type": "stream",
       "stream": "stdout",
       "text": [
        "\r",
        "1.155.O.rearrange.genomecoverage.txt           90%  496KB 241.6KB/s   00:00 ETA"
       ]
      },
      {
       "output_type": "stream",
       "stream": "stdout",
       "text": [
        "\r",
        "1.155.O.rearrange.genomecoverage.txt          100%  549KB 183.2KB/s   00:03    \r\n",
        "\r",
        "1.155.O.step1.contig1.genomecoverage.txt        0%    0     0.0KB/s   --:-- ETA"
       ]
      },
      {
       "output_type": "stream",
       "stream": "stdout",
       "text": [
        "\r",
        "1.155.O.step1.contig1.genomecoverage.txt       66%  368KB 368.0KB/s   00:00 ETA"
       ]
      },
      {
       "output_type": "stream",
       "stream": "stdout",
       "text": [
        "\r",
        "1.155.O.step1.contig1.genomecoverage.txt      100%  549KB 549.5KB/s   00:01    \r\n",
        "\r",
        "1.166.O.rearrange.genomecoverage.txt            0%    0     0.0KB/s   --:-- ETA"
       ]
      },
      {
       "output_type": "stream",
       "stream": "stdout",
       "text": [
        "\r",
        "1.166.O.rearrange.genomecoverage.txt          100%  394KB 393.7KB/s   00:01    \r\n",
        "\r",
        "1.166.O.step1.contig1.genomecoverage.txt        0%    0     0.0KB/s   --:-- ETA"
       ]
      },
      {
       "output_type": "stream",
       "stream": "stdout",
       "text": [
        "\r",
        "1.166.O.step1.contig1.genomecoverage.txt       69%  272KB 272.0KB/s   00:00 ETA"
       ]
      },
      {
       "output_type": "stream",
       "stream": "stdout",
       "text": [
        "\r",
        "1.166.O.step1.contig1.genomecoverage.txt      100%  394KB 393.6KB/s   00:01    \r\n",
        "\r",
        "1.173.O.rearrange.genomecoverage.txt            0%    0     0.0KB/s   --:-- ETA"
       ]
      },
      {
       "output_type": "stream",
       "stream": "stdout",
       "text": [
        "\r",
        "1.173.O.rearrange.genomecoverage.txt           82%  688KB 688.0KB/s   00:00 ETA"
       ]
      },
      {
       "output_type": "stream",
       "stream": "stdout",
       "text": [
        "\r",
        "1.173.O.rearrange.genomecoverage.txt          100%  838KB 838.3KB/s   00:01    \r\n"
       ]
      },
      {
       "output_type": "stream",
       "stream": "stdout",
       "text": [
        "\r",
        "1.173.O.step1.contig1.genomecoverage.txt        0%    0     0.0KB/s   --:-- ETA"
       ]
      },
      {
       "output_type": "stream",
       "stream": "stdout",
       "text": [
        "\r",
        "1.173.O.step1.contig1.genomecoverage.txt       83%  704KB 704.0KB/s   00:00 ETA"
       ]
      },
      {
       "output_type": "stream",
       "stream": "stdout",
       "text": [
        "\r",
        "1.173.O.step1.contig1.genomecoverage.txt      100%  838KB 838.3KB/s   00:01    \r\n"
       ]
      },
      {
       "output_type": "stream",
       "stream": "stdout",
       "text": [
        "\r",
        "1.177.O.rearrange.genomecoverage.txt            0%    0     0.0KB/s   --:-- ETA"
       ]
      },
      {
       "output_type": "stream",
       "stream": "stdout",
       "text": [
        "\r",
        "1.177.O.rearrange.genomecoverage.txt           36%  304KB 304.0KB/s   00:01 ETA"
       ]
      },
      {
       "output_type": "stream",
       "stream": "stdout",
       "text": [
        "\r",
        "1.177.O.rearrange.genomecoverage.txt           67%  560KB 299.2KB/s   00:00 ETA"
       ]
      },
      {
       "output_type": "stream",
       "stream": "stdout",
       "text": [
        "\r",
        "1.177.O.rearrange.genomecoverage.txt           98%  816KB 294.9KB/s   00:00 ETA\r",
        "1.177.O.rearrange.genomecoverage.txt          100%  832KB 277.4KB/s   00:03    \r\n",
        "\r",
        "1.177.O.step1.contig1.genomecoverage.txt        0%    0     0.0KB/s   --:-- ETA"
       ]
      },
      {
       "output_type": "stream",
       "stream": "stdout",
       "text": [
        "\r",
        "1.177.O.step1.contig1.genomecoverage.txt       36%  304KB 304.0KB/s   00:01 ETA"
       ]
      },
      {
       "output_type": "stream",
       "stream": "stdout",
       "text": [
        "\r",
        "1.177.O.step1.contig1.genomecoverage.txt      100%  832KB 416.1KB/s   00:02    \r\n",
        "\r",
        "1.184.A.rearrange.genomecoverage.txt            0%    0     0.0KB/s   --:-- ETA"
       ]
      },
      {
       "output_type": "stream",
       "stream": "stdout",
       "text": [
        "\r",
        "1.184.A.rearrange.genomecoverage.txt           76%  464KB 464.0KB/s   00:00 ETA"
       ]
      },
      {
       "output_type": "stream",
       "stream": "stdout",
       "text": [
        "\r",
        "1.184.A.rearrange.genomecoverage.txt          100%  608KB 304.2KB/s   00:02    \r\n",
        "\r",
        "1.184.A.step1.contig1.genomecoverage.txt        0%    0     0.0KB/s   --:-- ETA"
       ]
      },
      {
       "output_type": "stream",
       "stream": "stdout",
       "text": [
        "\r",
        "1.184.A.step1.contig1.genomecoverage.txt       44%  272KB 272.0KB/s   00:01 ETA"
       ]
      },
      {
       "output_type": "stream",
       "stream": "stdout",
       "text": [
        "\r",
        "1.184.A.step1.contig1.genomecoverage.txt      100%  608KB 304.2KB/s   00:02    \r\n",
        "\r",
        "1.186.O.rearrange.genomecoverage.txt            0%    0     0.0KB/s   --:-- ETA"
       ]
      },
      {
       "output_type": "stream",
       "stream": "stdout",
       "text": [
        "\r",
        "1.186.O.rearrange.genomecoverage.txt           34%  304KB 304.0KB/s   00:01 ETA"
       ]
      },
      {
       "output_type": "stream",
       "stream": "stdout",
       "text": [
        "\r",
        "1.186.O.rearrange.genomecoverage.txt           73%  656KB 308.8KB/s   00:00 ETA"
       ]
      },
      {
       "output_type": "stream",
       "stream": "stdout",
       "text": [
        "\r",
        "1.186.O.rearrange.genomecoverage.txt           98%  880KB 300.3KB/s   00:00 ETA"
       ]
      },
      {
       "output_type": "stream",
       "stream": "stdout",
       "text": [
        "\r",
        "1.186.O.rearrange.genomecoverage.txt          100%  892KB 297.2KB/s   00:03    \r\n",
        "\r",
        "1.186.O.step1.contig1.genomecoverage.txt        0%    0     0.0KB/s   --:-- ETA"
       ]
      },
      {
       "output_type": "stream",
       "stream": "stdout",
       "text": [
        "\r",
        "1.186.O.step1.contig1.genomecoverage.txt       37%  336KB 336.0KB/s   00:01 ETA"
       ]
      },
      {
       "output_type": "stream",
       "stream": "stdout",
       "text": [
        "\r",
        "1.186.O.step1.contig1.genomecoverage.txt       95%  848KB 353.6KB/s   00:00 ETA"
       ]
      },
      {
       "output_type": "stream",
       "stream": "stdout",
       "text": [
        "\r",
        "1.186.O.step1.contig1.genomecoverage.txt      100%  892KB 445.9KB/s   00:02    \r\n"
       ]
      },
      {
       "output_type": "stream",
       "stream": "stdout",
       "text": [
        "\r",
        "1.190.O.rearrange.genomecoverage.txt            0%    0     0.0KB/s   --:-- ETA"
       ]
      },
      {
       "output_type": "stream",
       "stream": "stdout",
       "text": [
        "\r",
        "1.190.O.rearrange.genomecoverage.txt          100%  415KB 414.6KB/s   00:01    \r\n",
        "\r",
        "1.190.O.step1.contig1.genomecoverage.txt        0%    0     0.0KB/s   --:-- ETA"
       ]
      },
      {
       "output_type": "stream",
       "stream": "stdout",
       "text": [
        "\r",
        "1.190.O.step1.contig1.genomecoverage.txt       81%  336KB 336.0KB/s   00:00 ETA"
       ]
      },
      {
       "output_type": "stream",
       "stream": "stdout",
       "text": [
        "\r",
        "1.190.O.step1.contig1.genomecoverage.txt      100%  415KB 414.6KB/s   00:01    \r\n"
       ]
      },
      {
       "output_type": "stream",
       "stream": "stdout",
       "text": [
        "\r",
        "1.199.A.rearrange.genomecoverage.txt            0%    0     0.0KB/s   --:-- ETA"
       ]
      },
      {
       "output_type": "stream",
       "stream": "stdout",
       "text": [
        "\r",
        "1.199.A.rearrange.genomecoverage.txt           37%  336KB 336.0KB/s   00:01 ETA"
       ]
      },
      {
       "output_type": "stream",
       "stream": "stdout",
       "text": [
        "\r",
        "1.199.A.rearrange.genomecoverage.txt           84%  752KB 344.0KB/s   00:00 ETA"
       ]
      },
      {
       "output_type": "stream",
       "stream": "stdout",
       "text": [
        "\r",
        "1.199.A.rearrange.genomecoverage.txt          100%  889KB 296.4KB/s   00:03    \r\n",
        "\r",
        "1.199.A.step1.contig1.genomecoverage.txt        0%    0     0.0KB/s   --:-- ETA"
       ]
      },
      {
       "output_type": "stream",
       "stream": "stdout",
       "text": [
        "\r",
        "1.199.A.step1.contig1.genomecoverage.txt       26%  240KB 240.0KB/s   00:02 ETA"
       ]
      },
      {
       "output_type": "stream",
       "stream": "stdout",
       "text": [
        "\r",
        "1.199.A.step1.contig1.genomecoverage.txt       80%  720KB 264.0KB/s   00:00 ETA"
       ]
      },
      {
       "output_type": "stream",
       "stream": "stdout",
       "text": [
        "\r",
        "1.199.A.step1.contig1.genomecoverage.txt      100%  889KB 444.6KB/s   00:02    \r\n",
        "\r",
        "1.199.B.rearrange.genomecoverage.txt            0%    0     0.0KB/s   --:-- ETA"
       ]
      },
      {
       "output_type": "stream",
       "stream": "stdout",
       "text": [
        "\r",
        "1.199.B.rearrange.genomecoverage.txt           41%  368KB 368.0KB/s   00:01 ETA"
       ]
      },
      {
       "output_type": "stream",
       "stream": "stdout",
       "text": [
        "\r",
        "1.199.B.rearrange.genomecoverage.txt           77%  688KB 363.2KB/s   00:00 ETA"
       ]
      },
      {
       "output_type": "stream",
       "stream": "stdout",
       "text": [
        "\r",
        "1.199.B.rearrange.genomecoverage.txt          100%  892KB 297.2KB/s   00:03    \r\n",
        "\r",
        "1.199.B.step1.contig1.genomecoverage.txt        0%    0     0.0KB/s   --:-- ETA"
       ]
      },
      {
       "output_type": "stream",
       "stream": "stdout",
       "text": [
        "\r",
        "1.199.B.step1.contig1.genomecoverage.txt       41%  368KB 368.0KB/s   00:01 ETA"
       ]
      },
      {
       "output_type": "stream",
       "stream": "stdout",
       "text": [
        "\r",
        "1.199.B.step1.contig1.genomecoverage.txt       77%  688KB 363.2KB/s   00:00 ETA"
       ]
      },
      {
       "output_type": "stream",
       "stream": "stdout",
       "text": [
        "\r",
        "1.199.B.step1.contig1.genomecoverage.txt      100%  892KB 297.3KB/s   00:03    \r\n",
        "\r",
        "1.213.O.rearrange.genomecoverage.txt            0%    0     0.0KB/s   --:-- ETA"
       ]
      },
      {
       "output_type": "stream",
       "stream": "stdout",
       "text": [
        "\r",
        "1.213.O.rearrange.genomecoverage.txt           35%  272KB 272.0KB/s   00:01 ETA"
       ]
      },
      {
       "output_type": "stream",
       "stream": "stdout",
       "text": [
        "\r",
        "1.213.O.rearrange.genomecoverage.txt           84%  656KB 283.2KB/s   00:00 ETA"
       ]
      },
      {
       "output_type": "stream",
       "stream": "stdout",
       "text": [
        "\r",
        "1.213.O.rearrange.genomecoverage.txt          100%  777KB 388.3KB/s   00:02    \r\n",
        "\r",
        "1.213.O.step1.contig1.genomecoverage.txt        0%    0     0.0KB/s   --:-- ETA"
       ]
      },
      {
       "output_type": "stream",
       "stream": "stdout",
       "text": [
        "\r",
        "1.213.O.step1.contig1.genomecoverage.txt       84%  656KB 656.0KB/s   00:00 ETA"
       ]
      },
      {
       "output_type": "stream",
       "stream": "stdout",
       "text": [
        "\r",
        "1.213.O.step1.contig1.genomecoverage.txt      100%  777KB 776.7KB/s   00:01    \r\n"
       ]
      },
      {
       "output_type": "stream",
       "stream": "stdout",
       "text": [
        "\r",
        "1.214.O.rearrange.genomecoverage.txt            0%    0     0.0KB/s   --:-- ETA"
       ]
      },
      {
       "output_type": "stream",
       "stream": "stdout",
       "text": [
        "\r",
        "1.214.O.rearrange.genomecoverage.txt           61%  496KB 496.0KB/s   00:00 ETA"
       ]
      },
      {
       "output_type": "stream",
       "stream": "stdout",
       "text": [
        "\r",
        "1.214.O.rearrange.genomecoverage.txt          100%  809KB 404.7KB/s   00:02    \r\n"
       ]
      },
      {
       "output_type": "stream",
       "stream": "stdout",
       "text": [
        "\r",
        "1.214.O.step1.contig1.genomecoverage.txt        0%    0     0.0KB/s   --:-- ETA"
       ]
      },
      {
       "output_type": "stream",
       "stream": "stdout",
       "text": [
        "\r",
        "1.214.O.step1.contig1.genomecoverage.txt       45%  368KB 368.0KB/s   00:01 ETA"
       ]
      },
      {
       "output_type": "stream",
       "stream": "stdout",
       "text": [
        "\r",
        "1.214.O.step1.contig1.genomecoverage.txt       85%  688KB 363.2KB/s   00:00 ETA"
       ]
      },
      {
       "output_type": "stream",
       "stream": "stdout",
       "text": [
        "\r",
        "1.214.O.step1.contig1.genomecoverage.txt      100%  809KB 404.7KB/s   00:02    \r\n"
       ]
      },
      {
       "output_type": "stream",
       "stream": "stdout",
       "text": [
        "\r",
        "1.216.O.rearrange.genomecoverage.txt            0%    0     0.0KB/s   --:-- ETA"
       ]
      },
      {
       "output_type": "stream",
       "stream": "stdout",
       "text": [
        "\r",
        "1.216.O.rearrange.genomecoverage.txt           52%  400KB 400.0KB/s   00:00 ETA"
       ]
      },
      {
       "output_type": "stream",
       "stream": "stdout",
       "text": [
        "\r",
        "1.216.O.rearrange.genomecoverage.txt          100%  757KB 378.3KB/s   00:02    \r\n",
        "\r",
        "1.216.O.step1.contig1.genomecoverage.txt        0%    0     0.0KB/s   --:-- ETA"
       ]
      },
      {
       "output_type": "stream",
       "stream": "stdout",
       "text": [
        "\r",
        "1.216.O.step1.contig1.genomecoverage.txt       57%  432KB 432.0KB/s   00:00 ETA"
       ]
      },
      {
       "output_type": "stream",
       "stream": "stdout",
       "text": [
        "\r",
        "1.216.O.step1.contig1.genomecoverage.txt      100%  757KB 756.6KB/s   00:01    \r\n",
        "\r",
        "1.236.O.rearrange.genomecoverage.txt            0%    0     0.0KB/s   --:-- ETA"
       ]
      },
      {
       "output_type": "stream",
       "stream": "stdout",
       "text": [
        "\r",
        "1.236.O.rearrange.genomecoverage.txt           47%  368KB 368.0KB/s   00:01 ETA"
       ]
      },
      {
       "output_type": "stream",
       "stream": "stdout",
       "text": [
        "\r",
        "1.236.O.rearrange.genomecoverage.txt          100%  780KB 390.2KB/s   00:02    \r\n"
       ]
      },
      {
       "output_type": "stream",
       "stream": "stdout",
       "text": [
        "\r",
        "1.236.O.step1.contig1.genomecoverage.txt        0%    0     0.0KB/s   --:-- ETA"
       ]
      },
      {
       "output_type": "stream",
       "stream": "stdout",
       "text": [
        "\r",
        "1.236.O.step1.contig1.genomecoverage.txt       71%  560KB 560.0KB/s   00:00 ETA"
       ]
      },
      {
       "output_type": "stream",
       "stream": "stdout",
       "text": [
        "\r",
        "1.236.O.step1.contig1.genomecoverage.txt      100%  780KB 390.2KB/s   00:02    \r\n"
       ]
      },
      {
       "output_type": "stream",
       "stream": "stdout",
       "text": [
        "\r",
        "1.239.O.rearrange.genomecoverage.txt            0%    0     0.0KB/s   --:-- ETA"
       ]
      },
      {
       "output_type": "stream",
       "stream": "stdout",
       "text": [
        "\r",
        "1.239.O.rearrange.genomecoverage.txt           70%  496KB 496.0KB/s   00:00 ETA"
       ]
      },
      {
       "output_type": "stream",
       "stream": "stdout",
       "text": [
        "\r",
        "1.239.O.rearrange.genomecoverage.txt          100%  706KB 705.7KB/s   00:01    \r\n"
       ]
      },
      {
       "output_type": "stream",
       "stream": "stdout",
       "text": [
        "\r",
        "1.239.O.step1.contig1.genomecoverage.txt        0%    0     0.0KB/s   --:-- ETA"
       ]
      },
      {
       "output_type": "stream",
       "stream": "stdout",
       "text": [
        "\r",
        "1.239.O.step1.contig1.genomecoverage.txt       38%  272KB 272.0KB/s   00:01 ETA"
       ]
      },
      {
       "output_type": "stream",
       "stream": "stdout",
       "text": [
        "\r",
        "1.239.O.step1.contig1.genomecoverage.txt       83%  592KB 276.8KB/s   00:00 ETA"
       ]
      },
      {
       "output_type": "stream",
       "stream": "stdout",
       "text": [
        "\r",
        "1.239.O.step1.contig1.genomecoverage.txt      100%  706KB 235.2KB/s   00:03    \r\n",
        "\r",
        "1.243.O.rearrange.genomecoverage.txt            0%    0     0.0KB/s   --:-- ETA"
       ]
      },
      {
       "output_type": "stream",
       "stream": "stdout",
       "text": [
        "\r",
        "1.243.O.rearrange.genomecoverage.txt           30%  272KB 272.0KB/s   00:02 ETA"
       ]
      },
      {
       "output_type": "stream",
       "stream": "stdout",
       "text": [
        "\r",
        "1.243.O.rearrange.genomecoverage.txt           73%  656KB 283.2KB/s   00:00 ETA"
       ]
      },
      {
       "output_type": "stream",
       "stream": "stdout",
       "text": [
        "\r",
        "1.243.O.rearrange.genomecoverage.txt          100%  887KB 443.7KB/s   00:02    \r\n",
        "\r",
        "1.243.O.step1.contig1.genomecoverage.txt        0%    0     0.0KB/s   --:-- ETA"
       ]
      },
      {
       "output_type": "stream",
       "stream": "stdout",
       "text": [
        "\r",
        "1.243.O.step1.contig1.genomecoverage.txt       37%  336KB 336.0KB/s   00:01 ETA"
       ]
      },
      {
       "output_type": "stream",
       "stream": "stdout",
       "text": [
        "\r",
        "1.243.O.step1.contig1.genomecoverage.txt       91%  816KB 350.4KB/s   00:00 ETA"
       ]
      },
      {
       "output_type": "stream",
       "stream": "stdout",
       "text": [
        "\r",
        "1.243.O.step1.contig1.genomecoverage.txt      100%  887KB 295.8KB/s   00:03    \r\n",
        "\r",
        "1.248.O.rearrange.genomecoverage.txt            0%    0     0.0KB/s   --:-- ETA"
       ]
      },
      {
       "output_type": "stream",
       "stream": "stdout",
       "text": [
        "\r",
        "1.248.O.rearrange.genomecoverage.txt           77%  720KB 720.0KB/s   00:00 ETA"
       ]
      },
      {
       "output_type": "stream",
       "stream": "stdout",
       "text": [
        "\r",
        "1.248.O.rearrange.genomecoverage.txt          100%  933KB 932.5KB/s   00:01    \r\n"
       ]
      },
      {
       "output_type": "stream",
       "stream": "stdout",
       "text": [
        "\r",
        "1.248.O.step1.contig1.genomecoverage.txt        0%    0     0.0KB/s   --:-- ETA"
       ]
      },
      {
       "output_type": "stream",
       "stream": "stdout",
       "text": [
        "\r",
        "1.248.O.step1.contig1.genomecoverage.txt       25%  240KB 240.0KB/s   00:02 ETA"
       ]
      },
      {
       "output_type": "stream",
       "stream": "stdout",
       "text": [
        "\r",
        "1.248.O.step1.contig1.genomecoverage.txt       80%  752KB 267.2KB/s   00:00 ETA"
       ]
      },
      {
       "output_type": "stream",
       "stream": "stdout",
       "text": [
        "\r",
        "1.248.O.step1.contig1.genomecoverage.txt      100%  932KB 466.2KB/s   00:02    \r\n"
       ]
      },
      {
       "output_type": "stream",
       "stream": "stdout",
       "text": [
        "\r",
        "1.256.O.rearrange.genomecoverage.txt            0%    0     0.0KB/s   --:-- ETA"
       ]
      },
      {
       "output_type": "stream",
       "stream": "stdout",
       "text": [
        "\r",
        "1.256.O.rearrange.genomecoverage.txt           56%  496KB 496.0KB/s   00:00 ETA"
       ]
      },
      {
       "output_type": "stream",
       "stream": "stdout",
       "text": [
        "\r",
        "1.256.O.rearrange.genomecoverage.txt          100%  876KB 876.2KB/s   00:01    \r\n",
        "\r",
        "1.256.O.step1.contig1.genomecoverage.txt        0%    0     0.0KB/s   --:-- ETA"
       ]
      },
      {
       "output_type": "stream",
       "stream": "stdout",
       "text": [
        "\r",
        "1.256.O.step1.contig1.genomecoverage.txt       52%  464KB 464.0KB/s   00:00 ETA"
       ]
      },
      {
       "output_type": "stream",
       "stream": "stdout",
       "text": [
        "\r",
        "1.256.O.step1.contig1.genomecoverage.txt      100%  876KB 438.1KB/s   00:02    \r\n",
        "\r",
        "1.259.O.rearrange.genomecoverage.txt            0%    0     0.0KB/s   --:-- ETA"
       ]
      },
      {
       "output_type": "stream",
       "stream": "stdout",
       "text": [
        "\r",
        "1.259.O.rearrange.genomecoverage.txt          100%  511KB 511.4KB/s   00:01    \r\n",
        "\r",
        "1.259.O.step1.contig1.genomecoverage.txt        0%    0     0.0KB/s   --:-- ETA"
       ]
      },
      {
       "output_type": "stream",
       "stream": "stdout",
       "text": [
        "\r",
        "1.259.O.step1.contig1.genomecoverage.txt       84%  432KB 432.0KB/s   00:00 ETA"
       ]
      },
      {
       "output_type": "stream",
       "stream": "stdout",
       "text": [
        "\r",
        "1.259.O.step1.contig1.genomecoverage.txt      100%  511KB 511.4KB/s   00:01    \r\n"
       ]
      },
      {
       "output_type": "stream",
       "stream": "stdout",
       "text": [
        "\r",
        "1.263.A.rearrange.genomecoverage.txt            0%    0     0.0KB/s   --:-- ETA"
       ]
      },
      {
       "output_type": "stream",
       "stream": "stdout",
       "text": [
        "\r",
        "1.263.A.rearrange.genomecoverage.txt           22%  208KB 208.0KB/s   00:03 ETA"
       ]
      },
      {
       "output_type": "stream",
       "stream": "stdout",
       "text": [
        "\r",
        "1.263.A.rearrange.genomecoverage.txt           68%  624KB 228.8KB/s   00:01 ETA"
       ]
      },
      {
       "output_type": "stream",
       "stream": "stdout",
       "text": [
        "\r",
        "1.263.A.rearrange.genomecoverage.txt           82%  752KB 218.7KB/s   00:00 ETA"
       ]
      },
      {
       "output_type": "stream",
       "stream": "stdout",
       "text": [
        "\r",
        "1.263.A.rearrange.genomecoverage.txt          100%  915KB 228.8KB/s   00:04    \r\n"
       ]
      },
      {
       "output_type": "stream",
       "stream": "stdout",
       "text": [
        "\r",
        "1.263.A.step1.contig1.genomecoverage.txt        0%    0     0.0KB/s   --:-- ETA"
       ]
      },
      {
       "output_type": "stream",
       "stream": "stdout",
       "text": [
        "\r",
        "1.263.A.step1.contig1.genomecoverage.txt       33%  304KB 304.0KB/s   00:02 ETA"
       ]
      },
      {
       "output_type": "stream",
       "stream": "stdout",
       "text": [
        "\r",
        "1.263.A.step1.contig1.genomecoverage.txt       68%  624KB 305.6KB/s   00:00 ETA"
       ]
      },
      {
       "output_type": "stream",
       "stream": "stdout",
       "text": [
        "\r",
        "1.263.A.step1.contig1.genomecoverage.txt      100%  915KB 305.0KB/s   00:03    \r\n"
       ]
      },
      {
       "output_type": "stream",
       "stream": "stdout",
       "text": [
        "\r",
        "1.263.B.rearrange.genomecoverage.txt            0%    0     0.0KB/s   --:-- ETA"
       ]
      },
      {
       "output_type": "stream",
       "stream": "stdout",
       "text": [
        "\r",
        "1.263.B.rearrange.genomecoverage.txt           53%  464KB 464.0KB/s   00:00 ETA"
       ]
      },
      {
       "output_type": "stream",
       "stream": "stdout",
       "text": [
        "\r",
        "1.263.B.rearrange.genomecoverage.txt          100%  864KB 432.1KB/s   00:02    \r\n"
       ]
      },
      {
       "output_type": "stream",
       "stream": "stdout",
       "text": [
        "\r",
        "1.263.B.step1.contig1.genomecoverage.txt        0%    0     0.0KB/s   --:-- ETA"
       ]
      },
      {
       "output_type": "stream",
       "stream": "stdout",
       "text": [
        "\r",
        "1.263.B.step1.contig1.genomecoverage.txt       68%  592KB 592.0KB/s   00:00 ETA"
       ]
      },
      {
       "output_type": "stream",
       "stream": "stdout",
       "text": [
        "\r",
        "1.263.B.step1.contig1.genomecoverage.txt      100%  864KB 864.2KB/s   00:01    \r\n"
       ]
      },
      {
       "output_type": "stream",
       "stream": "stdout",
       "text": [
        "\r",
        "1.273.O.rearrange.genomecoverage.txt            0%    0     0.0KB/s   --:-- ETA"
       ]
      },
      {
       "output_type": "stream",
       "stream": "stdout",
       "text": [
        "\r",
        "1.273.O.rearrange.genomecoverage.txt           34%  304KB 304.0KB/s   00:01 ETA"
       ]
      },
      {
       "output_type": "stream",
       "stream": "stdout",
       "text": [
        "\r",
        "1.273.O.rearrange.genomecoverage.txt           59%  528KB 296.0KB/s   00:01 ETA"
       ]
      },
      {
       "output_type": "stream",
       "stream": "stdout",
       "text": [
        "\r",
        "1.273.O.rearrange.genomecoverage.txt          100%  882KB 294.1KB/s   00:03    \r\n",
        "\r",
        "1.273.O.step1.contig1.genomecoverage.txt        0%    0     0.0KB/s   --:-- ETA"
       ]
      },
      {
       "output_type": "stream",
       "stream": "stdout",
       "text": [
        "\r",
        "1.273.O.step1.contig1.genomecoverage.txt       77%  688KB 688.0KB/s   00:00 ETA"
       ]
      },
      {
       "output_type": "stream",
       "stream": "stdout",
       "text": [
        "\r",
        "1.273.O.step1.contig1.genomecoverage.txt      100%  882KB 882.3KB/s   00:01    \r\n"
       ]
      },
      {
       "output_type": "stream",
       "stream": "stdout",
       "text": [
        "\r",
        "1.275.O.rearrange.genomecoverage.txt            0%    0     0.0KB/s   --:-- ETA"
       ]
      },
      {
       "output_type": "stream",
       "stream": "stdout",
       "text": [
        "\r",
        "1.275.O.rearrange.genomecoverage.txt          100%  693KB 692.7KB/s   00:01    \r\n"
       ]
      },
      {
       "output_type": "stream",
       "stream": "stdout",
       "text": [
        "\r",
        "1.275.O.step1.contig1.genomecoverage.txt        0%    0     0.0KB/s   --:-- ETA"
       ]
      },
      {
       "output_type": "stream",
       "stream": "stdout",
       "text": [
        "\r",
        "1.275.O.step1.contig1.genomecoverage.txt      100%  693KB 692.7KB/s   00:01    \r\n",
        "\r",
        "1.278.O.rearrange.genomecoverage.txt            0%    0     0.0KB/s   --:-- ETA"
       ]
      },
      {
       "output_type": "stream",
       "stream": "stdout",
       "text": [
        "\r",
        "1.278.O.rearrange.genomecoverage.txt           61%  560KB 560.0KB/s   00:00 ETA"
       ]
      },
      {
       "output_type": "stream",
       "stream": "stdout",
       "text": [
        "\r",
        "1.278.O.rearrange.genomecoverage.txt          100%  904KB 451.8KB/s   00:02    \r\n",
        "\r",
        "1.278.O.step1.contig1.genomecoverage.txt        0%    0     0.0KB/s   --:-- ETA"
       ]
      },
      {
       "output_type": "stream",
       "stream": "stdout",
       "text": [
        "\r",
        "1.278.O.step1.contig1.genomecoverage.txt       86%  784KB 784.0KB/s   00:00 ETA"
       ]
      },
      {
       "output_type": "stream",
       "stream": "stdout",
       "text": [
        "\r",
        "1.278.O.step1.contig1.genomecoverage.txt      100%  904KB 903.6KB/s   00:01    \r\n",
        "\r",
        "1.286.O.rearrange.genomecoverage.txt            0%    0     0.0KB/s   --:-- ETA"
       ]
      },
      {
       "output_type": "stream",
       "stream": "stdout",
       "text": [
        "\r",
        "1.286.O.rearrange.genomecoverage.txt           47%  432KB 432.0KB/s   00:01 ETA"
       ]
      },
      {
       "output_type": "stream",
       "stream": "stdout",
       "text": [
        "\r",
        "1.286.O.rearrange.genomecoverage.txt           78%  704KB 416.0KB/s   00:00 ETA"
       ]
      },
      {
       "output_type": "stream",
       "stream": "stdout",
       "text": [
        "\r",
        "1.286.O.rearrange.genomecoverage.txt          100%  901KB 450.4KB/s   00:02    \r\n",
        "\r",
        "1.286.O.step1.contig1.genomecoverage.txt        0%    0     0.0KB/s   --:-- ETA"
       ]
      },
      {
       "output_type": "stream",
       "stream": "stdout",
       "text": [
        "\r",
        "1.286.O.step1.contig1.genomecoverage.txt       47%  432KB 432.0KB/s   00:01 ETA"
       ]
      },
      {
       "output_type": "stream",
       "stream": "stdout",
       "text": [
        "\r",
        "1.286.O.step1.contig1.genomecoverage.txt       87%  784KB 424.0KB/s   00:00 ETA"
       ]
      },
      {
       "output_type": "stream",
       "stream": "stdout",
       "text": [
        "\r",
        "1.286.O.step1.contig1.genomecoverage.txt      100%  901KB 300.3KB/s   00:03    \r\n"
       ]
      }
     ],
     "prompt_number": 90
    },
    {
     "cell_type": "code",
     "collapsed": false,
     "input": [
      "%load_ext rmagic\n",
      "%R library(dplyr); library(ggplot2)"
     ],
     "language": "python",
     "metadata": {},
     "outputs": [
      {
       "output_type": "stream",
       "stream": "stdout",
       "text": [
        "The rmagic extension is already loaded. To reload it, use:\n",
        "  %reload_ext rmagic\n"
       ]
      },
      {
       "metadata": {},
       "output_type": "pyout",
       "prompt_number": 91,
       "text": [
        "array(['ggplot2', 'dplyr', 'tools', 'stats', 'graphics', 'grDevices',\n",
        "       'utils', 'datasets', 'methods', 'base'], \n",
        "      dtype='|S9')"
       ]
      }
     ],
     "prompt_number": 91
    },
    {
     "cell_type": "code",
     "collapsed": false,
     "input": [
      "%%R -i grouplist\n",
      "#create coverage plots for each genome\n",
      "for (item in grouplist){\n",
      "    filename<-paste(item,\"step1.contig1.genomecoverage.txt\",sep=\"\")\n",
      "    coverage<-read.table(filename, sep=\"\\t\")\n",
      "    pdf(paste(item,\"step1.contig1.coverage.plot.pdf\", sep=\"\"))\n",
      "    with(coverage, plot(V2, V3, type=\"n\",xlab=\"position\",ylab=\"coverage\", main=item))\n",
      "    with(coverage, lines(V2,V3))\n",
      "    dev.off()\n",
      "}"
     ],
     "language": "python",
     "metadata": {},
     "outputs": [],
     "prompt_number": 92
    },
    {
     "cell_type": "code",
     "collapsed": false,
     "input": [
      "from pyfaidx import Fasta\n",
      "#explore sequence information\n",
      "contiginfo=\"virname\\tcontig\\tcontig_len\\tvir_contig\\n\"\n",
      "for phage in grouplist:   #set up the name of the virus\n",
      "    fasta1=phage+\"step1.clc.fasta\"\n",
      "    f=Fasta(fasta1)\n",
      "    for seq in f.keys():\n",
      "        seqlen=len(str(f[seq]))\n",
      "        contigname=seq\n",
      "        contiginfo+=(phage+\"\\t\"+contigname+\"\\t\"+str(seqlen)+\"\\t\"+phage+\":\"+contigname+\"\\n\")"
     ],
     "language": "python",
     "metadata": {},
     "outputs": [],
     "prompt_number": 93
    },
    {
     "cell_type": "code",
     "collapsed": false,
     "input": [
      "%%R -i contiginfo\n",
      "contig<-textConnection(contiginfo,open=\"r\",encoding=\"UTF-8\")\n",
      "contigtable<-read.table(contig, sep=\"\\t\", header=TRUE)\n",
      "#?textConnection\n",
      "str(contigtable)\n",
      "with(contigtable, hist(log(contig_len,10), breaks=50))\n",
      "with(contigtable, summary(contig_len))"
     ],
     "language": "python",
     "metadata": {},
     "outputs": [
      {
       "metadata": {},
       "output_type": "display_data",
       "text": [
        "'data.frame':\t116 obs. of  4 variables:\n",
        " $ virname   : Factor w/ 47 levels \"1.003.O.\",\"1.007.O.\",..: 32 32 32 24 38 1 34 15 36 26 ...\n",
        " $ contig    : Factor w/ 30 levels \"contig_1\",\"contig_10\",..: 1 12 23 1 1 1 1 1 1 1 ...\n",
        " $ contig_len: int  48312 1094 598 29029 48414 41891 44205 49043 42646 48063 ...\n",
        " $ vir_contig: Factor w/ 116 levels \"1.003.O.:contig_1\",..: 99 100 101 87 107 1 103 63 105 89 ...\n",
        "   Min. 1st Qu.  Median    Mean 3rd Qu.    Max. \n",
        "    533     693    1231   18010   42390   49760 \n"
       ]
      },
      {
       "metadata": {},
       "output_type": "display_data",
       "png": "[encoded data removed]"
      }
     ],
     "prompt_number": 94
    },
    {
     "cell_type": "code",
     "collapsed": false,
     "input": [
      "%%R\n",
      "ci2<-filter(contigtable, contig==c(\"contig_1\",\"contig_2\",\"contig_3\",\"contig_4\",\"contig_5\",\"contig_6\",\"contig_7\",\"contig_8\",\"contig_9\"))\n",
      "ci2$contig<-as.character(ci2$contig)\n",
      "#data.frame(ci2)->ci2\n",
      "qplot(contig,contig_len, data=ci2, geom=c(\"boxplot\", \"jitter\"),\n",
      "   fill=contig, main=\"Contig Size By Number\",\n",
      "   xlab=\"\", ylab=\"Contig Length\")"
     ],
     "language": "python",
     "metadata": {},
     "outputs": [
      {
       "metadata": {},
       "output_type": "display_data",
       "png": "[encoded data removed]"
      }
     ],
     "prompt_number": 95
    },
    {
     "cell_type": "code",
     "collapsed": false,
     "input": [],
     "language": "python",
     "metadata": {},
     "outputs": [
      {
       "metadata": {},
       "output_type": "display_data",
       "text": [
        "[1] 511.2801\n"
       ]
      }
     ],
     "prompt_number": 54
    },
    {
     "cell_type": "code",
     "collapsed": false,
     "input": [],
     "language": "python",
     "metadata": {},
     "outputs": [],
     "prompt_number": 22
    },
    {
     "cell_type": "markdown",
     "metadata": {},
     "source": [
      "###Next, I'm going to run prodigal and extract amino acid sequences of all ORFs and blast those against the terminase database to determine which ORF encodes a terminase and what that ORF's orientation is on this original contig"
     ]
    },
    {
     "cell_type": "code",
     "collapsed": false,
     "input": [
      "groupfile=grouplist\n",
      "prodigal=open(\"prodigal.sh\",\"w\")\n",
      "prodigal.write(\"#!/bin/bash\\n#SBATCH -n 16\\n#SBATCH -N 1\\n#SBATCH -o prodigal.out\\n#SBATCH -e prodigal.err\\n#SBATCH -p sched_mit_chisholm\\n\\n\")\n",
      "prodigal.write(\"module add engaging/prodigal/2.6.1\\n\\n\")\n",
      "for line in groupfile:\n",
      "    prodigal.write(\"prodigal -i \"+line+\"step1.contig1.fasta -o \"+line+\"genes -a \"+line+\"proteins.faa -p meta\\n\")\n",
      "prodigal.close()\n",
      "!open prodigal.sh -a textedit"
     ],
     "language": "python",
     "metadata": {},
     "outputs": [],
     "prompt_number": 98
    },
    {
     "cell_type": "code",
     "collapsed": false,
     "input": [
      "!scp prodigal.sh jbrown@eofe4.mit.edu:/nobackup1/jbrown/nahant_phage_reads/p22likeheadful_nogrp4/"
     ],
     "language": "python",
     "metadata": {},
     "outputs": [
      {
       "output_type": "stream",
       "stream": "stdout",
       "text": [
        "\r",
        "prodigal.sh                                     0%    0     0.0KB/s   --:-- ETA\r",
        "prodigal.sh                                   100% 4337     4.2KB/s   00:00    \r\n"
       ]
      }
     ],
     "prompt_number": 99
    },
    {
     "cell_type": "code",
     "collapsed": false,
     "input": [
      "!scp jbrown@eofe4.mit.edu:/nobackup1/jbrown/nahant_phage_reads/p22likeheadful_nogrp4/*genes ./"
     ],
     "language": "python",
     "metadata": {},
     "outputs": [
      {
       "output_type": "stream",
       "stream": "stdout",
       "text": [
        "\r",
        "1.003.O.genes                                   0%    0     0.0KB/s   --:-- ETA"
       ]
      },
      {
       "output_type": "stream",
       "stream": "stdout",
       "text": [
        "\r",
        "1.003.O.genes                                 100%   17KB  17.2KB/s   00:00    \r\n"
       ]
      },
      {
       "output_type": "stream",
       "stream": "stdout",
       "text": [
        "\r",
        "1.007.O.genes                                   0%    0     0.0KB/s   --:-- ETA"
       ]
      },
      {
       "output_type": "stream",
       "stream": "stdout",
       "text": [
        "\r",
        "1.007.O.genes                                 100%   19KB  18.8KB/s   00:01    \r\n",
        "\r",
        "1.013.O.genes                                   0%    0     0.0KB/s   --:-- ETA"
       ]
      },
      {
       "output_type": "stream",
       "stream": "stdout",
       "text": [
        "\r",
        "1.013.O.genes                                 100%   16KB  15.9KB/s   00:00    \r\n"
       ]
      },
      {
       "output_type": "stream",
       "stream": "stdout",
       "text": [
        "\r",
        "1.016.O.genes                                   0%    0     0.0KB/s   --:-- ETA"
       ]
      },
      {
       "output_type": "stream",
       "stream": "stdout",
       "text": [
        "\r",
        "1.016.O.genes                                 100%   21KB  21.0KB/s   00:01    \r\n"
       ]
      },
      {
       "output_type": "stream",
       "stream": "stdout",
       "text": [
        "\r",
        "1.036.O.genes                                   0%    0     0.0KB/s   --:-- ETA"
       ]
      },
      {
       "output_type": "stream",
       "stream": "stdout",
       "text": [
        "\r",
        "1.036.O.genes                                 100%   15KB  15.2KB/s   00:00    \r\n"
       ]
      },
      {
       "output_type": "stream",
       "stream": "stdout",
       "text": [
        "\r",
        "1.039.O.genes                                   0%    0     0.0KB/s   --:-- ETA"
       ]
      },
      {
       "output_type": "stream",
       "stream": "stdout",
       "text": [
        "\r",
        "1.039.O.genes                                 100%   16KB  16.4KB/s   00:00    \r\n"
       ]
      },
      {
       "output_type": "stream",
       "stream": "stdout",
       "text": [
        "\r",
        "1.042.O.genes                                   0%    0     0.0KB/s   --:-- ETA"
       ]
      },
      {
       "output_type": "stream",
       "stream": "stdout",
       "text": [
        "\r",
        "1.042.O.genes                                 100%   23KB  22.9KB/s   00:00    \r\n"
       ]
      },
      {
       "output_type": "stream",
       "stream": "stdout",
       "text": [
        "\r",
        "1.052.A.genes                                   0%    0     0.0KB/s   --:-- ETA"
       ]
      },
      {
       "output_type": "stream",
       "stream": "stdout",
       "text": [
        "\r",
        "1.052.A.genes                                 100%   18KB  18.2KB/s   00:00    \r\n",
        "\r",
        "1.061.O.genes                                   0%    0     0.0KB/s   --:-- ETA"
       ]
      },
      {
       "output_type": "stream",
       "stream": "stdout",
       "text": [
        "\r",
        "1.061.O.genes                                 100%   16KB  15.7KB/s   00:00    \r\n",
        "\r",
        "1.067.O.genes                                   0%    0     0.0KB/s   --:-- ETA"
       ]
      },
      {
       "output_type": "stream",
       "stream": "stdout",
       "text": [
        "\r",
        "1.067.O.genes                                 100%   19KB  18.9KB/s   00:00    \r\n"
       ]
      },
      {
       "output_type": "stream",
       "stream": "stdout",
       "text": [
        "\r",
        "1.071.A.genes                                   0%    0     0.0KB/s   --:-- ETA"
       ]
      },
      {
       "output_type": "stream",
       "stream": "stdout",
       "text": [
        "\r",
        "1.071.A.genes                                 100%   20KB  19.8KB/s   00:00    \r\n",
        "\r",
        "1.079.O.genes                                   0%    0     0.0KB/s   --:-- ETA"
       ]
      },
      {
       "output_type": "stream",
       "stream": "stdout",
       "text": [
        "\r",
        "1.079.O.genes                                 100%   18KB  17.5KB/s   00:00    \r\n"
       ]
      },
      {
       "output_type": "stream",
       "stream": "stdout",
       "text": [
        "\r",
        "1.090.B.genes                                   0%    0     0.0KB/s   --:-- ETA"
       ]
      },
      {
       "output_type": "stream",
       "stream": "stdout",
       "text": [
        "\r",
        "1.090.B.genes                                 100%   16KB  16.2KB/s   00:00    \r\n"
       ]
      },
      {
       "output_type": "stream",
       "stream": "stdout",
       "text": [
        "\r",
        "1.091.O.genes                                   0%    0     0.0KB/s   --:-- ETA"
       ]
      },
      {
       "output_type": "stream",
       "stream": "stdout",
       "text": [
        "\r",
        "1.091.O.genes                                 100%   18KB  17.9KB/s   00:01    \r\n",
        "\r",
        "1.105.O.genes                                   0%    0     0.0KB/s   --:-- ETA"
       ]
      },
      {
       "output_type": "stream",
       "stream": "stdout",
       "text": [
        "\r",
        "1.105.O.genes                                 100%   19KB  19.2KB/s   00:00    \r\n"
       ]
      },
      {
       "output_type": "stream",
       "stream": "stdout",
       "text": [
        "\r",
        "1.106.O.genes                                   0%    0     0.0KB/s   --:-- ETA"
       ]
      },
      {
       "output_type": "stream",
       "stream": "stdout",
       "text": [
        "\r",
        "1.106.O.genes                                 100%   18KB  18.3KB/s   00:00    \r\n"
       ]
      },
      {
       "output_type": "stream",
       "stream": "stdout",
       "text": [
        "\r",
        "1.110.O.genes                                   0%    0     0.0KB/s   --:-- ETA"
       ]
      },
      {
       "output_type": "stream",
       "stream": "stdout",
       "text": [
        "\r",
        "1.110.O.genes                                 100%   16KB  16.4KB/s   00:00    \r\n"
       ]
      },
      {
       "output_type": "stream",
       "stream": "stdout",
       "text": [
        "\r",
        "1.112.O.genes                                   0%    0     0.0KB/s   --:-- ETA"
       ]
      },
      {
       "output_type": "stream",
       "stream": "stdout",
       "text": [
        "\r",
        "1.112.O.genes                                 100%   20KB  20.3KB/s   00:00    \r\n"
       ]
      },
      {
       "output_type": "stream",
       "stream": "stdout",
       "text": [
        "\r",
        "1.123.O.genes                                   0%    0     0.0KB/s   --:-- ETA"
       ]
      },
      {
       "output_type": "stream",
       "stream": "stdout",
       "text": [
        "\r",
        "1.123.O.genes                                 100%   17KB  17.2KB/s   00:00    \r\n"
       ]
      },
      {
       "output_type": "stream",
       "stream": "stdout",
       "text": [
        "\r",
        "1.135.O.genes                                   0%    0     0.0KB/s   --:-- ETA"
       ]
      },
      {
       "output_type": "stream",
       "stream": "stdout",
       "text": [
        "\r",
        "1.135.O.genes                                 100%   18KB  18.5KB/s   00:00    \r\n"
       ]
      },
      {
       "output_type": "stream",
       "stream": "stdout",
       "text": [
        "\r",
        "1.137.O.genes                                   0%    0     0.0KB/s   --:-- ETA"
       ]
      },
      {
       "output_type": "stream",
       "stream": "stdout",
       "text": [
        "\r",
        "1.137.O.genes                                 100%   16KB  16.2KB/s   00:00    \r\n",
        "\r",
        "1.144.O.genes                                   0%    0     0.0KB/s   --:-- ETA"
       ]
      },
      {
       "output_type": "stream",
       "stream": "stdout",
       "text": [
        "\r",
        "1.144.O.genes                                 100%   18KB  17.6KB/s   00:00    \r\n"
       ]
      },
      {
       "output_type": "stream",
       "stream": "stdout",
       "text": [
        "\r",
        "1.149.O.genes                                   0%    0     0.0KB/s   --:-- ETA"
       ]
      },
      {
       "output_type": "stream",
       "stream": "stdout",
       "text": [
        "\r",
        "1.149.O.genes                                 100%   19KB  19.0KB/s   00:00    \r\n",
        "\r",
        "1.155.O.genes                                   0%    0     0.0KB/s   --:-- ETA"
       ]
      },
      {
       "output_type": "stream",
       "stream": "stdout",
       "text": [
        "\r",
        "1.155.O.genes                                 100%   11KB  11.2KB/s   00:00    \r\n"
       ]
      },
      {
       "output_type": "stream",
       "stream": "stdout",
       "text": [
        "\r",
        "1.166.O.genes                                   0%    0     0.0KB/s   --:-- ETA"
       ]
      },
      {
       "output_type": "stream",
       "stream": "stdout",
       "text": [
        "\r",
        "1.166.O.genes                                 100% 9603     9.4KB/s   00:00    \r\n"
       ]
      },
      {
       "output_type": "stream",
       "stream": "stdout",
       "text": [
        "\r",
        "1.173.O.genes                                   0%    0     0.0KB/s   --:-- ETA"
       ]
      },
      {
       "output_type": "stream",
       "stream": "stdout",
       "text": [
        "\r",
        "1.173.O.genes                                 100%   20KB  19.9KB/s   00:00    \r\n",
        "\r",
        "1.177.O.genes                                   0%    0     0.0KB/s   --:-- ETA"
       ]
      },
      {
       "output_type": "stream",
       "stream": "stdout",
       "text": [
        "\r",
        "1.177.O.genes                                 100%   19KB  19.0KB/s   00:00    \r\n",
        "\r",
        "1.184.A.genes                                   0%    0     0.0KB/s   --:-- ETA"
       ]
      },
      {
       "output_type": "stream",
       "stream": "stdout",
       "text": [
        "\r",
        "1.184.A.genes                                 100%   11KB  11.4KB/s   00:00    \r\n"
       ]
      },
      {
       "output_type": "stream",
       "stream": "stdout",
       "text": [
        "\r",
        "1.186.O.genes                                   0%    0     0.0KB/s   --:-- ETA"
       ]
      },
      {
       "output_type": "stream",
       "stream": "stdout",
       "text": [
        "\r",
        "1.186.O.genes                                 100%   18KB  18.3KB/s   00:01    \r\n",
        "\r",
        "1.190.O.genes                                   0%    0     0.0KB/s   --:-- ETA"
       ]
      },
      {
       "output_type": "stream",
       "stream": "stdout",
       "text": [
        "\r",
        "1.190.O.genes                                 100% 8682     8.5KB/s   00:00    \r\n"
       ]
      },
      {
       "output_type": "stream",
       "stream": "stdout",
       "text": [
        "\r",
        "1.199.A.genes                                   0%    0     0.0KB/s   --:-- ETA"
       ]
      },
      {
       "output_type": "stream",
       "stream": "stdout",
       "text": [
        "\r",
        "1.199.A.genes                                 100%   19KB  18.6KB/s   00:01    \r\n",
        "\r",
        "1.199.B.genes                                   0%    0     0.0KB/s   --:-- ETA"
       ]
      },
      {
       "output_type": "stream",
       "stream": "stdout",
       "text": [
        "\r",
        "1.199.B.genes                                 100%   18KB  18.5KB/s   00:00    \r\n"
       ]
      },
      {
       "output_type": "stream",
       "stream": "stdout",
       "text": [
        "\r",
        "1.213.O.genes                                   0%    0     0.0KB/s   --:-- ETA"
       ]
      },
      {
       "output_type": "stream",
       "stream": "stdout",
       "text": [
        "\r",
        "1.213.O.genes                                 100%   17KB  17.1KB/s   00:00    \r\n"
       ]
      },
      {
       "output_type": "stream",
       "stream": "stdout",
       "text": [
        "\r",
        "1.214.O.genes                                   0%    0     0.0KB/s   --:-- ETA"
       ]
      },
      {
       "output_type": "stream",
       "stream": "stdout",
       "text": [
        "\r",
        "1.214.O.genes                                 100%   17KB  17.2KB/s   00:00    \r\n",
        "\r",
        "1.216.O.genes                                   0%    0     0.0KB/s   --:-- ETA"
       ]
      },
      {
       "output_type": "stream",
       "stream": "stdout",
       "text": [
        "\r",
        "1.216.O.genes                                 100%   16KB  16.4KB/s   00:00    \r\n",
        "\r",
        "1.236.O.genes                                   0%    0     0.0KB/s   --:-- ETA"
       ]
      },
      {
       "output_type": "stream",
       "stream": "stdout",
       "text": [
        "\r",
        "1.236.O.genes                                 100%   16KB  16.0KB/s   00:01    \r\n"
       ]
      },
      {
       "output_type": "stream",
       "stream": "stdout",
       "text": [
        "\r",
        "1.239.O.genes                                   0%    0     0.0KB/s   --:-- ETA"
       ]
      },
      {
       "output_type": "stream",
       "stream": "stdout",
       "text": [
        "\r",
        "1.239.O.genes                                 100%   15KB  15.3KB/s   00:00    \r\n"
       ]
      },
      {
       "output_type": "stream",
       "stream": "stdout",
       "text": [
        "\r",
        "1.243.O.genes                                   0%    0     0.0KB/s   --:-- ETA"
       ]
      },
      {
       "output_type": "stream",
       "stream": "stdout",
       "text": [
        "\r",
        "1.243.O.genes                                 100%   19KB  19.0KB/s   00:00    \r\n",
        "\r",
        "1.248.O.genes                                   0%    0     0.0KB/s   --:-- ETA"
       ]
      },
      {
       "output_type": "stream",
       "stream": "stdout",
       "text": [
        "\r",
        "1.248.O.genes                                 100%   19KB  19.0KB/s   00:00    \r\n"
       ]
      },
      {
       "output_type": "stream",
       "stream": "stdout",
       "text": [
        "\r",
        "1.256.O.genes                                   0%    0     0.0KB/s   --:-- ETA"
       ]
      },
      {
       "output_type": "stream",
       "stream": "stdout",
       "text": [
        "\r",
        "1.256.O.genes                                 100%   18KB  18.3KB/s   00:00    \r\n"
       ]
      },
      {
       "output_type": "stream",
       "stream": "stdout",
       "text": [
        "\r",
        "1.259.O.genes                                   0%    0     0.0KB/s   --:-- ETA"
       ]
      },
      {
       "output_type": "stream",
       "stream": "stdout",
       "text": [
        "\r",
        "1.259.O.genes                                 100%   11KB  10.6KB/s   00:00    \r\n",
        "\r",
        "1.263.A.genes                                   0%    0     0.0KB/s   --:-- ETA"
       ]
      },
      {
       "output_type": "stream",
       "stream": "stdout",
       "text": [
        "\r",
        "1.263.A.genes                                 100%   18KB  18.0KB/s   00:01    \r\n"
       ]
      },
      {
       "output_type": "stream",
       "stream": "stdout",
       "text": [
        "\r",
        "1.263.B.genes                                   0%    0     0.0KB/s   --:-- ETA"
       ]
      },
      {
       "output_type": "stream",
       "stream": "stdout",
       "text": [
        "\r",
        "1.263.B.genes                                 100%   18KB  18.2KB/s   00:00    \r\n",
        "\r",
        "1.273.O.genes                                   0%    0     0.0KB/s   --:-- ETA"
       ]
      },
      {
       "output_type": "stream",
       "stream": "stdout",
       "text": [
        "\r",
        "1.273.O.genes                                 100%   19KB  18.8KB/s   00:01    \r\n"
       ]
      },
      {
       "output_type": "stream",
       "stream": "stdout",
       "text": [
        "\r",
        "1.275.O.genes                                   0%    0     0.0KB/s   --:-- ETA"
       ]
      },
      {
       "output_type": "stream",
       "stream": "stdout",
       "text": [
        "\r",
        "1.275.O.genes                                 100%   12KB  12.5KB/s   00:00    \r\n",
        "\r",
        "1.278.O.genes                                   0%    0     0.0KB/s   --:-- ETA"
       ]
      },
      {
       "output_type": "stream",
       "stream": "stdout",
       "text": [
        "\r",
        "1.278.O.genes                                 100%   19KB  19.4KB/s   00:00    \r\n",
        "\r",
        "1.286.O.genes                                   0%    0     0.0KB/s   --:-- ETA"
       ]
      },
      {
       "output_type": "stream",
       "stream": "stdout",
       "text": [
        "\r",
        "1.286.O.genes                                 100%   20KB  19.7KB/s   00:00    \r\n"
       ]
      }
     ],
     "prompt_number": 100
    },
    {
     "cell_type": "code",
     "collapsed": false,
     "input": [
      "#process output prodigal file:\n",
      "###code used for larger script to determine location of gene upstream of large subunit terminase\n",
      "\n",
      "\n",
      "groupfile=group4\n",
      "for phage in groupfile:\n",
      "\n",
      "    gene_tbl=open(phage+\"genes\").readlines()\n",
      "    output=open(phage+\"prodigal.info\",\"w\")\n",
      "    output.write(\"phage\\tnumber\\tgene\\tunique\\torientation\\tstart\\tstop\\n\")\n",
      "    loc=[]\n",
      "    nam=[]\n",
      "    for line in gene_tbl[2:]:\n",
      "        here=line.split()\n",
      "        if here[0]==\"CDS\":\n",
      "            loc.append(here[1])\n",
      "        else:\n",
      "            info=here[0].split(\";\")\n",
      "            there=info[0].split(\"=\")\n",
      "            if len(there)==3:\n",
      "                nam.append(\"contig_\"+there[2])\n",
      "    \n",
      "    dict1=dict(zip(nam,loc))\n",
      "    for key in dict1:\n",
      "        value=dict1[key]\n",
      "        number=key.split(\"_\")[2]\n",
      "        unique=phage+key\n",
      "        if value.startswith(\"complement\"):\n",
      "            vec1=value.split(\"(\")\n",
      "            vec2=vec1[1].split(\"..\")\n",
      "            start=vec2[1].replace(\")\",\"\")\n",
      "            stop=vec2[0]\n",
      "            orientation=\"reverse\"\n",
      "        else:\n",
      "            vec2=value.split(\"..\")\n",
      "            start=vec2[0]\n",
      "            stop=vec2[1]\n",
      "            orientation=\"forward\"\n",
      "        #print(phage+\"\\t\"+number+\"\\t\"+key+\"\\t\"+orientation+\"\\t\"+start+\"\\t\"+stop+\"\\n\")\n",
      "        output.write(phage+\"\\t\"+number+\"\\t\"+key+\"\\t\"+unique+\"\\t\"+orientation+\"\\t\"+start+\"\\t\"+stop+\"\\n\")\n",
      "    \n",
      "    output.close()"
     ],
     "language": "python",
     "metadata": {},
     "outputs": [
      {
       "ename": "NameError",
       "evalue": "name 'group4' is not defined",
       "output_type": "pyerr",
       "traceback": [
        "\u001b[0;31m---------------------------------------------------------------------------\u001b[0m\n\u001b[0;31mNameError\u001b[0m                                 Traceback (most recent call last)",
        "\u001b[0;32m<ipython-input-101-6297a6bed92c>\u001b[0m in \u001b[0;36m<module>\u001b[0;34m()\u001b[0m\n\u001b[1;32m      3\u001b[0m \u001b[0;34m\u001b[0m\u001b[0m\n\u001b[1;32m      4\u001b[0m \u001b[0;34m\u001b[0m\u001b[0m\n\u001b[0;32m----> 5\u001b[0;31m \u001b[0mgroupfile\u001b[0m\u001b[0;34m=\u001b[0m\u001b[0mgroup4\u001b[0m\u001b[0;34m\u001b[0m\u001b[0m\n\u001b[0m\u001b[1;32m      6\u001b[0m \u001b[0;32mfor\u001b[0m \u001b[0mphage\u001b[0m \u001b[0;32min\u001b[0m \u001b[0mgroupfile\u001b[0m\u001b[0;34m:\u001b[0m\u001b[0;34m\u001b[0m\u001b[0m\n\u001b[1;32m      7\u001b[0m \u001b[0;34m\u001b[0m\u001b[0m\n",
        "\u001b[0;31mNameError\u001b[0m: name 'group4' is not defined"
       ]
      }
     ],
     "prompt_number": 101
    },
    {
     "cell_type": "code",
     "collapsed": false,
     "input": [],
     "language": "python",
     "metadata": {},
     "outputs": [],
     "prompt_number": 98
    },
    {
     "cell_type": "code",
     "collapsed": false,
     "input": [],
     "language": "python",
     "metadata": {},
     "outputs": [],
     "prompt_number": 13
    },
    {
     "cell_type": "markdown",
     "metadata": {},
     "source": []
    },
    {
     "cell_type": "code",
     "collapsed": false,
     "input": [
      "groupfile=grouplist\n",
      "blast_commands=open(\"blast_commands.sh\",\"w\")\n",
      "blast_commands.write(\"#!/bin/bash\\n#SBATCH -n 16\\n#SBATCH -N 1\\n#SBATCH -o blast.out\\n#SBATCH -e blast.err\\n#SBATCH -p sched_mit_chisholm\\n\\n\")\n",
      "blast_commands.write(\"module add engaging/ncbi-blast/2.2.30+\\n\\n\\n\")\n",
      "for line in groupfile:\n",
      "    inputfasta=line+\"proteins.faa\"\n",
      "    bout1=line+\"prodprot.vs.lg.terminases.txt\"\n",
      "    bout2=line+\"prodprot.vs.sm.terminases.txt\"\n",
      "    blastcommand=\"blastp -db /nobackup1/jbrown/blast_db/terminase_lg_subunit.fasta -query \"+inputfasta+\" -num_descriptions 1 -evalue 0.00001 -outfmt 6 -out \"+bout1\n",
      "    #blastcommand2=\"blastx -db /nobackup1/jbrown/blast_db/terminase_sm_subunit.fasta -query \"+inputfasta+\" -num_descriptions 1 -outfmt 6 -out \"+bout2\n",
      "    blast_commands.write(blastcommand+\"\\n\")#+blastcommand2+\"\\n\\n\")\n",
      "blast_commands.close()\n",
      "!open blast_commands.sh -a textedit"
     ],
     "language": "python",
     "metadata": {},
     "outputs": [],
     "prompt_number": 36
    },
    {
     "cell_type": "code",
     "collapsed": false,
     "input": [
      "!scp blast_commands.sh jbrown@eofe4.mit.edu:/nobackup1/jbrown/nahant_phage_reads/p22likeheadful_nogrp4/"
     ],
     "language": "python",
     "metadata": {},
     "outputs": [
      {
       "output_type": "stream",
       "stream": "stdout",
       "text": [
        "\r",
        "blast_commands.sh                               0%    0     0.0KB/s   --:-- ETA\r",
        "blast_commands.sh                             100% 8707     8.5KB/s   00:00    \r\n"
       ]
      }
     ],
     "prompt_number": 37
    },
    {
     "cell_type": "code",
     "collapsed": false,
     "input": [
      "!scp jbrown@eofe4.mit.edu:/nobackup1/jbrown/nahant_phage_reads/p22likeheadful_nogrp4/*.vs.lg.terminase* ./"
     ],
     "language": "python",
     "metadata": {},
     "outputs": [
      {
       "output_type": "stream",
       "stream": "stdout",
       "text": [
        "\r",
        "1.003.O.prodprot.vs.lg.terminases.txt           0%    0     0.0KB/s   --:-- ETA"
       ]
      },
      {
       "output_type": "stream",
       "stream": "stdout",
       "text": [
        "\r",
        "1.003.O.prodprot.vs.lg.terminases.txt         100% 4251     4.2KB/s   00:00    \r\n",
        "\r",
        "1.007.O.prodprot.vs.lg.terminases.txt           0%    0     0.0KB/s   --:-- ETA"
       ]
      },
      {
       "output_type": "stream",
       "stream": "stdout",
       "text": [
        "\r",
        "1.007.O.prodprot.vs.lg.terminases.txt         100% 8715     8.5KB/s   00:00    \r\n"
       ]
      },
      {
       "output_type": "stream",
       "stream": "stdout",
       "text": [
        "\r",
        "1.013.O.prodprot.vs.lg.terminases.txt           0%    0     0.0KB/s   --:-- ETA\r",
        "1.013.O.prodprot.vs.lg.terminases.txt         100% 7372     7.2KB/s   00:00    \r\n"
       ]
      },
      {
       "output_type": "stream",
       "stream": "stdout",
       "text": [
        "\r",
        "1.016.O.prodprot.vs.lg.terminases.txt           0%    0     0.0KB/s   --:-- ETA"
       ]
      },
      {
       "output_type": "stream",
       "stream": "stdout",
       "text": [
        "\r",
        "1.016.O.prodprot.vs.lg.terminases.txt         100%   12KB  11.8KB/s   00:00    \r\n"
       ]
      },
      {
       "output_type": "stream",
       "stream": "stdout",
       "text": [
        "\r",
        "1.036.O.prodprot.vs.lg.terminases.txt           0%    0     0.0KB/s   --:-- ETA\r",
        "1.036.O.prodprot.vs.lg.terminases.txt         100% 4251     4.2KB/s   00:00    \r\n",
        "\r",
        "1.039.O.prodprot.vs.lg.terminases.txt           0%    0     0.0KB/s   --:-- ETA"
       ]
      },
      {
       "output_type": "stream",
       "stream": "stdout",
       "text": [
        "\r",
        "1.039.O.prodprot.vs.lg.terminases.txt         100% 4251     4.2KB/s   00:00    \r\n",
        "\r",
        "1.042.O.prodprot.vs.lg.terminases.txt           0%    0     0.0KB/s   --:-- ETA"
       ]
      },
      {
       "output_type": "stream",
       "stream": "stdout",
       "text": [
        "\r",
        "1.042.O.prodprot.vs.lg.terminases.txt         100%   12KB  12.2KB/s   00:00    \r\n"
       ]
      },
      {
       "output_type": "stream",
       "stream": "stdout",
       "text": [
        "\r",
        "1.052.A.prodprot.vs.lg.terminases.txt           0%    0     0.0KB/s   --:-- ETA\r",
        "1.052.A.prodprot.vs.lg.terminases.txt         100% 4767     4.7KB/s   00:00    \r\n"
       ]
      },
      {
       "output_type": "stream",
       "stream": "stdout",
       "text": [
        "\r",
        "1.061.O.prodprot.vs.lg.terminases.txt           0%    0     0.0KB/s   --:-- ETA"
       ]
      },
      {
       "output_type": "stream",
       "stream": "stdout",
       "text": [
        "\r",
        "1.061.O.prodprot.vs.lg.terminases.txt         100% 4251     4.2KB/s   00:01    \r\n"
       ]
      },
      {
       "output_type": "stream",
       "stream": "stdout",
       "text": [
        "\r",
        "1.067.O.prodprot.vs.lg.terminases.txt           0%    0     0.0KB/s   --:-- ETA\r",
        "1.067.O.prodprot.vs.lg.terminases.txt         100% 4250     4.2KB/s   00:00    \r\n"
       ]
      },
      {
       "output_type": "stream",
       "stream": "stdout",
       "text": [
        "\r",
        "1.071.A.prodprot.vs.lg.terminases.txt           0%    0     0.0KB/s   --:-- ETA"
       ]
      },
      {
       "output_type": "stream",
       "stream": "stdout",
       "text": [
        "\r",
        "1.071.A.prodprot.vs.lg.terminases.txt         100%   12KB  11.8KB/s   00:00    \r\n",
        "\r",
        "1.079.O.prodprot.vs.lg.terminases.txt           0%    0     0.0KB/s   --:-- ETA"
       ]
      },
      {
       "output_type": "stream",
       "stream": "stdout",
       "text": [
        "\r",
        "1.079.O.prodprot.vs.lg.terminases.txt         100% 4251     4.2KB/s   00:00    \r\n",
        "\r",
        "1.090.B.prodprot.vs.lg.terminases.txt           0%    0     0.0KB/s   --:-- ETA"
       ]
      },
      {
       "output_type": "stream",
       "stream": "stdout",
       "text": [
        "\r",
        "1.090.B.prodprot.vs.lg.terminases.txt         100% 3547     3.5KB/s   00:00    \r\n",
        "\r",
        "1.091.O.prodprot.vs.lg.terminases.txt           0%    0     0.0KB/s   --:-- ETA"
       ]
      },
      {
       "output_type": "stream",
       "stream": "stdout",
       "text": [
        "\r",
        "1.091.O.prodprot.vs.lg.terminases.txt         100% 4251     4.2KB/s   00:00    \r\n",
        "\r",
        "1.105.O.prodprot.vs.lg.terminases.txt           0%    0     0.0KB/s   --:-- ETA"
       ]
      },
      {
       "output_type": "stream",
       "stream": "stdout",
       "text": [
        "\r",
        "1.105.O.prodprot.vs.lg.terminases.txt         100% 8389     8.2KB/s   00:00    \r\n"
       ]
      },
      {
       "output_type": "stream",
       "stream": "stdout",
       "text": [
        "\r",
        "1.106.O.prodprot.vs.lg.terminases.txt           0%    0     0.0KB/s   --:-- ETA"
       ]
      },
      {
       "output_type": "stream",
       "stream": "stdout",
       "text": [
        "\r",
        "1.106.O.prodprot.vs.lg.terminases.txt         100% 8551     8.4KB/s   00:00    \r\n",
        "\r",
        "1.110.O.prodprot.vs.lg.terminases.txt           0%    0     0.0KB/s   --:-- ETA"
       ]
      },
      {
       "output_type": "stream",
       "stream": "stdout",
       "text": [
        "\r",
        "1.110.O.prodprot.vs.lg.terminases.txt         100% 7598     7.4KB/s   00:00    \r\n",
        "\r",
        "1.112.O.prodprot.vs.lg.terminases.txt           0%    0     0.0KB/s   --:-- ETA"
       ]
      },
      {
       "output_type": "stream",
       "stream": "stdout",
       "text": [
        "\r",
        "1.112.O.prodprot.vs.lg.terminases.txt         100%   12KB  11.8KB/s   00:00    \r\n",
        "\r",
        "1.123.O.prodprot.vs.lg.terminases.txt           0%    0     0.0KB/s   --:-- ETA"
       ]
      },
      {
       "output_type": "stream",
       "stream": "stdout",
       "text": [
        "\r",
        "1.123.O.prodprot.vs.lg.terminases.txt         100% 6248     6.1KB/s   00:00    \r\n"
       ]
      },
      {
       "output_type": "stream",
       "stream": "stdout",
       "text": [
        "\r",
        "1.135.O.prodprot.vs.lg.terminases.txt           0%    0     0.0KB/s   --:-- ETA\r",
        "1.135.O.prodprot.vs.lg.terminases.txt         100% 7524     7.4KB/s   00:00    \r\n"
       ]
      },
      {
       "output_type": "stream",
       "stream": "stdout",
       "text": [
        "\r",
        "1.137.O.prodprot.vs.lg.terminases.txt           0%    0     0.0KB/s   --:-- ETA\r",
        "1.137.O.prodprot.vs.lg.terminases.txt         100% 7526     7.4KB/s   00:00    \r\n"
       ]
      },
      {
       "output_type": "stream",
       "stream": "stdout",
       "text": [
        "\r",
        "1.144.O.prodprot.vs.lg.terminases.txt           0%    0     0.0KB/s   --:-- ETA"
       ]
      },
      {
       "output_type": "stream",
       "stream": "stdout",
       "text": [
        "\r",
        "1.144.O.prodprot.vs.lg.terminases.txt         100% 7813     7.6KB/s   00:00    \r\n",
        "\r",
        "1.149.O.prodprot.vs.lg.terminases.txt           0%    0     0.0KB/s   --:-- ETA"
       ]
      },
      {
       "output_type": "stream",
       "stream": "stdout",
       "text": [
        "\r",
        "1.149.O.prodprot.vs.lg.terminases.txt         100% 8310     8.1KB/s   00:00    \r\n"
       ]
      },
      {
       "output_type": "stream",
       "stream": "stdout",
       "text": [
        "\r",
        "1.155.O.prodprot.vs.lg.terminases.txt           0%    0     0.0KB/s   --:-- ETA\r",
        "1.155.O.prodprot.vs.lg.terminases.txt         100% 3561     3.5KB/s   00:00    \r\n"
       ]
      },
      {
       "output_type": "stream",
       "stream": "stdout",
       "text": [
        "\r",
        "1.166.O.prodprot.vs.lg.terminases.txt           0%    0     0.0KB/s   --:-- ETA\r",
        "1.166.O.prodprot.vs.lg.terminases.txt         100% 2209     2.2KB/s   00:00    \r\n"
       ]
      },
      {
       "output_type": "stream",
       "stream": "stdout",
       "text": [
        "\r",
        "1.173.O.prodprot.vs.lg.terminases.txt           0%    0     0.0KB/s   --:-- ETA"
       ]
      },
      {
       "output_type": "stream",
       "stream": "stdout",
       "text": [
        "\r",
        "1.173.O.prodprot.vs.lg.terminases.txt         100% 8385     8.2KB/s   00:00    \r\n",
        "\r",
        "1.177.O.prodprot.vs.lg.terminases.txt           0%    0     0.0KB/s   --:-- ETA"
       ]
      },
      {
       "output_type": "stream",
       "stream": "stdout",
       "text": [
        "\r",
        "1.177.O.prodprot.vs.lg.terminases.txt         100% 7542     7.4KB/s   00:00    \r\n",
        "\r",
        "1.184.A.prodprot.vs.lg.terminases.txt           0%    0     0.0KB/s   --:-- ETA"
       ]
      },
      {
       "output_type": "stream",
       "stream": "stdout",
       "text": [
        "\r",
        "1.184.A.prodprot.vs.lg.terminases.txt         100% 6489     6.3KB/s   00:00    \r\n"
       ]
      },
      {
       "output_type": "stream",
       "stream": "stdout",
       "text": [
        "\r",
        "1.186.O.prodprot.vs.lg.terminases.txt           0%    0     0.0KB/s   --:-- ETA\r",
        "1.186.O.prodprot.vs.lg.terminases.txt         100% 8389     8.2KB/s   00:00    \r\n"
       ]
      },
      {
       "output_type": "stream",
       "stream": "stdout",
       "text": [
        "\r",
        "1.190.O.prodprot.vs.lg.terminases.txt           0%    0     0.0KB/s   --:-- ETA\r",
        "1.190.O.prodprot.vs.lg.terminases.txt         100% 2209     2.2KB/s   00:00    \r\n"
       ]
      },
      {
       "output_type": "stream",
       "stream": "stdout",
       "text": [
        "\r",
        "1.199.A.prodprot.vs.lg.terminases.txt           0%    0     0.0KB/s   --:-- ETA"
       ]
      },
      {
       "output_type": "stream",
       "stream": "stdout",
       "text": [
        "\r",
        "1.199.A.prodprot.vs.lg.terminases.txt         100%   11KB  11.3KB/s   00:00    \r\n",
        "\r",
        "1.199.B.prodprot.vs.lg.terminases.txt           0%    0     0.0KB/s   --:-- ETA"
       ]
      },
      {
       "output_type": "stream",
       "stream": "stdout",
       "text": [
        "\r",
        "1.199.B.prodprot.vs.lg.terminases.txt         100% 8288     8.1KB/s   00:00    \r\n"
       ]
      },
      {
       "output_type": "stream",
       "stream": "stdout",
       "text": [
        "\r",
        "1.213.O.prodprot.vs.lg.terminases.txt           0%    0     0.0KB/s   --:-- ETA\r",
        "1.213.O.prodprot.vs.lg.terminases.txt         100% 7202     7.0KB/s   00:00    \r\n",
        "\r",
        "1.214.O.prodprot.vs.lg.terminases.txt           0%    0     0.0KB/s   --:-- ETA"
       ]
      },
      {
       "output_type": "stream",
       "stream": "stdout",
       "text": [
        "\r",
        "1.214.O.prodprot.vs.lg.terminases.txt         100% 7372     7.2KB/s   00:00    \r\n"
       ]
      },
      {
       "output_type": "stream",
       "stream": "stdout",
       "text": [
        "\r",
        "1.216.O.prodprot.vs.lg.terminases.txt           0%    0     0.0KB/s   --:-- ETA"
       ]
      },
      {
       "output_type": "stream",
       "stream": "stdout",
       "text": [
        "\r",
        "1.216.O.prodprot.vs.lg.terminases.txt         100% 7528     7.4KB/s   00:00    \r\n",
        "\r",
        "1.236.O.prodprot.vs.lg.terminases.txt           0%    0     0.0KB/s   --:-- ETA"
       ]
      },
      {
       "output_type": "stream",
       "stream": "stdout",
       "text": [
        "\r",
        "1.236.O.prodprot.vs.lg.terminases.txt         100% 7527     7.4KB/s   00:00    \r\n"
       ]
      },
      {
       "output_type": "stream",
       "stream": "stdout",
       "text": [
        "\r",
        "1.239.O.prodprot.vs.lg.terminases.txt           0%    0     0.0KB/s   --:-- ETA"
       ]
      },
      {
       "output_type": "stream",
       "stream": "stdout",
       "text": [
        "\r",
        "1.239.O.prodprot.vs.lg.terminases.txt         100% 7179     7.0KB/s   00:00    \r\n",
        "\r",
        "1.243.O.prodprot.vs.lg.terminases.txt           0%    0     0.0KB/s   --:-- ETA"
       ]
      },
      {
       "output_type": "stream",
       "stream": "stdout",
       "text": [
        "\r",
        "1.243.O.prodprot.vs.lg.terminases.txt         100% 8394     8.2KB/s   00:00    \r\n"
       ]
      },
      {
       "output_type": "stream",
       "stream": "stdout",
       "text": [
        "\r",
        "1.248.O.prodprot.vs.lg.terminases.txt           0%    0     0.0KB/s   --:-- ETA"
       ]
      },
      {
       "output_type": "stream",
       "stream": "stdout",
       "text": [
        "\r",
        "1.248.O.prodprot.vs.lg.terminases.txt         100% 8286     8.1KB/s   00:00    \r\n",
        "\r",
        "1.256.O.prodprot.vs.lg.terminases.txt           0%    0     0.0KB/s   --:-- ETA"
       ]
      },
      {
       "output_type": "stream",
       "stream": "stdout",
       "text": [
        "\r",
        "1.256.O.prodprot.vs.lg.terminases.txt         100% 8551     8.4KB/s   00:00    \r\n"
       ]
      },
      {
       "output_type": "stream",
       "stream": "stdout",
       "text": [
        "\r",
        "1.259.O.prodprot.vs.lg.terminases.txt           0%    0     0.0KB/s   --:-- ETA"
       ]
      },
      {
       "output_type": "stream",
       "stream": "stdout",
       "text": [
        "\r",
        "1.259.O.prodprot.vs.lg.terminases.txt         100% 3687     3.6KB/s   00:00    \r\n",
        "\r",
        "1.263.A.prodprot.vs.lg.terminases.txt           0%    0     0.0KB/s   --:-- ETA"
       ]
      },
      {
       "output_type": "stream",
       "stream": "stdout",
       "text": [
        "\r",
        "1.263.A.prodprot.vs.lg.terminases.txt         100% 8389     8.2KB/s   00:01    \r\n"
       ]
      },
      {
       "output_type": "stream",
       "stream": "stdout",
       "text": [
        "\r",
        "1.263.B.prodprot.vs.lg.terminases.txt           0%    0     0.0KB/s   --:-- ETA"
       ]
      },
      {
       "output_type": "stream",
       "stream": "stdout",
       "text": [
        "\r",
        "1.263.B.prodprot.vs.lg.terminases.txt         100% 8389     8.2KB/s   00:00    \r\n",
        "\r",
        "1.273.O.prodprot.vs.lg.terminases.txt           0%    0     0.0KB/s   --:-- ETA"
       ]
      },
      {
       "output_type": "stream",
       "stream": "stdout",
       "text": [
        "\r",
        "1.273.O.prodprot.vs.lg.terminases.txt         100% 8310     8.1KB/s   00:00    \r\n"
       ]
      },
      {
       "output_type": "stream",
       "stream": "stdout",
       "text": [
        "\r",
        "1.275.O.prodprot.vs.lg.terminases.txt           0%    0     0.0KB/s   --:-- ETA\r",
        "1.275.O.prodprot.vs.lg.terminases.txt         100% 4170     4.1KB/s   00:00    \r\n"
       ]
      },
      {
       "output_type": "stream",
       "stream": "stdout",
       "text": [
        "\r",
        "1.278.O.prodprot.vs.lg.terminases.txt           0%    0     0.0KB/s   --:-- ETA"
       ]
      },
      {
       "output_type": "stream",
       "stream": "stdout",
       "text": [
        "\r",
        "1.278.O.prodprot.vs.lg.terminases.txt         100% 8387     8.2KB/s   00:00    \r\n"
       ]
      },
      {
       "output_type": "stream",
       "stream": "stdout",
       "text": [
        "\r",
        "1.286.O.prodprot.vs.lg.terminases.txt           0%    0     0.0KB/s   --:-- ETA"
       ]
      },
      {
       "output_type": "stream",
       "stream": "stdout",
       "text": [
        "\r",
        "1.286.O.prodprot.vs.lg.terminases.txt         100% 8394     8.2KB/s   00:00    \r\n"
       ]
      }
     ],
     "prompt_number": 102
    },
    {
     "cell_type": "markdown",
     "metadata": {},
     "source": [
      "####Re-arranging contigs based on location of phage terminase:"
     ]
    },
    {
     "cell_type": "code",
     "collapsed": false,
     "input": [
      "for phage in grouplist:\n",
      "    blast=open(phage+\"prodprot.vs.lg.terminases.txt\").readlines()       #open blast file \n",
      "    print(phage)\n",
      "    terminase_hits=[]\n",
      "    for line in blast:\n",
      "        \n",
      "        if line.split(\"\\t\")[0] not in terminase_hits:\n",
      "            terminase_hits.append(line.split(\"\\t\")[0])\n",
      "    if len(terminase_hits)==1:\n",
      "        print(\"one orf matches terminase\")\n",
      "    else:\n",
      "        print(terminase_hits)"
     ],
     "language": "python",
     "metadata": {},
     "outputs": [
      {
       "output_type": "stream",
       "stream": "stdout",
       "text": [
        "1.199.B.\n",
        "one orf matches terminase\n",
        "1.155.O.\n",
        "one orf matches terminase\n",
        "1.243.O.\n",
        "one orf matches terminase\n",
        "1.003.O.\n",
        "one orf matches terminase\n",
        "1.214.O.\n",
        "one orf matches terminase\n",
        "1.105.O.\n",
        "one orf matches terminase\n",
        "1.236.O.\n",
        "one orf matches terminase\n",
        "1.173.O.\n",
        "one orf matches terminase\n",
        "1.177.O.\n",
        "one orf matches terminase\n",
        "1.213.O.\n",
        "one orf matches terminase\n",
        "1.278.O.\n",
        "one orf matches terminase\n",
        "1.239.O.\n",
        "one orf matches terminase\n",
        "1.036.O.\n",
        "one orf matches terminase\n",
        "1.016.O.\n",
        "one orf matches terminase\n",
        "1.259.O.\n",
        "one orf matches terminase\n",
        "1.199.A.\n",
        "['contig_1_1', 'contig_1_78']\n",
        "1.013.O.\n",
        "one orf matches terminase\n",
        "1.166.O.\n",
        "one orf matches terminase\n",
        "1.256.O.\n",
        "one orf matches terminase\n",
        "1.273.O.\n",
        "['contig_1_48', 'contig_1_49']\n",
        "1.263.B.\n",
        "one orf matches terminase\n",
        "1.123.O.\n",
        "one orf matches terminase\n",
        "1.184.A.\n",
        "one orf matches terminase\n",
        "1.039.O.\n",
        "one orf matches terminase\n",
        "1.110.O.\n",
        "one orf matches terminase\n",
        "1.275.O.\n",
        "one orf matches terminase\n",
        "1.067.O.\n",
        "one orf matches terminase\n",
        "1.112.O.\n",
        "one orf matches terminase\n",
        "1.286.O.\n",
        "one orf matches terminase\n",
        "1.149.O.\n",
        "['contig_1_16', 'contig_1_17']\n",
        "1.186.O.\n",
        "one orf matches terminase\n",
        "1.079.O.\n",
        "one orf matches terminase\n",
        "1.091.O.\n",
        "one orf matches terminase\n",
        "1.137.O.\n",
        "one orf matches terminase\n",
        "1.190.O.\n",
        "one orf matches terminase\n",
        "1.106.O.\n",
        "one orf matches terminase\n",
        "1.090.B.\n",
        "['contig_1_1', 'contig_1_69']\n",
        "1.071.A.\n",
        "one orf matches terminase\n",
        "1.042.O.\n",
        "one orf matches terminase\n",
        "1.263.A.\n",
        "one orf matches terminase\n",
        "1.135.O.\n",
        "one orf matches terminase\n",
        "1.061.O.\n",
        "one orf matches terminase\n",
        "1.216.O.\n",
        "one orf matches terminase\n",
        "1.248.O.\n",
        "one orf matches terminase\n",
        "1.144.O.\n",
        "one orf matches terminase\n",
        "1.007.O.\n",
        "one orf matches terminase\n",
        "1.052.A.\n",
        "['contig_1_5', 'contig_1_6']\n"
       ]
      }
     ],
     "prompt_number": 103
    },
    {
     "cell_type": "code",
     "collapsed": false,
     "input": [
      "#treat just like group4 phages:\n",
      "from Bio.Seq import Seq\n",
      "import os.path\n",
      "\n",
      "\n",
      "startpoint=\"\"\n",
      "for phage in grouplist:\n",
      "    if os.path.exists(phage+\"genes\"):\n",
      "        #Create dictionary of identity and location of prodigal calls for phage genome\n",
      "        gene_tbl=open(phage+\"genes\").readlines()     #open prodigal gene table for phage genome\n",
      "        loc=[]\n",
      "        nam=[]\n",
      "        for line in gene_tbl[2:]:\n",
      "            here=line.split()\n",
      "            if here[0]==\"CDS\":\n",
      "                loc.append(here[1])\n",
      "            else:\n",
      "                info=here[0].split(\";\")\n",
      "                there=info[0].split(\"=\")\n",
      "                if len(there)==3:\n",
      "                    nam.append(\"contig_\"+there[2])\n",
      "        dict1=dict(zip(nam,loc))                  #create dictionary of the location of each orf by prodigal-assigned name\n",
      "        blast=open(phage+\"prodprot.vs.lg.terminases.txt\").readlines() \n",
      "        terminase_hits=[]\n",
      "        e_values=[]\n",
      "        best_evalue=1\n",
      "        best_e_line=\"\"\n",
      "        for line in blast:\n",
      "            if line.split(\"\\t\")[0] not in terminase_hits:\n",
      "                terminase_hits.append(line.split(\"\\t\")[0])\n",
      "                e_values.append(line.split(\"\\t\")[10])  \n",
      "\n",
      "            if float(line.split(\"\\t\")[10])<best_evalue:\n",
      "                best_evalue=float(line.split(\"\\t\")[10])\n",
      "                orf=line.split(\"\\t\")[0]\n",
      "\n",
      "        value=dict1[orf]                                                    #pull out location of BLAST-identified terminase\n",
      "        if value.startswith(\"complement\"):                                  #determine orientation of orf and\n",
      "            adjust=orf.split(\"_\")                                           #identification of start of gene upstream of terminase large subunit\n",
      "            orientation=\"reverse\"\n",
      "            key2=adjust[0]+\"_\"+adjust[1]+\"_\"+str(int(adjust[2])+1)\n",
      "            value2=dict1.get(key2,0)\n",
      "            if dict1.get(key2,0)!=0:                                           \n",
      "\n",
      "                vec1=value2.split(\"(\")\n",
      "                vec2=vec1[1].split(\"..\")\n",
      "                start=vec2[1]\n",
      "                stop=vec2[0]\n",
      "\n",
      "            else:\n",
      "                print(\"end of contig reverse\")\n",
      "                key2=adjust[0]+\"_\"+adjust[1]+\"_1\"\n",
      "                orientation=\"reverse\"\n",
      "                value2=dict1.get(key2,\"end of contig\")\n",
      "                vec1=value2.split(\"(\")\n",
      "                vec2=vec1[1].split(\"..\")\n",
      "                start=vec2[0]\n",
      "                stop=vec2[1]\n",
      "\n",
      "        else:\n",
      "            adjust=orf.split(\"_\")\n",
      "            key2=adjust[0]+\"_\"+adjust[1]+\"_\"+str(int(adjust[2])-1)\n",
      "            orientation=\"forward\"\n",
      "            if dict1.get(key2,0)!=0:\n",
      "                value2=dict1.get(key2,\"end of contig\")\n",
      "                vec2=value2.split(\"..\")\n",
      "                start=vec2[0]\n",
      "                stop=vec2[1]      \n",
      "            else:\n",
      "                print(\"end of contig forward\")\n",
      "                orf_num=len(dict1)\n",
      "                key2=adjust[0]+\"_\"+adjust[1]+\"_\"+str(orf_num)\n",
      "                if \">\" in dict1.get(key2,0):\n",
      "                    key2=adjust[0]+\"_\"+adjust[1]+\"_\"+str(orf_num-1)\n",
      "                value2=dict1.get(key2, 0)\n",
      "                vec2=value2.split(\"..\")\n",
      "                start=vec2[0]\n",
      "                stop=vec2[1]\n",
      "        start=start.replace(\">\",\"\").replace(\")\",\"\").replace(\"<\",\"\")\n",
      "        stop=stop.replace(\">\",\"\").replace(\")\",\"\").replace(\"<\",\"\")\n",
      "        \n",
      "        fastafile=phage+\"step1.contig1.fasta\"\n",
      "        f=open(fastafile)                                       #open fasta file\n",
      "        sequence=\"\"\n",
      "        for row in f:                           #define title and sequences\n",
      "            if row.startswith(\">\"):\n",
      "                title=row\n",
      "            else:\n",
      "                sequence+=row\n",
      "        sequence=sequence.replace(\"\\n\",\"\")\n",
      "        outfile=open(phage+\"s1c1.rearrange.fasta\",\"w\")\n",
      "        if start!=0:\n",
      "            \n",
      "            upstream=sequence[0:int(start)-1]                    #id sequence before start of small subunit terminase\n",
      "            downstream=sequence[int(start)-1:]                   #id sequence after start of small subunit terminase \n",
      "            rearrange=downstream+upstream                        #re-arrange contigs so that small subunit terminase start is at end of contig\n",
      "            print(phage+\":\"+str(len(sequence))+\":\"+str(len(rearrange))+\":\"+str(start))\n",
      "            if orientation==\"reverse\":                           #reverse-complement the genome if terminase gene is in reverse orientation\n",
      "                seq=Seq(rearrange)\n",
      "                out_seq=seq.reverse_complement()\n",
      "                outfile.write(\">\"+phage+\"\\n\"+str(out_seq))\n",
      "                startpoint=startpoint+phage+\"\\t\"+str(int(start))+\"\\n\"\n",
      "            else:\n",
      "                outfile.write(\">\"+phage+\"\\n\"+rearrange)\n",
      "                startpoint=startpoint+phage+\"\\t\"+str(len(seq)-int(start))+\"\\n\"\n",
      "        outfile.close()\n",
      "        print(phage+\" done!\")\n",
      "    else:\n",
      "        print(phage+\" sequence file does not exist\")"
     ],
     "language": "python",
     "metadata": {},
     "outputs": [
      {
       "output_type": "stream",
       "stream": "stdout",
       "text": [
        "1.199.B.:48312:48312:1745\n",
        "1.199.B. done!\n",
        "1.155.O.:29029:29029:4230\n",
        "1.155.O. done!\n",
        "1.243.O.:48414:48414:13822\n",
        "1.243.O. done!\n",
        "1.003.O.:41891:41891:25015\n",
        "1.003.O. done!\n",
        "1.214.O.:44205:44205:24135\n",
        "1.214.O. done!\n",
        "1.105.O.:49043:49043:35163\n",
        "1.105.O. done!\n",
        "1.236.O.:42646:42646:24690\n",
        "1.236.O. done!\n",
        "1.173.O.:48063:48063:10912\n",
        "1.173.O. done!\n",
        "1.177.O.:45439:45439:43334\n",
        "1.177.O. done!\n",
        "1.213.O.:42443:42443:28727\n",
        "1.213.O. done!\n",
        "1.278.O.:49282:49282:9949\n",
        "1.278.O. done!\n",
        "1.239.O.:38618:38618:23046\n",
        "1.239.O. done!\n",
        "1.036.O.:40172:40172:12888\n",
        "1.036.O. done!\n",
        "1.016.O.:48000:48000:14024\n",
        "1.016.O. done!\n",
        "1.259.O.:28145:28145:12037\n",
        "1.259.O. done!\n",
        "1.199.A.:48312:48312:942\n",
        "1.199.A. done!\n",
        "1.013.O.:44457:44457:23212\n",
        "1.013.O. done!\n",
        "1.166.O.:21800:21800:8369\n",
        "1.166.O. done!\n",
        "1.256.O.:48118:48118:35014\n",
        "1.256.O. done!\n",
        "1.273.O.:48145:48145:29090\n",
        "1.273.O. done!\n",
        "1.263.B.:49757:49757:47657\n",
        "1.263.B. done!\n",
        "1.123.O.:46071:46071:2498\n",
        "1.123.O. done!\n",
        "1.184.A.:33194:33194:25936\n",
        "1.184.A. done!\n",
        "1.039.O.:40972:40972:26476\n",
        "1.039.O. done!\n",
        "1.110.O.:37556:37556:6606\n",
        "1.110.O. done!\n",
        "1.275.O.:37915:37915:31153\n",
        "1.275.O. done!\n",
        "1.067.O.:40955:40955:24816\n",
        "1.067.O. done!\n",
        "1.112.O.:48149:48149:46116\n",
        "1.112.O. done!\n",
        "1.286.O.:49131:49131:15512\n",
        "1.286.O. done!\n",
        "1.149.O.:48481:48481:7680\n",
        "1.149.O. done!\n",
        "1.186.O.:48643:48643:41432\n",
        "1.186.O. done!\n",
        "1.079.O.:42375:42375:28209\n",
        "1.079.O. done!\n",
        "1.091.O.:43134:43134:35654\n",
        "1.091.O. done!\n",
        "1.137.O.:37958:37958:27713\n",
        "1.137.O. done!\n",
        "1.190.O.:21785:21785:9105\n",
        "1.190.O. done!\n",
        "1.106.O.:47070:47070:23652\n",
        "1.106.O. done!\n",
        "end of contig forward\n",
        "1.090.B.:41868:41868:40945\n",
        "1.090.B. done!\n",
        "1.071.A.:48114:48114:9449\n",
        "1.071.A. done!\n",
        "1.042.O.:49730:49730:44583\n",
        "1.042.O. done!\n",
        "1.263.A.:49640:49640:17801\n",
        "1.263.A. done!\n",
        "1.135.O.:41918:41918:25288\n",
        "1.135.O. done!\n",
        "1.061.O.:41667:41667:24283\n",
        "1.061.O. done!\n",
        "1.216.O.:41359:41359:11376\n",
        "1.216.O. done!\n",
        "1.248.O.:48301:48301:3408\n",
        "1.248.O. done!\n",
        "1.144.O.:44418:44418:2315\n",
        "1.144.O. done!\n",
        "1.007.O.:49244:49244:41647\n",
        "1.007.O. done!\n",
        "1.052.A.:42889:42889:5901\n",
        "1.052.A. done!\n"
       ]
      }
     ],
     "prompt_number": 104
    },
    {
     "cell_type": "code",
     "collapsed": false,
     "input": [
      "!scp *s1c1.rearrange.fasta jbrown@eofe4.mit.edu:/nobackup1/jbrown/nahant_phage_reads/p22likeheadful_nogrp4/"
     ],
     "language": "python",
     "metadata": {},
     "outputs": [
      {
       "output_type": "stream",
       "stream": "stdout",
       "text": [
        "\r",
        "1.003.O.s1c1.rearrange.fasta                    0%    0     0.0KB/s   --:-- ETA\r",
        "1.003.O.s1c1.rearrange.fasta                  100%   41KB  40.9KB/s   00:00    \r\n"
       ]
      },
      {
       "output_type": "stream",
       "stream": "stdout",
       "text": [
        "\r",
        "1.007.O.s1c1.rearrange.fasta                    0%    0     0.0KB/s   --:-- ETA\r",
        "1.007.O.s1c1.rearrange.fasta                  100%   48KB  48.1KB/s   00:00    \r\n"
       ]
      },
      {
       "output_type": "stream",
       "stream": "stdout",
       "text": [
        "\r",
        "1.013.O.s1c1.rearrange.fasta                    0%    0     0.0KB/s   --:-- ETA\r",
        "1.013.O.s1c1.rearrange.fasta                  100%   43KB  43.4KB/s   00:00    \r\n"
       ]
      },
      {
       "output_type": "stream",
       "stream": "stdout",
       "text": [
        "\r",
        "1.016.O.s1c1.rearrange.fasta                    0%    0     0.0KB/s   --:-- ETA\r",
        "1.016.O.s1c1.rearrange.fasta                  100%   47KB  46.9KB/s   00:00    \r\n"
       ]
      },
      {
       "output_type": "stream",
       "stream": "stdout",
       "text": [
        "\r",
        "1.036.O.s1c1.rearrange.fasta                    0%    0     0.0KB/s   --:-- ETA\r",
        "1.036.O.s1c1.rearrange.fasta                  100%   39KB  39.2KB/s   00:00    \r\n"
       ]
      },
      {
       "output_type": "stream",
       "stream": "stdout",
       "text": [
        "\r",
        "1.039.O.s1c1.rearrange.fasta                    0%    0     0.0KB/s   --:-- ETA\r",
        "1.039.O.s1c1.rearrange.fasta                  100%   40KB  40.0KB/s   00:00    \r\n"
       ]
      },
      {
       "output_type": "stream",
       "stream": "stdout",
       "text": [
        "\r",
        "1.042.O.s1c1.rearrange.fasta                    0%    0     0.0KB/s   --:-- ETA\r",
        "1.042.O.s1c1.rearrange.fasta                  100%   49KB  48.6KB/s   00:00    \r\n"
       ]
      },
      {
       "output_type": "stream",
       "stream": "stdout",
       "text": [
        "\r",
        "1.052.A.s1c1.rearrange.fasta                    0%    0     0.0KB/s   --:-- ETA\r",
        "1.052.A.s1c1.rearrange.fasta                  100%   42KB  41.9KB/s   00:00    \r\n"
       ]
      },
      {
       "output_type": "stream",
       "stream": "stdout",
       "text": [
        "\r",
        "1.061.O.s1c1.rearrange.fasta                    0%    0     0.0KB/s   --:-- ETA\r",
        "1.061.O.s1c1.rearrange.fasta                  100%   41KB  40.7KB/s   00:00    \r\n"
       ]
      },
      {
       "output_type": "stream",
       "stream": "stdout",
       "text": [
        "\r",
        "1.067.O.s1c1.rearrange.fasta                    0%    0     0.0KB/s   --:-- ETA\r",
        "1.067.O.s1c1.rearrange.fasta                  100%   40KB  40.0KB/s   00:00    \r\n"
       ]
      },
      {
       "output_type": "stream",
       "stream": "stdout",
       "text": [
        "\r",
        "1.071.A.s1c1.rearrange.fasta                    0%    0     0.0KB/s   --:-- ETA\r",
        "1.071.A.s1c1.rearrange.fasta                  100%   47KB  47.0KB/s   00:00    \r\n"
       ]
      },
      {
       "output_type": "stream",
       "stream": "stdout",
       "text": [
        "\r",
        "1.079.O.s1c1.rearrange.fasta                    0%    0     0.0KB/s   --:-- ETA\r",
        "1.079.O.s1c1.rearrange.fasta                  100%   41KB  41.4KB/s   00:00    \r\n"
       ]
      },
      {
       "output_type": "stream",
       "stream": "stdout",
       "text": [
        "\r",
        "1.090.B.s1c1.rearrange.fasta                    0%    0     0.0KB/s   --:-- ETA\r",
        "1.090.B.s1c1.rearrange.fasta                  100%   41KB  40.9KB/s   00:00    \r\n"
       ]
      },
      {
       "output_type": "stream",
       "stream": "stdout",
       "text": [
        "\r",
        "1.091.O.s1c1.rearrange.fasta                    0%    0     0.0KB/s   --:-- ETA\r",
        "1.091.O.s1c1.rearrange.fasta                  100%   42KB  42.1KB/s   00:00    \r\n"
       ]
      },
      {
       "output_type": "stream",
       "stream": "stdout",
       "text": [
        "\r",
        "1.105.O.s1c1.rearrange.fasta                    0%    0     0.0KB/s   --:-- ETA\r",
        "1.105.O.s1c1.rearrange.fasta                  100%   48KB  47.9KB/s   00:00    \r\n"
       ]
      },
      {
       "output_type": "stream",
       "stream": "stdout",
       "text": [
        "\r",
        "1.106.O.s1c1.rearrange.fasta                    0%    0     0.0KB/s   --:-- ETA\r",
        "1.106.O.s1c1.rearrange.fasta                  100%   46KB  46.0KB/s   00:00    \r\n"
       ]
      },
      {
       "output_type": "stream",
       "stream": "stdout",
       "text": [
        "\r",
        "1.110.O.s1c1.rearrange.fasta                    0%    0     0.0KB/s   --:-- ETA\r",
        "1.110.O.s1c1.rearrange.fasta                  100%   37KB  36.7KB/s   00:00    \r\n"
       ]
      },
      {
       "output_type": "stream",
       "stream": "stdout",
       "text": [
        "\r",
        "1.112.O.s1c1.rearrange.fasta                    0%    0     0.0KB/s   --:-- ETA\r",
        "1.112.O.s1c1.rearrange.fasta                  100%   47KB  47.0KB/s   00:00    \r\n"
       ]
      },
      {
       "output_type": "stream",
       "stream": "stdout",
       "text": [
        "\r",
        "1.123.O.s1c1.rearrange.fasta                    0%    0     0.0KB/s   --:-- ETA\r",
        "1.123.O.s1c1.rearrange.fasta                  100%   45KB  45.0KB/s   00:00    \r\n"
       ]
      },
      {
       "output_type": "stream",
       "stream": "stdout",
       "text": [
        "\r",
        "1.135.O.s1c1.rearrange.fasta                    0%    0     0.0KB/s   --:-- ETA\r",
        "1.135.O.s1c1.rearrange.fasta                  100%   41KB  41.0KB/s   00:00    \r\n"
       ]
      },
      {
       "output_type": "stream",
       "stream": "stdout",
       "text": [
        "\r",
        "1.137.O.s1c1.rearrange.fasta                    0%    0     0.0KB/s   --:-- ETA\r",
        "1.137.O.s1c1.rearrange.fasta                  100%   37KB  37.1KB/s   00:00    \r\n"
       ]
      },
      {
       "output_type": "stream",
       "stream": "stdout",
       "text": [
        "\r",
        "1.144.O.s1c1.rearrange.fasta                    0%    0     0.0KB/s   --:-- ETA\r",
        "1.144.O.s1c1.rearrange.fasta                  100%   43KB  43.4KB/s   00:00    \r\n"
       ]
      },
      {
       "output_type": "stream",
       "stream": "stdout",
       "text": [
        "\r",
        "1.149.O.s1c1.rearrange.fasta                    0%    0     0.0KB/s   --:-- ETA\r",
        "1.149.O.s1c1.rearrange.fasta                  100%   47KB  47.4KB/s   00:00    \r\n"
       ]
      },
      {
       "output_type": "stream",
       "stream": "stdout",
       "text": [
        "\r",
        "1.155.O.s1c1.rearrange.fasta                    0%    0     0.0KB/s   --:-- ETA\r",
        "1.155.O.s1c1.rearrange.fasta                  100%   28KB  28.4KB/s   00:00    \r\n"
       ]
      },
      {
       "output_type": "stream",
       "stream": "stdout",
       "text": [
        "\r",
        "1.166.O.s1c1.rearrange.fasta                    0%    0     0.0KB/s   --:-- ETA\r",
        "1.166.O.s1c1.rearrange.fasta                  100%   21KB  21.3KB/s   00:00    \r\n"
       ]
      },
      {
       "output_type": "stream",
       "stream": "stdout",
       "text": [
        "\r",
        "1.173.O.s1c1.rearrange.fasta                    0%    0     0.0KB/s   --:-- ETA\r",
        "1.173.O.s1c1.rearrange.fasta                  100%   47KB  47.0KB/s   00:00    \r\n"
       ]
      },
      {
       "output_type": "stream",
       "stream": "stdout",
       "text": [
        "\r",
        "1.177.O.s1c1.rearrange.fasta                    0%    0     0.0KB/s   --:-- ETA\r",
        "1.177.O.s1c1.rearrange.fasta                  100%   44KB  44.4KB/s   00:00    \r\n"
       ]
      },
      {
       "output_type": "stream",
       "stream": "stdout",
       "text": [
        "\r",
        "1.184.A.s1c1.rearrange.fasta                    0%    0     0.0KB/s   --:-- ETA\r",
        "1.184.A.s1c1.rearrange.fasta                  100%   32KB  32.4KB/s   00:00    \r\n"
       ]
      },
      {
       "output_type": "stream",
       "stream": "stdout",
       "text": [
        "\r",
        "1.186.O.s1c1.rearrange.fasta                    0%    0     0.0KB/s   --:-- ETA\r",
        "1.186.O.s1c1.rearrange.fasta                  100%   48KB  47.5KB/s   00:00    \r\n"
       ]
      },
      {
       "output_type": "stream",
       "stream": "stdout",
       "text": [
        "\r",
        "1.190.O.s1c1.rearrange.fasta                    0%    0     0.0KB/s   --:-- ETA\r",
        "1.190.O.s1c1.rearrange.fasta                  100%   21KB  21.3KB/s   00:00    \r\n"
       ]
      },
      {
       "output_type": "stream",
       "stream": "stdout",
       "text": [
        "\r",
        "1.199.A.s1c1.rearrange.fasta                    0%    0     0.0KB/s   --:-- ETA\r",
        "1.199.A.s1c1.rearrange.fasta                  100%   47KB  47.2KB/s   00:00    \r\n"
       ]
      },
      {
       "output_type": "stream",
       "stream": "stdout",
       "text": [
        "\r",
        "1.199.B.s1c1.rearrange.fasta                    0%    0     0.0KB/s   --:-- ETA\r",
        "1.199.B.s1c1.rearrange.fasta                  100%   47KB  47.2KB/s   00:00    \r\n"
       ]
      },
      {
       "output_type": "stream",
       "stream": "stdout",
       "text": [
        "\r",
        "1.213.O.s1c1.rearrange.fasta                    0%    0     0.0KB/s   --:-- ETA\r",
        "1.213.O.s1c1.rearrange.fasta                  100%   41KB  41.5KB/s   00:00    \r\n"
       ]
      },
      {
       "output_type": "stream",
       "stream": "stdout",
       "text": [
        "\r",
        "1.214.O.s1c1.rearrange.fasta                    0%    0     0.0KB/s   --:-- ETA\r",
        "1.214.O.s1c1.rearrange.fasta                  100%   43KB  43.2KB/s   00:00    \r\n"
       ]
      },
      {
       "output_type": "stream",
       "stream": "stdout",
       "text": [
        "\r",
        "1.216.O.s1c1.rearrange.fasta                    0%    0     0.0KB/s   --:-- ETA\r",
        "1.216.O.s1c1.rearrange.fasta                  100%   40KB  40.4KB/s   00:00    \r\n"
       ]
      },
      {
       "output_type": "stream",
       "stream": "stdout",
       "text": [
        "\r",
        "1.236.O.s1c1.rearrange.fasta                    0%    0     0.0KB/s   --:-- ETA\r",
        "1.236.O.s1c1.rearrange.fasta                  100%   42KB  41.7KB/s   00:00    \r\n"
       ]
      },
      {
       "output_type": "stream",
       "stream": "stdout",
       "text": [
        "\r",
        "1.239.O.s1c1.rearrange.fasta                    0%    0     0.0KB/s   --:-- ETA\r",
        "1.239.O.s1c1.rearrange.fasta                  100%   38KB  37.7KB/s   00:00    \r\n"
       ]
      },
      {
       "output_type": "stream",
       "stream": "stdout",
       "text": [
        "\r",
        "1.243.O.s1c1.rearrange.fasta                    0%    0     0.0KB/s   --:-- ETA\r",
        "1.243.O.s1c1.rearrange.fasta                  100%   47KB  47.3KB/s   00:00    \r\n"
       ]
      },
      {
       "output_type": "stream",
       "stream": "stdout",
       "text": [
        "\r",
        "1.248.O.s1c1.rearrange.fasta                    0%    0     0.0KB/s   --:-- ETA\r",
        "1.248.O.s1c1.rearrange.fasta                  100%   47KB  47.2KB/s   00:00    \r\n"
       ]
      },
      {
       "output_type": "stream",
       "stream": "stdout",
       "text": [
        "\r",
        "1.256.O.s1c1.rearrange.fasta                    0%    0     0.0KB/s   --:-- ETA\r",
        "1.256.O.s1c1.rearrange.fasta                  100%   47KB  47.0KB/s   00:00    \r\n"
       ]
      },
      {
       "output_type": "stream",
       "stream": "stdout",
       "text": [
        "\r",
        "1.259.O.s1c1.rearrange.fasta                    0%    0     0.0KB/s   --:-- ETA\r",
        "1.259.O.s1c1.rearrange.fasta                  100%   27KB  27.5KB/s   00:00    \r\n"
       ]
      },
      {
       "output_type": "stream",
       "stream": "stdout",
       "text": [
        "\r",
        "1.263.A.s1c1.rearrange.fasta                    0%    0     0.0KB/s   --:-- ETA\r",
        "1.263.A.s1c1.rearrange.fasta                  100%   48KB  48.5KB/s   00:00    \r\n"
       ]
      },
      {
       "output_type": "stream",
       "stream": "stdout",
       "text": [
        "\r",
        "1.263.B.s1c1.rearrange.fasta                    0%    0     0.0KB/s   --:-- ETA\r",
        "1.263.B.s1c1.rearrange.fasta                  100%   49KB  48.6KB/s   00:00    \r\n"
       ]
      },
      {
       "output_type": "stream",
       "stream": "stdout",
       "text": [
        "\r",
        "1.273.O.s1c1.rearrange.fasta                    0%    0     0.0KB/s   --:-- ETA\r",
        "1.273.O.s1c1.rearrange.fasta                  100%   47KB  47.0KB/s   00:00    \r\n"
       ]
      },
      {
       "output_type": "stream",
       "stream": "stdout",
       "text": [
        "\r",
        "1.275.O.s1c1.rearrange.fasta                    0%    0     0.0KB/s   --:-- ETA\r",
        "1.275.O.s1c1.rearrange.fasta                  100%   37KB  37.0KB/s   00:00    \r\n"
       ]
      },
      {
       "output_type": "stream",
       "stream": "stdout",
       "text": [
        "\r",
        "1.278.O.s1c1.rearrange.fasta                    0%    0     0.0KB/s   --:-- ETA\r",
        "1.278.O.s1c1.rearrange.fasta                  100%   48KB  48.1KB/s   00:00    \r\n"
       ]
      },
      {
       "output_type": "stream",
       "stream": "stdout",
       "text": [
        "\r",
        "1.286.O.s1c1.rearrange.fasta                    0%    0     0.0KB/s   --:-- ETA\r",
        "1.286.O.s1c1.rearrange.fasta                  100%   48KB  48.0KB/s   00:00    \r\n"
       ]
      }
     ],
     "prompt_number": 105
    },
    {
     "cell_type": "markdown",
     "metadata": {},
     "source": [
      "##Next, re-recruit reads onto newly re-arranged contigs"
     ]
    },
    {
     "cell_type": "code",
     "collapsed": false,
     "input": [
      "script=open(\"rearrange_recruitment.slurm\",\"w\")\n",
      "script.write(\"#!/bin/bash\\n#SBATCH -n 16\\n#SBATCH -N 1\\n#SBATCH -o rearrange.out\\n#SBATCH -e rearrange.err\\n#SBATCH -p sched_mit_chisholm\\n\\n\")\n",
      "script.write(\"module add engaging/clc-assembly-cell\\nmodule add engaging/samtools/1.1\\nmodule add engaging/bedtools/2.22.1\\n\\n\")\n",
      "\n",
      "for virus in grouplist:\n",
      "    target_seq=virus+\"s1c1.rearrange.fasta\"\n",
      "    reads=\"../\"+virus+\"*.fastq\"\n",
      "    recruitfile=virus+\"s1c1.rearrange.cas\"\n",
      "    outputfasta=virus+\"final.fasta\"\n",
      "    directed=virus+\"rearrange.\"\n",
      "\n",
      "    script.write(\"clc_mapper -o \"+recruitfile+\" -p fb ss 100 300 -q \"+reads+\" -d \"+target_seq+\" -a local -r ignore \\n\")\n",
      "    script.write(\"clc_extract_consensus -z none -a \"+recruitfile+\" -o \"+outputfasta+\"\\n\")\n",
      "    script.write(\"clc_cas_to_sam -a \"+recruitfile+\" -o \"+directed+\"bam\\n\")\n",
      "    script.write(\"samtools sort \"+directed+\"bam \"+directed+\"sorted\\n\")\n",
      "    script.write(\"samtools index \"+directed+\"sorted.bam\\n\")\n",
      "    script.write(\"bedtools genomecov -ibam \"+directed+\"sorted.bam -d > \"+directed+\"genomecoverage.txt\\n\\n\")\n",
      "\n",
      "script.close()\n",
      "!open rearrange_recruitment.slurm -a textedit"
     ],
     "language": "python",
     "metadata": {},
     "outputs": [],
     "prompt_number": 67
    },
    {
     "cell_type": "code",
     "collapsed": false,
     "input": [
      "!scp rearrange_recruitment.slurm jbrown@eofe4.mit.edu:/nobackup1/jbrown/nahant_phage_reads/p22likeheadful_nogrp4/\n",
      "#!scp *s1c1.rearrange.fasta jbrown@eofe4.mit.edu:/nobackup1/jbrown/nahant_phage_reads/p22likeheadful_nogrp4/\n",
      "#running on MIT cluster"
     ],
     "language": "python",
     "metadata": {},
     "outputs": [
      {
       "output_type": "stream",
       "stream": "stdout",
       "text": [
        "\r",
        "rearrange_recruitment.slurm                     0%    0     0.0KB/s   --:-- ETA\r",
        "rearrange_recruitment.slurm                   100%   23KB  22.6KB/s   00:00    \r\n"
       ]
      }
     ],
     "prompt_number": 68
    },
    {
     "cell_type": "code",
     "collapsed": false,
     "input": [
      "!scp jbrown@eofe4.mit.edu:/nobackup1/jbrown/nahant_phage_reads/p22likeheadful_nogrp4/*rearrange.genomecoverage* ./"
     ],
     "language": "python",
     "metadata": {},
     "outputs": [
      {
       "output_type": "stream",
       "stream": "stdout",
       "text": [
        "\r",
        "1.003.O.rearrange.genomecoverage.txt            0%    0     0.0KB/s   --:-- ETA"
       ]
      },
      {
       "output_type": "stream",
       "stream": "stdout",
       "text": [
        "\r",
        "1.003.O.rearrange.genomecoverage.txt          100%  777KB 777.2KB/s   00:00    \r\n"
       ]
      },
      {
       "output_type": "stream",
       "stream": "stdout",
       "text": [
        "\r",
        "1.007.O.rearrange.genomecoverage.txt            0%    0     0.0KB/s   --:-- ETA"
       ]
      },
      {
       "output_type": "stream",
       "stream": "stdout",
       "text": [
        "\r",
        "1.007.O.rearrange.genomecoverage.txt          100%  993KB 993.2KB/s   00:00    \r\n"
       ]
      },
      {
       "output_type": "stream",
       "stream": "stdout",
       "text": [
        "\r",
        "1.013.O.rearrange.genomecoverage.txt            0%    0     0.0KB/s   --:-- ETA"
       ]
      },
      {
       "output_type": "stream",
       "stream": "stdout",
       "text": [
        "\r",
        "1.013.O.rearrange.genomecoverage.txt          100%  865KB 864.9KB/s   00:00    \r\n",
        "\r",
        "1.016.O.rearrange.genomecoverage.txt            0%    0     0.0KB/s   --:-- ETA"
       ]
      },
      {
       "output_type": "stream",
       "stream": "stdout",
       "text": [
        "\r",
        "1.016.O.rearrange.genomecoverage.txt          100%  934KB 933.6KB/s   00:01    \r\n"
       ]
      },
      {
       "output_type": "stream",
       "stream": "stdout",
       "text": [
        "\r",
        "1.036.O.rearrange.genomecoverage.txt            0%    0     0.0KB/s   --:-- ETA"
       ]
      },
      {
       "output_type": "stream",
       "stream": "stdout",
       "text": [
        "\r",
        "1.036.O.rearrange.genomecoverage.txt          100%  813KB 812.9KB/s   00:00    \r\n",
        "\r",
        "1.039.O.rearrange.genomecoverage.txt            0%    0     0.0KB/s   --:-- ETA"
       ]
      },
      {
       "output_type": "stream",
       "stream": "stdout",
       "text": [
        "\r",
        "1.039.O.rearrange.genomecoverage.txt          100%  829KB 829.0KB/s   00:00    \r\n",
        "\r",
        "1.042.O.rearrange.genomecoverage.txt            0%    0     0.0KB/s   --:-- ETA"
       ]
      },
      {
       "output_type": "stream",
       "stream": "stdout",
       "text": [
        "\r",
        "1.042.O.rearrange.genomecoverage.txt          100%  912KB 911.9KB/s   00:00    \r\n",
        "\r",
        "1.052.A.rearrange.genomecoverage.txt            0%    0     0.0KB/s   --:-- ETA"
       ]
      },
      {
       "output_type": "stream",
       "stream": "stdout",
       "text": [
        "\r",
        "1.052.A.rearrange.genomecoverage.txt          100%  785KB 785.0KB/s   00:01    \r\n"
       ]
      },
      {
       "output_type": "stream",
       "stream": "stdout",
       "text": [
        "\r",
        "1.061.O.rearrange.genomecoverage.txt            0%    0     0.0KB/s   --:-- ETA"
       ]
      },
      {
       "output_type": "stream",
       "stream": "stdout",
       "text": [
        "\r",
        "1.061.O.rearrange.genomecoverage.txt          100%  762KB 762.3KB/s   00:00    \r\n",
        "\r",
        "1.067.O.rearrange.genomecoverage.txt            0%    0     0.0KB/s   --:-- ETA"
       ]
      },
      {
       "output_type": "stream",
       "stream": "stdout",
       "text": [
        "\r",
        "1.067.O.rearrange.genomecoverage.txt          100%  749KB 749.1KB/s   00:00    \r\n",
        "\r",
        "1.071.A.rearrange.genomecoverage.txt            0%    0     0.0KB/s   --:-- ETA"
       ]
      },
      {
       "output_type": "stream",
       "stream": "stdout",
       "text": [
        "\r",
        "1.071.A.rearrange.genomecoverage.txt          100%  883KB 882.8KB/s   00:00    \r\n",
        "\r",
        "1.079.O.rearrange.genomecoverage.txt            0%    0     0.0KB/s   --:-- ETA"
       ]
      },
      {
       "output_type": "stream",
       "stream": "stdout",
       "text": [
        "\r",
        "1.079.O.rearrange.genomecoverage.txt          100%  775KB 775.4KB/s   00:01    \r\n"
       ]
      },
      {
       "output_type": "stream",
       "stream": "stdout",
       "text": [
        "\r",
        "1.090.B.rearrange.genomecoverage.txt            0%    0     0.0KB/s   --:-- ETA"
       ]
      },
      {
       "output_type": "stream",
       "stream": "stdout",
       "text": [
        "\r",
        "1.090.B.rearrange.genomecoverage.txt          100%  792KB 792.4KB/s   00:00    \r\n"
       ]
      },
      {
       "output_type": "stream",
       "stream": "stdout",
       "text": [
        "\r",
        "1.091.O.rearrange.genomecoverage.txt            0%    0     0.0KB/s   --:-- ETA"
       ]
      },
      {
       "output_type": "stream",
       "stream": "stdout",
       "text": [
        "\r",
        "1.091.O.rearrange.genomecoverage.txt          100%  789KB 789.5KB/s   00:00    \r\n",
        "\r",
        "1.105.O.rearrange.genomecoverage.txt            0%    0     0.0KB/s   --:-- ETA"
       ]
      },
      {
       "output_type": "stream",
       "stream": "stdout",
       "text": [
        "\r",
        "1.105.O.rearrange.genomecoverage.txt          100%  947KB 947.0KB/s   00:01    \r\n",
        "\r",
        "1.106.O.rearrange.genomecoverage.txt            0%    0     0.0KB/s   --:-- ETA"
       ]
      },
      {
       "output_type": "stream",
       "stream": "stdout",
       "text": [
        "\r",
        "1.106.O.rearrange.genomecoverage.txt          100%  862KB 862.5KB/s   00:00    \r\n",
        "\r",
        "1.110.O.rearrange.genomecoverage.txt            0%    0     0.0KB/s   --:-- ETA"
       ]
      },
      {
       "output_type": "stream",
       "stream": "stdout",
       "text": [
        "\r",
        "1.110.O.rearrange.genomecoverage.txt          100%  686KB 686.0KB/s   00:00    \r\n",
        "\r",
        "1.112.O.rearrange.genomecoverage.txt            0%    0     0.0KB/s   --:-- ETA"
       ]
      },
      {
       "output_type": "stream",
       "stream": "stdout",
       "text": [
        "\r",
        "1.112.O.rearrange.genomecoverage.txt          100%  883KB 882.5KB/s   00:01    \r\n",
        "\r",
        "1.123.O.rearrange.genomecoverage.txt            0%    0     0.0KB/s   --:-- ETA"
       ]
      },
      {
       "output_type": "stream",
       "stream": "stdout",
       "text": [
        "\r",
        "1.123.O.rearrange.genomecoverage.txt          100%  844KB 844.0KB/s   00:01    \r\n",
        "\r",
        "1.135.O.rearrange.genomecoverage.txt            0%    0     0.0KB/s   --:-- ETA"
       ]
      },
      {
       "output_type": "stream",
       "stream": "stdout",
       "text": [
        "\r",
        "1.135.O.rearrange.genomecoverage.txt          100%  767KB 766.9KB/s   00:00    \r\n"
       ]
      },
      {
       "output_type": "stream",
       "stream": "stdout",
       "text": [
        "\r",
        "1.137.O.rearrange.genomecoverage.txt            0%    0     0.0KB/s   --:-- ETA"
       ]
      },
      {
       "output_type": "stream",
       "stream": "stdout",
       "text": [
        "\r",
        "1.137.O.rearrange.genomecoverage.txt          100%  694KB 693.6KB/s   00:00    \r\n",
        "\r",
        "1.144.O.rearrange.genomecoverage.txt            0%    0     0.0KB/s   --:-- ETA"
       ]
      },
      {
       "output_type": "stream",
       "stream": "stdout",
       "text": [
        "\r",
        "1.144.O.rearrange.genomecoverage.txt          100%  813KB 813.1KB/s   00:01    \r\n",
        "\r",
        "1.149.O.rearrange.genomecoverage.txt            0%    0     0.0KB/s   --:-- ETA"
       ]
      },
      {
       "output_type": "stream",
       "stream": "stdout",
       "text": [
        "\r",
        "1.149.O.rearrange.genomecoverage.txt          100%  889KB 888.6KB/s   00:00    \r\n"
       ]
      },
      {
       "output_type": "stream",
       "stream": "stdout",
       "text": [
        "\r",
        "1.155.O.rearrange.genomecoverage.txt            0%    0     0.0KB/s   --:-- ETA"
       ]
      },
      {
       "output_type": "stream",
       "stream": "stdout",
       "text": [
        "\r",
        "1.155.O.rearrange.genomecoverage.txt          100%  549KB 549.5KB/s   00:01    \r\n"
       ]
      },
      {
       "output_type": "stream",
       "stream": "stdout",
       "text": [
        "\r",
        "1.166.O.rearrange.genomecoverage.txt            0%    0     0.0KB/s   --:-- ETA"
       ]
      },
      {
       "output_type": "stream",
       "stream": "stdout",
       "text": [
        "\r",
        "1.166.O.rearrange.genomecoverage.txt          100%  394KB 393.7KB/s   00:00    \r\n",
        "\r",
        "1.173.O.rearrange.genomecoverage.txt            0%    0     0.0KB/s   --:-- ETA"
       ]
      },
      {
       "output_type": "stream",
       "stream": "stdout",
       "text": [
        "\r",
        "1.173.O.rearrange.genomecoverage.txt          100%  838KB 838.3KB/s   00:01    \r\n",
        "\r",
        "1.177.O.rearrange.genomecoverage.txt            0%    0     0.0KB/s   --:-- ETA"
       ]
      },
      {
       "output_type": "stream",
       "stream": "stdout",
       "text": [
        "\r",
        "1.177.O.rearrange.genomecoverage.txt          100%  832KB 832.3KB/s   00:00    \r\n",
        "\r",
        "1.184.A.rearrange.genomecoverage.txt            0%    0     0.0KB/s   --:-- ETA"
       ]
      },
      {
       "output_type": "stream",
       "stream": "stdout",
       "text": [
        "\r",
        "1.184.A.rearrange.genomecoverage.txt          100%  608KB 608.4KB/s   00:01    \r\n",
        "\r",
        "1.186.O.rearrange.genomecoverage.txt            0%    0     0.0KB/s   --:-- ETA"
       ]
      },
      {
       "output_type": "stream",
       "stream": "stdout",
       "text": [
        "\r",
        "1.186.O.rearrange.genomecoverage.txt          100%  892KB 891.7KB/s   00:01    \r\n",
        "\r",
        "1.190.O.rearrange.genomecoverage.txt            0%    0     0.0KB/s   --:-- ETA"
       ]
      },
      {
       "output_type": "stream",
       "stream": "stdout",
       "text": [
        "\r",
        "1.190.O.rearrange.genomecoverage.txt          100%  415KB 414.6KB/s   00:00    \r\n"
       ]
      },
      {
       "output_type": "stream",
       "stream": "stdout",
       "text": [
        "\r",
        "1.199.A.rearrange.genomecoverage.txt            0%    0     0.0KB/s   --:-- ETA"
       ]
      },
      {
       "output_type": "stream",
       "stream": "stdout",
       "text": [
        "\r",
        "1.199.A.rearrange.genomecoverage.txt          100%  889KB 889.1KB/s   00:01    \r\n",
        "\r",
        "1.199.B.rearrange.genomecoverage.txt            0%    0     0.0KB/s   --:-- ETA"
       ]
      },
      {
       "output_type": "stream",
       "stream": "stdout",
       "text": [
        "\r",
        "1.199.B.rearrange.genomecoverage.txt          100%  892KB 891.7KB/s   00:00    \r\n",
        "\r",
        "1.213.O.rearrange.genomecoverage.txt            0%    0     0.0KB/s   --:-- ETA"
       ]
      },
      {
       "output_type": "stream",
       "stream": "stdout",
       "text": [
        "\r",
        "1.213.O.rearrange.genomecoverage.txt          100%  777KB 776.7KB/s   00:01    \r\n",
        "\r",
        "1.214.O.rearrange.genomecoverage.txt            0%    0     0.0KB/s   --:-- ETA"
       ]
      },
      {
       "output_type": "stream",
       "stream": "stdout",
       "text": [
        "\r",
        "1.214.O.rearrange.genomecoverage.txt          100%  809KB 809.3KB/s   00:00    \r\n"
       ]
      },
      {
       "output_type": "stream",
       "stream": "stdout",
       "text": [
        "\r",
        "1.216.O.rearrange.genomecoverage.txt            0%    0     0.0KB/s   --:-- ETA"
       ]
      },
      {
       "output_type": "stream",
       "stream": "stdout",
       "text": [
        "\r",
        "1.216.O.rearrange.genomecoverage.txt          100%  757KB 756.6KB/s   00:01    \r\n",
        "\r",
        "1.236.O.rearrange.genomecoverage.txt            0%    0     0.0KB/s   --:-- ETA"
       ]
      },
      {
       "output_type": "stream",
       "stream": "stdout",
       "text": [
        "\r",
        "1.236.O.rearrange.genomecoverage.txt          100%  780KB 780.4KB/s   00:01    \r\n"
       ]
      },
      {
       "output_type": "stream",
       "stream": "stdout",
       "text": [
        "\r",
        "1.239.O.rearrange.genomecoverage.txt            0%    0     0.0KB/s   --:-- ETA"
       ]
      },
      {
       "output_type": "stream",
       "stream": "stdout",
       "text": [
        "\r",
        "1.239.O.rearrange.genomecoverage.txt          100%  706KB 705.7KB/s   00:00    \r\n"
       ]
      },
      {
       "output_type": "stream",
       "stream": "stdout",
       "text": [
        "\r",
        "1.243.O.rearrange.genomecoverage.txt            0%    0     0.0KB/s   --:-- ETA"
       ]
      },
      {
       "output_type": "stream",
       "stream": "stdout",
       "text": [
        "\r",
        "1.243.O.rearrange.genomecoverage.txt          100%  887KB 887.4KB/s   00:01    \r\n",
        "\r",
        "1.248.O.rearrange.genomecoverage.txt            0%    0     0.0KB/s   --:-- ETA"
       ]
      },
      {
       "output_type": "stream",
       "stream": "stdout",
       "text": [
        "\r",
        "1.248.O.rearrange.genomecoverage.txt          100%  933KB 932.5KB/s   00:00    \r\n",
        "\r",
        "1.256.O.rearrange.genomecoverage.txt            0%    0     0.0KB/s   --:-- ETA"
       ]
      },
      {
       "output_type": "stream",
       "stream": "stdout",
       "text": [
        "\r",
        "1.256.O.rearrange.genomecoverage.txt          100%  876KB 876.2KB/s   00:01    \r\n",
        "\r",
        "1.259.O.rearrange.genomecoverage.txt            0%    0     0.0KB/s   --:-- ETA"
       ]
      },
      {
       "output_type": "stream",
       "stream": "stdout",
       "text": [
        "\r",
        "1.259.O.rearrange.genomecoverage.txt          100%  511KB 511.4KB/s   00:01    \r\n"
       ]
      },
      {
       "output_type": "stream",
       "stream": "stdout",
       "text": [
        "\r",
        "1.263.A.rearrange.genomecoverage.txt            0%    0     0.0KB/s   --:-- ETA"
       ]
      },
      {
       "output_type": "stream",
       "stream": "stdout",
       "text": [
        "\r",
        "1.263.A.rearrange.genomecoverage.txt          100%  915KB 915.1KB/s   00:01    \r\n",
        "\r",
        "1.263.B.rearrange.genomecoverage.txt            0%    0     0.0KB/s   --:-- ETA"
       ]
      },
      {
       "output_type": "stream",
       "stream": "stdout",
       "text": [
        "\r",
        "1.263.B.rearrange.genomecoverage.txt          100%  864KB 864.2KB/s   00:01    \r\n",
        "\r",
        "1.273.O.rearrange.genomecoverage.txt            0%    0     0.0KB/s   --:-- ETA"
       ]
      },
      {
       "output_type": "stream",
       "stream": "stdout",
       "text": [
        "\r",
        "1.273.O.rearrange.genomecoverage.txt          100%  882KB 882.3KB/s   00:00    \r\n",
        "\r",
        "1.275.O.rearrange.genomecoverage.txt            0%    0     0.0KB/s   --:-- ETA"
       ]
      },
      {
       "output_type": "stream",
       "stream": "stdout",
       "text": [
        "\r",
        "1.275.O.rearrange.genomecoverage.txt          100%  693KB 692.7KB/s   00:01    \r\n"
       ]
      },
      {
       "output_type": "stream",
       "stream": "stdout",
       "text": [
        "\r",
        "1.278.O.rearrange.genomecoverage.txt            0%    0     0.0KB/s   --:-- ETA"
       ]
      },
      {
       "output_type": "stream",
       "stream": "stdout",
       "text": [
        "\r",
        "1.278.O.rearrange.genomecoverage.txt          100%  904KB 903.5KB/s   00:00    \r\n",
        "\r",
        "1.286.O.rearrange.genomecoverage.txt            0%    0     0.0KB/s   --:-- ETA"
       ]
      },
      {
       "output_type": "stream",
       "stream": "stdout",
       "text": [
        "\r",
        "1.286.O.rearrange.genomecoverage.txt          100%  901KB 900.8KB/s   00:01    \r\n"
       ]
      }
     ],
     "prompt_number": 69
    },
    {
     "cell_type": "code",
     "collapsed": false,
     "input": [
      "startpoint"
     ],
     "language": "python",
     "metadata": {},
     "outputs": [
      {
       "metadata": {},
       "output_type": "pyout",
       "prompt_number": 75,
       "text": [
        "'1.199.B.\\t33909\\n1.155.O.\\t4230\\n1.243.O.\\t15207\\n1.003.O.\\t4014\\n1.214.O.\\t24135\\n1.105.O.\\t35163\\n1.236.O.\\t24353\\n1.173.O.\\t10912\\n1.177.O.\\t4729\\n1.213.O.\\t34875\\n1.278.O.\\t48062\\n1.239.O.\\t25017\\n1.036.O.\\t40982\\n1.016.O.\\t35243\\n1.259.O.\\t12037\\n1.199.A.\\t942\\n1.013.O.\\t18532\\n1.166.O.\\t8369\\n1.256.O.\\t35014\\n1.273.O.\\t29090\\n1.263.B.\\t488\\n1.123.O.\\t45647\\n1.184.A.\\t40886\\n1.039.O.\\t44814\\n1.110.O.\\t6606\\n1.275.O.\\t6403\\n1.067.O.\\t24816\\n1.112.O.\\t46116\\n1.286.O.\\t20327\\n1.149.O.\\t40469\\n1.186.O.\\t41432\\n1.079.O.\\t28209\\n1.091.O.\\t6721\\n1.137.O.\\t14662\\n1.190.O.\\t33270\\n1.106.O.\\t18723\\n1.090.B.\\t1430\\n1.071.A.\\t32926\\n1.042.O.\\t-4191\\n1.263.A.\\t43250\\n1.135.O.\\t25288\\n1.061.O.\\t24283\\n1.216.O.\\t11376\\n1.248.O.\\t4141\\n1.144.O.\\t30659\\n1.007.O.\\t41647\\n1.052.A.\\t35944\\n'"
       ]
      }
     ],
     "prompt_number": 75
    },
    {
     "cell_type": "code",
     "collapsed": false,
     "input": [
      "%%R -i grouplist -i startpoint\n",
      "#create coverage plots for each genome\n",
      "split<-textConnection(startpoint,open=\"r\",encoding=\"UTF-8\")\n",
      "splitpoint<-read.table(split, sep=\"\\t\", header=FALSE)\n",
      "splitpoint\n",
      "for (item in grouplist){\n",
      "    row<-splitpoint[splitpoint$V1==item,]\n",
      "    filename<-paste(item,\"rearrange.genomecoverage.txt\",sep=\"\")\n",
      "    coverage<-read.table(filename, sep=\"\\t\")\n",
      "    pdf(paste(item,\"rearrange.coverage.plot.pdf\", sep=\"\"))\n",
      "    with(coverage, plot(V2, V3, type=\"n\",xlab=\"position\",ylab=\"coverage\", main=item))\n",
      "    with(coverage, lines(V2,V3))\n",
      "    points(row$V2, mean(coverage$V3), col=\"red\", pch=19, cex=1.5)\n",
      "    dev.off()\n",
      "    \n",
      "}\n",
      "\n"
     ],
     "language": "python",
     "metadata": {},
     "outputs": [],
     "prompt_number": 88
    },
    {
     "cell_type": "code",
     "collapsed": false,
     "input": [
      "for (item in grouplist){\n",
      "    filename<-paste(item,\"rearrange.genomecoverage.txt\",sep=\"\")\n",
      "    count<-count+1\n",
      "    coverage<-read.table(filename, sep=\"\\t\")\n",
      "    pdf(paste(item,\"rearrange.coverage.plot.pdf\", sep=\"\"))\n",
      "    with(coverage, plot(V2, V3, type=\"n\",xlab=\"position\",ylab=\"coverage\", main=item))\n",
      "    with(coverage, lines(V2,V3))\n",
      "    points(splitpoint$2[splitpoint$1==item,], mean(coverage$V3), col=\"red\", pch=19, cex=1.5)\n",
      "    dev.off()\n",
      "    \n",
      "}"
     ],
     "language": "python",
     "metadata": {},
     "outputs": []
    },
    {
     "cell_type": "code",
     "collapsed": false,
     "input": [],
     "language": "python",
     "metadata": {},
     "outputs": [],
     "prompt_number": 88
    },
    {
     "cell_type": "code",
     "collapsed": false,
     "input": [],
     "language": "python",
     "metadata": {},
     "outputs": []
    },
    {
     "cell_type": "code",
     "collapsed": false,
     "input": [],
     "language": "python",
     "metadata": {},
     "outputs": []
    },
    {
     "cell_type": "code",
     "collapsed": false,
     "input": [],
     "language": "python",
     "metadata": {},
     "outputs": []
    },
    {
     "cell_type": "code",
     "collapsed": false,
     "input": [],
     "language": "python",
     "metadata": {},
     "outputs": []
    },
    {
     "cell_type": "markdown",
     "metadata": {},
     "source": [
      "##Commence victory lap:"
     ]
    },
    {
     "cell_type": "code",
     "collapsed": false,
     "input": [
      "!mkdir final_genomes\n",
      "!scp jbrown@eofe4.mit.edu:/nobackup1/jbrown/nahant_phage_reads/group4/*final.fasta ./final_genomes/\n",
      "!scp jbrown@eofe4.mit.edu:/nobackup1/jbrown/nahant_phage_reads/group4/fastq.list.txt ./final_genomes/"
     ],
     "language": "python",
     "metadata": {},
     "outputs": [
      {
       "output_type": "stream",
       "stream": "stdout",
       "text": [
        "\r",
        "fastq.list.txt                                  0%    0     0.0KB/s   --:-- ETA"
       ]
      },
      {
       "output_type": "stream",
       "stream": "stdout",
       "text": [
        "\r",
        "fastq.list.txt                                100% 1286     1.3KB/s   00:00    \r\n"
       ]
      }
     ],
     "prompt_number": 47
    },
    {
     "cell_type": "markdown",
     "metadata": {},
     "source": [
      "###Re-name FASTA files for full phage name"
     ]
    },
    {
     "cell_type": "code",
     "collapsed": false,
     "input": [
      "from pyfaidx import Fasta\n",
      "\n",
      "for element in open(\"./final_genomes/fastq.list.txt\"):\n",
      "    a=element.rstrip(\"\\n\")\n",
      "    v=a.split(\"f\")\n",
      "    name=str(v[0])\n",
      "    b=v[0].split(\"_\")\n",
      "    virfile=\"./final_genomes/\"+b[0]+\"final.fasta\"\n",
      "    f=Fasta(virfile)\n",
      "    sequence=str(f[0])\n",
      "    output=open(\"./final_genomes/\"+name+\"final.fasta\",\"w\")\n",
      "    output.write(\">Vibriophage_\"+name+\"\\n\"+sequence)\n",
      "    output.close()"
     ],
     "language": "python",
     "metadata": {},
     "outputs": [],
     "prompt_number": 52
    },
    {
     "cell_type": "code",
     "collapsed": false,
     "input": [
      "!mv ./final_genomes/*10N*final* ./ToSubmit/"
     ],
     "language": "python",
     "metadata": {},
     "outputs": [
      {
       "output_type": "stream",
       "stream": "stdout",
       "text": [
        "/bin/sh: mdkir: command not found\r\n"
       ]
      }
     ],
     "prompt_number": 55
    },
    {
     "cell_type": "markdown",
     "metadata": {},
     "source": [
      "###Submit to RASTtk for annotation"
     ]
    },
    {
     "cell_type": "code",
     "collapsed": false,
     "input": [
      "import glob\n",
      "\n",
      "os.chdir(\"./ToSubmit\")\n",
      "\n",
      "f1=glob.glob(\"*.fasta\")\n",
      "out=open(\"to_gto.sh\",\"w\")\n",
      "out.write(\"mkdir ToSubmit\\n\\n\")\n",
      "for line in f1:\n",
      "    gto=line.replace(\"final.fasta\",\"\")\n",
      "    name=\"Vibriophage_\"+gto\n",
      "    out.write('rast-create-genome --scientific-name \"Vibriophage '+name+'\" --genetic-code 11 --domain Virus --contigs '+line+' > ./ToSubmit/'+gto+'gto'+\"\\n\\nsleep 5\\n\\n\")\n",
      "out.close()\n",
      "!open to_gto.sh -a textedit"
     ],
     "language": "python",
     "metadata": {},
     "outputs": [],
     "prompt_number": 56
    },
    {
     "cell_type": "code",
     "collapsed": false,
     "input": [
      "rast-process-genome-batch --workflow vir_genomes.workflow2.json ./ToSubmit\n",
      "Submission ID: 287e997c-b35d-41d4-ae8f-6100841f141a\n",
      "rast-query-genome-batch 287e997c-b35d-41d4-ae8f-6100841f141a\n",
      "mkdir RASTtk_annotated\n",
      "rast-download-genome-batch 287e997c-b35d-41d4-ae8f-6100841f141a RASTtk_annotated"
     ],
     "language": "python",
     "metadata": {},
     "outputs": []
    },
    {
     "cell_type": "code",
     "collapsed": false,
     "input": [
      "import glob\n",
      "import os\n",
      "\n",
      "os.chdir(\"/Users/jmb/Desktop/ViralFate/PhageGenomeAssembly/group4/ToSubmit/RASTtk_annotated/\")\n",
      "gtos=glob.glob(\"*gto.gto\")\n",
      "\n",
      "toconvert=open(\"gto_to_gbk.sh\",\"w\")\n",
      "todo=\"\"\n",
      "for line in gtos:\n",
      "    gbk=line.replace(\".gto.gto\",\".gbk\")\n",
      "    todo+=\"rast-export-genome genbank <\"+line+\"> \"+gbk+\"\\n\"+\"sleep 30\\n\"\n",
      "toconvert.write(todo)\n",
      "toconvert.close()\n",
      "!open gto_to_gbk.sh -a textedit"
     ],
     "language": "python",
     "metadata": {},
     "outputs": [],
     "prompt_number": 59
    },
    {
     "cell_type": "code",
     "collapsed": false,
     "input": [
      "pwd"
     ],
     "language": "python",
     "metadata": {},
     "outputs": [
      {
       "metadata": {},
       "output_type": "pyout",
       "prompt_number": 58,
       "text": [
        "u'/Users/jmb/Desktop/ViralFate/PhageGenomeAssembly/group4/ToSubmit/RASTtk_annotated'"
       ]
      }
     ],
     "prompt_number": 58
    },
    {
     "cell_type": "code",
     "collapsed": false,
     "input": [],
     "language": "python",
     "metadata": {},
     "outputs": []
    }
   ],
   "metadata": {}
  }
 ]
}