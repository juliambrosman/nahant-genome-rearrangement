{
 "metadata": {
  "name": "",
  "signature": "sha256:206428274080253c339638bd7f66a68759b62a927488bfdedee8ea4377c0e6a5"
 },
 "nbformat": 3,
 "nbformat_minor": 0,
 "worksheets": [
  {
   "cells": [
    {
     "cell_type": "code",
     "collapsed": false,
     "input": [
      "import os\n",
      "group=\"T4-like (headful)\"\n",
      "##use this script to pull out different categories of phages i wish to work with\n",
      "\n",
      "ktblast=open(\"ktblast_terminase_IDs.txt\").readlines()\n",
      "whatsleft=open(\"whats_left.txt\").read().split(\"\\n\")\n",
      "\n",
      "categories={}\n",
      "\n",
      "grouplist=[]\n",
      "\n",
      "for line in ktblast[1:]:\n",
      "    name=line.split(\",\")[0].split(\"_\")[0]\n",
      "    cat=line.split(\",\")[2].replace(\"\\n\",\"\")\n",
      "    if name in whatsleft:\n",
      "        categories[name]=cat\n",
      "\n",
      "for value in categories.keys():\n",
      "    if categories.get(value)==group:\n",
      "        grouplist.append(value)\n",
      "print(grouplist)"
     ],
     "language": "python",
     "metadata": {},
     "outputs": [
      {
       "output_type": "stream",
       "stream": "stdout",
       "text": [
        "['1.134.O.', '1.143.O.', '1.101.O.', '1.265.O.', '1.189.B.', '1.176.O.', '1.189.C.', '2.275.O.', '1.081.O.', '1.127.O.', '1.172.O.', '1.085.O.', '1.178.O.', '1.119.O.', '1.189.O.', '1.151.O.', '1.063.O.', '1.231.O.', '1.116.O.']\n"
       ]
      }
     ],
     "prompt_number": 1
    },
    {
     "cell_type": "code",
     "collapsed": false,
     "input": [
      "import os\n",
      "!mkdir T4like\n",
      "os.chdir(\"./T4like\")\n"
     ],
     "language": "python",
     "metadata": {},
     "outputs": [
      {
       "output_type": "stream",
       "stream": "stdout",
       "text": [
        "mkdir: T4like: File exists\r\n"
       ]
      }
     ],
     "prompt_number": 2
    },
    {
     "cell_type": "code",
     "collapsed": false,
     "input": [
      "len(grouplist)"
     ],
     "language": "python",
     "metadata": {},
     "outputs": [
      {
       "metadata": {},
       "output_type": "pyout",
       "prompt_number": 3,
       "text": [
        "19"
       ]
      }
     ],
     "prompt_number": 3
    },
    {
     "cell_type": "code",
     "collapsed": false,
     "input": [
      "step1c1=open(\"step1.contig1.sh\",\"w\")\n",
      "step1c1.write(\"#!/bin/bash\\n#SBATCH -n 16\\n#SBATCH -N 1\\n#SBATCH -o s1c1.out\\n#SBATCH -e s1c1.err\\n#SBATCH -p newnodes\\n\\n\")\n",
      "step1c1.write(\"module add engaging/clc-assembly-cell\\nmodule add engaging/samtools/1.1\\nmodule add engaging/bedtools/2.22.1\\n\\n\")\n",
      "for line in grouplist:\n",
      "    name=line.rstrip(\"\\n\")\n",
      "    step1c1.write(\"\\n\\n#\"+name+\"\\nclc_assembler -o \"+name+\"step1.clc.fasta -m 500 -w 64 -p fb ss 100 300 -q ../\"+ name+\"*.fastq\\n\")\n",
      "    step1c1.write(\"samtools faidx \"+name+\"step1.clc.fasta 'contig_1'>\"+name+\"step1.contig1.fasta\\n\\nclc_mapper -o \"+name+\"step1.contig1.cas -p fb ss 100 300 -q ../\"+name+\"*.fastq -d \"+name+\"step1.contig1.fasta -a local -r ignore\\n\")\n",
      "    step1c1.write(\"clc_cas_to_sam -a \"+name+\"step1.contig1.cas -o \"+name+\"step1.contig1.bam\\n\\nsamtools sort \"+name+\"step1.contig1.bam \"+name+\"sorted.step1.contig1\\nsamtools index \"+name+\"sorted.step1.contig1.bam\\n\\nbedtools genomecov -ibam \"+name+\"sorted.step1.contig1.bam -d > \"+name+\"step1.contig1.genomecoverage.txt\\n\\n\")\n",
      "    \n",
      "step1c1.close()\n",
      "!open step1.contig1.sh -a textedit"
     ],
     "language": "python",
     "metadata": {},
     "outputs": [],
     "prompt_number": 4
    },
    {
     "cell_type": "code",
     "collapsed": false,
     "input": [
      "!scp step1.contig1.sh jbrown@eofe4.mit.edu:/nobackup1/jbrown/nahant_phage_reads/T4like/"
     ],
     "language": "python",
     "metadata": {},
     "outputs": [
      {
       "output_type": "stream",
       "stream": "stdout",
       "text": [
        "\r",
        "step1.contig1.sh                                0%    0     0.0KB/s   --:-- ETA\r",
        "step1.contig1.sh                              100%   12KB  11.5KB/s   00:00    \r\n"
       ]
      }
     ],
     "prompt_number": 6
    },
    {
     "cell_type": "markdown",
     "metadata": {},
     "source": []
    },
    {
     "cell_type": "code",
     "collapsed": false,
     "input": [
      "!scp jbrown@eofe4.mit.edu:/nobackup1/jbrown/nahant_phage_reads/T4like/*step1*.fasta ./\n",
      "!scp jbrown@eofe4.mit.edu:/nobackup1/jbrown/nahant_phage_reads/T4like/*genomecoverage* ./    "
     ],
     "language": "python",
     "metadata": {},
     "outputs": [
      {
       "output_type": "stream",
       "stream": "stdout",
       "text": [
        "\r",
        "1.063.O.step1.clc.fasta                         0%    0     0.0KB/s   --:-- ETA"
       ]
      },
      {
       "output_type": "stream",
       "stream": "stdout",
       "text": [
        "\r",
        "1.063.O.step1.clc.fasta                       100%  129KB 128.9KB/s   00:00    \r\n"
       ]
      },
      {
       "output_type": "stream",
       "stream": "stdout",
       "text": [
        "\r",
        "1.063.O.step1.contig1.fasta                     0%    0     0.0KB/s   --:-- ETA"
       ]
      },
      {
       "output_type": "stream",
       "stream": "stdout",
       "text": [
        "\r",
        "1.063.O.step1.contig1.fasta                   100%  128KB 127.7KB/s   00:01    \r\n"
       ]
      },
      {
       "output_type": "stream",
       "stream": "stdout",
       "text": [
        "\r",
        "1.081.O.step1.clc.fasta                         0%    0     0.0KB/s   --:-- ETA"
       ]
      },
      {
       "output_type": "stream",
       "stream": "stdout",
       "text": [
        "\r",
        "1.081.O.step1.clc.fasta                        87%  208KB 208.0KB/s   00:00 ETA"
       ]
      },
      {
       "output_type": "stream",
       "stream": "stdout",
       "text": [
        "\r",
        "1.081.O.step1.clc.fasta                       100%  238KB 237.6KB/s   00:01    \r\n"
       ]
      },
      {
       "output_type": "stream",
       "stream": "stdout",
       "text": [
        "\r",
        "1.081.O.step1.contig1.fasta                     0%    0     0.0KB/s   --:-- ETA"
       ]
      },
      {
       "output_type": "stream",
       "stream": "stdout",
       "text": [
        "\r",
        "1.081.O.step1.contig1.fasta                    67%  160KB 160.0KB/s   00:00 ETA"
       ]
      },
      {
       "output_type": "stream",
       "stream": "stdout",
       "text": [
        "\r",
        "1.081.O.step1.contig1.fasta                    87%  208KB 148.8KB/s   00:00 ETA"
       ]
      },
      {
       "output_type": "stream",
       "stream": "stdout",
       "text": [
        "\r",
        "1.081.O.step1.contig1.fasta                   100%  238KB  79.2KB/s   00:03    \r\n"
       ]
      },
      {
       "output_type": "stream",
       "stream": "stdout",
       "text": [
        "\r",
        "1.085.O.step1.clc.fasta                         0%    0     0.0KB/s   --:-- ETA"
       ]
      },
      {
       "output_type": "stream",
       "stream": "stdout",
       "text": [
        "\r",
        "1.085.O.step1.clc.fasta                       100%   38KB  37.6KB/s   00:00    \r\n"
       ]
      },
      {
       "output_type": "stream",
       "stream": "stdout",
       "text": [
        "\r",
        "1.085.O.step1.contig1.fasta                     0%    0     0.0KB/s   --:-- ETA"
       ]
      },
      {
       "output_type": "stream",
       "stream": "stdout",
       "text": [
        "\r",
        "1.085.O.step1.contig1.fasta                   100%   38KB  37.6KB/s   00:00    \r\n"
       ]
      },
      {
       "output_type": "stream",
       "stream": "stdout",
       "text": [
        "\r",
        "1.101.O.step1.clc.fasta                         0%    0     0.0KB/s   --:-- ETA"
       ]
      },
      {
       "output_type": "stream",
       "stream": "stdout",
       "text": [
        "\r",
        "1.101.O.step1.clc.fasta                       100%  129KB 129.3KB/s   00:01    \r\n"
       ]
      },
      {
       "output_type": "stream",
       "stream": "stdout",
       "text": [
        "\r",
        "1.101.O.step1.contig1.fasta                     0%    0     0.0KB/s   --:-- ETA"
       ]
      },
      {
       "output_type": "stream",
       "stream": "stdout",
       "text": [
        "\r",
        "1.101.O.step1.contig1.fasta                   100%  129KB 129.3KB/s   00:00    \r\n",
        "\r",
        "1.116.O.step1.clc.fasta                         0%    0     0.0KB/s   --:-- ETA"
       ]
      },
      {
       "output_type": "stream",
       "stream": "stdout",
       "text": [
        "\r",
        "1.116.O.step1.clc.fasta                       100%   37KB  36.7KB/s   00:00    \r\n"
       ]
      },
      {
       "output_type": "stream",
       "stream": "stdout",
       "text": [
        "\r",
        "1.116.O.step1.contig1.fasta                     0%    0     0.0KB/s   --:-- ETA"
       ]
      },
      {
       "output_type": "stream",
       "stream": "stdout",
       "text": [
        "\r",
        "1.116.O.step1.contig1.fasta                   100%   36KB  36.1KB/s   00:00    \r\n",
        "\r",
        "1.119.O.step1.clc.fasta                         0%    0     0.0KB/s   --:-- ETA"
       ]
      },
      {
       "output_type": "stream",
       "stream": "stdout",
       "text": [
        "\r",
        "1.119.O.step1.clc.fasta                       100%   44KB  44.2KB/s   00:01    \r\n"
       ]
      },
      {
       "output_type": "stream",
       "stream": "stdout",
       "text": [
        "\r",
        "1.119.O.step1.contig1.fasta                     0%    0     0.0KB/s   --:-- ETA"
       ]
      },
      {
       "output_type": "stream",
       "stream": "stdout",
       "text": [
        "\r",
        "1.119.O.step1.contig1.fasta                   100%   44KB  44.2KB/s   00:00    \r\n",
        "\r",
        "1.127.O.step1.clc.fasta                         0%    0     0.0KB/s   --:-- ETA"
       ]
      },
      {
       "output_type": "stream",
       "stream": "stdout",
       "text": [
        "\r",
        "1.127.O.step1.clc.fasta                       100%   45KB  44.6KB/s   00:01    \r\n"
       ]
      },
      {
       "output_type": "stream",
       "stream": "stdout",
       "text": [
        "\r",
        "1.127.O.step1.contig1.fasta                     0%    0     0.0KB/s   --:-- ETA"
       ]
      },
      {
       "output_type": "stream",
       "stream": "stdout",
       "text": [
        "\r",
        "1.127.O.step1.contig1.fasta                    71%   32KB  32.0KB/s   00:00 ETA"
       ]
      },
      {
       "output_type": "stream",
       "stream": "stdout",
       "text": [
        "\r",
        "1.127.O.step1.contig1.fasta                    71%   32KB  28.8KB/s   00:00 ETA"
       ]
      },
      {
       "output_type": "stream",
       "stream": "stdout",
       "text": [
        "\r",
        "1.127.O.step1.contig1.fasta                   100%   45KB  22.3KB/s   00:02    \r\n"
       ]
      },
      {
       "output_type": "stream",
       "stream": "stdout",
       "text": [
        "\r",
        "1.134.O.step1.clc.fasta                         0%    0     0.0KB/s   --:-- ETA"
       ]
      },
      {
       "output_type": "stream",
       "stream": "stdout",
       "text": [
        "\r",
        "1.134.O.step1.clc.fasta                       100%   36KB  36.1KB/s   00:00    \r\n",
        "\r",
        "1.134.O.step1.contig1.fasta                     0%    0     0.0KB/s   --:-- ETA"
       ]
      },
      {
       "output_type": "stream",
       "stream": "stdout",
       "text": [
        "\r",
        "1.134.O.step1.contig1.fasta                   100%   36KB  36.1KB/s   00:00    \r\n"
       ]
      },
      {
       "output_type": "stream",
       "stream": "stdout",
       "text": [
        "\r",
        "1.143.O.step1.clc.fasta                         0%    0     0.0KB/s   --:-- ETA"
       ]
      },
      {
       "output_type": "stream",
       "stream": "stdout",
       "text": [
        "\r",
        "1.143.O.step1.clc.fasta                       100%   44KB  44.2KB/s   00:01    \r\n"
       ]
      },
      {
       "output_type": "stream",
       "stream": "stdout",
       "text": [
        "\r",
        "1.143.O.step1.contig1.fasta                     0%    0     0.0KB/s   --:-- ETA"
       ]
      },
      {
       "output_type": "stream",
       "stream": "stdout",
       "text": [
        "\r",
        "1.143.O.step1.contig1.fasta                   100%   44KB  44.2KB/s   00:00    \r\n"
       ]
      },
      {
       "output_type": "stream",
       "stream": "stdout",
       "text": [
        "\r",
        "1.151.O.step1.clc.fasta                         0%    0     0.0KB/s   --:-- ETA"
       ]
      },
      {
       "output_type": "stream",
       "stream": "stdout",
       "text": [
        "\r",
        "1.151.O.step1.clc.fasta                       100%   44KB  44.0KB/s   00:00    \r\n"
       ]
      },
      {
       "output_type": "stream",
       "stream": "stdout",
       "text": [
        "\r",
        "1.151.O.step1.contig1.fasta                     0%    0     0.0KB/s   --:-- ETA"
       ]
      },
      {
       "output_type": "stream",
       "stream": "stdout",
       "text": [
        "\r",
        "1.151.O.step1.contig1.fasta                   100%   44KB  44.0KB/s   00:00    \r\n"
       ]
      },
      {
       "output_type": "stream",
       "stream": "stdout",
       "text": [
        "\r",
        "1.172.O.step1.clc.fasta                         0%    0     0.0KB/s   --:-- ETA"
       ]
      },
      {
       "output_type": "stream",
       "stream": "stdout",
       "text": [
        "\r",
        "1.172.O.step1.clc.fasta                       100%   36KB  36.1KB/s   00:00    \r\n"
       ]
      },
      {
       "output_type": "stream",
       "stream": "stdout",
       "text": [
        "\r",
        "1.172.O.step1.contig1.fasta                     0%    0     0.0KB/s   --:-- ETA"
       ]
      },
      {
       "output_type": "stream",
       "stream": "stdout",
       "text": [
        "\r",
        "1.172.O.step1.contig1.fasta                   100%   36KB  36.1KB/s   00:00    \r\n",
        "\r",
        "1.176.O.step1.clc.fasta                         0%    0     0.0KB/s   --:-- ETA"
       ]
      },
      {
       "output_type": "stream",
       "stream": "stdout",
       "text": [
        "\r",
        "1.176.O.step1.clc.fasta                       100%   36KB  36.2KB/s   00:01    \r\n"
       ]
      },
      {
       "output_type": "stream",
       "stream": "stdout",
       "text": [
        "\r",
        "1.176.O.step1.contig1.fasta                     0%    0     0.0KB/s   --:-- ETA"
       ]
      },
      {
       "output_type": "stream",
       "stream": "stdout",
       "text": [
        "\r",
        "1.176.O.step1.contig1.fasta                   100%   36KB  36.2KB/s   00:00    \r\n"
       ]
      },
      {
       "output_type": "stream",
       "stream": "stdout",
       "text": [
        "\r",
        "1.178.O.step1.clc.fasta                         0%    0     0.0KB/s   --:-- ETA"
       ]
      },
      {
       "output_type": "stream",
       "stream": "stdout",
       "text": [
        "\r",
        "1.178.O.step1.clc.fasta                       100%   62KB  62.4KB/s   00:00    \r\n"
       ]
      },
      {
       "output_type": "stream",
       "stream": "stdout",
       "text": [
        "\r",
        "1.178.O.step1.contig1.fasta                     0%    0     0.0KB/s   --:-- ETA"
       ]
      },
      {
       "output_type": "stream",
       "stream": "stdout",
       "text": [
        "\r",
        "1.178.O.step1.contig1.fasta                   100%   40KB  39.7KB/s   00:00    \r\n"
       ]
      },
      {
       "output_type": "stream",
       "stream": "stdout",
       "text": [
        "\r",
        "1.189.B.step1.clc.fasta                         0%    0     0.0KB/s   --:-- ETA"
       ]
      },
      {
       "output_type": "stream",
       "stream": "stdout",
       "text": [
        "\r",
        "1.189.B.step1.clc.fasta                       100%   37KB  36.6KB/s   00:00    \r\n",
        "\r",
        "1.189.B.step1.contig1.fasta                     0%    0     0.0KB/s   --:-- ETA"
       ]
      },
      {
       "output_type": "stream",
       "stream": "stdout",
       "text": [
        "\r",
        "1.189.B.step1.contig1.fasta                   100%   37KB  36.6KB/s   00:01    \r\n"
       ]
      },
      {
       "output_type": "stream",
       "stream": "stdout",
       "text": [
        "\r",
        "1.189.C.step1.clc.fasta                         0%    0     0.0KB/s   --:-- ETA"
       ]
      },
      {
       "output_type": "stream",
       "stream": "stdout",
       "text": [
        "\r",
        "1.189.C.step1.clc.fasta                       100%   37KB  36.6KB/s   00:00    \r\n"
       ]
      },
      {
       "output_type": "stream",
       "stream": "stdout",
       "text": [
        "\r",
        "1.189.C.step1.contig1.fasta                     0%    0     0.0KB/s   --:-- ETA"
       ]
      },
      {
       "output_type": "stream",
       "stream": "stdout",
       "text": [
        "\r",
        "1.189.C.step1.contig1.fasta                   100%   37KB  36.6KB/s   00:00    \r\n",
        "\r",
        "1.189.O.step1.clc.fasta                         0%    0     0.0KB/s   --:-- ETA"
       ]
      },
      {
       "output_type": "stream",
       "stream": "stdout",
       "text": [
        "\r",
        "1.189.O.step1.clc.fasta                       100%   37KB  36.6KB/s   00:00    \r\n",
        "\r",
        "1.189.O.step1.contig1.fasta                     0%    0     0.0KB/s   --:-- ETA"
       ]
      },
      {
       "output_type": "stream",
       "stream": "stdout",
       "text": [
        "\r",
        "1.189.O.step1.contig1.fasta                   100%   37KB  36.6KB/s   00:01    \r\n"
       ]
      },
      {
       "output_type": "stream",
       "stream": "stdout",
       "text": [
        "\r",
        "1.231.O.step1.clc.fasta                         0%    0     0.0KB/s   --:-- ETA"
       ]
      },
      {
       "output_type": "stream",
       "stream": "stdout",
       "text": [
        "\r",
        "1.231.O.step1.clc.fasta                       100%   44KB  44.2KB/s   00:00    \r\n"
       ]
      },
      {
       "output_type": "stream",
       "stream": "stdout",
       "text": [
        "\r",
        "1.231.O.step1.contig1.fasta                     0%    0     0.0KB/s   --:-- ETA"
       ]
      },
      {
       "output_type": "stream",
       "stream": "stdout",
       "text": [
        "\r",
        "1.231.O.step1.contig1.fasta                   100%   44KB  44.2KB/s   00:00    \r\n",
        "\r",
        "1.265.O.step1.clc.fasta                         0%    0     0.0KB/s   --:-- ETA"
       ]
      },
      {
       "output_type": "stream",
       "stream": "stdout",
       "text": [
        "\r",
        "1.265.O.step1.clc.fasta                       100%   43KB  43.3KB/s   00:00    \r\n",
        "\r",
        "1.265.O.step1.contig1.fasta                     0%    0     0.0KB/s   --:-- ETA"
       ]
      },
      {
       "output_type": "stream",
       "stream": "stdout",
       "text": [
        "\r",
        "1.265.O.step1.contig1.fasta                   100%   43KB  43.3KB/s   00:00    \r\n"
       ]
      },
      {
       "output_type": "stream",
       "stream": "stdout",
       "text": [
        "\r",
        "2.275.O.step1.clc.fasta                         0%    0     0.0KB/s   --:-- ETA"
       ]
      },
      {
       "output_type": "stream",
       "stream": "stdout",
       "text": [
        "\r",
        "2.275.O.step1.clc.fasta                        69%  240KB 240.0KB/s   00:00 ETA"
       ]
      },
      {
       "output_type": "stream",
       "stream": "stdout",
       "text": [
        "\r",
        "2.275.O.step1.clc.fasta                       100%  347KB 173.3KB/s   00:02    \r\n"
       ]
      },
      {
       "output_type": "stream",
       "stream": "stdout",
       "text": [
        "\r",
        "2.275.O.step1.contig1.fasta                     0%    0     0.0KB/s   --:-- ETA"
       ]
      },
      {
       "output_type": "stream",
       "stream": "stdout",
       "text": [
        "\r",
        "2.275.O.step1.contig1.fasta                    50%  160KB 160.0KB/s   00:00 ETA"
       ]
      },
      {
       "output_type": "stream",
       "stream": "stdout",
       "text": [
        "\r",
        "2.275.O.step1.contig1.fasta                   100%  317KB 158.6KB/s   00:02    \r\n"
       ]
      },
      {
       "output_type": "stream",
       "stream": "stdout",
       "text": [
        "\r",
        "1.063.O.step1.contig1.genomecoverage.txt        0%    0     0.0KB/s   --:-- ETA"
       ]
      },
      {
       "output_type": "stream",
       "stream": "stdout",
       "text": [
        "\r",
        "1.063.O.step1.contig1.genomecoverage.txt        8%  208KB 208.0KB/s   00:10 ETA"
       ]
      },
      {
       "output_type": "stream",
       "stream": "stdout",
       "text": [
        "\r",
        "1.063.O.step1.contig1.genomecoverage.txt       17%  432KB 209.6KB/s   00:09 ETA"
       ]
      },
      {
       "output_type": "stream",
       "stream": "stdout",
       "text": [
        "\r",
        "1.063.O.step1.contig1.genomecoverage.txt       25%  624KB 207.8KB/s   00:08 ETA"
       ]
      },
      {
       "output_type": "stream",
       "stream": "stdout",
       "text": [
        "\r",
        "1.063.O.step1.contig1.genomecoverage.txt       35%  848KB 209.5KB/s   00:07 ETA"
       ]
      },
      {
       "output_type": "stream",
       "stream": "stdout",
       "text": [
        "\r",
        "1.063.O.step1.contig1.genomecoverage.txt       47% 1136KB 217.3KB/s   00:05 ETA"
       ]
      },
      {
       "output_type": "stream",
       "stream": "stdout",
       "text": [
        "\r",
        "1.063.O.step1.contig1.genomecoverage.txt       63% 1520KB 234.0KB/s   00:03 ETA"
       ]
      },
      {
       "output_type": "stream",
       "stream": "stdout",
       "text": [
        "\r",
        "1.063.O.step1.contig1.genomecoverage.txt       81% 1968KB 255.4KB/s   00:01 ETA"
       ]
      },
      {
       "output_type": "stream",
       "stream": "stdout",
       "text": [
        "\r",
        "1.063.O.step1.contig1.genomecoverage.txt       97% 2352KB 268.2KB/s   00:00 ETA"
       ]
      },
      {
       "output_type": "stream",
       "stream": "stdout",
       "text": [
        "\r",
        "1.063.O.step1.contig1.genomecoverage.txt      100% 2404KB 300.5KB/s   00:08    \r\n"
       ]
      },
      {
       "output_type": "stream",
       "stream": "stdout",
       "text": [
        "\r",
        "1.081.O.step1.contig1.genomecoverage.txt        0%    0     0.0KB/s   --:-- ETA"
       ]
      },
      {
       "output_type": "stream",
       "stream": "stdout",
       "text": [
        "\r",
        "1.081.O.step1.contig1.genomecoverage.txt        6%  304KB 304.0KB/s   00:13 ETA"
       ]
      },
      {
       "output_type": "stream",
       "stream": "stdout",
       "text": [
        "\r",
        "1.081.O.step1.contig1.genomecoverage.txt       12%  560KB 299.2KB/s   00:12 ETA"
       ]
      },
      {
       "output_type": "stream",
       "stream": "stdout",
       "text": [
        "\r",
        "1.081.O.step1.contig1.genomecoverage.txt       17%  784KB 291.7KB/s   00:12 ETA"
       ]
      },
      {
       "output_type": "stream",
       "stream": "stdout",
       "text": [
        "\r",
        "1.081.O.step1.contig1.genomecoverage.txt       26% 1136KB 297.7KB/s   00:10 ETA"
       ]
      },
      {
       "output_type": "stream",
       "stream": "stdout",
       "text": [
        "\r",
        "1.081.O.step1.contig1.genomecoverage.txt       42% 1840KB 338.3KB/s   00:07 ETA"
       ]
      },
      {
       "output_type": "stream",
       "stream": "stdout",
       "text": [
        "\r",
        "1.081.O.step1.contig1.genomecoverage.txt       55% 2416KB 362.1KB/s   00:05 ETA"
       ]
      },
      {
       "output_type": "stream",
       "stream": "stdout",
       "text": [
        "\r",
        "1.081.O.step1.contig1.genomecoverage.txt       65% 2864KB 370.7KB/s   00:04 ETA"
       ]
      },
      {
       "output_type": "stream",
       "stream": "stdout",
       "text": [
        "\r",
        "1.081.O.step1.contig1.genomecoverage.txt       75% 3312KB 378.4KB/s   00:02 ETA"
       ]
      },
      {
       "output_type": "stream",
       "stream": "stdout",
       "text": [
        "\r",
        "1.081.O.step1.contig1.genomecoverage.txt       85% 3728KB 382.2KB/s   00:01 ETA"
       ]
      },
      {
       "output_type": "stream",
       "stream": "stdout",
       "text": [
        "\r",
        "1.081.O.step1.contig1.genomecoverage.txt       90% 3952KB 366.4KB/s   00:01 ETA"
       ]
      },
      {
       "output_type": "stream",
       "stream": "stdout",
       "text": [
        "\r",
        "1.081.O.step1.contig1.genomecoverage.txt       92% 4048KB 339.3KB/s   00:00 ETA"
       ]
      },
      {
       "output_type": "stream",
       "stream": "stdout",
       "text": [
        "\r",
        "1.081.O.step1.contig1.genomecoverage.txt      100% 4367KB 363.9KB/s   00:12    \r\n",
        "\r",
        "1.085.O.step1.contig1.genomecoverage.txt        0%    0     0.0KB/s   --:-- ETA"
       ]
      },
      {
       "output_type": "stream",
       "stream": "stdout",
       "text": [
        "\r",
        "1.085.O.step1.contig1.genomecoverage.txt       74%  512KB 512.0KB/s   00:00 ETA"
       ]
      },
      {
       "output_type": "stream",
       "stream": "stdout",
       "text": [
        "\r",
        "1.085.O.step1.contig1.genomecoverage.txt      100%  691KB 690.9KB/s   00:01    \r\n"
       ]
      },
      {
       "output_type": "stream",
       "stream": "stdout",
       "text": [
        "\r",
        "1.101.O.step1.contig1.genomecoverage.txt        0%    0     0.0KB/s   --:-- ETA"
       ]
      },
      {
       "output_type": "stream",
       "stream": "stdout",
       "text": [
        "\r",
        "1.101.O.step1.contig1.genomecoverage.txt       19%  448KB 448.0KB/s   00:04 ETA"
       ]
      },
      {
       "output_type": "stream",
       "stream": "stdout",
       "text": [
        "\r",
        "1.101.O.step1.contig1.genomecoverage.txt       34%  800KB 438.4KB/s   00:03 ETA"
       ]
      },
      {
       "output_type": "stream",
       "stream": "stdout",
       "text": [
        "\r",
        "1.101.O.step1.contig1.genomecoverage.txt       52% 1216KB 436.2KB/s   00:02 ETA"
       ]
      },
      {
       "output_type": "stream",
       "stream": "stdout",
       "text": [
        "\r",
        "1.101.O.step1.contig1.genomecoverage.txt       73% 1696KB 440.5KB/s   00:01 ETA"
       ]
      },
      {
       "output_type": "stream",
       "stream": "stdout",
       "text": [
        "\r",
        "1.101.O.step1.contig1.genomecoverage.txt       95% 2208KB 447.7KB/s   00:00 ETA"
       ]
      },
      {
       "output_type": "stream",
       "stream": "stdout",
       "text": [
        "\r",
        "1.101.O.step1.contig1.genomecoverage.txt      100% 2308KB 461.7KB/s   00:05    \r\n",
        "\r",
        "1.116.O.step1.contig1.genomecoverage.txt        0%    0     0.0KB/s   --:-- ETA"
       ]
      },
      {
       "output_type": "stream",
       "stream": "stdout",
       "text": [
        "\r",
        "1.116.O.step1.contig1.genomecoverage.txt       82%  544KB 544.0KB/s   00:00 ETA"
       ]
      },
      {
       "output_type": "stream",
       "stream": "stdout",
       "text": [
        "\r",
        "1.116.O.step1.contig1.genomecoverage.txt      100%  663KB 662.9KB/s   00:01    \r\n"
       ]
      },
      {
       "output_type": "stream",
       "stream": "stdout",
       "text": [
        "\r",
        "1.119.O.step1.contig1.genomecoverage.txt        0%    0     0.0KB/s   --:-- ETA"
       ]
      },
      {
       "output_type": "stream",
       "stream": "stdout",
       "text": [
        "\r",
        "1.119.O.step1.contig1.genomecoverage.txt       47%  384KB 384.0KB/s   00:01 ETA"
       ]
      },
      {
       "output_type": "stream",
       "stream": "stdout",
       "text": [
        "\r",
        "1.119.O.step1.contig1.genomecoverage.txt       82%  672KB 374.4KB/s   00:00 ETA"
       ]
      },
      {
       "output_type": "stream",
       "stream": "stdout",
       "text": [
        "\r",
        "1.119.O.step1.contig1.genomecoverage.txt      100%  815KB 271.7KB/s   00:03    \r\n"
       ]
      },
      {
       "output_type": "stream",
       "stream": "stdout",
       "text": [
        "\r",
        "1.127.O.step1.contig1.genomecoverage.txt        0%    0     0.0KB/s   --:-- ETA"
       ]
      },
      {
       "output_type": "stream",
       "stream": "stdout",
       "text": [
        "\r",
        "1.127.O.step1.contig1.genomecoverage.txt       38%  320KB 320.0KB/s   00:01 ETA"
       ]
      },
      {
       "output_type": "stream",
       "stream": "stdout",
       "text": [
        "\r",
        "1.127.O.step1.contig1.genomecoverage.txt       77%  640KB 320.0KB/s   00:00 ETA"
       ]
      },
      {
       "output_type": "stream",
       "stream": "stdout",
       "text": [
        "\r",
        "1.127.O.step1.contig1.genomecoverage.txt      100%  822KB 411.3KB/s   00:02    \r\n"
       ]
      },
      {
       "output_type": "stream",
       "stream": "stdout",
       "text": [
        "\r",
        "1.134.O.step1.contig1.genomecoverage.txt        0%    0     0.0KB/s   --:-- ETA"
       ]
      },
      {
       "output_type": "stream",
       "stream": "stdout",
       "text": [
        "\r",
        "1.134.O.step1.contig1.genomecoverage.txt       48%  320KB 320.0KB/s   00:01 ETA"
       ]
      },
      {
       "output_type": "stream",
       "stream": "stdout",
       "text": [
        "\r",
        "1.134.O.step1.contig1.genomecoverage.txt       91%  608KB 316.8KB/s   00:00 ETA"
       ]
      },
      {
       "output_type": "stream",
       "stream": "stdout",
       "text": [
        "\r",
        "1.134.O.step1.contig1.genomecoverage.txt      100%  664KB 221.3KB/s   00:03    \r\n"
       ]
      },
      {
       "output_type": "stream",
       "stream": "stdout",
       "text": [
        "\r",
        "1.143.O.step1.contig1.genomecoverage.txt        0%    0     0.0KB/s   --:-- ETA"
       ]
      },
      {
       "output_type": "stream",
       "stream": "stdout",
       "text": [
        "\r",
        "1.143.O.step1.contig1.genomecoverage.txt       47%  384KB 384.0KB/s   00:01 ETA"
       ]
      },
      {
       "output_type": "stream",
       "stream": "stdout",
       "text": [
        "\r",
        "1.143.O.step1.contig1.genomecoverage.txt       78%  640KB 371.2KB/s   00:00 ETA"
       ]
      },
      {
       "output_type": "stream",
       "stream": "stdout",
       "text": [
        "\r",
        "1.143.O.step1.contig1.genomecoverage.txt      100%  815KB 407.7KB/s   00:02    \r\n"
       ]
      },
      {
       "output_type": "stream",
       "stream": "stdout",
       "text": [
        "\r",
        "1.151.O.step1.contig1.genomecoverage.txt        0%    0     0.0KB/s   --:-- ETA"
       ]
      },
      {
       "output_type": "stream",
       "stream": "stdout",
       "text": [
        "\r",
        "1.151.O.step1.contig1.genomecoverage.txt       28%  224KB 224.0KB/s   00:02 ETA"
       ]
      },
      {
       "output_type": "stream",
       "stream": "stdout",
       "text": [
        "\r",
        "1.151.O.step1.contig1.genomecoverage.txt       84%  672KB 246.4KB/s   00:00 ETA"
       ]
      },
      {
       "output_type": "stream",
       "stream": "stdout",
       "text": [
        "\r",
        "1.151.O.step1.contig1.genomecoverage.txt      100%  794KB 397.0KB/s   00:02    \r\n",
        "\r",
        "1.172.O.step1.contig1.genomecoverage.txt        0%    0     0.0KB/s   --:-- ETA"
       ]
      },
      {
       "output_type": "stream",
       "stream": "stdout",
       "text": [
        "\r",
        "1.172.O.step1.contig1.genomecoverage.txt       86%  576KB 576.0KB/s   00:00 ETA"
       ]
      },
      {
       "output_type": "stream",
       "stream": "stdout",
       "text": [
        "\r",
        "1.172.O.step1.contig1.genomecoverage.txt      100%  663KB 331.5KB/s   00:02    \r\n",
        "\r",
        "1.176.O.step1.contig1.genomecoverage.txt        0%    0     0.0KB/s   --:-- ETA"
       ]
      },
      {
       "output_type": "stream",
       "stream": "stdout",
       "text": [
        "\r",
        "1.176.O.step1.contig1.genomecoverage.txt       77%  512KB 512.0KB/s   00:00 ETA"
       ]
      },
      {
       "output_type": "stream",
       "stream": "stdout",
       "text": [
        "\r",
        "1.176.O.step1.contig1.genomecoverage.txt      100%  663KB 663.2KB/s   00:01    \r\n",
        "\r",
        "1.178.O.step1.contig1.genomecoverage.txt        0%    0     0.0KB/s   --:-- ETA"
       ]
      },
      {
       "output_type": "stream",
       "stream": "stdout",
       "text": [
        "\r",
        "1.178.O.step1.contig1.genomecoverage.txt       92%  672KB 672.0KB/s   00:00 ETA"
       ]
      },
      {
       "output_type": "stream",
       "stream": "stdout",
       "text": [
        "\r",
        "1.178.O.step1.contig1.genomecoverage.txt      100%  730KB 730.1KB/s   00:01    \r\n",
        "\r",
        "1.189.B.step1.contig1.genomecoverage.txt        0%    0     0.0KB/s   --:-- ETA"
       ]
      },
      {
       "output_type": "stream",
       "stream": "stdout",
       "text": [
        "\r",
        "1.189.B.step1.contig1.genomecoverage.txt       85%  576KB 576.0KB/s   00:00 ETA"
       ]
      },
      {
       "output_type": "stream",
       "stream": "stdout",
       "text": [
        "\r",
        "1.189.B.step1.contig1.genomecoverage.txt      100%  673KB 673.0KB/s   00:01    \r\n",
        "\r",
        "1.189.C.step1.contig1.genomecoverage.txt        0%    0     0.0KB/s   --:-- ETA"
       ]
      },
      {
       "output_type": "stream",
       "stream": "stdout",
       "text": [
        "\r",
        "1.189.C.step1.contig1.genomecoverage.txt      100%  673KB 673.0KB/s   00:01    \r\n",
        "\r",
        "1.189.O.step1.contig1.genomecoverage.txt        0%    0     0.0KB/s   --:-- ETA"
       ]
      },
      {
       "output_type": "stream",
       "stream": "stdout",
       "text": [
        "\r",
        "1.189.O.step1.contig1.genomecoverage.txt      100%  673KB 673.0KB/s   00:01    \r\n"
       ]
      },
      {
       "output_type": "stream",
       "stream": "stdout",
       "text": [
        "\r",
        "1.231.O.step1.contig1.genomecoverage.txt        0%    0     0.0KB/s   --:-- ETA"
       ]
      },
      {
       "output_type": "stream",
       "stream": "stdout",
       "text": [
        "\r",
        "1.231.O.step1.contig1.genomecoverage.txt       52%  448KB 448.0KB/s   00:00 ETA"
       ]
      },
      {
       "output_type": "stream",
       "stream": "stdout",
       "text": [
        "\r",
        "1.231.O.step1.contig1.genomecoverage.txt       97%  832KB 441.6KB/s   00:00 ETA"
       ]
      },
      {
       "output_type": "stream",
       "stream": "stdout",
       "text": [
        "\r",
        "1.231.O.step1.contig1.genomecoverage.txt      100%  852KB 426.1KB/s   00:02    \r\n",
        "\r",
        "1.265.O.step1.contig1.genomecoverage.txt        0%    0     0.0KB/s   --:-- ETA"
       ]
      },
      {
       "output_type": "stream",
       "stream": "stdout",
       "text": [
        "\r",
        "1.265.O.step1.contig1.genomecoverage.txt        8%   64KB  64.0KB/s   00:11 ETA"
       ]
      },
      {
       "output_type": "stream",
       "stream": "stdout",
       "text": [
        "\r",
        "1.265.O.step1.contig1.genomecoverage.txt        8%   64KB  57.6KB/s   00:12 ETA"
       ]
      },
      {
       "output_type": "stream",
       "stream": "stdout",
       "text": [
        "\r",
        "1.265.O.step1.contig1.genomecoverage.txt       14%  112KB  56.6KB/s   00:12 ETA"
       ]
      },
      {
       "output_type": "stream",
       "stream": "stdout",
       "text": [
        "\r",
        "1.265.O.step1.contig1.genomecoverage.txt       52%  416KB  81.4KB/s   00:04 ETA"
       ]
      },
      {
       "output_type": "stream",
       "stream": "stdout",
       "text": [
        "\r",
        "1.265.O.step1.contig1.genomecoverage.txt       96%  768KB 108.4KB/s   00:00 ETA"
       ]
      },
      {
       "output_type": "stream",
       "stream": "stdout",
       "text": [
        "\r",
        "1.265.O.step1.contig1.genomecoverage.txt      100%  799KB 159.7KB/s   00:05    \r\n"
       ]
      },
      {
       "output_type": "stream",
       "stream": "stdout",
       "text": [
        "\r",
        "2.275.O.step1.contig1.genomecoverage.txt        0%    0     0.0KB/s   --:-- ETA"
       ]
      },
      {
       "output_type": "stream",
       "stream": "stdout",
       "text": [
        "\r",
        "2.275.O.step1.contig1.genomecoverage.txt        4%  288KB 288.0KB/s   00:19 ETA"
       ]
      },
      {
       "output_type": "stream",
       "stream": "stdout",
       "text": [
        "\r",
        "2.275.O.step1.contig1.genomecoverage.txt        7%  416KB 272.0KB/s   00:19 ETA"
       ]
      },
      {
       "output_type": "stream",
       "stream": "stdout",
       "text": [
        "\r",
        "2.275.O.step1.contig1.genomecoverage.txt       10%  640KB 267.2KB/s   00:19 ETA"
       ]
      },
      {
       "output_type": "stream",
       "stream": "stdout",
       "text": [
        "\r",
        "2.275.O.step1.contig1.genomecoverage.txt       18% 1088KB 285.3KB/s   00:16 ETA"
       ]
      },
      {
       "output_type": "stream",
       "stream": "stdout",
       "text": [
        "\r",
        "2.275.O.step1.contig1.genomecoverage.txt       27% 1600KB 308.0KB/s   00:13 ETA"
       ]
      },
      {
       "output_type": "stream",
       "stream": "stdout",
       "text": [
        "\r",
        "2.275.O.step1.contig1.genomecoverage.txt       34% 2016KB 318.8KB/s   00:11 ETA"
       ]
      },
      {
       "output_type": "stream",
       "stream": "stdout",
       "text": [
        "\r",
        "2.275.O.step1.contig1.genomecoverage.txt       43% 2528KB 338.1KB/s   00:09 ETA"
       ]
      },
      {
       "output_type": "stream",
       "stream": "stdout",
       "text": [
        "\r",
        "2.275.O.step1.contig1.genomecoverage.txt       48% 2848KB 336.3KB/s   00:08 ETA"
       ]
      },
      {
       "output_type": "stream",
       "stream": "stdout",
       "text": [
        "\r",
        "2.275.O.step1.contig1.genomecoverage.txt       53% 3104KB 328.2KB/s   00:08 ETA"
       ]
      },
      {
       "output_type": "stream",
       "stream": "stdout",
       "text": [
        "\r",
        "2.275.O.step1.contig1.genomecoverage.txt       58% 3424KB 327.4KB/s   00:07 ETA"
       ]
      },
      {
       "output_type": "stream",
       "stream": "stdout",
       "text": [
        "\r",
        "2.275.O.step1.contig1.genomecoverage.txt       65% 3840KB 336.3KB/s   00:05 ETA"
       ]
      },
      {
       "output_type": "stream",
       "stream": "stdout",
       "text": [
        "\r",
        "2.275.O.step1.contig1.genomecoverage.txt       68% 4000KB 318.7KB/s   00:05 ETA"
       ]
      },
      {
       "output_type": "stream",
       "stream": "stdout",
       "text": [
        "\r",
        "2.275.O.step1.contig1.genomecoverage.txt       75% 4384KB 325.2KB/s   00:04 ETA"
       ]
      },
      {
       "output_type": "stream",
       "stream": "stdout",
       "text": [
        "\r",
        "2.275.O.step1.contig1.genomecoverage.txt       81% 4736KB 327.9KB/s   00:03 ETA"
       ]
      },
      {
       "output_type": "stream",
       "stream": "stdout",
       "text": [
        "\r",
        "2.275.O.step1.contig1.genomecoverage.txt       86% 5056KB 327.1KB/s   00:02 ETA"
       ]
      },
      {
       "output_type": "stream",
       "stream": "stdout",
       "text": [
        "\r",
        "2.275.O.step1.contig1.genomecoverage.txt       91% 5344KB 323.2KB/s   00:01 ETA"
       ]
      },
      {
       "output_type": "stream",
       "stream": "stdout",
       "text": [
        "\r",
        "2.275.O.step1.contig1.genomecoverage.txt       98% 5728KB 329.3KB/s   00:00 ETA"
       ]
      },
      {
       "output_type": "stream",
       "stream": "stdout",
       "text": [
        "\r",
        "2.275.O.step1.contig1.genomecoverage.txt      100% 5825KB 342.7KB/s   00:17    \r\n"
       ]
      }
     ],
     "prompt_number": 11
    },
    {
     "cell_type": "code",
     "collapsed": false,
     "input": [
      "%load_ext rmagic\n",
      "%R library(dplyr); library(ggplot2)"
     ],
     "language": "python",
     "metadata": {},
     "outputs": [
      {
       "metadata": {},
       "output_type": "display_data",
       "text": [
        "\n",
        "Attaching package: \u2018dplyr\u2019\n",
        "\n",
        "The following object is masked from \u2018package:stats\u2019:\n",
        "\n",
        "    filter\n",
        "\n",
        "The following objects are masked from \u2018package:base\u2019:\n",
        "\n",
        "    intersect, setdiff, setequal, union\n",
        "\n"
       ]
      },
      {
       "metadata": {},
       "output_type": "pyout",
       "prompt_number": 3,
       "text": [
        "array(['ggplot2', 'dplyr', 'tools', 'stats', 'graphics', 'grDevices',\n",
        "       'utils', 'datasets', 'methods', 'base'], \n",
        "      dtype='|S9')"
       ]
      }
     ],
     "prompt_number": 3
    },
    {
     "cell_type": "code",
     "collapsed": false,
     "input": [
      "%%R -i grouplist\n",
      "#create coverage plots for each genome\n",
      "for (item in grouplist){\n",
      "    filename<-paste(item,\"step1.contig1.genomecoverage.txt\",sep=\"\")\n",
      "    coverage<-read.table(filename, sep=\"\\t\")\n",
      "    pdf(paste(item,\"step1.contig1.coverage.plot.pdf\", sep=\"\"))\n",
      "    with(coverage, plot(V2, V3, type=\"n\",xlab=\"position\",ylab=\"coverage\", main=item))\n",
      "    with(coverage, lines(V2,V3))\n",
      "    dev.off()\n",
      "}"
     ],
     "language": "python",
     "metadata": {},
     "outputs": [],
     "prompt_number": 12
    },
    {
     "cell_type": "code",
     "collapsed": false,
     "input": [
      "from pyfaidx import Fasta\n",
      "#explore sequence information\n",
      "contiginfo=\"virname\\tcontig\\tcontig_len\\tvir_contig\\n\"\n",
      "for phage in grouplist:   #set up the name of the virus\n",
      "    fasta1=phage+\"step1.clc.fasta\"\n",
      "    f=Fasta(fasta1)\n",
      "    for seq in f.keys():\n",
      "        seqlen=len(str(f[seq]))\n",
      "        contigname=seq\n",
      "        contiginfo+=(phage+\"\\t\"+contigname+\"\\t\"+str(seqlen)+\"\\t\"+phage+\":\"+contigname+\"\\n\")"
     ],
     "language": "python",
     "metadata": {},
     "outputs": [],
     "prompt_number": 4
    },
    {
     "cell_type": "code",
     "collapsed": false,
     "input": [
      "%%R -i contiginfo\n",
      "contig<-textConnection(contiginfo,open=\"r\",encoding=\"UTF-8\")\n",
      "contigtable<-read.table(contig, sep=\"\\t\", header=TRUE)\n",
      "#?textConnection\n",
      "str(contigtable)\n",
      "with(contigtable, hist(log(contig_len,10), breaks=10, col=\"green\"))\n",
      "with(contigtable, summary(contig_len))"
     ],
     "language": "python",
     "metadata": {},
     "outputs": [
      {
       "metadata": {},
       "output_type": "display_data",
       "text": [
        "'data.frame':\t51 obs. of  4 variables:\n",
        " $ virname   : Factor w/ 19 levels \"1.063.O.\",\"1.081.O.\",..: 8 9 4 18 14 12 15 19 19 2 ...\n",
        " $ contig    : Factor w/ 29 levels \"contig_1\",\"contig_10\",..: 1 1 1 1 1 1 1 1 12 1 ...\n",
        " $ contig_len: int  36379 44527 130250 43630 36855 36463 36855 319549 29551 239318 ...\n",
        " $ vir_contig: Factor w/ 51 levels \"1.063.O.:contig_1\",..: 11 12 6 49 45 15 46 50 51 4 ...\n",
        "   Min. 1st Qu.  Median    Mean 3rd Qu.    Max. \n",
        "    529     676     994   28860   36860  319500 \n"
       ]
      },
      {
       "metadata": {},
       "output_type": "display_data",
       "png": "[encoded data removed]"
      }
     ],
     "prompt_number": 9
    },
    {
     "cell_type": "code",
     "collapsed": false,
     "input": [
      "%%R\n",
      "ci2<-filter(contigtable, contig==c(\"contig_1\",\"contig_2\",\"contig_3\",\"contig_4\",\"contig_5\",\"contig_6\",\"contig_7\",\"contig_8\",\"contig_9\"))\n",
      "ci2$contig<-as.character(ci2$contig)\n",
      "#data.frame(ci2)->ci2\n",
      "qplot(contig,contig_len, data=ci2, geom=c(\"boxplot\", \"jitter\"),\n",
      "   fill=contig, main=\"Contig Size By Number\",\n",
      "   xlab=\"\", ylab=\"Contig Length\")"
     ],
     "language": "python",
     "metadata": {},
     "outputs": [
      {
       "metadata": {},
       "output_type": "display_data",
       "png": "[encoded data removed]"
      }
     ],
     "prompt_number": 6
    },
    {
     "cell_type": "code",
     "collapsed": false,
     "input": [],
     "language": "python",
     "metadata": {},
     "outputs": [
      {
       "metadata": {},
       "output_type": "display_data",
       "text": [
        "[1] 511.2801\n"
       ]
      }
     ],
     "prompt_number": 54
    },
    {
     "cell_type": "code",
     "collapsed": false,
     "input": [],
     "language": "python",
     "metadata": {},
     "outputs": [],
     "prompt_number": 22
    },
    {
     "cell_type": "markdown",
     "metadata": {},
     "source": [
      "###Next, I'm going to run prodigal and extract amino acid sequences of all ORFs and blast those against the terminase database to determine which ORF encodes a terminase and what that ORF's orientation is on this original contig"
     ]
    },
    {
     "cell_type": "code",
     "collapsed": false,
     "input": [
      "groupfile=grouplist\n",
      "prodigal=open(\"prodigal.sh\",\"w\")\n",
      "prodigal.write(\"#!/bin/bash\\n#SBATCH -n 16\\n#SBATCH -N 1\\n#SBATCH -o prodigal.out\\n#SBATCH -e prodigal.err\\n#SBATCH -p newnodes\\n\\n\")\n",
      "prodigal.write(\"module add engaging/prodigal/2.6.1\\n\\n\")\n",
      "for line in groupfile:\n",
      "    prodigal.write(\"prodigal -i \"+line+\"step1.contig1.fasta -o \"+line+\"genes -a \"+line+\"proteins.faa -p meta\\n\")\n",
      "prodigal.close()\n",
      "!open prodigal.sh -a textedit"
     ],
     "language": "python",
     "metadata": {},
     "outputs": [],
     "prompt_number": 5
    },
    {
     "cell_type": "code",
     "collapsed": false,
     "input": [
      "!scp prodigal.sh jbrown@eofe4.mit.edu:/nobackup1/jbrown/nahant_phage_reads/T4like/"
     ],
     "language": "python",
     "metadata": {},
     "outputs": [
      {
       "output_type": "stream",
       "stream": "stdout",
       "text": [
        "\r",
        "prodigal.sh                                     0%    0     0.0KB/s   --:-- ETA\r",
        "prodigal.sh                                   100% 1835     1.8KB/s   00:00    \r\n"
       ]
      }
     ],
     "prompt_number": 6
    },
    {
     "cell_type": "code",
     "collapsed": false,
     "input": [
      "!scp jbrown@eofe4.mit.edu:/nobackup1/jbrown/nahant_phage_reads/T4like/*genes ./"
     ],
     "language": "python",
     "metadata": {},
     "outputs": [
      {
       "output_type": "stream",
       "stream": "stdout",
       "text": [
        "The history saving thread hit an unexpected error (OperationalError('database is locked',)).History will not be written to the database.\n"
       ]
      },
      {
       "output_type": "stream",
       "stream": "stdout",
       "text": [
        "\r",
        "1.063.O.genes                                   0%    0     0.0KB/s   --:-- ETA"
       ]
      },
      {
       "output_type": "stream",
       "stream": "stdout",
       "text": [
        "\r",
        "1.063.O.genes                                 100%   55KB  54.6KB/s   00:00    \r\n"
       ]
      },
      {
       "output_type": "stream",
       "stream": "stdout",
       "text": [
        "\r",
        "1.081.O.genes                                   0%    0     0.0KB/s   --:-- ETA"
       ]
      },
      {
       "output_type": "stream",
       "stream": "stdout",
       "text": [
        "\r",
        "1.081.O.genes                                 100%   86KB  86.0KB/s   00:00    \r\n"
       ]
      },
      {
       "output_type": "stream",
       "stream": "stdout",
       "text": [
        "\r",
        "1.085.O.genes                                   0%    0     0.0KB/s   --:-- ETA\r",
        "1.085.O.genes                                 100%   15KB  14.6KB/s   00:00    \r\n"
       ]
      },
      {
       "output_type": "stream",
       "stream": "stdout",
       "text": [
        "\r",
        "1.101.O.genes                                   0%    0     0.0KB/s   --:-- ETA\r",
        "1.101.O.genes                                 100%   53KB  53.2KB/s   00:00    \r\n"
       ]
      },
      {
       "output_type": "stream",
       "stream": "stdout",
       "text": [
        "\r",
        "1.116.O.genes                                   0%    0     0.0KB/s   --:-- ETA\r",
        "1.116.O.genes                                 100%   15KB  14.8KB/s   00:00    \r\n"
       ]
      },
      {
       "output_type": "stream",
       "stream": "stdout",
       "text": [
        "\r",
        "1.119.O.genes                                   0%    0     0.0KB/s   --:-- ETA\r",
        "1.119.O.genes                                 100%   18KB  18.0KB/s   00:00    \r\n"
       ]
      },
      {
       "output_type": "stream",
       "stream": "stdout",
       "text": [
        "\r",
        "1.127.O.genes                                   0%    0     0.0KB/s   --:-- ETA\r",
        "1.127.O.genes                                 100%   18KB  18.3KB/s   00:00    \r\n"
       ]
      },
      {
       "output_type": "stream",
       "stream": "stdout",
       "text": [
        "\r",
        "1.134.O.genes                                   0%    0     0.0KB/s   --:-- ETA\r",
        "1.134.O.genes                                 100%   15KB  14.8KB/s   00:00    \r\n"
       ]
      },
      {
       "output_type": "stream",
       "stream": "stdout",
       "text": [
        "\r",
        "1.143.O.genes                                   0%    0     0.0KB/s   --:-- ETA\r",
        "1.143.O.genes                                 100%   18KB  18.0KB/s   00:00    \r\n",
        "\r",
        "1.151.O.genes                                   0%    0     0.0KB/s   --:-- ETA"
       ]
      },
      {
       "output_type": "stream",
       "stream": "stdout",
       "text": [
        "\r",
        "1.151.O.genes                                 100%   16KB  15.8KB/s   00:00    \r\n",
        "\r",
        "1.172.O.genes                                   0%    0     0.0KB/s   --:-- ETA"
       ]
      },
      {
       "output_type": "stream",
       "stream": "stdout",
       "text": [
        "\r",
        "1.172.O.genes                                 100%   14KB  14.3KB/s   00:00    \r\n",
        "\r",
        "1.176.O.genes                                   0%    0     0.0KB/s   --:-- ETA"
       ]
      },
      {
       "output_type": "stream",
       "stream": "stdout",
       "text": [
        "\r",
        "1.176.O.genes                                 100%   16KB  15.9KB/s   00:01    \r\n"
       ]
      },
      {
       "output_type": "stream",
       "stream": "stdout",
       "text": [
        "\r",
        "1.178.O.genes                                   0%    0     0.0KB/s   --:-- ETA"
       ]
      },
      {
       "output_type": "stream",
       "stream": "stdout",
       "text": [
        "\r",
        "1.178.O.genes                                 100%   17KB  17.3KB/s   00:00    \r\n",
        "\r",
        "1.189.B.genes                                   0%    0     0.0KB/s   --:-- ETA"
       ]
      },
      {
       "output_type": "stream",
       "stream": "stdout",
       "text": [
        "\r",
        "1.189.B.genes                                 100%   16KB  15.7KB/s   00:00    \r\n",
        "\r",
        "1.189.C.genes                                   0%    0     0.0KB/s   --:-- ETA"
       ]
      },
      {
       "output_type": "stream",
       "stream": "stdout",
       "text": [
        "\r",
        "1.189.C.genes                                 100%   16KB  16.1KB/s   00:00    \r\n"
       ]
      },
      {
       "output_type": "stream",
       "stream": "stdout",
       "text": [
        "\r",
        "1.189.O.genes                                   0%    0     0.0KB/s   --:-- ETA\r",
        "1.189.O.genes                                 100%   16KB  16.1KB/s   00:00    \r\n",
        "\r",
        "1.231.O.genes                                   0%    0     0.0KB/s   --:-- ETA"
       ]
      },
      {
       "output_type": "stream",
       "stream": "stdout",
       "text": [
        "\r",
        "1.231.O.genes                                 100%   18KB  18.5KB/s   00:00    \r\n"
       ]
      },
      {
       "output_type": "stream",
       "stream": "stdout",
       "text": [
        "\r",
        "1.265.O.genes                                   0%    0     0.0KB/s   --:-- ETA\r",
        "1.265.O.genes                                 100%   17KB  16.7KB/s   00:00    \r\n"
       ]
      },
      {
       "output_type": "stream",
       "stream": "stdout",
       "text": [
        "\r",
        "2.275.O.genes                                   0%    0     0.0KB/s   --:-- ETA"
       ]
      },
      {
       "output_type": "stream",
       "stream": "stdout",
       "text": [
        "\r",
        "2.275.O.genes                                 100%  107KB 107.1KB/s   00:00    \r\n"
       ]
      }
     ],
     "prompt_number": 8
    },
    {
     "cell_type": "code",
     "collapsed": false,
     "input": [
      "#process output prodigal file:\n",
      "###code used for larger script to determine location of gene upstream of large subunit terminase\n",
      "\n",
      "\n",
      "groupfile=grouplist\n",
      "for phage in groupfile:\n",
      "\n",
      "    gene_tbl=open(phage+\"genes\").readlines()\n",
      "    output=open(phage+\"prodigal.info\",\"w\")\n",
      "    output.write(\"phage\\tnumber\\tgene\\tunique\\torientation\\tstart\\tstop\\n\")\n",
      "    loc=[]\n",
      "    nam=[]\n",
      "    for line in gene_tbl[2:]:\n",
      "        here=line.split()\n",
      "        if here[0]==\"CDS\":\n",
      "            loc.append(here[1])\n",
      "        else:\n",
      "            info=here[0].split(\";\")\n",
      "            there=info[0].split(\"=\")\n",
      "            if len(there)==3:\n",
      "                nam.append(\"contig_\"+there[2])\n",
      "    \n",
      "    dict1=dict(zip(nam,loc))\n",
      "    for key in dict1:\n",
      "        value=dict1[key]\n",
      "        number=key.split(\"_\")[2]\n",
      "        unique=phage+key\n",
      "        if value.startswith(\"complement\"):\n",
      "            vec1=value.split(\"(\")\n",
      "            vec2=vec1[1].split(\"..\")\n",
      "            start=vec2[1].replace(\")\",\"\")\n",
      "            stop=vec2[0]\n",
      "            orientation=\"reverse\"\n",
      "        else:\n",
      "            vec2=value.split(\"..\")\n",
      "            start=vec2[0]\n",
      "            stop=vec2[1]\n",
      "            orientation=\"forward\"\n",
      "        #print(phage+\"\\t\"+number+\"\\t\"+key+\"\\t\"+orientation+\"\\t\"+start+\"\\t\"+stop+\"\\n\")\n",
      "        output.write(phage+\"\\t\"+number+\"\\t\"+key+\"\\t\"+unique+\"\\t\"+orientation+\"\\t\"+start+\"\\t\"+stop+\"\\n\")\n",
      "    \n",
      "    output.close()"
     ],
     "language": "python",
     "metadata": {},
     "outputs": [],
     "prompt_number": 106
    },
    {
     "cell_type": "code",
     "collapsed": false,
     "input": [],
     "language": "python",
     "metadata": {},
     "outputs": [],
     "prompt_number": 98
    },
    {
     "cell_type": "code",
     "collapsed": false,
     "input": [],
     "language": "python",
     "metadata": {},
     "outputs": [],
     "prompt_number": 13
    },
    {
     "cell_type": "markdown",
     "metadata": {},
     "source": []
    },
    {
     "cell_type": "code",
     "collapsed": false,
     "input": [
      "groupfile=grouplist\n",
      "blast_commands=open(\"blast_commands.sh\",\"w\")\n",
      "blast_commands.write(\"#!/bin/bash\\n#SBATCH -n 16\\n#SBATCH -N 1\\n#SBATCH -o blast.out\\n#SBATCH -e blast.err\\n#SBATCH -p sched_mit_chisholm\\n\\n\")\n",
      "blast_commands.write(\"module add engaging/ncbi-blast/2.2.30+\\n\\n\\n\")\n",
      "for line in groupfile:\n",
      "    inputfasta=line+\"proteins.faa\"\n",
      "    bout1=line+\"prodprot.vs.lg.terminases.txt\"\n",
      "    bout2=line+\"prodprot.vs.sm.terminases.txt\"\n",
      "    blastcommand=\"blastp -db /nobackup1/jbrown/blast_db/terminase_lg_subunit.fasta -query \"+inputfasta+\" -num_descriptions 1 -evalue 0.00001 -outfmt 6 -out \"+bout1\n",
      "    #blastcommand2=\"blastx -db /nobackup1/jbrown/blast_db/terminase_sm_subunit.fasta -query \"+inputfasta+\" -num_descriptions 1 -outfmt 6 -out \"+bout2\n",
      "    blast_commands.write(blastcommand+\"\\n\")#+blastcommand2+\"\\n\\n\")\n",
      "blast_commands.close()\n",
      "!open blast_commands.sh -a textedit"
     ],
     "language": "python",
     "metadata": {},
     "outputs": [],
     "prompt_number": 9
    },
    {
     "cell_type": "code",
     "collapsed": false,
     "input": [
      "!scp blast_commands.sh jbrown@eofe4.mit.edu:/nobackup1/jbrown/nahant_phage_reads/T4like/"
     ],
     "language": "python",
     "metadata": {},
     "outputs": [
      {
       "output_type": "stream",
       "stream": "stdout",
       "text": [
        "\r",
        "blast_commands.sh                               0%    0     0.0KB/s   --:-- ETA\r",
        "blast_commands.sh                             100% 3611     3.5KB/s   00:00    \r\n"
       ]
      }
     ],
     "prompt_number": 11
    },
    {
     "cell_type": "code",
     "collapsed": false,
     "input": [
      "!scp jbrown@eofe4.mit.edu:/nobackup1/jbrown/nahant_phage_reads/T4like/*.vs.lg.terminase* ./"
     ],
     "language": "python",
     "metadata": {},
     "outputs": [
      {
       "output_type": "stream",
       "stream": "stdout",
       "text": [
        "\r",
        "1.063.O.prodprot.vs.lg.terminases.txt           0%    0     0.0KB/s   --:-- ETA\r",
        "1.063.O.prodprot.vs.lg.terminases.txt         100% 3790     3.7KB/s   00:00    \r\n"
       ]
      },
      {
       "output_type": "stream",
       "stream": "stdout",
       "text": [
        "\r",
        "1.081.O.prodprot.vs.lg.terminases.txt           0%    0     0.0KB/s   --:-- ETA\r",
        "1.081.O.prodprot.vs.lg.terminases.txt         100%   10KB  10.4KB/s   00:00    \r\n"
       ]
      },
      {
       "output_type": "stream",
       "stream": "stdout",
       "text": [
        "\r",
        "1.085.O.prodprot.vs.lg.terminases.txt           0%    0     0.0KB/s   --:-- ETA"
       ]
      },
      {
       "output_type": "stream",
       "stream": "stdout",
       "text": [
        "\r",
        "1.085.O.prodprot.vs.lg.terminases.txt         100%   15KB  15.0KB/s   00:00    \r\n",
        "\r",
        "1.101.O.prodprot.vs.lg.terminases.txt           0%    0     0.0KB/s   --:-- ETA"
       ]
      },
      {
       "output_type": "stream",
       "stream": "stdout",
       "text": [
        "\r",
        "1.101.O.prodprot.vs.lg.terminases.txt         100% 6384     6.2KB/s   00:00    \r\n",
        "\r",
        "1.116.O.prodprot.vs.lg.terminases.txt           0%    0     0.0KB/s   --:-- ETA"
       ]
      },
      {
       "output_type": "stream",
       "stream": "stdout",
       "text": [
        "\r",
        "1.116.O.prodprot.vs.lg.terminases.txt         100%   15KB  15.2KB/s   00:00    \r\n",
        "\r",
        "1.119.O.prodprot.vs.lg.terminases.txt           0%    0     0.0KB/s   --:-- ETA"
       ]
      },
      {
       "output_type": "stream",
       "stream": "stdout",
       "text": [
        "\r",
        "1.119.O.prodprot.vs.lg.terminases.txt         100%   11KB  10.8KB/s   00:00    \r\n",
        "\r",
        "1.127.O.prodprot.vs.lg.terminases.txt           0%    0     0.0KB/s   --:-- ETA\r",
        "1.127.O.prodprot.vs.lg.terminases.txt         100%   11KB  10.8KB/s   00:00    \r\n"
       ]
      },
      {
       "output_type": "stream",
       "stream": "stdout",
       "text": [
        "\r",
        "1.134.O.prodprot.vs.lg.terminases.txt           0%    0     0.0KB/s   --:-- ETA\r",
        "1.134.O.prodprot.vs.lg.terminases.txt         100%   15KB  15.2KB/s   00:00    \r\n"
       ]
      },
      {
       "output_type": "stream",
       "stream": "stdout",
       "text": [
        "\r",
        "1.143.O.prodprot.vs.lg.terminases.txt           0%    0     0.0KB/s   --:-- ETA\r",
        "1.143.O.prodprot.vs.lg.terminases.txt         100%   11KB  10.8KB/s   00:00    \r\n"
       ]
      },
      {
       "output_type": "stream",
       "stream": "stdout",
       "text": [
        "\r",
        "1.151.O.prodprot.vs.lg.terminases.txt           0%    0     0.0KB/s   --:-- ETA\r",
        "1.151.O.prodprot.vs.lg.terminases.txt         100% 3944     3.9KB/s   00:00    \r\n"
       ]
      },
      {
       "output_type": "stream",
       "stream": "stdout",
       "text": [
        "\r",
        "1.172.O.prodprot.vs.lg.terminases.txt           0%    0     0.0KB/s   --:-- ETA\r",
        "1.172.O.prodprot.vs.lg.terminases.txt         100%   15KB  15.2KB/s   00:00    \r\n"
       ]
      },
      {
       "output_type": "stream",
       "stream": "stdout",
       "text": [
        "\r",
        "1.176.O.prodprot.vs.lg.terminases.txt           0%    0     0.0KB/s   --:-- ETA\r",
        "1.176.O.prodprot.vs.lg.terminases.txt         100%   15KB  15.0KB/s   00:01    \r\n",
        "\r",
        "1.178.O.prodprot.vs.lg.terminases.txt           0%    0     0.0KB/s   --:-- ETA"
       ]
      },
      {
       "output_type": "stream",
       "stream": "stdout",
       "text": [
        "\r",
        "1.178.O.prodprot.vs.lg.terminases.txt         100%   11KB  11.0KB/s   00:00    \r\n",
        "\r",
        "1.189.B.prodprot.vs.lg.terminases.txt           0%    0     0.0KB/s   --:-- ETA"
       ]
      },
      {
       "output_type": "stream",
       "stream": "stdout",
       "text": [
        "\r",
        "1.189.B.prodprot.vs.lg.terminases.txt         100%   15KB  15.0KB/s   00:00    \r\n",
        "\r",
        "1.189.C.prodprot.vs.lg.terminases.txt           0%    0     0.0KB/s   --:-- ETA"
       ]
      },
      {
       "output_type": "stream",
       "stream": "stdout",
       "text": [
        "\r",
        "1.189.C.prodprot.vs.lg.terminases.txt         100%   15KB  15.0KB/s   00:00    \r\n",
        "\r",
        "1.189.O.prodprot.vs.lg.terminases.txt           0%    0     0.0KB/s   --:-- ETA"
       ]
      },
      {
       "output_type": "stream",
       "stream": "stdout",
       "text": [
        "\r",
        "1.189.O.prodprot.vs.lg.terminases.txt         100%   15KB  15.0KB/s   00:00    \r\n",
        "\r",
        "1.231.O.prodprot.vs.lg.terminases.txt           0%    0     0.0KB/s   --:-- ETA"
       ]
      },
      {
       "output_type": "stream",
       "stream": "stdout",
       "text": [
        "\r",
        "1.231.O.prodprot.vs.lg.terminases.txt         100%   11KB  10.8KB/s   00:00    \r\n",
        "\r",
        "1.265.O.prodprot.vs.lg.terminases.txt           0%    0     0.0KB/s   --:-- ETA"
       ]
      },
      {
       "output_type": "stream",
       "stream": "stdout",
       "text": [
        "\r",
        "1.265.O.prodprot.vs.lg.terminases.txt         100%   11KB  11.0KB/s   00:00    \r\n",
        "\r",
        "2.275.O.prodprot.vs.lg.terminases.txt           0%    0     0.0KB/s   --:-- ETA"
       ]
      },
      {
       "output_type": "stream",
       "stream": "stdout",
       "text": [
        "\r",
        "2.275.O.prodprot.vs.lg.terminases.txt         100%   11KB  11.3KB/s   00:00    \r\n"
       ]
      }
     ],
     "prompt_number": 12
    },
    {
     "cell_type": "markdown",
     "metadata": {},
     "source": [
      "####Re-arranging contigs based on location of phage terminase:"
     ]
    },
    {
     "cell_type": "code",
     "collapsed": false,
     "input": [
      "for phage in grouplist:\n",
      "    blast=open(phage+\"prodprot.vs.lg.terminases.txt\").readlines()       #open blast file \n",
      "    print(phage)\n",
      "    terminase_hits=[]\n",
      "    for line in blast:\n",
      "        \n",
      "        if line.split(\"\\t\")[0] not in terminase_hits:\n",
      "            terminase_hits.append(line.split(\"\\t\")[0])\n",
      "    if len(terminase_hits)==1:\n",
      "        print(\"one orf matches terminase\")\n",
      "    else:\n",
      "        print(terminase_hits)"
     ],
     "language": "python",
     "metadata": {},
     "outputs": [
      {
       "output_type": "stream",
       "stream": "stdout",
       "text": [
        "1.134.O.\n",
        "['contig_1_29', 'contig_1_30']\n",
        "1.143.O.\n",
        "['contig_1_55', 'contig_1_56']\n",
        "1.101.O.\n",
        "['contig_1_17', 'contig_1_170']\n",
        "1.265.O.\n",
        "['contig_1_58', 'contig_1_59']\n",
        "1.189.B.\n",
        "['contig_1_52', 'contig_1_53']\n",
        "1.176.O.\n",
        "['contig_1_2', 'contig_1_3']\n",
        "1.189.C.\n",
        "['contig_1_19', 'contig_1_20']\n",
        "2.275.O.\n",
        "['contig_1_354', 'contig_1_405', 'contig_1_415']\n",
        "1.081.O.\n",
        "['contig_1_237', 'contig_1_321', 'contig_1_324', 'contig_1_325']\n",
        "1.127.O.\n",
        "['contig_1_58', 'contig_1_59']\n",
        "1.172.O.\n",
        "['contig_1_55', 'contig_1_56']\n",
        "1.085.O.\n",
        "['contig_1_4', 'contig_1_5']\n",
        "1.178.O.\n",
        "['contig_1_64', 'contig_1_65']\n",
        "1.119.O.\n",
        "['contig_1_68', 'contig_1_69']\n",
        "1.189.O.\n",
        "['contig_1_15', 'contig_1_16']\n",
        "1.151.O.\n",
        "['contig_1_1', 'contig_1_65']\n",
        "1.063.O.\n",
        "one orf matches terminase\n",
        "1.231.O.\n",
        "['contig_1_23', 'contig_1_24']\n",
        "1.116.O.\n",
        "['contig_1_41', 'contig_1_42']\n"
       ]
      }
     ],
     "prompt_number": 13
    },
    {
     "cell_type": "code",
     "collapsed": false,
     "input": [
      "#treat just like group4 phages:\n",
      "from Bio.Seq import Seq\n",
      "import os.path\n",
      "\n",
      "\n",
      "startpoint=\"\"\n",
      "for phage in grouplist:\n",
      "    if os.path.exists(phage+\"genes\"):\n",
      "        #Create dictionary of identity and location of prodigal calls for phage genome\n",
      "        gene_tbl=open(phage+\"genes\").readlines()     #open prodigal gene table for phage genome\n",
      "        loc=[]\n",
      "        nam=[]\n",
      "        for line in gene_tbl[2:]:\n",
      "            here=line.split()\n",
      "            if here[0]==\"CDS\":\n",
      "                loc.append(here[1])\n",
      "            else:\n",
      "                info=here[0].split(\";\")\n",
      "                there=info[0].split(\"=\")\n",
      "                if len(there)==3:\n",
      "                    nam.append(\"contig_\"+there[2])\n",
      "        dict1=dict(zip(nam,loc))                  #create dictionary of the location of each orf by prodigal-assigned name\n",
      "        blast=open(phage+\"prodprot.vs.lg.terminases.txt\").readlines() \n",
      "        terminase_hits=[]\n",
      "        e_values=[]\n",
      "        best_evalue=1\n",
      "        best_e_line=\"\"\n",
      "        for line in blast:\n",
      "            if line.split(\"\\t\")[0] not in terminase_hits:\n",
      "                terminase_hits.append(line.split(\"\\t\")[0])\n",
      "                e_values.append(line.split(\"\\t\")[10])  \n",
      "\n",
      "            if float(line.split(\"\\t\")[10])<best_evalue:\n",
      "                best_evalue=float(line.split(\"\\t\")[10])\n",
      "                orf=line.split(\"\\t\")[0]\n",
      "\n",
      "        value=dict1[orf]                                                    #pull out location of BLAST-identified terminase\n",
      "        if value.startswith(\"complement\"):                                  #determine orientation of orf and\n",
      "            adjust=orf.split(\"_\")                                           #identification of start of gene upstream of terminase large subunit\n",
      "            orientation=\"reverse\"\n",
      "            key2=adjust[0]+\"_\"+adjust[1]+\"_\"+str(int(adjust[2])+1)\n",
      "            value2=dict1.get(key2,0)\n",
      "            if dict1.get(key2,0)!=0:                                           \n",
      "\n",
      "                vec1=value2.split(\"(\")\n",
      "                vec2=vec1[1].split(\"..\")\n",
      "                start=vec2[1]\n",
      "                stop=vec2[0]\n",
      "\n",
      "            else:\n",
      "                print(\"end of contig reverse\")\n",
      "                key2=adjust[0]+\"_\"+adjust[1]+\"_1\"\n",
      "                orientation=\"reverse\"\n",
      "                value2=dict1.get(key2,\"end of contig\")\n",
      "                vec1=value2.split(\"(\")\n",
      "                vec2=vec1[1].split(\"..\")\n",
      "                start=vec2[0]\n",
      "                stop=vec2[1]\n",
      "\n",
      "        else:\n",
      "            adjust=orf.split(\"_\")\n",
      "            key2=adjust[0]+\"_\"+adjust[1]+\"_\"+str(int(adjust[2])-1)\n",
      "            orientation=\"forward\"\n",
      "            if dict1.get(key2,0)!=0:\n",
      "                value2=dict1.get(key2,\"end of contig\")\n",
      "                vec2=value2.split(\"..\")\n",
      "                start=vec2[0]\n",
      "                stop=vec2[1]      \n",
      "            else:\n",
      "                print(\"end of contig forward\")\n",
      "                orf_num=len(dict1)\n",
      "                key2=adjust[0]+\"_\"+adjust[1]+\"_\"+str(orf_num)\n",
      "                if \">\" in dict1.get(key2,0):\n",
      "                    key2=adjust[0]+\"_\"+adjust[1]+\"_\"+str(orf_num-1)\n",
      "                value2=dict1.get(key2, 0)\n",
      "                vec2=value2.split(\"..\")\n",
      "                start=vec2[0]\n",
      "                stop=vec2[1]\n",
      "        start=start.replace(\">\",\"\").replace(\")\",\"\").replace(\"<\",\"\")\n",
      "        stop=stop.replace(\">\",\"\").replace(\")\",\"\").replace(\"<\",\"\")\n",
      "        \n",
      "        fastafile=phage+\"step1.contig1.fasta\"\n",
      "        f=open(fastafile)                                       #open fasta file\n",
      "        sequence=\"\"\n",
      "        for row in f:                           #define title and sequences\n",
      "            if row.startswith(\">\"):\n",
      "                title=row\n",
      "            else:\n",
      "                sequence+=row\n",
      "        sequence=sequence.replace(\"\\n\",\"\")\n",
      "        outfile=open(phage+\"s1c1.rearrange.fasta\",\"w\")\n",
      "        if start!=0:\n",
      "            \n",
      "            upstream=sequence[0:int(start)-1]                    #id sequence before start of small subunit terminase\n",
      "            downstream=sequence[int(start)-1:]                   #id sequence after start of small subunit terminase \n",
      "            rearrange=downstream+upstream                        #re-arrange contigs so that small subunit terminase start is at end of contig\n",
      "            print(phage+\":\"+str(len(sequence))+\":\"+str(len(rearrange))+\":\"+str(start))\n",
      "            if orientation==\"reverse\":                           #reverse-complement the genome if terminase gene is in reverse orientation\n",
      "                seq=Seq(rearrange)\n",
      "                out_seq=seq.reverse_complement()\n",
      "                outfile.write(\">\"+phage+\"\\n\"+str(out_seq))\n",
      "                startpoint=startpoint+phage+\"\\t\"+str(int(start))+\"\\n\"\n",
      "            else:\n",
      "                outfile.write(\">\"+phage+\"\\n\"+rearrange)\n",
      "                startpoint=startpoint+phage+\"\\t\"+str(len(seq)-int(start))+\"\\n\"\n",
      "        outfile.close()\n",
      "        print(phage+\" done!\")\n",
      "    else:\n",
      "        print(phage+\" sequence file does not exist\")"
     ],
     "language": "python",
     "metadata": {},
     "outputs": [
      {
       "output_type": "stream",
       "stream": "stdout",
       "text": [
        "1.134.O.:36379:36379:13260\n"
       ]
      },
      {
       "ename": "NameError",
       "evalue": "name 'seq' is not defined",
       "output_type": "pyerr",
       "traceback": [
        "\u001b[0;31m---------------------------------------------------------------------------\u001b[0m\n\u001b[0;31mNameError\u001b[0m                                 Traceback (most recent call last)",
        "\u001b[0;32m<ipython-input-14-b54ef166a149>\u001b[0m in \u001b[0;36m<module>\u001b[0;34m()\u001b[0m\n\u001b[1;32m    103\u001b[0m             \u001b[0;32melse\u001b[0m\u001b[0;34m:\u001b[0m\u001b[0;34m\u001b[0m\u001b[0m\n\u001b[1;32m    104\u001b[0m                 \u001b[0moutfile\u001b[0m\u001b[0;34m.\u001b[0m\u001b[0mwrite\u001b[0m\u001b[0;34m(\u001b[0m\u001b[0;34m\">\"\u001b[0m\u001b[0;34m+\u001b[0m\u001b[0mphage\u001b[0m\u001b[0;34m+\u001b[0m\u001b[0;34m\"\\n\"\u001b[0m\u001b[0;34m+\u001b[0m\u001b[0mrearrange\u001b[0m\u001b[0;34m)\u001b[0m\u001b[0;34m\u001b[0m\u001b[0m\n\u001b[0;32m--> 105\u001b[0;31m                 \u001b[0mstartpoint\u001b[0m\u001b[0;34m=\u001b[0m\u001b[0mstartpoint\u001b[0m\u001b[0;34m+\u001b[0m\u001b[0mphage\u001b[0m\u001b[0;34m+\u001b[0m\u001b[0;34m\"\\t\"\u001b[0m\u001b[0;34m+\u001b[0m\u001b[0mstr\u001b[0m\u001b[0;34m(\u001b[0m\u001b[0mlen\u001b[0m\u001b[0;34m(\u001b[0m\u001b[0mseq\u001b[0m\u001b[0;34m)\u001b[0m\u001b[0;34m-\u001b[0m\u001b[0mint\u001b[0m\u001b[0;34m(\u001b[0m\u001b[0mstart\u001b[0m\u001b[0;34m)\u001b[0m\u001b[0;34m)\u001b[0m\u001b[0;34m+\u001b[0m\u001b[0;34m\"\\n\"\u001b[0m\u001b[0;34m\u001b[0m\u001b[0m\n\u001b[0m\u001b[1;32m    106\u001b[0m         \u001b[0moutfile\u001b[0m\u001b[0;34m.\u001b[0m\u001b[0mclose\u001b[0m\u001b[0;34m(\u001b[0m\u001b[0;34m)\u001b[0m\u001b[0;34m\u001b[0m\u001b[0m\n\u001b[1;32m    107\u001b[0m         \u001b[0;32mprint\u001b[0m\u001b[0;34m(\u001b[0m\u001b[0mphage\u001b[0m\u001b[0;34m+\u001b[0m\u001b[0;34m\" done!\"\u001b[0m\u001b[0;34m)\u001b[0m\u001b[0;34m\u001b[0m\u001b[0m\n",
        "\u001b[0;31mNameError\u001b[0m: name 'seq' is not defined"
       ]
      }
     ],
     "prompt_number": 14
    },
    {
     "cell_type": "markdown",
     "metadata": {},
     "source": [
      "##Next, re-recruit reads onto newly re-arranged contigs"
     ]
    },
    {
     "cell_type": "code",
     "collapsed": false,
     "input": [
      "script=open(\"rearrange_recruitment.slurm\",\"w\")\n",
      "script.write(\"#!/bin/bash\\n#SBATCH -n 16\\n#SBATCH -N 1\\n#SBATCH -o rearrange.out\\n#SBATCH -e rearrange.err\\n#SBATCH -p sched_mit_chisholm\\n\\n\")\n",
      "script.write(\"module add engaging/clc-assembly-cell\\nmodule add engaging/samtools/1.1\\nmodule add engaging/bedtools/2.22.1\\n\\n\")\n",
      "\n",
      "for virus in grouplist:\n",
      "    target_seq=virus+\"s1c1.rearrange.fasta\"\n",
      "    reads=\"../\"+virus+\"*.fastq\"\n",
      "    recruitfile=virus+\"s1c1.rearrange.cas\"\n",
      "    outputfasta=virus+\"final.fasta\"\n",
      "    directed=virus+\"rearrange.\"\n",
      "\n",
      "    script.write(\"clc_mapper -o \"+recruitfile+\" -p fb ss 100 300 -q \"+reads+\" -d \"+target_seq+\" -a local -r ignore \\n\")\n",
      "    script.write(\"clc_extract_consensus -z none -a \"+recruitfile+\" -o \"+outputfasta+\"\\n\")\n",
      "    script.write(\"clc_cas_to_sam -a \"+recruitfile+\" -o \"+directed+\"bam\\n\")\n",
      "    script.write(\"samtools sort \"+directed+\"bam \"+directed+\"sorted\\n\")\n",
      "    script.write(\"samtools index \"+directed+\"sorted.bam\\n\")\n",
      "    script.write(\"bedtools genomecov -ibam \"+directed+\"sorted.bam -d > \"+directed+\"genomecoverage.txt\\n\\n\")\n",
      "\n",
      "script.close()\n",
      "!open rearrange_recruitment.slurm -a textedit"
     ],
     "language": "python",
     "metadata": {},
     "outputs": [],
     "prompt_number": 67
    },
    {
     "cell_type": "code",
     "collapsed": false,
     "input": [
      "!scp rearrange_recruitment.slurm jbrown@eofe4.mit.edu:/nobackup1/jbrown/nahant_phage_reads/p22likeheadful_nogrp4/\n",
      "#!scp *s1c1.rearrange.fasta jbrown@eofe4.mit.edu:/nobackup1/jbrown/nahant_phage_reads/p22likeheadful_nogrp4/\n",
      "#running on MIT cluster"
     ],
     "language": "python",
     "metadata": {},
     "outputs": [
      {
       "output_type": "stream",
       "stream": "stdout",
       "text": [
        "\r",
        "rearrange_recruitment.slurm                     0%    0     0.0KB/s   --:-- ETA\r",
        "rearrange_recruitment.slurm                   100%   23KB  22.6KB/s   00:00    \r\n"
       ]
      }
     ],
     "prompt_number": 68
    },
    {
     "cell_type": "code",
     "collapsed": false,
     "input": [
      "!scp jbrown@eofe4.mit.edu:/nobackup1/jbrown/nahant_phage_reads/p22likeheadful_nogrp4/*rearrange.genomecoverage* ./"
     ],
     "language": "python",
     "metadata": {},
     "outputs": [
      {
       "output_type": "stream",
       "stream": "stdout",
       "text": [
        "\r",
        "1.003.O.rearrange.genomecoverage.txt            0%    0     0.0KB/s   --:-- ETA"
       ]
      },
      {
       "output_type": "stream",
       "stream": "stdout",
       "text": [
        "\r",
        "1.003.O.rearrange.genomecoverage.txt          100%  777KB 777.2KB/s   00:00    \r\n"
       ]
      },
      {
       "output_type": "stream",
       "stream": "stdout",
       "text": [
        "\r",
        "1.007.O.rearrange.genomecoverage.txt            0%    0     0.0KB/s   --:-- ETA"
       ]
      },
      {
       "output_type": "stream",
       "stream": "stdout",
       "text": [
        "\r",
        "1.007.O.rearrange.genomecoverage.txt          100%  993KB 993.2KB/s   00:00    \r\n"
       ]
      },
      {
       "output_type": "stream",
       "stream": "stdout",
       "text": [
        "\r",
        "1.013.O.rearrange.genomecoverage.txt            0%    0     0.0KB/s   --:-- ETA"
       ]
      },
      {
       "output_type": "stream",
       "stream": "stdout",
       "text": [
        "\r",
        "1.013.O.rearrange.genomecoverage.txt          100%  865KB 864.9KB/s   00:00    \r\n",
        "\r",
        "1.016.O.rearrange.genomecoverage.txt            0%    0     0.0KB/s   --:-- ETA"
       ]
      },
      {
       "output_type": "stream",
       "stream": "stdout",
       "text": [
        "\r",
        "1.016.O.rearrange.genomecoverage.txt          100%  934KB 933.6KB/s   00:01    \r\n"
       ]
      },
      {
       "output_type": "stream",
       "stream": "stdout",
       "text": [
        "\r",
        "1.036.O.rearrange.genomecoverage.txt            0%    0     0.0KB/s   --:-- ETA"
       ]
      },
      {
       "output_type": "stream",
       "stream": "stdout",
       "text": [
        "\r",
        "1.036.O.rearrange.genomecoverage.txt          100%  813KB 812.9KB/s   00:00    \r\n",
        "\r",
        "1.039.O.rearrange.genomecoverage.txt            0%    0     0.0KB/s   --:-- ETA"
       ]
      },
      {
       "output_type": "stream",
       "stream": "stdout",
       "text": [
        "\r",
        "1.039.O.rearrange.genomecoverage.txt          100%  829KB 829.0KB/s   00:00    \r\n",
        "\r",
        "1.042.O.rearrange.genomecoverage.txt            0%    0     0.0KB/s   --:-- ETA"
       ]
      },
      {
       "output_type": "stream",
       "stream": "stdout",
       "text": [
        "\r",
        "1.042.O.rearrange.genomecoverage.txt          100%  912KB 911.9KB/s   00:00    \r\n",
        "\r",
        "1.052.A.rearrange.genomecoverage.txt            0%    0     0.0KB/s   --:-- ETA"
       ]
      },
      {
       "output_type": "stream",
       "stream": "stdout",
       "text": [
        "\r",
        "1.052.A.rearrange.genomecoverage.txt          100%  785KB 785.0KB/s   00:01    \r\n"
       ]
      },
      {
       "output_type": "stream",
       "stream": "stdout",
       "text": [
        "\r",
        "1.061.O.rearrange.genomecoverage.txt            0%    0     0.0KB/s   --:-- ETA"
       ]
      },
      {
       "output_type": "stream",
       "stream": "stdout",
       "text": [
        "\r",
        "1.061.O.rearrange.genomecoverage.txt          100%  762KB 762.3KB/s   00:00    \r\n",
        "\r",
        "1.067.O.rearrange.genomecoverage.txt            0%    0     0.0KB/s   --:-- ETA"
       ]
      },
      {
       "output_type": "stream",
       "stream": "stdout",
       "text": [
        "\r",
        "1.067.O.rearrange.genomecoverage.txt          100%  749KB 749.1KB/s   00:00    \r\n",
        "\r",
        "1.071.A.rearrange.genomecoverage.txt            0%    0     0.0KB/s   --:-- ETA"
       ]
      },
      {
       "output_type": "stream",
       "stream": "stdout",
       "text": [
        "\r",
        "1.071.A.rearrange.genomecoverage.txt          100%  883KB 882.8KB/s   00:00    \r\n",
        "\r",
        "1.079.O.rearrange.genomecoverage.txt            0%    0     0.0KB/s   --:-- ETA"
       ]
      },
      {
       "output_type": "stream",
       "stream": "stdout",
       "text": [
        "\r",
        "1.079.O.rearrange.genomecoverage.txt          100%  775KB 775.4KB/s   00:01    \r\n"
       ]
      },
      {
       "output_type": "stream",
       "stream": "stdout",
       "text": [
        "\r",
        "1.090.B.rearrange.genomecoverage.txt            0%    0     0.0KB/s   --:-- ETA"
       ]
      },
      {
       "output_type": "stream",
       "stream": "stdout",
       "text": [
        "\r",
        "1.090.B.rearrange.genomecoverage.txt          100%  792KB 792.4KB/s   00:00    \r\n"
       ]
      },
      {
       "output_type": "stream",
       "stream": "stdout",
       "text": [
        "\r",
        "1.091.O.rearrange.genomecoverage.txt            0%    0     0.0KB/s   --:-- ETA"
       ]
      },
      {
       "output_type": "stream",
       "stream": "stdout",
       "text": [
        "\r",
        "1.091.O.rearrange.genomecoverage.txt          100%  789KB 789.5KB/s   00:00    \r\n",
        "\r",
        "1.105.O.rearrange.genomecoverage.txt            0%    0     0.0KB/s   --:-- ETA"
       ]
      },
      {
       "output_type": "stream",
       "stream": "stdout",
       "text": [
        "\r",
        "1.105.O.rearrange.genomecoverage.txt          100%  947KB 947.0KB/s   00:01    \r\n",
        "\r",
        "1.106.O.rearrange.genomecoverage.txt            0%    0     0.0KB/s   --:-- ETA"
       ]
      },
      {
       "output_type": "stream",
       "stream": "stdout",
       "text": [
        "\r",
        "1.106.O.rearrange.genomecoverage.txt          100%  862KB 862.5KB/s   00:00    \r\n",
        "\r",
        "1.110.O.rearrange.genomecoverage.txt            0%    0     0.0KB/s   --:-- ETA"
       ]
      },
      {
       "output_type": "stream",
       "stream": "stdout",
       "text": [
        "\r",
        "1.110.O.rearrange.genomecoverage.txt          100%  686KB 686.0KB/s   00:00    \r\n",
        "\r",
        "1.112.O.rearrange.genomecoverage.txt            0%    0     0.0KB/s   --:-- ETA"
       ]
      },
      {
       "output_type": "stream",
       "stream": "stdout",
       "text": [
        "\r",
        "1.112.O.rearrange.genomecoverage.txt          100%  883KB 882.5KB/s   00:01    \r\n",
        "\r",
        "1.123.O.rearrange.genomecoverage.txt            0%    0     0.0KB/s   --:-- ETA"
       ]
      },
      {
       "output_type": "stream",
       "stream": "stdout",
       "text": [
        "\r",
        "1.123.O.rearrange.genomecoverage.txt          100%  844KB 844.0KB/s   00:01    \r\n",
        "\r",
        "1.135.O.rearrange.genomecoverage.txt            0%    0     0.0KB/s   --:-- ETA"
       ]
      },
      {
       "output_type": "stream",
       "stream": "stdout",
       "text": [
        "\r",
        "1.135.O.rearrange.genomecoverage.txt          100%  767KB 766.9KB/s   00:00    \r\n"
       ]
      },
      {
       "output_type": "stream",
       "stream": "stdout",
       "text": [
        "\r",
        "1.137.O.rearrange.genomecoverage.txt            0%    0     0.0KB/s   --:-- ETA"
       ]
      },
      {
       "output_type": "stream",
       "stream": "stdout",
       "text": [
        "\r",
        "1.137.O.rearrange.genomecoverage.txt          100%  694KB 693.6KB/s   00:00    \r\n",
        "\r",
        "1.144.O.rearrange.genomecoverage.txt            0%    0     0.0KB/s   --:-- ETA"
       ]
      },
      {
       "output_type": "stream",
       "stream": "stdout",
       "text": [
        "\r",
        "1.144.O.rearrange.genomecoverage.txt          100%  813KB 813.1KB/s   00:01    \r\n",
        "\r",
        "1.149.O.rearrange.genomecoverage.txt            0%    0     0.0KB/s   --:-- ETA"
       ]
      },
      {
       "output_type": "stream",
       "stream": "stdout",
       "text": [
        "\r",
        "1.149.O.rearrange.genomecoverage.txt          100%  889KB 888.6KB/s   00:00    \r\n"
       ]
      },
      {
       "output_type": "stream",
       "stream": "stdout",
       "text": [
        "\r",
        "1.155.O.rearrange.genomecoverage.txt            0%    0     0.0KB/s   --:-- ETA"
       ]
      },
      {
       "output_type": "stream",
       "stream": "stdout",
       "text": [
        "\r",
        "1.155.O.rearrange.genomecoverage.txt          100%  549KB 549.5KB/s   00:01    \r\n"
       ]
      },
      {
       "output_type": "stream",
       "stream": "stdout",
       "text": [
        "\r",
        "1.166.O.rearrange.genomecoverage.txt            0%    0     0.0KB/s   --:-- ETA"
       ]
      },
      {
       "output_type": "stream",
       "stream": "stdout",
       "text": [
        "\r",
        "1.166.O.rearrange.genomecoverage.txt          100%  394KB 393.7KB/s   00:00    \r\n",
        "\r",
        "1.173.O.rearrange.genomecoverage.txt            0%    0     0.0KB/s   --:-- ETA"
       ]
      },
      {
       "output_type": "stream",
       "stream": "stdout",
       "text": [
        "\r",
        "1.173.O.rearrange.genomecoverage.txt          100%  838KB 838.3KB/s   00:01    \r\n",
        "\r",
        "1.177.O.rearrange.genomecoverage.txt            0%    0     0.0KB/s   --:-- ETA"
       ]
      },
      {
       "output_type": "stream",
       "stream": "stdout",
       "text": [
        "\r",
        "1.177.O.rearrange.genomecoverage.txt          100%  832KB 832.3KB/s   00:00    \r\n",
        "\r",
        "1.184.A.rearrange.genomecoverage.txt            0%    0     0.0KB/s   --:-- ETA"
       ]
      },
      {
       "output_type": "stream",
       "stream": "stdout",
       "text": [
        "\r",
        "1.184.A.rearrange.genomecoverage.txt          100%  608KB 608.4KB/s   00:01    \r\n",
        "\r",
        "1.186.O.rearrange.genomecoverage.txt            0%    0     0.0KB/s   --:-- ETA"
       ]
      },
      {
       "output_type": "stream",
       "stream": "stdout",
       "text": [
        "\r",
        "1.186.O.rearrange.genomecoverage.txt          100%  892KB 891.7KB/s   00:01    \r\n",
        "\r",
        "1.190.O.rearrange.genomecoverage.txt            0%    0     0.0KB/s   --:-- ETA"
       ]
      },
      {
       "output_type": "stream",
       "stream": "stdout",
       "text": [
        "\r",
        "1.190.O.rearrange.genomecoverage.txt          100%  415KB 414.6KB/s   00:00    \r\n"
       ]
      },
      {
       "output_type": "stream",
       "stream": "stdout",
       "text": [
        "\r",
        "1.199.A.rearrange.genomecoverage.txt            0%    0     0.0KB/s   --:-- ETA"
       ]
      },
      {
       "output_type": "stream",
       "stream": "stdout",
       "text": [
        "\r",
        "1.199.A.rearrange.genomecoverage.txt          100%  889KB 889.1KB/s   00:01    \r\n",
        "\r",
        "1.199.B.rearrange.genomecoverage.txt            0%    0     0.0KB/s   --:-- ETA"
       ]
      },
      {
       "output_type": "stream",
       "stream": "stdout",
       "text": [
        "\r",
        "1.199.B.rearrange.genomecoverage.txt          100%  892KB 891.7KB/s   00:00    \r\n",
        "\r",
        "1.213.O.rearrange.genomecoverage.txt            0%    0     0.0KB/s   --:-- ETA"
       ]
      },
      {
       "output_type": "stream",
       "stream": "stdout",
       "text": [
        "\r",
        "1.213.O.rearrange.genomecoverage.txt          100%  777KB 776.7KB/s   00:01    \r\n",
        "\r",
        "1.214.O.rearrange.genomecoverage.txt            0%    0     0.0KB/s   --:-- ETA"
       ]
      },
      {
       "output_type": "stream",
       "stream": "stdout",
       "text": [
        "\r",
        "1.214.O.rearrange.genomecoverage.txt          100%  809KB 809.3KB/s   00:00    \r\n"
       ]
      },
      {
       "output_type": "stream",
       "stream": "stdout",
       "text": [
        "\r",
        "1.216.O.rearrange.genomecoverage.txt            0%    0     0.0KB/s   --:-- ETA"
       ]
      },
      {
       "output_type": "stream",
       "stream": "stdout",
       "text": [
        "\r",
        "1.216.O.rearrange.genomecoverage.txt          100%  757KB 756.6KB/s   00:01    \r\n",
        "\r",
        "1.236.O.rearrange.genomecoverage.txt            0%    0     0.0KB/s   --:-- ETA"
       ]
      },
      {
       "output_type": "stream",
       "stream": "stdout",
       "text": [
        "\r",
        "1.236.O.rearrange.genomecoverage.txt          100%  780KB 780.4KB/s   00:01    \r\n"
       ]
      },
      {
       "output_type": "stream",
       "stream": "stdout",
       "text": [
        "\r",
        "1.239.O.rearrange.genomecoverage.txt            0%    0     0.0KB/s   --:-- ETA"
       ]
      },
      {
       "output_type": "stream",
       "stream": "stdout",
       "text": [
        "\r",
        "1.239.O.rearrange.genomecoverage.txt          100%  706KB 705.7KB/s   00:00    \r\n"
       ]
      },
      {
       "output_type": "stream",
       "stream": "stdout",
       "text": [
        "\r",
        "1.243.O.rearrange.genomecoverage.txt            0%    0     0.0KB/s   --:-- ETA"
       ]
      },
      {
       "output_type": "stream",
       "stream": "stdout",
       "text": [
        "\r",
        "1.243.O.rearrange.genomecoverage.txt          100%  887KB 887.4KB/s   00:01    \r\n",
        "\r",
        "1.248.O.rearrange.genomecoverage.txt            0%    0     0.0KB/s   --:-- ETA"
       ]
      },
      {
       "output_type": "stream",
       "stream": "stdout",
       "text": [
        "\r",
        "1.248.O.rearrange.genomecoverage.txt          100%  933KB 932.5KB/s   00:00    \r\n",
        "\r",
        "1.256.O.rearrange.genomecoverage.txt            0%    0     0.0KB/s   --:-- ETA"
       ]
      },
      {
       "output_type": "stream",
       "stream": "stdout",
       "text": [
        "\r",
        "1.256.O.rearrange.genomecoverage.txt          100%  876KB 876.2KB/s   00:01    \r\n",
        "\r",
        "1.259.O.rearrange.genomecoverage.txt            0%    0     0.0KB/s   --:-- ETA"
       ]
      },
      {
       "output_type": "stream",
       "stream": "stdout",
       "text": [
        "\r",
        "1.259.O.rearrange.genomecoverage.txt          100%  511KB 511.4KB/s   00:01    \r\n"
       ]
      },
      {
       "output_type": "stream",
       "stream": "stdout",
       "text": [
        "\r",
        "1.263.A.rearrange.genomecoverage.txt            0%    0     0.0KB/s   --:-- ETA"
       ]
      },
      {
       "output_type": "stream",
       "stream": "stdout",
       "text": [
        "\r",
        "1.263.A.rearrange.genomecoverage.txt          100%  915KB 915.1KB/s   00:01    \r\n",
        "\r",
        "1.263.B.rearrange.genomecoverage.txt            0%    0     0.0KB/s   --:-- ETA"
       ]
      },
      {
       "output_type": "stream",
       "stream": "stdout",
       "text": [
        "\r",
        "1.263.B.rearrange.genomecoverage.txt          100%  864KB 864.2KB/s   00:01    \r\n",
        "\r",
        "1.273.O.rearrange.genomecoverage.txt            0%    0     0.0KB/s   --:-- ETA"
       ]
      },
      {
       "output_type": "stream",
       "stream": "stdout",
       "text": [
        "\r",
        "1.273.O.rearrange.genomecoverage.txt          100%  882KB 882.3KB/s   00:00    \r\n",
        "\r",
        "1.275.O.rearrange.genomecoverage.txt            0%    0     0.0KB/s   --:-- ETA"
       ]
      },
      {
       "output_type": "stream",
       "stream": "stdout",
       "text": [
        "\r",
        "1.275.O.rearrange.genomecoverage.txt          100%  693KB 692.7KB/s   00:01    \r\n"
       ]
      },
      {
       "output_type": "stream",
       "stream": "stdout",
       "text": [
        "\r",
        "1.278.O.rearrange.genomecoverage.txt            0%    0     0.0KB/s   --:-- ETA"
       ]
      },
      {
       "output_type": "stream",
       "stream": "stdout",
       "text": [
        "\r",
        "1.278.O.rearrange.genomecoverage.txt          100%  904KB 903.5KB/s   00:00    \r\n",
        "\r",
        "1.286.O.rearrange.genomecoverage.txt            0%    0     0.0KB/s   --:-- ETA"
       ]
      },
      {
       "output_type": "stream",
       "stream": "stdout",
       "text": [
        "\r",
        "1.286.O.rearrange.genomecoverage.txt          100%  901KB 900.8KB/s   00:01    \r\n"
       ]
      }
     ],
     "prompt_number": 69
    },
    {
     "cell_type": "code",
     "collapsed": false,
     "input": [
      "startpoint"
     ],
     "language": "python",
     "metadata": {},
     "outputs": [
      {
       "metadata": {},
       "output_type": "pyout",
       "prompt_number": 75,
       "text": [
        "'1.199.B.\\t33909\\n1.155.O.\\t4230\\n1.243.O.\\t15207\\n1.003.O.\\t4014\\n1.214.O.\\t24135\\n1.105.O.\\t35163\\n1.236.O.\\t24353\\n1.173.O.\\t10912\\n1.177.O.\\t4729\\n1.213.O.\\t34875\\n1.278.O.\\t48062\\n1.239.O.\\t25017\\n1.036.O.\\t40982\\n1.016.O.\\t35243\\n1.259.O.\\t12037\\n1.199.A.\\t942\\n1.013.O.\\t18532\\n1.166.O.\\t8369\\n1.256.O.\\t35014\\n1.273.O.\\t29090\\n1.263.B.\\t488\\n1.123.O.\\t45647\\n1.184.A.\\t40886\\n1.039.O.\\t44814\\n1.110.O.\\t6606\\n1.275.O.\\t6403\\n1.067.O.\\t24816\\n1.112.O.\\t46116\\n1.286.O.\\t20327\\n1.149.O.\\t40469\\n1.186.O.\\t41432\\n1.079.O.\\t28209\\n1.091.O.\\t6721\\n1.137.O.\\t14662\\n1.190.O.\\t33270\\n1.106.O.\\t18723\\n1.090.B.\\t1430\\n1.071.A.\\t32926\\n1.042.O.\\t-4191\\n1.263.A.\\t43250\\n1.135.O.\\t25288\\n1.061.O.\\t24283\\n1.216.O.\\t11376\\n1.248.O.\\t4141\\n1.144.O.\\t30659\\n1.007.O.\\t41647\\n1.052.A.\\t35944\\n'"
       ]
      }
     ],
     "prompt_number": 75
    },
    {
     "cell_type": "code",
     "collapsed": false,
     "input": [
      "%%R -i grouplist -i startpoint\n",
      "#create coverage plots for each genome\n",
      "split<-textConnection(startpoint,open=\"r\",encoding=\"UTF-8\")\n",
      "splitpoint<-read.table(split, sep=\"\\t\", header=FALSE)\n",
      "splitpoint\n",
      "for (item in grouplist){\n",
      "    row<-splitpoint[splitpoint$V1==item,]\n",
      "    filename<-paste(item,\"rearrange.genomecoverage.txt\",sep=\"\")\n",
      "    coverage<-read.table(filename, sep=\"\\t\")\n",
      "    pdf(paste(item,\"rearrange.coverage.plot.pdf\", sep=\"\"))\n",
      "    with(coverage, plot(V2, V3, type=\"n\",xlab=\"position\",ylab=\"coverage\", main=item))\n",
      "    with(coverage, lines(V2,V3))\n",
      "    points(row$V2, mean(coverage$V3), col=\"red\", pch=19, cex=1.5)\n",
      "    dev.off()\n",
      "    \n",
      "}\n",
      "\n"
     ],
     "language": "python",
     "metadata": {},
     "outputs": [],
     "prompt_number": 88
    },
    {
     "cell_type": "code",
     "collapsed": false,
     "input": [
      "for (item in grouplist){\n",
      "    filename<-paste(item,\"rearrange.genomecoverage.txt\",sep=\"\")\n",
      "    count<-count+1\n",
      "    coverage<-read.table(filename, sep=\"\\t\")\n",
      "    pdf(paste(item,\"rearrange.coverage.plot.pdf\", sep=\"\"))\n",
      "    with(coverage, plot(V2, V3, type=\"n\",xlab=\"position\",ylab=\"coverage\", main=item))\n",
      "    with(coverage, lines(V2,V3))\n",
      "    points(splitpoint$2[splitpoint$1==item,], mean(coverage$V3), col=\"red\", pch=19, cex=1.5)\n",
      "    dev.off()\n",
      "    \n",
      "}"
     ],
     "language": "python",
     "metadata": {},
     "outputs": []
    },
    {
     "cell_type": "code",
     "collapsed": false,
     "input": [],
     "language": "python",
     "metadata": {},
     "outputs": [],
     "prompt_number": 88
    },
    {
     "cell_type": "code",
     "collapsed": false,
     "input": [],
     "language": "python",
     "metadata": {},
     "outputs": []
    },
    {
     "cell_type": "code",
     "collapsed": false,
     "input": [],
     "language": "python",
     "metadata": {},
     "outputs": []
    },
    {
     "cell_type": "code",
     "collapsed": false,
     "input": [],
     "language": "python",
     "metadata": {},
     "outputs": []
    },
    {
     "cell_type": "code",
     "collapsed": false,
     "input": [],
     "language": "python",
     "metadata": {},
     "outputs": []
    },
    {
     "cell_type": "markdown",
     "metadata": {},
     "source": [
      "##Commence victory lap:"
     ]
    },
    {
     "cell_type": "code",
     "collapsed": false,
     "input": [
      "!mkdir final_genomes\n",
      "!scp jbrown@eofe4.mit.edu:/nobackup1/jbrown/nahant_phage_reads/group4/*final.fasta ./final_genomes/\n",
      "!scp jbrown@eofe4.mit.edu:/nobackup1/jbrown/nahant_phage_reads/group4/fastq.list.txt ./final_genomes/"
     ],
     "language": "python",
     "metadata": {},
     "outputs": [
      {
       "output_type": "stream",
       "stream": "stdout",
       "text": [
        "\r",
        "fastq.list.txt                                  0%    0     0.0KB/s   --:-- ETA"
       ]
      },
      {
       "output_type": "stream",
       "stream": "stdout",
       "text": [
        "\r",
        "fastq.list.txt                                100% 1286     1.3KB/s   00:00    \r\n"
       ]
      }
     ],
     "prompt_number": 47
    },
    {
     "cell_type": "markdown",
     "metadata": {},
     "source": [
      "###Re-name FASTA files for full phage name"
     ]
    },
    {
     "cell_type": "code",
     "collapsed": false,
     "input": [
      "from pyfaidx import Fasta\n",
      "\n",
      "for element in open(\"./final_genomes/fastq.list.txt\"):\n",
      "    a=element.rstrip(\"\\n\")\n",
      "    v=a.split(\"f\")\n",
      "    name=str(v[0])\n",
      "    b=v[0].split(\"_\")\n",
      "    virfile=\"./final_genomes/\"+b[0]+\"final.fasta\"\n",
      "    f=Fasta(virfile)\n",
      "    sequence=str(f[0])\n",
      "    output=open(\"./final_genomes/\"+name+\"final.fasta\",\"w\")\n",
      "    output.write(\">Vibriophage_\"+name+\"\\n\"+sequence)\n",
      "    output.close()"
     ],
     "language": "python",
     "metadata": {},
     "outputs": [],
     "prompt_number": 52
    },
    {
     "cell_type": "code",
     "collapsed": false,
     "input": [
      "!mv ./final_genomes/*10N*final* ./ToSubmit/"
     ],
     "language": "python",
     "metadata": {},
     "outputs": [
      {
       "output_type": "stream",
       "stream": "stdout",
       "text": [
        "/bin/sh: mdkir: command not found\r\n"
       ]
      }
     ],
     "prompt_number": 55
    },
    {
     "cell_type": "markdown",
     "metadata": {},
     "source": [
      "###Submit to RASTtk for annotation"
     ]
    },
    {
     "cell_type": "code",
     "collapsed": false,
     "input": [
      "import glob\n",
      "\n",
      "os.chdir(\"./ToSubmit\")\n",
      "\n",
      "f1=glob.glob(\"*.fasta\")\n",
      "out=open(\"to_gto.sh\",\"w\")\n",
      "out.write(\"mkdir ToSubmit\\n\\n\")\n",
      "for line in f1:\n",
      "    gto=line.replace(\"final.fasta\",\"\")\n",
      "    name=\"Vibriophage_\"+gto\n",
      "    out.write('rast-create-genome --scientific-name \"Vibriophage '+name+'\" --genetic-code 11 --domain Virus --contigs '+line+' > ./ToSubmit/'+gto+'gto'+\"\\n\\nsleep 5\\n\\n\")\n",
      "out.close()\n",
      "!open to_gto.sh -a textedit"
     ],
     "language": "python",
     "metadata": {},
     "outputs": [],
     "prompt_number": 56
    },
    {
     "cell_type": "code",
     "collapsed": false,
     "input": [
      "rast-process-genome-batch --workflow vir_genomes.workflow2.json ./ToSubmit\n",
      "Submission ID: 287e997c-b35d-41d4-ae8f-6100841f141a\n",
      "rast-query-genome-batch 287e997c-b35d-41d4-ae8f-6100841f141a\n",
      "mkdir RASTtk_annotated\n",
      "rast-download-genome-batch 287e997c-b35d-41d4-ae8f-6100841f141a RASTtk_annotated"
     ],
     "language": "python",
     "metadata": {},
     "outputs": []
    },
    {
     "cell_type": "code",
     "collapsed": false,
     "input": [
      "import glob\n",
      "import os\n",
      "\n",
      "os.chdir(\"/Users/jmb/Desktop/ViralFate/PhageGenomeAssembly/group4/ToSubmit/RASTtk_annotated/\")\n",
      "gtos=glob.glob(\"*gto.gto\")\n",
      "\n",
      "toconvert=open(\"gto_to_gbk.sh\",\"w\")\n",
      "todo=\"\"\n",
      "for line in gtos:\n",
      "    gbk=line.replace(\".gto.gto\",\".gbk\")\n",
      "    todo+=\"rast-export-genome genbank <\"+line+\"> \"+gbk+\"\\n\"+\"sleep 30\\n\"\n",
      "toconvert.write(todo)\n",
      "toconvert.close()\n",
      "!open gto_to_gbk.sh -a textedit"
     ],
     "language": "python",
     "metadata": {},
     "outputs": [],
     "prompt_number": 59
    },
    {
     "cell_type": "code",
     "collapsed": false,
     "input": [
      "pwd"
     ],
     "language": "python",
     "metadata": {},
     "outputs": [
      {
       "metadata": {},
       "output_type": "pyout",
       "prompt_number": 58,
       "text": [
        "u'/Users/jmb/Desktop/ViralFate/PhageGenomeAssembly/group4/ToSubmit/RASTtk_annotated'"
       ]
      }
     ],
     "prompt_number": 58
    },
    {
     "cell_type": "code",
     "collapsed": false,
     "input": [],
     "language": "python",
     "metadata": {},
     "outputs": []
    }
   ],
   "metadata": {}
  }
 ]
}