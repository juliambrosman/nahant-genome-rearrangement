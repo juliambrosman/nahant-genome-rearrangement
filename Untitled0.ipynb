{
 "metadata": {
  "name": "",
  "signature": "sha256:923532573fd8a03d9818dc3faac510f167bde59a76e257aa034000584033d09f"
 },
 "nbformat": 3,
 "nbformat_minor": 0,
 "worksheets": [
  {
   "cells": [
    {
     "cell_type": "code",
     "collapsed": false,
     "input": [
      "from Bio.Align.Applications import MuscleCommandline"
     ],
     "language": "python",
     "metadata": {},
     "outputs": [],
     "prompt_number": 1
    },
    {
     "cell_type": "code",
     "collapsed": false,
     "input": [],
     "language": "python",
     "metadata": {},
     "outputs": []
    }
   ],
   "metadata": {}
  }
 ]
}