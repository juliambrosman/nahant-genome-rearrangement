{
 "metadata": {
  "name": "",
  "signature": "sha256:7bc0275af2013b741bd87c0a24d2bfa87eec1c15ff4946767daba2c0f9d817e7"
 },
 "nbformat": 3,
 "nbformat_minor": 0,
 "worksheets": [
  {
   "cells": [
    {
     "cell_type": "code",
     "collapsed": false,
     "input": [
      "pwd"
     ],
     "language": "python",
     "metadata": {},
     "outputs": [
      {
       "metadata": {},
       "output_type": "pyout",
       "prompt_number": 1,
       "text": [
        "u'/Users/jmb/Desktop/ViralFate/PhageGenomeAssembly'"
       ]
      }
     ],
     "prompt_number": 1
    },
    {
     "cell_type": "code",
     "collapsed": false,
     "input": [
      "import os\n",
      "group=\"group15\"\n",
      "\n",
      "prelim_groups=open(\"phage_by_group.txt\")\n",
      "phage_grp={}\n",
      "for line in prelim_groups.readlines():\n",
      "    line=line.rstrip(\"\\n\")\n",
      "    vec=line.split(\"\\t\")\n",
      "    phage_grp[vec[0]]=vec[1]\n",
      "groups=list(phage_grp.values())\n",
      "unique=[]\n",
      "for value in groups:\n",
      "    if value not in unique:\n",
      "        unique.append(value)\n",
      "group15=[]\n",
      "for value in phage_grp.keys():\n",
      "    if phage_grp.get(value)=='CNSv2.0:15':\n",
      "        group15.append(value)\n",
      "print(group15)\n",
      "os.chdir(\"./\"+group)"
     ],
     "language": "python",
     "metadata": {},
     "outputs": [
      {
       "output_type": "stream",
       "stream": "stdout",
       "text": [
        "['2.092.O.', '1.011.O.', '1.141.A.', '1.095.O.', '1.107.B.', '1.069.O.', '1.008.O.', '1.102.O.', '1.107.C.', '1.080.O.', '1.062.O.', '1.043.O.', '1.249.B.', '1.249.A.', '1.020.O.', '1.048.O.', '1.057.O.', '1.125.O.', '1.044.O.', '1.107.A.', '1.040.O.']\n"
       ]
      }
     ],
     "prompt_number": 2
    },
    {
     "cell_type": "code",
     "collapsed": false,
     "input": [],
     "language": "python",
     "metadata": {},
     "outputs": [],
     "prompt_number": 11
    },
    {
     "cell_type": "code",
     "collapsed": false,
     "input": [],
     "language": "python",
     "metadata": {},
     "outputs": [],
     "prompt_number": 12
    },
    {
     "cell_type": "code",
     "collapsed": false,
     "input": [
      "!scp move_group15.sh jbrown@eofe4.mit.edu:/nobackup1/jbrown/nahant_phage_reads/"
     ],
     "language": "python",
     "metadata": {},
     "outputs": [
      {
       "output_type": "stream",
       "stream": "stdout",
       "text": [
        "\r",
        "move_group15.sh                                 0%    0     0.0KB/s   --:-- ETA\r",
        "move_group15.sh                               100%  638     0.6KB/s   00:00    \r\n"
       ]
      }
     ],
     "prompt_number": 13
    },
    {
     "cell_type": "raw",
     "metadata": {},
     "source": [
      "On the server:\n",
      "ls *fastq>group15_fastqlist.txt"
     ]
    },
    {
     "cell_type": "code",
     "collapsed": false,
     "input": [
      "!scp jbrown@eofe4.mit.edu:/nobackup1/jbrown/nahant_phage_reads/group15/group15_fastqlist.txt ./"
     ],
     "language": "python",
     "metadata": {},
     "outputs": [
      {
       "output_type": "stream",
       "stream": "stdout",
       "text": [
        "\r",
        "group15_fastqlist.txt                           0%    0     0.0KB/s   --:-- ETA\r",
        "group15_fastqlist.txt                         100%  617     0.6KB/s   00:01    \r\n"
       ]
      }
     ],
     "prompt_number": 15
    },
    {
     "cell_type": "code",
     "collapsed": false,
     "input": [
      "step1c1=open(\"step1.contig1.sh\",\"w\")\n",
      "step1c1.write(\"#!/bin/bash\\n#SBATCH -n 16\\n#SBATCH -N 1\\n#SBATCH -o s1c1.out\\n#SBATCH -e s1c1.err\\n#SBATCH -p newnodes\\n\\n\")\n",
      "step1c1.write(\"module add engaging/clc-assembly-cell\\nmodule add engaging/samtools/1.1\\nmodule add engaging/bedtools/2.22.1\\n\\n\")\n",
      "for line in group15:\n",
      "    name=line.rstrip(\"\\n\")\n",
      "    step1c1.write(\"\\n\\n#\"+name+\"\\nclc_assembler -o \"+name+\"step1.clc.fasta -m 500 -w 64 -p fb ss 100 300 -q \"+ name+\"*.fastq\\n\")\n",
      "    step1c1.write(\"samtools faidx \"+name+\"step1.clc.fasta 'contig_1'>\"+name+\"step1.contig1.fasta\\n\\nclc_mapper -o \"+name+\"step1.contig1.cas -p fb ss 100 300 -q \"+name+\"*.fastq -d \"+name+\"step1.contig1.fasta -a local -r ignore\\n\")\n",
      "    step1c1.write(\"clc_cas_to_sam -a \"+name+\"step1.contig1.cas -o \"+name+\"step1.contig1.bam\\n\\nsamtools sort \"+name+\"step1.contig1.bam \"+name+\"sorted.step1.contig1\\nsamtools index \"+name+\"sorted.step1.contig1.bam\\n\\nbedtools genomecov -ibam \"+name+\"sorted.step1.contig1.bam -d > \"+name+\"step1.contig1.genomecoverage.txt\\n\\n\")\n",
      "    \n",
      "step1c1.close()\n",
      "!open step1.contig1.sh -a textedit"
     ],
     "language": "python",
     "metadata": {},
     "outputs": [],
     "prompt_number": 5
    },
    {
     "cell_type": "code",
     "collapsed": false,
     "input": [
      "!scp step1.contig1.sh jbrown@eofe4.mit.edu:/nobackup1/jbrown/nahant_phage_reads/group15/"
     ],
     "language": "python",
     "metadata": {},
     "outputs": [
      {
       "output_type": "stream",
       "stream": "stdout",
       "text": [
        "\r",
        "step1.contig1.sh                                0%    0     0.0KB/s   --:-- ETA\r",
        "step1.contig1.sh                              100%   13KB  12.6KB/s   00:00    \r\n"
       ]
      }
     ],
     "prompt_number": 6
    },
    {
     "cell_type": "code",
     "collapsed": false,
     "input": [
      "!scp jbrown@eofe4.mit.edu:/nobackup1/jbrown/nahant_phage_reads/group15/*step1.contig1.fasta ./"
     ],
     "language": "python",
     "metadata": {},
     "outputs": [
      {
       "output_type": "stream",
       "stream": "stdout",
       "text": [
        "\r",
        "1.008.O.step1.contig1.fasta                     0%    0     0.0KB/s   --:-- ETA"
       ]
      },
      {
       "output_type": "stream",
       "stream": "stdout",
       "text": [
        "\r",
        "1.008.O.step1.contig1.fasta                   100% 9683     9.5KB/s   00:00    \r\n",
        "\r",
        "1.011.O.step1.contig1.fasta                     0%    0     0.0KB/s   --:-- ETA"
       ]
      },
      {
       "output_type": "stream",
       "stream": "stdout",
       "text": [
        "\r",
        "1.011.O.step1.contig1.fasta                   100%   10KB  10.4KB/s   00:00    \r\n",
        "\r",
        "1.020.O.step1.contig1.fasta                     0%    0     0.0KB/s   --:-- ETA"
       ]
      },
      {
       "output_type": "stream",
       "stream": "stdout",
       "text": [
        "\r",
        "1.020.O.step1.contig1.fasta                   100%  739     0.7KB/s   00:00    \r\n",
        "\r",
        "1.040.O.step1.contig1.fasta                     0%    0     0.0KB/s   --:-- ETA"
       ]
      },
      {
       "output_type": "stream",
       "stream": "stdout",
       "text": [
        "\r",
        "1.040.O.step1.contig1.fasta                   100% 9974     9.7KB/s   00:00    \r\n",
        "\r",
        "1.043.O.step1.contig1.fasta                     0%    0     0.0KB/s   --:-- ETA"
       ]
      },
      {
       "output_type": "stream",
       "stream": "stdout",
       "text": [
        "\r",
        "1.043.O.step1.contig1.fasta                   100% 8757     8.6KB/s   00:00    \r\n",
        "\r",
        "1.044.O.step1.contig1.fasta                     0%    0     0.0KB/s   --:-- ETA"
       ]
      },
      {
       "output_type": "stream",
       "stream": "stdout",
       "text": [
        "\r",
        "1.044.O.step1.contig1.fasta                   100%   10KB  10.1KB/s   00:00    \r\n",
        "\r",
        "1.048.O.step1.contig1.fasta                     0%    0     0.0KB/s   --:-- ETA"
       ]
      },
      {
       "output_type": "stream",
       "stream": "stdout",
       "text": [
        "\r",
        "1.048.O.step1.contig1.fasta                   100%   10KB  10.3KB/s   00:00    \r\n"
       ]
      },
      {
       "output_type": "stream",
       "stream": "stdout",
       "text": [
        "\r",
        "1.057.O.step1.contig1.fasta                     0%    0     0.0KB/s   --:-- ETA"
       ]
      },
      {
       "output_type": "stream",
       "stream": "stdout",
       "text": [
        "\r",
        "1.057.O.step1.contig1.fasta                   100%   10KB  10.1KB/s   00:00    \r\n",
        "\r",
        "1.062.O.step1.contig1.fasta                     0%    0     0.0KB/s   --:-- ETA"
       ]
      },
      {
       "output_type": "stream",
       "stream": "stdout",
       "text": [
        "\r",
        "1.062.O.step1.contig1.fasta                   100%   10KB  10.4KB/s   00:00    \r\n",
        "\r",
        "1.069.O.step1.contig1.fasta                     0%    0     0.0KB/s   --:-- ETA"
       ]
      },
      {
       "output_type": "stream",
       "stream": "stdout",
       "text": [
        "\r",
        "1.069.O.step1.contig1.fasta                   100% 9679     9.5KB/s   00:00    \r\n",
        "\r",
        "1.080.O.step1.contig1.fasta                     0%    0     0.0KB/s   --:-- ETA"
       ]
      },
      {
       "output_type": "stream",
       "stream": "stdout",
       "text": [
        "\r",
        "1.080.O.step1.contig1.fasta                   100%   10KB   9.9KB/s   00:00    \r\n"
       ]
      },
      {
       "output_type": "stream",
       "stream": "stdout",
       "text": [
        "\r",
        "1.095.O.step1.contig1.fasta                     0%    0     0.0KB/s   --:-- ETA\r",
        "1.095.O.step1.contig1.fasta                   100%   10KB  10.3KB/s   00:00    \r\n"
       ]
      },
      {
       "output_type": "stream",
       "stream": "stdout",
       "text": [
        "\r",
        "1.102.O.step1.contig1.fasta                     0%    0     0.0KB/s   --:-- ETA\r",
        "1.102.O.step1.contig1.fasta                   100% 8968     8.8KB/s   00:00    \r\n"
       ]
      },
      {
       "output_type": "stream",
       "stream": "stdout",
       "text": [
        "\r",
        "1.107.A.step1.contig1.fasta                     0%    0     0.0KB/s   --:-- ETA\r",
        "1.107.A.step1.contig1.fasta                   100%   10KB  10.3KB/s   00:00    \r\n"
       ]
      },
      {
       "output_type": "stream",
       "stream": "stdout",
       "text": [
        "\r",
        "1.107.B.step1.contig1.fasta                     0%    0     0.0KB/s   --:-- ETA\r",
        "1.107.B.step1.contig1.fasta                   100%   10KB  10.3KB/s   00:00    \r\n"
       ]
      },
      {
       "output_type": "stream",
       "stream": "stdout",
       "text": [
        "\r",
        "1.107.C.step1.contig1.fasta                     0%    0     0.0KB/s   --:-- ETA"
       ]
      },
      {
       "output_type": "stream",
       "stream": "stdout",
       "text": [
        "\r",
        "1.107.C.step1.contig1.fasta                   100%   10KB  10.3KB/s   00:00    \r\n",
        "\r",
        "1.125.O.step1.contig1.fasta                     0%    0     0.0KB/s   --:-- ETA"
       ]
      },
      {
       "output_type": "stream",
       "stream": "stdout",
       "text": [
        "\r",
        "1.125.O.step1.contig1.fasta                   100%   10KB  10.4KB/s   00:00    \r\n",
        "\r",
        "1.141.A.step1.contig1.fasta                     0%    0     0.0KB/s   --:-- ETA"
       ]
      },
      {
       "output_type": "stream",
       "stream": "stdout",
       "text": [
        "\r",
        "1.141.A.step1.contig1.fasta                   100%   10KB   9.9KB/s   00:00    \r\n"
       ]
      },
      {
       "output_type": "stream",
       "stream": "stdout",
       "text": [
        "\r",
        "1.249.A.step1.contig1.fasta                     0%    0     0.0KB/s   --:-- ETA\r",
        "1.249.A.step1.contig1.fasta                   100%   10KB  10.2KB/s   00:00    \r\n"
       ]
      },
      {
       "output_type": "stream",
       "stream": "stdout",
       "text": [
        "\r",
        "1.249.B.step1.contig1.fasta                     0%    0     0.0KB/s   --:-- ETA\r",
        "1.249.B.step1.contig1.fasta                   100%   11KB  10.6KB/s   00:00    \r\n"
       ]
      },
      {
       "output_type": "stream",
       "stream": "stdout",
       "text": [
        "\r",
        "2.092.O.step1.contig1.fasta                     0%    0     0.0KB/s   --:-- ETA\r",
        "2.092.O.step1.contig1.fasta                   100% 9686     9.5KB/s   00:00    \r\n"
       ]
      }
     ],
     "prompt_number": 36
    },
    {
     "cell_type": "markdown",
     "metadata": {},
     "source": [
      "###Re-orientation of contigs:"
     ]
    },
    {
     "cell_type": "code",
     "collapsed": false,
     "input": [
      "ls *.fasta"
     ],
     "language": "python",
     "metadata": {},
     "outputs": [
      {
       "output_type": "stream",
       "stream": "stdout",
       "text": [
        "1.008.O.s1c1.oc.fasta           1.095.O.step1.clc.fasta\r\n",
        "1.008.O.step1.clc.fasta         1.095.O.step1.contig1.fasta\r\n",
        "1.008.O.step1.contig1.fasta     1.102.O.step1.clc.fasta\r\n",
        "1.008.O.step1.contig1.oc.fasta  1.102.O.step1.contig1.fasta\r\n",
        "1.011.O.s1c1.oc.fasta           1.107.A.step1.clc.fasta\r\n",
        "1.011.O.step1.clc.fasta         1.107.A.step1.contig1.fasta\r\n",
        "1.011.O.step1.contig1.fasta     1.107.B.step1.clc.fasta\r\n",
        "1.020.O.step1.clc.fasta         1.107.B.step1.contig1.fasta\r\n",
        "1.020.O.step1.contig1.fasta     1.107.C.step1.clc.fasta\r\n",
        "1.040.O.s1c1.oc.fasta           1.107.C.step1.contig1.fasta\r\n",
        "1.040.O.step1.clc.fasta         1.125.O.s1c1.oc.fasta\r\n",
        "1.040.O.step1.contig1.fasta     1.125.O.step1.clc.fasta\r\n",
        "1.043.O.step1.clc.fasta         1.125.O.step1.contig1.fasta\r\n",
        "1.043.O.step1.contig1.fasta     1.141.A.step1.clc.fasta\r\n",
        "1.044.O.step1.clc.fasta         1.141.A.step1.contig1.fasta\r\n",
        "1.044.O.step1.contig1.fasta     1.249.A.s1c1.oc.fasta\r\n",
        "1.048.O.step1.clc.fasta         1.249.A.step1.clc.fasta\r\n",
        "1.048.O.step1.contig1.fasta     1.249.A.step1.contig1.fasta\r\n",
        "1.057.O.step1.clc.fasta         1.249.B.s1c1.oc.fasta\r\n",
        "1.057.O.step1.contig1.fasta     1.249.B.step1.clc.fasta\r\n",
        "1.062.O.s1c1.oc.fasta           1.249.B.step1.contig1.fasta\r\n",
        "1.062.O.step1.clc.fasta         2.092.O.s1c1.oc.fasta\r\n",
        "1.062.O.step1.contig1.fasta     2.092.O.step1.clc.fasta\r\n",
        "1.069.O.s1c1.oc.fasta           2.092.O.step1.contig1.fasta\r\n",
        "1.069.O.step1.clc.fasta         MajCapProt.fasta\r\n",
        "1.069.O.step1.contig1.fasta     PkgATPase.fasta\r\n",
        "1.080.O.step1.clc.fasta         orientation_prots.fasta\r\n",
        "1.080.O.step1.contig1.fasta\r\n"
       ]
      }
     ],
     "prompt_number": 37
    },
    {
     "cell_type": "markdown",
     "metadata": {},
     "source": [
      "###Orientation proteins provided by Kathryn:\n",
      "\"The standard prot orientation for the Tectiviridae and Corticoviridae is with the packaging ATPase to the left and the major capsid protein to the right.\" "
     ]
    },
    {
     "cell_type": "code",
     "collapsed": false,
     "input": [
      "!scp orientation_prots.fasta MajCapProt.fasta PkgATPase.fasta jbrown@eofe4.mit.edu:/nobackup1/jbrown/nahant_phage_reads/group15/"
     ],
     "language": "python",
     "metadata": {},
     "outputs": [
      {
       "output_type": "stream",
       "stream": "stdout",
       "text": [
        "\r",
        "orientation_prots.fasta                         0%    0     0.0KB/s   --:-- ETA\r",
        "orientation_prots.fasta                       100%  501     0.5KB/s   00:00    \r\n"
       ]
      },
      {
       "output_type": "stream",
       "stream": "stdout",
       "text": [
        "\r",
        "MajCapProt.fasta                                0%    0     0.0KB/s   --:-- ETA\r",
        "MajCapProt.fasta                              100%  303     0.3KB/s   00:00    \r\n"
       ]
      },
      {
       "output_type": "stream",
       "stream": "stdout",
       "text": [
        "\r",
        "PkgATPase.fasta                                 0%    0     0.0KB/s   --:-- ETA\r",
        "PkgATPase.fasta                               100%  198     0.2KB/s   00:00    \r\n"
       ]
      }
     ],
     "prompt_number": 20
    },
    {
     "cell_type": "code",
     "collapsed": false,
     "input": [
      "### Set up script to BLAST initial assemblies against the orientation proteins\n",
      "script=open(\"orient_blast.sh\",\"w\")\n",
      "\n",
      "\n",
      "db_type=\"prot\"\n",
      "\n",
      "script.write(\"#!/bin/bash\\n#SBATCH -n 16\\n#SBATCH -N 1\\n#SBATCH -o orient_blast.out\\n#SBATCH -e orient_blast.err\\n#SBATCH -p sched_mit_chisholm\\n\\n\")\n",
      "script.write(\"module add engaging/ncbi-blast/2.2.30+\\n\\n\")\n",
      "\n",
      "library=\"MajCapProt.fasta\"\n",
      "target=\"MajCapProt\"\n",
      "\n",
      "script.write(\"makeblastdb -in \"+library+\" -dbtype \"+db_type+\"\\n\\n\")\n",
      "\n",
      "for line in group15:\n",
      "    script.write(\"blastx -db \"+library+\" -query \"+line+\"step1.contig1.fasta -outfmt 6 -num_descriptions 1 -evalue 0.001 -out \"+line+\"_vs_\"+target+\".txt\\n\\n\")\n",
      "\n",
      "    \n",
      "library=\"PkgATPase.fasta\"\n",
      "target=\"PkgATPase\"\n",
      "\n",
      "script.write(\"makeblastdb -in \"+library+\" -dbtype \"+db_type+\"\\n\\n\")\n",
      "\n",
      "for line in group15:\n",
      "    script.write(\"blastx -db \"+library+\" -query \"+line+\"step1.contig1.fasta -outfmt 6 -num_descriptions 1 -evalue 0.001 -out \"+line+\"_vs_\"+target+\".txt\\n\\n\")\n",
      "  \n",
      "script.close()\n",
      "\n",
      "\n",
      "!open orient_blast.sh -a textedit"
     ],
     "language": "python",
     "metadata": {},
     "outputs": [],
     "prompt_number": 22
    },
    {
     "cell_type": "code",
     "collapsed": false,
     "input": [
      "!scp orient_blast.sh jbrown@eofe4.mit.edu:/nobackup1/jbrown/nahant_phage_reads/group15/"
     ],
     "language": "python",
     "metadata": {},
     "outputs": [
      {
       "output_type": "stream",
       "stream": "stdout",
       "text": [
        "\r",
        "orient_blast.sh                                 0%    0     0.0KB/s   --:-- ETA\r",
        "orient_blast.sh                               100% 6097     6.0KB/s   00:00    \r\n"
       ]
      }
     ],
     "prompt_number": 23
    },
    {
     "cell_type": "code",
     "collapsed": false,
     "input": [
      "!mkdir orient_blasts\n",
      "!scp jbrown@eofe4.mit.edu:/nobackup1/jbrown/nahant_phage_reads/group15/*_vs_* ./orient_blasts/"
     ],
     "language": "python",
     "metadata": {},
     "outputs": [
      {
       "output_type": "stream",
       "stream": "stdout",
       "text": [
        "\r",
        "1.008.O._vs_MajCapProt.txt                      0%    0     0.0KB/s   --:-- ETA\r",
        "1.008.O._vs_MajCapProt.txt                    100%   61     0.1KB/s   00:00    \r\n"
       ]
      },
      {
       "output_type": "stream",
       "stream": "stdout",
       "text": [
        "\r",
        "1.008.O._vs_PkgATPase.txt                       0%    0     0.0KB/s   --:-- ETA\r",
        "1.008.O._vs_PkgATPase.txt                     100%   63     0.1KB/s   00:00    \r\n",
        "\r",
        "1.011.O._vs_MajCapProt.txt                      0%    0     0.0KB/s   --:-- ETA"
       ]
      },
      {
       "output_type": "stream",
       "stream": "stdout",
       "text": [
        "\r",
        "1.011.O._vs_MajCapProt.txt                    100%   61     0.1KB/s   00:00    \r\n",
        "\r",
        "1.011.O._vs_PkgATPase.txt                       0%    0     0.0KB/s   --:-- ETA"
       ]
      },
      {
       "output_type": "stream",
       "stream": "stdout",
       "text": [
        "\r",
        "1.011.O._vs_PkgATPase.txt                     100%   63     0.1KB/s   00:00    \r\n",
        "\r",
        "1.020.O._vs_MajCapProt.txt                    100%    0     0.0KB/s   00:00    \r\n"
       ]
      },
      {
       "output_type": "stream",
       "stream": "stdout",
       "text": [
        "\r",
        "1.020.O._vs_PkgATPase.txt                     100%    0     0.0KB/s   00:00    \r\n"
       ]
      },
      {
       "output_type": "stream",
       "stream": "stdout",
       "text": [
        "\r",
        "1.040.O._vs_MajCapProt.txt                      0%    0     0.0KB/s   --:-- ETA"
       ]
      },
      {
       "output_type": "stream",
       "stream": "stdout",
       "text": [
        "\r",
        "1.040.O._vs_MajCapProt.txt                    100%   61     0.1KB/s   00:00    \r\n",
        "\r",
        "1.040.O._vs_PkgATPase.txt                       0%    0     0.0KB/s   --:-- ETA\r",
        "1.040.O._vs_PkgATPase.txt                     100%   63     0.1KB/s   00:00    \r\n"
       ]
      },
      {
       "output_type": "stream",
       "stream": "stdout",
       "text": [
        "\r",
        "1.043.O._vs_MajCapProt.txt                      0%    0     0.0KB/s   --:-- ETA"
       ]
      },
      {
       "output_type": "stream",
       "stream": "stdout",
       "text": [
        "\r",
        "1.043.O._vs_MajCapProt.txt                    100%   64     0.1KB/s   00:00    \r\n",
        "\r",
        "1.043.O._vs_PkgATPase.txt                       0%    0     0.0KB/s   --:-- ETA"
       ]
      },
      {
       "output_type": "stream",
       "stream": "stdout",
       "text": [
        "\r",
        "1.043.O._vs_PkgATPase.txt                     100%   63     0.1KB/s   00:00    \r\n",
        "\r",
        "1.044.O._vs_MajCapProt.txt                      0%    0     0.0KB/s   --:-- ETA\r",
        "1.044.O._vs_MajCapProt.txt                    100%   64     0.1KB/s   00:00    \r\n"
       ]
      },
      {
       "output_type": "stream",
       "stream": "stdout",
       "text": [
        "\r",
        "1.044.O._vs_PkgATPase.txt                       0%    0     0.0KB/s   --:-- ETA\r",
        "1.044.O._vs_PkgATPase.txt                     100%   63     0.1KB/s   00:00    \r\n"
       ]
      },
      {
       "output_type": "stream",
       "stream": "stdout",
       "text": [
        "\r",
        "1.048.O._vs_MajCapProt.txt                      0%    0     0.0KB/s   --:-- ETA\r",
        "1.048.O._vs_MajCapProt.txt                    100%   64     0.1KB/s   00:00    \r\n"
       ]
      },
      {
       "output_type": "stream",
       "stream": "stdout",
       "text": [
        "\r",
        "1.048.O._vs_PkgATPase.txt                       0%    0     0.0KB/s   --:-- ETA\r",
        "1.048.O._vs_PkgATPase.txt                     100%   63     0.1KB/s   00:00    \r\n"
       ]
      },
      {
       "output_type": "stream",
       "stream": "stdout",
       "text": [
        "\r",
        "1.057.O._vs_MajCapProt.txt                      0%    0     0.0KB/s   --:-- ETA\r",
        "1.057.O._vs_MajCapProt.txt                    100%   64     0.1KB/s   00:00    \r\n",
        "\r",
        "1.057.O._vs_PkgATPase.txt                       0%    0     0.0KB/s   --:-- ETA"
       ]
      },
      {
       "output_type": "stream",
       "stream": "stdout",
       "text": [
        "\r",
        "1.057.O._vs_PkgATPase.txt                     100%   63     0.1KB/s   00:00    \r\n",
        "\r",
        "1.062.O._vs_MajCapProt.txt                      0%    0     0.0KB/s   --:-- ETA"
       ]
      },
      {
       "output_type": "stream",
       "stream": "stdout",
       "text": [
        "\r",
        "1.062.O._vs_MajCapProt.txt                    100%   61     0.1KB/s   00:00    \r\n",
        "\r",
        "1.062.O._vs_PkgATPase.txt                       0%    0     0.0KB/s   --:-- ETA"
       ]
      },
      {
       "output_type": "stream",
       "stream": "stdout",
       "text": [
        "\r",
        "1.062.O._vs_PkgATPase.txt                     100%   63     0.1KB/s   00:00    \r\n",
        "\r",
        "1.069.O._vs_MajCapProt.txt                      0%    0     0.0KB/s   --:-- ETA"
       ]
      },
      {
       "output_type": "stream",
       "stream": "stdout",
       "text": [
        "\r",
        "1.069.O._vs_MajCapProt.txt                    100%   61     0.1KB/s   00:00    \r\n",
        "\r",
        "1.069.O._vs_PkgATPase.txt                       0%    0     0.0KB/s   --:-- ETA"
       ]
      },
      {
       "output_type": "stream",
       "stream": "stdout",
       "text": [
        "\r",
        "1.069.O._vs_PkgATPase.txt                     100%   63     0.1KB/s   00:00    \r\n",
        "\r",
        "1.080.O._vs_MajCapProt.txt                      0%    0     0.0KB/s   --:-- ETA"
       ]
      },
      {
       "output_type": "stream",
       "stream": "stdout",
       "text": [
        "\r",
        "1.080.O._vs_MajCapProt.txt                    100%   64     0.1KB/s   00:00    \r\n",
        "\r",
        "1.080.O._vs_PkgATPase.txt                       0%    0     0.0KB/s   --:-- ETA\r",
        "1.080.O._vs_PkgATPase.txt                     100%   63     0.1KB/s   00:00    \r\n"
       ]
      },
      {
       "output_type": "stream",
       "stream": "stdout",
       "text": [
        "\r",
        "1.095.O._vs_MajCapProt.txt                      0%    0     0.0KB/s   --:-- ETA\r",
        "1.095.O._vs_MajCapProt.txt                    100%   64     0.1KB/s   00:00    \r\n"
       ]
      },
      {
       "output_type": "stream",
       "stream": "stdout",
       "text": [
        "\r",
        "1.095.O._vs_PkgATPase.txt                       0%    0     0.0KB/s   --:-- ETA\r",
        "1.095.O._vs_PkgATPase.txt                     100%   63     0.1KB/s   00:00    \r\n"
       ]
      },
      {
       "output_type": "stream",
       "stream": "stdout",
       "text": [
        "\r",
        "1.102.O._vs_MajCapProt.txt                      0%    0     0.0KB/s   --:-- ETA\r",
        "1.102.O._vs_MajCapProt.txt                    100%   64     0.1KB/s   00:00    \r\n"
       ]
      },
      {
       "output_type": "stream",
       "stream": "stdout",
       "text": [
        "\r",
        "1.102.O._vs_PkgATPase.txt                       0%    0     0.0KB/s   --:-- ETA\r",
        "1.102.O._vs_PkgATPase.txt                     100%   63     0.1KB/s   00:00    \r\n",
        "\r",
        "1.107.A._vs_MajCapProt.txt                      0%    0     0.0KB/s   --:-- ETA"
       ]
      },
      {
       "output_type": "stream",
       "stream": "stdout",
       "text": [
        "\r",
        "1.107.A._vs_MajCapProt.txt                    100%   64     0.1KB/s   00:00    \r\n",
        "\r",
        "1.107.A._vs_PkgATPase.txt                       0%    0     0.0KB/s   --:-- ETA"
       ]
      },
      {
       "output_type": "stream",
       "stream": "stdout",
       "text": [
        "\r",
        "1.107.A._vs_PkgATPase.txt                     100%   63     0.1KB/s   00:00    \r\n",
        "\r",
        "1.107.B._vs_MajCapProt.txt                      0%    0     0.0KB/s   --:-- ETA"
       ]
      },
      {
       "output_type": "stream",
       "stream": "stdout",
       "text": [
        "\r",
        "1.107.B._vs_MajCapProt.txt                    100%   64     0.1KB/s   00:00    \r\n",
        "\r",
        "1.107.B._vs_PkgATPase.txt                       0%    0     0.0KB/s   --:-- ETA"
       ]
      },
      {
       "output_type": "stream",
       "stream": "stdout",
       "text": [
        "\r",
        "1.107.B._vs_PkgATPase.txt                     100%   63     0.1KB/s   00:00    \r\n",
        "\r",
        "1.107.C._vs_MajCapProt.txt                      0%    0     0.0KB/s   --:-- ETA"
       ]
      },
      {
       "output_type": "stream",
       "stream": "stdout",
       "text": [
        "\r",
        "1.107.C._vs_MajCapProt.txt                    100%   64     0.1KB/s   00:00    \r\n",
        "\r",
        "1.107.C._vs_PkgATPase.txt                       0%    0     0.0KB/s   --:-- ETA\r",
        "1.107.C._vs_PkgATPase.txt                     100%   63     0.1KB/s   00:00    \r\n"
       ]
      },
      {
       "output_type": "stream",
       "stream": "stdout",
       "text": [
        "\r",
        "1.125.O._vs_MajCapProt.txt                      0%    0     0.0KB/s   --:-- ETA\r",
        "1.125.O._vs_MajCapProt.txt                    100%   61     0.1KB/s   00:00    \r\n"
       ]
      },
      {
       "output_type": "stream",
       "stream": "stdout",
       "text": [
        "\r",
        "1.125.O._vs_PkgATPase.txt                       0%    0     0.0KB/s   --:-- ETA\r",
        "1.125.O._vs_PkgATPase.txt                     100%   63     0.1KB/s   00:00    \r\n"
       ]
      },
      {
       "output_type": "stream",
       "stream": "stdout",
       "text": [
        "\r",
        "1.141.A._vs_MajCapProt.txt                      0%    0     0.0KB/s   --:-- ETA\r",
        "1.141.A._vs_MajCapProt.txt                    100%   64     0.1KB/s   00:00    \r\n"
       ]
      },
      {
       "output_type": "stream",
       "stream": "stdout",
       "text": [
        "\r",
        "1.141.A._vs_PkgATPase.txt                       0%    0     0.0KB/s   --:-- ETA\r",
        "1.141.A._vs_PkgATPase.txt                     100%   63     0.1KB/s   00:00    \r\n"
       ]
      },
      {
       "output_type": "stream",
       "stream": "stdout",
       "text": [
        "\r",
        "1.249.A._vs_MajCapProt.txt                      0%    0     0.0KB/s   --:-- ETA\r",
        "1.249.A._vs_MajCapProt.txt                    100%   64     0.1KB/s   00:00    \r\n"
       ]
      },
      {
       "output_type": "stream",
       "stream": "stdout",
       "text": [
        "\r",
        "1.249.A._vs_PkgATPase.txt                       0%    0     0.0KB/s   --:-- ETA\r",
        "1.249.A._vs_PkgATPase.txt                     100%   62     0.1KB/s   00:00    \r\n",
        "\r",
        "1.249.B._vs_MajCapProt.txt                      0%    0     0.0KB/s   --:-- ETA"
       ]
      },
      {
       "output_type": "stream",
       "stream": "stdout",
       "text": [
        "\r",
        "1.249.B._vs_MajCapProt.txt                    100%   66     0.1KB/s   00:00    \r\n",
        "\r",
        "1.249.B._vs_PkgATPase.txt                       0%    0     0.0KB/s   --:-- ETA"
       ]
      },
      {
       "output_type": "stream",
       "stream": "stdout",
       "text": [
        "\r",
        "1.249.B._vs_PkgATPase.txt                     100%   62     0.1KB/s   00:00    \r\n",
        "\r",
        "2.092.O._vs_MajCapProt.txt                      0%    0     0.0KB/s   --:-- ETA"
       ]
      },
      {
       "output_type": "stream",
       "stream": "stdout",
       "text": [
        "\r",
        "2.092.O._vs_MajCapProt.txt                    100%   61     0.1KB/s   00:00    \r\n",
        "\r",
        "2.092.O._vs_PkgATPase.txt                       0%    0     0.0KB/s   --:-- ETA"
       ]
      },
      {
       "output_type": "stream",
       "stream": "stdout",
       "text": [
        "\r",
        "2.092.O._vs_PkgATPase.txt                     100%   63     0.1KB/s   00:00    \r\n",
        "\r",
        "blast_clc_contigs_vs_host.sh                    0%    0     0.0KB/s   --:-- ETA"
       ]
      },
      {
       "output_type": "stream",
       "stream": "stdout",
       "text": [
        "\r",
        "blast_clc_contigs_vs_host.sh                  100% 4233     4.1KB/s   00:00    \r\n"
       ]
      }
     ],
     "prompt_number": 24
    },
    {
     "cell_type": "code",
     "collapsed": false,
     "input": [
      "ls -d */"
     ],
     "language": "python",
     "metadata": {},
     "outputs": [
      {
       "output_type": "stream",
       "stream": "stdout",
       "text": [
        "\u001b[34mGroup15/\u001b[m\u001b[m/          \u001b[34mgrp15_ForKathryn/\u001b[m\u001b[m/ \u001b[34morient_blasts/\u001b[m\u001b[m/\r\n"
       ]
      }
     ],
     "prompt_number": 29
    },
    {
     "cell_type": "code",
     "collapsed": false,
     "input": [
      "##Script to reorient contigs based on blast output\n",
      "\n",
      "from pyfaidx import Fasta\n",
      "from Bio.Seq import Seq\n",
      "\n",
      "for line in group15:\n",
      "    name=\"./orient_blasts/\"+line\n",
      "    outfasta=open(line+\"s1c1.oc.fasta\",\"w\")\n",
      "    outfasta.write(\">\"+line+\"\\n\")\n",
      "    \n",
      "    cap_blast_name=name+\"_vs_MajCapProt.txt\"\n",
      "    if os.path.getsize(cap_blast_name) > 0:\n",
      "        cap_blast=open(cap_blast_name).read()\n",
      "        cap_start=cap_blast.split(\"\\t\")[6]\n",
      "    else:\n",
      "        cap_start=\"NA\"\n",
      "    \n",
      "    ablast_name=name+\"_vs_PkgATPase.txt\"\n",
      "    if os.path.getsize(ablast_name) > 0:\n",
      "        ablast=open(ablast_name).read()\n",
      "        apase_start=ablast.split(\"\\t\")[6]\n",
      "    else:\n",
      "        apaste_start=\"NA\"\n",
      "    print(\"for \"+line+\"the capsid starts at:\"+str(cap_start)+\" and the ATPase starts at:\"+str(apase_start))\n",
      "    \n",
      "    \n",
      "    inputfasta=line+\"step1.contig1.fasta\"\n",
      "    f=Fasta(inputfasta)\n",
      "    viromelen=len(f[0])\n",
      "    print(viromelen)\n",
      "    threshhold=len(f[0])/2\n",
      "    sequence=str(f[0])\n",
      "    seq=Seq(str(sequence))\n",
      "    if cap_start!=\"NA\" and apase_start!=\"NA\":\n",
      "        if cap_start<apase_start:\n",
      "            print(line+\" is reverse\")\n",
      "            out_seq=seq.reverse_complement()\n",
      "        else:\n",
      "            print(line+\" is forward\")\n",
      "            out_seq=seq\n",
      "    elif cap_start==\"NA\":\n",
      "        if apase_start>threshhold:\n",
      "            print(line+\" is reverse\")\n",
      "            out_seq=seq.reverse_complement()\n",
      "        else:\n",
      "            out_seq=seq\n",
      "            print(line+\" is forward\")\n",
      "    else:\n",
      "        if cap_start<threshhold:\n",
      "            out_seq=seq.reverse_complement()\n",
      "            print(line+\" is reverse\")\n",
      "        else:\n",
      "            out_seq=seq\n",
      "            print(line+\" is forward\")\n",
      "    outfasta.write(str(out_seq))\n",
      "    outfasta.close()"
     ],
     "language": "python",
     "metadata": {},
     "outputs": [
      {
       "output_type": "stream",
       "stream": "stdout",
       "text": [
        "for 2.092.O.the capsid starts at:6224 and the ATPase starts at:4936\n",
        "9517\n",
        "2.092.O. is forward\n",
        "for 1.011.O.the capsid starts at:6223 and the ATPase starts at:4935\n",
        "10487\n",
        "1.011.O. is forward\n",
        "for 1.141.A.the capsid starts at:7894 and the ATPase starts at:9068\n",
        "9959\n",
        "1.141.A. is reverse\n",
        "for 1.095.O.the capsid starts at:6097 and the ATPase starts at:4922\n",
        "10346\n",
        "1.095.O. is forward\n",
        "for 1.107.B.the capsid starts at:6108 and the ATPase starts at:4933\n",
        "10392\n",
        "1.107.B. is forward\n",
        "for 1.069.O.the capsid starts at:6223 and the ATPase starts at:4935\n",
        "9510\n",
        "1.069.O. is forward\n",
        "for 1.008.O.the capsid starts at:6223 and the ATPase starts at:4935\n",
        "9514\n",
        "1.008.O. is forward\n",
        "for 1.102.O.the capsid starts at:6108 and the ATPase starts at:4933\n",
        "8811\n",
        "1.102.O. is forward\n",
        "for 1.107.C.the capsid starts at:4340 and the ATPase starts at:5515\n",
        "10357\n",
        "1.107.C. is reverse\n",
        "for 1.080.O.the capsid starts at:5696 and the ATPase starts at:4522\n",
        "9956\n",
        "1.080.O. is forward\n",
        "for 1.062.O.the capsid starts at:6249 and the ATPase starts at:4961\n",
        "10489\n",
        "1.062.O. is forward\n",
        "for 1.043.O.the capsid starts at:5933 and the ATPase starts at:4758\n",
        "8603\n",
        "1.043.O. is forward\n",
        "for 1.249.B.the capsid starts at:10125 and the ATPase starts at:9139\n",
        "10663\n",
        "1.249.B. is reverse\n",
        "for 1.249.A.the capsid starts at:5495 and the ATPase starts at:6481\n",
        "10259\n",
        "1.249.A. is reverse\n",
        "for 1.020.O.the capsid starts at:NA and the ATPase starts at:6481\n",
        "717\n",
        "1.020.O. is reverse\n",
        "for 1.048.O.the capsid starts at:6108 and the ATPase starts at:4933\n",
        "10357\n",
        "1.048.O. is forward\n",
        "for 1.057.O.the capsid starts at:4340 and the ATPase starts at:5515\n",
        "10183\n",
        "1.057.O. is reverse\n",
        "for 1.125.O.the capsid starts at:4357 and the ATPase starts at:5644\n",
        "10488\n",
        "1.125.O. is reverse\n",
        "for 1.044.O.the capsid starts at:5933 and the ATPase starts at:4758\n",
        "10182\n",
        "1.044.O. is forward\n",
        "for 1.107.A.the capsid starts at:6108 and the ATPase starts at:4933\n",
        "10357\n",
        "1.107.A. is forward\n",
        "for 1.040.O.the capsid starts at:4365 and the ATPase starts at:5653\n",
        "9800\n",
        "1.040.O. is reverse\n"
       ]
      }
     ],
     "prompt_number": 52
    },
    {
     "cell_type": "code",
     "collapsed": false,
     "input": [
      "!scp *s1c1.oc.fasta jbrown@eofe5.mit.edu:/nobackup1/jbrown/nahant_phage_reads/group15/"
     ],
     "language": "python",
     "metadata": {},
     "outputs": [
      {
       "output_type": "stream",
       "stream": "stdout",
       "text": [
        "\r",
        "1.008.O.s1c1.oc.fasta                           0%    0     0.0KB/s   --:-- ETA\r",
        "1.008.O.s1c1.oc.fasta                         100% 9524     9.3KB/s   00:00    \r\n"
       ]
      },
      {
       "output_type": "stream",
       "stream": "stdout",
       "text": [
        "\r",
        "1.011.O.s1c1.oc.fasta                           0%    0     0.0KB/s   --:-- ETA\r",
        "1.011.O.s1c1.oc.fasta                         100%   10KB  10.3KB/s   00:00    \r\n"
       ]
      },
      {
       "output_type": "stream",
       "stream": "stdout",
       "text": [
        "\r",
        "1.020.O.s1c1.oc.fasta                           0%    0     0.0KB/s   --:-- ETA\r",
        "1.020.O.s1c1.oc.fasta                         100%  727     0.7KB/s   00:00    \r\n"
       ]
      },
      {
       "output_type": "stream",
       "stream": "stdout",
       "text": [
        "\r",
        "1.040.O.s1c1.oc.fasta                           0%    0     0.0KB/s   --:-- ETA\r",
        "1.040.O.s1c1.oc.fasta                         100% 9810     9.6KB/s   00:00    \r\n",
        "\r",
        "1.043.O.s1c1.oc.fasta                           0%    0     0.0KB/s   --:-- ETA\r",
        "1.043.O.s1c1.oc.fasta                         100% 8613     8.4KB/s   00:00    \r\n"
       ]
      },
      {
       "output_type": "stream",
       "stream": "stdout",
       "text": [
        "\r",
        "1.044.O.s1c1.oc.fasta                           0%    0     0.0KB/s   --:-- ETA\r",
        "1.044.O.s1c1.oc.fasta                         100%   10KB  10.0KB/s   00:00    \r\n"
       ]
      },
      {
       "output_type": "stream",
       "stream": "stdout",
       "text": [
        "\r",
        "1.048.O.s1c1.oc.fasta                           0%    0     0.0KB/s   --:-- ETA\r",
        "1.048.O.s1c1.oc.fasta                         100%   10KB  10.1KB/s   00:00    \r\n"
       ]
      },
      {
       "output_type": "stream",
       "stream": "stdout",
       "text": [
        "\r",
        "1.057.O.s1c1.oc.fasta                           0%    0     0.0KB/s   --:-- ETA\r",
        "1.057.O.s1c1.oc.fasta                         100%   10KB  10.0KB/s   00:00    \r\n"
       ]
      },
      {
       "output_type": "stream",
       "stream": "stdout",
       "text": [
        "\r",
        "1.062.O.s1c1.oc.fasta                           0%    0     0.0KB/s   --:-- ETA\r",
        "1.062.O.s1c1.oc.fasta                         100%   10KB  10.3KB/s   00:00    \r\n"
       ]
      },
      {
       "output_type": "stream",
       "stream": "stdout",
       "text": [
        "\r",
        "1.069.O.s1c1.oc.fasta                           0%    0     0.0KB/s   --:-- ETA\r",
        "1.069.O.s1c1.oc.fasta                         100% 9520     9.3KB/s   00:00    \r\n",
        "\r",
        "1.080.O.s1c1.oc.fasta                           0%    0     0.0KB/s   --:-- ETA\r",
        "1.080.O.s1c1.oc.fasta                         100% 9966     9.7KB/s   00:00    \r\n"
       ]
      },
      {
       "output_type": "stream",
       "stream": "stdout",
       "text": [
        "\r",
        "1.095.O.s1c1.oc.fasta                           0%    0     0.0KB/s   --:-- ETA\r",
        "1.095.O.s1c1.oc.fasta                         100%   10KB  10.1KB/s   00:00    \r\n"
       ]
      },
      {
       "output_type": "stream",
       "stream": "stdout",
       "text": [
        "\r",
        "1.102.O.s1c1.oc.fasta                           0%    0     0.0KB/s   --:-- ETA\r",
        "1.102.O.s1c1.oc.fasta                         100% 8821     8.6KB/s   00:00    \r\n"
       ]
      },
      {
       "output_type": "stream",
       "stream": "stdout",
       "text": [
        "\r",
        "1.107.A.s1c1.oc.fasta                           0%    0     0.0KB/s   --:-- ETA\r",
        "1.107.A.s1c1.oc.fasta                         100%   10KB  10.1KB/s   00:00    \r\n"
       ]
      },
      {
       "output_type": "stream",
       "stream": "stdout",
       "text": [
        "\r",
        "1.107.B.s1c1.oc.fasta                           0%    0     0.0KB/s   --:-- ETA\r",
        "1.107.B.s1c1.oc.fasta                         100%   10KB  10.2KB/s   00:00    \r\n"
       ]
      },
      {
       "output_type": "stream",
       "stream": "stdout",
       "text": [
        "\r",
        "1.107.C.s1c1.oc.fasta                           0%    0     0.0KB/s   --:-- ETA\r",
        "1.107.C.s1c1.oc.fasta                         100%   10KB  10.1KB/s   00:00    \r\n"
       ]
      },
      {
       "output_type": "stream",
       "stream": "stdout",
       "text": [
        "\r",
        "1.125.O.s1c1.oc.fasta                           0%    0     0.0KB/s   --:-- ETA\r",
        "1.125.O.s1c1.oc.fasta                         100%   10KB  10.3KB/s   00:00    \r\n"
       ]
      },
      {
       "output_type": "stream",
       "stream": "stdout",
       "text": [
        "\r",
        "1.141.A.s1c1.oc.fasta                           0%    0     0.0KB/s   --:-- ETA\r",
        "1.141.A.s1c1.oc.fasta                         100% 9969     9.7KB/s   00:00    \r\n"
       ]
      },
      {
       "output_type": "stream",
       "stream": "stdout",
       "text": [
        "\r",
        "1.249.A.s1c1.oc.fasta                           0%    0     0.0KB/s   --:-- ETA\r",
        "1.249.A.s1c1.oc.fasta                         100%   10KB  10.0KB/s   00:00    \r\n"
       ]
      },
      {
       "output_type": "stream",
       "stream": "stdout",
       "text": [
        "\r",
        "1.249.B.s1c1.oc.fasta                           0%    0     0.0KB/s   --:-- ETA\r",
        "1.249.B.s1c1.oc.fasta                         100%   10KB  10.4KB/s   00:00    \r\n"
       ]
      },
      {
       "output_type": "stream",
       "stream": "stdout",
       "text": [
        "\r",
        "2.092.O.s1c1.oc.fasta                           0%    0     0.0KB/s   --:-- ETA\r",
        "2.092.O.s1c1.oc.fasta                         100% 9527     9.3KB/s   00:00    \r\n"
       ]
      }
     ],
     "prompt_number": 53
    },
    {
     "cell_type": "code",
     "collapsed": false,
     "input": [
      "script=open(\"step2.slurm\",\"w\")\n",
      "script.write(\"#!/bin/bash\\n#SBATCH -n 16\\n#SBATCH -N 1\\n#SBATCH -o rearrange.out\\n#SBATCH -e rearrange.err\\n#SBATCH -p sched_mit_chisholm\\n\\n\")\n",
      "script.write(\"module add engaging/clc-assembly-cell\\nmodule add engaging/samtools/1.1\\nmodule add engaging/bedtools/2.22.1\\n\\n\")\n",
      "\n",
      "for virus in group15:\n",
      "    target_seq=virus+\"s1c1.oc.fasta\"\n",
      "    reads=virus+\"*.fastq\"\n",
      "    name=\"./step2/\"+virus\n",
      "\n",
      "    script.write(\"clc_assembler -o \"+name+\"step2.clc.fasta -p fb ss 100 300 -q \"+reads+\" -p no -q \"+target_seq+\" -m 500 -w 64\\n\")\n",
      "    script.write(\"samtools faidx \"+name+\"step2.clc.fasta 'contig_1'>\"+name+\"step2.contig1.fasta\\n\\nclc_mapper -o \"+name+\"step2.contig1.cas -p fb ss 100 300 -q \"+name+\"*.fastq -d \"+name+\"step2.contig1.fasta -a local -r ignore\\n\")\n",
      "    script.write(\"clc_cas_to_sam -a \"+name+\"step2.contig1.cas -o \"+name+\"step2.contig1.bam\\n\\nsamtools sort \"+name+\"step2.contig1.bam \"+name+\"sorted.step2.contig1\\nsamtools index \"+name+\"sorted.step2.contig1.bam\\n\\nbedtools genomecov -ibam \"+name+\"sorted.step2.contig1.bam -d > \"+name+\"step2.contig1.genomecoverage.txt\\n\\n\")\n",
      "script.close()\n",
      "!open step2.slurm -a textedit"
     ],
     "language": "python",
     "metadata": {},
     "outputs": [],
     "prompt_number": 49
    },
    {
     "cell_type": "code",
     "collapsed": false,
     "input": [
      "!scp *step2.slurm jbrown@eofe5.mit.edu:/nobackup1/jbrown/nahant_phage_reads/group15/"
     ],
     "language": "python",
     "metadata": {},
     "outputs": [
      {
       "output_type": "stream",
       "stream": "stdout",
       "text": [
        "\r",
        "step2.slurm                                     0%    0     0.0KB/s   --:-- ETA\r",
        "step2.slurm                                   100%   15KB  15.1KB/s   00:00    \r\n"
       ]
      }
     ],
     "prompt_number": 54
    },
    {
     "cell_type": "code",
     "collapsed": false,
     "input": [
      "!scp jbrown@eofe5.mit.edu:/nobackup1/jbrown/nahant_phage_reads/group15/step2/*step2.contig1.fasta ./"
     ],
     "language": "python",
     "metadata": {},
     "outputs": [
      {
       "output_type": "stream",
       "stream": "stdout",
       "text": [
        "\r",
        "1.008.O.step2.contig1.fasta                     0%    0     0.0KB/s   --:-- ETA"
       ]
      },
      {
       "output_type": "stream",
       "stream": "stdout",
       "text": [
        "\r",
        "1.008.O.step2.contig1.fasta                   100%   11KB  10.5KB/s   00:01    \r\n"
       ]
      },
      {
       "output_type": "stream",
       "stream": "stdout",
       "text": [
        "\r",
        "1.011.O.step2.contig1.fasta                     0%    0     0.0KB/s   --:-- ETA"
       ]
      },
      {
       "output_type": "stream",
       "stream": "stdout",
       "text": [
        "\r",
        "1.011.O.step2.contig1.fasta                   100%   11KB  10.5KB/s   00:00    \r\n"
       ]
      },
      {
       "output_type": "stream",
       "stream": "stdout",
       "text": [
        "\r",
        "1.020.O.step2.contig1.fasta                     0%    0     0.0KB/s   --:-- ETA\r",
        "1.020.O.step2.contig1.fasta                   100%  525     0.5KB/s   00:00    \r\n"
       ]
      },
      {
       "output_type": "stream",
       "stream": "stdout",
       "text": [
        "\r",
        "1.040.O.step2.contig1.fasta                     0%    0     0.0KB/s   --:-- ETA"
       ]
      },
      {
       "output_type": "stream",
       "stream": "stdout",
       "text": [
        "\r",
        "1.040.O.step2.contig1.fasta                   100%   11KB  10.5KB/s   00:00    \r\n",
        "\r",
        "1.043.O.step2.contig1.fasta                     0%    0     0.0KB/s   --:-- ETA"
       ]
      },
      {
       "output_type": "stream",
       "stream": "stdout",
       "text": [
        "\r",
        "1.043.O.step2.contig1.fasta                   100%   10KB  10.2KB/s   00:00    \r\n",
        "\r",
        "1.044.O.step2.contig1.fasta                     0%    0     0.0KB/s   --:-- ETA"
       ]
      },
      {
       "output_type": "stream",
       "stream": "stdout",
       "text": [
        "\r",
        "1.044.O.step2.contig1.fasta                   100%   10KB  10.2KB/s   00:00    \r\n"
       ]
      },
      {
       "output_type": "stream",
       "stream": "stdout",
       "text": [
        "\r",
        "1.048.O.step2.contig1.fasta                     0%    0     0.0KB/s   --:-- ETA\r",
        "1.048.O.step2.contig1.fasta                   100%   10KB  10.4KB/s   00:00    \r\n"
       ]
      },
      {
       "output_type": "stream",
       "stream": "stdout",
       "text": [
        "\r",
        "1.057.O.step2.contig1.fasta                     0%    0     0.0KB/s   --:-- ETA\r",
        "1.057.O.step2.contig1.fasta                   100%   10KB  10.2KB/s   00:00    \r\n"
       ]
      },
      {
       "output_type": "stream",
       "stream": "stdout",
       "text": [
        "\r",
        "1.062.O.step2.contig1.fasta                     0%    0     0.0KB/s   --:-- ETA"
       ]
      },
      {
       "output_type": "stream",
       "stream": "stdout",
       "text": [
        "\r",
        "1.062.O.step2.contig1.fasta                   100%   11KB  10.5KB/s   00:00    \r\n",
        "\r",
        "1.069.O.step2.contig1.fasta                     0%    0     0.0KB/s   --:-- ETA"
       ]
      },
      {
       "output_type": "stream",
       "stream": "stdout",
       "text": [
        "\r",
        "1.069.O.step2.contig1.fasta                   100%   11KB  10.6KB/s   00:00    \r\n",
        "\r",
        "1.080.O.step2.contig1.fasta                     0%    0     0.0KB/s   --:-- ETA"
       ]
      },
      {
       "output_type": "stream",
       "stream": "stdout",
       "text": [
        "\r",
        "1.080.O.step2.contig1.fasta                   100%   10KB  10.0KB/s   00:00    \r\n"
       ]
      },
      {
       "output_type": "stream",
       "stream": "stdout",
       "text": [
        "\r",
        "1.095.O.step2.contig1.fasta                     0%    0     0.0KB/s   --:-- ETA\r",
        "1.095.O.step2.contig1.fasta                   100%   10KB  10.4KB/s   00:00    \r\n"
       ]
      },
      {
       "output_type": "stream",
       "stream": "stdout",
       "text": [
        "\r",
        "1.102.O.step2.contig1.fasta                     0%    0     0.0KB/s   --:-- ETA"
       ]
      },
      {
       "output_type": "stream",
       "stream": "stdout",
       "text": [
        "\r",
        "1.102.O.step2.contig1.fasta                   100%   10KB  10.4KB/s   00:00    \r\n",
        "\r",
        "1.107.A.step2.contig1.fasta                     0%    0     0.0KB/s   --:-- ETA"
       ]
      },
      {
       "output_type": "stream",
       "stream": "stdout",
       "text": [
        "\r",
        "1.107.A.step2.contig1.fasta                   100%   10KB  10.4KB/s   00:00    \r\n",
        "\r",
        "1.107.B.step2.contig1.fasta                     0%    0     0.0KB/s   --:-- ETA"
       ]
      },
      {
       "output_type": "stream",
       "stream": "stdout",
       "text": [
        "\r",
        "1.107.B.step2.contig1.fasta                   100%   10KB  10.4KB/s   00:00    \r\n",
        "\r",
        "1.107.C.step2.contig1.fasta                     0%    0     0.0KB/s   --:-- ETA"
       ]
      },
      {
       "output_type": "stream",
       "stream": "stdout",
       "text": [
        "\r",
        "1.107.C.step2.contig1.fasta                   100%   10KB  10.4KB/s   00:01    \r\n",
        "\r",
        "1.125.O.step2.contig1.fasta                     0%    0     0.0KB/s   --:-- ETA"
       ]
      },
      {
       "output_type": "stream",
       "stream": "stdout",
       "text": [
        "\r",
        "1.125.O.step2.contig1.fasta                   100%   11KB  10.5KB/s   00:00    \r\n"
       ]
      },
      {
       "output_type": "stream",
       "stream": "stdout",
       "text": [
        "\r",
        "1.141.A.step2.contig1.fasta                     0%    0     0.0KB/s   --:-- ETA\r",
        "1.141.A.step2.contig1.fasta                   100% 3608     3.5KB/s   00:00    \r\n"
       ]
      },
      {
       "output_type": "stream",
       "stream": "stdout",
       "text": [
        "\r",
        "1.249.A.step2.contig1.fasta                     0%    0     0.0KB/s   --:-- ETA"
       ]
      },
      {
       "output_type": "stream",
       "stream": "stdout",
       "text": [
        "\r",
        "1.249.A.step2.contig1.fasta                   100%   11KB  10.5KB/s   00:00    \r\n",
        "\r",
        "1.249.B.step2.contig1.fasta                     0%    0     0.0KB/s   --:-- ETA"
       ]
      },
      {
       "output_type": "stream",
       "stream": "stdout",
       "text": [
        "\r",
        "1.249.B.step2.contig1.fasta                   100% 5098     5.0KB/s   00:00    \r\n",
        "\r",
        "2.092.O.step2.contig1.fasta                     0%    0     0.0KB/s   --:-- ETA"
       ]
      },
      {
       "output_type": "stream",
       "stream": "stdout",
       "text": [
        "\r",
        "2.092.O.step2.contig1.fasta                   100%   11KB  10.5KB/s   00:00    \r\n"
       ]
      }
     ],
     "prompt_number": 3
    },
    {
     "cell_type": "code",
     "collapsed": false,
     "input": [
      "script=open(\"step3.slurm\",\"w\")\n",
      "script.write(\"#!/bin/bash\\n#SBATCH -n 16\\n#SBATCH -N 1\\n#SBATCH -o step3.out\\n#SBATCH -e step3.err\\n#SBATCH -p sched_mit_chisholm\\n\\n\")\n",
      "script.write(\"module add engaging/clc-assembly-cell\\nmodule add engaging/samtools/1.1\\nmodule add engaging/bedtools/2.22.1\\n\\n\")\n",
      "\n",
      "for virus in group15:\n",
      "    target_seq=\"./step2/\"+virus+\"step2.contig1.fasta\"\n",
      "    reads=virus+\"*.fastq\"\n",
      "    name=\"./step3/\"+virus\n",
      "    script.write(\"clc_assembler -o \"+name+\"step3.clc.fasta -p fb ss 100 300 -q \"+reads+\" -p no -q \"+target_seq+\" -m 500 -w 64\\n\")\n",
      "    script.write(\"samtools faidx \"+name+\"step3.clc.fasta 'contig_1'>\"+name+\"step3.contig1.fasta\\n\\n\")\n",
      "script.close()\n",
      "\n",
      "!open step3.slurm -a textedit"
     ],
     "language": "python",
     "metadata": {},
     "outputs": [],
     "prompt_number": 16
    },
    {
     "cell_type": "code",
     "collapsed": false,
     "input": [],
     "language": "python",
     "metadata": {},
     "outputs": []
    },
    {
     "cell_type": "code",
     "collapsed": false,
     "input": [
      "!scp *step3.slurm jbrown@eofe5.mit.edu:/nobackup1/jbrown/nahant_phage_reads/group15/"
     ],
     "language": "python",
     "metadata": {},
     "outputs": [
      {
       "output_type": "stream",
       "stream": "stdout",
       "text": [
        "\r",
        "step3.slurm                                     0%    0     0.0KB/s   --:-- ETA\r",
        "step3.slurm                                   100% 5218     5.1KB/s   00:00    \r\n"
       ]
      }
     ],
     "prompt_number": 17
    },
    {
     "cell_type": "code",
     "collapsed": false,
     "input": [
      "!scp jbrown@eofe5.mit.edu:/nobackup1/jbrown/nahant_phage_reads/group15/step3/*step3.contig1.fasta ./"
     ],
     "language": "python",
     "metadata": {},
     "outputs": [
      {
       "output_type": "stream",
       "stream": "stdout",
       "text": [
        "\r",
        "1.008.O.step3.contig1.fasta                     0%    0     0.0KB/s   --:-- ETA"
       ]
      },
      {
       "output_type": "stream",
       "stream": "stdout",
       "text": [
        "\r",
        "1.008.O.step3.contig1.fasta                   100%   11KB  10.5KB/s   00:00    \r\n",
        "\r",
        "1.011.O.step3.contig1.fasta                     0%    0     0.0KB/s   --:-- ETA"
       ]
      },
      {
       "output_type": "stream",
       "stream": "stdout",
       "text": [
        "\r",
        "1.011.O.step3.contig1.fasta                   100%   11KB  10.5KB/s   00:00    \r\n",
        "\r",
        "1.020.O.step3.contig1.fasta                     0%    0     0.0KB/s   --:-- ETA\r",
        "1.020.O.step3.contig1.fasta                   100%   11KB  10.6KB/s   00:00    \r\n"
       ]
      },
      {
       "output_type": "stream",
       "stream": "stdout",
       "text": [
        "\r",
        "1.040.O.step3.contig1.fasta                     0%    0     0.0KB/s   --:-- ETA\r",
        "1.040.O.step3.contig1.fasta                   100%   11KB  10.5KB/s   00:00    \r\n"
       ]
      },
      {
       "output_type": "stream",
       "stream": "stdout",
       "text": [
        "\r",
        "1.043.O.step3.contig1.fasta                     0%    0     0.0KB/s   --:-- ETA\r",
        "1.043.O.step3.contig1.fasta                   100%   10KB  10.2KB/s   00:00    \r\n"
       ]
      },
      {
       "output_type": "stream",
       "stream": "stdout",
       "text": [
        "\r",
        "1.044.O.step3.contig1.fasta                     0%    0     0.0KB/s   --:-- ETA\r",
        "1.044.O.step3.contig1.fasta                   100%   10KB  10.2KB/s   00:00    \r\n"
       ]
      },
      {
       "output_type": "stream",
       "stream": "stdout",
       "text": [
        "\r",
        "1.048.O.step3.contig1.fasta                     0%    0     0.0KB/s   --:-- ETA\r",
        "1.048.O.step3.contig1.fasta                   100%   10KB  10.4KB/s   00:00    \r\n"
       ]
      },
      {
       "output_type": "stream",
       "stream": "stdout",
       "text": [
        "\r",
        "1.057.O.step3.contig1.fasta                     0%    0     0.0KB/s   --:-- ETA\r",
        "1.057.O.step3.contig1.fasta                   100%   10KB  10.2KB/s   00:00    \r\n"
       ]
      },
      {
       "output_type": "stream",
       "stream": "stdout",
       "text": [
        "\r",
        "1.062.O.step3.contig1.fasta                     0%    0     0.0KB/s   --:-- ETA\r",
        "1.062.O.step3.contig1.fasta                   100% 9878     9.7KB/s   00:00    \r\n",
        "\r",
        "1.069.O.step3.contig1.fasta                     0%    0     0.0KB/s   --:-- ETA"
       ]
      },
      {
       "output_type": "stream",
       "stream": "stdout",
       "text": [
        "\r",
        "1.069.O.step3.contig1.fasta                   100%   11KB  10.6KB/s   00:00    \r\n",
        "\r",
        "1.080.O.step3.contig1.fasta                     0%    0     0.0KB/s   --:-- ETA"
       ]
      },
      {
       "output_type": "stream",
       "stream": "stdout",
       "text": [
        "\r",
        "1.080.O.step3.contig1.fasta                   100%   10KB  10.0KB/s   00:00    \r\n",
        "\r",
        "1.095.O.step3.contig1.fasta                     0%    0     0.0KB/s   --:-- ETA"
       ]
      },
      {
       "output_type": "stream",
       "stream": "stdout",
       "text": [
        "\r",
        "1.095.O.step3.contig1.fasta                   100%   10KB  10.4KB/s   00:00    \r\n",
        "\r",
        "1.102.O.step3.contig1.fasta                     0%    0     0.0KB/s   --:-- ETA"
       ]
      },
      {
       "output_type": "stream",
       "stream": "stdout",
       "text": [
        "\r",
        "1.102.O.step3.contig1.fasta                   100%   10KB  10.4KB/s   00:00    \r\n",
        "\r",
        "1.107.A.step3.contig1.fasta                     0%    0     0.0KB/s   --:-- ETA"
       ]
      },
      {
       "output_type": "stream",
       "stream": "stdout",
       "text": [
        "\r",
        "1.107.A.step3.contig1.fasta                   100%   10KB  10.4KB/s   00:00    \r\n",
        "\r",
        "1.107.B.step3.contig1.fasta                     0%    0     0.0KB/s   --:-- ETA"
       ]
      },
      {
       "output_type": "stream",
       "stream": "stdout",
       "text": [
        "\r",
        "1.107.B.step3.contig1.fasta                   100%   10KB  10.4KB/s   00:00    \r\n",
        "\r",
        "1.107.C.step3.contig1.fasta                     0%    0     0.0KB/s   --:-- ETA"
       ]
      },
      {
       "output_type": "stream",
       "stream": "stdout",
       "text": [
        "\r",
        "1.107.C.step3.contig1.fasta                   100%   10KB  10.4KB/s   00:00    \r\n",
        "\r",
        "1.125.O.step3.contig1.fasta                     0%    0     0.0KB/s   --:-- ETA"
       ]
      },
      {
       "output_type": "stream",
       "stream": "stdout",
       "text": [
        "\r",
        "1.125.O.step3.contig1.fasta                   100%   11KB  10.5KB/s   00:00    \r\n",
        "\r",
        "1.141.A.step3.contig1.fasta                     0%    0     0.0KB/s   --:-- ETA\r",
        "1.141.A.step3.contig1.fasta                   100% 3608     3.5KB/s   00:00    \r\n"
       ]
      },
      {
       "output_type": "stream",
       "stream": "stdout",
       "text": [
        "\r",
        "1.249.A.step3.contig1.fasta                     0%    0     0.0KB/s   --:-- ETA\r",
        "1.249.A.step3.contig1.fasta                   100%   11KB  10.7KB/s   00:00    \r\n"
       ]
      },
      {
       "output_type": "stream",
       "stream": "stdout",
       "text": [
        "\r",
        "1.249.B.step3.contig1.fasta                     0%    0     0.0KB/s   --:-- ETA\r",
        "1.249.B.step3.contig1.fasta                   100% 5098     5.0KB/s   00:00    \r\n"
       ]
      },
      {
       "output_type": "stream",
       "stream": "stdout",
       "text": [
        "\r",
        "2.092.O.step3.contig1.fasta                     0%    0     0.0KB/s   --:-- ETA\r",
        "2.092.O.step3.contig1.fasta                   100%   11KB  10.5KB/s   00:00    \r\n"
       ]
      }
     ],
     "prompt_number": 18
    },
    {
     "cell_type": "code",
     "collapsed": false,
     "input": [
      "from Bio.Seq import Seq\n",
      "from pyfaidx import Fasta\n",
      "\n",
      "def compare_ends(fasta):\n",
      "    f=open(fasta)\n",
      "    sequence=\"\"\n",
      "    for row in f:\n",
      "        if row.startswith(\">\"):\n",
      "            title=row\n",
      "        else:\n",
      "            sequence+=row\n",
      "    sequence=sequence.replace(\"\\n\",\"\")\n",
      "    beginning=sequence[0:110]\n",
      "    seq=Seq(str(sequence))\n",
      "    end=Seq(sequence[-110:]).reverse_complement()\n",
      "    count=0\n",
      "    for i in range(0,110):\n",
      "        if beginning[i]==end[i]:\n",
      "            count+=1\n",
      "        else:\n",
      "            break\n",
      "    #print(count)\n",
      "    return count\n",
      "\n",
      "def read_contig1_fasta(fasta):\n",
      "    f=open(fasta)\n",
      "    sequence=\"\"\n",
      "    for row in f:\n",
      "        if row.startswith(\">\"):\n",
      "            continue\n",
      "        else:\n",
      "            sequence+=row\n",
      "    sequence=sequence.replace(\"\\n\",\"\")\n",
      "    return sequence\n",
      "no_rpts=[]\n",
      "for line in group15:\n",
      "    one=line+\"step1.contig1.fasta\"\n",
      "    two=line+\"step2.contig1.fasta\"\n",
      "    three=line+\"step3.contig1.fasta\"\n",
      "    step1=os.path.getsize(one)\n",
      "    step2=os.path.getsize(two)\n",
      "    step3=os.path.getsize(three)\n",
      "    terminal=\"yes\"\n",
      "    print(\"file sizes for \"+line+\": step1 is \"+str(step1)+\" and step2 is \"+str(step2)+\" and step3 is \"+str(step3))\n",
      "    if step2>step1 and step2==step3 or step3>step1 and step3>step2:\n",
      "        #print(\"use step 3\")\n",
      "        fastafile=three\n",
      "        fastafile2=two\n",
      "        fastafile3=one\n",
      "    elif step1>step2 and step1>step3:\n",
      "        #print(\"use step 1\")\n",
      "        fastafile=one\n",
      "        if step2>step3:\n",
      "            fastafile2=two\n",
      "            fastafile3=three\n",
      "        else:\n",
      "            fastafile2=three\n",
      "            fastafile3=two\n",
      "    elif step2>step1 and step2>step3:\n",
      "        #print(\"use step 2\")\n",
      "        fastafile=two\n",
      "        if step3>step1:\n",
      "            fastafile2=three\n",
      "            fastafile3=one\n",
      "        else:\n",
      "            fastafile2=one\n",
      "            fastafile3=three\n",
      "    else:\n",
      "        print(\"this doesn't make sense\")\n",
      "    \n",
      "    count=compare_ends(fastafile)\n",
      "\n",
      "    \n",
      "    if count>50:\n",
      "        genome=fastafile\n",
      "        \n",
      "    else:    \n",
      "        count=compare_ends(fastafile2)\n",
      "    \n",
      "        if count>50:\n",
      "            genome=fastafile2\n",
      "            \n",
      "        else:\n",
      "            count=compare_ends(fastafile3)\n",
      "\n",
      "            if count>50:\n",
      "                genome=fastafile3\n",
      "                \n",
      "            else:\n",
      "                \n",
      "                no_rpts.append(line)\n",
      "                genome=fastafile\n",
      "                terminal=\"no\"\n",
      "        \n",
      "    print(\"assembly to use is \"+genome)\n",
      "    print(\"for \"+line+\" the length is \"+str(len(read_contig1_fasta(genome))))\n",
      "    if terminal==\"yes\":\n",
      "        print(\"the terminal repeat region was \"+str(count)+\" bp long\\n\")\n",
      "        output=open(line+\"iterative_assembly.fasta\",\"w\")\n",
      "    else:\n",
      "        print(\"no terminal repeats detected\\n\")\n",
      "        output=open(line+\"iterative_assembly.fasta\",\"w\")\n",
      "    output.write(\">\"+line+\"\\n\"+read_contig1_fasta(genome))\n",
      "    output.close()\n",
      "print(\"genomes with no terminal repeats were: \"+str(no_rpts))"
     ],
     "language": "python",
     "metadata": {},
     "outputs": [
      {
       "output_type": "stream",
       "stream": "stdout",
       "text": [
        "file sizes for 2.092.O.: step1 is 9686 and step2 is 10767 and step3 is 10767\n",
        "assembly to use is 2.092.O.step3.contig1.fasta\n",
        "for 2.092.O. the length is 10580\n",
        "the terminal repeat region was 63 bp long\n",
        "\n",
        "file sizes for 1.011.O.: step1 is 10672 and step2 is 10766 and step3 is 10766\n",
        "assembly to use is 1.011.O.step3.contig1.fasta\n",
        "for 1.011.O. the length is 10579\n",
        "the terminal repeat region was 63 bp long\n",
        "\n",
        "file sizes for 1.141.A.: step1 is 10135 and step2 is 3608 and step3 is 3608\n",
        "assembly to use is 1.141.A.step1.contig1.fasta\n",
        "for 1.141.A. the length is 9959\n",
        "no terminal repeats detected\n",
        "\n",
        "file sizes for 1.095.O.: step1 is 10529 and step2 is 10620 and step3 is 10620\n",
        "assembly to use is 1.095.O.step3.contig1.fasta\n",
        "for 1.095.O. the length is 10436\n",
        "the terminal repeat region was 63 bp long\n",
        "\n",
        "file sizes for 1.107.B.: step1 is 10576 and step2 is 10632 and step3 is 10632\n",
        "assembly to use is 1.107.B.step3.contig1.fasta\n",
        "for 1.107.B. the length is 10447\n",
        "the terminal repeat region was 63 bp long\n",
        "\n",
        "file sizes for 1.069.O.: step1 is 9679 and step2 is 10832 and step3 is 10832\n",
        "assembly to use is 1.069.O.step3.contig1.fasta\n",
        "for 1.069.O. the length is 10644\n",
        "no terminal repeats detected\n",
        "\n",
        "file sizes for 1.008.O.: step1 is 9683 and step2 is 10766 and step3 is 10766\n",
        "assembly to use is 1.008.O.step3.contig1.fasta\n",
        "for 1.008.O. the length is 10579\n",
        "the terminal repeat region was 63 bp long\n",
        "\n",
        "file sizes for 1.102.O.: step1 is 8968 and step2 is 10632 and step3 is 10632\n",
        "assembly to use is 1.102.O.step3.contig1.fasta\n",
        "for 1.102.O. the length is 10447\n",
        "the terminal repeat region was 63 bp long\n",
        "\n",
        "file sizes for 1.107.C.: step1 is 10540 and step2 is 10632 and step3 is 10632\n",
        "assembly to use is 1.107.C.step3.contig1.fasta\n",
        "for 1.107.C. the length is 10447\n",
        "the terminal repeat region was 63 bp long\n",
        "\n",
        "file sizes for 1.080.O.: step1 is 10132 and step2 is 10224 and step3 is 10224\n",
        "assembly to use is 1.080.O.step3.contig1.fasta\n",
        "for 1.080.O. the length is 10046\n",
        "the terminal repeat region was 63 bp long\n",
        "\n",
        "file sizes for 1.062.O.: step1 is 10674 and step2 is 10766 and step3 is 9878\n",
        "assembly to use is 1.062.O.step2.contig1.fasta\n",
        "for 1.062.O. the length is 10579\n",
        "the terminal repeat region was 63 bp long\n",
        "\n",
        "file sizes for 1.043.O.: step1 is 8757 and step2 is 10454 and step3 is 10454\n",
        "assembly to use is 1.043.O.step3.contig1.fasta\n",
        "for 1.043.O. the length is 10272\n",
        "the terminal repeat region was 63 bp long\n",
        "\n",
        "file sizes for 1.249.B.: step1 is 10851 and step2 is 5098 and step3 is 5098\n",
        "assembly to use is 1.249.B.step1.contig1.fasta\n",
        "for 1.249.B. the length is 10663\n",
        "no terminal repeats detected\n",
        "\n",
        "file sizes for 1.249.A.: step1 is 10440 and step2 is 10798 and step3 is 10907\n",
        "assembly to use is 1.249.A.step2.contig1.fasta\n",
        "for 1.249.A. the length is 10611\n",
        "the terminal repeat region was 63 bp long\n",
        "\n",
        "file sizes for 1.020.O.: step1 is 739 and step2 is 525 and step3 is 10824\n",
        "assembly to use is 1.020.O.step3.contig1.fasta\n",
        "for 1.020.O. the length is 10636\n",
        "no terminal repeats detected\n",
        "\n",
        "file sizes for 1.048.O.: step1 is 10540 and step2 is 10668 and step3 is 10632\n",
        "assembly to use is 1.048.O.step3.contig1.fasta\n",
        "for 1.048.O. the length is 10447\n",
        "the terminal repeat region was 63 bp long\n",
        "\n",
        "file sizes for 1.057.O.: step1 is 10363 and step2 is 10455 and step3 is 10455\n",
        "assembly to use is 1.057.O.step3.contig1.fasta\n",
        "for 1.057.O. the length is 10273\n",
        "the terminal repeat region was 63 bp long\n",
        "\n",
        "file sizes for 1.125.O.: step1 is 10673 and step2 is 10765 and step3 is 10792\n",
        "assembly to use is 1.125.O.step2.contig1.fasta\n",
        "for 1.125.O. the length is 10578\n",
        "the terminal repeat region was 63 bp long\n",
        "\n",
        "file sizes for 1.044.O.: step1 is 10362 and step2 is 10454 and step3 is 10454\n",
        "assembly to use is 1.044.O.step3.contig1.fasta\n",
        "for 1.044.O. the length is 10272\n",
        "the terminal repeat region was 63 bp long\n",
        "\n",
        "file sizes for 1.107.A.: step1 is 10540 and step2 is 10632 and step3 is 10632\n",
        "assembly to use is 1.107.A.step3.contig1.fasta\n",
        "for 1.107.A. the length is 10447\n",
        "the terminal repeat region was 63 bp long\n",
        "\n",
        "file sizes for 1.040.O.: step1 is 9974 and step2 is 10774 and step3 is 10774\n",
        "assembly to use is 1.040.O.step3.contig1.fasta\n",
        "for 1.040.O. the length is 10587\n",
        "no terminal repeats detected\n",
        "\n",
        "genomes with no terminal repeats were: ['1.141.A.', '1.069.O.', '1.249.B.', '1.020.O.', '1.040.O.']\n"
       ]
      }
     ],
     "prompt_number": 3
    },
    {
     "cell_type": "code",
     "collapsed": false,
     "input": [],
     "language": "python",
     "metadata": {},
     "outputs": [],
     "prompt_number": 13
    },
    {
     "cell_type": "code",
     "collapsed": false,
     "input": [
      "!scp *iterative_assembly*fasta jbrown@eofe4.mit.edu:/nobackup1/jbrown/nahant_phage_reads/group15/"
     ],
     "language": "python",
     "metadata": {},
     "outputs": [
      {
       "output_type": "stream",
       "stream": "stdout",
       "text": [
        "\r",
        "1.008.O.iterative_assembly.fasta                0%    0     0.0KB/s   --:-- ETA\r",
        "1.008.O.iterative_assembly.fasta              100%   10KB  10.3KB/s   00:00    \r\n"
       ]
      },
      {
       "output_type": "stream",
       "stream": "stdout",
       "text": [
        "\r",
        "1.011.O.iterative_assembly.fasta                0%    0     0.0KB/s   --:-- ETA\r",
        "1.011.O.iterative_assembly.fasta              100%   10KB  10.3KB/s   00:00    \r\n"
       ]
      },
      {
       "output_type": "stream",
       "stream": "stdout",
       "text": [
        "\r",
        "1.020.O.iterative_assembly_norepeats.fasta      0%    0     0.0KB/s   --:-- ETA\r",
        "1.020.O.iterative_assembly_norepeats.fasta    100%   10KB  10.4KB/s   00:00    \r\n"
       ]
      },
      {
       "output_type": "stream",
       "stream": "stdout",
       "text": [
        "\r",
        "1.040.O.iterative_assembly_norepeats.fasta      0%    0     0.0KB/s   --:-- ETA\r",
        "1.040.O.iterative_assembly_norepeats.fasta    100%   10KB  10.4KB/s   00:00    \r\n"
       ]
      },
      {
       "output_type": "stream",
       "stream": "stdout",
       "text": [
        "\r",
        "1.043.O.iterative_assembly.fasta                0%    0     0.0KB/s   --:-- ETA\r",
        "1.043.O.iterative_assembly.fasta              100%   10KB  10.0KB/s   00:00    \r\n"
       ]
      },
      {
       "output_type": "stream",
       "stream": "stdout",
       "text": [
        "\r",
        "1.044.O.iterative_assembly.fasta                0%    0     0.0KB/s   --:-- ETA\r",
        "1.044.O.iterative_assembly.fasta              100%   10KB  10.0KB/s   00:00    \r\n"
       ]
      },
      {
       "output_type": "stream",
       "stream": "stdout",
       "text": [
        "\r",
        "1.048.O.iterative_assembly.fasta                0%    0     0.0KB/s   --:-- ETA\r",
        "1.048.O.iterative_assembly.fasta              100%   10KB  10.2KB/s   00:00    \r\n"
       ]
      },
      {
       "output_type": "stream",
       "stream": "stdout",
       "text": [
        "\r",
        "1.057.O.iterative_assembly.fasta                0%    0     0.0KB/s   --:-- ETA\r",
        "1.057.O.iterative_assembly.fasta              100%   10KB  10.0KB/s   00:00    \r\n",
        "\r",
        "1.062.O.iterative_assembly.fasta                0%    0     0.0KB/s   --:-- ETA\r",
        "1.062.O.iterative_assembly.fasta              100%   10KB  10.3KB/s   00:00    \r\n"
       ]
      },
      {
       "output_type": "stream",
       "stream": "stdout",
       "text": [
        "\r",
        "1.069.O.iterative_assembly_norepeats.fasta      0%    0     0.0KB/s   --:-- ETA\r",
        "1.069.O.iterative_assembly_norepeats.fasta    100%   10KB  10.4KB/s   00:00    \r\n"
       ]
      },
      {
       "output_type": "stream",
       "stream": "stdout",
       "text": [
        "\r",
        "1.080.O.iterative_assembly.fasta                0%    0     0.0KB/s   --:-- ETA\r",
        "1.080.O.iterative_assembly.fasta              100%   10KB   9.8KB/s   00:00    \r\n"
       ]
      },
      {
       "output_type": "stream",
       "stream": "stdout",
       "text": [
        "\r",
        "1.095.O.iterative_assembly.fasta                0%    0     0.0KB/s   --:-- ETA\r",
        "1.095.O.iterative_assembly.fasta              100%   10KB  10.2KB/s   00:00    \r\n"
       ]
      },
      {
       "output_type": "stream",
       "stream": "stdout",
       "text": [
        "\r",
        "1.102.O.iterative_assembly.fasta                0%    0     0.0KB/s   --:-- ETA\r",
        "1.102.O.iterative_assembly.fasta              100%   10KB  10.2KB/s   00:00    \r\n"
       ]
      },
      {
       "output_type": "stream",
       "stream": "stdout",
       "text": [
        "\r",
        "1.107.A.iterative_assembly.fasta                0%    0     0.0KB/s   --:-- ETA\r",
        "1.107.A.iterative_assembly.fasta              100%   10KB  10.2KB/s   00:00    \r\n"
       ]
      },
      {
       "output_type": "stream",
       "stream": "stdout",
       "text": [
        "\r",
        "1.107.B.iterative_assembly.fasta                0%    0     0.0KB/s   --:-- ETA\r",
        "1.107.B.iterative_assembly.fasta              100%   10KB  10.2KB/s   00:00    \r\n"
       ]
      },
      {
       "output_type": "stream",
       "stream": "stdout",
       "text": [
        "\r",
        "1.107.C.iterative_assembly.fasta                0%    0     0.0KB/s   --:-- ETA\r",
        "1.107.C.iterative_assembly.fasta              100%   10KB  10.2KB/s   00:00    \r\n"
       ]
      },
      {
       "output_type": "stream",
       "stream": "stdout",
       "text": [
        "\r",
        "1.125.O.iterative_assembly.fasta                0%    0     0.0KB/s   --:-- ETA\r",
        "1.125.O.iterative_assembly.fasta              100%   10KB  10.3KB/s   00:00    \r\n"
       ]
      },
      {
       "output_type": "stream",
       "stream": "stdout",
       "text": [
        "\r",
        "1.141.A.iterative_assembly_norepeats.fasta      0%    0     0.0KB/s   --:-- ETA\r",
        "1.141.A.iterative_assembly_norepeats.fasta    100% 9969     9.7KB/s   00:00    \r\n"
       ]
      },
      {
       "output_type": "stream",
       "stream": "stdout",
       "text": [
        "\r",
        "1.249.A.iterative_assembly.fasta                0%    0     0.0KB/s   --:-- ETA\r",
        "1.249.A.iterative_assembly.fasta              100%   10KB  10.4KB/s   00:00    \r\n"
       ]
      },
      {
       "output_type": "stream",
       "stream": "stdout",
       "text": [
        "\r",
        "1.249.B.iterative_assembly_norepeats.fasta      0%    0     0.0KB/s   --:-- ETA\r",
        "1.249.B.iterative_assembly_norepeats.fasta    100%   10KB  10.4KB/s   00:00    \r\n"
       ]
      },
      {
       "output_type": "stream",
       "stream": "stdout",
       "text": [
        "\r",
        "2.092.O.iterative_assembly.fasta                0%    0     0.0KB/s   --:-- ETA\r",
        "2.092.O.iterative_assembly.fasta              100%   10KB  10.3KB/s   00:00    \r\n"
       ]
      }
     ],
     "prompt_number": 64
    },
    {
     "cell_type": "code",
     "collapsed": false,
     "input": [
      "### Set up script to BLAST final assemblies against the orientation proteins\n",
      "script=open(\"orient_blast.sh\",\"w\")\n",
      "\n",
      "\n",
      "script.write(\"#!/bin/bash\\n#SBATCH -n 16\\n#SBATCH -N 1\\n#SBATCH -o orient_blast.out\\n#SBATCH -e orient_blast.err\\n#SBATCH -p sched_mit_chisholm\\n\\n\")\n",
      "script.write(\"module add engaging/ncbi-blast/2.2.30+\\n\\n\")\n",
      "\n",
      "library=\"MajCapProt.fasta\"\n",
      "target=\"MajCapProt\"\n",
      "\n",
      "for line in group15:\n",
      "    script.write(\"blastx -db \"+library+\" -query \"+line+\"iterative_assembly*.fasta -outfmt 6 -num_descriptions 1 -evalue 0.001 -out \"+line+\"_iterativeassembly_vs_\"+target+\".txt\\n\\n\")\n",
      "\n",
      "    \n",
      "library=\"PkgATPase.fasta\"\n",
      "target=\"PkgATPase\"\n",
      "\n",
      "\n",
      "for line in group15:\n",
      "    script.write(\"blastx -db \"+library+\" -query \"+line+\"iterative_assembly*.fasta -outfmt 6 -num_descriptions 1 -evalue 0.001 -out \"+line+\"_iterativeassembly_vs_\"+target+\".txt\\n\\n\")\n",
      "  \n",
      "script.close()\n",
      "\n",
      "\n",
      "!open orient_blast.sh -a textedit\n",
      "!scp orient_blast.sh jbrown@eofe4.mit.edu:/nobackup1/jbrown/nahant_phage_reads/group15/"
     ],
     "language": "python",
     "metadata": {},
     "outputs": [],
     "prompt_number": 63
    },
    {
     "cell_type": "code",
     "collapsed": false,
     "input": [],
     "language": "python",
     "metadata": {},
     "outputs": [
      {
       "output_type": "stream",
       "stream": "stdout",
       "text": [
        "\r",
        "orient_blast.sh                                 0%    0     0.0KB/s   --:-- ETA\r",
        "orient_blast.sh                               100% 7012     6.9KB/s   00:00    \r\n"
       ]
      }
     ],
     "prompt_number": 65
    },
    {
     "cell_type": "code",
     "collapsed": false,
     "input": [
      "!scp jbrown@eofe4.mit.edu:/nobackup1/jbrown/nahant_phage_reads/group15/*iterativeassembly_vs_* ./orient_blasts/"
     ],
     "language": "python",
     "metadata": {},
     "outputs": [
      {
       "output_type": "stream",
       "stream": "stdout",
       "text": [
        "\r",
        "1.008.O._iterativeassembly_vs_MajCapProt.txt    0%    0     0.0KB/s   --:-- ETA"
       ]
      },
      {
       "output_type": "stream",
       "stream": "stdout",
       "text": [
        "\r",
        "1.008.O._iterativeassembly_vs_MajCapProt.txt  100%   60     0.1KB/s   00:00    \r\n",
        "\r",
        "1.008.O._iterativeassembly_vs_PkgATPase.txt     0%    0     0.0KB/s   --:-- ETA"
       ]
      },
      {
       "output_type": "stream",
       "stream": "stdout",
       "text": [
        "\r",
        "1.008.O._iterativeassembly_vs_PkgATPase.txt   100%   62     0.1KB/s   00:00    \r\n",
        "\r",
        "1.011.O._iterativeassembly_vs_MajCapProt.txt    0%    0     0.0KB/s   --:-- ETA"
       ]
      },
      {
       "output_type": "stream",
       "stream": "stdout",
       "text": [
        "\r",
        "1.011.O._iterativeassembly_vs_MajCapProt.txt  100%   60     0.1KB/s   00:00    \r\n",
        "\r",
        "1.011.O._iterativeassembly_vs_PkgATPase.txt     0%    0     0.0KB/s   --:-- ETA"
       ]
      },
      {
       "output_type": "stream",
       "stream": "stdout",
       "text": [
        "\r",
        "1.011.O._iterativeassembly_vs_PkgATPase.txt   100%   62     0.1KB/s   00:00    \r\n",
        "\r",
        "1.020.O._iterativeassembly_vs_MajCapProt.txt    0%    0     0.0KB/s   --:-- ETA"
       ]
      },
      {
       "output_type": "stream",
       "stream": "stdout",
       "text": [
        "\r",
        "1.020.O._iterativeassembly_vs_MajCapProt.txt  100%   63     0.1KB/s   00:00    \r\n",
        "\r",
        "1.020.O._iterativeassembly_vs_PkgATPase.txt     0%    0     0.0KB/s   --:-- ETA\r",
        "1.020.O._iterativeassembly_vs_PkgATPase.txt   100%   62     0.1KB/s   00:00    \r\n"
       ]
      },
      {
       "output_type": "stream",
       "stream": "stdout",
       "text": [
        "\r",
        "1.040.O._iterativeassembly_vs_MajCapProt.txt    0%    0     0.0KB/s   --:-- ETA\r",
        "1.040.O._iterativeassembly_vs_MajCapProt.txt  100%   60     0.1KB/s   00:00    \r\n"
       ]
      },
      {
       "output_type": "stream",
       "stream": "stdout",
       "text": [
        "\r",
        "1.040.O._iterativeassembly_vs_PkgATPase.txt     0%    0     0.0KB/s   --:-- ETA\r",
        "1.040.O._iterativeassembly_vs_PkgATPase.txt   100%   62     0.1KB/s   00:00    \r\n"
       ]
      },
      {
       "output_type": "stream",
       "stream": "stdout",
       "text": [
        "\r",
        "1.043.O._iterativeassembly_vs_MajCapProt.txt    0%    0     0.0KB/s   --:-- ETA\r",
        "1.043.O._iterativeassembly_vs_MajCapProt.txt  100%   63     0.1KB/s   00:00    \r\n"
       ]
      },
      {
       "output_type": "stream",
       "stream": "stdout",
       "text": [
        "\r",
        "1.043.O._iterativeassembly_vs_PkgATPase.txt     0%    0     0.0KB/s   --:-- ETA\r",
        "1.043.O._iterativeassembly_vs_PkgATPase.txt   100%   62     0.1KB/s   00:00    \r\n"
       ]
      },
      {
       "output_type": "stream",
       "stream": "stdout",
       "text": [
        "\r",
        "1.044.O._iterativeassembly_vs_MajCapProt.txt    0%    0     0.0KB/s   --:-- ETA\r",
        "1.044.O._iterativeassembly_vs_MajCapProt.txt  100%   63     0.1KB/s   00:00    \r\n",
        "\r",
        "1.044.O._iterativeassembly_vs_PkgATPase.txt     0%    0     0.0KB/s   --:-- ETA"
       ]
      },
      {
       "output_type": "stream",
       "stream": "stdout",
       "text": [
        "\r",
        "1.044.O._iterativeassembly_vs_PkgATPase.txt   100%   62     0.1KB/s   00:00    \r\n",
        "\r",
        "1.048.O._iterativeassembly_vs_MajCapProt.txt    0%    0     0.0KB/s   --:-- ETA"
       ]
      },
      {
       "output_type": "stream",
       "stream": "stdout",
       "text": [
        "\r",
        "1.048.O._iterativeassembly_vs_MajCapProt.txt  100%   63     0.1KB/s   00:00    \r\n",
        "\r",
        "1.048.O._iterativeassembly_vs_PkgATPase.txt     0%    0     0.0KB/s   --:-- ETA"
       ]
      },
      {
       "output_type": "stream",
       "stream": "stdout",
       "text": [
        "\r",
        "1.048.O._iterativeassembly_vs_PkgATPase.txt   100%   62     0.1KB/s   00:00    \r\n",
        "\r",
        "1.057.O._iterativeassembly_vs_MajCapProt.txt    0%    0     0.0KB/s   --:-- ETA"
       ]
      },
      {
       "output_type": "stream",
       "stream": "stdout",
       "text": [
        "\r",
        "1.057.O._iterativeassembly_vs_MajCapProt.txt  100%   63     0.1KB/s   00:00    \r\n",
        "\r",
        "1.057.O._iterativeassembly_vs_PkgATPase.txt     0%    0     0.0KB/s   --:-- ETA"
       ]
      },
      {
       "output_type": "stream",
       "stream": "stdout",
       "text": [
        "\r",
        "1.057.O._iterativeassembly_vs_PkgATPase.txt   100%   62     0.1KB/s   00:00    \r\n",
        "\r",
        "1.062.O._iterativeassembly_vs_MajCapProt.txt    0%    0     0.0KB/s   --:-- ETA\r",
        "1.062.O._iterativeassembly_vs_MajCapProt.txt  100%   60     0.1KB/s   00:00    \r\n"
       ]
      },
      {
       "output_type": "stream",
       "stream": "stdout",
       "text": [
        "\r",
        "1.062.O._iterativeassembly_vs_PkgATPase.txt     0%    0     0.0KB/s   --:-- ETA\r",
        "1.062.O._iterativeassembly_vs_PkgATPase.txt   100%   62     0.1KB/s   00:00    \r\n"
       ]
      },
      {
       "output_type": "stream",
       "stream": "stdout",
       "text": [
        "\r",
        "1.069.O._iterativeassembly_vs_MajCapProt.txt    0%    0     0.0KB/s   --:-- ETA\r",
        "1.069.O._iterativeassembly_vs_MajCapProt.txt  100%   60     0.1KB/s   00:01    \r\n"
       ]
      },
      {
       "output_type": "stream",
       "stream": "stdout",
       "text": [
        "\r",
        "1.069.O._iterativeassembly_vs_PkgATPase.txt     0%    0     0.0KB/s   --:-- ETA\r",
        "1.069.O._iterativeassembly_vs_PkgATPase.txt   100%   62     0.1KB/s   00:00    \r\n"
       ]
      },
      {
       "output_type": "stream",
       "stream": "stdout",
       "text": [
        "\r",
        "1.080.O._iterativeassembly_vs_MajCapProt.txt    0%    0     0.0KB/s   --:-- ETA\r",
        "1.080.O._iterativeassembly_vs_MajCapProt.txt  100%   63     0.1KB/s   00:00    \r\n"
       ]
      },
      {
       "output_type": "stream",
       "stream": "stdout",
       "text": [
        "\r",
        "1.080.O._iterativeassembly_vs_PkgATPase.txt     0%    0     0.0KB/s   --:-- ETA\r",
        "1.080.O._iterativeassembly_vs_PkgATPase.txt   100%   62     0.1KB/s   00:00    \r\n",
        "\r",
        "1.095.O._iterativeassembly_vs_MajCapProt.txt    0%    0     0.0KB/s   --:-- ETA"
       ]
      },
      {
       "output_type": "stream",
       "stream": "stdout",
       "text": [
        "\r",
        "1.095.O._iterativeassembly_vs_MajCapProt.txt  100%   63     0.1KB/s   00:00    \r\n",
        "\r",
        "1.095.O._iterativeassembly_vs_PkgATPase.txt     0%    0     0.0KB/s   --:-- ETA"
       ]
      },
      {
       "output_type": "stream",
       "stream": "stdout",
       "text": [
        "\r",
        "1.095.O._iterativeassembly_vs_PkgATPase.txt   100%   62     0.1KB/s   00:00    \r\n",
        "\r",
        "1.102.O._iterativeassembly_vs_MajCapProt.txt    0%    0     0.0KB/s   --:-- ETA"
       ]
      },
      {
       "output_type": "stream",
       "stream": "stdout",
       "text": [
        "\r",
        "1.102.O._iterativeassembly_vs_MajCapProt.txt  100%   63     0.1KB/s   00:00    \r\n",
        "\r",
        "1.102.O._iterativeassembly_vs_PkgATPase.txt     0%    0     0.0KB/s   --:-- ETA"
       ]
      },
      {
       "output_type": "stream",
       "stream": "stdout",
       "text": [
        "\r",
        "1.102.O._iterativeassembly_vs_PkgATPase.txt   100%   62     0.1KB/s   00:00    \r\n",
        "\r",
        "1.107.A._iterativeassembly_vs_MajCapProt.txt    0%    0     0.0KB/s   --:-- ETA"
       ]
      },
      {
       "output_type": "stream",
       "stream": "stdout",
       "text": [
        "\r",
        "1.107.A._iterativeassembly_vs_MajCapProt.txt  100%   63     0.1KB/s   00:00    \r\n",
        "\r",
        "1.107.A._iterativeassembly_vs_PkgATPase.txt     0%    0     0.0KB/s   --:-- ETA\r",
        "1.107.A._iterativeassembly_vs_PkgATPase.txt   100%   62     0.1KB/s   00:00    \r\n"
       ]
      },
      {
       "output_type": "stream",
       "stream": "stdout",
       "text": [
        "\r",
        "1.107.B._iterativeassembly_vs_MajCapProt.txt    0%    0     0.0KB/s   --:-- ETA\r",
        "1.107.B._iterativeassembly_vs_MajCapProt.txt  100%   63     0.1KB/s   00:00    \r\n"
       ]
      },
      {
       "output_type": "stream",
       "stream": "stdout",
       "text": [
        "\r",
        "1.107.B._iterativeassembly_vs_PkgATPase.txt     0%    0     0.0KB/s   --:-- ETA\r",
        "1.107.B._iterativeassembly_vs_PkgATPase.txt   100%   62     0.1KB/s   00:00    \r\n"
       ]
      },
      {
       "output_type": "stream",
       "stream": "stdout",
       "text": [
        "\r",
        "1.107.C._iterativeassembly_vs_MajCapProt.txt    0%    0     0.0KB/s   --:-- ETA\r",
        "1.107.C._iterativeassembly_vs_MajCapProt.txt  100%   63     0.1KB/s   00:00    \r\n"
       ]
      },
      {
       "output_type": "stream",
       "stream": "stdout",
       "text": [
        "\r",
        "1.107.C._iterativeassembly_vs_PkgATPase.txt     0%    0     0.0KB/s   --:-- ETA\r",
        "1.107.C._iterativeassembly_vs_PkgATPase.txt   100%   62     0.1KB/s   00:00    \r\n"
       ]
      },
      {
       "output_type": "stream",
       "stream": "stdout",
       "text": [
        "\r",
        "1.125.O._iterativeassembly_vs_MajCapProt.txt    0%    0     0.0KB/s   --:-- ETA\r",
        "1.125.O._iterativeassembly_vs_MajCapProt.txt  100%   60     0.1KB/s   00:00    \r\n"
       ]
      },
      {
       "output_type": "stream",
       "stream": "stdout",
       "text": [
        "\r",
        "1.125.O._iterativeassembly_vs_PkgATPase.txt     0%    0     0.0KB/s   --:-- ETA\r",
        "1.125.O._iterativeassembly_vs_PkgATPase.txt   100%   62     0.1KB/s   00:00    \r\n"
       ]
      },
      {
       "output_type": "stream",
       "stream": "stdout",
       "text": [
        "\r",
        "1.141.A._iterativeassembly_vs_MajCapProt.txt    0%    0     0.0KB/s   --:-- ETA\r",
        "1.141.A._iterativeassembly_vs_MajCapProt.txt  100%   63     0.1KB/s   00:00    \r\n"
       ]
      },
      {
       "output_type": "stream",
       "stream": "stdout",
       "text": [
        "\r",
        "1.141.A._iterativeassembly_vs_PkgATPase.txt     0%    0     0.0KB/s   --:-- ETA\r",
        "1.141.A._iterativeassembly_vs_PkgATPase.txt   100%   62     0.1KB/s   00:00    \r\n"
       ]
      },
      {
       "output_type": "stream",
       "stream": "stdout",
       "text": [
        "\r",
        "1.249.A._iterativeassembly_vs_MajCapProt.txt    0%    0     0.0KB/s   --:-- ETA\r",
        "1.249.A._iterativeassembly_vs_MajCapProt.txt  100%   63     0.1KB/s   00:00    \r\n",
        "\r",
        "1.249.A._iterativeassembly_vs_PkgATPase.txt     0%    0     0.0KB/s   --:-- ETA"
       ]
      },
      {
       "output_type": "stream",
       "stream": "stdout",
       "text": [
        "\r",
        "1.249.A._iterativeassembly_vs_PkgATPase.txt   100%   61     0.1KB/s   00:00    \r\n",
        "\r",
        "1.249.B._iterativeassembly_vs_MajCapProt.txt    0%    0     0.0KB/s   --:-- ETA"
       ]
      },
      {
       "output_type": "stream",
       "stream": "stdout",
       "text": [
        "\r",
        "1.249.B._iterativeassembly_vs_MajCapProt.txt  100%   65     0.1KB/s   00:00    \r\n",
        "\r",
        "1.249.B._iterativeassembly_vs_PkgATPase.txt     0%    0     0.0KB/s   --:-- ETA"
       ]
      },
      {
       "output_type": "stream",
       "stream": "stdout",
       "text": [
        "\r",
        "1.249.B._iterativeassembly_vs_PkgATPase.txt   100%   61     0.1KB/s   00:01    \r\n",
        "\r",
        "2.092.O._iterativeassembly_vs_MajCapProt.txt    0%    0     0.0KB/s   --:-- ETA"
       ]
      },
      {
       "output_type": "stream",
       "stream": "stdout",
       "text": [
        "\r",
        "2.092.O._iterativeassembly_vs_MajCapProt.txt  100%   60     0.1KB/s   00:00    \r\n",
        "\r",
        "2.092.O._iterativeassembly_vs_PkgATPase.txt     0%    0     0.0KB/s   --:-- ETA\r",
        "2.092.O._iterativeassembly_vs_PkgATPase.txt   100%   62     0.1KB/s   00:00    \r\n"
       ]
      }
     ],
     "prompt_number": 67
    },
    {
     "cell_type": "code",
     "collapsed": false,
     "input": [
      "##Script to reorient contigs based on blast output\n",
      "\n",
      "from pyfaidx import Fasta\n",
      "from Bio.Seq import Seq\n",
      "\n",
      "for line in group15:\n",
      "    name=\"./orient_blasts/\"+line\n",
      "    outfasta=open(line+\"ia.oc.fasta\",\"w\")\n",
      "    outfasta.write(\">\"+line+\"\\n\")\n",
      "    \n",
      "    cap_blast_name=name+\"_iterativeassembly_vs_MajCapProt.txt\"\n",
      "    if os.path.getsize(cap_blast_name) > 0:\n",
      "        cap_blast=open(cap_blast_name).read()\n",
      "        cap_start=cap_blast.split(\"\\t\")[6]\n",
      "    else:\n",
      "        cap_start=\"NA\"\n",
      "    \n",
      "    ablast_name=name+\"_iterativeassembly_vs_PkgATPase.txt\"\n",
      "    if os.path.getsize(ablast_name) > 0:\n",
      "        ablast=open(ablast_name).read()\n",
      "        apase_start=ablast.split(\"\\t\")[6]\n",
      "    else:\n",
      "        apaste_start=\"NA\"\n",
      "    print(\"for \"+line+\"the capsid starts at:\"+str(cap_start)+\" and the ATPase starts at:\"+str(apase_start))\n",
      "    \n",
      "    \n",
      "    inputfasta=line+\"iterative_assembly.fasta\"\n",
      "    f=Fasta(inputfasta)\n",
      "    viromelen=len(f[0])\n",
      "    print(viromelen)\n",
      "    threshhold=len(f[0])/2\n",
      "    sequence=str(f[0])\n",
      "    seq=Seq(str(sequence))\n",
      "    if cap_start!=\"NA\" and apase_start!=\"NA\":\n",
      "        if cap_start<apase_start:\n",
      "            print(line+\" is reverse\")\n",
      "            out_seq=seq.reverse_complement()\n",
      "        else:\n",
      "            print(line+\" is forward\")\n",
      "            out_seq=seq\n",
      "    elif cap_start==\"NA\":\n",
      "        if apase_start>threshhold:\n",
      "            print(line+\" is reverse\")\n",
      "            out_seq=seq.reverse_complement()\n",
      "        else:\n",
      "            out_seq=seq\n",
      "            print(line+\" is forward\")\n",
      "    else:\n",
      "        if cap_start<threshhold:\n",
      "            out_seq=seq.reverse_complement()\n",
      "            print(line+\" is reverse\")\n",
      "        else:\n",
      "            out_seq=seq\n",
      "            print(line+\" is forward\")\n",
      "    outfasta.write(str(out_seq))\n",
      "    outfasta.close()"
     ],
     "language": "python",
     "metadata": {},
     "outputs": [
      {
       "output_type": "stream",
       "stream": "stdout",
       "text": [
        "for 2.092.O.the capsid starts at:6224 and the ATPase starts at:4936\n",
        "10580\n",
        "2.092.O. is forward\n",
        "for 1.011.O.the capsid starts at:6223 and the ATPase starts at:4935\n",
        "10579\n",
        "1.011.O. is forward\n",
        "for 1.141.A.the capsid starts at:7894 and the ATPase starts at:9068"
       ]
      },
      {
       "output_type": "stream",
       "stream": "stdout",
       "text": [
        "\n",
        "9959\n",
        "1.141.A. is reverse\n",
        "for 1.095.O.the capsid starts at:6097 and the ATPase starts at:4922\n",
        "10436\n",
        "1.095.O. is forward\n",
        "for 1.107.B.the capsid starts at:6108 and the ATPase starts at:4933\n",
        "10447\n",
        "1.107.B. is forward\n",
        "for 1.069.O.the capsid starts at:6288 and the ATPase starts at:5000\n",
        "10644\n",
        "1.069.O. is forward\n",
        "for 1.008.O.the capsid starts at:6223 and the ATPase starts at:4935\n",
        "10579\n",
        "1.008.O. is forward\n",
        "for 1.102.O.the capsid starts at:6108 and the ATPase starts at:4933\n",
        "10447\n",
        "1.102.O. is forward\n",
        "for 1.107.C.the capsid starts at:4340 and the ATPase starts at:5515\n",
        "10447\n",
        "1.107.C. is reverse\n",
        "for 1.080.O.the capsid starts at:5696 and the ATPase starts at:4522\n",
        "10046\n",
        "1.080.O. is forward\n",
        "for 1.062.O.the capsid starts at:6223 and the ATPase starts at:4935\n",
        "10579\n",
        "1.062.O. is forward\n",
        "for 1.043.O.the capsid starts at:4340 and the ATPase starts at:5515\n",
        "10272\n",
        "1.043.O. is reverse\n",
        "for 1.249.B.the capsid starts at:10125 and the ATPase starts at:9139\n",
        "10663\n",
        "1.249.B. is reverse\n",
        "for 1.249.A.the capsid starts at:5495 and the ATPase starts at:6481\n",
        "10611\n",
        "1.249.A. is reverse\n",
        "for 1.020.O.the capsid starts at:4513 and the ATPase starts at:5776\n",
        "10636\n",
        "1.020.O. is reverse\n",
        "for 1.048.O.the capsid starts at:6108 and the ATPase starts at:4933\n",
        "10447\n",
        "1.048.O. is forward\n",
        "for 1.057.O.the capsid starts at:5934 and the ATPase starts at:4759\n",
        "10273\n",
        "1.057.O. is forward\n",
        "for 1.125.O.the capsid starts at:4357 and the ATPase starts at:5644\n",
        "10578\n",
        "1.125.O. is reverse\n",
        "for 1.044.O.the capsid starts at:5933 and the ATPase starts at:4758\n",
        "10272\n",
        "1.044.O. is forward\n",
        "for 1.107.A.the capsid starts at:6108 and the ATPase starts at:4933\n",
        "10447\n",
        "1.107.A. is forward\n",
        "for 1.040.O.the capsid starts at:4365 and the ATPase starts at:5653\n",
        "10587\n",
        "1.040.O. is reverse\n"
       ]
      }
     ],
     "prompt_number": 32
    },
    {
     "cell_type": "markdown",
     "metadata": {},
     "source": [
      "##Going to try this process again but with recruitment instead of assembly..."
     ]
    },
    {
     "cell_type": "code",
     "collapsed": false,
     "input": [
      "script=open(\"recruitment2and3.slurm\",\"w\")\n",
      "script.write(\"#!/bin/bash\\n#SBATCH -n 16\\n#SBATCH -N 1\\n#SBATCH -o rearrange.out\\n#SBATCH -e rearrange.err\\n#SBATCH -p sched_mit_chisholm\\n\\n\")\n",
      "script.write(\"module add engaging/clc-assembly-cell\\n\\n\")\n",
      "\n",
      "script.write(\"mkdir recruit2\\nmkdir recruit3\\n\\n\")\n",
      "\n",
      "for virus in group15:\n",
      "    target_seq=virus+\"s1c1.oc.fasta\"\n",
      "    reads=virus+\"*.fastq\"\n",
      "    recruitfile=\"./recruit2/\"+virus+\"recruit2.cas\"\n",
      "    outputfasta=\"./recruit2/\"+virus+\"recruit2.fasta\"\n",
      "\n",
      "\n",
      "    script.write(\"clc_mapper -o \"+recruitfile+\" -p fb ss 100 300 -q \"+reads+\" -d \"+target_seq+\" -a local -r ignore \\n\")\n",
      "    script.write(\"clc_extract_consensus -z none -a \"+recruitfile+\" -o \"+outputfasta+\"\\n\")\n",
      "    \n",
      "for virus in group15:\n",
      "    target_seq=\"./recruit2/\"+virus+\"recruit2.fasta\"\n",
      "    reads=virus+\"*.fastq\"\n",
      "    recruitfile=\"./recruit3/\"+virus+\"recruit3.cas\"\n",
      "    outputfasta=\"./recruit3/\"+virus+\"recruit3.fasta\"\n",
      "\n",
      "\n",
      "    script.write(\"clc_mapper -o \"+recruitfile+\" -p fb ss 100 300 -q \"+reads+\" -d \"+target_seq+\" -a local -r ignore \\n\")\n",
      "    script.write(\"clc_extract_consensus -z none -a \"+recruitfile+\" -o \"+outputfasta+\"\\n\")\n",
      "    \n",
      "\n",
      "script.close()\n",
      "!open recruitment2and3.slurm -a textedit"
     ],
     "language": "python",
     "metadata": {},
     "outputs": [],
     "prompt_number": 86
    },
    {
     "cell_type": "code",
     "collapsed": false,
     "input": [
      "!scp recruitment2and3.slurm jbrown@eofe4.mit.edu:/nobackup1/jbrown/nahant_phage_reads/group15/"
     ],
     "language": "python",
     "metadata": {},
     "outputs": [
      {
       "output_type": "stream",
       "stream": "stdout",
       "text": [
        "\r",
        "recruitment2and3.slurm                          0%    0     0.0KB/s   --:-- ETA\r",
        "recruitment2and3.slurm                        100%   10KB   9.8KB/s   00:00    \r\n"
       ]
      }
     ],
     "prompt_number": 87
    },
    {
     "cell_type": "code",
     "collapsed": false,
     "input": [
      "!scp jbrown@eofe4.mit.edu:/nobackup1/jbrown/nahant_phage_reads/group15/recruit2/*recruit2.fasta ./\n",
      "!scp jbrown@eofe4.mit.edu:/nobackup1/jbrown/nahant_phage_reads/group15/recruit3/*recruit3.fasta ./"
     ],
     "language": "python",
     "metadata": {},
     "outputs": [
      {
       "output_type": "stream",
       "stream": "stdout",
       "text": [
        "\r",
        "1.008.O.recruit2.fasta                          0%    0     0.0KB/s   --:-- ETA"
       ]
      },
      {
       "output_type": "stream",
       "stream": "stdout",
       "text": [
        "\r",
        "1.008.O.recruit2.fasta                        100% 9695     9.5KB/s   00:01    \r\n"
       ]
      },
      {
       "output_type": "stream",
       "stream": "stdout",
       "text": [
        "\r",
        "1.011.O.recruit2.fasta                          0%    0     0.0KB/s   --:-- ETA"
       ]
      },
      {
       "output_type": "stream",
       "stream": "stdout",
       "text": [
        "\r",
        "1.011.O.recruit2.fasta                        100%   10KB  10.4KB/s   00:00    \r\n",
        "\r",
        "1.020.O.recruit2.fasta                          0%    0     0.0KB/s   --:-- ETA"
       ]
      },
      {
       "output_type": "stream",
       "stream": "stdout",
       "text": [
        "\r",
        "1.020.O.recruit2.fasta                        100%  751     0.7KB/s   00:00    \r\n",
        "\r",
        "1.040.O.recruit2.fasta                          0%    0     0.0KB/s   --:-- ETA"
       ]
      },
      {
       "output_type": "stream",
       "stream": "stdout",
       "text": [
        "\r",
        "1.040.O.recruit2.fasta                        100% 9986     9.8KB/s   00:00    \r\n",
        "\r",
        "1.043.O.recruit2.fasta                          0%    0     0.0KB/s   --:-- ETA"
       ]
      },
      {
       "output_type": "stream",
       "stream": "stdout",
       "text": [
        "\r",
        "1.043.O.recruit2.fasta                        100% 8769     8.6KB/s   00:00    \r\n",
        "\r",
        "1.044.O.recruit2.fasta                          0%    0     0.0KB/s   --:-- ETA"
       ]
      },
      {
       "output_type": "stream",
       "stream": "stdout",
       "text": [
        "\r",
        "1.044.O.recruit2.fasta                        100%   10KB  10.1KB/s   00:00    \r\n"
       ]
      },
      {
       "output_type": "stream",
       "stream": "stdout",
       "text": [
        "\r",
        "1.048.O.recruit2.fasta                          0%    0     0.0KB/s   --:-- ETA\r",
        "1.048.O.recruit2.fasta                        100%   10KB  10.3KB/s   00:00    \r\n"
       ]
      },
      {
       "output_type": "stream",
       "stream": "stdout",
       "text": [
        "\r",
        "1.057.O.recruit2.fasta                          0%    0     0.0KB/s   --:-- ETA"
       ]
      },
      {
       "output_type": "stream",
       "stream": "stdout",
       "text": [
        "\r",
        "1.057.O.recruit2.fasta                        100%   10KB  10.1KB/s   00:00    \r\n",
        "\r",
        "1.062.O.recruit2.fasta                          0%    0     0.0KB/s   --:-- ETA\r",
        "1.062.O.recruit2.fasta                        100%   10KB  10.4KB/s   00:00    \r\n"
       ]
      },
      {
       "output_type": "stream",
       "stream": "stdout",
       "text": [
        "\r",
        "1.069.O.recruit2.fasta                          0%    0     0.0KB/s   --:-- ETA\r",
        "1.069.O.recruit2.fasta                        100% 9691     9.5KB/s   00:00    \r\n"
       ]
      },
      {
       "output_type": "stream",
       "stream": "stdout",
       "text": [
        "\r",
        "1.080.O.recruit2.fasta                          0%    0     0.0KB/s   --:-- ETA\r",
        "1.080.O.recruit2.fasta                        100%   10KB   9.9KB/s   00:00    \r\n"
       ]
      },
      {
       "output_type": "stream",
       "stream": "stdout",
       "text": [
        "\r",
        "1.095.O.recruit2.fasta                          0%    0     0.0KB/s   --:-- ETA\r",
        "1.095.O.recruit2.fasta                        100%   10KB  10.3KB/s   00:00    \r\n"
       ]
      },
      {
       "output_type": "stream",
       "stream": "stdout",
       "text": [
        "\r",
        "1.102.O.recruit2.fasta                          0%    0     0.0KB/s   --:-- ETA\r",
        "1.102.O.recruit2.fasta                        100% 8980     8.8KB/s   00:00    \r\n"
       ]
      },
      {
       "output_type": "stream",
       "stream": "stdout",
       "text": [
        "\r",
        "1.107.A.recruit2.fasta                          0%    0     0.0KB/s   --:-- ETA\r",
        "1.107.A.recruit2.fasta                        100%   10KB  10.3KB/s   00:00    \r\n"
       ]
      },
      {
       "output_type": "stream",
       "stream": "stdout",
       "text": [
        "\r",
        "1.107.B.recruit2.fasta                          0%    0     0.0KB/s   --:-- ETA\r",
        "1.107.B.recruit2.fasta                        100%   10KB  10.3KB/s   00:00    \r\n",
        "\r",
        "1.107.C.recruit2.fasta                          0%    0     0.0KB/s   --:-- ETA"
       ]
      },
      {
       "output_type": "stream",
       "stream": "stdout",
       "text": [
        "\r",
        "1.107.C.recruit2.fasta                        100%   10KB  10.3KB/s   00:00    \r\n",
        "\r",
        "1.125.O.recruit2.fasta                          0%    0     0.0KB/s   --:-- ETA"
       ]
      },
      {
       "output_type": "stream",
       "stream": "stdout",
       "text": [
        "\r",
        "1.125.O.recruit2.fasta                        100%   10KB  10.4KB/s   00:00    \r\n",
        "\r",
        "1.141.A.recruit2.fasta                          0%    0     0.0KB/s   --:-- ETA"
       ]
      },
      {
       "output_type": "stream",
       "stream": "stdout",
       "text": [
        "\r",
        "1.141.A.recruit2.fasta                        100%   10KB   9.9KB/s   00:00    \r\n",
        "\r",
        "1.249.A.recruit2.fasta                          0%    0     0.0KB/s   --:-- ETA"
       ]
      },
      {
       "output_type": "stream",
       "stream": "stdout",
       "text": [
        "\r",
        "1.249.A.recruit2.fasta                        100%   10KB  10.2KB/s   00:00    \r\n",
        "\r",
        "1.249.B.recruit2.fasta                          0%    0     0.0KB/s   --:-- ETA"
       ]
      },
      {
       "output_type": "stream",
       "stream": "stdout",
       "text": [
        "\r",
        "1.249.B.recruit2.fasta                        100%   11KB  10.6KB/s   00:01    \r\n",
        "\r",
        "2.092.O.recruit2.fasta                          0%    0     0.0KB/s   --:-- ETA\r",
        "2.092.O.recruit2.fasta                        100% 9698     9.5KB/s   00:00    \r\n"
       ]
      },
      {
       "output_type": "stream",
       "stream": "stdout",
       "text": [
        "\r",
        "1.008.O.recruit3.fasta                          0%    0     0.0KB/s   --:-- ETA"
       ]
      },
      {
       "output_type": "stream",
       "stream": "stdout",
       "text": [
        "\r",
        "1.008.O.recruit3.fasta                        100% 9707     9.5KB/s   00:00    \r\n"
       ]
      },
      {
       "output_type": "stream",
       "stream": "stdout",
       "text": [
        "\r",
        "1.011.O.recruit3.fasta                          0%    0     0.0KB/s   --:-- ETA"
       ]
      },
      {
       "output_type": "stream",
       "stream": "stdout",
       "text": [
        "\r",
        "1.011.O.recruit3.fasta                        100%   10KB  10.5KB/s   00:00    \r\n",
        "\r",
        "1.020.O.recruit3.fasta                          0%    0     0.0KB/s   --:-- ETA\r",
        "1.020.O.recruit3.fasta                        100%  763     0.8KB/s   00:00    \r\n"
       ]
      },
      {
       "output_type": "stream",
       "stream": "stdout",
       "text": [
        "\r",
        "1.040.O.recruit3.fasta                          0%    0     0.0KB/s   --:-- ETA"
       ]
      },
      {
       "output_type": "stream",
       "stream": "stdout",
       "text": [
        "\r",
        "1.040.O.recruit3.fasta                        100% 9998     9.8KB/s   00:00    \r\n",
        "\r",
        "1.043.O.recruit3.fasta                          0%    0     0.0KB/s   --:-- ETA"
       ]
      },
      {
       "output_type": "stream",
       "stream": "stdout",
       "text": [
        "\r",
        "1.043.O.recruit3.fasta                          0%    0     0.0KB/s   --:-- ETA"
       ]
      },
      {
       "output_type": "stream",
       "stream": "stdout",
       "text": [
        "\r",
        "1.043.O.recruit3.fasta                          0%    0     0.0KB/s   --:-- ETA\r",
        "1.043.O.recruit3.fasta                        100% 8781     4.3KB/s   00:02    \r\n"
       ]
      },
      {
       "output_type": "stream",
       "stream": "stdout",
       "text": [
        "\r",
        "1.044.O.recruit3.fasta                          0%    0     0.0KB/s   --:-- ETA"
       ]
      },
      {
       "output_type": "stream",
       "stream": "stdout",
       "text": [
        "\r",
        "1.044.O.recruit3.fasta                        100%   10KB  10.1KB/s   00:01    \r\n"
       ]
      },
      {
       "output_type": "stream",
       "stream": "stdout",
       "text": [
        "\r",
        "1.048.O.recruit3.fasta                          0%    0     0.0KB/s   --:-- ETA"
       ]
      },
      {
       "output_type": "stream",
       "stream": "stdout",
       "text": [
        "\r",
        "1.048.O.recruit3.fasta                        100%   10KB  10.3KB/s   00:00    \r\n"
       ]
      },
      {
       "output_type": "stream",
       "stream": "stdout",
       "text": [
        "\r",
        "1.057.O.recruit3.fasta                          0%    0     0.0KB/s   --:-- ETA"
       ]
      },
      {
       "output_type": "stream",
       "stream": "stdout",
       "text": [
        "\r",
        "1.057.O.recruit3.fasta                          0%    0     0.0KB/s   --:-- ETA"
       ]
      },
      {
       "output_type": "stream",
       "stream": "stdout",
       "text": [
        "\r",
        "1.057.O.recruit3.fasta                        100%   10KB  10.1KB/s   00:01    \r\n"
       ]
      },
      {
       "output_type": "stream",
       "stream": "stdout",
       "text": [
        "\r",
        "1.062.O.recruit3.fasta                          0%    0     0.0KB/s   --:-- ETA"
       ]
      },
      {
       "output_type": "stream",
       "stream": "stdout",
       "text": [
        "\r",
        "1.062.O.recruit3.fasta                        100%   10KB  10.4KB/s   00:00    \r\n"
       ]
      },
      {
       "output_type": "stream",
       "stream": "stdout",
       "text": [
        "\r",
        "1.069.O.recruit3.fasta                          0%    0     0.0KB/s   --:-- ETA"
       ]
      },
      {
       "output_type": "stream",
       "stream": "stdout",
       "text": [
        "\r",
        "1.069.O.recruit3.fasta                        100% 9703     9.5KB/s   00:01    \r\n",
        "\r",
        "1.080.O.recruit3.fasta                          0%    0     0.0KB/s   --:-- ETA"
       ]
      },
      {
       "output_type": "stream",
       "stream": "stdout",
       "text": [
        "\r",
        "1.080.O.recruit3.fasta                        100%   10KB   9.9KB/s   00:00    \r\n",
        "\r",
        "1.095.O.recruit3.fasta                          0%    0     0.0KB/s   --:-- ETA"
       ]
      },
      {
       "output_type": "stream",
       "stream": "stdout",
       "text": [
        "\r",
        "1.095.O.recruit3.fasta                          0%    0     0.0KB/s   --:-- ETA"
       ]
      },
      {
       "output_type": "stream",
       "stream": "stdout",
       "text": [
        "\r",
        "1.095.O.recruit3.fasta                          0%    0     0.0KB/s   --:-- ETA"
       ]
      },
      {
       "output_type": "stream",
       "stream": "stdout",
       "text": [
        "\r",
        "1.095.O.recruit3.fasta                        100%   10KB   5.2KB/s   00:02    \r\n",
        "\r",
        "1.102.O.recruit3.fasta                          0%    0     0.0KB/s   --:-- ETA"
       ]
      },
      {
       "output_type": "stream",
       "stream": "stdout",
       "text": [
        "\r",
        "1.102.O.recruit3.fasta                        100% 8992     8.8KB/s   00:00    \r\n"
       ]
      },
      {
       "output_type": "stream",
       "stream": "stdout",
       "text": [
        "\r",
        "1.107.A.recruit3.fasta                          0%    0     0.0KB/s   --:-- ETA"
       ]
      },
      {
       "output_type": "stream",
       "stream": "stdout",
       "text": [
        "\r",
        "1.107.A.recruit3.fasta                        100%   10KB  10.3KB/s   00:00    \r\n",
        "\r",
        "1.107.B.recruit3.fasta                          0%    0     0.0KB/s   --:-- ETA"
       ]
      },
      {
       "output_type": "stream",
       "stream": "stdout",
       "text": [
        "\r",
        "1.107.B.recruit3.fasta                        100%   10KB  10.4KB/s   00:00    \r\n",
        "\r",
        "1.107.C.recruit3.fasta                          0%    0     0.0KB/s   --:-- ETA"
       ]
      },
      {
       "output_type": "stream",
       "stream": "stdout",
       "text": [
        "\r",
        "1.107.C.recruit3.fasta                        100%   10KB  10.3KB/s   00:00    \r\n"
       ]
      },
      {
       "output_type": "stream",
       "stream": "stdout",
       "text": [
        "\r",
        "1.125.O.recruit3.fasta                          0%    0     0.0KB/s   --:-- ETA"
       ]
      },
      {
       "output_type": "stream",
       "stream": "stdout",
       "text": [
        "\r",
        "1.125.O.recruit3.fasta                        100%   10KB  10.5KB/s   00:00    \r\n"
       ]
      },
      {
       "output_type": "stream",
       "stream": "stdout",
       "text": [
        "\r",
        "1.141.A.recruit3.fasta                          0%    0     0.0KB/s   --:-- ETA"
       ]
      },
      {
       "output_type": "stream",
       "stream": "stdout",
       "text": [
        "\r",
        "1.141.A.recruit3.fasta                        100%   10KB   9.9KB/s   00:00    \r\n",
        "\r",
        "1.249.A.recruit3.fasta                          0%    0     0.0KB/s   --:-- ETA"
       ]
      },
      {
       "output_type": "stream",
       "stream": "stdout",
       "text": [
        "\r",
        "1.249.A.recruit3.fasta                        100%   10KB  10.2KB/s   00:01    \r\n",
        "\r",
        "1.249.B.recruit3.fasta                          0%    0     0.0KB/s   --:-- ETA"
       ]
      },
      {
       "output_type": "stream",
       "stream": "stdout",
       "text": [
        "\r",
        "1.249.B.recruit3.fasta                        100%   11KB  10.6KB/s   00:00    \r\n",
        "\r",
        "2.092.O.recruit3.fasta                          0%    0     0.0KB/s   --:-- ETA"
       ]
      },
      {
       "output_type": "stream",
       "stream": "stdout",
       "text": [
        "\r",
        "2.092.O.recruit3.fasta                        100% 9710     9.5KB/s   00:00    \r\n"
       ]
      }
     ],
     "prompt_number": 4
    },
    {
     "cell_type": "code",
     "collapsed": false,
     "input": [
      "#checking iterative recruitment for terminal repeats\n",
      "from Bio.Seq import Seq\n",
      "from pyfaidx import Fasta\n",
      "\n",
      "def compare_ends(fasta):\n",
      "    f=open(fasta)\n",
      "    sequence=\"\"\n",
      "    for row in f:\n",
      "        if row.startswith(\">\"):\n",
      "            title=row\n",
      "        else:\n",
      "            sequence+=row\n",
      "    sequence=sequence.replace(\"\\n\",\"\")\n",
      "    beginning=sequence[0:110]\n",
      "    seq=Seq(str(sequence))\n",
      "    end=Seq(sequence[-110:]).reverse_complement()\n",
      "    count=0\n",
      "    for i in range(0,110):\n",
      "        if beginning[i]==end[i]:\n",
      "            count+=1\n",
      "        else:\n",
      "            break\n",
      "    #print(count)\n",
      "    #print(beginning)\n",
      "    #print(end)\n",
      "    return count\n",
      "\n",
      "def read_contig1_fasta(fasta):\n",
      "    f=open(fasta)\n",
      "    sequence=\"\"\n",
      "    for row in f:\n",
      "        if row.startswith(\">\"):\n",
      "            continue\n",
      "        else:\n",
      "            sequence+=row\n",
      "    sequence=sequence.replace(\"\\n\",\"\")\n",
      "    return sequence\n",
      "\n",
      "no_rpts=[]\n",
      "count_lim=20\n",
      "for line in group15:\n",
      "    one=line+\"step1.contig1.fasta\"\n",
      "    two=line+\"recruit2.fasta\"\n",
      "    three=line+\"recruit3.fasta\"\n",
      "    step1=os.path.getsize(one)\n",
      "    step2=os.path.getsize(two)\n",
      "    step3=os.path.getsize(three)\n",
      "    terminal=\"yes\"\n",
      "    print(\"file sizes for \"+line+\": step1 is \"+str(step1)+\" and step2 is \"+str(step2)+\" and step3 is \"+str(step3))\n",
      "    if step2>step1 and step2==step3 or step3>step1 and step3>step2:\n",
      "        #print(\"use step 3\")\n",
      "        fastafile=three\n",
      "        fastafile2=two\n",
      "        fastafile3=one\n",
      "    elif step1>step2 and step1>step3:\n",
      "        #print(\"use step 1\")\n",
      "        fastafile=one\n",
      "        if step2>step3:\n",
      "            fastafile2=two\n",
      "            fastafile3=three\n",
      "        else:\n",
      "            fastafile2=three\n",
      "            fastafile3=two\n",
      "    elif step2>step1 and step2>step3:\n",
      "        #print(\"use step 2\")\n",
      "        fastafile=two\n",
      "        if step3>step1:\n",
      "            fastafile2=three\n",
      "            fastafile3=one\n",
      "        else:\n",
      "            fastafile2=one\n",
      "            fastafile3=three\n",
      "    else:\n",
      "        print(\"this doesn't make sense\")\n",
      "    \n",
      "    \n",
      "    count=compare_ends(fastafile)\n",
      "    \n",
      "    \n",
      "    if count>count_lim:\n",
      "        genome=fastafile\n",
      "        \n",
      "    else:    \n",
      "        count=compare_ends(fastafile2)\n",
      "    \n",
      "        if count>count_lim:\n",
      "            genome=fastafile2\n",
      "            \n",
      "        else:\n",
      "            count=compare_ends(fastafile3)\n",
      "\n",
      "            if count>count_lim:\n",
      "                genome=fastafile3\n",
      "                \n",
      "            else:\n",
      "                \n",
      "                no_rpts.append(line)\n",
      "                genome=fastafile\n",
      "                terminal=\"no\"\n",
      "        \n",
      "    print(\"assembly to use is \"+genome)\n",
      "    print(\"for \"+line+\" the length is \"+str(len(read_contig1_fasta(genome))))\n",
      "    if terminal==\"yes\":\n",
      "        print(\"the terminal repeat region was \"+str(count)+\" bp long\\n\")\n",
      "        output=open(line+\"iterative_assembly.fasta\",\"w\")\n",
      "    else:\n",
      "        print(\"no terminal repeats detected\\n\")\n",
      "        output=open(line+\"iterative_assembly_norepeats.fasta\",\"w\")\n",
      "    output.write(\">\"+line+\"\\n\"+read_contig1_fasta(genome))\n",
      "    output.close()\n",
      "print(\"genomes with no terminal repeats were: \"+str(no_rpts))"
     ],
     "language": "python",
     "metadata": {},
     "outputs": [
      {
       "output_type": "stream",
       "stream": "stdout",
       "text": [
        "file sizes for 2.092.O.: step1 is 9686 and step2 is 9698 and step3 is 9710\n",
        "assembly to use is 2.092.O.recruit3.fasta\n",
        "for 2.092.O. the length is 9517\n",
        "no terminal repeats detected\n",
        "\n",
        "file sizes for 1.011.O.: step1 is 10672 and step2 is 10684 and step3 is 10696\n",
        "assembly to use is 1.011.O.recruit3.fasta\n",
        "for 1.011.O. the length is 10487\n",
        "no terminal repeats detected\n",
        "\n",
        "file sizes for 1.141.A.: step1 is 10135 and step2 is 10138 and step3 is 10150\n",
        "assembly to use is 1.141.A.recruit3.fasta\n",
        "for 1.141.A. the length is 9950\n",
        "no terminal repeats detected\n",
        "\n",
        "file sizes for 1.095.O.: step1 is 10529 and step2 is 10541 and step3 is 10553\n",
        "assembly to use is 1.095.O.recruit3.fasta\n",
        "for 1.095.O. the length is 10346\n",
        "no terminal repeats detected\n",
        "\n",
        "file sizes for 1.107.B.: step1 is 10576 and step2 is 10588 and step3 is 10600\n",
        "assembly to use is 1.107.B.recruit3.fasta\n",
        "for 1.107.B. the length is 10392\n",
        "no terminal repeats detected\n",
        "\n",
        "file sizes for 1.069.O.: step1 is 9679 and step2 is 9691 and step3 is 9703\n",
        "assembly to use is 1.069.O.recruit3.fasta\n",
        "for 1.069.O. the length is 9510\n",
        "no terminal repeats detected\n",
        "\n",
        "file sizes for 1.008.O.: step1 is 9683 and step2 is 9695 and step3 is 9707\n",
        "assembly to use is 1.008.O.recruit3.fasta\n",
        "for 1.008.O. the length is 9514\n",
        "no terminal repeats detected\n",
        "\n",
        "file sizes for 1.102.O.: step1 is 8968 and step2 is 8980 and step3 is 8992\n",
        "assembly to use is 1.102.O.recruit3.fasta\n",
        "for 1.102.O. the length is 8811\n",
        "no terminal repeats detected\n",
        "\n",
        "file sizes for 1.107.C.: step1 is 10540 and step2 is 10552 and step3 is 10564\n",
        "assembly to use is 1.107.C.recruit3.fasta\n",
        "for 1.107.C. the length is 10357\n",
        "no terminal repeats detected\n",
        "\n",
        "file sizes for 1.080.O.: step1 is 10132 and step2 is 10144 and step3 is 10156\n",
        "assembly to use is 1.080.O.recruit3.fasta\n",
        "for 1.080.O. the length is 9956\n",
        "no terminal repeats detected\n",
        "\n",
        "file sizes for 1.062.O.: step1 is 10674 and step2 is 10677 and step3 is 10689\n",
        "assembly to use is 1.062.O.recruit3.fasta\n",
        "for 1.062.O. the length is 10480\n",
        "no terminal repeats detected\n",
        "\n",
        "file sizes for 1.043.O.: step1 is 8757 and step2 is 8769 and step3 is 8781\n",
        "assembly to use is 1.043.O.recruit3.fasta\n",
        "for 1.043.O. the length is 8603\n",
        "no terminal repeats detected\n",
        "\n",
        "file sizes for 1.249.B.: step1 is 10851 and step2 is 10854 and step3 is 10866\n",
        "assembly to use is 1.249.B.recruit3.fasta\n",
        "for 1.249.B. the length is 10654\n",
        "no terminal repeats detected\n",
        "\n",
        "file sizes for 1.249.A.: step1 is 10440 and step2 is 10452 and step3 is 10464\n",
        "assembly to use is 1.249.A.recruit3.fasta\n",
        "for 1.249.A. the length is 10259\n",
        "no terminal repeats detected\n",
        "\n",
        "file sizes for 1.020.O.: step1 is 739 and step2 is 751 and step3 is 763\n",
        "assembly to use is 1.020.O.recruit3.fasta\n",
        "for 1.020.O. the length is 717\n",
        "no terminal repeats detected\n",
        "\n",
        "file sizes for 1.048.O.: step1 is 10540 and step2 is 10552 and step3 is 10564\n",
        "assembly to use is 1.048.O.recruit3.fasta\n",
        "for 1.048.O. the length is 10357\n",
        "no terminal repeats detected\n",
        "\n",
        "file sizes for 1.057.O.: step1 is 10363 and step2 is 10375 and step3 is 10387\n",
        "assembly to use is 1.057.O.recruit3.fasta\n",
        "for 1.057.O. the length is 10183\n",
        "no terminal repeats detected\n",
        "\n",
        "file sizes for 1.125.O.: step1 is 10673 and step2 is 10685 and step3 is 10697\n",
        "assembly to use is 1.125.O.recruit3.fasta\n",
        "for 1.125.O. the length is 10488\n",
        "no terminal repeats detected\n",
        "\n",
        "file sizes for 1.044.O.: step1 is 10362 and step2 is 10374 and step3 is 10386\n",
        "assembly to use is 1.044.O.recruit3.fasta\n",
        "for 1.044.O. the length is 10182\n",
        "no terminal repeats detected\n",
        "\n",
        "file sizes for 1.107.A.: step1 is 10540 and step2 is 10552 and step3 is 10564\n",
        "assembly to use is 1.107.A.recruit3.fasta\n",
        "for 1.107.A. the length is 10357\n",
        "no terminal repeats detected\n",
        "\n",
        "file sizes for 1.040.O.: step1 is 9974 and step2 is 9986 and step3 is 9998\n",
        "assembly to use is 1.040.O.recruit3.fasta\n",
        "for 1.040.O. the length is 9800\n",
        "no terminal repeats detected\n",
        "\n",
        "genomes with no terminal repeats were: ['2.092.O.', '1.011.O.', '1.141.A.', '1.095.O.', '1.107.B.', '1.069.O.', '1.008.O.', '1.102.O.', '1.107.C.', '1.080.O.', '1.062.O.', '1.043.O.', '1.249.B.', '1.249.A.', '1.020.O.', '1.048.O.', '1.057.O.', '1.125.O.', '1.044.O.', '1.107.A.', '1.040.O.']\n"
       ]
      }
     ],
     "prompt_number": 16
    },
    {
     "cell_type": "markdown",
     "metadata": {},
     "source": [
      "##Now testing to see if a smaller word size will influence the size of the terminal repeats:"
     ]
    },
    {
     "cell_type": "code",
     "collapsed": false,
     "input": [
      "script=open(\"step2a3a.slurm\",\"w\")\n",
      "script.write(\"#!/bin/bash\\n#SBATCH -n 16\\n#SBATCH -N 1\\n#SBATCH -o 2a3a.out\\n#SBATCH -e 2a3a.err\\n#SBATCH -p sched_mit_chisholm\\n\\n\")\n",
      "script.write(\"module add engaging/clc-assembly-cell\\nmodule add engaging/samtools/1.1\\nmodule add engaging/bedtools/2.22.1\\n\\n\")\n",
      "\n",
      "for virus in group15:\n",
      "    target_seq=virus+\"s1c1.oc.fasta\"\n",
      "    reads=\"../\"+virus+\"*.fastq\"\n",
      "    name=\"./step2a/\"+virus+\"step2a\"\n",
      "\n",
      "    script.write(\"clc_assembler -o \"+name+\".clc.fasta -p fb ss 100 300 -q \"+reads+\" -p no -q \"+target_seq+\" -m 500 -w 50\\n\")\n",
      "    script.write(\"samtools faidx \"+name+\".clc.fasta 'contig_1'>\"+name+\".contig1.fasta\\n\\n\")\n",
      "\n",
      "for virus in group15:\n",
      "    target_seq=\"./step2a/\"+virus+\"step2a.contig1.fasta\"\n",
      "    reads=\"../\"+virus+\"*.fastq\"\n",
      "    name=\"./step3a/\"+virus+\"step3a\"\n",
      "\n",
      "    script.write(\"clc_assembler -o \"+name+\".clc.fasta -p fb ss 100 300 -q \"+reads+\" -p no -q \"+target_seq+\" -m 500 -w 50\\n\")\n",
      "    script.write(\"samtools faidx \"+name+\".clc.fasta 'contig_1'>\"+name+\".contig1.fasta\\n\\n\")\n",
      "    \n",
      "    \n",
      "    \n",
      "script.close()\n",
      "!open step2a3a.slurm -a textedit\n",
      "!scp step2a3a.slurm jbrown@eofe4.mit.edu:/nobackup1/jbrown/nahant_phage_reads/group15/"
     ],
     "language": "python",
     "metadata": {},
     "outputs": [
      {
       "output_type": "stream",
       "stream": "stdout",
       "text": [
        "\r",
        "step2a3a.slurm                                  0%    0     0.0KB/s   --:-- ETA\r",
        "step2a3a.slurm                                100% 5447     5.3KB/s   00:00    \r\n"
       ]
      }
     ],
     "prompt_number": 41
    },
    {
     "cell_type": "code",
     "collapsed": false,
     "input": [
      "!scp jbrown@eofe4.mit.edu:/nobackup1/jbrown/nahant_phage_reads/group15/step2a/*contig1.fasta jbrown@eofe4.mit.edu:/nobackup1/jbrown/nahant_phage_reads/group15/step3a/*contig1.fasta ./"
     ],
     "language": "python",
     "metadata": {},
     "outputs": [
      {
       "output_type": "stream",
       "stream": "stdout",
       "text": [
        "\r",
        "1.008.O.step2a.contig1.fasta                    0%    0     0.0KB/s   --:-- ETA\r",
        "1.008.O.step2a.contig1.fasta                  100%   10KB  10.5KB/s   00:00    \r\n"
       ]
      },
      {
       "output_type": "stream",
       "stream": "stdout",
       "text": [
        "\r",
        "1.011.O.step2a.contig1.fasta                    0%    0     0.0KB/s   --:-- ETA\r",
        "1.011.O.step2a.contig1.fasta                  100%   10KB  10.5KB/s   00:00    \r\n",
        "\r",
        "1.020.O.step2a.contig1.fasta                    0%    0     0.0KB/s   --:-- ETA"
       ]
      },
      {
       "output_type": "stream",
       "stream": "stdout",
       "text": [
        "\r",
        "1.020.O.step2a.contig1.fasta                  100% 1228     1.2KB/s   00:00    \r\n",
        "\r",
        "1.040.O.step2a.contig1.fasta                    0%    0     0.0KB/s   --:-- ETA"
       ]
      },
      {
       "output_type": "stream",
       "stream": "stdout",
       "text": [
        "\r",
        "1.040.O.step2a.contig1.fasta                  100%   10KB  10.5KB/s   00:00    \r\n",
        "\r",
        "1.043.O.step2a.contig1.fasta                    0%    0     0.0KB/s   --:-- ETA"
       ]
      },
      {
       "output_type": "stream",
       "stream": "stdout",
       "text": [
        "\r",
        "1.043.O.step2a.contig1.fasta                  100%   10KB  10.2KB/s   00:00    \r\n",
        "\r",
        "1.044.O.step2a.contig1.fasta                    0%    0     0.0KB/s   --:-- ETA"
       ]
      },
      {
       "output_type": "stream",
       "stream": "stdout",
       "text": [
        "\r",
        "1.044.O.step2a.contig1.fasta                  100%   10KB  10.2KB/s   00:00    \r\n",
        "\r",
        "1.048.O.step2a.contig1.fasta                    0%    0     0.0KB/s   --:-- ETA"
       ]
      },
      {
       "output_type": "stream",
       "stream": "stdout",
       "text": [
        "\r",
        "1.048.O.step2a.contig1.fasta                  100%   10KB  10.4KB/s   00:00    \r\n",
        "\r",
        "1.057.O.step2a.contig1.fasta                    0%    0     0.0KB/s   --:-- ETA\r",
        "1.057.O.step2a.contig1.fasta                  100%   10KB  10.2KB/s   00:00    \r\n"
       ]
      },
      {
       "output_type": "stream",
       "stream": "stdout",
       "text": [
        "\r",
        "1.062.O.step2a.contig1.fasta                    0%    0     0.0KB/s   --:-- ETA\r",
        "1.062.O.step2a.contig1.fasta                  100%   11KB  10.6KB/s   00:00    \r\n"
       ]
      },
      {
       "output_type": "stream",
       "stream": "stdout",
       "text": [
        "\r",
        "1.069.O.step2a.contig1.fasta                    0%    0     0.0KB/s   --:-- ETA\r",
        "1.069.O.step2a.contig1.fasta                  100%   10KB  10.5KB/s   00:00    \r\n"
       ]
      },
      {
       "output_type": "stream",
       "stream": "stdout",
       "text": [
        "\r",
        "1.080.O.step2a.contig1.fasta                    0%    0     0.0KB/s   --:-- ETA\r",
        "1.080.O.step2a.contig1.fasta                  100%   10KB  10.0KB/s   00:00    \r\n",
        "\r",
        "1.095.O.step2a.contig1.fasta                    0%    0     0.0KB/s   --:-- ETA"
       ]
      },
      {
       "output_type": "stream",
       "stream": "stdout",
       "text": [
        "\r",
        "1.095.O.step2a.contig1.fasta                  100%   10KB  10.3KB/s   00:00    \r\n",
        "\r",
        "1.102.O.step2a.contig1.fasta                    0%    0     0.0KB/s   --:-- ETA"
       ]
      },
      {
       "output_type": "stream",
       "stream": "stdout",
       "text": [
        "\r",
        "1.102.O.step2a.contig1.fasta                  100%   10KB  10.4KB/s   00:00    \r\n",
        "\r",
        "1.107.A.step2a.contig1.fasta                    0%    0     0.0KB/s   --:-- ETA"
       ]
      },
      {
       "output_type": "stream",
       "stream": "stdout",
       "text": [
        "\r",
        "1.107.A.step2a.contig1.fasta                  100%   10KB  10.4KB/s   00:00    \r\n",
        "\r",
        "1.107.B.step2a.contig1.fasta                    0%    0     0.0KB/s   --:-- ETA"
       ]
      },
      {
       "output_type": "stream",
       "stream": "stdout",
       "text": [
        "\r",
        "1.107.B.step2a.contig1.fasta                  100%   10KB  10.4KB/s   00:00    \r\n",
        "\r",
        "1.107.C.step2a.contig1.fasta                    0%    0     0.0KB/s   --:-- ETA"
       ]
      },
      {
       "output_type": "stream",
       "stream": "stdout",
       "text": [
        "\r",
        "1.107.C.step2a.contig1.fasta                  100%   10KB  10.4KB/s   00:00    \r\n",
        "\r",
        "1.125.O.step2a.contig1.fasta                    0%    0     0.0KB/s   --:-- ETA\r",
        "1.125.O.step2a.contig1.fasta                  100%   10KB  10.5KB/s   00:00    \r\n"
       ]
      },
      {
       "output_type": "stream",
       "stream": "stdout",
       "text": [
        "\r",
        "1.141.A.step2a.contig1.fasta                    0%    0     0.0KB/s   --:-- ETA\r",
        "1.141.A.step2a.contig1.fasta                  100%   10KB  10.0KB/s   00:00    \r\n"
       ]
      },
      {
       "output_type": "stream",
       "stream": "stdout",
       "text": [
        "\r",
        "1.249.A.step2a.contig1.fasta                    0%    0     0.0KB/s   --:-- ETA\r",
        "1.249.A.step2a.contig1.fasta                  100%   11KB  10.5KB/s   00:00    \r\n"
       ]
      },
      {
       "output_type": "stream",
       "stream": "stdout",
       "text": [
        "\r",
        "1.249.B.step2a.contig1.fasta                    0%    0     0.0KB/s   --:-- ETA"
       ]
      },
      {
       "output_type": "stream",
       "stream": "stdout",
       "text": [
        "\r",
        "1.249.B.step2a.contig1.fasta                  100%   11KB  10.7KB/s   00:01    \r\n",
        "\r",
        "2.092.O.step2a.contig1.fasta                    0%    0     0.0KB/s   --:-- ETA"
       ]
      },
      {
       "output_type": "stream",
       "stream": "stdout",
       "text": [
        "\r",
        "2.092.O.step2a.contig1.fasta                  100%   10KB  10.5KB/s   00:00    \r\n"
       ]
      },
      {
       "output_type": "stream",
       "stream": "stdout",
       "text": [
        "\r",
        "1.008.O.step3a.contig1.fasta                    0%    0     0.0KB/s   --:-- ETA\r",
        "1.008.O.step3a.contig1.fasta                  100%   10KB  10.5KB/s   00:00    \r\n"
       ]
      },
      {
       "output_type": "stream",
       "stream": "stdout",
       "text": [
        "\r",
        "1.011.O.step3a.contig1.fasta                    0%    0     0.0KB/s   --:-- ETA\r",
        "1.011.O.step3a.contig1.fasta                  100%   10KB  10.5KB/s   00:00    \r\n",
        "\r",
        "1.020.O.step3a.contig1.fasta                    0%    0     0.0KB/s   --:-- ETA"
       ]
      },
      {
       "output_type": "stream",
       "stream": "stdout",
       "text": [
        "\r",
        "1.020.O.step3a.contig1.fasta                  100%  526     0.5KB/s   00:00    \r\n",
        "\r",
        "1.040.O.step3a.contig1.fasta                    0%    0     0.0KB/s   --:-- ETA"
       ]
      },
      {
       "output_type": "stream",
       "stream": "stdout",
       "text": [
        "\r",
        "1.040.O.step3a.contig1.fasta                  100%   10KB  10.5KB/s   00:00    \r\n",
        "\r",
        "1.043.O.step3a.contig1.fasta                    0%    0     0.0KB/s   --:-- ETA"
       ]
      },
      {
       "output_type": "stream",
       "stream": "stdout",
       "text": [
        "\r",
        "1.043.O.step3a.contig1.fasta                  100%   10KB  10.2KB/s   00:01    \r\n",
        "\r",
        "1.044.O.step3a.contig1.fasta                    0%    0     0.0KB/s   --:-- ETA"
       ]
      },
      {
       "output_type": "stream",
       "stream": "stdout",
       "text": [
        "\r",
        "1.044.O.step3a.contig1.fasta                  100%   10KB  10.2KB/s   00:00    \r\n",
        "\r",
        "1.048.O.step3a.contig1.fasta                    0%    0     0.0KB/s   --:-- ETA"
       ]
      },
      {
       "output_type": "stream",
       "stream": "stdout",
       "text": [
        "\r",
        "1.048.O.step3a.contig1.fasta                  100%   10KB  10.4KB/s   00:00    \r\n",
        "\r",
        "1.057.O.step3a.contig1.fasta                    0%    0     0.0KB/s   --:-- ETA"
       ]
      },
      {
       "output_type": "stream",
       "stream": "stdout",
       "text": [
        "\r",
        "1.057.O.step3a.contig1.fasta                  100%   10KB  10.2KB/s   00:00    \r\n",
        "\r",
        "1.062.O.step3a.contig1.fasta                    0%    0     0.0KB/s   --:-- ETA"
       ]
      },
      {
       "output_type": "stream",
       "stream": "stdout",
       "text": [
        "\r",
        "1.062.O.step3a.contig1.fasta                  100%   10KB  10.5KB/s   00:00    \r\n",
        "\r",
        "1.069.O.step3a.contig1.fasta                    0%    0     0.0KB/s   --:-- ETA\r",
        "1.069.O.step3a.contig1.fasta                  100%   10KB  10.5KB/s   00:00    \r\n"
       ]
      },
      {
       "output_type": "stream",
       "stream": "stdout",
       "text": [
        "\r",
        "1.080.O.step3a.contig1.fasta                    0%    0     0.0KB/s   --:-- ETA\r",
        "1.080.O.step3a.contig1.fasta                  100%   10KB  10.0KB/s   00:00    \r\n"
       ]
      },
      {
       "output_type": "stream",
       "stream": "stdout",
       "text": [
        "\r",
        "1.095.O.step3a.contig1.fasta                    0%    0     0.0KB/s   --:-- ETA\r",
        "1.095.O.step3a.contig1.fasta                  100%   10KB  10.3KB/s   00:00    \r\n"
       ]
      },
      {
       "output_type": "stream",
       "stream": "stdout",
       "text": [
        "\r",
        "1.102.O.step3a.contig1.fasta                    0%    0     0.0KB/s   --:-- ETA\r",
        "1.102.O.step3a.contig1.fasta                  100%   10KB  10.4KB/s   00:00    \r\n"
       ]
      },
      {
       "output_type": "stream",
       "stream": "stdout",
       "text": [
        "\r",
        "1.107.A.step3a.contig1.fasta                    0%    0     0.0KB/s   --:-- ETA\r",
        "1.107.A.step3a.contig1.fasta                  100%   10KB  10.4KB/s   00:00    \r\n"
       ]
      },
      {
       "output_type": "stream",
       "stream": "stdout",
       "text": [
        "\r",
        "1.107.B.step3a.contig1.fasta                    0%    0     0.0KB/s   --:-- ETA\r",
        "1.107.B.step3a.contig1.fasta                  100%   10KB  10.4KB/s   00:00    \r\n",
        "\r",
        "1.107.C.step3a.contig1.fasta                    0%    0     0.0KB/s   --:-- ETA"
       ]
      },
      {
       "output_type": "stream",
       "stream": "stdout",
       "text": [
        "\r",
        "1.107.C.step3a.contig1.fasta                  100%   10KB  10.4KB/s   00:00    \r\n",
        "\r",
        "1.125.O.step3a.contig1.fasta                    0%    0     0.0KB/s   --:-- ETA"
       ]
      },
      {
       "output_type": "stream",
       "stream": "stdout",
       "text": [
        "\r",
        "1.125.O.step3a.contig1.fasta                  100%   10KB  10.5KB/s   00:00    \r\n",
        "\r",
        "1.141.A.step3a.contig1.fasta                    0%    0     0.0KB/s   --:-- ETA"
       ]
      },
      {
       "output_type": "stream",
       "stream": "stdout",
       "text": [
        "\r",
        "1.141.A.step3a.contig1.fasta                  100%   10KB  10.0KB/s   00:00    \r\n",
        "\r",
        "1.249.A.step3a.contig1.fasta                    0%    0     0.0KB/s   --:-- ETA"
       ]
      },
      {
       "output_type": "stream",
       "stream": "stdout",
       "text": [
        "\r",
        "1.249.A.step3a.contig1.fasta                  100%   11KB  10.5KB/s   00:00    \r\n",
        "\r",
        "1.249.B.step3a.contig1.fasta                    0%    0     0.0KB/s   --:-- ETA"
       ]
      },
      {
       "output_type": "stream",
       "stream": "stdout",
       "text": [
        "\r",
        "1.249.B.step3a.contig1.fasta                  100%   11KB  10.5KB/s   00:00    \r\n",
        "\r",
        "2.092.O.step3a.contig1.fasta                    0%    0     0.0KB/s   --:-- ETA\r",
        "2.092.O.step3a.contig1.fasta                  100%   10KB  10.5KB/s   00:00    \r\n"
       ]
      }
     ],
     "prompt_number": 44
    },
    {
     "cell_type": "code",
     "collapsed": false,
     "input": [
      "#checking iterative recruitment for terminal repeats\n",
      "from Bio.Seq import Seq\n",
      "from pyfaidx import Fasta\n",
      "\n",
      "def compare_ends(fasta):\n",
      "    f=open(fasta)\n",
      "    sequence=\"\"\n",
      "    for row in f:\n",
      "        if row.startswith(\">\"):\n",
      "            title=row\n",
      "        else:\n",
      "            sequence+=row\n",
      "    sequence=sequence.replace(\"\\n\",\"\")\n",
      "    beginning=sequence[0:110]\n",
      "    seq=Seq(str(sequence))\n",
      "    end=Seq(sequence[-110:]).reverse_complement()\n",
      "    count=0\n",
      "    for i in range(0,110):\n",
      "        if beginning[i]==end[i]:\n",
      "            count+=1\n",
      "        else:\n",
      "            break\n",
      "    #print(count)\n",
      "    #print(beginning)\n",
      "    #print(end)\n",
      "    return count\n",
      "\n",
      "def read_contig1_fasta(fasta):\n",
      "    f=open(fasta)\n",
      "    sequence=\"\"\n",
      "    for row in f:\n",
      "        if row.startswith(\">\"):\n",
      "            continue\n",
      "        else:\n",
      "            sequence+=row\n",
      "    sequence=sequence.replace(\"\\n\",\"\")\n",
      "    return sequence\n",
      "\n",
      "no_rpts=[]\n",
      "count_lim=20\n",
      "for line in group15:\n",
      "    one=line+\"ia.oc.fasta\"\n",
      "    two=line+\"step2a.contig1.fasta\"\n",
      "    three=line+\"step3a.contig1.fasta\"\n",
      "    step1=os.path.getsize(one)\n",
      "    step2=os.path.getsize(two)\n",
      "    step3=os.path.getsize(three)\n",
      "    terminal=\"yes\"\n",
      "    print(\"file sizes for \"+line+\": step1 is \"+str(step1)+\" and step2 is \"+str(step2)+\" and step3 is \"+str(step3))\n",
      "    if step2>step1 and step2==step3 or step3>step1 and step3>step2:\n",
      "        #print(\"use step 3\")\n",
      "        fastafile=three\n",
      "        fastafile2=two\n",
      "        fastafile3=one\n",
      "    elif step1>step2 and step1>step3:\n",
      "        #print(\"use step 1\")\n",
      "        fastafile=one\n",
      "        if step2>step3:\n",
      "            fastafile2=two\n",
      "            fastafile3=three\n",
      "        else:\n",
      "            fastafile2=three\n",
      "            fastafile3=two\n",
      "    elif step2>step1 and step2>step3:\n",
      "        #print(\"use step 2\")\n",
      "        fastafile=two\n",
      "        if step3>step1:\n",
      "            fastafile2=three\n",
      "            fastafile3=one\n",
      "        else:\n",
      "            fastafile2=one\n",
      "            fastafile3=three\n",
      "    else:\n",
      "        print(\"this doesn't make sense\")\n",
      "    \n",
      "    \n",
      "    count=compare_ends(fastafile)\n",
      "    \n",
      "    \n",
      "    if count>count_lim:\n",
      "        genome=fastafile\n",
      "        \n",
      "    else:    \n",
      "        count=compare_ends(fastafile2)\n",
      "    \n",
      "        if count>count_lim:\n",
      "            genome=fastafile2\n",
      "            \n",
      "        else:\n",
      "            count=compare_ends(fastafile3)\n",
      "\n",
      "            if count>count_lim:\n",
      "                genome=fastafile3\n",
      "                \n",
      "            else:\n",
      "                \n",
      "                no_rpts.append(line)\n",
      "                genome=fastafile\n",
      "                terminal=\"no\"\n",
      "        \n",
      "    print(\"assembly to use is \"+genome)\n",
      "    print(\"for \"+line+\" the length is \"+str(len(read_contig1_fasta(genome))))\n",
      "    if terminal==\"yes\":\n",
      "        print(\"the terminal repeat region was \"+str(count)+\" bp long\\n\")\n",
      "        #output=open(line+\"iterative_assembly.fasta\",\"w\")\n",
      "    else:\n",
      "        print(\"no terminal repeats detected\\n\")\n",
      "        #output=open(line+\"iterative_assembly_norepeats.fasta\",\"w\")\n",
      "    #output.write(\">\"+line+\"\\n\"+read_contig1_fasta(genome))\n",
      "    #output.close()\n",
      "print(\"genomes with no terminal repeats were: \"+str(no_rpts))"
     ],
     "language": "python",
     "metadata": {},
     "outputs": [
      {
       "output_type": "stream",
       "stream": "stdout",
       "text": [
        "file sizes for 2.092.O.: step1 is 10590 and step2 is 10738 and step3 is 10738\n",
        "assembly to use is 2.092.O.step3a.contig1.fasta\n",
        "for 2.092.O. the length is 10552\n",
        "the terminal repeat region was 49 bp long\n",
        "\n",
        "file sizes for 1.011.O.: step1 is 10589 and step2 is 10737 and step3 is 10737\n",
        "assembly to use is 1.011.O.step3a.contig1.fasta\n",
        "for 1.011.O. the length is 10551\n",
        "the terminal repeat region was 49 bp long\n",
        "\n",
        "file sizes for 1.141.A.: step1 is 9969 and step2 is 10196 and step3 is 10196\n",
        "assembly to use is 1.141.A.step3a.contig1.fasta\n",
        "for 1.141.A. the length is 10019\n",
        "the terminal repeat region was 49 bp long\n",
        "\n",
        "file sizes for 1.095.O.: step1 is 10446 and step2 is 10592 and step3 is 10592\n",
        "assembly to use is 1.095.O.step3a.contig1.fasta\n",
        "for 1.095.O. the length is 10408\n",
        "the terminal repeat region was 49 bp long\n",
        "\n",
        "file sizes for 1.107.B.: step1 is 10457 and step2 is 10603 and step3 is 10603\n",
        "assembly to use is 1.107.B.step3a.contig1.fasta\n",
        "for 1.107.B. the length is 10419\n",
        "the terminal repeat region was 49 bp long\n",
        "\n",
        "file sizes for 1.069.O.: step1 is 10654 and step2 is 10737 and step3 is 10737\n",
        "assembly to use is 1.069.O.step3a.contig1.fasta\n",
        "for 1.069.O. the length is 10551\n",
        "the terminal repeat region was 49 bp long\n",
        "\n",
        "file sizes for 1.008.O.: step1 is 10589 and step2 is 10737 and step3 is 10737\n",
        "assembly to use is 1.008.O.step3a.contig1.fasta\n",
        "for 1.008.O. the length is 10551\n",
        "the terminal repeat region was 49 bp long\n",
        "\n",
        "file sizes for 1.102.O.: step1 is 10457 and step2 is 10603 and step3 is 10603\n",
        "assembly to use is 1.102.O.step3a.contig1.fasta\n",
        "for 1.102.O. the length is 10419\n",
        "the terminal repeat region was 49 bp long\n",
        "\n",
        "file sizes for 1.107.C.: step1 is 10457 and step2 is 10603 and step3 is 10603\n",
        "assembly to use is 1.107.C.step3a.contig1.fasta\n",
        "for 1.107.C. the length is 10419\n",
        "the terminal repeat region was 49 bp long\n",
        "\n",
        "file sizes for 1.080.O.: step1 is 10056 and step2 is 10195 and step3 is 10195\n",
        "assembly to use is 1.080.O.step3a.contig1.fasta\n",
        "for 1.080.O. the length is 10018\n",
        "the terminal repeat region was 49 bp long\n",
        "\n",
        "file sizes for 1.062.O.: step1 is 10589 and step2 is 10811 and step3 is 10737\n",
        "assembly to use is 1.062.O.step3a.contig1.fasta\n",
        "for 1.062.O. the length is 10551\n",
        "the terminal repeat region was 49 bp long\n",
        "\n",
        "file sizes for 1.043.O.: step1 is 10282 and step2 is 10425 and step3 is 10425\n",
        "assembly to use is 1.043.O.step3a.contig1.fasta\n",
        "for 1.043.O. the length is 10244\n",
        "the terminal repeat region was 49 bp long\n",
        "\n",
        "file sizes for 1.249.B.: step1 is 10673 and step2 is 10920 and step3 is 10769\n",
        "assembly to use is 1.249.B.step2a.contig1.fasta\n",
        "for 1.249.B. the length is 10731\n",
        "no terminal repeats detected\n",
        "\n",
        "file sizes for 1.249.A.: step1 is 10621 and step2 is 10770 and step3 is 10770\n",
        "assembly to use is 1.249.A.step3a.contig1.fasta\n",
        "for 1.249.A. the length is 10583\n",
        "the terminal repeat region was 49 bp long\n",
        "\n",
        "file sizes for 1.020.O.: step1 is 10646 and step2 is 1228 and step3 is 526\n",
        "assembly to use is 1.020.O.ia.oc.fasta\n",
        "for 1.020.O. the length is 10636\n",
        "no terminal repeats detected\n",
        "\n",
        "file sizes for 1.048.O.: step1 is 10457 and step2 is 10603 and step3 is 10603\n",
        "assembly to use is 1.048.O.step3a.contig1.fasta\n",
        "for 1.048.O. the length is 10419\n",
        "the terminal repeat region was 49 bp long\n",
        "\n",
        "file sizes for 1.057.O.: step1 is 10283 and step2 is 10426 and step3 is 10426\n",
        "assembly to use is 1.057.O.step3a.contig1.fasta\n",
        "for 1.057.O. the length is 10245\n",
        "the terminal repeat region was 49 bp long\n",
        "\n",
        "file sizes for 1.125.O.: step1 is 10588 and step2 is 10736 and step3 is 10736\n",
        "assembly to use is 1.125.O.step3a.contig1.fasta\n",
        "for 1.125.O. the length is 10550\n",
        "the terminal repeat region was 49 bp long\n",
        "\n",
        "file sizes for 1.044.O.: step1 is 10282 and step2 is 10425 and step3 is 10425\n",
        "assembly to use is 1.044.O.step3a.contig1.fasta\n",
        "for 1.044.O. the length is 10244\n",
        "the terminal repeat region was 49 bp long\n",
        "\n",
        "file sizes for 1.107.A.: step1 is 10457 and step2 is 10603 and step3 is 10603\n",
        "assembly to use is 1.107.A.step3a.contig1.fasta\n",
        "for 1.107.A. the length is 10419\n",
        "the terminal repeat region was 49 bp long\n",
        "\n",
        "file sizes for 1.040.O.: step1 is 10597 and step2 is 10737 and step3 is 10737\n",
        "assembly to use is 1.040.O.step3a.contig1.fasta\n",
        "for 1.040.O. the length is 10551\n",
        "the terminal repeat region was 49 bp long\n",
        "\n",
        "genomes with no terminal repeats were: ['1.249.B.', '1.020.O.']\n"
       ]
      }
     ],
     "prompt_number": 46
    },
    {
     "cell_type": "markdown",
     "metadata": {},
     "source": [
      "##Above, the wordsize was changed from 63 to 50 and as a result, the length of the assembled ITR region changed from 62 to 49. It is obvious that the length of the terminal repeat region in this case is dependent upon the length of the word size used in assembly."
     ]
    },
    {
     "cell_type": "code",
     "collapsed": false,
     "input": [],
     "language": "python",
     "metadata": {},
     "outputs": [],
     "prompt_number": 24
    },
    {
     "cell_type": "code",
     "collapsed": false,
     "input": [],
     "language": "python",
     "metadata": {},
     "outputs": [],
     "prompt_number": 24
    },
    {
     "cell_type": "markdown",
     "metadata": {},
     "source": [
      "##Or alternatively, after choosing the optimal contigs, I could then run recruitments to those:"
     ]
    },
    {
     "cell_type": "code",
     "collapsed": false,
     "input": [
      "import glob\n",
      "len(glob.glob(\"*ia.oc.fasta\"))\n",
      "!scp *.ia.oc.fasta jbrown@eofe4.mit.edu:/nobackup1/jbrown/nahant_phage_reads/group15/"
     ],
     "language": "python",
     "metadata": {},
     "outputs": [
      {
       "output_type": "stream",
       "stream": "stdout",
       "text": [
        "\r",
        "1.008.O.ia.oc.fasta                             0%    0     0.0KB/s   --:-- ETA\r",
        "1.008.O.ia.oc.fasta                           100%   10KB  10.3KB/s   00:00    \r\n"
       ]
      },
      {
       "output_type": "stream",
       "stream": "stdout",
       "text": [
        "\r",
        "1.011.O.ia.oc.fasta                             0%    0     0.0KB/s   --:-- ETA\r",
        "1.011.O.ia.oc.fasta                           100%   10KB  10.3KB/s   00:00    \r\n"
       ]
      },
      {
       "output_type": "stream",
       "stream": "stdout",
       "text": [
        "\r",
        "1.020.O.ia.oc.fasta                             0%    0     0.0KB/s   --:-- ETA\r",
        "1.020.O.ia.oc.fasta                           100%   10KB  10.4KB/s   00:00    \r\n"
       ]
      },
      {
       "output_type": "stream",
       "stream": "stdout",
       "text": [
        "\r",
        "1.040.O.ia.oc.fasta                             0%    0     0.0KB/s   --:-- ETA\r",
        "1.040.O.ia.oc.fasta                           100%   10KB  10.4KB/s   00:00    \r\n"
       ]
      },
      {
       "output_type": "stream",
       "stream": "stdout",
       "text": [
        "\r",
        "1.043.O.ia.oc.fasta                             0%    0     0.0KB/s   --:-- ETA\r",
        "1.043.O.ia.oc.fasta                           100%   10KB  10.0KB/s   00:00    \r\n"
       ]
      },
      {
       "output_type": "stream",
       "stream": "stdout",
       "text": [
        "\r",
        "1.044.O.ia.oc.fasta                             0%    0     0.0KB/s   --:-- ETA\r",
        "1.044.O.ia.oc.fasta                           100%   10KB  10.0KB/s   00:00    \r\n"
       ]
      },
      {
       "output_type": "stream",
       "stream": "stdout",
       "text": [
        "\r",
        "1.048.O.ia.oc.fasta                             0%    0     0.0KB/s   --:-- ETA\r",
        "1.048.O.ia.oc.fasta                           100%   10KB  10.2KB/s   00:00    \r\n",
        "\r",
        "1.057.O.ia.oc.fasta                             0%    0     0.0KB/s   --:-- ETA\r",
        "1.057.O.ia.oc.fasta                           100%   10KB  10.0KB/s   00:00    \r\n"
       ]
      },
      {
       "output_type": "stream",
       "stream": "stdout",
       "text": [
        "\r",
        "1.062.O.ia.oc.fasta                             0%    0     0.0KB/s   --:-- ETA\r",
        "1.062.O.ia.oc.fasta                           100%   10KB  10.3KB/s   00:00    \r\n"
       ]
      },
      {
       "output_type": "stream",
       "stream": "stdout",
       "text": [
        "\r",
        "1.069.O.ia.oc.fasta                             0%    0     0.0KB/s   --:-- ETA\r",
        "1.069.O.ia.oc.fasta                           100%   10KB  10.4KB/s   00:00    \r\n"
       ]
      },
      {
       "output_type": "stream",
       "stream": "stdout",
       "text": [
        "\r",
        "1.080.O.ia.oc.fasta                             0%    0     0.0KB/s   --:-- ETA\r",
        "1.080.O.ia.oc.fasta                           100%   10KB   9.8KB/s   00:00    \r\n"
       ]
      },
      {
       "output_type": "stream",
       "stream": "stdout",
       "text": [
        "\r",
        "1.095.O.ia.oc.fasta                             0%    0     0.0KB/s   --:-- ETA\r",
        "1.095.O.ia.oc.fasta                           100%   10KB  10.2KB/s   00:00    \r\n"
       ]
      },
      {
       "output_type": "stream",
       "stream": "stdout",
       "text": [
        "\r",
        "1.102.O.ia.oc.fasta                             0%    0     0.0KB/s   --:-- ETA\r",
        "1.102.O.ia.oc.fasta                           100%   10KB  10.2KB/s   00:00    \r\n"
       ]
      },
      {
       "output_type": "stream",
       "stream": "stdout",
       "text": [
        "\r",
        "1.107.A.ia.oc.fasta                             0%    0     0.0KB/s   --:-- ETA\r",
        "1.107.A.ia.oc.fasta                           100%   10KB  10.2KB/s   00:00    \r\n"
       ]
      },
      {
       "output_type": "stream",
       "stream": "stdout",
       "text": [
        "\r",
        "1.107.B.ia.oc.fasta                             0%    0     0.0KB/s   --:-- ETA\r",
        "1.107.B.ia.oc.fasta                           100%   10KB  10.2KB/s   00:00    \r\n"
       ]
      },
      {
       "output_type": "stream",
       "stream": "stdout",
       "text": [
        "\r",
        "1.107.C.ia.oc.fasta                             0%    0     0.0KB/s   --:-- ETA\r",
        "1.107.C.ia.oc.fasta                           100%   10KB  10.2KB/s   00:00    \r\n"
       ]
      },
      {
       "output_type": "stream",
       "stream": "stdout",
       "text": [
        "\r",
        "1.125.O.ia.oc.fasta                             0%    0     0.0KB/s   --:-- ETA\r",
        "1.125.O.ia.oc.fasta                           100%   10KB  10.3KB/s   00:00    \r\n"
       ]
      },
      {
       "output_type": "stream",
       "stream": "stdout",
       "text": [
        "\r",
        "1.141.A.ia.oc.fasta                             0%    0     0.0KB/s   --:-- ETA\r",
        "1.141.A.ia.oc.fasta                           100% 9969     9.7KB/s   00:00    \r\n"
       ]
      },
      {
       "output_type": "stream",
       "stream": "stdout",
       "text": [
        "\r",
        "1.249.A.ia.oc.fasta                             0%    0     0.0KB/s   --:-- ETA\r",
        "1.249.A.ia.oc.fasta                           100%   10KB  10.4KB/s   00:00    \r\n"
       ]
      },
      {
       "output_type": "stream",
       "stream": "stdout",
       "text": [
        "\r",
        "1.249.B.ia.oc.fasta                             0%    0     0.0KB/s   --:-- ETA\r",
        "1.249.B.ia.oc.fasta                           100%   10KB  10.4KB/s   00:00    \r\n"
       ]
      },
      {
       "output_type": "stream",
       "stream": "stdout",
       "text": [
        "\r",
        "2.092.O.ia.oc.fasta                             0%    0     0.0KB/s   --:-- ETA\r",
        "2.092.O.ia.oc.fasta                           100%   10KB  10.3KB/s   00:00    \r\n"
       ]
      }
     ],
     "prompt_number": 33
    },
    {
     "cell_type": "code",
     "collapsed": false,
     "input": [
      "script=open(\"ia_recruit2and3.slurm\",\"w\")\n",
      "script.write(\"#!/bin/bash\\n#SBATCH -n 16\\n#SBATCH -N 1\\n#SBATCH -o rearrange.out\\n#SBATCH -e rearrange.err\\n#SBATCH -p sched_mit_chisholm\\n\\n\")\n",
      "script.write(\"module add engaging/clc-assembly-cell\\n\\n\")\n",
      "\n",
      "script.write(\"mkdir ia_recruit2\\nmkdir ia_recruit3\\n\\n\")\n",
      "\n",
      "for virus in group15:\n",
      "    target_seq=virus+\"ia.oc.fasta\"\n",
      "    reads=virus+\"*.fastq\"\n",
      "    recruitfile=\"./ia_recruit2/\"+virus+\"ia.recruit2.cas\"\n",
      "    outputfasta=\"./ia_recruit2/\"+virus+\"ia.recruit2.fasta\"\n",
      "\n",
      "\n",
      "    script.write(\"clc_mapper -o \"+recruitfile+\" -p fb ss 100 300 -q \"+reads+\" -d \"+target_seq+\" -a local -r ignore \\n\")\n",
      "    script.write(\"clc_extract_consensus -z none -a \"+recruitfile+\" -o \"+outputfasta+\"\\n\")\n",
      "    \n",
      "for virus in group15:\n",
      "    target_seq=\"./ia_recruit2/\"+virus+\"ia.recruit2.fasta\"\n",
      "    reads=virus+\"*.fastq\"\n",
      "    recruitfile=\"./ia_recruit3/\"+virus+\"ia.recruit3.cas\"\n",
      "    outputfasta=\"./ia_recruit3/\"+virus+\"ia.recruit3.fasta\"\n",
      "\n",
      "\n",
      "    script.write(\"clc_mapper -o \"+recruitfile+\" -p fb ss 100 300 -q \"+reads+\" -d \"+target_seq+\" -a local -r ignore \\n\")\n",
      "    script.write(\"clc_extract_consensus -z none -a \"+recruitfile+\" -o \"+outputfasta+\"\\n\")\n",
      "    \n",
      "\n",
      "script.close()\n",
      "!open ia_recruit2and3.slurm -a textedit\n",
      "!scp ia_recruit2and3.slurm jbrown@eofe4.mit.edu:/nobackup1/jbrown/nahant_phage_reads/group15/"
     ],
     "language": "python",
     "metadata": {},
     "outputs": [
      {
       "output_type": "stream",
       "stream": "stdout",
       "text": [
        "\r",
        "ia_recruit2and3.slurm                           0%    0     0.0KB/s   --:-- ETA\r",
        "ia_recruit2and3.slurm                         100%   11KB  10.7KB/s   00:00    \r\n"
       ]
      }
     ],
     "prompt_number": 35
    },
    {
     "cell_type": "code",
     "collapsed": false,
     "input": [
      "!scp jbrown@eofe4.mit.edu:/nobackup1/jbrown/nahant_phage_reads/group15/ia_recruit2/*fasta ./\n",
      "!scp jbrown@eofe4.mit.edu:/nobackup1/jbrown/nahant_phage_reads/group15/ia_recruit3/*fasta ./"
     ],
     "language": "python",
     "metadata": {},
     "outputs": [
      {
       "output_type": "stream",
       "stream": "stdout",
       "text": [
        "\r",
        "1.008.O.ia.recruit2.fasta                       0%    0     0.0KB/s   --:-- ETA"
       ]
      },
      {
       "output_type": "stream",
       "stream": "stdout",
       "text": [
        "\r",
        "1.008.O.ia.recruit2.fasta                     100%   11KB  10.5KB/s   00:00    \r\n",
        "\r",
        "1.011.O.ia.recruit2.fasta                       0%    0     0.0KB/s   --:-- ETA"
       ]
      },
      {
       "output_type": "stream",
       "stream": "stdout",
       "text": [
        "\r",
        "1.011.O.ia.recruit2.fasta                     100%   11KB  10.5KB/s   00:00    \r\n",
        "\r",
        "1.020.O.ia.recruit2.fasta                       0%    0     0.0KB/s   --:-- ETA"
       ]
      },
      {
       "output_type": "stream",
       "stream": "stdout",
       "text": [
        "\r",
        "1.020.O.ia.recruit2.fasta                     100%   11KB  10.6KB/s   00:00    \r\n",
        "\r",
        "1.040.O.ia.recruit2.fasta                       0%    0     0.0KB/s   --:-- ETA"
       ]
      },
      {
       "output_type": "stream",
       "stream": "stdout",
       "text": [
        "\r",
        "1.040.O.ia.recruit2.fasta                     100%   11KB  10.5KB/s   00:00    \r\n",
        "\r",
        "1.043.O.ia.recruit2.fasta                       0%    0     0.0KB/s   --:-- ETA"
       ]
      },
      {
       "output_type": "stream",
       "stream": "stdout",
       "text": [
        "\r",
        "1.043.O.ia.recruit2.fasta                     100%   10KB  10.2KB/s   00:00    \r\n",
        "\r",
        "1.044.O.ia.recruit2.fasta                       0%    0     0.0KB/s   --:-- ETA"
       ]
      },
      {
       "output_type": "stream",
       "stream": "stdout",
       "text": [
        "\r",
        "1.044.O.ia.recruit2.fasta                     100%   10KB  10.2KB/s   00:00    \r\n",
        "\r",
        "1.048.O.ia.recruit2.fasta                       0%    0     0.0KB/s   --:-- ETA"
       ]
      },
      {
       "output_type": "stream",
       "stream": "stdout",
       "text": [
        "\r",
        "1.048.O.ia.recruit2.fasta                     100%   10KB  10.4KB/s   00:00    \r\n",
        "\r",
        "1.057.O.ia.recruit2.fasta                       0%    0     0.0KB/s   --:-- ETA"
       ]
      },
      {
       "output_type": "stream",
       "stream": "stdout",
       "text": [
        "\r",
        "1.057.O.ia.recruit2.fasta                     100%   10KB  10.2KB/s   00:00    \r\n",
        "\r",
        "1.062.O.ia.recruit2.fasta                       0%    0     0.0KB/s   --:-- ETA"
       ]
      },
      {
       "output_type": "stream",
       "stream": "stdout",
       "text": [
        "\r",
        "1.062.O.ia.recruit2.fasta                     100%   11KB  10.5KB/s   00:00    \r\n",
        "\r",
        "1.069.O.ia.recruit2.fasta                       0%    0     0.0KB/s   --:-- ETA"
       ]
      },
      {
       "output_type": "stream",
       "stream": "stdout",
       "text": [
        "\r",
        "1.069.O.ia.recruit2.fasta                     100%   11KB  10.6KB/s   00:00    \r\n",
        "\r",
        "1.080.O.ia.recruit2.fasta                       0%    0     0.0KB/s   --:-- ETA"
       ]
      },
      {
       "output_type": "stream",
       "stream": "stdout",
       "text": [
        "\r",
        "1.080.O.ia.recruit2.fasta                     100%   10KB  10.0KB/s   00:00    \r\n",
        "\r",
        "1.095.O.ia.recruit2.fasta                       0%    0     0.0KB/s   --:-- ETA\r",
        "1.095.O.ia.recruit2.fasta                     100%   10KB  10.4KB/s   00:00    \r\n"
       ]
      },
      {
       "output_type": "stream",
       "stream": "stdout",
       "text": [
        "\r",
        "1.102.O.ia.recruit2.fasta                       0%    0     0.0KB/s   --:-- ETA\r",
        "1.102.O.ia.recruit2.fasta                     100%   10KB  10.4KB/s   00:00    \r\n"
       ]
      },
      {
       "output_type": "stream",
       "stream": "stdout",
       "text": [
        "\r",
        "1.107.A.ia.recruit2.fasta                       0%    0     0.0KB/s   --:-- ETA\r",
        "1.107.A.ia.recruit2.fasta                     100%   10KB  10.4KB/s   00:00    \r\n"
       ]
      },
      {
       "output_type": "stream",
       "stream": "stdout",
       "text": [
        "\r",
        "1.107.B.ia.recruit2.fasta                       0%    0     0.0KB/s   --:-- ETA\r",
        "1.107.B.ia.recruit2.fasta                     100%   10KB  10.4KB/s   00:00    \r\n"
       ]
      },
      {
       "output_type": "stream",
       "stream": "stdout",
       "text": [
        "\r",
        "1.107.C.ia.recruit2.fasta                       0%    0     0.0KB/s   --:-- ETA\r",
        "1.107.C.ia.recruit2.fasta                     100%   10KB  10.4KB/s   00:00    \r\n"
       ]
      },
      {
       "output_type": "stream",
       "stream": "stdout",
       "text": [
        "\r",
        "1.125.O.ia.recruit2.fasta                       0%    0     0.0KB/s   --:-- ETA\r",
        "1.125.O.ia.recruit2.fasta                     100%   11KB  10.5KB/s   00:00    \r\n"
       ]
      },
      {
       "output_type": "stream",
       "stream": "stdout",
       "text": [
        "\r",
        "1.141.A.ia.recruit2.fasta                       0%    0     0.0KB/s   --:-- ETA\r",
        "1.141.A.ia.recruit2.fasta                     100%   10KB   9.9KB/s   00:00    \r\n"
       ]
      },
      {
       "output_type": "stream",
       "stream": "stdout",
       "text": [
        "\r",
        "1.249.A.ia.recruit2.fasta                       0%    0     0.0KB/s   --:-- ETA\r",
        "1.249.A.ia.recruit2.fasta                     100%   11KB  10.6KB/s   00:00    \r\n"
       ]
      },
      {
       "output_type": "stream",
       "stream": "stdout",
       "text": [
        "\r",
        "1.249.B.ia.recruit2.fasta                       0%    0     0.0KB/s   --:-- ETA\r",
        "1.249.B.ia.recruit2.fasta                     100%   11KB  10.6KB/s   00:00    \r\n"
       ]
      },
      {
       "output_type": "stream",
       "stream": "stdout",
       "text": [
        "\r",
        "2.092.O.ia.recruit2.fasta                       0%    0     0.0KB/s   --:-- ETA\r",
        "2.092.O.ia.recruit2.fasta                     100%   11KB  10.5KB/s   00:00    \r\n"
       ]
      },
      {
       "output_type": "stream",
       "stream": "stdout",
       "text": [
        "\r",
        "1.008.O.ia.recruit3.fasta                       0%    0     0.0KB/s   --:-- ETA"
       ]
      },
      {
       "output_type": "stream",
       "stream": "stdout",
       "text": [
        "\r",
        "1.008.O.ia.recruit3.fasta                     100%   11KB  10.5KB/s   00:00    \r\n",
        "\r",
        "1.011.O.ia.recruit3.fasta                       0%    0     0.0KB/s   --:-- ETA"
       ]
      },
      {
       "output_type": "stream",
       "stream": "stdout",
       "text": [
        "\r",
        "1.011.O.ia.recruit3.fasta                     100%   11KB  10.5KB/s   00:00    \r\n",
        "\r",
        "1.020.O.ia.recruit3.fasta                       0%    0     0.0KB/s   --:-- ETA"
       ]
      },
      {
       "output_type": "stream",
       "stream": "stdout",
       "text": [
        "\r",
        "1.020.O.ia.recruit3.fasta                     100%   11KB  10.6KB/s   00:00    \r\n",
        "\r",
        "1.040.O.ia.recruit3.fasta                       0%    0     0.0KB/s   --:-- ETA\r",
        "1.040.O.ia.recruit3.fasta                     100%   11KB  10.5KB/s   00:00    \r\n"
       ]
      },
      {
       "output_type": "stream",
       "stream": "stdout",
       "text": [
        "\r",
        "1.043.O.ia.recruit3.fasta                       0%    0     0.0KB/s   --:-- ETA\r",
        "1.043.O.ia.recruit3.fasta                     100%   10KB  10.2KB/s   00:00    \r\n"
       ]
      },
      {
       "output_type": "stream",
       "stream": "stdout",
       "text": [
        "\r",
        "1.044.O.ia.recruit3.fasta                       0%    0     0.0KB/s   --:-- ETA\r",
        "1.044.O.ia.recruit3.fasta                     100%   10KB  10.2KB/s   00:00    \r\n"
       ]
      },
      {
       "output_type": "stream",
       "stream": "stdout",
       "text": [
        "\r",
        "1.048.O.ia.recruit3.fasta                       0%    0     0.0KB/s   --:-- ETA\r",
        "1.048.O.ia.recruit3.fasta                     100%   10KB  10.4KB/s   00:00    \r\n"
       ]
      },
      {
       "output_type": "stream",
       "stream": "stdout",
       "text": [
        "\r",
        "1.057.O.ia.recruit3.fasta                       0%    0     0.0KB/s   --:-- ETA\r",
        "1.057.O.ia.recruit3.fasta                     100%   10KB  10.2KB/s   00:00    \r\n"
       ]
      },
      {
       "output_type": "stream",
       "stream": "stdout",
       "text": [
        "\r",
        "1.062.O.ia.recruit3.fasta                       0%    0     0.0KB/s   --:-- ETA\r",
        "1.062.O.ia.recruit3.fasta                     100%   11KB  10.5KB/s   00:00    \r\n"
       ]
      },
      {
       "output_type": "stream",
       "stream": "stdout",
       "text": [
        "\r",
        "1.069.O.ia.recruit3.fasta                       0%    0     0.0KB/s   --:-- ETA\r",
        "1.069.O.ia.recruit3.fasta                     100%   11KB  10.6KB/s   00:00    \r\n"
       ]
      },
      {
       "output_type": "stream",
       "stream": "stdout",
       "text": [
        "\r",
        "1.080.O.ia.recruit3.fasta                       0%    0     0.0KB/s   --:-- ETA\r",
        "1.080.O.ia.recruit3.fasta                     100%   10KB  10.0KB/s   00:00    \r\n"
       ]
      },
      {
       "output_type": "stream",
       "stream": "stdout",
       "text": [
        "\r",
        "1.095.O.ia.recruit3.fasta                       0%    0     0.0KB/s   --:-- ETA\r",
        "1.095.O.ia.recruit3.fasta                     100%   10KB  10.4KB/s   00:00    \r\n"
       ]
      },
      {
       "output_type": "stream",
       "stream": "stdout",
       "text": [
        "\r",
        "1.102.O.ia.recruit3.fasta                       0%    0     0.0KB/s   --:-- ETA\r",
        "1.102.O.ia.recruit3.fasta                     100%   10KB  10.4KB/s   00:00    \r\n",
        "\r",
        "1.107.A.ia.recruit3.fasta                       0%    0     0.0KB/s   --:-- ETA"
       ]
      },
      {
       "output_type": "stream",
       "stream": "stdout",
       "text": [
        "\r",
        "1.107.A.ia.recruit3.fasta                     100%   10KB  10.4KB/s   00:00    \r\n",
        "\r",
        "1.107.B.ia.recruit3.fasta                       0%    0     0.0KB/s   --:-- ETA"
       ]
      },
      {
       "output_type": "stream",
       "stream": "stdout",
       "text": [
        "\r",
        "1.107.B.ia.recruit3.fasta                     100%   10KB  10.4KB/s   00:00    \r\n",
        "\r",
        "1.107.C.ia.recruit3.fasta                       0%    0     0.0KB/s   --:-- ETA"
       ]
      },
      {
       "output_type": "stream",
       "stream": "stdout",
       "text": [
        "\r",
        "1.107.C.ia.recruit3.fasta                     100%   10KB  10.4KB/s   00:00    \r\n",
        "\r",
        "1.125.O.ia.recruit3.fasta                       0%    0     0.0KB/s   --:-- ETA"
       ]
      },
      {
       "output_type": "stream",
       "stream": "stdout",
       "text": [
        "\r",
        "1.125.O.ia.recruit3.fasta                     100%   11KB  10.5KB/s   00:00    \r\n",
        "\r",
        "1.141.A.ia.recruit3.fasta                       0%    0     0.0KB/s   --:-- ETA"
       ]
      },
      {
       "output_type": "stream",
       "stream": "stdout",
       "text": [
        "\r",
        "1.141.A.ia.recruit3.fasta                     100%   10KB   9.9KB/s   00:00    \r\n",
        "\r",
        "1.249.A.ia.recruit3.fasta                       0%    0     0.0KB/s   --:-- ETA"
       ]
      },
      {
       "output_type": "stream",
       "stream": "stdout",
       "text": [
        "\r",
        "1.249.A.ia.recruit3.fasta                     100%   11KB  10.6KB/s   00:00    \r\n"
       ]
      },
      {
       "output_type": "stream",
       "stream": "stdout",
       "text": [
        "\r",
        "1.249.B.ia.recruit3.fasta                       0%    0     0.0KB/s   --:-- ETA\r",
        "1.249.B.ia.recruit3.fasta                     100%   11KB  10.6KB/s   00:00    \r\n",
        "\r",
        "2.092.O.ia.recruit3.fasta                       0%    0     0.0KB/s   --:-- ETA"
       ]
      },
      {
       "output_type": "stream",
       "stream": "stdout",
       "text": [
        "\r",
        "2.092.O.ia.recruit3.fasta                     100%   11KB  10.5KB/s   00:00    \r\n"
       ]
      }
     ],
     "prompt_number": 2
    },
    {
     "cell_type": "code",
     "collapsed": false,
     "input": [
      "#checking iterative recruitment for terminal repeats\n",
      "from Bio.Seq import Seq\n",
      "from pyfaidx import Fasta\n",
      "\n",
      "def compare_ends(fasta):\n",
      "    f=open(fasta)\n",
      "    sequence=\"\"\n",
      "    for row in f:\n",
      "        if row.startswith(\">\"):\n",
      "            title=row\n",
      "        else:\n",
      "            sequence+=row\n",
      "    sequence=sequence.replace(\"\\n\",\"\")\n",
      "    beginning=sequence[0:110]\n",
      "    seq=Seq(str(sequence))\n",
      "    end=Seq(sequence[-110:]).reverse_complement()\n",
      "    count=0\n",
      "    for i in range(0,110):\n",
      "        if beginning[i]==end[i]:\n",
      "            count+=1\n",
      "        else:\n",
      "            break\n",
      "    #print(count)\n",
      "    #print(beginning)\n",
      "    #print(end)\n",
      "    return count\n",
      "\n",
      "def read_contig1_fasta(fasta):\n",
      "    f=open(fasta)\n",
      "    sequence=\"\"\n",
      "    for row in f:\n",
      "        if row.startswith(\">\"):\n",
      "            continue\n",
      "        else:\n",
      "            sequence+=row\n",
      "    sequence=sequence.replace(\"\\n\",\"\")\n",
      "    return sequence\n",
      "\n",
      "no_rpts=[]\n",
      "count_lim=20\n",
      "for line in group15:\n",
      "    one=line+\"ia.oc.fasta\"\n",
      "    two=line+\"ia.recruit2.fasta\"\n",
      "    three=line+\"ia.recruit3.fasta\"\n",
      "    step1=os.path.getsize(one)\n",
      "    step2=os.path.getsize(two)\n",
      "    step3=os.path.getsize(three)\n",
      "    terminal=\"yes\"\n",
      "    print(\"file sizes for \"+line+\": step1 is \"+str(step1)+\" and step2 is \"+str(step2)+\" and step3 is \"+str(step3))\n",
      "    if step2>step1 and step2==step3 or step3>step1 and step3>step2:\n",
      "        #print(\"use step 3\")\n",
      "        fastafile=three\n",
      "        fastafile2=two\n",
      "        fastafile3=one\n",
      "    elif step1>step2 and step1>step3:\n",
      "        #print(\"use step 1\")\n",
      "        fastafile=one\n",
      "        if step2>step3:\n",
      "            fastafile2=two\n",
      "            fastafile3=three\n",
      "        else:\n",
      "            fastafile2=three\n",
      "            fastafile3=two\n",
      "    elif step2>step1 and step2>step3:\n",
      "        #print(\"use step 2\")\n",
      "        fastafile=two\n",
      "        if step3>step1:\n",
      "            fastafile2=three\n",
      "            fastafile3=one\n",
      "        else:\n",
      "            fastafile2=one\n",
      "            fastafile3=three\n",
      "    else:\n",
      "        print(\"this doesn't make sense\")\n",
      "    \n",
      "    \n",
      "    count=compare_ends(fastafile)\n",
      "    \n",
      "    \n",
      "    if count>count_lim:\n",
      "        genome=fastafile\n",
      "        \n",
      "    else:    \n",
      "        count=compare_ends(fastafile2)\n",
      "    \n",
      "        if count>count_lim:\n",
      "            genome=fastafile2\n",
      "            \n",
      "        else:\n",
      "            count=compare_ends(fastafile3)\n",
      "\n",
      "            if count>count_lim:\n",
      "                genome=fastafile3\n",
      "                \n",
      "            else:\n",
      "                \n",
      "                no_rpts.append(line)\n",
      "                genome=fastafile\n",
      "                terminal=\"no\"\n",
      "        \n",
      "    print(\"assembly to use is \"+genome)\n",
      "    print(\"for \"+line+\" the length is \"+str(len(read_contig1_fasta(genome))))\n",
      "    if terminal==\"yes\":\n",
      "        print(\"the terminal repeat region was \"+str(count)+\" bp long\\n\")\n",
      "        output=open(line+\"iterative_assembly.fasta\",\"w\")\n",
      "    else:\n",
      "        print(\"no terminal repeats detected\\n\")\n",
      "        output=open(line+\"iterative_assembly_norepeats.fasta\",\"w\")\n",
      "    output.write(\">\"+line+\"\\n\"+read_contig1_fasta(genome))\n",
      "    output.close()\n",
      "print(\"genomes with no terminal repeats were: \"+str(no_rpts))"
     ],
     "language": "python",
     "metadata": {},
     "outputs": [
      {
       "output_type": "stream",
       "stream": "stdout",
       "text": [
        "file sizes for 2.092.O.: step1 is 10590 and step2 is 10779 and step3 is 10791\n",
        "assembly to use is 2.092.O.ia.recruit3.fasta\n",
        "for 2.092.O. the length is 10580\n",
        "the terminal repeat region was 63 bp long\n",
        "\n",
        "file sizes for 1.011.O.: step1 is 10589 and step2 is 10778 and step3 is 10790\n",
        "assembly to use is 1.011.O.ia.recruit3.fasta\n",
        "for 1.011.O. the length is 10579\n",
        "the terminal repeat region was 63 bp long\n",
        "\n",
        "file sizes for 1.141.A.: step1 is 9969 and step2 is 10138 and step3 is 10150\n",
        "assembly to use is 1.141.A.ia.recruit3.fasta\n",
        "for 1.141.A. the length is 9950\n",
        "no terminal repeats detected\n",
        "\n",
        "file sizes for 1.095.O.: step1 is 10446 and step2 is 10632 and step3 is 10644\n",
        "assembly to use is 1.095.O.ia.recruit3.fasta\n",
        "for 1.095.O. the length is 10436\n",
        "the terminal repeat region was 63 bp long\n",
        "\n",
        "file sizes for 1.107.B.: step1 is 10457 and step2 is 10644 and step3 is 10656\n",
        "assembly to use is 1.107.B.ia.recruit3.fasta\n",
        "for 1.107.B. the length is 10447\n",
        "the terminal repeat region was 63 bp long\n",
        "\n",
        "file sizes for 1.069.O.: step1 is 10654 and step2 is 10844 and step3 is 10856\n",
        "assembly to use is 1.069.O.ia.recruit3.fasta\n",
        "for 1.069.O. the length is 10644\n",
        "no terminal repeats detected\n",
        "\n",
        "file sizes for 1.008.O.: step1 is 10589 and step2 is 10778 and step3 is 10790\n",
        "assembly to use is 1.008.O.ia.recruit3.fasta\n",
        "for 1.008.O. the length is 10579\n",
        "the terminal repeat region was 63 bp long\n",
        "\n",
        "file sizes for 1.102.O.: step1 is 10457 and step2 is 10644 and step3 is 10656\n",
        "assembly to use is 1.102.O.ia.recruit3.fasta\n",
        "for 1.102.O. the length is 10447\n",
        "the terminal repeat region was 63 bp long\n",
        "\n",
        "file sizes for 1.107.C.: step1 is 10457 and step2 is 10644 and step3 is 10656\n",
        "assembly to use is 1.107.C.ia.recruit3.fasta\n",
        "for 1.107.C. the length is 10447\n",
        "the terminal repeat region was 63 bp long\n",
        "\n",
        "file sizes for 1.080.O.: step1 is 10056 and step2 is 10236 and step3 is 10248\n",
        "assembly to use is 1.080.O.ia.recruit3.fasta\n",
        "for 1.080.O. the length is 10046\n",
        "the terminal repeat region was 63 bp long\n",
        "\n",
        "file sizes for 1.062.O.: step1 is 10589 and step2 is 10778 and step3 is 10790\n",
        "assembly to use is 1.062.O.ia.recruit3.fasta\n",
        "for 1.062.O. the length is 10579\n",
        "the terminal repeat region was 63 bp long\n",
        "\n",
        "file sizes for 1.043.O.: step1 is 10282 and step2 is 10466 and step3 is 10478\n",
        "assembly to use is 1.043.O.ia.recruit3.fasta\n",
        "for 1.043.O. the length is 10272\n",
        "the terminal repeat region was 63 bp long\n",
        "\n",
        "file sizes for 1.249.B.: step1 is 10673 and step2 is 10854 and step3 is 10866\n",
        "assembly to use is 1.249.B.ia.recruit3.fasta\n",
        "for 1.249.B. the length is 10654\n",
        "no terminal repeats detected\n",
        "\n",
        "file sizes for 1.249.A.: step1 is 10621 and step2 is 10810 and step3 is 10822\n",
        "assembly to use is 1.249.A.ia.recruit3.fasta\n",
        "for 1.249.A. the length is 10611\n",
        "the terminal repeat region was 63 bp long\n",
        "\n",
        "file sizes for 1.020.O.: step1 is 10646 and step2 is 10836 and step3 is 10848\n",
        "assembly to use is 1.020.O.ia.recruit3.fasta\n",
        "for 1.020.O. the length is 10636\n",
        "no terminal repeats detected\n",
        "\n",
        "file sizes for 1.048.O.: step1 is 10457 and step2 is 10644 and step3 is 10656\n",
        "assembly to use is 1.048.O.ia.recruit3.fasta\n",
        "for 1.048.O. the length is 10447\n",
        "the terminal repeat region was 63 bp long\n",
        "\n",
        "file sizes for 1.057.O.: step1 is 10283 and step2 is 10467 and step3 is 10479\n",
        "assembly to use is 1.057.O.ia.recruit3.fasta\n",
        "for 1.057.O. the length is 10273\n",
        "the terminal repeat region was 63 bp long\n",
        "\n",
        "file sizes for 1.125.O.: step1 is 10588 and step2 is 10777 and step3 is 10789\n",
        "assembly to use is 1.125.O.ia.recruit3.fasta\n",
        "for 1.125.O. the length is 10578\n",
        "the terminal repeat region was 63 bp long\n",
        "\n",
        "file sizes for 1.044.O.: step1 is 10282 and step2 is 10466 and step3 is 10478\n",
        "assembly to use is 1.044.O.ia.recruit3.fasta\n",
        "for 1.044.O. the length is 10272\n",
        "the terminal repeat region was 63 bp long\n",
        "\n",
        "file sizes for 1.107.A.: step1 is 10457 and step2 is 10644 and step3 is 10656\n",
        "assembly to use is 1.107.A.ia.recruit3.fasta\n",
        "for 1.107.A. the length is 10447\n",
        "the terminal repeat region was 63 bp long\n",
        "\n",
        "file sizes for 1.040.O.: step1 is 10597 and step2 is 10786 and step3 is 10798\n",
        "assembly to use is 1.040.O.ia.recruit3.fasta\n",
        "for 1.040.O. the length is 10587\n",
        "no terminal repeats detected\n",
        "\n",
        "genomes with no terminal repeats were: ['1.141.A.', '1.069.O.', '1.249.B.', '1.020.O.', '1.040.O.']\n"
       ]
      }
     ],
     "prompt_number": 3
    },
    {
     "cell_type": "code",
     "collapsed": false,
     "input": [
      "#tailored recruitment for no_rpts:\n",
      "\n",
      "target_seq=\"1.249.A.ia.oc.fasta\"\n",
      "\n",
      "\n",
      "script=open(\"combined_recruitments.slurm\",\"w\")\n",
      "script.write(\"#!/bin/bash\\n#SBATCH -n 16\\n#SBATCH -N 1\\n#SBATCH -o tailored.out\\n#SBATCH -e tailored.err\\n#SBATCH -p sched_mit_chisholm\\n\\n\")\n",
      "script.write(\"module add engaging/clc-assembly-cell\\nmodule add engaging/samtools/1.1\\nmodule add engaging/bedtools/2.22.1\\n\\n\")\n",
      "\n",
      "for line in no_rpts:\n",
      "    reads=\"../\"+line+\"_*.fastq\"\n",
      "    recruitfile=line+\"recruitedto.1.1.249.A.cas\"\n",
      "    recruitfile2=line+\"directed.cas\"\n",
      "    directed=line+\"directed.\"\n",
      "    outputfasta=line+\"directed.fasta\"\n",
      "    \n",
      "    \n",
      "    script.write(\"clc_mapper -o \"+recruitfile+\" -p fb ss 100 300 -q \"+reads+\" -d \"+target_seq+\" -a local -r ignore \\n\")\n",
      "    script.write(\"clc_extract_consensus -z none -a \"+recruitfile+\" -o \"+outputfasta+\"\\n\")\n",
      "    script.write(\"clc_mapper -o \"+recruitfile2+\" -p fb ss 100 300 -q \"+reads+\" -d \"+outputfasta+\" -a local -r ignore \\n\")\n",
      "    script.write(\"clc_cas_to_sam -a \"+recruitfile2+\" -o \"+directed+\"bam\\n\")\n",
      "    script.write(\"samtools sort \"+directed+\"bam \"+directed+\"sorted\\n\")\n",
      "    script.write(\"samtools index \"+directed+\"sorted.bam\\n\")\n",
      "    script.write(\"bedtools genomecov -ibam \"+directed+\"sorted.bam -d > \"+directed+\"genomecoverage.txt\\n\\n\")\n",
      "\n",
      "script.write(\"\\n\\n#general read recruitment\\n\\n\")\n",
      "for line in group15:\n",
      "    reads=\"../\"+line+\"_*.fastq\"\n",
      "    outputfasta=line+\"ia.oc.fasta\"\n",
      "    recruitfile2=line+\"ia.oc.cas\"\n",
      "    directed=line+\"ia.oc.\"\n",
      "    \n",
      "    script.write(\"clc_mapper -o \"+recruitfile2+\" -p fb ss 100 300 -q \"+reads+\" -d \"+outputfasta+\" -a local -r ignore \\n\")\n",
      "    script.write(\"clc_cas_to_sam -a \"+recruitfile2+\" -o \"+directed+\"bam\\n\")\n",
      "    script.write(\"samtools sort \"+directed+\"bam \"+directed+\"sorted\\n\")\n",
      "    script.write(\"samtools index \"+directed+\"sorted.bam\\n\\n\")\n",
      "    script.write(\"bedtools genomecov -ibam \"+directed+\"sorted.bam -d > \"+directed+\"genomecoverage.txt\\n\")\n",
      "script.close()"
     ],
     "language": "python",
     "metadata": {},
     "outputs": [],
     "prompt_number": 6
    },
    {
     "cell_type": "code",
     "collapsed": false,
     "input": [
      "step1c1=open(\"step1.contig1.norpts.redo.sh\",\"w\")\n",
      "step1c1.write(\"#!/bin/bash\\n#SBATCH -n 16\\n#SBATCH -N 1\\n#SBATCH -o s1c1.out\\n#SBATCH -e s1c1.err\\n#SBATCH -p newnodes\\n\\n\")\n",
      "step1c1.write(\"module add engaging/clc-assembly-cell\\nmodule add engaging/samtools/1.1\\nmodule add engaging/bedtools/2.22.1\\n\\n\")\n",
      "for line in no_rpts:\n",
      "    name=line.rstrip(\"\\n\")\n",
      "    step1c1.write(\"\\n\\n#\"+name+\"\\nclc_assembler -o \"+name+\"step1.clc.fasta -m 500 -w 64 -p fb ss 100 300 -q ../\"+ name+\"*.fastq\\n\")\n",
      "    step1c1.write(\"samtools faidx \"+name+\"step1.clc.fasta 'contig_1'>\"+name+\"step1.contig1.fasta\\n\")\n",
      "    \n",
      "step1c1.close()"
     ],
     "language": "python",
     "metadata": {},
     "outputs": [],
     "prompt_number": 7
    },
    {
     "cell_type": "code",
     "collapsed": true,
     "input": [
      "for line in no_rpts:\n",
      "    print(line+\":\"+str(compare_ends(line+\"step1.contig1.fasta\")))\n",
      "    print(len(read_contig1_fasta(line+\"step1.contig1.fasta\")))"
     ],
     "language": "python",
     "metadata": {},
     "outputs": []
    },
    {
     "cell_type": "code",
     "collapsed": false,
     "input": [
      "print(no_rpts)"
     ],
     "language": "python",
     "metadata": {},
     "outputs": [
      {
       "output_type": "stream",
       "stream": "stdout",
       "text": [
        "['1.141.A.', '1.069.O.', '1.249.B.', '1.020.O.', '1.040.O.']\n"
       ]
      }
     ],
     "prompt_number": 11
    },
    {
     "cell_type": "code",
     "collapsed": false,
     "input": [
      "step1c1=open(\"step1.contig1.norpts.redo1.sh\",\"w\")\n",
      "step1c1.write(\"#!/bin/bash\\n#SBATCH -n 16\\n#SBATCH -N 1\\n#SBATCH -o s1c1.out\\n#SBATCH -e s1c1.err\\n#SBATCH -p newnodes\\n\\n\")\n",
      "step1c1.write(\"module add engaging/clc-assembly-cell\\nmodule add engaging/samtools/1.1\\nmodule add engaging/bedtools/2.22.1\\n\\n\")\n",
      "for line in no_rpts:\n",
      "    name=line.rstrip(\"\\n\")\n",
      "    step1c1.write(\"\\n\\n#\"+name+\"\\nclc_assembler -o \"+name+\"step1a.clc.fasta -m 500 -p fb ss 100 300 -q ../\"+ name+\"*.fastq\\n\")\n",
      "    step1c1.write(\"samtools faidx \"+name+\"step1.clc.fasta 'contig_1'>\"+name+\"step1a.contig1.fasta\\n\")\n",
      "    \n",
      "step1c1.close()"
     ],
     "language": "python",
     "metadata": {},
     "outputs": [],
     "prompt_number": 12
    },
    {
     "cell_type": "code",
     "collapsed": false,
     "input": [
      "#checking iterative recruitment for terminal repeats\n",
      "from Bio.Seq import Seq\n",
      "from pyfaidx import Fasta\n",
      "\n",
      "for line in no_rpts:\n",
      "    print(line+\":\"+str(compare_ends(line+\"step1a.contig1.fasta\")))\n",
      "    print(len(read_contig1_fasta(line+\"step1a.contig1.fasta\")))"
     ],
     "language": "python",
     "metadata": {},
     "outputs": [
      {
       "output_type": "stream",
       "stream": "stdout",
       "text": [
        "1.141.A.:0\n",
        "9959\n",
        "1.069.O.:0\n",
        "9510\n",
        "1.249.B.:0\n",
        "10663\n",
        "1.020.O.:0\n",
        "717\n",
        "1.040.O.:0\n",
        "9800\n"
       ]
      }
     ],
     "prompt_number": 13
    },
    {
     "cell_type": "code",
     "collapsed": false,
     "input": [
      "for line in no_rpts:\n",
      "    print(line+\":\"+str(compare_ends(line+\"ia.oc.fasta\")))\n",
      "    print(len(read_contig1_fasta(line+\"ia.oc.fasta\")))"
     ],
     "language": "python",
     "metadata": {},
     "outputs": [
      {
       "output_type": "stream",
       "stream": "stdout",
       "text": [
        "1.141.A.:0\n",
        "9959\n",
        "1.069.O.:0\n",
        "10644\n",
        "1.249.B.:1\n",
        "10663\n",
        "1.020.O.:0\n",
        "10636\n",
        "1.040.O.:0\n",
        "10587\n"
       ]
      }
     ],
     "prompt_number": 16
    },
    {
     "cell_type": "code",
     "collapsed": false,
     "input": [
      "\n",
      "print(\"1.249.B\"+\":\"+str(compare_ends(\"1.249.B.directed.fasta\")))\n",
      "print(len(read_contig1_fasta(\"1.249.B.directed.fasta\")))"
     ],
     "language": "python",
     "metadata": {},
     "outputs": [
      {
       "output_type": "stream",
       "stream": "stdout",
       "text": [
        "1.249.B:63\n",
        "10611\n"
       ]
      }
     ],
     "prompt_number": 21
    },
    {
     "cell_type": "code",
     "collapsed": false,
     "input": [
      "import glob\n",
      "\n",
      "midix=[]\n",
      "lengths=[]\n",
      "for line in group15:\n",
      "    fastas=glob.glob(line+\"step*contig1.fasta\")\n",
      "    maxlen=0\n",
      "    print(fastas)\n",
      "    for n in fastas:\n",
      "        if \"clc\" not in n:\n",
      "            length=len(read_contig1_fasta(n))\n",
      "            print(n+\" has length \"+str(length))\n",
      "            if length>maxlen:\n",
      "                maxlen=length\n",
      "    lengths.append(maxlen)\n",
      "\n",
      "for i in range(0,len(group15)):\n",
      "    print(group15[i]+\" \"+str(lengths[i]))"
     ],
     "language": "python",
     "metadata": {},
     "outputs": [
      {
       "output_type": "stream",
       "stream": "stdout",
       "text": [
        "['2.092.O.step1.contig1.fasta', '2.092.O.step2.contig1.fasta', '2.092.O.step3.contig1.fasta']\n",
        "2.092.O.step1.contig1.fasta has length 9517\n",
        "2.092.O.step2.contig1.fasta has length 10580\n",
        "2.092.O.step3.contig1.fasta has length 10580\n",
        "['1.011.O.step1.contig1.fasta', '1.011.O.step2.contig1.fasta', '1.011.O.step3.contig1.fasta']\n",
        "1.011.O.step1.contig1.fasta has length 10487\n",
        "1.011.O.step2.contig1.fasta has length 10579\n",
        "1.011.O.step3.contig1.fasta has length 10579\n",
        "['1.141.A.step1.contig1.fasta', '1.141.A.step1a.contig1.fasta', '1.141.A.step2.contig1.fasta', '1.141.A.step3.contig1.fasta']\n",
        "1.141.A.step1.contig1.fasta has length 9959\n",
        "1.141.A.step1a.contig1.fasta has length 9959\n",
        "1.141.A.step2.contig1.fasta has length 3539\n",
        "1.141.A.step3.contig1.fasta has length 3539\n",
        "['1.095.O.step1.contig1.fasta', '1.095.O.step2.contig1.fasta', '1.095.O.step3.contig1.fasta']\n",
        "1.095.O.step1.contig1.fasta has length 10346\n",
        "1.095.O.step2.contig1.fasta has length 10436\n",
        "1.095.O.step3.contig1.fasta has length 10436\n",
        "['1.107.B.step1.contig1.fasta', '1.107.B.step2.contig1.fasta', '1.107.B.step3.contig1.fasta']\n",
        "1.107.B.step1.contig1.fasta has length 10392\n",
        "1.107.B.step2.contig1.fasta has length 10447\n",
        "1.107.B.step3.contig1.fasta has length 10447\n",
        "['1.069.O.step1.contig1.fasta', '1.069.O.step1a.contig1.fasta', '1.069.O.step2.contig1.fasta', '1.069.O.step3.contig1.fasta']\n",
        "1.069.O.step1.contig1.fasta has length 9510\n",
        "1.069.O.step1a.contig1.fasta has length 9510\n",
        "1.069.O.step2.contig1.fasta has length 10644\n",
        "1.069.O.step3.contig1.fasta has length 10644\n",
        "['1.008.O.step1.contig1.fasta', '1.008.O.step2.contig1.fasta', '1.008.O.step3.contig1.fasta']\n",
        "1.008.O.step1.contig1.fasta has length 9514\n",
        "1.008.O.step2.contig1.fasta has length 10579\n",
        "1.008.O.step3.contig1.fasta has length 10579\n",
        "['1.102.O.step1.contig1.fasta', '1.102.O.step2.contig1.fasta', '1.102.O.step3.contig1.fasta']\n",
        "1.102.O.step1.contig1.fasta has length 8811\n",
        "1.102.O.step2.contig1.fasta has length 10447\n",
        "1.102.O.step3.contig1.fasta has length 10447\n",
        "['1.107.C.step1.contig1.fasta', '1.107.C.step2.contig1.fasta', '1.107.C.step3.contig1.fasta']\n",
        "1.107.C.step1.contig1.fasta has length 10357\n",
        "1.107.C.step2.contig1.fasta has length 10447\n",
        "1.107.C.step3.contig1.fasta has length 10447\n",
        "['1.080.O.step1.contig1.fasta', '1.080.O.step2.contig1.fasta', '1.080.O.step3.contig1.fasta']\n",
        "1.080.O.step1.contig1.fasta has length 9956\n",
        "1.080.O.step2.contig1.fasta has length 10046\n",
        "1.080.O.step3.contig1.fasta has length 10046\n",
        "['1.062.O.step1.contig1.fasta', '1.062.O.step2.contig1.fasta', '1.062.O.step3.contig1.fasta']\n",
        "1.062.O.step1.contig1.fasta has length 10489\n",
        "1.062.O.step2.contig1.fasta has length 10579\n",
        "1.062.O.step3.contig1.fasta has length 9706\n",
        "['1.043.O.step1.contig1.fasta', '1.043.O.step2.contig1.fasta', '1.043.O.step3.contig1.fasta']\n",
        "1.043.O.step1.contig1.fasta has length 8603\n",
        "1.043.O.step2.contig1.fasta has length 10272\n",
        "1.043.O.step3.contig1.fasta has length 10272\n",
        "['1.249.B.step1.contig1.fasta', '1.249.B.step1a.contig1.fasta', '1.249.B.step2.contig1.fasta', '1.249.B.step3.contig1.fasta']\n",
        "1.249.B.step1.contig1.fasta has length 10663\n",
        "1.249.B.step1a.contig1.fasta has length 10663\n",
        "1.249.B.step2.contig1.fasta has length 5004\n",
        "1.249.B.step3.contig1.fasta has length 5004\n",
        "['1.249.A.step1.contig1.fasta', '1.249.A.step2.contig1.fasta', '1.249.A.step3.contig1.fasta']\n",
        "1.249.A.step1.contig1.fasta has length 10259\n",
        "1.249.A.step2.contig1.fasta has length 10611\n",
        "1.249.A.step3.contig1.fasta has length 10718\n",
        "['1.020.O.step1.contig1.fasta', '1.020.O.step1a.contig1.fasta', '1.020.O.step2.contig1.fasta', '1.020.O.step3.contig1.fasta']\n",
        "1.020.O.step1.contig1.fasta has length 717\n",
        "1.020.O.step1a.contig1.fasta has length 717\n",
        "1.020.O.step2.contig1.fasta has length 506\n",
        "1.020.O.step3.contig1.fasta has length 10636\n",
        "['1.048.O.step1.contig1.fasta', '1.048.O.step2.contig1.fasta', '1.048.O.step3.contig1.fasta']\n",
        "1.048.O.step1.contig1.fasta has length 10357\n",
        "1.048.O.step2.contig1.fasta has length 10483\n",
        "1.048.O.step3.contig1.fasta has length 10447\n",
        "['1.057.O.step1.contig1.fasta', '1.057.O.step2.contig1.fasta', '1.057.O.step3.contig1.fasta']\n",
        "1.057.O.step1.contig1.fasta has length 10183\n",
        "1.057.O.step2.contig1.fasta has length 10273\n",
        "1.057.O.step3.contig1.fasta has length 10273\n",
        "['1.125.O.step1.contig1.fasta', '1.125.O.step2.contig1.fasta', '1.125.O.step3.contig1.fasta']\n",
        "1.125.O.step1.contig1.fasta has length 10488\n",
        "1.125.O.step2.contig1.fasta has length 10578\n",
        "1.125.O.step3.contig1.fasta has length 10605\n",
        "['1.044.O.step1.contig1.fasta', '1.044.O.step2.contig1.fasta', '1.044.O.step3.contig1.fasta']\n",
        "1.044.O.step1.contig1.fasta has length 10182\n",
        "1.044.O.step2.contig1.fasta has length 10272\n",
        "1.044.O.step3.contig1.fasta has length 10272\n",
        "['1.107.A.step1.contig1.fasta', '1.107.A.step2.contig1.fasta', '1.107.A.step3.contig1.fasta']\n",
        "1.107.A.step1.contig1.fasta has length 10357\n",
        "1.107.A.step2.contig1.fasta has length 10447\n",
        "1.107.A.step3.contig1.fasta has length 10447\n",
        "['1.040.O.step1.contig1.fasta', '1.040.O.step1a.contig1.fasta', '1.040.O.step2.contig1.fasta', '1.040.O.step3.contig1.fasta']\n",
        "1.040.O.step1.contig1.fasta has length 9800\n",
        "1.040.O.step1a.contig1.fasta has length 9800\n",
        "1.040.O.step2.contig1.fasta has length 10587\n",
        "1.040.O.step3.contig1.fasta has length 10587\n",
        "2.092.O. 10580\n",
        "1.011.O. 10579\n",
        "1.141.A. 9959\n",
        "1.095.O. 10436\n",
        "1.107.B. 10447\n",
        "1.069.O. 10644\n",
        "1.008.O. 10579\n",
        "1.102.O. 10447\n",
        "1.107.C. 10447\n",
        "1.080.O. 10046\n",
        "1.062.O. 10579\n",
        "1.043.O. 10272\n",
        "1.249.B. 10663\n",
        "1.249.A. 10718\n",
        "1.020.O. 10636\n",
        "1.048.O. 10483\n",
        "1.057.O. 10273\n",
        "1.125.O. 10605\n",
        "1.044.O. 10272\n",
        "1.107.A. 10447\n",
        "1.040.O. 10587\n"
       ]
      }
     ],
     "prompt_number": 20
    },
    {
     "cell_type": "markdown",
     "metadata": {},
     "source": [
      "It looks like generally speaking contigs from steps 1 and two are different lengths.  Next I'm going to compare these two different contigs via comparing the OFRs from the two contigs.  First, extract ORFs from each of the contig 1 and contig2 files:"
     ]
    },
    {
     "cell_type": "code",
     "collapsed": false,
     "input": [
      "groupfile=group15\n",
      "prodigal=open(\"prodigal.sh\",\"w\")\n",
      "prodigal.write(\"#!/bin/bash\\n#SBATCH -n 16\\n#SBATCH -N 1\\n#SBATCH -o prodigal.out\\n#SBATCH -e prodigal.err\\n#SBATCH -p sched_mit_chisholm\\n\\n\")\n",
      "prodigal.write(\"module add engaging/prodigal/2.6.1\\n\\n\")\n",
      "prodigal.write(\"module add engaging/ncbi-blast/2.2.30+\\n\\n\\n\")\n",
      "\n",
      "prodigal.write(\"mkdir contig_len_comparison\\n\\n\")\n",
      "\n",
      "prodigal.write(\"#prodigal commands\\n\\n\")\n",
      "for line in groupfile:\n",
      "    prodigal.write(\"prodigal -i \"+line+\"step1.contig1.fasta -o ./contig_len_comparison/\"+line+\"genes -a ./contig_len_comparison/\"+line+\"step1.proteins.faa -p meta\\n\")\n",
      "    prodigal.write(\"prodigal -i ./step2/\"+line+\"step2.contig1.fasta -o ./contig_len_comparison/\"+line+\"genes -a ./contig_len_comparison/\"+line+\"step2.proteins.faa -p meta\\n\")\n",
      "\n",
      "prodigal.write(\"\\n#BLAST commands\\n\\n\")\n",
      "for line in groupfile:\n",
      "    name=\"./contig_len_comparison/\"+line.rstrip(\"\\n\")\n",
      "    database=name+\"step1.proteins.faa\"\n",
      "    prodigal.write(\"makeblastdb -in \"+database+\" -dbtype prot\\n\") \n",
      "    query=name+\"step2.proteins.faa\"\n",
      "    blastoutputname=name+\"step1_vs_step2.txt\"\n",
      "    blastcommand=\"blastp -db \"+database+\" -query \"+query+\" -num_descriptions 1 -outfmt 6 -out \"+blastoutputname\n",
      "    prodigal.write(blastcommand+\"\\n\\n\")    \n",
      "    \n",
      "prodigal.close()\n",
      "!open prodigal.sh -a textedit"
     ],
     "language": "python",
     "metadata": {},
     "outputs": [],
     "prompt_number": 28
    },
    {
     "cell_type": "code",
     "collapsed": false,
     "input": [
      "!scp prodigal.sh jbrown@eofe4.mit.edu:/nobackup1/jbrown/nahant_phage_reads/group15/"
     ],
     "language": "python",
     "metadata": {},
     "outputs": [
      {
       "output_type": "stream",
       "stream": "stdout",
       "text": [
        "\r",
        "prodigal.sh                                     0%    0     0.0KB/s   --:-- ETA\r",
        "prodigal.sh                                   100%   12KB  12.2KB/s   00:00    \r\n"
       ]
      }
     ],
     "prompt_number": 29
    },
    {
     "cell_type": "markdown",
     "metadata": {},
     "source": [
      "Preliminary examination of the number of prodigal called ORFs shows that the number varies depending on the length of the contig."
     ]
    },
    {
     "cell_type": "code",
     "collapsed": false,
     "input": [
      "!scp jbrown@eofe4.mit.edu:/nobackup1/jbrown/nahant_phage_reads/group15/contig_len_comparison/*faa ./length_orf_check/"
     ],
     "language": "python",
     "metadata": {},
     "outputs": [
      {
       "output_type": "stream",
       "stream": "stdout",
       "text": [
        "\r",
        "1.008.O.step1.proteins.faa                      0%    0     0.0KB/s   --:-- ETA\r",
        "1.008.O.step1.proteins.faa                    100% 5269     5.2KB/s   00:00    \r\n"
       ]
      },
      {
       "output_type": "stream",
       "stream": "stdout",
       "text": [
        "\r",
        "1.008.O.step2.proteins.faa                      0%    0     0.0KB/s   --:-- ETA"
       ]
      },
      {
       "output_type": "stream",
       "stream": "stdout",
       "text": [
        "\r",
        "1.008.O.step2.proteins.faa                    100% 5671     5.5KB/s   00:01    \r\n",
        "\r",
        "1.011.O.step1.proteins.faa                      0%    0     0.0KB/s   --:-- ETA"
       ]
      },
      {
       "output_type": "stream",
       "stream": "stdout",
       "text": [
        "\r",
        "1.011.O.step1.proteins.faa                    100% 5478     5.4KB/s   00:00    \r\n",
        "\r",
        "1.011.O.step2.proteins.faa                      0%    0     0.0KB/s   --:-- ETA"
       ]
      },
      {
       "output_type": "stream",
       "stream": "stdout",
       "text": [
        "\r",
        "1.011.O.step2.proteins.faa                    100% 5478     5.4KB/s   00:00    \r\n",
        "\r",
        "1.020.O.step1.proteins.faa                      0%    0     0.0KB/s   --:-- ETA"
       ]
      },
      {
       "output_type": "stream",
       "stream": "stdout",
       "text": [
        "\r",
        "1.020.O.step1.proteins.faa                    100%  417     0.4KB/s   00:00    \r\n"
       ]
      },
      {
       "output_type": "stream",
       "stream": "stdout",
       "text": [
        "\r",
        "1.020.O.step2.proteins.faa                      0%    0     0.0KB/s   --:-- ETA\r",
        "1.020.O.step2.proteins.faa                    100%  291     0.3KB/s   00:00    \r\n"
       ]
      },
      {
       "output_type": "stream",
       "stream": "stdout",
       "text": [
        "\r",
        "1.040.O.step1.proteins.faa                      0%    0     0.0KB/s   --:-- ETA\r",
        "1.040.O.step1.proteins.faa                    100% 5247     5.1KB/s   00:00    \r\n"
       ]
      },
      {
       "output_type": "stream",
       "stream": "stdout",
       "text": [
        "\r",
        "1.040.O.step2.proteins.faa                      0%    0     0.0KB/s   --:-- ETA"
       ]
      },
      {
       "output_type": "stream",
       "stream": "stdout",
       "text": [
        "\r",
        "1.040.O.step2.proteins.faa                    100% 5682     5.6KB/s   00:00    \r\n",
        "\r",
        "1.043.O.step1.proteins.faa                      0%    0     0.0KB/s   --:-- ETA"
       ]
      },
      {
       "output_type": "stream",
       "stream": "stdout",
       "text": [
        "\r",
        "1.043.O.step1.proteins.faa                    100% 4802     4.7KB/s   00:00    \r\n",
        "\r",
        "1.043.O.step2.proteins.faa                      0%    0     0.0KB/s   --:-- ETA"
       ]
      },
      {
       "output_type": "stream",
       "stream": "stdout",
       "text": [
        "\r",
        "1.043.O.step2.proteins.faa                    100% 5674     5.5KB/s   00:00    \r\n",
        "\r",
        "1.044.O.step1.proteins.faa                      0%    0     0.0KB/s   --:-- ETA"
       ]
      },
      {
       "output_type": "stream",
       "stream": "stdout",
       "text": [
        "\r",
        "1.044.O.step1.proteins.faa                    100% 5674     5.5KB/s   00:00    \r\n"
       ]
      },
      {
       "output_type": "stream",
       "stream": "stdout",
       "text": [
        "\r",
        "1.044.O.step2.proteins.faa                      0%    0     0.0KB/s   --:-- ETA\r",
        "1.044.O.step2.proteins.faa                    100% 5674     5.5KB/s   00:00    \r\n"
       ]
      },
      {
       "output_type": "stream",
       "stream": "stdout",
       "text": [
        "\r",
        "1.048.O.step1.proteins.faa                      0%    0     0.0KB/s   --:-- ETA"
       ]
      },
      {
       "output_type": "stream",
       "stream": "stdout",
       "text": [
        "\r",
        "1.048.O.step1.proteins.faa                    100% 5841     5.7KB/s   00:00    \r\n",
        "\r",
        "1.048.O.step2.proteins.faa                      0%    0     0.0KB/s   --:-- ETA"
       ]
      },
      {
       "output_type": "stream",
       "stream": "stdout",
       "text": [
        "\r",
        "1.048.O.step2.proteins.faa                    100% 5841     5.7KB/s   00:00    \r\n",
        "\r",
        "1.057.O.step1.proteins.faa                      0%    0     0.0KB/s   --:-- ETA"
       ]
      },
      {
       "output_type": "stream",
       "stream": "stdout",
       "text": [
        "\r",
        "1.057.O.step1.proteins.faa                    100% 5683     5.6KB/s   00:00    \r\n"
       ]
      },
      {
       "output_type": "stream",
       "stream": "stdout",
       "text": [
        "\r",
        "1.057.O.step2.proteins.faa                      0%    0     0.0KB/s   --:-- ETA\r",
        "1.057.O.step2.proteins.faa                    100% 5683     5.6KB/s   00:00    \r\n"
       ]
      },
      {
       "output_type": "stream",
       "stream": "stdout",
       "text": [
        "\r",
        "1.062.O.step1.proteins.faa                      0%    0     0.0KB/s   --:-- ETA"
       ]
      },
      {
       "output_type": "stream",
       "stream": "stdout",
       "text": [
        "\r",
        "1.062.O.step1.proteins.faa                    100% 5798     5.7KB/s   00:00    \r\n",
        "\r",
        "1.062.O.step2.proteins.faa                      0%    0     0.0KB/s   --:-- ETA"
       ]
      },
      {
       "output_type": "stream",
       "stream": "stdout",
       "text": [
        "\r",
        "1.062.O.step2.proteins.faa                    100% 5671     5.5KB/s   00:00    \r\n",
        "\r",
        "1.069.O.step1.proteins.faa                      0%    0     0.0KB/s   --:-- ETA"
       ]
      },
      {
       "output_type": "stream",
       "stream": "stdout",
       "text": [
        "\r",
        "1.069.O.step1.proteins.faa                    100% 5268     5.1KB/s   00:00    \r\n",
        "\r",
        "1.069.O.step2.proteins.faa                      0%    0     0.0KB/s   --:-- ETA"
       ]
      },
      {
       "output_type": "stream",
       "stream": "stdout",
       "text": [
        "\r",
        "1.069.O.step2.proteins.faa                    100% 5671     5.5KB/s   00:00    \r\n",
        "\r",
        "1.080.O.step1.proteins.faa                      0%    0     0.0KB/s   --:-- ETA"
       ]
      },
      {
       "output_type": "stream",
       "stream": "stdout",
       "text": [
        "\r",
        "1.080.O.step1.proteins.faa                    100% 5279     5.2KB/s   00:00    \r\n"
       ]
      },
      {
       "output_type": "stream",
       "stream": "stdout",
       "text": [
        "\r",
        "1.080.O.step2.proteins.faa                      0%    0     0.0KB/s   --:-- ETA"
       ]
      },
      {
       "output_type": "stream",
       "stream": "stdout",
       "text": [
        "\r",
        "1.080.O.step2.proteins.faa                    100% 5279     5.2KB/s   00:00    \r\n",
        "\r",
        "1.095.O.step1.proteins.faa                      0%    0     0.0KB/s   --:-- ETA"
       ]
      },
      {
       "output_type": "stream",
       "stream": "stdout",
       "text": [
        "\r",
        "1.095.O.step1.proteins.faa                    100% 5848     5.7KB/s   00:00    \r\n",
        "\r",
        "1.095.O.step2.proteins.faa                      0%    0     0.0KB/s   --:-- ETA"
       ]
      },
      {
       "output_type": "stream",
       "stream": "stdout",
       "text": [
        "\r",
        "1.095.O.step2.proteins.faa                    100% 5848     5.7KB/s   00:00    \r\n",
        "\r",
        "1.102.O.step1.proteins.faa                      0%    0     0.0KB/s   --:-- ETA"
       ]
      },
      {
       "output_type": "stream",
       "stream": "stdout",
       "text": [
        "\r",
        "1.102.O.step1.proteins.faa                    100% 4978     4.9KB/s   00:00    \r\n"
       ]
      },
      {
       "output_type": "stream",
       "stream": "stdout",
       "text": [
        "\r",
        "1.102.O.step2.proteins.faa                      0%    0     0.0KB/s   --:-- ETA\r",
        "1.102.O.step2.proteins.faa                    100% 5841     5.7KB/s   00:00    \r\n",
        "\r",
        "1.107.A.step1.proteins.faa                      0%    0     0.0KB/s   --:-- ETA"
       ]
      },
      {
       "output_type": "stream",
       "stream": "stdout",
       "text": [
        "\r",
        "1.107.A.step1.proteins.faa                    100% 5841     5.7KB/s   00:00    \r\n"
       ]
      },
      {
       "output_type": "stream",
       "stream": "stdout",
       "text": [
        "\r",
        "1.107.A.step2.proteins.faa                      0%    0     0.0KB/s   --:-- ETA"
       ]
      },
      {
       "output_type": "stream",
       "stream": "stdout",
       "text": [
        "\r",
        "1.107.A.step2.proteins.faa                    100% 5841     5.7KB/s   00:00    \r\n",
        "\r",
        "1.107.B.step1.proteins.faa                      0%    0     0.0KB/s   --:-- ETA"
       ]
      },
      {
       "output_type": "stream",
       "stream": "stdout",
       "text": [
        "\r",
        "1.107.B.step1.proteins.faa                    100% 5841     5.7KB/s   00:00    \r\n",
        "\r",
        "1.107.B.step2.proteins.faa                      0%    0     0.0KB/s   --:-- ETA"
       ]
      },
      {
       "output_type": "stream",
       "stream": "stdout",
       "text": [
        "\r",
        "1.107.B.step2.proteins.faa                    100% 5841     5.7KB/s   00:00    \r\n",
        "\r",
        "1.107.C.step1.proteins.faa                      0%    0     0.0KB/s   --:-- ETA"
       ]
      },
      {
       "output_type": "stream",
       "stream": "stdout",
       "text": [
        "\r",
        "1.107.C.step1.proteins.faa                    100% 5849     5.7KB/s   00:00    \r\n"
       ]
      },
      {
       "output_type": "stream",
       "stream": "stdout",
       "text": [
        "\r",
        "1.107.C.step2.proteins.faa                      0%    0     0.0KB/s   --:-- ETA\r",
        "1.107.C.step2.proteins.faa                    100% 5849     5.7KB/s   00:00    \r\n"
       ]
      },
      {
       "output_type": "stream",
       "stream": "stdout",
       "text": [
        "\r",
        "1.125.O.step1.proteins.faa                      0%    0     0.0KB/s   --:-- ETA"
       ]
      },
      {
       "output_type": "stream",
       "stream": "stdout",
       "text": [
        "\r",
        "1.125.O.step1.proteins.faa                    100% 5682     5.6KB/s   00:00    \r\n",
        "\r",
        "1.125.O.step2.proteins.faa                      0%    0     0.0KB/s   --:-- ETA"
       ]
      },
      {
       "output_type": "stream",
       "stream": "stdout",
       "text": [
        "\r",
        "1.125.O.step2.proteins.faa                    100% 5682     5.6KB/s   00:00    \r\n"
       ]
      },
      {
       "output_type": "stream",
       "stream": "stdout",
       "text": [
        "\r",
        "1.141.A.step1.proteins.faa                      0%    0     0.0KB/s   --:-- ETA\r",
        "1.141.A.step1.proteins.faa                    100% 5085     5.0KB/s   00:00    \r\n"
       ]
      },
      {
       "output_type": "stream",
       "stream": "stdout",
       "text": [
        "\r",
        "1.141.A.step2.proteins.faa                      0%    0     0.0KB/s   --:-- ETA"
       ]
      },
      {
       "output_type": "stream",
       "stream": "stdout",
       "text": [
        "\r",
        "1.141.A.step2.proteins.faa                    100% 1154     1.1KB/s   00:00    \r\n",
        "\r",
        "1.249.A.step1.proteins.faa                      0%    0     0.0KB/s   --:-- ETA"
       ]
      },
      {
       "output_type": "stream",
       "stream": "stdout",
       "text": [
        "\r",
        "1.249.A.step1.proteins.faa                    100% 5676     5.5KB/s   00:00    \r\n",
        "\r",
        "1.249.A.step2.proteins.faa                      0%    0     0.0KB/s   --:-- ETA"
       ]
      },
      {
       "output_type": "stream",
       "stream": "stdout",
       "text": [
        "\r",
        "1.249.A.step2.proteins.faa                    100% 6013     5.9KB/s   00:00    \r\n"
       ]
      },
      {
       "output_type": "stream",
       "stream": "stdout",
       "text": [
        "\r",
        "1.249.B.step1.proteins.faa                      0%    0     0.0KB/s   --:-- ETA\r",
        "1.249.B.step1.proteins.faa                    100% 5034     4.9KB/s   00:00    \r\n"
       ]
      },
      {
       "output_type": "stream",
       "stream": "stdout",
       "text": [
        "\r",
        "1.249.B.step2.proteins.faa                      0%    0     0.0KB/s   --:-- ETA"
       ]
      },
      {
       "output_type": "stream",
       "stream": "stdout",
       "text": [
        "\r",
        "1.249.B.step2.proteins.faa                    100% 1953     1.9KB/s   00:00    \r\n",
        "\r",
        "2.092.O.step1.proteins.faa                      0%    0     0.0KB/s   --:-- ETA"
       ]
      },
      {
       "output_type": "stream",
       "stream": "stdout",
       "text": [
        "\r",
        "2.092.O.step1.proteins.faa                    100% 5270     5.2KB/s   00:00    \r\n",
        "\r",
        "2.092.O.step2.proteins.faa                      0%    0     0.0KB/s   --:-- ETA"
       ]
      },
      {
       "output_type": "stream",
       "stream": "stdout",
       "text": [
        "\r",
        "2.092.O.step2.proteins.faa                    100% 5671     5.5KB/s   00:00    \r\n"
       ]
      }
     ],
     "prompt_number": 3
    },
    {
     "cell_type": "code",
     "collapsed": false,
     "input": [
      "len_tbl=\"name\\tstep1_numorfs\\tstep1_len\\tstep2_numorfs\\tstep2_len\\n\"\n",
      "\n",
      "for name in group15:\n",
      "    step1=0\n",
      "    step2=0\n",
      "    for line in open(\"./length_orf_check/\"+name+\"step1.proteins.faa\").readlines():\n",
      "        if line.startswith(\">\"):\n",
      "            step1+=1\n",
      "\n",
      "    for line in open(\"./length_orf_check/\"+name+\"step2.proteins.faa\").readlines():\n",
      "        if line.startswith(\">\"):\n",
      "            step2+=1\n",
      "    \n",
      "    step1_l=str(len(read_contig1_fasta(name+\"step1.contig1.fasta\")))\n",
      "    step2_l=str(len(read_contig1_fasta(name+\"step2.contig1.fasta\")))\n",
      "    \n",
      "    len_tbl+=name+\"\\t\"+str(step1)+\"\\t\"+step1_l+\"\\t\"+str(step2)+\"\\t\"+step2_l+\"\\n\"\n",
      "print(len_tbl)"
     ],
     "language": "python",
     "metadata": {},
     "outputs": [
      {
       "output_type": "stream",
       "stream": "stdout",
       "text": [
        "name\tstep1_numorfs\tstep1_len\tstep2_numorfs\tstep2_len\n",
        "2.092.O.\t20\t9517\t21\t10580\n",
        "1.011.O.\t20\t10487\t20\t10579\n",
        "1.141.A.\t21\t9959\t5\t3539\n",
        "1.095.O.\t22\t10346\t22\t10436\n",
        "1.107.B.\t22\t10392\t22\t10447\n",
        "1.069.O.\t20\t9510\t21\t10644\n",
        "1.008.O.\t20\t9514\t21\t10579\n",
        "1.102.O.\t19\t8811\t22\t10447\n",
        "1.107.C.\t22\t10357\t22\t10447\n",
        "1.080.O.\t19\t9956\t19\t10046\n",
        "1.062.O.\t22\t10489\t21\t10579\n",
        "1.043.O.\t18\t8603\t21\t10272\n",
        "1.249.B.\t19\t10663\t8\t5004\n",
        "1.249.A.\t20\t10259\t22\t10611\n",
        "1.020.O.\t2\t717\t2\t506\n",
        "1.048.O.\t22\t10357\t22\t10483\n",
        "1.057.O.\t21\t10183\t21\t10273\n",
        "1.125.O.\t21\t10488\t21\t10578\n",
        "1.044.O.\t21\t10182\t21\t10272\n",
        "1.107.A.\t22\t10357\t22\t10447\n",
        "1.040.O.\t19\t9800\t21\t10587\n",
        "\n"
       ]
      }
     ],
     "prompt_number": 17
    },
    {
     "cell_type": "code",
     "collapsed": false,
     "input": [
      "import numpy as np\n",
      "import matplotlib.pyplot as plt\n",
      "\n",
      "step1_numorfs=[]\n",
      "step2_numorfs=[]\n",
      "step1_l=[]\n",
      "step2_l=[]\n",
      "for line in len_tbl.split(\"\\n\")[1:]:\n",
      "    vec=line.split(\"\\t\")\n",
      "    if len(vec)>4:\n",
      "        step1_numorfs.append(int(vec[1]))\n",
      "        step2_numorfs.append(int(vec[3]))\n",
      "        step1_l.append(int(vec[2]))\n",
      "        step2_l.append(int(vec[4]))\n",
      "\n",
      "N = len(group15)\n",
      "\n",
      "\n",
      "ind = np.arange(N)  # the x locations for the groups\n",
      "width = 0.5       # the width of the bars\n",
      "\n",
      "fig, ax = plt.subplots()\n",
      "rects1 = ax.bar(ind, step1_numorfs, width, color='r')\n",
      "\n",
      "rects2 = ax.bar(ind+width, step2_numorfs, width, color='y')\n",
      "\n",
      "# add some text for labels, title and axes ticks\n",
      "ax.set_ylabel('Number of ORFs')\n",
      "ax.set_title('Number of ORFs per assembly')\n",
      "ax.set_xticks(ind+width)\n",
      "ax.set_xticklabels( (group15) )\n",
      "\n",
      "ax.legend( (rects1[0], rects2[0]), ('Step1','Step2') )\n",
      "\n",
      "def autolabel(rects):\n",
      "    # attach some text labels\n",
      "    for rect in rects:\n",
      "        height = rect.get_height()\n",
      "        ax.text(rect.get_x()+rect.get_width()/2., 1.05*height, '%d'%int(height),\n",
      "                ha='center', va='bottom')\n",
      "\n",
      "autolabel(rects1)\n",
      "autolabel(rects2)\n",
      "\n",
      "plt\n"
     ],
     "language": "python",
     "metadata": {},
     "outputs": [
      {
       "metadata": {},
       "output_type": "pyout",
       "prompt_number": 25,
       "text": [
        "<module 'matplotlib.pyplot' from '/Users/jmb/anaconda/lib/python2.7/site-packages/matplotlib/pyplot.pyc'>"
       ]
      }
     ],
     "prompt_number": 25
    },
    {
     "cell_type": "code",
     "collapsed": false,
     "input": [
      "#Try to run spades on assemblies to see if this makes a difference in the repeat regions at the ends of the contigs:\n",
      "out=open(\"grp15_spades.slurm\",\"w\")\n",
      "out.write(\"#!/bin/bash\\n\")\n",
      "out.write(\"#SBATCH -n 16\\n#SBATCH -N 2\\n#SBATCH -o grp15_spades.out\\n#SBATCH -e grp15_spades.err \\n#SBATCH -p sched_mit_chisholm\\n\")\n",
      "out.write(\"#SBATCH --mem 60000\\n#SBATCH --exclusive\\n\\n\")\n",
      "out.write(\"module load engaging/SPAdes/3.1.1\\n\")\n",
      "out.write(\"mkdir spades_run1\\n\\n\")\n",
      "out1=\"./spades_run1/\"\n",
      "\n",
      "for virus in group15:\n",
      "    reads=\"../\"+virus+\"*.fastq\"\n",
      "    outputdir=out1+virus+\"/\"\n",
      "    out.write(\"spades.py -o \"+outputdir+\" --12 \"+reads+\"\\n\")\n",
      "\n",
      "out.close()\n",
      "\n",
      "!open grp15_spades.slurm -a textedit\n",
      "!scp grp15_spades.slurm jbrown@eofe4.mit.edu:/nobackup1/jbrown/nahant_phage_reads/group15/"
     ],
     "language": "python",
     "metadata": {},
     "outputs": [
      {
       "output_type": "stream",
       "stream": "stdout",
       "text": [
        "\r",
        "grp15_spades.slurm                              0%    0     0.0KB/s   --:-- ETA\r",
        "grp15_spades.slurm                            100% 1501     1.5KB/s   00:00    \r\n"
       ]
      }
     ],
     "prompt_number": 36
    },
    {
     "cell_type": "code",
     "collapsed": false,
     "input": [
      "group15"
     ],
     "language": "python",
     "metadata": {},
     "outputs": [
      {
       "metadata": {},
       "output_type": "pyout",
       "prompt_number": 37,
       "text": [
        "['2.092.O.',\n",
        " '1.011.O.',\n",
        " '1.141.A.',\n",
        " '1.095.O.',\n",
        " '1.107.B.',\n",
        " '1.069.O.',\n",
        " '1.008.O.',\n",
        " '1.102.O.',\n",
        " '1.107.C.',\n",
        " '1.080.O.',\n",
        " '1.062.O.',\n",
        " '1.043.O.',\n",
        " '1.249.B.',\n",
        " '1.249.A.',\n",
        " '1.020.O.',\n",
        " '1.048.O.',\n",
        " '1.057.O.',\n",
        " '1.125.O.',\n",
        " '1.044.O.',\n",
        " '1.107.A.',\n",
        " '1.040.O.']"
       ]
      }
     ],
     "prompt_number": 37
    },
    {
     "cell_type": "code",
     "collapsed": false,
     "input": [
      "#checking iterative recruitment for terminal repeats\n",
      "from Bio.Seq import Seq\n",
      "from pyfaidx import Fasta\n",
      "\n",
      "def compare_ends(fasta):\n",
      "    f=open(fasta)\n",
      "    sequence=\"\"\n",
      "    for row in f:\n",
      "        if row.startswith(\">\"):\n",
      "            title=row\n",
      "        else:\n",
      "            sequence+=row\n",
      "    sequence=sequence.replace(\"\\n\",\"\")\n",
      "    cutoff=len(sequence)/2\n",
      "    beginning=sequence[0:cutoff]\n",
      "    seq=Seq(str(sequence))\n",
      "    end=Seq(sequence[-cutoff:]).reverse_complement()\n",
      "    match=0\n",
      "    match_pos=0\n",
      "    for j in range(0,100):\n",
      "        \n",
      "        count=0\n",
      "        for i in range(j,cutoff):\n",
      "            if beginning[i]==end[i-j]:\n",
      "                count+=1\n",
      "            else:\n",
      "                if count>match:\n",
      "                    match=count\n",
      "                    match_pos=j\n",
      "                    count=0\n",
      "                else:\n",
      "                    break\n",
      "                break\n",
      "    output=[match, match_pos]\n",
      "    #print(beginning)\n",
      "    #print(end)\n",
      "    return output\n",
      "\n",
      "def read_contig1_fasta(fasta):\n",
      "    f=open(fasta)\n",
      "    sequence=\"\"\n",
      "    for row in f:\n",
      "        if row.startswith(\">\"):\n",
      "            continue\n",
      "        else:\n",
      "            sequence+=row\n",
      "    sequence=sequence.replace(\"\\n\",\"\")\n",
      "    return sequence"
     ],
     "language": "python",
     "metadata": {},
     "outputs": [],
     "prompt_number": 77
    },
    {
     "cell_type": "code",
     "collapsed": false,
     "input": [
      "###Script used to extract contig1 from spades output.\n",
      "#!/usr/bin/python\n",
      "from pyfaidx import Fasta\n",
      "\n",
      "group15=['2.092.O.',\n",
      " '1.011.O.',\n",
      " '1.141.A.',\n",
      " '1.095.O.',\n",
      " '1.107.B.',\n",
      " '1.069.O.',\n",
      " '1.008.O.',\n",
      " '1.102.O.',\n",
      " '1.107.C.',\n",
      " '1.080.O.',\n",
      " '1.062.O.',\n",
      " '1.043.O.',\n",
      " '1.249.B.',\n",
      " '1.249.A.',\n",
      " '1.020.O.',\n",
      " '1.048.O.',\n",
      " '1.057.O.',\n",
      " '1.125.O.',\n",
      " '1.044.O.',\n",
      " '1.107.A.',\n",
      " '1.040.O.']\n",
      "\n",
      "for i in group15:\n",
      "\tfasta=open(\"./spades_run1/\"+i+\"/contigs.fasta\").readlines()\n",
      "\tfastout=open(i+\"spades.contig1.fasta\",\"w\")\n",
      "\tcontig1_name=fasta[0]\n",
      "\tsequence=\"\"\n",
      "\tfor line in fasta[1:]:\n",
      "\t\tif line.startswith(\">\"):\n",
      "\t\t\tbreak\n",
      "\t\telse:\n",
      "\t\t\tsequence+=line\n",
      "\tfastout.write(contig1_name+sequence)\n",
      "\tfastout.close()"
     ],
     "language": "python",
     "metadata": {},
     "outputs": []
    },
    {
     "cell_type": "code",
     "collapsed": false,
     "input": [
      "###Script used to extract contig1 from spades output.\n",
      "#!/usr/bin/python\n",
      "from pyfaidx import Fasta\n",
      "\n",
      "group15=['2.092.O.',\n",
      " '1.011.O.',\n",
      " '1.141.A.',\n",
      " '1.095.O.',\n",
      " '1.107.B.',\n",
      " '1.069.O.',\n",
      " '1.008.O.',\n",
      " '1.102.O.',\n",
      " '1.107.C.',\n",
      " '1.080.O.',\n",
      " '1.062.O.',\n",
      " '1.043.O.',\n",
      " '1.249.B.',\n",
      " '1.249.A.',\n",
      " '1.020.O.',\n",
      " '1.048.O.',\n",
      " '1.057.O.',\n",
      " '1.125.O.',\n",
      " '1.044.O.',\n",
      " '1.107.A.',\n",
      " '1.040.O.']\n",
      "\n",
      "for i in group15:\n",
      "\tfasta=Fasta(\"./spades_run1/\"+i+\"/contigs.fasta\")\n",
      "\tfastout=open(i+\"spades.longestcontig.fasta\",\"w\")\n",
      "\tlength=0\n",
      "\tfor line in fasta.keys():\n",
      "\t\tif len(str(line))>length:\n",
      "\t\t\tsequence=fasta[line]\n",
      "            title=line\n",
      "\tfastout.write(\">\"+title+\"\\n\"+str(sequence))\n",
      "\tfastout.close()"
     ],
     "language": "python",
     "metadata": {},
     "outputs": []
    },
    {
     "cell_type": "code",
     "collapsed": false,
     "input": [
      "!scp jbrown@eofe4.mit.edu:/nobackup1/jbrown/nahant_phage_reads/group15/*spades_run1.contig1.fasta ./"
     ],
     "language": "python",
     "metadata": {},
     "outputs": [
      {
       "output_type": "stream",
       "stream": "stdout",
       "text": [
        "\r",
        "1.008.O.spades_run1.contig1.fasta               0%    0     0.0KB/s   --:-- ETA\r",
        "1.008.O.spades_run1.contig1.fasta             100% 6173     6.0KB/s   00:00    \r\n"
       ]
      },
      {
       "output_type": "stream",
       "stream": "stdout",
       "text": [
        "\r",
        "1.011.O.spades_run1.contig1.fasta               0%    0     0.0KB/s   --:-- ETA\r",
        "1.011.O.spades_run1.contig1.fasta             100%   11KB  10.8KB/s   00:00    \r\n"
       ]
      },
      {
       "output_type": "stream",
       "stream": "stdout",
       "text": [
        "\r",
        "1.020.O.spades_run1.contig1.fasta               0%    0     0.0KB/s   --:-- ETA\r",
        "1.020.O.spades_run1.contig1.fasta             100% 5907     5.8KB/s   00:00    \r\n"
       ]
      },
      {
       "output_type": "stream",
       "stream": "stdout",
       "text": [
        "\r",
        "1.040.O.spades_run1.contig1.fasta               0%    0     0.0KB/s   --:-- ETA"
       ]
      },
      {
       "output_type": "stream",
       "stream": "stdout",
       "text": [
        "\r",
        "1.040.O.spades_run1.contig1.fasta             100%   32KB  32.0KB/s   00:00    \r\n",
        "\r",
        "1.043.O.spades_run1.contig1.fasta               0%    0     0.0KB/s   --:-- ETA"
       ]
      },
      {
       "output_type": "stream",
       "stream": "stdout",
       "text": [
        "\r",
        "1.043.O.spades_run1.contig1.fasta             100%   10KB  10.1KB/s   00:00    \r\n",
        "\r",
        "1.044.O.spades_run1.contig1.fasta               0%    0     0.0KB/s   --:-- ETA\r",
        "1.044.O.spades_run1.contig1.fasta             100%  991     1.0KB/s   00:00    \r\n"
       ]
      },
      {
       "output_type": "stream",
       "stream": "stdout",
       "text": [
        "\r",
        "1.048.O.spades_run1.contig1.fasta               0%    0     0.0KB/s   --:-- ETA\r",
        "1.048.O.spades_run1.contig1.fasta             100%   10KB  10.3KB/s   00:00    \r\n"
       ]
      },
      {
       "output_type": "stream",
       "stream": "stdout",
       "text": [
        "\r",
        "1.057.O.spades_run1.contig1.fasta               0%    0     0.0KB/s   --:-- ETA\r",
        "1.057.O.spades_run1.contig1.fasta             100% 1460     1.4KB/s   00:00    \r\n"
       ]
      },
      {
       "output_type": "stream",
       "stream": "stdout",
       "text": [
        "\r",
        "1.062.O.spades_run1.contig1.fasta               0%    0     0.0KB/s   --:-- ETA\r",
        "1.062.O.spades_run1.contig1.fasta             100% 2308     2.3KB/s   00:00    \r\n",
        "\r",
        "1.069.O.spades_run1.contig1.fasta               0%    0     0.0KB/s   --:-- ETA"
       ]
      },
      {
       "output_type": "stream",
       "stream": "stdout",
       "text": [
        "\r",
        "1.069.O.spades_run1.contig1.fasta             100% 3568     3.5KB/s   00:00    \r\n",
        "\r",
        "1.080.O.spades_run1.contig1.fasta               0%    0     0.0KB/s   --:-- ETA"
       ]
      },
      {
       "output_type": "stream",
       "stream": "stdout",
       "text": [
        "\r",
        "1.080.O.spades_run1.contig1.fasta             100%  697     0.7KB/s   00:01    \r\n",
        "\r",
        "1.095.O.spades_run1.contig1.fasta               0%    0     0.0KB/s   --:-- ETA"
       ]
      },
      {
       "output_type": "stream",
       "stream": "stdout",
       "text": [
        "\r",
        "1.095.O.spades_run1.contig1.fasta             100% 6872     6.7KB/s   00:00    \r\n",
        "\r",
        "1.102.O.spades_run1.contig1.fasta               0%    0     0.0KB/s   --:-- ETA"
       ]
      },
      {
       "output_type": "stream",
       "stream": "stdout",
       "text": [
        "\r",
        "1.102.O.spades_run1.contig1.fasta             100% 3425     3.3KB/s   00:00    \r\n",
        "\r",
        "1.107.A.spades_run1.contig1.fasta               0%    0     0.0KB/s   --:-- ETA\r",
        "1.107.A.spades_run1.contig1.fasta             100% 3245     3.2KB/s   00:00    \r\n"
       ]
      },
      {
       "output_type": "stream",
       "stream": "stdout",
       "text": [
        "\r",
        "1.107.B.spades_run1.contig1.fasta               0%    0     0.0KB/s   --:-- ETA\r",
        "1.107.B.spades_run1.contig1.fasta             100% 1433     1.4KB/s   00:00    \r\n"
       ]
      },
      {
       "output_type": "stream",
       "stream": "stdout",
       "text": [
        "\r",
        "1.107.C.spades_run1.contig1.fasta               0%    0     0.0KB/s   --:-- ETA\r",
        "1.107.C.spades_run1.contig1.fasta             100% 5763     5.6KB/s   00:00    \r\n"
       ]
      },
      {
       "output_type": "stream",
       "stream": "stdout",
       "text": [
        "\r",
        "1.125.O.spades_run1.contig1.fasta               0%    0     0.0KB/s   --:-- ETA\r",
        "1.125.O.spades_run1.contig1.fasta             100%  857     0.8KB/s   00:00    \r\n"
       ]
      },
      {
       "output_type": "stream",
       "stream": "stdout",
       "text": [
        "\r",
        "1.141.A.spades_run1.contig1.fasta               0%    0     0.0KB/s   --:-- ETA\r",
        "1.141.A.spades_run1.contig1.fasta             100%   35KB  34.6KB/s   00:00    \r\n"
       ]
      },
      {
       "output_type": "stream",
       "stream": "stdout",
       "text": [
        "\r",
        "1.249.A.spades_run1.contig1.fasta               0%    0     0.0KB/s   --:-- ETA\r",
        "1.249.A.spades_run1.contig1.fasta             100%   11KB  10.6KB/s   00:00    \r\n"
       ]
      },
      {
       "output_type": "stream",
       "stream": "stdout",
       "text": [
        "\r",
        "1.249.B.spades_run1.contig1.fasta               0%    0     0.0KB/s   --:-- ETA\r",
        "1.249.B.spades_run1.contig1.fasta             100%   11KB  10.7KB/s   00:00    \r\n"
       ]
      },
      {
       "output_type": "stream",
       "stream": "stdout",
       "text": [
        "\r",
        "2.092.O.spades_run1.contig1.fasta               0%    0     0.0KB/s   --:-- ETA\r",
        "2.092.O.spades_run1.contig1.fasta             100% 1059     1.0KB/s   00:00    \r\n"
       ]
      }
     ],
     "prompt_number": 24
    },
    {
     "cell_type": "code",
     "collapsed": false,
     "input": [
      "import glob\n",
      "\n",
      "lengths=[]\n",
      "for line in group15:\n",
      "    fastas=glob.glob(line+\"spades_run1.contig1.fasta\")\n",
      "    for n in fastas:\n",
      "        \n",
      "        length=len(read_contig1_fasta(n))\n",
      "        print(line+\"\\t has length \\t\"+str(length)+\"\\t and ITR region of length \\t\"+str(compare_ends(n)[0])+\"\\t and a permutation of \\t\"+str(compare_ends(n)[1]))"
     ],
     "language": "python",
     "metadata": {},
     "outputs": [
      {
       "output_type": "stream",
       "stream": "stdout",
       "text": [
        "2.092.O.\t has length \t1013\t and ITR region of length \t3\t and a permutation of \t49\n",
        "1.011.O.\t has length \t10979\t and ITR region of length \t200\t and a permutation of \t0\n",
        "1.141.A.\t has length \t35410\t and ITR region of length \t4\t and a permutation of \t59\n",
        "1.095.O.\t has length \t6826\t and ITR region of length \t5\t and a permutation of \t52\n",
        "1.107.B.\t has length \t1387\t and ITR region of length \t3\t and a permutation of \t60\n",
        "1.069.O.\t has length \t3522\t and ITR region of length \t2\t and a permutation of \t1\n",
        "1.008.O.\t has length \t6127\t and ITR region of length \t3\t and a permutation of \t93\n",
        "1.102.O.\t has length \t3379\t and ITR region of length \t5\t and a permutation of \t86"
       ]
      },
      {
       "output_type": "stream",
       "stream": "stdout",
       "text": [
        "\n",
        "1.107.C.\t has length \t5717\t and ITR region of length \t3\t and a permutation of \t14\n",
        "1.080.O.\t has length \t652\t and ITR region of length \t5\t and a permutation of \t70\n",
        "1.062.O.\t has length \t2262\t and ITR region of length \t2\t and a permutation of \t30\n",
        "1.043.O.\t has length \t10340\t and ITR region of length \t97\t and a permutation of \t0\n",
        "1.249.B.\t has length \t10867\t and ITR region of length \t191\t and a permutation of \t0\n",
        "1.249.A.\t has length \t10831\t and ITR region of length \t173\t and a permutation of \t0\n",
        "1.020.O.\t has length \t5861\t and ITR region of length \t4\t and a permutation of \t12\n",
        "1.048.O.\t has length \t10519\t and ITR region of length \t99\t and a permutation of \t0\n",
        "1.057.O.\t has length \t1414\t and ITR region of length \t3\t and a permutation of \t83\n",
        "1.125.O.\t has length \t812\t and ITR region of length \t3\t and a permutation of \t45\n",
        "1.044.O.\t has length \t946\t and ITR region of length \t6\t and a permutation of \t51\n",
        "1.107.A.\t has length \t3199\t and ITR region of length \t2\t and a permutation of \t21\n",
        "1.040.O.\t has length \t32719\t and ITR region of length \t2\t and a permutation of \t67"
       ]
      },
      {
       "output_type": "stream",
       "stream": "stdout",
       "text": [
        "\n"
       ]
      }
     ],
     "prompt_number": 66
    },
    {
     "cell_type": "code",
     "collapsed": false,
     "input": [
      "!scp jbrown@eofe4.mit.edu:/nobackup1/jbrown/nahant_phage_reads/group15/*spades.longestcontig.fasta ./"
     ],
     "language": "python",
     "metadata": {},
     "outputs": [
      {
       "output_type": "stream",
       "stream": "stdout",
       "text": [
        "\r",
        "1.008.O.spades.longestcontig.fasta              0%    0     0.0KB/s   --:-- ETA\r",
        "1.008.O.spades.longestcontig.fasta            100%  304     0.3KB/s   00:00    \r\n"
       ]
      },
      {
       "output_type": "stream",
       "stream": "stdout",
       "text": [
        "\r",
        "1.011.O.spades.longestcontig.fasta              0%    0     0.0KB/s   --:-- ETA\r",
        "1.011.O.spades.longestcontig.fasta            100%  272     0.3KB/s   00:00    \r\n"
       ]
      },
      {
       "output_type": "stream",
       "stream": "stdout",
       "text": [
        "\r",
        "1.020.O.spades.longestcontig.fasta              0%    0     0.0KB/s   --:-- ETA\r",
        "1.020.O.spades.longestcontig.fasta            100%  310     0.3KB/s   00:00    \r\n",
        "\r",
        "1.040.O.spades.longestcontig.fasta              0%    0     0.0KB/s   --:-- ETA"
       ]
      },
      {
       "output_type": "stream",
       "stream": "stdout",
       "text": [
        "\r",
        "1.040.O.spades.longestcontig.fasta            100%  307     0.3KB/s   00:00    \r\n",
        "\r",
        "1.043.O.spades.longestcontig.fasta              0%    0     0.0KB/s   --:-- ETA"
       ]
      },
      {
       "output_type": "stream",
       "stream": "stdout",
       "text": [
        "\r",
        "1.043.O.spades.longestcontig.fasta            100%  293     0.3KB/s   00:00    \r\n",
        "\r",
        "1.044.O.spades.longestcontig.fasta              0%    0     0.0KB/s   --:-- ETA"
       ]
      },
      {
       "output_type": "stream",
       "stream": "stdout",
       "text": [
        "\r",
        "1.044.O.spades.longestcontig.fasta            100%  267     0.3KB/s   00:00    \r\n",
        "\r",
        "1.048.O.spades.longestcontig.fasta              0%    0     0.0KB/s   --:-- ETA"
       ]
      },
      {
       "output_type": "stream",
       "stream": "stdout",
       "text": [
        "\r",
        "1.048.O.spades.longestcontig.fasta            100%  280     0.3KB/s   00:00    \r\n",
        "\r",
        "1.057.O.spades.longestcontig.fasta              0%    0     0.0KB/s   --:-- ETA"
       ]
      },
      {
       "output_type": "stream",
       "stream": "stdout",
       "text": [
        "\r",
        "1.057.O.spades.longestcontig.fasta            100% 1237     1.2KB/s   00:00    \r\n",
        "\r",
        "1.062.O.spades.longestcontig.fasta              0%    0     0.0KB/s   --:-- ETA"
       ]
      },
      {
       "output_type": "stream",
       "stream": "stdout",
       "text": [
        "\r",
        "1.062.O.spades.longestcontig.fasta            100%  307     0.3KB/s   00:00    \r\n",
        "\r",
        "1.069.O.spades.longestcontig.fasta              0%    0     0.0KB/s   --:-- ETA\r",
        "1.069.O.spades.longestcontig.fasta            100%  285     0.3KB/s   00:00    \r\n"
       ]
      },
      {
       "output_type": "stream",
       "stream": "stdout",
       "text": [
        "\r",
        "1.080.O.spades.longestcontig.fasta              0%    0     0.0KB/s   --:-- ETA\r",
        "1.080.O.spades.longestcontig.fasta            100%  266     0.3KB/s   00:00    \r\n"
       ]
      },
      {
       "output_type": "stream",
       "stream": "stdout",
       "text": [
        "\r",
        "1.095.O.spades.longestcontig.fasta              0%    0     0.0KB/s   --:-- ETA\r",
        "1.095.O.spades.longestcontig.fasta            100%  300     0.3KB/s   00:00    \r\n"
       ]
      },
      {
       "output_type": "stream",
       "stream": "stdout",
       "text": [
        "\r",
        "1.102.O.spades.longestcontig.fasta              0%    0     0.0KB/s   --:-- ETA\r",
        "1.102.O.spades.longestcontig.fasta            100%  305     0.3KB/s   00:00    \r\n"
       ]
      },
      {
       "output_type": "stream",
       "stream": "stdout",
       "text": [
        "\r",
        "1.107.A.spades.longestcontig.fasta              0%    0     0.0KB/s   --:-- ETA\r",
        "1.107.A.spades.longestcontig.fasta            100%  271     0.3KB/s   00:00    \r\n",
        "\r",
        "1.107.B.spades.longestcontig.fasta              0%    0     0.0KB/s   --:-- ETA"
       ]
      },
      {
       "output_type": "stream",
       "stream": "stdout",
       "text": [
        "\r",
        "1.107.B.spades.longestcontig.fasta            100%  307     0.3KB/s   00:00    \r\n",
        "\r",
        "1.107.C.spades.longestcontig.fasta              0%    0     0.0KB/s   --:-- ETA"
       ]
      },
      {
       "output_type": "stream",
       "stream": "stdout",
       "text": [
        "\r",
        "1.107.C.spades.longestcontig.fasta            100%  269     0.3KB/s   00:00    \r\n",
        "\r",
        "1.125.O.spades.longestcontig.fasta              0%    0     0.0KB/s   --:-- ETA"
       ]
      },
      {
       "output_type": "stream",
       "stream": "stdout",
       "text": [
        "\r",
        "1.125.O.spades.longestcontig.fasta            100%  298     0.3KB/s   00:00    \r\n",
        "\r",
        "1.141.A.spades.longestcontig.fasta              0%    0     0.0KB/s   --:-- ETA\r",
        "1.141.A.spades.longestcontig.fasta            100%  283     0.3KB/s   00:00    \r\n"
       ]
      },
      {
       "output_type": "stream",
       "stream": "stdout",
       "text": [
        "\r",
        "1.249.A.spades.longestcontig.fasta              0%    0     0.0KB/s   --:-- ETA\r",
        "1.249.A.spades.longestcontig.fasta            100%  291     0.3KB/s   00:00    \r\n"
       ]
      },
      {
       "output_type": "stream",
       "stream": "stdout",
       "text": [
        "\r",
        "1.249.B.spades.longestcontig.fasta              0%    0     0.0KB/s   --:-- ETA\r",
        "1.249.B.spades.longestcontig.fasta            100%  275     0.3KB/s   00:00    \r\n"
       ]
      },
      {
       "output_type": "stream",
       "stream": "stdout",
       "text": [
        "\r",
        "2.092.O.spades.longestcontig.fasta              0%    0     0.0KB/s   --:-- ETA\r",
        "2.092.O.spades.longestcontig.fasta            100%  257     0.3KB/s   00:00    \r\n"
       ]
      }
     ],
     "prompt_number": 3
    },
    {
     "cell_type": "code",
     "collapsed": false,
     "input": [
      "pwd"
     ],
     "language": "python",
     "metadata": {},
     "outputs": [
      {
       "metadata": {},
       "output_type": "pyout",
       "prompt_number": 2,
       "text": [
        "u'/Users/jmb/Desktop/ViralFate/PhageGenomeAssembly'"
       ]
      }
     ],
     "prompt_number": 2
    },
    {
     "cell_type": "code",
     "collapsed": false,
     "input": [],
     "language": "python",
     "metadata": {},
     "outputs": []
    },
    {
     "cell_type": "code",
     "collapsed": false,
     "input": [],
     "language": "python",
     "metadata": {},
     "outputs": []
    },
    {
     "cell_type": "markdown",
     "metadata": {},
     "source": [
      "####With Spades assembly, there are much more variable contig lengths with initial assembly, but for the couple of contigs that were over 10kb, the repeated elements at the ends of the genomes were between 97 and 110, which is much more accurate than CLC (according to what we know about tectiviridae)."
     ]
    },
    {
     "cell_type": "code",
     "collapsed": false,
     "input": [
      "#Try to run spades on assemblies to see if this makes a difference in the repeat regions at the ends of the contigs:\n",
      "#This time with explicitly selected iterative k-mer lengths:\n",
      "\n",
      "out=open(\"grp15_spades2.slurm\",\"w\")\n",
      "out.write(\"#!/bin/bash\\n\")\n",
      "out.write(\"#SBATCH -n 16\\n#SBATCH -N 2\\n#SBATCH -o grp15_spades.out\\n#SBATCH -e grp15_spades.err \\n#SBATCH -p sched_mit_chisholm\\n\")\n",
      "out.write(\"#SBATCH --mem 60000\\n#SBATCH --exclusive\\n\\n\")\n",
      "out.write(\"module load engaging/SPAdes/3.1.1\\n\")\n",
      "out.write(\"mkdir spades_run2\\n\\n\")\n",
      "out1=\"./spades_run2/\"\n",
      "\n",
      "for virus in group15:\n",
      "    reads=\"../\"+virus+\"*.fastq\"\n",
      "    outputdir=out1+virus+\"/\"\n",
      "    out.write(\"spades.py -k 21,33,55,77 --careful --12 \"+reads+\" -o \"+outputdir+\"\\n\")\n",
      "\n",
      "out.close()\n",
      "\n",
      "!open grp15_spades2.slurm -a textedit\n",
      "!scp grp15_spades2.slurm jbrown@eofe4.mit.edu:/nobackup1/jbrown/nahant_phage_reads/group15/"
     ],
     "language": "python",
     "metadata": {},
     "outputs": [
      {
       "output_type": "stream",
       "stream": "stdout",
       "text": [
        "\r",
        "grp15_spades2.slurm                             0%    0     0.0KB/s   --:-- ETA\r",
        "grp15_spades2.slurm                           100% 2026     2.0KB/s   00:00    \r\n"
       ]
      }
     ],
     "prompt_number": 46
    },
    {
     "cell_type": "raw",
     "metadata": {},
     "source": [
      "#script used to extract the longest contig from SPADES contigs.fasta output file.\n",
      "\n",
      "from pyfaidx import Fasta\n",
      "\n",
      "group15=['2.092.O.',\n",
      " '1.011.O.',\n",
      " '1.141.A.',\n",
      " '1.095.O.',\n",
      " '1.107.B.',\n",
      " '1.069.O.',\n",
      " '1.008.O.',\n",
      " '1.102.O.',\n",
      " '1.107.C.',\n",
      " '1.080.O.',\n",
      " '1.062.O.',\n",
      " '1.043.O.',\n",
      " '1.249.B.',\n",
      " '1.249.A.',\n",
      " '1.020.O.',\n",
      " '1.048.O.',\n",
      " '1.057.O.',\n",
      " '1.125.O.',\n",
      " '1.044.O.',\n",
      " '1.107.A.',\n",
      " '1.040.O.']\n",
      "\n",
      "for i in group15:\n",
      "    f=Fasta(\"./spades_run2/\"+i+\"/contigs.fasta\")\n",
      "    fastout=open(i+\"spades_run2.contig1.fasta\",\"w\")\n",
      "    max_len=0\n",
      "    for entry in f.keys():\n",
      "        if (len(f[entry]))>max_len:\n",
      "            max_len=len(f[entry])\n",
      "            longest_contig=entry\n",
      "    \n",
      "    fastout.write(\">\"+i+\"_\"+longest_contig+\"\\n\"+str(f[longest_contig]))\n",
      "    fastout.close()"
     ]
    },
    {
     "cell_type": "code",
     "collapsed": false,
     "input": [
      "!scp jbrown@eofe4.mit.edu:/nobackup1/jbrown/nahant_phage_reads/group15/*spades_run2* ./"
     ],
     "language": "python",
     "metadata": {},
     "outputs": []
    },
    {
     "cell_type": "code",
     "collapsed": false,
     "input": [
      "import glob\n",
      "\n",
      "lengths=[]\n",
      "for line in group15:\n",
      "    fastas=glob.glob(line+\"spades_run2.contig1.fasta\")\n",
      "    for n in fastas:\n",
      "        \n",
      "        length=len(read_contig1_fasta(n))\n",
      "        print(line+\"\\t has length \\t\"+str(length)+\"\\t and ITR region of length \\t\"+str(compare_ends(n)[0])+\"\\t and a permutation of \\t\"+str(compare_ends(n)[1]))"
     ],
     "language": "python",
     "metadata": {},
     "outputs": [
      {
       "output_type": "stream",
       "stream": "stdout",
       "text": [
        "2.092.O.\t has length \t2210\t and ITR region of length \t3\t and a permutation of \t26\n",
        "1.011.O.\t has length \t10753\t and ITR region of length \t4\t and a permutation of \t10\n",
        "1.141.A.\t has length \t35410\t and ITR region of length \t4\t and a permutation of \t59\n",
        "1.095.O.\t has length \t6826\t and ITR region of length \t1\t and a permutation of \t0\n",
        "1.107.B.\t has length \t1388\t and ITR region of length \t3\t and a permutation of \t54\n",
        "1.069.O.\t has length \t5711\t and ITR region of length \t2\t and a permutation of \t17\n",
        "1.008.O.\t has length \t10607\t and ITR region of length \t77\t and a permutation of \t0"
       ]
      },
      {
       "output_type": "stream",
       "stream": "stdout",
       "text": [
        "\n",
        "1.102.O.\t has length \t3379\t and ITR region of length \t3\t and a permutation of \t62\n",
        "1.107.C.\t has length \t5715\t and ITR region of length \t7\t and a permutation of \t53\n",
        "1.080.O.\t has length \t1264\t and ITR region of length \t4\t and a permutation of \t72\n",
        "1.062.O.\t has length \t9750\t and ITR region of length \t2\t and a permutation of \t39\n",
        "1.043.O.\t has length \t4375\t and ITR region of length \t4\t and a permutation of \t59\n",
        "1.249.B.\t has length \t10867\t and ITR region of length \t4\t and a permutation of \t3\n",
        "1.249.A.\t has length \t10831\t and ITR region of length \t3\t and a permutation of \t47\n",
        "1.020.O.\t has length \t10742\t and ITR region of length \t73\t and a permutation of \t0\n",
        "1.048.O.\t has length \t10497\t and ITR region of length \t4\t and a permutation of \t65\n",
        "1.057.O.\t has length \t1911\t and ITR region of length \t5\t and a permutation of \t1\n",
        "1.125.O.\t has length \t812\t and ITR region of length \t3\t and a permutation of \t12"
       ]
      },
      {
       "output_type": "stream",
       "stream": "stdout",
       "text": [
        "\n",
        "1.044.O.\t has length \t973\t and ITR region of length \t4\t and a permutation of \t47\n",
        "1.107.A.\t has length \t2550\t and ITR region of length \t3\t and a permutation of \t15\n",
        "1.040.O.\t has length \t32719\t and ITR region of length \t2\t and a permutation of \t67\n"
       ]
      }
     ],
     "prompt_number": 67
    },
    {
     "cell_type": "markdown",
     "metadata": {},
     "source": [
      "Adjusting the word size to iterate between 21 and 77 appears to have decreased the amount of information that could be gained from the assembly.  Next spades run will increase the word size beyond the 110 bp that is assumed to be the approproximate length of the terminal repeats."
     ]
    },
    {
     "cell_type": "code",
     "collapsed": false,
     "input": [
      "out=open(\"grp15_spades3.slurm\",\"w\")\n",
      "out.write(\"#!/bin/bash\\n\")\n",
      "out.write(\"#SBATCH -n 16\\n#SBATCH -N 2\\n#SBATCH -o grp15_spades.out\\n#SBATCH -e grp15_spades.err \\n#SBATCH -p sched_mit_chisholm\\n\")\n",
      "out.write(\"#SBATCH --mem 60000\\n#SBATCH --exclusive\\n\\n\")\n",
      "out.write(\"module load engaging/SPAdes/3.1.1\\n\")\n",
      "out.write(\"mkdir spades_run3\\n\\n\")\n",
      "out1=\"./spades_run3/\"\n",
      "\n",
      "for virus in group15:\n",
      "    reads=\"../\"+virus+\"*.fastq\"\n",
      "    outputdir=out1+virus+\"/\"\n",
      "    out.write(\"spades.py -k 33,55,77,99,121 --careful --12 \"+reads+\" -o \"+outputdir+\"\\n\")\n",
      "\n",
      "out.close()\n",
      "\n",
      "!open grp15_spades3.slurm -a textedit\n",
      "!scp grp15_spades3.slurm jbrown@eofe4.mit.edu:/nobackup1/jbrown/nahant_phage_reads/group15/"
     ],
     "language": "python",
     "metadata": {},
     "outputs": [
      {
       "output_type": "stream",
       "stream": "stdout",
       "text": [
        "\r",
        "grp15_spades3.slurm                             0%    0     0.0KB/s   --:-- ETA\r",
        "grp15_spades3.slurm                           100% 2110     2.1KB/s   00:00    \r\n"
       ]
      }
     ],
     "prompt_number": 21
    },
    {
     "cell_type": "code",
     "collapsed": false,
     "input": [
      "!scp jbrown@eofe4.mit.edu:/nobackup1/jbrown/nahant_phage_reads/group15/*spades_run3.contig1* ./"
     ],
     "language": "python",
     "metadata": {},
     "outputs": [
      {
       "output_type": "stream",
       "stream": "stdout",
       "text": [
        "\r",
        "1.008.O.spades_run3.contig1.fasta               0%    0     0.0KB/s   --:-- ETA\r",
        "1.008.O.spades_run3.contig1.fasta             100%   10KB  10.4KB/s   00:00    \r\n"
       ]
      },
      {
       "output_type": "stream",
       "stream": "stdout",
       "text": [
        "\r",
        "1.011.O.spades_run3.contig1.fasta               0%    0     0.0KB/s   --:-- ETA\r",
        "1.011.O.spades_run3.contig1.fasta             100%   10KB  10.5KB/s   00:00    \r\n",
        "\r",
        "1.020.O.spades_run3.contig1.fasta               0%    0     0.0KB/s   --:-- ETA"
       ]
      },
      {
       "output_type": "stream",
       "stream": "stdout",
       "text": [
        "\r",
        "1.020.O.spades_run3.contig1.fasta             100%   11KB  10.5KB/s   00:00    \r\n",
        "\r",
        "1.040.O.spades_run3.contig1.fasta               0%    0     0.0KB/s   --:-- ETA"
       ]
      },
      {
       "output_type": "stream",
       "stream": "stdout",
       "text": [
        "\r",
        "1.040.O.spades_run3.contig1.fasta             100%   32KB  32.0KB/s   00:00    \r\n"
       ]
      },
      {
       "output_type": "stream",
       "stream": "stdout",
       "text": [
        "\r",
        "1.043.O.spades_run3.contig1.fasta               0%    0     0.0KB/s   --:-- ETA\r",
        "1.043.O.spades_run3.contig1.fasta             100%   10KB  10.1KB/s   00:00    \r\n"
       ]
      },
      {
       "output_type": "stream",
       "stream": "stdout",
       "text": [
        "\r",
        "1.044.O.spades_run3.contig1.fasta               0%    0     0.0KB/s   --:-- ETA\r",
        "1.044.O.spades_run3.contig1.fasta             100%   10KB  10.1KB/s   00:01    \r\n",
        "\r",
        "1.048.O.spades_run3.contig1.fasta               0%    0     0.0KB/s   --:-- ETA"
       ]
      },
      {
       "output_type": "stream",
       "stream": "stdout",
       "text": [
        "\r",
        "1.048.O.spades_run3.contig1.fasta             100%   10KB  10.3KB/s   00:00    \r\n",
        "\r",
        "1.057.O.spades_run3.contig1.fasta               0%    0     0.0KB/s   --:-- ETA"
       ]
      },
      {
       "output_type": "stream",
       "stream": "stdout",
       "text": [
        "\r",
        "1.057.O.spades_run3.contig1.fasta             100%   10KB  10.1KB/s   00:00    \r\n",
        "\r",
        "1.062.O.spades_run3.contig1.fasta               0%    0     0.0KB/s   --:-- ETA"
       ]
      },
      {
       "output_type": "stream",
       "stream": "stdout",
       "text": [
        "\r",
        "1.062.O.spades_run3.contig1.fasta             100%   10KB  10.5KB/s   00:00    \r\n",
        "\r",
        "1.069.O.spades_run3.contig1.fasta               0%    0     0.0KB/s   --:-- ETA"
       ]
      },
      {
       "output_type": "stream",
       "stream": "stdout",
       "text": [
        "\r",
        "1.069.O.spades_run3.contig1.fasta             100%   11KB  10.6KB/s   00:00    \r\n",
        "\r",
        "1.080.O.spades_run3.contig1.fasta               0%    0     0.0KB/s   --:-- ETA"
       ]
      },
      {
       "output_type": "stream",
       "stream": "stdout",
       "text": [
        "\r",
        "1.080.O.spades_run3.contig1.fasta             100%   10KB   9.9KB/s   00:00    \r\n",
        "\r",
        "1.095.O.spades_run3.contig1.fasta               0%    0     0.0KB/s   --:-- ETA"
       ]
      },
      {
       "output_type": "stream",
       "stream": "stdout",
       "text": [
        "\r",
        "1.095.O.spades_run3.contig1.fasta             100%   11KB  10.6KB/s   00:00    \r\n"
       ]
      },
      {
       "output_type": "stream",
       "stream": "stdout",
       "text": [
        "\r",
        "1.102.O.spades_run3.contig1.fasta               0%    0     0.0KB/s   --:-- ETA\r",
        "1.102.O.spades_run3.contig1.fasta             100%   10KB  10.3KB/s   00:00    \r\n"
       ]
      },
      {
       "output_type": "stream",
       "stream": "stdout",
       "text": [
        "\r",
        "1.107.A.spades_run3.contig1.fasta               0%    0     0.0KB/s   --:-- ETA\r",
        "1.107.A.spades_run3.contig1.fasta             100%   10KB  10.3KB/s   00:00    \r\n",
        "\r",
        "1.107.B.spades_run3.contig1.fasta               0%    0     0.0KB/s   --:-- ETA"
       ]
      },
      {
       "output_type": "stream",
       "stream": "stdout",
       "text": [
        "\r",
        "1.107.B.spades_run3.contig1.fasta             100%   10KB  10.4KB/s   00:00    \r\n",
        "\r",
        "1.107.C.spades_run3.contig1.fasta               0%    0     0.0KB/s   --:-- ETA"
       ]
      },
      {
       "output_type": "stream",
       "stream": "stdout",
       "text": [
        "\r",
        "1.107.C.spades_run3.contig1.fasta             100%   10KB  10.4KB/s   00:00    \r\n",
        "\r",
        "1.125.O.spades_run3.contig1.fasta               0%    0     0.0KB/s   --:-- ETA"
       ]
      },
      {
       "output_type": "stream",
       "stream": "stdout",
       "text": [
        "\r",
        "1.125.O.spades_run3.contig1.fasta             100% 5321     5.2KB/s   00:00    \r\n",
        "\r",
        "1.141.A.spades_run3.contig1.fasta               0%    0     0.0KB/s   --:-- ETA"
       ]
      },
      {
       "output_type": "stream",
       "stream": "stdout",
       "text": [
        "\r",
        "1.141.A.spades_run3.contig1.fasta             100%   35KB  34.6KB/s   00:00    \r\n",
        "\r",
        "1.249.A.spades_run3.contig1.fasta               0%    0     0.0KB/s   --:-- ETA"
       ]
      },
      {
       "output_type": "stream",
       "stream": "stdout",
       "text": [
        "\r",
        "1.249.A.spades_run3.contig1.fasta             100%   11KB  10.6KB/s   00:00    \r\n",
        "\r",
        "1.249.B.spades_run3.contig1.fasta               0%    0     0.0KB/s   --:-- ETA"
       ]
      },
      {
       "output_type": "stream",
       "stream": "stdout",
       "text": [
        "\r",
        "1.249.B.spades_run3.contig1.fasta             100%   11KB  10.7KB/s   00:00    \r\n",
        "\r",
        "2.092.O.spades_run3.contig1.fasta               0%    0     0.0KB/s   --:-- ETA"
       ]
      },
      {
       "output_type": "stream",
       "stream": "stdout",
       "text": [
        "\r",
        "2.092.O.spades_run3.contig1.fasta             100%   11KB  10.5KB/s   00:00    \r\n"
       ]
      }
     ],
     "prompt_number": 22
    },
    {
     "cell_type": "code",
     "collapsed": false,
     "input": [
      "import glob\n",
      "\n",
      "lengths=[]\n",
      "for line in group15:\n",
      "    fastas=glob.glob(line+\"spades_run3.contig1.fasta\")\n",
      "    for n in fastas:\n",
      "        \n",
      "        length=len(read_contig1_fasta(n))\n",
      "        print(line+\"\\t has length \\t\"+str(length)+\"\\t and ITR region of length \\t\"+str(compare_ends(n)[0])+\"\\t and a permutation of \\t\"+str(compare_ends(n)[1]))"
     ],
     "language": "python",
     "metadata": {},
     "outputs": [
      {
       "output_type": "stream",
       "stream": "stdout",
       "text": [
        "2.092.O.\t has length \t10742\t and ITR region of length \t4\t and a permutation of \t55\n",
        "1.011.O.\t has length \t10677\t and ITR region of length \t72\t and a permutation of \t80\n",
        "1.141.A.\t has length \t35410\t and ITR region of length \t4\t and a permutation of \t61\n",
        "1.095.O.\t has length \t10756\t and ITR region of length \t3\t and a permutation of \t20\n",
        "1.107.B.\t has length \t10633\t and ITR region of length \t4\t and a permutation of \t77"
       ]
      },
      {
       "output_type": "stream",
       "stream": "stdout",
       "text": [
        "\n",
        "1.069.O.\t has length \t10779\t and ITR region of length \t4\t and a permutation of \t25\n",
        "1.008.O.\t has length \t10633\t and ITR region of length \t3\t and a permutation of \t17\n",
        "1.102.O.\t has length \t10520\t and ITR region of length \t3\t and a permutation of \t38\n",
        "1.107.C.\t has length \t10629\t and ITR region of length \t4\t and a permutation of \t39\n",
        "1.080.O.\t has length \t10079\t and ITR region of length \t3\t and a permutation of \t86\n",
        "1.062.O.\t has length \t10687\t and ITR region of length \t5\t and a permutation of \t41\n",
        "1.043.O.\t has length \t10323\t and ITR region of length \t3\t and a permutation of \t87"
       ]
      },
      {
       "output_type": "stream",
       "stream": "stdout",
       "text": [
        "\n",
        "1.249.B.\t has length \t10866\t and ITR region of length \t29\t and a permutation of \t0\n",
        "1.249.A.\t has length \t10825\t and ITR region of length \t170\t and a permutation of \t0\n",
        "1.020.O.\t has length \t10742\t and ITR region of length \t73\t and a permutation of \t0\n",
        "1.048.O.\t has length \t10510\t and ITR region of length \t3\t and a permutation of \t52\n",
        "1.057.O.\t has length \t10302\t and ITR region of length \t7\t and a permutation of \t1\n",
        "1.125.O.\t has length \t5275\t and ITR region of length \t3\t and a permutation of \t44\n",
        "1.044.O.\t has length \t10317\t and ITR region of length \t77\t and a permutation of \t17"
       ]
      },
      {
       "output_type": "stream",
       "stream": "stdout",
       "text": [
        "\n",
        "1.107.A.\t has length \t10474\t and ITR region of length \t76\t and a permutation of \t1\n",
        "1.040.O.\t has length \t32719\t and ITR region of length \t2\t and a permutation of \t67\n"
       ]
      }
     ],
     "prompt_number": 68
    },
    {
     "cell_type": "code",
     "collapsed": false,
     "input": [
      "out=open(\"grp15_spades4.slurm\",\"w\")\n",
      "out.write(\"#!/bin/bash\\n\")\n",
      "out.write(\"#SBATCH -n 16\\n#SBATCH -N 2\\n#SBATCH -o grp15_spades.out\\n#SBATCH -e grp15_spades.err \\n#SBATCH -p sched_mit_chisholm\\n\")\n",
      "out.write(\"#SBATCH --mem 60000\\n#SBATCH --exclusive\\n\\n\")\n",
      "out.write(\"module load engaging/SPAdes/3.1.1\\n\")\n",
      "out.write(\"mkdir spades_run4\\n\\n\")\n",
      "out1=\"./spades_run4/\"\n",
      "\n",
      "for virus in group15:\n",
      "    reads=\"../\"+virus+\"*.fastq\"\n",
      "    outputdir=out1+virus+\"/\"\n",
      "    out.write(\"spades.py -k 31,61,91,121,127 --careful --12 \"+reads+\" -o \"+outputdir+\"\\n\")\n",
      "\n",
      "out.close()\n",
      "\n",
      "!open grp15_spades4.slurm -a textedit\n",
      "!scp grp15_spades4.slurm jbrown@eofe4.mit.edu:/nobackup1/jbrown/nahant_phage_reads/group15/"
     ],
     "language": "python",
     "metadata": {},
     "outputs": [
      {
       "output_type": "stream",
       "stream": "stdout",
       "text": [
        "\r",
        "grp15_spades4.slurm                             0%    0     0.0KB/s   --:-- ETA\r",
        "grp15_spades4.slurm                           100% 2131     2.1KB/s   00:00    \r\n"
       ]
      }
     ],
     "prompt_number": 73
    },
    {
     "cell_type": "code",
     "collapsed": false,
     "input": [
      "!scp jbrown@eofe4.mit.edu:/nobackup1/jbrown/nahant_phage_reads/group15/*spades_run4.contig1* ./"
     ],
     "language": "python",
     "metadata": {},
     "outputs": [
      {
       "output_type": "stream",
       "stream": "stdout",
       "text": [
        "\r",
        "1.008.O.spades_run4.contig1.fasta               0%    0     0.0KB/s   --:-- ETA"
       ]
      },
      {
       "output_type": "stream",
       "stream": "stdout",
       "text": [
        "\r",
        "1.008.O.spades_run4.contig1.fasta             100%   10KB  10.4KB/s   00:00    \r\n",
        "\r",
        "1.011.O.spades_run4.contig1.fasta               0%    0     0.0KB/s   --:-- ETA"
       ]
      },
      {
       "output_type": "stream",
       "stream": "stdout",
       "text": [
        "\r",
        "1.011.O.spades_run4.contig1.fasta             100%   10KB  10.5KB/s   00:00    \r\n",
        "\r",
        "1.020.O.spades_run4.contig1.fasta               0%    0     0.0KB/s   --:-- ETA"
       ]
      },
      {
       "output_type": "stream",
       "stream": "stdout",
       "text": [
        "\r",
        "1.020.O.spades_run4.contig1.fasta             100%   11KB  10.5KB/s   00:00    \r\n",
        "\r",
        "1.040.O.spades_run4.contig1.fasta               0%    0     0.0KB/s   --:-- ETA"
       ]
      },
      {
       "output_type": "stream",
       "stream": "stdout",
       "text": [
        "\r",
        "1.040.O.spades_run4.contig1.fasta             100%   32KB  32.1KB/s   00:00    \r\n"
       ]
      },
      {
       "output_type": "stream",
       "stream": "stdout",
       "text": [
        "\r",
        "1.043.O.spades_run4.contig1.fasta               0%    0     0.0KB/s   --:-- ETA\r",
        "1.043.O.spades_run4.contig1.fasta             100%   10KB  10.1KB/s   00:00    \r\n",
        "\r",
        "1.044.O.spades_run4.contig1.fasta               0%    0     0.0KB/s   --:-- ETA"
       ]
      },
      {
       "output_type": "stream",
       "stream": "stdout",
       "text": [
        "\r",
        "1.044.O.spades_run4.contig1.fasta             100%   10KB  10.1KB/s   00:00    \r\n",
        "\r",
        "1.048.O.spades_run4.contig1.fasta               0%    0     0.0KB/s   --:-- ETA"
       ]
      },
      {
       "output_type": "stream",
       "stream": "stdout",
       "text": [
        "\r",
        "1.048.O.spades_run4.contig1.fasta             100%   10KB  10.3KB/s   00:00    \r\n",
        "\r",
        "1.057.O.spades_run4.contig1.fasta               0%    0     0.0KB/s   --:-- ETA"
       ]
      },
      {
       "output_type": "stream",
       "stream": "stdout",
       "text": [
        "\r",
        "1.057.O.spades_run4.contig1.fasta             100%   10KB  10.1KB/s   00:00    \r\n",
        "\r",
        "1.062.O.spades_run4.contig1.fasta               0%    0     0.0KB/s   --:-- ETA"
       ]
      },
      {
       "output_type": "stream",
       "stream": "stdout",
       "text": [
        "\r",
        "1.062.O.spades_run4.contig1.fasta             100%   10KB  10.4KB/s   00:00    \r\n",
        "\r",
        "1.069.O.spades_run4.contig1.fasta               0%    0     0.0KB/s   --:-- ETA"
       ]
      },
      {
       "output_type": "stream",
       "stream": "stdout",
       "text": [
        "\r",
        "1.069.O.spades_run4.contig1.fasta             100%   11KB  10.6KB/s   00:00    \r\n",
        "\r",
        "1.080.O.spades_run4.contig1.fasta               0%    0     0.0KB/s   --:-- ETA\r",
        "1.080.O.spades_run4.contig1.fasta             100%   10KB   9.9KB/s   00:00    \r\n"
       ]
      },
      {
       "output_type": "stream",
       "stream": "stdout",
       "text": [
        "\r",
        "1.095.O.spades_run4.contig1.fasta               0%    0     0.0KB/s   --:-- ETA\r",
        "1.095.O.spades_run4.contig1.fasta             100%   11KB  10.6KB/s   00:00    \r\n"
       ]
      },
      {
       "output_type": "stream",
       "stream": "stdout",
       "text": [
        "\r",
        "1.102.O.spades_run4.contig1.fasta               0%    0     0.0KB/s   --:-- ETA\r",
        "1.102.O.spades_run4.contig1.fasta             100%   10KB  10.3KB/s   00:00    \r\n"
       ]
      },
      {
       "output_type": "stream",
       "stream": "stdout",
       "text": [
        "\r",
        "1.107.A.spades_run4.contig1.fasta               0%    0     0.0KB/s   --:-- ETA\r",
        "1.107.A.spades_run4.contig1.fasta             100%   10KB  10.3KB/s   00:00    \r\n"
       ]
      },
      {
       "output_type": "stream",
       "stream": "stdout",
       "text": [
        "\r",
        "1.107.B.spades_run4.contig1.fasta               0%    0     0.0KB/s   --:-- ETA\r",
        "1.107.B.spades_run4.contig1.fasta             100%   10KB  10.4KB/s   00:00    \r\n"
       ]
      },
      {
       "output_type": "stream",
       "stream": "stdout",
       "text": [
        "\r",
        "1.107.C.spades_run4.contig1.fasta               0%    0     0.0KB/s   --:-- ETA\r",
        "1.107.C.spades_run4.contig1.fasta             100%   10KB  10.4KB/s   00:00    \r\n",
        "\r",
        "1.125.O.spades_run4.contig1.fasta               0%    0     0.0KB/s   --:-- ETA"
       ]
      },
      {
       "output_type": "stream",
       "stream": "stdout",
       "text": [
        "\r",
        "1.125.O.spades_run4.contig1.fasta             100%   11KB  10.6KB/s   00:00    \r\n",
        "\r",
        "1.141.A.spades_run4.contig1.fasta               0%    0     0.0KB/s   --:-- ETA"
       ]
      },
      {
       "output_type": "stream",
       "stream": "stdout",
       "text": [
        "\r",
        "1.141.A.spades_run4.contig1.fasta             100%   35KB  34.6KB/s   00:00    \r\n"
       ]
      },
      {
       "output_type": "stream",
       "stream": "stdout",
       "text": [
        "\r",
        "1.249.A.spades_run4.contig1.fasta               0%    0     0.0KB/s   --:-- ETA\r",
        "1.249.A.spades_run4.contig1.fasta             100%   11KB  10.6KB/s   00:00    \r\n"
       ]
      },
      {
       "output_type": "stream",
       "stream": "stdout",
       "text": [
        "\r",
        "1.249.B.spades_run4.contig1.fasta               0%    0     0.0KB/s   --:-- ETA\r",
        "1.249.B.spades_run4.contig1.fasta             100%   11KB  10.7KB/s   00:00    \r\n"
       ]
      },
      {
       "output_type": "stream",
       "stream": "stdout",
       "text": [
        "\r",
        "2.092.O.spades_run4.contig1.fasta               0%    0     0.0KB/s   --:-- ETA\r",
        "2.092.O.spades_run4.contig1.fasta             100%   11KB  10.5KB/s   00:00    \r\n"
       ]
      }
     ],
     "prompt_number": 78
    },
    {
     "cell_type": "code",
     "collapsed": false,
     "input": [
      "import glob\n",
      "\n",
      "lengths=[]\n",
      "for line in group15:\n",
      "    fastas=glob.glob(line+\"spades_run4.contig1.fasta\")\n",
      "    for n in fastas:\n",
      "        \n",
      "        length=len(read_contig1_fasta(n))\n",
      "        print(line+\"\\t has length \\t\"+str(length)+\"\\t and ITR region of length \\t\"+str(compare_ends(n)[0])+\"\\t and a permutation of \\t\"+str(compare_ends(n)[1]))"
     ],
     "language": "python",
     "metadata": {},
     "outputs": [
      {
       "output_type": "stream",
       "stream": "stdout",
       "text": [
        "2.092.O.\t has length \t10742\t and ITR region of length \t4\t and a permutation of \t55\n",
        "1.011.O.\t has length \t10677\t and ITR region of length \t4\t and a permutation of \t75\n",
        "1.141.A.\t has length \t35410\t and ITR region of length \t4\t and a permutation of \t61\n",
        "1.095.O.\t has length \t10758\t and ITR region of length \t2\t and a permutation of \t3\n",
        "1.107.B.\t has length \t10633\t and ITR region of length \t3\t and a permutation of \t63"
       ]
      },
      {
       "output_type": "stream",
       "stream": "stdout",
       "text": [
        "\n",
        "1.069.O.\t has length \t10752\t and ITR region of length \t4\t and a permutation of \t83\n",
        "1.008.O.\t has length \t10633\t and ITR region of length \t3\t and a permutation of \t17\n",
        "1.102.O.\t has length \t10475\t and ITR region of length \t77\t and a permutation of \t0\n",
        "1.107.C.\t has length \t10629\t and ITR region of length \t3\t and a permutation of \t96\n",
        "1.080.O.\t has length \t10088\t and ITR region of length \t84\t and a permutation of \t0\n",
        "1.062.O.\t has length \t10629\t and ITR region of length \t3\t and a permutation of \t23\n",
        "1.043.O.\t has length \t10323\t and ITR region of length \t3\t and a permutation of \t87"
       ]
      },
      {
       "output_type": "stream",
       "stream": "stdout",
       "text": [
        "\n",
        "1.249.B.\t has length \t10867\t and ITR region of length \t5\t and a permutation of \t0\n",
        "1.249.A.\t has length \t10825\t and ITR region of length \t170\t and a permutation of \t0\n",
        "1.020.O.\t has length \t10742\t and ITR region of length \t73\t and a permutation of \t0\n",
        "1.048.O.\t has length \t10510\t and ITR region of length \t4\t and a permutation of \t78\n",
        "1.057.O.\t has length \t10302\t and ITR region of length \t77\t and a permutation of \t1\n",
        "1.125.O.\t has length \t10836\t and ITR region of length \t3\t and a permutation of \t45\n",
        "1.044.O.\t has length \t10300\t and ITR region of length \t77\t and a permutation of \t0"
       ]
      },
      {
       "output_type": "stream",
       "stream": "stdout",
       "text": [
        "\n",
        "1.107.A.\t has length \t10475\t and ITR region of length \t77\t and a permutation of \t0\n",
        "1.040.O.\t has length \t32851\t and ITR region of length \t3\t and a permutation of \t31\n"
       ]
      }
     ],
     "prompt_number": 79
    },
    {
     "cell_type": "markdown",
     "metadata": {},
     "source": [
      "###Running group 15 phages through RepARK to see if that will yield contigs of an expected size for the ITR regions(~170-200 bp)"
     ]
    },
    {
     "cell_type": "code",
     "collapsed": false,
     "input": [
      "out=open(\"grp_15_RepARK_test.slurm\",\"w\")\n",
      "output_prefix=\"grp_15_RepARK\"\n",
      "\n",
      "out.write(\"#!/bin/bash\\n#SBATCH -n 16\\n#SBATCH -N 1\\n#SBATCH -o \"+output_prefix+\".out\\n#SBATCH -e \"+output_prefix+\".err\\n#SBATCH -p sched_mit_chisholm\\n\\n\")\n",
      "out.write(\"module add engaging/clc-assembly-cell\\nmkdir ./RepARK/\\n\\n\")\n",
      "for line in group15:\n",
      "    outfile=\"./RepARK/\"+line\n",
      "    read_file=\"../\"+line+\"*.fastq\"\n",
      "    out.write(\"perl ~/programs/RepARK.pl -o \"+outfile+\" -a clc -l \"+read_file+\"\\n\")\n",
      "out.close()\n",
      "\n",
      "!open grp_15_RepARK_test.slurm -a textedit\n",
      "!scp grp_15_RepARK_test.slurm jbrown@eofe4.mit.edu:/nobackup1/jbrown/nahant_phage_reads/group15/"
     ],
     "language": "python",
     "metadata": {},
     "outputs": [
      {
       "output_type": "stream",
       "stream": "stdout",
       "text": [
        "\r",
        "grp_15_RepARK_test.slurm                        0%    0     0.0KB/s   --:-- ETA\r",
        "grp_15_RepARK_test.slurm                      100% 1779     1.7KB/s   00:00    \r\n"
       ]
      }
     ],
     "prompt_number": 4
    },
    {
     "cell_type": "code",
     "collapsed": false,
     "input": [
      "for lin in group15:\n",
      "    print(\"scp jbrown@eofe4.mit.edu:/nobackup1/jbrown/nahant_phage_reads/group15/RepARK/\"+lin+\"/repeat_lib.fasta ./\"+lin+\"repeatlib.fasta\")"
     ],
     "language": "python",
     "metadata": {},
     "outputs": [
      {
       "output_type": "stream",
       "stream": "stdout",
       "text": [
        "scp jbrown@eofe4.mit.edu:/nobackup1/jbrown/nahant_phage_reads/group15/RepARK/2.092.O./repeat_lib.fasta ./2.092.O.repeatlib.fasta\n",
        "scp jbrown@eofe4.mit.edu:/nobackup1/jbrown/nahant_phage_reads/group15/RepARK/1.011.O./repeat_lib.fasta ./1.011.O.repeatlib.fasta\n",
        "scp jbrown@eofe4.mit.edu:/nobackup1/jbrown/nahant_phage_reads/group15/RepARK/1.141.A./repeat_lib.fasta ./1.141.A.repeatlib.fasta\n",
        "scp jbrown@eofe4.mit.edu:/nobackup1/jbrown/nahant_phage_reads/group15/RepARK/1.095.O./repeat_lib.fasta ./1.095.O.repeatlib.fasta\n",
        "scp jbrown@eofe4.mit.edu:/nobackup1/jbrown/nahant_phage_reads/group15/RepARK/1.107.B./repeat_lib.fasta ./1.107.B.repeatlib.fasta\n",
        "scp jbrown@eofe4.mit.edu:/nobackup1/jbrown/nahant_phage_reads/group15/RepARK/1.069.O./repeat_lib.fasta ./1.069.O.repeatlib.fasta\n",
        "scp jbrown@eofe4.mit.edu:/nobackup1/jbrown/nahant_phage_reads/group15/RepARK/1.008.O./repeat_lib.fasta ./1.008.O.repeatlib.fasta\n",
        "scp jbrown@eofe4.mit.edu:/nobackup1/jbrown/nahant_phage_reads/group15/RepARK/1.102.O./repeat_lib.fasta ./1.102.O.repeatlib.fasta\n",
        "scp jbrown@eofe4.mit.edu:/nobackup1/jbrown/nahant_phage_reads/group15/RepARK/1.107.C./repeat_lib.fasta ./1.107.C.repeatlib.fasta\n",
        "scp jbrown@eofe4.mit.edu:/nobackup1/jbrown/nahant_phage_reads/group15/RepARK/1.080.O./repeat_lib.fasta ./1.080.O.repeatlib.fasta\n",
        "scp jbrown@eofe4.mit.edu:/nobackup1/jbrown/nahant_phage_reads/group15/RepARK/1.062.O./repeat_lib.fasta ./1.062.O.repeatlib.fasta\n",
        "scp jbrown@eofe4.mit.edu:/nobackup1/jbrown/nahant_phage_reads/group15/RepARK/1.043.O./repeat_lib.fasta ./1.043.O.repeatlib.fasta\n",
        "scp jbrown@eofe4.mit.edu:/nobackup1/jbrown/nahant_phage_reads/group15/RepARK/1.249.B./repeat_lib.fasta ./1.249.B.repeatlib.fasta\n",
        "scp jbrown@eofe4.mit.edu:/nobackup1/jbrown/nahant_phage_reads/group15/RepARK/1.249.A./repeat_lib.fasta ./1.249.A.repeatlib.fasta\n",
        "scp jbrown@eofe4.mit.edu:/nobackup1/jbrown/nahant_phage_reads/group15/RepARK/1.020.O./repeat_lib.fasta ./1.020.O.repeatlib.fasta\n",
        "scp jbrown@eofe4.mit.edu:/nobackup1/jbrown/nahant_phage_reads/group15/RepARK/1.048.O./repeat_lib.fasta ./1.048.O.repeatlib.fasta\n",
        "scp jbrown@eofe4.mit.edu:/nobackup1/jbrown/nahant_phage_reads/group15/RepARK/1.057.O./repeat_lib.fasta ./1.057.O.repeatlib.fasta\n",
        "scp jbrown@eofe4.mit.edu:/nobackup1/jbrown/nahant_phage_reads/group15/RepARK/1.125.O./repeat_lib.fasta ./1.125.O.repeatlib.fasta\n",
        "scp jbrown@eofe4.mit.edu:/nobackup1/jbrown/nahant_phage_reads/group15/RepARK/1.044.O./repeat_lib.fasta ./1.044.O.repeatlib.fasta\n",
        "scp jbrown@eofe4.mit.edu:/nobackup1/jbrown/nahant_phage_reads/group15/RepARK/1.107.A./repeat_lib.fasta ./1.107.A.repeatlib.fasta\n",
        "scp jbrown@eofe4.mit.edu:/nobackup1/jbrown/nahant_phage_reads/group15/RepARK/1.040.O./repeat_lib.fasta ./1.040.O.repeatlib.fasta\n"
       ]
      }
     ],
     "prompt_number": 5
    },
    {
     "cell_type": "code",
     "collapsed": false,
     "input": [],
     "language": "python",
     "metadata": {},
     "outputs": []
    }
   ],
   "metadata": {}
  }
 ]
}