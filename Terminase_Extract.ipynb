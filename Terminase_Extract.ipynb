{
 "metadata": {
  "name": "",
  "signature": "sha256:e61fa4b8a251ee77936a1d422368eee4f283edde3429732d7962b6ccf408cc1f"
 },
 "nbformat": 3,
 "nbformat_minor": 0,
 "worksheets": [
  {
   "cells": [
    {
     "cell_type": "code",
     "collapsed": false,
     "input": [
      "group=\"group4\""
     ],
     "language": "python",
     "metadata": {},
     "outputs": [],
     "prompt_number": 6
    },
    {
     "cell_type": "code",
     "collapsed": false,
     "input": [
      "import os\n",
      "\n",
      "prelim_groups=open(\"phage_by_group.txt\")\n",
      "phage_grp={}\n",
      "for line in prelim_groups.readlines():\n",
      "    line=line.rstrip(\"\\n\")\n",
      "    vec=line.split(\"\\t\")\n",
      "    phage_grp[vec[0]]=vec[1]\n",
      "groups=list(phage_grp.values())\n",
      "unique=[]\n",
      "for value in groups:\n",
      "    if value not in unique:\n",
      "        unique.append(value)\n",
      "group4=[]\n",
      "for value in phage_grp.keys():\n",
      "    if phage_grp.get(value)=='CNSv2.0:4':\n",
      "        group4.append(value)\n",
      "print(group4)\n",
      "os.chdir(\"./\"+group)"
     ],
     "language": "python",
     "metadata": {},
     "outputs": [
      {
       "ename": "IOError",
       "evalue": "[Errno 2] No such file or directory: 'phage_by_group.txt'",
       "output_type": "pyerr",
       "traceback": [
        "\u001b[0;31m---------------------------------------------------------------------------\u001b[0m\n\u001b[0;31mIOError\u001b[0m                                   Traceback (most recent call last)",
        "\u001b[0;32m<ipython-input-7-07f76a16a9f4>\u001b[0m in \u001b[0;36m<module>\u001b[0;34m()\u001b[0m\n\u001b[1;32m      1\u001b[0m \u001b[0;32mimport\u001b[0m \u001b[0mos\u001b[0m\u001b[0;34m\u001b[0m\u001b[0m\n\u001b[1;32m      2\u001b[0m \u001b[0;34m\u001b[0m\u001b[0m\n\u001b[0;32m----> 3\u001b[0;31m \u001b[0mprelim_groups\u001b[0m\u001b[0;34m=\u001b[0m\u001b[0mopen\u001b[0m\u001b[0;34m(\u001b[0m\u001b[0;34m\"phage_by_group.txt\"\u001b[0m\u001b[0;34m)\u001b[0m\u001b[0;34m\u001b[0m\u001b[0m\n\u001b[0m\u001b[1;32m      4\u001b[0m \u001b[0mphage_grp\u001b[0m\u001b[0;34m=\u001b[0m\u001b[0;34m{\u001b[0m\u001b[0;34m}\u001b[0m\u001b[0;34m\u001b[0m\u001b[0m\n\u001b[1;32m      5\u001b[0m \u001b[0;32mfor\u001b[0m \u001b[0mline\u001b[0m \u001b[0;32min\u001b[0m \u001b[0mprelim_groups\u001b[0m\u001b[0;34m.\u001b[0m\u001b[0mreadlines\u001b[0m\u001b[0;34m(\u001b[0m\u001b[0;34m)\u001b[0m\u001b[0;34m:\u001b[0m\u001b[0;34m\u001b[0m\u001b[0m\n",
        "\u001b[0;31mIOError\u001b[0m: [Errno 2] No such file or directory: 'phage_by_group.txt'"
       ]
      }
     ],
     "prompt_number": 7
    },
    {
     "cell_type": "code",
     "collapsed": false,
     "input": [],
     "language": "python",
     "metadata": {},
     "outputs": [
      {
       "metadata": {},
       "output_type": "pyout",
       "prompt_number": 8,
       "text": [
        "u'/Users/jmb/Desktop/ViralFate/PhageGenomeAssembly/group4'"
       ]
      }
     ],
     "prompt_number": 8
    },
    {
     "cell_type": "code",
     "collapsed": false,
     "input": [],
     "language": "python",
     "metadata": {},
     "outputs": [],
     "prompt_number": 9
    },
    {
     "cell_type": "code",
     "collapsed": false,
     "input": [],
     "language": "python",
     "metadata": {},
     "outputs": [],
     "prompt_number": 5
    },
    {
     "cell_type": "code",
     "collapsed": false,
     "input": [],
     "language": "python",
     "metadata": {},
     "outputs": [],
     "prompt_number": 5
    },
    {
     "cell_type": "code",
     "collapsed": false,
     "input": [],
     "language": "python",
     "metadata": {},
     "outputs": [],
     "prompt_number": 32
    },
    {
     "cell_type": "code",
     "collapsed": false,
     "input": [
      "#process output prodigal file:\n",
      "###code used for larger script to determine location of gene upstream of large subunit terminase\n",
      "\n",
      "\n",
      "groupfile=group4\n",
      "for phage in groupfile:\n",
      "\n",
      "    gene_tbl=open(phage+\"genes\").readlines()\n",
      "    output=open(phage+\"prodigal.info\",\"w\")\n",
      "    output.write(\"phage\\tnumber\\tgene\\tunique\\torientation\\tstart\\tstop\\n\")\n",
      "    loc=[]\n",
      "    nam=[]\n",
      "    for line in gene_tbl[2:]:\n",
      "        here=line.split()\n",
      "        if here[0]==\"CDS\":\n",
      "            loc.append(here[1])\n",
      "        else:\n",
      "            info=here[0].split(\";\")\n",
      "            there=info[0].split(\"=\")\n",
      "            if len(there)==3:\n",
      "                nam.append(\"contig_\"+there[2])\n",
      "    \n",
      "    dict1=dict(zip(nam,loc))\n",
      "    for key in dict1:\n",
      "        value=dict1[key]\n",
      "        number=key.split(\"_\")[2]\n",
      "        unique=phage+key\n",
      "        if value.startswith(\"complement\"):\n",
      "            vec1=value.split(\"(\")\n",
      "            vec2=vec1[1].split(\"..\")\n",
      "            start=vec2[1].replace(\")\",\"\")\n",
      "            stop=vec2[0]\n",
      "            orientation=\"reverse\"\n",
      "        else:\n",
      "            vec2=value.split(\"..\")\n",
      "            start=vec2[0]\n",
      "            stop=vec2[1]\n",
      "            orientation=\"forward\"\n",
      "        #print(phage+\"\\t\"+number+\"\\t\"+key+\"\\t\"+orientation+\"\\t\"+start+\"\\t\"+stop+\"\\n\")\n",
      "        output.write(phage+\"\\t\"+number+\"\\t\"+key+\"\\t\"+unique+\"\\t\"+orientation+\"\\t\"+start+\"\\t\"+stop+\"\\n\")\n",
      "    \n",
      "    output.close()"
     ],
     "language": "python",
     "metadata": {},
     "outputs": [],
     "prompt_number": 106
    },
    {
     "cell_type": "code",
     "collapsed": false,
     "input": [
      "!scp jbrown@eofe4.mit.edu:/nobackup1/jbrown/nahant_phage_reads/group4/*.proteins.faa ./"
     ],
     "language": "python",
     "metadata": {},
     "outputs": [
      {
       "output_type": "stream",
       "stream": "stdout",
       "text": [
        "\r",
        "1.012.O.proteins.faa                            0%    0     0.0KB/s   --:-- ETA"
       ]
      },
      {
       "output_type": "stream",
       "stream": "stdout",
       "text": [
        "\r",
        "1.012.O.proteins.faa                          100%   30KB  29.6KB/s   00:00    \r\n"
       ]
      },
      {
       "output_type": "stream",
       "stream": "stdout",
       "text": [
        "\r",
        "1.022.O.proteins.faa                            0%    0     0.0KB/s   --:-- ETA"
       ]
      },
      {
       "output_type": "stream",
       "stream": "stdout",
       "text": [
        "\r",
        "1.022.O.proteins.faa                          100%   30KB  30.2KB/s   00:01    \r\n"
       ]
      },
      {
       "output_type": "stream",
       "stream": "stdout",
       "text": [
        "\r",
        "1.023.O.proteins.faa                            0%    0     0.0KB/s   --:-- ETA"
       ]
      },
      {
       "output_type": "stream",
       "stream": "stdout",
       "text": [
        "\r",
        "1.023.O.proteins.faa                          100%   29KB  28.8KB/s   00:00    \r\n"
       ]
      },
      {
       "output_type": "stream",
       "stream": "stdout",
       "text": [
        "\r",
        "1.024.O.proteins.faa                            0%    0     0.0KB/s   --:-- ETA"
       ]
      },
      {
       "output_type": "stream",
       "stream": "stdout",
       "text": [
        "\r",
        "1.024.O.proteins.faa                          100%   27KB  27.5KB/s   00:00    \r\n",
        "\r",
        "1.027.O.proteins.faa                            0%    0     0.0KB/s   --:-- ETA"
       ]
      },
      {
       "output_type": "stream",
       "stream": "stdout",
       "text": [
        "\r",
        "1.027.O.proteins.faa                          100%   28KB  27.8KB/s   00:00    \r\n",
        "\r",
        "1.032.O.proteins.faa                            0%    0     0.0KB/s   --:-- ETA"
       ]
      },
      {
       "output_type": "stream",
       "stream": "stdout",
       "text": [
        "\r",
        "1.032.O.proteins.faa                          100%   29KB  29.3KB/s   00:00    \r\n",
        "\r",
        "1.033.O.proteins.faa                            0%    0     0.0KB/s   --:-- ETA"
       ]
      },
      {
       "output_type": "stream",
       "stream": "stdout",
       "text": [
        "\r",
        "1.033.O.proteins.faa                          100%   29KB  28.9KB/s   00:00    \r\n",
        "\r",
        "1.046.O.proteins.faa                            0%    0     0.0KB/s   --:-- ETA"
       ]
      },
      {
       "output_type": "stream",
       "stream": "stdout",
       "text": [
        "\r",
        "1.046.O.proteins.faa                          100%   30KB  29.6KB/s   00:01    \r\n"
       ]
      },
      {
       "output_type": "stream",
       "stream": "stdout",
       "text": [
        "\r",
        "1.088.O.proteins.faa                            0%    0     0.0KB/s   --:-- ETA"
       ]
      },
      {
       "output_type": "stream",
       "stream": "stdout",
       "text": [
        "\r",
        "1.088.O.proteins.faa                          100%   29KB  29.1KB/s   00:00    \r\n"
       ]
      },
      {
       "output_type": "stream",
       "stream": "stdout",
       "text": [
        "\r",
        "1.089.O.proteins.faa                            0%    0     0.0KB/s   --:-- ETA"
       ]
      },
      {
       "output_type": "stream",
       "stream": "stdout",
       "text": [
        "\r",
        "1.089.O.proteins.faa                          100%   29KB  29.4KB/s   00:00    \r\n",
        "\r",
        "1.098.O.proteins.faa                            0%    0     0.0KB/s   --:-- ETA"
       ]
      },
      {
       "output_type": "stream",
       "stream": "stdout",
       "text": [
        "\r",
        "1.098.O.proteins.faa                          100%   30KB  29.6KB/s   00:00    \r\n"
       ]
      },
      {
       "output_type": "stream",
       "stream": "stdout",
       "text": [
        "\r",
        "1.103.O.proteins.faa                            0%    0     0.0KB/s   --:-- ETA"
       ]
      },
      {
       "output_type": "stream",
       "stream": "stdout",
       "text": [
        "\r",
        "1.103.O.proteins.faa                          100%   29KB  29.0KB/s   00:00    \r\n"
       ]
      },
      {
       "output_type": "stream",
       "stream": "stdout",
       "text": [
        "\r",
        "1.104.O.proteins.faa                            0%    0     0.0KB/s   --:-- ETA"
       ]
      },
      {
       "output_type": "stream",
       "stream": "stdout",
       "text": [
        "\r",
        "1.104.O.proteins.faa                          100%   29KB  29.1KB/s   00:00    \r\n",
        "\r",
        "1.118.A.proteins.faa                            0%    0     0.0KB/s   --:-- ETA"
       ]
      },
      {
       "output_type": "stream",
       "stream": "stdout",
       "text": [
        "\r",
        "1.118.A.proteins.faa                          100%   29KB  29.4KB/s   00:00    \r\n"
       ]
      },
      {
       "output_type": "stream",
       "stream": "stdout",
       "text": [
        "\r",
        "1.118.B.proteins.faa                            0%    0     0.0KB/s   --:-- ETA"
       ]
      },
      {
       "output_type": "stream",
       "stream": "stdout",
       "text": [
        "\r",
        "1.118.B.proteins.faa                          100%   29KB  29.4KB/s   00:01    \r\n",
        "\r",
        "1.160.O.proteins.faa                            0%    0     0.0KB/s   --:-- ETA"
       ]
      },
      {
       "output_type": "stream",
       "stream": "stdout",
       "text": [
        "\r",
        "1.160.O.proteins.faa                          100%   29KB  29.4KB/s   00:00    \r\n",
        "\r",
        "1.171.O.proteins.faa                            0%    0     0.0KB/s   --:-- ETA"
       ]
      },
      {
       "output_type": "stream",
       "stream": "stdout",
       "text": [
        "\r",
        "1.171.O.proteins.faa                          100%   28KB  28.4KB/s   00:00    \r\n",
        "\r",
        "1.194.O.proteins.faa                            0%    0     0.0KB/s   --:-- ETA"
       ]
      },
      {
       "output_type": "stream",
       "stream": "stdout",
       "text": [
        "\r",
        "1.194.O.proteins.faa                          100%   27KB  27.4KB/s   00:00    \r\n"
       ]
      },
      {
       "output_type": "stream",
       "stream": "stdout",
       "text": [
        "\r",
        "1.195.O.proteins.faa                            0%    0     0.0KB/s   --:-- ETA"
       ]
      },
      {
       "output_type": "stream",
       "stream": "stdout",
       "text": [
        "\r",
        "1.195.O.proteins.faa                          100%   28KB  28.3KB/s   00:00    \r\n"
       ]
      },
      {
       "output_type": "stream",
       "stream": "stdout",
       "text": [
        "\r",
        "1.196.O.proteins.faa                            0%    0     0.0KB/s   --:-- ETA"
       ]
      },
      {
       "output_type": "stream",
       "stream": "stdout",
       "text": [
        "\r",
        "1.196.O.proteins.faa                          100%   28KB  27.7KB/s   00:00    \r\n",
        "\r",
        "1.200.O.proteins.faa                            0%    0     0.0KB/s   --:-- ETA"
       ]
      },
      {
       "output_type": "stream",
       "stream": "stdout",
       "text": [
        "\r",
        "1.200.O.proteins.faa                          100%   28KB  27.6KB/s   00:01    \r\n"
       ]
      },
      {
       "output_type": "stream",
       "stream": "stdout",
       "text": [
        "\r",
        "1.237.A.proteins.faa                            0%    0     0.0KB/s   --:-- ETA"
       ]
      },
      {
       "output_type": "stream",
       "stream": "stdout",
       "text": [
        "\r",
        "1.237.A.proteins.faa                          100%   29KB  29.3KB/s   00:00    \r\n",
        "\r",
        "1.237.B.proteins.faa                            0%    0     0.0KB/s   --:-- ETA"
       ]
      },
      {
       "output_type": "stream",
       "stream": "stdout",
       "text": [
        "\r",
        "1.237.B.proteins.faa                          100%   29KB  29.4KB/s   00:00    \r\n",
        "\r",
        "1.250.O.proteins.faa                            0%    0     0.0KB/s   --:-- ETA"
       ]
      },
      {
       "output_type": "stream",
       "stream": "stdout",
       "text": [
        "\r",
        "1.250.O.proteins.faa                          100%   29KB  28.8KB/s   00:00    \r\n"
       ]
      },
      {
       "output_type": "stream",
       "stream": "stdout",
       "text": [
        "\r",
        "1.251.O.proteins.faa                            0%    0     0.0KB/s   --:-- ETA"
       ]
      },
      {
       "output_type": "stream",
       "stream": "stdout",
       "text": [
        "\r",
        "1.251.O.proteins.faa                          100%   29KB  29.0KB/s   00:00    \r\n",
        "\r",
        "1.267.O.proteins.faa                            0%    0     0.0KB/s   --:-- ETA"
       ]
      },
      {
       "output_type": "stream",
       "stream": "stdout",
       "text": [
        "\r",
        "1.267.O.proteins.faa                          100%   28KB  27.6KB/s   00:00    \r\n",
        "\r",
        "1.268.A.proteins.faa                            0%    0     0.0KB/s   --:-- ETA"
       ]
      },
      {
       "output_type": "stream",
       "stream": "stdout",
       "text": [
        "\r",
        "1.268.A.proteins.faa                          100%   28KB  27.8KB/s   00:00    \r\n",
        "\r",
        "1.268.B.proteins.faa                            0%    0     0.0KB/s   --:-- ETA"
       ]
      },
      {
       "output_type": "stream",
       "stream": "stdout",
       "text": [
        "\r",
        "1.268.B.proteins.faa                          100%   27KB  27.5KB/s   00:00    \r\n",
        "\r",
        "1.269.O.proteins.faa                            0%    0     0.0KB/s   --:-- ETA"
       ]
      },
      {
       "output_type": "stream",
       "stream": "stdout",
       "text": [
        "\r",
        "1.269.O.proteins.faa                          100%   28KB  28.1KB/s   00:00    \r\n",
        "\r",
        "1.270.A.proteins.faa                            0%    0     0.0KB/s   --:-- ETA"
       ]
      },
      {
       "output_type": "stream",
       "stream": "stdout",
       "text": [
        "\r",
        "1.270.A.proteins.faa                          100%   28KB  27.6KB/s   00:00    \r\n"
       ]
      },
      {
       "output_type": "stream",
       "stream": "stdout",
       "text": [
        "\r",
        "1.270.B.proteins.faa                            0%    0     0.0KB/s   --:-- ETA\r",
        "1.270.B.proteins.faa                          100%   28KB  27.6KB/s   00:00    \r\n"
       ]
      },
      {
       "output_type": "stream",
       "stream": "stdout",
       "text": [
        "\r",
        "1.271.A.proteins.faa                            0%    0     0.0KB/s   --:-- ETA"
       ]
      },
      {
       "output_type": "stream",
       "stream": "stdout",
       "text": [
        "\r",
        "1.271.A.proteins.faa                          100%   28KB  27.8KB/s   00:00    \r\n",
        "\r",
        "1.271.B.proteins.faa                            0%    0     0.0KB/s   --:-- ETA"
       ]
      },
      {
       "output_type": "stream",
       "stream": "stdout",
       "text": [
        "\r",
        "1.271.B.proteins.faa                          100%   28KB  27.8KB/s   00:00    \r\n",
        "\r",
        "1.272.O.proteins.faa                            0%    0     0.0KB/s   --:-- ETA"
       ]
      },
      {
       "output_type": "stream",
       "stream": "stdout",
       "text": [
        "\r",
        "1.272.O.proteins.faa                          100%   28KB  27.8KB/s   00:00    \r\n"
       ]
      },
      {
       "output_type": "stream",
       "stream": "stdout",
       "text": [
        "\r",
        "1.274.O.proteins.faa                            0%    0     0.0KB/s   --:-- ETA"
       ]
      },
      {
       "output_type": "stream",
       "stream": "stdout",
       "text": [
        "\r",
        "1.274.O.proteins.faa                          100%   28KB  27.6KB/s   00:00    \r\n",
        "\r",
        "1.277.A.proteins.faa                            0%    0     0.0KB/s   --:-- ETA"
       ]
      },
      {
       "output_type": "stream",
       "stream": "stdout",
       "text": [
        "\r",
        "1.277.A.proteins.faa                          100%   27KB  27.5KB/s   00:00    \r\n",
        "\r",
        "1.277.B.proteins.faa                            0%    0     0.0KB/s   --:-- ETA"
       ]
      },
      {
       "output_type": "stream",
       "stream": "stdout",
       "text": [
        "\r",
        "1.277.B.proteins.faa                          100%   28KB  27.7KB/s   00:00    \r\n"
       ]
      },
      {
       "output_type": "stream",
       "stream": "stdout",
       "text": [
        "\r",
        "1.280.O.proteins.faa                            0%    0     0.0KB/s   --:-- ETA"
       ]
      },
      {
       "output_type": "stream",
       "stream": "stdout",
       "text": [
        "\r",
        "1.280.O.proteins.faa                          100%   28KB  27.6KB/s   00:00    \r\n",
        "\r",
        "1.281.O.proteins.faa                            0%    0     0.0KB/s   --:-- ETA"
       ]
      },
      {
       "output_type": "stream",
       "stream": "stdout",
       "text": [
        "\r",
        "1.281.O.proteins.faa                          100%   28KB  27.6KB/s   00:00    \r\n",
        "\r",
        "1.282.A.proteins.faa                            0%    0     0.0KB/s   --:-- ETA"
       ]
      },
      {
       "output_type": "stream",
       "stream": "stdout",
       "text": [
        "\r",
        "1.282.A.proteins.faa                          100%   27KB  27.5KB/s   00:00    \r\n"
       ]
      },
      {
       "output_type": "stream",
       "stream": "stdout",
       "text": [
        "\r",
        "1.283.A.proteins.faa                            0%    0     0.0KB/s   --:-- ETA\r",
        "1.283.A.proteins.faa                          100%   28KB  27.7KB/s   00:00    \r\n"
       ]
      },
      {
       "output_type": "stream",
       "stream": "stdout",
       "text": [
        "\r",
        "1.283.B.proteins.faa                            0%    0     0.0KB/s   --:-- ETA"
       ]
      },
      {
       "output_type": "stream",
       "stream": "stdout",
       "text": [
        "\r",
        "1.283.B.proteins.faa                          100%   28KB  27.8KB/s   00:00    \r\n",
        "\r",
        "1.283.C.proteins.faa                            0%    0     0.0KB/s   --:-- ETA"
       ]
      },
      {
       "output_type": "stream",
       "stream": "stdout",
       "text": [
        "\r",
        "1.283.C.proteins.faa                          100%   28KB  28.0KB/s   00:00    \r\n",
        "\r",
        "1.285.O.proteins.faa                            0%    0     0.0KB/s   --:-- ETA"
       ]
      },
      {
       "output_type": "stream",
       "stream": "stdout",
       "text": [
        "\r",
        "1.285.O.proteins.faa                          100%   29KB  28.7KB/s   00:00    \r\n"
       ]
      }
     ],
     "prompt_number": 13
    },
    {
     "cell_type": "markdown",
     "metadata": {},
     "source": [
      "####Re-arranging contigs based on location of phage terminase:"
     ]
    },
    {
     "cell_type": "code",
     "collapsed": false,
     "input": [
      "phagelist=open(\"phages.txt\",\"w\")\n",
      "for line in group4:\n",
      "    phagelist.write(line+\"\\n\")\n",
      "phagelist.close()"
     ],
     "language": "python",
     "metadata": {},
     "outputs": [],
     "prompt_number": 17
    },
    {
     "cell_type": "code",
     "collapsed": false,
     "input": [
      "from pyfaidx import Fasta\n",
      "import os\n",
      "import sys\n",
      "\n",
      "#convert command line arguments to variables:\n",
      "phages_lib=sys.argv[1]\n",
      "output_name=sys.argv[2]\n",
      "\n",
      "phages=open(phages_lib).read().split(\"\\n\")\n",
      "outfast=open(output_name,\"w\")\n",
      "\n",
      "for phage in phages:\n",
      "    best_evalue=1\n",
      "    blast=open(phage+\"prodprot.vs.lg.terminases.txt\").readlines()       #open blast file \n",
      "    for line in blast:    \n",
      "        if float(line.split(\"\\t\")[10])<best_evalue:\n",
      "            best_evalue=float(line.split(\"\\t\")[10])\n",
      "            terminase=line.split(\"\\t\")[0]\n",
      "    f=Fasta(phage+\"proteins.faa\")\n",
      "    a = str(f[terminase])\n",
      "    outfast.write(\">\"+phage+\"_\"+terminase+\"\\n\"+a+\"\\n\")\n",
      "outfast.close()"
     ],
     "language": "python",
     "metadata": {},
     "outputs": [
      {
       "output_type": "stream",
       "stream": "stdout",
       "text": [
        ">1.237.B._contig_1_62\n",
        "MKRGIKQYDNDPRVCHTWPPNFTEVYKRRVDLLDTMRSDPLVRAAILTHYENNPVDFILDWATTYDPRKKGDIPKRMPFCLFPRQIELVWFLQDCIDEGESGLIEKCRDAGATFVCAAFSVWLWLFRPDSSTGFGSRKEMLVDRLGDPDSIFQKIRDMINMLPADIFCPVGFVADKHMPSMKIVNPENGAQIAGEAGDNIGRGGRKGIYFKDESAHYERPELIEASLGDNTDVQIDISSVNGTGNVFYRRRKAGVEWKAGVELPKGKTRVFIFDWRDHPGKSEEWYERRRAKAEDEGLLHVFAQEVDRDYASAVRGVLIPSKWVKACIDIHKALGWPEPTGSRVASMDVADGGNDRNSMAVKRGYLVEASMCDGGEADLVARQYYAMSDMIGADQWRYEINGVGAGAKAAARMYHSNAVEQGRKPVSLPKIIGWSPSHAVVNGACDVNTGELVEPGDKESIRNKDFFTNLRAQAAWKLRQLCHNSYKARYEGADISPDDCIALSSDMEGLEELVTELSQPTYVTNPNTNKILINKTPEGTTSPNRFDGLVINVSPLRPDVDETMHVGGMGADSVEYVAVG*\n",
        "\n",
        ">1.267.O._contig_1_23\n",
        "MKLFNVAEYKNDPRVLDQWPADFTTVFRRRVELLNKVRANPELKQALHVHYANNPNGCADFILDWGITIDPRNSGENPPLPTTMPFCLFYRQVEFTFFLNDCVENKVRGLVEKCRDMGASWVALAWSVWRWLYKPGSAIVVGSRKAEYVDNLNDPKCLFDKVRQLITNLPSDVFWPEGFDPKKHLTYMKCVNPANGATIVGESGVIGRGGRSVAAILDEASFLENPEATEAALADNTNCIIYISTPNGVGNVFHRTRLAGKEWKHGQPIKERNRAQVFVMDWTDHPGKTPEWAKNRREYEESRGMLHVYMQEVERSYNASVTGQVIKSEWVEACKDAHKALNWPEATGLRVAGMDVADSDGGDVNAMTVKKGYLVEAVTSMGGESDAAGREFYSLACMIGVDQWRYESTGVGAGARSGATAYRTSLMDSGRKIGALPSIVGWSPSGAVVNPGCDVNTGEHVEPGDKEKMRNKDYFANIRSQAWWRLRQLMHNTYKVRYENAKIPIDDCISLNSDMDCINDLIMELAQPTFSRNENTGKILIDKKPQGTTSPNLADSLMIACSPLRPDLDETMHVGGAGIDSIDYVAVG*\n",
        "\n",
        ">1.196.O._contig_1_18\n",
        "MKLFNVAEYKNDPRVLDQWPADFTTVFRRRVELLNKVRANPELKQALHVHYANNPNGCADFILDWGITIDPRNSGENPPLPTTMPFCLFYRQVEFTFFLNDCVENKVRGLVEKCRDMGASWVALAWSVWRWLYKPGSAIVVGSRKAEYVDNLNDPKCLFDKVRQLITNLPSDVFWPEGFDPKKHLTYMKCVNPANGATIVGESGVIGRGGRSVAAILDEASFLENPEATEAALADNTNCIIYISTPNGVGNVFHRTRLAGKEWKHGQPIKERNRAQVFVMDWTDHPGKTPEWAKNRREYEESRGMLHVYMQEVERSYNASVTGQVIKSEWVEACKDAHKALNWPEATGLRVAGMDVADSDGGDVNAMTVKKGYLVEAVTSMGGESDAAGREFYSLACMIGVDQWRYESTGVGAGARSGATAYRTSLMDSGRKIGALPSIVGWSPSGAVVNPGCDVNTGEHVEPGDKEKMRNKDYFANIRSQAWWRLRQLMHNTYKVRYENAKIPIDDCISLNSDMDCINDLIMELAQPTFSRNENTGKILIDKKPQGTTSPNLADSLMIACSPLRPDLDETMHVGGAGIDSIDYVAVG*\n",
        "\n",
        ">1.195.O._contig_1_14\n",
        "MKLFNVAEYKNDPRVLDQWPADFTTVFRRRVELLNKVRANPELKQALHVHYANNPNGCADFILDWGITIDPRNSGENPPLPTTMPFCLFYRQVEFTFFLNDCVENKVRGLVEKCRDMGASWVALAWSVWRWLYKPGSAIVVGSRKAEYVDNLNDPKCLFDKVRQLITNLPSDVFWPEGFDPKKHLTYMKCVNPANGATIVGESGVIGRGGRSVAAILDEASFLENPEATEAALADNTNCIIYISTPNGVGNVFHRTRLAGKEWKHGQPIKERNRAQVFVMDWTDHPGKTPEWAKNRREYEESRGMLHVYMQEVERSYNASVTGQVIKSEWVEACKDAHKALNWPEATGLRVAGMDVADSDGGDVNAMTVKKGYLVEAVTSMGGESDAAGREFYSLACMIGVDQWRYESTGVGAGARSGATAYRTSLMDSGRKIGALPSIVGWSPSGAVVNPGCDVNTGEHVEPGDKEKMRNKDYFANIRSQAWWRLRQLMHNTYKVRYENAKIPIDDCISLNSDMDCINDLIMELAQPTFSRNENTGKILIDKKPQGTTSPNLADSLMIACSPLRPDLDETMHVGGAGIDSIDYVAVG*\n",
        "\n",
        ">1.277.A._contig_1_3\n",
        "MKLFNVAEYKNDPRVLDQWPADFTTVFRRRVELLNKVRANPELKQALHVHYANNPNGCADFILDWGITIDPRNSGENPPLPTTMPFCLFYRQVEFTFFLNDCVENKVRGLVEKCRDMGASWVALAWSVWRWLYKPGSAIVVGSRKAEYVDNLNDPKCLFDKVRQLITNLPSDVFWPEGFDPKKHLTYMKCVNPANGATIVGESGVIGRGGRSVAAILDEASFLENPEATEAALADNTNCIIYISTPNGVGNVFHRTRLAGKEWKHGQPIKERNRAQVFVMDWTDHPGKTPEWAKNRREYEESRGMLHVYMQEVERSYNASVTGQVIKSEWVEACKDAHKALNWPEATGLRVAGMDVADSDGGDVNAMTVKKGYLVEAVTSMGGESDAAGREFYSLACMIGVDQWRYESTGVGAGARSGATAYRTSLMDSGRKIGALPSIVGWSPSGAVVNPGCDVNTGEHVEPGDKEKMRNKDYFANIRSQAWWRLRQLMHNTYKVRYENAKIPIDDCISLNSDMDCINDLIMELAQPTFSRNENTGKILIDKKPQGTTSPNLADSLMIACSPLRPDLDETMHVGGAGIDSIDYVAVG*\n",
        "\n",
        ">1.104.O._contig_1_3\n",
        "MKLIDIEQYRDDPRLTRTWPPVFVPEYERRVKLLTTMRADPQLLAALKVHYAENPVDFILDMTTSYDPRNAGGELPTTFPFMLFERQVEIVSLFHECVITKNDALVEKCRDAGITMCACAYSVWMWLFMDGVNISFGSRKEMLVDKLGDPGSIFEKLRAMIRMVPIELLPEGFDRRKHFSYMKIINPENGAQIGGEAGDSIGRGSRSTVYWVDEAAHLERPELVEAALGDNTDVRIDISSVNGTGNVFYRRRKAGVEWKPGVELPKGKTRVFIFDWRDHPGKSDEWYERRRAKAEDEGLMHVFAQEVDRDYASAVQGVLIPSKWVKACIDIHKALGWPEPTGSRVASMDVADGGNDRNSMAVKRGYLVEASMCDGGEADLVARQYYAMADMIGADQWRYEINGVGAGAKAAARMYHSNAVEQGRKSVSLPKIIGWSPSHAVVNGACDVNTGELVEPGDKESIRNKDFFTNLRAQAAWKLRQLCHNSYKARYEGADISPDDCIALSSDMEGLEELVTELSQPTYVTNPNTNKILINKTPEGTTSPNRFDGLVINVSPLRPDVDETMHVGGMGADSVEYVAVG*\n",
        "\n",
        ">1.271.B._contig_1_79\n",
        "MKLFNVAEYKNDPRVLDQWPADFTTVFRRRVELLNKVRANPELKQALHVHYANNPNGCADFILDWGITIDPRNSGENPPLPTTMPFCLFYRQVEFTFFLNDCVENKVRGLVEKCRDMGASWVALAWSVWRWLYKPGSAIVVGSRKAEYVDNLNDPKCLFDKVRQLITNLPSDVFWPEGFDPKKHLTYMKCVNPANGATIVGESGVIGRGGRSVAAILDEASFLENPEATEAALADNTNCIIYISTPNGVGNVFHRTRLAGKEWKHGQPIKERNRAQVFVMDWTDHPGKTPEWAKNRREYEESRGMLHVYMQEVERSYNASVTGQVIKSEWVEACKDAHKALNWPEATGLRVAGMDVADSDGGDVNAMTVKKGYLVEAVTSMGGESDAAGREFYSLACMIGVDQWRYESTGVGAGARSGATAYRTSLMDSGRKIGALPSIVGWSPSGAVVNPGCDVNTGEHVEPGDKEKMRNKDYFANIRSQAWWRLRQLMHNTYKVRYENAKIPIDDCISLNSDMDCINDLIMELAQPTFSRNENTGKILIDKKPQGTTSPNLADSLMIACSPLRPDLDETMHVGGAGIDSIDYVAVG*\n",
        "\n",
        ">1.118.B._contig_1_28\n",
        "MKRGIKQYDNDPRVCHTWPPNFTEVYKRRVDLLDTMRSDPLVRAAILTHYENNPVDFILDWATTYDPRKKGDIPKRMPFCLFPRQIELVWFLQDCIDEGESGLIEKCRDAGATFVCAAFSVWLWLFRPDSSTGFGSRKEMLVDRLGDPDSIFQKIRDMINMLPADIFCPVGFVADKHMPSMKIVNPENGAQIAGEAGDNIGRGGRKGIYFKDESAHYERPELIEASLGDNTDVQIDISSVNGTGNVFYRRRKAGVEWKAGVELPKGKTRVFIFDWRDHPGKSEEWYERRRAKAEDEGLLHVFAQEVDRDYASAVRGVLIPSKWVKACIDIHKALGWPEPTGSRVASMDVADGGNDRNSMAVKRGYLVEASMCDGGEADLVARQYYAMSDMIGADQWRYEINGVGAGAKAAARMYHSNAVEQGRKPVSLPKIIGWSPSHAVVNGACDVNTGELVEPGDKESIRNKDFFTNLRAQAAWKLRQLCHNSYKARYEGADISPDDCIALSSDMEGLEELVTELSQPTYVTNPNTNKILINKTPEGTTSPNRFDGLVINVSPLRPDVDETMHVGGMGADSVEYVAVG*\n",
        "\n",
        ">1.200.O._contig_1_17\n",
        "MKLFNVAEYKNDPRVLDQWPADFTTVFRRRVELLNKVRANPELKQALHVHYANNPNGCADFILDWGITIDPRNSGENPPLPTTMPFCLFYRQVEFTFFLNDCVENKVRGLVEKCRDMGASWVALAWSVWRWLYKPGSAIVVGSRKAEYVDNLNDPKCLFDKVRQLITNLPSDVFWPEGFDPKKHLTYMKCVNPANGATIVGESGVIGRGGRSVAAILDEASFLENPEATEAALADNTNCIIYISTPNGVGNVFHRTRLAGKEWKHGQPIKERNRAQVFVMDWTDHPGKTPEWAKNRREYEESRGMLHVYMQEVERSYNASVTGQVIKSEWVEACKDAHKALNWPEATGLRVAGMDVADSDGGDVNAMTVKKGYLVEAVTSMGGESDAAGREFYSLACMIGVDQWRYESTGVGAGARSGATAYRTSLMDSGRKIGALPSIVGWSPSGAVVNPGCDVNTGEHVEPGDKEKMRNKDYFANIRSQAWWRLRQLMHNTYKVRYENAKIPIDDCISLNSDMDCINDLIMELAQPTFSRNENTGKILIDKKPQGTTSPNLADSLMIACSPLRPDLDETMHVGGAGIDSIDYVAVG*\n",
        "\n",
        ">1.281.O._contig_1_17\n",
        "MKLFNVAEYKNDPRVLDQWPADFTTVFRRRVELLNKVRANPELKQALHVHYANNPNGCADFILDWGITIDPRNSGENPPLPTTMPFCLFYRQVEFTFFLNDCVENKVRGLVEKCRDMGASWVALAWSVWRWLYKPGSAIVVGSRKAEYVDNLNDPKCLFDKVRQLITNLPSDVFWPEGFDPKKHLTYMKCVNPANGATIVGESGVIGRGGRSVAAILDEASFLENPEATEAALADNTNCIIYISTPNGVGNVFHRTRLAGKEWKHGQPIKERNRAQVFVMDWTDHPGKTPEWAKNRREYEESRGMLHVYMQEVERSYNASVTGQVIKSEWVEACKDAHKALNWPEATGLRVAGMDVADSDGGDVNAMTVKKGYLVEAVTSMGGESDAAGREFYSLACMIGVDQWRYESTGVGAGARSGATAYRTSLMDSGRKIGALPSIVGWSPSGAVVNPGCDVNTGEHVEPGDKEKMRNKDYFANIRSQAWWRLRQLMHNTYKVRYENAKIPIDDCISLNSDMDCINDLIMELAQPTFSRNENTGKILIDKKPQGTTSPNLADSLMIACSPLRPDLDETMHVGGAGIDSIDYVAVG*\n",
        "\n",
        ">1.012.O._contig_1_73\n",
        "MKRGIKQYDNDPRVCHTWPPNFTEVYKRRVDLLDTMRSDPLVRAAILTHYENNPVDFILDWATTYDPRKKGDIPKRMPFCLFPRQIELVWFLQDCIDEGESGLIEKCRDAGATFVCAAFSVWLWLFRPDSSTGFGSRKEMLVDRLGDPDSIFQKIRDMINMLPADIFCPVGFVADKHMPSMKIVNPENGAQIAGEAGDNIGRGGRKGIYFKDESAHYERPELIEASLGDNTDVQIDISSVNGTGNVFYRRRKAGVEWKAGVELPKGKTRVFIFDWRDHPGKSEEWYERRRAKAEDEGLLHVFAQEVDRDYASAVRGVLIPSKWVKACIDIHKALGWPEPTGSRVASMDVADGGNDRNSMAVKRGYLVEASMCDGGEADLVARQYYAMSDMIGADQWRYEINGVGAGAKAAARMYHSNAVEQGRKPVSLPKIIGWSPSHAVVNGACDVNTGELVEPGDKESIRNKDFFTNLRAQAAWKLRQLCHNSYKARYEGADISPDDCIALSSDMEGLEELVTELSQPTYVTNPNTNKILINKTPEGTTSPNRFDGLVINVSPLRPDVDETMHVGGMGADSVEYVAVG*\n",
        "\n",
        ">1.194.O._contig_1_68\n",
        "MKLFNVAEYKNDPRVLDQWPADFTTVFRRRVELLNKVRANPELKQALHVHYANNPNGCADFILDWGITIDPRNSGENPPLPTTMPFCLFYRQVEFTFFLNDCVENKVRGLVEKCRDMGASWVALAWSVWRWLYKPGSAIVVGSRKAEYVDNLNDPKCLFDKVRQLITNLPSDVFWPEGFDPKKHLTYMKCVNPANGATIVGESGVIGRGGRSVAAILDEASFLENPEATEAALADNTNCIIYISTPNGVGNVFHRTRLAGKEWKHGQPIKERNRAQVFVMDWTDHPGKTPEWAKNRREYEESRGMLHVYMQEVERSYNASVTGQVIKSEWVEACKDAHKALNWPEATGLRVAGMDVADSDGGDVNAMTVKKGYLVEAVTSMGGESDAAGREFYSLACMIGVDQWRYESTGVGAGARSGATAYRTSLMDSGRKIGALPSIVGWSPSGAVVNPGCDVNTGEHVEPGDKEKMRNKDYFANIRSQAWWRLRQLMHNTYKVRYENAKIPIDDCISLNSDMDCINDLIMELAQPTFSRNENTGKILIDKKPQGTTSPNLADSLMIACSPLRPDLDETMHVGGAGIDSIDYVAVG*\n",
        "\n",
        ">1.269.O._contig_1_7\n",
        "MKLFNVAEYKNDPRVLDQWPADFTTVFRRRVELLNKVRANPELKQALHVHYANNPNGCADFILDWGITIDPRNSGENPPLPTTMPFCLFYRQVEFTFFLNDCVENKVRGLVEKCRDMGASWVALAWSVWRWLYKPGSAIVVGSRKAEYVDNLNDPKCLFDKVRQLITNLPSDVFWPEGFDPKKHLTYMKCVNPANGATIVGESGVIGRGGRSVAAILDEASFLENPEATEAALADNTNCIIYISTPNGVGNVFHRTRLAGKEWKHGQPIKERNRAQVFVMDWTDHPGKTPEWAKNRREYEESRGMLHVYMQEVERSYNASVTGQVIKSEWVEACKDAHKALNWPEATGLRVAGMDVADSDGGDVNAMTVKKGYLVEAVTSMGGESDAAGREFYSLACMIGVDQWRYESTGVGAGARSGATAYRTSLMDSGRKIGALPSIVGWSPSGAVVNPGCDVNTGEHVEPGDKEKMRNKDYFANIRSQAWWRLRQLMHNTYKVRYENAKIPIDDCISLNSDMDCINDLIMELAQPTFSRNENTGKILIDKKPQGTTSPNLADSLMIACSPLRPDLDETMHVGGAGIDSIDYVAVG*\n",
        "\n",
        ">1.027.O._contig_1_22\n",
        "MKLFNVAEYKNDPRVLDQWPADFTTVFRRRVELLNKVRANPELKQALHVHYANNPNGCADFILDWGITIDPRNSGENPPLPTTMPFCLFYRQVEFTFFLNDCVENKVRGLVEKCRDMGASWVALAWSVWRWLYKPGSAIVVGSRKAEYVDNLNDPKCLFDKVRQLITNLPSDVFWPEGFDPKKHLTYMKCVNPANGATIVGESGVIGRGGRSVAAILDEASFLENPEATEAALADNTNCIIYISTPNGVGNVFHRTRLAGKEWKHGQPIKERNRAQVFVMDWTDHPGKTPEWAKNRREYEESRGMLHVYMQEVERSYNASVTGQVIKSEWVEACKDAHKALNWPEATGLRVAGMDVADSDGGDVNAMTVKKGYLVEAVTSMGGESDAAGREFYSLACMIGVDQWRYESTGVGAGARSGATAYRTSLMDSGRKIGALPSIVGWSPSGAVVNPGCDVNTGEHVEPGDKEKMRNKDYFANIRSQAWWRLRQLMHNTYKVRYENAKIPIDDCISLNSDMDCINDLIMELAQPTFSRNENTGKILIDKKPQGTTSPNLADSLMIACSPLRPDLDETMHVGGAGIDSIDYVAVG*\n",
        "\n",
        ">1.046.O._contig_1_20\n",
        "MKLIDIEQYRDDPRLTREWPPVFVPEYERRVKLLTAMRTDPQILAALKVHYAENPVDFILDMITSFDPRNAGTELPTTFPFKLFFRQVEIVAMLHECVIHKESALIKKVRDCGATVCACAYAVWMWTFMDGANVILGSRKEMLVDRLGDPGSIFEKVRAMIRLLPPEFQPEGFDEKQHFNYMKIVNPVNGSTITGEAGDNIGRGSRARLVVLDEHAFLDRAENVEAAVGDAADARLDISTVNGMNMFYRRYQAGKEWTQGHDIPKGTIRRMTFSWFDHPAKTQEWYDRRRASAEAAGILHKFAAEVDGDFAASVTGVVIPSKWVQACIDAHKVLGWPEPTGKRIAAMDVADTDSGDPSAMTVKRGYLVESNITDTGESDKVARQWYMLADMIGCREWRYESTGVGAGARSGASSYQRAALDKGRDLTTLPHMINWSPSGAVVKPNCDVSTGLPVEPGDKESIRNKDFYVNIRSQAWWKLRTLCHNTYKARYEGADVDPDECLSFSSDMEGLQDLITEISQPTYMVNDNTGKILIDKNPDGVSSPNRADSLMIAVSPLRPDVDETMHVGGMGADSIEYVAVG*\n",
        "\n",
        ">1.250.O._contig_1_94\n",
        "ELIEASLGDNTDVQIDISSVNGTGNVFYRRRKAGAEWKPGEKIPKGKTRVFIFDWRDHPGKDEDWYERRRQKAEDEGLLHVFAQEVDRDYASAVQGVLIPSKWVKACIDIHKALKWPEPTGSRVASMDVADGGNDRNSMAVKRGYLVEASMCDGGEADLVARQYYAMADMIGADQWRYEINGVGAGAKAAARMYHSNAVEQGRNAAALPKIIGWSPSHAVVNGACDVNTGDLVEPGDKESIRNKDFFTNLRAQAAWKLRQLCHNSYKARYEGADIDPDDCIALPSDMEGLEELVTEMSQPTYVTNPNTNKITINKTPEGTQSPNRFDGLVINVSPLRPDLDETMHVGGAGIDSIDYVAVG*\n",
        "\n",
        ">1.272.O._contig_1_52\n",
        "MKLFNVAEYKNDPRVLDQWPADFTTVFRRRVELLNKVRANPELKQALHVHYANNPNGCADFILDWGITIDPRNSGENPPLPTTMPFCLFYRQVEFTFFLNDCVENKVRGLVEKCRDMGASWVALAWSVWRWLYKPGSAIVVGSRKAEYVDNLNDPKCLFDKVRQLITNLPSDVFWPEGFDPKKHLTYMKCVNPANGATIVGESGVIGRGGRSVAAILDEASFLENPEATEAALADNTNCIIYISTPNGVGNVFHRTRLAGKEWKHGQPIKERNRAQVFVMDWTDHPGKTPEWAKNRREYEESRGMLHVYMQEVERSYNASVTGQVIKSEWVEACKDAHKALNWPEATGLRVAGMDVADSDGGDVNAMTVKKGYLVEAVTSMGGESDAAGREFYSLACMIGVDQWRYESTGVGAGARSGATAYRTSLMDSGRKIGALPSIVGWSPSGAVVNPGCDVNTGEHVEPGDKEKMRNKDYFANIRSQAWWRLRQLMHNTYKVRYENAKIPIDDCISLNSDMDCINDLIMELAQPTFSRNENTGKILIDKKPQGTTSPNLADSLMIACSPLRPDLDETMHVGGAGIDSIDYVAVG*\n",
        "\n",
        ">1.270.B._contig_1_28\n",
        "MKLFNVAEYKNDPRVLDQWPADFTTVFRRRVELLNKVRANPELKQALHVHYANNPNGCADFILDWGITIDPRNSGENPPLPTTMPFCLFYRQVEFTFFLNDCVENKVRGLVEKCRDMGASWVALAWSVWRWLYKPGSAIVVGSRKAEYVDNLNDPKCLFDKVRQLITNLPSDVFWPEGFDPKKHLTYMKCVNPANGATIVGESGVIGRGGRSVAAILDEASFLENPEATEAALADNTNCIIYISTPNGVGNVFHRTRLAGKEWKHGQPIKERNRAQVFVMDWTDHPGKTPEWAKNRREYEESRGMLHVYMQEVERSYNASVTGQVIKSEWVEACKDAHKALNWPEATGLRVAGMDVADSDGGDVNAMTVKKGYLVEAVTSMGGESDAAGREFYSLACMIGVDQWRYESTGVGAGARSGATAYRTSLMDSGRKIGALPSIVGWSPSGAVVNPGCDVNTGEHVEPGDKEKMRNKDYFANIRSQAWWRLRQLMHNTYKVRYENAKIPIDDCISLNSDMDCINDLIMELAQPTFSRNENTGKILIDKKPQGTTSPNLADSLMIACSPLRPDLDETMHVGGAGIDSIDYVAVG*\n",
        "\n",
        ">1.089.O._contig_1_20\n",
        "MKRGIKQYDNDPRVCHTWPPNFTEVYKRRVDLLDTMRSDPLVRAAILTHYENNPVDFILDWATTYDPRKKGDIPKRMPFCLFPRQIELVWFLQDCIDEGESGLIEKCRDAGATFVCAAFSVWLWLFRPDSSTGFGSRKEMLVDRLGDPDSIFQKIRDMINMLPADIFCPVGFVADKHMPSMKIVNPENGAQIAGEAGDNIGRGGRKGIYFKDESAHYERPELIEASLGDNTDVQIDISSVNGTGNVFYRRRKAGVEWKAGVELPKGKTRVFIFDWRDHPGKSEEWYERRRAKAEDEGLLHVFAQEVDRDYASAVRGVLIPSKWVKACIDIHKALGWPEPTGSRVASMDVADGGNDRNSMAVKRGYLVEASMCDGGEADLVARQYYAMSDMIGADQWRYEINGVGAGAKAAARMYHSNAVEQGRKPVSLPKIIGWSPSHAVVNGACDVNTGELVEPGDKESIRNKDFFTNLRAQAAWKLRQLCHNSYKARYEGADISPDDCIALSSDMEGLEELVTELSQPTYVTNPNTNKILINKTPEGTTSPNRFDGLVINVSPLRPDVDETMHVGGMGADSVEYVAVG*\n",
        "\n",
        ">1.088.O._contig_1_7\n",
        "MTSFNVSEYKKDPRVLHTWPAAFTEVFQRRVELLNKVRADHGLKRALHIHYANSPNGCADFILDWGITIDPRNSGENPPMPTTMPFCLFYRQVEFTFFLNDCVENKVRGLVEKCRDMGASWVALAWSVWRWLYKPGSAIVVGSRKAEYVDNLNDPKCLFDKVRQFINNLPPDIFWPEGFEPKKHLTYMKCVNPENGATIVGESGVIGRGGRSVAAILDEASFLENPEATEAALADNTNCIIYISTPNGVGNVFHRTRLAGKEWKQGQKITERNRAQVFVMDWTDHPGKSPEWAKNRREYEESRGMLHVYMQEVERSYNASVTGQVIKAEWVEACKDAHKVLGWSEATGMRIAGMDVADSDGGDVNAMTVKKGYLVEAVTSKGGESDAAGREFYSLACMIGVDQWRYESTGVGAGARSGATACRTTYLDSGRTASSMPSIVGWSPSGAVVNPGCDVNTGELVEYGDKEKIRNKDYFTNARAQAWWRLRQLMHNTYKVRYENADIPLDECLSLNAGMDCINDLILELAQPTFSRNENTGKILIDKKPQGTSSPNLADSLMIAVSPLRPDVDETMHVGGMGADSIEYVAVG*\n",
        "\n",
        ">1.274.O._contig_1_14\n",
        "MKLFNVAEYKNDPRVLDQWPADFTTVFRRRVELLNKVRANPELKQALHVHYANNPNGCADFILDWGITIDPRNSGENPPLPTTMPFCLFYRQVEFTFFLNDCVENKVRGLVEKCRDMGASWVALAWSVWRWLYKPGSAIVVGSRKAEYVDNLNDPKCLFDKVRQLITNLPSDVFWPEGFDPKKHLTYMKCVNPANGATIVGESGVIGRGGRSVAAILDEASFLENPEATEAALADNTNCIIYISTPNGVGNVFHRTRLAGKEWKHGQPIKERNRAQVFVMDWTDHPGKTPEWAKNRREYEESRGMLHVYMQEVERSYNASVTGQVIKSEWVEACKDAHKALNWPEATGLRVAGMDVADSDGGDVNAMTVKKGYLVEAVTSMGGESDAAGREFYSLACMIGVDQWRYESTGVGAGARSGATAYRTSLMDSGRKIGALPSIVGWSPSGAVVNPGCDVNTGEHVEPGDKEKMRNKDYFANIRSQAWWRLRQLMHNTYKVRYENAKIPIDDCISLNSDMDCINDLIMELAQPTFSRNENTGKILIDKKPQGTTSPNLADSLMIACSPLRPDLDETMHVGGAGIDSIDYVAVG*\n",
        "\n",
        ">1.271.A._contig_1_81\n",
        "MKLFNVAEYKNDPRVLDQWPADFTTVFRRRVELLNKVRANPELKQALHVHYANNPNGCADFILDWGITIDPRNSGENPPLPTTMPFCLFYRQVEFTFFLNDCVENKVRGLVEKCRDMGASWVALAWSVWRWLYKPGSAIVVGSRKAEYVDNLNDPKCLFDKVRQLITNLPSDVFWPEGFDPKKHLTYMKCVNPANGATIVGESGVIGRGGRSVAAILDEASFLENPEATEAALADNTNCIIYISTPNGVGNVFHRTRLAGKEWKHGQPIKERNRAQVFVMDWTDHPGKTPEWAKNRREYEESRGMLHVYMQEVERSYNASVTGQVIKSEWVEACKDAHKALNWPEATGLRVAGMDVADSDGGDVNAMTVKKGYLVEAVTSMGGESDAAGREFYSLACMIGVDQWRYESTGVGAGARSGATAYRTSLMDSGRKIGALPSIVGWSPSGAVVNPGCDVNTGEHVEPGDKEKMRNKDYFANIRSQAWWRLRQLMHNTYKVRYENAKIPIDDCISLNSDMDCINDLIMELAQPTFSRNENTGKILIDKKPQGTTSPNLADSLMIACSPLRPDLDETMHVGGAGIDSIDYVAVG*\n",
        "\n",
        ">1.023.O._contig_1_1\n",
        "LFERQVEIVSLFHECVITKNDALVEKCRDAGITMCACAYSVWMWLFMDGVNISFGSRKEMLVDKLGDPGSIFEKLRAMIRMVPIELLPEGFDRRKHFSYMKIINPENGAQIGGEAGDSIGRGSRSTVYWVDEAAHLERPELVEAALGDNTDVRIDISSVNGTGNVFYRRRKAGVEWKPGVELPKGKTRVFIFDWRDHPGKNEEWYERRRAKAEDEGLLHVFAQEVDRDYASAVQGVLIPSKWVKACIDIHKALGWPEPTGSRVASMDVADGGNDRNSMAVKRGYLVEASMCDGGEADLVARQYYAMADMIGADQWRYEINGVGAGAKAAARMYHSNAVEQGRKPVSLPKIIGWSPSHAVVNGACDVNTGELVEPGDKESIRNKDFFTNLRAQAAWKLRQLCHNSYKVRYEGADIPPDDCIALSSDMEGLEELVTELSQPTYVTNPNTNKILINKTPEGTTSPNRFDAVVINVSPLRPDVDETMHVGGMGADSIEYVAVG*\n",
        "\n",
        ">1.171.O._contig_1_79\n",
        "MKLFNVAEYKNDPRVLDQWPADFTTVFRRRVELLNKVRANPELKQALHVHYANNPNGCADFILDWGITIDPRNSGENPPLPTTMPFCLFYRQVEFTFFLNDCVENKVRGLVEKCRDMGASWVALAWSVWRWLYKPGSAIVVGSRKAEYVDNLNDPKCLFDKVRQLITNLPSDVFWPEGFDPKKHLTYMKCVNPANGATIVGESGVIGRGGRSVAAILDEASFLENPEATEAALADNTNCIIYISTPNGVGNVFHRTRLAGKEWKHGQPIKERNRAQVFVMDWTDHPGKTPEWAKNRREYEESRGMLHVYMQEVERSYNASVTGQVIKSEWVEACKDAHKALNWPEATGLRVAGMDVADSDGGDVNAMTVKKGYLVEAVTSMGGESDAAGREFYSLACMIGVDQWRYESTGVGAGARSGATAYRTSLMDSGRKIGALPSIVGWSPSGAVVNPGCDVNTGEHVEPGDKEKMRNKDYFANIRSQAWWRLRQLMHNTYKVRYENAKIPIDDCISLNSDMDCINDLIMELAQPTFSRNENTGKILIDKKPQGTTSPNLADSLMIACSPLRPDLDETMHVGGAGIDSIDYVAVG*\n",
        "\n",
        ">1.277.B._contig_1_59\n",
        "MKLFNVAEYKNDPRVLDQWPADFTTVFRRRVELLNKVRANPELKQALHVHYANNPNGCADFILDWGITIDPRNSGENPPLPTTMPFCLFYRQVEFTFFLNDCVENKVRGLVEKCRDMGASWVALAWSVWRWLYKPGSAIVVGSRKAEYVDNLNDPKCLFDKVRQLITNLPSDVFWPEGFDPKKHLTYMKCVNPANGATIVGESGVIGRGGRSVAAILDEASFLENPEATEAALADNTNCIIYISTPNGVGNVFHRTRLAGKEWKHGQPIKERNRAQVFVMDWTDHPGKTPEWAKNRREYEESRGMLHVYMQEVERSYNASVTGQVIKSEWVEACKDAHKALNWPEATGLRVAGMDVADSDGGDVNAMTVKKGYLVEAVTSMGGESDAAGREFYSLACMIGVDQWRYESTGVGAGARSGATAYRTSLMDSGRKIGALPSIVGWSPSGAVVNPGCDVNTGEHVEPGDKEKMRNKDYFANIRSQAWWRLRQLMHNTYKVRYENAKIPIDDCISLNSDMDCINDLIMELAQPTFSRNENTGKILIDKKPQGTTSPNLADSLMIACSPLRPDLDETMHVGGAGIDSIDYVAVG*\n",
        "\n",
        ">1.103.O._contig_1_91\n",
        "MNYDMKQYENDPRVCHTWPPNFTEVYKRRVELLNAMRSDPVVRAAVMKHYESNPVDFILDWATTYDPRKKGDIPKRMPFCLFPRQIELVWFLEDCINDSESGLIEKCRDAGATFVCAAFSVWLWLFRPDSSTGFGSRKSMLVDTLGDPDSIFQKIRDMINMLPSDMFHPKGWNGDKHMPSMKILNPENGAQITGEGGDNIGRGGRKGVYFKDESAHYERAELIEASLGDNTDVQIDISSVNGIGNVFYRRRKVGVEWKAGEKIPKGKTRVFIFDWRDHPGKNQEWYDLRRQKAEDEGLLHKFAQEVDRDYSSAVIGVLIPPKWVKACIDIHKALGWPEPTGSRVASMDVADGGNDRNSMAVKRGYLVEASMCDGGEADLVARQYYAMADMIGADQWRYEINGVGAGAKAAARMYHSNAVEQGRKPVSLPKIIGWSPSHAVVNGACDVNTGELVEPGDKESIRNKDFFTNLRAQAAWKLRQLCHNSYKVRYEGADISPDDCIALSSDMEGLEELVTELSQPTYVTNPNTNKILINKTPEGTTSPNRFDGLVINVSPLRPDIDETMHVGGMGADSVEYVAVG*\n",
        "\n",
        ">1.022.O._contig_1_15\n",
        "MKLIDLECYRNDSRLNTSWPPNYTPEYSRRVDMINKMRIDPDFLSALKVYYRENPVDFILDWMTTYDPRNDGRTVPKTTPFMLFPRQVEIIAMFHECHIEKESALVEKCRDAGITMCACAYSVWAWCFIPEITIAFGSRKAEYVDKLGDNKTIFEKIRQMIEGLPVEFLPKGFDRKSSFMLNRILNRETGAQITGEGGDSIGRGGRSTLYWVDEAAHLERPELVEAALGDNTDVRIDISSVNGTGNVFYRRRKAGVEWQPGVELPKGKTRVFIFDWRDHPGKSEEWYERRRAKAEDEGLLHVFAQEVDRDYASAVQGVLIPSKWVKACIDIHKALEWPEPTGSRVASMDVADGGNDRNSMAVKRGYLVEASMCDGGEADLVARQYYAMADMIGADQWRYEINGVGAGAKAAARVYHSNAVEQGRKPVSLPKIIGWSPSHAVVNGACDVNTGELVEPGDKESIRNKDFFTNLRAQAAWKLRQLCHNSYKVRYEGADISPDDCIALSSDMEGLEELVTELSQPTYVTNPNTNKILINKTPEGTTSPNRFDGLVINVSPLRPDVDETMHVGGMGADSVEYVAVG*\n",
        "\n",
        ">1.251.O._contig_1_44\n",
        "MKLIDIEQYRDDPRLTREWPPVFVPEYERRVKLLTAMRTDPQLLAALKVYYAENPVDFILDMTTSYDPRNAGGELPTTFPFMLFERQVEIVSLFHECVITKNDALVEKCRDAGITMCACAYSVWMWLFMDGVNISFGSRKEMLVDKLGDPGSIFEKLRAMIRMVPIELLPEGFDRRKHFSYMKIINPENGAQIGGEAGDSIGRGSRSTVYWVDEAAHLERPELVEAALGDNTDVRIDISSVNGTGNVFYRRRKAGVEWKPGVELPKGKTRVFIFDWRDHPGKSDEWYERRRAKAEDEGLLHVFAQEVDRDYASAVQGVLIPSKWVKACIDIHKALGWPEPTGSRVASMDVADGGNDRNSMAVKRGYLVEASMCDGGEADLVARQYYAMADMIGADQWRYEINGVGAGAKAAARMYHSNAVEQGRKPVSLPKIIGWSPSHAVVNGACDVNTGELVEPGDKESIRNKDFFTNLRAQAAWKLRQLCHNSYKVRYEGADISPDDCIALSSDMEGLEELVTELSQPTYVTNPNTNKILINKTPEGTTSPNRFDAVVINVSPLRPDVDETMHVGGMGADSIEHVAVG*\n",
        "\n",
        ">1.268.A._contig_1_27\n",
        "MKLFNVAEYKNDPRVLDQWPADFTTVFRRRVELLNKVRANPELKQALHVHYANNPNGCADFILDWGITIDPRNSGENPPLPTTMPFCLFYRQVEFTFFLNDCVENKVRGLVEKCRDMGASWVALAWSVWRWLYKPGSAIVVGSRKAEYVDNLNDPKCLFDKVRQLITNLPSDVFWPEGFDPKKHLTYMKCVNPANGATIVGESGVIGRGGRSVAAILDEASFLENPEATEAALADNTNCIIYISTPNGVGNVFHRTRLAGKEWKHGQPIKERNRAQVFVMDWTDHPGKTPEWAKNRREYEESRGMLHVYMQEVERSYNASVTGQVIKSEWVEACKDAHKALNWPEATGLRVAGMDVADSDGGDVNAMTVKKGYLVEAVTSMGGESDAAGREFYSLACMIGVDQWRYESTGVGAGARSGATAYRTSLMDSGRKIGALPSIVGWSPSGAVVNPGCDVNTGEHVEPGDKEKMRNKDYFANIRSQAWWRLRQLMHNTYKVRYENAKIPIDDCISLNSDMDCINDLIMELAQPTFSRNENTGKILIDKKPQGTTSPNLADSLMIACSPLRPDLDETMHVGGAGIDSIDYVAVG*\n",
        "\n",
        ">1.024.O._contig_1_56\n",
        "MTSFNVSEYKKDPRVLHTWPAAFTEVFQRRVELLNKVRADHGLKRALHIHYANSPNGCADFILDWGITIDPRNSGENPPMPTTMPFCLFYRQVEFTFFLNDCVENKVRGLVEKCRDMGASWVALAWSVWRWLYKPGSAIVVGSRKAEYVDNLNDPKCLFDKVRQFINNLPPDIFWPEGFEPKKHLTYMKCVNPENGATIVGESGVIGRGGRSVAAILDEASFLENPEATEAALADNTNCIIYISTPNGVGNVFHRTRLAGKEWKQGQKITERNRAQVFVMDWTDHPGKSPEWAKNRREYEESRGMLHVYMQEVERSYNASVTGQVIKAEWVEACKDAHKVLGWPEATGMRIAGMDVADSDGGDVNAMTVKKGYLVEAVTSKGGESDAAGREFYSLACMIGVDQWRYESTGVGAGARSGATACRTTYLDSGRTASSMPSIVGWSPSGAVVNPGCDVNTGELVEYGDKEKIRNKDYFTNARAQAWWRLRQLMHNTYKVRYENADIPLDECLSLNAGMDCINDLILELAQPTFSRNENTGKILIDKKPQGTSSPNLADSLMIAVSPLRPDVDETMHVGGMGADSIEYVAVG*\n",
        "\n",
        ">1.160.O._contig_1_10\n",
        "MKRGIKQYDNDPRVCHTWPPNFTEVYKRRVDLLDTMRSDPLVRAAILTHYENNPVDFILDWATTYDPRKKGDIPKRMPFCLFPRQIELVWFLQDCIDEGESGLIEKCRDAGATFVCAAFSVWLWLFRPDSSTGFGSRKEMLVDRLGDPDSIFQKIRDMINMLPADIFCPVGFVADKHMPSMKIVNPENGAQIAGEAGDNIGRGGRKGIYFKDESAHYERPELIEASLGDNTDVQIDISSVNGTGNVFYRRRKAGVEWKAGVELPKGKTRVFIFDWRDHPGKSEEWYERRRAKAEDEGLLHVFAQEVDRDYASAVRGVLIPSKWVKACIDIHKALGWPEPTGSRVASMDVADGGNDRNSMAVKRGYLVEASMCDGGEADLVARQYYAMSDMIGADQWRYEINGVGAGAKAAARMYHSNAVEQGRKPVSLPKIIGWSPSHAVVNGACDVNTGELVEPGDKESIRNKDFFTNLRAQAAWKLRQLCHNSYKARYEGADISPDDCIALSSDMEGLEELVTELSQPTYVTNPNTNKILINKTPEGTTSPNRFDGLVINVSPLRPDVDETMHVGGMGADSVEYVAVG*\n",
        "\n",
        ">1.118.A._contig_1_52\n",
        "MKRGIKQYDNDPRVCHTWPPNFTEVYKRRVDLLDTMRSDPLVRAAILTHYENNPVDFILDWATTYDPRKKGDIPKRMPFCLFPRQIELVWFLQDCIDEGESGLIEKCRDAGATFVCAAFSVWLWLFRPDSSTGFGSRKEMLVDRLGDPDSIFQKIRDMINMLPADIFCPVGFVADKHMPSMKIVNPENGAQIAGEAGDNIGRGGRKGIYFKDESAHYERPELIEASLGDNTDVQIDISSVNGTGNVFYRRRKAGVEWKAGVELPKGKTRVFIFDWRDHPGKSEEWYERRRAKAEDEGLLHVFAQEVDRDYASAVRGVLIPSKWVKACIDIHKALGWPEPTGSRVASMDVADGGNDRNSMAVKRGYLVEASMCDGGEADLVARQYYAMSDMIGADQWRYEINGVGAGAKAAARMYHSNAVEQGRKPVSLPKIIGWSPSHAVVNGACDVNTGELVEPGDKESIRNKDFFTNLRAQAAWKLRQLCHNSYKARYEGADISPDDCIALSSDMEGLEELVTELSQPTYVTNPNTNKILINKTPEGTTSPNRFDGLVINVSPLRPDVDETMHVGGMGADSVEYVAVG*\n",
        "\n",
        ">1.280.O._contig_1_18\n",
        "MKLFNVAEYKNDPRVLDQWPADFTTVFRRRVELLNKVRANPELKQALHVHYANNPNGCADFILDWGITIDPRNSGENPPLPTTMPFCLFYRQVEFTFFLNDCVENKVRGLVEKCRDMGASWVALAWSVWRWLYKPGSAIVVGSRKAEYVDNLNDPKCLFDKVRQLITNLPSDVFWPEGFDPKKHLTYMKCVNPANGATIVGESGVIGRGGRSVAAILDEASFLENPEATEAALADNTNCIIYISTPNGVGNVFHRTRLAGKEWKHGQPIKERNRAQVFVMDWTDHPGKTPEWAKNRREYEESRGMLHVYMQEVERSYNASVTGQVIKSEWVEACKDAHKALNWPEATGLRVAGMDVADSDGGDVNAMTVKKGYLVEAVTSMGGESDAAGREFYSLACMIGVDQWRYESTGVGAGARSGATAYRTSLMDSGRKIGALPSIVGWSPSGAVVNPGCDVNTGEHVEPGDKEKMRNKDYFANIRSQAWWRLRQLMHNTYKVRYENAKIPIDDCISLNSDMDCINDLIMELAQPTFSRNENTGKILIDKKPQGTTSPNLADSLMIACSPLRPDLDETMHVGGAGIDSIDYVAVG*\n",
        "\n",
        ">1.283.A._contig_1_53\n",
        "MKLFNVAEYKNDPRVLDQWPADFTTVFRRRVELLNKVRANPELKQALHVHYANNPNGCADFILDWGITIDPRNSGENPPLPTTMPFCLFYRQVEFTFFLNDCVENKVRGLVEKCRDMGASWVALAWSVWRWLYKPGSAIVVGSRKAEYVDNLNDPKCLFDKVRQLITNLPSDVFWPEGFDPKKHLTYMKCVNPANGATIVGESGVIGRGGRSVAAILDEASFLENPEATEAALADNTNCIIYISTPNGVGNVFHRTRLAGKEWKHGQPIKERNRAQVFVMDWTDHPGKTPEWAKNRREYEESRGMLHVYMQEVERSYNASVTGQVIKSEWVEACKDAHKVLNWPEATGLRVAGMDVADSDGGDVNAMTVKKGYLVEAVTSMGGESDAAGREFYSLACMIGVGQWRYESTGVGAGARSGATAYRTSLMDSGRKIGALPSIVGWSPSGAVVNPGCDVNTGEHVEPGDKEKMRNKDYFANIRSQAWWRLRQLMHNTYKVRYENAKIPIDDCISLNSDMDCINDLIMELAQPTFSRNENTGKILIDKKPQGTTSPNLADSLMIACSPLRPDLDETMHVGGAGIDSIDYVAVG*\n",
        "\n",
        ">1.283.C._contig_1_60\n",
        "MKLFNVAEYKNDPRVLDQWPADFTTVFRRRVELLNKVRANPELKQALHVHYANNPNGCADFILDWGITIDPRNSGENPPLPTTMPFCLFYRQVEFTFFLNDCVENKVRGLVEKCRDMGASWVALAWSVWRWLYKPGSAIVVGSRKAEYVDNLNDPKCLFDKVRQLITNLPSDVFWPEGFDPKKHLTYMKCVNPANGATIVGESGVIGRGGRSVAAILDEASFLENPEATEAALADNTNCIIYISTPNGVGNVFHRTRLAGKEWKHGQPIKERNRAQVFVMDWTDHPGKTPEWAKNRREYEESRGMLHVYMQEVERSYNASVTGQVIKSEWVEACKDAHKVLNWPEATGLRVAGMDVADSDGGDVNAMTVKKGYLVEAVTSMGGESDAAGREFYSLACMIGVGQWRYESTGVGAGARSGATAYRTSLMDSGRKIGALPSIVGWSPSGAVVNPGCDVNTGEHVEPGDKEKMRNKDYFANIRSQAWWRLRQLMHNTYKVRYENAKIPIDDCISLNSDMDCINDLIMELAQPTFSRNENTGKILIDKKPQGTTSPNLADSLMIACSPLRPDLDETMHVGGAGIDSIDYVAVG*\n",
        "\n",
        ">1.237.A._contig_1_89\n",
        "MKRGIKQYDNDPRVCHTWPPNFTEVYKRRVDLLDTMRSDPLVRAAILTHYENNPVDFILDWATTYDPRKKGDIPKRMPFCLFPRQIELVWFLQDCIDEGESGLIEKCRDAGATFVCAAFSVWLWLFRPDSSTGFGSRKEMLVDRLGDPDSIFQKIRDMINMLPADIFCPVGFVADKHMPSMKIVNPENGAQIAGEAGDNIGRGGRKGIYFKDESAHYERPELIEASLGDNTDVQIDISSVNGTGNVFYRRRKAGVEWKAGVELPKGKTRVFIFDWRDHPGKSEEWYERRRAKAEDEGLLHVFAQEVDRDYASAVRGVLIPSKWVKACIDIHKALGWPEPTGSRVASMDVADGGNDRNSMAVKRGYLVEASMCDGGEADLVARQYYAMSDMIGADQWRYEINGVGAGAKAAARMYHSNAVEQGRKPVSLPKIIGWSPSHAVVNGACDVNTGELVEPGDKESIRNKDFFTNLRAQAAWKLRQLCHNSYKARYEGADISPDDCIALSSDMEGLEELVTELSQPTYVTNPNTNKILINKTPEGTTSPNRFDGLVINVSPLRPDVDETMHVGGMGADSVEYVAVG*\n",
        "\n",
        ">1.270.A._contig_1_84\n",
        "MKLFNVAEYKNDPRVLDQWPADFTTVFRRRVELLNKVRANPELKQALHVHYANNPNGCADFILDWGITIDPRNSGENPPLPTTMPFCLFYRQVEFTFFLNDCVENKVRGLVEKCRDMGASWVALAWSVWRWLYKPGSAIVVGSRKAEYVDNLNDPKCLFDKVRQLITNLPSDVFWPEGFDPKKHLTYMKCVNPANGATIVGESGVIGRGGRSVAAILDEASFLENPEATEAALADNTNCIIYISTPNGVGNVFHRTRLAGKEWKHGQPIKERNRAQVFVMDWTDHPGKTPEWAKNRREYEESRGMLHVYMQEVERSYNASVTGQVIKSEWVEACKDAHKALNWPEATGLRVAGMDVADSDGGDVNAMTVKKGYLVEAVTSMGGESDAAGREFYSLACMIGVDQWRYESTGVGAGARSGATAYRTSLMDSGRKIGALPSIVGWSPSGAVVNPGCDVNTGEHVEPGDKEKMRNKDYFANIRSQAWWRLRQLMHNTYKVRYENAKIPIDDCISLNSDMDCINDLIMELAQPTFSRNENTGKILIDKKPQGTTSPNLADSLMIACSPLRPDLDETMHVGGAGIDSIDYVAVG*\n",
        "\n",
        ">1.098.O._contig_1_46\n",
        "MKRGIKQYDNDPRVCHTWPPNFTEVYKRRVDLLDTMRSDPLVRAAILTHYENNPVDFILDWATTYDPRKKGDIPKRMPFCLFPRQIELVWFLQDCIDEGESGLIEKCRDAGATFVCAAFSVWLWLFRPDSSTGFGSRKEMLVDRLGDPDSIFQKIRDMINMLPADIFCPVGFVADKHMPSMKIVNPENGAQIAGEAGDNIGRGGRKGIYFKDESAHYERPELIEASLGDNTDVQIDISSVNGTGNVFYRRRKAGVEWKAGVELPKGKTRVFIFDWRDHPGKSEEWYERRRAKAEDEGLLHVFAQEVDRDYASAVRGVLIPSKWVKACIDIHKALGWPEPTGSRVASMDVADGGNDRNSMAVKRGYLVEASMCDGGEADLVARQYYAMSDMIGADQWRYEINGVGAGAKAAARMYHSNAVEQGRKPVSLPKIIGWSPSHAVVNGACDVNTGELVEPGDKESIRNKDFFTNLRAQAAWKLRQLCHNSYKARYEGADISPDDCIALSSDMEGLEELVTELSQPTYVTNPNTNKILINKTPEGTTSPNRFDGLVINVSPLRPDVDETMHVGGMGADSVEYVAVG*\n",
        "\n",
        ">1.032.O._contig_1_30\n",
        "MNYDMKQYENDPRVCHTWPPNFTEVYKRRVELLNAMRSDPVVRAAVMKHYESNPVDFILDWATTYDPRKKGDIPKRMPFCLFPRQIELVWFLEDCINDSESGLIEKCRDAGATFVCAAFSVWLWLFRPDSSTGFGSRKSMLVDTLGDPDSIFQKIRDMINMLPSDMFHPKGWNGDKHMPSMKILNPENGAQITGEGGDNIGRGGRKGVYFKDESAHYERAELIEASLGDNTDVQIDISSVNGIGNVFYRRRKVGVEWKAGEKIPKGKTRVFIFDWRDHPGKNQEWYDLRRQKAEDEGLLHKFAQEVDRDYSSAVIGVLIPPKWVKACIDIHKALGWPEPTGSRVASMDVADGGNDRNSMAVKRGYLVEASMCDGGEADLVARQYYAMADMIGADQWRYEINGVGAGAKAAARMYHSNAVEQGRKPVSLPKIIGWSPSHAVVNGACDVNTGELVEPGDKESIRNKDFFTNLRAQAAWKLRQLCHNSYKVRYEGADISPDDCIALSSDMEGLEELVTELSQPTYVTNPNTNKILINKTPEGTTSPNRFDGLVINVSPLRPDIDETMHVGGMGADSVEYVAVG*\n",
        "\n",
        ">1.268.B._contig_1_3\n",
        "MKLFNVAEYKNDPRVLDQWPADFTTVFRRRVELLNKVRANPELKQALHVHYANNPNGCADFILDWGITIDPRNSGENPPLPTTMPFCLFYRQVEFTFFLNDCVENKVRGLVEKCRDMGASWVALAWSVWRWLYKPGSAIVVGSRKAEYVDNLNDPKCLFDKVRQLITNLPSDVFWPEGFDPKKHLTYMKCVNPANGATIVGESGVIGRGGRSVAAILDEASFLENPEATEAALADNTNCIIYISTPNGVGNVFHRTRLAGKEWKHGQPIKERNRAQVFVMDWTDHPGKTPEWAKNRREYEESRGMLHVYMQEVERSYNASVTGQVIKSEWVEACKDAHKALNWPEATGLRVAGMDVADSDGGDVNAMTVKKGYLVEAVTSMGGESDAAGREFYSLACMIGVDQWRYESTGVGAGARSGATAYRTSLMDSGRKIGALPSIVGWSPSGAVVNPGCDVNTGEHVEPGDKEKMRNKDYFANIRSQAWWRLRQLMHNTYKVRYENAKIPIDDCISLNSDMDCINDLIMELAQPTFSRNENTGKILIDKKPQGTTSPNLADSLMIACSPLRPDLDETMHVGGAGIDSIDYVAVG*\n",
        "\n",
        ">1.283.B._contig_1_14\n",
        "MKLFNVAEYKNDPRVLDQWPADFTTVFRRRVELLNKVRANPELKQALHVHYANNPNGCADFILDWGITIDPRNSGENPPLPTTMPFCLFYRQVEFTFFLNDCVENKVRGLVEKCRDMGASWVALAWSVWRWLYKPGSAIVVGSRKAEYVDNLNDPKCLFDKVRQLITNLPSDVFWPEGFDPKKHLTYMKCVNPANGATIVGESGVIGRGGRSVAAILDEASFLENPEATEAALADNTNCIIYISTPNGVGNVFHRTRLAGKEWKHGQPIKERNRAQVFVMDWTDHPGKTPEWAKNRREYEESRGMLHVYMQEVERSYNASVTGQVIKSEWVEACKDAHKVLNWPEATGLRVAGMDVADSDGGDVNAMTVKKGYLVEAVTSMGGESDAAGREFYSLACMIGVGQWRYESTGVGAGARSGATAYRTSLMDSGRKIGALPSIVGWSPSGAVVNPGCDVNTGEHVEPGDKEKMRNKDYFANIRSQAWWRLRQLMHNTYKVRYENAKIPIDDCISLNSDMDCINDLIMELAQPTFSRNENTGKILIDKKPQGTTSPNLADSLMIACSPLRPDLDETMHVGGAGIDSIDYVAVG*\n",
        "\n",
        ">1.285.O._contig_1_14\n",
        "MKLIDIEQYRDDPRLTREWPPVFVPEYERRVKLLTTMRADPQLLTALKVHYAENPVDFILDMITSFDPRNAGTELPTTFPFKLFFRQVEIVAMLHECVIHKESALIKKVRDCGATVCACAYAVWMWTFMDGANVILGSRKEMLVDRLGDPGSIFEKVRAMIRLLPPEFQPDGFDEKQHFNYMKIVNPVNGSTITGEAGDNIGRGSRARLVVLDEHAFLDRAENVEAAVGDAADARLDISTVNGMNMFYRRYQAGKEWTQGHDIPKGTIRRMTFSWFDHPAKTQEWYDRRRASAEAAGILHKFAAEVDGDFAASVTGVVIPSKWVQACIDAHEVLGWPEPTGKRIAAMDVADTDSGDPSAMTVKRGYLVESNITDTGESDKVARQWYMLADMIGCREWRYESTGVGAGARSGASSYQRAKLDNGRDLATLPKIVNWSPSGAVVKPNCDVSTGLPVEPGDKESIRNKDFYVNIRSQAWWKLRTLCHNTYKARYEGADVDPDECLSFSSDMEGLQDLITEISQPTYMVNDNTGKILIDKNPDGVSSPNRADSLMIAVSPLRPDVDETMHVGGMGADSVEYVAVG*\n",
        "\n",
        ">1.282.A._contig_1_77\n",
        "MKLFNVAEYKNDPRVLDQWPADFTTVFRRRVELLNKVRANPELKQALHVHYANNPNGCADFILDWGITIDPRNSGENPPLPTTMPFCLFYRQVEFTFFLNDCVENKVRGLVEKCRDMGASWVALAWSVWRWLYKPGSAIVVGSRKAEYVDNLNDPKCLFDKVRQLITNLPSDVFWPEGFDPKKHLTYMKCVNPANGATIVGESGVIGRGGRSVAAILDEASFLENPEATEAALADNTNCIIYISTPNGVGNVFHRTRLAGKEWKHGQPIKERNRAQVFVMDWTDHPGKTPEWAKNRREYEESRGMLHVYMQEVERSYNASVTGQVIKSEWVEACKDAHKALNWPEATGLRVAGMDVADSDGGDVNAMTVKKGYLVEAVTSMGGESDAAGREFYSLACMIGVDQWRYESTGVGAGARSGATAYRTSLMDSGRKIGALPSIVGWSPSGAVVNPGCDVNTGEHVEPGDKEKMRNKDYFANIRSQAWWRLRQLMHNTYKVRYENAKIPIDDCISLNSDMDCINDLIMELAQPTFSRNENTGKILIDKKPQGTTSPNLADSLMIACSPLRPDLDETMHVGGAGIDSIDYVAVG*\n",
        "\n",
        ">1.033.O._contig_1_23\n",
        "MTSFNVSEYKKDPRVLHTWPAAFTEVFQRRVELLNKVRADHGLKRALHIHYANSPNGCADFILDWGITIDPRNSGENPPMPTTMPFCLFYRQVEFTFFLNDCVENKVRGLVEKCRDMGASWVALAWSVWRWLYKPGSAIVVGSRKAEYVDNLNDPKCLFDKVRQFINNLPPDIFWPEGFEPKKHLTYMKCVNPENGATIVGESGVIGRGGRSVAAILDEASFLENPEATEAALADNTNCIIYISTPNGVGNVFHRTRLAGKEWKQGQKITERNRAQVFVMDWTDHPGKSPEWAKNRREYEESRGMLHVYMQEVERSYNASVTGQVIKAEWVEACKDAHKVLGWPEATGMRIAGMDVADSDGGDVNTMTVKKGYLVEAVTSKGGESDAAGREFYSLACMIGVDQWRYESTGVGAGARSGATACRTTYLDSGRTASSMPSIVGWSPSGAVVNPGCDVNTGELVEYGDKEKIRNKDYFTNARAQAWWRLRQLMHNTYKVRYENADIPLDECLSLNAGMDCINDLILELAQPTFSRNENTGKILIDKKPQGTSSPNLADSLMIAVSPLRPDVDETMHVGGMGADSIEYVAVG*\n",
        "\n"
       ]
      },
      {
       "ename": "IOError",
       "evalue": "[Errno 2] No such file or directory: 'prodprot.vs.lg.terminases.txt'",
       "output_type": "pyerr",
       "traceback": [
        "\u001b[0;31m---------------------------------------------------------------------------\u001b[0m\n\u001b[0;31mIOError\u001b[0m                                   Traceback (most recent call last)",
        "\u001b[0;32m<ipython-input-23-c5ae9b731ff1>\u001b[0m in \u001b[0;36m<module>\u001b[0;34m()\u001b[0m\n\u001b[1;32m      6\u001b[0m \u001b[0;32mfor\u001b[0m \u001b[0mphage\u001b[0m \u001b[0;32min\u001b[0m \u001b[0mphages\u001b[0m\u001b[0;34m:\u001b[0m\u001b[0;34m\u001b[0m\u001b[0m\n\u001b[1;32m      7\u001b[0m     \u001b[0mbest_evalue\u001b[0m\u001b[0;34m=\u001b[0m\u001b[0;36m1\u001b[0m\u001b[0;34m\u001b[0m\u001b[0m\n\u001b[0;32m----> 8\u001b[0;31m     \u001b[0mblast\u001b[0m\u001b[0;34m=\u001b[0m\u001b[0mopen\u001b[0m\u001b[0;34m(\u001b[0m\u001b[0mphage\u001b[0m\u001b[0;34m+\u001b[0m\u001b[0;34m\"prodprot.vs.lg.terminases.txt\"\u001b[0m\u001b[0;34m)\u001b[0m\u001b[0;34m.\u001b[0m\u001b[0mreadlines\u001b[0m\u001b[0;34m(\u001b[0m\u001b[0;34m)\u001b[0m       \u001b[0;31m#open blast file\u001b[0m\u001b[0;34m\u001b[0m\u001b[0m\n\u001b[0m\u001b[1;32m      9\u001b[0m     \u001b[0;32mfor\u001b[0m \u001b[0mline\u001b[0m \u001b[0;32min\u001b[0m \u001b[0mblast\u001b[0m\u001b[0;34m:\u001b[0m\u001b[0;34m\u001b[0m\u001b[0m\n\u001b[1;32m     10\u001b[0m         \u001b[0;32mif\u001b[0m \u001b[0mfloat\u001b[0m\u001b[0;34m(\u001b[0m\u001b[0mline\u001b[0m\u001b[0;34m.\u001b[0m\u001b[0msplit\u001b[0m\u001b[0;34m(\u001b[0m\u001b[0;34m\"\\t\"\u001b[0m\u001b[0;34m)\u001b[0m\u001b[0;34m[\u001b[0m\u001b[0;36m10\u001b[0m\u001b[0;34m]\u001b[0m\u001b[0;34m)\u001b[0m\u001b[0;34m<\u001b[0m\u001b[0mbest_evalue\u001b[0m\u001b[0;34m:\u001b[0m\u001b[0;34m\u001b[0m\u001b[0m\n",
        "\u001b[0;31mIOError\u001b[0m: [Errno 2] No such file or directory: 'prodprot.vs.lg.terminases.txt'"
       ]
      }
     ],
     "prompt_number": 23
    },
    {
     "cell_type": "code",
     "collapsed": false,
     "input": [
      "!python ~/Desktop/ViralFate/HostPhylogeny/extract_best_blast.py \"phages.txt\" \"ITWORKED2.fasta\""
     ],
     "language": "python",
     "metadata": {},
     "outputs": [
      {
       "output_type": "stream",
       "stream": "stdout",
       "text": [
        "contig_1_62\r\n",
        "contig_1_23\r\n",
        "contig_1_18\r\n",
        "contig_1_14\r\n",
        "contig_1_3\r\n",
        "contig_1_3\r\n",
        "contig_1_79\r\n",
        "contig_1_28\r\n",
        "contig_1_17\r\n",
        "contig_1_17\r\n",
        "contig_1_73\r\n",
        "contig_1_68\r\n",
        "contig_1_7\r\n",
        "contig_1_22\r\n",
        "contig_1_20\r\n",
        "contig_1_94\r\n",
        "contig_1_52\r\n",
        "contig_1_28\r\n",
        "contig_1_20\r\n",
        "contig_1_7\r\n",
        "contig_1_14\r\n",
        "contig_1_81\r\n",
        "contig_1_1\r\n",
        "contig_1_79\r\n",
        "contig_1_59\r\n",
        "contig_1_91\r\n",
        "contig_1_15\r\n",
        "contig_1_44\r\n"
       ]
      },
      {
       "output_type": "stream",
       "stream": "stdout",
       "text": [
        "contig_1_27\r\n",
        "contig_1_56\r\n",
        "contig_1_10\r\n",
        "contig_1_52\r\n",
        "contig_1_18\r\n",
        "contig_1_53\r\n",
        "contig_1_60\r\n",
        "contig_1_89\r\n",
        "contig_1_84\r\n",
        "contig_1_46\r\n",
        "contig_1_30\r\n",
        "contig_1_3\r\n",
        "contig_1_14\r\n",
        "contig_1_14\r\n",
        "contig_1_77\r\n",
        "contig_1_23\r\n",
        "blast file for  does not exist\r\n"
       ]
      }
     ],
     "prompt_number": 40
    },
    {
     "cell_type": "markdown",
     "metadata": {},
     "source": [
      "###Note: when prodigal gene calls were compared to a library of small subunit terminases, there were no matches.  \n",
      "###Also of note is that the gene upstream of the large terminase subunit is always in the same orientation.\n",
      "\n",
      "##Next, re-recruit reads onto newly re-arranged contigs"
     ]
    },
    {
     "cell_type": "code",
     "collapsed": false,
     "input": [
      "script=open(\"rearrange_recruitment.slurm\",\"w\")\n",
      "script.write(\"#!/bin/bash\\n#SBATCH -n 16\\n#SBATCH -N 1\\n#SBATCH -o rearrange.out\\n#SBATCH -e rearrange.err\\n#SBATCH -p sched_mit_chisholm\\n\\n\")\n",
      "script.write(\"module add engaging/clc-assembly-cell\\nmodule add engaging/samtools/1.1\\nmodule add engaging/bedtools/2.22.1\\n\\n\")\n",
      "\n",
      "for virus in groupfile:\n",
      "    target_seq=virus+\"s1c1.rearrange.fasta\"\n",
      "    reads=virus+\"*.fastq\"\n",
      "    recruitfile=virus+\"s1c1.rearrange.cas\"\n",
      "    outputfasta=virus+\"final.fasta\"\n",
      "    directed=virus+\"rearrange.\"\n",
      "\n",
      "    script.write(\"clc_mapper -o \"+recruitfile+\" -p fb ss 100 300 -q \"+reads+\" -d \"+target_seq+\" -a local -r ignore \\n\")\n",
      "    script.write(\"clc_extract_consensus -z none -a \"+recruitfile+\" -o \"+outputfasta+\"\\n\")\n",
      "    script.write(\"clc_cas_to_sam -a \"+recruitfile+\" -o \"+directed+\"bam\\n\")\n",
      "    script.write(\"samtools sort \"+directed+\"bam \"+directed+\"sorted\\n\")\n",
      "    script.write(\"samtools index \"+directed+\"sorted.bam\\n\")\n",
      "    script.write(\"bedtools genomecov -ibam \"+directed+\"sorted.bam -d > \"+directed+\"genomecoverage.txt\\n\\n\")\n",
      "\n",
      "script.close()\n",
      "!open rearrange_recruitment.slurm -a textedit"
     ],
     "language": "python",
     "metadata": {},
     "outputs": [],
     "prompt_number": 43
    },
    {
     "cell_type": "code",
     "collapsed": false,
     "input": [
      "!scp rearrange_recruitment.slurm jbrown@eofe4.mit.edu:/nobackup1/jbrown/nahant_phage_reads/group4/\n",
      "!scp *s1c1.rearrange.fasta jbrown@eofe4.mit.edu:/nobackup1/jbrown/nahant_phage_reads/group4/\n",
      "#running on MIT cluster"
     ],
     "language": "python",
     "metadata": {},
     "outputs": [
      {
       "output_type": "stream",
       "stream": "stdout",
       "text": [
        "\r",
        "rearrange_recruitment.slurm                     0%    0     0.0KB/s   --:-- ETA\r",
        "rearrange_recruitment.slurm                   100%   21KB  21.0KB/s   00:00    \r\n"
       ]
      },
      {
       "output_type": "stream",
       "stream": "stdout",
       "text": [
        "\r",
        "1.012.O.s1c1.rearrange.fasta                    0%    0     0.0KB/s   --:-- ETA\r",
        "1.012.O.s1c1.rearrange.fasta                  100%   59KB  58.6KB/s   00:00    \r\n"
       ]
      },
      {
       "output_type": "stream",
       "stream": "stdout",
       "text": [
        "\r",
        "1.022.O.s1c1.rearrange.fasta                    0%    0     0.0KB/s   --:-- ETA\r",
        "1.022.O.s1c1.rearrange.fasta                  100%   61KB  61.0KB/s   00:00    \r\n"
       ]
      },
      {
       "output_type": "stream",
       "stream": "stdout",
       "text": [
        "\r",
        "1.023.O.s1c1.rearrange.fasta                    0%    0     0.0KB/s   --:-- ETA\r",
        "1.023.O.s1c1.rearrange.fasta                  100%   58KB  58.5KB/s   00:00    \r\n"
       ]
      },
      {
       "output_type": "stream",
       "stream": "stdout",
       "text": [
        "\r",
        "1.024.O.s1c1.rearrange.fasta                    0%    0     0.0KB/s   --:-- ETA\r",
        "1.024.O.s1c1.rearrange.fasta                  100%   58KB  57.5KB/s   00:00    \r\n"
       ]
      },
      {
       "output_type": "stream",
       "stream": "stdout",
       "text": [
        "\r",
        "1.027.O.s1c1.rearrange.fasta                    0%    0     0.0KB/s   --:-- ETA\r",
        "1.027.O.s1c1.rearrange.fasta                  100%   58KB  57.9KB/s   00:00    \r\n"
       ]
      },
      {
       "output_type": "stream",
       "stream": "stdout",
       "text": [
        "\r",
        "1.032.O.s1c1.rearrange.fasta                    0%    0     0.0KB/s   --:-- ETA\r",
        "1.032.O.s1c1.rearrange.fasta                  100%   59KB  59.0KB/s   00:00    \r\n"
       ]
      },
      {
       "output_type": "stream",
       "stream": "stdout",
       "text": [
        "\r",
        "1.033.O.s1c1.rearrange.fasta                    0%    0     0.0KB/s   --:-- ETA\r",
        "1.033.O.s1c1.rearrange.fasta                  100%   60KB  59.8KB/s   00:00    \r\n"
       ]
      },
      {
       "output_type": "stream",
       "stream": "stdout",
       "text": [
        "\r",
        "1.046.O.s1c1.rearrange.fasta                    0%    0     0.0KB/s   --:-- ETA\r",
        "1.046.O.s1c1.rearrange.fasta                  100%   61KB  61.1KB/s   00:00    \r\n"
       ]
      },
      {
       "output_type": "stream",
       "stream": "stdout",
       "text": [
        "\r",
        "1.088.O.s1c1.rearrange.fasta                    0%    0     0.0KB/s   --:-- ETA\r",
        "1.088.O.s1c1.rearrange.fasta                  100%   59KB  59.0KB/s   00:00    \r\n"
       ]
      },
      {
       "output_type": "stream",
       "stream": "stdout",
       "text": [
        "\r",
        "1.089.O.s1c1.rearrange.fasta                    0%    0     0.0KB/s   --:-- ETA\r",
        "1.089.O.s1c1.rearrange.fasta                  100%   58KB  58.5KB/s   00:00    \r\n"
       ]
      },
      {
       "output_type": "stream",
       "stream": "stdout",
       "text": [
        "\r",
        "1.098.O.s1c1.rearrange.fasta                    0%    0     0.0KB/s   --:-- ETA\r",
        "1.098.O.s1c1.rearrange.fasta                  100%   58KB  58.5KB/s   00:00    \r\n"
       ]
      },
      {
       "output_type": "stream",
       "stream": "stdout",
       "text": [
        "\r",
        "1.103.O.s1c1.rearrange.fasta                    0%    0     0.0KB/s   --:-- ETA\r",
        "1.103.O.s1c1.rearrange.fasta                  100%   60KB  60.3KB/s   00:00    \r\n"
       ]
      },
      {
       "output_type": "stream",
       "stream": "stdout",
       "text": [
        "\r",
        "1.104.O.s1c1.rearrange.fasta                    0%    0     0.0KB/s   --:-- ETA\r",
        "1.104.O.s1c1.rearrange.fasta                  100%   60KB  59.6KB/s   00:00    \r\n"
       ]
      },
      {
       "output_type": "stream",
       "stream": "stdout",
       "text": [
        "\r",
        "1.118.A.s1c1.rearrange.fasta                    0%    0     0.0KB/s   --:-- ETA\r",
        "1.118.A.s1c1.rearrange.fasta                  100%   59KB  59.1KB/s   00:00    \r\n"
       ]
      },
      {
       "output_type": "stream",
       "stream": "stdout",
       "text": [
        "\r",
        "1.118.B.s1c1.rearrange.fasta                    0%    0     0.0KB/s   --:-- ETA\r",
        "1.118.B.s1c1.rearrange.fasta                  100%   59KB  59.1KB/s   00:00    \r\n"
       ]
      },
      {
       "output_type": "stream",
       "stream": "stdout",
       "text": [
        "\r",
        "1.160.O.s1c1.rearrange.fasta                    0%    0     0.0KB/s   --:-- ETA\r",
        "1.160.O.s1c1.rearrange.fasta                  100%   59KB  59.3KB/s   00:00    \r\n"
       ]
      },
      {
       "output_type": "stream",
       "stream": "stdout",
       "text": [
        "\r",
        "1.171.O.s1c1.rearrange.fasta                    0%    0     0.0KB/s   --:-- ETA\r",
        "1.171.O.s1c1.rearrange.fasta                  100%   59KB  58.8KB/s   00:00    \r\n"
       ]
      },
      {
       "output_type": "stream",
       "stream": "stdout",
       "text": [
        "\r",
        "1.194.O.s1c1.rearrange.fasta                    0%    0     0.0KB/s   --:-- ETA\r",
        "1.194.O.s1c1.rearrange.fasta                  100%   58KB  57.9KB/s   00:00    \r\n"
       ]
      },
      {
       "output_type": "stream",
       "stream": "stdout",
       "text": [
        "\r",
        "1.195.O.s1c1.rearrange.fasta                    0%    0     0.0KB/s   --:-- ETA\r",
        "1.195.O.s1c1.rearrange.fasta                  100%   58KB  58.4KB/s   00:00    \r\n"
       ]
      },
      {
       "output_type": "stream",
       "stream": "stdout",
       "text": [
        "\r",
        "1.196.O.s1c1.rearrange.fasta                    0%    0     0.0KB/s   --:-- ETA\r",
        "1.196.O.s1c1.rearrange.fasta                  100%   58KB  58.0KB/s   00:00    \r\n"
       ]
      },
      {
       "output_type": "stream",
       "stream": "stdout",
       "text": [
        "\r",
        "1.200.O.s1c1.rearrange.fasta                    0%    0     0.0KB/s   --:-- ETA\r",
        "1.200.O.s1c1.rearrange.fasta                  100%   58KB  57.9KB/s   00:00    \r\n"
       ]
      },
      {
       "output_type": "stream",
       "stream": "stdout",
       "text": [
        "\r",
        "1.237.A.s1c1.rearrange.fasta                    0%    0     0.0KB/s   --:-- ETA\r",
        "1.237.A.s1c1.rearrange.fasta                  100%   59KB  58.7KB/s   00:00    \r\n"
       ]
      },
      {
       "output_type": "stream",
       "stream": "stdout",
       "text": [
        "\r",
        "1.237.B.s1c1.rearrange.fasta                    0%    0     0.0KB/s   --:-- ETA\r",
        "1.237.B.s1c1.rearrange.fasta                  100%   59KB  58.8KB/s   00:00    \r\n"
       ]
      },
      {
       "output_type": "stream",
       "stream": "stdout",
       "text": [
        "\r",
        "1.250.O.s1c1.rearrange.fasta                    0%    0     0.0KB/s   --:-- ETA\r",
        "1.250.O.s1c1.rearrange.fasta                  100%   59KB  58.6KB/s   00:00    \r\n"
       ]
      },
      {
       "output_type": "stream",
       "stream": "stdout",
       "text": [
        "\r",
        "1.251.O.s1c1.rearrange.fasta                    0%    0     0.0KB/s   --:-- ETA\r",
        "1.251.O.s1c1.rearrange.fasta                  100%   58KB  58.3KB/s   00:00    \r\n"
       ]
      },
      {
       "output_type": "stream",
       "stream": "stdout",
       "text": [
        "\r",
        "1.267.O.s1c1.rearrange.fasta                    0%    0     0.0KB/s   --:-- ETA\r",
        "1.267.O.s1c1.rearrange.fasta                  100%   58KB  58.0KB/s   00:00    \r\n"
       ]
      },
      {
       "output_type": "stream",
       "stream": "stdout",
       "text": [
        "\r",
        "1.268.A.s1c1.rearrange.fasta                    0%    0     0.0KB/s   --:-- ETA\r",
        "1.268.A.s1c1.rearrange.fasta                  100%   58KB  57.9KB/s   00:00    \r\n"
       ]
      },
      {
       "output_type": "stream",
       "stream": "stdout",
       "text": [
        "\r",
        "1.268.B.s1c1.rearrange.fasta                    0%    0     0.0KB/s   --:-- ETA\r",
        "1.268.B.s1c1.rearrange.fasta                  100%   58KB  57.9KB/s   00:00    \r\n"
       ]
      },
      {
       "output_type": "stream",
       "stream": "stdout",
       "text": [
        "\r",
        "1.269.O.s1c1.rearrange.fasta                    0%    0     0.0KB/s   --:-- ETA\r",
        "1.269.O.s1c1.rearrange.fasta                  100%   58KB  58.4KB/s   00:00    \r\n"
       ]
      },
      {
       "output_type": "stream",
       "stream": "stdout",
       "text": [
        "\r",
        "1.270.A.s1c1.rearrange.fasta                    0%    0     0.0KB/s   --:-- ETA\r",
        "1.270.A.s1c1.rearrange.fasta                  100%   58KB  57.9KB/s   00:00    \r\n"
       ]
      },
      {
       "output_type": "stream",
       "stream": "stdout",
       "text": [
        "\r",
        "1.270.B.s1c1.rearrange.fasta                    0%    0     0.0KB/s   --:-- ETA\r",
        "1.270.B.s1c1.rearrange.fasta                  100%   58KB  57.9KB/s   00:00    \r\n"
       ]
      },
      {
       "output_type": "stream",
       "stream": "stdout",
       "text": [
        "\r",
        "1.271.A.s1c1.rearrange.fasta                    0%    0     0.0KB/s   --:-- ETA\r",
        "1.271.A.s1c1.rearrange.fasta                  100%   58KB  57.9KB/s   00:00    \r\n"
       ]
      },
      {
       "output_type": "stream",
       "stream": "stdout",
       "text": [
        "\r",
        "1.271.B.s1c1.rearrange.fasta                    0%    0     0.0KB/s   --:-- ETA\r",
        "1.271.B.s1c1.rearrange.fasta                  100%   58KB  57.9KB/s   00:00    \r\n"
       ]
      },
      {
       "output_type": "stream",
       "stream": "stdout",
       "text": [
        "\r",
        "1.272.O.s1c1.rearrange.fasta                    0%    0     0.0KB/s   --:-- ETA\r",
        "1.272.O.s1c1.rearrange.fasta                  100%   58KB  57.9KB/s   00:00    \r\n"
       ]
      },
      {
       "output_type": "stream",
       "stream": "stdout",
       "text": [
        "\r",
        "1.274.O.s1c1.rearrange.fasta                    0%    0     0.0KB/s   --:-- ETA\r",
        "1.274.O.s1c1.rearrange.fasta                  100%   58KB  58.0KB/s   00:00    \r\n"
       ]
      },
      {
       "output_type": "stream",
       "stream": "stdout",
       "text": [
        "\r",
        "1.277.A.s1c1.rearrange.fasta                    0%    0     0.0KB/s   --:-- ETA\r",
        "1.277.A.s1c1.rearrange.fasta                  100%   58KB  57.9KB/s   00:00    \r\n"
       ]
      },
      {
       "output_type": "stream",
       "stream": "stdout",
       "text": [
        "\r",
        "1.277.B.s1c1.rearrange.fasta                    0%    0     0.0KB/s   --:-- ETA\r",
        "1.277.B.s1c1.rearrange.fasta                  100%   58KB  58.0KB/s   00:00    \r\n"
       ]
      },
      {
       "output_type": "stream",
       "stream": "stdout",
       "text": [
        "\r",
        "1.280.O.s1c1.rearrange.fasta                    0%    0     0.0KB/s   --:-- ETA\r",
        "1.280.O.s1c1.rearrange.fasta                  100%   58KB  57.9KB/s   00:00    \r\n"
       ]
      },
      {
       "output_type": "stream",
       "stream": "stdout",
       "text": [
        "\r",
        "1.281.O.s1c1.rearrange.fasta                    0%    0     0.0KB/s   --:-- ETA\r",
        "1.281.O.s1c1.rearrange.fasta                  100%   58KB  57.9KB/s   00:00    \r\n"
       ]
      },
      {
       "output_type": "stream",
       "stream": "stdout",
       "text": [
        "\r",
        "1.282.A.s1c1.rearrange.fasta                    0%    0     0.0KB/s   --:-- ETA\r",
        "1.282.A.s1c1.rearrange.fasta                  100%   58KB  58.0KB/s   00:00    \r\n"
       ]
      },
      {
       "output_type": "stream",
       "stream": "stdout",
       "text": [
        "\r",
        "1.283.A.s1c1.rearrange.fasta                    0%    0     0.0KB/s   --:-- ETA\r",
        "1.283.A.s1c1.rearrange.fasta                  100%   58KB  58.1KB/s   00:00    \r\n"
       ]
      },
      {
       "output_type": "stream",
       "stream": "stdout",
       "text": [
        "\r",
        "1.283.B.s1c1.rearrange.fasta                    0%    0     0.0KB/s   --:-- ETA\r",
        "1.283.B.s1c1.rearrange.fasta                  100%   58KB  58.1KB/s   00:00    \r\n"
       ]
      },
      {
       "output_type": "stream",
       "stream": "stdout",
       "text": [
        "\r",
        "1.283.C.s1c1.rearrange.fasta                    0%    0     0.0KB/s   --:-- ETA\r",
        "1.283.C.s1c1.rearrange.fasta                  100%   58KB  58.1KB/s   00:00    \r\n"
       ]
      },
      {
       "output_type": "stream",
       "stream": "stdout",
       "text": [
        "\r",
        "1.285.O.s1c1.rearrange.fasta                    0%    0     0.0KB/s   --:-- ETA\r",
        "1.285.O.s1c1.rearrange.fasta                  100%   58KB  58.1KB/s   00:00    \r\n"
       ]
      }
     ],
     "prompt_number": 45
    },
    {
     "cell_type": "code",
     "collapsed": false,
     "input": [
      "!scp jbrown@eofe4.mit.edu:/nobackup1/jbrown/nahant_phage_reads/group4/*rearrange.genomecoverage* ./final_genomes/"
     ],
     "language": "python",
     "metadata": {},
     "outputs": [
      {
       "output_type": "stream",
       "stream": "stdout",
       "text": [
        "\r",
        "1.012.O.rearrange.genomecoverage.txt            0%    0     0.0KB/s   --:-- ETA"
       ]
      },
      {
       "output_type": "stream",
       "stream": "stdout",
       "text": [
        "\r",
        "1.012.O.rearrange.genomecoverage.txt          100% 1181KB   1.2MB/s   00:01    \r\n"
       ]
      },
      {
       "output_type": "stream",
       "stream": "stdout",
       "text": [
        "\r",
        "1.022.O.rearrange.genomecoverage.txt            0%    0     0.0KB/s   --:-- ETA"
       ]
      },
      {
       "output_type": "stream",
       "stream": "stdout",
       "text": [
        "\r",
        "1.022.O.rearrange.genomecoverage.txt          100% 1148KB   1.1MB/s   00:00    \r\n"
       ]
      },
      {
       "output_type": "stream",
       "stream": "stdout",
       "text": [
        "\r",
        "1.023.O.rearrange.genomecoverage.txt            0%    0     0.0KB/s   --:-- ETA"
       ]
      },
      {
       "output_type": "stream",
       "stream": "stdout",
       "text": [
        "\r",
        "1.023.O.rearrange.genomecoverage.txt          100% 1100KB   1.1MB/s   00:00    \r\n"
       ]
      },
      {
       "output_type": "stream",
       "stream": "stdout",
       "text": [
        "\r",
        "1.024.O.rearrange.genomecoverage.txt            0%    0     0.0KB/s   --:-- ETA"
       ]
      },
      {
       "output_type": "stream",
       "stream": "stdout",
       "text": [
        "\r",
        "1.024.O.rearrange.genomecoverage.txt          100% 1141KB   1.1MB/s   00:01    \r\n"
       ]
      },
      {
       "output_type": "stream",
       "stream": "stdout",
       "text": [
        "\r",
        "1.027.O.rearrange.genomecoverage.txt            0%    0     0.0KB/s   --:-- ETA"
       ]
      },
      {
       "output_type": "stream",
       "stream": "stdout",
       "text": [
        "\r",
        "1.027.O.rearrange.genomecoverage.txt          100% 1089KB   1.1MB/s   00:00    \r\n",
        "\r",
        "1.032.O.rearrange.genomecoverage.txt            0%    0     0.0KB/s   --:-- ETA"
       ]
      },
      {
       "output_type": "stream",
       "stream": "stdout",
       "text": [
        "\r",
        "1.032.O.rearrange.genomecoverage.txt          100% 1177KB   1.2MB/s   00:00    \r\n",
        "\r",
        "1.033.O.rearrange.genomecoverage.txt            0%    0     0.0KB/s   --:-- ETA"
       ]
      },
      {
       "output_type": "stream",
       "stream": "stdout",
       "text": [
        "\r",
        "1.033.O.rearrange.genomecoverage.txt          100% 1188KB   1.2MB/s   00:00    \r\n"
       ]
      },
      {
       "output_type": "stream",
       "stream": "stdout",
       "text": [
        "\r",
        "1.046.O.rearrange.genomecoverage.txt            0%    0     0.0KB/s   --:-- ETA"
       ]
      },
      {
       "output_type": "stream",
       "stream": "stdout",
       "text": [
        "\r",
        "1.046.O.rearrange.genomecoverage.txt          100% 1211KB   1.2MB/s   00:01    \r\n"
       ]
      },
      {
       "output_type": "stream",
       "stream": "stdout",
       "text": [
        "\r",
        "1.088.O.rearrange.genomecoverage.txt            0%    0     0.0KB/s   --:-- ETA"
       ]
      },
      {
       "output_type": "stream",
       "stream": "stdout",
       "text": [
        "\r",
        "1.088.O.rearrange.genomecoverage.txt          100% 1110KB   1.1MB/s   00:00    \r\n"
       ]
      },
      {
       "output_type": "stream",
       "stream": "stdout",
       "text": [
        "\r",
        "1.089.O.rearrange.genomecoverage.txt            0%    0     0.0KB/s   --:-- ETA"
       ]
      },
      {
       "output_type": "stream",
       "stream": "stdout",
       "text": [
        "\r",
        "1.089.O.rearrange.genomecoverage.txt          100% 1089KB   1.1MB/s   00:00    \r\n"
       ]
      },
      {
       "output_type": "stream",
       "stream": "stdout",
       "text": [
        "\r",
        "1.098.O.rearrange.genomecoverage.txt            0%    0     0.0KB/s   --:-- ETA"
       ]
      },
      {
       "output_type": "stream",
       "stream": "stdout",
       "text": [
        "\r",
        "1.098.O.rearrange.genomecoverage.txt          100% 1099KB   1.1MB/s   00:01    \r\n"
       ]
      },
      {
       "output_type": "stream",
       "stream": "stdout",
       "text": [
        "\r",
        "1.103.O.rearrange.genomecoverage.txt            0%    0     0.0KB/s   --:-- ETA"
       ]
      },
      {
       "output_type": "stream",
       "stream": "stdout",
       "text": [
        "\r",
        "1.103.O.rearrange.genomecoverage.txt          100% 1135KB   1.1MB/s   00:00    \r\n"
       ]
      },
      {
       "output_type": "stream",
       "stream": "stdout",
       "text": [
        "\r",
        "1.104.O.rearrange.genomecoverage.txt            0%    0     0.0KB/s   --:-- ETA"
       ]
      },
      {
       "output_type": "stream",
       "stream": "stdout",
       "text": [
        "\r",
        "1.104.O.rearrange.genomecoverage.txt          100% 1116KB   1.1MB/s   00:01    \r\n"
       ]
      },
      {
       "output_type": "stream",
       "stream": "stdout",
       "text": [
        "\r",
        "1.118.A.rearrange.genomecoverage.txt            0%    0     0.0KB/s   --:-- ETA"
       ]
      },
      {
       "output_type": "stream",
       "stream": "stdout",
       "text": [
        "\r",
        "1.118.A.rearrange.genomecoverage.txt          100% 1111KB   1.1MB/s   00:00    \r\n"
       ]
      },
      {
       "output_type": "stream",
       "stream": "stdout",
       "text": [
        "\r",
        "1.118.B.rearrange.genomecoverage.txt            0%    0     0.0KB/s   --:-- ETA"
       ]
      },
      {
       "output_type": "stream",
       "stream": "stdout",
       "text": [
        "\r",
        "1.118.B.rearrange.genomecoverage.txt          100% 1111KB   1.1MB/s   00:00    \r\n"
       ]
      },
      {
       "output_type": "stream",
       "stream": "stdout",
       "text": [
        "\r",
        "1.160.O.rearrange.genomecoverage.txt            0%    0     0.0KB/s   --:-- ETA"
       ]
      },
      {
       "output_type": "stream",
       "stream": "stdout",
       "text": [
        "\r",
        "1.160.O.rearrange.genomecoverage.txt          100% 1116KB   1.1MB/s   00:01    \r\n"
       ]
      },
      {
       "output_type": "stream",
       "stream": "stdout",
       "text": [
        "\r",
        "1.171.O.rearrange.genomecoverage.txt            0%    0     0.0KB/s   --:-- ETA"
       ]
      },
      {
       "output_type": "stream",
       "stream": "stdout",
       "text": [
        "\r",
        "1.171.O.rearrange.genomecoverage.txt          100% 1049KB   1.0MB/s   00:00    \r\n"
       ]
      },
      {
       "output_type": "stream",
       "stream": "stdout",
       "text": [
        "\r",
        "1.194.O.rearrange.genomecoverage.txt            0%    0     0.0KB/s   --:-- ETA"
       ]
      },
      {
       "output_type": "stream",
       "stream": "stdout",
       "text": [
        "\r",
        "1.194.O.rearrange.genomecoverage.txt          100% 1072KB   1.1MB/s   00:01    \r\n"
       ]
      },
      {
       "output_type": "stream",
       "stream": "stdout",
       "text": [
        "\r",
        "1.195.O.rearrange.genomecoverage.txt            0%    0     0.0KB/s   --:-- ETA"
       ]
      },
      {
       "output_type": "stream",
       "stream": "stdout",
       "text": [
        "\r",
        "1.195.O.rearrange.genomecoverage.txt          100% 1079KB   1.1MB/s   00:00    \r\n"
       ]
      },
      {
       "output_type": "stream",
       "stream": "stdout",
       "text": [
        "\r",
        "1.196.O.rearrange.genomecoverage.txt            0%    0     0.0KB/s   --:-- ETA"
       ]
      },
      {
       "output_type": "stream",
       "stream": "stdout",
       "text": [
        "\r",
        "1.196.O.rearrange.genomecoverage.txt          100% 1091KB   1.1MB/s   00:00    \r\n"
       ]
      },
      {
       "output_type": "stream",
       "stream": "stdout",
       "text": [
        "\r",
        "1.200.O.rearrange.genomecoverage.txt            0%    0     0.0KB/s   --:-- ETA"
       ]
      },
      {
       "output_type": "stream",
       "stream": "stdout",
       "text": [
        "\r",
        "1.200.O.rearrange.genomecoverage.txt          100% 1089KB   1.1MB/s   00:01    \r\n"
       ]
      },
      {
       "output_type": "stream",
       "stream": "stdout",
       "text": [
        "\r",
        "1.237.A.rearrange.genomecoverage.txt            0%    0     0.0KB/s   --:-- ETA"
       ]
      },
      {
       "output_type": "stream",
       "stream": "stdout",
       "text": [
        "\r",
        "1.237.A.rearrange.genomecoverage.txt          100% 1050KB   1.0MB/s   00:00    \r\n"
       ]
      },
      {
       "output_type": "stream",
       "stream": "stdout",
       "text": [
        "\r",
        "1.237.B.rearrange.genomecoverage.txt            0%    0     0.0KB/s   --:-- ETA"
       ]
      },
      {
       "output_type": "stream",
       "stream": "stdout",
       "text": [
        "\r",
        "1.237.B.rearrange.genomecoverage.txt          100% 1105KB   1.1MB/s   00:01    \r\n"
       ]
      },
      {
       "output_type": "stream",
       "stream": "stdout",
       "text": [
        "\r",
        "1.250.O.rearrange.genomecoverage.txt            0%    0     0.0KB/s   --:-- ETA"
       ]
      },
      {
       "output_type": "stream",
       "stream": "stdout",
       "text": [
        "\r",
        "1.250.O.rearrange.genomecoverage.txt          100% 1102KB   1.1MB/s   00:00    \r\n"
       ]
      },
      {
       "output_type": "stream",
       "stream": "stdout",
       "text": [
        "\r",
        "1.251.O.rearrange.genomecoverage.txt            0%    0     0.0KB/s   --:-- ETA"
       ]
      },
      {
       "output_type": "stream",
       "stream": "stdout",
       "text": [
        "\r",
        "1.251.O.rearrange.genomecoverage.txt          100% 1096KB   1.1MB/s   00:01    \r\n"
       ]
      },
      {
       "output_type": "stream",
       "stream": "stdout",
       "text": [
        "\r",
        "1.267.O.rearrange.genomecoverage.txt            0%    0     0.0KB/s   --:-- ETA"
       ]
      },
      {
       "output_type": "stream",
       "stream": "stdout",
       "text": [
        "\r",
        "1.267.O.rearrange.genomecoverage.txt          100% 1056KB   1.0MB/s   00:00    \r\n"
       ]
      },
      {
       "output_type": "stream",
       "stream": "stdout",
       "text": [
        "\r",
        "1.268.A.rearrange.genomecoverage.txt            0%    0     0.0KB/s   --:-- ETA"
       ]
      },
      {
       "output_type": "stream",
       "stream": "stdout",
       "text": [
        "\r",
        "1.268.A.rearrange.genomecoverage.txt          100% 1089KB   1.1MB/s   00:00    \r\n"
       ]
      },
      {
       "output_type": "stream",
       "stream": "stdout",
       "text": [
        "\r",
        "1.268.B.rearrange.genomecoverage.txt            0%    0     0.0KB/s   --:-- ETA"
       ]
      },
      {
       "output_type": "stream",
       "stream": "stdout",
       "text": [
        "\r",
        "1.268.B.rearrange.genomecoverage.txt          100% 1089KB   1.1MB/s   00:01    \r\n"
       ]
      },
      {
       "output_type": "stream",
       "stream": "stdout",
       "text": [
        "\r",
        "1.269.O.rearrange.genomecoverage.txt            0%    0     0.0KB/s   --:-- ETA"
       ]
      },
      {
       "output_type": "stream",
       "stream": "stdout",
       "text": [
        "\r",
        "1.269.O.rearrange.genomecoverage.txt          100% 1049KB   1.0MB/s   00:01    \r\n"
       ]
      },
      {
       "output_type": "stream",
       "stream": "stdout",
       "text": [
        "\r",
        "1.270.A.rearrange.genomecoverage.txt            0%    0     0.0KB/s   --:-- ETA"
       ]
      },
      {
       "output_type": "stream",
       "stream": "stdout",
       "text": [
        "\r",
        "1.270.A.rearrange.genomecoverage.txt          100% 1033KB   1.0MB/s   00:00    \r\n"
       ]
      },
      {
       "output_type": "stream",
       "stream": "stdout",
       "text": [
        "\r",
        "1.270.B.rearrange.genomecoverage.txt            0%    0     0.0KB/s   --:-- ETA"
       ]
      },
      {
       "output_type": "stream",
       "stream": "stdout",
       "text": [
        "\r",
        "1.270.B.rearrange.genomecoverage.txt          100% 1031KB   1.0MB/s   00:00    \r\n",
        "\r",
        "1.271.A.rearrange.genomecoverage.txt            0%    0     0.0KB/s   --:-- ETA"
       ]
      },
      {
       "output_type": "stream",
       "stream": "stdout",
       "text": [
        "\r",
        "1.271.A.rearrange.genomecoverage.txt          100% 1089KB   1.1MB/s   00:01    \r\n"
       ]
      },
      {
       "output_type": "stream",
       "stream": "stdout",
       "text": [
        "\r",
        "1.271.B.rearrange.genomecoverage.txt            0%    0     0.0KB/s   --:-- ETA"
       ]
      },
      {
       "output_type": "stream",
       "stream": "stdout",
       "text": [
        "\r",
        "1.271.B.rearrange.genomecoverage.txt          100% 1089KB   1.1MB/s   00:00    \r\n"
       ]
      },
      {
       "output_type": "stream",
       "stream": "stdout",
       "text": [
        "\r",
        "1.272.O.rearrange.genomecoverage.txt            0%    0     0.0KB/s   --:-- ETA"
       ]
      },
      {
       "output_type": "stream",
       "stream": "stdout",
       "text": [
        "\r",
        "1.272.O.rearrange.genomecoverage.txt          100% 1089KB   1.1MB/s   00:00    \r\n",
        "\r",
        "1.274.O.rearrange.genomecoverage.txt            0%    0     0.0KB/s   --:-- ETA"
       ]
      },
      {
       "output_type": "stream",
       "stream": "stdout",
       "text": [
        "\r",
        "1.274.O.rearrange.genomecoverage.txt          100% 1091KB   1.1MB/s   00:00    \r\n"
       ]
      },
      {
       "output_type": "stream",
       "stream": "stdout",
       "text": [
        "\r",
        "1.277.A.rearrange.genomecoverage.txt            0%    0     0.0KB/s   --:-- ETA"
       ]
      },
      {
       "output_type": "stream",
       "stream": "stdout",
       "text": [
        "\r",
        "1.277.A.rearrange.genomecoverage.txt          100% 1089KB   1.1MB/s   00:00    \r\n"
       ]
      },
      {
       "output_type": "stream",
       "stream": "stdout",
       "text": [
        "\r",
        "1.277.B.rearrange.genomecoverage.txt            0%    0     0.0KB/s   --:-- ETA"
       ]
      },
      {
       "output_type": "stream",
       "stream": "stdout",
       "text": [
        "\r",
        "1.277.B.rearrange.genomecoverage.txt          100% 1092KB   1.1MB/s   00:00    \r\n"
       ]
      },
      {
       "output_type": "stream",
       "stream": "stdout",
       "text": [
        "\r",
        "1.280.O.rearrange.genomecoverage.txt            0%    0     0.0KB/s   --:-- ETA"
       ]
      },
      {
       "output_type": "stream",
       "stream": "stdout",
       "text": [
        "\r",
        "1.280.O.rearrange.genomecoverage.txt          100% 1089KB   1.1MB/s   00:00    \r\n"
       ]
      },
      {
       "output_type": "stream",
       "stream": "stdout",
       "text": [
        "\r",
        "1.281.O.rearrange.genomecoverage.txt            0%    0     0.0KB/s   --:-- ETA"
       ]
      },
      {
       "output_type": "stream",
       "stream": "stdout",
       "text": [
        "\r",
        "1.281.O.rearrange.genomecoverage.txt          100% 1036KB   1.0MB/s   00:01    \r\n"
       ]
      },
      {
       "output_type": "stream",
       "stream": "stdout",
       "text": [
        "\r",
        "1.282.A.rearrange.genomecoverage.txt            0%    0     0.0KB/s   --:-- ETA"
       ]
      },
      {
       "output_type": "stream",
       "stream": "stdout",
       "text": [
        "\r",
        "1.282.A.rearrange.genomecoverage.txt          100% 1091KB   1.1MB/s   00:00    \r\n"
       ]
      },
      {
       "output_type": "stream",
       "stream": "stdout",
       "text": [
        "\r",
        "1.283.A.rearrange.genomecoverage.txt            0%    0     0.0KB/s   --:-- ETA"
       ]
      },
      {
       "output_type": "stream",
       "stream": "stdout",
       "text": [
        "\r",
        "1.283.A.rearrange.genomecoverage.txt          100% 1094KB   1.1MB/s   00:01    \r\n"
       ]
      },
      {
       "output_type": "stream",
       "stream": "stdout",
       "text": [
        "\r",
        "1.283.B.rearrange.genomecoverage.txt            0%    0     0.0KB/s   --:-- ETA"
       ]
      },
      {
       "output_type": "stream",
       "stream": "stdout",
       "text": [
        "\r",
        "1.283.B.rearrange.genomecoverage.txt          100% 1094KB   1.1MB/s   00:00    \r\n"
       ]
      },
      {
       "output_type": "stream",
       "stream": "stdout",
       "text": [
        "\r",
        "1.283.C.rearrange.genomecoverage.txt            0%    0     0.0KB/s   --:-- ETA"
       ]
      },
      {
       "output_type": "stream",
       "stream": "stdout",
       "text": [
        "\r",
        "1.283.C.rearrange.genomecoverage.txt          100% 1094KB   1.1MB/s   00:00    \r\n"
       ]
      },
      {
       "output_type": "stream",
       "stream": "stdout",
       "text": [
        "\r",
        "1.285.O.rearrange.genomecoverage.txt            0%    0     0.0KB/s   --:-- ETA"
       ]
      },
      {
       "output_type": "stream",
       "stream": "stdout",
       "text": [
        "\r",
        "1.285.O.rearrange.genomecoverage.txt          100% 1098KB   1.1MB/s   00:01    \r\n"
       ]
      }
     ],
     "prompt_number": 3
    },
    {
     "cell_type": "code",
     "collapsed": false,
     "input": [
      "startpoint"
     ],
     "language": "python",
     "metadata": {},
     "outputs": [
      {
       "metadata": {},
       "output_type": "pyout",
       "prompt_number": 17,
       "text": [
        "[23424,\n",
        " 42589,\n",
        " 49468,\n",
        " 48469,\n",
        " 56032,\n",
        " 58708,\n",
        " 7195,\n",
        " 42564,\n",
        " 47113,\n",
        " 46972,\n",
        " 16117,\n",
        " 10532,\n",
        " 53585,\n",
        " 46840,\n",
        " 48180,\n",
        " 56900,\n",
        " 26233,\n",
        " 36618,\n",
        " 45596,\n",
        " 53351,\n",
        " 48321,\n",
        " 5526,\n",
        " 2591,\n",
        " 6839,\n",
        " 23659,\n",
        " 0,\n",
        " 52205,\n",
        " 31370,\n",
        " 42171,\n",
        " 22903,\n",
        " 55339,\n",
        " 28046,\n",
        " 49498,\n",
        " 20948,\n",
        " 23242,\n",
        " 3269,\n",
        " 3111,\n",
        " 33829,\n",
        " 39478,\n",
        " 57271,\n",
        " 49487,\n",
        " 51657,\n",
        " 7943,\n",
        " 47257]"
       ]
      }
     ],
     "prompt_number": 17
    },
    {
     "cell_type": "code",
     "collapsed": false,
     "input": [
      "%%R -i group4 -i startpoint\n",
      "#create coverage plots for each genome\n",
      "count<-0\n",
      "for (item in group4){\n",
      "    filename<-paste(\"./final_genomes/\",item,\"rearrange.genomecoverage.txt\",sep=\"\")\n",
      "    count<-count+1\n",
      "    coverage<-read.table(filename, sep=\"\\t\")\n",
      "    pdf(paste(item,\"rearrange.coverage.plot.pdf\", sep=\"\"))\n",
      "    with(coverage, plot(V2, V3, type=\"n\",xlab=\"position\",ylab=\"coverage\", main=item))\n",
      "    with(coverage, lines(V2,V3))\n",
      "    points(startpoint[count], mean(coverage$V3), col=\"red\", pch=19, cex=1.5)\n",
      "    dev.off()\n",
      "    \n",
      "}"
     ],
     "language": "python",
     "metadata": {},
     "outputs": [],
     "prompt_number": 38
    },
    {
     "cell_type": "code",
     "collapsed": false,
     "input": [],
     "language": "python",
     "metadata": {},
     "outputs": [],
     "prompt_number": 36
    },
    {
     "cell_type": "code",
     "collapsed": false,
     "input": [
      "!mkdir final_genomes\n",
      "!scp jbrown@eofe4.mit.edu:/nobackup1/jbrown/nahant_phage_reads/group4/*final.fasta ./final_genomes/\n",
      "!scp jbrown@eofe4.mit.edu:/nobackup1/jbrown/nahant_phage_reads/group4/fastq.list.txt ./final_genomes/"
     ],
     "language": "python",
     "metadata": {},
     "outputs": [
      {
       "output_type": "stream",
       "stream": "stdout",
       "text": [
        "\r",
        "fastq.list.txt                                  0%    0     0.0KB/s   --:-- ETA"
       ]
      },
      {
       "output_type": "stream",
       "stream": "stdout",
       "text": [
        "\r",
        "fastq.list.txt                                100% 1286     1.3KB/s   00:00    \r\n"
       ]
      }
     ],
     "prompt_number": 47
    },
    {
     "cell_type": "markdown",
     "metadata": {},
     "source": [
      "###Re-name FASTA files for full phage name"
     ]
    },
    {
     "cell_type": "code",
     "collapsed": false,
     "input": [
      "from pyfaidx import Fasta\n",
      "\n",
      "for element in open(\"./final_genomes/fastq.list.txt\"):\n",
      "    a=element.rstrip(\"\\n\")\n",
      "    v=a.split(\"f\")\n",
      "    name=str(v[0])\n",
      "    b=v[0].split(\"_\")\n",
      "    virfile=\"./final_genomes/\"+b[0]+\"final.fasta\"\n",
      "    f=Fasta(virfile)\n",
      "    sequence=str(f[0])\n",
      "    output=open(\"./final_genomes/\"+name+\"final.fasta\",\"w\")\n",
      "    output.write(\">Vibriophage_\"+name+\"\\n\"+sequence)\n",
      "    output.close()"
     ],
     "language": "python",
     "metadata": {},
     "outputs": [],
     "prompt_number": 52
    },
    {
     "cell_type": "code",
     "collapsed": false,
     "input": [
      "!mv ./final_genomes/*10N*final* ./ToSubmit/"
     ],
     "language": "python",
     "metadata": {},
     "outputs": [
      {
       "output_type": "stream",
       "stream": "stdout",
       "text": [
        "/bin/sh: mdkir: command not found\r\n"
       ]
      }
     ],
     "prompt_number": 55
    },
    {
     "cell_type": "markdown",
     "metadata": {},
     "source": [
      "###Submit to RASTtk for annotation"
     ]
    },
    {
     "cell_type": "code",
     "collapsed": false,
     "input": [
      "import glob\n",
      "\n",
      "os.chdir(\"./ToSubmit\")\n",
      "\n",
      "f1=glob.glob(\"*.fasta\")\n",
      "out=open(\"to_gto.sh\",\"w\")\n",
      "out.write(\"mkdir ToSubmit\\n\\n\")\n",
      "for line in f1:\n",
      "    gto=line.replace(\"final.fasta\",\"\")\n",
      "    name=\"Vibriophage_\"+gto\n",
      "    out.write('rast-create-genome --scientific-name \"Vibriophage '+name+'\" --genetic-code 11 --domain Virus --contigs '+line+' > ./ToSubmit/'+gto+'gto'+\"\\n\\nsleep 5\\n\\n\")\n",
      "out.close()\n",
      "!open to_gto.sh -a textedit"
     ],
     "language": "python",
     "metadata": {},
     "outputs": [],
     "prompt_number": 56
    },
    {
     "cell_type": "code",
     "collapsed": false,
     "input": [
      "rast-process-genome-batch --workflow vir_genomes.workflow2.json ./ToSubmit\n",
      "Submission ID: 287e997c-b35d-41d4-ae8f-6100841f141a\n",
      "rast-query-genome-batch 287e997c-b35d-41d4-ae8f-6100841f141a\n",
      "mkdir RASTtk_annotated\n",
      "rast-download-genome-batch 287e997c-b35d-41d4-ae8f-6100841f141a RASTtk_annotated"
     ],
     "language": "python",
     "metadata": {},
     "outputs": []
    },
    {
     "cell_type": "code",
     "collapsed": false,
     "input": [
      "import glob\n",
      "import os\n",
      "\n",
      "os.chdir(\"/Users/jmb/Desktop/ViralFate/PhageGenomeAssembly/group4/ToSubmit/RASTtk_annotated/\")\n",
      "gtos=glob.glob(\"*gto.gto\")\n",
      "\n",
      "toconvert=open(\"gto_to_gbk.sh\",\"w\")\n",
      "todo=\"\"\n",
      "for line in gtos:\n",
      "    gbk=line.replace(\".gto.gto\",\".gbk\")\n",
      "    todo+=\"rast-export-genome genbank <\"+line+\"> \"+gbk+\"\\n\"+\"sleep 30\\n\"\n",
      "toconvert.write(todo)\n",
      "toconvert.close()\n",
      "!open gto_to_gbk.sh -a textedit"
     ],
     "language": "python",
     "metadata": {},
     "outputs": [],
     "prompt_number": 59
    },
    {
     "cell_type": "code",
     "collapsed": false,
     "input": [
      "pwd"
     ],
     "language": "python",
     "metadata": {},
     "outputs": [
      {
       "metadata": {},
       "output_type": "pyout",
       "prompt_number": 58,
       "text": [
        "u'/Users/jmb/Desktop/ViralFate/PhageGenomeAssembly/group4/ToSubmit/RASTtk_annotated'"
       ]
      }
     ],
     "prompt_number": 58
    },
    {
     "cell_type": "code",
     "collapsed": false,
     "input": [],
     "language": "python",
     "metadata": {},
     "outputs": []
    }
   ],
   "metadata": {}
  }
 ]
}