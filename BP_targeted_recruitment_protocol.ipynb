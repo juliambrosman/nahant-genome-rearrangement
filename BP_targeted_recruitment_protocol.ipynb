{
 "metadata": {
  "name": "",
  "signature": "sha256:d33a256a1476cf166d3dac72951c689de51ab261f58893ad943635b490d8e5d1"
 },
 "nbformat": 3,
 "nbformat_minor": 0,
 "worksheets": [
  {
   "cells": [
    {
     "cell_type": "code",
     "collapsed": false,
     "input": [
      "problem=\"1.158.O.\"\n",
      "target=\"1.175.O.\"\n",
      "\n",
      "target_seq=target+\"recruit2.fasta\"\n",
      "reads=\"../\"+problem+\"_*.fastq\"\n",
      "recruitfile=problem+\"recruitedto.\"+target+\"cas\"\n",
      "recruitfile2=problem+\"directed.cas\"\n",
      "directed=problem+\"directed.\"\n",
      "outputfasta=problem+\"directed.fasta\"\n",
      "\n",
      "script=open(\"tailored_recruitment.slurm\",\"w\")\n",
      "script.write(\"#!/bin/bash\\n#SBATCH -n 16\\n#SBATCH -N 1\\n#SBATCH -o tailored.out\\n#SBATCH -e tailored.err\\n#SBATCH -p sched_mit_chisholm\\n\\n\")\n",
      "script.write(\"module add engaging/clc-assembly-cell\\nmodule add engaging/samtools/1.1\\nmodule add engaging/bedtools/2.22.1\\n\\n\")\n",
      "\n",
      "script.write(\"clc_mapper -o \"+recruitfile+\" -p fb ss 100 300 -q \"+reads+\" -d \"+target_seq+\" -a local -r ignore \\n\")\n",
      "script.write(\"clc_extract_consensus -z none -a \"+recruitfile+\" -o \"+outputfasta+\"\\n\\n\")\n",
      "script.write(\"clc_mapper -o \"+recruitfile2+\" -p fb ss 100 300 -q \"+reads+\" -d \"+outputfasta+\" -a local -r ignore \\n\")\n",
      "script.write(\"clc_cas_to_sam -a \"+recruitfile2+\" -o \"+directed+\"bam\\n\")\n",
      "script.write(\"samtools sort \"+directed+\"bam \"+directed+\"sorted\\n\")\n",
      "script.write(\"samtools index \"+directed+\"sorted.bam\\n\\n\")\n",
      "script.write(\"bedtools genomecov -ibam \"+directed+\"sorted.bam -d > \"+directed+\"genomecoverage.txt\\n\")\n",
      "\n",
      "script.close()\n",
      "!open tailored_recruitment.slurm -a textedit\n",
     ],
     "language": "python",
     "metadata": {},
     "outputs": []
    },
    {
     "cell_type": "code",
     "collapsed": false,
     "input": [
      
     ],
     "language": "python",
     "metadata": {},
     "outputs": []
    },
    {
     "cell_type": "code",
     "collapsed": false,
     "input": [
      "%%R -i problem target\n",
      "\n",
      "filename<-paste(problem, \"directed.\",\"genomecoverage.txt\",sep=\"\")\n",
      "coverage<-read.table(filename, sep=\"\\t\")\n",
      "with(coverage, plot(V2, V3, type=\"l\", col=\"purple4\", cex=2, xlab=\"genome\", ylab=\"coverage\",main=paste(problem, \"directed\", sep=\" \")))\n"
     ],
     "language": "python",
     "metadata": {},
     "outputs": []
    },
    {
     "cell_type": "code",
     "collapsed": false,
     "input": [
      "import os\n",
      "#re-name any directed assemblies before the final steps:\n",
      "\n",
      "for item in grouplist:\n",
      "    if os.path.exists(item+\"directed.fasta\"):\n",
      "        fasta=open(item+\"directed.fasta\").read()\n",
      "        print(item, \" \",item)\n",
      "        outfasta=open(item+\"recruit2.fasta\",\"w\")\n",
      "        outfasta.write(fasta)\n",
      "        outfasta.close()"
     ],
     "language": "python",
     "metadata": {},
     "outputs": []
    }
   ],
   "metadata": {}
  }
 ]
}
