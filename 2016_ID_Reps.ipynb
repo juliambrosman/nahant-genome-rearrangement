{
 "cells": [
  {
   "cell_type": "code",
   "execution_count": 12,
   "metadata": {
    "collapsed": true
   },
   "outputs": [],
   "source": [
    "from __future__ import print_function\n",
    "from __future__ import division\n",
    "import os\n",
    "import os.path as op\n",
    "from collections import defaultdict"
   ]
  },
  {
   "cell_type": "code",
   "execution_count": 2,
   "metadata": {
    "collapsed": true
   },
   "outputs": [],
   "source": [
    "if op.exists(\"2016_scidata\") == False:\n",
    "    os.mkdir(\"2016_scidata\")"
   ]
  },
  {
   "cell_type": "code",
   "execution_count": 3,
   "metadata": {
    "collapsed": false
   },
   "outputs": [
    {
     "name": "stderr",
     "output_type": "stream",
     "text": [
      "//anaconda/lib/python2.7/site-packages/rpy2/robjects/functions.py:106: UserWarning: \n",
      "Attaching package: ‘dplyr’\n",
      "\n",
      "\n",
      "  res = super(Function, self).__call__(*new_args, **new_kwargs)\n",
      "//anaconda/lib/python2.7/site-packages/rpy2/robjects/functions.py:106: UserWarning: The following objects are masked from ‘package:stats’:\n",
      "\n",
      "    filter, lag\n",
      "\n",
      "\n",
      "  res = super(Function, self).__call__(*new_args, **new_kwargs)\n",
      "//anaconda/lib/python2.7/site-packages/rpy2/robjects/functions.py:106: UserWarning: The following objects are masked from ‘package:base’:\n",
      "\n",
      "    intersect, setdiff, setequal, union\n",
      "\n",
      "\n",
      "  res = super(Function, self).__call__(*new_args, **new_kwargs)\n"
     ]
    },
    {
     "data": {
      "text/plain": [
       "array(['dplyr', 'tools', 'stats', 'graphics', 'grDevices', 'utils',\n",
       "       'datasets', 'methods', 'base'], \n",
       "      dtype='|S9')"
      ]
     },
     "execution_count": 3,
     "metadata": {},
     "output_type": "execute_result"
    }
   ],
   "source": [
    "%load_ext rpy2.ipython\n",
    "%R library(dplyr)"
   ]
  },
  {
   "cell_type": "code",
   "execution_count": 8,
   "metadata": {
    "collapsed": false
   },
   "outputs": [
    {
     "data": {
      "text/plain": [
       "[1] 0\n",
       " [1] query        target       pct_id       aln_len      num_mismatch\n",
       " [6] num_gaps     qstart       qstop        tstart       tstop       \n",
       "[11] evalue       bitscore     q_length     t_length     q_phage     \n",
       "[16] t_phage      q_genome_len t_genome_len q_num_orfs   t_num_orfs  \n",
       "[21] q_grp        t_grp       \n",
       "<0 rows> (or 0-length row.names)\n"
      ]
     },
     "metadata": {},
     "output_type": "display_data"
    }
   ],
   "source": [
    "%%R\n",
    "blast<-read.table(\"/Users/jmb/Desktop/ViralFate/phage_v_phage_blast_info.txt\", sep=\"\\t\")\n",
    "phage_grps<-read.table(\"/Users/jmb/Desktop/ViralFate/PhageGenomeAssembly/phage_by_group.txt\")\n",
    "\n",
    "blast %>% filter(pct_id > 95, aln_len/q_length > .75) -> matches\n",
    "print(nrow(matches))\n",
    "print(head(matches))"
   ]
  },
  {
   "cell_type": "code",
   "execution_count": null,
   "metadata": {
    "collapsed": true
   },
   "outputs": [],
   "source": [
    "%%R\n",
    "shared<-group_by(blast, q_phage, t_phage)%>%summarise(.,dist=1-n()/(median(t_num_orfs)))\n",
    "shared$dist[shared$q_phage==shared$t_phage]<-0\n",
    "df <- data.frame(shared)"
   ]
  },
  {
   "cell_type": "code",
   "execution_count": 30,
   "metadata": {
    "collapsed": false
   },
   "outputs": [],
   "source": [
    "%%R\n",
    "df %>% filter(dist <= 0.1, q_phage!=t_phage) -> similar"
   ]
  },
  {
   "cell_type": "code",
   "execution_count": 39,
   "metadata": {
    "collapsed": false
   },
   "outputs": [],
   "source": [
    "%Rpull similar\n",
    "\n",
    "sdict = defaultdict(lambda:[])\n",
    "\n",
    "for i, l in similar.iterrows():\n",
    "    sdict[l.q_phage].append(l.t_phage)\n",
    "\n",
    "    \n",
    "with open(\"./2016_scidata/2016_ID_Reps_similar_phages.txt\", \"w\") as oh:\n",
    "    for s in sdict.keys():\n",
    "        if \"X\" not in s:\n",
    "            sharedlist = [i for i in sdict[s] if \"X\" not in i]\n",
    "            print(s, \", \".join(sharedlist), sep=\"\\t\", file=oh)"
   ]
  },
  {
   "cell_type": "code",
   "execution_count": 36,
   "metadata": {
    "collapsed": false
   },
   "outputs": [
    {
     "name": "stdout",
     "output_type": "stream",
     "text": [
      "154\n"
     ]
    }
   ],
   "source": [
    "print(len(sdict))"
   ]
  },
  {
   "cell_type": "code",
   "execution_count": 33,
   "metadata": {
    "collapsed": false
   },
   "outputs": [
    {
     "data": {
      "text/plain": [
       "['1.027.O.',\n",
       " '1.194.O.',\n",
       " '1.195.O.',\n",
       " '1.196.O.',\n",
       " '1.200.O.',\n",
       " '1.267.O.',\n",
       " '1.268.A.',\n",
       " '1.268.B.',\n",
       " '1.269.O.',\n",
       " '1.270.A.',\n",
       " '1.270.B.',\n",
       " '1.271.A.',\n",
       " '1.271.B.',\n",
       " '1.272.O.',\n",
       " '1.274.O.',\n",
       " '1.277.A.',\n",
       " '1.277.B.',\n",
       " '1.280.O.',\n",
       " '1.281.O.',\n",
       " '1.283.A.',\n",
       " '1.283.B.',\n",
       " '1.283.C.']"
      ]
     },
     "execution_count": 33,
     "metadata": {},
     "output_type": "execute_result"
    }
   ],
   "source": [
    "sdict[\"1.282.A.\"]"
   ]
  },
  {
   "cell_type": "code",
   "execution_count": null,
   "metadata": {
    "collapsed": true
   },
   "outputs": [],
   "source": []
  }
 ],
 "metadata": {
  "kernelspec": {
   "display_name": "Python 2",
   "language": "python",
   "name": "python2"
  },
  "language_info": {
   "codemirror_mode": {
    "name": "ipython",
    "version": 2
   },
   "file_extension": ".py",
   "mimetype": "text/x-python",
   "name": "python",
   "nbconvert_exporter": "python",
   "pygments_lexer": "ipython2",
   "version": "2.7.11"
  }
 },
 "nbformat": 4,
 "nbformat_minor": 0
}
