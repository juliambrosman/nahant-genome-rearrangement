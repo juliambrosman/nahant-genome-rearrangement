{
 "metadata": {
  "name": "",
  "signature": "sha256:71cfd9e49552f907c3523506b6d341f2342029a66b1cab45eb65f36dce10eaa4"
 },
 "nbformat": 3,
 "nbformat_minor": 0,
 "worksheets": [
  {
   "cells": [
    {
     "cell_type": "code",
     "collapsed": false,
     "input": [
      "group=\"group17\""
     ],
     "language": "python",
     "metadata": {},
     "outputs": [],
     "prompt_number": 1
    },
    {
     "cell_type": "code",
     "collapsed": false,
     "input": [
      "import os\n",
      "os.chdir(\"./PhageGenomeAssembly/group17/\")"
     ],
     "language": "python",
     "metadata": {},
     "outputs": [],
     "prompt_number": 5
    },
    {
     "cell_type": "code",
     "collapsed": false,
     "input": [
      "pwd"
     ],
     "language": "python",
     "metadata": {},
     "outputs": [
      {
       "metadata": {},
       "output_type": "pyout",
       "prompt_number": 6,
       "text": [
        "u'/Users/jmb/Desktop/ViralFate/PhageGenomeAssembly/group17'"
       ]
      }
     ],
     "prompt_number": 6
    },
    {
     "cell_type": "code",
     "collapsed": false,
     "input": [
      "import os\n",
      "\n",
      "prelim_groups=open(\"phage_by_group.txt\")\n",
      "phage_grp={}\n",
      "for line in prelim_groups.readlines():\n",
      "    line=line.rstrip(\"\\n\")\n",
      "    vec=line.split(\"\\t\")\n",
      "    phage_grp[vec[0]]=vec[1]\n",
      "groups=list(phage_grp.values())\n",
      "unique=[]\n",
      "for value in groups:\n",
      "    if value not in unique:\n",
      "        unique.append(value)"
     ],
     "language": "python",
     "metadata": {},
     "outputs": [],
     "prompt_number": 37
    },
    {
     "cell_type": "code",
     "collapsed": false,
     "input": [
      "group17=[]\n",
      "for value in phage_grp.keys():\n",
      "    if phage_grp.get(value)=='CNSv2.0:17':\n",
      "        group17.append(value)\n",
      "group17"
     ],
     "language": "python",
     "metadata": {},
     "outputs": [
      {
       "metadata": {},
       "output_type": "pyout",
       "prompt_number": 38,
       "text": [
        "['1.217.O.',\n",
        " '1.219.O.',\n",
        " '1.028.O.',\n",
        " '2.159.B.',\n",
        " '1.202.O.',\n",
        " '1.156.O.',\n",
        " '1.159.O.',\n",
        " '2.159.A.',\n",
        " '1.136.O.',\n",
        " '1.142.O.']"
       ]
      }
     ],
     "prompt_number": 38
    },
    {
     "cell_type": "code",
     "collapsed": false,
     "input": [
      "group=\"group17\""
     ],
     "language": "python",
     "metadata": {},
     "outputs": [],
     "prompt_number": 39
    },
    {
     "cell_type": "code",
     "collapsed": false,
     "input": [],
     "language": "python",
     "metadata": {},
     "outputs": [],
     "prompt_number": 32
    },
    {
     "cell_type": "code",
     "collapsed": false,
     "input": [
      "import os\n",
      "#os.mkdir(group)\n",
      "os.chdir(\"./\"+group)"
     ],
     "language": "python",
     "metadata": {},
     "outputs": [],
     "prompt_number": 40
    },
    {
     "cell_type": "code",
     "collapsed": false,
     "input": [
      "output=open(\"./move_\"+group+\".sh\",\"w\")\n",
      "for line in group17:\n",
      "    output.write(\"mv \"+line+\"*fastq ./\"+group+\"/\\n\")\n",
      "output.close()"
     ],
     "language": "python",
     "metadata": {},
     "outputs": [],
     "prompt_number": 42
    },
    {
     "cell_type": "code",
     "collapsed": false,
     "input": [
      "!scp move_group17.sh jbrown@eofe4.mit.edu:/nobackup1/jbrown/nahant_phage_reads/"
     ],
     "language": "python",
     "metadata": {},
     "outputs": [
      {
       "output_type": "stream",
       "stream": "stdout",
       "text": [
        "\r",
        "move_group17.sh                                 0%    0     0.0KB/s   --:-- ETA\r",
        "move_group17.sh                               100%  290     0.3KB/s   00:00    \r\n"
       ]
      }
     ],
     "prompt_number": 43
    },
    {
     "cell_type": "code",
     "collapsed": false,
     "input": [
      "On the server:\n",
      "ls *fastq>group17_fastqlist.txt"
     ],
     "language": "python",
     "metadata": {},
     "outputs": []
    },
    {
     "cell_type": "code",
     "collapsed": false,
     "input": [
      "!scp jbrown@eofe4.mit.edu:/nobackup1/jbrown/nahant_phage_reads/group17/group17_fastqlist.txt ./"
     ],
     "language": "python",
     "metadata": {},
     "outputs": [
      {
       "output_type": "stream",
       "stream": "stdout",
       "text": [
        "\r",
        "group17_fastqlist.txt                           0%    0     0.0KB/s   --:-- ETA"
       ]
      },
      {
       "output_type": "stream",
       "stream": "stdout",
       "text": [
        "\r",
        "group17_fastqlist.txt                         100%  295     0.3KB/s   00:00    \r\n"
       ]
      }
     ],
     "prompt_number": 44
    },
    {
     "cell_type": "code",
     "collapsed": false,
     "input": [
      "def step1_script(fastq_list):\n",
      "    fastq=open(fastq_list)\n",
      "    program=open(\"step1.sh\",\"a\")\n",
      "    for name in fastq:\n",
      "        vec=name.split(\"_\")\n",
      "        heading=vec[0]\n",
      "        program.write(\"\\n\\n#\"+name+\"\\nclc_assembler -o \"+heading+\"step1.clc.fasta -m 500 -p fb ss 100 300 -q \"+ name+\"\\nclc_mapper -o \"+heading+\"step1.cas -p fb ss 100 300 -q \"+name.replace(\"\\n\",\"\")+\" -d \"+heading+\"step1.clc.fasta -a local -r ignore\\nclc_cas_to_sam -a \"+heading+\"step1.cas -o \"+heading+\"step1.bam\\n\\nsamtools sort \"+heading+\"step1.bam 1.025.O.sorted\\nsamtools index \"+heading+\"sorted.bam\\nbedtools genomecov -ibam \"+heading+\"step1.bam -d >\"+heading+\"step1.genomecoverage.txt\")\n",
      "    program.close()"
     ],
     "language": "python",
     "metadata": {},
     "outputs": [],
     "prompt_number": 45
    },
    {
     "cell_type": "code",
     "collapsed": false,
     "input": [
      "step1_script(group+\"_fastqlist.txt\")"
     ],
     "language": "python",
     "metadata": {},
     "outputs": [],
     "prompt_number": 46
    },
    {
     "cell_type": "raw",
     "metadata": {},
     "source": [
      "#add heading to step1.sh:\n",
      "\n",
      "#!/bin/bash                                                                                                                                                                \n",
      "#SBATCH -n 16                                                                                                                                                              \n",
      "#SBATCH -N 1                                   # minimum number of nodes                                                                                                                            \n",
      "#SBATCH -o step1.out      # File to which STDOUT will be written                                                                                   \n",
      "#SBATCH -e step1.err      # File to which STDERR will be written                                                                                   \n",
      "#SBATCH -p newnodes                # name of partition to use                                                                                                                                  \n",
      "\n",
      "module add engaging/clc-assembly-cell\n",
      "module add engaging/samtools/1.1\n",
      "module add engaging/bedtools/2.22.1\n"
     ]
    },
    {
     "cell_type": "code",
     "collapsed": false,
     "input": [
      "!scp step1.sh jbrown@eofe4.mit.edu:/nobackup1/jbrown/nahant_phage_reads/group17/"
     ],
     "language": "python",
     "metadata": {},
     "outputs": [
      {
       "output_type": "stream",
       "stream": "stdout",
       "text": [
        "\r",
        "step1.sh                                        0%    0     0.0KB/s   --:-- ETA\r",
        "step1.sh                                      100% 5912     5.8KB/s   00:00    \r\n"
       ]
      }
     ],
     "prompt_number": 47
    },
    {
     "cell_type": "raw",
     "metadata": {},
     "source": [
      "#on the server:\n",
      "sbatch step1.sh"
     ]
    },
    {
     "cell_type": "code",
     "collapsed": false,
     "input": [
      "!scp ./Group17.txt jbrown@eofe4.mit.edu:/nobackup1/jbrown/nahant_phage_reads/group17/"
     ],
     "language": "python",
     "metadata": {},
     "outputs": [
      {
       "output_type": "stream",
       "stream": "stdout",
       "text": [
        "\r",
        "Group17.txt                                     0%    0     0.0KB/s   --:-- ETA\r",
        "Group17.txt                                   100%  386     0.4KB/s   00:00    \r\n"
       ]
      }
     ],
     "prompt_number": 8
    },
    {
     "cell_type": "code",
     "collapsed": false,
     "input": [
      "%%R\n",
      "virusnames<-read.table(\"Group17.txt\")\n",
      "alignments<-vector()\n",
      "for (item in virusnames){\n",
      "    #alignments<-c(alignments, paste(item,'step1.genomecoverage.txt',sep=\"\"))\n",
      "    alignments<-c(alignments,as.character(item))\n",
      "    }\n",
      "print(alignments)"
     ],
     "language": "python",
     "metadata": {},
     "outputs": []
    },
    {
     "cell_type": "code",
     "collapsed": false,
     "input": [
      "%%R\n",
      "for (item in alignments){\n",
      "    filename<-paste(item,\"step1.genomecoverage.txt\",sep=\"\")\n",
      "    coverage<-read.table(filename, sep=\"\\t\")\n",
      "    contig1<-filter(coverage, V1==\"contig_1\")\n",
      "    pdf(paste(item,\"coverage.plot.pdf\", sep=\"\"))\n",
      "    with(contig1, plot(V2, V3, type=\"n\",xlab=\"position\",ylab=\"coverage\", main=item))\n",
      "    with(contig1, lines(V2,V3))\n",
      "    dev.off()\n",
      "}\n",
      "dev.off()"
     ],
     "language": "python",
     "metadata": {},
     "outputs": []
    }
   ],
   "metadata": {}
  }
 ]
}