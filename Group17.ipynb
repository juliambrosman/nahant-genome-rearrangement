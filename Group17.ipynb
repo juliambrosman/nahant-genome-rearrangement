{
 "metadata": {
  "name": "",
  "signature": "sha256:6d36d041f43653703a30debdbbbd3e7d49262fbf719ecbc74dbdb5b3dae13b20"
 },
 "nbformat": 3,
 "nbformat_minor": 0,
 "worksheets": [
  {
   "cells": [
    {
     "cell_type": "code",
     "collapsed": false,
     "input": [
      "group=\"group17\""
     ],
     "language": "python",
     "metadata": {},
     "outputs": [],
     "prompt_number": 3
    },
    {
     "cell_type": "code",
     "collapsed": false,
     "input": [
      "import os\n",
      "os.chdir(\"./\"+group)"
     ],
     "language": "python",
     "metadata": {},
     "outputs": [],
     "prompt_number": 4
    },
    {
     "cell_type": "code",
     "collapsed": false,
     "input": [
      "pwd"
     ],
     "language": "python",
     "metadata": {},
     "outputs": [
      {
       "metadata": {},
       "output_type": "pyout",
       "prompt_number": 5,
       "text": [
        "u'/Users/jmb/Desktop/ViralFate/PhageGenomeAssembly/group17'"
       ]
      }
     ],
     "prompt_number": 5
    },
    {
     "cell_type": "code",
     "collapsed": false,
     "input": [
      "import os\n",
      "\n",
      "prelim_groups=open(\"phage_by_group.txt\")\n",
      "phage_grp={}\n",
      "for line in prelim_groups.readlines():\n",
      "    line=line.rstrip(\"\\n\")\n",
      "    vec=line.split(\"\\t\")\n",
      "    phage_grp[vec[0]]=vec[1]\n",
      "groups=list(phage_grp.values())\n",
      "unique=[]\n",
      "for value in groups:\n",
      "    if value not in unique:\n",
      "        unique.append(value)"
     ],
     "language": "python",
     "metadata": {},
     "outputs": [],
     "prompt_number": 21
    },
    {
     "cell_type": "code",
     "collapsed": false,
     "input": [
      "group17=[]\n",
      "for value in phage_grp.keys():\n",
      "    if phage_grp.get(value)=='CNSv2.0:17':\n",
      "        group17.append(value)\n",
      "group17"
     ],
     "language": "python",
     "metadata": {},
     "outputs": [
      {
       "metadata": {},
       "output_type": "pyout",
       "prompt_number": 22,
       "text": [
        "['1.217.O.',\n",
        " '1.219.O.',\n",
        " '1.028.O.',\n",
        " '2.159.B.',\n",
        " '1.202.O.',\n",
        " '1.156.O.',\n",
        " '1.159.O.',\n",
        " '2.159.A.',\n",
        " '1.136.O.',\n",
        " '1.142.O.']"
       ]
      }
     ],
     "prompt_number": 22
    },
    {
     "cell_type": "code",
     "collapsed": false,
     "input": [
      "group=\"group17\""
     ],
     "language": "python",
     "metadata": {},
     "outputs": [],
     "prompt_number": 39
    },
    {
     "cell_type": "code",
     "collapsed": false,
     "input": [
      "%load_ext rmagic"
     ],
     "language": "python",
     "metadata": {},
     "outputs": [],
     "prompt_number": 32
    },
    {
     "cell_type": "code",
     "collapsed": false,
     "input": [
      "import os\n",
      "#os.mkdir(group)\n",
      "os.chdir(\"./\"+group)"
     ],
     "language": "python",
     "metadata": {},
     "outputs": [],
     "prompt_number": 40
    },
    {
     "cell_type": "code",
     "collapsed": false,
     "input": [
      "output=open(\"./move_\"+group+\".sh\",\"w\")\n",
      "for line in group17:\n",
      "    output.write(\"mv \"+line+\"*fastq ./\"+group+\"/\\n\")\n",
      "output.close()"
     ],
     "language": "python",
     "metadata": {},
     "outputs": [],
     "prompt_number": 42
    },
    {
     "cell_type": "code",
     "collapsed": false,
     "input": [
      "!scp move_group17.sh jbrown@eofe4.mit.edu:/nobackup1/jbrown/nahant_phage_reads/"
     ],
     "language": "python",
     "metadata": {},
     "outputs": [
      {
       "output_type": "stream",
       "stream": "stdout",
       "text": [
        "\r",
        "move_group17.sh                                 0%    0     0.0KB/s   --:-- ETA\r",
        "move_group17.sh                               100%  290     0.3KB/s   00:00    \r\n"
       ]
      }
     ],
     "prompt_number": 43
    },
    {
     "cell_type": "code",
     "collapsed": false,
     "input": [
      "On the server:\n",
      "ls *fastq>group17_fastqlist.txt"
     ],
     "language": "python",
     "metadata": {},
     "outputs": []
    },
    {
     "cell_type": "code",
     "collapsed": false,
     "input": [
      "!scp jbrown@eofe4.mit.edu:/nobackup1/jbrown/nahant_phage_reads/group17/group17_fastqlist.txt ./"
     ],
     "language": "python",
     "metadata": {},
     "outputs": [
      {
       "output_type": "stream",
       "stream": "stdout",
       "text": [
        "\r",
        "group17_fastqlist.txt                           0%    0     0.0KB/s   --:-- ETA"
       ]
      },
      {
       "output_type": "stream",
       "stream": "stdout",
       "text": [
        "\r",
        "group17_fastqlist.txt                         100%  295     0.3KB/s   00:00    \r\n"
       ]
      }
     ],
     "prompt_number": 44
    },
    {
     "cell_type": "code",
     "collapsed": false,
     "input": [
      "def step1_script(fastq_list):\n",
      "    fastq=open(fastq_list)\n",
      "    program=open(\"step1.sh\",\"a\")\n",
      "    for name in fastq:\n",
      "        vec=name.split(\"_\")\n",
      "        heading=vec[0]\n",
      "        program.write(\"\\n\\n#\"+name+\"\\nclc_assembler -o \"+heading+\"step1.clc.fasta -m 500 -p fb ss 100 300 -q \"+ name+\"\\nclc_mapper -o \"+heading+\"step1.cas -p fb ss 100 300 -q \"+name.replace(\"\\n\",\"\")+\" -d \"+heading+\"step1.clc.fasta -a local -r ignore\\nclc_cas_to_sam -a \"+heading+\"step1.cas -o \"+heading+\"step1.bam\\n\\nsamtools sort \"+heading+\"step1.bam 1.025.O.sorted\\nsamtools index \"+heading+\"sorted.bam\\nbedtools genomecov -ibam \"+heading+\"step1.bam -d >\"+heading+\"step1.genomecoverage.txt\")\n",
      "    program.close()"
     ],
     "language": "python",
     "metadata": {},
     "outputs": [],
     "prompt_number": 45
    },
    {
     "cell_type": "code",
     "collapsed": false,
     "input": [
      "step1_script(group+\"_fastqlist.txt\")"
     ],
     "language": "python",
     "metadata": {},
     "outputs": [],
     "prompt_number": 46
    },
    {
     "cell_type": "raw",
     "metadata": {},
     "source": [
      "#add heading to step1.sh:\n",
      "\n",
      "#!/bin/bash                                                                                                                                                                \n",
      "#SBATCH -n 16                                                                                                                                                              \n",
      "#SBATCH -N 1                                   # minimum number of nodes                                                                                                                            \n",
      "#SBATCH -o step1.out      # File to which STDOUT will be written                                                                                   \n",
      "#SBATCH -e step1.err      # File to which STDERR will be written                                                                                   \n",
      "#SBATCH -p newnodes                # name of partition to use                                                                                                                                  \n",
      "\n",
      "module add engaging/clc-assembly-cell\n",
      "module add engaging/samtools/1.1\n",
      "module add engaging/bedtools/2.22.1\n"
     ]
    },
    {
     "cell_type": "code",
     "collapsed": false,
     "input": [
      "!scp step1.sh jbrown@eofe4.mit.edu:/nobackup1/jbrown/nahant_phage_reads/group17/"
     ],
     "language": "python",
     "metadata": {},
     "outputs": [
      {
       "output_type": "stream",
       "stream": "stdout",
       "text": [
        "\r",
        "step1.sh                                        0%    0     0.0KB/s   --:-- ETA\r",
        "step1.sh                                      100% 5912     5.8KB/s   00:00    \r\n"
       ]
      }
     ],
     "prompt_number": 47
    },
    {
     "cell_type": "raw",
     "metadata": {},
     "source": [
      "#on the server:\n",
      "sbatch step1.sh"
     ]
    },
    {
     "cell_type": "code",
     "collapsed": false,
     "input": [
      "!scp ./Group17.txt jbrown@eofe4.mit.edu:/nobackup1/jbrown/nahant_phage_reads/group17/"
     ],
     "language": "python",
     "metadata": {},
     "outputs": [
      {
       "output_type": "stream",
       "stream": "stdout",
       "text": [
        "\r",
        "Group17.txt                                     0%    0     0.0KB/s   --:-- ETA\r",
        "Group17.txt                                   100%  386     0.4KB/s   00:00    \r\n"
       ]
      }
     ],
     "prompt_number": 8
    },
    {
     "cell_type": "code",
     "collapsed": false,
     "input": [
      "%%R\n",
      "virusnames<-read.table(\"Group17.txt\")\n",
      "alignments<-vector()\n",
      "for (item in virusnames){\n",
      "    #alignments<-c(alignments, paste(item,'step1.genomecoverage.txt',sep=\"\"))\n",
      "    alignments<-c(alignments,as.character(item))\n",
      "    }\n",
      "print(alignments)"
     ],
     "language": "python",
     "metadata": {},
     "outputs": []
    },
    {
     "cell_type": "code",
     "collapsed": false,
     "input": [
      "%%R\n",
      "for (item in alignments){\n",
      "    filename<-paste(item,\"step1.genomecoverage.txt\",sep=\"\")\n",
      "    coverage<-read.table(filename, sep=\"\\t\")\n",
      "    contig1<-filter(coverage, V1==\"contig_1\")\n",
      "    pdf(paste(item,\"coverage.plot.pdf\", sep=\"\"))\n",
      "    with(contig1, plot(V2, V3, type=\"n\",xlab=\"position\",ylab=\"coverage\", main=item))\n",
      "    with(contig1, lines(V2,V3))\n",
      "    dev.off()\n",
      "}\n",
      "dev.off()"
     ],
     "language": "python",
     "metadata": {},
     "outputs": []
    },
    {
     "cell_type": "code",
     "collapsed": false,
     "input": [
      "pwd"
     ],
     "language": "python",
     "metadata": {},
     "outputs": [
      {
       "metadata": {},
       "output_type": "pyout",
       "prompt_number": 10,
       "text": [
        "u'/Users/jmb/Desktop/ViralFate/PhageGenomeAssembly/group17'"
       ]
      }
     ],
     "prompt_number": 10
    },
    {
     "cell_type": "code",
     "collapsed": false,
     "input": [
      "group=open(\"Group17.txt\")\n",
      "step1c1=open(\"step1.contig1.sh\",\"w\")\n",
      "for line in group:\n",
      "    name=line.rstrip(\"\\n\")\n",
      "    step1c1.write(\"samtools faidx \"+name+\"step1.clc.fasta 'contig_1'>\"+name+\"step1.contig1.fasta\\n\\nclc_mapper -o \"+name+\"step1.contig1.cas -p fb ss 100 300 -q \"+name+\"*.fastq -d \"+name+\"step1.contig1.fasta -a local -r ignore\\n\")\n",
      "    step1c1.write(\"clc_cas_to_sam -a \"+name+\"step1.contig1.cas -o \"+name+\"step1.contig1.bam\\n\\nsamtools sort \"+name+\"step1.contig1.bam \"+name+\"sorted.step1.contig1\\nsamtools index \"+name+\"sorted.step1.contig1.bam\\n\\nbedtools genomecov -ibam \"+name+\"sorted.step1.contig1.bam -d > \"+name+\"step1.contig1.genomecoverage.txt\\n\\n\")\n",
      "step1c1.close()"
     ],
     "language": "python",
     "metadata": {},
     "outputs": [],
     "prompt_number": 12
    },
    {
     "cell_type": "code",
     "collapsed": false,
     "input": [
      "!open step1.contig1.sh -a textedit"
     ],
     "language": "python",
     "metadata": {},
     "outputs": [],
     "prompt_number": 13
    },
    {
     "cell_type": "raw",
     "metadata": {},
     "source": [
      "#!/bin/bash                                                                                                                                                                \n",
      "#SBATCH -n 16                                                                                                                                                              \n",
      "#SBATCH -N 1                                                                                                                    \n",
      "#SBATCH -o step1.contig1.out      # File to which STDOUT will be written                                                                                   \n",
      "#SBATCH -e step1.contig1.err      # File to which STDERR will be written                                                                                   \n",
      "#SBATCH -p newnodes                # name of partition to use      \n",
      "\n",
      "\n",
      "module add engaging/clc-assembly-cell\n",
      "module add engaging/samtools/1.1\n",
      "module add engaging/bedtools/2.22.1"
     ]
    },
    {
     "cell_type": "raw",
     "metadata": {},
     "source": [
      "salloc -N 1 -n 16 -p newnodes --time=1:00:00 --exclusive\n",
      "module load engaging/R/3.1.1\n",
      "R"
     ]
    },
    {
     "cell_type": "code",
     "collapsed": false,
     "input": [
      "%%R \n",
      "virusnames<-read.table(\"Group17.txt\")\n",
      "alignments<-vector()\n",
      "for (item in virusnames){\n",
      "    #alignments<-c(alignments, paste(item,'step1.genomecoverage.txt',sep=\"\"))\n",
      "    alignments<-c(alignments,as.character(item))\n",
      "    }\n",
      "print(alignments)\n",
      "for (item in alignments){\n",
      "    filename<-paste(item,\"step1.contig1.genomecoverage.txt\",sep=\"\")\n",
      "    coverage<-read.table(filename, sep=\"\\t\")\n",
      "    pdf(paste(item,\"step1.contig1.coverage.plot.pdf\", sep=\"\"))\n",
      "    with(coverage, plot(V2, V3, type=\"n\",xlab=\"position\",ylab=\"coverage\", main=item))\n",
      "    with(coverage, lines(V2,V3))\n",
      "    dev.off()\n",
      "}"
     ],
     "language": "python",
     "metadata": {},
     "outputs": []
    },
    {
     "cell_type": "code",
     "collapsed": false,
     "input": [
      "!scp jbrown@eofe4.mit.edu:/nobackup1/jbrown/nahant_phage_reads/group17/*contig1*pdf* ./"
     ],
     "language": "python",
     "metadata": {},
     "outputs": [
      {
       "output_type": "stream",
       "stream": "stdout",
       "text": [
        "\r",
        "1.028.O.step1.contig1.coverage.plot.pdf         0%    0     0.0KB/s   --:-- ETA"
       ]
      },
      {
       "output_type": "stream",
       "stream": "stdout",
       "text": [
        "\r",
        "1.028.O.step1.contig1.coverage.plot.pdf       100%   97KB  96.6KB/s   00:00    \r\n",
        "\r",
        "1.136.O.step1.contig1.coverage.plot.pdf         0%    0     0.0KB/s   --:-- ETA"
       ]
      },
      {
       "output_type": "stream",
       "stream": "stdout",
       "text": [
        "\r",
        "1.136.O.step1.contig1.coverage.plot.pdf       100%  105KB 104.9KB/s   00:00    \r\n",
        "\r",
        "1.142.O.step1.contig1.coverage.plot.pdf         0%    0     0.0KB/s   --:-- ETA"
       ]
      },
      {
       "output_type": "stream",
       "stream": "stdout",
       "text": [
        "\r",
        "1.142.O.step1.contig1.coverage.plot.pdf       100%  126KB 125.9KB/s   00:00    \r\n"
       ]
      },
      {
       "output_type": "stream",
       "stream": "stdout",
       "text": [
        "\r",
        "1.156.O.step1.contig1.coverage.plot.pdf         0%    0     0.0KB/s   --:-- ETA"
       ]
      },
      {
       "output_type": "stream",
       "stream": "stdout",
       "text": [
        "\r",
        "1.156.O.step1.contig1.coverage.plot.pdf       100%  113KB 113.4KB/s   00:00    \r\n",
        "\r",
        "1.159.O.step1.contig1.coverage.plot.pdf         0%    0     0.0KB/s   --:-- ETA"
       ]
      },
      {
       "output_type": "stream",
       "stream": "stdout",
       "text": [
        "\r",
        "1.159.O.step1.contig1.coverage.plot.pdf       100%  127KB 126.8KB/s   00:00    \r\n",
        "\r",
        "1.202.O.step1.contig1.coverage.plot.pdf         0%    0     0.0KB/s   --:-- ETA"
       ]
      },
      {
       "output_type": "stream",
       "stream": "stdout",
       "text": [
        "\r",
        "1.202.O.step1.contig1.coverage.plot.pdf       100%  137KB 136.7KB/s   00:01    \r\n"
       ]
      },
      {
       "output_type": "stream",
       "stream": "stdout",
       "text": [
        "\r",
        "1.217.O.step1.contig1.coverage.plot.pdf         0%    0     0.0KB/s   --:-- ETA"
       ]
      },
      {
       "output_type": "stream",
       "stream": "stdout",
       "text": [
        "\r",
        "1.217.O.step1.contig1.coverage.plot.pdf       100%  113KB 113.1KB/s   00:00    \r\n",
        "\r",
        "1.219.O.step1.contig1.coverage.plot.pdf         0%    0     0.0KB/s   --:-- ETA"
       ]
      },
      {
       "output_type": "stream",
       "stream": "stdout",
       "text": [
        "\r",
        "1.219.O.step1.contig1.coverage.plot.pdf       100%  124KB 124.5KB/s   00:00    \r\n",
        "\r",
        "2.159.A.step1.contig1.coverage.plot.pdf         0%    0     0.0KB/s   --:-- ETA"
       ]
      },
      {
       "output_type": "stream",
       "stream": "stdout",
       "text": [
        "\r",
        "2.159.A.step1.contig1.coverage.plot.pdf       100%  132KB 131.5KB/s   00:00    \r\n",
        "\r",
        "2.159.B.step1.contig1.coverage.plot.pdf         0%    0     0.0KB/s   --:-- ETA"
       ]
      },
      {
       "output_type": "stream",
       "stream": "stdout",
       "text": [
        "\r",
        "2.159.B.step1.contig1.coverage.plot.pdf       100%  126KB 125.7KB/s   00:00    \r\n"
       ]
      }
     ],
     "prompt_number": 14
    },
    {
     "cell_type": "markdown",
     "metadata": {},
     "source": [
      "##Orientation check"
     ]
    },
    {
     "cell_type": "code",
     "collapsed": false,
     "input": [
      "from pyfaidx import Fasta\n",
      "from Bio.Seq import Seq"
     ],
     "language": "python",
     "metadata": {},
     "outputs": [],
     "prompt_number": 28
    },
    {
     "cell_type": "code",
     "collapsed": false,
     "input": [
      "groupfile=group17\n",
      "os.chdir(\"./group17\")\n",
      "blast_commands=open(\"blast_commands.sh\",\"w\")\n",
      "for line in groupfile:\n",
      "    name=line.rstrip(\"\\n\")\n",
      "    inputfasta=name+\"step1.contig1.fasta\"\n",
      "    blastoutputname=name+\"vs.terminases.txt\"\n",
      "    blastcommand=\"blastx -db /nobackup1/jbrown/blast_db/NCBI_phage_terminases_20150414.fasta -query \"+inputfasta+\" -num_descriptions 1 -outfmt 6 -out \"+blastoutputname\n",
      "    blast_commands.write(blastcommand+\"\\n\")\n",
      "blast_commands.close()\n",
      "!open blast_commands.sh -a textedit"
     ],
     "language": "python",
     "metadata": {},
     "outputs": [],
     "prompt_number": 24
    },
    {
     "cell_type": "code",
     "collapsed": false,
     "input": [
      "#!/bin/bash                                                                                                                                                                \n",
      "#SBATCH -n 16                                                                                                                                                              \n",
      "#SBATCH -N 1                                                                                                                    \n",
      "#SBATCH -o terminase_blast.out      # File to which STDOUT will be written                                                                                   \n",
      "#SBATCH -e terminase_blast.err      # File to which STDERR will be written                                                                                   \n",
      "#SBATCH -p newnodes                # name of partition to use      \n",
      "\n",
      "module add engaging/ncbi-blast/2.2.30+\n"
     ],
     "language": "python",
     "metadata": {},
     "outputs": []
    },
    {
     "cell_type": "code",
     "collapsed": false,
     "input": [
      "!scp blast_commands.sh jbrown@eofe4.mit.edu:/nobackup1/jbrown/nahant_phage_reads/group17/"
     ],
     "language": "python",
     "metadata": {},
     "outputs": [
      {
       "output_type": "stream",
       "stream": "stdout",
       "text": [
        "\r",
        "blast_commands.sh                               0%    0     0.0KB/s   --:-- ETA\r",
        "blast_commands.sh                             100% 2608     2.6KB/s   00:00    \r\n"
       ]
      }
     ],
     "prompt_number": 25
    },
    {
     "cell_type": "code",
     "collapsed": false,
     "input": [
      "!scp jbrown@eofe4.mit.edu:/nobackup1/jbrown/nahant_phage_reads/group17/*vs* ./"
     ],
     "language": "python",
     "metadata": {},
     "outputs": [
      {
       "output_type": "stream",
       "stream": "stdout",
       "text": [
        "\r",
        "1.028.O.vs.terminases.txt                       0%    0     0.0KB/s   --:-- ETA"
       ]
      },
      {
       "output_type": "stream",
       "stream": "stdout",
       "text": [
        "\r",
        "1.028.O.vs.terminases.txt                     100% 7973     7.8KB/s   00:00    \r\n",
        "\r",
        "1.136.O.vs.terminases.txt                       0%    0     0.0KB/s   --:-- ETA"
       ]
      },
      {
       "output_type": "stream",
       "stream": "stdout",
       "text": [
        "\r",
        "1.136.O.vs.terminases.txt                     100% 8232     8.0KB/s   00:00    \r\n",
        "\r",
        "1.142.O.vs.terminases.txt                       0%    0     0.0KB/s   --:-- ETA\r",
        "1.142.O.vs.terminases.txt                     100% 8232     8.0KB/s   00:00    \r\n"
       ]
      },
      {
       "output_type": "stream",
       "stream": "stdout",
       "text": [
        "\r",
        "1.156.O.vs.terminases.txt                       0%    0     0.0KB/s   --:-- ETA\r",
        "1.156.O.vs.terminases.txt                     100% 8232     8.0KB/s   00:00    \r\n"
       ]
      },
      {
       "output_type": "stream",
       "stream": "stdout",
       "text": [
        "\r",
        "1.159.O.vs.terminases.txt                       0%    0     0.0KB/s   --:-- ETA\r",
        "1.159.O.vs.terminases.txt                     100% 8232     8.0KB/s   00:00    \r\n"
       ]
      },
      {
       "output_type": "stream",
       "stream": "stdout",
       "text": [
        "\r",
        "1.202.O.vs.terminases.txt                       0%    0     0.0KB/s   --:-- ETA"
       ]
      },
      {
       "output_type": "stream",
       "stream": "stdout",
       "text": [
        "\r",
        "1.202.O.vs.terminases.txt                     100%   42KB  41.9KB/s   00:00    \r\n"
       ]
      },
      {
       "output_type": "stream",
       "stream": "stdout",
       "text": [
        "\r",
        "1.217.O.vs.terminases.txt                       0%    0     0.0KB/s   --:-- ETA\r",
        "1.217.O.vs.terminases.txt                     100% 8232     8.0KB/s   00:00    \r\n",
        "\r",
        "1.219.O.vs.terminases.txt                       0%    0     0.0KB/s   --:-- ETA"
       ]
      },
      {
       "output_type": "stream",
       "stream": "stdout",
       "text": [
        "\r",
        "1.219.O.vs.terminases.txt                     100%   11KB  11.0KB/s   00:00    \r\n",
        "\r",
        "2.159.A.vs.terminases.txt                       0%    0     0.0KB/s   --:-- ETA"
       ]
      },
      {
       "output_type": "stream",
       "stream": "stdout",
       "text": [
        "\r",
        "2.159.A.vs.terminases.txt                     100% 8238     8.0KB/s   00:00    \r\n",
        "\r",
        "2.159.B.vs.terminases.txt                       0%    0     0.0KB/s   --:-- ETA"
       ]
      },
      {
       "output_type": "stream",
       "stream": "stdout",
       "text": [
        "\r",
        "2.159.B.vs.terminases.txt                     100% 8232     8.0KB/s   00:00    \r\n"
       ]
      }
     ],
     "prompt_number": 26
    },
    {
     "cell_type": "code",
     "collapsed": false,
     "input": [
      "!scp jbrown@eofe4.mit.edu:/nobackup1/jbrown/nahant_phage_reads/group17/*step1.contig1.fasta ./"
     ],
     "language": "python",
     "metadata": {},
     "outputs": [
      {
       "output_type": "stream",
       "stream": "stdout",
       "text": [
        "\r",
        "1.028.O.step1.contig1.fasta                     0%    0     0.0KB/s   --:-- ETA"
       ]
      },
      {
       "output_type": "stream",
       "stream": "stdout",
       "text": [
        "\r",
        "1.028.O.step1.contig1.fasta                   100%   30KB  30.3KB/s   00:00    \r\n"
       ]
      },
      {
       "output_type": "stream",
       "stream": "stdout",
       "text": [
        "\r",
        "1.136.O.step1.contig1.fasta                     0%    0     0.0KB/s   --:-- ETA"
       ]
      },
      {
       "output_type": "stream",
       "stream": "stdout",
       "text": [
        "\r",
        "1.136.O.step1.contig1.fasta                   100%   31KB  31.5KB/s   00:00    \r\n",
        "\r",
        "1.142.O.step1.contig1.fasta                     0%    0     0.0KB/s   --:-- ETA"
       ]
      },
      {
       "output_type": "stream",
       "stream": "stdout",
       "text": [
        "\r",
        "1.142.O.step1.contig1.fasta                   100%   31KB  31.5KB/s   00:00    \r\n",
        "\r",
        "1.156.O.step1.contig1.fasta                     0%    0     0.0KB/s   --:-- ETA"
       ]
      },
      {
       "output_type": "stream",
       "stream": "stdout",
       "text": [
        "\r",
        "1.156.O.step1.contig1.fasta                   100%   32KB  31.6KB/s   00:00    \r\n",
        "\r",
        "1.159.O.step1.contig1.fasta                     0%    0     0.0KB/s   --:-- ETA"
       ]
      },
      {
       "output_type": "stream",
       "stream": "stdout",
       "text": [
        "\r",
        "1.159.O.step1.contig1.fasta                   100%   32KB  31.6KB/s   00:00    \r\n",
        "\r",
        "1.202.O.step1.contig1.fasta                     0%    0     0.0KB/s   --:-- ETA"
       ]
      },
      {
       "output_type": "stream",
       "stream": "stdout",
       "text": [
        "\r",
        "1.202.O.step1.contig1.fasta                   100%   32KB  31.8KB/s   00:00    \r\n",
        "\r",
        "1.217.O.step1.contig1.fasta                     0%    0     0.0KB/s   --:-- ETA"
       ]
      },
      {
       "output_type": "stream",
       "stream": "stdout",
       "text": [
        "\r",
        "1.217.O.step1.contig1.fasta                   100%   31KB  31.5KB/s   00:00    \r\n",
        "\r",
        "1.219.O.step1.contig1.fasta                     0%    0     0.0KB/s   --:-- ETA"
       ]
      },
      {
       "output_type": "stream",
       "stream": "stdout",
       "text": [
        "\r",
        "1.219.O.step1.contig1.fasta                   100%   32KB  31.7KB/s   00:00    \r\n",
        "\r",
        "2.159.A.step1.contig1.fasta                     0%    0     0.0KB/s   --:-- ETA"
       ]
      },
      {
       "output_type": "stream",
       "stream": "stdout",
       "text": [
        "\r",
        "2.159.A.step1.contig1.fasta                   100%   32KB  31.5KB/s   00:00    \r\n",
        "\r",
        "2.159.B.step1.contig1.fasta                     0%    0     0.0KB/s   --:-- ETA"
       ]
      },
      {
       "output_type": "stream",
       "stream": "stdout",
       "text": [
        "\r",
        "2.159.B.step1.contig1.fasta                   100%   32KB  31.6KB/s   00:00    \r\n"
       ]
      }
     ],
     "prompt_number": 32
    },
    {
     "cell_type": "code",
     "collapsed": false,
     "input": [
      "for line in groupfile:\n",
      "    name=line.rstrip(\"\\n\")\n",
      "    \n",
      "    blastoutputname=name+\"vs.terminases.txt\"\n",
      "    blastout=open(blastoutputname)\n",
      "    blastout=blastout.read()\n",
      "    vec=blastout.split(\"\\t\")\n",
      "    if len(vec)>2:\n",
      "        start=int(vec[6])\n",
      "        inputfasta=name+\"step1.contig1.fasta\"\n",
      "        f=Fasta(inputfasta)\n",
      "        viromelen=len(f[0])\n",
      "        threshhold=len(f[0])/2\n",
      "        sequence=str(f[0])\n",
      "        seq=Seq(str(sequence))\n",
      "        outfasta=open(name+\"s1c1.oc.fasta\",\"w\")\n",
      "        outfasta.write(\">\"+name+\"\\n\")\n",
      "\n",
      "        if start>threshhold:\n",
      "            print(name+\": must reverse sequence \")\n",
      "            out_seq=seq.reverse_complement()\n",
      "    \n",
      "        else:\n",
      "            print(name+\": sequence is in correct orientation\")\n",
      "            out_seq=seq\n",
      "        outfasta.write(str(out_seq))\n",
      "        outfasta.close()\n",
      "    else:\n",
      "        print(name+\": no blast match\")"
     ],
     "language": "python",
     "metadata": {},
     "outputs": [
      {
       "output_type": "stream",
       "stream": "stdout",
       "text": [
        "1.217.O.: must reverse sequence \n",
        "1.219.O.: must reverse sequence \n",
        "1.028.O.: must reverse sequence \n",
        "2.159.B.: must reverse sequence \n",
        "1.202.O.: must reverse sequence \n",
        "1.156.O.: must reverse sequence \n",
        "1.159.O.: must reverse sequence \n",
        "2.159.A.: sequence is in correct orientation\n",
        "1.136.O.: must reverse sequence \n",
        "1.142.O.: must reverse sequence \n"
       ]
      }
     ],
     "prompt_number": 33
    },
    {
     "cell_type": "code",
     "collapsed": false,
     "input": [
      "!scp jbrown@eofe4.mit.edu:/nobackup1/jbrown/nahant_phage_reads/group17/fastq_files.txt ./"
     ],
     "language": "python",
     "metadata": {},
     "outputs": [
      {
       "output_type": "stream",
       "stream": "stdout",
       "text": [
        "\r",
        "fastq_files.txt                                 0%    0     0.0KB/s   --:-- ETA\r",
        "fastq_files.txt                               100%  295     0.3KB/s   00:00    \r\n"
       ]
      }
     ],
     "prompt_number": 34
    },
    {
     "cell_type": "code",
     "collapsed": false,
     "input": [
      "for line in open(\"fastq_files.txt\"):\n",
      "    vec=line.rstrip(\"\\n\").replace(\".fastq\",\"\").split(\"_\")\n",
      "    print(\"cp \"+vec[1]+\"* ./grp17_hosts\")"
     ],
     "language": "python",
     "metadata": {},
     "outputs": [
      {
       "output_type": "stream",
       "stream": "stdout",
       "text": [
        "cp 10N.286.45.B6* ./grp17_hosts\n",
        "cp 10N.261.45.E11* ./grp17_hosts\n",
        "cp 10N.261.49.E11* ./grp17_hosts\n",
        "cp 10N.261.45.A6* ./grp17_hosts\n",
        "cp 10N.261.46.F12* ./grp17_hosts\n",
        "cp 10N.222.45.E8* ./grp17_hosts\n",
        "cp 10N.261.45.A1* ./grp17_hosts\n",
        "cp 10N.261.45.E2* ./grp17_hosts\n",
        "cp 10N.261.46.F12* ./grp17_hosts\n",
        "cp 10N.261.46.F12* ./grp17_hosts\n"
       ]
      }
     ],
     "prompt_number": 38
    },
    {
     "cell_type": "code",
     "collapsed": false,
     "input": [
      "import sys\n",
      "from Bio import SeqIO\n",
      "import re\n",
      "from Bio.SeqFeature import FeatureLocation\n",
      "\n",
      "list_of_files=sys.argv[1]\n",
      "\n",
      "def cds_gbk_extract(list_of_files):\n",
      "    gbkfiles=open(list_of_files)\n",
      "    genbankfiles=gbkfiles.readlines()\n",
      "    for line in genbankfiles:\n",
      "        filename=line.replace(\".gbk\\n\",\"\")\n",
      "        cdsfna=open(filename+\".fna\", \"w\")\n",
      "        cdsfaa=open(filename+\".faa\", \"w\")\n",
      "        gbk=line.replace(\"\\n\",\"\")\n",
      "        genome=SeqIO.convert(gbk, \"genbank\", filename+\".genome.fasta\", \"fasta\")\n",
      "        for rec in SeqIO.parse(gbk, \"genbank\"):    \n",
      "            for feature in rec.features:\n",
      "                if feature.type==\"CDS\":\n",
      "                    name=str(feature.qualifiers[\"locus_tag\"])#+\"_\"+str(feature.qualifiers[\"product\"])\n",
      "                    local=feature.location                 \n",
      "                    na=feature.location.extract(rec).seq   \n",
      "                    aa=str(feature.qualifiers[\"translation\"])\n",
      "                    aa=aa.replace(\"[\",\"\").replace(\"]\",\"\").replace(\"'\",\"\")\n",
      "                    cdsfna.write(\">\"+str(name)+\"\\n\"+str(na)+\"\\n\")\n",
      "                    cdsfaa.write(\">\"+str(name)+\"\\n\"+str(aa)+\"\\n\")\n",
      "        cdsfna.close()\n",
      "        cdsfaa.close()    \n",
      "\n",
      "cds_gbk_extract(list_of_files)"
     ],
     "language": "python",
     "metadata": {},
     "outputs": []
    },
    {
     "cell_type": "raw",
     "metadata": {},
     "source": [
      "saved above as \"gbk_to_fas.py\" and ran it on the server"
     ]
    },
    {
     "cell_type": "code",
     "collapsed": false,
     "input": [
      "host_files=[]\n",
      "for line in open(\"fastq_files.txt\"):\n",
      "    vec=line.rstrip(\"\\n\").replace(\".fastq\",\"\").split(\"_\")\n",
      "    phage=vec[0]\n",
      "    host=vec[1]\n",
      "    hostfile=host+\"_contigs_prod.genome.fasta\"\n",
      "    if hostfile not in host_files:\n",
      "        host_files.append(hostfile)\n",
      "host_files"
     ],
     "language": "python",
     "metadata": {},
     "outputs": [
      {
       "metadata": {},
       "output_type": "pyout",
       "prompt_number": 10,
       "text": [
        "['10N.286.45.B6_contigs_prod.genome.fasta',\n",
        " '10N.261.45.E11_contigs_prod.genome.fasta',\n",
        " '10N.261.49.E11_contigs_prod.genome.fasta',\n",
        " '10N.261.45.A6_contigs_prod.genome.fasta',\n",
        " '10N.261.46.F12_contigs_prod.genome.fasta',\n",
        " '10N.222.45.E8_contigs_prod.genome.fasta',\n",
        " '10N.261.45.A1_contigs_prod.genome.fasta',\n",
        " '10N.261.45.E2_contigs_prod.genome.fasta']"
       ]
      }
     ],
     "prompt_number": 10
    },
    {
     "cell_type": "code",
     "collapsed": false,
     "input": [
      "script=open(\"make_db.sh\",\"w\")\n",
      "script.write(\"#!/bin/bash\\n#SBATCH -n 16\\n#SBATCH -N 1\\n#SBATCH -o db.out\\n#SBATCH -e db.err\\n#SBATCH -p newnodes\\n\\n\")\n",
      "script.write(\"module add engaging/ncbi-blast/2.2.30+\\n\\n\\n\")\n",
      "for name in host_files:\n",
      "    script.write(\"makeblastdb -in \"+name+\" -dbtype nucl\\n\\n\")\n",
      "script.close()"
     ],
     "language": "python",
     "metadata": {},
     "outputs": [],
     "prompt_number": 23
    },
    {
     "cell_type": "code",
     "collapsed": false,
     "input": [
      "!scp make_db.sh jbrown@eofe4.mit.edu:/nobackup1/jbrown/vibrio_genomes/grp17_hosts/"
     ],
     "language": "python",
     "metadata": {},
     "outputs": [
      {
       "output_type": "stream",
       "stream": "stdout",
       "text": [
        "\r",
        "make_db.sh                                      0%    0     0.0KB/s   --:-- ETA\r",
        "make_db.sh                                    100%  700     0.7KB/s   00:00    \r\n"
       ]
      }
     ],
     "prompt_number": 19
    },
    {
     "cell_type": "code",
     "collapsed": false,
     "input": [
      "script=open(\"blast_clc_contigs_vs_host.sh\",\"w\")\n",
      "script.write(\"#!/bin/bash\\n#SBATCH -n 16\\n#SBATCH -N 1\\n#SBATCH -o blast.out\\n#SBATCH -e blast.err\\n#SBATCH -p newnodes\\n\\n\")\n",
      "script.write(\"module add engaging/ncbi-blast/2.2.30+\\n\\n\\n\")\n",
      "\n",
      "for line in open(\"fastq_files.txt\"):\n",
      "    vec=line.rstrip(\"\\n\").replace(\".fastq\",\"\").split(\"_\")\n",
      "    phage=vec[0]\n",
      "    host=vec[1]\n",
      "    hostdb=\"~/nobackup1/jbrown/vibrio_genomes/grp17_hosts/\"+host+\"_contigs_prod.genome.fasta\"\n",
      "    phagefile=phage+\"step1.clc.fasta\"\n",
      "    blastcommand=\"blastn -db \"+hostdb+\" -query \"+phagefile+\" -outfmt 6 -evalue 0.001 -out \"+phage+\"contigs.vs.\"+host+\".txt\\n\\n\"\n",
      "    script.write(blastcommand)\n",
      "script.close()"
     ],
     "language": "python",
     "metadata": {},
     "outputs": [],
     "prompt_number": 27
    },
    {
     "cell_type": "code",
     "collapsed": false,
     "input": [
      "!scp blast_clc_contigs_vs_host.sh jbrown@eofe4.mit.edu:/nobackup1/jbrown/nahant_phage_reads/group17/"
     ],
     "language": "python",
     "metadata": {},
     "outputs": [
      {
       "output_type": "stream",
       "stream": "stdout",
       "text": [
        "\r",
        "blast_clc_contigs_vs_host.sh                    0%    0     0.0KB/s   --:-- ETA\r",
        "blast_clc_contigs_vs_host.sh                  100% 2093     2.0KB/s   00:00    \r\n"
       ]
      }
     ],
     "prompt_number": 28
    },
    {
     "cell_type": "code",
     "collapsed": false,
     "input": [
      "!scp jbrown@eofe4.mit.edu:/nobackup1/jbrown/nahant_phage_reads/group17/*contigs.vs* ./"
     ],
     "language": "python",
     "metadata": {},
     "outputs": [
      {
       "output_type": "stream",
       "stream": "stdout",
       "text": [
        "\r",
        "1.028.O.contigs.vs.10N.286.45.B6.txt            0%    0     0.0KB/s   --:-- ETA"
       ]
      },
      {
       "output_type": "stream",
       "stream": "stdout",
       "text": [
        "\r",
        "1.028.O.contigs.vs.10N.286.45.B6.txt          100%   19KB  19.2KB/s   00:00    \r\n"
       ]
      },
      {
       "output_type": "stream",
       "stream": "stdout",
       "text": [
        "\r",
        "1.136.O.contigs.vs.10N.261.45.E11.txt           0%    0     0.0KB/s   --:-- ETA\r",
        "1.136.O.contigs.vs.10N.261.45.E11.txt         100%  289     0.3KB/s   00:01    \r\n"
       ]
      },
      {
       "output_type": "stream",
       "stream": "stdout",
       "text": [
        "\r",
        "1.142.O.contigs.vs.10N.261.49.E11.txt           0%    0     0.0KB/s   --:-- ETA\r",
        "1.142.O.contigs.vs.10N.261.49.E11.txt         100%   14KB  13.6KB/s   00:00    \r\n"
       ]
      },
      {
       "output_type": "stream",
       "stream": "stdout",
       "text": [
        "\r",
        "1.156.O.contigs.vs.10N.261.45.A6.txt            0%    0     0.0KB/s   --:-- ETA\r",
        "1.156.O.contigs.vs.10N.261.45.A6.txt          100% 6906     6.7KB/s   00:00    \r\n"
       ]
      },
      {
       "output_type": "stream",
       "stream": "stdout",
       "text": [
        "\r",
        "1.159.O.contigs.vs.10N.261.46.F12.txt           0%    0     0.0KB/s   --:-- ETA\r",
        "1.159.O.contigs.vs.10N.261.46.F12.txt         100%   19KB  18.6KB/s   00:00    \r\n"
       ]
      },
      {
       "output_type": "stream",
       "stream": "stdout",
       "text": [
        "\r",
        "1.202.O.contigs.vs.10N.222.45.E8.txt          100%    0     0.0KB/s   00:00    \r\n"
       ]
      },
      {
       "output_type": "stream",
       "stream": "stdout",
       "text": [
        "\r",
        "1.217.O.contigs.vs.10N.261.45.A1.txt            0%    0     0.0KB/s   --:-- ETA\r",
        "1.217.O.contigs.vs.10N.261.45.A1.txt          100% 7891     7.7KB/s   00:00    \r\n"
       ]
      },
      {
       "output_type": "stream",
       "stream": "stdout",
       "text": [
        "\r",
        "1.219.O.contigs.vs.10N.261.45.E2.txt            0%    0     0.0KB/s   --:-- ETA\r",
        "1.219.O.contigs.vs.10N.261.45.E2.txt          100%   14KB  14.4KB/s   00:00    \r\n"
       ]
      },
      {
       "output_type": "stream",
       "stream": "stdout",
       "text": [
        "\r",
        "2.159.A.contigs.vs.10N.261.46.F12.txt           0%    0     0.0KB/s   --:-- ETA\r",
        "2.159.A.contigs.vs.10N.261.46.F12.txt         100%   15KB  14.9KB/s   00:00    \r\n",
        "\r",
        "2.159.B.contigs.vs.10N.261.46.F12.txt           0%    0     0.0KB/s   --:-- ETA"
       ]
      },
      {
       "output_type": "stream",
       "stream": "stdout",
       "text": [
        "\r",
        "2.159.B.contigs.vs.10N.261.46.F12.txt         100%   15KB  14.6KB/s   00:00    \r\n"
       ]
      }
     ],
     "prompt_number": 29
    },
    {
     "cell_type": "markdown",
     "metadata": {},
     "source": [
      "###Get info about original contig assembly"
     ]
    },
    {
     "cell_type": "code",
     "collapsed": false,
     "input": [
      "#amassing information about the current contigs in hope of finding the best representative to use as a reference for each viral group\n",
      "output=open(\"contig.info.txt\",\"w\")\n",
      "output.write(\"vir_name\\tcluster\\tnum_contigs\\ttotal_len\\tmean_len\\tmedian_len\\tmax_len\\tmin_len\\n\")\n",
      "for fasta in virfiles:\n",
      "    vec=fasta.split(\".\")\n",
      "    vec1=vec[1].split(\"s\")\n",
      "    firstnum=vec1[3]\n",
      "    virname=firstnum+\".\"+vec[2]+\".\"+vec[3]+\".\"   #set up the name of the virus\n",
      "    fasta1=fasta.replace(\"\\n\",\"\")\n",
      "    f=Fasta(fasta1)                            #open fasta file\n",
      "    count=0      #will rep number of contigs\n",
      "    contig_lens=[]       #list of contig lengths\n",
      "    for seq in f.keys():\n",
      "        count+=1\n",
      "        seqlen=len(str(f[seq]))\n",
      "        contig_lens.append(seqlen)\n",
      "    maximum=numpy.max(contig_lens)\n",
      "    minimum=numpy.min(contig_lens)\n",
      "    median=numpy.median(contig_lens)\n",
      "    mean=numpy.mean(contig_lens)\n",
      "    total_len=numpy.sum(contig_lens)\n",
      "    cluster=clusters.get(virname, 'NA')\n",
      "    output.write(virname+\"\\t\"+cluster+\"\\t\"+str(count)+\"\\t\"+str(total_len)+\"\\t\"+str(int(mean))+\"\\t\"+\n",
      "                 str(int(median))+\"\\t\"+str(maximum)+\"\\t\"+str(minimum)+\"\\n\")\n",
      "output.close()\n"
     ],
     "language": "python",
     "metadata": {},
     "outputs": [],
     "prompt_number": 50
    },
    {
     "cell_type": "markdown",
     "metadata": {},
     "source": [
      "query target pct_id aln_len num_mismatch num_gap qstart qstop\\ttstart\\ttstop\\te_value\\tbit_score\\tfunction\\n\")"
     ]
    },
    {
     "cell_type": "markdown",
     "metadata": {},
     "source": [
      "###Go through information on BLASTs in R"
     ]
    },
    {
     "cell_type": "code",
     "collapsed": false,
     "input": [
      "%%R\n",
      "library(dplyr)\n",
      "virusnames<-read.table(\"fastq_files.txt\", sep=\"_\")\n",
      "virusnames$V2<-gsub(\".fastq\",\"\",virusnames$V2)\n",
      "virusnames"
     ],
     "language": "python",
     "metadata": {},
     "outputs": [
      {
       "metadata": {},
       "output_type": "display_data",
       "text": [
        "\n",
        "Attaching package: \u2018dplyr\u2019\n",
        "\n",
        "The following object is masked from \u2018package:stats\u2019:\n",
        "\n",
        "    filter\n",
        "\n",
        "The following objects are masked from \u2018package:base\u2019:\n",
        "\n",
        "    intersect, setdiff, setequal, union\n",
        "\n",
        "         V1             V2\n",
        "1  1.028.O.  10N.286.45.B6\n",
        "2  1.136.O. 10N.261.45.E11\n",
        "3  1.142.O. 10N.261.49.E11\n",
        "4  1.156.O.  10N.261.45.A6\n",
        "5  1.159.O. 10N.261.46.F12\n",
        "6  1.202.O.  10N.222.45.E8\n",
        "7  1.217.O.  10N.261.45.A1\n",
        "8  1.219.O.  10N.261.45.E2\n",
        "9  2.159.A. 10N.261.46.F12\n",
        "10 2.159.B. 10N.261.46.F12\n"
       ]
      }
     ],
     "prompt_number": 40
    },
    {
     "cell_type": "code",
     "collapsed": false,
     "input": [],
     "language": "python",
     "metadata": {},
     "outputs": [],
     "prompt_number": 51
    },
    {
     "cell_type": "code",
     "collapsed": false,
     "input": [
      "%%R\n",
      "blastfile=read.table(\"1.028.O.contigs.vs.10N.286.45.B6.txt\",sep=\"\\t\")\n",
      "bf1<-group_by(blastfile, V1)\n",
      "bf.contigsummary<-summarise(bf1, number_hits=n(), total_hitlen=sum(V4))\n",
      "bf.contigsummary"
     ],
     "language": "python",
     "metadata": {},
     "outputs": [
      {
       "metadata": {},
       "output_type": "display_data",
       "text": [
        "Source: local data frame [111 x 3]\n",
        "\n",
        "           V1 number_hits total_hitlen\n",
        "1    contig_1          76         7103\n",
        "2   contig_10          29         5277\n",
        "3  contig_100           1          593\n",
        "4  contig_101           1          608\n",
        "5  contig_102           1          887\n",
        "6  contig_103           1          595\n",
        "7  contig_104           1         1253\n",
        "8  contig_105           1          675\n",
        "9  contig_106           1          717\n",
        "10 contig_108           1          590\n",
        "..        ...         ...          ...\n"
       ]
      }
     ],
     "prompt_number": 50
    },
    {
     "cell_type": "code",
     "collapsed": false,
     "input": [
      "\n"
     ],
     "language": "python",
     "metadata": {},
     "outputs": [],
     "prompt_number": 51
    },
    {
     "cell_type": "code",
     "collapsed": false,
     "input": [],
     "language": "python",
     "metadata": {},
     "outputs": []
    }
   ],
   "metadata": {}
  }
 ]
}