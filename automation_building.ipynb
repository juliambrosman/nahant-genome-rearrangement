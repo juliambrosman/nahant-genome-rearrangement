{
 "metadata": {
  "name": "",
  "signature": "sha256:862d4a6493f4dd9deaae70a5d5e25ee4b018e64afdd863eca95f544a81b3a350"
 },
 "nbformat": 3,
 "nbformat_minor": 0,
 "worksheets": [
  {
   "cells": [
    {
     "cell_type": "markdown",
     "metadata": {},
     "source": [
      "First round assembly inputs: list of fastq files, a script file that has the proper heading"
     ]
    },
    {
     "cell_type": "code",
     "collapsed": false,
     "input": [
      "%load_ext rmagic"
     ],
     "language": "python",
     "metadata": {},
     "outputs": [],
     "prompt_number": 4
    },
    {
     "cell_type": "code",
     "collapsed": false,
     "input": [
      "#!/usr/bin/python\n",
      "#Write a list of tasks to do the first round assembly for a list of fastq read files\n",
      "import sys\n",
      "\n",
      "fastq_list=sys.argv[1]\n",
      "\n",
      "def step1_script(fastq_list):\n",
      "    fastq=open(fastq_list)\n",
      "    program=open(\"step1.sh\",\"w\")\n",
      "    for name in fastq:\n",
      "        vec=name.split(\"_\")\n",
      "        heading=\"./step1files/\"+vec[0]\n",
      "        program.write(\"\\n\\n#\"+name+\"\\nclc_assembler -o \"+heading+\"step1.clc.fasta -m 500 -p fb ss 100 300 -q \"+ name+\"\\nclc_mapper -o \"+heading+\"step1.cas -p fb ss 100 300 -q \"+name.replace(\"\\n\",\"\")+\" -d \"+heading+\"step1.clc.fasta -a local -r ignore\\nclc_cas_to_sam -a \"+heading+\"step1.cas -o \"+heading+\"step1.bam\\n\\nsamtools sort \"+heading+\"step1.bam 1.025.O.sorted\\nsamtools index \"+heading+\"sorted.bam\\nbedtools genomecov -ibam \"+heading+\"step1.bam -d >\"+heading+\"step1.genomecoverage.txt\")\n",
      "    program.close()\n",
      "\n",
      "step1_script(fastq_list)"
     ],
     "language": "python",
     "metadata": {},
     "outputs": [],
     "prompt_number": 23
    },
    {
     "cell_type": "code",
     "collapsed": false,
     "input": [],
     "language": "python",
     "metadata": {},
     "outputs": [],
     "prompt_number": 24
    },
    {
     "cell_type": "markdown",
     "metadata": {},
     "source": [
      "Below is just some python to write a script to move all files to the appropriate directories based on phage group:"
     ]
    },
    {
     "cell_type": "code",
     "collapsed": false,
     "input": [
      "import os\n",
      "\n",
      "prelim_groups=open(\"phage_by_group.txt\")\n",
      "phage_grp={}\n",
      "for line in prelim_groups.readlines():\n",
      "    line=line.rstrip(\"\\n\")\n",
      "    vec=line.split(\"\\t\")\n",
      "    phage_grp[vec[0]]=vec[1]\n",
      "groups=list(phage_grp.values())\n",
      "unique=[]\n",
      "for value in groups:\n",
      "    if value not in unique:\n",
      "        unique.append(value)"
     ],
     "language": "python",
     "metadata": {},
     "outputs": [],
     "prompt_number": 1
    },
    {
     "cell_type": "code",
     "collapsed": false,
     "input": [],
     "language": "python",
     "metadata": {},
     "outputs": [],
     "prompt_number": 4
    },
    {
     "cell_type": "code",
     "collapsed": false,
     "input": [
      "group17=[]\n",
      "for value in phage_grp.keys():\n",
      "    if phage_grp.get(value)=='CNSv2.0:17':\n",
      "        group17.append(value)\n",
      "group17"
     ],
     "language": "python",
     "metadata": {},
     "outputs": [
      {
       "metadata": {},
       "output_type": "pyout",
       "prompt_number": 5,
       "text": [
        "['1.217.O.',\n",
        " '1.219.O.',\n",
        " '1.028.O.',\n",
        " '2.159.B.',\n",
        " '1.202.O.',\n",
        " '1.156.O.',\n",
        " '1.159.O.',\n",
        " '2.159.A.',\n",
        " '1.136.O.',\n",
        " '1.142.O.']"
       ]
      }
     ],
     "prompt_number": 5
    },
    {
     "cell_type": "code",
     "collapsed": false,
     "input": [
      "movefile=open(\"move_phage_files_to_grp_dir.sh\",\"w\")\n",
      "\n",
      "for value in unique:\n",
      "    vec=value.split(\":\")\n",
      "    if len(vec)==2:\n",
      "        directory_name=\"group\"+vec[1]\n",
      "        make_directory=\"mkdir \"+directory_name\n",
      "        \n",
      "    else:\n",
      "        directory_name=value\n",
      "        make_directory=\"mkdir \"+directory_name\n",
      "    \n",
      "    movefile.write(make_directory+\"\\n\")    \n",
      "    \n",
      "    for ref, group in phage_grp.items():\n",
      "        if group==value:\n",
      "            vec1=ref.split(\"_\")\n",
      "            phage_name=vec1[0]\n",
      "            move_files=\"mv \"+phage_name+\"* ./\"+directory_name+\"/\"\n",
      "            movefile.write(move_files+\"\\n\")\n",
      "\n",
      "movefile.close()"
     ],
     "language": "python",
     "metadata": {},
     "outputs": [],
     "prompt_number": 2
    },
    {
     "cell_type": "code",
     "collapsed": false,
     "input": [
      "%%R \n",
      "#make coverage plots for each contig1 in group:\n",
      "png(paste(\"./group6/coverageplots/\", \"group6.combinedplot.png\", sep=\"\"), width=1920,height=5280,pointsize=14)\n",
      "layout(matrix(c(1:35),7,5,byrow=TRUE), widths=c(15,15,15,15,15))\n",
      "for (item in alignments){\n",
      "    filename<-paste(item,\"step1.genomecoverage.txt\",sep=\"\")\n",
      "    coverage<-read.table(filename, sep=\"\\t\")\n",
      "    contig1<-filter(coverage, V1==\"contig_1\")\n",
      "    #png(paste(\"./group6/coverageplots/\",item,\"coverage.plot.png\", sep=\"\"))\n",
      "    with(contig1, plot(V2, V3, type=\"n\",xlab=\"position\",ylab=\"coverage\", main=item))\n",
      "    with(contig1, lines(V2,V3))\n",
      "}\n",
      "dev.off()"
     ],
     "language": "python",
     "metadata": {},
     "outputs": []
    },
    {
     "cell_type": "code",
     "collapsed": false,
     "input": [
      "for file in *.zip; do unzip file; done"
     ],
     "language": "python",
     "metadata": {},
     "outputs": []
    },
    {
     "cell_type": "code",
     "collapsed": false,
     "input": [
      "for file in *.fastq1; do \n",
      "\n",
      "sed -i.tmp 's/fastq1/fastq/g' *fastq1 \n",
      "\n",
      "for f in $(ls *.fastq1); do mv -v $f ${f/#U00a9/safe}; done;"
     ],
     "language": "python",
     "metadata": {},
     "outputs": []
    },
    {
     "cell_type": "code",
     "collapsed": false,
     "input": [
      "%%R\n",
      "\n",
      "alignments<-read.table(\"fastq.list.txt\")\n",
      "step2<-vector()\n",
      "done<-vector()\n",
      "filenames<-vector()\n",
      "for (item in alignments){\n",
      "    item1<-substring(item, 1, 8)\n",
      "    filenames<-c(filenames, paste(item1,'step1.genomecoverage.txt',sep=\"\"))\n",
      "    \n",
      "    }\n",
      "\n",
      "for (file in filenames){\n",
      "    coverage<-read.table(file, sep=\"\\t\")\n",
      "    contig1<-filter(coverage, V1==\"contig_1\")\n",
      "    start<-min(contig1$V2)\n",
      "    end<-max(contig1$V2)\n",
      "    stddev<-sd(contig1$V3)\n",
      "    max_spot<-contig1$V2[mean(which(contig1$V3==max(contig1$V3)))]\n",
      "    #print(paste(\"start is\",start,\"stop is\",end,\"max diff is\", maxdiff, \"min diff is\", mindiff, sep=\" \"))\n",
      "    if (max(contig1$V3)<median(contig1$V3)+stddev+100){\n",
      "    print(paste(item1, \"difference in coverage is insignificant\",sep=\" \"))\n",
      "    done<-c(done, item1)\n",
      "} else if ((max_spot-start)<200|(end-max_spot)<200) {\n",
      "    print(paste(item1,\"max coverage at the termini\", sep=\" \"))\n",
      "    done<-c(done, substring(file, 1, 8))\n",
      "} else {\n",
      "    step2<-c(step2, substring(file, 1, 8))\n",
      "}     \n",
      "\n",
      "}\n",
      "write.table(done, \"step1.and.done.txt\", quote=FALSE, row.names=FALSE, col.names=FALSE)\n",
      "\n",
      "output<-vector()\n",
      "for (item in step2){\n",
      "    filename<-paste(item1,\"step1.genomecoverage.txt\",sep=\"\")\n",
      "    coverage<-read.table(filename, sep=\"\\t\")\n",
      "    contig1<-filter(coverage, V1==\"contig_1\")\n",
      "    max_spot<-contig1$V2[mean(which(contig1$V3==max(contig1$V3)))]\n",
      "    c1len<-max(contig1$V2)\n",
      "    range1<-paste(\"'contig_1:\",1,\"-\",max_spot,\"'\",sep=\"\")\n",
      "    range2<-paste(\"'contig_1:\",max_spot+1,\"'\",sep=\"\")\n",
      "    output<-c(output,paste(item1, range1, range2, sep=\";\"))\n",
      "}\n",
      "\n",
      "write.table(output, \"step1.contig.split.txt\", quote=FALSE, row.names=FALSE, col.names=FALSE)\n",
      "}"
     ],
     "language": "python",
     "metadata": {},
     "outputs": [],
     "prompt_number": 76
    },
    {
     "cell_type": "code",
     "collapsed": false,
     "input": [
      "file=open(\"./1.064.O.step1.genomecoverage.txt\")\n",
      "for thing in file.readlines()[0:10]:\n",
      "    print(thing)"
     ],
     "language": "python",
     "metadata": {},
     "outputs": [
      {
       "output_type": "stream",
       "stream": "stdout",
       "text": [
        "contig_1\t1\t306\n",
        "\n",
        "contig_1\t2\t314\n",
        "\n",
        "contig_1\t3\t318\n",
        "\n",
        "contig_1\t4\t324\n",
        "\n",
        "contig_1\t5\t332\n",
        "\n",
        "contig_1\t6\t334\n",
        "\n",
        "contig_1\t7\t338\n",
        "\n",
        "contig_1\t8\t344\n",
        "\n",
        "contig_1\t9\t350\n",
        "\n",
        "contig_1\t10\t354\n",
        "\n"
       ]
      }
     ],
     "prompt_number": 64
    },
    {
     "cell_type": "code",
     "collapsed": false,
     "input": [
      "%%R\n",
      "#R program requires fastq list input and genome coverage files:\n",
      "library(dplyr)\n",
      "alignments<-read.table(\"fastq.list.txt\")\n",
      "step2<-vector()\n",
      "done<-vector()\n",
      "for (item in alignments){\n",
      "    item1<-substring(item, 1, 8)\n",
      "    filename<-paste(item1,\"step1.genomecoverage.txt\",sep=\"\")\n",
      "    coverage<-read.table(filename, sep=\"\\t\")\n",
      "    contig1<-filter(coverage, V1==\"contig_1\")\n",
      "    start<-min(contig1$V2)\n",
      "    end<-max(contig1$V2)\n",
      "    stddev<-sd(contig1$V3)\n",
      "    max_spot<-contig1$V2[mean(which(contig1$V3==max(contig1$V3)))]\n",
      "    #print(paste(\"start is\",start,\"stop is\",end,\"max diff is\", maxdiff, \"min diff is\", mindiff, sep=\" \"))\n",
      "    if (max(contig1$V3)<median(contig1$V3)+stddev+100){\n",
      "    print(paste(item1, \"difference in coverage is insignificant\",sep=\" \"))\n",
      "    done<-c(done, item1)\n",
      "} else if ((max_spot-start)<200|(end-max_spot)<200) {\n",
      "    print(paste(item1,\"max coverage at the termini\", sep=\" \"))\n",
      "    done<-c(done, item1)\n",
      "} else {\n",
      "    step2<-c(step2, item1)\n",
      "}     \n",
      "\n",
      "}\n",
      "write.table(done, \"step1.and.done.txt\", quote=FALSE, row.names=FALSE, col.names=FALSE)\n",
      "\n",
      "output<-vector()\n",
      "for (item in step2){\n",
      "    filename<-paste(item1,\"step1.genomecoverage.txt\",sep=\"\")\n",
      "    coverage<-read.table(filename, sep=\"\\t\")\n",
      "    contig1<-filter(coverage, V1==\"contig_1\")\n",
      "    max_spot<-contig1$V2[mean(which(contig1$V3==max(contig1$V3)))]\n",
      "    c1len<-max(contig1$V2)\n",
      "    range1<-paste(\"'contig_1:\",1,\"-\",max_spot,\"'\",sep=\"\")\n",
      "    range2<-paste(\"'contig_1:\",max_spot+1,\"'\",sep=\"\")\n",
      "    output<-c(output,paste(item1, range1, range2, sep=\";\"))\n",
      "}\n",
      "\n",
      "write.table(output, \"step1.contig.split.txt\", quote=FALSE, row.names=FALSE, col.names=FALSE)"
     ],
     "language": "python",
     "metadata": {},
     "outputs": [
      {
       "output_type": "stream",
       "stream": "stdout",
       "text": [
        "Error in file(file, \"rt\") : invalid 'description' argument\n"
       ]
      }
     ],
     "prompt_number": 65
    },
    {
     "cell_type": "code",
     "collapsed": false,
     "input": [
      "output=open(\"step1.contig.split.txt\")\n",
      "done=open(\"step1.and.done.txt\")\n",
      "\n",
      "for line in output.readlines():\n",
      "    vec=line.split(\";\")\n",
      "    script.write(\"samtools faidx \"+vec[0]+\"step1.clc.fasta \"+vec[1]+\" >\"+vec[0]+\"step1.front.fasta\\nsamtools faidx \"+vec[0]+\"step1.clc.fasta \"+vec[2]+\" >\"+vec[0]+\"step1.back.fasta\\n\\ncat \"+vec[0]+\"step1.back.fasta \"+vec[0]+\"step1.front.fasta > \"+vec[0]+\"step1.backfront.fasta\\n\\npython merge_fasta.py \"+vec[0]+\"step1.backfront.fasta \"+vec[0]+\"TR_assembly \"+vec[0]+\"step1.switcharound.fasta\\n\\n\")\n",
      "    script.write(\"clc_mapper -o \"+vec[0]+\"switcharound.cas -p fb ss 100 300 -q \"+vec[0]+\"*.fastq -d \"+vec[0]+\"step1.switcharound.fasta -a local -r ignore \\nclc_cas_to_sam -a \"+vec[0]+\"switcharound.cas -o \"+vec[0]+\"switcharound.bam\\nsamtools sort \"+vec[0]+\"switcharound.bam \"+vec[0]+\"sorted.switcharound\\nsamtools index \"+vec[0]+\"sorted.switcharound.bam\\n\\nbedtools genomecov -ibam \"+vec[0]+\"sorted.switcharound.bam -d > \"+vec[0]+\"switcharound.genomecoverage.txt\\nclc_extract_consensus -z none -a \"+vec[0]+\"switcharound.cas -o ./finished/\"+vec[0]+\"step2.fasta\\n\\n\")\n",
      "    script.write(\"clc_mapper -o \"+vec[0]+\"step2.cas -p fb ss 100 300 -q \"+vec[0]+\"*.fastq -d ./finished/\"+vec[0]+\"step2.fasta -a local -r ignore \\nclc_cas_to_sam -a \"+vec[0]+\"step2.cas -o \"+vec[0]+\"step2.bam\\nsamtools sort \"+vec[0]+\"step2.bam \"+vec[0]+\"sorted.step2\\nsamtools index \"+vec[0]+\"sorted.step2.bam\\n\\nbedtools genomecov -ibam \"+vec[0]+\"sorted.step2.bam -d > \"+vec[0]+\"step2.genomecoverage.txt\\n\\n#####\\n\\n\")\n",
      "for line in done.readlines():\n",
      "    script.write(\"samtools faidx \"+line+\"step1.clc.fasta 'contig_1'>./finished/\"+line+\"step1.fasta\\n\")\n",
      "script.close()"
     ],
     "language": "python",
     "metadata": {},
     "outputs": [
      {
       "ename": "IOError",
       "evalue": "[Errno 2] No such file or directory: 'step1.contig.split.txt'",
       "output_type": "pyerr",
       "traceback": [
        "\u001b[0;31m---------------------------------------------------------------------------\u001b[0m\n\u001b[0;31mIOError\u001b[0m                                   Traceback (most recent call last)",
        "\u001b[0;32m<ipython-input-66-bd8c6be8a73f>\u001b[0m in \u001b[0;36m<module>\u001b[0;34m()\u001b[0m\n\u001b[0;32m----> 1\u001b[0;31m \u001b[0moutput\u001b[0m\u001b[0;34m=\u001b[0m\u001b[0mopen\u001b[0m\u001b[0;34m(\u001b[0m\u001b[0;34m\"step1.contig.split.txt\"\u001b[0m\u001b[0;34m)\u001b[0m\u001b[0;34m\u001b[0m\u001b[0m\n\u001b[0m\u001b[1;32m      2\u001b[0m \u001b[0mdone\u001b[0m\u001b[0;34m=\u001b[0m\u001b[0mopen\u001b[0m\u001b[0;34m(\u001b[0m\u001b[0;34m\"step1.and.done.txt\"\u001b[0m\u001b[0;34m)\u001b[0m\u001b[0;34m\u001b[0m\u001b[0m\n\u001b[1;32m      3\u001b[0m \u001b[0;34m\u001b[0m\u001b[0m\n\u001b[1;32m      4\u001b[0m \u001b[0;32mfor\u001b[0m \u001b[0mline\u001b[0m \u001b[0;32min\u001b[0m \u001b[0moutput\u001b[0m\u001b[0;34m.\u001b[0m\u001b[0mreadlines\u001b[0m\u001b[0;34m(\u001b[0m\u001b[0;34m)\u001b[0m\u001b[0;34m:\u001b[0m\u001b[0;34m\u001b[0m\u001b[0m\n\u001b[1;32m      5\u001b[0m     \u001b[0mvec\u001b[0m\u001b[0;34m=\u001b[0m\u001b[0mline\u001b[0m\u001b[0;34m.\u001b[0m\u001b[0msplit\u001b[0m\u001b[0;34m(\u001b[0m\u001b[0;34m\";\"\u001b[0m\u001b[0;34m)\u001b[0m\u001b[0;34m\u001b[0m\u001b[0m\n",
        "\u001b[0;31mIOError\u001b[0m: [Errno 2] No such file or directory: 'step1.contig.split.txt'"
       ]
      }
     ],
     "prompt_number": 66
    },
    {
     "cell_type": "code",
     "collapsed": false,
     "input": [],
     "language": "python",
     "metadata": {},
     "outputs": [],
     "prompt_number": 66
    },
    {
     "cell_type": "code",
     "collapsed": false,
     "input": [],
     "language": "python",
     "metadata": {},
     "outputs": []
    }
   ],
   "metadata": {}
  }
 ]
}