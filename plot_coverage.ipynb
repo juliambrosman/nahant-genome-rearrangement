{
 "cells": [
  {
   "cell_type": "code",
   "execution_count": 54,
   "metadata": {
    "collapsed": false
   },
   "outputs": [
    {
     "name": "stdout",
     "output_type": "stream",
     "text": [
      "The rpy2.ipython extension is already loaded. To reload it, use:\n",
      "  %reload_ext rpy2.ipython\n"
     ]
    },
    {
     "data": {
      "text/plain": [
       "array(['ggplot2', 'dplyr', 'tools', 'stats', 'graphics', 'grDevices',\n",
       "       'utils', 'datasets', 'methods', 'base'], \n",
       "      dtype='|S9')"
      ]
     },
     "execution_count": 54,
     "metadata": {},
     "output_type": "execute_result"
    }
   ],
   "source": [
    "%load_ext rpy2.ipython\n",
    "%R library(dplyr); library(ggplot2)"
   ]
  },
  {
   "cell_type": "code",
   "execution_count": 55,
   "metadata": {
    "collapsed": true
   },
   "outputs": [],
   "source": [
    "import os\n",
    "import os.path as op"
   ]
  },
  {
   "cell_type": "code",
   "execution_count": 56,
   "metadata": {
    "collapsed": false
   },
   "outputs": [],
   "source": [
    "group_names = [\"group\"+str(i) for i in range(1,19)]"
   ]
  },
  {
   "cell_type": "code",
   "execution_count": 59,
   "metadata": {
    "collapsed": false
   },
   "outputs": [],
   "source": [
    "group = \"group1\"\n",
    "number = group.split(\"p\")[-1]\n",
    "\n",
    "with open(\"phage_by_group.txt\") as prelim_groups:\n",
    "    phage_grp = {}\n",
    "    phages = []\n",
    "    groups = []\n",
    "    for line in prelim_groups:\n",
    "        line = line.rstrip(\"\\n\")\n",
    "        vec = line.split(\"\\t\")\n",
    "        phage_grp[vec[0]] = vec[1]\n",
    "        phages.append(vec[0])\n",
    "        groups\n",
    "    groups = list(phage_grp.values())\n",
    "    phages = list(phage_grp.keys())\n",
    "\n",
    "groups2 = [\"group%s\" % g.split(\":\")[-1] for g in groups]\n",
    "\n",
    "unique=[]\n",
    "for value in groups:\n",
    "    if value not in unique:\n",
    "        unique.append(value)\n",
    "\n",
    "group1=[]\n",
    "for value in phage_grp.keys():\n",
    "    if phage_grp.get(value)=='CNSv2.0:%s' % number:\n",
    "        group1.append(value)\n",
    "\n"
   ]
  },
  {
   "cell_type": "code",
   "execution_count": 74,
   "metadata": {
    "collapsed": false
   },
   "outputs": [
    {
     "data": {
      "text/plain": [
       "Counter({'group1': 62,\n",
       "         'group10': 2,\n",
       "         'group11': 9,\n",
       "         'group12': 5,\n",
       "         'group13': 3,\n",
       "         'group14': 7,\n",
       "         'group15': 21,\n",
       "         'group16': 4,\n",
       "         'group17': 10,\n",
       "         'group18': 2,\n",
       "         'group2': 8,\n",
       "         'group3': 7,\n",
       "         'group4': 44,\n",
       "         'group5': 15,\n",
       "         'group6': 35,\n",
       "         'group7': 22,\n",
       "         'group8': 14,\n",
       "         'group9': 13,\n",
       "         'groupNoGroup': 4})"
      ]
     },
     "execution_count": 74,
     "metadata": {},
     "output_type": "execute_result"
    }
   ],
   "source": [
    "from collections import Counter\n",
    "Counter(groups2)"
   ]
  },
  {
   "cell_type": "code",
   "execution_count": 58,
   "metadata": {
    "collapsed": false
   },
   "outputs": [
    {
     "name": "stdout",
     "output_type": "stream",
     "text": [
      "group1\n",
      "group2\n",
      "group3\n",
      "group4\n",
      "group5\n",
      "group6\n",
      "group7\n",
      "group8\n",
      "group9\n",
      "group10\n",
      "group11\n",
      "group12\n",
      "group13\n",
      "group14\n",
      "group15\n",
      "group16\n",
      "group17\n",
      "group18\n"
     ]
    }
   ],
   "source": [
    "if op.exists(\"./coverage_plots_pre/\") == False:\n",
    "    os.makedir(\"./coverage_plots_pre/\")\n",
    "    \n",
    "for g in group_names:\n",
    "    print(g)\n",
    "    if op.exists(\"./coverage_plots_pre/%s\" % g) == False:\n",
    "        os.mkdir(\"./coverage_plots_pre/%s\" % g)"
   ]
  },
  {
   "cell_type": "code",
   "execution_count": 75,
   "metadata": {
    "collapsed": false
   },
   "outputs": [
    {
     "name": "stdout",
     "output_type": "stream",
     "text": [
      "[1] \"group6/1.206.O.step1.contig1.genomecoverage.txt\"\n",
      "[1] \"./coverage_plots_pre/group6/1.206.O.png\"\n",
      "[1] \"group4/1.237.B.step1.contig1.genomecoverage.txt\"\n",
      "[1] \"./coverage_plots_pre/group4/1.237.B.png\"\n",
      "[1] \"group4/1.267.O.step1.contig1.genomecoverage.txt\"\n",
      "[1] \"./coverage_plots_pre/group4/1.267.O.png\"\n",
      "[1] \"group8/1.015.O.step1.contig1.genomecoverage.txt\"\n",
      "[1] \"./coverage_plots_pre/group8/1.015.O.png\"\n",
      "[1] \"group7/1.100.O.step1.contig1.genomecoverage.txt\"\n",
      "[1] \"./coverage_plots_pre/group7/1.100.O.png\"\n",
      "[1] \"group6/1.239.O.step1.contig1.genomecoverage.txt\"\n",
      "[1] \"./coverage_plots_pre/group6/1.239.O.png\"\n",
      "[1] \"group4/1.196.O.step1.contig1.genomecoverage.txt\"\n",
      "[1] \"./coverage_plots_pre/group4/1.196.O.png\"\n",
      "[1] \"group6/1.134.O.step1.contig1.genomecoverage.txt\"\n",
      "[1] \"./coverage_plots_pre/group6/1.134.O.png\"\n",
      "[1] \"group13/2.117.O.step1.contig1.genomecoverage.txt\"\n",
      "[1] \"./coverage_plots_pre/group13/2.117.O.png\"\n",
      "[1] \"group1/1.278.O.step1.contig1.genomecoverage.txt\"\n",
      "[1] \"./coverage_plots_pre/group1/1.278.O.png\"\n",
      "[1] \"group10/1.215.B.step1.contig1.genomecoverage.txt\"\n",
      "[1] \"./coverage_plots_pre/group10/1.215.B.png\"\n",
      "[1] \"group1/1.289.A.step1.contig1.genomecoverage.txt\"\n",
      "[1] \"./coverage_plots_pre/group1/1.289.A.png\"\n",
      "[1] \"group8/1.293.O.step1.contig1.genomecoverage.txt\"\n",
      "[1] \"./coverage_plots_pre/group8/1.293.O.png\"\n",
      "[1] \"group1/1.199.B.step1.contig1.genomecoverage.txt\"\n",
      "[1] \"./coverage_plots_pre/group1/1.199.B.png\"\n",
      "[1] \"group7/1.087.A.step1.contig1.genomecoverage.txt\"\n",
      "[1] \"./coverage_plots_pre/group7/1.087.A.png\"\n",
      "[1] \"group17/1.217.O.step1.contig1.genomecoverage.txt\"\n",
      "[1] \"./coverage_plots_pre/group17/1.217.O.png\"\n",
      "[1] \"group7/1.223.O.step1.contig1.genomecoverage.txt\"\n",
      "[1] \"./coverage_plots_pre/group7/1.223.O.png\"\n",
      "[1] \"group6/1.108.O.step1.contig1.genomecoverage.txt\"\n",
      "[1] \"./coverage_plots_pre/group6/1.108.O.png\"\n",
      "[1] \"group16/1.259.O.step1.contig1.genomecoverage.txt\"\n",
      "[1] \"./coverage_plots_pre/group16/1.259.O.png\"\n",
      "[1] \"group6/1.115.B.step1.contig1.genomecoverage.txt\"\n",
      "[1] \"./coverage_plots_pre/group6/1.115.B.png\"\n",
      "[1] \"group1/2.095.B.step1.contig1.genomecoverage.txt\"\n",
      "[1] \"./coverage_plots_pre/group1/2.095.B.png\"\n",
      "[1] \"group8/1.262.O.step1.contig1.genomecoverage.txt\"\n",
      "[1] \"./coverage_plots_pre/group8/1.262.O.png\"\n",
      "[1] \"group16/1.155.O.step1.contig1.genomecoverage.txt\"\n",
      "[1] \"./coverage_plots_pre/group16/1.155.O.png\"\n",
      "[1] \"group4/1.195.O.step1.contig1.genomecoverage.txt\"\n",
      "[1] \"./coverage_plots_pre/group4/1.195.O.png\"\n",
      "[1] \"group4/1.277.A.step1.contig1.genomecoverage.txt\"\n",
      "[1] \"./coverage_plots_pre/group4/1.277.A.png\"\n",
      "[1] \"group7/1.017.O.step1.contig1.genomecoverage.txt\"\n",
      "[1] \"./coverage_plots_pre/group7/1.017.O.png\"\n",
      "[1] \"group4/1.104.O.step1.contig1.genomecoverage.txt\"\n",
      "[1] \"./coverage_plots_pre/group4/1.104.O.png\"\n",
      "[1] \"group16/1.166.O.step1.contig1.genomecoverage.txt\"\n",
      "[1] \"./coverage_plots_pre/group16/1.166.O.png\"\n",
      "[1] \"group2/1.170.O.step1.contig1.genomecoverage.txt\"\n",
      "[1] \"./coverage_plots_pre/group2/1.170.O.png\"\n",
      "[1] \"group5/1.238.A.step1.contig1.genomecoverage.txt\"\n",
      "[1] \"./coverage_plots_pre/group5/1.238.A.png\"\n",
      "[1] \"group9/1.275.O.step1.contig1.genomecoverage.txt\"\n",
      "[1] \"./coverage_plots_pre/group9/1.275.O.png\"\n",
      "[1] \"group6/1.133.O.step1.contig1.genomecoverage.txt\"\n",
      "[1] \"./coverage_plots_pre/group6/1.133.O.png\"\n",
      "[1] \"group11/1.185.O.step1.contig1.genomecoverage.txt\"\n",
      "[1] \"./coverage_plots_pre/group11/1.185.O.png\"\n",
      "[1] \"group15/2.092.O.step1.contig1.genomecoverage.txt\"\n",
      "[1] \"./coverage_plots_pre/group15/2.092.O.png\"\n",
      "[1] \"group7/1.030.O.step1.contig1.genomecoverage.txt\"\n",
      "[1] \"./coverage_plots_pre/group7/1.030.O.png\"\n",
      "[1] \"group9/1.247.B.step1.contig1.genomecoverage.txt\"\n",
      "[1] \"./coverage_plots_pre/group9/1.247.B.png\"\n",
      "[1] \"group1/1.003.O.step1.contig1.genomecoverage.txt\"\n",
      "[1] \"./coverage_plots_pre/group1/1.003.O.png\"\n",
      "[1] \"group6/1.165.O.step1.contig1.genomecoverage.txt\"\n",
      "[1] \"./coverage_plots_pre/group6/1.165.O.png\"\n",
      "[1] \"group4/1.271.B.step1.contig1.genomecoverage.txt\"\n",
      "[1] \"./coverage_plots_pre/group4/1.271.B.png\"\n",
      "[1] \"group17/1.219.O.step1.contig1.genomecoverage.txt\"\n",
      "[1] \"./coverage_plots_pre/group17/1.219.O.png\"\n",
      "[1] \"group7/1.191.O.step1.contig1.genomecoverage.txt\"\n",
      "[1] \"./coverage_plots_pre/group7/1.191.O.png\"\n",
      "[1] \"group15/1.011.O.step1.contig1.genomecoverage.txt\"\n",
      "[1] \"./coverage_plots_pre/group15/1.011.O.png\"\n",
      "[1] \"group4/1.118.B.step1.contig1.genomecoverage.txt\"\n",
      "[1] \"./coverage_plots_pre/group4/1.118.B.png\"\n",
      "[1] \"group2/1.101.O.step1.contig1.genomecoverage.txt\"\n",
      "[1] \"./coverage_plots_pre/group2/1.101.O.png\"\n",
      "[1] \"group1/1.047.O.step1.contig1.genomecoverage.txt\"\n",
      "[1] \"./coverage_plots_pre/group1/1.047.O.png\"\n",
      "[1] \"group2/1.161.O.step1.contig1.genomecoverage.txt\"\n",
      "[1] \"./coverage_plots_pre/group2/1.161.O.png\"\n",
      "[1] \"group1/1.286.O.step1.contig1.genomecoverage.txt\"\n",
      "[1] \"./coverage_plots_pre/group1/1.286.O.png\"\n",
      "[1] \"group7/1.164.O.step1.contig1.genomecoverage.txt\"\n",
      "[1] \"./coverage_plots_pre/group7/1.164.O.png\"\n",
      "[1] \"group11/1.021.A.step1.contig1.genomecoverage.txt\"\n",
      "[1] \"./coverage_plots_pre/group11/1.021.A.png\"\n",
      "[1] \"group1/1.029.O.step1.contig1.genomecoverage.txt\"\n",
      "[1] \"./coverage_plots_pre/group1/1.029.O.png\"\n",
      "[1] \"group9/1.076.O.step1.contig1.genomecoverage.txt\"\n",
      "[1] \"./coverage_plots_pre/group9/1.076.O.png\"\n",
      "[1] \"group4/1.200.O.step1.contig1.genomecoverage.txt\"\n",
      "[1] \"./coverage_plots_pre/group4/1.200.O.png\"\n",
      "[1] \"group5/1.152.O.step1.contig1.genomecoverage.txt\"\n",
      "[1] \"./coverage_plots_pre/group5/1.152.O.png\"\n",
      "[1] \"group4/1.281.O.step1.contig1.genomecoverage.txt\"\n",
      "[1] \"./coverage_plots_pre/group4/1.281.O.png\"\n",
      "[1] \"group4/1.012.O.step1.contig1.genomecoverage.txt\"\n",
      "[1] \"./coverage_plots_pre/group4/1.012.O.png\"\n",
      "[1] \"group6/1.147.O.step1.contig1.genomecoverage.txt\"\n",
      "[1] \"./coverage_plots_pre/group6/1.147.O.png\"\n",
      "[1] \"group1/1.284.A.step1.contig1.genomecoverage.txt\"\n",
      "[1] \"./coverage_plots_pre/group1/1.284.A.png\"\n",
      "[1] \"group1/1.287.O.step1.contig1.genomecoverage.txt\"\n",
      "[1] \"./coverage_plots_pre/group1/1.287.O.png\"\n",
      "[1] \"group2/1.063.O.step1.contig1.genomecoverage.txt\"\n",
      "[1] \"./coverage_plots_pre/group2/1.063.O.png\"\n",
      "[1] \"group1/1.265.O.step1.contig1.genomecoverage.txt\"\n",
      "[1] \"./coverage_plots_pre/group1/1.265.O.png\"\n",
      "[1] \"group9/1.214.O.step1.contig1.genomecoverage.txt\"\n",
      "[1] \"./coverage_plots_pre/group9/1.214.O.png\"\n",
      "[1] \"group14/1.004.O.step1.contig1.genomecoverage.txt\"\n",
      "[1] \"./coverage_plots_pre/group14/1.004.O.png\"\n",
      "[1] \"group4/1.194.O.step1.contig1.genomecoverage.txt\"\n",
      "[1] \"./coverage_plots_pre/group4/1.194.O.png\"\n",
      "[1] \"group4/1.269.O.step1.contig1.genomecoverage.txt\"\n",
      "[1] \"./coverage_plots_pre/group4/1.269.O.png\"\n",
      "[1] \"group1/1.291.O.step1.contig1.genomecoverage.txt\"\n",
      "[1] \"./coverage_plots_pre/group1/1.291.O.png\"\n",
      "[1] \"group1/1.105.O.step1.contig1.genomecoverage.txt\"\n",
      "[1] \"./coverage_plots_pre/group1/1.105.O.png\"\n",
      "[1] \"group7/1.094.O.step1.contig1.genomecoverage.txt\"\n",
      "[1] \"./coverage_plots_pre/group7/1.094.O.png\"\n",
      "[1] \"group15/1.141.A.step1.contig1.genomecoverage.txt\"\n",
      "[1] \"./coverage_plots_pre/group15/1.141.A.png\"\n",
      "[1] \"group1/1.038.O.step1.contig1.genomecoverage.txt\"\n",
      "[1] \"./coverage_plots_pre/group1/1.038.O.png\"\n",
      "[1] \"group1/1.154.O.step1.contig1.genomecoverage.txt\"\n",
      "[1] \"./coverage_plots_pre/group1/1.154.O.png\"\n",
      "[1] \"group6/1.189.B.step1.contig1.genomecoverage.txt\"\n",
      "[1] \"./coverage_plots_pre/group6/1.189.B.png\"\n",
      "[1] \"group8/1.139.B.step1.contig1.genomecoverage.txt\"\n",
      "[1] \"./coverage_plots_pre/group8/1.139.B.png\"\n",
      "[1] \"group12/2.096.O.step1.contig1.genomecoverage.txt\"\n",
      "[1] \"./coverage_plots_pre/group12/2.096.O.png\"\n",
      "[1] \"group4/1.027.O.step1.contig1.genomecoverage.txt\"\n",
      "[1] \"./coverage_plots_pre/group4/1.027.O.png\"\n",
      "[1] \"group1/1.173.O.step1.contig1.genomecoverage.txt\"\n",
      "[1] \"./coverage_plots_pre/group1/1.173.O.png\"\n",
      "[1] \"group6/1.176.O.step1.contig1.genomecoverage.txt\"\n",
      "[1] \"./coverage_plots_pre/group6/1.176.O.png\"\n",
      "[1] \"group7/1.009.O.step1.contig1.genomecoverage.txt\"\n",
      "[1] \"./coverage_plots_pre/group7/1.009.O.png\"\n",
      "[1] \"group3/1.031.O.step1.contig1.genomecoverage.txt\"\n",
      "[1] \"./coverage_plots_pre/group3/1.031.O.png\"\n",
      "[1] \"group8/1.253.O.step1.contig1.genomecoverage.txt\"\n",
      "[1] \"./coverage_plots_pre/group8/1.253.O.png\"\n",
      "[1] \"group14/1.072.O.step1.contig1.genomecoverage.txt\"\n",
      "[1] \"./coverage_plots_pre/group14/1.072.O.png\"\n",
      "[1] \"group15/1.095.O.step1.contig1.genomecoverage.txt\"\n",
      "[1] \"./coverage_plots_pre/group15/1.095.O.png\"\n",
      "[1] \"group1/1.177.O.step1.contig1.genomecoverage.txt\"\n",
      "[1] \"./coverage_plots_pre/group1/1.177.O.png\"\n",
      "[1] \"group4/1.046.O.step1.contig1.genomecoverage.txt\"\n",
      "[1] \"./coverage_plots_pre/group4/1.046.O.png\"\n",
      "[1] \"group7/1.225.O.step1.contig1.genomecoverage.txt\"\n",
      "[1] \"./coverage_plots_pre/group7/1.225.O.png\"\n",
      "[1] \"group1/1.213.O.step1.contig1.genomecoverage.txt\"\n",
      "[1] \"./coverage_plots_pre/group1/1.213.O.png\"\n",
      "[1] \"group15/1.107.B.step1.contig1.genomecoverage.txt\"\n",
      "[1] \"./coverage_plots_pre/group15/1.107.B.png\"\n",
      "[1] \"group15/1.069.O.step1.contig1.genomecoverage.txt\"\n",
      "[1] \"./coverage_plots_pre/group15/1.069.O.png\"\n",
      "[1] \"group17/1.028.O.step1.contig1.genomecoverage.txt\"\n",
      "[1] \"./coverage_plots_pre/group17/1.028.O.png\"\n",
      "[1] \"group1/1.036.O.step1.contig1.genomecoverage.txt\"\n",
      "[1] \"./coverage_plots_pre/group1/1.036.O.png\"\n",
      "[1] \"group4/1.250.O.step1.contig1.genomecoverage.txt\"\n",
      "[1] \"./coverage_plots_pre/group4/1.250.O.png\"\n",
      "[1] \"group1/1.276.O.step1.contig1.genomecoverage.txt\"\n",
      "[1] \"./coverage_plots_pre/group1/1.276.O.png\"\n",
      "[1] \"group6/1.167.O.step1.contig1.genomecoverage.txt\"\n",
      "[1] \"./coverage_plots_pre/group6/1.167.O.png\"\n",
      "[1] \"group9/1.211.A.step1.contig1.genomecoverage.txt\"\n",
      "[1] \"./coverage_plots_pre/group9/1.211.A.png\"\n",
      "[1] \"group8/1.235.O.step1.contig1.genomecoverage.txt\"\n",
      "[1] \"./coverage_plots_pre/group8/1.235.O.png\"\n",
      "[1] \"group4/1.272.O.step1.contig1.genomecoverage.txt\"\n",
      "[1] \"./coverage_plots_pre/group4/1.272.O.png\"\n",
      "[1] \"group3/1.081.O.step1.contig1.genomecoverage.txt\"\n",
      "[1] \"./coverage_plots_pre/group3/1.081.O.png\"\n",
      "[1] \"group6/1.189.O.step1.contig1.genomecoverage.txt\"\n",
      "[1] \"./coverage_plots_pre/group6/1.189.O.png\"\n",
      "[1] \"group3/2.275.O.step1.contig1.genomecoverage.txt\"\n",
      "[1] \"./coverage_plots_pre/group3/2.275.O.png\"\n",
      "[1] \"group1/1.016.O.step1.contig1.genomecoverage.txt\"\n",
      "[1] \"./coverage_plots_pre/group1/1.016.O.png\"\n",
      "[1] \"group7/1.093.O.step1.contig1.genomecoverage.txt\"\n",
      "[1] \"./coverage_plots_pre/group7/1.093.O.png\"\n",
      "[1] \"group5/1.238.B.step1.contig1.genomecoverage.txt\"\n",
      "[1] \"./coverage_plots_pre/group5/1.238.B.png\"\n",
      "[1] \"group2/1.121.O.step1.contig1.genomecoverage.txt\"\n",
      "[1] \"./coverage_plots_pre/group2/1.121.O.png\"\n",
      "[1] \"group7/1.174.O.step1.contig1.genomecoverage.txt\"\n",
      "[1] \"./coverage_plots_pre/group7/1.174.O.png\"\n",
      "[1] \"group1/1.243.O.step1.contig1.genomecoverage.txt\"\n",
      "[1] \"./coverage_plots_pre/group1/1.243.O.png\"\n",
      "[1] \"group4/1.270.B.step1.contig1.genomecoverage.txt\"\n",
      "[1] \"./coverage_plots_pre/group4/1.270.B.png\"\n",
      "[1] \"group3/2.058.O.step1.contig1.genomecoverage.txt\"\n",
      "[1] \"./coverage_plots_pre/group3/2.058.O.png\"\n",
      "[1] \"group5/1.224.A.step1.contig1.genomecoverage.txt\"\n",
      "[1] \"./coverage_plots_pre/group5/1.224.A.png\"\n",
      "[1] \"group6/1.148.O.step1.contig1.genomecoverage.txt\"\n",
      "[1] \"./coverage_plots_pre/group6/1.148.O.png\"\n",
      "[1] \"group4/1.089.O.step1.contig1.genomecoverage.txt\"\n",
      "[1] \"./coverage_plots_pre/group4/1.089.O.png\"\n",
      "[1] \"group1/1.198.B.step1.contig1.genomecoverage.txt\"\n",
      "[1] \"./coverage_plots_pre/group1/1.198.B.png\"\n",
      "[1] \"group6/1.157.O.step1.contig1.genomecoverage.txt\"\n",
      "[1] \"./coverage_plots_pre/group6/1.157.O.png\"\n",
      "[1] \"group4/1.088.O.step1.contig1.genomecoverage.txt\"\n",
      "[1] \"./coverage_plots_pre/group4/1.088.O.png\"\n",
      "[1] \"group4/1.274.O.step1.contig1.genomecoverage.txt\"\n",
      "[1] \"./coverage_plots_pre/group4/1.274.O.png\"\n",
      "[1] \"group8/1.070.O.step1.contig1.genomecoverage.txt\"\n",
      "[1] \"./coverage_plots_pre/group8/1.070.O.png\"\n",
      "[1] \"group5/1.026.O.step1.contig1.genomecoverage.txt\"\n",
      "[1] \"./coverage_plots_pre/group5/1.026.O.png\"\n",
      "[1] \"group1/1.127.O.step1.contig1.genomecoverage.txt\"\n",
      "[1] \"./coverage_plots_pre/group1/1.127.O.png\"\n",
      "[1] \"group6/1.172.O.step1.contig1.genomecoverage.txt\"\n",
      "[1] \"./coverage_plots_pre/group6/1.172.O.png\"\n",
      "[1] \"group4/1.271.A.step1.contig1.genomecoverage.txt\"\n",
      "[1] \"./coverage_plots_pre/group4/1.271.A.png\"\n",
      "[1] \"group15/1.008.O.step1.contig1.genomecoverage.txt\"\n",
      "[1] \"./coverage_plots_pre/group15/1.008.O.png\"\n",
      "[1] \"group15/1.102.O.step1.contig1.genomecoverage.txt\"\n",
      "[1] \"./coverage_plots_pre/group15/1.102.O.png\"\n",
      "[1] \"group7/1.086.O.step1.contig1.genomecoverage.txt\"\n",
      "[1] \"./coverage_plots_pre/group7/1.086.O.png\"\n",
      "[1] \"group5/1.261.O.step1.contig1.genomecoverage.txt\"\n",
      "[1] \"./coverage_plots_pre/group5/1.261.O.png\"\n",
      "[1] \"group6/1.085.O.step1.contig1.genomecoverage.txt\"\n",
      "[1] \"./coverage_plots_pre/group6/1.085.O.png\"\n",
      "[1] \"group11/1.204.O.step1.contig1.genomecoverage.txt\"\n",
      "[1] \"./coverage_plots_pre/group11/1.204.O.png\"\n",
      "[1] \"group4/1.023.O.step1.contig1.genomecoverage.txt\"\n",
      "[1] \"./coverage_plots_pre/group4/1.023.O.png\"\n",
      "[1] \"group5/1.097.O.step1.contig1.genomecoverage.txt\"\n",
      "[1] \"./coverage_plots_pre/group5/1.097.O.png\"\n",
      "[1] \"group12/1.050.O.step1.contig1.genomecoverage.txt\"\n",
      "[1] \"./coverage_plots_pre/group12/1.050.O.png\"\n",
      "[1] \"group15/1.107.C.step1.contig1.genomecoverage.txt\"\n",
      "[1] \"./coverage_plots_pre/group15/1.107.C.png\"\n",
      "[1] \"group4/1.171.O.step1.contig1.genomecoverage.txt\"\n",
      "[1] \"./coverage_plots_pre/group4/1.171.O.png\"\n",
      "[1] \"group9/1.013.O.step1.contig1.genomecoverage.txt\"\n",
      "[1] \"./coverage_plots_pre/group9/1.013.O.png\"\n",
      "[1] \"group17/2.159.B.step1.contig1.genomecoverage.txt\"\n",
      "[1] \"./coverage_plots_pre/group17/2.159.B.png\"\n",
      "[1] \"group5/1.025.O.step1.contig1.genomecoverage.txt\"\n",
      "[1] \"./coverage_plots_pre/group5/1.025.O.png\"\n",
      "[1] \"group12/1.049.O.step1.contig1.genomecoverage.txt\"\n",
      "[1] \"./coverage_plots_pre/group12/1.049.O.png\"\n",
      "[1] \"group15/1.080.O.step1.contig1.genomecoverage.txt\"\n",
      "[1] \"./coverage_plots_pre/group15/1.080.O.png\"\n",
      "[1] \"group7/1.205.O.step1.contig1.genomecoverage.txt\"\n",
      "[1] \"./coverage_plots_pre/group7/1.205.O.png\"\n",
      "[1] \"group8/1.077.O.step1.contig1.genomecoverage.txt\"\n",
      "[1] \"./coverage_plots_pre/group8/1.077.O.png\"\n",
      "[1] \"group15/1.062.O.step1.contig1.genomecoverage.txt\"\n",
      "[1] \"./coverage_plots_pre/group15/1.062.O.png\"\n",
      "[1] \"group6/1.074.O.step1.contig1.genomecoverage.txt\"\n",
      "[1] \"./coverage_plots_pre/group6/1.074.O.png\"\n",
      "[1] \"group17/1.202.O.step1.contig1.genomecoverage.txt\"\n",
      "[1] \"./coverage_plots_pre/group17/1.202.O.png\"\n",
      "[1] \"group1/1.263.B.step1.contig1.genomecoverage.txt\"\n",
      "[1] \"./coverage_plots_pre/group1/1.263.B.png\"\n",
      "[1] \"group4/1.277.B.step1.contig1.genomecoverage.txt\"\n",
      "[1] \"./coverage_plots_pre/group4/1.277.B.png\"\n",
      "[1] \"group1/1.123.O.step1.contig1.genomecoverage.txt\"\n",
      "[1] \"./coverage_plots_pre/group1/1.123.O.png\"\n",
      "[1] \"group6/1.233.B.step1.contig1.genomecoverage.txt\"\n",
      "[1] \"./coverage_plots_pre/group6/1.233.B.png\"\n",
      "[1] \"group1/1.216.O.step1.contig1.genomecoverage.txt\"\n",
      "[1] \"./coverage_plots_pre/group1/1.216.O.png\"\n",
      "[1] \"group1/1.039.O.step1.contig1.genomecoverage.txt\"\n",
      "[1] \"./coverage_plots_pre/group1/1.039.O.png\"\n",
      "[1] \"group7/1.175.O.step1.contig1.genomecoverage.txt\"\n",
      "[1] \"./coverage_plots_pre/group7/1.175.O.png\"\n",
      "[1] \"group8/1.208.B.step1.contig1.genomecoverage.txt\"\n",
      "[1] \"./coverage_plots_pre/group8/1.208.B.png\"\n",
      "[1] \"group6/1.110.O.step1.contig1.genomecoverage.txt\"\n",
      "[1] \"./coverage_plots_pre/group6/1.110.O.png\"\n",
      "[1] \"group17/1.156.O.step1.contig1.genomecoverage.txt\"\n",
      "[1] \"./coverage_plots_pre/group17/1.156.O.png\"\n",
      "[1] \"group6/1.064.O.step1.contig1.genomecoverage.txt\"\n",
      "[1] \"./coverage_plots_pre/group6/1.064.O.png\"\n",
      "[1] \"group1/1.232.O.step1.contig1.genomecoverage.txt\"\n",
      "[1] \"./coverage_plots_pre/group1/1.232.O.png\"\n",
      "[1] \"group1/1.178.O.step1.contig1.genomecoverage.txt\"\n",
      "[1] \"./coverage_plots_pre/group1/1.178.O.png\"\n",
      "[1] \"group1/1.054.O.step1.contig1.genomecoverage.txt\"\n",
      "[1] \"./coverage_plots_pre/group1/1.054.O.png\"\n",
      "[1] \"group10/1.215.A.step1.contig1.genomecoverage.txt\"\n",
      "[1] \"./coverage_plots_pre/group10/1.215.A.png\"\n",
      "[1] \"group4/1.103.O.step1.contig1.genomecoverage.txt\"\n",
      "[1] \"./coverage_plots_pre/group4/1.103.O.png\"\n",
      "[1] \"group1/1.236.O.step1.contig1.genomecoverage.txt\"\n",
      "[1] \"./coverage_plots_pre/group1/1.236.O.png\"\n",
      "[1] \"group2/1.187.O.step1.contig1.genomecoverage.txt\"\n",
      "[1] \"./coverage_plots_pre/group2/1.187.O.png\"\n",
      "[1] \"group1/1.119.O.step1.contig1.genomecoverage.txt\"\n",
      "[1] \"./coverage_plots_pre/group1/1.119.O.png\"\n",
      "[1] \"group2/1.084.O.step1.contig1.genomecoverage.txt\"\n",
      "[1] \"./coverage_plots_pre/group2/1.084.O.png\"\n",
      "[1] \"group15/1.043.O.step1.contig1.genomecoverage.txt\"\n",
      "[1] \"./coverage_plots_pre/group15/1.043.O.png\"\n",
      "[1] \"group4/1.022.O.step1.contig1.genomecoverage.txt\"\n",
      "[1] \"./coverage_plots_pre/group4/1.022.O.png\"\n",
      "[1] \"group1/1.151.O.step1.contig1.genomecoverage.txt\"\n",
      "[1] \"./coverage_plots_pre/group1/1.151.O.png\"\n",
      "[1] \"group1/1.067.O.step1.contig1.genomecoverage.txt\"\n",
      "[1] \"./coverage_plots_pre/group1/1.067.O.png\"\n",
      "[1] \"group6/1.189.C.step1.contig1.genomecoverage.txt\"\n",
      "[1] \"./coverage_plots_pre/group6/1.189.C.png\"\n",
      "[1] \"group14/1.037.O.step1.contig1.genomecoverage.txt\"\n",
      "[1] \"./coverage_plots_pre/group14/1.037.O.png\"\n",
      "[1] \"group4/1.251.O.step1.contig1.genomecoverage.txt\"\n",
      "[1] \"./coverage_plots_pre/group4/1.251.O.png\"\n",
      "[1] \"group15/1.249.B.step1.contig1.genomecoverage.txt\"\n",
      "[1] \"./coverage_plots_pre/group15/1.249.B.png\"\n",
      "[1] \"group4/1.268.A.step1.contig1.genomecoverage.txt\"\n",
      "[1] \"./coverage_plots_pre/group4/1.268.A.png\"\n",
      "[1] \"groupNoGroup/1.126.O.step1.contig1.genomecoverage.txt\"\n",
      "Error in file(file, \"rt\") : cannot open the connection\n"
     ]
    }
   ],
   "source": [
    "%%R -i groups2 -i phages\n",
    "plotnames <- c()\n",
    "for (s in seq(1, length(groups))){\n",
    "    group <- groups2[s]\n",
    "    item <- phages[s]\n",
    "    \n",
    "    filename<-paste(group,\"/\",item,\"step1.contig1.genomecoverage.txt\",sep=\"\")\n",
    "    print(filename)\n",
    "    coverage<-read.table(filename, sep=\"\\t\")\n",
    "    #with(coverage, plot(V2, V3, type=\"l\", col=\"aquamarine\", cex=2))\n",
    "    coverage %>% ggplot(aes(V2, V3)) + geom_line() +theme_bw() + labs(x=\"Genome Position\", y=\"Raw Read Coverage\", title=item)-> p\n",
    "\n",
    "    outname = paste(\"./coverage_plots_pre/\",group,\"/\",item,\"png\", sep=\"\")\n",
    "    print(outname)\n",
    "    png(filename=outname, width=800, height=400, units=\"px\")\n",
    "    plot(p)\n",
    "    dev.off()\n",
    "    \n",
    "    plotnames = c(plotnames, outname)\n",
    "}"
   ]
  },
  {
   "cell_type": "code",
   "execution_count": 35,
   "metadata": {
    "collapsed": false
   },
   "outputs": [
    {
     "data": {
      "text/plain": [
       "[1] \"./coverage_plots_pre/group1/1.278.O.png\"\n",
       "[1] \"./coverage_plots_pre/group1/1.289.A.png\"\n"
      ]
     },
     "metadata": {},
     "output_type": "display_data"
    }
   ],
   "source": [
    "%%R -i groups2 -i phages -w 800\n",
    "plotnames = c()\n",
    "for (item in group1[c(1,2)]){\n",
    "    filename<-paste(group,\"/\",item,\"step1.contig1.genomecoverage.txt\",sep=\"\")\n",
    "    coverage<-read.table(filename, sep=\"\\t\")\n",
    "    #with(coverage, plot(V2, V3, type=\"l\", col=\"aquamarine\", cex=2))\n",
    "    coverage %>% ggplot(aes(V2, V3)) + geom_line() +theme_bw() + labs(x=\"Genome Position\", y=\"Raw Read Coverage\", title=item)-> p\n",
    "\n",
    "    outname = paste(\"./coverage_plots_pre/\",group,\"/\",item,\"png\", sep=\"\")\n",
    "    print(outname)\n",
    "    png(filename=outname, width=800, height=400, units=\"px\")\n",
    "    plot(p)\n",
    "    dev.off()\n",
    "    \n",
    "    plotnames = c(plotnames, outname)\n",
    "}"
   ]
  },
  {
   "cell_type": "code",
   "execution_count": null,
   "metadata": {
    "collapsed": true
   },
   "outputs": [],
   "source": []
  },
  {
   "cell_type": "code",
   "execution_count": 52,
   "metadata": {
    "collapsed": false
   },
   "outputs": [
    {
     "data": {
      "image/png": "[encoded data removed]",
      "text/plain": [
       "<IPython.core.display.Image object>"
      ]
     },
     "execution_count": 52,
     "metadata": {},
     "output_type": "execute_result"
    }
   ],
   "source": [
    "Image(plotnames[100])"
   ]
  },
  {
   "cell_type": "code",
   "execution_count": 53,
   "metadata": {
    "collapsed": false
   },
   "outputs": [
    {
     "data": {
      "text/plain": [
       "'./coverage_plots_pre/group5/1.238.B.png'"
      ]
     },
     "execution_count": 53,
     "metadata": {},
     "output_type": "execute_result"
    }
   ],
   "source": [
    "plotnames[100]"
   ]
  },
  {
   "cell_type": "code",
   "execution_count": null,
   "metadata": {
    "collapsed": true
   },
   "outputs": [],
   "source": [
    "ls(\"./coverage_plots_pre/group1/\")"
   ]
  },
  {
   "cell_type": "code",
   "execution_count": null,
   "metadata": {
    "collapsed": true
   },
   "outputs": [],
   "source": []
  },
  {
   "cell_type": "code",
   "execution_count": null,
   "metadata": {
    "collapsed": true
   },
   "outputs": [],
   "source": []
  }
 ],
 "metadata": {
  "kernelspec": {
   "display_name": "Python 2",
   "language": "python",
   "name": "python2"
  },
  "language_info": {
   "codemirror_mode": {
    "name": "ipython",
    "version": 2
   },
   "file_extension": ".py",
   "mimetype": "text/x-python",
   "name": "python",
   "nbconvert_exporter": "python",
   "pygments_lexer": "ipython2",
   "version": "2.7.11"
  }
 },
 "nbformat": 4,
 "nbformat_minor": 0
}
