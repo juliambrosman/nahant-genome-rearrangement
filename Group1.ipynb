{
 "metadata": {
  "name": "",
  "signature": "sha256:9fe7d64f02c19649a1202cb94fac2eed7707c34a69eba87224094bb936415aca"
 },
 "nbformat": 3,
 "nbformat_minor": 0,
 "worksheets": [
  {
   "cells": [
    {
     "cell_type": "code",
     "collapsed": false,
     "input": [
      "group=\"group1\""
     ],
     "language": "python",
     "metadata": {},
     "outputs": [],
     "prompt_number": 1
    },
    {
     "cell_type": "code",
     "collapsed": false,
     "input": [
      "pwd"
     ],
     "language": "python",
     "metadata": {},
     "outputs": [
      {
       "metadata": {},
       "output_type": "pyout",
       "prompt_number": 2,
       "text": [
        "u'/Users/jmb/Desktop/ViralFate/PhageGenomeAssembly'"
       ]
      }
     ],
     "prompt_number": 2
    },
    {
     "cell_type": "code",
     "collapsed": false,
     "input": [],
     "language": "python",
     "metadata": {},
     "outputs": [],
     "prompt_number": 36
    },
    {
     "cell_type": "code",
     "collapsed": false,
     "input": [
      "import os\n",
      "\n",
      "prelim_groups=open(\"phage_by_group.txt\")\n",
      "phage_grp={}\n",
      "for line in prelim_groups.readlines():\n",
      "    line=line.rstrip(\"\\n\")\n",
      "    vec=line.split(\"\\t\")\n",
      "    phage_grp[vec[0]]=vec[1]\n",
      "groups=list(phage_grp.values())\n",
      "unique=[]\n",
      "for value in groups:\n",
      "    if value not in unique:\n",
      "        unique.append(value)"
     ],
     "language": "python",
     "metadata": {},
     "outputs": [],
     "prompt_number": 3
    },
    {
     "cell_type": "code",
     "collapsed": false,
     "input": [
      "group1=[]\n",
      "for value in phage_grp.keys():\n",
      "    if phage_grp.get(value)=='CNSv2.0:1':\n",
      "        group1.append(value)\n",
      "group1"
     ],
     "language": "python",
     "metadata": {},
     "outputs": [
      {
       "metadata": {},
       "output_type": "pyout",
       "prompt_number": 4,
       "text": [
        "['1.278.O.',\n",
        " '1.289.A.',\n",
        " '1.199.B.',\n",
        " '2.095.B.',\n",
        " '1.003.O.',\n",
        " '1.047.O.',\n",
        " '1.286.O.',\n",
        " '1.029.O.',\n",
        " '1.284.A.',\n",
        " '1.287.O.',\n",
        " '1.265.O.',\n",
        " '1.291.O.',\n",
        " '1.105.O.',\n",
        " '1.038.O.',\n",
        " '1.154.O.',\n",
        " '1.173.O.',\n",
        " '1.177.O.',\n",
        " '1.213.O.',\n",
        " '1.036.O.',\n",
        " '1.276.O.',\n",
        " '1.016.O.',\n",
        " '1.243.O.',\n",
        " '1.198.B.',\n",
        " '1.127.O.',\n",
        " '1.263.B.',\n",
        " '1.123.O.',\n",
        " '1.216.O.',\n",
        " '1.039.O.',\n",
        " '1.232.O.',\n",
        " '1.178.O.',\n",
        " '1.054.O.',\n",
        " '1.236.O.',\n",
        " '1.119.O.',\n",
        " '1.151.O.',\n",
        " '1.067.O.',\n",
        " '1.112.O.',\n",
        " '1.198.A.',\n",
        " '1.199.A.',\n",
        " '1.149.O.',\n",
        " '1.007.O.',\n",
        " '1.186.O.',\n",
        " '1.079.O.',\n",
        " '1.091.O.',\n",
        " '1.143.O.',\n",
        " '1.197.A.',\n",
        " '1.137.O.',\n",
        " '1.106.O.',\n",
        " '1.090.B.',\n",
        " '1.273.O.',\n",
        " '1.071.A.',\n",
        " '1.060.A.',\n",
        " '1.042.O.',\n",
        " '1.263.A.',\n",
        " '1.113.A.',\n",
        " '1.135.O.',\n",
        " '2.095.A.',\n",
        " '1.061.O.',\n",
        " '1.248.O.',\n",
        " '1.144.O.',\n",
        " '1.256.O.',\n",
        " '1.231.O.',\n",
        " '1.052.A.']"
       ]
      }
     ],
     "prompt_number": 4
    },
    {
     "cell_type": "code",
     "collapsed": false,
     "input": [],
     "language": "python",
     "metadata": {},
     "outputs": [],
     "prompt_number": 5
    },
    {
     "cell_type": "code",
     "collapsed": false,
     "input": [],
     "language": "python",
     "metadata": {},
     "outputs": [],
     "prompt_number": 32
    },
    {
     "cell_type": "code",
     "collapsed": false,
     "input": [
      "import os\n",
      "os.mkdir(group)\n",
      "os.chdir(\"./\"+group)"
     ],
     "language": "python",
     "metadata": {},
     "outputs": [],
     "prompt_number": 5
    },
    {
     "cell_type": "code",
     "collapsed": false,
     "input": [
      "output=open(\"./move_\"+group+\".sh\",\"w\")\n",
      "output.write(\"mkdir \"+group+\"\\n\")\n",
      "for line in group1:\n",
      "    output.write(\"mv \"+line+\"*fastq ./\"+group+\"/\\n\")\n",
      "output.close()"
     ],
     "language": "python",
     "metadata": {},
     "outputs": [],
     "prompt_number": 6
    },
    {
     "cell_type": "code",
     "collapsed": false,
     "input": [
      "!scp move_group1.sh jbrown@eofe4.mit.edu:/nobackup1/jbrown/nahant_phage_reads/"
     ],
     "language": "python",
     "metadata": {},
     "outputs": [
      {
       "output_type": "stream",
       "stream": "stdout",
       "text": [
        "\r",
        "move_group1.sh                                  0%    0     0.0KB/s   --:-- ETA\r",
        "move_group1.sh                                100% 1749     1.7KB/s   00:00    \r\n"
       ]
      }
     ],
     "prompt_number": 7
    },
    {
     "cell_type": "code",
     "collapsed": false,
     "input": [
      "On the server:\n",
      "ls *fastq>group1_fastqlist.txt"
     ],
     "language": "python",
     "metadata": {},
     "outputs": []
    },
    {
     "cell_type": "code",
     "collapsed": false,
     "input": [
      "!scp jbrown@eofe4.mit.edu:/nobackup1/jbrown/nahant_phage_reads/group1/group*_fastqlist.txt ./"
     ],
     "language": "python",
     "metadata": {},
     "outputs": [
      {
       "output_type": "stream",
       "stream": "stdout",
       "text": [
        "\r",
        "group1_fastqlist.txt                            0%    0     0.0KB/s   --:-- ETA\r",
        "group1_fastqlist.txt                          100% 1815     1.8KB/s   00:00    \r\n"
       ]
      }
     ],
     "prompt_number": 8
    },
    {
     "cell_type": "code",
     "collapsed": false,
     "input": [
      "def step1_script(fastq_list):\n",
      "    fastq=open(fastq_list)\n",
      "    program=open(\"step1.sh\",\"a\")\n",
      "    for name in fastq:\n",
      "        vec=name.split(\"_\")\n",
      "        heading=vec[0]\n",
      "        program.write(\"\\n\\n#\"+name+\"\\nclc_assembler -o \"+heading+\"step1.clc.fasta -m 500 -p fb ss 100 300 -q \"+ name+\"\\nclc_mapper -o \"+heading+\"step1.cas -p fb ss 100 300 -q \"+name.replace(\"\\n\",\"\")+\" -d \"+heading+\"step1.clc.fasta -a local -r ignore\\nclc_cas_to_sam -a \"+heading+\"step1.cas -o \"+heading+\"step1.bam\\n\\nsamtools sort \"+heading+\"step1.bam 1.025.O.sorted\\nsamtools index \"+heading+\"sorted.bam\\nbedtools genomecov -ibam \"+heading+\"step1.bam -d >\"+heading+\"step1.genomecoverage.txt\")\n",
      "    program.close()"
     ],
     "language": "python",
     "metadata": {},
     "outputs": [],
     "prompt_number": 9
    },
    {
     "cell_type": "code",
     "collapsed": false,
     "input": [
      "step1_script(group+\"_fastqlist.txt\")"
     ],
     "language": "python",
     "metadata": {},
     "outputs": [],
     "prompt_number": 10
    },
    {
     "cell_type": "code",
     "collapsed": false,
     "input": [
      "!open step1.sh -a textedit"
     ],
     "language": "python",
     "metadata": {},
     "outputs": [],
     "prompt_number": 11
    },
    {
     "cell_type": "raw",
     "metadata": {},
     "source": [
      "#add heading to step1.sh:\n",
      "\n",
      "#!/bin/bash                                                                                                                                                                \n",
      "#SBATCH -n 16                                                                                                                                                              \n",
      "#SBATCH -N 1                                   # minimum number of nodes                                                                                                                            \n",
      "#SBATCH -o step1.out      # File to which STDOUT will be written                                                                                   \n",
      "#SBATCH -e step1.err      # File to which STDERR will be written                                                                                   \n",
      "#SBATCH -p newnodes                # name of partition to use                                                                                                                                  \n",
      "\n",
      "module add engaging/clc-assembly-cell\n",
      "module add engaging/samtools/1.1\n",
      "module add engaging/bedtools/2.22.1\n"
     ]
    },
    {
     "cell_type": "code",
     "collapsed": false,
     "input": [
      "!scp step1.sh jbrown@eofe4.mit.edu:/nobackup1/jbrown/nahant_phage_reads/group1/"
     ],
     "language": "python",
     "metadata": {},
     "outputs": [
      {
       "output_type": "stream",
       "stream": "stdout",
       "text": [
        "\r",
        "step1.sh                                        0%    0     0.0KB/s   --:-- ETA"
       ]
      },
      {
       "output_type": "stream",
       "stream": "stdout",
       "text": [
        "\r",
        "step1.sh                                      100%   30KB  30.0KB/s   00:00    \r\n"
       ]
      }
     ],
     "prompt_number": 12
    },
    {
     "cell_type": "raw",
     "metadata": {},
     "source": [
      "#on the server:\n",
      "sbatch step1.sh"
     ]
    },
    {
     "cell_type": "code",
     "collapsed": false,
     "input": [],
     "language": "python",
     "metadata": {},
     "outputs": []
    }
   ],
   "metadata": {}
  }
 ]
}