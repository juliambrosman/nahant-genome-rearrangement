{
 "metadata": {
  "name": "",
  "signature": "sha256:ff1e528989bf0278b3896899a2fd87d82ce5bbe537c2273d751fce04f8c621cd"
 },
 "nbformat": 3,
 "nbformat_minor": 0,
 "worksheets": [
  {
   "cells": [
    {
     "cell_type": "code",
     "collapsed": false,
     "input": [
      "%load_ext rmagic\n",
      "%R library(dplyr); library(ggplot2)"
     ],
     "language": "python",
     "metadata": {},
     "outputs": [
      {
       "metadata": {},
       "output_type": "display_data",
       "text": [
        "\n",
        "Attaching package: \u2018dplyr\u2019\n",
        "\n",
        "The following object is masked from \u2018package:stats\u2019:\n",
        "\n",
        "    filter\n",
        "\n",
        "The following objects are masked from \u2018package:base\u2019:\n",
        "\n",
        "    intersect, setdiff, setequal, union\n",
        "\n"
       ]
      },
      {
       "metadata": {},
       "output_type": "pyout",
       "prompt_number": 1,
       "text": [
        "array(['ggplot2', 'dplyr', 'tools', 'stats', 'graphics', 'grDevices',\n",
        "       'utils', 'datasets', 'methods', 'base'], \n",
        "      dtype='|S9')"
       ]
      }
     ],
     "prompt_number": 1
    },
    {
     "cell_type": "code",
     "collapsed": false,
     "input": [
      "group=\"group1\""
     ],
     "language": "python",
     "metadata": {},
     "outputs": [],
     "prompt_number": 2
    },
    {
     "cell_type": "code",
     "collapsed": false,
     "input": [
      "import os\n",
      "\n",
      "prelim_groups=open(\"phage_by_group.txt\")\n",
      "phage_grp={}\n",
      "for line in prelim_groups.readlines():\n",
      "    line=line.rstrip(\"\\n\")\n",
      "    vec=line.split(\"\\t\")\n",
      "    phage_grp[vec[0]]=vec[1]\n",
      "groups=list(phage_grp.values())\n",
      "unique=[]\n",
      "for value in groups:\n",
      "    if value not in unique:\n",
      "        unique.append(value)\n",
      "group1=[]\n",
      "for value in phage_grp.keys():\n",
      "    if phage_grp.get(value)=='CNSv2.0:1':\n",
      "        group1.append(value)\n",
      "print(group1)\n",
      "os.chdir(\"./\"+group)"
     ],
     "language": "python",
     "metadata": {},
     "outputs": [
      {
       "output_type": "stream",
       "stream": "stdout",
       "text": [
        "['1.278.O.', '1.289.A.', '1.199.B.', '2.095.B.', '1.003.O.', '1.047.O.', '1.286.O.', '1.029.O.', '1.284.A.', '1.287.O.', '1.265.O.', '1.291.O.', '1.105.O.', '1.038.O.', '1.154.O.', '1.173.O.', '1.177.O.', '1.213.O.', '1.036.O.', '1.276.O.', '1.016.O.', '1.243.O.', '1.198.B.', '1.127.O.', '1.263.B.', '1.123.O.', '1.216.O.', '1.039.O.', '1.232.O.', '1.178.O.', '1.054.O.', '1.236.O.', '1.119.O.', '1.151.O.', '1.067.O.', '1.112.O.', '1.198.A.', '1.199.A.', '1.149.O.', '1.007.O.', '1.186.O.', '1.079.O.', '1.091.O.', '1.143.O.', '1.197.A.', '1.137.O.', '1.106.O.', '1.090.B.', '1.273.O.', '1.071.A.', '1.060.A.', '1.042.O.', '1.263.A.', '1.113.A.', '1.135.O.', '2.095.A.', '1.061.O.', '1.248.O.', '1.144.O.', '1.256.O.', '1.231.O.', '1.052.A.']\n"
       ]
      }
     ],
     "prompt_number": 3
    },
    {
     "cell_type": "code",
     "collapsed": false,
     "input": [
      "len(group1)"
     ],
     "language": "python",
     "metadata": {},
     "outputs": [
      {
       "metadata": {},
       "output_type": "pyout",
       "prompt_number": 39,
       "text": [
        "62"
       ]
      }
     ],
     "prompt_number": 39
    },
    {
     "cell_type": "markdown",
     "metadata": {},
     "source": [
      "###Setting up folders and moving files to the right places:"
     ]
    },
    {
     "cell_type": "code",
     "collapsed": false,
     "input": [
      "output=open(\"./move_\"+group+\".sh\",\"w\")\n",
      "output.write(\"mkdir \"+group+\"\\n\")\n",
      "for line in group1:\n",
      "    output.write(\"mv \"+line+\"*fastq ./\"+group+\"/\\n\")\n",
      "output.close()\n",
      "!scp move_group1.sh jbrown@eofe4.mit.edu:/nobackup1/jbrown/nahant_phage_reads/"
     ],
     "language": "python",
     "metadata": {},
     "outputs": [
      {
       "output_type": "stream",
       "stream": "stdout",
       "text": [
        "\r",
        "move_group1.sh                                  0%    0     0.0KB/s   --:-- ETA\r",
        "move_group1.sh                                100% 1749     1.7KB/s   00:00    \r\n"
       ]
      }
     ],
     "prompt_number": 7
    },
    {
     "cell_type": "raw",
     "metadata": {},
     "source": [
      "On the server:\n",
      "ls *fastq>group1_fastqlist.txt"
     ]
    },
    {
     "cell_type": "code",
     "collapsed": false,
     "input": [
      "!scp jbrown@eofe4.mit.edu:/nobackup1/jbrown/nahant_phage_reads/group1/group*_fastqlist.txt ./"
     ],
     "language": "python",
     "metadata": {},
     "outputs": [
      {
       "output_type": "stream",
       "stream": "stdout",
       "text": [
        "\r",
        "group1_fastqlist.txt                            0%    0     0.0KB/s   --:-- ETA\r",
        "group1_fastqlist.txt                          100% 1815     1.8KB/s   00:00    \r\n"
       ]
      }
     ],
     "prompt_number": 8
    },
    {
     "cell_type": "markdown",
     "metadata": {},
     "source": [
      "###Write script for initial assembly:"
     ]
    },
    {
     "cell_type": "code",
     "collapsed": false,
     "input": [
      "step1c1=open(\"step1.contig1.sh\",\"w\")\n",
      "step1c1.write(\"#!/bin/bash\\n#SBATCH -n 16\\n#SBATCH -N 1\\n#SBATCH -o s1c1.out\\n#SBATCH -e s1c1.err\\n#SBATCH -p sched_mit_chisholm\\n\\n\")\n",
      "step1c1.write(\"module add engaging/clc-assembly-cell\\nmodule add engaging/samtools/1.1\\nmodule add engaging/bedtools/2.22.1\\n\\n\")\n",
      "for line in group1:\n",
      "    name=line.rstrip(\"\\n\")\n",
      "    step1c1.write(\"\\n\\n#\"+name+\"\\nclc_assembler -o \"+name+\"step1.clc.fasta -m 500 -p fb ss 100 300 -q \"+ name+\"*.fastq\\n\")\n",
      "    step1c1.write(\"samtools faidx \"+name+\"step1.clc.fasta 'contig_1'>\"+name+\"step1.contig1.fasta\\n\\nclc_mapper -o \"+name+\"step1.contig1.cas -p fb ss 100 300 -q \"+name+\"*.fastq -d \"+name+\"step1.contig1.fasta -a local -r ignore\\n\")\n",
      "    step1c1.write(\"clc_cas_to_sam -a \"+name+\"step1.contig1.cas -o \"+name+\"step1.contig1.bam\\n\\nsamtools sort \"+name+\"step1.contig1.bam \"+name+\"sorted.step1.contig1\\nsamtools index \"+name+\"sorted.step1.contig1.bam\\n\\nbedtools genomecov -ibam \"+name+\"sorted.step1.contig1.bam -d > \"+name+\"step1.contig1.genomecoverage.txt\\n\\n\")\n",
      "step1c1.close()\n",
      "!open step1.contig1.sh -a textedit"
     ],
     "language": "python",
     "metadata": {},
     "outputs": [],
     "prompt_number": 6
    },
    {
     "cell_type": "code",
     "collapsed": false,
     "input": [
      "!scp step1.contig1.sh jbrown@eofe4.mit.edu:/nobackup1/jbrown/nahant_phage_reads/group1/ \n",
      "    #run sbatch step1.contig1.sh on mit cluster"
     ],
     "language": "python",
     "metadata": {},
     "outputs": [
      {
       "output_type": "stream",
       "stream": "stdout",
       "text": [
        "\r",
        "step1.contig1.sh                                0%    0     0.0KB/s   --:-- ETA"
       ]
      },
      {
       "output_type": "stream",
       "stream": "stdout",
       "text": [
        "\r",
        "step1.contig1.sh                              100%   36KB  36.4KB/s   00:00    \r\n"
       ]
      }
     ],
     "prompt_number": 7
    },
    {
     "cell_type": "code",
     "collapsed": false,
     "input": [
      "!scp jbrown@eofe4.mit.edu:/nobackup1/jbrown/nahant_phage_reads/group1/*genomecoverage* ./\n",
      "!scp jbrown@eofe4.mit.edu:/nobackup1/jbrown/nahant_phage_reads/group1/*step1.contig1.fasta ./"
     ],
     "language": "python",
     "metadata": {},
     "outputs": [
      {
       "output_type": "stream",
       "stream": "stdout",
       "text": [
        "\r",
        "1.003.O.step1.contig1.genomecoverage.txt        0%    0     0.0KB/s   --:-- ETA"
       ]
      },
      {
       "output_type": "stream",
       "stream": "stdout",
       "text": [
        "\r",
        "1.003.O.step1.contig1.genomecoverage.txt       20%  160KB 160.0KB/s   00:03 ETA"
       ]
      },
      {
       "output_type": "stream",
       "stream": "stdout",
       "text": [
        "\r",
        "1.003.O.step1.contig1.genomecoverage.txt       34%  272KB 155.2KB/s   00:03 ETA"
       ]
      },
      {
       "output_type": "stream",
       "stream": "stdout",
       "text": [
        "\r",
        "1.003.O.step1.contig1.genomecoverage.txt       47%  368KB 149.3KB/s   00:02 ETA"
       ]
      },
      {
       "output_type": "stream",
       "stream": "stdout",
       "text": [
        "\r",
        "1.003.O.step1.contig1.genomecoverage.txt       51%  400KB 137.6KB/s   00:02 ETA"
       ]
      },
      {
       "output_type": "stream",
       "stream": "stdout",
       "text": [
        "\r",
        "1.003.O.step1.contig1.genomecoverage.txt       59%  464KB 130.2KB/s   00:02 ETA"
       ]
      },
      {
       "output_type": "stream",
       "stream": "stdout",
       "text": [
        "\r",
        "1.003.O.step1.contig1.genomecoverage.txt       59%  464KB 117.2KB/s   00:02 ETA"
       ]
      },
      {
       "output_type": "stream",
       "stream": "stdout",
       "text": [
        "\r",
        "1.003.O.step1.contig1.genomecoverage.txt       63%  496KB 108.7KB/s   00:02 ETA"
       ]
      },
      {
       "output_type": "stream",
       "stream": "stdout",
       "text": [
        "\r",
        "1.003.O.step1.contig1.genomecoverage.txt       67%  528KB 101.0KB/s   00:02 ETA"
       ]
      },
      {
       "output_type": "stream",
       "stream": "stdout",
       "text": [
        "\r",
        "1.003.O.step1.contig1.genomecoverage.txt       72%  560KB  94.1KB/s   00:02 ETA"
       ]
      },
      {
       "output_type": "stream",
       "stream": "stdout",
       "text": [
        "\r",
        "1.003.O.step1.contig1.genomecoverage.txt       84%  656KB  94.3KB/s   00:01 ETA"
       ]
      },
      {
       "output_type": "stream",
       "stream": "stdout",
       "text": [
        "\r",
        "1.003.O.step1.contig1.genomecoverage.txt       88%  688KB  88.1KB/s   00:01 ETA"
       ]
      },
      {
       "output_type": "stream",
       "stream": "stdout",
       "text": [
        "\r",
        "1.003.O.step1.contig1.genomecoverage.txt       96%  752KB  85.7KB/s   00:00 ETA"
       ]
      },
      {
       "output_type": "stream",
       "stream": "stdout",
       "text": [
        "\r",
        "1.003.O.step1.contig1.genomecoverage.txt      100%  777KB  64.8KB/s   00:12    \r\n"
       ]
      },
      {
       "output_type": "stream",
       "stream": "stdout",
       "text": [
        "\r",
        "1.007.O.step1.contig1.genomecoverage.txt        0%    0     0.0KB/s   --:-- ETA"
       ]
      },
      {
       "output_type": "stream",
       "stream": "stdout",
       "text": [
        "\r",
        "1.007.O.step1.contig1.genomecoverage.txt        6%   64KB  64.0KB/s   00:14 ETA"
       ]
      },
      {
       "output_type": "stream",
       "stream": "stdout",
       "text": [
        "\r",
        "1.007.O.step1.contig1.genomecoverage.txt       14%  144KB  65.6KB/s   00:12 ETA"
       ]
      },
      {
       "output_type": "stream",
       "stream": "stdout",
       "text": [
        "\r",
        "1.007.O.step1.contig1.genomecoverage.txt       20%  208KB  65.4KB/s   00:11 ETA"
       ]
      },
      {
       "output_type": "stream",
       "stream": "stdout",
       "text": [
        "\r",
        "1.007.O.step1.contig1.genomecoverage.txt       27%  272KB  65.3KB/s   00:11 ETA"
       ]
      },
      {
       "output_type": "stream",
       "stream": "stdout",
       "text": [
        "\r",
        "1.007.O.step1.contig1.genomecoverage.txt       30%  304KB  62.0KB/s   00:11 ETA"
       ]
      },
      {
       "output_type": "stream",
       "stream": "stdout",
       "text": [
        "\r",
        "1.007.O.step1.contig1.genomecoverage.txt       43%  432KB  68.6KB/s   00:08 ETA"
       ]
      },
      {
       "output_type": "stream",
       "stream": "stdout",
       "text": [
        "\r",
        "1.007.O.step1.contig1.genomecoverage.txt       46%  464KB  64.9KB/s   00:08 ETA"
       ]
      },
      {
       "output_type": "stream",
       "stream": "stdout",
       "text": [
        "\r",
        "1.007.O.step1.contig1.genomecoverage.txt       53%  528KB  64.8KB/s   00:07 ETA"
       ]
      },
      {
       "output_type": "stream",
       "stream": "stdout",
       "text": [
        "\r",
        "1.007.O.step1.contig1.genomecoverage.txt       59%  592KB  64.7KB/s   00:06 ETA"
       ]
      },
      {
       "output_type": "stream",
       "stream": "stdout",
       "text": [
        "\r",
        "1.007.O.step1.contig1.genomecoverage.txt       69%  688KB  67.9KB/s   00:04 ETA"
       ]
      },
      {
       "output_type": "stream",
       "stream": "stdout",
       "text": [
        "\r",
        "1.007.O.step1.contig1.genomecoverage.txt       78%  784KB  70.7KB/s   00:02 ETA"
       ]
      },
      {
       "output_type": "stream",
       "stream": "stdout",
       "text": [
        "\r",
        "1.007.O.step1.contig1.genomecoverage.txt       88%  880KB  73.2KB/s   00:01 ETA"
       ]
      },
      {
       "output_type": "stream",
       "stream": "stdout",
       "text": [
        "\r",
        "1.007.O.step1.contig1.genomecoverage.txt       98%  976KB  75.5KB/s   00:00 ETA\r",
        "1.007.O.step1.contig1.genomecoverage.txt      100%  993KB  76.4KB/s   00:13    \r\n"
       ]
      },
      {
       "output_type": "stream",
       "stream": "stdout",
       "text": [
        "\r",
        "1.016.O.step1.contig1.genomecoverage.txt        0%    0     0.0KB/s   --:-- ETA"
       ]
      },
      {
       "output_type": "stream",
       "stream": "stdout",
       "text": [
        "\r",
        "1.016.O.step1.contig1.genomecoverage.txt        8%   80KB  80.0KB/s   00:10 ETA"
       ]
      },
      {
       "output_type": "stream",
       "stream": "stdout",
       "text": [
        "\r",
        "1.016.O.step1.contig1.genomecoverage.txt       11%  112KB  75.2KB/s   00:10 ETA"
       ]
      },
      {
       "output_type": "stream",
       "stream": "stdout",
       "text": [
        "\r",
        "1.016.O.step1.contig1.genomecoverage.txt       22%  208KB  77.3KB/s   00:09 ETA"
       ]
      },
      {
       "output_type": "stream",
       "stream": "stdout",
       "text": [
        "\r",
        "1.016.O.step1.contig1.genomecoverage.txt       32%  304KB  79.2KB/s   00:07 ETA"
       ]
      },
      {
       "output_type": "stream",
       "stream": "stdout",
       "text": [
        "\r",
        "1.016.O.step1.contig1.genomecoverage.txt       46%  432KB  84.0KB/s   00:05 ETA"
       ]
      },
      {
       "output_type": "stream",
       "stream": "stdout",
       "text": [
        "\r",
        "1.016.O.step1.contig1.genomecoverage.txt       49%  464KB  78.8KB/s   00:05 ETA"
       ]
      },
      {
       "output_type": "stream",
       "stream": "stdout",
       "text": [
        "\r",
        "1.016.O.step1.contig1.genomecoverage.txt       49%  464KB  71.0KB/s   00:06 ETA"
       ]
      },
      {
       "output_type": "stream",
       "stream": "stdout",
       "text": [
        "\r",
        "1.016.O.step1.contig1.genomecoverage.txt       59%  560KB  73.5KB/s   00:05 ETA"
       ]
      },
      {
       "output_type": "stream",
       "stream": "stdout",
       "text": [
        "\r",
        "1.016.O.step1.contig1.genomecoverage.txt       63%  592KB  69.3KB/s   00:04 ETA"
       ]
      },
      {
       "output_type": "stream",
       "stream": "stdout",
       "text": [
        "\r",
        "1.016.O.step1.contig1.genomecoverage.txt       73%  688KB  72.0KB/s   00:03 ETA"
       ]
      },
      {
       "output_type": "stream",
       "stream": "stdout",
       "text": [
        "\r",
        "1.016.O.step1.contig1.genomecoverage.txt       77%  720KB  68.0KB/s   00:03 ETA"
       ]
      },
      {
       "output_type": "stream",
       "stream": "stdout",
       "text": [
        "\r",
        "1.016.O.step1.contig1.genomecoverage.txt       83%  784KB  67.6KB/s   00:02 ETA"
       ]
      },
      {
       "output_type": "stream",
       "stream": "stdout",
       "text": [
        "\r",
        "1.016.O.step1.contig1.genomecoverage.txt       83%  784KB  60.8KB/s   00:02 ETA"
       ]
      },
      {
       "output_type": "stream",
       "stream": "stdout",
       "text": [
        "\r",
        "1.016.O.step1.contig1.genomecoverage.txt       83%  784KB  54.7KB/s   00:02 ETA"
       ]
      },
      {
       "output_type": "stream",
       "stream": "stdout",
       "text": [
        "\r",
        "1.016.O.step1.contig1.genomecoverage.txt       94%  880KB  58.9KB/s   00:00 ETA"
       ]
      },
      {
       "output_type": "stream",
       "stream": "stdout",
       "text": [
        "\r",
        "1.016.O.step1.contig1.genomecoverage.txt      100%  935KB  58.4KB/s   00:16    \r\n"
       ]
      },
      {
       "output_type": "stream",
       "stream": "stdout",
       "text": [
        "\r",
        "1.029.O.step1.contig1.genomecoverage.txt        0%    0     0.0KB/s   --:-- ETA"
       ]
      },
      {
       "output_type": "stream",
       "stream": "stdout",
       "text": [
        "\r",
        "1.029.O.step1.contig1.genomecoverage.txt        8%   80KB  80.0KB/s   00:10 ETA"
       ]
      },
      {
       "output_type": "stream",
       "stream": "stdout",
       "text": [
        "\r",
        "1.029.O.step1.contig1.genomecoverage.txt        8%   80KB  72.0KB/s   00:11 ETA"
       ]
      },
      {
       "output_type": "stream",
       "stream": "stdout",
       "text": [
        "\r",
        "1.029.O.step1.contig1.genomecoverage.txt       12%  112KB  68.0KB/s   00:11 ETA"
       ]
      },
      {
       "output_type": "stream",
       "stream": "stdout",
       "text": [
        "\r",
        "1.029.O.step1.contig1.genomecoverage.txt       16%  144KB  64.4KB/s   00:11 ETA"
       ]
      },
      {
       "output_type": "stream",
       "stream": "stdout",
       "text": [
        "\r",
        "1.029.O.step1.contig1.genomecoverage.txt       16%  144KB  58.0KB/s   00:13 ETA"
       ]
      },
      {
       "output_type": "stream",
       "stream": "stdout",
       "text": [
        "\r",
        "1.029.O.step1.contig1.genomecoverage.txt       16%  144KB  52.2KB/s   00:14 ETA"
       ]
      },
      {
       "output_type": "stream",
       "stream": "stdout",
       "text": [
        "\r",
        "1.029.O.step1.contig1.genomecoverage.txt       16%  144KB  47.0KB/s   00:16 ETA"
       ]
      },
      {
       "output_type": "stream",
       "stream": "stdout",
       "text": [
        "\r",
        "1.029.O.step1.contig1.genomecoverage.txt       16%  144KB  42.3KB/s   00:17 ETA"
       ]
      },
      {
       "output_type": "stream",
       "stream": "stdout",
       "text": [
        "\r",
        "1.029.O.step1.contig1.genomecoverage.txt       16%  144KB  38.0KB/s - stalled -"
       ]
      },
      {
       "output_type": "stream",
       "stream": "stdout",
       "text": [
        "\r",
        "1.029.O.step1.contig1.genomecoverage.txt       16%  144KB  34.2KB/s - stalled -"
       ]
      },
      {
       "output_type": "stream",
       "stream": "stdout",
       "text": [
        "\r",
        "1.029.O.step1.contig1.genomecoverage.txt       23%  208KB  37.2KB/s   00:18 ETA"
       ]
      },
      {
       "output_type": "stream",
       "stream": "stdout",
       "text": [
        "\r",
        "1.029.O.step1.contig1.genomecoverage.txt       23%  208KB  33.5KB/s   00:20 ETA"
       ]
      },
      {
       "output_type": "stream",
       "stream": "stdout",
       "text": [
        "\r",
        "1.029.O.step1.contig1.genomecoverage.txt       23%  208KB  30.1KB/s   00:22 ETA"
       ]
      },
      {
       "output_type": "stream",
       "stream": "stdout",
       "text": [
        "\r",
        "1.029.O.step1.contig1.genomecoverage.txt       23%  208KB  27.1KB/s   00:25 ETA"
       ]
      },
      {
       "output_type": "stream",
       "stream": "stdout",
       "text": [
        "\r",
        "1.029.O.step1.contig1.genomecoverage.txt       23%  208KB  24.4KB/s   00:28 ETA"
       ]
      },
      {
       "output_type": "stream",
       "stream": "stdout",
       "text": [
        "\r",
        "1.029.O.step1.contig1.genomecoverage.txt       40%  368KB  38.0KB/s   00:13 ETA"
       ]
      },
      {
       "output_type": "stream",
       "stream": "stdout",
       "text": [
        "\r",
        "1.029.O.step1.contig1.genomecoverage.txt       48%  432KB  40.6KB/s   00:11 ETA"
       ]
      },
      {
       "output_type": "stream",
       "stream": "stdout",
       "text": [
        "\r",
        "1.029.O.step1.contig1.genomecoverage.txt       58%  528KB  46.1KB/s   00:08 ETA"
       ]
      },
      {
       "output_type": "stream",
       "stream": "stdout",
       "text": [
        "\r",
        "1.029.O.step1.contig1.genomecoverage.txt       62%  560KB  44.7KB/s   00:07 ETA"
       ]
      },
      {
       "output_type": "stream",
       "stream": "stdout",
       "text": [
        "\r",
        "1.029.O.step1.contig1.genomecoverage.txt       69%  624KB  46.6KB/s   00:05 ETA"
       ]
      },
      {
       "output_type": "stream",
       "stream": "stdout",
       "text": [
        "\r",
        "1.029.O.step1.contig1.genomecoverage.txt       69%  624KB  42.0KB/s   00:06 ETA"
       ]
      },
      {
       "output_type": "stream",
       "stream": "stdout",
       "text": [
        "\r",
        "1.029.O.step1.contig1.genomecoverage.txt       72%  656KB  41.0KB/s   00:05 ETA"
       ]
      },
      {
       "output_type": "stream",
       "stream": "stdout",
       "text": [
        "\r",
        "1.029.O.step1.contig1.genomecoverage.txt       72%  656KB  36.9KB/s   00:06 ETA"
       ]
      },
      {
       "output_type": "stream",
       "stream": "stdout",
       "text": [
        "\r",
        "1.029.O.step1.contig1.genomecoverage.txt       72%  656KB  33.2KB/s   00:07 ETA"
       ]
      },
      {
       "output_type": "stream",
       "stream": "stdout",
       "text": [
        "\r",
        "1.029.O.step1.contig1.genomecoverage.txt       72%  656KB  29.9KB/s   00:08 ETA"
       ]
      },
      {
       "output_type": "stream",
       "stream": "stdout",
       "text": [
        "\r",
        "1.029.O.step1.contig1.genomecoverage.txt       83%  752KB  36.5KB/s   00:04 ETA"
       ]
      },
      {
       "output_type": "stream",
       "stream": "stdout",
       "text": [
        "\r",
        "1.029.O.step1.contig1.genomecoverage.txt       94%  848KB  42.4KB/s   00:01 ETA"
       ]
      },
      {
       "output_type": "stream",
       "stream": "stdout",
       "text": [
        "\r",
        "1.029.O.step1.contig1.genomecoverage.txt      100%  899KB  33.3KB/s   00:27    \r\n"
       ]
      },
      {
       "output_type": "stream",
       "stream": "stdout",
       "text": [
        "\r",
        "1.036.O.step1.contig1.genomecoverage.txt        0%    0     0.0KB/s   --:-- ETA"
       ]
      },
      {
       "output_type": "stream",
       "stream": "stdout",
       "text": [
        "\r",
        "1.036.O.step1.contig1.genomecoverage.txt        9%   80KB  80.0KB/s   00:09 ETA"
       ]
      },
      {
       "output_type": "stream",
       "stream": "stdout",
       "text": [
        "\r",
        "1.036.O.step1.contig1.genomecoverage.txt       11%   96KB  73.6KB/s   00:09 ETA"
       ]
      },
      {
       "output_type": "stream",
       "stream": "stdout",
       "text": [
        "\r",
        "1.036.O.step1.contig1.genomecoverage.txt       15%  128KB  69.4KB/s   00:09 ETA"
       ]
      },
      {
       "output_type": "stream",
       "stream": "stdout",
       "text": [
        "\r",
        "1.036.O.step1.contig1.genomecoverage.txt       25%  208KB  70.5KB/s   00:08 ETA"
       ]
      },
      {
       "output_type": "stream",
       "stream": "stdout",
       "text": [
        "\r",
        "1.036.O.step1.contig1.genomecoverage.txt       37%  304KB  73.0KB/s   00:06 ETA"
       ]
      },
      {
       "output_type": "stream",
       "stream": "stdout",
       "text": [
        "\r",
        "1.036.O.step1.contig1.genomecoverage.txt       53%  432KB  78.5KB/s   00:04 ETA"
       ]
      },
      {
       "output_type": "stream",
       "stream": "stdout",
       "text": [
        "\r",
        "1.036.O.step1.contig1.genomecoverage.txt       64%  528KB  80.3KB/s   00:03 ETA"
       ]
      },
      {
       "output_type": "stream",
       "stream": "stdout",
       "text": [
        "\r",
        "1.036.O.step1.contig1.genomecoverage.txt       80%  656KB  85.1KB/s   00:01 ETA"
       ]
      },
      {
       "output_type": "stream",
       "stream": "stdout",
       "text": [
        "\r",
        "1.036.O.step1.contig1.genomecoverage.txt       88%  720KB  83.0KB/s   00:01 ETA"
       ]
      },
      {
       "output_type": "stream",
       "stream": "stdout",
       "text": [
        "\r",
        "1.036.O.step1.contig1.genomecoverage.txt       96%  784KB  81.1KB/s   00:00 ETA"
       ]
      },
      {
       "output_type": "stream",
       "stream": "stdout",
       "text": [
        "\r",
        "1.036.O.step1.contig1.genomecoverage.txt      100%  813KB  81.3KB/s   00:10    \r\n",
        "\r",
        "1.038.O.step1.contig1.genomecoverage.txt        0%    0     0.0KB/s   --:-- ETA"
       ]
      },
      {
       "output_type": "stream",
       "stream": "stdout",
       "text": [
        "\r",
        "1.038.O.step1.contig1.genomecoverage.txt        8%   80KB  80.0KB/s   00:10 ETA"
       ]
      },
      {
       "output_type": "stream",
       "stream": "stdout",
       "text": [
        "\r",
        "1.038.O.step1.contig1.genomecoverage.txt       16%  160KB  80.0KB/s   00:09 ETA"
       ]
      },
      {
       "output_type": "stream",
       "stream": "stdout",
       "text": [
        "\r",
        "1.038.O.step1.contig1.genomecoverage.txt       28%  272KB  83.2KB/s   00:08 ETA"
       ]
      },
      {
       "output_type": "stream",
       "stream": "stdout",
       "text": [
        "\r",
        "1.038.O.step1.contig1.genomecoverage.txt       35%  336KB  81.3KB/s   00:07 ETA"
       ]
      },
      {
       "output_type": "stream",
       "stream": "stdout",
       "text": [
        "\r",
        "1.038.O.step1.contig1.genomecoverage.txt       41%  400KB  79.6KB/s   00:06 ETA"
       ]
      },
      {
       "output_type": "stream",
       "stream": "stdout",
       "text": [
        "\r",
        "1.038.O.step1.contig1.genomecoverage.txt       55%  528KB  84.4KB/s   00:05 ETA"
       ]
      },
      {
       "output_type": "stream",
       "stream": "stdout",
       "text": [
        "\r",
        "1.038.O.step1.contig1.genomecoverage.txt       62%  592KB  82.4KB/s   00:04 ETA"
       ]
      },
      {
       "output_type": "stream",
       "stream": "stdout",
       "text": [
        "\r",
        "1.038.O.step1.contig1.genomecoverage.txt       75%  720KB  86.9KB/s   00:02 ETA"
       ]
      },
      {
       "output_type": "stream",
       "stream": "stdout",
       "text": [
        "\r",
        "1.038.O.step1.contig1.genomecoverage.txt       85%  816KB  87.8KB/s   00:01 ETA"
       ]
      },
      {
       "output_type": "stream",
       "stream": "stdout",
       "text": [
        "\r",
        "1.038.O.step1.contig1.genomecoverage.txt       88%  848KB  82.2KB/s   00:01 ETA"
       ]
      },
      {
       "output_type": "stream",
       "stream": "stdout",
       "text": [
        "\r",
        "1.038.O.step1.contig1.genomecoverage.txt       92%  880KB  77.2KB/s   00:00 ETA"
       ]
      },
      {
       "output_type": "stream",
       "stream": "stdout",
       "text": [
        "\r",
        "1.038.O.step1.contig1.genomecoverage.txt       95%  912KB  72.7KB/s   00:00 ETA"
       ]
      },
      {
       "output_type": "stream",
       "stream": "stdout",
       "text": [
        "\r",
        "1.038.O.step1.contig1.genomecoverage.txt      100%  954KB  73.4KB/s   00:13    \r\n"
       ]
      },
      {
       "output_type": "stream",
       "stream": "stdout",
       "text": [
        "\r",
        "1.039.O.step1.contig1.genomecoverage.txt        0%    0     0.0KB/s   --:-- ETA"
       ]
      },
      {
       "output_type": "stream",
       "stream": "stdout",
       "text": [
        "\r",
        "1.039.O.step1.contig1.genomecoverage.txt       17%  144KB 144.0KB/s   00:04 ETA"
       ]
      },
      {
       "output_type": "stream",
       "stream": "stdout",
       "text": [
        "\r",
        "1.039.O.step1.contig1.genomecoverage.txt       28%  240KB 139.2KB/s   00:04 ETA"
       ]
      },
      {
       "output_type": "stream",
       "stream": "stdout",
       "text": [
        "\r",
        "1.039.O.step1.contig1.genomecoverage.txt       44%  368KB 138.1KB/s   00:03 ETA"
       ]
      },
      {
       "output_type": "stream",
       "stream": "stdout",
       "text": [
        "\r",
        "1.039.O.step1.contig1.genomecoverage.txt       55%  464KB 133.9KB/s   00:02 ETA"
       ]
      },
      {
       "output_type": "stream",
       "stream": "stdout",
       "text": [
        "\r",
        "1.039.O.step1.contig1.genomecoverage.txt       67%  560KB 130.1KB/s   00:02 ETA"
       ]
      },
      {
       "output_type": "stream",
       "stream": "stdout",
       "text": [
        "\r",
        "1.039.O.step1.contig1.genomecoverage.txt       79%  656KB 126.7KB/s   00:01 ETA"
       ]
      },
      {
       "output_type": "stream",
       "stream": "stdout",
       "text": [
        "\r",
        "1.039.O.step1.contig1.genomecoverage.txt       82%  688KB 117.2KB/s   00:01 ETA"
       ]
      },
      {
       "output_type": "stream",
       "stream": "stdout",
       "text": [
        "\r",
        "1.039.O.step1.contig1.genomecoverage.txt       90%  752KB 111.9KB/s   00:00 ETA"
       ]
      },
      {
       "output_type": "stream",
       "stream": "stdout",
       "text": [
        "\r",
        "1.039.O.step1.contig1.genomecoverage.txt       90%  752KB 100.7KB/s   00:00 ETA"
       ]
      },
      {
       "output_type": "stream",
       "stream": "stdout",
       "text": [
        "\r",
        "1.039.O.step1.contig1.genomecoverage.txt       90%  752KB  90.6KB/s   00:00 ETA"
       ]
      },
      {
       "output_type": "stream",
       "stream": "stdout",
       "text": [
        "\r",
        "1.039.O.step1.contig1.genomecoverage.txt      100%  829KB  82.9KB/s   00:10    \r\n"
       ]
      },
      {
       "output_type": "stream",
       "stream": "stdout",
       "text": [
        "\r",
        "1.042.O.step1.contig1.genomecoverage.txt        0%    0     0.0KB/s   --:-- ETA"
       ]
      },
      {
       "output_type": "stream",
       "stream": "stdout",
       "text": [
        "\r",
        "1.042.O.step1.contig1.genomecoverage.txt       19%  176KB 176.0KB/s   00:04 ETA"
       ]
      },
      {
       "output_type": "stream",
       "stream": "stdout",
       "text": [
        "\r",
        "1.042.O.step1.contig1.genomecoverage.txt       22%  208KB 161.6KB/s   00:04 ETA"
       ]
      },
      {
       "output_type": "stream",
       "stream": "stdout",
       "text": [
        "\r",
        "1.042.O.step1.contig1.genomecoverage.txt       22%  208KB 145.4KB/s   00:04 ETA"
       ]
      },
      {
       "output_type": "stream",
       "stream": "stdout",
       "text": [
        "\r",
        "1.042.O.step1.contig1.genomecoverage.txt       26%  240KB 134.1KB/s   00:05 ETA"
       ]
      },
      {
       "output_type": "stream",
       "stream": "stdout",
       "text": [
        "\r",
        "1.042.O.step1.contig1.genomecoverage.txt       36%  336KB 130.3KB/s   00:04 ETA"
       ]
      },
      {
       "output_type": "stream",
       "stream": "stdout",
       "text": [
        "\r",
        "1.042.O.step1.contig1.genomecoverage.txt       50%  464KB 130.1KB/s   00:03 ETA"
       ]
      },
      {
       "output_type": "stream",
       "stream": "stdout",
       "text": [
        "\r",
        "1.042.O.step1.contig1.genomecoverage.txt       64%  592KB 129.9KB/s   00:02 ETA"
       ]
      },
      {
       "output_type": "stream",
       "stream": "stdout",
       "text": [
        "\r",
        "1.042.O.step1.contig1.genomecoverage.txt       75%  688KB 126.5KB/s   00:01 ETA"
       ]
      },
      {
       "output_type": "stream",
       "stream": "stdout",
       "text": [
        "\r",
        "1.042.O.step1.contig1.genomecoverage.txt       75%  688KB 113.8KB/s   00:01 ETA"
       ]
      },
      {
       "output_type": "stream",
       "stream": "stdout",
       "text": [
        "\r",
        "1.042.O.step1.contig1.genomecoverage.txt       75%  688KB 102.4KB/s   00:02 ETA"
       ]
      },
      {
       "output_type": "stream",
       "stream": "stdout",
       "text": [
        "\r",
        "1.042.O.step1.contig1.genomecoverage.txt       82%  752KB  98.6KB/s   00:01 ETA"
       ]
      },
      {
       "output_type": "stream",
       "stream": "stdout",
       "text": [
        "\r",
        "1.042.O.step1.contig1.genomecoverage.txt       89%  816KB  95.1KB/s   00:01 ETA"
       ]
      },
      {
       "output_type": "stream",
       "stream": "stdout",
       "text": [
        "\r",
        "1.042.O.step1.contig1.genomecoverage.txt       89%  816KB  85.6KB/s   00:01 ETA"
       ]
      },
      {
       "output_type": "stream",
       "stream": "stdout",
       "text": [
        "\r",
        "1.042.O.step1.contig1.genomecoverage.txt       89%  816KB  77.1KB/s   00:01 ETA"
       ]
      },
      {
       "output_type": "stream",
       "stream": "stdout",
       "text": [
        "\r",
        "1.042.O.step1.contig1.genomecoverage.txt      100%  912KB  60.8KB/s   00:15    \r\n",
        "\r",
        "1.047.O.step1.contig1.genomecoverage.txt        0%    0     0.0KB/s   --:-- ETA"
       ]
      },
      {
       "output_type": "stream",
       "stream": "stdout",
       "text": [
        "\r",
        "1.047.O.step1.contig1.genomecoverage.txt       12%  112KB 112.0KB/s   00:06 ETA"
       ]
      },
      {
       "output_type": "stream",
       "stream": "stdout",
       "text": [
        "\r",
        "1.047.O.step1.contig1.genomecoverage.txt       19%  176KB 107.2KB/s   00:06 ETA"
       ]
      },
      {
       "output_type": "stream",
       "stream": "stdout",
       "text": [
        "\r",
        "1.047.O.step1.contig1.genomecoverage.txt       34%  304KB 109.3KB/s   00:05 ETA"
       ]
      },
      {
       "output_type": "stream",
       "stream": "stdout",
       "text": [
        "\r",
        "1.047.O.step1.contig1.genomecoverage.txt       37%  336KB 101.6KB/s   00:05 ETA"
       ]
      },
      {
       "output_type": "stream",
       "stream": "stdout",
       "text": [
        "\r",
        "1.047.O.step1.contig1.genomecoverage.txt       44%  400KB  97.8KB/s   00:05 ETA"
       ]
      },
      {
       "output_type": "stream",
       "stream": "stdout",
       "text": [
        "\r",
        "1.047.O.step1.contig1.genomecoverage.txt       59%  528KB 100.8KB/s   00:03 ETA"
       ]
      },
      {
       "output_type": "stream",
       "stream": "stdout",
       "text": [
        "\r",
        "1.047.O.step1.contig1.genomecoverage.txt       77%  688KB 106.7KB/s   00:01 ETA"
       ]
      },
      {
       "output_type": "stream",
       "stream": "stdout",
       "text": [
        "\r",
        "1.047.O.step1.contig1.genomecoverage.txt       91%  816KB 108.9KB/s   00:00 ETA"
       ]
      },
      {
       "output_type": "stream",
       "stream": "stdout",
       "text": [
        "\r",
        "1.047.O.step1.contig1.genomecoverage.txt       95%  848KB 101.2KB/s   00:00 ETA"
       ]
      },
      {
       "output_type": "stream",
       "stream": "stdout",
       "text": [
        "\r",
        "1.047.O.step1.contig1.genomecoverage.txt      100%  890KB  98.9KB/s   00:09    \r\n"
       ]
      },
      {
       "output_type": "stream",
       "stream": "stdout",
       "text": [
        "\r",
        "1.052.A.step1.contig1.genomecoverage.txt        0%    0     0.0KB/s   --:-- ETA"
       ]
      },
      {
       "output_type": "stream",
       "stream": "stdout",
       "text": [
        "\r",
        "1.052.A.step1.contig1.genomecoverage.txt       12%   96KB  96.0KB/s   00:07 ETA"
       ]
      },
      {
       "output_type": "stream",
       "stream": "stdout",
       "text": [
        "\r",
        "1.052.A.step1.contig1.genomecoverage.txt       30%  240KB 100.8KB/s   00:05 ETA"
       ]
      },
      {
       "output_type": "stream",
       "stream": "stdout",
       "text": [
        "\r",
        "1.052.A.step1.contig1.genomecoverage.txt       46%  368KB 103.5KB/s   00:04 ETA"
       ]
      },
      {
       "output_type": "stream",
       "stream": "stdout",
       "text": [
        "\r",
        "1.052.A.step1.contig1.genomecoverage.txt       63%  496KB 106.0KB/s   00:02 ETA"
       ]
      },
      {
       "output_type": "stream",
       "stream": "stdout",
       "text": [
        "\r",
        "1.052.A.step1.contig1.genomecoverage.txt       71%  560KB 101.8KB/s   00:02 ETA"
       ]
      },
      {
       "output_type": "stream",
       "stream": "stdout",
       "text": [
        "\r",
        "1.052.A.step1.contig1.genomecoverage.txt       87%  688KB 104.4KB/s   00:00 ETA"
       ]
      },
      {
       "output_type": "stream",
       "stream": "stdout",
       "text": [
        "\r",
        "1.052.A.step1.contig1.genomecoverage.txt      100%  785KB 112.1KB/s   00:07    \r\n",
        "\r",
        "1.054.O.step1.contig1.genomecoverage.txt        0%    0     0.0KB/s   --:-- ETA"
       ]
      },
      {
       "output_type": "stream",
       "stream": "stdout",
       "text": [
        "\r",
        "1.054.O.step1.contig1.genomecoverage.txt        8%   64KB  64.0KB/s   00:10 ETA"
       ]
      },
      {
       "output_type": "stream",
       "stream": "stdout",
       "text": [
        "\r",
        "1.054.O.step1.contig1.genomecoverage.txt       27%  208KB  72.0KB/s   00:07 ETA"
       ]
      },
      {
       "output_type": "stream",
       "stream": "stdout",
       "text": [
        "\r",
        "1.054.O.step1.contig1.genomecoverage.txt       39%  304KB  74.4KB/s   00:06 ETA"
       ]
      },
      {
       "output_type": "stream",
       "stream": "stdout",
       "text": [
        "\r",
        "1.054.O.step1.contig1.genomecoverage.txt       43%  336KB  70.2KB/s   00:06 ETA"
       ]
      },
      {
       "output_type": "stream",
       "stream": "stdout",
       "text": [
        "\r",
        "1.054.O.step1.contig1.genomecoverage.txt       56%  432KB  72.7KB/s   00:04 ETA"
       ]
      },
      {
       "output_type": "stream",
       "stream": "stdout",
       "text": [
        "\r",
        "1.054.O.step1.contig1.genomecoverage.txt       69%  528KB  75.1KB/s   00:03 ETA"
       ]
      },
      {
       "output_type": "stream",
       "stream": "stdout",
       "text": [
        "\r",
        "1.054.O.step1.contig1.genomecoverage.txt       81%  624KB  77.2KB/s   00:01 ETA"
       ]
      },
      {
       "output_type": "stream",
       "stream": "stdout",
       "text": [
        "\r",
        "1.054.O.step1.contig1.genomecoverage.txt       85%  656KB  72.6KB/s   00:01 ETA"
       ]
      },
      {
       "output_type": "stream",
       "stream": "stdout",
       "text": [
        "\r",
        "1.054.O.step1.contig1.genomecoverage.txt       85%  656KB  65.4KB/s   00:01 ETA"
       ]
      },
      {
       "output_type": "stream",
       "stream": "stdout",
       "text": [
        "\r",
        "1.054.O.step1.contig1.genomecoverage.txt      100%  764KB  76.4KB/s   00:10    \r\n"
       ]
      },
      {
       "output_type": "stream",
       "stream": "stdout",
       "text": [
        "\r",
        "1.060.A.step1.contig1.genomecoverage.txt        0%    0     0.0KB/s   --:-- ETA"
       ]
      },
      {
       "output_type": "stream",
       "stream": "stdout",
       "text": [
        "\r",
        "1.060.A.step1.contig1.genomecoverage.txt       10%   80KB  80.0KB/s   00:08 ETA"
       ]
      },
      {
       "output_type": "stream",
       "stream": "stdout",
       "text": [
        "\r",
        "1.060.A.step1.contig1.genomecoverage.txt       19%  144KB  78.4KB/s   00:07 ETA"
       ]
      },
      {
       "output_type": "stream",
       "stream": "stdout",
       "text": [
        "\r",
        "1.060.A.step1.contig1.genomecoverage.txt       36%  272KB  83.4KB/s   00:05 ETA"
       ]
      },
      {
       "output_type": "stream",
       "stream": "stdout",
       "text": [
        "\r",
        "1.060.A.step1.contig1.genomecoverage.txt       48%  368KB  84.6KB/s   00:04 ETA"
       ]
      },
      {
       "output_type": "stream",
       "stream": "stdout",
       "text": [
        "\r",
        "1.060.A.step1.contig1.genomecoverage.txt       70%  528KB  92.2KB/s   00:02 ETA"
       ]
      },
      {
       "output_type": "stream",
       "stream": "stdout",
       "text": [
        "\r",
        "1.060.A.step1.contig1.genomecoverage.txt       87%  656KB  95.7KB/s   00:01 ETA"
       ]
      },
      {
       "output_type": "stream",
       "stream": "stdout",
       "text": [
        "\r",
        "1.060.A.step1.contig1.genomecoverage.txt      100%  752KB 107.4KB/s   00:07    \r\n",
        "\r",
        "1.061.O.step1.contig1.genomecoverage.txt        0%    0     0.0KB/s   --:-- ETA"
       ]
      },
      {
       "output_type": "stream",
       "stream": "stdout",
       "text": [
        "\r",
        "1.061.O.step1.contig1.genomecoverage.txt       14%  112KB 112.0KB/s   00:05 ETA"
       ]
      },
      {
       "output_type": "stream",
       "stream": "stdout",
       "text": [
        "\r",
        "1.061.O.step1.contig1.genomecoverage.txt       31%  240KB 113.6KB/s   00:04 ETA"
       ]
      },
      {
       "output_type": "stream",
       "stream": "stdout",
       "text": [
        "\r",
        "1.061.O.step1.contig1.genomecoverage.txt       48%  368KB 115.0KB/s   00:03 ETA"
       ]
      },
      {
       "output_type": "stream",
       "stream": "stdout",
       "text": [
        "\r",
        "1.061.O.step1.contig1.genomecoverage.txt       65%  496KB 116.3KB/s   00:02 ETA"
       ]
      },
      {
       "output_type": "stream",
       "stream": "stdout",
       "text": [
        "\r",
        "1.061.O.step1.contig1.genomecoverage.txt       86%  656KB 120.7KB/s   00:00 ETA"
       ]
      },
      {
       "output_type": "stream",
       "stream": "stdout",
       "text": [
        "\r",
        "1.061.O.step1.contig1.genomecoverage.txt      100%  762KB 127.0KB/s   00:06    \r\n"
       ]
      },
      {
       "output_type": "stream",
       "stream": "stdout",
       "text": [
        "\r",
        "1.067.O.step1.contig1.genomecoverage.txt        0%    0     0.0KB/s   --:-- ETA"
       ]
      },
      {
       "output_type": "stream",
       "stream": "stdout",
       "text": [
        "\r",
        "1.067.O.step1.contig1.genomecoverage.txt       14%  112KB 112.0KB/s   00:05 ETA"
       ]
      },
      {
       "output_type": "stream",
       "stream": "stdout",
       "text": [
        "\r",
        "1.067.O.step1.contig1.genomecoverage.txt       27%  208KB 110.4KB/s   00:04 ETA"
       ]
      },
      {
       "output_type": "stream",
       "stream": "stdout",
       "text": [
        "\r",
        "1.067.O.step1.contig1.genomecoverage.txt       44%  336KB 112.2KB/s   00:03 ETA"
       ]
      },
      {
       "output_type": "stream",
       "stream": "stdout",
       "text": [
        "\r",
        "1.067.O.step1.contig1.genomecoverage.txt       61%  464KB 113.7KB/s   00:02 ETA"
       ]
      },
      {
       "output_type": "stream",
       "stream": "stdout",
       "text": [
        "\r",
        "1.067.O.step1.contig1.genomecoverage.txt       87%  656KB 121.6KB/s   00:00 ETA"
       ]
      },
      {
       "output_type": "stream",
       "stream": "stdout",
       "text": [
        "\r",
        "1.067.O.step1.contig1.genomecoverage.txt      100%  749KB 149.8KB/s   00:05    \r\n"
       ]
      },
      {
       "output_type": "stream",
       "stream": "stdout",
       "text": [
        "\r",
        "1.071.A.step1.contig1.genomecoverage.txt        0%    0     0.0KB/s   --:-- ETA"
       ]
      },
      {
       "output_type": "stream",
       "stream": "stdout",
       "text": [
        "\r",
        "1.071.A.step1.contig1.genomecoverage.txt       23%  208KB 208.0KB/s   00:03 ETA"
       ]
      },
      {
       "output_type": "stream",
       "stream": "stdout",
       "text": [
        "\r",
        "1.071.A.step1.contig1.genomecoverage.txt       48%  432KB 209.6KB/s   00:02 ETA"
       ]
      },
      {
       "output_type": "stream",
       "stream": "stdout",
       "text": [
        "\r",
        "1.071.A.step1.contig1.genomecoverage.txt       67%  592KB 204.6KB/s   00:01 ETA"
       ]
      },
      {
       "output_type": "stream",
       "stream": "stdout",
       "text": [
        "\r",
        "1.071.A.step1.contig1.genomecoverage.txt       92%  816KB 206.6KB/s   00:00 ETA"
       ]
      },
      {
       "output_type": "stream",
       "stream": "stdout",
       "text": [
        "\r",
        "1.071.A.step1.contig1.genomecoverage.txt      100%  883KB 176.6KB/s   00:05    \r\n"
       ]
      },
      {
       "output_type": "stream",
       "stream": "stdout",
       "text": [
        "\r",
        "1.079.O.step1.contig1.genomecoverage.txt        0%    0     0.0KB/s   --:-- ETA"
       ]
      },
      {
       "output_type": "stream",
       "stream": "stdout",
       "text": [
        "\r",
        "1.079.O.step1.contig1.genomecoverage.txt       22%  176KB 176.0KB/s   00:03 ETA"
       ]
      },
      {
       "output_type": "stream",
       "stream": "stdout",
       "text": [
        "\r",
        "1.079.O.step1.contig1.genomecoverage.txt       39%  304KB 171.2KB/s   00:02 ETA"
       ]
      },
      {
       "output_type": "stream",
       "stream": "stdout",
       "text": [
        "\r",
        "1.079.O.step1.contig1.genomecoverage.txt       51%  400KB 163.7KB/s   00:02 ETA"
       ]
      },
      {
       "output_type": "stream",
       "stream": "stdout",
       "text": [
        "\r",
        "1.079.O.step1.contig1.genomecoverage.txt       68%  528KB 160.1KB/s   00:01 ETA"
       ]
      },
      {
       "output_type": "stream",
       "stream": "stdout",
       "text": [
        "\r",
        "1.079.O.step1.contig1.genomecoverage.txt       84%  656KB 156.9KB/s   00:00 ETA"
       ]
      },
      {
       "output_type": "stream",
       "stream": "stdout",
       "text": [
        "\r",
        "1.079.O.step1.contig1.genomecoverage.txt       96%  752KB 150.8KB/s   00:00 ETA"
       ]
      },
      {
       "output_type": "stream",
       "stream": "stdout",
       "text": [
        "\r",
        "1.079.O.step1.contig1.genomecoverage.txt       96%  752KB 135.7KB/s   00:00 ETA"
       ]
      },
      {
       "output_type": "stream",
       "stream": "stdout",
       "text": [
        "\r",
        "1.079.O.step1.contig1.genomecoverage.txt      100%  775KB  96.9KB/s   00:08    \r\n",
        "\r",
        "1.090.B.step1.contig1.genomecoverage.txt        0%    0     0.0KB/s   --:-- ETA"
       ]
      },
      {
       "output_type": "stream",
       "stream": "stdout",
       "text": [
        "\r",
        "1.090.B.step1.contig1.genomecoverage.txt       16%  128KB 128.0KB/s   00:05 ETA"
       ]
      },
      {
       "output_type": "stream",
       "stream": "stdout",
       "text": [
        "\r",
        "1.090.B.step1.contig1.genomecoverage.txt       38%  304KB 132.8KB/s   00:03 ETA"
       ]
      },
      {
       "output_type": "stream",
       "stream": "stdout",
       "text": [
        "\r",
        "1.090.B.step1.contig1.genomecoverage.txt       70%  560KB 145.1KB/s   00:01 ETA"
       ]
      },
      {
       "output_type": "stream",
       "stream": "stdout",
       "text": [
        "\r",
        "1.090.B.step1.contig1.genomecoverage.txt       86%  688KB 143.4KB/s   00:00 ETA"
       ]
      },
      {
       "output_type": "stream",
       "stream": "stdout",
       "text": [
        "\r",
        "1.090.B.step1.contig1.genomecoverage.txt       86%  688KB 129.1KB/s   00:00 ETA"
       ]
      },
      {
       "output_type": "stream",
       "stream": "stdout",
       "text": [
        "\r",
        "1.090.B.step1.contig1.genomecoverage.txt       98%  784KB 125.8KB/s   00:00 ETA\r",
        "1.090.B.step1.contig1.genomecoverage.txt      100%  792KB 132.1KB/s   00:06    \r\n",
        "\r",
        "1.091.O.step1.contig1.genomecoverage.txt        0%    0     0.0KB/s   --:-- ETA"
       ]
      },
      {
       "output_type": "stream",
       "stream": "stdout",
       "text": [
        "\r",
        "1.091.O.step1.contig1.genomecoverage.txt       18%  144KB 144.0KB/s   00:04 ETA"
       ]
      },
      {
       "output_type": "stream",
       "stream": "stdout",
       "text": [
        "\r",
        "1.091.O.step1.contig1.genomecoverage.txt       46%  368KB 152.0KB/s   00:02 ETA"
       ]
      },
      {
       "output_type": "stream",
       "stream": "stdout",
       "text": [
        "\r",
        "1.091.O.step1.contig1.genomecoverage.txt       66%  528KB 152.8KB/s   00:01 ETA"
       ]
      },
      {
       "output_type": "stream",
       "stream": "stdout",
       "text": [
        "\r",
        "1.091.O.step1.contig1.genomecoverage.txt       87%  688KB 153.5KB/s   00:00 ETA"
       ]
      },
      {
       "output_type": "stream",
       "stream": "stdout",
       "text": [
        "\r",
        "1.091.O.step1.contig1.genomecoverage.txt      100%  789KB 157.9KB/s   00:05    \r\n",
        "\r",
        "1.105.O.step1.contig1.genomecoverage.txt        0%    0     0.0KB/s   --:-- ETA"
       ]
      },
      {
       "output_type": "stream",
       "stream": "stdout",
       "text": [
        "\r",
        "1.105.O.step1.contig1.genomecoverage.txt        8%   80KB  80.0KB/s   00:10 ETA"
       ]
      },
      {
       "output_type": "stream",
       "stream": "stdout",
       "text": [
        "\r",
        "1.105.O.step1.contig1.genomecoverage.txt        8%   80KB  72.0KB/s   00:12 ETA"
       ]
      },
      {
       "output_type": "stream",
       "stream": "stdout",
       "text": [
        "\r",
        "1.105.O.step1.contig1.genomecoverage.txt       15%  144KB  71.2KB/s   00:11 ETA"
       ]
      },
      {
       "output_type": "stream",
       "stream": "stdout",
       "text": [
        "\r",
        "1.105.O.step1.contig1.genomecoverage.txt       28%  272KB  76.9KB/s   00:08 ETA"
       ]
      },
      {
       "output_type": "stream",
       "stream": "stdout",
       "text": [
        "\r",
        "1.105.O.step1.contig1.genomecoverage.txt       52%  496KB  91.6KB/s   00:04 ETA"
       ]
      },
      {
       "output_type": "stream",
       "stream": "stdout",
       "text": [
        "\r",
        "1.105.O.step1.contig1.genomecoverage.txt       65%  624KB  95.2KB/s   00:03 ETA"
       ]
      },
      {
       "output_type": "stream",
       "stream": "stdout",
       "text": [
        "\r",
        "1.105.O.step1.contig1.genomecoverage.txt       79%  752KB  98.5KB/s   00:01 ETA"
       ]
      },
      {
       "output_type": "stream",
       "stream": "stdout",
       "text": [
        "\r",
        "1.105.O.step1.contig1.genomecoverage.txt       92%  880KB 101.5KB/s   00:00 ETA"
       ]
      },
      {
       "output_type": "stream",
       "stream": "stdout",
       "text": [
        "\r",
        "1.105.O.step1.contig1.genomecoverage.txt      100%  949KB 118.6KB/s   00:08    \r\n",
        "\r",
        "1.106.O.step1.contig1.genomecoverage.txt        0%    0     0.0KB/s   --:-- ETA"
       ]
      },
      {
       "output_type": "stream",
       "stream": "stdout",
       "text": [
        "\r",
        "1.106.O.step1.contig1.genomecoverage.txt       18%  160KB 160.0KB/s   00:04 ETA"
       ]
      },
      {
       "output_type": "stream",
       "stream": "stdout",
       "text": [
        "\r",
        "1.106.O.step1.contig1.genomecoverage.txt       42%  368KB 164.8KB/s   00:03 ETA"
       ]
      },
      {
       "output_type": "stream",
       "stream": "stdout",
       "text": [
        "\r",
        "1.106.O.step1.contig1.genomecoverage.txt       68%  592KB 170.7KB/s   00:01 ETA"
       ]
      },
      {
       "output_type": "stream",
       "stream": "stdout",
       "text": [
        "\r",
        "1.106.O.step1.contig1.genomecoverage.txt       87%  752KB 169.7KB/s   00:00 ETA"
       ]
      },
      {
       "output_type": "stream",
       "stream": "stdout",
       "text": [
        "\r",
        "1.106.O.step1.contig1.genomecoverage.txt      100%  862KB 172.5KB/s   00:05    \r\n"
       ]
      },
      {
       "output_type": "stream",
       "stream": "stdout",
       "text": [
        "\r",
        "1.112.O.step1.contig1.genomecoverage.txt        0%    0     0.0KB/s   --:-- ETA"
       ]
      },
      {
       "output_type": "stream",
       "stream": "stdout",
       "text": [
        "\r",
        "1.112.O.step1.contig1.genomecoverage.txt       27%  240KB 240.0KB/s   00:02 ETA"
       ]
      },
      {
       "output_type": "stream",
       "stream": "stdout",
       "text": [
        "\r",
        "1.112.O.step1.contig1.genomecoverage.txt       52%  464KB 238.4KB/s   00:01 ETA"
       ]
      },
      {
       "output_type": "stream",
       "stream": "stdout",
       "text": [
        "\r",
        "1.112.O.step1.contig1.genomecoverage.txt       70%  624KB 230.6KB/s   00:01 ETA"
       ]
      },
      {
       "output_type": "stream",
       "stream": "stdout",
       "text": [
        "\r",
        "1.112.O.step1.contig1.genomecoverage.txt       88%  784KB 223.5KB/s   00:00 ETA"
       ]
      },
      {
       "output_type": "stream",
       "stream": "stdout",
       "text": [
        "\r",
        "1.112.O.step1.contig1.genomecoverage.txt      100%  883KB 220.6KB/s   00:04    \r\n",
        "\r",
        "1.113.A.step1.contig1.genomecoverage.txt        0%    0     0.0KB/s   --:-- ETA"
       ]
      },
      {
       "output_type": "stream",
       "stream": "stdout",
       "text": [
        "\r",
        "1.113.A.step1.contig1.genomecoverage.txt       29%  240KB 240.0KB/s   00:02 ETA"
       ]
      },
      {
       "output_type": "stream",
       "stream": "stdout",
       "text": [
        "\r",
        "1.113.A.step1.contig1.genomecoverage.txt       53%  432KB 235.2KB/s   00:01 ETA"
       ]
      },
      {
       "output_type": "stream",
       "stream": "stdout",
       "text": [
        "\r",
        "1.113.A.step1.contig1.genomecoverage.txt       73%  592KB 227.7KB/s   00:00 ETA"
       ]
      },
      {
       "output_type": "stream",
       "stream": "stdout",
       "text": [
        "\r",
        "1.113.A.step1.contig1.genomecoverage.txt       93%  752KB 220.9KB/s   00:00 ETA"
       ]
      },
      {
       "output_type": "stream",
       "stream": "stdout",
       "text": [
        "\r",
        "1.113.A.step1.contig1.genomecoverage.txt      100%  808KB 161.7KB/s   00:05    \r\n"
       ]
      },
      {
       "output_type": "stream",
       "stream": "stdout",
       "text": [
        "\r",
        "1.119.O.step1.contig1.genomecoverage.txt        0%    0     0.0KB/s   --:-- ETA"
       ]
      },
      {
       "output_type": "stream",
       "stream": "stdout",
       "text": [
        "\r",
        "1.119.O.step1.contig1.genomecoverage.txt       25%  208KB 208.0KB/s   00:02 ETA"
       ]
      },
      {
       "output_type": "stream",
       "stream": "stdout",
       "text": [
        "\r",
        "1.119.O.step1.contig1.genomecoverage.txt       49%  400KB 206.4KB/s   00:02 ETA"
       ]
      },
      {
       "output_type": "stream",
       "stream": "stdout",
       "text": [
        "\r",
        "1.119.O.step1.contig1.genomecoverage.txt       76%  624KB 208.2KB/s   00:00 ETA"
       ]
      },
      {
       "output_type": "stream",
       "stream": "stdout",
       "text": [
        "\r",
        "1.119.O.step1.contig1.genomecoverage.txt       84%  688KB 193.7KB/s   00:00 ETA"
       ]
      },
      {
       "output_type": "stream",
       "stream": "stdout",
       "text": [
        "\r",
        "1.119.O.step1.contig1.genomecoverage.txt       92%  752KB 180.8KB/s   00:00 ETA"
       ]
      },
      {
       "output_type": "stream",
       "stream": "stdout",
       "text": [
        "\r",
        "1.119.O.step1.contig1.genomecoverage.txt      100%  815KB 163.0KB/s   00:05    \r\n",
        "\r",
        "1.123.O.step1.contig1.genomecoverage.txt        0%    0     0.0KB/s   --:-- ETA"
       ]
      },
      {
       "output_type": "stream",
       "stream": "stdout",
       "text": [
        "\r",
        "1.123.O.step1.contig1.genomecoverage.txt       28%  240KB 240.0KB/s   00:02 ETA"
       ]
      },
      {
       "output_type": "stream",
       "stream": "stdout",
       "text": [
        "\r",
        "1.123.O.step1.contig1.genomecoverage.txt       47%  400KB 232.0KB/s   00:01 ETA"
       ]
      },
      {
       "output_type": "stream",
       "stream": "stdout",
       "text": [
        "\r",
        "1.123.O.step1.contig1.genomecoverage.txt       66%  560KB 224.8KB/s   00:01 ETA"
       ]
      },
      {
       "output_type": "stream",
       "stream": "stdout",
       "text": [
        "\r",
        "1.123.O.step1.contig1.genomecoverage.txt       85%  720KB 218.3KB/s   00:00 ETA"
       ]
      },
      {
       "output_type": "stream",
       "stream": "stdout",
       "text": [
        "\r",
        "1.123.O.step1.contig1.genomecoverage.txt      100%  844KB 168.8KB/s   00:05    \r\n",
        "\r",
        "1.127.O.step1.contig1.genomecoverage.txt        0%    0     0.0KB/s   --:-- ETA"
       ]
      },
      {
       "output_type": "stream",
       "stream": "stdout",
       "text": [
        "\r",
        "1.127.O.step1.contig1.genomecoverage.txt       25%  208KB 208.0KB/s   00:02 ETA"
       ]
      },
      {
       "output_type": "stream",
       "stream": "stdout",
       "text": [
        "\r",
        "1.127.O.step1.contig1.genomecoverage.txt       44%  368KB 203.2KB/s   00:02 ETA"
       ]
      },
      {
       "output_type": "stream",
       "stream": "stdout",
       "text": [
        "\r",
        "1.127.O.step1.contig1.genomecoverage.txt       56%  464KB 192.5KB/s   00:01 ETA"
       ]
      },
      {
       "output_type": "stream",
       "stream": "stdout",
       "text": [
        "\r",
        "1.127.O.step1.contig1.genomecoverage.txt       79%  656KB 192.4KB/s   00:00 ETA"
       ]
      },
      {
       "output_type": "stream",
       "stream": "stdout",
       "text": [
        "\r",
        "1.127.O.step1.contig1.genomecoverage.txt      100%  823KB 205.6KB/s   00:04    \r\n",
        "\r",
        "1.135.O.step1.contig1.genomecoverage.txt        0%    0     0.0KB/s   --:-- ETA"
       ]
      },
      {
       "output_type": "stream",
       "stream": "stdout",
       "text": [
        "\r",
        "1.135.O.step1.contig1.genomecoverage.txt       27%  208KB 208.0KB/s   00:02 ETA"
       ]
      },
      {
       "output_type": "stream",
       "stream": "stdout",
       "text": [
        "\r",
        "1.135.O.step1.contig1.genomecoverage.txt       43%  336KB 200.0KB/s   00:02 ETA"
       ]
      },
      {
       "output_type": "stream",
       "stream": "stdout",
       "text": [
        "\r",
        "1.135.O.step1.contig1.genomecoverage.txt       73%  560KB 202.4KB/s   00:01 ETA"
       ]
      },
      {
       "output_type": "stream",
       "stream": "stdout",
       "text": [
        "\r",
        "1.135.O.step1.contig1.genomecoverage.txt       98%  752KB 201.4KB/s   00:00 ETA"
       ]
      },
      {
       "output_type": "stream",
       "stream": "stdout",
       "text": [
        "\r",
        "1.135.O.step1.contig1.genomecoverage.txt      100%  767KB 191.7KB/s   00:04    \r\n"
       ]
      },
      {
       "output_type": "stream",
       "stream": "stdout",
       "text": [
        "\r",
        "1.137.O.step1.contig1.genomecoverage.txt        0%    0     0.0KB/s   --:-- ETA"
       ]
      },
      {
       "output_type": "stream",
       "stream": "stdout",
       "text": [
        "\r",
        "1.137.O.step1.contig1.genomecoverage.txt       34%  240KB 240.0KB/s   00:01 ETA"
       ]
      },
      {
       "output_type": "stream",
       "stream": "stdout",
       "text": [
        "\r",
        "1.137.O.step1.contig1.genomecoverage.txt       66%  464KB 238.4KB/s   00:00 ETA"
       ]
      },
      {
       "output_type": "stream",
       "stream": "stdout",
       "text": [
        "\r",
        "1.137.O.step1.contig1.genomecoverage.txt      100%  694KB 231.2KB/s   00:03    \r\n"
       ]
      },
      {
       "output_type": "stream",
       "stream": "stdout",
       "text": [
        "\r",
        "1.143.O.step1.contig1.genomecoverage.txt        0%    0     0.0KB/s   --:-- ETA"
       ]
      },
      {
       "output_type": "stream",
       "stream": "stdout",
       "text": [
        "\r",
        "1.143.O.step1.contig1.genomecoverage.txt       17%  144KB 144.0KB/s   00:04 ETA"
       ]
      },
      {
       "output_type": "stream",
       "stream": "stdout",
       "text": [
        "\r",
        "1.143.O.step1.contig1.genomecoverage.txt       41%  336KB 148.8KB/s   00:03 ETA"
       ]
      },
      {
       "output_type": "stream",
       "stream": "stdout",
       "text": [
        "\r",
        "1.143.O.step1.contig1.genomecoverage.txt       68%  560KB 156.3KB/s   00:01 ETA"
       ]
      },
      {
       "output_type": "stream",
       "stream": "stdout",
       "text": [
        "\r",
        "1.143.O.step1.contig1.genomecoverage.txt       88%  720KB 156.7KB/s   00:00 ETA"
       ]
      },
      {
       "output_type": "stream",
       "stream": "stdout",
       "text": [
        "\r",
        "1.143.O.step1.contig1.genomecoverage.txt      100%  815KB 163.1KB/s   00:05    \r\n"
       ]
      },
      {
       "output_type": "stream",
       "stream": "stdout",
       "text": [
        "\r",
        "1.144.O.step1.contig1.genomecoverage.txt        0%    0     0.0KB/s   --:-- ETA"
       ]
      },
      {
       "output_type": "stream",
       "stream": "stdout",
       "text": [
        "\r",
        "1.144.O.step1.contig1.genomecoverage.txt       29%  240KB 240.0KB/s   00:02 ETA"
       ]
      },
      {
       "output_type": "stream",
       "stream": "stdout",
       "text": [
        "\r",
        "1.144.O.step1.contig1.genomecoverage.txt       45%  368KB 228.8KB/s   00:01 ETA"
       ]
      },
      {
       "output_type": "stream",
       "stream": "stdout",
       "text": [
        "\r",
        "1.144.O.step1.contig1.genomecoverage.txt       72%  592KB 228.3KB/s   00:00 ETA"
       ]
      },
      {
       "output_type": "stream",
       "stream": "stdout",
       "text": [
        "\r",
        "1.144.O.step1.contig1.genomecoverage.txt      100%  813KB 203.3KB/s   00:04    \r\n",
        "\r",
        "1.149.O.step1.contig1.genomecoverage.txt        0%    0     0.0KB/s   --:-- ETA"
       ]
      },
      {
       "output_type": "stream",
       "stream": "stdout",
       "text": [
        "\r",
        "1.149.O.step1.contig1.genomecoverage.txt       16%  144KB 144.0KB/s   00:05 ETA"
       ]
      },
      {
       "output_type": "stream",
       "stream": "stdout",
       "text": [
        "\r",
        "1.149.O.step1.contig1.genomecoverage.txt       41%  368KB 152.0KB/s   00:03 ETA"
       ]
      },
      {
       "output_type": "stream",
       "stream": "stdout",
       "text": [
        "\r",
        "1.149.O.step1.contig1.genomecoverage.txt       63%  560KB 156.0KB/s   00:02 ETA"
       ]
      },
      {
       "output_type": "stream",
       "stream": "stdout",
       "text": [
        "\r",
        "1.149.O.step1.contig1.genomecoverage.txt       99%  880KB 172.4KB/s   00:00 ETA"
       ]
      },
      {
       "output_type": "stream",
       "stream": "stdout",
       "text": [
        "\r",
        "1.149.O.step1.contig1.genomecoverage.txt       99%  880KB 155.2KB/s   00:00 ETA"
       ]
      },
      {
       "output_type": "stream",
       "stream": "stdout",
       "text": [
        "\r",
        "1.149.O.step1.contig1.genomecoverage.txt      100%  889KB 177.7KB/s   00:05    \r\n",
        "\r",
        "1.151.O.step1.contig1.genomecoverage.txt        0%    0     0.0KB/s   --:-- ETA"
       ]
      },
      {
       "output_type": "stream",
       "stream": "stdout",
       "text": [
        "\r",
        "1.151.O.step1.contig1.genomecoverage.txt       20%  160KB 160.0KB/s   00:03 ETA"
       ]
      },
      {
       "output_type": "stream",
       "stream": "stdout",
       "text": [
        "\r",
        "1.151.O.step1.contig1.genomecoverage.txt       54%  432KB 171.2KB/s   00:02 ETA"
       ]
      },
      {
       "output_type": "stream",
       "stream": "stdout",
       "text": [
        "\r",
        "1.151.O.step1.contig1.genomecoverage.txt       94%  752KB 186.1KB/s   00:00 ETA"
       ]
      },
      {
       "output_type": "stream",
       "stream": "stdout",
       "text": [
        "\r",
        "1.151.O.step1.contig1.genomecoverage.txt      100%  794KB 264.6KB/s   00:03    \r\n",
        "\r",
        "1.154.O.step1.contig1.genomecoverage.txt        0%    0     0.0KB/s   --:-- ETA"
       ]
      },
      {
       "output_type": "stream",
       "stream": "stdout",
       "text": [
        "\r",
        "1.154.O.step1.contig1.genomecoverage.txt       35%  240KB 240.0KB/s   00:01 ETA"
       ]
      },
      {
       "output_type": "stream",
       "stream": "stdout",
       "text": [
        "\r",
        "1.154.O.step1.contig1.genomecoverage.txt       68%  464KB 238.4KB/s   00:00 ETA"
       ]
      },
      {
       "output_type": "stream",
       "stream": "stdout",
       "text": [
        "\r",
        "1.154.O.step1.contig1.genomecoverage.txt      100%  678KB 226.1KB/s   00:03    \r\n"
       ]
      },
      {
       "output_type": "stream",
       "stream": "stdout",
       "text": [
        "\r",
        "1.173.O.step1.contig1.genomecoverage.txt        0%    0     0.0KB/s   --:-- ETA"
       ]
      },
      {
       "output_type": "stream",
       "stream": "stdout",
       "text": [
        "\r",
        "1.173.O.step1.contig1.genomecoverage.txt       19%  160KB 160.0KB/s   00:04 ETA"
       ]
      },
      {
       "output_type": "stream",
       "stream": "stdout",
       "text": [
        "\r",
        "1.173.O.step1.contig1.genomecoverage.txt       36%  304KB 158.4KB/s   00:03 ETA"
       ]
      },
      {
       "output_type": "stream",
       "stream": "stdout",
       "text": [
        "\r",
        "1.173.O.step1.contig1.genomecoverage.txt       36%  304KB 142.6KB/s   00:03 ETA"
       ]
      },
      {
       "output_type": "stream",
       "stream": "stdout",
       "text": [
        "\r",
        "1.173.O.step1.contig1.genomecoverage.txt       36%  304KB 128.3KB/s   00:04 ETA"
       ]
      },
      {
       "output_type": "stream",
       "stream": "stdout",
       "text": [
        "\r",
        "1.173.O.step1.contig1.genomecoverage.txt       36%  304KB 115.5KB/s   00:04 ETA"
       ]
      },
      {
       "output_type": "stream",
       "stream": "stdout",
       "text": [
        "\r",
        "1.173.O.step1.contig1.genomecoverage.txt       36%  304KB 103.9KB/s   00:05 ETA"
       ]
      },
      {
       "output_type": "stream",
       "stream": "stdout",
       "text": [
        "\r",
        "1.173.O.step1.contig1.genomecoverage.txt       43%  368KB  99.9KB/s   00:04 ETA"
       ]
      },
      {
       "output_type": "stream",
       "stream": "stdout",
       "text": [
        "\r",
        "1.173.O.step1.contig1.genomecoverage.txt       62%  528KB 105.9KB/s   00:02 ETA"
       ]
      },
      {
       "output_type": "stream",
       "stream": "stdout",
       "text": [
        "\r",
        "1.173.O.step1.contig1.genomecoverage.txt       89%  752KB 117.7KB/s   00:00 ETA"
       ]
      },
      {
       "output_type": "stream",
       "stream": "stdout",
       "text": [
        "\r",
        "1.173.O.step1.contig1.genomecoverage.txt      100%  838KB  83.8KB/s   00:10    \r\n"
       ]
      },
      {
       "output_type": "stream",
       "stream": "stdout",
       "text": [
        "\r",
        "1.177.O.step1.contig1.genomecoverage.txt        0%    0     0.0KB/s   --:-- ETA"
       ]
      },
      {
       "output_type": "stream",
       "stream": "stdout",
       "text": [
        "\r",
        "1.177.O.step1.contig1.genomecoverage.txt       19%  160KB 160.0KB/s   00:04 ETA"
       ]
      },
      {
       "output_type": "stream",
       "stream": "stdout",
       "text": [
        "\r",
        "1.177.O.step1.contig1.genomecoverage.txt       55%  464KB 174.4KB/s   00:02 ETA"
       ]
      },
      {
       "output_type": "stream",
       "stream": "stdout",
       "text": [
        "\r",
        "1.177.O.step1.contig1.genomecoverage.txt       90%  752KB 185.8KB/s   00:00 ETA"
       ]
      },
      {
       "output_type": "stream",
       "stream": "stdout",
       "text": [
        "\r",
        "1.177.O.step1.contig1.genomecoverage.txt      100%  832KB 277.4KB/s   00:03    \r\n"
       ]
      },
      {
       "output_type": "stream",
       "stream": "stdout",
       "text": [
        "\r",
        "1.178.O.step1.contig1.genomecoverage.txt        0%    0     0.0KB/s   --:-- ETA"
       ]
      },
      {
       "output_type": "stream",
       "stream": "stdout",
       "text": [
        "\r",
        "1.178.O.step1.contig1.genomecoverage.txt       21%  160KB 160.0KB/s   00:03 ETA"
       ]
      },
      {
       "output_type": "stream",
       "stream": "stdout",
       "text": [
        "\r",
        "1.178.O.step1.contig1.genomecoverage.txt       63%  464KB 174.4KB/s   00:01 ETA"
       ]
      },
      {
       "output_type": "stream",
       "stream": "stdout",
       "text": [
        "\r",
        "1.178.O.step1.contig1.genomecoverage.txt       94%  688KB 179.4KB/s   00:00 ETA"
       ]
      },
      {
       "output_type": "stream",
       "stream": "stdout",
       "text": [
        "\r",
        "1.178.O.step1.contig1.genomecoverage.txt      100%  730KB 243.4KB/s   00:03    \r\n",
        "\r",
        "1.186.O.step1.contig1.genomecoverage.txt        0%    0     0.0KB/s   --:-- ETA"
       ]
      },
      {
       "output_type": "stream",
       "stream": "stdout",
       "text": [
        "\r",
        "1.186.O.step1.contig1.genomecoverage.txt       19%  176KB 176.0KB/s   00:04 ETA"
       ]
      },
      {
       "output_type": "stream",
       "stream": "stdout",
       "text": [
        "\r",
        "1.186.O.step1.contig1.genomecoverage.txt       44%  400KB 180.8KB/s   00:02 ETA"
       ]
      },
      {
       "output_type": "stream",
       "stream": "stdout",
       "text": [
        "\r",
        "1.186.O.step1.contig1.genomecoverage.txt       73%  656KB 188.3KB/s   00:01 ETA"
       ]
      },
      {
       "output_type": "stream",
       "stream": "stdout",
       "text": [
        "\r",
        "1.186.O.step1.contig1.genomecoverage.txt       84%  752KB 179.1KB/s   00:00 ETA"
       ]
      },
      {
       "output_type": "stream",
       "stream": "stdout",
       "text": [
        "\r",
        "1.186.O.step1.contig1.genomecoverage.txt       98%  880KB 174.0KB/s   00:00 ETA\r",
        "1.186.O.step1.contig1.genomecoverage.txt      100%  892KB 178.3KB/s   00:05    \r\n"
       ]
      },
      {
       "output_type": "stream",
       "stream": "stdout",
       "text": [
        "\r",
        "1.197.A.step1.contig1.genomecoverage.txt        0%    0     0.0KB/s   --:-- ETA"
       ]
      },
      {
       "output_type": "stream",
       "stream": "stdout",
       "text": [
        "\r",
        "1.197.A.step1.contig1.genomecoverage.txt       41%  336KB 336.0KB/s   00:01 ETA"
       ]
      },
      {
       "output_type": "stream",
       "stream": "stdout",
       "text": [
        "\r",
        "1.197.A.step1.contig1.genomecoverage.txt       68%  560KB 324.8KB/s   00:00 ETA"
       ]
      },
      {
       "output_type": "stream",
       "stream": "stdout",
       "text": [
        "\r",
        "1.197.A.step1.contig1.genomecoverage.txt      100%  816KB 272.1KB/s   00:03    \r\n",
        "\r",
        "1.198.A.step1.contig1.genomecoverage.txt        0%    0     0.0KB/s   --:-- ETA"
       ]
      },
      {
       "output_type": "stream",
       "stream": "stdout",
       "text": [
        "\r",
        "1.198.A.step1.contig1.genomecoverage.txt       29%  240KB 240.0KB/s   00:02 ETA"
       ]
      },
      {
       "output_type": "stream",
       "stream": "stdout",
       "text": [
        "\r",
        "1.198.A.step1.contig1.genomecoverage.txt       56%  464KB 238.4KB/s   00:01 ETA"
       ]
      },
      {
       "output_type": "stream",
       "stream": "stdout",
       "text": [
        "\r",
        "1.198.A.step1.contig1.genomecoverage.txt       92%  752KB 243.4KB/s   00:00 ETA"
       ]
      },
      {
       "output_type": "stream",
       "stream": "stdout",
       "text": [
        "\r",
        "1.198.A.step1.contig1.genomecoverage.txt      100%  814KB 271.4KB/s   00:03    \r\n",
        "\r",
        "1.198.B.step1.contig1.genomecoverage.txt        0%    0     0.0KB/s   --:-- ETA"
       ]
      },
      {
       "output_type": "stream",
       "stream": "stdout",
       "text": [
        "\r",
        "1.198.B.step1.contig1.genomecoverage.txt       24%  208KB 208.0KB/s   00:03 ETA"
       ]
      },
      {
       "output_type": "stream",
       "stream": "stdout",
       "text": [
        "\r",
        "1.198.B.step1.contig1.genomecoverage.txt       58%  496KB 216.0KB/s   00:01 ETA"
       ]
      },
      {
       "output_type": "stream",
       "stream": "stdout",
       "text": [
        "\r",
        "1.198.B.step1.contig1.genomecoverage.txt       87%  752KB 220.0KB/s   00:00 ETA"
       ]
      },
      {
       "output_type": "stream",
       "stream": "stdout",
       "text": [
        "\r",
        "1.198.B.step1.contig1.genomecoverage.txt       99%  848KB 207.6KB/s   00:00 ETA"
       ]
      },
      {
       "output_type": "stream",
       "stream": "stdout",
       "text": [
        "\r",
        "1.198.B.step1.contig1.genomecoverage.txt       99%  848KB 186.8KB/s   00:00 ETA"
       ]
      },
      {
       "output_type": "stream",
       "stream": "stdout",
       "text": [
        "\r",
        "1.198.B.step1.contig1.genomecoverage.txt      100%  855KB 142.5KB/s   00:06    \r\n",
        "\r",
        "1.199.A.step1.contig1.genomecoverage.txt        0%    0     0.0KB/s   --:-- ETA"
       ]
      },
      {
       "output_type": "stream",
       "stream": "stdout",
       "text": [
        "\r",
        "1.199.A.step1.contig1.genomecoverage.txt       12%  112KB 112.0KB/s   00:06 ETA"
       ]
      },
      {
       "output_type": "stream",
       "stream": "stdout",
       "text": [
        "\r",
        "1.199.A.step1.contig1.genomecoverage.txt       37%  336KB 123.2KB/s   00:04 ETA"
       ]
      },
      {
       "output_type": "stream",
       "stream": "stdout",
       "text": [
        "\r",
        "1.199.A.step1.contig1.genomecoverage.txt       59%  528KB 130.1KB/s   00:02 ETA"
       ]
      },
      {
       "output_type": "stream",
       "stream": "stdout",
       "text": [
        "\r",
        "1.199.A.step1.contig1.genomecoverage.txt       91%  816KB 145.9KB/s   00:00 ETA"
       ]
      },
      {
       "output_type": "stream",
       "stream": "stdout",
       "text": [
        "\r",
        "1.199.A.step1.contig1.genomecoverage.txt      100%  889KB 222.3KB/s   00:04    \r\n"
       ]
      },
      {
       "output_type": "stream",
       "stream": "stdout",
       "text": [
        "\r",
        "1.199.B.step1.contig1.genomecoverage.txt        0%    0     0.0KB/s   --:-- ETA"
       ]
      },
      {
       "output_type": "stream",
       "stream": "stdout",
       "text": [
        "\r",
        "1.199.B.step1.contig1.genomecoverage.txt       23%  208KB 208.0KB/s   00:03 ETA"
       ]
      },
      {
       "output_type": "stream",
       "stream": "stdout",
       "text": [
        "\r",
        "1.199.B.step1.contig1.genomecoverage.txt       55%  496KB 216.0KB/s   00:01 ETA"
       ]
      },
      {
       "output_type": "stream",
       "stream": "stdout",
       "text": [
        "\r",
        "1.199.B.step1.contig1.genomecoverage.txt       84%  752KB 220.0KB/s   00:00 ETA"
       ]
      },
      {
       "output_type": "stream",
       "stream": "stdout",
       "text": [
        "\r",
        "1.199.B.step1.contig1.genomecoverage.txt       98%  880KB 210.8KB/s   00:00 ETA"
       ]
      },
      {
       "output_type": "stream",
       "stream": "stdout",
       "text": [
        "\r",
        "1.199.B.step1.contig1.genomecoverage.txt      100%  892KB 178.4KB/s   00:05    \r\n"
       ]
      },
      {
       "output_type": "stream",
       "stream": "stdout",
       "text": [
        "\r",
        "1.213.O.step1.contig1.genomecoverage.txt        0%    0     0.0KB/s   --:-- ETA"
       ]
      },
      {
       "output_type": "stream",
       "stream": "stdout",
       "text": [
        "\r",
        "1.213.O.step1.contig1.genomecoverage.txt       20%  160KB 160.0KB/s   00:03 ETA"
       ]
      },
      {
       "output_type": "stream",
       "stream": "stdout",
       "text": [
        "\r",
        "1.213.O.step1.contig1.genomecoverage.txt       43%  336KB 161.6KB/s   00:02 ETA"
       ]
      },
      {
       "output_type": "stream",
       "stream": "stdout",
       "text": [
        "\r",
        "1.213.O.step1.contig1.genomecoverage.txt       72%  560KB 167.8KB/s   00:01 ETA"
       ]
      },
      {
       "output_type": "stream",
       "stream": "stdout",
       "text": [
        "\r",
        "1.213.O.step1.contig1.genomecoverage.txt      100%  777KB 194.2KB/s   00:04    \r\n",
        "\r",
        "1.216.O.step1.contig1.genomecoverage.txt        0%    0     0.0KB/s   --:-- ETA"
       ]
      },
      {
       "output_type": "stream",
       "stream": "stdout",
       "text": [
        "\r",
        "1.216.O.step1.contig1.genomecoverage.txt       23%  176KB 176.0KB/s   00:03 ETA"
       ]
      },
      {
       "output_type": "stream",
       "stream": "stdout",
       "text": [
        "\r",
        "1.216.O.step1.contig1.genomecoverage.txt       61%  464KB 187.2KB/s   00:01 ETA"
       ]
      },
      {
       "output_type": "stream",
       "stream": "stdout",
       "text": [
        "\r",
        "1.216.O.step1.contig1.genomecoverage.txt       90%  688KB 190.9KB/s   00:00 ETA"
       ]
      },
      {
       "output_type": "stream",
       "stream": "stdout",
       "text": [
        "\r",
        "1.216.O.step1.contig1.genomecoverage.txt      100%  757KB 189.1KB/s   00:04    \r\n",
        "\r",
        "1.231.O.step1.contig1.genomecoverage.txt        0%    0     0.0KB/s   --:-- ETA"
       ]
      },
      {
       "output_type": "stream",
       "stream": "stdout",
       "text": [
        "\r",
        "1.231.O.step1.contig1.genomecoverage.txt       28%  240KB 240.0KB/s   00:02 ETA"
       ]
      },
      {
       "output_type": "stream",
       "stream": "stdout",
       "text": [
        "\r",
        "1.231.O.step1.contig1.genomecoverage.txt       43%  368KB 228.8KB/s   00:02 ETA"
       ]
      },
      {
       "output_type": "stream",
       "stream": "stdout",
       "text": [
        "\r",
        "1.231.O.step1.contig1.genomecoverage.txt       69%  592KB 228.3KB/s   00:01 ETA"
       ]
      },
      {
       "output_type": "stream",
       "stream": "stdout",
       "text": [
        "\r",
        "1.231.O.step1.contig1.genomecoverage.txt       88%  752KB 221.5KB/s   00:00 ETA"
       ]
      },
      {
       "output_type": "stream",
       "stream": "stdout",
       "text": [
        "\r",
        "1.231.O.step1.contig1.genomecoverage.txt      100%  852KB 213.0KB/s   00:04    \r\n",
        "\r",
        "1.232.O.step1.contig1.genomecoverage.txt        0%    0     0.0KB/s   --:-- ETA"
       ]
      },
      {
       "output_type": "stream",
       "stream": "stdout",
       "text": [
        "\r",
        "1.232.O.step1.contig1.genomecoverage.txt       17%  176KB 176.0KB/s   00:04 ETA"
       ]
      },
      {
       "output_type": "stream",
       "stream": "stdout",
       "text": [
        "\r",
        "1.232.O.step1.contig1.genomecoverage.txt       42%  432KB 184.0KB/s   00:03 ETA"
       ]
      },
      {
       "output_type": "stream",
       "stream": "stdout",
       "text": [
        "\r",
        "1.232.O.step1.contig1.genomecoverage.txt       64%  656KB 188.0KB/s   00:01 ETA"
       ]
      },
      {
       "output_type": "stream",
       "stream": "stdout",
       "text": [
        "\r",
        "1.232.O.step1.contig1.genomecoverage.txt       90%  912KB 194.8KB/s   00:00 ETA"
       ]
      },
      {
       "output_type": "stream",
       "stream": "stdout",
       "text": [
        "\r",
        "1.232.O.step1.contig1.genomecoverage.txt      100% 1010KB 252.6KB/s   00:04    \r\n",
        "\r",
        "1.236.O.step1.contig1.genomecoverage.txt        0%    0     0.0KB/s   --:-- ETA"
       ]
      },
      {
       "output_type": "stream",
       "stream": "stdout",
       "text": [
        "\r",
        "1.236.O.step1.contig1.genomecoverage.txt       30%  240KB 240.0KB/s   00:02 ETA"
       ]
      },
      {
       "output_type": "stream",
       "stream": "stdout",
       "text": [
        "\r",
        "1.236.O.step1.contig1.genomecoverage.txt       75%  592KB 251.2KB/s   00:00 ETA"
       ]
      },
      {
       "output_type": "stream",
       "stream": "stdout",
       "text": [
        "\r",
        "1.236.O.step1.contig1.genomecoverage.txt      100%  780KB 260.1KB/s   00:03    \r\n"
       ]
      },
      {
       "output_type": "stream",
       "stream": "stdout",
       "text": [
        "\r",
        "1.243.O.step1.contig1.genomecoverage.txt        0%    0     0.0KB/s   --:-- ETA"
       ]
      },
      {
       "output_type": "stream",
       "stream": "stdout",
       "text": [
        "\r",
        "1.243.O.step1.contig1.genomecoverage.txt       37%  336KB 336.0KB/s   00:01 ETA"
       ]
      },
      {
       "output_type": "stream",
       "stream": "stdout",
       "text": [
        "\r",
        "1.243.O.step1.contig1.genomecoverage.txt       66%  592KB 328.0KB/s   00:00 ETA"
       ]
      },
      {
       "output_type": "stream",
       "stream": "stdout",
       "text": [
        "\r",
        "1.243.O.step1.contig1.genomecoverage.txt       81%  720KB 308.0KB/s   00:00 ETA"
       ]
      },
      {
       "output_type": "stream",
       "stream": "stdout",
       "text": [
        "\r",
        "1.243.O.step1.contig1.genomecoverage.txt       99%  880KB 293.2KB/s   00:00 ETA"
       ]
      },
      {
       "output_type": "stream",
       "stream": "stdout",
       "text": [
        "\r",
        "1.243.O.step1.contig1.genomecoverage.txt      100%  887KB 221.8KB/s   00:04    \r\n",
        "\r",
        "1.248.O.step1.contig1.genomecoverage.txt        0%    0     0.0KB/s   --:-- ETA"
       ]
      },
      {
       "output_type": "stream",
       "stream": "stdout",
       "text": [
        "\r",
        "1.248.O.step1.contig1.genomecoverage.txt       18%  176KB 176.0KB/s   00:04 ETA"
       ]
      },
      {
       "output_type": "stream",
       "stream": "stdout",
       "text": [
        "\r",
        "1.248.O.step1.contig1.genomecoverage.txt       49%  464KB 187.2KB/s   00:02 ETA"
       ]
      },
      {
       "output_type": "stream",
       "stream": "stdout",
       "text": [
        "\r",
        "1.248.O.step1.contig1.genomecoverage.txt       80%  752KB 197.3KB/s   00:00 ETA"
       ]
      },
      {
       "output_type": "stream",
       "stream": "stdout",
       "text": [
        "\r",
        "1.248.O.step1.contig1.genomecoverage.txt      100%  933KB 233.1KB/s   00:04    \r\n"
       ]
      },
      {
       "output_type": "stream",
       "stream": "stdout",
       "text": [
        "\r",
        "1.256.O.step1.contig1.genomecoverage.txt        0%    0     0.0KB/s   --:-- ETA"
       ]
      },
      {
       "output_type": "stream",
       "stream": "stdout",
       "text": [
        "\r",
        "1.256.O.step1.contig1.genomecoverage.txt       23%  208KB 208.0KB/s   00:03 ETA"
       ]
      },
      {
       "output_type": "stream",
       "stream": "stdout",
       "text": [
        "\r",
        "1.256.O.step1.contig1.genomecoverage.txt       45%  400KB 206.4KB/s   00:02 ETA"
       ]
      },
      {
       "output_type": "stream",
       "stream": "stdout",
       "text": [
        "\r",
        "1.256.O.step1.contig1.genomecoverage.txt       63%  560KB 201.8KB/s   00:01 ETA"
       ]
      },
      {
       "output_type": "stream",
       "stream": "stdout",
       "text": [
        "\r",
        "1.256.O.step1.contig1.genomecoverage.txt       78%  688KB 194.4KB/s   00:00 ETA"
       ]
      },
      {
       "output_type": "stream",
       "stream": "stdout",
       "text": [
        "\r",
        "1.256.O.step1.contig1.genomecoverage.txt      100%  878KB 175.5KB/s   00:05    \r\n"
       ]
      },
      {
       "output_type": "stream",
       "stream": "stdout",
       "text": [
        "\r",
        "1.263.A.step1.contig1.genomecoverage.txt        0%    0     0.0KB/s   --:-- ETA"
       ]
      },
      {
       "output_type": "stream",
       "stream": "stdout",
       "text": [
        "\r",
        "1.263.A.step1.contig1.genomecoverage.txt       22%  208KB 208.0KB/s   00:03 ETA"
       ]
      },
      {
       "output_type": "stream",
       "stream": "stdout",
       "text": [
        "\r",
        "1.263.A.step1.contig1.genomecoverage.txt       57%  528KB 219.2KB/s   00:01 ETA"
       ]
      },
      {
       "output_type": "stream",
       "stream": "stdout",
       "text": [
        "\r",
        "1.263.A.step1.contig1.genomecoverage.txt       85%  784KB 222.9KB/s   00:00 ETA"
       ]
      },
      {
       "output_type": "stream",
       "stream": "stdout",
       "text": [
        "\r",
        "1.263.A.step1.contig1.genomecoverage.txt      100%  915KB 305.0KB/s   00:03    \r\n"
       ]
      },
      {
       "output_type": "stream",
       "stream": "stdout",
       "text": [
        "\r",
        "1.263.B.step1.contig1.genomecoverage.txt        0%    0     0.0KB/s   --:-- ETA"
       ]
      },
      {
       "output_type": "stream",
       "stream": "stdout",
       "text": [
        "\r",
        "1.263.B.step1.contig1.genomecoverage.txt       12%  112KB 112.0KB/s   00:06 ETA"
       ]
      },
      {
       "output_type": "stream",
       "stream": "stdout",
       "text": [
        "\r",
        "1.263.B.step1.contig1.genomecoverage.txt       35%  304KB 120.0KB/s   00:04 ETA"
       ]
      },
      {
       "output_type": "stream",
       "stream": "stdout",
       "text": [
        "\r",
        "1.263.B.step1.contig1.genomecoverage.txt       64%  560KB 133.6KB/s   00:02 ETA"
       ]
      },
      {
       "output_type": "stream",
       "stream": "stdout",
       "text": [
        "\r",
        "1.263.B.step1.contig1.genomecoverage.txt       87%  752KB 139.4KB/s   00:00 ETA"
       ]
      },
      {
       "output_type": "stream",
       "stream": "stdout",
       "text": [
        "\r",
        "1.263.B.step1.contig1.genomecoverage.txt      100%  862KB 172.4KB/s   00:05    \r\n",
        "\r",
        "1.265.O.step1.contig1.genomecoverage.txt        0%    0     0.0KB/s   --:-- ETA"
       ]
      },
      {
       "output_type": "stream",
       "stream": "stdout",
       "text": [
        "\r",
        "1.265.O.step1.contig1.genomecoverage.txt       22%  176KB 176.0KB/s   00:03 ETA"
       ]
      },
      {
       "output_type": "stream",
       "stream": "stdout",
       "text": [
        "\r",
        "1.265.O.step1.contig1.genomecoverage.txt       46%  368KB 177.6KB/s   00:02 ETA"
       ]
      },
      {
       "output_type": "stream",
       "stream": "stdout",
       "text": [
        "\r",
        "1.265.O.step1.contig1.genomecoverage.txt       62%  496KB 172.6KB/s   00:01 ETA"
       ]
      },
      {
       "output_type": "stream",
       "stream": "stdout",
       "text": [
        "\r",
        "1.265.O.step1.contig1.genomecoverage.txt       90%  720KB 177.8KB/s   00:00 ETA"
       ]
      },
      {
       "output_type": "stream",
       "stream": "stdout",
       "text": [
        "\r",
        "1.265.O.step1.contig1.genomecoverage.txt      100%  799KB 199.7KB/s   00:04    \r\n",
        "\r",
        "1.273.O.step1.contig1.genomecoverage.txt        0%    0     0.0KB/s   --:-- ETA"
       ]
      },
      {
       "output_type": "stream",
       "stream": "stdout",
       "text": [
        "\r",
        "1.273.O.step1.contig1.genomecoverage.txt       27%  240KB 240.0KB/s   00:02 ETA"
       ]
      },
      {
       "output_type": "stream",
       "stream": "stdout",
       "text": [
        "\r",
        "1.273.O.step1.contig1.genomecoverage.txt       56%  496KB 241.6KB/s   00:01 ETA"
       ]
      },
      {
       "output_type": "stream",
       "stream": "stdout",
       "text": [
        "\r",
        "1.273.O.step1.contig1.genomecoverage.txt       85%  752KB 243.0KB/s   00:00 ETA"
       ]
      },
      {
       "output_type": "stream",
       "stream": "stdout",
       "text": [
        "\r",
        "1.273.O.step1.contig1.genomecoverage.txt      100%  882KB 294.1KB/s   00:03    \r\n",
        "\r",
        "1.276.O.step1.contig1.genomecoverage.txt        0%    0     0.0KB/s   --:-- ETA"
       ]
      },
      {
       "output_type": "stream",
       "stream": "stdout",
       "text": [
        "\r",
        "1.276.O.step1.contig1.genomecoverage.txt       29%  240KB 240.0KB/s   00:02 ETA"
       ]
      },
      {
       "output_type": "stream",
       "stream": "stdout",
       "text": [
        "\r",
        "1.276.O.step1.contig1.genomecoverage.txt       73%  592KB 251.2KB/s   00:00 ETA"
       ]
      },
      {
       "output_type": "stream",
       "stream": "stdout",
       "text": [
        "\r",
        "1.276.O.step1.contig1.genomecoverage.txt      100%  809KB 269.7KB/s   00:03    \r\n",
        "\r",
        "1.278.O.step1.contig1.genomecoverage.txt        0%    0     0.0KB/s   --:-- ETA"
       ]
      },
      {
       "output_type": "stream",
       "stream": "stdout",
       "text": [
        "\r",
        "1.278.O.step1.contig1.genomecoverage.txt       17%  160KB 160.0KB/s   00:04 ETA"
       ]
      },
      {
       "output_type": "stream",
       "stream": "stdout",
       "text": [
        "\r",
        "1.278.O.step1.contig1.genomecoverage.txt       30%  272KB 155.2KB/s   00:04 ETA"
       ]
      },
      {
       "output_type": "stream",
       "stream": "stdout",
       "text": [
        "\r",
        "1.278.O.step1.contig1.genomecoverage.txt       47%  432KB 155.7KB/s   00:03 ETA"
       ]
      },
      {
       "output_type": "stream",
       "stream": "stdout",
       "text": [
        "\r",
        "1.278.O.step1.contig1.genomecoverage.txt       54%  496KB 146.5KB/s   00:02 ETA"
       ]
      },
      {
       "output_type": "stream",
       "stream": "stdout",
       "text": [
        "\r",
        "1.278.O.step1.contig1.genomecoverage.txt       72%  656KB 147.9KB/s   00:01 ETA"
       ]
      },
      {
       "output_type": "stream",
       "stream": "stdout",
       "text": [
        "\r",
        "1.278.O.step1.contig1.genomecoverage.txt       90%  816KB 149.1KB/s   00:00 ETA"
       ]
      },
      {
       "output_type": "stream",
       "stream": "stdout",
       "text": [
        "\r",
        "1.278.O.step1.contig1.genomecoverage.txt      100%  904KB 150.6KB/s   00:06    \r\n",
        "\r",
        "1.284.A.step1.contig1.genomecoverage.txt        0%    0     0.0KB/s   --:-- ETA"
       ]
      },
      {
       "output_type": "stream",
       "stream": "stdout",
       "text": [
        "\r",
        "1.284.A.step1.contig1.genomecoverage.txt       24%  208KB 208.0KB/s   00:03 ETA"
       ]
      },
      {
       "output_type": "stream",
       "stream": "stdout",
       "text": [
        "\r",
        "1.284.A.step1.contig1.genomecoverage.txt       51%  432KB 209.6KB/s   00:01 ETA"
       ]
      },
      {
       "output_type": "stream",
       "stream": "stdout",
       "text": [
        "\r",
        "1.284.A.step1.contig1.genomecoverage.txt       74%  624KB 207.8KB/s   00:01 ETA"
       ]
      },
      {
       "output_type": "stream",
       "stream": "stdout",
       "text": [
        "\r",
        "1.284.A.step1.contig1.genomecoverage.txt       97%  816KB 206.3KB/s   00:00 ETA"
       ]
      },
      {
       "output_type": "stream",
       "stream": "stdout",
       "text": [
        "\r",
        "1.284.A.step1.contig1.genomecoverage.txt      100%  838KB 209.6KB/s   00:04    \r\n"
       ]
      },
      {
       "output_type": "stream",
       "stream": "stdout",
       "text": [
        "\r",
        "1.286.O.step1.contig1.genomecoverage.txt        0%    0     0.0KB/s   --:-- ETA"
       ]
      },
      {
       "output_type": "stream",
       "stream": "stdout",
       "text": [
        "\r",
        "1.286.O.step1.contig1.genomecoverage.txt       19%  176KB 176.0KB/s   00:04 ETA"
       ]
      },
      {
       "output_type": "stream",
       "stream": "stdout",
       "text": [
        "\r",
        "1.286.O.step1.contig1.genomecoverage.txt       37%  336KB 174.4KB/s   00:03 ETA"
       ]
      },
      {
       "output_type": "stream",
       "stream": "stdout",
       "text": [
        "\r",
        "1.286.O.step1.contig1.genomecoverage.txt       51%  464KB 169.8KB/s   00:02 ETA"
       ]
      },
      {
       "output_type": "stream",
       "stream": "stdout",
       "text": [
        "\r",
        "1.286.O.step1.contig1.genomecoverage.txt       65%  592KB 165.6KB/s   00:01 ETA"
       ]
      },
      {
       "output_type": "stream",
       "stream": "stdout",
       "text": [
        "\r",
        "1.286.O.step1.contig1.genomecoverage.txt       87%  784KB 168.2KB/s   00:00 ETA"
       ]
      },
      {
       "output_type": "stream",
       "stream": "stdout",
       "text": [
        "\r",
        "1.286.O.step1.contig1.genomecoverage.txt      100%  901KB 180.2KB/s   00:05    \r\n"
       ]
      },
      {
       "output_type": "stream",
       "stream": "stdout",
       "text": [
        "\r",
        "1.287.O.step1.contig1.genomecoverage.txt        0%    0     0.0KB/s   --:-- ETA"
       ]
      },
      {
       "output_type": "stream",
       "stream": "stdout",
       "text": [
        "\r",
        "1.287.O.step1.contig1.genomecoverage.txt       19%  160KB 160.0KB/s   00:04 ETA"
       ]
      },
      {
       "output_type": "stream",
       "stream": "stdout",
       "text": [
        "\r",
        "1.287.O.step1.contig1.genomecoverage.txt       36%  304KB 158.4KB/s   00:03 ETA"
       ]
      },
      {
       "output_type": "stream",
       "stream": "stdout",
       "text": [
        "\r",
        "1.287.O.step1.contig1.genomecoverage.txt       55%  464KB 158.6KB/s   00:02 ETA"
       ]
      },
      {
       "output_type": "stream",
       "stream": "stdout",
       "text": [
        "\r",
        "1.287.O.step1.contig1.genomecoverage.txt       82%  688KB 165.1KB/s   00:00 ETA"
       ]
      },
      {
       "output_type": "stream",
       "stream": "stdout",
       "text": [
        "\r",
        "1.287.O.step1.contig1.genomecoverage.txt      100%  837KB 167.3KB/s   00:05    \r\n"
       ]
      },
      {
       "output_type": "stream",
       "stream": "stdout",
       "text": [
        "\r",
        "1.289.A.step1.contig1.genomecoverage.txt        0%    0     0.0KB/s   --:-- ETA"
       ]
      },
      {
       "output_type": "stream",
       "stream": "stdout",
       "text": [
        "\r",
        "1.289.A.step1.contig1.genomecoverage.txt       18%  160KB 160.0KB/s   00:04 ETA"
       ]
      },
      {
       "output_type": "stream",
       "stream": "stdout",
       "text": [
        "\r",
        "1.289.A.step1.contig1.genomecoverage.txt       43%  368KB 164.8KB/s   00:02 ETA"
       ]
      },
      {
       "output_type": "stream",
       "stream": "stdout",
       "text": [
        "\r",
        "1.289.A.step1.contig1.genomecoverage.txt       73%  624KB 173.9KB/s   00:01 ETA"
       ]
      },
      {
       "output_type": "stream",
       "stream": "stdout",
       "text": [
        "\r",
        "1.289.A.step1.contig1.genomecoverage.txt       92%  784KB 172.5KB/s   00:00 ETA"
       ]
      },
      {
       "output_type": "stream",
       "stream": "stdout",
       "text": [
        "\r",
        "1.289.A.step1.contig1.genomecoverage.txt      100%  850KB 170.0KB/s   00:05    \r\n"
       ]
      },
      {
       "output_type": "stream",
       "stream": "stdout",
       "text": [
        "\r",
        "1.291.O.step1.contig1.genomecoverage.txt        0%    0     0.0KB/s   --:-- ETA"
       ]
      },
      {
       "output_type": "stream",
       "stream": "stdout",
       "text": [
        "\r",
        "1.291.O.step1.contig1.genomecoverage.txt       25%  208KB 208.0KB/s   00:02 ETA"
       ]
      },
      {
       "output_type": "stream",
       "stream": "stdout",
       "text": [
        "\r",
        "1.291.O.step1.contig1.genomecoverage.txt       53%  432KB 209.6KB/s   00:01 ETA"
       ]
      },
      {
       "output_type": "stream",
       "stream": "stdout",
       "text": [
        "\r",
        "1.291.O.step1.contig1.genomecoverage.txt       73%  592KB 204.6KB/s   00:01 ETA"
       ]
      },
      {
       "output_type": "stream",
       "stream": "stdout",
       "text": [
        "\r",
        "1.291.O.step1.contig1.genomecoverage.txt       89%  720KB 197.0KB/s   00:00 ETA"
       ]
      },
      {
       "output_type": "stream",
       "stream": "stdout",
       "text": [
        "\r",
        "1.291.O.step1.contig1.genomecoverage.txt      100%  800KB 200.1KB/s   00:04    \r\n"
       ]
      },
      {
       "output_type": "stream",
       "stream": "stdout",
       "text": [
        "\r",
        "2.095.A.step1.contig1.genomecoverage.txt        0%    0     0.0KB/s   --:-- ETA"
       ]
      },
      {
       "output_type": "stream",
       "stream": "stdout",
       "text": [
        "\r",
        "2.095.A.step1.contig1.genomecoverage.txt       21%  176KB 176.0KB/s   00:03 ETA"
       ]
      },
      {
       "output_type": "stream",
       "stream": "stdout",
       "text": [
        "\r",
        "2.095.A.step1.contig1.genomecoverage.txt       37%  304KB 171.2KB/s   00:03 ETA"
       ]
      },
      {
       "output_type": "stream",
       "stream": "stdout",
       "text": [
        "\r",
        "2.095.A.step1.contig1.genomecoverage.txt       48%  400KB 163.7KB/s   00:02 ETA"
       ]
      },
      {
       "output_type": "stream",
       "stream": "stdout",
       "text": [
        "\r",
        "2.095.A.step1.contig1.genomecoverage.txt       76%  624KB 169.7KB/s   00:01 ETA"
       ]
      },
      {
       "output_type": "stream",
       "stream": "stdout",
       "text": [
        "\r",
        "2.095.A.step1.contig1.genomecoverage.txt       91%  752KB 165.5KB/s   00:00 ETA"
       ]
      },
      {
       "output_type": "stream",
       "stream": "stdout",
       "text": [
        "\r",
        "2.095.A.step1.contig1.genomecoverage.txt      100%  818KB 163.5KB/s   00:05    \r\n",
        "\r",
        "2.095.B.step1.contig1.genomecoverage.txt        0%    0     0.0KB/s   --:-- ETA"
       ]
      },
      {
       "output_type": "stream",
       "stream": "stdout",
       "text": [
        "\r",
        "2.095.B.step1.contig1.genomecoverage.txt       17%  144KB 144.0KB/s   00:04 ETA"
       ]
      },
      {
       "output_type": "stream",
       "stream": "stdout",
       "text": [
        "\r",
        "2.095.B.step1.contig1.genomecoverage.txt       33%  272KB 142.4KB/s   00:03 ETA"
       ]
      },
      {
       "output_type": "stream",
       "stream": "stdout",
       "text": [
        "\r",
        "2.095.B.step1.contig1.genomecoverage.txt       52%  432KB 144.2KB/s   00:02 ETA"
       ]
      },
      {
       "output_type": "stream",
       "stream": "stdout",
       "text": [
        "\r",
        "2.095.B.step1.contig1.genomecoverage.txt       72%  592KB 145.7KB/s   00:01 ETA"
       ]
      },
      {
       "output_type": "stream",
       "stream": "stdout",
       "text": [
        "\r",
        "2.095.B.step1.contig1.genomecoverage.txt       88%  720KB 144.0KB/s   00:00 ETA"
       ]
      },
      {
       "output_type": "stream",
       "stream": "stdout",
       "text": [
        "\r",
        "2.095.B.step1.contig1.genomecoverage.txt      100%  818KB 136.3KB/s   00:06    \r\n"
       ]
      },
      {
       "output_type": "stream",
       "stream": "stdout",
       "text": [
        "\r",
        "1.003.O.step1.contig1.fasta                     0%    0     0.0KB/s   --:-- ETA"
       ]
      },
      {
       "output_type": "stream",
       "stream": "stdout",
       "text": [
        "\r",
        "1.003.O.step1.contig1.fasta                   100%   42KB  41.6KB/s   00:01    \r\n"
       ]
      },
      {
       "output_type": "stream",
       "stream": "stdout",
       "text": [
        "\r",
        "1.007.O.step1.contig1.fasta                     0%    0     0.0KB/s   --:-- ETA"
       ]
      },
      {
       "output_type": "stream",
       "stream": "stdout",
       "text": [
        "\r",
        "1.007.O.step1.contig1.fasta                   100%   49KB  48.9KB/s   00:00    \r\n",
        "\r",
        "1.016.O.step1.contig1.fasta                     0%    0     0.0KB/s   --:-- ETA"
       ]
      },
      {
       "output_type": "stream",
       "stream": "stdout",
       "text": [
        "\r",
        "1.016.O.step1.contig1.fasta                   100%   48KB  47.8KB/s   00:00    \r\n"
       ]
      },
      {
       "output_type": "stream",
       "stream": "stdout",
       "text": [
        "\r",
        "1.029.O.step1.contig1.fasta                     0%    0     0.0KB/s   --:-- ETA\r",
        "1.029.O.step1.contig1.fasta                   100%   46KB  46.2KB/s   00:00    \r\n"
       ]
      },
      {
       "output_type": "stream",
       "stream": "stdout",
       "text": [
        "\r",
        "1.036.O.step1.contig1.fasta                     0%    0     0.0KB/s   --:-- ETA\r",
        "1.036.O.step1.contig1.fasta                   100%   40KB  39.9KB/s   00:00    \r\n"
       ]
      },
      {
       "output_type": "stream",
       "stream": "stdout",
       "text": [
        "\r",
        "1.038.O.step1.contig1.fasta                     0%    0     0.0KB/s   --:-- ETA\r",
        "1.038.O.step1.contig1.fasta                   100%   49KB  49.2KB/s   00:00    \r\n"
       ]
      },
      {
       "output_type": "stream",
       "stream": "stdout",
       "text": [
        "\r",
        "1.039.O.step1.contig1.fasta                     0%    0     0.0KB/s   --:-- ETA\r",
        "1.039.O.step1.contig1.fasta                   100%   41KB  40.7KB/s   00:00    \r\n"
       ]
      },
      {
       "output_type": "stream",
       "stream": "stdout",
       "text": [
        "\r",
        "1.042.O.step1.contig1.fasta                     0%    0     0.0KB/s   --:-- ETA"
       ]
      },
      {
       "output_type": "stream",
       "stream": "stdout",
       "text": [
        "\r",
        "1.042.O.step1.contig1.fasta                   100%   49KB  49.4KB/s   00:00    \r\n",
        "\r",
        "1.047.O.step1.contig1.fasta                     0%    0     0.0KB/s   --:-- ETA"
       ]
      },
      {
       "output_type": "stream",
       "stream": "stdout",
       "text": [
        "\r",
        "1.047.O.step1.contig1.fasta                   100%   46KB  45.8KB/s   00:00    \r\n",
        "\r",
        "1.052.A.step1.contig1.fasta                     0%    0     0.0KB/s   --:-- ETA"
       ]
      },
      {
       "output_type": "stream",
       "stream": "stdout",
       "text": [
        "\r",
        "1.052.A.step1.contig1.fasta                   100%   43KB  42.6KB/s   00:00    \r\n",
        "\r",
        "1.054.O.step1.contig1.fasta                     0%    0     0.0KB/s   --:-- ETA"
       ]
      },
      {
       "output_type": "stream",
       "stream": "stdout",
       "text": [
        "\r",
        "1.054.O.step1.contig1.fasta                   100%   41KB  41.5KB/s   00:00    \r\n",
        "\r",
        "1.060.A.step1.contig1.fasta                     0%    0     0.0KB/s   --:-- ETA"
       ]
      },
      {
       "output_type": "stream",
       "stream": "stdout",
       "text": [
        "\r",
        "1.060.A.step1.contig1.fasta                   100%   41KB  40.8KB/s   00:00    \r\n",
        "\r",
        "1.061.O.step1.contig1.fasta                     0%    0     0.0KB/s   --:-- ETA"
       ]
      },
      {
       "output_type": "stream",
       "stream": "stdout",
       "text": [
        "\r",
        "1.061.O.step1.contig1.fasta                   100%   41KB  41.4KB/s   00:00    \r\n",
        "\r",
        "1.067.O.step1.contig1.fasta                     0%    0     0.0KB/s   --:-- ETA"
       ]
      },
      {
       "output_type": "stream",
       "stream": "stdout",
       "text": [
        "\r",
        "1.067.O.step1.contig1.fasta                   100%   41KB  40.7KB/s   00:00    \r\n",
        "\r",
        "1.071.A.step1.contig1.fasta                     0%    0     0.0KB/s   --:-- ETA"
       ]
      },
      {
       "output_type": "stream",
       "stream": "stdout",
       "text": [
        "\r",
        "1.071.A.step1.contig1.fasta                   100%   48KB  47.8KB/s   00:00    \r\n",
        "\r",
        "1.079.O.step1.contig1.fasta                     0%    0     0.0KB/s   --:-- ETA"
       ]
      },
      {
       "output_type": "stream",
       "stream": "stdout",
       "text": [
        "\r",
        "1.079.O.step1.contig1.fasta                   100%   42KB  42.1KB/s   00:00    \r\n",
        "\r",
        "1.090.B.step1.contig1.fasta                     0%    0     0.0KB/s   --:-- ETA"
       ]
      },
      {
       "output_type": "stream",
       "stream": "stdout",
       "text": [
        "\r",
        "1.090.B.step1.contig1.fasta                   100%   42KB  41.6KB/s   00:00    \r\n",
        "\r",
        "1.091.O.step1.contig1.fasta                     0%    0     0.0KB/s   --:-- ETA"
       ]
      },
      {
       "output_type": "stream",
       "stream": "stdout",
       "text": [
        "\r",
        "1.091.O.step1.contig1.fasta                   100%   43KB  42.8KB/s   00:01    \r\n",
        "\r",
        "1.105.O.step1.contig1.fasta                     0%    0     0.0KB/s   --:-- ETA"
       ]
      },
      {
       "output_type": "stream",
       "stream": "stdout",
       "text": [
        "\r",
        "1.105.O.step1.contig1.fasta                   100%   49KB  48.8KB/s   00:00    \r\n",
        "\r",
        "1.106.O.step1.contig1.fasta                     0%    0     0.0KB/s   --:-- ETA"
       ]
      },
      {
       "output_type": "stream",
       "stream": "stdout",
       "text": [
        "\r",
        "1.106.O.step1.contig1.fasta                   100%   47KB  46.7KB/s   00:00    \r\n",
        "\r",
        "1.112.O.step1.contig1.fasta                     0%    0     0.0KB/s   --:-- ETA"
       ]
      },
      {
       "output_type": "stream",
       "stream": "stdout",
       "text": [
        "\r",
        "1.112.O.step1.contig1.fasta                   100%   48KB  47.8KB/s   00:00    \r\n",
        "\r",
        "1.113.A.step1.contig1.fasta                     0%    0     0.0KB/s   --:-- ETA"
       ]
      },
      {
       "output_type": "stream",
       "stream": "stdout",
       "text": [
        "\r",
        "1.113.A.step1.contig1.fasta                   100%   44KB  43.8KB/s   00:00    \r\n",
        "\r",
        "1.119.O.step1.contig1.fasta                     0%    0     0.0KB/s   --:-- ETA"
       ]
      },
      {
       "output_type": "stream",
       "stream": "stdout",
       "text": [
        "\r",
        "1.119.O.step1.contig1.fasta                   100%   44KB  44.2KB/s   00:00    \r\n"
       ]
      },
      {
       "output_type": "stream",
       "stream": "stdout",
       "text": [
        "\r",
        "1.123.O.step1.contig1.fasta                     0%    0     0.0KB/s   --:-- ETA\r",
        "1.123.O.step1.contig1.fasta                   100%   46KB  45.8KB/s   00:00    \r\n"
       ]
      },
      {
       "output_type": "stream",
       "stream": "stdout",
       "text": [
        "\r",
        "1.127.O.step1.contig1.fasta                     0%    0     0.0KB/s   --:-- ETA\r",
        "1.127.O.step1.contig1.fasta                   100%   45KB  44.6KB/s   00:00    \r\n"
       ]
      },
      {
       "output_type": "stream",
       "stream": "stdout",
       "text": [
        "\r",
        "1.135.O.step1.contig1.fasta                     0%    0     0.0KB/s   --:-- ETA\r",
        "1.135.O.step1.contig1.fasta                   100%   42KB  41.6KB/s   00:00    \r\n"
       ]
      },
      {
       "output_type": "stream",
       "stream": "stdout",
       "text": [
        "\r",
        "1.137.O.step1.contig1.fasta                     0%    0     0.0KB/s   --:-- ETA\r",
        "1.137.O.step1.contig1.fasta                   100%   38KB  37.7KB/s   00:00    \r\n"
       ]
      },
      {
       "output_type": "stream",
       "stream": "stdout",
       "text": [
        "\r",
        "1.143.O.step1.contig1.fasta                     0%    0     0.0KB/s   --:-- ETA\r",
        "1.143.O.step1.contig1.fasta                   100%   44KB  44.2KB/s   00:00    \r\n"
       ]
      },
      {
       "output_type": "stream",
       "stream": "stdout",
       "text": [
        "\r",
        "1.144.O.step1.contig1.fasta                     0%    0     0.0KB/s   --:-- ETA\r",
        "1.144.O.step1.contig1.fasta                   100%   44KB  44.1KB/s   00:00    \r\n"
       ]
      },
      {
       "output_type": "stream",
       "stream": "stdout",
       "text": [
        "\r",
        "1.149.O.step1.contig1.fasta                     0%    0     0.0KB/s   --:-- ETA\r",
        "1.149.O.step1.contig1.fasta                   100%   48KB  48.1KB/s   00:00    \r\n"
       ]
      },
      {
       "output_type": "stream",
       "stream": "stdout",
       "text": [
        "\r",
        "1.151.O.step1.contig1.fasta                     0%    0     0.0KB/s   --:-- ETA\r",
        "1.151.O.step1.contig1.fasta                   100%   44KB  44.0KB/s   00:00    \r\n"
       ]
      },
      {
       "output_type": "stream",
       "stream": "stdout",
       "text": [
        "\r",
        "1.154.O.step1.contig1.fasta                     0%    0     0.0KB/s   --:-- ETA\r",
        "1.154.O.step1.contig1.fasta                   100%   37KB  36.9KB/s   00:00    \r\n",
        "\r",
        "1.173.O.step1.contig1.fasta                     0%    0     0.0KB/s   --:-- ETA"
       ]
      },
      {
       "output_type": "stream",
       "stream": "stdout",
       "text": [
        "\r",
        "1.173.O.step1.contig1.fasta                   100%   48KB  47.7KB/s   00:00    \r\n"
       ]
      },
      {
       "output_type": "stream",
       "stream": "stdout",
       "text": [
        "\r",
        "1.177.O.step1.contig1.fasta                     0%    0     0.0KB/s   --:-- ETA\r",
        "1.177.O.step1.contig1.fasta                   100%   45KB  45.1KB/s   00:00    \r\n"
       ]
      },
      {
       "output_type": "stream",
       "stream": "stdout",
       "text": [
        "\r",
        "1.178.O.step1.contig1.fasta                     0%    0     0.0KB/s   --:-- ETA\r",
        "1.178.O.step1.contig1.fasta                   100%   40KB  39.7KB/s   00:00    \r\n",
        "\r",
        "1.186.O.step1.contig1.fasta                     0%    0     0.0KB/s   --:-- ETA"
       ]
      },
      {
       "output_type": "stream",
       "stream": "stdout",
       "text": [
        "\r",
        "1.186.O.step1.contig1.fasta                   100%   48KB  48.3KB/s   00:00    \r\n"
       ]
      },
      {
       "output_type": "stream",
       "stream": "stdout",
       "text": [
        "\r",
        "1.197.A.step1.contig1.fasta                     0%    0     0.0KB/s   --:-- ETA\r",
        "1.197.A.step1.contig1.fasta                   100%   44KB  44.3KB/s   00:00    \r\n",
        "\r",
        "1.198.A.step1.contig1.fasta                     0%    0     0.0KB/s   --:-- ETA"
       ]
      },
      {
       "output_type": "stream",
       "stream": "stdout",
       "text": [
        "\r",
        "1.198.A.step1.contig1.fasta                   100%   44KB  44.2KB/s   00:00    \r\n"
       ]
      },
      {
       "output_type": "stream",
       "stream": "stdout",
       "text": [
        "\r",
        "1.198.B.step1.contig1.fasta                     0%    0     0.0KB/s   --:-- ETA\r",
        "1.198.B.step1.contig1.fasta                   100%   44KB  44.0KB/s   00:00    \r\n"
       ]
      },
      {
       "output_type": "stream",
       "stream": "stdout",
       "text": [
        "\r",
        "1.199.A.step1.contig1.fasta                     0%    0     0.0KB/s   --:-- ETA\r",
        "1.199.A.step1.contig1.fasta                   100%   48KB  48.0KB/s   00:00    \r\n"
       ]
      },
      {
       "output_type": "stream",
       "stream": "stdout",
       "text": [
        "\r",
        "1.199.B.step1.contig1.fasta                     0%    0     0.0KB/s   --:-- ETA\r",
        "1.199.B.step1.contig1.fasta                   100%   48KB  48.0KB/s   00:00    \r\n"
       ]
      },
      {
       "output_type": "stream",
       "stream": "stdout",
       "text": [
        "\r",
        "1.213.O.step1.contig1.fasta                     0%    0     0.0KB/s   --:-- ETA\r",
        "1.213.O.step1.contig1.fasta                   100%   42KB  42.2KB/s   00:00    \r\n"
       ]
      },
      {
       "output_type": "stream",
       "stream": "stdout",
       "text": [
        "\r",
        "1.216.O.step1.contig1.fasta                     0%    0     0.0KB/s   --:-- ETA\r",
        "1.216.O.step1.contig1.fasta                   100%   41KB  41.1KB/s   00:00    \r\n"
       ]
      },
      {
       "output_type": "stream",
       "stream": "stdout",
       "text": [
        "\r",
        "1.231.O.step1.contig1.fasta                     0%    0     0.0KB/s   --:-- ETA\r",
        "1.231.O.step1.contig1.fasta                   100%   44KB  44.2KB/s   00:00    \r\n"
       ]
      },
      {
       "output_type": "stream",
       "stream": "stdout",
       "text": [
        "\r",
        "1.232.O.step1.contig1.fasta                     0%    0     0.0KB/s   --:-- ETA\r",
        "1.232.O.step1.contig1.fasta                   100%   56KB  56.3KB/s   00:00    \r\n"
       ]
      },
      {
       "output_type": "stream",
       "stream": "stdout",
       "text": [
        "\r",
        "1.236.O.step1.contig1.fasta                     0%    0     0.0KB/s   --:-- ETA\r",
        "1.236.O.step1.contig1.fasta                   100%   42KB  42.4KB/s   00:00    \r\n"
       ]
      },
      {
       "output_type": "stream",
       "stream": "stdout",
       "text": [
        "\r",
        "1.243.O.step1.contig1.fasta                     0%    0     0.0KB/s   --:-- ETA\r",
        "1.243.O.step1.contig1.fasta                   100%   48KB  48.1KB/s   00:00    \r\n"
       ]
      },
      {
       "output_type": "stream",
       "stream": "stdout",
       "text": [
        "\r",
        "1.248.O.step1.contig1.fasta                     0%    0     0.0KB/s   --:-- ETA\r",
        "1.248.O.step1.contig1.fasta                   100%   48KB  48.0KB/s   00:00    \r\n"
       ]
      },
      {
       "output_type": "stream",
       "stream": "stdout",
       "text": [
        "\r",
        "1.256.O.step1.contig1.fasta                     0%    0     0.0KB/s   --:-- ETA\r",
        "1.256.O.step1.contig1.fasta                   100%   48KB  47.9KB/s   00:00    \r\n"
       ]
      },
      {
       "output_type": "stream",
       "stream": "stdout",
       "text": [
        "\r",
        "1.263.A.step1.contig1.fasta                     0%    0     0.0KB/s   --:-- ETA\r",
        "1.263.A.step1.contig1.fasta                   100%   49KB  49.3KB/s   00:00    \r\n"
       ]
      },
      {
       "output_type": "stream",
       "stream": "stdout",
       "text": [
        "\r",
        "1.263.B.step1.contig1.fasta                     0%    0     0.0KB/s   --:-- ETA\r",
        "1.263.B.step1.contig1.fasta                   100%   49KB  49.3KB/s   00:00    \r\n",
        "\r",
        "1.265.O.step1.contig1.fasta                     0%    0     0.0KB/s   --:-- ETA"
       ]
      },
      {
       "output_type": "stream",
       "stream": "stdout",
       "text": [
        "\r",
        "1.265.O.step1.contig1.fasta                   100%   43KB  43.3KB/s   00:00    \r\n",
        "\r",
        "1.273.O.step1.contig1.fasta                     0%    0     0.0KB/s   --:-- ETA"
       ]
      },
      {
       "output_type": "stream",
       "stream": "stdout",
       "text": [
        "\r",
        "1.273.O.step1.contig1.fasta                   100%   48KB  47.8KB/s   00:00    \r\n",
        "\r",
        "1.276.O.step1.contig1.fasta                     0%    0     0.0KB/s   --:-- ETA"
       ]
      },
      {
       "output_type": "stream",
       "stream": "stdout",
       "text": [
        "\r",
        "1.276.O.step1.contig1.fasta                   100%   44KB  44.0KB/s   00:00    \r\n"
       ]
      },
      {
       "output_type": "stream",
       "stream": "stdout",
       "text": [
        "\r",
        "1.278.O.step1.contig1.fasta                     0%    0     0.0KB/s   --:-- ETA\r",
        "1.278.O.step1.contig1.fasta                   100%   49KB  48.9KB/s   00:00    \r\n"
       ]
      },
      {
       "output_type": "stream",
       "stream": "stdout",
       "text": [
        "\r",
        "1.284.A.step1.contig1.fasta                     0%    0     0.0KB/s   --:-- ETA\r",
        "1.284.A.step1.contig1.fasta                   100%   45KB  45.3KB/s   00:00    \r\n"
       ]
      },
      {
       "output_type": "stream",
       "stream": "stdout",
       "text": [
        "\r",
        "1.286.O.step1.contig1.fasta                     0%    0     0.0KB/s   --:-- ETA\r",
        "1.286.O.step1.contig1.fasta                   100%   49KB  48.8KB/s   00:01    \r\n"
       ]
      },
      {
       "output_type": "stream",
       "stream": "stdout",
       "text": [
        "\r",
        "1.287.O.step1.contig1.fasta                     0%    0     0.0KB/s   --:-- ETA\r",
        "1.287.O.step1.contig1.fasta                   100%   45KB  45.3KB/s   00:00    \r\n"
       ]
      },
      {
       "output_type": "stream",
       "stream": "stdout",
       "text": [
        "\r",
        "1.289.A.step1.contig1.fasta                     0%    0     0.0KB/s   --:-- ETA\r",
        "1.289.A.step1.contig1.fasta                   100%   44KB  44.2KB/s   00:00    \r\n",
        "\r",
        "1.291.O.step1.contig1.fasta                     0%    0     0.0KB/s   --:-- ETA"
       ]
      },
      {
       "output_type": "stream",
       "stream": "stdout",
       "text": [
        "\r",
        "1.291.O.step1.contig1.fasta                   100%   43KB  43.4KB/s   00:00    \r\n"
       ]
      },
      {
       "output_type": "stream",
       "stream": "stdout",
       "text": [
        "\r",
        "2.095.A.step1.contig1.fasta                     0%    0     0.0KB/s   --:-- ETA\r",
        "2.095.A.step1.contig1.fasta                   100%   44KB  44.3KB/s   00:00    \r\n"
       ]
      },
      {
       "output_type": "stream",
       "stream": "stdout",
       "text": [
        "\r",
        "2.095.B.step1.contig1.fasta                     0%    0     0.0KB/s   --:-- ETA\r",
        "2.095.B.step1.contig1.fasta                   100%   44KB  44.3KB/s   00:00    \r\n"
       ]
      }
     ],
     "prompt_number": 9
    },
    {
     "cell_type": "code",
     "collapsed": false,
     "input": [
      "!scp jbrown@eofe4.mit.edu:/nobackup1/jbrown/nahant_phage_reads/group1/*step1.clc.fasta ./"
     ],
     "language": "python",
     "metadata": {},
     "outputs": [
      {
       "output_type": "stream",
       "stream": "stdout",
       "text": [
        "\r",
        "1.003.O.step1.clc.fasta                         0%    0     0.0KB/s   --:-- ETA"
       ]
      },
      {
       "output_type": "stream",
       "stream": "stdout",
       "text": [
        "\r",
        "1.003.O.step1.clc.fasta                       100%   42KB  41.6KB/s   00:00    \r\n",
        "\r",
        "1.007.O.step1.clc.fasta                         0%    0     0.0KB/s   --:-- ETA"
       ]
      },
      {
       "output_type": "stream",
       "stream": "stdout",
       "text": [
        "\r",
        "1.007.O.step1.clc.fasta                       100%   98KB  98.3KB/s   00:00    \r\n",
        "\r",
        "1.016.O.step1.clc.fasta                         0%    0     0.0KB/s   --:-- ETA"
       ]
      },
      {
       "output_type": "stream",
       "stream": "stdout",
       "text": [
        "\r",
        "1.016.O.step1.clc.fasta                       100%  134KB 134.1KB/s   00:00    \r\n",
        "\r",
        "1.029.O.step1.clc.fasta                         0%    0     0.0KB/s   --:-- ETA"
       ]
      },
      {
       "output_type": "stream",
       "stream": "stdout",
       "text": [
        "\r",
        "1.029.O.step1.clc.fasta                       100%  134KB 133.6KB/s   00:00    \r\n"
       ]
      },
      {
       "output_type": "stream",
       "stream": "stdout",
       "text": [
        "\r",
        "1.036.O.step1.clc.fasta                         0%    0     0.0KB/s   --:-- ETA\r",
        "1.036.O.step1.clc.fasta                       100%   51KB  50.7KB/s   00:00    \r\n"
       ]
      },
      {
       "output_type": "stream",
       "stream": "stdout",
       "text": [
        "\r",
        "1.038.O.step1.clc.fasta                         0%    0     0.0KB/s   --:-- ETA\r",
        "1.038.O.step1.clc.fasta                       100%   49KB  49.2KB/s   00:00    \r\n"
       ]
      },
      {
       "output_type": "stream",
       "stream": "stdout",
       "text": [
        "\r",
        "1.039.O.step1.clc.fasta                         0%    0     0.0KB/s   --:-- ETA\r",
        "1.039.O.step1.clc.fasta                       100%   78KB  77.8KB/s   00:00    \r\n"
       ]
      },
      {
       "output_type": "stream",
       "stream": "stdout",
       "text": [
        "\r",
        "1.042.O.step1.clc.fasta                         0%    0     0.0KB/s   --:-- ETA\r",
        "1.042.O.step1.clc.fasta                       100%   50KB  50.0KB/s   00:00    \r\n"
       ]
      },
      {
       "output_type": "stream",
       "stream": "stdout",
       "text": [
        "\r",
        "1.047.O.step1.clc.fasta                         0%    0     0.0KB/s   --:-- ETA"
       ]
      },
      {
       "output_type": "stream",
       "stream": "stdout",
       "text": [
        "\r",
        "1.047.O.step1.clc.fasta                       100%   99KB  98.8KB/s   00:00    \r\n",
        "\r",
        "1.052.A.step1.clc.fasta                         0%    0     0.0KB/s   --:-- ETA"
       ]
      },
      {
       "output_type": "stream",
       "stream": "stdout",
       "text": [
        "\r",
        "1.052.A.step1.clc.fasta                       100%   89KB  88.9KB/s   00:00    \r\n",
        "\r",
        "1.054.O.step1.clc.fasta                         0%    0     0.0KB/s   --:-- ETA"
       ]
      },
      {
       "output_type": "stream",
       "stream": "stdout",
       "text": [
        "\r",
        "1.054.O.step1.clc.fasta                       100%   41KB  41.5KB/s   00:00    \r\n",
        "\r",
        "1.060.A.step1.clc.fasta                         0%    0     0.0KB/s   --:-- ETA"
       ]
      },
      {
       "output_type": "stream",
       "stream": "stdout",
       "text": [
        "\r",
        "1.060.A.step1.clc.fasta                       100%   41KB  40.8KB/s   00:00    \r\n",
        "\r",
        "1.061.O.step1.clc.fasta                         0%    0     0.0KB/s   --:-- ETA"
       ]
      },
      {
       "output_type": "stream",
       "stream": "stdout",
       "text": [
        "\r",
        "1.061.O.step1.clc.fasta                       100%   43KB  42.9KB/s   00:00    \r\n",
        "\r",
        "1.067.O.step1.clc.fasta                         0%    0     0.0KB/s   --:-- ETA"
       ]
      },
      {
       "output_type": "stream",
       "stream": "stdout",
       "text": [
        "\r",
        "1.067.O.step1.clc.fasta                       100%  115KB 114.6KB/s   00:01    \r\n"
       ]
      },
      {
       "output_type": "stream",
       "stream": "stdout",
       "text": [
        "\r",
        "1.071.A.step1.clc.fasta                         0%    0     0.0KB/s   --:-- ETA\r",
        "1.071.A.step1.clc.fasta                       100%   48KB  47.8KB/s   00:00    \r\n"
       ]
      },
      {
       "output_type": "stream",
       "stream": "stdout",
       "text": [
        "\r",
        "1.079.O.step1.clc.fasta                         0%    0     0.0KB/s   --:-- ETA\r",
        "1.079.O.step1.clc.fasta                       100%   42KB  42.1KB/s   00:00    \r\n"
       ]
      },
      {
       "output_type": "stream",
       "stream": "stdout",
       "text": [
        "\r",
        "1.090.B.step1.clc.fasta                         0%    0     0.0KB/s   --:-- ETA\r",
        "1.090.B.step1.clc.fasta                       100%   42KB  41.6KB/s   00:00    \r\n",
        "\r",
        "1.091.O.step1.clc.fasta                         0%    0     0.0KB/s   --:-- ETA"
       ]
      },
      {
       "output_type": "stream",
       "stream": "stdout",
       "text": [
        "\r",
        "1.091.O.step1.clc.fasta                       100%   43KB  42.8KB/s   00:00    \r\n"
       ]
      },
      {
       "output_type": "stream",
       "stream": "stdout",
       "text": [
        "\r",
        "1.105.O.step1.clc.fasta                         0%    0     0.0KB/s   --:-- ETA\r",
        "1.105.O.step1.clc.fasta                       100%   51KB  50.8KB/s   00:00    \r\n"
       ]
      },
      {
       "output_type": "stream",
       "stream": "stdout",
       "text": [
        "\r",
        "1.106.O.step1.clc.fasta                         0%    0     0.0KB/s   --:-- ETA\r",
        "1.106.O.step1.clc.fasta                       100%   47KB  46.7KB/s   00:00    \r\n"
       ]
      },
      {
       "output_type": "stream",
       "stream": "stdout",
       "text": [
        "\r",
        "1.112.O.step1.clc.fasta                         0%    0     0.0KB/s   --:-- ETA\r",
        "1.112.O.step1.clc.fasta                       100%   48KB  47.8KB/s   00:00    \r\n"
       ]
      },
      {
       "output_type": "stream",
       "stream": "stdout",
       "text": [
        "\r",
        "1.113.A.step1.clc.fasta                         0%    0     0.0KB/s   --:-- ETA\r",
        "1.113.A.step1.clc.fasta                       100%   45KB  44.7KB/s   00:00    \r\n"
       ]
      },
      {
       "output_type": "stream",
       "stream": "stdout",
       "text": [
        "\r",
        "1.119.O.step1.clc.fasta                         0%    0     0.0KB/s   --:-- ETA\r",
        "1.119.O.step1.clc.fasta                       100%   44KB  44.2KB/s   00:00    \r\n"
       ]
      },
      {
       "output_type": "stream",
       "stream": "stdout",
       "text": [
        "\r",
        "1.123.O.step1.clc.fasta                         0%    0     0.0KB/s   --:-- ETA\r",
        "1.123.O.step1.clc.fasta                       100%   46KB  45.8KB/s   00:00    \r\n"
       ]
      },
      {
       "output_type": "stream",
       "stream": "stdout",
       "text": [
        "\r",
        "1.127.O.step1.clc.fasta                         0%    0     0.0KB/s   --:-- ETA\r",
        "1.127.O.step1.clc.fasta                       100%   45KB  44.6KB/s   00:00    \r\n"
       ]
      },
      {
       "output_type": "stream",
       "stream": "stdout",
       "text": [
        "\r",
        "1.135.O.step1.clc.fasta                         0%    0     0.0KB/s   --:-- ETA\r",
        "1.135.O.step1.clc.fasta                       100%   42KB  41.6KB/s   00:00    \r\n"
       ]
      },
      {
       "output_type": "stream",
       "stream": "stdout",
       "text": [
        "\r",
        "1.137.O.step1.clc.fasta                         0%    0     0.0KB/s   --:-- ETA\r",
        "1.137.O.step1.clc.fasta                       100%   46KB  45.7KB/s   00:00    \r\n"
       ]
      },
      {
       "output_type": "stream",
       "stream": "stdout",
       "text": [
        "\r",
        "1.143.O.step1.clc.fasta                         0%    0     0.0KB/s   --:-- ETA\r",
        "1.143.O.step1.clc.fasta                       100%   44KB  44.2KB/s   00:00    \r\n"
       ]
      },
      {
       "output_type": "stream",
       "stream": "stdout",
       "text": [
        "\r",
        "1.144.O.step1.clc.fasta                         0%    0     0.0KB/s   --:-- ETA\r",
        "1.144.O.step1.clc.fasta                       100%   46KB  45.9KB/s   00:00    \r\n"
       ]
      },
      {
       "output_type": "stream",
       "stream": "stdout",
       "text": [
        "\r",
        "1.149.O.step1.clc.fasta                         0%    0     0.0KB/s   --:-- ETA"
       ]
      },
      {
       "output_type": "stream",
       "stream": "stdout",
       "text": [
        "\r",
        "1.149.O.step1.clc.fasta                       100%  124KB 123.6KB/s   00:00    \r\n",
        "\r",
        "1.151.O.step1.clc.fasta                         0%    0     0.0KB/s   --:-- ETA"
       ]
      },
      {
       "output_type": "stream",
       "stream": "stdout",
       "text": [
        "\r",
        "1.151.O.step1.clc.fasta                       100%   44KB  44.0KB/s   00:00    \r\n",
        "\r",
        "1.154.O.step1.clc.fasta                         0%    0     0.0KB/s   --:-- ETA"
       ]
      },
      {
       "output_type": "stream",
       "stream": "stdout",
       "text": [
        "\r",
        "1.154.O.step1.clc.fasta                       100%   37KB  36.9KB/s   00:01    \r\n",
        "\r",
        "1.173.O.step1.clc.fasta                         0%    0     0.0KB/s   --:-- ETA"
       ]
      },
      {
       "output_type": "stream",
       "stream": "stdout",
       "text": [
        "\r",
        "1.173.O.step1.clc.fasta                       100%   49KB  49.1KB/s   00:00    \r\n",
        "\r",
        "1.177.O.step1.clc.fasta                         0%    0     0.0KB/s   --:-- ETA"
       ]
      },
      {
       "output_type": "stream",
       "stream": "stdout",
       "text": [
        "\r",
        "1.177.O.step1.clc.fasta                       100%   45KB  45.1KB/s   00:00    \r\n",
        "\r",
        "1.178.O.step1.clc.fasta                         0%    0     0.0KB/s   --:-- ETA"
       ]
      },
      {
       "output_type": "stream",
       "stream": "stdout",
       "text": [
        "\r",
        "1.178.O.step1.clc.fasta                       100%  108KB 107.5KB/s   00:00    \r\n",
        "\r",
        "1.186.O.step1.clc.fasta                         0%    0     0.0KB/s   --:-- ETA"
       ]
      },
      {
       "output_type": "stream",
       "stream": "stdout",
       "text": [
        "\r",
        "1.186.O.step1.clc.fasta                       100%   48KB  48.3KB/s   00:00    \r\n",
        "\r",
        "1.197.A.step1.clc.fasta                         0%    0     0.0KB/s   --:-- ETA"
       ]
      },
      {
       "output_type": "stream",
       "stream": "stdout",
       "text": [
        "\r",
        "1.197.A.step1.clc.fasta                       100%   44KB  44.3KB/s   00:00    \r\n",
        "\r",
        "1.198.A.step1.clc.fasta                         0%    0     0.0KB/s   --:-- ETA"
       ]
      },
      {
       "output_type": "stream",
       "stream": "stdout",
       "text": [
        "\r",
        "1.198.A.step1.clc.fasta                       100%   44KB  44.2KB/s   00:00    \r\n",
        "\r",
        "1.198.B.step1.clc.fasta                         0%    0     0.0KB/s   --:-- ETA"
       ]
      },
      {
       "output_type": "stream",
       "stream": "stdout",
       "text": [
        "\r",
        "1.198.B.step1.clc.fasta                       100%   44KB  44.0KB/s   00:00    \r\n",
        "\r",
        "1.199.A.step1.clc.fasta                         0%    0     0.0KB/s   --:-- ETA"
       ]
      },
      {
       "output_type": "stream",
       "stream": "stdout",
       "text": [
        "\r",
        "1.199.A.step1.clc.fasta                       100%   56KB  55.7KB/s   00:00    \r\n",
        "\r",
        "1.199.B.step1.clc.fasta                         0%    0     0.0KB/s   --:-- ETA"
       ]
      },
      {
       "output_type": "stream",
       "stream": "stdout",
       "text": [
        "\r",
        "1.199.B.step1.clc.fasta                       100%   60KB  59.9KB/s   00:00    \r\n",
        "\r",
        "1.213.O.step1.clc.fasta                         0%    0     0.0KB/s   --:-- ETA"
       ]
      },
      {
       "output_type": "stream",
       "stream": "stdout",
       "text": [
        "\r",
        "1.213.O.step1.clc.fasta                       100%   44KB  43.7KB/s   00:00    \r\n"
       ]
      },
      {
       "output_type": "stream",
       "stream": "stdout",
       "text": [
        "\r",
        "1.216.O.step1.clc.fasta                         0%    0     0.0KB/s   --:-- ETA\r",
        "1.216.O.step1.clc.fasta                       100%   41KB  41.1KB/s   00:00    \r\n"
       ]
      },
      {
       "output_type": "stream",
       "stream": "stdout",
       "text": [
        "\r",
        "1.231.O.step1.clc.fasta                         0%    0     0.0KB/s   --:-- ETA\r",
        "1.231.O.step1.clc.fasta                       100%   44KB  44.2KB/s   00:00    \r\n"
       ]
      },
      {
       "output_type": "stream",
       "stream": "stdout",
       "text": [
        "\r",
        "1.232.O.step1.clc.fasta                         0%    0     0.0KB/s   --:-- ETA\r",
        "1.232.O.step1.clc.fasta                       100%   93KB  93.1KB/s   00:00    \r\n"
       ]
      },
      {
       "output_type": "stream",
       "stream": "stdout",
       "text": [
        "\r",
        "1.236.O.step1.clc.fasta                         0%    0     0.0KB/s   --:-- ETA\r",
        "1.236.O.step1.clc.fasta                       100%   43KB  42.9KB/s   00:00    \r\n"
       ]
      },
      {
       "output_type": "stream",
       "stream": "stdout",
       "text": [
        "\r",
        "1.243.O.step1.clc.fasta                         0%    0     0.0KB/s   --:-- ETA\r",
        "1.243.O.step1.clc.fasta                       100%   48KB  48.1KB/s   00:00    \r\n"
       ]
      },
      {
       "output_type": "stream",
       "stream": "stdout",
       "text": [
        "\r",
        "1.248.O.step1.clc.fasta                         0%    0     0.0KB/s   --:-- ETA\r",
        "1.248.O.step1.clc.fasta                       100%   49KB  48.7KB/s   00:00    \r\n"
       ]
      },
      {
       "output_type": "stream",
       "stream": "stdout",
       "text": [
        "\r",
        "1.256.O.step1.clc.fasta                         0%    0     0.0KB/s   --:-- ETA\r",
        "1.256.O.step1.clc.fasta                       100%   49KB  49.3KB/s   00:00    \r\n"
       ]
      },
      {
       "output_type": "stream",
       "stream": "stdout",
       "text": [
        "\r",
        "1.263.A.step1.clc.fasta                         0%    0     0.0KB/s   --:-- ETA\r",
        "1.263.A.step1.clc.fasta                       100%   49KB  49.3KB/s   00:00    \r\n",
        "\r",
        "1.263.B.step1.clc.fasta                         0%    0     0.0KB/s   --:-- ETA"
       ]
      },
      {
       "output_type": "stream",
       "stream": "stdout",
       "text": [
        "\r",
        "1.263.B.step1.clc.fasta                       100%   49KB  49.3KB/s   00:00    \r\n"
       ]
      },
      {
       "output_type": "stream",
       "stream": "stdout",
       "text": [
        "\r",
        "1.265.O.step1.clc.fasta                         0%    0     0.0KB/s   --:-- ETA\r",
        "1.265.O.step1.clc.fasta                       100%   43KB  43.3KB/s   00:00    \r\n",
        "\r",
        "1.273.O.step1.clc.fasta                         0%    0     0.0KB/s   --:-- ETA"
       ]
      },
      {
       "output_type": "stream",
       "stream": "stdout",
       "text": [
        "\r",
        "1.273.O.step1.clc.fasta                       100%   48KB  47.8KB/s   00:00    \r\n"
       ]
      },
      {
       "output_type": "stream",
       "stream": "stdout",
       "text": [
        "\r",
        "1.276.O.step1.clc.fasta                         0%    0     0.0KB/s   --:-- ETA\r",
        "1.276.O.step1.clc.fasta                       100%   44KB  44.0KB/s   00:00    \r\n"
       ]
      },
      {
       "output_type": "stream",
       "stream": "stdout",
       "text": [
        "\r",
        "1.278.O.step1.clc.fasta                         0%    0     0.0KB/s   --:-- ETA\r",
        "1.278.O.step1.clc.fasta                       100%   49KB  48.9KB/s   00:00    \r\n",
        "\r",
        "1.284.A.step1.clc.fasta                         0%    0     0.0KB/s   --:-- ETA"
       ]
      },
      {
       "output_type": "stream",
       "stream": "stdout",
       "text": [
        "\r",
        "1.284.A.step1.clc.fasta                       100%   46KB  46.0KB/s   00:00    \r\n"
       ]
      },
      {
       "output_type": "stream",
       "stream": "stdout",
       "text": [
        "\r",
        "1.286.O.step1.clc.fasta                         0%    0     0.0KB/s   --:-- ETA\r",
        "1.286.O.step1.clc.fasta                       100%   49KB  48.8KB/s   00:00    \r\n"
       ]
      },
      {
       "output_type": "stream",
       "stream": "stdout",
       "text": [
        "\r",
        "1.287.O.step1.clc.fasta                         0%    0     0.0KB/s   --:-- ETA\r",
        "1.287.O.step1.clc.fasta                       100%   45KB  45.3KB/s   00:00    \r\n"
       ]
      },
      {
       "output_type": "stream",
       "stream": "stdout",
       "text": [
        "\r",
        "1.289.A.step1.clc.fasta                         0%    0     0.0KB/s   --:-- ETA\r",
        "1.289.A.step1.clc.fasta                       100%   46KB  45.8KB/s   00:00    \r\n"
       ]
      },
      {
       "output_type": "stream",
       "stream": "stdout",
       "text": [
        "\r",
        "1.291.O.step1.clc.fasta                         0%    0     0.0KB/s   --:-- ETA\r",
        "1.291.O.step1.clc.fasta                       100%   43KB  43.4KB/s   00:00    \r\n"
       ]
      },
      {
       "output_type": "stream",
       "stream": "stdout",
       "text": [
        "\r",
        "2.095.A.step1.clc.fasta                         0%    0     0.0KB/s   --:-- ETA\r",
        "2.095.A.step1.clc.fasta                       100%   44KB  44.3KB/s   00:00    \r\n"
       ]
      },
      {
       "output_type": "stream",
       "stream": "stdout",
       "text": [
        "\r",
        "2.095.B.step1.clc.fasta                         0%    0     0.0KB/s   --:-- ETA\r",
        "2.095.B.step1.clc.fasta                       100%   47KB  46.7KB/s   00:00    \r\n"
       ]
      }
     ],
     "prompt_number": 10
    },
    {
     "cell_type": "markdown",
     "metadata": {},
     "source": [
      "###Look at contig information:"
     ]
    },
    {
     "cell_type": "code",
     "collapsed": false,
     "input": [
      "%%R -i group1\n",
      "\n",
      "for (item in group1){\n",
      "    filename<-paste(item,\"step1.contig1.genomecoverage.txt\",sep=\"\")\n",
      "    coverage<-read.table(filename, sep=\"\\t\")\n",
      "    pdf(paste(item,\"step1.contig1.coverage.plot.pdf\", sep=\"\"))\n",
      "    with(coverage, plot(V2, V3, type=\"n\",xlab=\"position\",ylab=\"coverage\", main=item))\n",
      "    with(coverage, lines(V2,V3))\n",
      "    dev.off()\n",
      "}"
     ],
     "language": "python",
     "metadata": {},
     "outputs": [],
     "prompt_number": 43
    },
    {
     "cell_type": "code",
     "collapsed": false,
     "input": [
      "from pyfaidx import Fasta\n",
      "\n",
      "contiginfo=\"virname\\tcontig\\tcontig_len\\tvir_contig\\n\"\n",
      "for phage in group1:   #set up the name of the virus\n",
      "    fasta1=phage+\"step1.clc.fasta\"\n",
      "    f=Fasta(fasta1)\n",
      "    for seq in f.keys():\n",
      "        seqlen=len(str(f[seq]))\n",
      "        contigname=seq\n",
      "        contiginfo+=(phage+\"\\t\"+contigname+\"\\t\"+str(seqlen)+\"\\t\"+phage+\":\"+contigname+\"\\n\")"
     ],
     "language": "python",
     "metadata": {},
     "outputs": [],
     "prompt_number": 14
    },
    {
     "cell_type": "code",
     "collapsed": false,
     "input": [
      "%%R -i contiginfo\n",
      "contig<-textConnection(contiginfo,open=\"r\",encoding=\"UTF-8\")\n",
      "contigtable<-read.table(contig, sep=\"\\t\", header=TRUE)\n",
      "#?textConnection\n",
      "str(contigtable)\n",
      "with(contigtable, hist(log(contig_len,10), breaks=50))\n",
      "with(contigtable, summary(contig_len))"
     ],
     "language": "python",
     "metadata": {},
     "outputs": [
      {
       "metadata": {},
       "output_type": "display_data",
       "text": [
        "'data.frame':\t554 obs. of  4 variables:\n",
        " $ virname   : Factor w/ 62 levels \"1.003.O.\",\"1.007.O.\",..: 55 59 59 59 41 41 41 41 41 41 ...\n",
        " $ contig    : Factor w/ 81 levels \"contig_1\",\"contig_10\",..: 1 1 12 23 1 12 23 34 45 56 ...\n",
        " $ contig_len: int  49282 44529 889 640 48312 558 670 541 678 659 ...\n",
        " $ vir_contig: Factor w/ 554 levels \"1.003.O.:contig_1\",..: 540 545 546 547 500 509 510 511 512 513 ...\n",
        "   Min. 1st Qu.  Median    Mean 3rd Qu.    Max. \n",
        "    501     682     859    6272    1439   56740 \n"
       ]
      },
      {
       "metadata": {},
       "output_type": "display_data",
       "png": "[encoded data removed]"
      }
     ],
     "prompt_number": 15
    },
    {
     "cell_type": "code",
     "collapsed": false,
     "input": [
      "%%R\n",
      "ci2<-filter(contigtable, contig==c(\"contig_1\",\"contig_2\",\"contig_3\",\"contig_4\",\"contig_5\",\"contig_6\",\"contig_7\",\"contig_8\",\"contig_9\"))\n",
      "ci2$contig<-as.character(ci2$contig)\n",
      "#data.frame(ci2)->ci2\n",
      "qplot(contig,contig_len, data=ci2, geom=c(\"boxplot\", \"jitter\"),\n",
      "   fill=contig, main=\"Contig Size By Number\",\n",
      "   xlab=\"\", ylab=\"Contig Length\")"
     ],
     "language": "python",
     "metadata": {},
     "outputs": [
      {
       "metadata": {},
       "output_type": "display_data",
       "png": "[encoded data removed]"
      }
     ],
     "prompt_number": 20
    },
    {
     "cell_type": "code",
     "collapsed": false,
     "input": [],
     "language": "python",
     "metadata": {},
     "outputs": [],
     "prompt_number": 7
    },
    {
     "cell_type": "markdown",
     "metadata": {},
     "source": [
      "###Extract initial ORFs and determine locations of terminases:"
     ]
    },
    {
     "cell_type": "code",
     "collapsed": false,
     "input": [
      "groupfile=group1\n",
      "prodigal=open(\"prodigal.sh\",\"w\")\n",
      "prodigal.write(\"#!/bin/bash\\n#SBATCH -n 16\\n#SBATCH -N 1\\n#SBATCH -o prodigal.out\\n#SBATCH -e prodigal.err\\n#SBATCH -p sched_mit_chisholm\\n\\n\")\n",
      "prodigal.write(\"module add engaging/prodigal/2.6.1\\n\\n\")\n",
      "for line in groupfile:\n",
      "    prodigal.write(\"prodigal -i \"+line+\"step1.contig1.fasta -o \"+line+\"genes -a \"+line+\"proteins.faa -p meta\\n\")\n",
      "prodigal.close()\n",
      "!open prodigal.sh -a textedit\n",
      "!scp prodigal.sh jbrown@eofe4.mit.edu:/nobackup1/jbrown/nahant_phage_reads/group1/"
     ],
     "language": "python",
     "metadata": {},
     "outputs": [
      {
       "output_type": "stream",
       "stream": "stdout",
       "text": [
        "\r",
        "prodigal.sh                                     0%    0     0.0KB/s   --:-- ETA\r",
        "prodigal.sh                                   100% 5672     5.5KB/s   00:00    \r\n"
       ]
      }
     ],
     "prompt_number": 23
    },
    {
     "cell_type": "code",
     "collapsed": false,
     "input": [
      "groupfile=group1\n",
      "blast_commands=open(\"blast_commands.sh\",\"w\")\n",
      "blast_commands.write(\"#!/bin/bash\\n#SBATCH -n 16\\n#SBATCH -N 1\\n#SBATCH -o blast.out\\n#SBATCH -e blast.err\\n#SBATCH -p sched_mit_chisholm\\n\\n\")\n",
      "blast_commands.write(\"module add engaging/ncbi-blast/2.2.30+\\n\\n\\n\")\n",
      "for line in groupfile:\n",
      "    inputfasta=line+\"proteins.faa\"\n",
      "    bout1=line+\"prodprot.vs.lg.terminases.txt\"\n",
      "    bout2=line+\"prodprot.vs.sm.terminases.txt\"\n",
      "    blastcommand=\"blastp -db /nobackup1/jbrown/blast_db/terminase_lg_subunit.fasta -query \"+inputfasta+\" -num_descriptions 1 -evalue 0.00001 -outfmt 6 -out \"+bout1\n",
      "    #blastcommand2=\"blastx -db /nobackup1/jbrown/blast_db/terminase_sm_subunit.fasta -query \"+inputfasta+\" -num_descriptions 1 -outfmt 6 -out \"+bout2\n",
      "    blast_commands.write(blastcommand+\"\\n\")#+blastcommand2+\"\\n\\n\")\n",
      "blast_commands.close()\n",
      "!open blast_commands.sh -a textedit\n",
      "!scp blast_commands.sh jbrown@eofe4.mit.edu:/nobackup1/jbrown/nahant_phage_reads/group1/"
     ],
     "language": "python",
     "metadata": {},
     "outputs": [
      {
       "output_type": "stream",
       "stream": "stdout",
       "text": [
        "\r",
        "blast_commands.sh                               0%    0     0.0KB/s   --:-- ETA\r",
        "blast_commands.sh                             100%   11KB  11.2KB/s   00:00    \r\n"
       ]
      }
     ],
     "prompt_number": 24
    },
    {
     "cell_type": "code",
     "collapsed": false,
     "input": [
      "!scp jbrown@eofe4.mit.edu:/nobackup1/jbrown/nahant_phage_reads/group1/*.vs.lg.terminase* ./\n",
      "!scp jbrown@eofe4.mit.edu:/nobackup1/jbrown/nahant_phage_reads/group1/*genes ./"
     ],
     "language": "python",
     "metadata": {},
     "outputs": [
      {
       "output_type": "stream",
       "stream": "stdout",
       "text": [
        "\r",
        "1.003.O.prodprot.vs.lg.terminases.txt           0%    0     0.0KB/s   --:-- ETA"
       ]
      },
      {
       "output_type": "stream",
       "stream": "stdout",
       "text": [
        "\r",
        "1.003.O.prodprot.vs.lg.terminases.txt         100% 4251     4.2KB/s   00:00    \r\n",
        "\r",
        "1.007.O.prodprot.vs.lg.terminases.txt           0%    0     0.0KB/s   --:-- ETA"
       ]
      },
      {
       "output_type": "stream",
       "stream": "stdout",
       "text": [
        "\r",
        "1.007.O.prodprot.vs.lg.terminases.txt         100% 8715     8.5KB/s   00:00    \r\n",
        "\r",
        "1.016.O.prodprot.vs.lg.terminases.txt           0%    0     0.0KB/s   --:-- ETA"
       ]
      },
      {
       "output_type": "stream",
       "stream": "stdout",
       "text": [
        "\r",
        "1.016.O.prodprot.vs.lg.terminases.txt         100%   12KB  11.8KB/s   00:01    \r\n"
       ]
      },
      {
       "output_type": "stream",
       "stream": "stdout",
       "text": [
        "\r",
        "1.029.O.prodprot.vs.lg.terminases.txt           0%    0     0.0KB/s   --:-- ETA"
       ]
      },
      {
       "output_type": "stream",
       "stream": "stdout",
       "text": [
        "\r",
        "1.029.O.prodprot.vs.lg.terminases.txt           0%    0     0.0KB/s   --:-- ETA"
       ]
      },
      {
       "output_type": "stream",
       "stream": "stdout",
       "text": [
        "\r",
        "1.029.O.prodprot.vs.lg.terminases.txt           0%    0     0.0KB/s   --:-- ETA"
       ]
      },
      {
       "output_type": "stream",
       "stream": "stdout",
       "text": [
        "\r",
        "1.029.O.prodprot.vs.lg.terminases.txt         100% 2894     1.4KB/s   00:02    \r\n",
        "\r",
        "1.036.O.prodprot.vs.lg.terminases.txt           0%    0     0.0KB/s   --:-- ETA"
       ]
      },
      {
       "output_type": "stream",
       "stream": "stdout",
       "text": [
        "\r",
        "1.036.O.prodprot.vs.lg.terminases.txt         100% 4251     4.2KB/s   00:00    \r\n"
       ]
      },
      {
       "output_type": "stream",
       "stream": "stdout",
       "text": [
        "\r",
        "1.038.O.prodprot.vs.lg.terminases.txt           0%    0     0.0KB/s   --:-- ETA\r",
        "1.038.O.prodprot.vs.lg.terminases.txt         100% 2934     2.9KB/s   00:00    \r\n"
       ]
      },
      {
       "output_type": "stream",
       "stream": "stdout",
       "text": [
        "\r",
        "1.039.O.prodprot.vs.lg.terminases.txt           0%    0     0.0KB/s   --:-- ETA"
       ]
      },
      {
       "output_type": "stream",
       "stream": "stdout",
       "text": [
        "\r",
        "1.039.O.prodprot.vs.lg.terminases.txt           0%    0     0.0KB/s   --:-- ETA"
       ]
      },
      {
       "output_type": "stream",
       "stream": "stdout",
       "text": [
        "\r",
        "1.039.O.prodprot.vs.lg.terminases.txt           0%    0     0.0KB/s   --:-- ETA"
       ]
      },
      {
       "output_type": "stream",
       "stream": "stdout",
       "text": [
        "\r",
        "1.039.O.prodprot.vs.lg.terminases.txt         100% 4195     1.4KB/s   00:03    \r\n",
        "\r",
        "1.042.O.prodprot.vs.lg.terminases.txt           0%    0     0.0KB/s   --:-- ETA"
       ]
      },
      {
       "output_type": "stream",
       "stream": "stdout",
       "text": [
        "\r",
        "1.042.O.prodprot.vs.lg.terminases.txt         100%   12KB  12.2KB/s   00:00    \r\n",
        "\r",
        "1.047.O.prodprot.vs.lg.terminases.txt           0%    0     0.0KB/s   --:-- ETA"
       ]
      },
      {
       "output_type": "stream",
       "stream": "stdout",
       "text": [
        "\r",
        "1.047.O.prodprot.vs.lg.terminases.txt         100% 3052     3.0KB/s   00:00    \r\n"
       ]
      },
      {
       "output_type": "stream",
       "stream": "stdout",
       "text": [
        "\r",
        "1.052.A.prodprot.vs.lg.terminases.txt           0%    0     0.0KB/s   --:-- ETA\r",
        "1.052.A.prodprot.vs.lg.terminases.txt         100% 4825     4.7KB/s   00:00    \r\n"
       ]
      },
      {
       "output_type": "stream",
       "stream": "stdout",
       "text": [
        "\r",
        "1.054.O.prodprot.vs.lg.terminases.txt           0%    0     0.0KB/s   --:-- ETA\r",
        "1.054.O.prodprot.vs.lg.terminases.txt         100% 2936     2.9KB/s   00:00    \r\n"
       ]
      },
      {
       "output_type": "stream",
       "stream": "stdout",
       "text": [
        "\r",
        "1.060.A.prodprot.vs.lg.terminases.txt           0%    0     0.0KB/s   --:-- ETA\r",
        "1.060.A.prodprot.vs.lg.terminases.txt         100% 3100     3.0KB/s   00:00    \r\n"
       ]
      },
      {
       "output_type": "stream",
       "stream": "stdout",
       "text": [
        "\r",
        "1.061.O.prodprot.vs.lg.terminases.txt           0%    0     0.0KB/s   --:-- ETA\r",
        "1.061.O.prodprot.vs.lg.terminases.txt         100% 4251     4.2KB/s   00:00    \r\n"
       ]
      },
      {
       "output_type": "stream",
       "stream": "stdout",
       "text": [
        "\r",
        "1.067.O.prodprot.vs.lg.terminases.txt           0%    0     0.0KB/s   --:-- ETA\r",
        "1.067.O.prodprot.vs.lg.terminases.txt         100% 4199     4.1KB/s   00:00    \r\n"
       ]
      },
      {
       "output_type": "stream",
       "stream": "stdout",
       "text": [
        "\r",
        "1.071.A.prodprot.vs.lg.terminases.txt           0%    0     0.0KB/s   --:-- ETA"
       ]
      },
      {
       "output_type": "stream",
       "stream": "stdout",
       "text": [
        "\r",
        "1.071.A.prodprot.vs.lg.terminases.txt           0%    0     0.0KB/s   --:-- ETA"
       ]
      },
      {
       "output_type": "stream",
       "stream": "stdout",
       "text": [
        "\r",
        "1.071.A.prodprot.vs.lg.terminases.txt           0%    0     0.0KB/s   --:-- ETA"
       ]
      },
      {
       "output_type": "stream",
       "stream": "stdout",
       "text": [
        "\r",
        "1.071.A.prodprot.vs.lg.terminases.txt         100%   12KB   3.9KB/s   00:03    \r\n"
       ]
      },
      {
       "output_type": "stream",
       "stream": "stdout",
       "text": [
        "\r",
        "1.079.O.prodprot.vs.lg.terminases.txt           0%    0     0.0KB/s   --:-- ETA"
       ]
      },
      {
       "output_type": "stream",
       "stream": "stdout",
       "text": [
        "\r",
        "1.079.O.prodprot.vs.lg.terminases.txt           0%    0     0.0KB/s   --:-- ETA"
       ]
      },
      {
       "output_type": "stream",
       "stream": "stdout",
       "text": [
        "\r",
        "1.079.O.prodprot.vs.lg.terminases.txt           0%    0     0.0KB/s   --:-- ETA"
       ]
      },
      {
       "output_type": "stream",
       "stream": "stdout",
       "text": [
        "\r",
        "1.079.O.prodprot.vs.lg.terminases.txt           0%    0     0.0KB/s   --:-- ETA"
       ]
      },
      {
       "output_type": "stream",
       "stream": "stdout",
       "text": [
        "\r",
        "1.079.O.prodprot.vs.lg.terminases.txt         100% 4251     1.4KB/s   00:03    \r\n",
        "\r",
        "1.090.B.prodprot.vs.lg.terminases.txt           0%    0     0.0KB/s   --:-- ETA"
       ]
      },
      {
       "output_type": "stream",
       "stream": "stdout",
       "text": [
        "\r",
        "1.090.B.prodprot.vs.lg.terminases.txt         100% 4251     4.2KB/s   00:00    \r\n"
       ]
      },
      {
       "output_type": "stream",
       "stream": "stdout",
       "text": [
        "\r",
        "1.091.O.prodprot.vs.lg.terminases.txt           0%    0     0.0KB/s   --:-- ETA"
       ]
      },
      {
       "output_type": "stream",
       "stream": "stdout",
       "text": [
        "\r",
        "1.091.O.prodprot.vs.lg.terminases.txt         100% 4251     4.2KB/s   00:00    \r\n",
        "\r",
        "1.105.O.prodprot.vs.lg.terminases.txt           0%    0     0.0KB/s   --:-- ETA"
       ]
      },
      {
       "output_type": "stream",
       "stream": "stdout",
       "text": [
        "\r",
        "1.105.O.prodprot.vs.lg.terminases.txt         100% 8389     8.2KB/s   00:01    \r\n"
       ]
      },
      {
       "output_type": "stream",
       "stream": "stdout",
       "text": [
        "\r",
        "1.106.O.prodprot.vs.lg.terminases.txt           0%    0     0.0KB/s   --:-- ETA"
       ]
      },
      {
       "output_type": "stream",
       "stream": "stdout",
       "text": [
        "\r",
        "1.106.O.prodprot.vs.lg.terminases.txt         100% 8551     8.4KB/s   00:00    \r\n"
       ]
      },
      {
       "output_type": "stream",
       "stream": "stdout",
       "text": [
        "\r",
        "1.112.O.prodprot.vs.lg.terminases.txt           0%    0     0.0KB/s   --:-- ETA"
       ]
      },
      {
       "output_type": "stream",
       "stream": "stdout",
       "text": [
        "\r",
        "1.112.O.prodprot.vs.lg.terminases.txt           0%    0     0.0KB/s   --:-- ETA"
       ]
      },
      {
       "output_type": "stream",
       "stream": "stdout",
       "text": [
        "\r",
        "1.112.O.prodprot.vs.lg.terminases.txt           0%    0     0.0KB/s   --:-- ETA"
       ]
      },
      {
       "output_type": "stream",
       "stream": "stdout",
       "text": [
        "\r",
        "1.112.O.prodprot.vs.lg.terminases.txt         100%   12KB   5.9KB/s   00:02    \r\n",
        "\r",
        "1.113.A.prodprot.vs.lg.terminases.txt           0%    0     0.0KB/s   --:-- ETA"
       ]
      },
      {
       "output_type": "stream",
       "stream": "stdout",
       "text": [
        "\r",
        "1.113.A.prodprot.vs.lg.terminases.txt         100% 3060     3.0KB/s   00:00    \r\n"
       ]
      },
      {
       "output_type": "stream",
       "stream": "stdout",
       "text": [
        "\r",
        "1.119.O.prodprot.vs.lg.terminases.txt           0%    0     0.0KB/s   --:-- ETA"
       ]
      },
      {
       "output_type": "stream",
       "stream": "stdout",
       "text": [
        "\r",
        "1.119.O.prodprot.vs.lg.terminases.txt         100%   11KB  10.8KB/s   00:01    \r\n"
       ]
      },
      {
       "output_type": "stream",
       "stream": "stdout",
       "text": [
        "\r",
        "1.123.O.prodprot.vs.lg.terminases.txt           0%    0     0.0KB/s   --:-- ETA"
       ]
      },
      {
       "output_type": "stream",
       "stream": "stdout",
       "text": [
        "\r",
        "1.123.O.prodprot.vs.lg.terminases.txt         100% 6324     6.2KB/s   00:00    \r\n"
       ]
      },
      {
       "output_type": "stream",
       "stream": "stdout",
       "text": [
        "\r",
        "1.127.O.prodprot.vs.lg.terminases.txt           0%    0     0.0KB/s   --:-- ETA"
       ]
      },
      {
       "output_type": "stream",
       "stream": "stdout",
       "text": [
        "\r",
        "1.127.O.prodprot.vs.lg.terminases.txt         100%   11KB  10.8KB/s   00:00    \r\n"
       ]
      },
      {
       "output_type": "stream",
       "stream": "stdout",
       "text": [
        "\r",
        "1.135.O.prodprot.vs.lg.terminases.txt           0%    0     0.0KB/s   --:-- ETA"
       ]
      },
      {
       "output_type": "stream",
       "stream": "stdout",
       "text": [
        "\r",
        "1.135.O.prodprot.vs.lg.terminases.txt         100% 7524     7.4KB/s   00:00    \r\n",
        "\r",
        "1.137.O.prodprot.vs.lg.terminases.txt           0%    0     0.0KB/s   --:-- ETA"
       ]
      },
      {
       "output_type": "stream",
       "stream": "stdout",
       "text": [
        "\r",
        "1.137.O.prodprot.vs.lg.terminases.txt         100% 7526     7.4KB/s   00:00    \r\n",
        "\r",
        "1.143.O.prodprot.vs.lg.terminases.txt           0%    0     0.0KB/s   --:-- ETA"
       ]
      },
      {
       "output_type": "stream",
       "stream": "stdout",
       "text": [
        "\r",
        "1.143.O.prodprot.vs.lg.terminases.txt           0%    0     0.0KB/s   --:-- ETA"
       ]
      },
      {
       "output_type": "stream",
       "stream": "stdout",
       "text": [
        "\r",
        "1.143.O.prodprot.vs.lg.terminases.txt           0%    0     0.0KB/s   --:-- ETA"
       ]
      },
      {
       "output_type": "stream",
       "stream": "stdout",
       "text": [
        "\r",
        "1.143.O.prodprot.vs.lg.terminases.txt           0%    0     0.0KB/s   --:-- ETA"
       ]
      },
      {
       "output_type": "stream",
       "stream": "stdout",
       "text": [
        "\r",
        "1.143.O.prodprot.vs.lg.terminases.txt           0%    0     0.0KB/s   --:-- ETA"
       ]
      },
      {
       "output_type": "stream",
       "stream": "stdout",
       "text": [
        "\r",
        "1.143.O.prodprot.vs.lg.terminases.txt         100%   11KB   2.2KB/s   00:05    \r\n",
        "\r",
        "1.144.O.prodprot.vs.lg.terminases.txt           0%    0     0.0KB/s   --:-- ETA"
       ]
      },
      {
       "output_type": "stream",
       "stream": "stdout",
       "text": [
        "\r",
        "1.144.O.prodprot.vs.lg.terminases.txt         100% 7909     7.7KB/s   00:00    \r\n"
       ]
      },
      {
       "output_type": "stream",
       "stream": "stdout",
       "text": [
        "\r",
        "1.149.O.prodprot.vs.lg.terminases.txt           0%    0     0.0KB/s   --:-- ETA"
       ]
      },
      {
       "output_type": "stream",
       "stream": "stdout",
       "text": [
        "\r",
        "1.149.O.prodprot.vs.lg.terminases.txt         100% 8310     8.1KB/s   00:01    \r\n",
        "\r",
        "1.151.O.prodprot.vs.lg.terminases.txt           0%    0     0.0KB/s   --:-- ETA"
       ]
      },
      {
       "output_type": "stream",
       "stream": "stdout",
       "text": [
        "\r",
        "1.151.O.prodprot.vs.lg.terminases.txt           0%    0     0.0KB/s   --:-- ETA"
       ]
      },
      {
       "output_type": "stream",
       "stream": "stdout",
       "text": [
        "\r",
        "1.151.O.prodprot.vs.lg.terminases.txt           0%    0     0.0KB/s   --:-- ETA"
       ]
      },
      {
       "output_type": "stream",
       "stream": "stdout",
       "text": [
        "\r",
        "1.151.O.prodprot.vs.lg.terminases.txt         100% 2134     1.0KB/s   00:02    \r\n",
        "\r",
        "1.154.O.prodprot.vs.lg.terminases.txt           0%    0     0.0KB/s   --:-- ETA\r",
        "1.154.O.prodprot.vs.lg.terminases.txt         100% 2806     2.7KB/s   00:00    \r\n"
       ]
      },
      {
       "output_type": "stream",
       "stream": "stdout",
       "text": [
        "\r",
        "1.173.O.prodprot.vs.lg.terminases.txt           0%    0     0.0KB/s   --:-- ETA"
       ]
      },
      {
       "output_type": "stream",
       "stream": "stdout",
       "text": [
        "\r",
        "1.173.O.prodprot.vs.lg.terminases.txt         100% 8385     8.2KB/s   00:00    \r\n",
        "\r",
        "1.177.O.prodprot.vs.lg.terminases.txt           0%    0     0.0KB/s   --:-- ETA"
       ]
      },
      {
       "output_type": "stream",
       "stream": "stdout",
       "text": [
        "\r",
        "1.177.O.prodprot.vs.lg.terminases.txt         100% 7542     7.4KB/s   00:00    \r\n",
        "\r",
        "1.178.O.prodprot.vs.lg.terminases.txt           0%    0     0.0KB/s   --:-- ETA"
       ]
      },
      {
       "output_type": "stream",
       "stream": "stdout",
       "text": [
        "\r",
        "1.178.O.prodprot.vs.lg.terminases.txt         100%   11KB  11.0KB/s   00:01    \r\n",
        "\r",
        "1.186.O.prodprot.vs.lg.terminases.txt           0%    0     0.0KB/s   --:-- ETA"
       ]
      },
      {
       "output_type": "stream",
       "stream": "stdout",
       "text": [
        "\r",
        "1.186.O.prodprot.vs.lg.terminases.txt         100% 8288     8.1KB/s   00:00    \r\n"
       ]
      },
      {
       "output_type": "stream",
       "stream": "stdout",
       "text": [
        "\r",
        "1.197.A.prodprot.vs.lg.terminases.txt           0%    0     0.0KB/s   --:-- ETA"
       ]
      },
      {
       "output_type": "stream",
       "stream": "stdout",
       "text": [
        "\r",
        "1.197.A.prodprot.vs.lg.terminases.txt           0%    0     0.0KB/s   --:-- ETA"
       ]
      },
      {
       "output_type": "stream",
       "stream": "stdout",
       "text": [
        "\r",
        "1.197.A.prodprot.vs.lg.terminases.txt           0%    0     0.0KB/s   --:-- ETA"
       ]
      },
      {
       "output_type": "stream",
       "stream": "stdout",
       "text": [
        "\r",
        "1.197.A.prodprot.vs.lg.terminases.txt         100% 4657     2.3KB/s   00:02    \r\n",
        "\r",
        "1.198.A.prodprot.vs.lg.terminases.txt           0%    0     0.0KB/s   --:-- ETA"
       ]
      },
      {
       "output_type": "stream",
       "stream": "stdout",
       "text": [
        "\r",
        "1.198.A.prodprot.vs.lg.terminases.txt         100% 5296     5.2KB/s   00:01    \r\n"
       ]
      },
      {
       "output_type": "stream",
       "stream": "stdout",
       "text": [
        "\r",
        "1.198.B.prodprot.vs.lg.terminases.txt           0%    0     0.0KB/s   --:-- ETA"
       ]
      },
      {
       "output_type": "stream",
       "stream": "stdout",
       "text": [
        "\r",
        "1.198.B.prodprot.vs.lg.terminases.txt           0%    0     0.0KB/s   --:-- ETA"
       ]
      },
      {
       "output_type": "stream",
       "stream": "stdout",
       "text": [
        "\r",
        "1.198.B.prodprot.vs.lg.terminases.txt           0%    0     0.0KB/s   --:-- ETA"
       ]
      },
      {
       "output_type": "stream",
       "stream": "stdout",
       "text": [
        "\r",
        "1.198.B.prodprot.vs.lg.terminases.txt           0%    0     0.0KB/s   --:-- ETA"
       ]
      },
      {
       "output_type": "stream",
       "stream": "stdout",
       "text": [
        "\r",
        "1.198.B.prodprot.vs.lg.terminases.txt         100% 5296     1.7KB/s   00:03    \r\n"
       ]
      },
      {
       "output_type": "stream",
       "stream": "stdout",
       "text": [
        "\r",
        "1.199.A.prodprot.vs.lg.terminases.txt           0%    0     0.0KB/s   --:-- ETA"
       ]
      },
      {
       "output_type": "stream",
       "stream": "stdout",
       "text": [
        "\r",
        "1.199.A.prodprot.vs.lg.terminases.txt         100% 8389     8.2KB/s   00:00    \r\n",
        "\r",
        "1.199.B.prodprot.vs.lg.terminases.txt           0%    0     0.0KB/s   --:-- ETA"
       ]
      },
      {
       "output_type": "stream",
       "stream": "stdout",
       "text": [
        "\r",
        "1.199.B.prodprot.vs.lg.terminases.txt         100% 8389     8.2KB/s   00:00    \r\n"
       ]
      },
      {
       "output_type": "stream",
       "stream": "stdout",
       "text": [
        "\r",
        "1.213.O.prodprot.vs.lg.terminases.txt           0%    0     0.0KB/s   --:-- ETA"
       ]
      },
      {
       "output_type": "stream",
       "stream": "stdout",
       "text": [
        "\r",
        "1.213.O.prodprot.vs.lg.terminases.txt           0%    0     0.0KB/s   --:-- ETA"
       ]
      },
      {
       "output_type": "stream",
       "stream": "stdout",
       "text": [
        "\r",
        "1.213.O.prodprot.vs.lg.terminases.txt           0%    0     0.0KB/s   --:-- ETA"
       ]
      },
      {
       "output_type": "stream",
       "stream": "stdout",
       "text": [
        "\r",
        "1.213.O.prodprot.vs.lg.terminases.txt         100% 7975     2.6KB/s   00:03    \r\n",
        "\r",
        "1.216.O.prodprot.vs.lg.terminases.txt           0%    0     0.0KB/s   --:-- ETA"
       ]
      },
      {
       "output_type": "stream",
       "stream": "stdout",
       "text": [
        "\r",
        "1.216.O.prodprot.vs.lg.terminases.txt           0%    0     0.0KB/s   --:-- ETA"
       ]
      },
      {
       "output_type": "stream",
       "stream": "stdout",
       "text": [
        "\r",
        "1.216.O.prodprot.vs.lg.terminases.txt           0%    0     0.0KB/s   --:-- ETA"
       ]
      },
      {
       "output_type": "stream",
       "stream": "stdout",
       "text": [
        "\r",
        "1.216.O.prodprot.vs.lg.terminases.txt         100% 7437     2.4KB/s   00:03    \r\n"
       ]
      },
      {
       "output_type": "stream",
       "stream": "stdout",
       "text": [
        "\r",
        "1.231.O.prodprot.vs.lg.terminases.txt           0%    0     0.0KB/s   --:-- ETA"
       ]
      },
      {
       "output_type": "stream",
       "stream": "stdout",
       "text": [
        "\r",
        "1.231.O.prodprot.vs.lg.terminases.txt         100%   11KB  10.8KB/s   00:01    \r\n"
       ]
      },
      {
       "output_type": "stream",
       "stream": "stdout",
       "text": [
        "\r",
        "1.232.O.prodprot.vs.lg.terminases.txt           0%    0     0.0KB/s   --:-- ETA\r",
        "1.232.O.prodprot.vs.lg.terminases.txt         100% 2616     2.6KB/s   00:00    \r\n",
        "\r",
        "1.236.O.prodprot.vs.lg.terminases.txt           0%    0     0.0KB/s   --:-- ETA"
       ]
      },
      {
       "output_type": "stream",
       "stream": "stdout",
       "text": [
        "\r",
        "1.236.O.prodprot.vs.lg.terminases.txt           0%    0     0.0KB/s   --:-- ETA"
       ]
      },
      {
       "output_type": "stream",
       "stream": "stdout",
       "text": [
        "\r",
        "1.236.O.prodprot.vs.lg.terminases.txt           0%    0     0.0KB/s   --:-- ETA"
       ]
      },
      {
       "output_type": "stream",
       "stream": "stdout",
       "text": [
        "\r",
        "1.236.O.prodprot.vs.lg.terminases.txt         100% 7527     3.7KB/s   00:02    \r\n"
       ]
      },
      {
       "output_type": "stream",
       "stream": "stdout",
       "text": [
        "\r",
        "1.243.O.prodprot.vs.lg.terminases.txt           0%    0     0.0KB/s   --:-- ETA"
       ]
      },
      {
       "output_type": "stream",
       "stream": "stdout",
       "text": [
        "\r",
        "1.243.O.prodprot.vs.lg.terminases.txt         100% 8394     8.2KB/s   00:00    \r\n",
        "\r",
        "1.248.O.prodprot.vs.lg.terminases.txt           0%    0     0.0KB/s   --:-- ETA"
       ]
      },
      {
       "output_type": "stream",
       "stream": "stdout",
       "text": [
        "\r",
        "1.248.O.prodprot.vs.lg.terminases.txt         100% 8387     8.2KB/s   00:01    \r\n"
       ]
      },
      {
       "output_type": "stream",
       "stream": "stdout",
       "text": [
        "\r",
        "1.256.O.prodprot.vs.lg.terminases.txt           0%    0     0.0KB/s   --:-- ETA"
       ]
      },
      {
       "output_type": "stream",
       "stream": "stdout",
       "text": [
        "\r",
        "1.256.O.prodprot.vs.lg.terminases.txt           0%    0     0.0KB/s   --:-- ETA"
       ]
      },
      {
       "output_type": "stream",
       "stream": "stdout",
       "text": [
        "\r",
        "1.256.O.prodprot.vs.lg.terminases.txt           0%    0     0.0KB/s   --:-- ETA"
       ]
      },
      {
       "output_type": "stream",
       "stream": "stdout",
       "text": [
        "\r",
        "1.256.O.prodprot.vs.lg.terminases.txt         100% 8551     4.2KB/s   00:02    \r\n",
        "\r",
        "1.263.A.prodprot.vs.lg.terminases.txt           0%    0     0.0KB/s   --:-- ETA"
       ]
      },
      {
       "output_type": "stream",
       "stream": "stdout",
       "text": [
        "\r",
        "1.263.A.prodprot.vs.lg.terminases.txt         100% 8389     8.2KB/s   00:00    \r\n",
        "\r",
        "1.263.B.prodprot.vs.lg.terminases.txt           0%    0     0.0KB/s   --:-- ETA"
       ]
      },
      {
       "output_type": "stream",
       "stream": "stdout",
       "text": [
        "\r",
        "1.263.B.prodprot.vs.lg.terminases.txt         100% 8389     8.2KB/s   00:00    \r\n",
        "\r",
        "1.265.O.prodprot.vs.lg.terminases.txt           0%    0     0.0KB/s   --:-- ETA"
       ]
      },
      {
       "output_type": "stream",
       "stream": "stdout",
       "text": [
        "\r",
        "1.265.O.prodprot.vs.lg.terminases.txt         100%   11KB  10.9KB/s   00:01    \r\n"
       ]
      },
      {
       "output_type": "stream",
       "stream": "stdout",
       "text": [
        "\r",
        "1.273.O.prodprot.vs.lg.terminases.txt           0%    0     0.0KB/s   --:-- ETA"
       ]
      },
      {
       "output_type": "stream",
       "stream": "stdout",
       "text": [
        "\r",
        "1.273.O.prodprot.vs.lg.terminases.txt         100% 8310     8.1KB/s   00:00    \r\n"
       ]
      },
      {
       "output_type": "stream",
       "stream": "stdout",
       "text": [
        "\r",
        "1.276.O.prodprot.vs.lg.terminases.txt           0%    0     0.0KB/s   --:-- ETA"
       ]
      },
      {
       "output_type": "stream",
       "stream": "stdout",
       "text": [
        "\r",
        "1.276.O.prodprot.vs.lg.terminases.txt         100% 5296     5.2KB/s   00:00    \r\n",
        "\r",
        "1.278.O.prodprot.vs.lg.terminases.txt           0%    0     0.0KB/s   --:-- ETA"
       ]
      },
      {
       "output_type": "stream",
       "stream": "stdout",
       "text": [
        "\r",
        "1.278.O.prodprot.vs.lg.terminases.txt           0%    0     0.0KB/s   --:-- ETA"
       ]
      },
      {
       "output_type": "stream",
       "stream": "stdout",
       "text": [
        "\r",
        "1.278.O.prodprot.vs.lg.terminases.txt           0%    0     0.0KB/s   --:-- ETA"
       ]
      },
      {
       "output_type": "stream",
       "stream": "stdout",
       "text": [
        "\r",
        "1.278.O.prodprot.vs.lg.terminases.txt         100% 8387     4.1KB/s   00:02    \r\n"
       ]
      },
      {
       "output_type": "stream",
       "stream": "stdout",
       "text": [
        "\r",
        "1.284.A.prodprot.vs.lg.terminases.txt           0%    0     0.0KB/s   --:-- ETA\r",
        "1.284.A.prodprot.vs.lg.terminases.txt         100% 3050     3.0KB/s   00:00    \r\n"
       ]
      },
      {
       "output_type": "stream",
       "stream": "stdout",
       "text": [
        "\r",
        "1.286.O.prodprot.vs.lg.terminases.txt           0%    0     0.0KB/s   --:-- ETA"
       ]
      },
      {
       "output_type": "stream",
       "stream": "stdout",
       "text": [
        "\r",
        "1.286.O.prodprot.vs.lg.terminases.txt         100% 8394     8.2KB/s   00:00    \r\n"
       ]
      },
      {
       "output_type": "stream",
       "stream": "stdout",
       "text": [
        "\r",
        "1.287.O.prodprot.vs.lg.terminases.txt           0%    0     0.0KB/s   --:-- ETA\r",
        "1.287.O.prodprot.vs.lg.terminases.txt         100% 3048     3.0KB/s   00:00    \r\n"
       ]
      },
      {
       "output_type": "stream",
       "stream": "stdout",
       "text": [
        "\r",
        "1.289.A.prodprot.vs.lg.terminases.txt           0%    0     0.0KB/s   --:-- ETA\r",
        "1.289.A.prodprot.vs.lg.terminases.txt         100% 3050     3.0KB/s   00:00    \r\n"
       ]
      },
      {
       "output_type": "stream",
       "stream": "stdout",
       "text": [
        "\r",
        "1.291.O.prodprot.vs.lg.terminases.txt           0%    0     0.0KB/s   --:-- ETA"
       ]
      },
      {
       "output_type": "stream",
       "stream": "stdout",
       "text": [
        "\r",
        "1.291.O.prodprot.vs.lg.terminases.txt         100% 3040     3.0KB/s   00:00    \r\n",
        "\r",
        "2.095.A.prodprot.vs.lg.terminases.txt           0%    0     0.0KB/s   --:-- ETA"
       ]
      },
      {
       "output_type": "stream",
       "stream": "stdout",
       "text": [
        "\r",
        "2.095.A.prodprot.vs.lg.terminases.txt         100% 5375     5.3KB/s   00:00    \r\n"
       ]
      },
      {
       "output_type": "stream",
       "stream": "stdout",
       "text": [
        "\r",
        "2.095.B.prodprot.vs.lg.terminases.txt           0%    0     0.0KB/s   --:-- ETA\r",
        "2.095.B.prodprot.vs.lg.terminases.txt         100% 5375     5.3KB/s   00:00    \r\n"
       ]
      },
      {
       "output_type": "stream",
       "stream": "stdout",
       "text": [
        "scp: /nobackup1/jbrown/nahant_phage_reads/group/*genes: No such file or directory\r\n"
       ]
      }
     ],
     "prompt_number": 25
    },
    {
     "cell_type": "code",
     "collapsed": false,
     "input": [
      "for phage in group1:\n",
      "    blast=open(phage+\"prodprot.vs.lg.terminases.txt\").readlines()       #open blast file \n",
      "    print(phage)\n",
      "    terminase_hits=[]\n",
      "    for line in blast:\n",
      "        \n",
      "        if line.split(\"\\t\")[0] not in terminase_hits:\n",
      "            terminase_hits.append(line.split(\"\\t\")[0])\n",
      "    if len(terminase_hits)==1:\n",
      "        print(\"one orf matches terminase\")\n",
      "    else:\n",
      "        print(terminase_hits)"
     ],
     "language": "python",
     "metadata": {},
     "outputs": [
      {
       "output_type": "stream",
       "stream": "stdout",
       "text": [
        "1.278.O.\n",
        "one orf matches terminase\n",
        "1.289.A.\n",
        "['contig_1_12', 'contig_1_13']\n",
        "1.199.B.\n",
        "one orf matches terminase\n",
        "2.095.B.\n",
        "one orf matches terminase\n",
        "1.003.O.\n",
        "one orf matches terminase\n",
        "1.047.O.\n",
        "['contig_1_12', 'contig_1_13']\n",
        "1.286.O.\n",
        "one orf matches terminase\n",
        "1.029.O.\n",
        "one orf matches terminase\n",
        "1.284.A.\n",
        "['contig_1_40', 'contig_1_41']\n",
        "1.287.O.\n",
        "['contig_1_14', 'contig_1_15']\n",
        "1.265.O.\n",
        "['contig_1_6', 'contig_1_7']\n",
        "1.291.O.\n",
        "['contig_1_70', 'contig_1_72']\n",
        "1.105.O.\n",
        "one orf matches terminase\n",
        "1.038.O.\n",
        "one orf matches terminase\n",
        "1.154.O.\n",
        "one orf matches terminase\n",
        "1.173.O.\n",
        "one orf matches terminase\n",
        "1.177.O.\n",
        "one orf matches terminase\n",
        "1.213.O.\n",
        "['contig_1_1', 'contig_1_74']\n",
        "1.036.O.\n",
        "one orf matches terminase\n",
        "1.276.O.\n",
        "one orf matches terminase\n",
        "1.016.O.\n",
        "one orf matches terminase\n",
        "1.243.O.\n",
        "one orf matches terminase\n",
        "1.198.B.\n",
        "one orf matches terminase\n",
        "1.127.O.\n",
        "['contig_1_50', 'contig_1_51']\n",
        "1.263.B.\n",
        "one orf matches terminase\n",
        "1.123.O.\n",
        "one orf matches terminase\n",
        "1.216.O.\n",
        "one orf matches terminase\n",
        "1.039.O.\n",
        "['contig_1_1', 'contig_1_69']\n",
        "1.232.O.\n",
        "one orf matches terminase\n",
        "1.178.O.\n",
        "['contig_1_38', 'contig_1_39']\n",
        "1.054.O.\n",
        "one orf matches terminase\n",
        "1.236.O.\n",
        "one orf matches terminase\n",
        "1.119.O.\n",
        "['contig_1_59', 'contig_1_60']\n",
        "1.151.O.\n",
        "one orf matches terminase\n",
        "1.067.O.\n",
        "one orf matches terminase\n",
        "1.112.O.\n",
        "one orf matches terminase\n",
        "1.198.A.\n",
        "one orf matches terminase\n",
        "1.199.A.\n",
        "one orf matches terminase\n",
        "1.149.O.\n",
        "['contig_1_29', 'contig_1_30']\n",
        "1.007.O.\n",
        "one orf matches terminase\n",
        "1.186.O.\n",
        "one orf matches terminase\n",
        "1.079.O.\n",
        "one orf matches terminase\n",
        "1.091.O.\n",
        "one orf matches terminase\n",
        "1.143.O.\n",
        "['contig_1_43', 'contig_1_44']\n",
        "1.197.A.\n",
        "['contig_1_1', 'contig_1_2', 'contig_1_70']\n",
        "1.137.O.\n",
        "one orf matches terminase\n",
        "1.106.O.\n",
        "one orf matches terminase\n",
        "1.090.B.\n",
        "one orf matches terminase\n",
        "1.273.O.\n",
        "['contig_1_33', 'contig_1_34']\n",
        "1.071.A.\n",
        "one orf matches terminase\n",
        "1.060.A.\n",
        "['contig_1_54', 'contig_1_55']\n",
        "1.042.O.\n",
        "one orf matches terminase\n",
        "1.263.A.\n",
        "one orf matches terminase\n",
        "1.113.A.\n",
        "['contig_1_44', 'contig_1_45']\n",
        "1.135.O.\n",
        "one orf matches terminase\n",
        "2.095.A.\n",
        "one orf matches terminase\n",
        "1.061.O.\n",
        "one orf matches terminase\n",
        "1.248.O.\n",
        "one orf matches terminase\n",
        "1.144.O.\n",
        "one orf matches terminase\n",
        "1.256.O.\n",
        "one orf matches terminase\n",
        "1.231.O.\n",
        "['contig_1_22', 'contig_1_23']\n",
        "1.052.A.\n",
        "['contig_1_20', 'contig_1_21']\n"
       ]
      }
     ],
     "prompt_number": 13
    },
    {
     "cell_type": "code",
     "collapsed": false,
     "input": [
      "from Bio.Seq import Seq\n",
      "\n",
      "groupfile=group1\n",
      "special_cases=[]\n",
      "for phage in groupfile:\n",
      "\n",
      "    #Create dictionary of identity and location of prodigal calls for phage genome\n",
      "    gene_tbl=open(phage+\"genes\").readlines()     #open prodigal gene table for phage genome\n",
      "    loc=[]\n",
      "    nam=[]\n",
      "    for line in gene_tbl[2:]:\n",
      "        here=line.split()\n",
      "        if here[0]==\"CDS\":\n",
      "            loc.append(here[1])\n",
      "        else:\n",
      "            info=here[0].split(\";\")\n",
      "            there=info[0].split(\"=\")\n",
      "            if len(there)==3:\n",
      "                nam.append(\"contig_\"+there[2])\n",
      "    dict1=dict(zip(nam,loc))                  #create dictionary of the location of each orf by prodigal-assigned name\n",
      "    \n",
      "                                             #use contig identified in first entry of blast file\n",
      "    \n",
      "    blast=open(phage+\"prodprot.vs.lg.terminases.txt\").readlines()       #open blast file \n",
      "    terminase_hits=[]\n",
      "    for line in blast:\n",
      "        \n",
      "        if line.split(\"\\t\")[0] not in terminase_hits:\n",
      "            terminase_hits.append(line.split(\"\\t\")[0])\n",
      "    if len(terminase_hits)==1:\n",
      "        orf=blast[0].split(\"\\t\")[0]\n",
      "        value=dict1[orf]                                                    #pull out location of BLAST-identified terminase\n",
      "    \n",
      "        if value.startswith(\"complement\"):                                  #determine orientation of orf and\n",
      "            adjust=orf.split(\"_\")                                           #identification of start of gene upstream of terminase large subunit\n",
      "            orientation=\"reverse\"\n",
      "            key2=adjust[0]+\"_\"+adjust[1]+\"_\"+str(int(adjust[2])+1)\n",
      "            value2=dict1.get(key2,0)\n",
      "            if dict1.get(key2,0)!=0:                                           \n",
      "\n",
      "                vec1=value2.split(\"(\")\n",
      "                vec2=vec1[1].split(\"..\")\n",
      "                start=vec2[1].replace(\">\",\"\").replace(\")\",\"\")\n",
      "                stop=vec2[0].replace(\">\",\"\").replace(\")\",\"\")\n",
      "\n",
      "            else:\n",
      "                print(\"end of contig reverse\")\n",
      "                key2=adjust[0]+\"_\"+adjust[1]+\"_1\"\n",
      "                orientation=\"reverse\"\n",
      "                value2=dict1.get(key2,\"end of contig\")\n",
      "                vec1=value2.split(\"(\")\n",
      "                vec2=vec1[1].split(\"..\")\n",
      "                start=vec2[0].replace(\">\",\"\").replace(\")\",\"\")\n",
      "                stop=vec2[1].replace(\">\",\"\").replace(\")\",\"\")\n",
      "\n",
      "        else:\n",
      "            adjust=orf.split(\"_\")\n",
      "            key2=adjust[0]+\"_\"+adjust[1]+\"_\"+str(int(adjust[2])-1)\n",
      "            orientation=\"forward\"\n",
      "            if dict1.get(key2,0)!=0:\n",
      "                value2=dict1.get(key2,\"end of contig\")\n",
      "                vec2=value2.split(\"..\")\n",
      "                start=vec2[0].replace(\">\",\"\").replace(\")\",\"\")\n",
      "                stop=vec2[1].replace(\">\",\"\").replace(\")\",\"\")      \n",
      "            else:\n",
      "                print(\"end of contig forward\")\n",
      "                orf_num=len(dict1)\n",
      "                key2=adjust[0]+\"_\"+adjust[1]+\"_\"+str(orf_num)\n",
      "                if \">\" in dict1.get(key2,0):\n",
      "                    key2=adjust[0]+\"_\"+adjust[1]+\"_\"+str(orf_num-1)\n",
      "                value2=dict1.get(key2, 0)\n",
      "                vec2=value2.split(\"..\")\n",
      "                start=vec2[0].replace(\">\",\"\").replace(\")\",\"\")\n",
      "                stop=vec2[1].replace(\">\",\"\").replace(\")\",\"\")\n",
      "        print(orientation+\":\"+value2)\n",
      "        fastafile=phage+\"step1.contig1.fasta\"\n",
      "        f=open(fastafile)                                       #opoen fasta file\n",
      "        sequence=\"\"\n",
      "        for row in f:                           #define title and sequences\n",
      "            if row.startswith(\">\"):\n",
      "                title=row\n",
      "            else:\n",
      "                sequence+=row\n",
      "        sequence=sequence.replace(\"\\n\",\"\")\n",
      "\n",
      "        if start!=0:\n",
      "            outfile=open(phage+\"s1c1.rearrange.fasta\",\"w\")\n",
      "            upstream=sequence[0:int(start)-1]                    #id sequence before start of small subunit terminase\n",
      "            downstream=sequence[int(start)-1:]                   #id sequence after start of small subunit terminase \n",
      "            rearrange=downstream+upstream                        #re-arrange contigs so that small subunit terminase start is at end of contig\n",
      "            if orientation==\"reverse\":                           #reverse-complement the genome if terminase gene is in reverse orientation\n",
      "                seq=Seq(rearrange)\n",
      "                out_seq=seq.reverse_complement()\n",
      "                outfile.write(\">\"+phage+\"\\n\"+str(out_seq))\n",
      "            else:\n",
      "                outfile.write(\">\"+phage+\"\\n\"+rearrange)\n",
      "\n",
      "        outfile.close()\n",
      "        print(phage+\" done!\")\n",
      "    else:\n",
      "        special_cases.append(phage)\n",
      "        print(phage+\" is a weirdo\")"
     ],
     "language": "python",
     "metadata": {},
     "outputs": [
      {
       "output_type": "stream",
       "stream": "stdout",
       "text": [
        "forward:28243..28677\n",
        "1.278.O. done!\n",
        "1.289.A. is a weirdo\n",
        "forward:15762..15971\n",
        "1.199.B. done!\n",
        "reverse:complement(41695..42138)\n",
        "2.095.B. done!"
       ]
      },
      {
       "output_type": "stream",
       "stream": "stdout",
       "text": [
        "\n",
        "reverse:complement(34704..35126)\n",
        "1.003.O. done!\n",
        "1.047.O. is a weirdo"
       ]
      },
      {
       "output_type": "stream",
       "stream": "stdout",
       "text": [
        "\n",
        "forward:12712..12921\n",
        "1.286.O. done!\n",
        "forward:1362..1910"
       ]
      },
      {
       "output_type": "stream",
       "stream": "stdout",
       "text": [
        "\n",
        "1.029.O. done!\n",
        "1.284.A. is a weirdo\n",
        "1.287.O. is a weirdo\n",
        "1.265.O. is a weirdo\n",
        "1.291.O. is a weirdo\n",
        "forward:41487..41924\n",
        "1.105.O. done!"
       ]
      },
      {
       "output_type": "stream",
       "stream": "stdout",
       "text": [
        "\n",
        "forward:29716..30264\n",
        "1.038.O. done!\n",
        "forward:1965..2189\n",
        "1.154.O. done!\n",
        "forward:37461..37670\n",
        "1.173.O. done!\n",
        "reverse:complement(12821..13192)\n",
        "1.177.O. done!\n",
        "1.213.O. is a weirdo"
       ]
      },
      {
       "output_type": "stream",
       "stream": "stdout",
       "text": [
        "\n",
        "forward:27305..27751\n",
        "1.036.O. done!\n",
        "reverse:complement(30351..30788)"
       ]
      },
      {
       "output_type": "stream",
       "stream": "stdout",
       "text": [
        "\n",
        "1.276.O. done!\n",
        "forward:12820..13263\n",
        "1.016.O. done!\n",
        "reverse:complement(27439..27651)"
       ]
      },
      {
       "output_type": "stream",
       "stream": "stdout",
       "text": [
        "\n",
        "1.243.O. done!\n",
        "forward:42178..42615\n",
        "1.198.B. done!"
       ]
      },
      {
       "output_type": "stream",
       "stream": "stdout",
       "text": [
        "\n",
        "1.127.O. is a weirdo\n",
        "reverse:complement(49211..>49639)\n",
        "1.263.B. done!"
       ]
      },
      {
       "output_type": "stream",
       "stream": "stdout",
       "text": [
        "\n",
        "forward:21985..22332\n",
        "1.123.O. done!\n",
        "reverse:complement(5108..5479)\n",
        "1.216.O. done!\n",
        "1.039.O. is a weirdo"
       ]
      },
      {
       "output_type": "stream",
       "stream": "stdout",
       "text": [
        "\n",
        "reverse:complement(32091..32552)\n",
        "1.232.O. done!\n",
        "1.178.O. is a weirdo"
       ]
      },
      {
       "output_type": "stream",
       "stream": "stdout",
       "text": [
        "\n",
        "forward:36171..36719"
       ]
      },
      {
       "output_type": "stream",
       "stream": "stdout",
       "text": [
        "\n",
        "1.054.O. done!\n",
        "forward:21042..21413\n",
        "1.236.O. done!\n",
        "1.119.O. is a weirdo\n",
        "reverse:complement(10044..10649)"
       ]
      },
      {
       "output_type": "stream",
       "stream": "stdout",
       "text": [
        "\n",
        "1.151.O. done!\n",
        "reverse:complement(9091..9513)\n",
        "1.067.O. done!\n",
        "reverse:complement(36276..36719)\n",
        "1.112.O. done!"
       ]
      },
      {
       "output_type": "stream",
       "stream": "stdout",
       "text": [
        "\n",
        "forward:22487..22924\n",
        "1.198.A. done!\n",
        "forward:27677..27886"
       ]
      },
      {
       "output_type": "stream",
       "stream": "stdout",
       "text": [
        "\n",
        "1.199.A. done!\n",
        "1.149.O. is a weirdo\n",
        "forward:35095..35853\n",
        "1.007.O. done!\n",
        "reverse:complement(3934..4371)"
       ]
      },
      {
       "output_type": "stream",
       "stream": "stdout",
       "text": [
        "\n",
        "1.186.O. done!\n",
        "forward:18683..19129\n",
        "1.079.O. done!\n",
        "forward:20385..20807"
       ]
      },
      {
       "output_type": "stream",
       "stream": "stdout",
       "text": [
        "\n",
        "1.091.O. done!\n",
        "1.143.O. is a weirdo\n",
        "1.197.A. is a weirdo\n",
        "forward:30022..30399\n",
        "1.137.O. done!\n",
        "reverse:complement(46650..>47069)\n",
        "1.106.O. done!\n",
        "reverse:complement(27099..27545)\n",
        "1.090.B. done!\n",
        "1.273.O. is a weirdo\n",
        "forward:7982..8425"
       ]
      },
      {
       "output_type": "stream",
       "stream": "stdout",
       "text": [
        "\n",
        "1.071.A. done!\n",
        "1.060.A. is a weirdo\n",
        "forward:9525..9968"
       ]
      },
      {
       "output_type": "stream",
       "stream": "stdout",
       "text": [
        "\n",
        "1.042.O. done!\n",
        "reverse:complement(11712..12149)"
       ]
      },
      {
       "output_type": "stream",
       "stream": "stdout",
       "text": [
        "\n",
        "1.263.A. done!\n",
        "1.113.A. is a weirdo"
       ]
      },
      {
       "output_type": "stream",
       "stream": "stdout",
       "text": [
        "\n",
        "reverse:complement(18056..18433)\n",
        "1.135.O. done!\n",
        "forward:33530..33973\n",
        "2.095.A. done!"
       ]
      },
      {
       "output_type": "stream",
       "stream": "stdout",
       "text": [
        "\n",
        "forward:5755..6201\n",
        "1.061.O. done!"
       ]
      },
      {
       "output_type": "stream",
       "stream": "stdout",
       "text": [
        "\n",
        "reverse:complement(8751..9188)\n",
        "1.248.O. done!\n",
        "reverse:complement(43418..43825)"
       ]
      },
      {
       "output_type": "stream",
       "stream": "stdout",
       "text": [
        "\n",
        "1.144.O. done!\n",
        "reverse:complement(42663..43100)\n",
        "1.256.O. done!\n",
        "1.231.O. is a weirdo\n",
        "1.052.A. is a weirdo"
       ]
      },
      {
       "output_type": "stream",
       "stream": "stdout",
       "text": [
        "\n"
       ]
      }
     ],
     "prompt_number": 5
    },
    {
     "cell_type": "code",
     "collapsed": false,
     "input": [
      "special_cases"
     ],
     "language": "python",
     "metadata": {},
     "outputs": [
      {
       "metadata": {},
       "output_type": "pyout",
       "prompt_number": 6,
       "text": [
        "['1.289.A.',\n",
        " '1.047.O.',\n",
        " '1.284.A.',\n",
        " '1.287.O.',\n",
        " '1.265.O.',\n",
        " '1.291.O.',\n",
        " '1.213.O.',\n",
        " '1.127.O.',\n",
        " '1.039.O.',\n",
        " '1.178.O.',\n",
        " '1.119.O.',\n",
        " '1.149.O.',\n",
        " '1.143.O.',\n",
        " '1.197.A.',\n",
        " '1.273.O.',\n",
        " '1.060.A.',\n",
        " '1.113.A.',\n",
        " '1.231.O.',\n",
        " '1.052.A.']"
       ]
      }
     ],
     "prompt_number": 6
    },
    {
     "cell_type": "code",
     "collapsed": false,
     "input": [
      "special_cases\n",
      "for phage in special_cases:\n",
      "    print(phage)\n",
      "    #Create dictionary of identity and location of prodigal calls for phage genome\n",
      "    gene_tbl=open(phage+\"genes\").readlines()     #open prodigal gene table for phage genome\n",
      "    loc=[]\n",
      "    nam=[]\n",
      "    for line in gene_tbl[2:]:\n",
      "        here=line.split()\n",
      "        if here[0]==\"CDS\":\n",
      "            loc.append(here[1])\n",
      "        else:\n",
      "            info=here[0].split(\";\")\n",
      "            there=info[0].split(\"=\")\n",
      "            if len(there)==3:\n",
      "                nam.append(\"contig_\"+there[2])\n",
      "    dict1=dict(zip(nam,loc))                  #create dictionary of the location of each orf by prodigal-assigned name\n",
      "    \n",
      "                                             #use contig identified in first entry of blast file\n",
      "    \n",
      "    blast=open(phage+\"prodprot.vs.lg.terminases.txt\").readlines() \n",
      "    terminase_hits=[]\n",
      "    e_values=[]\n",
      "    for line in blast:\n",
      "        if line.split(\"\\t\")[0] not in terminase_hits:\n",
      "            terminase_hits.append(line.split(\"\\t\")[0])\n",
      "            e_values.append(line.split(\"\\t\")[10])\n",
      "    value=dict1[terminase_hits[0]]                                                    #pull out location of BLAST-identified terminase\n",
      "    if value.startswith(\"complement\"):\n",
      "        adjust=orf.split(\"_\")                                           #identification of start of gene upstream of terminase large subunit\n",
      "        orientation=\"reverse\"\n",
      "        key2=adjust[0]+\"_\"+adjust[1]+\"_\"+str(int(adjust[2])+len(terminase_hits))\n",
      "        value2=dict1.get(key2,0)\n",
      "    else:\n",
      "        adjust=orf.split(\"_\")                                           #identification of start of gene upstream of terminase large subunit\n",
      "        orientation=\"forward\"\n",
      "        key2=adjust[0]+\"_\"+adjust[1]+\"_\"+str(int(adjust[2])-1)\n",
      "        value2=dict1.get(key2,0)\n",
      "    print(orientation)\n",
      "    print(e_values)"
     ],
     "language": "python",
     "metadata": {},
     "outputs": [
      {
       "output_type": "stream",
       "stream": "stdout",
       "text": [
        "1.289.A.\n",
        "forward\n",
        "['9e-20', '7e-155']\n",
        "1.047.O.\n",
        "reverse\n",
        "['8e-152', '4e-19']\n",
        "1.284.A.\n",
        "reverse\n",
        "['4e-155', '8e-19']\n",
        "1.287.O.\n",
        "reverse\n",
        "['3e-156', '4e-19']\n",
        "1.265.O.\n",
        "reverse\n",
        "['4e-131', '3e-12']\n",
        "1.291.O.\n",
        "forward\n",
        "['3e-20', '3e-157']\n",
        "1.213.O.\n",
        "reverse\n",
        "['2e-135', '2e-16']\n",
        "1.127.O.\n",
        "forward\n",
        "['2e-14', '4e-126']\n",
        "1.039.O.\n",
        "forward\n",
        "['3e-79', '2e-10']\n",
        "1.178.O.\n",
        "reverse\n",
        "['2e-130', '1e-13']\n",
        "1.119.O.\n",
        "forward\n",
        "['5e-19', '3e-126']\n",
        "1.149.O.\n",
        "reverse\n",
        "['3e-77', '7e-25']\n",
        "1.143.O.\n",
        "forward\n",
        "['5e-19', '3e-126']\n",
        "1.197.A.\n",
        "reverse\n",
        "['3e-21', '4e-19', '6e-122']\n",
        "1.273.O.\n",
        "reverse\n",
        "['3e-77', '1e-24']\n",
        "1.060.A.\n",
        "forward\n",
        "['4e-21', '2e-166']\n",
        "1.113.A.\n",
        "reverse\n",
        "['1e-157', '8e-19']\n",
        "1.231.O.\n",
        "reverse\n",
        "['3e-126', '5e-19']\n",
        "1.052.A.\n",
        "forward\n",
        "['2e-49', '0.0']\n"
       ]
      }
     ],
     "prompt_number": 35
    },
    {
     "cell_type": "markdown",
     "metadata": {},
     "source": [
      "####It's weird that when there is only one hit to a terminase, the upstream gene is in the correct orientation, but when there is more than one hit, the upstream gene of the pair of terminases is not always in the same orientation...But when e_value is included, it seems that there is a distinct pattern of similarity where one moderately matches while the other is dead on (e<e-100).  Also interesting is the pattern where if the genes are forward, the first gene has a higher e-value, while if they are complemented, the first gene has a lower e-value.  Perhaps the gene with the strongest e-value should be considered the terminase, and the genome should then be clipped one gene upstream of it.\n",
      "\n",
      "There are a couple exceptions to this pattern, but generally this appears to hold.\n",
      "\n",
      "####Below I'm going to try to select the terminase with the lowest e-value, select the gene upstream of it and then clip and re-write the output"
     ]
    },
    {
     "cell_type": "code",
     "collapsed": false,
     "input": [
      "special_cases\n",
      "for phage in special_cases:\n",
      "    #Create dictionary of identity and location of prodigal calls for phage genome\n",
      "    gene_tbl=open(phage+\"genes\").readlines()     #open prodigal gene table for phage genome\n",
      "    loc=[]\n",
      "    nam=[]\n",
      "    for line in gene_tbl[2:]:\n",
      "        here=line.split()\n",
      "        if here[0]==\"CDS\":\n",
      "            loc.append(here[1])\n",
      "        else:\n",
      "            info=here[0].split(\";\")\n",
      "            there=info[0].split(\"=\")\n",
      "            if len(there)==3:\n",
      "                nam.append(\"contig_\"+there[2])\n",
      "    dict1=dict(zip(nam,loc))                  #create dictionary of the location of each orf by prodigal-assigned name\n",
      "    \n",
      "                                             #use contig identified in first entry of blast file\n",
      "    \n",
      "    blast=open(phage+\"prodprot.vs.lg.terminases.txt\").readlines() \n",
      "    terminase_hits=[]\n",
      "    e_values=[]\n",
      "    best_evalue=1\n",
      "    best_e_line=\"\"\n",
      "    for line in blast:\n",
      "        if line.split(\"\\t\")[0] not in terminase_hits:\n",
      "            terminase_hits.append(line.split(\"\\t\")[0])\n",
      "            e_values.append(line.split(\"\\t\")[10])  \n",
      "        \n",
      "        if float(line.split(\"\\t\")[10])<best_evalue:\n",
      "            best_evalue=float(line.split(\"\\t\")[10])\n",
      "            top_orf=line.split(\"\\t\")[0]\n",
      "            \n",
      "    value=dict1[top_orf]                                                    #pull out location of BLAST-identified terminase\n",
      "    \n",
      "    if value.startswith(\"complement\"):                                  #determine orientation of orf and\n",
      "        adjust=top_orf.split(\"_\")                                           #identification of start of gene upstream of terminase large subunit\n",
      "        orientation=\"reverse\"\n",
      "        key2=adjust[0]+\"_\"+adjust[1]+\"_\"+str(int(adjust[2])+1)\n",
      "        value2=dict1.get(key2,0)\n",
      "        if dict1.get(key2,0)!=0:                                           \n",
      "\n",
      "            \n",
      "            vec2=value2.split(\"..\")\n",
      "            start=vec2[1].replace(\">\",\"\").replace(\")\",\"\")\n",
      "            stop=vec2[0].replace(\">\",\"\").replace(\")\",\"\").replace(\"complement(\",\"\")\n",
      "\n",
      "        else:\n",
      "            print(\"end of contig reverse\")\n",
      "            key2=adjust[0]+\"_\"+adjust[1]+\"_1\"\n",
      "            orientation=\"reverse\"\n",
      "            value2=dict1.get(key2,\"end of contig\")\n",
      "            vec2=value2.split(\"..\")\n",
      "            start=vec2[0].replace(\">\",\"\").replace(\")\",\"\").replace(\"complement(\",\"\")\n",
      "            stop=vec2[1].replace(\">\",\"\").replace(\")\",\"\")\n",
      "\n",
      "    else:\n",
      "        adjust=top_orf.split(\"_\")\n",
      "        key2=adjust[0]+\"_\"+adjust[1]+\"_\"+str(int(adjust[2])-1)\n",
      "        orientation=\"forward\"\n",
      "        if dict1.get(key2,0)!=0:\n",
      "            value2=dict1.get(key2,\"end of contig\")\n",
      "            vec2=value2.split(\"..\")\n",
      "            start=vec2[0].replace(\">\",\"\").replace(\")\",\"\").replace(\"complement(\",\"\")\n",
      "            stop=vec2[1].replace(\">\",\"\").replace(\")\",\"\")      \n",
      "        else:\n",
      "            print(\"end of contig forward\")\n",
      "            orf_num=len(dict1)\n",
      "            key2=adjust[0]+\"_\"+adjust[1]+\"_\"+str(orf_num)\n",
      "            if \">\" in dict1.get(key2,0):\n",
      "                key2=adjust[0]+\"_\"+adjust[1]+\"_\"+str(orf_num-1)\n",
      "            value2=dict1.get(key2, 0)\n",
      "            vec2=value2.split(\"..\")\n",
      "            start=vec2[0].replace(\">\",\"\").replace(\")\",\"\").replace(\"complement(\",\"\")\n",
      "            stop=vec2[1].replace(\">\",\"\").replace(\")\",\"\")\n",
      "    print(orientation+\":\"+value2)\n",
      "    fastafile=phage+\"step1.contig1.fasta\"\n",
      "    f=open(fastafile)                                       #opoen fasta file\n",
      "    sequence=\"\"\n",
      "    for row in f:                           #define title and sequences\n",
      "        if row.startswith(\">\"):\n",
      "            title=row\n",
      "        else:\n",
      "            sequence+=row\n",
      "    sequence=sequence.replace(\"\\n\",\"\")\n",
      "\n",
      "    if start!=0:\n",
      "        outfile=open(phage+\"s1c1.rearrange.fasta\",\"w\")\n",
      "        upstream=sequence[0:int(start)-1]                    #id sequence before start of small subunit terminase\n",
      "        downstream=sequence[int(start)-1:]                   #id sequence after start of small subunit terminase \n",
      "        rearrange=downstream+upstream                        #re-arrange contigs so that small subunit terminase start is at end of contig\n",
      "        if orientation==\"reverse\":                           #reverse-complement the genome if terminase gene is in reverse orientation\n",
      "            seq=Seq(rearrange)\n",
      "            out_seq=seq.reverse_complement()\n",
      "            outfile.write(\">\"+phage+\"\\n\"+str(out_seq))\n",
      "        else:\n",
      "            outfile.write(\">\"+phage+\"\\n\"+rearrange)\n",
      "\n",
      "    outfile.close()\n",
      "    print(phage+\" done!\")"
     ],
     "language": "python",
     "metadata": {},
     "outputs": [
      {
       "ename": "NameError",
       "evalue": "name 'special_cases' is not defined",
       "output_type": "pyerr",
       "traceback": [
        "\u001b[0;31m---------------------------------------------------------------------------\u001b[0m\n\u001b[0;31mNameError\u001b[0m                                 Traceback (most recent call last)",
        "\u001b[0;32m<ipython-input-27-4dd198dbc030>\u001b[0m in \u001b[0;36m<module>\u001b[0;34m()\u001b[0m\n\u001b[0;32m----> 1\u001b[0;31m \u001b[0mspecial_cases\u001b[0m\u001b[0;34m\u001b[0m\u001b[0m\n\u001b[0m\u001b[1;32m      2\u001b[0m \u001b[0;32mfor\u001b[0m \u001b[0mphage\u001b[0m \u001b[0;32min\u001b[0m \u001b[0mspecial_cases\u001b[0m\u001b[0;34m:\u001b[0m\u001b[0;34m\u001b[0m\u001b[0m\n\u001b[1;32m      3\u001b[0m     \u001b[0;31m#Create dictionary of identity and location of prodigal calls for phage genome\u001b[0m\u001b[0;34m\u001b[0m\u001b[0;34m\u001b[0m\u001b[0m\n\u001b[1;32m      4\u001b[0m     \u001b[0mgene_tbl\u001b[0m\u001b[0;34m=\u001b[0m\u001b[0mopen\u001b[0m\u001b[0;34m(\u001b[0m\u001b[0mphage\u001b[0m\u001b[0;34m+\u001b[0m\u001b[0;34m\"genes\"\u001b[0m\u001b[0;34m)\u001b[0m\u001b[0;34m.\u001b[0m\u001b[0mreadlines\u001b[0m\u001b[0;34m(\u001b[0m\u001b[0;34m)\u001b[0m     \u001b[0;31m#open prodigal gene table for phage genome\u001b[0m\u001b[0;34m\u001b[0m\u001b[0m\n\u001b[1;32m      5\u001b[0m     \u001b[0mloc\u001b[0m\u001b[0;34m=\u001b[0m\u001b[0;34m[\u001b[0m\u001b[0;34m]\u001b[0m\u001b[0;34m\u001b[0m\u001b[0m\n",
        "\u001b[0;31mNameError\u001b[0m: name 'special_cases' is not defined"
       ]
      }
     ],
     "prompt_number": 27
    },
    {
     "cell_type": "code",
     "collapsed": false,
     "input": [
      "ls *s1c1.rearrange*"
     ],
     "language": "python",
     "metadata": {},
     "outputs": [
      {
       "output_type": "stream",
       "stream": "stdout",
       "text": [
        "1.003.O.s1c1.rearrange.fasta  1.154.O.s1c1.rearrange.fasta\r\n",
        "1.007.O.s1c1.rearrange.fasta  1.173.O.s1c1.rearrange.fasta\r\n",
        "1.016.O.s1c1.rearrange.fasta  1.177.O.s1c1.rearrange.fasta\r\n",
        "1.029.O.s1c1.rearrange.fasta  1.178.O.s1c1.rearrange.fasta\r\n",
        "1.036.O.s1c1.rearrange.fasta  1.186.O.s1c1.rearrange.fasta\r\n",
        "1.038.O.s1c1.rearrange.fasta  1.197.A.s1c1.rearrange.fasta\r\n",
        "1.039.O.s1c1.rearrange.fasta  1.198.A.s1c1.rearrange.fasta\r\n",
        "1.042.O.s1c1.rearrange.fasta  1.198.B.s1c1.rearrange.fasta\r\n",
        "1.047.O.s1c1.rearrange.fasta  1.199.A.s1c1.rearrange.fasta\r\n",
        "1.052.A.s1c1.rearrange.fasta  1.199.B.s1c1.rearrange.fasta\r\n",
        "1.054.O.s1c1.rearrange.fasta  1.213.O.s1c1.rearrange.fasta\r\n",
        "1.060.A.s1c1.rearrange.fasta  1.216.O.s1c1.rearrange.fasta\r\n",
        "1.061.O.s1c1.rearrange.fasta  1.231.O.s1c1.rearrange.fasta\r\n",
        "1.067.O.s1c1.rearrange.fasta  1.232.O.s1c1.rearrange.fasta\r\n",
        "1.071.A.s1c1.rearrange.fasta  1.236.O.s1c1.rearrange.fasta\r\n",
        "1.079.O.s1c1.rearrange.fasta  1.243.O.s1c1.rearrange.fasta\r\n",
        "1.090.B.s1c1.rearrange.fasta  1.248.O.s1c1.rearrange.fasta\r\n",
        "1.091.O.s1c1.rearrange.fasta  1.256.O.s1c1.rearrange.fasta\r\n",
        "1.105.O.s1c1.rearrange.fasta  1.263.A.s1c1.rearrange.fasta\r\n",
        "1.106.O.s1c1.rearrange.fasta  1.263.B.s1c1.rearrange.fasta\r\n",
        "1.112.O.s1c1.rearrange.fasta  1.265.O.s1c1.rearrange.fasta\r\n",
        "1.113.A.s1c1.rearrange.fasta  1.273.O.s1c1.rearrange.fasta\r\n",
        "1.119.O.s1c1.rearrange.fasta  1.276.O.s1c1.rearrange.fasta\r\n",
        "1.123.O.s1c1.rearrange.fasta  1.278.O.s1c1.rearrange.fasta\r\n",
        "1.127.O.s1c1.rearrange.fasta  1.284.A.s1c1.rearrange.fasta\r\n",
        "1.135.O.s1c1.rearrange.fasta  1.286.O.s1c1.rearrange.fasta\r\n",
        "1.137.O.s1c1.rearrange.fasta  1.287.O.s1c1.rearrange.fasta\r\n",
        "1.143.O.s1c1.rearrange.fasta  1.289.A.s1c1.rearrange.fasta\r\n",
        "1.144.O.s1c1.rearrange.fasta  1.291.O.s1c1.rearrange.fasta\r\n",
        "1.149.O.s1c1.rearrange.fasta  2.095.A.s1c1.rearrange.fasta\r\n",
        "1.151.O.s1c1.rearrange.fasta  2.095.B.s1c1.rearrange.fasta\r\n"
       ]
      }
     ],
     "prompt_number": 35
    },
    {
     "cell_type": "code",
     "collapsed": false,
     "input": [
      "script=open(\"rearrange_recruitment.slurm\",\"w\")\n",
      "script.write(\"#!/bin/bash\\n#SBATCH -n 16\\n#SBATCH -N 1\\n#SBATCH -o rearrange.out\\n#SBATCH -e rearrange.err\\n#SBATCH -p sched_mit_chisholm\\n\\n\")\n",
      "script.write(\"module add engaging/clc-assembly-cell\\nmodule add engaging/samtools/1.1\\nmodule add engaging/bedtools/2.22.1\\n\\n\")\n",
      "\n",
      "for virus in groupfile:\n",
      "    target_seq=virus+\"s1c1.rearrange.fasta\"\n",
      "    reads=virus+\"*.fastq\"\n",
      "    recruitfile=virus+\"s1c1.rearrange.cas\"\n",
      "    outputfasta=virus+\"final.fasta\"\n",
      "    directed=virus+\"rearrange.\"\n",
      "\n",
      "    script.write(\"clc_mapper -o \"+recruitfile+\" -p fb ss 100 300 -q \"+reads+\" -d \"+target_seq+\" -a local -r ignore \\n\")\n",
      "    script.write(\"clc_extract_consensus -z none -a \"+recruitfile+\" -o \"+outputfasta+\"\\n\")\n",
      "    script.write(\"clc_cas_to_sam -a \"+recruitfile+\" -o \"+directed+\"bam\\n\")\n",
      "    script.write(\"samtools sort \"+directed+\"bam \"+directed+\"sorted\\n\")\n",
      "    script.write(\"samtools index \"+directed+\"sorted.bam\\n\")\n",
      "    script.write(\"bedtools genomecov -ibam \"+directed+\"sorted.bam -d > \"+directed+\"genomecoverage.txt\\n\\n\")\n",
      "\n",
      "script.close()\n",
      "!open rearrange_recruitment.slurm -a textedit"
     ],
     "language": "python",
     "metadata": {},
     "outputs": [],
     "prompt_number": 36
    },
    {
     "cell_type": "code",
     "collapsed": false,
     "input": [
      "!scp rearrange_recruitment.slurm jbrown@eofe4.mit.edu:/nobackup1/jbrown/nahant_phage_reads/group1/\n",
      "!scp *s1c1.rearrange.fasta jbrown@eofe4.mit.edu:/nobackup1/jbrown/nahant_phage_reads/group1/"
     ],
     "language": "python",
     "metadata": {},
     "outputs": [
      {
       "output_type": "stream",
       "stream": "stdout",
       "text": [
        "\r",
        "rearrange_recruitment.slurm                     0%    0     0.0KB/s   --:-- ETA\r",
        "rearrange_recruitment.slurm                   100%   30KB  29.5KB/s   00:00    \r\n"
       ]
      },
      {
       "output_type": "stream",
       "stream": "stdout",
       "text": [
        "\r",
        "1.003.O.s1c1.rearrange.fasta                    0%    0     0.0KB/s   --:-- ETA"
       ]
      },
      {
       "output_type": "stream",
       "stream": "stdout",
       "text": [
        "\r",
        "1.003.O.s1c1.rearrange.fasta                  100%   41KB  40.9KB/s   00:00    \r\n"
       ]
      },
      {
       "output_type": "stream",
       "stream": "stdout",
       "text": [
        "\r",
        "1.007.O.s1c1.rearrange.fasta                    0%    0     0.0KB/s   --:-- ETA\r",
        "1.007.O.s1c1.rearrange.fasta                  100%   48KB  48.1KB/s   00:00    \r\n"
       ]
      },
      {
       "output_type": "stream",
       "stream": "stdout",
       "text": [
        "\r",
        "1.016.O.s1c1.rearrange.fasta                    0%    0     0.0KB/s   --:-- ETA\r",
        "1.016.O.s1c1.rearrange.fasta                  100%   47KB  47.0KB/s   00:00    \r\n"
       ]
      },
      {
       "output_type": "stream",
       "stream": "stdout",
       "text": [
        "\r",
        "1.029.O.s1c1.rearrange.fasta                    0%    0     0.0KB/s   --:-- ETA\r",
        "1.029.O.s1c1.rearrange.fasta                  100%   45KB  45.4KB/s   00:00    \r\n"
       ]
      },
      {
       "output_type": "stream",
       "stream": "stdout",
       "text": [
        "\r",
        "1.036.O.s1c1.rearrange.fasta                    0%    0     0.0KB/s   --:-- ETA\r",
        "1.036.O.s1c1.rearrange.fasta                  100%   39KB  39.2KB/s   00:00    \r\n"
       ]
      },
      {
       "output_type": "stream",
       "stream": "stdout",
       "text": [
        "\r",
        "1.038.O.s1c1.rearrange.fasta                    0%    0     0.0KB/s   --:-- ETA\r",
        "1.038.O.s1c1.rearrange.fasta                  100%   48KB  48.4KB/s   00:00    \r\n",
        "\r",
        "1.039.O.s1c1.rearrange.fasta                    0%    0     0.0KB/s   --:-- ETA\r",
        "1.039.O.s1c1.rearrange.fasta                  100%   40KB  40.0KB/s   00:00    \r\n"
       ]
      },
      {
       "output_type": "stream",
       "stream": "stdout",
       "text": [
        "\r",
        "1.042.O.s1c1.rearrange.fasta                    0%    0     0.0KB/s   --:-- ETA\r",
        "1.042.O.s1c1.rearrange.fasta                  100%   49KB  48.6KB/s   00:00    \r\n"
       ]
      },
      {
       "output_type": "stream",
       "stream": "stdout",
       "text": [
        "\r",
        "1.047.O.s1c1.rearrange.fasta                    0%    0     0.0KB/s   --:-- ETA\r",
        "1.047.O.s1c1.rearrange.fasta                  100%   45KB  45.0KB/s   00:00    \r\n"
       ]
      },
      {
       "output_type": "stream",
       "stream": "stdout",
       "text": [
        "\r",
        "1.052.A.s1c1.rearrange.fasta                    0%    0     0.0KB/s   --:-- ETA\r",
        "1.052.A.s1c1.rearrange.fasta                  100%   42KB  41.9KB/s   00:00    \r\n"
       ]
      },
      {
       "output_type": "stream",
       "stream": "stdout",
       "text": [
        "\r",
        "1.054.O.s1c1.rearrange.fasta                    0%    0     0.0KB/s   --:-- ETA\r",
        "1.054.O.s1c1.rearrange.fasta                  100%   41KB  40.8KB/s   00:00    \r\n"
       ]
      },
      {
       "output_type": "stream",
       "stream": "stdout",
       "text": [
        "\r",
        "1.060.A.s1c1.rearrange.fasta                    0%    0     0.0KB/s   --:-- ETA\r",
        "1.060.A.s1c1.rearrange.fasta                  100%   40KB  40.2KB/s   00:00    \r\n"
       ]
      },
      {
       "output_type": "stream",
       "stream": "stdout",
       "text": [
        "\r",
        "1.061.O.s1c1.rearrange.fasta                    0%    0     0.0KB/s   --:-- ETA\r",
        "1.061.O.s1c1.rearrange.fasta                  100%   41KB  40.7KB/s   00:00    \r\n"
       ]
      },
      {
       "output_type": "stream",
       "stream": "stdout",
       "text": [
        "\r",
        "1.067.O.s1c1.rearrange.fasta                    0%    0     0.0KB/s   --:-- ETA\r",
        "1.067.O.s1c1.rearrange.fasta                  100%   40KB  40.0KB/s   00:00    \r\n"
       ]
      },
      {
       "output_type": "stream",
       "stream": "stdout",
       "text": [
        "\r",
        "1.071.A.s1c1.rearrange.fasta                    0%    0     0.0KB/s   --:-- ETA\r",
        "1.071.A.s1c1.rearrange.fasta                  100%   47KB  47.0KB/s   00:00    \r\n"
       ]
      },
      {
       "output_type": "stream",
       "stream": "stdout",
       "text": [
        "\r",
        "1.079.O.s1c1.rearrange.fasta                    0%    0     0.0KB/s   --:-- ETA\r",
        "1.079.O.s1c1.rearrange.fasta                  100%   41KB  41.4KB/s   00:00    \r\n"
       ]
      },
      {
       "output_type": "stream",
       "stream": "stdout",
       "text": [
        "\r",
        "1.090.B.s1c1.rearrange.fasta                    0%    0     0.0KB/s   --:-- ETA\r",
        "1.090.B.s1c1.rearrange.fasta                  100%   41KB  40.9KB/s   00:00    \r\n"
       ]
      },
      {
       "output_type": "stream",
       "stream": "stdout",
       "text": [
        "\r",
        "1.091.O.s1c1.rearrange.fasta                    0%    0     0.0KB/s   --:-- ETA\r",
        "1.091.O.s1c1.rearrange.fasta                  100%   42KB  42.1KB/s   00:00    \r\n"
       ]
      },
      {
       "output_type": "stream",
       "stream": "stdout",
       "text": [
        "\r",
        "1.105.O.s1c1.rearrange.fasta                    0%    0     0.0KB/s   --:-- ETA\r",
        "1.105.O.s1c1.rearrange.fasta                  100%   48KB  48.0KB/s   00:00    \r\n"
       ]
      },
      {
       "output_type": "stream",
       "stream": "stdout",
       "text": [
        "\r",
        "1.106.O.s1c1.rearrange.fasta                    0%    0     0.0KB/s   --:-- ETA\r",
        "1.106.O.s1c1.rearrange.fasta                  100%   46KB  46.0KB/s   00:00    \r\n"
       ]
      },
      {
       "output_type": "stream",
       "stream": "stdout",
       "text": [
        "\r",
        "1.112.O.s1c1.rearrange.fasta                    0%    0     0.0KB/s   --:-- ETA\r",
        "1.112.O.s1c1.rearrange.fasta                  100%   47KB  47.0KB/s   00:00    \r\n"
       ]
      },
      {
       "output_type": "stream",
       "stream": "stdout",
       "text": [
        "\r",
        "1.113.A.s1c1.rearrange.fasta                    0%    0     0.0KB/s   --:-- ETA\r",
        "1.113.A.s1c1.rearrange.fasta                  100%   43KB  43.1KB/s   00:00    \r\n"
       ]
      },
      {
       "output_type": "stream",
       "stream": "stdout",
       "text": [
        "\r",
        "1.119.O.s1c1.rearrange.fasta                    0%    0     0.0KB/s   --:-- ETA\r",
        "1.119.O.s1c1.rearrange.fasta                  100%   43KB  43.5KB/s   00:00    \r\n"
       ]
      },
      {
       "output_type": "stream",
       "stream": "stdout",
       "text": [
        "\r",
        "1.123.O.s1c1.rearrange.fasta                    0%    0     0.0KB/s   --:-- ETA\r",
        "1.123.O.s1c1.rearrange.fasta                  100%   45KB  45.0KB/s   00:00    \r\n"
       ]
      },
      {
       "output_type": "stream",
       "stream": "stdout",
       "text": [
        "\r",
        "1.127.O.s1c1.rearrange.fasta                    0%    0     0.0KB/s   --:-- ETA\r",
        "1.127.O.s1c1.rearrange.fasta                  100%   44KB  43.9KB/s   00:00    \r\n"
       ]
      },
      {
       "output_type": "stream",
       "stream": "stdout",
       "text": [
        "\r",
        "1.135.O.s1c1.rearrange.fasta                    0%    0     0.0KB/s   --:-- ETA\r",
        "1.135.O.s1c1.rearrange.fasta                  100%   41KB  41.0KB/s   00:00    \r\n"
       ]
      },
      {
       "output_type": "stream",
       "stream": "stdout",
       "text": [
        "\r",
        "1.137.O.s1c1.rearrange.fasta                    0%    0     0.0KB/s   --:-- ETA\r",
        "1.137.O.s1c1.rearrange.fasta                  100%   37KB  37.1KB/s   00:00    \r\n"
       ]
      },
      {
       "output_type": "stream",
       "stream": "stdout",
       "text": [
        "\r",
        "1.143.O.s1c1.rearrange.fasta                    0%    0     0.0KB/s   --:-- ETA\r",
        "1.143.O.s1c1.rearrange.fasta                  100%   43KB  43.5KB/s   00:00    \r\n"
       ]
      },
      {
       "output_type": "stream",
       "stream": "stdout",
       "text": [
        "\r",
        "1.144.O.s1c1.rearrange.fasta                    0%    0     0.0KB/s   --:-- ETA\r",
        "1.144.O.s1c1.rearrange.fasta                  100%   43KB  43.4KB/s   00:00    \r\n"
       ]
      },
      {
       "output_type": "stream",
       "stream": "stdout",
       "text": [
        "\r",
        "1.149.O.s1c1.rearrange.fasta                    0%    0     0.0KB/s   --:-- ETA\r",
        "1.149.O.s1c1.rearrange.fasta                  100%   47KB  47.4KB/s   00:00    \r\n"
       ]
      },
      {
       "output_type": "stream",
       "stream": "stdout",
       "text": [
        "\r",
        "1.151.O.s1c1.rearrange.fasta                    0%    0     0.0KB/s   --:-- ETA\r",
        "1.151.O.s1c1.rearrange.fasta                  100%   43KB  43.3KB/s   00:00    \r\n"
       ]
      },
      {
       "output_type": "stream",
       "stream": "stdout",
       "text": [
        "\r",
        "1.154.O.s1c1.rearrange.fasta                    0%    0     0.0KB/s   --:-- ETA\r",
        "1.154.O.s1c1.rearrange.fasta                  100%   36KB  36.3KB/s   00:00    \r\n"
       ]
      },
      {
       "output_type": "stream",
       "stream": "stdout",
       "text": [
        "\r",
        "1.173.O.s1c1.rearrange.fasta                    0%    0     0.0KB/s   --:-- ETA\r",
        "1.173.O.s1c1.rearrange.fasta                  100%   47KB  47.0KB/s   00:00    \r\n"
       ]
      },
      {
       "output_type": "stream",
       "stream": "stdout",
       "text": [
        "\r",
        "1.177.O.s1c1.rearrange.fasta                    0%    0     0.0KB/s   --:-- ETA\r",
        "1.177.O.s1c1.rearrange.fasta                  100%   44KB  44.4KB/s   00:00    \r\n"
       ]
      },
      {
       "output_type": "stream",
       "stream": "stdout",
       "text": [
        "\r",
        "1.178.O.s1c1.rearrange.fasta                    0%    0     0.0KB/s   --:-- ETA\r",
        "1.178.O.s1c1.rearrange.fasta                  100%   39KB  39.0KB/s   00:00    \r\n"
       ]
      },
      {
       "output_type": "stream",
       "stream": "stdout",
       "text": [
        "\r",
        "1.186.O.s1c1.rearrange.fasta                    0%    0     0.0KB/s   --:-- ETA\r",
        "1.186.O.s1c1.rearrange.fasta                  100%   48KB  47.5KB/s   00:00    \r\n"
       ]
      },
      {
       "output_type": "stream",
       "stream": "stdout",
       "text": [
        "\r",
        "1.197.A.s1c1.rearrange.fasta                    0%    0     0.0KB/s   --:-- ETA\r",
        "1.197.A.s1c1.rearrange.fasta                  100%   44KB  43.6KB/s   00:00    \r\n"
       ]
      },
      {
       "output_type": "stream",
       "stream": "stdout",
       "text": [
        "\r",
        "1.198.A.s1c1.rearrange.fasta                    0%    0     0.0KB/s   --:-- ETA\r",
        "1.198.A.s1c1.rearrange.fasta                  100%   43KB  43.4KB/s   00:00    \r\n"
       ]
      },
      {
       "output_type": "stream",
       "stream": "stdout",
       "text": [
        "\r",
        "1.198.B.s1c1.rearrange.fasta                    0%    0     0.0KB/s   --:-- ETA\r",
        "1.198.B.s1c1.rearrange.fasta                  100%   43KB  43.3KB/s   00:00    \r\n"
       ]
      },
      {
       "output_type": "stream",
       "stream": "stdout",
       "text": [
        "\r",
        "1.199.A.s1c1.rearrange.fasta                    0%    0     0.0KB/s   --:-- ETA\r",
        "1.199.A.s1c1.rearrange.fasta                  100%   47KB  47.2KB/s   00:00    \r\n"
       ]
      },
      {
       "output_type": "stream",
       "stream": "stdout",
       "text": [
        "\r",
        "1.199.B.s1c1.rearrange.fasta                    0%    0     0.0KB/s   --:-- ETA\r",
        "1.199.B.s1c1.rearrange.fasta                  100%   47KB  47.2KB/s   00:00    \r\n"
       ]
      },
      {
       "output_type": "stream",
       "stream": "stdout",
       "text": [
        "\r",
        "1.213.O.s1c1.rearrange.fasta                    0%    0     0.0KB/s   --:-- ETA\r",
        "1.213.O.s1c1.rearrange.fasta                  100%   41KB  41.5KB/s   00:00    \r\n"
       ]
      },
      {
       "output_type": "stream",
       "stream": "stdout",
       "text": [
        "\r",
        "1.216.O.s1c1.rearrange.fasta                    0%    0     0.0KB/s   --:-- ETA\r",
        "1.216.O.s1c1.rearrange.fasta                  100%   40KB  40.4KB/s   00:00    \r\n"
       ]
      },
      {
       "output_type": "stream",
       "stream": "stdout",
       "text": [
        "\r",
        "1.231.O.s1c1.rearrange.fasta                    0%    0     0.0KB/s   --:-- ETA\r",
        "1.231.O.s1c1.rearrange.fasta                  100%   43KB  43.5KB/s   00:00    \r\n"
       ]
      },
      {
       "output_type": "stream",
       "stream": "stdout",
       "text": [
        "\r",
        "1.232.O.s1c1.rearrange.fasta                    0%    0     0.0KB/s   --:-- ETA\r",
        "1.232.O.s1c1.rearrange.fasta                  100%   55KB  55.4KB/s   00:00    \r\n"
       ]
      },
      {
       "output_type": "stream",
       "stream": "stdout",
       "text": [
        "\r",
        "1.236.O.s1c1.rearrange.fasta                    0%    0     0.0KB/s   --:-- ETA\r",
        "1.236.O.s1c1.rearrange.fasta                  100%   42KB  41.7KB/s   00:00    \r\n"
       ]
      },
      {
       "output_type": "stream",
       "stream": "stdout",
       "text": [
        "\r",
        "1.243.O.s1c1.rearrange.fasta                    0%    0     0.0KB/s   --:-- ETA\r",
        "1.243.O.s1c1.rearrange.fasta                  100%   47KB  47.3KB/s   00:00    \r\n"
       ]
      },
      {
       "output_type": "stream",
       "stream": "stdout",
       "text": [
        "\r",
        "1.248.O.s1c1.rearrange.fasta                    0%    0     0.0KB/s   --:-- ETA\r",
        "1.248.O.s1c1.rearrange.fasta                  100%   47KB  47.2KB/s   00:00    \r\n"
       ]
      },
      {
       "output_type": "stream",
       "stream": "stdout",
       "text": [
        "\r",
        "1.256.O.s1c1.rearrange.fasta                    0%    0     0.0KB/s   --:-- ETA\r",
        "1.256.O.s1c1.rearrange.fasta                  100%   47KB  47.1KB/s   00:00    \r\n"
       ]
      },
      {
       "output_type": "stream",
       "stream": "stdout",
       "text": [
        "\r",
        "1.263.A.s1c1.rearrange.fasta                    0%    0     0.0KB/s   --:-- ETA\r",
        "1.263.A.s1c1.rearrange.fasta                  100%   48KB  48.5KB/s   00:00    \r\n"
       ]
      },
      {
       "output_type": "stream",
       "stream": "stdout",
       "text": [
        "\r",
        "1.263.B.s1c1.rearrange.fasta                    0%    0     0.0KB/s   --:-- ETA\r",
        "1.263.B.s1c1.rearrange.fasta                  100%   48KB  48.5KB/s   00:00    \r\n"
       ]
      },
      {
       "output_type": "stream",
       "stream": "stdout",
       "text": [
        "\r",
        "1.265.O.s1c1.rearrange.fasta                    0%    0     0.0KB/s   --:-- ETA\r",
        "1.265.O.s1c1.rearrange.fasta                  100%   43KB  42.6KB/s   00:00    \r\n"
       ]
      },
      {
       "output_type": "stream",
       "stream": "stdout",
       "text": [
        "\r",
        "1.273.O.s1c1.rearrange.fasta                    0%    0     0.0KB/s   --:-- ETA\r",
        "1.273.O.s1c1.rearrange.fasta                  100%   47KB  47.0KB/s   00:00    \r\n"
       ]
      },
      {
       "output_type": "stream",
       "stream": "stdout",
       "text": [
        "\r",
        "1.276.O.s1c1.rearrange.fasta                    0%    0     0.0KB/s   --:-- ETA\r",
        "1.276.O.s1c1.rearrange.fasta                  100%   43KB  43.3KB/s   00:00    \r\n"
       ]
      },
      {
       "output_type": "stream",
       "stream": "stdout",
       "text": [
        "\r",
        "1.278.O.s1c1.rearrange.fasta                    0%    0     0.0KB/s   --:-- ETA\r",
        "1.278.O.s1c1.rearrange.fasta                  100%   48KB  48.1KB/s   00:00    \r\n"
       ]
      },
      {
       "output_type": "stream",
       "stream": "stdout",
       "text": [
        "\r",
        "1.284.A.s1c1.rearrange.fasta                    0%    0     0.0KB/s   --:-- ETA\r",
        "1.284.A.s1c1.rearrange.fasta                  100%   45KB  44.6KB/s   00:00    \r\n"
       ]
      },
      {
       "output_type": "stream",
       "stream": "stdout",
       "text": [
        "\r",
        "1.286.O.s1c1.rearrange.fasta                    0%    0     0.0KB/s   --:-- ETA\r",
        "1.286.O.s1c1.rearrange.fasta                  100%   48KB  48.0KB/s   00:00    \r\n"
       ]
      },
      {
       "output_type": "stream",
       "stream": "stdout",
       "text": [
        "\r",
        "1.287.O.s1c1.rearrange.fasta                    0%    0     0.0KB/s   --:-- ETA\r",
        "1.287.O.s1c1.rearrange.fasta                  100%   45KB  44.5KB/s   00:00    \r\n"
       ]
      },
      {
       "output_type": "stream",
       "stream": "stdout",
       "text": [
        "\r",
        "1.289.A.s1c1.rearrange.fasta                    0%    0     0.0KB/s   --:-- ETA\r",
        "1.289.A.s1c1.rearrange.fasta                  100%   43KB  43.5KB/s   00:00    \r\n"
       ]
      },
      {
       "output_type": "stream",
       "stream": "stdout",
       "text": [
        "\r",
        "1.291.O.s1c1.rearrange.fasta                    0%    0     0.0KB/s   --:-- ETA\r",
        "1.291.O.s1c1.rearrange.fasta                  100%   43KB  42.7KB/s   00:00    \r\n"
       ]
      },
      {
       "output_type": "stream",
       "stream": "stdout",
       "text": [
        "\r",
        "2.095.A.s1c1.rearrange.fasta                    0%    0     0.0KB/s   --:-- ETA\r",
        "2.095.A.s1c1.rearrange.fasta                  100%   44KB  43.6KB/s   00:00    \r\n"
       ]
      },
      {
       "output_type": "stream",
       "stream": "stdout",
       "text": [
        "\r",
        "2.095.B.s1c1.rearrange.fasta                    0%    0     0.0KB/s   --:-- ETA\r",
        "2.095.B.s1c1.rearrange.fasta                  100%   44KB  43.6KB/s   00:00    \r\n"
       ]
      }
     ],
     "prompt_number": 37
    },
    {
     "cell_type": "code",
     "collapsed": false,
     "input": [],
     "language": "python",
     "metadata": {},
     "outputs": []
    },
    {
     "cell_type": "code",
     "collapsed": false,
     "input": [],
     "language": "python",
     "metadata": {},
     "outputs": []
    },
    {
     "cell_type": "code",
     "collapsed": false,
     "input": [],
     "language": "python",
     "metadata": {},
     "outputs": []
    },
    {
     "cell_type": "markdown",
     "metadata": {},
     "source": [
      "If these assemblies don't work well, perhaps I need to consider that this group matches terminases from phages with differing genome structures."
     ]
    },
    {
     "cell_type": "code",
     "collapsed": false,
     "input": [
      "%%R\n",
      "ktblast<-read.table(\"/Users/jmb/Desktop/KathrynDocs/ourTerminases-vs-NCBI-knownPack-prelim-033115KK.txt\", sep=\"\\t\", header=TRUE, fill=TRUE)\n",
      "egroup<-group_by(ktblast, Accession..E.value.)\n",
      "e_hit_sum<-summarise(egroup, count=n())\n",
      "categories<-read.table(\"/Users/jmb/Desktop/KathrynDocs/corrected_genome_categorization.txt\", header=TRUE, sep=\"\\t\")\n",
      "e_hit_sum$type<-categories$Virus.Type[match(e_hit_sum$Accession..E.value.,categories$Hit)]\n",
      "ktblast$type<-e_hit_sum$type[match(ktblast$Accession..E.value.,e_hit_sum$Accession..E.value.)]\n",
      "group1<-filter(ktblast, Genome.Cluster==\"CNSv2.0:1\")%>%group_by(., type)%>%summarise(.,count=n())\n",
      "group1"
     ],
     "language": "python",
     "metadata": {},
     "outputs": [],
     "prompt_number": 7
    },
    {
     "cell_type": "code",
     "collapsed": false,
     "input": [
      "%%R \n",
      "g1_p22<-filter(ktblast, Genome.Cluster==\"CNSv2.0:1\",type==\"P22-like headful (ES18 sub-group)\")\n",
      "g1_p22phages<-as.vector(g1_p22$Query.1)\n",
      "g1_p22phages"
     ],
     "language": "python",
     "metadata": {},
     "outputs": [
      {
       "metadata": {},
       "output_type": "display_data",
       "text": [
        " [1] \"1.003.O.\" \"1.007.O.\" \"1.036.O.\" \"1.039.O.\" \"1.052.A.\" \"1.059.A.\"\n",
        " [7] \"1.061.O.\" \"1.067.O.\" \"1.073.O.\" \"1.079.O.\" \"1.090.B.\" \"1.091.O.\"\n",
        "[13] \"1.105.O.\" \"1.106.O.\" \"1.114.O.\" \"1.123.O.\" \"1.135.O.\" \"1.137.O.\"\n",
        "[19] \"1.144.O.\" \"1.149.O.\" \"1.173.O.\" \"1.177.O.\" \"1.186.O.\" \"1.199.A.\"\n",
        "[25] \"1.199.B.\" \"1.213.O.\" \"1.216.O.\" \"1.236.O.\" \"1.243.O.\" \"1.248.O.\"\n",
        "[31] \"1.256.O.\" \"1.263.A.\" \"1.263.B.\" \"1.273.O.\" \"1.278.O.\" \"1.286.O.\"\n",
        "[37] \"1.016.O.\" \"1.042.O.\" \"1.071.A.\" \"1.071.B.\" \"1.071.C.\" \"1.071.D.\"\n",
        "[43] \"1.112.O.\" \"1.151.O.\"\n"
       ]
      }
     ],
     "prompt_number": 16
    },
    {
     "cell_type": "code",
     "collapsed": false,
     "input": [
      "%Rpull g1_p22phages\n",
      "#treat just like group4 phages:\n",
      "from Bio.Seq import Seq\n",
      "import os.path\n",
      "\n",
      "\n",
      "groupfile=g1_p22phages\n",
      "\n",
      "for phage in groupfile:\n",
      "    if os.path.exists(phage+\"genes\"):\n",
      "        #Create dictionary of identity and location of prodigal calls for phage genome\n",
      "        gene_tbl=open(phage+\"genes\").readlines()     #open prodigal gene table for phage genome\n",
      "        loc=[]\n",
      "        nam=[]\n",
      "        for line in gene_tbl[2:]:\n",
      "            here=line.split()\n",
      "            if here[0]==\"CDS\":\n",
      "                loc.append(here[1])\n",
      "            else:\n",
      "                info=here[0].split(\";\")\n",
      "                there=info[0].split(\"=\")\n",
      "                if len(there)==3:\n",
      "                    nam.append(\"contig_\"+there[2])\n",
      "        dict1=dict(zip(nam,loc))                  #create dictionary of the location of each orf by prodigal-assigned name\n",
      "        blast=open(phage+\"prodprot.vs.lg.terminases.txt\").readlines() \n",
      "        terminase_hits=[]\n",
      "        e_values=[]\n",
      "        best_evalue=1\n",
      "        best_e_line=\"\"\n",
      "        for line in blast:\n",
      "            if line.split(\"\\t\")[0] not in terminase_hits:\n",
      "                terminase_hits.append(line.split(\"\\t\")[0])\n",
      "                e_values.append(line.split(\"\\t\")[10])  \n",
      "\n",
      "            if float(line.split(\"\\t\")[10])<best_evalue:\n",
      "                best_evalue=float(line.split(\"\\t\")[10])\n",
      "                orf=line.split(\"\\t\")[0]\n",
      "\n",
      "        value=dict1[orf]                                                    #pull out location of BLAST-identified terminase\n",
      "        if value.startswith(\"complement\"):                                  #determine orientation of orf and\n",
      "            adjust=orf.split(\"_\")                                           #identification of start of gene upstream of terminase large subunit\n",
      "            orientation=\"reverse\"\n",
      "            key2=adjust[0]+\"_\"+adjust[1]+\"_\"+str(int(adjust[2])+1)\n",
      "            value2=dict1.get(key2,0)\n",
      "            if dict1.get(key2,0)!=0:                                           \n",
      "\n",
      "                vec1=value2.split(\"(\")\n",
      "                vec2=vec1[1].split(\"..\")\n",
      "                start=vec2[1].replace(\">\",\"\").replace(\")\",\"\")\n",
      "                stop=vec2[0].replace(\">\",\"\").replace(\")\",\"\")\n",
      "\n",
      "            else:\n",
      "                print(\"end of contig reverse\")\n",
      "                key2=adjust[0]+\"_\"+adjust[1]+\"_1\"\n",
      "                orientation=\"reverse\"\n",
      "                value2=dict1.get(key2,\"end of contig\")\n",
      "                vec1=value2.split(\"(\")\n",
      "                vec2=vec1[1].split(\"..\")\n",
      "                start=vec2[0].replace(\">\",\"\").replace(\")\",\"\")\n",
      "                stop=vec2[1].replace(\">\",\"\").replace(\")\",\"\")\n",
      "\n",
      "        else:\n",
      "            adjust=orf.split(\"_\")\n",
      "            key2=adjust[0]+\"_\"+adjust[1]+\"_\"+str(int(adjust[2])-1)\n",
      "            orientation=\"forward\"\n",
      "            if dict1.get(key2,0)!=0:\n",
      "                value2=dict1.get(key2,\"end of contig\")\n",
      "                vec2=value2.split(\"..\")\n",
      "                start=vec2[0].replace(\">\",\"\").replace(\")\",\"\")\n",
      "                stop=vec2[1].replace(\">\",\"\").replace(\")\",\"\")      \n",
      "            else:\n",
      "                print(\"end of contig forward\")\n",
      "                orf_num=len(dict1)\n",
      "                key2=adjust[0]+\"_\"+adjust[1]+\"_\"+str(orf_num)\n",
      "                if \">\" in dict1.get(key2,0):\n",
      "                    key2=adjust[0]+\"_\"+adjust[1]+\"_\"+str(orf_num-1)\n",
      "                value2=dict1.get(key2, 0)\n",
      "                vec2=value2.split(\"..\")\n",
      "                start=vec2[0].replace(\">\",\"\").replace(\")\",\"\")\n",
      "                stop=vec2[1].replace(\">\",\"\").replace(\")\",\"\")\n",
      "        fastafile=phage+\"step1.contig1.fasta\"\n",
      "        f=open(fastafile)                                       #open fasta file\n",
      "        sequence=\"\"\n",
      "        for row in f:                           #define title and sequences\n",
      "            if row.startswith(\">\"):\n",
      "                title=row\n",
      "            else:\n",
      "                sequence+=row\n",
      "        sequence=sequence.replace(\"\\n\",\"\")\n",
      "\n",
      "        if start!=0:\n",
      "            outfile=open(phage+\"s1c1.rearrange.fasta\",\"w\")\n",
      "            upstream=sequence[0:int(start)-1]                    #id sequence before start of small subunit terminase\n",
      "            downstream=sequence[int(start)-1:]                   #id sequence after start of small subunit terminase \n",
      "            rearrange=downstream+upstream                        #re-arrange contigs so that small subunit terminase start is at end of contig\n",
      "            if orientation==\"reverse\":                           #reverse-complement the genome if terminase gene is in reverse orientation\n",
      "                seq=Seq(rearrange)\n",
      "                out_seq=seq.reverse_complement()\n",
      "                outfile.write(\">\"+phage+\"\\n\"+str(out_seq))\n",
      "            else:\n",
      "                outfile.write(\">\"+phage+\"\\n\"+rearrange)\n",
      "\n",
      "        outfile.close()\n",
      "        print(phage+\" done!\")\n",
      "    else:\n",
      "        print(phage+\" sequence file does not exist\")"
     ],
     "language": "python",
     "metadata": {},
     "outputs": [
      {
       "output_type": "stream",
       "stream": "stdout",
       "text": [
        "1.003.O. done!\n",
        "1.007.O. done!\n",
        "1.036.O. done!\n",
        "end of contig forward\n",
        "1.039.O. done!\n",
        "1.052.A. done!\n",
        "1.059.A. sequence file does not exist\n",
        "1.061.O. done!\n",
        "1.067.O. done!\n",
        "1.073.O. sequence file does not exist\n",
        "1.079.O. done!\n",
        "1.090.B. done!\n",
        "1.091.O. done!\n",
        "1.105.O. done!\n",
        "1.106.O. done!\n",
        "1.114.O. sequence file does not exist\n",
        "1.123.O. done!\n",
        "1.135.O. done!\n",
        "1.137.O. done!\n",
        "1.144.O. done!\n",
        "1.149.O. done!\n",
        "1.173.O. done!\n",
        "1.177.O. done!\n",
        "1.186.O. done!\n",
        "1.199.A. done!\n",
        "1.199.B. done!\n",
        "1.213.O. done!\n",
        "1.216.O. done!\n",
        "1.236.O. done!\n",
        "1.243.O. done!\n",
        "1.248.O. done!\n",
        "1.256.O. done!\n",
        "1.263.A. done!\n",
        "1.263.B. done!\n",
        "1.273.O. done!\n",
        "1.278.O. done!\n",
        "1.286.O. done!\n",
        "1.016.O. done!\n",
        "1.042.O. done!\n",
        "1.071.A. done!\n",
        "1.071.B. sequence file does not exist\n",
        "1.071.C. sequence file does not exist\n",
        "1.071.D. sequence file does not exist\n",
        "1.112.O. done!\n",
        "1.151.O. done!\n"
       ]
      }
     ],
     "prompt_number": 28
    },
    {
     "cell_type": "code",
     "collapsed": false,
     "input": [
      "import glob\n",
      "out=open(\"move_pdfs.txt\",\"w\")\n",
      "pdf_files=glob.glob(\"*pdf\")\n",
      "gencov=glob.glob(\"*genomecoverage*\")\n",
      "print(len(gencov))\n",
      "print(len(group1))"
     ],
     "language": "python",
     "metadata": {},
     "outputs": [
      {
       "output_type": "stream",
       "stream": "stdout",
       "text": [
        "62\n",
        "62\n"
       ]
      }
     ],
     "prompt_number": 42
    },
    {
     "cell_type": "code",
     "collapsed": false,
     "input": [
      "for line in groupfile:\n",
      "    out.write(\"mv \"+line+\"*pdf ./p22_like\\n\")\n",
      "out.close()\n",
      "!open move_pdfs.txt -a textedit"
     ],
     "language": "python",
     "metadata": {},
     "outputs": [],
     "prompt_number": 32
    },
    {
     "cell_type": "code",
     "collapsed": false,
     "input": [],
     "language": "python",
     "metadata": {},
     "outputs": []
    }
   ],
   "metadata": {}
  }
 ]
}