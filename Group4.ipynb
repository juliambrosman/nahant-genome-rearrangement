{
 "metadata": {
  "name": "",
  "signature": "sha256:ee60d69fc6d2729f9a91f85f986d51b20c3316b8d42df0825c2e3f37dbb3f7af"
 },
 "nbformat": 3,
 "nbformat_minor": 0,
 "worksheets": [
  {
   "cells": [
    {
     "cell_type": "code",
     "collapsed": false,
     "input": [
      "group=\"group4\""
     ],
     "language": "python",
     "metadata": {},
     "outputs": [],
     "prompt_number": 1
    },
    {
     "cell_type": "code",
     "collapsed": false,
     "input": [
      "pwd"
     ],
     "language": "python",
     "metadata": {},
     "outputs": [
      {
       "metadata": {},
       "output_type": "pyout",
       "prompt_number": 2,
       "text": [
        "u'/Users/jmb/Desktop/ViralFate/PhageGenomeAssembly'"
       ]
      }
     ],
     "prompt_number": 2
    },
    {
     "cell_type": "code",
     "collapsed": false,
     "input": [],
     "language": "python",
     "metadata": {},
     "outputs": [],
     "prompt_number": 36
    },
    {
     "cell_type": "code",
     "collapsed": false,
     "input": [
      "import os\n",
      "\n",
      "prelim_groups=open(\"phage_by_group.txt\")\n",
      "phage_grp={}\n",
      "for line in prelim_groups.readlines():\n",
      "    line=line.rstrip(\"\\n\")\n",
      "    vec=line.split(\"\\t\")\n",
      "    phage_grp[vec[0]]=vec[1]\n",
      "groups=list(phage_grp.values())\n",
      "unique=[]\n",
      "for value in groups:\n",
      "    if value not in unique:\n",
      "        unique.append(value)"
     ],
     "language": "python",
     "metadata": {},
     "outputs": [],
     "prompt_number": 2
    },
    {
     "cell_type": "code",
     "collapsed": false,
     "input": [
      "group4=[]\n",
      "for value in phage_grp.keys():\n",
      "    if phage_grp.get(value)=='CNSv2.0:4':\n",
      "        group4.append(value)\n",
      "group4"
     ],
     "language": "python",
     "metadata": {},
     "outputs": [
      {
       "metadata": {},
       "output_type": "pyout",
       "prompt_number": 3,
       "text": [
        "['1.237.B.',\n",
        " '1.267.O.',\n",
        " '1.196.O.',\n",
        " '1.195.O.',\n",
        " '1.277.A.',\n",
        " '1.104.O.',\n",
        " '1.271.B.',\n",
        " '1.118.B.',\n",
        " '1.200.O.',\n",
        " '1.281.O.',\n",
        " '1.012.O.',\n",
        " '1.194.O.',\n",
        " '1.269.O.',\n",
        " '1.027.O.',\n",
        " '1.046.O.',\n",
        " '1.250.O.',\n",
        " '1.272.O.',\n",
        " '1.270.B.',\n",
        " '1.089.O.',\n",
        " '1.088.O.',\n",
        " '1.274.O.',\n",
        " '1.271.A.',\n",
        " '1.023.O.',\n",
        " '1.171.O.',\n",
        " '1.277.B.',\n",
        " '1.103.O.',\n",
        " '1.022.O.',\n",
        " '1.251.O.',\n",
        " '1.268.A.',\n",
        " '1.024.O.',\n",
        " '1.160.O.',\n",
        " '1.118.A.',\n",
        " '1.280.O.',\n",
        " '1.283.A.',\n",
        " '1.283.C.',\n",
        " '1.237.A.',\n",
        " '1.270.A.',\n",
        " '1.098.O.',\n",
        " '1.032.O.',\n",
        " '1.268.B.',\n",
        " '1.283.B.',\n",
        " '1.285.O.',\n",
        " '1.282.A.',\n",
        " '1.033.O.']"
       ]
      }
     ],
     "prompt_number": 3
    },
    {
     "cell_type": "code",
     "collapsed": false,
     "input": [],
     "language": "python",
     "metadata": {},
     "outputs": [],
     "prompt_number": 5
    },
    {
     "cell_type": "code",
     "collapsed": false,
     "input": [],
     "language": "python",
     "metadata": {},
     "outputs": [],
     "prompt_number": 32
    },
    {
     "cell_type": "code",
     "collapsed": false,
     "input": [
      "import os\n",
      "#os.mkdir(group)\n",
      "os.chdir(\"./\"+group)"
     ],
     "language": "python",
     "metadata": {},
     "outputs": [],
     "prompt_number": 5
    },
    {
     "cell_type": "code",
     "collapsed": false,
     "input": [
      "output=open(\"./move_\"+group+\".sh\",\"w\")\n",
      "output.write(\"mkdir \"+group+\"\\n\")\n",
      "for line in group4:\n",
      "    output.write(\"mv \"+line+\"*fastq ./\"+group+\"/\\n\")\n",
      "output.close()"
     ],
     "language": "python",
     "metadata": {},
     "outputs": [],
     "prompt_number": 6
    },
    {
     "cell_type": "code",
     "collapsed": false,
     "input": [
      "!scp move_group4.sh jbrown@eofe4.mit.edu:/nobackup1/jbrown/nahant_phage_reads/"
     ],
     "language": "python",
     "metadata": {},
     "outputs": [
      {
       "output_type": "stream",
       "stream": "stdout",
       "text": [
        "\r",
        "move_group4.sh                                  0%    0     0.0KB/s   --:-- ETA\r",
        "move_group4.sh                                100% 1245     1.2KB/s   00:00    \r\n"
       ]
      }
     ],
     "prompt_number": 7
    },
    {
     "cell_type": "code",
     "collapsed": false,
     "input": [
      "On the server:\n",
      "ls *fastq>group4_fastqlist.txt"
     ],
     "language": "python",
     "metadata": {},
     "outputs": []
    },
    {
     "cell_type": "code",
     "collapsed": false,
     "input": [
      "!scp jbrown@eofe4.mit.edu:/nobackup1/jbrown/nahant_phage_reads/group4/group*_fastqlist.txt ./"
     ],
     "language": "python",
     "metadata": {},
     "outputs": [
      {
       "output_type": "stream",
       "stream": "stdout",
       "text": [
        "\r",
        "group4_fastqlist.txt                            0%    0     0.0KB/s   --:-- ETA\r",
        "group4_fastqlist.txt                          100% 1286     1.3KB/s   00:00    \r\n"
       ]
      }
     ],
     "prompt_number": 8
    },
    {
     "cell_type": "code",
     "collapsed": false,
     "input": [
      "def step1_script(fastq_list):\n",
      "    fastq=open(fastq_list)\n",
      "    program=open(\"step1.sh\",\"a\")\n",
      "    for name in fastq:\n",
      "        vec=name.split(\"_\")\n",
      "        heading=vec[0]\n",
      "        program.write(\"\\n\\n#\"+name+\"\\nclc_assembler -o \"+heading+\"step1.clc.fasta -m 500 -p fb ss 100 300 -q \"+ name+\"\\nclc_mapper -o \"+heading+\"step1.cas -p fb ss 100 300 -q \"+name.replace(\"\\n\",\"\")+\" -d \"+heading+\"step1.clc.fasta -a local -r ignore\\nclc_cas_to_sam -a \"+heading+\"step1.cas -o \"+heading+\"step1.bam\\n\\nsamtools sort \"+heading+\"step1.bam 1.025.O.sorted\\nsamtools index \"+heading+\"sorted.bam\\nbedtools genomecov -ibam \"+heading+\"step1.bam -d >\"+heading+\"step1.genomecoverage.txt\")\n",
      "    program.close()"
     ],
     "language": "python",
     "metadata": {},
     "outputs": [],
     "prompt_number": 9
    },
    {
     "cell_type": "code",
     "collapsed": false,
     "input": [
      "step1_script(group+\"_fastqlist.txt\")"
     ],
     "language": "python",
     "metadata": {},
     "outputs": [],
     "prompt_number": 10
    },
    {
     "cell_type": "code",
     "collapsed": false,
     "input": [
      "!open step1.sh -a textedit"
     ],
     "language": "python",
     "metadata": {},
     "outputs": [],
     "prompt_number": 11
    },
    {
     "cell_type": "raw",
     "metadata": {},
     "source": [
      "#add heading to step1.sh:\n",
      "\n",
      "#!/bin/bash                                                                                                                                                                \n",
      "#SBATCH -n 16                                                                                                                                                              \n",
      "#SBATCH -N 1                                   # minimum number of nodes                                                                                                                            \n",
      "#SBATCH -o step1.out      # File to which STDOUT will be written                                                                                   \n",
      "#SBATCH -e step1.err      # File to which STDERR will be written                                                                                   \n",
      "#SBATCH -p newnodes                # name of partition to use                                                                                                                                  \n",
      "\n",
      "module add engaging/clc-assembly-cell\n",
      "module add engaging/samtools/1.1\n",
      "module add engaging/bedtools/2.22.1\n"
     ]
    },
    {
     "cell_type": "code",
     "collapsed": false,
     "input": [
      "!scp step1.sh jbrown@eofe4.mit.edu:/nobackup1/jbrown/nahant_phage_reads/group4/"
     ],
     "language": "python",
     "metadata": {},
     "outputs": [
      {
       "output_type": "stream",
       "stream": "stdout",
       "text": [
        "\r",
        "step1.sh                                        0%    0     0.0KB/s   --:-- ETA\r",
        "step1.sh                                      100%   22KB  21.6KB/s   00:00    \r\n"
       ]
      }
     ],
     "prompt_number": 12
    },
    {
     "cell_type": "raw",
     "metadata": {},
     "source": [
      "#on the server:\n",
      "sbatch step1.sh"
     ]
    },
    {
     "cell_type": "code",
     "collapsed": false,
     "input": [],
     "language": "python",
     "metadata": {},
     "outputs": []
    }
   ],
   "metadata": {}
  }
 ]
}