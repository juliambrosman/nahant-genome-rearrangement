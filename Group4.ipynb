{
 "metadata": {
  "name": "",
  "signature": "sha256:a9eac344d97d7c69d109d00de276a555a8b66955e1c5193492bb7903b7a77af5"
 },
 "nbformat": 3,
 "nbformat_minor": 0,
 "worksheets": [
  {
   "cells": [
    {
     "cell_type": "code",
     "collapsed": false,
     "input": [
      "group=\"group4\""
     ],
     "language": "python",
     "metadata": {},
     "outputs": [],
     "prompt_number": 1
    },
    {
     "cell_type": "code",
     "collapsed": false,
     "input": [
      "pwd"
     ],
     "language": "python",
     "metadata": {},
     "outputs": [
      {
       "metadata": {},
       "output_type": "pyout",
       "prompt_number": 2,
       "text": [
        "u'/Users/jmb/Desktop/ViralFate/PhageGenomeAssembly'"
       ]
      }
     ],
     "prompt_number": 2
    },
    {
     "cell_type": "code",
     "collapsed": false,
     "input": [
      "import os\n",
      "\n",
      "prelim_groups=open(\"phage_by_group.txt\")\n",
      "phage_grp={}\n",
      "for line in prelim_groups.readlines():\n",
      "    line=line.rstrip(\"\\n\")\n",
      "    vec=line.split(\"\\t\")\n",
      "    phage_grp[vec[0]]=vec[1]\n",
      "groups=list(phage_grp.values())\n",
      "unique=[]\n",
      "for value in groups:\n",
      "    if value not in unique:\n",
      "        unique.append(value)"
     ],
     "language": "python",
     "metadata": {},
     "outputs": [],
     "prompt_number": 3
    },
    {
     "cell_type": "code",
     "collapsed": false,
     "input": [
      "group4=[]\n",
      "for value in phage_grp.keys():\n",
      "    if phage_grp.get(value)=='CNSv2.0:4':\n",
      "        group4.append(value)\n",
      "group4"
     ],
     "language": "python",
     "metadata": {},
     "outputs": [
      {
       "metadata": {},
       "output_type": "pyout",
       "prompt_number": 4,
       "text": [
        "['1.237.B.',\n",
        " '1.267.O.',\n",
        " '1.196.O.',\n",
        " '1.195.O.',\n",
        " '1.277.A.',\n",
        " '1.104.O.',\n",
        " '1.271.B.',\n",
        " '1.118.B.',\n",
        " '1.200.O.',\n",
        " '1.281.O.',\n",
        " '1.012.O.',\n",
        " '1.194.O.',\n",
        " '1.269.O.',\n",
        " '1.027.O.',\n",
        " '1.046.O.',\n",
        " '1.250.O.',\n",
        " '1.272.O.',\n",
        " '1.270.B.',\n",
        " '1.089.O.',\n",
        " '1.088.O.',\n",
        " '1.274.O.',\n",
        " '1.271.A.',\n",
        " '1.023.O.',\n",
        " '1.171.O.',\n",
        " '1.277.B.',\n",
        " '1.103.O.',\n",
        " '1.022.O.',\n",
        " '1.251.O.',\n",
        " '1.268.A.',\n",
        " '1.024.O.',\n",
        " '1.160.O.',\n",
        " '1.118.A.',\n",
        " '1.280.O.',\n",
        " '1.283.A.',\n",
        " '1.283.C.',\n",
        " '1.237.A.',\n",
        " '1.270.A.',\n",
        " '1.098.O.',\n",
        " '1.032.O.',\n",
        " '1.268.B.',\n",
        " '1.283.B.',\n",
        " '1.285.O.',\n",
        " '1.282.A.',\n",
        " '1.033.O.']"
       ]
      }
     ],
     "prompt_number": 4
    },
    {
     "cell_type": "code",
     "collapsed": false,
     "input": [
      "import os\n",
      "#os.mkdir(group)\n",
      "os.chdir(\"./\"+group)"
     ],
     "language": "python",
     "metadata": {},
     "outputs": [],
     "prompt_number": 5
    },
    {
     "cell_type": "code",
     "collapsed": false,
     "input": [],
     "language": "python",
     "metadata": {},
     "outputs": [],
     "prompt_number": 4
    },
    {
     "cell_type": "code",
     "collapsed": false,
     "input": [],
     "language": "python",
     "metadata": {},
     "outputs": [],
     "prompt_number": 5
    },
    {
     "cell_type": "code",
     "collapsed": false,
     "input": [],
     "language": "python",
     "metadata": {},
     "outputs": [],
     "prompt_number": 5
    },
    {
     "cell_type": "code",
     "collapsed": false,
     "input": [],
     "language": "python",
     "metadata": {},
     "outputs": [],
     "prompt_number": 32
    },
    {
     "cell_type": "code",
     "collapsed": false,
     "input": [
      "output=open(\"./move_\"+group+\".sh\",\"w\")\n",
      "output.write(\"mkdir \"+group+\"\\n\")\n",
      "for line in group4:\n",
      "    output.write(\"mv \"+line+\"*fastq ./\"+group+\"/\\n\")\n",
      "output.close()"
     ],
     "language": "python",
     "metadata": {},
     "outputs": [],
     "prompt_number": 6
    },
    {
     "cell_type": "code",
     "collapsed": false,
     "input": [
      "!scp move_group4.sh jbrown@eofe4.mit.edu:/nobackup1/jbrown/nahant_phage_reads/"
     ],
     "language": "python",
     "metadata": {},
     "outputs": [
      {
       "output_type": "stream",
       "stream": "stdout",
       "text": [
        "\r",
        "move_group4.sh                                  0%    0     0.0KB/s   --:-- ETA\r",
        "move_group4.sh                                100% 1245     1.2KB/s   00:00    \r\n"
       ]
      }
     ],
     "prompt_number": 7
    },
    {
     "cell_type": "code",
     "collapsed": false,
     "input": [
      "On the server:\n",
      "ls *fastq>group4_fastqlist.txt"
     ],
     "language": "python",
     "metadata": {},
     "outputs": []
    },
    {
     "cell_type": "code",
     "collapsed": false,
     "input": [
      "!scp jbrown@eofe4.mit.edu:/nobackup1/jbrown/nahant_phage_reads/group4/group*_fastqlist.txt ./"
     ],
     "language": "python",
     "metadata": {},
     "outputs": [
      {
       "output_type": "stream",
       "stream": "stdout",
       "text": [
        "\r",
        "group4_fastqlist.txt                            0%    0     0.0KB/s   --:-- ETA\r",
        "group4_fastqlist.txt                          100% 1286     1.3KB/s   00:00    \r\n"
       ]
      }
     ],
     "prompt_number": 8
    },
    {
     "cell_type": "code",
     "collapsed": false,
     "input": [],
     "language": "python",
     "metadata": {},
     "outputs": [],
     "prompt_number": 9
    },
    {
     "cell_type": "code",
     "collapsed": false,
     "input": [
      "step1c1=open(\"step1.contig1.sh\",\"w\")\n",
      "step1c1.write(\"#!/bin/bash\\n#SBATCH -n 16\\n#SBATCH -N 1\\n#SBATCH -o s1c1.out\\n#SBATCH -e s1c1.err\\n#SBATCH -p newnodes\\n\\n\")\n",
      "step1c1.write(\"module add engaging/clc-assembly-cell\\nmodule add engaging/samtools/1.1\\nmodule add engaging/bedtools/2.22.1\\n\\n\")\n",
      "for line in group4:\n",
      "    name=line.rstrip(\"\\n\")\n",
      "    step1c1.write(\"\\n\\n#\"+name+\"\\nclc_assembler -o \"+name+\"step1.clc.fasta -m 500 -p fb ss 100 300 -q \"+ name+\"*.fastq\\n\")\n",
      "    step1c1.write(\"samtools faidx \"+name+\"step1.clc.fasta 'contig_1'>\"+name+\"step1.contig1.fasta\\n\\nclc_mapper -o \"+name+\"step1.contig1.cas -p fb ss 100 300 -q \"+name+\"*.fastq -d \"+name+\"step1.contig1.fasta -a local -r ignore\\n\")\n",
      "    step1c1.write(\"clc_cas_to_sam -a \"+name+\"step1.contig1.cas -o \"+name+\"step1.contig1.bam\\n\\nsamtools sort \"+name+\"step1.contig1.bam \"+name+\"sorted.step1.contig1\\nsamtools index \"+name+\"sorted.step1.contig1.bam\\n\\nbedtools genomecov -ibam \"+name+\"sorted.step1.contig1.bam -d > \"+name+\"step1.contig1.genomecoverage.txt\\n\\n\")\n",
      "step1c1.close()"
     ],
     "language": "python",
     "metadata": {},
     "outputs": [],
     "prompt_number": 22
    },
    {
     "cell_type": "code",
     "collapsed": false,
     "input": [],
     "language": "python",
     "metadata": {},
     "outputs": [],
     "prompt_number": 10
    },
    {
     "cell_type": "code",
     "collapsed": false,
     "input": [
      "!open step1.contig1.sh -a textedit"
     ],
     "language": "python",
     "metadata": {},
     "outputs": [],
     "prompt_number": 20
    },
    {
     "cell_type": "raw",
     "metadata": {},
     "source": []
    },
    {
     "cell_type": "code",
     "collapsed": false,
     "input": [
      "!scp step1.contig1.sh jbrown@eofe4.mit.edu:/nobackup1/jbrown/nahant_phage_reads/group4/"
     ],
     "language": "python",
     "metadata": {},
     "outputs": [
      {
       "output_type": "stream",
       "stream": "stdout",
       "text": [
        "\r",
        "step1.contig1.sh                                0%    0     0.0KB/s   --:-- ETA\r",
        "step1.contig1.sh                              100%   26KB  25.9KB/s   00:00    \r\n"
       ]
      }
     ],
     "prompt_number": 23
    },
    {
     "cell_type": "raw",
     "metadata": {},
     "source": [
      "#on the server:\n",
      "sbatch step1.contig1.sh"
     ]
    },
    {
     "cell_type": "code",
     "collapsed": false,
     "input": [
      "pwd"
     ],
     "language": "python",
     "metadata": {},
     "outputs": [
      {
       "metadata": {},
       "output_type": "pyout",
       "prompt_number": 24,
       "text": [
        "u'/Users/jmb/Desktop/ViralFate/PhageGenomeAssembly/group4'"
       ]
      }
     ],
     "prompt_number": 24
    },
    {
     "cell_type": "code",
     "collapsed": false,
     "input": [
      "!scp jbrown@eofe4.mit.edu:/nobackup1/jbrown/nahant_phage_reads/group4/*genomecoverage* ./"
     ],
     "language": "python",
     "metadata": {},
     "outputs": [
      {
       "output_type": "stream",
       "stream": "stdout",
       "text": [
        "\r",
        "1.012.O.step1.contig1.genomecoverage.txt        0%    0     0.0KB/s   --:-- ETA"
       ]
      },
      {
       "output_type": "stream",
       "stream": "stdout",
       "text": [
        "\r",
        "1.012.O.step1.contig1.genomecoverage.txt      100% 1181KB   1.2MB/s   00:00    \r\n"
       ]
      },
      {
       "output_type": "stream",
       "stream": "stdout",
       "text": [
        "\r",
        "1.022.O.step1.contig1.genomecoverage.txt        0%    0     0.0KB/s   --:-- ETA"
       ]
      },
      {
       "output_type": "stream",
       "stream": "stdout",
       "text": [
        "\r",
        "1.022.O.step1.contig1.genomecoverage.txt      100% 1148KB   1.1MB/s   00:00    \r\n",
        "\r",
        "1.023.O.step1.contig1.genomecoverage.txt        0%    0     0.0KB/s   --:-- ETA"
       ]
      },
      {
       "output_type": "stream",
       "stream": "stdout",
       "text": [
        "\r",
        "1.023.O.step1.contig1.genomecoverage.txt      100% 1100KB   1.1MB/s   00:00    \r\n"
       ]
      },
      {
       "output_type": "stream",
       "stream": "stdout",
       "text": [
        "\r",
        "1.024.O.step1.contig1.genomecoverage.txt        0%    0     0.0KB/s   --:-- ETA"
       ]
      },
      {
       "output_type": "stream",
       "stream": "stdout",
       "text": [
        "\r",
        "1.024.O.step1.contig1.genomecoverage.txt      100% 1141KB   1.1MB/s   00:01    \r\n",
        "\r",
        "1.027.O.step1.contig1.genomecoverage.txt        0%    0     0.0KB/s   --:-- ETA"
       ]
      },
      {
       "output_type": "stream",
       "stream": "stdout",
       "text": [
        "\r",
        "1.027.O.step1.contig1.genomecoverage.txt      100% 1089KB   1.1MB/s   00:00    \r\n",
        "\r",
        "1.032.O.step1.contig1.genomecoverage.txt        0%    0     0.0KB/s   --:-- ETA"
       ]
      },
      {
       "output_type": "stream",
       "stream": "stdout",
       "text": [
        "\r",
        "1.032.O.step1.contig1.genomecoverage.txt      100% 1177KB   1.2MB/s   00:00    \r\n"
       ]
      },
      {
       "output_type": "stream",
       "stream": "stdout",
       "text": [
        "\r",
        "1.033.O.step1.contig1.genomecoverage.txt        0%    0     0.0KB/s   --:-- ETA"
       ]
      },
      {
       "output_type": "stream",
       "stream": "stdout",
       "text": [
        "\r",
        "1.033.O.step1.contig1.genomecoverage.txt      100% 1189KB   1.2MB/s   00:00    \r\n",
        "\r",
        "1.046.O.step1.contig1.genomecoverage.txt        0%    0     0.0KB/s   --:-- ETA"
       ]
      },
      {
       "output_type": "stream",
       "stream": "stdout",
       "text": [
        "\r",
        "1.046.O.step1.contig1.genomecoverage.txt      100% 1211KB   1.2MB/s   00:01    \r\n",
        "\r",
        "1.088.O.step1.contig1.genomecoverage.txt        0%    0     0.0KB/s   --:-- ETA"
       ]
      },
      {
       "output_type": "stream",
       "stream": "stdout",
       "text": [
        "\r",
        "1.088.O.step1.contig1.genomecoverage.txt      100% 1110KB   1.1MB/s   00:00    \r\n"
       ]
      },
      {
       "output_type": "stream",
       "stream": "stdout",
       "text": [
        "\r",
        "1.089.O.step1.contig1.genomecoverage.txt        0%    0     0.0KB/s   --:-- ETA"
       ]
      },
      {
       "output_type": "stream",
       "stream": "stdout",
       "text": [
        "\r",
        "1.089.O.step1.contig1.genomecoverage.txt      100% 1089KB   1.1MB/s   00:00    \r\n",
        "\r",
        "1.098.O.step1.contig1.genomecoverage.txt        0%    0     0.0KB/s   --:-- ETA"
       ]
      },
      {
       "output_type": "stream",
       "stream": "stdout",
       "text": [
        "\r",
        "1.098.O.step1.contig1.genomecoverage.txt      100% 1099KB   1.1MB/s   00:00    \r\n",
        "\r",
        "1.103.O.step1.contig1.genomecoverage.txt        0%    0     0.0KB/s   --:-- ETA"
       ]
      },
      {
       "output_type": "stream",
       "stream": "stdout",
       "text": [
        "\r",
        "1.103.O.step1.contig1.genomecoverage.txt      100% 1135KB   1.1MB/s   00:00    \r\n"
       ]
      },
      {
       "output_type": "stream",
       "stream": "stdout",
       "text": [
        "\r",
        "1.104.O.step1.contig1.genomecoverage.txt        0%    0     0.0KB/s   --:-- ETA"
       ]
      },
      {
       "output_type": "stream",
       "stream": "stdout",
       "text": [
        "\r",
        "1.104.O.step1.contig1.genomecoverage.txt      100% 1116KB   1.1MB/s   00:01    \r\n"
       ]
      },
      {
       "output_type": "stream",
       "stream": "stdout",
       "text": [
        "\r",
        "1.118.A.step1.contig1.genomecoverage.txt        0%    0     0.0KB/s   --:-- ETA"
       ]
      },
      {
       "output_type": "stream",
       "stream": "stdout",
       "text": [
        "\r",
        "1.118.A.step1.contig1.genomecoverage.txt      100% 1111KB   1.1MB/s   00:00    \r\n",
        "\r",
        "1.118.B.step1.contig1.genomecoverage.txt        0%    0     0.0KB/s   --:-- ETA"
       ]
      },
      {
       "output_type": "stream",
       "stream": "stdout",
       "text": [
        "\r",
        "1.118.B.step1.contig1.genomecoverage.txt      100% 1111KB   1.1MB/s   00:00    \r\n",
        "\r",
        "1.160.O.step1.contig1.genomecoverage.txt        0%    0     0.0KB/s   --:-- ETA"
       ]
      },
      {
       "output_type": "stream",
       "stream": "stdout",
       "text": [
        "\r",
        "1.160.O.step1.contig1.genomecoverage.txt      100% 1116KB   1.1MB/s   00:00    \r\n",
        "\r",
        "1.171.O.step1.contig1.genomecoverage.txt        0%    0     0.0KB/s   --:-- ETA"
       ]
      },
      {
       "output_type": "stream",
       "stream": "stdout",
       "text": [
        "\r",
        "1.171.O.step1.contig1.genomecoverage.txt      100% 1049KB   1.0MB/s   00:01    \r\n",
        "\r",
        "1.194.O.step1.contig1.genomecoverage.txt        0%    0     0.0KB/s   --:-- ETA"
       ]
      },
      {
       "output_type": "stream",
       "stream": "stdout",
       "text": [
        "\r",
        "1.194.O.step1.contig1.genomecoverage.txt      100% 1072KB   1.1MB/s   00:00    \r\n"
       ]
      },
      {
       "output_type": "stream",
       "stream": "stdout",
       "text": [
        "\r",
        "1.195.O.step1.contig1.genomecoverage.txt        0%    0     0.0KB/s   --:-- ETA"
       ]
      },
      {
       "output_type": "stream",
       "stream": "stdout",
       "text": [
        "\r",
        "1.195.O.step1.contig1.genomecoverage.txt      100% 1079KB   1.1MB/s   00:00    \r\n",
        "\r",
        "1.196.O.step1.contig1.genomecoverage.txt        0%    0     0.0KB/s   --:-- ETA"
       ]
      },
      {
       "output_type": "stream",
       "stream": "stdout",
       "text": [
        "\r",
        "1.196.O.step1.contig1.genomecoverage.txt      100% 1091KB   1.1MB/s   00:00    \r\n",
        "\r",
        "1.200.O.step1.contig1.genomecoverage.txt        0%    0     0.0KB/s   --:-- ETA"
       ]
      },
      {
       "output_type": "stream",
       "stream": "stdout",
       "text": [
        "\r",
        "1.200.O.step1.contig1.genomecoverage.txt      100% 1089KB   1.1MB/s   00:01    \r\n"
       ]
      },
      {
       "output_type": "stream",
       "stream": "stdout",
       "text": [
        "\r",
        "1.237.A.step1.contig1.genomecoverage.txt        0%    0     0.0KB/s   --:-- ETA"
       ]
      },
      {
       "output_type": "stream",
       "stream": "stdout",
       "text": [
        "\r",
        "1.237.A.step1.contig1.genomecoverage.txt      100% 1050KB   1.0MB/s   00:00    \r\n"
       ]
      },
      {
       "output_type": "stream",
       "stream": "stdout",
       "text": [
        "\r",
        "1.237.B.step1.contig1.genomecoverage.txt        0%    0     0.0KB/s   --:-- ETA"
       ]
      },
      {
       "output_type": "stream",
       "stream": "stdout",
       "text": [
        "\r",
        "1.237.B.step1.contig1.genomecoverage.txt      100% 1105KB   1.1MB/s   00:00    \r\n"
       ]
      },
      {
       "output_type": "stream",
       "stream": "stdout",
       "text": [
        "\r",
        "1.250.O.step1.contig1.genomecoverage.txt        0%    0     0.0KB/s   --:-- ETA"
       ]
      },
      {
       "output_type": "stream",
       "stream": "stdout",
       "text": [
        "\r",
        "1.250.O.step1.contig1.genomecoverage.txt      100% 1102KB   1.1MB/s   00:01    \r\n"
       ]
      },
      {
       "output_type": "stream",
       "stream": "stdout",
       "text": [
        "\r",
        "1.251.O.step1.contig1.genomecoverage.txt        0%    0     0.0KB/s   --:-- ETA"
       ]
      },
      {
       "output_type": "stream",
       "stream": "stdout",
       "text": [
        "\r",
        "1.251.O.step1.contig1.genomecoverage.txt      100% 1096KB   1.1MB/s   00:00    \r\n",
        "\r",
        "1.267.O.step1.contig1.genomecoverage.txt        0%    0     0.0KB/s   --:-- ETA"
       ]
      },
      {
       "output_type": "stream",
       "stream": "stdout",
       "text": [
        "\r",
        "1.267.O.step1.contig1.genomecoverage.txt      100% 1056KB   1.0MB/s   00:00    \r\n",
        "\r",
        "1.268.A.step1.contig1.genomecoverage.txt        0%    0     0.0KB/s   --:-- ETA"
       ]
      },
      {
       "output_type": "stream",
       "stream": "stdout",
       "text": [
        "\r",
        "1.268.A.step1.contig1.genomecoverage.txt      100% 1089KB   1.1MB/s   00:01    \r\n"
       ]
      },
      {
       "output_type": "stream",
       "stream": "stdout",
       "text": [
        "\r",
        "1.268.B.step1.contig1.genomecoverage.txt        0%    0     0.0KB/s   --:-- ETA"
       ]
      },
      {
       "output_type": "stream",
       "stream": "stdout",
       "text": [
        "\r",
        "1.268.B.step1.contig1.genomecoverage.txt      100% 1089KB   1.1MB/s   00:00    \r\n"
       ]
      },
      {
       "output_type": "stream",
       "stream": "stdout",
       "text": [
        "\r",
        "1.269.O.step1.contig1.genomecoverage.txt        0%    0     0.0KB/s   --:-- ETA"
       ]
      },
      {
       "output_type": "stream",
       "stream": "stdout",
       "text": [
        "\r",
        "1.269.O.step1.contig1.genomecoverage.txt      100% 1049KB   1.0MB/s   00:00    \r\n"
       ]
      },
      {
       "output_type": "stream",
       "stream": "stdout",
       "text": [
        "\r",
        "1.270.A.step1.contig1.genomecoverage.txt        0%    0     0.0KB/s   --:-- ETA"
       ]
      },
      {
       "output_type": "stream",
       "stream": "stdout",
       "text": [
        "\r",
        "1.270.A.step1.contig1.genomecoverage.txt      100% 1033KB   1.0MB/s   00:01    \r\n",
        "\r",
        "1.270.B.step1.contig1.genomecoverage.txt        0%    0     0.0KB/s   --:-- ETA"
       ]
      },
      {
       "output_type": "stream",
       "stream": "stdout",
       "text": [
        "\r",
        "1.270.B.step1.contig1.genomecoverage.txt      100% 1031KB   1.0MB/s   00:00    \r\n",
        "\r",
        "1.271.A.step1.contig1.genomecoverage.txt        0%    0     0.0KB/s   --:-- ETA"
       ]
      },
      {
       "output_type": "stream",
       "stream": "stdout",
       "text": [
        "\r",
        "1.271.A.step1.contig1.genomecoverage.txt      100% 1089KB   1.1MB/s   00:00    \r\n",
        "\r",
        "1.271.B.step1.contig1.genomecoverage.txt        0%    0     0.0KB/s   --:-- ETA"
       ]
      },
      {
       "output_type": "stream",
       "stream": "stdout",
       "text": [
        "\r",
        "1.271.B.step1.contig1.genomecoverage.txt      100% 1089KB   1.1MB/s   00:01    \r\n"
       ]
      },
      {
       "output_type": "stream",
       "stream": "stdout",
       "text": [
        "\r",
        "1.272.O.step1.contig1.genomecoverage.txt        0%    0     0.0KB/s   --:-- ETA"
       ]
      },
      {
       "output_type": "stream",
       "stream": "stdout",
       "text": [
        "\r",
        "1.272.O.step1.contig1.genomecoverage.txt      100% 1089KB   1.1MB/s   00:00    \r\n",
        "\r",
        "1.274.O.step1.contig1.genomecoverage.txt        0%    0     0.0KB/s   --:-- ETA"
       ]
      },
      {
       "output_type": "stream",
       "stream": "stdout",
       "text": [
        "\r",
        "1.274.O.step1.contig1.genomecoverage.txt      100% 1091KB   1.1MB/s   00:00    \r\n",
        "\r",
        "1.277.A.step1.contig1.genomecoverage.txt        0%    0     0.0KB/s   --:-- ETA"
       ]
      },
      {
       "output_type": "stream",
       "stream": "stdout",
       "text": [
        "\r",
        "1.277.A.step1.contig1.genomecoverage.txt      100% 1089KB   1.1MB/s   00:01    \r\n",
        "\r",
        "1.277.B.step1.contig1.genomecoverage.txt        0%    0     0.0KB/s   --:-- ETA"
       ]
      },
      {
       "output_type": "stream",
       "stream": "stdout",
       "text": [
        "\r",
        "1.277.B.step1.contig1.genomecoverage.txt      100% 1092KB   1.1MB/s   00:00    \r\n",
        "\r",
        "1.280.O.step1.contig1.genomecoverage.txt        0%    0     0.0KB/s   --:-- ETA"
       ]
      },
      {
       "output_type": "stream",
       "stream": "stdout",
       "text": [
        "\r",
        "1.280.O.step1.contig1.genomecoverage.txt      100% 1089KB   1.1MB/s   00:00    \r\n"
       ]
      },
      {
       "output_type": "stream",
       "stream": "stdout",
       "text": [
        "\r",
        "1.281.O.step1.contig1.genomecoverage.txt        0%    0     0.0KB/s   --:-- ETA"
       ]
      },
      {
       "output_type": "stream",
       "stream": "stdout",
       "text": [
        "\r",
        "1.281.O.step1.contig1.genomecoverage.txt      100% 1036KB   1.0MB/s   00:01    \r\n",
        "\r",
        "1.282.A.step1.contig1.genomecoverage.txt        0%    0     0.0KB/s   --:-- ETA"
       ]
      },
      {
       "output_type": "stream",
       "stream": "stdout",
       "text": [
        "\r",
        "1.282.A.step1.contig1.genomecoverage.txt      100% 1091KB   1.1MB/s   00:00    \r\n"
       ]
      },
      {
       "output_type": "stream",
       "stream": "stdout",
       "text": [
        "\r",
        "1.283.A.step1.contig1.genomecoverage.txt        0%    0     0.0KB/s   --:-- ETA"
       ]
      },
      {
       "output_type": "stream",
       "stream": "stdout",
       "text": [
        "\r",
        "1.283.A.step1.contig1.genomecoverage.txt      100% 1094KB   1.1MB/s   00:00    \r\n",
        "\r",
        "1.283.B.step1.contig1.genomecoverage.txt        0%    0     0.0KB/s   --:-- ETA"
       ]
      },
      {
       "output_type": "stream",
       "stream": "stdout",
       "text": [
        "\r",
        "1.283.B.step1.contig1.genomecoverage.txt      100% 1094KB   1.1MB/s   00:01    \r\n",
        "\r",
        "1.283.C.step1.contig1.genomecoverage.txt        0%    0     0.0KB/s   --:-- ETA"
       ]
      },
      {
       "output_type": "stream",
       "stream": "stdout",
       "text": [
        "\r",
        "1.283.C.step1.contig1.genomecoverage.txt      100% 1094KB   1.1MB/s   00:00    \r\n"
       ]
      },
      {
       "output_type": "stream",
       "stream": "stdout",
       "text": [
        "\r",
        "1.285.O.step1.contig1.genomecoverage.txt        0%    0     0.0KB/s   --:-- ETA"
       ]
      },
      {
       "output_type": "stream",
       "stream": "stdout",
       "text": [
        "\r",
        "1.285.O.step1.contig1.genomecoverage.txt      100% 1098KB   1.1MB/s   00:01    \r\n"
       ]
      }
     ],
     "prompt_number": 25
    },
    {
     "cell_type": "code",
     "collapsed": false,
     "input": [
      "%load_ext rmagic"
     ],
     "language": "python",
     "metadata": {},
     "outputs": [],
     "prompt_number": 8
    },
    {
     "cell_type": "code",
     "collapsed": false,
     "input": [
      "%R library(dplyr)"
     ],
     "language": "python",
     "metadata": {},
     "outputs": [
      {
       "metadata": {},
       "output_type": "display_data",
       "text": [
        "\n",
        "Attaching package: \u2018dplyr\u2019\n",
        "\n",
        "The following object is masked from \u2018package:stats\u2019:\n",
        "\n",
        "    filter\n",
        "\n",
        "The following objects are masked from \u2018package:base\u2019:\n",
        "\n",
        "    intersect, setdiff, setequal, union\n",
        "\n"
       ]
      }
     ],
     "prompt_number": 9
    },
    {
     "cell_type": "code",
     "collapsed": false,
     "input": [
      "%%R -i group4\n",
      "\n",
      "for (item in group4){\n",
      "    filename<-paste(item,\"step1.contig1.genomecoverage.txt\",sep=\"\")\n",
      "    coverage<-read.table(filename, sep=\"\\t\")\n",
      "    pdf(paste(item,\"step1.contig1.coverage.plot.pdf\", sep=\"\"))\n",
      "    with(coverage, plot(V2, V3, type=\"n\",xlab=\"position\",ylab=\"coverage\", main=item))\n",
      "    with(coverage, lines(V2,V3))\n",
      "    dev.off()\n",
      "}"
     ],
     "language": "python",
     "metadata": {},
     "outputs": [],
     "prompt_number": 29
    },
    {
     "cell_type": "code",
     "collapsed": false,
     "input": [
      "groupfile=group4\n",
      "blast_commands=open(\"blast_commands.sh\",\"w\")\n",
      "blast_commands.write(\"#!/bin/bash\\n#SBATCH -n 16\\n#SBATCH -N 1\\n#SBATCH -o blast.out\\n#SBATCH -e blast.err\\n#SBATCH -p newnodes\\n\\n\")\n",
      "blast_commands.write(\"module add engaging/ncbi-blast/2.2.30+\\n\\n\\n\")\n",
      "for line in groupfile:\n",
      "    name=line.rstrip(\"\\n\")\n",
      "    inputfasta=name+\"step1.contig1.fasta\"\n",
      "    blastoutputname=name+\"vs.terminases.txt\"\n",
      "    blastcommand=\"blastx -db /nobackup1/jbrown/blast_db/NCBI_phage_terminases_20150414.fasta -query \"+inputfasta+\" -num_descriptions 1 -outfmt 6 -out \"+blastoutputname\n",
      "    blast_commands.write(blastcommand+\"\\n\")\n",
      "blast_commands.close()\n",
      "!open blast_commands.sh -a textedit"
     ],
     "language": "python",
     "metadata": {},
     "outputs": [],
     "prompt_number": 33
    },
    {
     "cell_type": "code",
     "collapsed": false,
     "input": [
      "!scp blast_commands.sh jbrown@eofe4.mit.edu:/nobackup1/jbrown/nahant_phage_reads/group4/"
     ],
     "language": "python",
     "metadata": {},
     "outputs": [
      {
       "output_type": "stream",
       "stream": "stdout",
       "text": [
        "\r",
        "blast_commands.sh                               0%    0     0.0KB/s   --:-- ETA\r",
        "blast_commands.sh                             100% 7667     7.5KB/s   00:00    \r\n"
       ]
      }
     ],
     "prompt_number": 34
    },
    {
     "cell_type": "code",
     "collapsed": false,
     "input": [
      "!scp jbrown@eofe4.mit.edu:/nobackup1/jbrown/nahant_phage_reads/group4/*vs* ./"
     ],
     "language": "python",
     "metadata": {},
     "outputs": [
      {
       "output_type": "stream",
       "stream": "stdout",
       "text": [
        "\r",
        "1.012.O.vs.terminases.txt                       0%    0     0.0KB/s   --:-- ETA"
       ]
      },
      {
       "output_type": "stream",
       "stream": "stdout",
       "text": [
        "\r",
        "1.012.O.vs.terminases.txt                     100%   17KB  16.6KB/s   00:00    \r\n",
        "\r",
        "1.022.O.vs.terminases.txt                       0%    0     0.0KB/s   --:-- ETA"
       ]
      },
      {
       "output_type": "stream",
       "stream": "stdout",
       "text": [
        "\r",
        "1.022.O.vs.terminases.txt                     100%   16KB  16.4KB/s   00:00    \r\n",
        "\r",
        "1.023.O.vs.terminases.txt                       0%    0     0.0KB/s   --:-- ETA"
       ]
      },
      {
       "output_type": "stream",
       "stream": "stdout",
       "text": [
        "\r",
        "1.023.O.vs.terminases.txt                     100%   17KB  16.6KB/s   00:00    \r\n",
        "\r",
        "1.024.O.vs.terminases.txt                       0%    0     0.0KB/s   --:-- ETA"
       ]
      },
      {
       "output_type": "stream",
       "stream": "stdout",
       "text": [
        "\r",
        "1.024.O.vs.terminases.txt                     100%   17KB  16.7KB/s   00:00    \r\n",
        "\r",
        "1.027.O.vs.terminases.txt                       0%    0     0.0KB/s   --:-- ETA\r",
        "1.027.O.vs.terminases.txt                     100%   17KB  17.3KB/s   00:00    \r\n"
       ]
      },
      {
       "output_type": "stream",
       "stream": "stdout",
       "text": [
        "\r",
        "1.032.O.vs.terminases.txt                       0%    0     0.0KB/s   --:-- ETA\r",
        "1.032.O.vs.terminases.txt                     100%   17KB  16.6KB/s   00:00    \r\n"
       ]
      },
      {
       "output_type": "stream",
       "stream": "stdout",
       "text": [
        "\r",
        "1.033.O.vs.terminases.txt                       0%    0     0.0KB/s   --:-- ETA\r",
        "1.033.O.vs.terminases.txt                     100%   17KB  16.6KB/s   00:00    \r\n"
       ]
      },
      {
       "output_type": "stream",
       "stream": "stdout",
       "text": [
        "\r",
        "1.046.O.vs.terminases.txt                       0%    0     0.0KB/s   --:-- ETA\r",
        "1.046.O.vs.terminases.txt                     100%   16KB  16.1KB/s   00:00    \r\n"
       ]
      },
      {
       "output_type": "stream",
       "stream": "stdout",
       "text": [
        "\r",
        "1.088.O.vs.terminases.txt                       0%    0     0.0KB/s   --:-- ETA\r",
        "1.088.O.vs.terminases.txt                     100%   16KB  16.3KB/s   00:00    \r\n"
       ]
      },
      {
       "output_type": "stream",
       "stream": "stdout",
       "text": [
        "\r",
        "1.089.O.vs.terminases.txt                       0%    0     0.0KB/s   --:-- ETA\r",
        "1.089.O.vs.terminases.txt                     100%   17KB  16.6KB/s   00:00    \r\n"
       ]
      },
      {
       "output_type": "stream",
       "stream": "stdout",
       "text": [
        "\r",
        "1.098.O.vs.terminases.txt                       0%    0     0.0KB/s   --:-- ETA\r",
        "1.098.O.vs.terminases.txt                     100%   17KB  16.6KB/s   00:00    \r\n"
       ]
      },
      {
       "output_type": "stream",
       "stream": "stdout",
       "text": [
        "\r",
        "1.103.O.vs.terminases.txt                       0%    0     0.0KB/s   --:-- ETA\r",
        "1.103.O.vs.terminases.txt                     100%   17KB  16.7KB/s   00:00    \r\n"
       ]
      },
      {
       "output_type": "stream",
       "stream": "stdout",
       "text": [
        "\r",
        "1.104.O.vs.terminases.txt                       0%    0     0.0KB/s   --:-- ETA\r",
        "1.104.O.vs.terminases.txt                     100%   16KB  16.4KB/s   00:00    \r\n",
        "\r",
        "1.118.A.vs.terminases.txt                       0%    0     0.0KB/s   --:-- ETA"
       ]
      },
      {
       "output_type": "stream",
       "stream": "stdout",
       "text": [
        "\r",
        "1.118.A.vs.terminases.txt                     100%   17KB  16.6KB/s   00:00    \r\n",
        "\r",
        "1.118.B.vs.terminases.txt                       0%    0     0.0KB/s   --:-- ETA"
       ]
      },
      {
       "output_type": "stream",
       "stream": "stdout",
       "text": [
        "\r",
        "1.118.B.vs.terminases.txt                     100%   17KB  16.6KB/s   00:00    \r\n",
        "\r",
        "1.160.O.vs.terminases.txt                       0%    0     0.0KB/s   --:-- ETA"
       ]
      },
      {
       "output_type": "stream",
       "stream": "stdout",
       "text": [
        "\r",
        "1.160.O.vs.terminases.txt                     100%   17KB  16.9KB/s   00:00    \r\n",
        "\r",
        "1.171.O.vs.terminases.txt                       0%    0     0.0KB/s   --:-- ETA"
       ]
      },
      {
       "output_type": "stream",
       "stream": "stdout",
       "text": [
        "\r",
        "1.171.O.vs.terminases.txt                     100%   17KB  17.3KB/s   00:00    \r\n",
        "\r",
        "1.194.O.vs.terminases.txt                       0%    0     0.0KB/s   --:-- ETA"
       ]
      },
      {
       "output_type": "stream",
       "stream": "stdout",
       "text": [
        "\r",
        "1.194.O.vs.terminases.txt                     100%   17KB  17.5KB/s   00:00    \r\n",
        "\r",
        "1.195.O.vs.terminases.txt                       0%    0     0.0KB/s   --:-- ETA\r",
        "1.195.O.vs.terminases.txt                     100%   17KB  17.5KB/s   00:00    \r\n"
       ]
      },
      {
       "output_type": "stream",
       "stream": "stdout",
       "text": [
        "\r",
        "1.196.O.vs.terminases.txt                       0%    0     0.0KB/s   --:-- ETA\r",
        "1.196.O.vs.terminases.txt                     100%   17KB  17.1KB/s   00:00    \r\n"
       ]
      },
      {
       "output_type": "stream",
       "stream": "stdout",
       "text": [
        "\r",
        "1.200.O.vs.terminases.txt                       0%    0     0.0KB/s   --:-- ETA\r",
        "1.200.O.vs.terminases.txt                     100%   17KB  17.5KB/s   00:00    \r\n"
       ]
      },
      {
       "output_type": "stream",
       "stream": "stdout",
       "text": [
        "\r",
        "1.237.A.vs.terminases.txt                       0%    0     0.0KB/s   --:-- ETA\r",
        "1.237.A.vs.terminases.txt                     100%   17KB  16.6KB/s   00:00    \r\n"
       ]
      },
      {
       "output_type": "stream",
       "stream": "stdout",
       "text": [
        "\r",
        "1.237.B.vs.terminases.txt                       0%    0     0.0KB/s   --:-- ETA\r",
        "1.237.B.vs.terminases.txt                     100%   17KB  16.6KB/s   00:00    \r\n"
       ]
      },
      {
       "output_type": "stream",
       "stream": "stdout",
       "text": [
        "\r",
        "1.250.O.vs.terminases.txt                       0%    0     0.0KB/s   --:-- ETA\r",
        "1.250.O.vs.terminases.txt                     100%   23KB  22.9KB/s   00:00    \r\n"
       ]
      },
      {
       "output_type": "stream",
       "stream": "stdout",
       "text": [
        "\r",
        "1.251.O.vs.terminases.txt                       0%    0     0.0KB/s   --:-- ETA\r",
        "1.251.O.vs.terminases.txt                     100%   25KB  25.2KB/s   00:00    \r\n",
        "\r",
        "1.267.O.vs.terminases.txt                       0%    0     0.0KB/s   --:-- ETA"
       ]
      },
      {
       "output_type": "stream",
       "stream": "stdout",
       "text": [
        "\r",
        "1.267.O.vs.terminases.txt                     100%   17KB  17.5KB/s   00:00    \r\n",
        "\r",
        "1.268.A.vs.terminases.txt                       0%    0     0.0KB/s   --:-- ETA"
       ]
      },
      {
       "output_type": "stream",
       "stream": "stdout",
       "text": [
        "\r",
        "1.268.A.vs.terminases.txt                     100%   17KB  17.1KB/s   00:00    \r\n",
        "\r",
        "1.268.B.vs.terminases.txt                       0%    0     0.0KB/s   --:-- ETA"
       ]
      },
      {
       "output_type": "stream",
       "stream": "stdout",
       "text": [
        "\r",
        "1.268.B.vs.terminases.txt                     100%   17KB  17.1KB/s   00:00    \r\n",
        "\r",
        "1.269.O.vs.terminases.txt                       0%    0     0.0KB/s   --:-- ETA"
       ]
      },
      {
       "output_type": "stream",
       "stream": "stdout",
       "text": [
        "\r",
        "1.269.O.vs.terminases.txt                     100%   17KB  17.1KB/s   00:00    \r\n",
        "\r",
        "1.270.A.vs.terminases.txt                       0%    0     0.0KB/s   --:-- ETA"
       ]
      },
      {
       "output_type": "stream",
       "stream": "stdout",
       "text": [
        "\r",
        "1.270.A.vs.terminases.txt                     100%   17KB  17.5KB/s   00:00    \r\n",
        "\r",
        "1.270.B.vs.terminases.txt                       0%    0     0.0KB/s   --:-- ETA"
       ]
      },
      {
       "output_type": "stream",
       "stream": "stdout",
       "text": [
        "\r",
        "1.270.B.vs.terminases.txt                     100%   17KB  17.5KB/s   00:00    \r\n",
        "\r",
        "1.271.A.vs.terminases.txt                       0%    0     0.0KB/s   --:-- ETA"
       ]
      },
      {
       "output_type": "stream",
       "stream": "stdout",
       "text": [
        "\r",
        "1.271.A.vs.terminases.txt                     100%   17KB  17.5KB/s   00:00    \r\n",
        "\r",
        "1.271.B.vs.terminases.txt                       0%    0     0.0KB/s   --:-- ETA"
       ]
      },
      {
       "output_type": "stream",
       "stream": "stdout",
       "text": [
        "\r",
        "1.271.B.vs.terminases.txt                     100%   17KB  17.1KB/s   00:00    \r\n",
        "\r",
        "1.272.O.vs.terminases.txt                       0%    0     0.0KB/s   --:-- ETA"
       ]
      },
      {
       "output_type": "stream",
       "stream": "stdout",
       "text": [
        "\r",
        "1.272.O.vs.terminases.txt                     100%   17KB  17.5KB/s   00:00    \r\n",
        "\r",
        "1.274.O.vs.terminases.txt                       0%    0     0.0KB/s   --:-- ETA\r",
        "1.274.O.vs.terminases.txt                     100%   17KB  17.5KB/s   00:00    \r\n"
       ]
      },
      {
       "output_type": "stream",
       "stream": "stdout",
       "text": [
        "\r",
        "1.277.A.vs.terminases.txt                       0%    0     0.0KB/s   --:-- ETA\r",
        "1.277.A.vs.terminases.txt                     100%   17KB  17.1KB/s   00:00    \r\n"
       ]
      },
      {
       "output_type": "stream",
       "stream": "stdout",
       "text": [
        "\r",
        "1.277.B.vs.terminases.txt                       0%    0     0.0KB/s   --:-- ETA\r",
        "1.277.B.vs.terminases.txt                     100%   17KB  17.5KB/s   00:00    \r\n"
       ]
      },
      {
       "output_type": "stream",
       "stream": "stdout",
       "text": [
        "\r",
        "1.280.O.vs.terminases.txt                       0%    0     0.0KB/s   --:-- ETA\r",
        "1.280.O.vs.terminases.txt                     100%   17KB  17.1KB/s   00:00    \r\n"
       ]
      },
      {
       "output_type": "stream",
       "stream": "stdout",
       "text": [
        "\r",
        "1.281.O.vs.terminases.txt                       0%    0     0.0KB/s   --:-- ETA\r",
        "1.281.O.vs.terminases.txt                     100%   17KB  17.5KB/s   00:00    \r\n"
       ]
      },
      {
       "output_type": "stream",
       "stream": "stdout",
       "text": [
        "\r",
        "1.282.A.vs.terminases.txt                       0%    0     0.0KB/s   --:-- ETA\r",
        "1.282.A.vs.terminases.txt                     100%   17KB  17.5KB/s   00:00    \r\n",
        "\r",
        "1.283.A.vs.terminases.txt                       0%    0     0.0KB/s   --:-- ETA"
       ]
      },
      {
       "output_type": "stream",
       "stream": "stdout",
       "text": [
        "\r",
        "1.283.A.vs.terminases.txt                     100%   17KB  17.5KB/s   00:00    \r\n",
        "\r",
        "1.283.B.vs.terminases.txt                       0%    0     0.0KB/s   --:-- ETA"
       ]
      },
      {
       "output_type": "stream",
       "stream": "stdout",
       "text": [
        "\r",
        "1.283.B.vs.terminases.txt                     100%   17KB  17.5KB/s   00:00    \r\n",
        "\r",
        "1.283.C.vs.terminases.txt                       0%    0     0.0KB/s   --:-- ETA"
       ]
      },
      {
       "output_type": "stream",
       "stream": "stdout",
       "text": [
        "\r",
        "1.283.C.vs.terminases.txt                     100%   17KB  17.5KB/s   00:00    \r\n",
        "\r",
        "1.285.O.vs.terminases.txt                       0%    0     0.0KB/s   --:-- ETA"
       ]
      },
      {
       "output_type": "stream",
       "stream": "stdout",
       "text": [
        "\r",
        "1.285.O.vs.terminases.txt                     100%   16KB  15.9KB/s   00:00    \r\n"
       ]
      }
     ],
     "prompt_number": 35
    },
    {
     "cell_type": "code",
     "collapsed": false,
     "input": [
      "%%R\n",
      "blast1<-read.table(\"1.103.O.vs.terminases.txt\",sep=\"\\t\")\n",
      "coverage1<-read.table(\"1.103.O.step1.contig1.genomecoverage.txt\", sep=\"\\t\")\n",
      "head(coverage1)\n",
      "termstart<-coverage1[(59364-1000):(59364+1000),]\n",
      "mean(termstart$V3)\n",
      "max(coverage1$V3)\n",
      "mean(coverage1$V3)"
     ],
     "language": "python",
     "metadata": {},
     "outputs": [
      {
       "metadata": {},
       "output_type": "display_data",
       "text": [
        "[1] 511.2801\n"
       ]
      }
     ],
     "prompt_number": 54
    },
    {
     "cell_type": "code",
     "collapsed": false,
     "input": [
      "%%R -i group4\n",
      "for (phage in group4){\n",
      "    blast<-read.table(paste(phage, \"vs.terminases.txt\", sep=\"\"), sep=\"\\t\")\n",
      "    colnames(blast)<-c(\"query\", \"target\", \"pct_id\", \"aln_len\", \"num_mismatch\", \"num_gap\", \"qstart\", \"qstop\", \"tstart\", \"tstop\", \"e_value\", \"bit_score\")\n",
      "    termloc<-blast[1,]$qstart\n",
      "    print(paste(phage, termloc, sep=\":\"))\n",
      "    coverage<-read.table(paste(item,\"step1.contig1.genomecoverage.txt\",sep=\"\"), sep=\"\\t\")\n",
      "}"
     ],
     "language": "python",
     "metadata": {},
     "outputs": [
      {
       "metadata": {},
       "output_type": "display_data",
       "text": [
        "[1] \"1.237.B.:36328\"\n",
        "[1] \"1.267.O.:18538\"\n",
        "[1] \"1.196.O.:8979\"\n",
        "[1] \"1.195.O.:11912\"\n",
        "[1] \"1.277.A.:4349\"\n",
        "[1] \"1.104.O.:2051\"\n",
        "[1] \"1.271.B.:51135\"\n",
        "[1] \"1.118.B.:17141\"\n",
        "[1] \"1.200.O.:13151\"\n",
        "[1] \"1.281.O.:13292\"\n",
        "[1] \"1.012.O.:43454\"\n",
        "[1] \"1.194.O.:50414\"\n",
        "[1] \"1.269.O.:7361\"\n",
        "[1] \"1.027.O.:11490\"\n",
        "[1] \"1.046.O.:11902\"\n",
        "[1] \"1.250.O.:59978\"\n",
        "[1] \"1.272.O.:32097\"\n",
        "[1] \"1.270.B.:23646\"\n",
        "[1] \"1.089.O.:14109\"\n",
        "[1] \"1.088.O.:7109\"\n",
        "[1] \"1.274.O.:11943\"\n",
        "[1] \"1.271.A.:52804\"\n",
        "[1] \"1.023.O.:11\"\n",
        "[1] \"1.171.O.:53425\"\n",
        "[1] \"1.277.B.:34793\"\n",
        "[1] \"1.103.O.:59364\"\n",
        "[1] \"1.022.O.:9738\"\n",
        "[1] \"1.251.O.:25683\"\n",
        "[1] \"1.268.A.:16159\"\n",
        "[1] \"1.024.O.:34826\"\n",
        "[1] \"1.160.O.:4987\"\n",
        "[1] \"1.118.A.:33096\"\n",
        "[1] \"1.280.O.:8832\"\n",
        "[1] \"1.283.A.:39316\"\n",
        "[1] \"1.283.C.:35321\"\n",
        "[1] \"1.237.A.:56669\"\n",
        "[1] \"1.270.A.:55216\"\n",
        "[1] \"1.098.O.:25614\"\n",
        "[1] \"1.032.O.:17668\"\n",
        "[1] \"1.268.B.:4095\"\n",
        "[1] \"1.283.B.:11879\"\n",
        "[1] \"1.285.O.:11425\"\n",
        "[1] \"1.282.A.:53423\"\n",
        "[1] \"1.033.O.:12786\"\n"
       ]
      }
     ],
     "prompt_number": 47
    },
    {
     "cell_type": "markdown",
     "metadata": {},
     "source": [
      "###Next, I'm going to run prodigal and extract amino acid sequences of all ORFs and blast those against the terminase database to determine which ORF encodes a terminase and what that ORF's orientation is on this original contig"
     ]
    },
    {
     "cell_type": "code",
     "collapsed": false,
     "input": [
      "groupfile=group4\n",
      "prodigal=open(\"prodigal.sh\",\"w\")\n",
      "prodigal.write(\"#!/bin/bash\\n#SBATCH -n 16\\n#SBATCH -N 1\\n#SBATCH -o prodigal.out\\n#SBATCH -e prodigal.err\\n#SBATCH -p newnodes\\n\\n\")\n",
      "prodigal.write(\"module add engaging/prodigal/2.6.1\\n\\n\")\n",
      "for line in groupfile:\n",
      "    prodigal.write(\"prodigal -i \"+line+\"step1.contig1.fasta -o \"+line+\"genes -a \"+line+\"proteins.faa -p meta\\n\")\n",
      "prodigal.close()\n",
      "!open prodigal.sh -a textedit"
     ],
     "language": "python",
     "metadata": {},
     "outputs": [],
     "prompt_number": 8
    },
    {
     "cell_type": "code",
     "collapsed": false,
     "input": [
      "!scp prodigal.sh jbrown@eofe4.mit.edu:/nobackup1/jbrown/nahant_phage_reads/group4/"
     ],
     "language": "python",
     "metadata": {},
     "outputs": [
      {
       "output_type": "stream",
       "stream": "stdout",
       "text": [
        "\r",
        "prodigal.sh                                     0%    0     0.0KB/s   --:-- ETA\r",
        "prodigal.sh                                   100% 4060     4.0KB/s   00:00    \r\n"
       ]
      }
     ],
     "prompt_number": 10
    },
    {
     "cell_type": "code",
     "collapsed": false,
     "input": [
      "#process output prodigal file:\n",
      "\n",
      "\n",
      "groupfile=group4\n",
      "for phage in groupfile:\n",
      "\n",
      "    gene_tbl=open(phage+\"genes\").readlines()\n",
      "    output=open(phage+\"prodigal.info\",\"w\")\n",
      "    output.write(\"phage\\tnumber\\tgene\\tunique\\torientation\\tstart\\tstop\\n\")\n",
      "    loc=[]\n",
      "    nam=[]\n",
      "    for line in gene_tbl[2:]:\n",
      "        here=line.split()\n",
      "        if here[0]==\"CDS\":\n",
      "            loc.append(here[1])\n",
      "        else:\n",
      "            info=here[0].split(\";\")\n",
      "            there=info[0].split(\"=\")\n",
      "            if len(there)==3:\n",
      "                nam.append(\"contig_\"+there[2])\n",
      "    \n",
      "    dict1=dict(zip(nam,loc))\n",
      "    for key in dict1:\n",
      "        value=dict1[key]\n",
      "        number=key.split(\"_\")[2]\n",
      "        unique=phage+key\n",
      "        if value.startswith(\"complement\"):\n",
      "            vec1=value.split(\"(\")\n",
      "            vec2=vec1[1].split(\"..\")\n",
      "            start=vec2[1].replace(\")\",\"\")\n",
      "            stop=vec2[0]\n",
      "            orientation=\"reverse\"\n",
      "        else:\n",
      "            vec2=value.split(\"..\")\n",
      "            start=vec2[0]\n",
      "            stop=vec2[1]\n",
      "            orientation=\"forward\"\n",
      "        #print(phage+\"\\t\"+number+\"\\t\"+key+\"\\t\"+orientation+\"\\t\"+start+\"\\t\"+stop+\"\\n\")\n",
      "        output.write(phage+\"\\t\"+number+\"\\t\"+key+\"\\t\"+unique+\"\\t\"+orientation+\"\\t\"+start+\"\\t\"+stop+\"\\n\")\n",
      "    \n",
      "    output.close()"
     ],
     "language": "python",
     "metadata": {},
     "outputs": [],
     "prompt_number": 106
    },
    {
     "cell_type": "code",
     "collapsed": false,
     "input": [],
     "language": "python",
     "metadata": {},
     "outputs": [],
     "prompt_number": 98
    },
    {
     "cell_type": "code",
     "collapsed": false,
     "input": [
      "groupfile=group4\n",
      "blast_commands=open(\"blast_commands.sh\",\"w\")\n",
      "blast_commands.write(\"#!/bin/bash\\n#SBATCH -n 16\\n#SBATCH -N 1\\n#SBATCH -o blast.out\\n#SBATCH -e blast.err\\n#SBATCH -p newnodes\\n\\n\")\n",
      "blast_commands.write(\"module add engaging/ncbi-blast/2.2.30+\\n\\n\\n\")\n",
      "for line in groupfile:\n",
      "    name=line.rstrip(\"\\n\")\n",
      "    inputfasta=line+\"proteins.faa\"\n",
      "    blastoutputname=name+\"prodprots.vs.terminases.txt\"\n",
      "    blastcommand=\"blastp -db /nobackup1/jbrown/blast_db/NCBI_phage_terminases_20150414.fasta -query \"+inputfasta+\" -num_descriptions 1 -outfmt 6 -out \"+blastoutputname\n",
      "    blast_commands.write(blastcommand+\"\\n\")\n",
      "blast_commands.close()\n",
      "!open blast_commands.sh -a textedit"
     ],
     "language": "python",
     "metadata": {},
     "outputs": [],
     "prompt_number": 13
    },
    {
     "cell_type": "markdown",
     "metadata": {},
     "source": [
      "####The above blast results showed that there were multiple hits from at least two locations per genome to terminases, suggesting that this BLAST db has both small and larg subunit terminases.  I've created two new blast databases that have only large or small subunit terminases attributed to phages only."
     ]
    },
    {
     "cell_type": "code",
     "collapsed": false,
     "input": [
      "groupfile=group4\n",
      "blast_commands=open(\"blast_commands.sh\",\"w\")\n",
      "blast_commands.write(\"#!/bin/bash\\n#SBATCH -n 16\\n#SBATCH -N 1\\n#SBATCH -o blast.out\\n#SBATCH -e blast.err\\n#SBATCH -p newnodes\\n\\n\")\n",
      "blast_commands.write(\"module add engaging/ncbi-blast/2.2.30+\\n\\n\\n\")\n",
      "for line in groupfile:\n",
      "    inputfasta=line+\"proteins.faa\"\n",
      "    bout1=line+\"prodprot.vs.lg.terminases.txt\"\n",
      "    bout2=line+\"prodprot.vs.sm.terminases.txt\"\n",
      "    blastcommand=\"blastp -db /nobackup1/jbrown/blast_db/terminase_lg_subunit.fasta -query \"+inputfasta+\" -num_descriptions 1 -evalue 0.00001 -outfmt 6 -out \"+bout1\n",
      "    #blastcommand2=\"blastx -db /nobackup1/jbrown/blast_db/terminase_sm_subunit.fasta -query \"+inputfasta+\" -num_descriptions 1 -outfmt 6 -out \"+bout2\n",
      "    blast_commands.write(blastcommand+\"\\n\")#+blastcommand2+\"\\n\\n\")\n",
      "blast_commands.close()\n",
      "!open blast_commands.sh -a textedit"
     ],
     "language": "python",
     "metadata": {},
     "outputs": [],
     "prompt_number": 7
    },
    {
     "cell_type": "code",
     "collapsed": false,
     "input": [
      "!scp blast_commands.sh jbrown@eofe4.mit.edu:/nobackup1/jbrown/nahant_phage_reads/group4/"
     ],
     "language": "python",
     "metadata": {},
     "outputs": [
      {
       "output_type": "stream",
       "stream": "stdout",
       "text": [
        "\r",
        "blast_commands.sh                               0%    0     0.0KB/s   --:-- ETA\r",
        "blast_commands.sh                             100% 8151     8.0KB/s   00:00    \r\n"
       ]
      }
     ],
     "prompt_number": 8
    },
    {
     "cell_type": "code",
     "collapsed": false,
     "input": [
      "!scp jbrown@eofe4.mit.edu:/nobackup1/jbrown/nahant_phage_reads/group4/*.vs.lg.terminase* ./"
     ],
     "language": "python",
     "metadata": {},
     "outputs": [
      {
       "output_type": "stream",
       "stream": "stdout",
       "text": [
        "\r",
        "1.012.O.prodprot.vs.lg.terminases.txt           0%    0     0.0KB/s   --:-- ETA"
       ]
      },
      {
       "output_type": "stream",
       "stream": "stdout",
       "text": [
        "\r",
        "1.012.O.prodprot.vs.lg.terminases.txt         100% 3036     3.0KB/s   00:00    \r\n"
       ]
      },
      {
       "output_type": "stream",
       "stream": "stdout",
       "text": [
        "\r",
        "1.022.O.prodprot.vs.lg.terminases.txt           0%    0     0.0KB/s   --:-- ETA\r",
        "1.022.O.prodprot.vs.lg.terminases.txt         100% 3030     3.0KB/s   00:00    \r\n"
       ]
      },
      {
       "output_type": "stream",
       "stream": "stdout",
       "text": [
        "\r",
        "1.023.O.prodprot.vs.lg.terminases.txt           0%    0     0.0KB/s   --:-- ETA"
       ]
      },
      {
       "output_type": "stream",
       "stream": "stdout",
       "text": [
        "\r",
        "1.023.O.prodprot.vs.lg.terminases.txt         100% 3481     3.4KB/s   00:00    \r\n",
        "\r",
        "1.024.O.prodprot.vs.lg.terminases.txt           0%    0     0.0KB/s   --:-- ETA"
       ]
      },
      {
       "output_type": "stream",
       "stream": "stdout",
       "text": [
        "\r",
        "1.024.O.prodprot.vs.lg.terminases.txt         100% 3225     3.2KB/s   00:00    \r\n",
        "\r",
        "1.027.O.prodprot.vs.lg.terminases.txt           0%    0     0.0KB/s   --:-- ETA"
       ]
      },
      {
       "output_type": "stream",
       "stream": "stdout",
       "text": [
        "\r",
        "1.027.O.prodprot.vs.lg.terminases.txt         100% 3233     3.2KB/s   00:00    \r\n"
       ]
      },
      {
       "output_type": "stream",
       "stream": "stdout",
       "text": [
        "\r",
        "1.032.O.prodprot.vs.lg.terminases.txt           0%    0     0.0KB/s   --:-- ETA\r",
        "1.032.O.prodprot.vs.lg.terminases.txt         100% 3036     3.0KB/s   00:00    \r\n"
       ]
      },
      {
       "output_type": "stream",
       "stream": "stdout",
       "text": [
        "\r",
        "1.033.O.prodprot.vs.lg.terminases.txt           0%    0     0.0KB/s   --:-- ETA"
       ]
      },
      {
       "output_type": "stream",
       "stream": "stdout",
       "text": [
        "\r",
        "1.033.O.prodprot.vs.lg.terminases.txt         100% 3224     3.2KB/s   00:00    \r\n",
        "\r",
        "1.046.O.prodprot.vs.lg.terminases.txt           0%    0     0.0KB/s   --:-- ETA"
       ]
      },
      {
       "output_type": "stream",
       "stream": "stdout",
       "text": [
        "\r",
        "1.046.O.prodprot.vs.lg.terminases.txt         100% 3223     3.2KB/s   00:01    \r\n",
        "\r",
        "1.088.O.prodprot.vs.lg.terminases.txt           0%    0     0.0KB/s   --:-- ETA"
       ]
      },
      {
       "output_type": "stream",
       "stream": "stdout",
       "text": [
        "\r",
        "1.088.O.prodprot.vs.lg.terminases.txt         100% 3187     3.1KB/s   00:00    \r\n",
        "\r",
        "1.089.O.prodprot.vs.lg.terminases.txt           0%    0     0.0KB/s   --:-- ETA"
       ]
      },
      {
       "output_type": "stream",
       "stream": "stdout",
       "text": [
        "\r",
        "1.089.O.prodprot.vs.lg.terminases.txt         100% 3036     3.0KB/s   00:00    \r\n"
       ]
      },
      {
       "output_type": "stream",
       "stream": "stdout",
       "text": [
        "\r",
        "1.098.O.prodprot.vs.lg.terminases.txt           0%    0     0.0KB/s   --:-- ETA\r",
        "1.098.O.prodprot.vs.lg.terminases.txt         100% 3036     3.0KB/s   00:00    \r\n"
       ]
      },
      {
       "output_type": "stream",
       "stream": "stdout",
       "text": [
        "\r",
        "1.103.O.prodprot.vs.lg.terminases.txt           0%    0     0.0KB/s   --:-- ETA\r",
        "1.103.O.prodprot.vs.lg.terminases.txt         100% 3036     3.0KB/s   00:00    \r\n"
       ]
      },
      {
       "output_type": "stream",
       "stream": "stdout",
       "text": [
        "\r",
        "1.104.O.prodprot.vs.lg.terminases.txt           0%    0     0.0KB/s   --:-- ETA\r",
        "1.104.O.prodprot.vs.lg.terminases.txt         100% 3004     2.9KB/s   00:00    \r\n"
       ]
      },
      {
       "output_type": "stream",
       "stream": "stdout",
       "text": [
        "\r",
        "1.118.A.prodprot.vs.lg.terminases.txt           0%    0     0.0KB/s   --:-- ETA\r",
        "1.118.A.prodprot.vs.lg.terminases.txt         100% 3036     3.0KB/s   00:00    \r\n"
       ]
      },
      {
       "output_type": "stream",
       "stream": "stdout",
       "text": [
        "\r",
        "1.118.B.prodprot.vs.lg.terminases.txt           0%    0     0.0KB/s   --:-- ETA"
       ]
      },
      {
       "output_type": "stream",
       "stream": "stdout",
       "text": [
        "\r",
        "1.118.B.prodprot.vs.lg.terminases.txt         100% 3036     3.0KB/s   00:00    \r\n",
        "\r",
        "1.160.O.prodprot.vs.lg.terminases.txt           0%    0     0.0KB/s   --:-- ETA"
       ]
      },
      {
       "output_type": "stream",
       "stream": "stdout",
       "text": [
        "\r",
        "1.160.O.prodprot.vs.lg.terminases.txt         100% 3036     3.0KB/s   00:00    \r\n",
        "\r",
        "1.171.O.prodprot.vs.lg.terminases.txt           0%    0     0.0KB/s   --:-- ETA"
       ]
      },
      {
       "output_type": "stream",
       "stream": "stdout",
       "text": [
        "\r",
        "1.171.O.prodprot.vs.lg.terminases.txt         100% 3233     3.2KB/s   00:00    \r\n",
        "\r",
        "1.194.O.prodprot.vs.lg.terminases.txt           0%    0     0.0KB/s   --:-- ETA"
       ]
      },
      {
       "output_type": "stream",
       "stream": "stdout",
       "text": [
        "\r",
        "1.194.O.prodprot.vs.lg.terminases.txt         100% 3233     3.2KB/s   00:00    \r\n",
        "\r",
        "1.195.O.prodprot.vs.lg.terminases.txt           0%    0     0.0KB/s   --:-- ETA"
       ]
      },
      {
       "output_type": "stream",
       "stream": "stdout",
       "text": [
        "\r",
        "1.195.O.prodprot.vs.lg.terminases.txt         100% 3233     3.2KB/s   00:00    \r\n"
       ]
      },
      {
       "output_type": "stream",
       "stream": "stdout",
       "text": [
        "\r",
        "1.196.O.prodprot.vs.lg.terminases.txt           0%    0     0.0KB/s   --:-- ETA\r",
        "1.196.O.prodprot.vs.lg.terminases.txt         100% 3233     3.2KB/s   00:00    \r\n"
       ]
      },
      {
       "output_type": "stream",
       "stream": "stdout",
       "text": [
        "\r",
        "1.200.O.prodprot.vs.lg.terminases.txt           0%    0     0.0KB/s   --:-- ETA"
       ]
      },
      {
       "output_type": "stream",
       "stream": "stdout",
       "text": [
        "\r",
        "1.200.O.prodprot.vs.lg.terminases.txt         100% 3233     3.2KB/s   00:00    \r\n",
        "\r",
        "1.237.A.prodprot.vs.lg.terminases.txt           0%    0     0.0KB/s   --:-- ETA"
       ]
      },
      {
       "output_type": "stream",
       "stream": "stdout",
       "text": [
        "\r",
        "1.237.A.prodprot.vs.lg.terminases.txt         100% 3036     3.0KB/s   00:00    \r\n",
        "\r",
        "1.237.B.prodprot.vs.lg.terminases.txt           0%    0     0.0KB/s   --:-- ETA"
       ]
      },
      {
       "output_type": "stream",
       "stream": "stdout",
       "text": [
        "\r",
        "1.237.B.prodprot.vs.lg.terminases.txt         100% 3036     3.0KB/s   00:00    \r\n",
        "\r",
        "1.250.O.prodprot.vs.lg.terminases.txt           0%    0     0.0KB/s   --:-- ETA"
       ]
      },
      {
       "output_type": "stream",
       "stream": "stdout",
       "text": [
        "\r",
        "1.250.O.prodprot.vs.lg.terminases.txt         100% 3259     3.2KB/s   00:01    \r\n",
        "\r",
        "1.251.O.prodprot.vs.lg.terminases.txt           0%    0     0.0KB/s   --:-- ETA"
       ]
      },
      {
       "output_type": "stream",
       "stream": "stdout",
       "text": [
        "\r",
        "1.251.O.prodprot.vs.lg.terminases.txt         100% 3040     3.0KB/s   00:00    \r\n"
       ]
      },
      {
       "output_type": "stream",
       "stream": "stdout",
       "text": [
        "\r",
        "1.267.O.prodprot.vs.lg.terminases.txt           0%    0     0.0KB/s   --:-- ETA\r",
        "1.267.O.prodprot.vs.lg.terminases.txt         100% 3233     3.2KB/s   00:00    \r\n"
       ]
      },
      {
       "output_type": "stream",
       "stream": "stdout",
       "text": [
        "\r",
        "1.268.A.prodprot.vs.lg.terminases.txt           0%    0     0.0KB/s   --:-- ETA"
       ]
      },
      {
       "output_type": "stream",
       "stream": "stdout",
       "text": [
        "\r",
        "1.268.A.prodprot.vs.lg.terminases.txt         100% 3233     3.2KB/s   00:00    \r\n",
        "\r",
        "1.268.B.prodprot.vs.lg.terminases.txt           0%    0     0.0KB/s   --:-- ETA"
       ]
      },
      {
       "output_type": "stream",
       "stream": "stdout",
       "text": [
        "\r",
        "1.268.B.prodprot.vs.lg.terminases.txt         100% 3195     3.1KB/s   00:00    \r\n",
        "\r",
        "1.269.O.prodprot.vs.lg.terminases.txt           0%    0     0.0KB/s   --:-- ETA"
       ]
      },
      {
       "output_type": "stream",
       "stream": "stdout",
       "text": [
        "\r",
        "1.269.O.prodprot.vs.lg.terminases.txt         100% 3195     3.1KB/s   00:00    \r\n"
       ]
      },
      {
       "output_type": "stream",
       "stream": "stdout",
       "text": [
        "\r",
        "1.270.A.prodprot.vs.lg.terminases.txt           0%    0     0.0KB/s   --:-- ETA\r",
        "1.270.A.prodprot.vs.lg.terminases.txt         100% 3233     3.2KB/s   00:00    \r\n"
       ]
      },
      {
       "output_type": "stream",
       "stream": "stdout",
       "text": [
        "\r",
        "1.270.B.prodprot.vs.lg.terminases.txt           0%    0     0.0KB/s   --:-- ETA\r",
        "1.270.B.prodprot.vs.lg.terminases.txt         100% 3233     3.2KB/s   00:00    \r\n"
       ]
      },
      {
       "output_type": "stream",
       "stream": "stdout",
       "text": [
        "\r",
        "1.271.A.prodprot.vs.lg.terminases.txt           0%    0     0.0KB/s   --:-- ETA\r",
        "1.271.A.prodprot.vs.lg.terminases.txt         100% 3233     3.2KB/s   00:00    \r\n"
       ]
      },
      {
       "output_type": "stream",
       "stream": "stdout",
       "text": [
        "\r",
        "1.271.B.prodprot.vs.lg.terminases.txt           0%    0     0.0KB/s   --:-- ETA"
       ]
      },
      {
       "output_type": "stream",
       "stream": "stdout",
       "text": [
        "\r",
        "1.271.B.prodprot.vs.lg.terminases.txt         100% 3233     3.2KB/s   00:00    \r\n",
        "\r",
        "1.272.O.prodprot.vs.lg.terminases.txt           0%    0     0.0KB/s   --:-- ETA"
       ]
      },
      {
       "output_type": "stream",
       "stream": "stdout",
       "text": [
        "\r",
        "1.272.O.prodprot.vs.lg.terminases.txt         100% 3233     3.2KB/s   00:00    \r\n",
        "\r",
        "1.274.O.prodprot.vs.lg.terminases.txt           0%    0     0.0KB/s   --:-- ETA"
       ]
      },
      {
       "output_type": "stream",
       "stream": "stdout",
       "text": [
        "\r",
        "1.274.O.prodprot.vs.lg.terminases.txt         100% 3233     3.2KB/s   00:00    \r\n",
        "\r",
        "1.277.A.prodprot.vs.lg.terminases.txt           0%    0     0.0KB/s   --:-- ETA"
       ]
      },
      {
       "output_type": "stream",
       "stream": "stdout",
       "text": [
        "\r",
        "1.277.A.prodprot.vs.lg.terminases.txt         100% 3195     3.1KB/s   00:00    \r\n",
        "\r",
        "1.277.B.prodprot.vs.lg.terminases.txt           0%    0     0.0KB/s   --:-- ETA"
       ]
      },
      {
       "output_type": "stream",
       "stream": "stdout",
       "text": [
        "\r",
        "1.277.B.prodprot.vs.lg.terminases.txt         100% 3233     3.2KB/s   00:00    \r\n"
       ]
      },
      {
       "output_type": "stream",
       "stream": "stdout",
       "text": [
        "\r",
        "1.280.O.prodprot.vs.lg.terminases.txt           0%    0     0.0KB/s   --:-- ETA\r",
        "1.280.O.prodprot.vs.lg.terminases.txt         100% 3233     3.2KB/s   00:00    \r\n"
       ]
      },
      {
       "output_type": "stream",
       "stream": "stdout",
       "text": [
        "\r",
        "1.281.O.prodprot.vs.lg.terminases.txt           0%    0     0.0KB/s   --:-- ETA\r",
        "1.281.O.prodprot.vs.lg.terminases.txt         100% 3233     3.2KB/s   00:00    \r\n"
       ]
      },
      {
       "output_type": "stream",
       "stream": "stdout",
       "text": [
        "\r",
        "1.282.A.prodprot.vs.lg.terminases.txt           0%    0     0.0KB/s   --:-- ETA\r",
        "1.282.A.prodprot.vs.lg.terminases.txt         100% 3233     3.2KB/s   00:01    \r\n"
       ]
      },
      {
       "output_type": "stream",
       "stream": "stdout",
       "text": [
        "\r",
        "1.283.A.prodprot.vs.lg.terminases.txt           0%    0     0.0KB/s   --:-- ETA"
       ]
      },
      {
       "output_type": "stream",
       "stream": "stdout",
       "text": [
        "\r",
        "1.283.A.prodprot.vs.lg.terminases.txt         100% 3233     3.2KB/s   00:00    \r\n",
        "\r",
        "1.283.B.prodprot.vs.lg.terminases.txt           0%    0     0.0KB/s   --:-- ETA"
       ]
      },
      {
       "output_type": "stream",
       "stream": "stdout",
       "text": [
        "\r",
        "1.283.B.prodprot.vs.lg.terminases.txt         100% 3233     3.2KB/s   00:00    \r\n",
        "\r",
        "1.283.C.prodprot.vs.lg.terminases.txt           0%    0     0.0KB/s   --:-- ETA"
       ]
      },
      {
       "output_type": "stream",
       "stream": "stdout",
       "text": [
        "\r",
        "1.283.C.prodprot.vs.lg.terminases.txt         100% 3233     3.2KB/s   00:00    \r\n",
        "\r",
        "1.285.O.prodprot.vs.lg.terminases.txt           0%    0     0.0KB/s   --:-- ETA"
       ]
      },
      {
       "output_type": "stream",
       "stream": "stdout",
       "text": [
        "\r",
        "1.285.O.prodprot.vs.lg.terminases.txt         100% 3479     3.4KB/s   00:00    \r\n"
       ]
      }
     ],
     "prompt_number": 6
    },
    {
     "cell_type": "code",
     "collapsed": false,
     "input": [],
     "language": "python",
     "metadata": {},
     "outputs": [],
     "prompt_number": 138
    },
    {
     "cell_type": "markdown",
     "metadata": {},
     "source": [
      "####Re-arranging contigs based on location of phage terminase:"
     ]
    },
    {
     "cell_type": "code",
     "collapsed": false,
     "input": [
      "from Bio.Seq import Seq\n",
      "groupfile=group4\n",
      "special_cases=[]\n",
      "for phage in groupfile:\n",
      "\n",
      "    gene_tbl=open(phage+\"genes\").readlines()     #open prodigal gene table for phage genome\n",
      "    loc=[]\n",
      "    nam=[]\n",
      "    for line in gene_tbl[2:]:\n",
      "        here=line.split()\n",
      "        if here[0]==\"CDS\":\n",
      "            loc.append(here[1])\n",
      "        else:\n",
      "            info=here[0].split(\";\")\n",
      "            there=info[0].split(\"=\")\n",
      "            if len(there)==3:\n",
      "                nam.append(\"contig_\"+there[2])\n",
      "    \n",
      "    dict1=dict(zip(nam,loc))                  #create dictionary of the location of each orf by prodigal-assigned name\n",
      "    \n",
      "    blast=open(phage+\"prodprot.vs.lg.terminases.txt\").readlines()       #open blast file \n",
      "    orf=blast[0].split(\"\\t\")[0]                                         #use contig identified in first entry of blast file\n",
      "    value=dict1[orf]\n",
      "    if value.startswith(\"complement\"):                                  #determine orientation of orf\n",
      "        adjust=orf.split(\"_\")\n",
      "        key2=adjust[0]+\"_\"+adjust[1]+\"_\"+str(int(adjust[2])-1)\n",
      "        print(orf)\n",
      "        print(key2)\n",
      "        orientation=\"reverse\"\n",
      "        if dict1.get(key2,0)!=0:\n",
      "            value2=dict1.get(key2,\"end of contig\")\n",
      "            vec1=value2.split(\"(\")\n",
      "            vec2=vec1[1].split(\"..\")\n",
      "            start=vec2[1].replace(\")\",\"\")\n",
      "            stop=vec2[0]\n",
      "            \n",
      "        else:\n",
      "            print(\"at end of contig\")\n",
      "            start=0\n",
      "            special_cases.append(phage)\n",
      "            \n",
      "    else:\n",
      "        adjust=orf.split(\"_\")\n",
      "        key2=adjust[0]+\"_\"+adjust[1]+\"_\"+str(int(adjust[2])+1)\n",
      "        print(orf)\n",
      "        print(key2)\n",
      "        orientation=\"forward\"\n",
      "        if dict1.get(key2,0)!=0:\n",
      "            value2=dict1.get(key2,\"end of contig\")\n",
      "            vec2=value2.split(\"..\")\n",
      "            start=vec2[0]\n",
      "            stop=vec2[1]\n",
      "            \n",
      "        else:\n",
      "            print(\"at end of contig\")\n",
      "            special_cases.append(phage)\n",
      "            start=0\n",
      "    fastafile=phage+\"step1.contig1.fasta\"\n",
      "    f=open(fastafile)\n",
      "    sequence=\"\"\n",
      "    for row in f:\n",
      "        if row.startswith(\">\"):\n",
      "            title=row\n",
      "        else:\n",
      "            sequence+=row\n",
      "    sequence=sequence.replace(\"\\n\",\"\")\n",
      "    \n",
      "    if start!=0:\n",
      "        outfile=open(phage+\"s1c1.rearrange.fasta\",\"w\")\n",
      "        upstream=sequence[0:int(start)-1]\n",
      "        downstream=sequence[int(start)-1:]\n",
      "        rearrange=downstream+upstream\n",
      "        if orientation==\"reverse\":\n",
      "            seq=Seq(rearrange)\n",
      "            out_seq=seq.reverse_complement()\n",
      "            outfile.write(\">\"+phage+\"\\n\"+str(out_seq))\n",
      "        else:\n",
      "            outfile.write(\">\"+phage+\"\\n\"+rearrange)\n",
      "            \n",
      "    outfile.close()\n",
      "    print(phage+\" done!\")"
     ],
     "language": "python",
     "metadata": {},
     "outputs": [
      {
       "output_type": "stream",
       "stream": "stdout",
       "text": [
        "contig_1_62\n",
        "contig_1_61\n",
        "1.237.B. done!\n",
        "contig_1_23\n",
        "contig_1_24\n",
        "1.267.O. done!\n",
        "contig_1_18\n",
        "contig_1_17\n",
        "1.196.O. done!\n",
        "contig_1_14\n",
        "contig_1_15\n",
        "1.195.O. done!\n",
        "contig_1_3\n",
        "contig_1_4\n",
        "1.277.A. done!\n",
        "contig_1_3\n",
        "contig_1_4\n",
        "1.104.O. done!\n",
        "contig_1_79\n",
        "contig_1_78\n",
        "1.271.B. done!\n",
        "contig_1_28\n",
        "contig_1_29\n",
        "1.118.B. done!"
       ]
      },
      {
       "output_type": "stream",
       "stream": "stdout",
       "text": [
        "\n",
        "contig_1_17\n",
        "contig_1_18\n",
        "1.200.O. done!\n",
        "contig_1_17\n",
        "contig_1_18\n",
        "1.281.O. done!\n",
        "contig_1_73\n",
        "contig_1_72\n",
        "1.012.O. done!\n",
        "contig_1_68\n",
        "contig_1_69\n",
        "1.194.O. done!\n",
        "contig_1_7\n",
        "contig_1_8\n",
        "1.269.O. done!\n",
        "contig_1_22\n",
        "contig_1_21\n",
        "1.027.O. done!\n",
        "contig_1_20\n",
        "contig_1_19\n",
        "1.046.O. done!\n",
        "contig_1_1\n",
        "contig_1_0\n",
        "at end of contig\n",
        "1.250.O. done!\n",
        "contig_1_52\n",
        "contig_1_51\n",
        "1.272.O. done!"
       ]
      },
      {
       "output_type": "stream",
       "stream": "stdout",
       "text": [
        "\n",
        "contig_1_28\n",
        "contig_1_29\n",
        "1.270.B. done!\n",
        "contig_1_20\n",
        "contig_1_21\n",
        "1.089.O. done!\n",
        "contig_1_7\n",
        "contig_1_8\n",
        "1.088.O. done!\n",
        "contig_1_14\n",
        "contig_1_15\n",
        "1.274.O. done!\n",
        "contig_1_81\n",
        "contig_1_80\n",
        "1.271.A. done!\n",
        "contig_1_1\n",
        "contig_1_2\n",
        "1.023.O. done!\n",
        "contig_1_79\n",
        "contig_1_80\n",
        "1.171.O. done!\n",
        "contig_1_59\n",
        "contig_1_58\n",
        "1.277.B. done!\n",
        "contig_1_91\n",
        "contig_1_90\n",
        "1.103.O. done!\n",
        "contig_1_15\n",
        "contig_1_16\n",
        "1.022.O. done!\n",
        "contig_1_44\n",
        "contig_1_43\n",
        "1.251.O. done!"
       ]
      },
      {
       "output_type": "stream",
       "stream": "stdout",
       "text": [
        "\n",
        "contig_1_27\n",
        "contig_1_26\n",
        "1.268.A. done!\n",
        "contig_1_56\n",
        "contig_1_55\n",
        "1.024.O. done!\n",
        "contig_1_10\n",
        "contig_1_9\n",
        "1.160.O. done!\n",
        "contig_1_52\n",
        "contig_1_53\n",
        "1.118.A. done!"
       ]
      },
      {
       "output_type": "stream",
       "stream": "stdout",
       "text": [
        "\n",
        "contig_1_18\n",
        "contig_1_17\n",
        "1.280.O. done!\n",
        "contig_1_53\n",
        "contig_1_54\n",
        "1.283.A. done!\n",
        "contig_1_60\n",
        "contig_1_59\n",
        "1.283.C. done!\n",
        "contig_1_89\n",
        "contig_1_90\n",
        "1.237.A. done!\n",
        "contig_1_84\n",
        "contig_1_83\n",
        "1.270.A. done!"
       ]
      },
      {
       "output_type": "stream",
       "stream": "stdout",
       "text": [
        "\n",
        "contig_1_46\n",
        "contig_1_45\n",
        "1.098.O. done!\n",
        "contig_1_30\n",
        "contig_1_29\n",
        "1.032.O. done!"
       ]
      },
      {
       "output_type": "stream",
       "stream": "stdout",
       "text": [
        "\n",
        "contig_1_3\n",
        "contig_1_4\n",
        "1.268.B. done!\n",
        "contig_1_14\n",
        "contig_1_15\n",
        "1.283.B. done!\n",
        "contig_1_14\n",
        "contig_1_15\n",
        "1.285.O. done!\n",
        "contig_1_77\n",
        "contig_1_78\n",
        "1.282.A. done!\n",
        "contig_1_23\n",
        "contig_1_22\n",
        "1.033.O. done!\n"
       ]
      }
     ],
     "prompt_number": 138
    },
    {
     "cell_type": "code",
     "collapsed": false,
     "input": [
      "\n",
      "    "
     ],
     "language": "python",
     "metadata": {},
     "outputs": []
    }
   ],
   "metadata": {}
  }
 ]
}