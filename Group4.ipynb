{
 "metadata": {
  "name": "",
  "signature": "sha256:70c926580d761ce86455e7f01b1cebda5ed0b0cd07e60303ace229b8dedbdf60"
 },
 "nbformat": 3,
 "nbformat_minor": 0,
 "worksheets": [
  {
   "cells": [
    {
     "cell_type": "code",
     "collapsed": false,
     "input": [
      "group=\"group4\""
     ],
     "language": "python",
     "metadata": {},
     "outputs": [],
     "prompt_number": 1
    },
    {
     "cell_type": "code",
     "collapsed": false,
     "input": [
      "import os\n",
      "\n",
      "prelim_groups=open(\"phage_by_group.txt\")\n",
      "phage_grp={}\n",
      "for line in prelim_groups.readlines():\n",
      "    line=line.rstrip(\"\\n\")\n",
      "    vec=line.split(\"\\t\")\n",
      "    phage_grp[vec[0]]=vec[1]\n",
      "groups=list(phage_grp.values())\n",
      "unique=[]\n",
      "for value in groups:\n",
      "    if value not in unique:\n",
      "        unique.append(value)\n",
      "group4=[]\n",
      "for value in phage_grp.keys():\n",
      "    if phage_grp.get(value)=='CNSv2.0:4':\n",
      "        group4.append(value)\n",
      "print(group4)\n",
      "os.chdir(\"./\"+group)"
     ],
     "language": "python",
     "metadata": {},
     "outputs": [
      {
       "output_type": "stream",
       "stream": "stdout",
       "text": [
        "['1.237.B.', '1.267.O.', '1.196.O.', '1.195.O.', '1.277.A.', '1.104.O.', '1.271.B.', '1.118.B.', '1.200.O.', '1.281.O.', '1.012.O.', '1.194.O.', '1.269.O.', '1.027.O.', '1.046.O.', '1.250.O.', '1.272.O.', '1.270.B.', '1.089.O.', '1.088.O.', '1.274.O.', '1.271.A.', '1.023.O.', '1.171.O.', '1.277.B.', '1.103.O.', '1.022.O.', '1.251.O.', '1.268.A.', '1.024.O.', '1.160.O.', '1.118.A.', '1.280.O.', '1.283.A.', '1.283.C.', '1.237.A.', '1.270.A.', '1.098.O.', '1.032.O.', '1.268.B.', '1.283.B.', '1.285.O.', '1.282.A.', '1.033.O.']\n"
       ]
      }
     ],
     "prompt_number": 2
    },
    {
     "cell_type": "code",
     "collapsed": false,
     "input": [],
     "language": "python",
     "metadata": {},
     "outputs": [],
     "prompt_number": 4
    },
    {
     "cell_type": "code",
     "collapsed": false,
     "input": [],
     "language": "python",
     "metadata": {},
     "outputs": [],
     "prompt_number": 4
    },
    {
     "cell_type": "code",
     "collapsed": false,
     "input": [],
     "language": "python",
     "metadata": {},
     "outputs": [],
     "prompt_number": 5
    },
    {
     "cell_type": "code",
     "collapsed": false,
     "input": [],
     "language": "python",
     "metadata": {},
     "outputs": [],
     "prompt_number": 5
    },
    {
     "cell_type": "code",
     "collapsed": false,
     "input": [],
     "language": "python",
     "metadata": {},
     "outputs": [],
     "prompt_number": 32
    },
    {
     "cell_type": "code",
     "collapsed": false,
     "input": [
      "output=open(\"./move_\"+group+\".sh\",\"w\")\n",
      "output.write(\"mkdir \"+group+\"\\n\")\n",
      "for line in group4:\n",
      "    output.write(\"mv \"+line+\"*fastq ./\"+group+\"/\\n\")\n",
      "output.close()"
     ],
     "language": "python",
     "metadata": {},
     "outputs": [],
     "prompt_number": 6
    },
    {
     "cell_type": "code",
     "collapsed": false,
     "input": [
      "!scp move_group4.sh jbrown@eofe4.mit.edu:/nobackup1/jbrown/nahant_phage_reads/"
     ],
     "language": "python",
     "metadata": {},
     "outputs": [
      {
       "output_type": "stream",
       "stream": "stdout",
       "text": [
        "\r",
        "move_group4.sh                                  0%    0     0.0KB/s   --:-- ETA\r",
        "move_group4.sh                                100% 1245     1.2KB/s   00:00    \r\n"
       ]
      }
     ],
     "prompt_number": 7
    },
    {
     "cell_type": "code",
     "collapsed": false,
     "input": [
      "On the server:\n",
      "ls *fastq>group4_fastqlist.txt"
     ],
     "language": "python",
     "metadata": {},
     "outputs": []
    },
    {
     "cell_type": "code",
     "collapsed": false,
     "input": [
      "!scp jbrown@eofe4.mit.edu:/nobackup1/jbrown/nahant_phage_reads/group4/group*_fastqlist.txt ./"
     ],
     "language": "python",
     "metadata": {},
     "outputs": [
      {
       "output_type": "stream",
       "stream": "stdout",
       "text": [
        "\r",
        "group4_fastqlist.txt                            0%    0     0.0KB/s   --:-- ETA\r",
        "group4_fastqlist.txt                          100% 1286     1.3KB/s   00:00    \r\n"
       ]
      }
     ],
     "prompt_number": 8
    },
    {
     "cell_type": "code",
     "collapsed": false,
     "input": [],
     "language": "python",
     "metadata": {},
     "outputs": [],
     "prompt_number": 9
    },
    {
     "cell_type": "code",
     "collapsed": false,
     "input": [
      "step1c1=open(\"step1.contig1.sh\",\"w\")\n",
      "step1c1.write(\"#!/bin/bash\\n#SBATCH -n 16\\n#SBATCH -N 1\\n#SBATCH -o s1c1.out\\n#SBATCH -e s1c1.err\\n#SBATCH -p newnodes\\n\\n\")\n",
      "step1c1.write(\"module add engaging/clc-assembly-cell\\nmodule add engaging/samtools/1.1\\nmodule add engaging/bedtools/2.22.1\\n\\n\")\n",
      "for line in group4:\n",
      "    name=line.rstrip(\"\\n\")\n",
      "    step1c1.write(\"\\n\\n#\"+name+\"\\nclc_assembler -o \"+name+\"step1.clc.fasta -m 500 -p fb ss 100 300 -q \"+ name+\"*.fastq\\n\")\n",
      "    step1c1.write(\"samtools faidx \"+name+\"step1.clc.fasta 'contig_1'>\"+name+\"step1.contig1.fasta\\n\\nclc_mapper -o \"+name+\"step1.contig1.cas -p fb ss 100 300 -q \"+name+\"*.fastq -d \"+name+\"step1.contig1.fasta -a local -r ignore\\n\")\n",
      "    step1c1.write(\"clc_cas_to_sam -a \"+name+\"step1.contig1.cas -o \"+name+\"step1.contig1.bam\\n\\nsamtools sort \"+name+\"step1.contig1.bam \"+name+\"sorted.step1.contig1\\nsamtools index \"+name+\"sorted.step1.contig1.bam\\n\\nbedtools genomecov -ibam \"+name+\"sorted.step1.contig1.bam -d > \"+name+\"step1.contig1.genomecoverage.txt\\n\\n\")\n",
      "step1c1.close()"
     ],
     "language": "python",
     "metadata": {},
     "outputs": [],
     "prompt_number": 22
    },
    {
     "cell_type": "code",
     "collapsed": false,
     "input": [],
     "language": "python",
     "metadata": {},
     "outputs": [],
     "prompt_number": 10
    },
    {
     "cell_type": "code",
     "collapsed": false,
     "input": [
      "!open step1.contig1.sh -a textedit"
     ],
     "language": "python",
     "metadata": {},
     "outputs": [],
     "prompt_number": 20
    },
    {
     "cell_type": "raw",
     "metadata": {},
     "source": []
    },
    {
     "cell_type": "code",
     "collapsed": false,
     "input": [
      "!scp step1.contig1.sh jbrown@eofe4.mit.edu:/nobackup1/jbrown/nahant_phage_reads/group4/"
     ],
     "language": "python",
     "metadata": {},
     "outputs": [
      {
       "output_type": "stream",
       "stream": "stdout",
       "text": [
        "\r",
        "step1.contig1.sh                                0%    0     0.0KB/s   --:-- ETA\r",
        "step1.contig1.sh                              100%   26KB  25.9KB/s   00:00    \r\n"
       ]
      }
     ],
     "prompt_number": 23
    },
    {
     "cell_type": "raw",
     "metadata": {},
     "source": [
      "#on the server:\n",
      "sbatch step1.contig1.sh"
     ]
    },
    {
     "cell_type": "code",
     "collapsed": false,
     "input": [
      "pwd"
     ],
     "language": "python",
     "metadata": {},
     "outputs": [
      {
       "metadata": {},
       "output_type": "pyout",
       "prompt_number": 24,
       "text": [
        "u'/Users/jmb/Desktop/ViralFate/PhageGenomeAssembly/group4'"
       ]
      }
     ],
     "prompt_number": 24
    },
    {
     "cell_type": "code",
     "collapsed": false,
     "input": [
      "!scp jbrown@eofe4.mit.edu:/nobackup1/jbrown/nahant_phage_reads/group4/*genomecoverage* ./"
     ],
     "language": "python",
     "metadata": {},
     "outputs": [
      {
       "output_type": "stream",
       "stream": "stdout",
       "text": [
        "\r",
        "1.012.O.step1.contig1.genomecoverage.txt        0%    0     0.0KB/s   --:-- ETA"
       ]
      },
      {
       "output_type": "stream",
       "stream": "stdout",
       "text": [
        "\r",
        "1.012.O.step1.contig1.genomecoverage.txt      100% 1181KB   1.2MB/s   00:00    \r\n"
       ]
      },
      {
       "output_type": "stream",
       "stream": "stdout",
       "text": [
        "\r",
        "1.022.O.step1.contig1.genomecoverage.txt        0%    0     0.0KB/s   --:-- ETA"
       ]
      },
      {
       "output_type": "stream",
       "stream": "stdout",
       "text": [
        "\r",
        "1.022.O.step1.contig1.genomecoverage.txt      100% 1148KB   1.1MB/s   00:00    \r\n",
        "\r",
        "1.023.O.step1.contig1.genomecoverage.txt        0%    0     0.0KB/s   --:-- ETA"
       ]
      },
      {
       "output_type": "stream",
       "stream": "stdout",
       "text": [
        "\r",
        "1.023.O.step1.contig1.genomecoverage.txt      100% 1100KB   1.1MB/s   00:00    \r\n"
       ]
      },
      {
       "output_type": "stream",
       "stream": "stdout",
       "text": [
        "\r",
        "1.024.O.step1.contig1.genomecoverage.txt        0%    0     0.0KB/s   --:-- ETA"
       ]
      },
      {
       "output_type": "stream",
       "stream": "stdout",
       "text": [
        "\r",
        "1.024.O.step1.contig1.genomecoverage.txt      100% 1141KB   1.1MB/s   00:01    \r\n",
        "\r",
        "1.027.O.step1.contig1.genomecoverage.txt        0%    0     0.0KB/s   --:-- ETA"
       ]
      },
      {
       "output_type": "stream",
       "stream": "stdout",
       "text": [
        "\r",
        "1.027.O.step1.contig1.genomecoverage.txt      100% 1089KB   1.1MB/s   00:00    \r\n",
        "\r",
        "1.032.O.step1.contig1.genomecoverage.txt        0%    0     0.0KB/s   --:-- ETA"
       ]
      },
      {
       "output_type": "stream",
       "stream": "stdout",
       "text": [
        "\r",
        "1.032.O.step1.contig1.genomecoverage.txt      100% 1177KB   1.2MB/s   00:00    \r\n"
       ]
      },
      {
       "output_type": "stream",
       "stream": "stdout",
       "text": [
        "\r",
        "1.033.O.step1.contig1.genomecoverage.txt        0%    0     0.0KB/s   --:-- ETA"
       ]
      },
      {
       "output_type": "stream",
       "stream": "stdout",
       "text": [
        "\r",
        "1.033.O.step1.contig1.genomecoverage.txt      100% 1189KB   1.2MB/s   00:00    \r\n",
        "\r",
        "1.046.O.step1.contig1.genomecoverage.txt        0%    0     0.0KB/s   --:-- ETA"
       ]
      },
      {
       "output_type": "stream",
       "stream": "stdout",
       "text": [
        "\r",
        "1.046.O.step1.contig1.genomecoverage.txt      100% 1211KB   1.2MB/s   00:01    \r\n",
        "\r",
        "1.088.O.step1.contig1.genomecoverage.txt        0%    0     0.0KB/s   --:-- ETA"
       ]
      },
      {
       "output_type": "stream",
       "stream": "stdout",
       "text": [
        "\r",
        "1.088.O.step1.contig1.genomecoverage.txt      100% 1110KB   1.1MB/s   00:00    \r\n"
       ]
      },
      {
       "output_type": "stream",
       "stream": "stdout",
       "text": [
        "\r",
        "1.089.O.step1.contig1.genomecoverage.txt        0%    0     0.0KB/s   --:-- ETA"
       ]
      },
      {
       "output_type": "stream",
       "stream": "stdout",
       "text": [
        "\r",
        "1.089.O.step1.contig1.genomecoverage.txt      100% 1089KB   1.1MB/s   00:00    \r\n",
        "\r",
        "1.098.O.step1.contig1.genomecoverage.txt        0%    0     0.0KB/s   --:-- ETA"
       ]
      },
      {
       "output_type": "stream",
       "stream": "stdout",
       "text": [
        "\r",
        "1.098.O.step1.contig1.genomecoverage.txt      100% 1099KB   1.1MB/s   00:00    \r\n",
        "\r",
        "1.103.O.step1.contig1.genomecoverage.txt        0%    0     0.0KB/s   --:-- ETA"
       ]
      },
      {
       "output_type": "stream",
       "stream": "stdout",
       "text": [
        "\r",
        "1.103.O.step1.contig1.genomecoverage.txt      100% 1135KB   1.1MB/s   00:00    \r\n"
       ]
      },
      {
       "output_type": "stream",
       "stream": "stdout",
       "text": [
        "\r",
        "1.104.O.step1.contig1.genomecoverage.txt        0%    0     0.0KB/s   --:-- ETA"
       ]
      },
      {
       "output_type": "stream",
       "stream": "stdout",
       "text": [
        "\r",
        "1.104.O.step1.contig1.genomecoverage.txt      100% 1116KB   1.1MB/s   00:01    \r\n"
       ]
      },
      {
       "output_type": "stream",
       "stream": "stdout",
       "text": [
        "\r",
        "1.118.A.step1.contig1.genomecoverage.txt        0%    0     0.0KB/s   --:-- ETA"
       ]
      },
      {
       "output_type": "stream",
       "stream": "stdout",
       "text": [
        "\r",
        "1.118.A.step1.contig1.genomecoverage.txt      100% 1111KB   1.1MB/s   00:00    \r\n",
        "\r",
        "1.118.B.step1.contig1.genomecoverage.txt        0%    0     0.0KB/s   --:-- ETA"
       ]
      },
      {
       "output_type": "stream",
       "stream": "stdout",
       "text": [
        "\r",
        "1.118.B.step1.contig1.genomecoverage.txt      100% 1111KB   1.1MB/s   00:00    \r\n",
        "\r",
        "1.160.O.step1.contig1.genomecoverage.txt        0%    0     0.0KB/s   --:-- ETA"
       ]
      },
      {
       "output_type": "stream",
       "stream": "stdout",
       "text": [
        "\r",
        "1.160.O.step1.contig1.genomecoverage.txt      100% 1116KB   1.1MB/s   00:00    \r\n",
        "\r",
        "1.171.O.step1.contig1.genomecoverage.txt        0%    0     0.0KB/s   --:-- ETA"
       ]
      },
      {
       "output_type": "stream",
       "stream": "stdout",
       "text": [
        "\r",
        "1.171.O.step1.contig1.genomecoverage.txt      100% 1049KB   1.0MB/s   00:01    \r\n",
        "\r",
        "1.194.O.step1.contig1.genomecoverage.txt        0%    0     0.0KB/s   --:-- ETA"
       ]
      },
      {
       "output_type": "stream",
       "stream": "stdout",
       "text": [
        "\r",
        "1.194.O.step1.contig1.genomecoverage.txt      100% 1072KB   1.1MB/s   00:00    \r\n"
       ]
      },
      {
       "output_type": "stream",
       "stream": "stdout",
       "text": [
        "\r",
        "1.195.O.step1.contig1.genomecoverage.txt        0%    0     0.0KB/s   --:-- ETA"
       ]
      },
      {
       "output_type": "stream",
       "stream": "stdout",
       "text": [
        "\r",
        "1.195.O.step1.contig1.genomecoverage.txt      100% 1079KB   1.1MB/s   00:00    \r\n",
        "\r",
        "1.196.O.step1.contig1.genomecoverage.txt        0%    0     0.0KB/s   --:-- ETA"
       ]
      },
      {
       "output_type": "stream",
       "stream": "stdout",
       "text": [
        "\r",
        "1.196.O.step1.contig1.genomecoverage.txt      100% 1091KB   1.1MB/s   00:00    \r\n",
        "\r",
        "1.200.O.step1.contig1.genomecoverage.txt        0%    0     0.0KB/s   --:-- ETA"
       ]
      },
      {
       "output_type": "stream",
       "stream": "stdout",
       "text": [
        "\r",
        "1.200.O.step1.contig1.genomecoverage.txt      100% 1089KB   1.1MB/s   00:01    \r\n"
       ]
      },
      {
       "output_type": "stream",
       "stream": "stdout",
       "text": [
        "\r",
        "1.237.A.step1.contig1.genomecoverage.txt        0%    0     0.0KB/s   --:-- ETA"
       ]
      },
      {
       "output_type": "stream",
       "stream": "stdout",
       "text": [
        "\r",
        "1.237.A.step1.contig1.genomecoverage.txt      100% 1050KB   1.0MB/s   00:00    \r\n"
       ]
      },
      {
       "output_type": "stream",
       "stream": "stdout",
       "text": [
        "\r",
        "1.237.B.step1.contig1.genomecoverage.txt        0%    0     0.0KB/s   --:-- ETA"
       ]
      },
      {
       "output_type": "stream",
       "stream": "stdout",
       "text": [
        "\r",
        "1.237.B.step1.contig1.genomecoverage.txt      100% 1105KB   1.1MB/s   00:00    \r\n"
       ]
      },
      {
       "output_type": "stream",
       "stream": "stdout",
       "text": [
        "\r",
        "1.250.O.step1.contig1.genomecoverage.txt        0%    0     0.0KB/s   --:-- ETA"
       ]
      },
      {
       "output_type": "stream",
       "stream": "stdout",
       "text": [
        "\r",
        "1.250.O.step1.contig1.genomecoverage.txt      100% 1102KB   1.1MB/s   00:01    \r\n"
       ]
      },
      {
       "output_type": "stream",
       "stream": "stdout",
       "text": [
        "\r",
        "1.251.O.step1.contig1.genomecoverage.txt        0%    0     0.0KB/s   --:-- ETA"
       ]
      },
      {
       "output_type": "stream",
       "stream": "stdout",
       "text": [
        "\r",
        "1.251.O.step1.contig1.genomecoverage.txt      100% 1096KB   1.1MB/s   00:00    \r\n",
        "\r",
        "1.267.O.step1.contig1.genomecoverage.txt        0%    0     0.0KB/s   --:-- ETA"
       ]
      },
      {
       "output_type": "stream",
       "stream": "stdout",
       "text": [
        "\r",
        "1.267.O.step1.contig1.genomecoverage.txt      100% 1056KB   1.0MB/s   00:00    \r\n",
        "\r",
        "1.268.A.step1.contig1.genomecoverage.txt        0%    0     0.0KB/s   --:-- ETA"
       ]
      },
      {
       "output_type": "stream",
       "stream": "stdout",
       "text": [
        "\r",
        "1.268.A.step1.contig1.genomecoverage.txt      100% 1089KB   1.1MB/s   00:01    \r\n"
       ]
      },
      {
       "output_type": "stream",
       "stream": "stdout",
       "text": [
        "\r",
        "1.268.B.step1.contig1.genomecoverage.txt        0%    0     0.0KB/s   --:-- ETA"
       ]
      },
      {
       "output_type": "stream",
       "stream": "stdout",
       "text": [
        "\r",
        "1.268.B.step1.contig1.genomecoverage.txt      100% 1089KB   1.1MB/s   00:00    \r\n"
       ]
      },
      {
       "output_type": "stream",
       "stream": "stdout",
       "text": [
        "\r",
        "1.269.O.step1.contig1.genomecoverage.txt        0%    0     0.0KB/s   --:-- ETA"
       ]
      },
      {
       "output_type": "stream",
       "stream": "stdout",
       "text": [
        "\r",
        "1.269.O.step1.contig1.genomecoverage.txt      100% 1049KB   1.0MB/s   00:00    \r\n"
       ]
      },
      {
       "output_type": "stream",
       "stream": "stdout",
       "text": [
        "\r",
        "1.270.A.step1.contig1.genomecoverage.txt        0%    0     0.0KB/s   --:-- ETA"
       ]
      },
      {
       "output_type": "stream",
       "stream": "stdout",
       "text": [
        "\r",
        "1.270.A.step1.contig1.genomecoverage.txt      100% 1033KB   1.0MB/s   00:01    \r\n",
        "\r",
        "1.270.B.step1.contig1.genomecoverage.txt        0%    0     0.0KB/s   --:-- ETA"
       ]
      },
      {
       "output_type": "stream",
       "stream": "stdout",
       "text": [
        "\r",
        "1.270.B.step1.contig1.genomecoverage.txt      100% 1031KB   1.0MB/s   00:00    \r\n",
        "\r",
        "1.271.A.step1.contig1.genomecoverage.txt        0%    0     0.0KB/s   --:-- ETA"
       ]
      },
      {
       "output_type": "stream",
       "stream": "stdout",
       "text": [
        "\r",
        "1.271.A.step1.contig1.genomecoverage.txt      100% 1089KB   1.1MB/s   00:00    \r\n",
        "\r",
        "1.271.B.step1.contig1.genomecoverage.txt        0%    0     0.0KB/s   --:-- ETA"
       ]
      },
      {
       "output_type": "stream",
       "stream": "stdout",
       "text": [
        "\r",
        "1.271.B.step1.contig1.genomecoverage.txt      100% 1089KB   1.1MB/s   00:01    \r\n"
       ]
      },
      {
       "output_type": "stream",
       "stream": "stdout",
       "text": [
        "\r",
        "1.272.O.step1.contig1.genomecoverage.txt        0%    0     0.0KB/s   --:-- ETA"
       ]
      },
      {
       "output_type": "stream",
       "stream": "stdout",
       "text": [
        "\r",
        "1.272.O.step1.contig1.genomecoverage.txt      100% 1089KB   1.1MB/s   00:00    \r\n",
        "\r",
        "1.274.O.step1.contig1.genomecoverage.txt        0%    0     0.0KB/s   --:-- ETA"
       ]
      },
      {
       "output_type": "stream",
       "stream": "stdout",
       "text": [
        "\r",
        "1.274.O.step1.contig1.genomecoverage.txt      100% 1091KB   1.1MB/s   00:00    \r\n",
        "\r",
        "1.277.A.step1.contig1.genomecoverage.txt        0%    0     0.0KB/s   --:-- ETA"
       ]
      },
      {
       "output_type": "stream",
       "stream": "stdout",
       "text": [
        "\r",
        "1.277.A.step1.contig1.genomecoverage.txt      100% 1089KB   1.1MB/s   00:01    \r\n",
        "\r",
        "1.277.B.step1.contig1.genomecoverage.txt        0%    0     0.0KB/s   --:-- ETA"
       ]
      },
      {
       "output_type": "stream",
       "stream": "stdout",
       "text": [
        "\r",
        "1.277.B.step1.contig1.genomecoverage.txt      100% 1092KB   1.1MB/s   00:00    \r\n",
        "\r",
        "1.280.O.step1.contig1.genomecoverage.txt        0%    0     0.0KB/s   --:-- ETA"
       ]
      },
      {
       "output_type": "stream",
       "stream": "stdout",
       "text": [
        "\r",
        "1.280.O.step1.contig1.genomecoverage.txt      100% 1089KB   1.1MB/s   00:00    \r\n"
       ]
      },
      {
       "output_type": "stream",
       "stream": "stdout",
       "text": [
        "\r",
        "1.281.O.step1.contig1.genomecoverage.txt        0%    0     0.0KB/s   --:-- ETA"
       ]
      },
      {
       "output_type": "stream",
       "stream": "stdout",
       "text": [
        "\r",
        "1.281.O.step1.contig1.genomecoverage.txt      100% 1036KB   1.0MB/s   00:01    \r\n",
        "\r",
        "1.282.A.step1.contig1.genomecoverage.txt        0%    0     0.0KB/s   --:-- ETA"
       ]
      },
      {
       "output_type": "stream",
       "stream": "stdout",
       "text": [
        "\r",
        "1.282.A.step1.contig1.genomecoverage.txt      100% 1091KB   1.1MB/s   00:00    \r\n"
       ]
      },
      {
       "output_type": "stream",
       "stream": "stdout",
       "text": [
        "\r",
        "1.283.A.step1.contig1.genomecoverage.txt        0%    0     0.0KB/s   --:-- ETA"
       ]
      },
      {
       "output_type": "stream",
       "stream": "stdout",
       "text": [
        "\r",
        "1.283.A.step1.contig1.genomecoverage.txt      100% 1094KB   1.1MB/s   00:00    \r\n",
        "\r",
        "1.283.B.step1.contig1.genomecoverage.txt        0%    0     0.0KB/s   --:-- ETA"
       ]
      },
      {
       "output_type": "stream",
       "stream": "stdout",
       "text": [
        "\r",
        "1.283.B.step1.contig1.genomecoverage.txt      100% 1094KB   1.1MB/s   00:01    \r\n",
        "\r",
        "1.283.C.step1.contig1.genomecoverage.txt        0%    0     0.0KB/s   --:-- ETA"
       ]
      },
      {
       "output_type": "stream",
       "stream": "stdout",
       "text": [
        "\r",
        "1.283.C.step1.contig1.genomecoverage.txt      100% 1094KB   1.1MB/s   00:00    \r\n"
       ]
      },
      {
       "output_type": "stream",
       "stream": "stdout",
       "text": [
        "\r",
        "1.285.O.step1.contig1.genomecoverage.txt        0%    0     0.0KB/s   --:-- ETA"
       ]
      },
      {
       "output_type": "stream",
       "stream": "stdout",
       "text": [
        "\r",
        "1.285.O.step1.contig1.genomecoverage.txt      100% 1098KB   1.1MB/s   00:01    \r\n"
       ]
      }
     ],
     "prompt_number": 25
    },
    {
     "cell_type": "code",
     "collapsed": false,
     "input": [
      "%load_ext rmagic\n",
      "%R library(dplyr)"
     ],
     "language": "python",
     "metadata": {},
     "outputs": [
      {
       "metadata": {},
       "output_type": "display_data",
       "text": [
        "\n",
        "Attaching package: \u2018dplyr\u2019\n",
        "\n",
        "The following object is masked from \u2018package:stats\u2019:\n",
        "\n",
        "    filter\n",
        "\n",
        "The following objects are masked from \u2018package:base\u2019:\n",
        "\n",
        "    intersect, setdiff, setequal, union\n",
        "\n"
       ]
      }
     ],
     "prompt_number": 5
    },
    {
     "cell_type": "code",
     "collapsed": false,
     "input": [],
     "language": "python",
     "metadata": {},
     "outputs": [],
     "prompt_number": 5
    },
    {
     "cell_type": "code",
     "collapsed": false,
     "input": [
      "%%R -i group4\n",
      "\n",
      "for (item in group4){\n",
      "    filename<-paste(item,\"step1.contig1.genomecoverage.txt\",sep=\"\")\n",
      "    coverage<-read.table(filename, sep=\"\\t\")\n",
      "    pdf(paste(item,\"step1.contig1.coverage.plot.pdf\", sep=\"\"))\n",
      "    with(coverage, plot(V2, V3, type=\"n\",xlab=\"position\",ylab=\"coverage\", main=item))\n",
      "    with(coverage, lines(V2,V3))\n",
      "    dev.off()\n",
      "}"
     ],
     "language": "python",
     "metadata": {},
     "outputs": [],
     "prompt_number": 35
    },
    {
     "cell_type": "code",
     "collapsed": false,
     "input": [
      "groupfile=group4\n",
      "blast_commands=open(\"blast_commands.sh\",\"w\")\n",
      "blast_commands.write(\"#!/bin/bash\\n#SBATCH -n 16\\n#SBATCH -N 1\\n#SBATCH -o blast.out\\n#SBATCH -e blast.err\\n#SBATCH -p newnodes\\n\\n\")\n",
      "blast_commands.write(\"module add engaging/ncbi-blast/2.2.30+\\n\\n\\n\")\n",
      "for line in groupfile:\n",
      "    name=line.rstrip(\"\\n\")\n",
      "    inputfasta=name+\"step1.contig1.fasta\"\n",
      "    blastoutputname=name+\"vs.terminases.txt\"\n",
      "    blastcommand=\"blastx -db /nobackup1/jbrown/blast_db/NCBI_phage_terminases_20150414.fasta -query \"+inputfasta+\" -num_descriptions 1 -outfmt 6 -out \"+blastoutputname\n",
      "    blast_commands.write(blastcommand+\"\\n\")\n",
      "blast_commands.close()\n",
      "!open blast_commands.sh -a textedit"
     ],
     "language": "python",
     "metadata": {},
     "outputs": [],
     "prompt_number": 33
    },
    {
     "cell_type": "code",
     "collapsed": false,
     "input": [
      "!scp blast_commands.sh jbrown@eofe4.mit.edu:/nobackup1/jbrown/nahant_phage_reads/group4/"
     ],
     "language": "python",
     "metadata": {},
     "outputs": [
      {
       "output_type": "stream",
       "stream": "stdout",
       "text": [
        "\r",
        "blast_commands.sh                               0%    0     0.0KB/s   --:-- ETA\r",
        "blast_commands.sh                             100% 7667     7.5KB/s   00:00    \r\n"
       ]
      }
     ],
     "prompt_number": 34
    },
    {
     "cell_type": "code",
     "collapsed": false,
     "input": [
      "!scp jbrown@eofe4.mit.edu:/nobackup1/jbrown/nahant_phage_reads/group4/*vs* ./"
     ],
     "language": "python",
     "metadata": {},
     "outputs": [
      {
       "output_type": "stream",
       "stream": "stdout",
       "text": [
        "\r",
        "1.012.O.vs.terminases.txt                       0%    0     0.0KB/s   --:-- ETA"
       ]
      },
      {
       "output_type": "stream",
       "stream": "stdout",
       "text": [
        "\r",
        "1.012.O.vs.terminases.txt                     100%   17KB  16.6KB/s   00:00    \r\n",
        "\r",
        "1.022.O.vs.terminases.txt                       0%    0     0.0KB/s   --:-- ETA"
       ]
      },
      {
       "output_type": "stream",
       "stream": "stdout",
       "text": [
        "\r",
        "1.022.O.vs.terminases.txt                     100%   16KB  16.4KB/s   00:00    \r\n",
        "\r",
        "1.023.O.vs.terminases.txt                       0%    0     0.0KB/s   --:-- ETA"
       ]
      },
      {
       "output_type": "stream",
       "stream": "stdout",
       "text": [
        "\r",
        "1.023.O.vs.terminases.txt                     100%   17KB  16.6KB/s   00:00    \r\n",
        "\r",
        "1.024.O.vs.terminases.txt                       0%    0     0.0KB/s   --:-- ETA"
       ]
      },
      {
       "output_type": "stream",
       "stream": "stdout",
       "text": [
        "\r",
        "1.024.O.vs.terminases.txt                     100%   17KB  16.7KB/s   00:00    \r\n",
        "\r",
        "1.027.O.vs.terminases.txt                       0%    0     0.0KB/s   --:-- ETA\r",
        "1.027.O.vs.terminases.txt                     100%   17KB  17.3KB/s   00:00    \r\n"
       ]
      },
      {
       "output_type": "stream",
       "stream": "stdout",
       "text": [
        "\r",
        "1.032.O.vs.terminases.txt                       0%    0     0.0KB/s   --:-- ETA\r",
        "1.032.O.vs.terminases.txt                     100%   17KB  16.6KB/s   00:00    \r\n"
       ]
      },
      {
       "output_type": "stream",
       "stream": "stdout",
       "text": [
        "\r",
        "1.033.O.vs.terminases.txt                       0%    0     0.0KB/s   --:-- ETA\r",
        "1.033.O.vs.terminases.txt                     100%   17KB  16.6KB/s   00:00    \r\n"
       ]
      },
      {
       "output_type": "stream",
       "stream": "stdout",
       "text": [
        "\r",
        "1.046.O.vs.terminases.txt                       0%    0     0.0KB/s   --:-- ETA\r",
        "1.046.O.vs.terminases.txt                     100%   16KB  16.1KB/s   00:00    \r\n"
       ]
      },
      {
       "output_type": "stream",
       "stream": "stdout",
       "text": [
        "\r",
        "1.088.O.vs.terminases.txt                       0%    0     0.0KB/s   --:-- ETA\r",
        "1.088.O.vs.terminases.txt                     100%   16KB  16.3KB/s   00:00    \r\n"
       ]
      },
      {
       "output_type": "stream",
       "stream": "stdout",
       "text": [
        "\r",
        "1.089.O.vs.terminases.txt                       0%    0     0.0KB/s   --:-- ETA\r",
        "1.089.O.vs.terminases.txt                     100%   17KB  16.6KB/s   00:00    \r\n"
       ]
      },
      {
       "output_type": "stream",
       "stream": "stdout",
       "text": [
        "\r",
        "1.098.O.vs.terminases.txt                       0%    0     0.0KB/s   --:-- ETA\r",
        "1.098.O.vs.terminases.txt                     100%   17KB  16.6KB/s   00:00    \r\n"
       ]
      },
      {
       "output_type": "stream",
       "stream": "stdout",
       "text": [
        "\r",
        "1.103.O.vs.terminases.txt                       0%    0     0.0KB/s   --:-- ETA\r",
        "1.103.O.vs.terminases.txt                     100%   17KB  16.7KB/s   00:00    \r\n"
       ]
      },
      {
       "output_type": "stream",
       "stream": "stdout",
       "text": [
        "\r",
        "1.104.O.vs.terminases.txt                       0%    0     0.0KB/s   --:-- ETA\r",
        "1.104.O.vs.terminases.txt                     100%   16KB  16.4KB/s   00:00    \r\n",
        "\r",
        "1.118.A.vs.terminases.txt                       0%    0     0.0KB/s   --:-- ETA"
       ]
      },
      {
       "output_type": "stream",
       "stream": "stdout",
       "text": [
        "\r",
        "1.118.A.vs.terminases.txt                     100%   17KB  16.6KB/s   00:00    \r\n",
        "\r",
        "1.118.B.vs.terminases.txt                       0%    0     0.0KB/s   --:-- ETA"
       ]
      },
      {
       "output_type": "stream",
       "stream": "stdout",
       "text": [
        "\r",
        "1.118.B.vs.terminases.txt                     100%   17KB  16.6KB/s   00:00    \r\n",
        "\r",
        "1.160.O.vs.terminases.txt                       0%    0     0.0KB/s   --:-- ETA"
       ]
      },
      {
       "output_type": "stream",
       "stream": "stdout",
       "text": [
        "\r",
        "1.160.O.vs.terminases.txt                     100%   17KB  16.9KB/s   00:00    \r\n",
        "\r",
        "1.171.O.vs.terminases.txt                       0%    0     0.0KB/s   --:-- ETA"
       ]
      },
      {
       "output_type": "stream",
       "stream": "stdout",
       "text": [
        "\r",
        "1.171.O.vs.terminases.txt                     100%   17KB  17.3KB/s   00:00    \r\n",
        "\r",
        "1.194.O.vs.terminases.txt                       0%    0     0.0KB/s   --:-- ETA"
       ]
      },
      {
       "output_type": "stream",
       "stream": "stdout",
       "text": [
        "\r",
        "1.194.O.vs.terminases.txt                     100%   17KB  17.5KB/s   00:00    \r\n",
        "\r",
        "1.195.O.vs.terminases.txt                       0%    0     0.0KB/s   --:-- ETA\r",
        "1.195.O.vs.terminases.txt                     100%   17KB  17.5KB/s   00:00    \r\n"
       ]
      },
      {
       "output_type": "stream",
       "stream": "stdout",
       "text": [
        "\r",
        "1.196.O.vs.terminases.txt                       0%    0     0.0KB/s   --:-- ETA\r",
        "1.196.O.vs.terminases.txt                     100%   17KB  17.1KB/s   00:00    \r\n"
       ]
      },
      {
       "output_type": "stream",
       "stream": "stdout",
       "text": [
        "\r",
        "1.200.O.vs.terminases.txt                       0%    0     0.0KB/s   --:-- ETA\r",
        "1.200.O.vs.terminases.txt                     100%   17KB  17.5KB/s   00:00    \r\n"
       ]
      },
      {
       "output_type": "stream",
       "stream": "stdout",
       "text": [
        "\r",
        "1.237.A.vs.terminases.txt                       0%    0     0.0KB/s   --:-- ETA\r",
        "1.237.A.vs.terminases.txt                     100%   17KB  16.6KB/s   00:00    \r\n"
       ]
      },
      {
       "output_type": "stream",
       "stream": "stdout",
       "text": [
        "\r",
        "1.237.B.vs.terminases.txt                       0%    0     0.0KB/s   --:-- ETA\r",
        "1.237.B.vs.terminases.txt                     100%   17KB  16.6KB/s   00:00    \r\n"
       ]
      },
      {
       "output_type": "stream",
       "stream": "stdout",
       "text": [
        "\r",
        "1.250.O.vs.terminases.txt                       0%    0     0.0KB/s   --:-- ETA\r",
        "1.250.O.vs.terminases.txt                     100%   23KB  22.9KB/s   00:00    \r\n"
       ]
      },
      {
       "output_type": "stream",
       "stream": "stdout",
       "text": [
        "\r",
        "1.251.O.vs.terminases.txt                       0%    0     0.0KB/s   --:-- ETA\r",
        "1.251.O.vs.terminases.txt                     100%   25KB  25.2KB/s   00:00    \r\n",
        "\r",
        "1.267.O.vs.terminases.txt                       0%    0     0.0KB/s   --:-- ETA"
       ]
      },
      {
       "output_type": "stream",
       "stream": "stdout",
       "text": [
        "\r",
        "1.267.O.vs.terminases.txt                     100%   17KB  17.5KB/s   00:00    \r\n",
        "\r",
        "1.268.A.vs.terminases.txt                       0%    0     0.0KB/s   --:-- ETA"
       ]
      },
      {
       "output_type": "stream",
       "stream": "stdout",
       "text": [
        "\r",
        "1.268.A.vs.terminases.txt                     100%   17KB  17.1KB/s   00:00    \r\n",
        "\r",
        "1.268.B.vs.terminases.txt                       0%    0     0.0KB/s   --:-- ETA"
       ]
      },
      {
       "output_type": "stream",
       "stream": "stdout",
       "text": [
        "\r",
        "1.268.B.vs.terminases.txt                     100%   17KB  17.1KB/s   00:00    \r\n",
        "\r",
        "1.269.O.vs.terminases.txt                       0%    0     0.0KB/s   --:-- ETA"
       ]
      },
      {
       "output_type": "stream",
       "stream": "stdout",
       "text": [
        "\r",
        "1.269.O.vs.terminases.txt                     100%   17KB  17.1KB/s   00:00    \r\n",
        "\r",
        "1.270.A.vs.terminases.txt                       0%    0     0.0KB/s   --:-- ETA"
       ]
      },
      {
       "output_type": "stream",
       "stream": "stdout",
       "text": [
        "\r",
        "1.270.A.vs.terminases.txt                     100%   17KB  17.5KB/s   00:00    \r\n",
        "\r",
        "1.270.B.vs.terminases.txt                       0%    0     0.0KB/s   --:-- ETA"
       ]
      },
      {
       "output_type": "stream",
       "stream": "stdout",
       "text": [
        "\r",
        "1.270.B.vs.terminases.txt                     100%   17KB  17.5KB/s   00:00    \r\n",
        "\r",
        "1.271.A.vs.terminases.txt                       0%    0     0.0KB/s   --:-- ETA"
       ]
      },
      {
       "output_type": "stream",
       "stream": "stdout",
       "text": [
        "\r",
        "1.271.A.vs.terminases.txt                     100%   17KB  17.5KB/s   00:00    \r\n",
        "\r",
        "1.271.B.vs.terminases.txt                       0%    0     0.0KB/s   --:-- ETA"
       ]
      },
      {
       "output_type": "stream",
       "stream": "stdout",
       "text": [
        "\r",
        "1.271.B.vs.terminases.txt                     100%   17KB  17.1KB/s   00:00    \r\n",
        "\r",
        "1.272.O.vs.terminases.txt                       0%    0     0.0KB/s   --:-- ETA"
       ]
      },
      {
       "output_type": "stream",
       "stream": "stdout",
       "text": [
        "\r",
        "1.272.O.vs.terminases.txt                     100%   17KB  17.5KB/s   00:00    \r\n",
        "\r",
        "1.274.O.vs.terminases.txt                       0%    0     0.0KB/s   --:-- ETA\r",
        "1.274.O.vs.terminases.txt                     100%   17KB  17.5KB/s   00:00    \r\n"
       ]
      },
      {
       "output_type": "stream",
       "stream": "stdout",
       "text": [
        "\r",
        "1.277.A.vs.terminases.txt                       0%    0     0.0KB/s   --:-- ETA\r",
        "1.277.A.vs.terminases.txt                     100%   17KB  17.1KB/s   00:00    \r\n"
       ]
      },
      {
       "output_type": "stream",
       "stream": "stdout",
       "text": [
        "\r",
        "1.277.B.vs.terminases.txt                       0%    0     0.0KB/s   --:-- ETA\r",
        "1.277.B.vs.terminases.txt                     100%   17KB  17.5KB/s   00:00    \r\n"
       ]
      },
      {
       "output_type": "stream",
       "stream": "stdout",
       "text": [
        "\r",
        "1.280.O.vs.terminases.txt                       0%    0     0.0KB/s   --:-- ETA\r",
        "1.280.O.vs.terminases.txt                     100%   17KB  17.1KB/s   00:00    \r\n"
       ]
      },
      {
       "output_type": "stream",
       "stream": "stdout",
       "text": [
        "\r",
        "1.281.O.vs.terminases.txt                       0%    0     0.0KB/s   --:-- ETA\r",
        "1.281.O.vs.terminases.txt                     100%   17KB  17.5KB/s   00:00    \r\n"
       ]
      },
      {
       "output_type": "stream",
       "stream": "stdout",
       "text": [
        "\r",
        "1.282.A.vs.terminases.txt                       0%    0     0.0KB/s   --:-- ETA\r",
        "1.282.A.vs.terminases.txt                     100%   17KB  17.5KB/s   00:00    \r\n",
        "\r",
        "1.283.A.vs.terminases.txt                       0%    0     0.0KB/s   --:-- ETA"
       ]
      },
      {
       "output_type": "stream",
       "stream": "stdout",
       "text": [
        "\r",
        "1.283.A.vs.terminases.txt                     100%   17KB  17.5KB/s   00:00    \r\n",
        "\r",
        "1.283.B.vs.terminases.txt                       0%    0     0.0KB/s   --:-- ETA"
       ]
      },
      {
       "output_type": "stream",
       "stream": "stdout",
       "text": [
        "\r",
        "1.283.B.vs.terminases.txt                     100%   17KB  17.5KB/s   00:00    \r\n",
        "\r",
        "1.283.C.vs.terminases.txt                       0%    0     0.0KB/s   --:-- ETA"
       ]
      },
      {
       "output_type": "stream",
       "stream": "stdout",
       "text": [
        "\r",
        "1.283.C.vs.terminases.txt                     100%   17KB  17.5KB/s   00:00    \r\n",
        "\r",
        "1.285.O.vs.terminases.txt                       0%    0     0.0KB/s   --:-- ETA"
       ]
      },
      {
       "output_type": "stream",
       "stream": "stdout",
       "text": [
        "\r",
        "1.285.O.vs.terminases.txt                     100%   16KB  15.9KB/s   00:00    \r\n"
       ]
      }
     ],
     "prompt_number": 35
    },
    {
     "cell_type": "code",
     "collapsed": false,
     "input": [
      "%%R\n",
      "blast1<-read.table(\"1.103.O.vs.terminases.txt\",sep=\"\\t\")\n",
      "coverage1<-read.table(\"1.103.O.step1.contig1.genomecoverage.txt\", sep=\"\\t\")\n",
      "head(coverage1)\n",
      "termstart<-coverage1[(59364-1000):(59364+1000),]\n",
      "mean(termstart$V3)\n",
      "max(coverage1$V3)\n",
      "mean(coverage1$V3)"
     ],
     "language": "python",
     "metadata": {},
     "outputs": [
      {
       "metadata": {},
       "output_type": "display_data",
       "text": [
        "[1] 511.2801\n"
       ]
      }
     ],
     "prompt_number": 54
    },
    {
     "cell_type": "code",
     "collapsed": false,
     "input": [
      "%%R -i group4\n",
      "for (phage in group4){\n",
      "    blast<-read.table(paste(phage, \"vs.terminases.txt\", sep=\"\"), sep=\"\\t\")\n",
      "    colnames(blast)<-c(\"query\", \"target\", \"pct_id\", \"aln_len\", \"num_mismatch\", \"num_gap\", \"qstart\", \"qstop\", \"tstart\", \"tstop\", \"e_value\", \"bit_score\")\n",
      "    termloc<-blast[1,]$qstart\n",
      "    print(paste(phage, termloc, sep=\":\"))\n",
      "    coverage<-read.table(paste(item,\"step1.contig1.genomecoverage.txt\",sep=\"\"), sep=\"\\t\")\n",
      "}"
     ],
     "language": "python",
     "metadata": {},
     "outputs": [
      {
       "metadata": {},
       "output_type": "display_data",
       "text": [
        "[1] \"1.237.B.:36328\"\n",
        "[1] \"1.267.O.:18538\"\n",
        "[1] \"1.196.O.:8979\"\n",
        "[1] \"1.195.O.:11912\"\n",
        "[1] \"1.277.A.:4349\"\n",
        "[1] \"1.104.O.:2051\"\n",
        "[1] \"1.271.B.:51135\"\n",
        "[1] \"1.118.B.:17141\"\n",
        "[1] \"1.200.O.:13151\"\n",
        "[1] \"1.281.O.:13292\"\n",
        "[1] \"1.012.O.:43454\"\n",
        "[1] \"1.194.O.:50414\"\n",
        "[1] \"1.269.O.:7361\"\n",
        "[1] \"1.027.O.:11490\"\n",
        "[1] \"1.046.O.:11902\"\n",
        "[1] \"1.250.O.:59978\"\n",
        "[1] \"1.272.O.:32097\"\n",
        "[1] \"1.270.B.:23646\"\n",
        "[1] \"1.089.O.:14109\"\n",
        "[1] \"1.088.O.:7109\"\n",
        "[1] \"1.274.O.:11943\"\n",
        "[1] \"1.271.A.:52804\"\n",
        "[1] \"1.023.O.:11\"\n",
        "[1] \"1.171.O.:53425\"\n",
        "[1] \"1.277.B.:34793\"\n",
        "[1] \"1.103.O.:59364\"\n",
        "[1] \"1.022.O.:9738\"\n",
        "[1] \"1.251.O.:25683\"\n",
        "[1] \"1.268.A.:16159\"\n",
        "[1] \"1.024.O.:34826\"\n",
        "[1] \"1.160.O.:4987\"\n",
        "[1] \"1.118.A.:33096\"\n",
        "[1] \"1.280.O.:8832\"\n",
        "[1] \"1.283.A.:39316\"\n",
        "[1] \"1.283.C.:35321\"\n",
        "[1] \"1.237.A.:56669\"\n",
        "[1] \"1.270.A.:55216\"\n",
        "[1] \"1.098.O.:25614\"\n",
        "[1] \"1.032.O.:17668\"\n",
        "[1] \"1.268.B.:4095\"\n",
        "[1] \"1.283.B.:11879\"\n",
        "[1] \"1.285.O.:11425\"\n",
        "[1] \"1.282.A.:53423\"\n",
        "[1] \"1.033.O.:12786\"\n"
       ]
      }
     ],
     "prompt_number": 47
    },
    {
     "cell_type": "markdown",
     "metadata": {},
     "source": [
      "###Next, I'm going to run prodigal and extract amino acid sequences of all ORFs and blast those against the terminase database to determine which ORF encodes a terminase and what that ORF's orientation is on this original contig"
     ]
    },
    {
     "cell_type": "code",
     "collapsed": false,
     "input": [
      "groupfile=group4\n",
      "prodigal=open(\"prodigal.sh\",\"w\")\n",
      "prodigal.write(\"#!/bin/bash\\n#SBATCH -n 16\\n#SBATCH -N 1\\n#SBATCH -o prodigal.out\\n#SBATCH -e prodigal.err\\n#SBATCH -p newnodes\\n\\n\")\n",
      "prodigal.write(\"module add engaging/prodigal/2.6.1\\n\\n\")\n",
      "for line in groupfile:\n",
      "    prodigal.write(\"prodigal -i \"+line+\"step1.contig1.fasta -o \"+line+\"genes -a \"+line+\"proteins.faa -p meta\\n\")\n",
      "prodigal.close()\n",
      "!open prodigal.sh -a textedit"
     ],
     "language": "python",
     "metadata": {},
     "outputs": [],
     "prompt_number": 8
    },
    {
     "cell_type": "code",
     "collapsed": false,
     "input": [
      "!scp prodigal.sh jbrown@eofe4.mit.edu:/nobackup1/jbrown/nahant_phage_reads/group4/"
     ],
     "language": "python",
     "metadata": {},
     "outputs": [
      {
       "output_type": "stream",
       "stream": "stdout",
       "text": [
        "\r",
        "prodigal.sh                                     0%    0     0.0KB/s   --:-- ETA\r",
        "prodigal.sh                                   100% 4060     4.0KB/s   00:00    \r\n"
       ]
      }
     ],
     "prompt_number": 10
    },
    {
     "cell_type": "code",
     "collapsed": false,
     "input": [
      "#process output prodigal file:\n",
      "###code used for larger script to determine location of gene upstream of large subunit terminase\n",
      "\n",
      "\n",
      "groupfile=group4\n",
      "for phage in groupfile:\n",
      "\n",
      "    gene_tbl=open(phage+\"genes\").readlines()\n",
      "    output=open(phage+\"prodigal.info\",\"w\")\n",
      "    output.write(\"phage\\tnumber\\tgene\\tunique\\torientation\\tstart\\tstop\\n\")\n",
      "    loc=[]\n",
      "    nam=[]\n",
      "    for line in gene_tbl[2:]:\n",
      "        here=line.split()\n",
      "        if here[0]==\"CDS\":\n",
      "            loc.append(here[1])\n",
      "        else:\n",
      "            info=here[0].split(\";\")\n",
      "            there=info[0].split(\"=\")\n",
      "            if len(there)==3:\n",
      "                nam.append(\"contig_\"+there[2])\n",
      "    \n",
      "    dict1=dict(zip(nam,loc))\n",
      "    for key in dict1:\n",
      "        value=dict1[key]\n",
      "        number=key.split(\"_\")[2]\n",
      "        unique=phage+key\n",
      "        if value.startswith(\"complement\"):\n",
      "            vec1=value.split(\"(\")\n",
      "            vec2=vec1[1].split(\"..\")\n",
      "            start=vec2[1].replace(\")\",\"\")\n",
      "            stop=vec2[0]\n",
      "            orientation=\"reverse\"\n",
      "        else:\n",
      "            vec2=value.split(\"..\")\n",
      "            start=vec2[0]\n",
      "            stop=vec2[1]\n",
      "            orientation=\"forward\"\n",
      "        #print(phage+\"\\t\"+number+\"\\t\"+key+\"\\t\"+orientation+\"\\t\"+start+\"\\t\"+stop+\"\\n\")\n",
      "        output.write(phage+\"\\t\"+number+\"\\t\"+key+\"\\t\"+unique+\"\\t\"+orientation+\"\\t\"+start+\"\\t\"+stop+\"\\n\")\n",
      "    \n",
      "    output.close()"
     ],
     "language": "python",
     "metadata": {},
     "outputs": [],
     "prompt_number": 106
    },
    {
     "cell_type": "code",
     "collapsed": false,
     "input": [],
     "language": "python",
     "metadata": {},
     "outputs": [],
     "prompt_number": 98
    },
    {
     "cell_type": "code",
     "collapsed": false,
     "input": [
      "groupfile=group4\n",
      "blast_commands=open(\"blast_commands.sh\",\"w\")\n",
      "blast_commands.write(\"#!/bin/bash\\n#SBATCH -n 16\\n#SBATCH -N 1\\n#SBATCH -o blast.out\\n#SBATCH -e blast.err\\n#SBATCH -p newnodes\\n\\n\")\n",
      "blast_commands.write(\"module add engaging/ncbi-blast/2.2.30+\\n\\n\\n\")\n",
      "for line in groupfile:\n",
      "    name=line.rstrip(\"\\n\")\n",
      "    inputfasta=line+\"proteins.faa\"\n",
      "    blastoutputname=name+\"prodprots.vs.terminases.txt\"\n",
      "    blastcommand=\"blastp -db /nobackup1/jbrown/blast_db/NCBI_phage_terminases_20150414.fasta -query \"+inputfasta+\" -num_descriptions 1 -outfmt 6 -out \"+blastoutputname\n",
      "    blast_commands.write(blastcommand+\"\\n\")\n",
      "blast_commands.close()\n",
      "!open blast_commands.sh -a textedit"
     ],
     "language": "python",
     "metadata": {},
     "outputs": [],
     "prompt_number": 13
    },
    {
     "cell_type": "markdown",
     "metadata": {},
     "source": [
      "####The above blast results showed that there were multiple hits from at least two locations per genome to terminases, suggesting that this BLAST db has both small and larg subunit terminases.  I've created two new blast databases that have only large or small subunit terminases attributed to phages only."
     ]
    },
    {
     "cell_type": "code",
     "collapsed": false,
     "input": [
      "groupfile=group4\n",
      "blast_commands=open(\"blast_commands.sh\",\"w\")\n",
      "blast_commands.write(\"#!/bin/bash\\n#SBATCH -n 16\\n#SBATCH -N 1\\n#SBATCH -o blast.out\\n#SBATCH -e blast.err\\n#SBATCH -p sched_mit_chisholm\\n\\n\")\n",
      "blast_commands.write(\"module add engaging/ncbi-blast/2.2.30+\\n\\n\\n\")\n",
      "for line in groupfile:\n",
      "    inputfasta=line+\"proteins.faa\"\n",
      "    bout1=line+\"prodprot.vs.lg.terminases.txt\"\n",
      "    bout2=line+\"prodprot.vs.sm.terminases.txt\"\n",
      "    #blastcommand=\"blastp -db /nobackup1/jbrown/blast_db/terminase_lg_subunit.fasta -query \"+inputfasta+\" -num_descriptions 1 -evalue 0.00001 -outfmt 6 -out \"+bout1\n",
      "    blastcommand2=\"blastx -db /nobackup1/jbrown/blast_db/terminase_sm_subunit.fasta -query \"+inputfasta+\" -num_descriptions 1 -outfmt 6 -out \"+bout2\n",
      "    blast_commands.write(blastcommand2+\"\\n\")#+blastcommand2+\"\\n\\n\")\n",
      "blast_commands.close()\n",
      "!open blast_commands.sh -a textedit"
     ],
     "language": "python",
     "metadata": {},
     "outputs": [],
     "prompt_number": 8
    },
    {
     "cell_type": "code",
     "collapsed": false,
     "input": [
      "!scp blast_commands.sh jbrown@eofe4.mit.edu:/nobackup1/jbrown/nahant_phage_reads/group4/"
     ],
     "language": "python",
     "metadata": {},
     "outputs": [
      {
       "output_type": "stream",
       "stream": "stdout",
       "text": [
        "\r",
        "blast_commands.sh                               0%    0     0.0KB/s   --:-- ETA\r",
        "blast_commands.sh                             100% 7457     7.3KB/s   00:00    \r\n"
       ]
      }
     ],
     "prompt_number": 9
    },
    {
     "cell_type": "code",
     "collapsed": false,
     "input": [
      "!scp jbrown@eofe4.mit.edu:/nobackup1/jbrown/nahant_phage_reads/group4/*.vs.lg.terminase* ./"
     ],
     "language": "python",
     "metadata": {},
     "outputs": [
      {
       "output_type": "stream",
       "stream": "stdout",
       "text": [
        "\r",
        "1.012.O.prodprot.vs.lg.terminases.txt           0%    0     0.0KB/s   --:-- ETA"
       ]
      },
      {
       "output_type": "stream",
       "stream": "stdout",
       "text": [
        "\r",
        "1.012.O.prodprot.vs.lg.terminases.txt         100% 3036     3.0KB/s   00:00    \r\n"
       ]
      },
      {
       "output_type": "stream",
       "stream": "stdout",
       "text": [
        "\r",
        "1.022.O.prodprot.vs.lg.terminases.txt           0%    0     0.0KB/s   --:-- ETA\r",
        "1.022.O.prodprot.vs.lg.terminases.txt         100% 3030     3.0KB/s   00:00    \r\n"
       ]
      },
      {
       "output_type": "stream",
       "stream": "stdout",
       "text": [
        "\r",
        "1.023.O.prodprot.vs.lg.terminases.txt           0%    0     0.0KB/s   --:-- ETA"
       ]
      },
      {
       "output_type": "stream",
       "stream": "stdout",
       "text": [
        "\r",
        "1.023.O.prodprot.vs.lg.terminases.txt         100% 3481     3.4KB/s   00:00    \r\n",
        "\r",
        "1.024.O.prodprot.vs.lg.terminases.txt           0%    0     0.0KB/s   --:-- ETA"
       ]
      },
      {
       "output_type": "stream",
       "stream": "stdout",
       "text": [
        "\r",
        "1.024.O.prodprot.vs.lg.terminases.txt         100% 3225     3.2KB/s   00:00    \r\n",
        "\r",
        "1.027.O.prodprot.vs.lg.terminases.txt           0%    0     0.0KB/s   --:-- ETA"
       ]
      },
      {
       "output_type": "stream",
       "stream": "stdout",
       "text": [
        "\r",
        "1.027.O.prodprot.vs.lg.terminases.txt         100% 3233     3.2KB/s   00:00    \r\n"
       ]
      },
      {
       "output_type": "stream",
       "stream": "stdout",
       "text": [
        "\r",
        "1.032.O.prodprot.vs.lg.terminases.txt           0%    0     0.0KB/s   --:-- ETA\r",
        "1.032.O.prodprot.vs.lg.terminases.txt         100% 3036     3.0KB/s   00:00    \r\n"
       ]
      },
      {
       "output_type": "stream",
       "stream": "stdout",
       "text": [
        "\r",
        "1.033.O.prodprot.vs.lg.terminases.txt           0%    0     0.0KB/s   --:-- ETA"
       ]
      },
      {
       "output_type": "stream",
       "stream": "stdout",
       "text": [
        "\r",
        "1.033.O.prodprot.vs.lg.terminases.txt         100% 3224     3.2KB/s   00:00    \r\n",
        "\r",
        "1.046.O.prodprot.vs.lg.terminases.txt           0%    0     0.0KB/s   --:-- ETA"
       ]
      },
      {
       "output_type": "stream",
       "stream": "stdout",
       "text": [
        "\r",
        "1.046.O.prodprot.vs.lg.terminases.txt         100% 3223     3.2KB/s   00:01    \r\n",
        "\r",
        "1.088.O.prodprot.vs.lg.terminases.txt           0%    0     0.0KB/s   --:-- ETA"
       ]
      },
      {
       "output_type": "stream",
       "stream": "stdout",
       "text": [
        "\r",
        "1.088.O.prodprot.vs.lg.terminases.txt         100% 3187     3.1KB/s   00:00    \r\n",
        "\r",
        "1.089.O.prodprot.vs.lg.terminases.txt           0%    0     0.0KB/s   --:-- ETA"
       ]
      },
      {
       "output_type": "stream",
       "stream": "stdout",
       "text": [
        "\r",
        "1.089.O.prodprot.vs.lg.terminases.txt         100% 3036     3.0KB/s   00:00    \r\n"
       ]
      },
      {
       "output_type": "stream",
       "stream": "stdout",
       "text": [
        "\r",
        "1.098.O.prodprot.vs.lg.terminases.txt           0%    0     0.0KB/s   --:-- ETA\r",
        "1.098.O.prodprot.vs.lg.terminases.txt         100% 3036     3.0KB/s   00:00    \r\n"
       ]
      },
      {
       "output_type": "stream",
       "stream": "stdout",
       "text": [
        "\r",
        "1.103.O.prodprot.vs.lg.terminases.txt           0%    0     0.0KB/s   --:-- ETA\r",
        "1.103.O.prodprot.vs.lg.terminases.txt         100% 3036     3.0KB/s   00:00    \r\n"
       ]
      },
      {
       "output_type": "stream",
       "stream": "stdout",
       "text": [
        "\r",
        "1.104.O.prodprot.vs.lg.terminases.txt           0%    0     0.0KB/s   --:-- ETA\r",
        "1.104.O.prodprot.vs.lg.terminases.txt         100% 3004     2.9KB/s   00:00    \r\n"
       ]
      },
      {
       "output_type": "stream",
       "stream": "stdout",
       "text": [
        "\r",
        "1.118.A.prodprot.vs.lg.terminases.txt           0%    0     0.0KB/s   --:-- ETA\r",
        "1.118.A.prodprot.vs.lg.terminases.txt         100% 3036     3.0KB/s   00:00    \r\n"
       ]
      },
      {
       "output_type": "stream",
       "stream": "stdout",
       "text": [
        "\r",
        "1.118.B.prodprot.vs.lg.terminases.txt           0%    0     0.0KB/s   --:-- ETA"
       ]
      },
      {
       "output_type": "stream",
       "stream": "stdout",
       "text": [
        "\r",
        "1.118.B.prodprot.vs.lg.terminases.txt         100% 3036     3.0KB/s   00:00    \r\n",
        "\r",
        "1.160.O.prodprot.vs.lg.terminases.txt           0%    0     0.0KB/s   --:-- ETA"
       ]
      },
      {
       "output_type": "stream",
       "stream": "stdout",
       "text": [
        "\r",
        "1.160.O.prodprot.vs.lg.terminases.txt         100% 3036     3.0KB/s   00:00    \r\n",
        "\r",
        "1.171.O.prodprot.vs.lg.terminases.txt           0%    0     0.0KB/s   --:-- ETA"
       ]
      },
      {
       "output_type": "stream",
       "stream": "stdout",
       "text": [
        "\r",
        "1.171.O.prodprot.vs.lg.terminases.txt         100% 3233     3.2KB/s   00:00    \r\n",
        "\r",
        "1.194.O.prodprot.vs.lg.terminases.txt           0%    0     0.0KB/s   --:-- ETA"
       ]
      },
      {
       "output_type": "stream",
       "stream": "stdout",
       "text": [
        "\r",
        "1.194.O.prodprot.vs.lg.terminases.txt         100% 3233     3.2KB/s   00:00    \r\n",
        "\r",
        "1.195.O.prodprot.vs.lg.terminases.txt           0%    0     0.0KB/s   --:-- ETA"
       ]
      },
      {
       "output_type": "stream",
       "stream": "stdout",
       "text": [
        "\r",
        "1.195.O.prodprot.vs.lg.terminases.txt         100% 3233     3.2KB/s   00:00    \r\n"
       ]
      },
      {
       "output_type": "stream",
       "stream": "stdout",
       "text": [
        "\r",
        "1.196.O.prodprot.vs.lg.terminases.txt           0%    0     0.0KB/s   --:-- ETA\r",
        "1.196.O.prodprot.vs.lg.terminases.txt         100% 3233     3.2KB/s   00:00    \r\n"
       ]
      },
      {
       "output_type": "stream",
       "stream": "stdout",
       "text": [
        "\r",
        "1.200.O.prodprot.vs.lg.terminases.txt           0%    0     0.0KB/s   --:-- ETA"
       ]
      },
      {
       "output_type": "stream",
       "stream": "stdout",
       "text": [
        "\r",
        "1.200.O.prodprot.vs.lg.terminases.txt         100% 3233     3.2KB/s   00:00    \r\n",
        "\r",
        "1.237.A.prodprot.vs.lg.terminases.txt           0%    0     0.0KB/s   --:-- ETA"
       ]
      },
      {
       "output_type": "stream",
       "stream": "stdout",
       "text": [
        "\r",
        "1.237.A.prodprot.vs.lg.terminases.txt         100% 3036     3.0KB/s   00:00    \r\n",
        "\r",
        "1.237.B.prodprot.vs.lg.terminases.txt           0%    0     0.0KB/s   --:-- ETA"
       ]
      },
      {
       "output_type": "stream",
       "stream": "stdout",
       "text": [
        "\r",
        "1.237.B.prodprot.vs.lg.terminases.txt         100% 3036     3.0KB/s   00:00    \r\n",
        "\r",
        "1.250.O.prodprot.vs.lg.terminases.txt           0%    0     0.0KB/s   --:-- ETA"
       ]
      },
      {
       "output_type": "stream",
       "stream": "stdout",
       "text": [
        "\r",
        "1.250.O.prodprot.vs.lg.terminases.txt         100% 3259     3.2KB/s   00:01    \r\n",
        "\r",
        "1.251.O.prodprot.vs.lg.terminases.txt           0%    0     0.0KB/s   --:-- ETA"
       ]
      },
      {
       "output_type": "stream",
       "stream": "stdout",
       "text": [
        "\r",
        "1.251.O.prodprot.vs.lg.terminases.txt         100% 3040     3.0KB/s   00:00    \r\n"
       ]
      },
      {
       "output_type": "stream",
       "stream": "stdout",
       "text": [
        "\r",
        "1.267.O.prodprot.vs.lg.terminases.txt           0%    0     0.0KB/s   --:-- ETA\r",
        "1.267.O.prodprot.vs.lg.terminases.txt         100% 3233     3.2KB/s   00:00    \r\n"
       ]
      },
      {
       "output_type": "stream",
       "stream": "stdout",
       "text": [
        "\r",
        "1.268.A.prodprot.vs.lg.terminases.txt           0%    0     0.0KB/s   --:-- ETA"
       ]
      },
      {
       "output_type": "stream",
       "stream": "stdout",
       "text": [
        "\r",
        "1.268.A.prodprot.vs.lg.terminases.txt         100% 3233     3.2KB/s   00:00    \r\n",
        "\r",
        "1.268.B.prodprot.vs.lg.terminases.txt           0%    0     0.0KB/s   --:-- ETA"
       ]
      },
      {
       "output_type": "stream",
       "stream": "stdout",
       "text": [
        "\r",
        "1.268.B.prodprot.vs.lg.terminases.txt         100% 3195     3.1KB/s   00:00    \r\n",
        "\r",
        "1.269.O.prodprot.vs.lg.terminases.txt           0%    0     0.0KB/s   --:-- ETA"
       ]
      },
      {
       "output_type": "stream",
       "stream": "stdout",
       "text": [
        "\r",
        "1.269.O.prodprot.vs.lg.terminases.txt         100% 3195     3.1KB/s   00:00    \r\n"
       ]
      },
      {
       "output_type": "stream",
       "stream": "stdout",
       "text": [
        "\r",
        "1.270.A.prodprot.vs.lg.terminases.txt           0%    0     0.0KB/s   --:-- ETA\r",
        "1.270.A.prodprot.vs.lg.terminases.txt         100% 3233     3.2KB/s   00:00    \r\n"
       ]
      },
      {
       "output_type": "stream",
       "stream": "stdout",
       "text": [
        "\r",
        "1.270.B.prodprot.vs.lg.terminases.txt           0%    0     0.0KB/s   --:-- ETA\r",
        "1.270.B.prodprot.vs.lg.terminases.txt         100% 3233     3.2KB/s   00:00    \r\n"
       ]
      },
      {
       "output_type": "stream",
       "stream": "stdout",
       "text": [
        "\r",
        "1.271.A.prodprot.vs.lg.terminases.txt           0%    0     0.0KB/s   --:-- ETA\r",
        "1.271.A.prodprot.vs.lg.terminases.txt         100% 3233     3.2KB/s   00:00    \r\n"
       ]
      },
      {
       "output_type": "stream",
       "stream": "stdout",
       "text": [
        "\r",
        "1.271.B.prodprot.vs.lg.terminases.txt           0%    0     0.0KB/s   --:-- ETA"
       ]
      },
      {
       "output_type": "stream",
       "stream": "stdout",
       "text": [
        "\r",
        "1.271.B.prodprot.vs.lg.terminases.txt         100% 3233     3.2KB/s   00:00    \r\n",
        "\r",
        "1.272.O.prodprot.vs.lg.terminases.txt           0%    0     0.0KB/s   --:-- ETA"
       ]
      },
      {
       "output_type": "stream",
       "stream": "stdout",
       "text": [
        "\r",
        "1.272.O.prodprot.vs.lg.terminases.txt         100% 3233     3.2KB/s   00:00    \r\n",
        "\r",
        "1.274.O.prodprot.vs.lg.terminases.txt           0%    0     0.0KB/s   --:-- ETA"
       ]
      },
      {
       "output_type": "stream",
       "stream": "stdout",
       "text": [
        "\r",
        "1.274.O.prodprot.vs.lg.terminases.txt         100% 3233     3.2KB/s   00:00    \r\n",
        "\r",
        "1.277.A.prodprot.vs.lg.terminases.txt           0%    0     0.0KB/s   --:-- ETA"
       ]
      },
      {
       "output_type": "stream",
       "stream": "stdout",
       "text": [
        "\r",
        "1.277.A.prodprot.vs.lg.terminases.txt         100% 3195     3.1KB/s   00:00    \r\n",
        "\r",
        "1.277.B.prodprot.vs.lg.terminases.txt           0%    0     0.0KB/s   --:-- ETA"
       ]
      },
      {
       "output_type": "stream",
       "stream": "stdout",
       "text": [
        "\r",
        "1.277.B.prodprot.vs.lg.terminases.txt         100% 3233     3.2KB/s   00:00    \r\n"
       ]
      },
      {
       "output_type": "stream",
       "stream": "stdout",
       "text": [
        "\r",
        "1.280.O.prodprot.vs.lg.terminases.txt           0%    0     0.0KB/s   --:-- ETA\r",
        "1.280.O.prodprot.vs.lg.terminases.txt         100% 3233     3.2KB/s   00:00    \r\n"
       ]
      },
      {
       "output_type": "stream",
       "stream": "stdout",
       "text": [
        "\r",
        "1.281.O.prodprot.vs.lg.terminases.txt           0%    0     0.0KB/s   --:-- ETA\r",
        "1.281.O.prodprot.vs.lg.terminases.txt         100% 3233     3.2KB/s   00:00    \r\n"
       ]
      },
      {
       "output_type": "stream",
       "stream": "stdout",
       "text": [
        "\r",
        "1.282.A.prodprot.vs.lg.terminases.txt           0%    0     0.0KB/s   --:-- ETA\r",
        "1.282.A.prodprot.vs.lg.terminases.txt         100% 3233     3.2KB/s   00:01    \r\n"
       ]
      },
      {
       "output_type": "stream",
       "stream": "stdout",
       "text": [
        "\r",
        "1.283.A.prodprot.vs.lg.terminases.txt           0%    0     0.0KB/s   --:-- ETA"
       ]
      },
      {
       "output_type": "stream",
       "stream": "stdout",
       "text": [
        "\r",
        "1.283.A.prodprot.vs.lg.terminases.txt         100% 3233     3.2KB/s   00:00    \r\n",
        "\r",
        "1.283.B.prodprot.vs.lg.terminases.txt           0%    0     0.0KB/s   --:-- ETA"
       ]
      },
      {
       "output_type": "stream",
       "stream": "stdout",
       "text": [
        "\r",
        "1.283.B.prodprot.vs.lg.terminases.txt         100% 3233     3.2KB/s   00:00    \r\n",
        "\r",
        "1.283.C.prodprot.vs.lg.terminases.txt           0%    0     0.0KB/s   --:-- ETA"
       ]
      },
      {
       "output_type": "stream",
       "stream": "stdout",
       "text": [
        "\r",
        "1.283.C.prodprot.vs.lg.terminases.txt         100% 3233     3.2KB/s   00:00    \r\n",
        "\r",
        "1.285.O.prodprot.vs.lg.terminases.txt           0%    0     0.0KB/s   --:-- ETA"
       ]
      },
      {
       "output_type": "stream",
       "stream": "stdout",
       "text": [
        "\r",
        "1.285.O.prodprot.vs.lg.terminases.txt         100% 3479     3.4KB/s   00:00    \r\n"
       ]
      }
     ],
     "prompt_number": 6
    },
    {
     "cell_type": "markdown",
     "metadata": {},
     "source": [
      "####Re-arranging contigs based on location of phage terminase:"
     ]
    },
    {
     "cell_type": "code",
     "collapsed": false,
     "input": [
      "for phage in group4:\n",
      "    blast=open(phage+\"prodprot.vs.lg.terminases.txt\").readlines()       #open blast file \n",
      "    print(phage)\n",
      "    terminase_hits=[]\n",
      "    for line in blast:\n",
      "        \n",
      "        if line.split(\"\\t\")[0] not in terminase_hits:\n",
      "            terminase_hits.append(line.split(\"\\t\")[0])\n",
      "    if len(terminase_hits)==1:\n",
      "        print(\"one orf matches terminase\")\n",
      "    else:\n",
      "        print(terminase_hits)"
     ],
     "language": "python",
     "metadata": {},
     "outputs": [
      {
       "output_type": "stream",
       "stream": "stdout",
       "text": [
        "1.237.B.\n",
        "one orf matches terminase\n",
        "1.267.O.\n",
        "one orf matches terminase\n",
        "1.196.O.\n",
        "one orf matches terminase\n",
        "1.195.O.\n",
        "one orf matches terminase\n",
        "1.277.A.\n",
        "one orf matches terminase\n",
        "1.104.O.\n",
        "one orf matches terminase\n",
        "1.271.B.\n",
        "one orf matches terminase\n",
        "1.118.B.\n",
        "one orf matches terminase\n",
        "1.200.O.\n",
        "one orf matches terminase\n",
        "1.281.O.\n",
        "one orf matches terminase\n",
        "1.012.O.\n",
        "one orf matches terminase\n",
        "1.194.O.\n",
        "one orf matches terminase\n",
        "1.269.O.\n",
        "one orf matches terminase\n",
        "1.027.O.\n",
        "one orf matches terminase\n",
        "1.046.O.\n",
        "one orf matches terminase\n",
        "1.250.O.\n",
        "['contig_1_1', 'contig_1_94']\n",
        "1.272.O.\n",
        "one orf matches terminase\n",
        "1.270.B.\n",
        "one orf matches terminase\n",
        "1.089.O.\n",
        "one orf matches terminase\n",
        "1.088.O.\n",
        "one orf matches terminase\n",
        "1.274.O.\n",
        "one orf matches terminase\n",
        "1.271.A.\n",
        "one orf matches terminase\n",
        "1.023.O.\n",
        "['contig_1_1', 'contig_1_92']\n",
        "1.171.O.\n",
        "one orf matches terminase\n",
        "1.277.B.\n",
        "one orf matches terminase\n",
        "1.103.O.\n",
        "one orf matches terminase\n",
        "1.022.O.\n",
        "one orf matches terminase\n",
        "1.251.O.\n",
        "one orf matches terminase\n",
        "1.268.A.\n",
        "one orf matches terminase\n",
        "1.024.O.\n",
        "one orf matches terminase\n",
        "1.160.O.\n",
        "one orf matches terminase\n",
        "1.118.A.\n",
        "one orf matches terminase\n",
        "1.280.O.\n",
        "one orf matches terminase\n",
        "1.283.A.\n",
        "one orf matches terminase\n",
        "1.283.C.\n",
        "one orf matches terminase\n",
        "1.237.A.\n",
        "one orf matches terminase\n",
        "1.270.A.\n",
        "one orf matches terminase\n",
        "1.098.O.\n",
        "one orf matches terminase\n",
        "1.032.O.\n",
        "one orf matches terminase\n",
        "1.268.B.\n",
        "one orf matches terminase\n",
        "1.283.B.\n",
        "one orf matches terminase\n",
        "1.285.O.\n",
        "one orf matches terminase\n",
        "1.282.A.\n",
        "one orf matches terminase\n",
        "1.033.O.\n",
        "one orf matches terminase\n"
       ]
      }
     ],
     "prompt_number": 8
    },
    {
     "cell_type": "code",
     "collapsed": false,
     "input": [
      "from Bio.Seq import Seq\n",
      "\n",
      "groupfile=group4\n",
      "startpoint=[]\n",
      "for phage in groupfile:\n",
      "\n",
      "    #Create dictionary of identity and location of prodigal calls for phage genome\n",
      "    gene_tbl=open(phage+\"genes\").readlines()     #open prodigal gene table for phage genome\n",
      "    loc=[]\n",
      "    nam=[]\n",
      "    for line in gene_tbl[2:]:\n",
      "        here=line.split()\n",
      "        if here[0]==\"CDS\":\n",
      "            loc.append(here[1])\n",
      "        else:\n",
      "            info=here[0].split(\";\")\n",
      "            there=info[0].split(\"=\")\n",
      "            if len(there)==3:\n",
      "                nam.append(\"contig_\"+there[2])\n",
      "    dict1=dict(zip(nam,loc))                  #create dictionary of the location of each orf by prodigal-assigned name\n",
      "    \n",
      "    blast=open(phage+\"prodprot.vs.lg.terminases.txt\").readlines()       #open blast file \n",
      "    orf=blast[0].split(\"\\t\")[0]                                         #use contig identified in first entry of blast file\n",
      "    value=dict1[orf]                                                    #pull out location of BLAST-identified terminase\n",
      "    if value.startswith(\"complement\"):                                  #determine orientation of orf and\n",
      "        adjust=orf.split(\"_\")                                           #identification of start of gene upstream of terminase large subunit\n",
      "        orientation=\"reverse\"\n",
      "        key2=adjust[0]+\"_\"+adjust[1]+\"_\"+str(int(adjust[2])+1)\n",
      "        value2=dict1.get(key2,0)\n",
      "        if dict1.get(key2,0)!=0:                                           \n",
      "            \n",
      "            vec1=value2.split(\"(\")\n",
      "            vec2=vec1[1].split(\"..\")\n",
      "            start=vec2[1].replace(\">\",\"\").replace(\")\",\"\")\n",
      "            stop=vec2[0].replace(\">\",\"\").replace(\")\",\"\")\n",
      "            \n",
      "        else:\n",
      "            print(\"end of contig reverse\")\n",
      "            key2=adjust[0]+\"_\"+adjust[1]+\"_1\"\n",
      "            orientation=\"reverse\"\n",
      "            value2=dict1.get(key2,\"end of contig\")\n",
      "            vec1=value2.split(\"(\")\n",
      "            vec2=vec1[1].split(\"..\")\n",
      "            start=vec2[0].replace(\">\",\"\").replace(\")\",\"\")\n",
      "            stop=vec2[1].replace(\">\",\"\").replace(\")\",\"\")\n",
      "                   \n",
      "    else:\n",
      "        adjust=orf.split(\"_\")\n",
      "        key2=adjust[0]+\"_\"+adjust[1]+\"_\"+str(int(adjust[2])-1)\n",
      "        orientation=\"forward\"\n",
      "        if dict1.get(key2,0)!=0:\n",
      "            value2=dict1.get(key2,\"end of contig\")\n",
      "            vec2=value2.split(\"..\")\n",
      "            start=vec2[0].replace(\">\",\"\").replace(\")\",\"\")\n",
      "            stop=vec2[1].replace(\">\",\"\").replace(\")\",\"\")      \n",
      "        else:\n",
      "            print(\"end of contig forward\")\n",
      "            orf_num=len(dict1)\n",
      "            key2=adjust[0]+\"_\"+adjust[1]+\"_\"+str(orf_num)\n",
      "            if \">\" in dict1.get(key2,0):\n",
      "                key2=adjust[0]+\"_\"+adjust[1]+\"_\"+str(orf_num-1)\n",
      "            value2=dict1.get(key2, 0)\n",
      "            vec2=value2.split(\"..\")\n",
      "            start=vec2[0].replace(\">\",\"\").replace(\")\",\"\")\n",
      "            stop=vec2[1].replace(\">\",\"\").replace(\")\",\"\")\n",
      "    fastafile=phage+\"step1.contig1.fasta\"\n",
      "    f=open(fastafile)                                       #open fasta file\n",
      "    sequence=\"\"\n",
      "    for row in f:                           #define title and sequences\n",
      "        if row.startswith(\">\"):\n",
      "            title=row\n",
      "        else:\n",
      "            sequence+=row\n",
      "    sequence=sequence.replace(\"\\n\",\"\")\n",
      "    \n",
      "    if start!=0:\n",
      "        outfile=open(phage+\"s1c1.rearrange.fasta\",\"w\")\n",
      "        upstream=sequence[0:int(start)-1]                    #id sequence before start of small subunit terminase\n",
      "        downstream=sequence[int(start)-1:]                   #id sequence after start of small subunit terminase \n",
      "        rearrange=downstream+upstream                        #re-arrange contigs so that small subunit terminase start is at end of contig\n",
      "        if orientation==\"reverse\":                           #reverse-complement the genome if terminase gene is in reverse orientation\n",
      "            seq=Seq(rearrange)\n",
      "            out_seq=seq.reverse_complement()\n",
      "            outfile.write(\">\"+phage+\"\\n\"+str(out_seq))\n",
      "            startpoint.append(int(start))\n",
      "        else:\n",
      "            outfile.write(\">\"+phage+\"\\n\"+rearrange)\n",
      "            startpoint.append(len(seq)-int(start))\n",
      "    outfile.close()\n",
      "    print(phage+\" done!\")"
     ],
     "language": "python",
     "metadata": {},
     "outputs": [
      {
       "output_type": "stream",
       "stream": "stdout",
       "text": [
        "1.237.B. done!\n",
        "1.267.O. done!\n",
        "1.196.O. done!\n",
        "1.195.O. done!\n",
        "1.277.A. done!\n",
        "1.104.O. done!\n",
        "1.271.B. done!\n",
        "1.118.B. done!\n",
        "1.200.O. done!\n",
        "1.281.O. done!\n",
        "1.012.O. done!\n",
        "1.194.O. done!\n",
        "1.269.O. done!\n",
        "1.027.O. done!\n",
        "1.046.O. done!\n",
        "1.250.O. done!\n",
        "1.272.O. done!\n",
        "1.270.B. done!\n",
        "1.089.O. done!\n",
        "1.088.O. done!\n",
        "1.274.O. done!\n",
        "1.271.A. done!\n",
        "end of contig forward\n",
        "1.023.O. done!\n",
        "1.171.O. done!\n",
        "1.277.B. done!\n",
        "1.103.O. done!\n",
        "1.022.O. done!\n",
        "1.251.O. done!\n",
        "1.268.A. done!\n",
        "1.024.O. done!\n",
        "1.160.O. done!\n",
        "1.118.A. done!\n",
        "1.280.O. done!\n",
        "1.283.A. done!\n",
        "1.283.C. done!\n",
        "1.237.A. done!\n",
        "1.270.A. done!\n",
        "1.098.O. done!\n",
        "1.032.O. done!\n",
        "1.268.B. done!\n",
        "1.283.B. done!\n",
        "1.285.O. done!\n",
        "1.282.A. done!\n",
        "1.033.O. done!\n"
       ]
      }
     ],
     "prompt_number": 37
    },
    {
     "cell_type": "markdown",
     "metadata": {},
     "source": [
      "###Note: when prodigal gene calls were compared to a library of small subunit terminases, there were no matches.  \n",
      "###Also of note is that the gene upstream of the large terminase subunit is always in the same orientation.\n",
      "\n",
      "##Next, re-recruit reads onto newly re-arranged contigs"
     ]
    },
    {
     "cell_type": "code",
     "collapsed": false,
     "input": [
      "script=open(\"rearrange_recruitment.slurm\",\"w\")\n",
      "script.write(\"#!/bin/bash\\n#SBATCH -n 16\\n#SBATCH -N 1\\n#SBATCH -o rearrange.out\\n#SBATCH -e rearrange.err\\n#SBATCH -p sched_mit_chisholm\\n\\n\")\n",
      "script.write(\"module add engaging/clc-assembly-cell\\nmodule add engaging/samtools/1.1\\nmodule add engaging/bedtools/2.22.1\\n\\n\")\n",
      "\n",
      "for virus in groupfile:\n",
      "    target_seq=virus+\"s1c1.rearrange.fasta\"\n",
      "    reads=virus+\"*.fastq\"\n",
      "    recruitfile=virus+\"s1c1.rearrange.cas\"\n",
      "    outputfasta=virus+\"final.fasta\"\n",
      "    directed=virus+\"rearrange.\"\n",
      "\n",
      "    script.write(\"clc_mapper -o \"+recruitfile+\" -p fb ss 100 300 -q \"+reads+\" -d \"+target_seq+\" -a local -r ignore \\n\")\n",
      "    script.write(\"clc_extract_consensus -z none -a \"+recruitfile+\" -o \"+outputfasta+\"\\n\")\n",
      "    script.write(\"clc_cas_to_sam -a \"+recruitfile+\" -o \"+directed+\"bam\\n\")\n",
      "    script.write(\"samtools sort \"+directed+\"bam \"+directed+\"sorted\\n\")\n",
      "    script.write(\"samtools index \"+directed+\"sorted.bam\\n\")\n",
      "    script.write(\"bedtools genomecov -ibam \"+directed+\"sorted.bam -d > \"+directed+\"genomecoverage.txt\\n\\n\")\n",
      "\n",
      "script.close()\n",
      "!open rearrange_recruitment.slurm -a textedit"
     ],
     "language": "python",
     "metadata": {},
     "outputs": [],
     "prompt_number": 43
    },
    {
     "cell_type": "code",
     "collapsed": false,
     "input": [
      "!scp rearrange_recruitment.slurm jbrown@eofe4.mit.edu:/nobackup1/jbrown/nahant_phage_reads/group4/\n",
      "!scp *s1c1.rearrange.fasta jbrown@eofe4.mit.edu:/nobackup1/jbrown/nahant_phage_reads/group4/\n",
      "#running on MIT cluster"
     ],
     "language": "python",
     "metadata": {},
     "outputs": [
      {
       "output_type": "stream",
       "stream": "stdout",
       "text": [
        "\r",
        "rearrange_recruitment.slurm                     0%    0     0.0KB/s   --:-- ETA\r",
        "rearrange_recruitment.slurm                   100%   21KB  21.0KB/s   00:00    \r\n"
       ]
      },
      {
       "output_type": "stream",
       "stream": "stdout",
       "text": [
        "\r",
        "1.012.O.s1c1.rearrange.fasta                    0%    0     0.0KB/s   --:-- ETA\r",
        "1.012.O.s1c1.rearrange.fasta                  100%   59KB  58.6KB/s   00:00    \r\n"
       ]
      },
      {
       "output_type": "stream",
       "stream": "stdout",
       "text": [
        "\r",
        "1.022.O.s1c1.rearrange.fasta                    0%    0     0.0KB/s   --:-- ETA\r",
        "1.022.O.s1c1.rearrange.fasta                  100%   61KB  61.0KB/s   00:00    \r\n"
       ]
      },
      {
       "output_type": "stream",
       "stream": "stdout",
       "text": [
        "\r",
        "1.023.O.s1c1.rearrange.fasta                    0%    0     0.0KB/s   --:-- ETA\r",
        "1.023.O.s1c1.rearrange.fasta                  100%   58KB  58.5KB/s   00:00    \r\n"
       ]
      },
      {
       "output_type": "stream",
       "stream": "stdout",
       "text": [
        "\r",
        "1.024.O.s1c1.rearrange.fasta                    0%    0     0.0KB/s   --:-- ETA\r",
        "1.024.O.s1c1.rearrange.fasta                  100%   58KB  57.5KB/s   00:00    \r\n"
       ]
      },
      {
       "output_type": "stream",
       "stream": "stdout",
       "text": [
        "\r",
        "1.027.O.s1c1.rearrange.fasta                    0%    0     0.0KB/s   --:-- ETA\r",
        "1.027.O.s1c1.rearrange.fasta                  100%   58KB  57.9KB/s   00:00    \r\n"
       ]
      },
      {
       "output_type": "stream",
       "stream": "stdout",
       "text": [
        "\r",
        "1.032.O.s1c1.rearrange.fasta                    0%    0     0.0KB/s   --:-- ETA\r",
        "1.032.O.s1c1.rearrange.fasta                  100%   59KB  59.0KB/s   00:00    \r\n"
       ]
      },
      {
       "output_type": "stream",
       "stream": "stdout",
       "text": [
        "\r",
        "1.033.O.s1c1.rearrange.fasta                    0%    0     0.0KB/s   --:-- ETA\r",
        "1.033.O.s1c1.rearrange.fasta                  100%   60KB  59.8KB/s   00:00    \r\n"
       ]
      },
      {
       "output_type": "stream",
       "stream": "stdout",
       "text": [
        "\r",
        "1.046.O.s1c1.rearrange.fasta                    0%    0     0.0KB/s   --:-- ETA\r",
        "1.046.O.s1c1.rearrange.fasta                  100%   61KB  61.1KB/s   00:00    \r\n"
       ]
      },
      {
       "output_type": "stream",
       "stream": "stdout",
       "text": [
        "\r",
        "1.088.O.s1c1.rearrange.fasta                    0%    0     0.0KB/s   --:-- ETA\r",
        "1.088.O.s1c1.rearrange.fasta                  100%   59KB  59.0KB/s   00:00    \r\n"
       ]
      },
      {
       "output_type": "stream",
       "stream": "stdout",
       "text": [
        "\r",
        "1.089.O.s1c1.rearrange.fasta                    0%    0     0.0KB/s   --:-- ETA\r",
        "1.089.O.s1c1.rearrange.fasta                  100%   58KB  58.5KB/s   00:00    \r\n"
       ]
      },
      {
       "output_type": "stream",
       "stream": "stdout",
       "text": [
        "\r",
        "1.098.O.s1c1.rearrange.fasta                    0%    0     0.0KB/s   --:-- ETA\r",
        "1.098.O.s1c1.rearrange.fasta                  100%   58KB  58.5KB/s   00:00    \r\n"
       ]
      },
      {
       "output_type": "stream",
       "stream": "stdout",
       "text": [
        "\r",
        "1.103.O.s1c1.rearrange.fasta                    0%    0     0.0KB/s   --:-- ETA\r",
        "1.103.O.s1c1.rearrange.fasta                  100%   60KB  60.3KB/s   00:00    \r\n"
       ]
      },
      {
       "output_type": "stream",
       "stream": "stdout",
       "text": [
        "\r",
        "1.104.O.s1c1.rearrange.fasta                    0%    0     0.0KB/s   --:-- ETA\r",
        "1.104.O.s1c1.rearrange.fasta                  100%   60KB  59.6KB/s   00:00    \r\n"
       ]
      },
      {
       "output_type": "stream",
       "stream": "stdout",
       "text": [
        "\r",
        "1.118.A.s1c1.rearrange.fasta                    0%    0     0.0KB/s   --:-- ETA\r",
        "1.118.A.s1c1.rearrange.fasta                  100%   59KB  59.1KB/s   00:00    \r\n"
       ]
      },
      {
       "output_type": "stream",
       "stream": "stdout",
       "text": [
        "\r",
        "1.118.B.s1c1.rearrange.fasta                    0%    0     0.0KB/s   --:-- ETA\r",
        "1.118.B.s1c1.rearrange.fasta                  100%   59KB  59.1KB/s   00:00    \r\n"
       ]
      },
      {
       "output_type": "stream",
       "stream": "stdout",
       "text": [
        "\r",
        "1.160.O.s1c1.rearrange.fasta                    0%    0     0.0KB/s   --:-- ETA\r",
        "1.160.O.s1c1.rearrange.fasta                  100%   59KB  59.3KB/s   00:00    \r\n"
       ]
      },
      {
       "output_type": "stream",
       "stream": "stdout",
       "text": [
        "\r",
        "1.171.O.s1c1.rearrange.fasta                    0%    0     0.0KB/s   --:-- ETA\r",
        "1.171.O.s1c1.rearrange.fasta                  100%   59KB  58.8KB/s   00:00    \r\n"
       ]
      },
      {
       "output_type": "stream",
       "stream": "stdout",
       "text": [
        "\r",
        "1.194.O.s1c1.rearrange.fasta                    0%    0     0.0KB/s   --:-- ETA\r",
        "1.194.O.s1c1.rearrange.fasta                  100%   58KB  57.9KB/s   00:00    \r\n"
       ]
      },
      {
       "output_type": "stream",
       "stream": "stdout",
       "text": [
        "\r",
        "1.195.O.s1c1.rearrange.fasta                    0%    0     0.0KB/s   --:-- ETA\r",
        "1.195.O.s1c1.rearrange.fasta                  100%   58KB  58.4KB/s   00:00    \r\n"
       ]
      },
      {
       "output_type": "stream",
       "stream": "stdout",
       "text": [
        "\r",
        "1.196.O.s1c1.rearrange.fasta                    0%    0     0.0KB/s   --:-- ETA\r",
        "1.196.O.s1c1.rearrange.fasta                  100%   58KB  58.0KB/s   00:00    \r\n"
       ]
      },
      {
       "output_type": "stream",
       "stream": "stdout",
       "text": [
        "\r",
        "1.200.O.s1c1.rearrange.fasta                    0%    0     0.0KB/s   --:-- ETA\r",
        "1.200.O.s1c1.rearrange.fasta                  100%   58KB  57.9KB/s   00:00    \r\n"
       ]
      },
      {
       "output_type": "stream",
       "stream": "stdout",
       "text": [
        "\r",
        "1.237.A.s1c1.rearrange.fasta                    0%    0     0.0KB/s   --:-- ETA\r",
        "1.237.A.s1c1.rearrange.fasta                  100%   59KB  58.7KB/s   00:00    \r\n"
       ]
      },
      {
       "output_type": "stream",
       "stream": "stdout",
       "text": [
        "\r",
        "1.237.B.s1c1.rearrange.fasta                    0%    0     0.0KB/s   --:-- ETA\r",
        "1.237.B.s1c1.rearrange.fasta                  100%   59KB  58.8KB/s   00:00    \r\n"
       ]
      },
      {
       "output_type": "stream",
       "stream": "stdout",
       "text": [
        "\r",
        "1.250.O.s1c1.rearrange.fasta                    0%    0     0.0KB/s   --:-- ETA\r",
        "1.250.O.s1c1.rearrange.fasta                  100%   59KB  58.6KB/s   00:00    \r\n"
       ]
      },
      {
       "output_type": "stream",
       "stream": "stdout",
       "text": [
        "\r",
        "1.251.O.s1c1.rearrange.fasta                    0%    0     0.0KB/s   --:-- ETA\r",
        "1.251.O.s1c1.rearrange.fasta                  100%   58KB  58.3KB/s   00:00    \r\n"
       ]
      },
      {
       "output_type": "stream",
       "stream": "stdout",
       "text": [
        "\r",
        "1.267.O.s1c1.rearrange.fasta                    0%    0     0.0KB/s   --:-- ETA\r",
        "1.267.O.s1c1.rearrange.fasta                  100%   58KB  58.0KB/s   00:00    \r\n"
       ]
      },
      {
       "output_type": "stream",
       "stream": "stdout",
       "text": [
        "\r",
        "1.268.A.s1c1.rearrange.fasta                    0%    0     0.0KB/s   --:-- ETA\r",
        "1.268.A.s1c1.rearrange.fasta                  100%   58KB  57.9KB/s   00:00    \r\n"
       ]
      },
      {
       "output_type": "stream",
       "stream": "stdout",
       "text": [
        "\r",
        "1.268.B.s1c1.rearrange.fasta                    0%    0     0.0KB/s   --:-- ETA\r",
        "1.268.B.s1c1.rearrange.fasta                  100%   58KB  57.9KB/s   00:00    \r\n"
       ]
      },
      {
       "output_type": "stream",
       "stream": "stdout",
       "text": [
        "\r",
        "1.269.O.s1c1.rearrange.fasta                    0%    0     0.0KB/s   --:-- ETA\r",
        "1.269.O.s1c1.rearrange.fasta                  100%   58KB  58.4KB/s   00:00    \r\n"
       ]
      },
      {
       "output_type": "stream",
       "stream": "stdout",
       "text": [
        "\r",
        "1.270.A.s1c1.rearrange.fasta                    0%    0     0.0KB/s   --:-- ETA\r",
        "1.270.A.s1c1.rearrange.fasta                  100%   58KB  57.9KB/s   00:00    \r\n"
       ]
      },
      {
       "output_type": "stream",
       "stream": "stdout",
       "text": [
        "\r",
        "1.270.B.s1c1.rearrange.fasta                    0%    0     0.0KB/s   --:-- ETA\r",
        "1.270.B.s1c1.rearrange.fasta                  100%   58KB  57.9KB/s   00:00    \r\n"
       ]
      },
      {
       "output_type": "stream",
       "stream": "stdout",
       "text": [
        "\r",
        "1.271.A.s1c1.rearrange.fasta                    0%    0     0.0KB/s   --:-- ETA\r",
        "1.271.A.s1c1.rearrange.fasta                  100%   58KB  57.9KB/s   00:00    \r\n"
       ]
      },
      {
       "output_type": "stream",
       "stream": "stdout",
       "text": [
        "\r",
        "1.271.B.s1c1.rearrange.fasta                    0%    0     0.0KB/s   --:-- ETA\r",
        "1.271.B.s1c1.rearrange.fasta                  100%   58KB  57.9KB/s   00:00    \r\n"
       ]
      },
      {
       "output_type": "stream",
       "stream": "stdout",
       "text": [
        "\r",
        "1.272.O.s1c1.rearrange.fasta                    0%    0     0.0KB/s   --:-- ETA\r",
        "1.272.O.s1c1.rearrange.fasta                  100%   58KB  57.9KB/s   00:00    \r\n"
       ]
      },
      {
       "output_type": "stream",
       "stream": "stdout",
       "text": [
        "\r",
        "1.274.O.s1c1.rearrange.fasta                    0%    0     0.0KB/s   --:-- ETA\r",
        "1.274.O.s1c1.rearrange.fasta                  100%   58KB  58.0KB/s   00:00    \r\n"
       ]
      },
      {
       "output_type": "stream",
       "stream": "stdout",
       "text": [
        "\r",
        "1.277.A.s1c1.rearrange.fasta                    0%    0     0.0KB/s   --:-- ETA\r",
        "1.277.A.s1c1.rearrange.fasta                  100%   58KB  57.9KB/s   00:00    \r\n"
       ]
      },
      {
       "output_type": "stream",
       "stream": "stdout",
       "text": [
        "\r",
        "1.277.B.s1c1.rearrange.fasta                    0%    0     0.0KB/s   --:-- ETA\r",
        "1.277.B.s1c1.rearrange.fasta                  100%   58KB  58.0KB/s   00:00    \r\n"
       ]
      },
      {
       "output_type": "stream",
       "stream": "stdout",
       "text": [
        "\r",
        "1.280.O.s1c1.rearrange.fasta                    0%    0     0.0KB/s   --:-- ETA\r",
        "1.280.O.s1c1.rearrange.fasta                  100%   58KB  57.9KB/s   00:00    \r\n"
       ]
      },
      {
       "output_type": "stream",
       "stream": "stdout",
       "text": [
        "\r",
        "1.281.O.s1c1.rearrange.fasta                    0%    0     0.0KB/s   --:-- ETA\r",
        "1.281.O.s1c1.rearrange.fasta                  100%   58KB  57.9KB/s   00:00    \r\n"
       ]
      },
      {
       "output_type": "stream",
       "stream": "stdout",
       "text": [
        "\r",
        "1.282.A.s1c1.rearrange.fasta                    0%    0     0.0KB/s   --:-- ETA\r",
        "1.282.A.s1c1.rearrange.fasta                  100%   58KB  58.0KB/s   00:00    \r\n"
       ]
      },
      {
       "output_type": "stream",
       "stream": "stdout",
       "text": [
        "\r",
        "1.283.A.s1c1.rearrange.fasta                    0%    0     0.0KB/s   --:-- ETA\r",
        "1.283.A.s1c1.rearrange.fasta                  100%   58KB  58.1KB/s   00:00    \r\n"
       ]
      },
      {
       "output_type": "stream",
       "stream": "stdout",
       "text": [
        "\r",
        "1.283.B.s1c1.rearrange.fasta                    0%    0     0.0KB/s   --:-- ETA\r",
        "1.283.B.s1c1.rearrange.fasta                  100%   58KB  58.1KB/s   00:00    \r\n"
       ]
      },
      {
       "output_type": "stream",
       "stream": "stdout",
       "text": [
        "\r",
        "1.283.C.s1c1.rearrange.fasta                    0%    0     0.0KB/s   --:-- ETA\r",
        "1.283.C.s1c1.rearrange.fasta                  100%   58KB  58.1KB/s   00:00    \r\n"
       ]
      },
      {
       "output_type": "stream",
       "stream": "stdout",
       "text": [
        "\r",
        "1.285.O.s1c1.rearrange.fasta                    0%    0     0.0KB/s   --:-- ETA\r",
        "1.285.O.s1c1.rearrange.fasta                  100%   58KB  58.1KB/s   00:00    \r\n"
       ]
      }
     ],
     "prompt_number": 45
    },
    {
     "cell_type": "code",
     "collapsed": false,
     "input": [
      "!scp jbrown@eofe4.mit.edu:/nobackup1/jbrown/nahant_phage_reads/group4/*rearrange.genomecoverage* ./final_genomes/"
     ],
     "language": "python",
     "metadata": {},
     "outputs": [
      {
       "output_type": "stream",
       "stream": "stdout",
       "text": [
        "\r",
        "1.012.O.rearrange.genomecoverage.txt            0%    0     0.0KB/s   --:-- ETA"
       ]
      },
      {
       "output_type": "stream",
       "stream": "stdout",
       "text": [
        "\r",
        "1.012.O.rearrange.genomecoverage.txt          100% 1181KB   1.2MB/s   00:01    \r\n"
       ]
      },
      {
       "output_type": "stream",
       "stream": "stdout",
       "text": [
        "\r",
        "1.022.O.rearrange.genomecoverage.txt            0%    0     0.0KB/s   --:-- ETA"
       ]
      },
      {
       "output_type": "stream",
       "stream": "stdout",
       "text": [
        "\r",
        "1.022.O.rearrange.genomecoverage.txt          100% 1148KB   1.1MB/s   00:00    \r\n"
       ]
      },
      {
       "output_type": "stream",
       "stream": "stdout",
       "text": [
        "\r",
        "1.023.O.rearrange.genomecoverage.txt            0%    0     0.0KB/s   --:-- ETA"
       ]
      },
      {
       "output_type": "stream",
       "stream": "stdout",
       "text": [
        "\r",
        "1.023.O.rearrange.genomecoverage.txt          100% 1100KB   1.1MB/s   00:00    \r\n"
       ]
      },
      {
       "output_type": "stream",
       "stream": "stdout",
       "text": [
        "\r",
        "1.024.O.rearrange.genomecoverage.txt            0%    0     0.0KB/s   --:-- ETA"
       ]
      },
      {
       "output_type": "stream",
       "stream": "stdout",
       "text": [
        "\r",
        "1.024.O.rearrange.genomecoverage.txt          100% 1141KB   1.1MB/s   00:01    \r\n"
       ]
      },
      {
       "output_type": "stream",
       "stream": "stdout",
       "text": [
        "\r",
        "1.027.O.rearrange.genomecoverage.txt            0%    0     0.0KB/s   --:-- ETA"
       ]
      },
      {
       "output_type": "stream",
       "stream": "stdout",
       "text": [
        "\r",
        "1.027.O.rearrange.genomecoverage.txt          100% 1089KB   1.1MB/s   00:00    \r\n",
        "\r",
        "1.032.O.rearrange.genomecoverage.txt            0%    0     0.0KB/s   --:-- ETA"
       ]
      },
      {
       "output_type": "stream",
       "stream": "stdout",
       "text": [
        "\r",
        "1.032.O.rearrange.genomecoverage.txt          100% 1177KB   1.2MB/s   00:00    \r\n",
        "\r",
        "1.033.O.rearrange.genomecoverage.txt            0%    0     0.0KB/s   --:-- ETA"
       ]
      },
      {
       "output_type": "stream",
       "stream": "stdout",
       "text": [
        "\r",
        "1.033.O.rearrange.genomecoverage.txt          100% 1188KB   1.2MB/s   00:00    \r\n"
       ]
      },
      {
       "output_type": "stream",
       "stream": "stdout",
       "text": [
        "\r",
        "1.046.O.rearrange.genomecoverage.txt            0%    0     0.0KB/s   --:-- ETA"
       ]
      },
      {
       "output_type": "stream",
       "stream": "stdout",
       "text": [
        "\r",
        "1.046.O.rearrange.genomecoverage.txt          100% 1211KB   1.2MB/s   00:01    \r\n"
       ]
      },
      {
       "output_type": "stream",
       "stream": "stdout",
       "text": [
        "\r",
        "1.088.O.rearrange.genomecoverage.txt            0%    0     0.0KB/s   --:-- ETA"
       ]
      },
      {
       "output_type": "stream",
       "stream": "stdout",
       "text": [
        "\r",
        "1.088.O.rearrange.genomecoverage.txt          100% 1110KB   1.1MB/s   00:00    \r\n"
       ]
      },
      {
       "output_type": "stream",
       "stream": "stdout",
       "text": [
        "\r",
        "1.089.O.rearrange.genomecoverage.txt            0%    0     0.0KB/s   --:-- ETA"
       ]
      },
      {
       "output_type": "stream",
       "stream": "stdout",
       "text": [
        "\r",
        "1.089.O.rearrange.genomecoverage.txt          100% 1089KB   1.1MB/s   00:00    \r\n"
       ]
      },
      {
       "output_type": "stream",
       "stream": "stdout",
       "text": [
        "\r",
        "1.098.O.rearrange.genomecoverage.txt            0%    0     0.0KB/s   --:-- ETA"
       ]
      },
      {
       "output_type": "stream",
       "stream": "stdout",
       "text": [
        "\r",
        "1.098.O.rearrange.genomecoverage.txt          100% 1099KB   1.1MB/s   00:01    \r\n"
       ]
      },
      {
       "output_type": "stream",
       "stream": "stdout",
       "text": [
        "\r",
        "1.103.O.rearrange.genomecoverage.txt            0%    0     0.0KB/s   --:-- ETA"
       ]
      },
      {
       "output_type": "stream",
       "stream": "stdout",
       "text": [
        "\r",
        "1.103.O.rearrange.genomecoverage.txt          100% 1135KB   1.1MB/s   00:00    \r\n"
       ]
      },
      {
       "output_type": "stream",
       "stream": "stdout",
       "text": [
        "\r",
        "1.104.O.rearrange.genomecoverage.txt            0%    0     0.0KB/s   --:-- ETA"
       ]
      },
      {
       "output_type": "stream",
       "stream": "stdout",
       "text": [
        "\r",
        "1.104.O.rearrange.genomecoverage.txt          100% 1116KB   1.1MB/s   00:01    \r\n"
       ]
      },
      {
       "output_type": "stream",
       "stream": "stdout",
       "text": [
        "\r",
        "1.118.A.rearrange.genomecoverage.txt            0%    0     0.0KB/s   --:-- ETA"
       ]
      },
      {
       "output_type": "stream",
       "stream": "stdout",
       "text": [
        "\r",
        "1.118.A.rearrange.genomecoverage.txt          100% 1111KB   1.1MB/s   00:00    \r\n"
       ]
      },
      {
       "output_type": "stream",
       "stream": "stdout",
       "text": [
        "\r",
        "1.118.B.rearrange.genomecoverage.txt            0%    0     0.0KB/s   --:-- ETA"
       ]
      },
      {
       "output_type": "stream",
       "stream": "stdout",
       "text": [
        "\r",
        "1.118.B.rearrange.genomecoverage.txt          100% 1111KB   1.1MB/s   00:00    \r\n"
       ]
      },
      {
       "output_type": "stream",
       "stream": "stdout",
       "text": [
        "\r",
        "1.160.O.rearrange.genomecoverage.txt            0%    0     0.0KB/s   --:-- ETA"
       ]
      },
      {
       "output_type": "stream",
       "stream": "stdout",
       "text": [
        "\r",
        "1.160.O.rearrange.genomecoverage.txt          100% 1116KB   1.1MB/s   00:01    \r\n"
       ]
      },
      {
       "output_type": "stream",
       "stream": "stdout",
       "text": [
        "\r",
        "1.171.O.rearrange.genomecoverage.txt            0%    0     0.0KB/s   --:-- ETA"
       ]
      },
      {
       "output_type": "stream",
       "stream": "stdout",
       "text": [
        "\r",
        "1.171.O.rearrange.genomecoverage.txt          100% 1049KB   1.0MB/s   00:00    \r\n"
       ]
      },
      {
       "output_type": "stream",
       "stream": "stdout",
       "text": [
        "\r",
        "1.194.O.rearrange.genomecoverage.txt            0%    0     0.0KB/s   --:-- ETA"
       ]
      },
      {
       "output_type": "stream",
       "stream": "stdout",
       "text": [
        "\r",
        "1.194.O.rearrange.genomecoverage.txt          100% 1072KB   1.1MB/s   00:01    \r\n"
       ]
      },
      {
       "output_type": "stream",
       "stream": "stdout",
       "text": [
        "\r",
        "1.195.O.rearrange.genomecoverage.txt            0%    0     0.0KB/s   --:-- ETA"
       ]
      },
      {
       "output_type": "stream",
       "stream": "stdout",
       "text": [
        "\r",
        "1.195.O.rearrange.genomecoverage.txt          100% 1079KB   1.1MB/s   00:00    \r\n"
       ]
      },
      {
       "output_type": "stream",
       "stream": "stdout",
       "text": [
        "\r",
        "1.196.O.rearrange.genomecoverage.txt            0%    0     0.0KB/s   --:-- ETA"
       ]
      },
      {
       "output_type": "stream",
       "stream": "stdout",
       "text": [
        "\r",
        "1.196.O.rearrange.genomecoverage.txt          100% 1091KB   1.1MB/s   00:00    \r\n"
       ]
      },
      {
       "output_type": "stream",
       "stream": "stdout",
       "text": [
        "\r",
        "1.200.O.rearrange.genomecoverage.txt            0%    0     0.0KB/s   --:-- ETA"
       ]
      },
      {
       "output_type": "stream",
       "stream": "stdout",
       "text": [
        "\r",
        "1.200.O.rearrange.genomecoverage.txt          100% 1089KB   1.1MB/s   00:01    \r\n"
       ]
      },
      {
       "output_type": "stream",
       "stream": "stdout",
       "text": [
        "\r",
        "1.237.A.rearrange.genomecoverage.txt            0%    0     0.0KB/s   --:-- ETA"
       ]
      },
      {
       "output_type": "stream",
       "stream": "stdout",
       "text": [
        "\r",
        "1.237.A.rearrange.genomecoverage.txt          100% 1050KB   1.0MB/s   00:00    \r\n"
       ]
      },
      {
       "output_type": "stream",
       "stream": "stdout",
       "text": [
        "\r",
        "1.237.B.rearrange.genomecoverage.txt            0%    0     0.0KB/s   --:-- ETA"
       ]
      },
      {
       "output_type": "stream",
       "stream": "stdout",
       "text": [
        "\r",
        "1.237.B.rearrange.genomecoverage.txt          100% 1105KB   1.1MB/s   00:01    \r\n"
       ]
      },
      {
       "output_type": "stream",
       "stream": "stdout",
       "text": [
        "\r",
        "1.250.O.rearrange.genomecoverage.txt            0%    0     0.0KB/s   --:-- ETA"
       ]
      },
      {
       "output_type": "stream",
       "stream": "stdout",
       "text": [
        "\r",
        "1.250.O.rearrange.genomecoverage.txt          100% 1102KB   1.1MB/s   00:00    \r\n"
       ]
      },
      {
       "output_type": "stream",
       "stream": "stdout",
       "text": [
        "\r",
        "1.251.O.rearrange.genomecoverage.txt            0%    0     0.0KB/s   --:-- ETA"
       ]
      },
      {
       "output_type": "stream",
       "stream": "stdout",
       "text": [
        "\r",
        "1.251.O.rearrange.genomecoverage.txt          100% 1096KB   1.1MB/s   00:01    \r\n"
       ]
      },
      {
       "output_type": "stream",
       "stream": "stdout",
       "text": [
        "\r",
        "1.267.O.rearrange.genomecoverage.txt            0%    0     0.0KB/s   --:-- ETA"
       ]
      },
      {
       "output_type": "stream",
       "stream": "stdout",
       "text": [
        "\r",
        "1.267.O.rearrange.genomecoverage.txt          100% 1056KB   1.0MB/s   00:00    \r\n"
       ]
      },
      {
       "output_type": "stream",
       "stream": "stdout",
       "text": [
        "\r",
        "1.268.A.rearrange.genomecoverage.txt            0%    0     0.0KB/s   --:-- ETA"
       ]
      },
      {
       "output_type": "stream",
       "stream": "stdout",
       "text": [
        "\r",
        "1.268.A.rearrange.genomecoverage.txt          100% 1089KB   1.1MB/s   00:00    \r\n"
       ]
      },
      {
       "output_type": "stream",
       "stream": "stdout",
       "text": [
        "\r",
        "1.268.B.rearrange.genomecoverage.txt            0%    0     0.0KB/s   --:-- ETA"
       ]
      },
      {
       "output_type": "stream",
       "stream": "stdout",
       "text": [
        "\r",
        "1.268.B.rearrange.genomecoverage.txt          100% 1089KB   1.1MB/s   00:01    \r\n"
       ]
      },
      {
       "output_type": "stream",
       "stream": "stdout",
       "text": [
        "\r",
        "1.269.O.rearrange.genomecoverage.txt            0%    0     0.0KB/s   --:-- ETA"
       ]
      },
      {
       "output_type": "stream",
       "stream": "stdout",
       "text": [
        "\r",
        "1.269.O.rearrange.genomecoverage.txt          100% 1049KB   1.0MB/s   00:01    \r\n"
       ]
      },
      {
       "output_type": "stream",
       "stream": "stdout",
       "text": [
        "\r",
        "1.270.A.rearrange.genomecoverage.txt            0%    0     0.0KB/s   --:-- ETA"
       ]
      },
      {
       "output_type": "stream",
       "stream": "stdout",
       "text": [
        "\r",
        "1.270.A.rearrange.genomecoverage.txt          100% 1033KB   1.0MB/s   00:00    \r\n"
       ]
      },
      {
       "output_type": "stream",
       "stream": "stdout",
       "text": [
        "\r",
        "1.270.B.rearrange.genomecoverage.txt            0%    0     0.0KB/s   --:-- ETA"
       ]
      },
      {
       "output_type": "stream",
       "stream": "stdout",
       "text": [
        "\r",
        "1.270.B.rearrange.genomecoverage.txt          100% 1031KB   1.0MB/s   00:00    \r\n",
        "\r",
        "1.271.A.rearrange.genomecoverage.txt            0%    0     0.0KB/s   --:-- ETA"
       ]
      },
      {
       "output_type": "stream",
       "stream": "stdout",
       "text": [
        "\r",
        "1.271.A.rearrange.genomecoverage.txt          100% 1089KB   1.1MB/s   00:01    \r\n"
       ]
      },
      {
       "output_type": "stream",
       "stream": "stdout",
       "text": [
        "\r",
        "1.271.B.rearrange.genomecoverage.txt            0%    0     0.0KB/s   --:-- ETA"
       ]
      },
      {
       "output_type": "stream",
       "stream": "stdout",
       "text": [
        "\r",
        "1.271.B.rearrange.genomecoverage.txt          100% 1089KB   1.1MB/s   00:00    \r\n"
       ]
      },
      {
       "output_type": "stream",
       "stream": "stdout",
       "text": [
        "\r",
        "1.272.O.rearrange.genomecoverage.txt            0%    0     0.0KB/s   --:-- ETA"
       ]
      },
      {
       "output_type": "stream",
       "stream": "stdout",
       "text": [
        "\r",
        "1.272.O.rearrange.genomecoverage.txt          100% 1089KB   1.1MB/s   00:00    \r\n",
        "\r",
        "1.274.O.rearrange.genomecoverage.txt            0%    0     0.0KB/s   --:-- ETA"
       ]
      },
      {
       "output_type": "stream",
       "stream": "stdout",
       "text": [
        "\r",
        "1.274.O.rearrange.genomecoverage.txt          100% 1091KB   1.1MB/s   00:00    \r\n"
       ]
      },
      {
       "output_type": "stream",
       "stream": "stdout",
       "text": [
        "\r",
        "1.277.A.rearrange.genomecoverage.txt            0%    0     0.0KB/s   --:-- ETA"
       ]
      },
      {
       "output_type": "stream",
       "stream": "stdout",
       "text": [
        "\r",
        "1.277.A.rearrange.genomecoverage.txt          100% 1089KB   1.1MB/s   00:00    \r\n"
       ]
      },
      {
       "output_type": "stream",
       "stream": "stdout",
       "text": [
        "\r",
        "1.277.B.rearrange.genomecoverage.txt            0%    0     0.0KB/s   --:-- ETA"
       ]
      },
      {
       "output_type": "stream",
       "stream": "stdout",
       "text": [
        "\r",
        "1.277.B.rearrange.genomecoverage.txt          100% 1092KB   1.1MB/s   00:00    \r\n"
       ]
      },
      {
       "output_type": "stream",
       "stream": "stdout",
       "text": [
        "\r",
        "1.280.O.rearrange.genomecoverage.txt            0%    0     0.0KB/s   --:-- ETA"
       ]
      },
      {
       "output_type": "stream",
       "stream": "stdout",
       "text": [
        "\r",
        "1.280.O.rearrange.genomecoverage.txt          100% 1089KB   1.1MB/s   00:00    \r\n"
       ]
      },
      {
       "output_type": "stream",
       "stream": "stdout",
       "text": [
        "\r",
        "1.281.O.rearrange.genomecoverage.txt            0%    0     0.0KB/s   --:-- ETA"
       ]
      },
      {
       "output_type": "stream",
       "stream": "stdout",
       "text": [
        "\r",
        "1.281.O.rearrange.genomecoverage.txt          100% 1036KB   1.0MB/s   00:01    \r\n"
       ]
      },
      {
       "output_type": "stream",
       "stream": "stdout",
       "text": [
        "\r",
        "1.282.A.rearrange.genomecoverage.txt            0%    0     0.0KB/s   --:-- ETA"
       ]
      },
      {
       "output_type": "stream",
       "stream": "stdout",
       "text": [
        "\r",
        "1.282.A.rearrange.genomecoverage.txt          100% 1091KB   1.1MB/s   00:00    \r\n"
       ]
      },
      {
       "output_type": "stream",
       "stream": "stdout",
       "text": [
        "\r",
        "1.283.A.rearrange.genomecoverage.txt            0%    0     0.0KB/s   --:-- ETA"
       ]
      },
      {
       "output_type": "stream",
       "stream": "stdout",
       "text": [
        "\r",
        "1.283.A.rearrange.genomecoverage.txt          100% 1094KB   1.1MB/s   00:01    \r\n"
       ]
      },
      {
       "output_type": "stream",
       "stream": "stdout",
       "text": [
        "\r",
        "1.283.B.rearrange.genomecoverage.txt            0%    0     0.0KB/s   --:-- ETA"
       ]
      },
      {
       "output_type": "stream",
       "stream": "stdout",
       "text": [
        "\r",
        "1.283.B.rearrange.genomecoverage.txt          100% 1094KB   1.1MB/s   00:00    \r\n"
       ]
      },
      {
       "output_type": "stream",
       "stream": "stdout",
       "text": [
        "\r",
        "1.283.C.rearrange.genomecoverage.txt            0%    0     0.0KB/s   --:-- ETA"
       ]
      },
      {
       "output_type": "stream",
       "stream": "stdout",
       "text": [
        "\r",
        "1.283.C.rearrange.genomecoverage.txt          100% 1094KB   1.1MB/s   00:00    \r\n"
       ]
      },
      {
       "output_type": "stream",
       "stream": "stdout",
       "text": [
        "\r",
        "1.285.O.rearrange.genomecoverage.txt            0%    0     0.0KB/s   --:-- ETA"
       ]
      },
      {
       "output_type": "stream",
       "stream": "stdout",
       "text": [
        "\r",
        "1.285.O.rearrange.genomecoverage.txt          100% 1098KB   1.1MB/s   00:01    \r\n"
       ]
      }
     ],
     "prompt_number": 3
    },
    {
     "cell_type": "code",
     "collapsed": false,
     "input": [
      "startpoint"
     ],
     "language": "python",
     "metadata": {},
     "outputs": [
      {
       "metadata": {},
       "output_type": "pyout",
       "prompt_number": 17,
       "text": [
        "[23424,\n",
        " 42589,\n",
        " 49468,\n",
        " 48469,\n",
        " 56032,\n",
        " 58708,\n",
        " 7195,\n",
        " 42564,\n",
        " 47113,\n",
        " 46972,\n",
        " 16117,\n",
        " 10532,\n",
        " 53585,\n",
        " 46840,\n",
        " 48180,\n",
        " 56900,\n",
        " 26233,\n",
        " 36618,\n",
        " 45596,\n",
        " 53351,\n",
        " 48321,\n",
        " 5526,\n",
        " 2591,\n",
        " 6839,\n",
        " 23659,\n",
        " 0,\n",
        " 52205,\n",
        " 31370,\n",
        " 42171,\n",
        " 22903,\n",
        " 55339,\n",
        " 28046,\n",
        " 49498,\n",
        " 20948,\n",
        " 23242,\n",
        " 3269,\n",
        " 3111,\n",
        " 33829,\n",
        " 39478,\n",
        " 57271,\n",
        " 49487,\n",
        " 51657,\n",
        " 7943,\n",
        " 47257]"
       ]
      }
     ],
     "prompt_number": 17
    },
    {
     "cell_type": "code",
     "collapsed": false,
     "input": [
      "%%R -i group4 -i startpoint\n",
      "#create coverage plots for each genome\n",
      "count<-0\n",
      "for (item in group4){\n",
      "    filename<-paste(\"./final_genomes/\",item,\"rearrange.genomecoverage.txt\",sep=\"\")\n",
      "    count<-count+1\n",
      "    coverage<-read.table(filename, sep=\"\\t\")\n",
      "    pdf(paste(item,\"rearrange.coverage.plot.pdf\", sep=\"\"))\n",
      "    with(coverage, plot(V2, V3, type=\"n\",xlab=\"position\",ylab=\"coverage\", main=item))\n",
      "    with(coverage, lines(V2,V3))\n",
      "    points(startpoint[count], mean(coverage$V3), col=\"red\", pch=19, cex=1.5)\n",
      "    dev.off()\n",
      "    \n",
      "}"
     ],
     "language": "python",
     "metadata": {},
     "outputs": [],
     "prompt_number": 38
    },
    {
     "cell_type": "code",
     "collapsed": false,
     "input": [],
     "language": "python",
     "metadata": {},
     "outputs": [],
     "prompt_number": 36
    },
    {
     "cell_type": "code",
     "collapsed": false,
     "input": [
      "!mkdir final_genomes\n",
      "!scp jbrown@eofe4.mit.edu:/nobackup1/jbrown/nahant_phage_reads/group4/*final.fasta ./final_genomes/\n",
      "!scp jbrown@eofe4.mit.edu:/nobackup1/jbrown/nahant_phage_reads/group4/fastq.list.txt ./final_genomes/"
     ],
     "language": "python",
     "metadata": {},
     "outputs": [
      {
       "output_type": "stream",
       "stream": "stdout",
       "text": [
        "\r",
        "fastq.list.txt                                  0%    0     0.0KB/s   --:-- ETA"
       ]
      },
      {
       "output_type": "stream",
       "stream": "stdout",
       "text": [
        "\r",
        "fastq.list.txt                                100% 1286     1.3KB/s   00:00    \r\n"
       ]
      }
     ],
     "prompt_number": 47
    },
    {
     "cell_type": "markdown",
     "metadata": {},
     "source": [
      "###Re-name FASTA files for full phage name"
     ]
    },
    {
     "cell_type": "code",
     "collapsed": false,
     "input": [
      "from pyfaidx import Fasta\n",
      "\n",
      "for element in open(\"./final_genomes/fastq.list.txt\"):\n",
      "    a=element.rstrip(\"\\n\")\n",
      "    v=a.split(\"f\")\n",
      "    name=str(v[0])\n",
      "    b=v[0].split(\"_\")\n",
      "    virfile=\"./final_genomes/\"+b[0]+\"final.fasta\"\n",
      "    f=Fasta(virfile)\n",
      "    sequence=str(f[0])\n",
      "    output=open(\"./final_genomes/\"+name+\"final.fasta\",\"w\")\n",
      "    output.write(\">Vibriophage_\"+name+\"\\n\"+sequence)\n",
      "    output.close()"
     ],
     "language": "python",
     "metadata": {},
     "outputs": [],
     "prompt_number": 52
    },
    {
     "cell_type": "code",
     "collapsed": false,
     "input": [
      "!mv ./final_genomes/*10N*final* ./ToSubmit/"
     ],
     "language": "python",
     "metadata": {},
     "outputs": [
      {
       "output_type": "stream",
       "stream": "stdout",
       "text": [
        "/bin/sh: mdkir: command not found\r\n"
       ]
      }
     ],
     "prompt_number": 55
    },
    {
     "cell_type": "markdown",
     "metadata": {},
     "source": [
      "###Submit to RASTtk for annotation"
     ]
    },
    {
     "cell_type": "code",
     "collapsed": false,
     "input": [
      "import glob\n",
      "\n",
      "os.chdir(\"./ToSubmit\")\n",
      "\n",
      "f1=glob.glob(\"*.fasta\")\n",
      "out=open(\"to_gto.sh\",\"w\")\n",
      "out.write(\"mkdir ToSubmit\\n\\n\")\n",
      "for line in f1:\n",
      "    gto=line.replace(\"final.fasta\",\"\")\n",
      "    name=\"Vibriophage_\"+gto\n",
      "    out.write('rast-create-genome --scientific-name \"Vibriophage '+name+'\" --genetic-code 11 --domain Virus --contigs '+line+' > ./ToSubmit/'+gto+'gto'+\"\\n\\nsleep 5\\n\\n\")\n",
      "out.close()\n",
      "!open to_gto.sh -a textedit"
     ],
     "language": "python",
     "metadata": {},
     "outputs": [],
     "prompt_number": 56
    },
    {
     "cell_type": "code",
     "collapsed": false,
     "input": [
      "rast-process-genome-batch --workflow vir_genomes.workflow2.json ./ToSubmit\n",
      "Submission ID: 287e997c-b35d-41d4-ae8f-6100841f141a\n",
      "rast-query-genome-batch 287e997c-b35d-41d4-ae8f-6100841f141a\n",
      "mkdir RASTtk_annotated\n",
      "rast-download-genome-batch 287e997c-b35d-41d4-ae8f-6100841f141a RASTtk_annotated"
     ],
     "language": "python",
     "metadata": {},
     "outputs": []
    },
    {
     "cell_type": "code",
     "collapsed": false,
     "input": [
      "import glob\n",
      "import os\n",
      "\n",
      "os.chdir(\"/Users/jmb/Desktop/ViralFate/PhageGenomeAssembly/group4/ToSubmit/RASTtk_annotated/\")\n",
      "gtos=glob.glob(\"*gto.gto\")\n",
      "\n",
      "toconvert=open(\"gto_to_gbk.sh\",\"w\")\n",
      "todo=\"\"\n",
      "for line in gtos:\n",
      "    gbk=line.replace(\".gto.gto\",\".gbk\")\n",
      "    todo+=\"rast-export-genome genbank <\"+line+\"> \"+gbk+\"\\n\"+\"sleep 30\\n\"\n",
      "toconvert.write(todo)\n",
      "toconvert.close()\n",
      "!open gto_to_gbk.sh -a textedit"
     ],
     "language": "python",
     "metadata": {},
     "outputs": [],
     "prompt_number": 59
    },
    {
     "cell_type": "code",
     "collapsed": false,
     "input": [
      "pwd"
     ],
     "language": "python",
     "metadata": {},
     "outputs": [
      {
       "metadata": {},
       "output_type": "pyout",
       "prompt_number": 58,
       "text": [
        "u'/Users/jmb/Desktop/ViralFate/PhageGenomeAssembly/group4/ToSubmit/RASTtk_annotated'"
       ]
      }
     ],
     "prompt_number": 58
    },
    {
     "cell_type": "code",
     "collapsed": false,
     "input": [],
     "language": "python",
     "metadata": {},
     "outputs": []
    },
    {
     "cell_type": "code",
     "collapsed": false,
     "input": [],
     "language": "python",
     "metadata": {},
     "outputs": []
    },
    {
     "cell_type": "code",
     "collapsed": false,
     "input": [
      "##Checking Group 4 variability in genome length.  Genomes vary, based on variable regions within group 4.\n",
      "\n"
     ],
     "language": "python",
     "metadata": {},
     "outputs": []
    }
   ],
   "metadata": {}
  }
 ]
}