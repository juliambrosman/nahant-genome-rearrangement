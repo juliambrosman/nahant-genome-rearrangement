{
 "metadata": {
  "name": "",
  "signature": "sha256:4f4c2ff39190b46902e9f4afab8942506c7b618495815db82af1d9e7312c1fc9"
 },
 "nbformat": 3,
 "nbformat_minor": 0,
 "worksheets": [
  {
   "cells": [
    {
     "cell_type": "code",
     "collapsed": false,
     "input": [
      "fingen=open(\"group5.complete.20150406.txt\")\n",
      "prodigal=open(\"20150406_prodigal_group5.sh\",\"a\")\n",
      "for genome in fingen:\n",
      "    vec=genome.split(\"s\")\n",
      "    name=vec[0]\n",
      "    prodigal.write(\"prodigal -i \"+genome.replace(\"\\n\",\"\")+\" -o \"+name+\"genes -a \"+name+\"proteins.faa -p meta\\n\\n\")\n",
      "prodigal.close()"
     ],
     "language": "python",
     "metadata": {},
     "outputs": [],
     "prompt_number": 12
    },
    {
     "cell_type": "code",
     "collapsed": false,
     "input": [
      "fingen=open(\"group6_finished.txt\")\n",
      "prodigal=open(\"20150407_prodigal_group6.sh\",\"a\")\n",
      "for genome in fingen:\n",
      "    vec=genome.split(\"s\")\n",
      "    name=vec[0]\n",
      "    prodigal.write(\"prodigal -i \"+genome.replace(\"\\n\",\"\")+\" -o \"+name+\"genes -a \"+name+\"proteins.faa -p meta\\n\\n\")\n",
      "prodigal.close()"
     ],
     "language": "python",
     "metadata": {},
     "outputs": [],
     "prompt_number": 3
    },
    {
     "cell_type": "code",
     "collapsed": false,
     "input": [
      "ls *vs*"
     ],
     "language": "python",
     "metadata": {},
     "outputs": [
      {
       "output_type": "stream",
       "stream": "stdout",
       "text": [
        "1.025.O_vs_aclameprots.txt\r\n"
       ]
      }
     ],
     "prompt_number": 4
    },
    {
     "cell_type": "code",
     "collapsed": false,
     "input": [
      "blastoutput=open(\"1.025.O_vs_aclameprots.txt\")\n",
      "blastoutput=blastoutput.readlines()\n",
      "aclameinfo=open(\"aclame_proteins_all_0.4.tab\")\n",
      "aclameinfo=aclameinfo.readlines()\n",
      "aclame_db={}\n",
      "for line in aclameinfo:\n",
      "    vec=line.split(\"\\t\")\n",
      "    if len(vec)>5:\n",
      "        ident=vec[0]\n",
      "        ncbi=vec[2]\n",
      "        aclame_db[ident]=ncbi"
     ],
     "language": "python",
     "metadata": {},
     "outputs": [],
     "prompt_number": 23
    },
    {
     "cell_type": "code",
     "collapsed": false,
     "input": [
      "addinfo=open(\"1.025.O_vs_aclameprots1.txt\",\"w\")\n",
      "addinfo.write(\"query\\ttarget\\tpct_id\\taln_len\\tnum_mismatch\\tnum_gap\\tqstart\\tqstop\\ttstart\\ttstop\\te_value\\tbit_score\\tfunction\\n\")\n",
      "blastoutput=open(\"1.025.O_vs_aclameprots.txt\")\n",
      "blastoutput=blastoutput.readlines()\n",
      "for line in blastoutput:\n",
      "    line=line.replace(\"\\n\",\"\")\n",
      "    vec=line.split(\"\\t\")\n",
      "    ident=vec[1]\n",
      "    func=aclame_db[ident]\n",
      "    addinfo.write(line+\"\\t\"+func+\"\\n\")\n",
      "addinfo.close()"
     ],
     "language": "python",
     "metadata": {},
     "outputs": [],
     "prompt_number": 26
    },
    {
     "cell_type": "markdown",
     "metadata": {},
     "source": [
      "Ahh, i'm getting intimidated by all of this.  Genome assembly is not trivial.  What if chromosome is oriented in the wrong direction??  How do I know what a good CDS call would be?\n",
      "\n",
      "Return to RASTtk, at least for preliminary annotation and to compare using the Artemis Comparison Tool:"
     ]
    },
    {
     "cell_type": "raw",
     "metadata": {},
     "source": [
      "cd ~/Desktop/ViralFate/PhageGenomeAssembly/Group5/genome_seqs/\n",
      "#kbase-login juliambrown"
     ]
    },
    {
     "cell_type": "code",
     "collapsed": false,
     "input": [
      "fastas=open(\"./Group5/genome_seqs/group5.genome.fastas.txt\")\n",
      "f1=fastas.readlines()\n",
      "out=open(\"group5.gto.commands.sh\",\"w\")\n",
      "for line in f1:\n",
      "    descript=line.rstrip(\"\\n\").split(\"s\")\n",
      "    phagename=descript[0]\n",
      "    filename=line.rstrip(\"\\n\")\n",
      "    #out.write('rast-create-genome --scientific-name \"Vibriophage '+phagename+'\" --genetic-code 11 --domain Virus --contigs '+filename+' > ToSubmit/'+phagename+'.gto'+\"\\n\")\n",
      "    out.write('rast-create-genome --scientific-name \"Vibriophage '+phagename+'\" --genetic-code 11 --domain Virus --contigs '+filename+' > ./ToSubmit/'+phagename+'gto'+\"\\n\\nsleep 5\\n\\n\")\n",
      "out.close()"
     ],
     "language": "python",
     "metadata": {},
     "outputs": [],
     "prompt_number": 10
    },
    {
     "cell_type": "raw",
     "metadata": {},
     "source": [
      "#in RASTtk bash shell:\n",
      "\n",
      "mv group5.gto.commands.sh ./Group5/genome_seqs/\n",
      "\n",
      "in ./Group5/genome_seqs/:\n",
      "\n",
      "bash group5.gto.commands.sh"
     ]
    },
    {
     "cell_type": "raw",
     "metadata": {},
     "source": [
      "rast-process-genome-batch --workflow vir_genomes.workflow2.json ./ToSubmit\n",
      "Submission ID: 2d000e61-1040-4587-927d-66a5e030b2c0\n",
      "rast-query-genome-batch 2d000e61-1040-4587-927d-66a5e030b2c0"
     ]
    },
    {
     "cell_type": "code",
     "collapsed": false,
     "input": [
      "rast-download-genome-batch 2d000e61-1040-4587-927d-66a5e030b2c0 RASTtk_Annotated"
     ],
     "language": "python",
     "metadata": {},
     "outputs": []
    },
    {
     "cell_type": "code",
     "collapsed": false,
     "input": [
      "#rast-export-genome genbank <1.015.O.gto.gto> 1.015.O.gbk\n",
      "fastas=open(\"./Group5/genome_seqs/group5.genome.fastas.txt\")\n",
      "f1=fastas.readlines()\n",
      "out=open(\"group5.gto2gbk.commands.sh\",\"w\")\n",
      "for line in f1:\n",
      "    descript=line.rstrip(\"\\n\").split(\"s\")\n",
      "    phagename=descript[0]\n",
      "    filename=phagename+\".gto.gto\"\n",
      "    out.write(\"rast-export-genome genbank <\"+phagename+\"gto.gto> \"+phagename+\"gbk\\n\\nsleep 10\\n\\n\")\n",
      "out.close()"
     ],
     "language": "python",
     "metadata": {},
     "outputs": [],
     "prompt_number": 16
    },
    {
     "cell_type": "code",
     "collapsed": false,
     "input": [
      "#in RASTtk bash shell:\n",
      "\n",
      "!mv group5.gto2gbk.commands.sh ./Group5/genome_seqs/RASTtk_Annotated\n",
      "\n",
      "in ./Group5/genome_seqs/RASTtk_Annotated:\n",
      "\n",
      "bash group5.gto.commands.sh"
     ],
     "language": "python",
     "metadata": {},
     "outputs": []
    },
    {
     "cell_type": "code",
     "collapsed": false,
     "input": [
      "#to extract cds from gbk files into fna and faa files:\n",
      "from Bio import SeqIO\n",
      "import re\n",
      "from Bio.SeqFeature import FeatureLocation\n",
      "\n",
      "def cds_rasttk_gbk_extract(list_of_files):\n",
      "    gbkfiles=open(list_of_files)\n",
      "    genbankfiles=gbkfiles.readlines()\n",
      "    for line in genbankfiles:\n",
      "        filename=line.replace(\".gbk\\n\",\"\")\n",
      "        cdsfna=open(filename+\".fna\", \"w\")\n",
      "        cdsfaa=open(filename+\".faa\", \"w\")\n",
      "        gbk=line.replace(\"\\n\",\"\")\n",
      "        for rec in SeqIO.parse(gbk, \"genbank\"):\n",
      "            for feature in rec.features:\n",
      "                if feature.type==\"CDS\":\n",
      "                    name=str(feature.qualifiers[\"db_xref\"])+\"_\"+str(feature.qualifiers[\"product\"])\n",
      "                    local=feature.location                 \n",
      "                    if bool(re.search(r\"\\-\",str(local))):    #if the feature location is on the negative strand\n",
      "                        stop=local.start                     #the start location should actually be the end location\n",
      "                        start=local.end                      #and the end location should be the start location \n",
      "                        feature.location=FeatureLocation(start+1, stop+1, strand=-1)   #re-writing the feature location in the correct format\n",
      "                        na=feature.location.extract(rec).seq                   #extract the nucleic acid sequence of this feature\n",
      "                    else:\n",
      "                        na=feature.location.extract(rec).seq    #if it's on the positive strand the feature location is written in the correct way\n",
      "                    aa=str(feature.qualifiers[\"translation\"])\n",
      "                    aa=aa.replace(\"[\",\"\").replace(\"]\",\"\").replace(\"'\",\"\")\n",
      "                    cdsfna.write(\">\"+filename+\"_\"+str(name)+\"\\n\"+str(na)+\"\\n\")\n",
      "                    cdsfaa.write(\">\"+filename+\"_\"+str(name)+\"\\n\"+str(aa)+\"\\n\")\n",
      "        cdsfna.close()\n",
      "        cdsfaa.close()    \n",
      "          #  feature_name=feature.qualifiers[\"db_xref\"]\n",
      "           # print(feature_name+str(count))"
     ],
     "language": "python",
     "metadata": {},
     "outputs": [],
     "prompt_number": 17
    },
    {
     "cell_type": "code",
     "collapsed": false,
     "input": [
      "#to extract cds from gbk files into fna and faa files:\n",
      "from Bio import SeqIO\n",
      "import re\n",
      "from Bio.SeqFeature import FeatureLocation\n",
      "\n",
      "def cds_gbk_extract(list_of_files):\n",
      "    gbkfiles=open(list_of_files)\n",
      "    genbankfiles=gbkfiles.readlines()\n",
      "    for line in genbankfiles:\n",
      "        filename=line.replace(\".gbk\\n\",\"\")\n",
      "        cdsfna=open(filename+\".fna\", \"w\")\n",
      "        cdsfaa=open(filename+\".faa\", \"w\")\n",
      "        gbk=line.replace(\"\\n\",\"\")\n",
      "        for rec in SeqIO.parse(gbk, \"genbank\"):\n",
      "            genome=SeqIO.convert(line.rstrip(\"\\n\"), \"genbank\", filename+\".genome.fasta\", \"fasta\")\n",
      "            for feature in rec.features:\n",
      "                if feature.type==\"CDS\":\n",
      "                    name=str(feature.qualifiers[\"locus_tag\"])#+\"_\"+str(feature.qualifiers[\"product\"])\n",
      "                    local=feature.location                 \n",
      "                    na=feature.location.extract(rec).seq   \n",
      "                    aa=str(feature.qualifiers[\"translation\"])\n",
      "                    aa=aa.replace(\"[\",\"\").replace(\"]\",\"\").replace(\"'\",\"\")\n",
      "                    cdsfna.write(\">\"+str(name)+\"\\n\"+str(na)+\"\\n\")\n",
      "                    cdsfaa.write(\">\"+str(name)+\"\\n\"+str(aa)+\"\\n\")\n",
      "        cdsfna.close()\n",
      "        cdsfaa.close()    \n",
      "          #  feature_name=feature.qualifiers[\"db_xref\"]\n",
      "           # print(feature_name+str(count))"
     ],
     "language": "python",
     "metadata": {},
     "outputs": [],
     "prompt_number": 29
    },
    {
     "cell_type": "code",
     "collapsed": false,
     "input": [
      "pwd"
     ],
     "language": "python",
     "metadata": {},
     "outputs": [
      {
       "metadata": {},
       "output_type": "pyout",
       "prompt_number": 45,
       "text": [
        "u'/Users/jmb/Desktop/ViralFate/PhageGenomeAssembly'"
       ]
      }
     ],
     "prompt_number": 45
    },
    {
     "cell_type": "code",
     "collapsed": false,
     "input": [
      "import os\n",
      "os.chdir(\"./Ref_Phage_Genomes/\")\n",
      "!ls *gbk > gbk.files.txt\n",
      "cds_gbk_extract(\"gbk.files.txt\")"
     ],
     "language": "python",
     "metadata": {},
     "outputs": [],
     "prompt_number": 46
    },
    {
     "cell_type": "code",
     "collapsed": true,
     "input": [
      "ls"
     ],
     "language": "python",
     "metadata": {},
     "outputs": [
      {
       "output_type": "stream",
       "stream": "stdout",
       "text": [
        "ColiphageN4.faa       VibriophageJA1.fna    VibriophageVBP47.gbk\r\n",
        "ColiphageN4.fna       VibriophageJA1.gbk    gbk.files.txt\r\n",
        "ColiphageN4.gbk       VibriophageVBP47.faa\r\n",
        "VibriophageJA1.faa    VibriophageVBP47.fna\r\n"
       ]
      }
     ],
     "prompt_number": 25
    },
    {
     "cell_type": "code",
     "collapsed": false,
     "input": [
      "import os\n",
      "os.chdir(\"../genome_seqs/\")\n",
      "!ls *.gbk > gbk.files.txt\n",
      "cds_rasttk_gbk_extract(\"gbk.files.txt\")"
     ],
     "language": "python",
     "metadata": {},
     "outputs": []
    },
    {
     "cell_type": "code",
     "collapsed": false,
     "input": [
      "scp ./N4Like_Refs/*genome.fasta jbrown@eofe4.mit.edu:/nobackup1/jbrown/nahant_phage_reads/group5/finished/N4Like_Refs/"
     ],
     "language": "python",
     "metadata": {},
     "outputs": []
    },
    {
     "cell_type": "code",
     "collapsed": false,
     "input": [
      "!scp  ./blast1_for_ACT.sh jbrown@eofe4.mit.edu:/nobackup1/jbrown/nahant_phage_reads/group5/finished/blast_comparisons/"
     ],
     "language": "python",
     "metadata": {},
     "outputs": [
      {
       "output_type": "stream",
       "stream": "stdout",
       "text": [
        "\r",
        "blast1_for_ACT.sh                               0%    0     0.0KB/s   --:-- ETA\r",
        "blast1_for_ACT.sh                             100% 1235     1.2KB/s   00:00    \r\n"
       ]
      }
     ],
     "prompt_number": 42
    },
    {
     "cell_type": "code",
     "collapsed": false,
     "input": [
      "import os\n",
      "os.chdir(\"./PhageGenome/group6\")"
     ],
     "language": "python",
     "metadata": {},
     "outputs": [
      {
       "ename": "OSError",
       "evalue": "[Errno 2] No such file or directory: './group6'",
       "output_type": "pyerr",
       "traceback": [
        "\u001b[0;31m---------------------------------------------------------------------------\u001b[0m\n\u001b[0;31mOSError\u001b[0m                                   Traceback (most recent call last)",
        "\u001b[0;32m<ipython-input-50-06546f8fc248>\u001b[0m in \u001b[0;36m<module>\u001b[0;34m()\u001b[0m\n\u001b[1;32m      1\u001b[0m \u001b[0;32mimport\u001b[0m \u001b[0mos\u001b[0m\u001b[0;34m\u001b[0m\u001b[0m\n\u001b[0;32m----> 2\u001b[0;31m \u001b[0mos\u001b[0m\u001b[0;34m.\u001b[0m\u001b[0mchdir\u001b[0m\u001b[0;34m(\u001b[0m\u001b[0;34m\"./group6\"\u001b[0m\u001b[0;34m)\u001b[0m\u001b[0;34m\u001b[0m\u001b[0m\n\u001b[0m",
        "\u001b[0;31mOSError\u001b[0m: [Errno 2] No such file or directory: './group6'"
       ]
      }
     ],
     "prompt_number": 50
    },
    {
     "cell_type": "code",
     "collapsed": false,
     "input": [
      "pwd"
     ],
     "language": "python",
     "metadata": {},
     "outputs": [
      {
       "metadata": {},
       "output_type": "pyout",
       "prompt_number": 34,
       "text": [
        "u'/Users/jmb/Desktop/ViralFate'"
       ]
      }
     ],
     "prompt_number": 34
    },
    {
     "cell_type": "raw",
     "metadata": {},
     "source": [
      "#!/bin/bash                                                                                                                                                                \n",
      "#SBATCH -n 16                                                                                                                                                              \n",
      "#SBATCH -N 1                                                                                                                     \n",
      "#SBATCH -o db.out      # File to which STDOUT will be written                                                                                   \n",
      "#SBATCH -e db.err      # File to which STDERR will be written                                                                                   \n",
      "#SBATCH -p newnodes                # name of partition to use  \n",
      "#saved as blast1_for_ACT.sh\n",
      "\n",
      "module add engaging/ncbi-blast/2.2.30+\n",
      "\n",
      "makeblastdb -in ColiphageN4.genome.fasta -dbtype nucl \n",
      "makeblastdb -in VibriophageVBP47.genome.fasta -dbtype nucl\n",
      "makeblastdb -in VibriophageJA1.genome.fasta -dbtype nucl\n",
      "\n",
      "tblastx -db ColiphageN4.genome.fasta -query ../1.026.O.step2.fasta -outfmt 6  -out 1.026.O_vs_coliphageN4.txt\n",
      "tblastx -db ColiphageN4.genome.fasta -query ../1.025.O.step1.fasta -outfmt 6  -out 1.025.O_vs_coliphageN4.txt\n",
      "tblastx -db ColiphageN4.genome.fasta -query ../1.097.O.step2.fasta -outfmt 6  -out 1.097.O_vs_coliphageN4.txt\n",
      "tblastx -db ColiphageN4.genome.fasta -query ../1.188.C.step2.fasta -outfmt 6  -out 1.188.C_vs_coliphageN4.txt\n",
      "tblastx -db ColiphageN4.genome.fasta -query ../1.188.B.step2.fasta -outfmt 6  -out 1.188.B_vs_coliphageN4.txt\n",
      "tblastx -db ColiphageN4.genome.fasta -query ../1.169.O.step1.fasta -outfmt 6  -out 1.169.O_vs_coliphageN4.txt\n",
      "tblastx -db ColiphageN4.genome.fasta -query ../1.261.O.step2.fasta -outfmt 6  -out 1.261.O_vs_coliphageN4.txt\n",
      "tblastx -db ColiphageN4.genome.fasta -query ../2.130.O.step2.fasta -outfmt 6  -out 2.130.O_vs_coliphageN4.txt"
     ]
    },
    {
     "cell_type": "code",
     "collapsed": false,
     "input": [],
     "language": "python",
     "metadata": {},
     "outputs": [],
     "prompt_number": 0
    },
    {
     "cell_type": "code",
     "collapsed": false,
     "input": [],
     "language": "python",
     "metadata": {},
     "outputs": []
    }
   ],
   "metadata": {}
  }
 ]
}