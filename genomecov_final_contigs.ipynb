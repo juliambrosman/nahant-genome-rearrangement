{
 "cells": [
  {
   "cell_type": "code",
   "execution_count": 5,
   "metadata": {
    "collapsed": true
   },
   "outputs": [],
   "source": [
    "from __future__ import print_function\n",
    "import os\n",
    "import os.path as op\n"
   ]
  },
  {
   "cell_type": "code",
   "execution_count": 6,
   "metadata": {
    "collapsed": true
   },
   "outputs": [],
   "source": [
    "beginning = '''#!/bin/bash\n",
    "#SBATCH -n 16\n",
    "#SBATCH -N 1\n",
    "#SBATCH -o check_asm1_bedcov.out\n",
    "#SBATCH -e check_asm_bedcov.err\n",
    "#SBATCH -p sched_mit_chisholm\n",
    "\n",
    "module add engaging/clc-assembly-cell\n",
    "module add engaging/samtools/1.1\n",
    "module add engaging/bedtools/2.22.1\n",
    "'''\n",
    "\n",
    "phagelist = \"./data/phages.txt\"\n"
   ]
  },
  {
   "cell_type": "code",
   "execution_count": 13,
   "metadata": {
    "collapsed": false
   },
   "outputs": [],
   "source": [
    "from __future__ import print_function\n",
    "\n",
    "with open(phagelist) as ih, open(\"final_coverage.slurm\",\"w\") as oh:\n",
    "    print(beginning, file=oh)\n",
    "    for p in ih:\n",
    "        phage=p.strip()\n",
    "\n",
    "        pdir = \"/nobackup1/jbrown/nahant_phage_reads/\"\n",
    "        wdir = \"final_coverage\"\n",
    "        cdir = \"final_bp_contigs\"\n",
    "        fastq = op.join(pdir,\"{phage}_*.fastq\".format(**locals()))\n",
    "        contig_assembly = op.join(pdir, cdir, \"{phage}final.fasta\".format(**locals()))\n",
    "        outcas = op.join(pdir, wdir, \"{phage}final.clc.cas\".format(**locals()))\n",
    "        outbam = op.join(pdir, wdir, \"{phage}final.clc.bam\".format(**locals()))\n",
    "        rearranged = op.join(pdir, wdir, \"{phage}final.clc.sorted\".format(**locals()))\n",
    "        genomecov = op.join(pdir, wdir, \"{phage}final.clc.genomecoverage\".format(**locals()))\n",
    "\n",
    "        clc_map_cmd = \"clc_mapper -o {outcas} -p fb ss 100 300 -q {fastq} -d {contig_assembly} -a local -r ignore\".format(**locals())\n",
    "        clc_to_sam = \"clc_cas_to_sam -a {outcas} -o {outbam}\".format(**locals())\n",
    "        sam_sort = \"samtools sort {outbam} {rearranged}\".format(**locals())\n",
    "        sam_index = \"samtools index {rearranged}\".format(**locals())\n",
    "        bed_gcov = \"bedtools genomecov -ibam {rearranged}.bam -d > {genomecov}\".format(**locals())\n",
    "        \n",
    "        print(clc_map_cmd, clc_to_sam, sam_sort, sam_index, bed_gcov, sep=\"\\n\", file=oh)\n",
    "        print(\"\\n\", file=oh)\n"
   ]
  },
  {
   "cell_type": "code",
   "execution_count": 14,
   "metadata": {
    "collapsed": true
   },
   "outputs": [],
   "source": [
    "!open final_coverage.slurm -a textedit"
   ]
  },
  {
   "cell_type": "code",
   "execution_count": null,
   "metadata": {
    "collapsed": true
   },
   "outputs": [],
   "source": [
    "scp final_coverage.slurm jbrown@eofe4.mit.edu:/nobackup1/jbrown/"
   ]
  },
  {
   "cell_type": "code",
   "execution_count": null,
   "metadata": {
    "collapsed": true
   },
   "outputs": [],
   "source": []
  }
 ],
 "metadata": {
  "kernelspec": {
   "display_name": "Python 2",
   "language": "python",
   "name": "python2"
  },
  "language_info": {
   "codemirror_mode": {
    "name": "ipython",
    "version": 2
   },
   "file_extension": ".py",
   "mimetype": "text/x-python",
   "name": "python",
   "nbconvert_exporter": "python",
   "pygments_lexer": "ipython2",
   "version": "2.7.12"
  }
 },
 "nbformat": 4,
 "nbformat_minor": 0
}
