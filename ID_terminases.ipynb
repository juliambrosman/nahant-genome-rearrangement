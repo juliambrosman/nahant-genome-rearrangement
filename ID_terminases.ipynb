{
 "metadata": {
  "name": "",
  "signature": "sha256:e9375df78ec2b23aba83306223c6b4fc16811bfc1a4652bcf4f92420e6616a85"
 },
 "nbformat": 3,
 "nbformat_minor": 0,
 "worksheets": [
  {
   "cells": [
    {
     "cell_type": "code",
     "collapsed": false,
     "input": [
      "prelim_groups=open(\"phage_by_group.txt\")\n",
      "phages=[]\n",
      "for line in prelim_groups:\n",
      "    phages.append(line.split(\"\\t\")[0])"
     ],
     "language": "python",
     "metadata": {},
     "outputs": [],
     "prompt_number": 2
    },
    {
     "cell_type": "code",
     "collapsed": false,
     "input": [
      "out=open(\"terminase_extraction.sh\",\"w\")\n",
      "out.write(\"#!/bin/bash\\n#SBATCH -n 16\\n#SBATCH -N 1\\n#SBATCH -o terminase_extraction.out\\n#SBATCH -e terminase_extraction.err\\n#SBATCH -p sched_mit_chisholm\\n\\n\")\n",
      "out.write(\"module add engaging/clc-assembly-cell\\nmodule add engaging/samtools/1.1\\n\")\n",
      "out.write(\"module add engaging/prodigal/2.6.1\\n\")\n",
      "out.write(\"module add engaging/ncbi-blast/2.2.30+\\n\")\n",
      "out.write(\"module add engaging/python/2.7.9\\n\\n\")\n",
      "out.write(\"mkdir terminase_search\\n\\n\")\n",
      "\n",
      "outphagelist=open(\"phages.txt\",\"w\")\n",
      "for line in phages:\n",
      "    outphagelist.write(line+\"\\n\")\n",
      "outphagelist.close()\n",
      "\n",
      "for line in phages:\n",
      "    name=\"./terminase_search/\"+line.rstrip(\"\\n\")\n",
      "    out.write(\"\\n#\"+line+\"\\nclc_assembler -o \"+name+\"step1.clc.fasta -m 500 -p fb ss 100 300 -q \"+ line.rstrip(\"\\n\")+\"*.fastq\\n\")\n",
      "    out.write(\"samtools faidx \"+name+\"step1.clc.fasta 'contig_1'>\"+name+\"step1.contig1.fasta\\n\")\n",
      "    out.write(\"prodigal -i \"+name+\"step1.contig1.fasta -o \"+name+\"genes -a \"+name+\"proteins.faa -p meta\\n\")\n",
      "\n",
      "    inputfasta=name+\"proteins.faa\"\n",
      "    bout1=name+\"prodprot.vs.lg.terminases.txt\"\n",
      "    blastcommand=\"blastp -db /nobackup1/jbrown/blast_db/terminase_lg_subunit.fasta -query \"+inputfasta+\" -num_descriptions 1 -evalue 0.00001 -outfmt 6 -out \"+bout1\n",
      "    #blastcommand2=\"blastx -db /nobackup1/jbrown/blast_db/terminase_sm_subunit.fasta -query \"+inputfasta+\" -num_descriptions 1 -outfmt 6 -out \"+bout2\n",
      "    out.write(blastcommand+\"\\n\\n\")#+blastcommand2+\"\\n\\n\")\n",
      "    \n",
      "out.write('python ../extract_best_blast.py ../phages.txt nahant_phage_terminases.fasta')\n",
      "    \n",
      "out.close()\n",
      "!open terminase_extraction.sh -a textedit\n",
      "!scp phages.txt terminase_extraction.sh jbrown@eofe4.mit.edu:/nobackup1/jbrown/nahant_phage_reads"
     ],
     "language": "python",
     "metadata": {},
     "outputs": [
      {
       "output_type": "stream",
       "stream": "stdout",
       "text": [
        "\r",
        "phages.txt                                      0%    0     0.0KB/s   --:-- ETA\r",
        "phages.txt                                    100% 2583     2.5KB/s   00:00    \r\n"
       ]
      },
      {
       "output_type": "stream",
       "stream": "stdout",
       "text": [
        "\r",
        "terminase_extraction.sh                         0%    0     0.0KB/s   --:-- ETA\r",
        "terminase_extraction.sh                       100%  168KB 167.7KB/s   00:00    \r\n"
       ]
      }
     ],
     "prompt_number": 13
    },
    {
     "cell_type": "code",
     "collapsed": false,
     "input": [
      "fasta=open(\"./terminase/n_and_t_terminases.fasta\")\n",
      "titles=[]\n",
      "phage_names=[]\n",
      "\n",
      "prelim_groups=open(\"phage_by_group.txt\")\n",
      "colors=open(\"/Users/jmb/Desktop/References/hex_color.txt\").readlines()\n",
      "cat_color={}\n",
      "count=-1\n",
      "cats=[]\n",
      "for line in prelim_groups.readlines():\n",
      "    if line.rstrip(\"\\n\").split(\"\\t\")[1] not in cats:\n",
      "        cats.append(line.rstrip(\"\\n\").split(\"\\t\")[1])\n",
      "for line in cats:\n",
      "    count+=1\n",
      "    cat_color[line]=colors[count].replace(\"\\n\",\"\")\n",
      "    \n",
      "\n",
      "phage_grp={}\n",
      "\n",
      "prelim_groups=open(\"phage_by_group.txt\")\n",
      "for line in prelim_groups.readlines():\n",
      "    line=line.rstrip(\"\\n\")\n",
      "    vec=line.split(\"\\t\")\n",
      "    phage_grp[vec[0]]=vec[1]\n",
      "    \n",
      "for line in fasta:\n",
      "    if line.startswith(\">\"):\n",
      "        titles.append(line.replace(\">\",\"\").replace(\"\\n\",\"\"))\n",
      "\n",
      "treekey=open(\"./terminase/treekey.txt\",\"w\")\n",
      "\n",
      "for line in titles:\n",
      "    if line.split(\"_\")[1]==\"contig\":\n",
      "        name=line.split(\"_\")[0]\n",
      "        groupname=phage_grp.get(name,0)\n",
      "\n",
      "        treekey.write(line+\"\\t\"+str(cat_color.get(groupname,\"#FFFFFF\"))+\"\\n\")\n",
      "\n"
     ],
     "language": "python",
     "metadata": {},
     "outputs": [],
     "prompt_number": 1
    },
    {
     "cell_type": "code",
     "collapsed": false,
     "input": [
      "mkdir prelim_prod_calls"
     ],
     "language": "python",
     "metadata": {},
     "outputs": [],
     "prompt_number": 3
    },
    {
     "cell_type": "code",
     "collapsed": false,
     "input": [
      "!scp jbrown@eofe4.mit.edu:/nobackup1/jbrown/nahant_phage_reads/terminase_search/*.faa ./prelim_prod_calls/"
     ],
     "language": "python",
     "metadata": {},
     "outputs": [
      {
       "output_type": "stream",
       "stream": "stdout",
       "text": [
        "\r",
        "1.003.O.proteins.faa                            0%    0     0.0KB/s   --:-- ETA"
       ]
      },
      {
       "output_type": "stream",
       "stream": "stdout",
       "text": [
        "\r",
        "1.003.O.proteins.faa                          100%   21KB  21.0KB/s   00:00    \r\n",
        "\r",
        "1.004.O.proteins.faa                            0%    0     0.0KB/s   --:-- ETA"
       ]
      },
      {
       "output_type": "stream",
       "stream": "stdout",
       "text": [
        "\r",
        "1.004.O.proteins.faa                          100%   21KB  20.7KB/s   00:00    \r\n"
       ]
      },
      {
       "output_type": "stream",
       "stream": "stdout",
       "text": [
        "\r",
        "1.005.O.proteins.faa                            0%    0     0.0KB/s   --:-- ETA"
       ]
      },
      {
       "output_type": "stream",
       "stream": "stdout",
       "text": [
        "\r",
        "1.005.O.proteins.faa                          100%   24KB  23.7KB/s   00:00    \r\n"
       ]
      },
      {
       "output_type": "stream",
       "stream": "stdout",
       "text": [
        "\r",
        "1.007.O.proteins.faa                            0%    0     0.0KB/s   --:-- ETA\r",
        "1.007.O.proteins.faa                          100%   24KB  24.1KB/s   00:00    \r\n"
       ]
      },
      {
       "output_type": "stream",
       "stream": "stdout",
       "text": [
        "\r",
        "1.008.O.proteins.faa                            0%    0     0.0KB/s   --:-- ETA\r",
        "1.008.O.proteins.faa                          100% 5289     5.2KB/s   00:00    \r\n"
       ]
      },
      {
       "output_type": "stream",
       "stream": "stdout",
       "text": [
        "\r",
        "1.009.O.proteins.faa                            0%    0     0.0KB/s   --:-- ETA\r",
        "1.009.O.proteins.faa                          100%   21KB  21.2KB/s   00:00    \r\n"
       ]
      },
      {
       "output_type": "stream",
       "stream": "stdout",
       "text": [
        "\r",
        "1.011.O.proteins.faa                            0%    0     0.0KB/s   --:-- ETA\r",
        "1.011.O.proteins.faa                          100% 5486     5.4KB/s   00:00    \r\n"
       ]
      },
      {
       "output_type": "stream",
       "stream": "stdout",
       "text": [
        "\r",
        "1.012.O.proteins.faa                            0%    0     0.0KB/s   --:-- ETA\r",
        "1.012.O.proteins.faa                          100%   29KB  29.4KB/s   00:00    \r\n"
       ]
      },
      {
       "output_type": "stream",
       "stream": "stdout",
       "text": [
        "\r",
        "1.013.O.proteins.faa                            0%    0     0.0KB/s   --:-- ETA"
       ]
      },
      {
       "output_type": "stream",
       "stream": "stdout",
       "text": [
        "\r",
        "1.013.O.proteins.faa                          100%   22KB  21.8KB/s   00:00    \r\n",
        "\r",
        "1.015.O.proteins.faa                            0%    0     0.0KB/s   --:-- ETA"
       ]
      },
      {
       "output_type": "stream",
       "stream": "stdout",
       "text": [
        "\r",
        "1.015.O.proteins.faa                          100%   21KB  21.3KB/s   00:00    \r\n",
        "\r",
        "1.016.O.proteins.faa                            0%    0     0.0KB/s   --:-- ETA"
       ]
      },
      {
       "output_type": "stream",
       "stream": "stdout",
       "text": [
        "\r",
        "1.016.O.proteins.faa                          100%   25KB  25.2KB/s   00:00    \r\n",
        "\r",
        "1.017.O.proteins.faa                            0%    0     0.0KB/s   --:-- ETA"
       ]
      },
      {
       "output_type": "stream",
       "stream": "stdout",
       "text": [
        "\r",
        "1.017.O.proteins.faa                          100%   24KB  24.4KB/s   00:00    \r\n"
       ]
      },
      {
       "output_type": "stream",
       "stream": "stdout",
       "text": [
        "\r",
        "1.020.O.proteins.faa                            0%    0     0.0KB/s   --:-- ETA\r",
        "1.020.O.proteins.faa                          100%  309     0.3KB/s   00:00    \r\n"
       ]
      },
      {
       "output_type": "stream",
       "stream": "stdout",
       "text": [
        "\r",
        "1.021.A.proteins.faa                            0%    0     0.0KB/s   --:-- ETA\r",
        "1.021.A.proteins.faa                          100%   20KB  19.9KB/s   00:00    \r\n"
       ]
      },
      {
       "output_type": "stream",
       "stream": "stdout",
       "text": [
        "\r",
        "1.021.B.proteins.faa                            0%    0     0.0KB/s   --:-- ETA\r",
        "1.021.B.proteins.faa                          100%   20KB  19.7KB/s   00:00    \r\n"
       ]
      },
      {
       "output_type": "stream",
       "stream": "stdout",
       "text": [
        "\r",
        "1.021.C.proteins.faa                            0%    0     0.0KB/s   --:-- ETA"
       ]
      },
      {
       "output_type": "stream",
       "stream": "stdout",
       "text": [
        "\r",
        "1.021.C.proteins.faa                          100%   20KB  20.0KB/s   00:00    \r\n",
        "\r",
        "1.022.O.proteins.faa                            0%    0     0.0KB/s   --:-- ETA"
       ]
      },
      {
       "output_type": "stream",
       "stream": "stdout",
       "text": [
        "\r",
        "1.022.O.proteins.faa                          100%   30KB  30.2KB/s   00:00    \r\n",
        "\r",
        "1.023.O.proteins.faa                            0%    0     0.0KB/s   --:-- ETA"
       ]
      },
      {
       "output_type": "stream",
       "stream": "stdout",
       "text": [
        "\r",
        "1.023.O.proteins.faa                          100%   29KB  28.8KB/s   00:00    \r\n"
       ]
      },
      {
       "output_type": "stream",
       "stream": "stdout",
       "text": [
        "\r",
        "1.024.O.proteins.faa                            0%    0     0.0KB/s   --:-- ETA\r",
        "1.024.O.proteins.faa                          100%   27KB  27.5KB/s   00:00    \r\n"
       ]
      },
      {
       "output_type": "stream",
       "stream": "stdout",
       "text": [
        "\r",
        "1.025.O.proteins.faa                            0%    0     0.0KB/s   --:-- ETA"
       ]
      },
      {
       "output_type": "stream",
       "stream": "stdout",
       "text": [
        "\r",
        "1.025.O.proteins.faa                          100%   36KB  36.5KB/s   00:00    \r\n",
        "\r",
        "1.026.O.proteins.faa                            0%    0     0.0KB/s   --:-- ETA"
       ]
      },
      {
       "output_type": "stream",
       "stream": "stdout",
       "text": [
        "\r",
        "1.026.O.proteins.faa                          100%   36KB  36.4KB/s   00:00    \r\n",
        "\r",
        "1.027.O.proteins.faa                            0%    0     0.0KB/s   --:-- ETA"
       ]
      },
      {
       "output_type": "stream",
       "stream": "stdout",
       "text": [
        "\r",
        "1.027.O.proteins.faa                          100%   28KB  27.8KB/s   00:01    \r\n"
       ]
      },
      {
       "output_type": "stream",
       "stream": "stdout",
       "text": [
        "\r",
        "1.028.O.proteins.faa                            0%    0     0.0KB/s   --:-- ETA\r",
        "1.028.O.proteins.faa                          100%   14KB  13.8KB/s   00:00    \r\n"
       ]
      },
      {
       "output_type": "stream",
       "stream": "stdout",
       "text": [
        "\r",
        "1.029.O.proteins.faa                            0%    0     0.0KB/s   --:-- ETA"
       ]
      },
      {
       "output_type": "stream",
       "stream": "stdout",
       "text": [
        "\r",
        "1.029.O.proteins.faa                          100%   24KB  23.7KB/s   00:00    \r\n",
        "\r",
        "1.030.O.proteins.faa                            0%    0     0.0KB/s   --:-- ETA"
       ]
      },
      {
       "output_type": "stream",
       "stream": "stdout",
       "text": [
        "\r",
        "1.030.O.proteins.faa                          100%   21KB  21.4KB/s   00:00    \r\n",
        "\r",
        "1.031.O.proteins.faa                            0%    0     0.0KB/s   --:-- ETA"
       ]
      },
      {
       "output_type": "stream",
       "stream": "stdout",
       "text": [
        "\r",
        "1.031.O.proteins.faa                          100%   70KB  70.5KB/s   00:00    \r\n",
        "\r",
        "1.032.O.proteins.faa                            0%    0     0.0KB/s   --:-- ETA"
       ]
      },
      {
       "output_type": "stream",
       "stream": "stdout",
       "text": [
        "\r",
        "1.032.O.proteins.faa                          100%   29KB  29.5KB/s   00:00    \r\n",
        "\r",
        "1.033.O.proteins.faa                            0%    0     0.0KB/s   --:-- ETA"
       ]
      },
      {
       "output_type": "stream",
       "stream": "stdout",
       "text": [
        "\r",
        "1.033.O.proteins.faa                          100%   29KB  28.9KB/s   00:00    \r\n",
        "\r",
        "1.034.O.proteins.faa                            0%    0     0.0KB/s   --:-- ETA"
       ]
      },
      {
       "output_type": "stream",
       "stream": "stdout",
       "text": [
        "\r",
        "1.034.O.proteins.faa                          100%   22KB  22.1KB/s   00:00    \r\n",
        "\r",
        "1.034.X.proteins.faa                            0%    0     0.0KB/s   --:-- ETA"
       ]
      },
      {
       "output_type": "stream",
       "stream": "stdout",
       "text": [
        "\r",
        "1.034.X.proteins.faa                          100%   22KB  22.2KB/s   00:00    \r\n",
        "\r",
        "1.036.O.proteins.faa                            0%    0     0.0KB/s   --:-- ETA"
       ]
      },
      {
       "output_type": "stream",
       "stream": "stdout",
       "text": [
        "\r",
        "1.036.O.proteins.faa                          100%   20KB  19.7KB/s   00:00    \r\n"
       ]
      },
      {
       "output_type": "stream",
       "stream": "stdout",
       "text": [
        "\r",
        "1.037.O.proteins.faa                            0%    0     0.0KB/s   --:-- ETA\r",
        "1.037.O.proteins.faa                          100%   19KB  19.4KB/s   00:00    \r\n"
       ]
      },
      {
       "output_type": "stream",
       "stream": "stdout",
       "text": [
        "\r",
        "1.038.O.proteins.faa                            0%    0     0.0KB/s   --:-- ETA"
       ]
      },
      {
       "output_type": "stream",
       "stream": "stdout",
       "text": [
        "\r",
        "1.038.O.proteins.faa                          100%   25KB  25.5KB/s   00:00    \r\n",
        "\r",
        "1.039.O.proteins.faa                            0%    0     0.0KB/s   --:-- ETA"
       ]
      },
      {
       "output_type": "stream",
       "stream": "stdout",
       "text": [
        "\r",
        "1.039.O.proteins.faa                          100%   20KB  20.4KB/s   00:00    \r\n",
        "\r",
        "1.040.O.proteins.faa                            0%    0     0.0KB/s   --:-- ETA"
       ]
      },
      {
       "output_type": "stream",
       "stream": "stdout",
       "text": [
        "\r",
        "1.040.O.proteins.faa                          100% 5328     5.2KB/s   00:00    \r\n",
        "\r",
        "1.042.O.proteins.faa                            0%    0     0.0KB/s   --:-- ETA"
       ]
      },
      {
       "output_type": "stream",
       "stream": "stdout",
       "text": [
        "\r",
        "1.042.O.proteins.faa                          100%   26KB  26.3KB/s   00:00    \r\n",
        "\r",
        "1.043.O.proteins.faa                            0%    0     0.0KB/s   --:-- ETA"
       ]
      },
      {
       "output_type": "stream",
       "stream": "stdout",
       "text": [
        "\r",
        "1.043.O.proteins.faa                          100% 4821     4.7KB/s   00:00    \r\n",
        "\r",
        "1.044.O.proteins.faa                            0%    0     0.0KB/s   --:-- ETA"
       ]
      },
      {
       "output_type": "stream",
       "stream": "stdout",
       "text": [
        "\r",
        "1.044.O.proteins.faa                          100% 5673     5.5KB/s   00:01    \r\n",
        "\r",
        "1.046.O.proteins.faa                            0%    0     0.0KB/s   --:-- ETA"
       ]
      },
      {
       "output_type": "stream",
       "stream": "stdout",
       "text": [
        "\r",
        "1.046.O.proteins.faa                          100%   30KB  29.6KB/s   00:00    \r\n"
       ]
      },
      {
       "output_type": "stream",
       "stream": "stdout",
       "text": [
        "\r",
        "1.047.O.proteins.faa                            0%    0     0.0KB/s   --:-- ETA\r",
        "1.047.O.proteins.faa                          100%   22KB  22.3KB/s   00:00    \r\n"
       ]
      },
      {
       "output_type": "stream",
       "stream": "stdout",
       "text": [
        "\r",
        "1.048.O.proteins.faa                            0%    0     0.0KB/s   --:-- ETA\r",
        "1.048.O.proteins.faa                          100% 5840     5.7KB/s   00:00    \r\n"
       ]
      },
      {
       "output_type": "stream",
       "stream": "stdout",
       "text": [
        "\r",
        "1.049.O.proteins.faa                            0%    0     0.0KB/s   --:-- ETA"
       ]
      },
      {
       "output_type": "stream",
       "stream": "stdout",
       "text": [
        "\r",
        "1.049.O.proteins.faa                          100%   22KB  21.5KB/s   00:00    \r\n",
        "\r",
        "1.050.O.proteins.faa                            0%    0     0.0KB/s   --:-- ETA"
       ]
      },
      {
       "output_type": "stream",
       "stream": "stdout",
       "text": [
        "\r",
        "1.050.O.proteins.faa                          100%   21KB  21.4KB/s   00:00    \r\n",
        "\r",
        "1.052.A.proteins.faa                            0%    0     0.0KB/s   --:-- ETA"
       ]
      },
      {
       "output_type": "stream",
       "stream": "stdout",
       "text": [
        "\r",
        "1.052.A.proteins.faa                          100%   22KB  22.5KB/s   00:00    \r\n"
       ]
      },
      {
       "output_type": "stream",
       "stream": "stdout",
       "text": [
        "\r",
        "1.054.O.proteins.faa                            0%    0     0.0KB/s   --:-- ETA\r",
        "1.054.O.proteins.faa                          100%   21KB  21.2KB/s   00:00    \r\n"
       ]
      },
      {
       "output_type": "stream",
       "stream": "stdout",
       "text": [
        "\r",
        "1.055.O.proteins.faa                            0%    0     0.0KB/s   --:-- ETA\r",
        "1.055.O.proteins.faa                          100%   23KB  22.6KB/s   00:00    \r\n"
       ]
      },
      {
       "output_type": "stream",
       "stream": "stdout",
       "text": [
        "\r",
        "1.056.O.proteins.faa                            0%    0     0.0KB/s   --:-- ETA"
       ]
      },
      {
       "output_type": "stream",
       "stream": "stdout",
       "text": [
        "\r",
        "1.056.O.proteins.faa                          100%   21KB  21.0KB/s   00:00    \r\n",
        "\r",
        "1.057.O.proteins.faa                            0%    0     0.0KB/s   --:-- ETA"
       ]
      },
      {
       "output_type": "stream",
       "stream": "stdout",
       "text": [
        "\r",
        "1.057.O.proteins.faa                          100% 5673     5.5KB/s   00:00    \r\n",
        "\r",
        "1.060.A.proteins.faa                            0%    0     0.0KB/s   --:-- ETA"
       ]
      },
      {
       "output_type": "stream",
       "stream": "stdout",
       "text": [
        "\r",
        "1.060.A.proteins.faa                          100%   20KB  19.9KB/s   00:00    \r\n"
       ]
      },
      {
       "output_type": "stream",
       "stream": "stdout",
       "text": [
        "\r",
        "1.061.O.proteins.faa                            0%    0     0.0KB/s   --:-- ETA"
       ]
      },
      {
       "output_type": "stream",
       "stream": "stdout",
       "text": [
        "\r",
        "1.061.O.proteins.faa                          100%   20KB  20.3KB/s   00:00    \r\n",
        "\r",
        "1.062.O.proteins.faa                            0%    0     0.0KB/s   --:-- ETA"
       ]
      },
      {
       "output_type": "stream",
       "stream": "stdout",
       "text": [
        "\r",
        "1.062.O.proteins.faa                          100% 5681     5.6KB/s   00:00    \r\n",
        "\r",
        "1.063.O.proteins.faa                            0%    0     0.0KB/s   --:-- ETA"
       ]
      },
      {
       "output_type": "stream",
       "stream": "stdout",
       "text": [
        "\r",
        "1.063.O.proteins.faa                          100%   66KB  65.5KB/s   00:00    \r\n"
       ]
      },
      {
       "output_type": "stream",
       "stream": "stdout",
       "text": [
        "\r",
        "1.064.O.proteins.faa                            0%    0     0.0KB/s   --:-- ETA"
       ]
      },
      {
       "output_type": "stream",
       "stream": "stdout",
       "text": [
        "\r",
        "1.064.O.proteins.faa                          100%   18KB  18.2KB/s   00:01    \r\n",
        "\r",
        "1.066.O.proteins.faa                            0%    0     0.0KB/s   --:-- ETA"
       ]
      },
      {
       "output_type": "stream",
       "stream": "stdout",
       "text": [
        "\r",
        "1.066.O.proteins.faa                          100%   21KB  21.0KB/s   00:00    \r\n",
        "\r",
        "1.067.O.proteins.faa                            0%    0     0.0KB/s   --:-- ETA"
       ]
      },
      {
       "output_type": "stream",
       "stream": "stdout",
       "text": [
        "\r",
        "1.067.O.proteins.faa                          100%   22KB  21.8KB/s   00:00    \r\n"
       ]
      },
      {
       "output_type": "stream",
       "stream": "stdout",
       "text": [
        "\r",
        "1.068.O.proteins.faa                            0%    0     0.0KB/s   --:-- ETA\r",
        "1.068.O.proteins.faa                          100%   21KB  21.0KB/s   00:00    \r\n"
       ]
      },
      {
       "output_type": "stream",
       "stream": "stdout",
       "text": [
        "\r",
        "1.069.O.proteins.faa                            0%    0     0.0KB/s   --:-- ETA\r",
        "1.069.O.proteins.faa                          100% 5290     5.2KB/s   00:00    \r\n"
       ]
      },
      {
       "output_type": "stream",
       "stream": "stdout",
       "text": [
        "\r",
        "1.070.O.proteins.faa                            0%    0     0.0KB/s   --:-- ETA\r",
        "1.070.O.proteins.faa                          100%   22KB  21.7KB/s   00:00    \r\n"
       ]
      },
      {
       "output_type": "stream",
       "stream": "stdout",
       "text": [
        "\r",
        "1.071.A.proteins.faa                            0%    0     0.0KB/s   --:-- ETA"
       ]
      },
      {
       "output_type": "stream",
       "stream": "stdout",
       "text": [
        "\r",
        "1.071.A.proteins.faa                          100%   25KB  25.0KB/s   00:00    \r\n",
        "\r",
        "1.072.O.proteins.faa                            0%    0     0.0KB/s   --:-- ETA"
       ]
      },
      {
       "output_type": "stream",
       "stream": "stdout",
       "text": [
        "\r",
        "1.072.O.proteins.faa                          100%   20KB  19.7KB/s   00:00    \r\n"
       ]
      },
      {
       "output_type": "stream",
       "stream": "stdout",
       "text": [
        "\r",
        "1.074.O.proteins.faa                            0%    0     0.0KB/s   --:-- ETA\r",
        "1.074.O.proteins.faa                          100%   18KB  18.2KB/s   00:00    \r\n"
       ]
      },
      {
       "output_type": "stream",
       "stream": "stdout",
       "text": [
        "\r",
        "1.075.O.proteins.faa                            0%    0     0.0KB/s   --:-- ETA"
       ]
      },
      {
       "output_type": "stream",
       "stream": "stdout",
       "text": [
        "\r",
        "1.075.O.proteins.faa                          100%   24KB  24.4KB/s   00:00    \r\n",
        "\r",
        "1.076.O.proteins.faa                            0%    0     0.0KB/s   --:-- ETA"
       ]
      },
      {
       "output_type": "stream",
       "stream": "stdout",
       "text": [
        "\r",
        "1.076.O.proteins.faa                          100%   23KB  23.4KB/s   00:00    \r\n",
        "\r",
        "1.077.O.proteins.faa                            0%    0     0.0KB/s   --:-- ETA"
       ]
      },
      {
       "output_type": "stream",
       "stream": "stdout",
       "text": [
        "\r",
        "1.077.O.proteins.faa                          100%   21KB  21.4KB/s   00:00    \r\n"
       ]
      },
      {
       "output_type": "stream",
       "stream": "stdout",
       "text": [
        "\r",
        "1.079.O.proteins.faa                            0%    0     0.0KB/s   --:-- ETA\r",
        "1.079.O.proteins.faa                          100%   21KB  21.5KB/s   00:00    \r\n"
       ]
      },
      {
       "output_type": "stream",
       "stream": "stdout",
       "text": [
        "\r",
        "1.080.O.proteins.faa                            0%    0     0.0KB/s   --:-- ETA\r",
        "1.080.O.proteins.faa                          100% 5286     5.2KB/s   00:00    \r\n"
       ]
      },
      {
       "output_type": "stream",
       "stream": "stdout",
       "text": [
        "\r",
        "1.081.O.proteins.faa                            0%    0     0.0KB/s   --:-- ETA"
       ]
      },
      {
       "output_type": "stream",
       "stream": "stdout",
       "text": [
        "\r",
        "1.081.O.proteins.faa                          100%  115KB 115.0KB/s   00:00    \r\n",
        "\r",
        "1.082.O.proteins.faa                            0%    0     0.0KB/s   --:-- ETA"
       ]
      },
      {
       "output_type": "stream",
       "stream": "stdout",
       "text": [
        "\r",
        "1.082.O.proteins.faa                          100%   17KB  17.4KB/s   00:01    \r\n"
       ]
      },
      {
       "output_type": "stream",
       "stream": "stdout",
       "text": [
        "\r",
        "1.083.O.proteins.faa                            0%    0     0.0KB/s   --:-- ETA\r",
        "1.083.O.proteins.faa                          100%   21KB  20.9KB/s   00:00    \r\n"
       ]
      },
      {
       "output_type": "stream",
       "stream": "stdout",
       "text": [
        "\r",
        "1.084.O.proteins.faa                            0%    0     0.0KB/s   --:-- ETA"
       ]
      },
      {
       "output_type": "stream",
       "stream": "stdout",
       "text": [
        "\r",
        "1.084.O.proteins.faa                          100%   71KB  71.3KB/s   00:00    \r\n",
        "\r",
        "1.085.O.proteins.faa                            0%    0     0.0KB/s   --:-- ETA"
       ]
      },
      {
       "output_type": "stream",
       "stream": "stdout",
       "text": [
        "\r",
        "1.085.O.proteins.faa                          100%   19KB  18.8KB/s   00:00    \r\n"
       ]
      },
      {
       "output_type": "stream",
       "stream": "stdout",
       "text": [
        "\r",
        "1.086.O.proteins.faa                            0%    0     0.0KB/s   --:-- ETA\r",
        "1.086.O.proteins.faa                          100%   23KB  23.4KB/s   00:00    \r\n"
       ]
      },
      {
       "output_type": "stream",
       "stream": "stdout",
       "text": [
        "\r",
        "1.087.A.proteins.faa                            0%    0     0.0KB/s   --:-- ETA"
       ]
      },
      {
       "output_type": "stream",
       "stream": "stdout",
       "text": [
        "\r",
        "1.087.A.proteins.faa                          100%   22KB  21.8KB/s   00:00    \r\n",
        "\r",
        "1.088.O.proteins.faa                            0%    0     0.0KB/s   --:-- ETA"
       ]
      },
      {
       "output_type": "stream",
       "stream": "stdout",
       "text": [
        "\r",
        "1.088.O.proteins.faa                          100%   29KB  29.1KB/s   00:00    \r\n",
        "\r",
        "1.089.O.proteins.faa                            0%    0     0.0KB/s   --:-- ETA"
       ]
      },
      {
       "output_type": "stream",
       "stream": "stdout",
       "text": [
        "\r",
        "1.089.O.proteins.faa                          100%   29KB  29.4KB/s   00:00    \r\n",
        "\r",
        "1.090.B.proteins.faa                            0%    0     0.0KB/s   --:-- ETA"
       ]
      },
      {
       "output_type": "stream",
       "stream": "stdout",
       "text": [
        "\r",
        "1.090.B.proteins.faa                          100%   21KB  20.7KB/s   00:00    \r\n",
        "\r",
        "1.091.O.proteins.faa                            0%    0     0.0KB/s   --:-- ETA"
       ]
      },
      {
       "output_type": "stream",
       "stream": "stdout",
       "text": [
        "\r",
        "1.091.O.proteins.faa                          100%   22KB  21.9KB/s   00:00    \r\n"
       ]
      },
      {
       "output_type": "stream",
       "stream": "stdout",
       "text": [
        "\r",
        "1.093.O.proteins.faa                            0%    0     0.0KB/s   --:-- ETA\r",
        "1.093.O.proteins.faa                          100%   25KB  24.5KB/s   00:00    \r\n"
       ]
      },
      {
       "output_type": "stream",
       "stream": "stdout",
       "text": [
        "\r",
        "1.094.O.proteins.faa                            0%    0     0.0KB/s   --:-- ETA"
       ]
      },
      {
       "output_type": "stream",
       "stream": "stdout",
       "text": [
        "\r",
        "1.094.O.proteins.faa                          100%   25KB  24.5KB/s   00:00    \r\n",
        "\r",
        "1.095.O.proteins.faa                            0%    0     0.0KB/s   --:-- ETA\r",
        "1.095.O.proteins.faa                          100% 5125     5.0KB/s   00:00    \r\n"
       ]
      },
      {
       "output_type": "stream",
       "stream": "stdout",
       "text": [
        "\r",
        "1.097.O.proteins.faa                            0%    0     0.0KB/s   --:-- ETA"
       ]
      },
      {
       "output_type": "stream",
       "stream": "stdout",
       "text": [
        "\r",
        "1.097.O.proteins.faa                          100%   36KB  35.6KB/s   00:00    \r\n",
        "\r",
        "1.098.O.proteins.faa                            0%    0     0.0KB/s   --:-- ETA"
       ]
      },
      {
       "output_type": "stream",
       "stream": "stdout",
       "text": [
        "\r",
        "1.098.O.proteins.faa                          100%   30KB  29.5KB/s   00:00    \r\n",
        "\r",
        "1.100.O.proteins.faa                            0%    0     0.0KB/s   --:-- ETA"
       ]
      },
      {
       "output_type": "stream",
       "stream": "stdout",
       "text": [
        "\r",
        "1.100.O.proteins.faa                          100%   24KB  23.9KB/s   00:00    \r\n"
       ]
      },
      {
       "output_type": "stream",
       "stream": "stdout",
       "text": [
        "\r",
        "1.101.O.proteins.faa                            0%    0     0.0KB/s   --:-- ETA"
       ]
      },
      {
       "output_type": "stream",
       "stream": "stdout",
       "text": [
        "\r",
        "1.101.O.proteins.faa                          100%   66KB  65.6KB/s   00:01    \r\n"
       ]
      },
      {
       "output_type": "stream",
       "stream": "stdout",
       "text": [
        "\r",
        "1.102.O.proteins.faa                            0%    0     0.0KB/s   --:-- ETA\r",
        "1.102.O.proteins.faa                          100% 4996     4.9KB/s   00:00    \r\n"
       ]
      },
      {
       "output_type": "stream",
       "stream": "stdout",
       "text": [
        "\r",
        "1.103.O.proteins.faa                            0%    0     0.0KB/s   --:-- ETA\r",
        "1.103.O.proteins.faa                          100%   29KB  29.0KB/s   00:00    \r\n"
       ]
      },
      {
       "output_type": "stream",
       "stream": "stdout",
       "text": [
        "\r",
        "1.104.O.proteins.faa                            0%    0     0.0KB/s   --:-- ETA"
       ]
      },
      {
       "output_type": "stream",
       "stream": "stdout",
       "text": [
        "\r",
        "1.104.O.proteins.faa                          100%   29KB  29.1KB/s   00:00    \r\n",
        "\r",
        "1.105.O.proteins.faa                            0%    0     0.0KB/s   --:-- ETA"
       ]
      },
      {
       "output_type": "stream",
       "stream": "stdout",
       "text": [
        "\r",
        "1.105.O.proteins.faa                          100%   24KB  24.4KB/s   00:00    \r\n",
        "\r",
        "1.106.O.proteins.faa                            0%    0     0.0KB/s   --:-- ETA"
       ]
      },
      {
       "output_type": "stream",
       "stream": "stdout",
       "text": [
        "\r",
        "1.106.O.proteins.faa                          100%   23KB  23.0KB/s   00:00    \r\n",
        "\r",
        "1.107.A.proteins.faa                            0%    0     0.0KB/s   --:-- ETA"
       ]
      },
      {
       "output_type": "stream",
       "stream": "stdout",
       "text": [
        "\r",
        "1.107.A.proteins.faa                          100% 5848     5.7KB/s   00:00    \r\n",
        "\r",
        "1.107.B.proteins.faa                            0%    0     0.0KB/s   --:-- ETA"
       ]
      },
      {
       "output_type": "stream",
       "stream": "stdout",
       "text": [
        "\r",
        "1.107.B.proteins.faa                          100% 5840     5.7KB/s   00:00    \r\n",
        "\r",
        "1.107.C.proteins.faa                            0%    0     0.0KB/s   --:-- ETA"
       ]
      },
      {
       "output_type": "stream",
       "stream": "stdout",
       "text": [
        "\r",
        "1.107.C.proteins.faa                          100% 5840     5.7KB/s   00:00    \r\n",
        "\r",
        "1.108.O.proteins.faa                            0%    0     0.0KB/s   --:-- ETA"
       ]
      },
      {
       "output_type": "stream",
       "stream": "stdout",
       "text": [
        "\r",
        "1.108.O.proteins.faa                          100%   18KB  18.2KB/s   00:00    \r\n",
        "\r",
        "1.110.O.proteins.faa                            0%    0     0.0KB/s   --:-- ETA"
       ]
      },
      {
       "output_type": "stream",
       "stream": "stdout",
       "text": [
        "\r",
        "1.110.O.proteins.faa                          100%   19KB  19.3KB/s   00:00    \r\n",
        "\r",
        "1.111.A.proteins.faa                            0%    0     0.0KB/s   --:-- ETA"
       ]
      },
      {
       "output_type": "stream",
       "stream": "stdout",
       "text": [
        "\r",
        "1.111.A.proteins.faa                          100%   19KB  19.3KB/s   00:00    \r\n"
       ]
      },
      {
       "output_type": "stream",
       "stream": "stdout",
       "text": [
        "\r",
        "1.111.B.proteins.faa                            0%    0     0.0KB/s   --:-- ETA"
       ]
      },
      {
       "output_type": "stream",
       "stream": "stdout",
       "text": [
        "\r",
        "1.111.B.proteins.faa                          100%   19KB  19.4KB/s   00:00    \r\n",
        "\r",
        "1.112.O.proteins.faa                            0%    0     0.0KB/s   --:-- ETA"
       ]
      },
      {
       "output_type": "stream",
       "stream": "stdout",
       "text": [
        "\r",
        "1.112.O.proteins.faa                          100%   24KB  24.3KB/s   00:00    \r\n",
        "\r",
        "1.113.A.proteins.faa                            0%    0     0.0KB/s   --:-- ETA"
       ]
      },
      {
       "output_type": "stream",
       "stream": "stdout",
       "text": [
        "\r",
        "1.113.A.proteins.faa                          100%   22KB  22.1KB/s   00:00    \r\n",
        "\r",
        "1.115.A.proteins.faa                            0%    0     0.0KB/s   --:-- ETA"
       ]
      },
      {
       "output_type": "stream",
       "stream": "stdout",
       "text": [
        "\r",
        "1.115.A.proteins.faa                          100%   20KB  20.0KB/s   00:00    \r\n",
        "\r",
        "1.115.B.proteins.faa                            0%    0     0.0KB/s   --:-- ETA"
       ]
      },
      {
       "output_type": "stream",
       "stream": "stdout",
       "text": [
        "\r",
        "1.115.B.proteins.faa                          100%   20KB  19.9KB/s   00:00    \r\n",
        "\r",
        "1.116.O.proteins.faa                            0%    0     0.0KB/s   --:-- ETA"
       ]
      },
      {
       "output_type": "stream",
       "stream": "stdout",
       "text": [
        "\r",
        "1.116.O.proteins.faa                          100%   18KB  18.0KB/s   00:00    \r\n"
       ]
      },
      {
       "output_type": "stream",
       "stream": "stdout",
       "text": [
        "\r",
        "1.117.O.proteins.faa                            0%    0     0.0KB/s   --:-- ETA\r",
        "1.117.O.proteins.faa                          100%   27KB  26.8KB/s   00:00    \r\n"
       ]
      },
      {
       "output_type": "stream",
       "stream": "stdout",
       "text": [
        "\r",
        "1.118.A.proteins.faa                            0%    0     0.0KB/s   --:-- ETA"
       ]
      },
      {
       "output_type": "stream",
       "stream": "stdout",
       "text": [
        "\r",
        "1.118.A.proteins.faa                          100%   29KB  29.3KB/s   00:00    \r\n",
        "\r",
        "1.118.B.proteins.faa                            0%    0     0.0KB/s   --:-- ETA"
       ]
      },
      {
       "output_type": "stream",
       "stream": "stdout",
       "text": [
        "\r",
        "1.118.B.proteins.faa                          100%   29KB  29.4KB/s   00:00    \r\n",
        "\r",
        "1.119.O.proteins.faa                            0%    0     0.0KB/s   --:-- ETA"
       ]
      },
      {
       "output_type": "stream",
       "stream": "stdout",
       "text": [
        "\r",
        "1.119.O.proteins.faa                          100%   22KB  22.4KB/s   00:00    \r\n"
       ]
      },
      {
       "output_type": "stream",
       "stream": "stdout",
       "text": [
        "\r",
        "1.121.O.proteins.faa                            0%    0     0.0KB/s   --:-- ETA"
       ]
      },
      {
       "output_type": "stream",
       "stream": "stdout",
       "text": [
        "\r",
        "1.121.O.proteins.faa                          100%   74KB  74.0KB/s   00:00    \r\n"
       ]
      },
      {
       "output_type": "stream",
       "stream": "stdout",
       "text": [
        "\r",
        "1.122.A.proteins.faa                            0%    0     0.0KB/s   --:-- ETA\r",
        "1.122.A.proteins.faa                          100%   22KB  21.8KB/s   00:00    \r\n"
       ]
      },
      {
       "output_type": "stream",
       "stream": "stdout",
       "text": [
        "\r",
        "1.122.B.proteins.faa                            0%    0     0.0KB/s   --:-- ETA"
       ]
      },
      {
       "output_type": "stream",
       "stream": "stdout",
       "text": [
        "\r",
        "1.122.B.proteins.faa                          100%   22KB  21.9KB/s   00:00    \r\n",
        "\r",
        "1.123.O.proteins.faa                            0%    0     0.0KB/s   --:-- ETA"
       ]
      },
      {
       "output_type": "stream",
       "stream": "stdout",
       "text": [
        "\r",
        "1.123.O.proteins.faa                          100%   23KB  22.7KB/s   00:00    \r\n",
        "\r",
        "1.124.O.proteins.faa                            0%    0     0.0KB/s   --:-- ETA"
       ]
      },
      {
       "output_type": "stream",
       "stream": "stdout",
       "text": [
        "\r",
        "1.124.O.proteins.faa                          100%   23KB  23.0KB/s   00:00    \r\n",
        "\r",
        "1.125.O.proteins.faa                            0%    0     0.0KB/s   --:-- ETA"
       ]
      },
      {
       "output_type": "stream",
       "stream": "stdout",
       "text": [
        "\r",
        "1.125.O.proteins.faa                          100% 5670     5.5KB/s   00:00    \r\n",
        "\r",
        "1.126.O.proteins.faa                            0%    0     0.0KB/s   --:-- ETA"
       ]
      },
      {
       "output_type": "stream",
       "stream": "stdout",
       "text": [
        "\r",
        "1.126.O.proteins.faa                          100%  934     0.9KB/s   00:00    \r\n",
        "\r",
        "1.127.O.proteins.faa                            0%    0     0.0KB/s   --:-- ETA"
       ]
      },
      {
       "output_type": "stream",
       "stream": "stdout",
       "text": [
        "\r",
        "1.127.O.proteins.faa                          100%   23KB  22.6KB/s   00:00    \r\n"
       ]
      },
      {
       "output_type": "stream",
       "stream": "stdout",
       "text": [
        "\r",
        "1.131.O.proteins.faa                            0%    0     0.0KB/s   --:-- ETA\r",
        "1.131.O.proteins.faa                          100%   20KB  19.7KB/s   00:00    \r\n"
       ]
      },
      {
       "output_type": "stream",
       "stream": "stdout",
       "text": [
        "\r",
        "1.132.O.proteins.faa                            0%    0     0.0KB/s   --:-- ETA\r",
        "1.132.O.proteins.faa                          100%   19KB  18.9KB/s   00:00    \r\n"
       ]
      },
      {
       "output_type": "stream",
       "stream": "stdout",
       "text": [
        "\r",
        "1.133.O.proteins.faa                            0%    0     0.0KB/s   --:-- ETA"
       ]
      },
      {
       "output_type": "stream",
       "stream": "stdout",
       "text": [
        "\r",
        "1.133.O.proteins.faa                          100%   19KB  19.2KB/s   00:01    \r\n",
        "\r",
        "1.134.O.proteins.faa                            0%    0     0.0KB/s   --:-- ETA"
       ]
      },
      {
       "output_type": "stream",
       "stream": "stdout",
       "text": [
        "\r",
        "1.134.O.proteins.faa                          100%   18KB  17.9KB/s   00:00    \r\n",
        "\r",
        "1.135.O.proteins.faa                            0%    0     0.0KB/s   --:-- ETA"
       ]
      },
      {
       "output_type": "stream",
       "stream": "stdout",
       "text": [
        "\r",
        "1.135.O.proteins.faa                          100%   22KB  21.5KB/s   00:00    \r\n",
        "\r",
        "1.136.O.proteins.faa                            0%    0     0.0KB/s   --:-- ETA"
       ]
      },
      {
       "output_type": "stream",
       "stream": "stdout",
       "text": [
        "\r",
        "1.136.O.proteins.faa                          100%   16KB  15.8KB/s   00:00    \r\n"
       ]
      },
      {
       "output_type": "stream",
       "stream": "stdout",
       "text": [
        "\r",
        "1.137.O.proteins.faa                            0%    0     0.0KB/s   --:-- ETA\r",
        "1.137.O.proteins.faa                          100%   20KB  19.5KB/s   00:00    \r\n"
       ]
      },
      {
       "output_type": "stream",
       "stream": "stdout",
       "text": [
        "\r",
        "1.138.O.proteins.faa                            0%    0     0.0KB/s   --:-- ETA\r",
        "1.138.O.proteins.faa                          100%   16KB  15.7KB/s   00:00    \r\n"
       ]
      },
      {
       "output_type": "stream",
       "stream": "stdout",
       "text": [
        "\r",
        "1.139.A.proteins.faa                            0%    0     0.0KB/s   --:-- ETA"
       ]
      },
      {
       "output_type": "stream",
       "stream": "stdout",
       "text": [
        "\r",
        "1.139.A.proteins.faa                          100%   22KB  21.9KB/s   00:00    \r\n",
        "\r",
        "1.139.B.proteins.faa                            0%    0     0.0KB/s   --:-- ETA"
       ]
      },
      {
       "output_type": "stream",
       "stream": "stdout",
       "text": [
        "\r",
        "1.139.B.proteins.faa                          100%   22KB  21.9KB/s   00:00    \r\n",
        "\r",
        "1.141.A.proteins.faa                            0%    0     0.0KB/s   --:-- ETA"
       ]
      },
      {
       "output_type": "stream",
       "stream": "stdout",
       "text": [
        "\r",
        "1.141.A.proteins.faa                          100% 5279     5.2KB/s   00:00    \r\n",
        "\r",
        "1.142.O.proteins.faa                            0%    0     0.0KB/s   --:-- ETA"
       ]
      },
      {
       "output_type": "stream",
       "stream": "stdout",
       "text": [
        "\r",
        "1.142.O.proteins.faa                          100%   16KB  15.8KB/s   00:00    \r\n",
        "\r",
        "1.143.O.proteins.faa                            0%    0     0.0KB/s   --:-- ETA"
       ]
      },
      {
       "output_type": "stream",
       "stream": "stdout",
       "text": [
        "\r",
        "1.143.O.proteins.faa                          100%   22KB  22.4KB/s   00:00    \r\n"
       ]
      },
      {
       "output_type": "stream",
       "stream": "stdout",
       "text": [
        "\r",
        "1.144.O.proteins.faa                            0%    0     0.0KB/s   --:-- ETA"
       ]
      },
      {
       "output_type": "stream",
       "stream": "stdout",
       "text": [
        "\r",
        "1.144.O.proteins.faa                          100%   23KB  22.7KB/s   00:00    \r\n",
        "\r",
        "1.147.O.proteins.faa                            0%    0     0.0KB/s   --:-- ETA"
       ]
      },
      {
       "output_type": "stream",
       "stream": "stdout",
       "text": [
        "\r",
        "1.147.O.proteins.faa                          100%   19KB  19.1KB/s   00:00    \r\n",
        "\r",
        "1.148.O.proteins.faa                            0%    0     0.0KB/s   --:-- ETA"
       ]
      },
      {
       "output_type": "stream",
       "stream": "stdout",
       "text": [
        "\r",
        "1.148.O.proteins.faa                          100%   19KB  18.5KB/s   00:00    \r\n",
        "\r",
        "1.149.O.proteins.faa                            0%    0     0.0KB/s   --:-- ETA"
       ]
      },
      {
       "output_type": "stream",
       "stream": "stdout",
       "text": [
        "\r",
        "1.149.O.proteins.faa                          100%   24KB  24.0KB/s   00:00    \r\n"
       ]
      },
      {
       "output_type": "stream",
       "stream": "stdout",
       "text": [
        "\r",
        "1.150.O.proteins.faa                            0%    0     0.0KB/s   --:-- ETA\r",
        "1.150.O.proteins.faa                          100%   36KB  36.4KB/s   00:00    \r\n"
       ]
      },
      {
       "output_type": "stream",
       "stream": "stdout",
       "text": [
        "\r",
        "1.151.O.proteins.faa                            0%    0     0.0KB/s   --:-- ETA"
       ]
      },
      {
       "output_type": "stream",
       "stream": "stdout",
       "text": [
        "\r",
        "1.151.O.proteins.faa                          100%   21KB  21.0KB/s   00:01    \r\n",
        "\r",
        "1.152.O.proteins.faa                            0%    0     0.0KB/s   --:-- ETA"
       ]
      },
      {
       "output_type": "stream",
       "stream": "stdout",
       "text": [
        "\r",
        "1.152.O.proteins.faa                          100%   37KB  36.5KB/s   00:00    \r\n"
       ]
      },
      {
       "output_type": "stream",
       "stream": "stdout",
       "text": [
        "\r",
        "1.154.O.proteins.faa                            0%    0     0.0KB/s   --:-- ETA\r",
        "1.154.O.proteins.faa                          100%   19KB  18.8KB/s   00:00    \r\n"
       ]
      },
      {
       "output_type": "stream",
       "stream": "stdout",
       "text": [
        "\r",
        "1.155.O.proteins.faa                            0%    0     0.0KB/s   --:-- ETA\r",
        "1.155.O.proteins.faa                          100%   14KB  14.4KB/s   00:00    \r\n"
       ]
      },
      {
       "output_type": "stream",
       "stream": "stdout",
       "text": [
        "\r",
        "1.156.O.proteins.faa                            0%    0     0.0KB/s   --:-- ETA\r",
        "1.156.O.proteins.faa                          100%   16KB  15.8KB/s   00:00    \r\n"
       ]
      },
      {
       "output_type": "stream",
       "stream": "stdout",
       "text": [
        "\r",
        "1.157.O.proteins.faa                            0%    0     0.0KB/s   --:-- ETA"
       ]
      },
      {
       "output_type": "stream",
       "stream": "stdout",
       "text": [
        "\r",
        "1.157.O.proteins.faa                          100%   18KB  17.8KB/s   00:00    \r\n",
        "\r",
        "1.158.O.proteins.faa                            0%    0     0.0KB/s   --:-- ETA"
       ]
      },
      {
       "output_type": "stream",
       "stream": "stdout",
       "text": [
        "\r",
        "1.158.O.proteins.faa                          100%   24KB  24.2KB/s   00:00    \r\n",
        "\r",
        "1.159.O.proteins.faa                            0%    0     0.0KB/s   --:-- ETA"
       ]
      },
      {
       "output_type": "stream",
       "stream": "stdout",
       "text": [
        "\r",
        "1.159.O.proteins.faa                          100%   16KB  15.8KB/s   00:00    \r\n"
       ]
      },
      {
       "output_type": "stream",
       "stream": "stdout",
       "text": [
        "\r",
        "1.160.O.proteins.faa                            0%    0     0.0KB/s   --:-- ETA\r",
        "1.160.O.proteins.faa                          100%   29KB  29.4KB/s   00:00    \r\n"
       ]
      },
      {
       "output_type": "stream",
       "stream": "stdout",
       "text": [
        "\r",
        "1.161.O.proteins.faa                            0%    0     0.0KB/s   --:-- ETA"
       ]
      },
      {
       "output_type": "stream",
       "stream": "stdout",
       "text": [
        "\r",
        "1.161.O.proteins.faa                          100%   68KB  67.9KB/s   00:00    \r\n"
       ]
      },
      {
       "output_type": "stream",
       "stream": "stdout",
       "text": [
        "\r",
        "1.162.O.proteins.faa                            0%    0     0.0KB/s   --:-- ETA\r",
        "1.162.O.proteins.faa                          100%   19KB  19.3KB/s   00:00    \r\n"
       ]
      },
      {
       "output_type": "stream",
       "stream": "stdout",
       "text": [
        "\r",
        "1.164.O.proteins.faa                            0%    0     0.0KB/s   --:-- ETA\r",
        "1.164.O.proteins.faa                          100%   23KB  22.6KB/s   00:00    \r\n"
       ]
      },
      {
       "output_type": "stream",
       "stream": "stdout",
       "text": [
        "\r",
        "1.165.O.proteins.faa                            0%    0     0.0KB/s   --:-- ETA"
       ]
      },
      {
       "output_type": "stream",
       "stream": "stdout",
       "text": [
        "\r",
        "1.165.O.proteins.faa                          100%   18KB  18.2KB/s   00:00    \r\n",
        "\r",
        "1.166.O.proteins.faa                            0%    0     0.0KB/s   --:-- ETA"
       ]
      },
      {
       "output_type": "stream",
       "stream": "stdout",
       "text": [
        "\r",
        "1.166.O.proteins.faa                          100%   11KB  11.1KB/s   00:00    \r\n",
        "\r",
        "1.167.O.proteins.faa                            0%    0     0.0KB/s   --:-- ETA"
       ]
      },
      {
       "output_type": "stream",
       "stream": "stdout",
       "text": [
        "\r",
        "1.167.O.proteins.faa                          100%   19KB  19.1KB/s   00:00    \r\n",
        "\r",
        "1.168.O.proteins.faa                            0%    0     0.0KB/s   --:-- ETA"
       ]
      },
      {
       "output_type": "stream",
       "stream": "stdout",
       "text": [
        "\r",
        "1.168.O.proteins.faa                          100%   19KB  19.3KB/s   00:01    \r\n"
       ]
      },
      {
       "output_type": "stream",
       "stream": "stdout",
       "text": [
        "\r",
        "1.169.O.proteins.faa                            0%    0     0.0KB/s   --:-- ETA\r",
        "1.169.O.proteins.faa                          100%   32KB  32.4KB/s   00:00    \r\n"
       ]
      },
      {
       "output_type": "stream",
       "stream": "stdout",
       "text": [
        "\r",
        "1.170.O.proteins.faa                            0%    0     0.0KB/s   --:-- ETA"
       ]
      },
      {
       "output_type": "stream",
       "stream": "stdout",
       "text": [
        "\r",
        "1.170.O.proteins.faa                          100%   65KB  64.9KB/s   00:00    \r\n",
        "\r",
        "1.171.O.proteins.faa                            0%    0     0.0KB/s   --:-- ETA"
       ]
      },
      {
       "output_type": "stream",
       "stream": "stdout",
       "text": [
        "\r",
        "1.171.O.proteins.faa                          100%   28KB  28.4KB/s   00:00    \r\n"
       ]
      },
      {
       "output_type": "stream",
       "stream": "stdout",
       "text": [
        "\r",
        "1.172.O.proteins.faa                            0%    0     0.0KB/s   --:-- ETA\r",
        "1.172.O.proteins.faa                          100%   18KB  18.1KB/s   00:00    \r\n"
       ]
      },
      {
       "output_type": "stream",
       "stream": "stdout",
       "text": [
        "\r",
        "1.173.O.proteins.faa                            0%    0     0.0KB/s   --:-- ETA\r",
        "1.173.O.proteins.faa                          100%   25KB  24.6KB/s   00:00    \r\n"
       ]
      },
      {
       "output_type": "stream",
       "stream": "stdout",
       "text": [
        "\r",
        "1.174.O.proteins.faa                            0%    0     0.0KB/s   --:-- ETA"
       ]
      },
      {
       "output_type": "stream",
       "stream": "stdout",
       "text": [
        "\r",
        "1.174.O.proteins.faa                          100%   22KB  22.3KB/s   00:00    \r\n",
        "\r",
        "1.175.O.proteins.faa                            0%    0     0.0KB/s   --:-- ETA"
       ]
      },
      {
       "output_type": "stream",
       "stream": "stdout",
       "text": [
        "\r",
        "1.175.O.proteins.faa                          100%   23KB  23.1KB/s   00:00    \r\n",
        "\r",
        "1.176.O.proteins.faa                            0%    0     0.0KB/s   --:-- ETA"
       ]
      },
      {
       "output_type": "stream",
       "stream": "stdout",
       "text": [
        "\r",
        "1.176.O.proteins.faa                          100%   18KB  18.3KB/s   00:00    \r\n"
       ]
      },
      {
       "output_type": "stream",
       "stream": "stdout",
       "text": [
        "\r",
        "1.177.O.proteins.faa                            0%    0     0.0KB/s   --:-- ETA"
       ]
      },
      {
       "output_type": "stream",
       "stream": "stdout",
       "text": [
        "\r",
        "1.177.O.proteins.faa                          100%   23KB  22.9KB/s   00:00    \r\n",
        "\r",
        "1.178.O.proteins.faa                            0%    0     0.0KB/s   --:-- ETA"
       ]
      },
      {
       "output_type": "stream",
       "stream": "stdout",
       "text": [
        "\r",
        "1.178.O.proteins.faa                          100%   21KB  21.0KB/s   00:00    \r\n",
        "\r",
        "1.179.O.proteins.faa                            0%    0     0.0KB/s   --:-- ETA"
       ]
      },
      {
       "output_type": "stream",
       "stream": "stdout",
       "text": [
        "\r",
        "1.179.O.proteins.faa                          100%   16KB  15.6KB/s   00:00    \r\n"
       ]
      },
      {
       "output_type": "stream",
       "stream": "stdout",
       "text": [
        "\r",
        "1.181.O.proteins.faa                            0%    0     0.0KB/s   --:-- ETA"
       ]
      },
      {
       "output_type": "stream",
       "stream": "stdout",
       "text": [
        "\r",
        "1.181.O.proteins.faa                          100%   25KB  24.6KB/s   00:00    \r\n",
        "\r",
        "1.182.O.proteins.faa                            0%    0     0.0KB/s   --:-- ETA"
       ]
      },
      {
       "output_type": "stream",
       "stream": "stdout",
       "text": [
        "\r",
        "1.182.O.proteins.faa                          100%   18KB  17.9KB/s   00:00    \r\n",
        "\r",
        "1.183.O.proteins.faa                            0%    0     0.0KB/s   --:-- ETA"
       ]
      },
      {
       "output_type": "stream",
       "stream": "stdout",
       "text": [
        "\r",
        "1.183.O.proteins.faa                          100%   17KB  16.8KB/s   00:00    \r\n"
       ]
      },
      {
       "output_type": "stream",
       "stream": "stdout",
       "text": [
        "\r",
        "1.184.A.proteins.faa                            0%    0     0.0KB/s   --:-- ETA"
       ]
      },
      {
       "output_type": "stream",
       "stream": "stdout",
       "text": [
        "\r",
        "1.184.A.proteins.faa                          100%   16KB  16.1KB/s   00:00    \r\n",
        "\r",
        "1.185.O.proteins.faa                            0%    0     0.0KB/s   --:-- ETA"
       ]
      },
      {
       "output_type": "stream",
       "stream": "stdout",
       "text": [
        "\r",
        "1.185.O.proteins.faa                          100%   20KB  19.5KB/s   00:00    \r\n"
       ]
      },
      {
       "output_type": "stream",
       "stream": "stdout",
       "text": [
        "\r",
        "1.186.O.proteins.faa                            0%    0     0.0KB/s   --:-- ETA"
       ]
      },
      {
       "output_type": "stream",
       "stream": "stdout",
       "text": [
        "\r",
        "1.186.O.proteins.faa                          100%   24KB  23.8KB/s   00:00    \r\n",
        "\r",
        "1.187.O.proteins.faa                            0%    0     0.0KB/s   --:-- ETA"
       ]
      },
      {
       "output_type": "stream",
       "stream": "stdout",
       "text": [
        "\r",
        "1.187.O.proteins.faa                          100%   69KB  69.1KB/s   00:00    \r\n"
       ]
      },
      {
       "output_type": "stream",
       "stream": "stdout",
       "text": [
        "\r",
        "1.188.A.proteins.faa                            0%    0     0.0KB/s   --:-- ETA\r",
        "1.188.A.proteins.faa                          100%   33KB  32.6KB/s   00:00    \r\n"
       ]
      },
      {
       "output_type": "stream",
       "stream": "stdout",
       "text": [
        "\r",
        "1.188.B.proteins.faa                            0%    0     0.0KB/s   --:-- ETA\r",
        "1.188.B.proteins.faa                          100%   32KB  32.4KB/s   00:00    \r\n"
       ]
      },
      {
       "output_type": "stream",
       "stream": "stdout",
       "text": [
        "\r",
        "1.188.C.proteins.faa                            0%    0     0.0KB/s   --:-- ETA\r",
        "1.188.C.proteins.faa                          100%   33KB  32.5KB/s   00:00    \r\n"
       ]
      },
      {
       "output_type": "stream",
       "stream": "stdout",
       "text": [
        "\r",
        "1.189.B.proteins.faa                            0%    0     0.0KB/s   --:-- ETA"
       ]
      },
      {
       "output_type": "stream",
       "stream": "stdout",
       "text": [
        "\r",
        "1.189.B.proteins.faa                          100%   19KB  18.8KB/s   00:00    \r\n",
        "\r",
        "1.189.C.proteins.faa                            0%    0     0.0KB/s   --:-- ETA"
       ]
      },
      {
       "output_type": "stream",
       "stream": "stdout",
       "text": [
        "\r",
        "1.189.C.proteins.faa                          100%   19KB  18.9KB/s   00:00    \r\n",
        "\r",
        "1.189.O.proteins.faa                            0%    0     0.0KB/s   --:-- ETA"
       ]
      },
      {
       "output_type": "stream",
       "stream": "stdout",
       "text": [
        "\r",
        "1.189.O.proteins.faa                          100%   19KB  18.8KB/s   00:00    \r\n"
       ]
      },
      {
       "output_type": "stream",
       "stream": "stdout",
       "text": [
        "\r",
        "1.190.O.proteins.faa                            0%    0     0.0KB/s   --:-- ETA\r",
        "1.190.O.proteins.faa                          100%   11KB  10.9KB/s   00:00    \r\n",
        "\r",
        "1.191.O.proteins.faa                            0%    0     0.0KB/s   --:-- ETA"
       ]
      },
      {
       "output_type": "stream",
       "stream": "stdout",
       "text": [
        "\r",
        "1.191.O.proteins.faa                          100%   22KB  22.5KB/s   00:00    \r\n",
        "\r",
        "1.193.O.proteins.faa                            0%    0     0.0KB/s   --:-- ETA"
       ]
      },
      {
       "output_type": "stream",
       "stream": "stdout",
       "text": [
        "\r",
        "1.193.O.proteins.faa                          100%   69KB  68.7KB/s   00:00    \r\n",
        "\r",
        "1.194.O.proteins.faa                            0%    0     0.0KB/s   --:-- ETA"
       ]
      },
      {
       "output_type": "stream",
       "stream": "stdout",
       "text": [
        "\r",
        "1.194.O.proteins.faa                          100%   27KB  27.4KB/s   00:00    \r\n",
        "\r",
        "1.195.O.proteins.faa                            0%    0     0.0KB/s   --:-- ETA"
       ]
      },
      {
       "output_type": "stream",
       "stream": "stdout",
       "text": [
        "\r",
        "1.195.O.proteins.faa                          100%   28KB  28.3KB/s   00:00    \r\n"
       ]
      },
      {
       "output_type": "stream",
       "stream": "stdout",
       "text": [
        "\r",
        "1.196.O.proteins.faa                            0%    0     0.0KB/s   --:-- ETA\r",
        "1.196.O.proteins.faa                          100%   28KB  27.7KB/s   00:00    \r\n"
       ]
      },
      {
       "output_type": "stream",
       "stream": "stdout",
       "text": [
        "\r",
        "1.197.A.proteins.faa                            0%    0     0.0KB/s   --:-- ETA"
       ]
      },
      {
       "output_type": "stream",
       "stream": "stdout",
       "text": [
        "\r",
        "1.197.A.proteins.faa                          100%   22KB  21.6KB/s   00:00    \r\n",
        "\r",
        "1.198.A.proteins.faa                            0%    0     0.0KB/s   --:-- ETA"
       ]
      },
      {
       "output_type": "stream",
       "stream": "stdout",
       "text": [
        "\r",
        "1.198.A.proteins.faa                          100%   23KB  23.0KB/s   00:00    \r\n",
        "\r",
        "1.198.B.proteins.faa                            0%    0     0.0KB/s   --:-- ETA"
       ]
      },
      {
       "output_type": "stream",
       "stream": "stdout",
       "text": [
        "\r",
        "1.198.B.proteins.faa                          100%   23KB  22.9KB/s   00:00    \r\n",
        "\r",
        "1.199.A.proteins.faa                            0%    0     0.0KB/s   --:-- ETA"
       ]
      },
      {
       "output_type": "stream",
       "stream": "stdout",
       "text": [
        "\r",
        "1.199.A.proteins.faa                          100%   24KB  23.8KB/s   00:00    \r\n",
        "\r",
        "1.199.B.proteins.faa                            0%    0     0.0KB/s   --:-- ETA"
       ]
      },
      {
       "output_type": "stream",
       "stream": "stdout",
       "text": [
        "\r",
        "1.199.B.proteins.faa                          100%   24KB  23.8KB/s   00:00    \r\n",
        "\r",
        "1.200.O.proteins.faa                            0%    0     0.0KB/s   --:-- ETA"
       ]
      },
      {
       "output_type": "stream",
       "stream": "stdout",
       "text": [
        "\r",
        "1.200.O.proteins.faa                          100%   28KB  27.6KB/s   00:00    \r\n"
       ]
      },
      {
       "output_type": "stream",
       "stream": "stdout",
       "text": [
        "\r",
        "1.201.B.proteins.faa                            0%    0     0.0KB/s   --:-- ETA"
       ]
      },
      {
       "output_type": "stream",
       "stream": "stdout",
       "text": [
        "\r",
        "1.201.B.proteins.faa                          100%   24KB  24.1KB/s   00:00    \r\n",
        "\r",
        "1.202.O.proteins.faa                            0%    0     0.0KB/s   --:-- ETA"
       ]
      },
      {
       "output_type": "stream",
       "stream": "stdout",
       "text": [
        "\r",
        "1.202.O.proteins.faa                          100%   15KB  14.7KB/s   00:00    \r\n",
        "\r",
        "1.204.O.proteins.faa                            0%    0     0.0KB/s   --:-- ETA"
       ]
      },
      {
       "output_type": "stream",
       "stream": "stdout",
       "text": [
        "\r",
        "1.204.O.proteins.faa                          100%   20KB  20.0KB/s   00:00    \r\n",
        "\r",
        "1.205.O.proteins.faa                            0%    0     0.0KB/s   --:-- ETA"
       ]
      },
      {
       "output_type": "stream",
       "stream": "stdout",
       "text": [
        "\r",
        "1.205.O.proteins.faa                          100%   26KB  26.1KB/s   00:00    \r\n"
       ]
      },
      {
       "output_type": "stream",
       "stream": "stdout",
       "text": [
        "\r",
        "1.206.O.proteins.faa                            0%    0     0.0KB/s   --:-- ETA"
       ]
      },
      {
       "output_type": "stream",
       "stream": "stdout",
       "text": [
        "\r",
        "1.206.O.proteins.faa                          100%   18KB  18.4KB/s   00:00    \r\n",
        "\r",
        "1.207.B.proteins.faa                            0%    0     0.0KB/s   --:-- ETA"
       ]
      },
      {
       "output_type": "stream",
       "stream": "stdout",
       "text": [
        "\r",
        "1.207.B.proteins.faa                          100%   27KB  26.8KB/s   00:00    \r\n",
        "\r",
        "1.208.B.proteins.faa                            0%    0     0.0KB/s   --:-- ETA"
       ]
      },
      {
       "output_type": "stream",
       "stream": "stdout",
       "text": [
        "\r",
        "1.208.B.proteins.faa                          100%   23KB  23.0KB/s   00:00    \r\n",
        "\r",
        "1.209.O.proteins.faa                            0%    0     0.0KB/s   --:-- ETA"
       ]
      },
      {
       "output_type": "stream",
       "stream": "stdout",
       "text": [
        "\r",
        "1.209.O.proteins.faa                          100%   22KB  21.7KB/s   00:00    \r\n"
       ]
      },
      {
       "output_type": "stream",
       "stream": "stdout",
       "text": [
        "\r",
        "1.210.O.proteins.faa                            0%    0     0.0KB/s   --:-- ETA\r",
        "1.210.O.proteins.faa                          100%   23KB  23.3KB/s   00:00    \r\n"
       ]
      },
      {
       "output_type": "stream",
       "stream": "stdout",
       "text": [
        "\r",
        "1.211.A.proteins.faa                            0%    0     0.0KB/s   --:-- ETA\r",
        "1.211.A.proteins.faa                          100%   17KB  16.8KB/s   00:00    \r\n"
       ]
      },
      {
       "output_type": "stream",
       "stream": "stdout",
       "text": [
        "\r",
        "1.211.B.proteins.faa                            0%    0     0.0KB/s   --:-- ETA"
       ]
      },
      {
       "output_type": "stream",
       "stream": "stdout",
       "text": [
        "\r",
        "1.211.B.proteins.faa                          100%   17KB  16.9KB/s   00:00    \r\n",
        "\r",
        "1.213.O.proteins.faa                            0%    0     0.0KB/s   --:-- ETA"
       ]
      },
      {
       "output_type": "stream",
       "stream": "stdout",
       "text": [
        "\r",
        "1.213.O.proteins.faa                          100%   22KB  21.8KB/s   00:00    \r\n",
        "\r",
        "1.214.O.proteins.faa                            0%    0     0.0KB/s   --:-- ETA"
       ]
      },
      {
       "output_type": "stream",
       "stream": "stdout",
       "text": [
        "\r",
        "1.214.O.proteins.faa                          100%   22KB  22.0KB/s   00:00    \r\n"
       ]
      },
      {
       "output_type": "stream",
       "stream": "stdout",
       "text": [
        "\r",
        "1.214.Y.proteins.faa                          100%    0     0.0KB/s   00:00    \r\n",
        "\r",
        "1.215.A.proteins.faa                            0%    0     0.0KB/s   --:-- ETA"
       ]
      },
      {
       "output_type": "stream",
       "stream": "stdout",
       "text": [
        "\r",
        "1.215.A.proteins.faa                          100%   37KB  37.3KB/s   00:00    \r\n"
       ]
      },
      {
       "output_type": "stream",
       "stream": "stdout",
       "text": [
        "\r",
        "1.215.B.proteins.faa                            0%    0     0.0KB/s   --:-- ETA"
       ]
      },
      {
       "output_type": "stream",
       "stream": "stdout",
       "text": [
        "\r",
        "1.215.B.proteins.faa                          100%   37KB  37.4KB/s   00:00    \r\n",
        "\r",
        "1.216.O.proteins.faa                            0%    0     0.0KB/s   --:-- ETA"
       ]
      },
      {
       "output_type": "stream",
       "stream": "stdout",
       "text": [
        "\r",
        "1.216.O.proteins.faa                          100%   21KB  20.8KB/s   00:00    \r\n",
        "\r",
        "1.217.O.proteins.faa                            0%    0     0.0KB/s   --:-- ETA"
       ]
      },
      {
       "output_type": "stream",
       "stream": "stdout",
       "text": [
        "\r",
        "1.217.O.proteins.faa                          100%   16KB  15.8KB/s   00:00    \r\n"
       ]
      },
      {
       "output_type": "stream",
       "stream": "stdout",
       "text": [
        "\r",
        "1.217.Y.proteins.faa                          100%    0     0.0KB/s   00:00    \r\n"
       ]
      },
      {
       "output_type": "stream",
       "stream": "stdout",
       "text": [
        "\r",
        "1.219.O.proteins.faa                            0%    0     0.0KB/s   --:-- ETA\r",
        "1.219.O.proteins.faa                          100%   16KB  16.0KB/s   00:01    \r\n"
       ]
      },
      {
       "output_type": "stream",
       "stream": "stdout",
       "text": [
        "\r",
        "1.223.O.proteins.faa                            0%    0     0.0KB/s   --:-- ETA\r",
        "1.223.O.proteins.faa                          100%   23KB  23.1KB/s   00:00    \r\n"
       ]
      },
      {
       "output_type": "stream",
       "stream": "stdout",
       "text": [
        "\r",
        "1.224.A.proteins.faa                            0%    0     0.0KB/s   --:-- ETA"
       ]
      },
      {
       "output_type": "stream",
       "stream": "stdout",
       "text": [
        "\r",
        "1.224.A.proteins.faa                          100%   32KB  32.4KB/s   00:00    \r\n",
        "\r",
        "1.225.O.proteins.faa                            0%    0     0.0KB/s   --:-- ETA"
       ]
      },
      {
       "output_type": "stream",
       "stream": "stdout",
       "text": [
        "\r",
        "1.225.O.proteins.faa                          100%   25KB  24.8KB/s   00:00    \r\n",
        "\r",
        "1.226.O.proteins.faa                            0%    0     0.0KB/s   --:-- ETA"
       ]
      },
      {
       "output_type": "stream",
       "stream": "stdout",
       "text": [
        "\r",
        "1.226.O.proteins.faa                          100%   19KB  18.9KB/s   00:00    \r\n",
        "\r",
        "1.228.O.proteins.faa                            0%    0     0.0KB/s   --:-- ETA"
       ]
      },
      {
       "output_type": "stream",
       "stream": "stdout",
       "text": [
        "\r",
        "1.228.O.proteins.faa                          100%   19KB  18.6KB/s   00:00    \r\n",
        "\r",
        "1.231.O.proteins.faa                            0%    0     0.0KB/s   --:-- ETA"
       ]
      },
      {
       "output_type": "stream",
       "stream": "stdout",
       "text": [
        "\r",
        "1.231.O.proteins.faa                          100%   22KB  22.4KB/s   00:00    \r\n",
        "\r",
        "1.232.O.proteins.faa                            0%    0     0.0KB/s   --:-- ETA"
       ]
      },
      {
       "output_type": "stream",
       "stream": "stdout",
       "text": [
        "\r",
        "1.232.O.proteins.faa                          100%   27KB  27.4KB/s   00:00    \r\n",
        "\r",
        "1.233.A.proteins.faa                            0%    0     0.0KB/s   --:-- ETA"
       ]
      },
      {
       "output_type": "stream",
       "stream": "stdout",
       "text": [
        "\r",
        "1.233.A.proteins.faa                          100%   18KB  18.0KB/s   00:00    \r\n",
        "\r",
        "1.233.B.proteins.faa                            0%    0     0.0KB/s   --:-- ETA"
       ]
      },
      {
       "output_type": "stream",
       "stream": "stdout",
       "text": [
        "\r",
        "1.233.B.proteins.faa                          100%   18KB  17.8KB/s   00:00    \r\n"
       ]
      },
      {
       "output_type": "stream",
       "stream": "stdout",
       "text": [
        "\r",
        "1.235.O.proteins.faa                            0%    0     0.0KB/s   --:-- ETA\r",
        "1.235.O.proteins.faa                          100%   21KB  20.8KB/s   00:00    \r\n"
       ]
      },
      {
       "output_type": "stream",
       "stream": "stdout",
       "text": [
        "\r",
        "1.236.O.proteins.faa                            0%    0     0.0KB/s   --:-- ETA\r",
        "1.236.O.proteins.faa                          100%   21KB  20.9KB/s   00:00    \r\n"
       ]
      },
      {
       "output_type": "stream",
       "stream": "stdout",
       "text": [
        "\r",
        "1.237.A.proteins.faa                            0%    0     0.0KB/s   --:-- ETA\r",
        "1.237.A.proteins.faa                          100%   29KB  29.3KB/s   00:00    \r\n"
       ]
      },
      {
       "output_type": "stream",
       "stream": "stdout",
       "text": [
        "\r",
        "1.237.B.proteins.faa                            0%    0     0.0KB/s   --:-- ETA"
       ]
      },
      {
       "output_type": "stream",
       "stream": "stdout",
       "text": [
        "\r",
        "1.237.B.proteins.faa                          100%   29KB  29.4KB/s   00:00    \r\n",
        "\r",
        "1.238.A.proteins.faa                            0%    0     0.0KB/s   --:-- ETA"
       ]
      },
      {
       "output_type": "stream",
       "stream": "stdout",
       "text": [
        "\r",
        "1.238.A.proteins.faa                          100%   32KB  32.4KB/s   00:00    \r\n",
        "\r",
        "1.238.B.proteins.faa                            0%    0     0.0KB/s   --:-- ETA"
       ]
      },
      {
       "output_type": "stream",
       "stream": "stdout",
       "text": [
        "\r",
        "1.238.B.proteins.faa                          100%   32KB  32.4KB/s   00:01    \r\n",
        "\r",
        "1.239.O.proteins.faa                            0%    0     0.0KB/s   --:-- ETA"
       ]
      },
      {
       "output_type": "stream",
       "stream": "stdout",
       "text": [
        "\r",
        "1.239.O.proteins.faa                          100%   19KB  19.4KB/s   00:00    \r\n"
       ]
      },
      {
       "output_type": "stream",
       "stream": "stdout",
       "text": [
        "\r",
        "1.240.O.proteins.faa                            0%    0     0.0KB/s   --:-- ETA\r",
        "1.240.O.proteins.faa                          100%   18KB  18.1KB/s   00:00    \r\n"
       ]
      },
      {
       "output_type": "stream",
       "stream": "stdout",
       "text": [
        "\r",
        "1.242.O.proteins.faa                            0%    0     0.0KB/s   --:-- ETA"
       ]
      },
      {
       "output_type": "stream",
       "stream": "stdout",
       "text": [
        "\r",
        "1.242.O.proteins.faa                          100%   19KB  18.9KB/s   00:00    \r\n",
        "\r",
        "1.243.O.proteins.faa                            0%    0     0.0KB/s   --:-- ETA"
       ]
      },
      {
       "output_type": "stream",
       "stream": "stdout",
       "text": [
        "\r",
        "1.243.O.proteins.faa                          100%   24KB  23.8KB/s   00:00    \r\n",
        "\r",
        "1.244.A.proteins.faa                            0%    0     0.0KB/s   --:-- ETA"
       ]
      },
      {
       "output_type": "stream",
       "stream": "stdout",
       "text": [
        "\r",
        "1.244.A.proteins.faa                          100%   74KB  74.1KB/s   00:00    \r\n",
        "\r",
        "1.245.O.proteins.faa                            0%    0     0.0KB/s   --:-- ETA"
       ]
      },
      {
       "output_type": "stream",
       "stream": "stdout",
       "text": [
        "\r",
        "1.245.O.proteins.faa                          100%   33KB  32.7KB/s   00:00    \r\n",
        "\r",
        "1.246.O.proteins.faa                            0%    0     0.0KB/s   --:-- ETA"
       ]
      },
      {
       "output_type": "stream",
       "stream": "stdout",
       "text": [
        "\r",
        "1.246.O.proteins.faa                          100%   22KB  22.0KB/s   00:00    \r\n",
        "\r",
        "1.247.A.proteins.faa                            0%    0     0.0KB/s   --:-- ETA"
       ]
      },
      {
       "output_type": "stream",
       "stream": "stdout",
       "text": [
        "\r",
        "1.247.A.proteins.faa                          100%   22KB  22.1KB/s   00:00    \r\n",
        "\r",
        "1.247.B.proteins.faa                            0%    0     0.0KB/s   --:-- ETA"
       ]
      },
      {
       "output_type": "stream",
       "stream": "stdout",
       "text": [
        "\r",
        "1.247.B.proteins.faa                          100%   22KB  22.0KB/s   00:00    \r\n",
        "\r",
        "1.248.O.proteins.faa                            0%    0     0.0KB/s   --:-- ETA"
       ]
      },
      {
       "output_type": "stream",
       "stream": "stdout",
       "text": [
        "\r",
        "1.248.O.proteins.faa                          100%   24KB  23.9KB/s   00:00    \r\n"
       ]
      },
      {
       "output_type": "stream",
       "stream": "stdout",
       "text": [
        "\r",
        "1.249.A.proteins.faa                            0%    0     0.0KB/s   --:-- ETA\r",
        "1.249.A.proteins.faa                          100% 5801     5.7KB/s   00:00    \r\n",
        "\r",
        "1.249.B.proteins.faa                            0%    0     0.0KB/s   --:-- ETA"
       ]
      },
      {
       "output_type": "stream",
       "stream": "stdout",
       "text": [
        "\r",
        "1.249.B.proteins.faa                          100% 6014     5.9KB/s   00:00    \r\n",
        "\r",
        "1.250.O.proteins.faa                            0%    0     0.0KB/s   --:-- ETA"
       ]
      },
      {
       "output_type": "stream",
       "stream": "stdout",
       "text": [
        "\r",
        "1.250.O.proteins.faa                          100%   29KB  28.8KB/s   00:00    \r\n"
       ]
      },
      {
       "output_type": "stream",
       "stream": "stdout",
       "text": [
        "\r",
        "1.251.O.proteins.faa                            0%    0     0.0KB/s   --:-- ETA"
       ]
      },
      {
       "output_type": "stream",
       "stream": "stdout",
       "text": [
        "\r",
        "1.251.O.proteins.faa                          100%   29KB  29.0KB/s   00:00    \r\n",
        "\r",
        "1.253.O.proteins.faa                            0%    0     0.0KB/s   --:-- ETA"
       ]
      },
      {
       "output_type": "stream",
       "stream": "stdout",
       "text": [
        "\r",
        "1.253.O.proteins.faa                          100%   21KB  20.8KB/s   00:00    \r\n",
        "\r",
        "1.254.O.proteins.faa                            0%    0     0.0KB/s   --:-- ETA"
       ]
      },
      {
       "output_type": "stream",
       "stream": "stdout",
       "text": [
        "\r",
        "1.254.O.proteins.faa                          100%   16KB  15.6KB/s   00:00    \r\n",
        "\r",
        "1.255.O.proteins.faa                            0%    0     0.0KB/s   --:-- ETA"
       ]
      },
      {
       "output_type": "stream",
       "stream": "stdout",
       "text": [
        "\r",
        "1.255.O.proteins.faa                          100%   74KB  74.1KB/s   00:00    \r\n",
        "\r",
        "1.256.O.proteins.faa                            0%    0     0.0KB/s   --:-- ETA"
       ]
      },
      {
       "output_type": "stream",
       "stream": "stdout",
       "text": [
        "\r",
        "1.256.O.proteins.faa                          100%   23KB  23.4KB/s   00:00    \r\n",
        "\r",
        "1.257.O.proteins.faa                            0%    0     0.0KB/s   --:-- ETA"
       ]
      },
      {
       "output_type": "stream",
       "stream": "stdout",
       "text": [
        "\r",
        "1.257.O.proteins.faa                          100%   16KB  15.9KB/s   00:00    \r\n",
        "\r",
        "1.259.O.proteins.faa                            0%    0     0.0KB/s   --:-- ETA"
       ]
      },
      {
       "output_type": "stream",
       "stream": "stdout",
       "text": [
        "\r",
        "1.259.O.proteins.faa                          100%   14KB  13.8KB/s   00:00    \r\n"
       ]
      },
      {
       "output_type": "stream",
       "stream": "stdout",
       "text": [
        "\r",
        "1.261.O.proteins.faa                            0%    0     0.0KB/s   --:-- ETA\r",
        "1.261.O.proteins.faa                          100%   32KB  31.8KB/s   00:00    \r\n"
       ]
      },
      {
       "output_type": "stream",
       "stream": "stdout",
       "text": [
        "\r",
        "1.262.O.proteins.faa                            0%    0     0.0KB/s   --:-- ETA\r",
        "1.262.O.proteins.faa                          100%   23KB  22.6KB/s   00:00    \r\n"
       ]
      },
      {
       "output_type": "stream",
       "stream": "stdout",
       "text": [
        "\r",
        "1.263.A.proteins.faa                            0%    0     0.0KB/s   --:-- ETA"
       ]
      },
      {
       "output_type": "stream",
       "stream": "stdout",
       "text": [
        "\r",
        "1.263.A.proteins.faa                          100%   24KB  24.1KB/s   00:00    \r\n",
        "\r",
        "1.263.B.proteins.faa                            0%    0     0.0KB/s   --:-- ETA"
       ]
      },
      {
       "output_type": "stream",
       "stream": "stdout",
       "text": [
        "\r",
        "1.263.B.proteins.faa                          100%   24KB  24.1KB/s   00:00    \r\n",
        "\r",
        "1.264.O.proteins.faa                            0%    0     0.0KB/s   --:-- ETA"
       ]
      },
      {
       "output_type": "stream",
       "stream": "stdout",
       "text": [
        "\r",
        "1.264.O.proteins.faa                          100%   22KB  21.8KB/s   00:00    \r\n"
       ]
      },
      {
       "output_type": "stream",
       "stream": "stdout",
       "text": [
        "\r",
        "1.265.O.proteins.faa                            0%    0     0.0KB/s   --:-- ETA\r",
        "1.265.O.proteins.faa                          100%   22KB  21.5KB/s   00:00    \r\n"
       ]
      },
      {
       "output_type": "stream",
       "stream": "stdout",
       "text": [
        "\r",
        "1.266.O.proteins.faa                            0%    0     0.0KB/s   --:-- ETA"
       ]
      },
      {
       "output_type": "stream",
       "stream": "stdout",
       "text": [
        "\r",
        "1.266.O.proteins.faa                          100%   17KB  17.4KB/s   00:00    \r\n",
        "\r",
        "1.267.O.proteins.faa                            0%    0     0.0KB/s   --:-- ETA"
       ]
      },
      {
       "output_type": "stream",
       "stream": "stdout",
       "text": [
        "\r",
        "1.267.O.proteins.faa                          100%   28KB  27.6KB/s   00:00    \r\n",
        "\r",
        "1.268.A.proteins.faa                            0%    0     0.0KB/s   --:-- ETA"
       ]
      },
      {
       "output_type": "stream",
       "stream": "stdout",
       "text": [
        "\r",
        "1.268.A.proteins.faa                          100%   28KB  27.6KB/s   00:00    \r\n"
       ]
      },
      {
       "output_type": "stream",
       "stream": "stdout",
       "text": [
        "\r",
        "1.268.B.proteins.faa                            0%    0     0.0KB/s   --:-- ETA"
       ]
      },
      {
       "output_type": "stream",
       "stream": "stdout",
       "text": [
        "\r",
        "1.268.B.proteins.faa                          100%   27KB  27.5KB/s   00:00    \r\n"
       ]
      },
      {
       "output_type": "stream",
       "stream": "stdout",
       "text": [
        "\r",
        "1.269.O.proteins.faa                            0%    0     0.0KB/s   --:-- ETA\r",
        "1.269.O.proteins.faa                          100%   28KB  28.1KB/s   00:00    \r\n"
       ]
      },
      {
       "output_type": "stream",
       "stream": "stdout",
       "text": [
        "\r",
        "1.270.A.proteins.faa                            0%    0     0.0KB/s   --:-- ETA\r",
        "1.270.A.proteins.faa                          100%   28KB  27.6KB/s   00:00    \r\n"
       ]
      },
      {
       "output_type": "stream",
       "stream": "stdout",
       "text": [
        "\r",
        "1.270.B.proteins.faa                            0%    0     0.0KB/s   --:-- ETA\r",
        "1.270.B.proteins.faa                          100%   28KB  27.6KB/s   00:00    \r\n"
       ]
      },
      {
       "output_type": "stream",
       "stream": "stdout",
       "text": [
        "\r",
        "1.271.A.proteins.faa                            0%    0     0.0KB/s   --:-- ETA"
       ]
      },
      {
       "output_type": "stream",
       "stream": "stdout",
       "text": [
        "\r",
        "1.271.A.proteins.faa                          100%   28KB  27.8KB/s   00:00    \r\n",
        "\r",
        "1.271.B.proteins.faa                            0%    0     0.0KB/s   --:-- ETA"
       ]
      },
      {
       "output_type": "stream",
       "stream": "stdout",
       "text": [
        "\r",
        "1.271.B.proteins.faa                          100%   28KB  27.8KB/s   00:00    \r\n",
        "\r",
        "1.272.O.proteins.faa                            0%    0     0.0KB/s   --:-- ETA"
       ]
      },
      {
       "output_type": "stream",
       "stream": "stdout",
       "text": [
        "\r",
        "1.272.O.proteins.faa                          100%   28KB  27.8KB/s   00:00    \r\n",
        "\r",
        "1.273.O.proteins.faa                            0%    0     0.0KB/s   --:-- ETA"
       ]
      },
      {
       "output_type": "stream",
       "stream": "stdout",
       "text": [
        "\r",
        "1.273.O.proteins.faa                          100%   24KB  23.7KB/s   00:00    \r\n",
        "\r",
        "1.274.O.proteins.faa                            0%    0     0.0KB/s   --:-- ETA"
       ]
      },
      {
       "output_type": "stream",
       "stream": "stdout",
       "text": [
        "\r",
        "1.274.O.proteins.faa                          100%   28KB  27.6KB/s   00:00    \r\n"
       ]
      },
      {
       "output_type": "stream",
       "stream": "stdout",
       "text": [
        "\r",
        "1.275.O.proteins.faa                            0%    0     0.0KB/s   --:-- ETA"
       ]
      },
      {
       "output_type": "stream",
       "stream": "stdout",
       "text": [
        "\r",
        "1.275.O.proteins.faa                          100%   18KB  18.0KB/s   00:00    \r\n",
        "\r",
        "1.276.O.proteins.faa                            0%    0     0.0KB/s   --:-- ETA"
       ]
      },
      {
       "output_type": "stream",
       "stream": "stdout",
       "text": [
        "\r",
        "1.276.O.proteins.faa                          100%   22KB  21.9KB/s   00:00    \r\n",
        "\r",
        "1.277.A.proteins.faa                            0%    0     0.0KB/s   --:-- ETA"
       ]
      },
      {
       "output_type": "stream",
       "stream": "stdout",
       "text": [
        "\r",
        "1.277.A.proteins.faa                          100%   27KB  27.5KB/s   00:00    \r\n"
       ]
      },
      {
       "output_type": "stream",
       "stream": "stdout",
       "text": [
        "\r",
        "1.277.B.proteins.faa                            0%    0     0.0KB/s   --:-- ETA"
       ]
      },
      {
       "output_type": "stream",
       "stream": "stdout",
       "text": [
        "\r",
        "1.277.B.proteins.faa                          100%   28KB  27.7KB/s   00:00    \r\n",
        "\r",
        "1.278.O.proteins.faa                            0%    0     0.0KB/s   --:-- ETA"
       ]
      },
      {
       "output_type": "stream",
       "stream": "stdout",
       "text": [
        "\r",
        "1.278.O.proteins.faa                          100%   25KB  24.6KB/s   00:00    \r\n",
        "\r",
        "1.280.O.proteins.faa                            0%    0     0.0KB/s   --:-- ETA"
       ]
      },
      {
       "output_type": "stream",
       "stream": "stdout",
       "text": [
        "\r",
        "1.280.O.proteins.faa                          100%   28KB  27.6KB/s   00:00    \r\n",
        "\r",
        "1.281.O.proteins.faa                            0%    0     0.0KB/s   --:-- ETA"
       ]
      },
      {
       "output_type": "stream",
       "stream": "stdout",
       "text": [
        "\r",
        "1.281.O.proteins.faa                          100%   28KB  27.6KB/s   00:00    \r\n",
        "\r",
        "1.282.A.proteins.faa                            0%    0     0.0KB/s   --:-- ETA"
       ]
      },
      {
       "output_type": "stream",
       "stream": "stdout",
       "text": [
        "\r",
        "1.282.A.proteins.faa                          100%   27KB  27.5KB/s   00:00    \r\n"
       ]
      },
      {
       "output_type": "stream",
       "stream": "stdout",
       "text": [
        "\r",
        "1.283.A.proteins.faa                            0%    0     0.0KB/s   --:-- ETA"
       ]
      },
      {
       "output_type": "stream",
       "stream": "stdout",
       "text": [
        "\r",
        "1.283.A.proteins.faa                          100%   28KB  28.0KB/s   00:00    \r\n",
        "\r",
        "1.283.B.proteins.faa                            0%    0     0.0KB/s   --:-- ETA"
       ]
      },
      {
       "output_type": "stream",
       "stream": "stdout",
       "text": [
        "\r",
        "1.283.B.proteins.faa                          100%   28KB  27.8KB/s   00:00    \r\n"
       ]
      },
      {
       "output_type": "stream",
       "stream": "stdout",
       "text": [
        "\r",
        "1.283.C.proteins.faa                            0%    0     0.0KB/s   --:-- ETA\r",
        "1.283.C.proteins.faa                          100%   28KB  28.0KB/s   00:00    \r\n"
       ]
      },
      {
       "output_type": "stream",
       "stream": "stdout",
       "text": [
        "\r",
        "1.284.A.proteins.faa                            0%    0     0.0KB/s   --:-- ETA\r",
        "1.284.A.proteins.faa                          100%   22KB  22.1KB/s   00:00    \r\n"
       ]
      },
      {
       "output_type": "stream",
       "stream": "stdout",
       "text": [
        "\r",
        "1.285.O.proteins.faa                            0%    0     0.0KB/s   --:-- ETA"
       ]
      },
      {
       "output_type": "stream",
       "stream": "stdout",
       "text": [
        "\r",
        "1.285.O.proteins.faa                          100%   29KB  28.7KB/s   00:00    \r\n",
        "\r",
        "1.286.O.proteins.faa                            0%    0     0.0KB/s   --:-- ETA"
       ]
      },
      {
       "output_type": "stream",
       "stream": "stdout",
       "text": [
        "\r",
        "1.286.O.proteins.faa                          100%   25KB  24.8KB/s   00:00    \r\n",
        "\r",
        "1.287.O.proteins.faa                            0%    0     0.0KB/s   --:-- ETA"
       ]
      },
      {
       "output_type": "stream",
       "stream": "stdout",
       "text": [
        "\r",
        "1.287.O.proteins.faa                          100%   22KB  22.1KB/s   00:00    \r\n"
       ]
      },
      {
       "output_type": "stream",
       "stream": "stdout",
       "text": [
        "\r",
        "1.289.A.proteins.faa                            0%    0     0.0KB/s   --:-- ETA\r",
        "1.289.A.proteins.faa                          100%   22KB  21.6KB/s   00:00    \r\n"
       ]
      },
      {
       "output_type": "stream",
       "stream": "stdout",
       "text": [
        "\r",
        "1.291.O.proteins.faa                            0%    0     0.0KB/s   --:-- ETA\r",
        "1.291.O.proteins.faa                          100%   22KB  21.7KB/s   00:00    \r\n"
       ]
      },
      {
       "output_type": "stream",
       "stream": "stdout",
       "text": [
        "\r",
        "1.293.O.proteins.faa                            0%    0     0.0KB/s   --:-- ETA\r",
        "1.293.O.proteins.faa                          100%   24KB  23.9KB/s   00:00    \r\n"
       ]
      },
      {
       "output_type": "stream",
       "stream": "stdout",
       "text": [
        "\r",
        "12G01.O.proteins.faa                            0%    0     0.0KB/s   --:-- ETA"
       ]
      },
      {
       "output_type": "stream",
       "stream": "stdout",
       "text": [
        "\r",
        "12G01.O.proteins.faa                          100%   21KB  20.7KB/s   00:00    \r\n",
        "\r",
        "2.044.O.proteins.faa                            0%    0     0.0KB/s   --:-- ETA"
       ]
      },
      {
       "output_type": "stream",
       "stream": "stdout",
       "text": [
        "\r",
        "2.044.O.proteins.faa                          100%   20KB  20.4KB/s   00:00    \r\n",
        "\r",
        "2.058.O.proteins.faa                            0%    0     0.0KB/s   --:-- ETA"
       ]
      },
      {
       "output_type": "stream",
       "stream": "stdout",
       "text": [
        "\r",
        "2.058.O.proteins.faa                          100%   48KB  47.6KB/s   00:00    \r\n",
        "\r",
        "2.092.O.proteins.faa                            0%    0     0.0KB/s   --:-- ETA"
       ]
      },
      {
       "output_type": "stream",
       "stream": "stdout",
       "text": [
        "\r",
        "2.092.O.proteins.faa                          100% 5496     5.4KB/s   00:00    \r\n",
        "\r",
        "2.095.A.proteins.faa                            0%    0     0.0KB/s   --:-- ETA"
       ]
      },
      {
       "output_type": "stream",
       "stream": "stdout",
       "text": [
        "\r",
        "2.095.A.proteins.faa                          100%   23KB  22.6KB/s   00:00    \r\n"
       ]
      },
      {
       "output_type": "stream",
       "stream": "stdout",
       "text": [
        "\r",
        "2.095.B.proteins.faa                            0%    0     0.0KB/s   --:-- ETA\r",
        "2.095.B.proteins.faa                          100%   23KB  22.8KB/s   00:01    \r\n"
       ]
      },
      {
       "output_type": "stream",
       "stream": "stdout",
       "text": [
        "\r",
        "2.096.O.proteins.faa                            0%    0     0.0KB/s   --:-- ETA"
       ]
      },
      {
       "output_type": "stream",
       "stream": "stdout",
       "text": [
        "\r",
        "2.096.O.proteins.faa                          100%   20KB  20.2KB/s   00:00    \r\n",
        "\r",
        "2.117.O.proteins.faa                            0%    0     0.0KB/s   --:-- ETA"
       ]
      },
      {
       "output_type": "stream",
       "stream": "stdout",
       "text": [
        "\r",
        "2.117.O.proteins.faa                          100%   27KB  26.8KB/s   00:00    \r\n",
        "\r",
        "2.130.O.proteins.faa                            0%    0     0.0KB/s   --:-- ETA"
       ]
      },
      {
       "output_type": "stream",
       "stream": "stdout",
       "text": [
        "\r",
        "2.130.O.proteins.faa                          100%   36KB  36.4KB/s   00:00    \r\n"
       ]
      },
      {
       "output_type": "stream",
       "stream": "stdout",
       "text": [
        "\r",
        "2.159.A.proteins.faa                            0%    0     0.0KB/s   --:-- ETA\r",
        "2.159.A.proteins.faa                          100%   16KB  15.8KB/s   00:00    \r\n"
       ]
      },
      {
       "output_type": "stream",
       "stream": "stdout",
       "text": [
        "\r",
        "2.159.B.proteins.faa                            0%    0     0.0KB/s   --:-- ETA"
       ]
      },
      {
       "output_type": "stream",
       "stream": "stdout",
       "text": [
        "\r",
        "2.159.B.proteins.faa                          100%   13KB  12.8KB/s   00:00    \r\n",
        "\r",
        "2.275.O.proteins.faa                            0%    0     0.0KB/s   --:-- ETA"
       ]
      },
      {
       "output_type": "stream",
       "stream": "stdout",
       "text": [
        "\r",
        "2.275.O.proteins.faa                          100%  160KB 159.6KB/s   00:00    \r\n"
       ]
      },
      {
       "output_type": "stream",
       "stream": "stdout",
       "text": [
        "\r",
        "3.058.O.proteins.faa                            0%    0     0.0KB/s   --:-- ETA\r",
        "3.058.O.proteins.faa                          100%   47KB  47.4KB/s   00:00    \r\n"
       ]
      }
     ],
     "prompt_number": 4
    },
    {
     "cell_type": "code",
     "collapsed": false,
     "input": [
      "proteinout=open(\"./prelim_prod_calls/all_phage_prelim_prots.faa\",\"w\")\n",
      "for phage in phages:\n",
      "    proteinfile=open(\"./prelim_prod_calls/\"+phage+\"proteins.faa\").readlines()\n",
      "    #proteinout=open(\"./prelim_prod_calls/\"+phage+\"proteins.faa\",\"w\")\n",
      "    for line in proteinfile:    \n",
      "        if line.startswith(\">\"):\n",
      "            new_name=\">\"+phage+\"_\"+line.split(\" \")[0].replace(\">\",\"\")\n",
      "            proteinout.write(\"\\n\"+new_name+\"\\n\")\n",
      "            \n",
      "        else:\n",
      "            proteinout.write(line.replace(\"\\n\",\"\"))\n",
      "            \n",
      "proteinout.close()"
     ],
     "language": "python",
     "metadata": {},
     "outputs": [],
     "prompt_number": 18
    },
    {
     "cell_type": "code",
     "collapsed": false,
     "input": [
      "proteinfile=open(phage+\"proteins.faa\").readlines()\n",
      "if line.beginswith(\">\"):\n",
      "    print(line)"
     ],
     "language": "python",
     "metadata": {},
     "outputs": []
    },
    {
     "cell_type": "code",
     "collapsed": false,
     "input": [
      "!scp jbrown@eofe4.mit.edu:/"
     ],
     "language": "python",
     "metadata": {},
     "outputs": []
    },
    {
     "cell_type": "code",
     "collapsed": false,
     "input": [
      "from pyfaidx import Fasta\n",
      "\n",
      "outfast=open(\"nahant_terminases.fas\",\"w\")\n",
      "phagelist\n",
      "\n",
      "for phage in phages:\n",
      "    best_evalue=1\n",
      "    blast=open(phage+\"prodprot.vs.lg.terminases.txt\").readlines()       #open blast file \n",
      "    for line in blast:    \n",
      "        if float(line.split(\"\\t\")[10])<best_evalue:\n",
      "            best_evalue=float(line.split(\"\\t\")[10])\n",
      "            terminase=line.split(\"\\t\")[0]\n",
      "    f=Fasta(phage+\"proteins.faa\")\n",
      "    a = str(f[terminase])\n",
      "    #outfast.write(\">\"+phage+\"_\"+terminase+\"\\n\"+a+\"\\n\")\n",
      "    print(\">\"+phage+\"_\"+terminase+\"\\n\"+a+\"\\n\")"
     ],
     "language": "python",
     "metadata": {},
     "outputs": []
    }
   ],
   "metadata": {}
  }
 ]
}