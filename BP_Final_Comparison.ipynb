{
 "metadata": {
  "name": "",
  "signature": "sha256:2a7723ca25f7566343ebfcdb530ae836a2e22a05bf9e3cfbb60573824f4d0c9f"
 },
 "nbformat": 3,
 "nbformat_minor": 0,
 "worksheets": [
  {
   "cells": [
    {
     "cell_type": "code",
     "collapsed": false,
     "input": [
      "%load_ext rmagic"
     ],
     "language": "python",
     "metadata": {},
     "outputs": [],
     "prompt_number": 1
    },
    {
     "cell_type": "code",
     "collapsed": false,
     "input": [
      "%%R\n",
      "\n",
      "prelim_groups<-read.table(\"phage_by_group.txt\", sep=\"\\t\")\n",
      "head(prelim_groups)\n"
     ],
     "language": "python",
     "metadata": {},
     "outputs": [
      {
       "metadata": {},
       "output_type": "display_data",
       "text": [
        "        V1         V2\n",
        "1 1.003.O.  CNSv2.0:1\n",
        "2 1.004.O. CNSv2.0:14\n",
        "3 1.005.O.  CNSv2.0:7\n",
        "4 1.007.O.  CNSv2.0:1\n",
        "5 1.008.O. CNSv2.0:15\n",
        "6 1.009.O.  CNSv2.0:7\n"
       ]
      }
     ],
     "prompt_number": 2
    },
    {
     "cell_type": "code",
     "collapsed": false,
     "input": [],
     "language": "python",
     "metadata": {},
     "outputs": [],
     "prompt_number": 2
    },
    {
     "cell_type": "code",
     "collapsed": false,
     "input": [],
     "language": "python",
     "metadata": {},
     "outputs": []
    }
   ],
   "metadata": {}
  }
 ]
}