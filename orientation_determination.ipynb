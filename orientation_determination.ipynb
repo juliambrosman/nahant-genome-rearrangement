{
 "metadata": {
  "name": "",
  "signature": "sha256:63ca5bcf1b73f46cdb6dd22b705d78c1854114e501ded13975feb0536730e05b"
 },
 "nbformat": 3,
 "nbformat_minor": 0,
 "worksheets": [
  {
   "cells": [
    {
     "cell_type": "markdown",
     "metadata": {},
     "source": [
      "##create blast database of terminases"
     ]
    },
    {
     "cell_type": "raw",
     "metadata": {},
     "source": [
      "#ran search of \"phage terminase\" in the NCBI proteins database which returned 23946 sequences\n",
      "#downloaded them into file called \"NCBI_phage_terminases_20150414.fasta\" and transferred them to folder /nobackup1/jbrown/blast_db/ on MIT server"
     ]
    },
    {
     "cell_type": "code",
     "collapsed": false,
     "input": [
      "makeblastdb -in NCBI_phage_terminases_20150414.fasta -dbtype prot "
     ],
     "language": "python",
     "metadata": {},
     "outputs": []
    },
    {
     "cell_type": "markdown",
     "metadata": {},
     "source": [
      "##blastx virome contig sequence against terminase database"
     ]
    },
    {
     "cell_type": "code",
     "collapsed": false,
     "input": [
      "blastx -db /nobackup1/jbrown/blast_db/NCBI_phage_terminases_20150414.fasta -query 1.008.O.step1.contig1.fasta -num_descriptions 1 -outfmt 6 -out 1.008.O.s1c1.vs.terminases.txt"
     ],
     "language": "python",
     "metadata": {},
     "outputs": []
    },
    {
     "cell_type": "code",
     "collapsed": false,
     "input": [
      "import os\n",
      "os.chdir(\"./group15/\")"
     ],
     "language": "python",
     "metadata": {},
     "outputs": [],
     "prompt_number": 3
    },
    {
     "cell_type": "code",
     "collapsed": false,
     "input": [
      "#determine location of terminase on chromosome\n",
      "addinfo=open(\"1.008.O.vs.terminase1.txt\",\"w\")\n",
      "addinfo.write(\"query\\ttarget\\tpct_id\\taln_len\\tnum_mismatch\\tnum_gap\\tqstart\\tqstop\\ttstart\\ttstop\\te_value\\tbit_score\\n\")\n",
      "blastoutput=open(\"1.008.O.s1c1.vs.terminases.txt\")\n",
      "blastoutput=blastoutput.readlines()\n",
      "for line in blastoutput:\n",
      "    line=line.replace(\"\\n\",\"\")\n",
      "    addinfo.write(line+\"\\n\")\n",
      "addinfo.close()"
     ],
     "language": "python",
     "metadata": {},
     "outputs": [],
     "prompt_number": 53
    },
    {
     "cell_type": "code",
     "collapsed": false,
     "input": [
      "blastout=open(\"1.008.O.vs.terminase1.txt\")\n",
      "for line in blastout:\n",
      "    vec=line.split(\"\\t\")\n",
      "    print(vec[6]+\"\\t\"+vec[7])"
     ],
     "language": "python",
     "metadata": {},
     "outputs": [
      {
       "output_type": "stream",
       "stream": "stdout",
       "text": [
        "qstart\tqstop\n",
        "8068\t7946\n"
       ]
      }
     ],
     "prompt_number": 56
    },
    {
     "cell_type": "code",
     "collapsed": false,
     "input": [
      "#so hit start location is vec[6] when blast output split into vectors."
     ],
     "language": "python",
     "metadata": {},
     "outputs": []
    },
    {
     "cell_type": "markdown",
     "metadata": {},
     "source": [
      "##next get length of query sequence... use pyfaidx"
     ]
    },
    {
     "cell_type": "code",
     "collapsed": false,
     "input": [
      "import pyfaidx\n",
      "from pyfaidx import Fasta\n",
      "\n",
      "f=Fasta(\"1.008.O.step1.contig1.fasta\")\n",
      "viromelen=len(f[0])\n",
      "sequence=str(f[0])\n",
      "print(viromelen)\n",
      "print(viromelen/2)"
     ],
     "language": "python",
     "metadata": {},
     "outputs": [
      {
       "output_type": "stream",
       "stream": "stdout",
       "text": [
        "9514\n",
        "4757\n"
       ]
      }
     ],
     "prompt_number": 79
    },
    {
     "cell_type": "code",
     "collapsed": false,
     "input": [
      "##it looks like for this particular search, the terminase is on the far end of the virome, suggesting it is in reverse orientation."
     ],
     "language": "python",
     "metadata": {},
     "outputs": [],
     "prompt_number": 20
    },
    {
     "cell_type": "markdown",
     "metadata": {},
     "source": [
      "##use Bio.Seq to get the reverse complement sequence:"
     ]
    },
    {
     "cell_type": "code",
     "collapsed": false,
     "input": [
      "from Bio.Seq import Seq\n",
      "seq=Seq(str(sequence))\n",
      "rc_seq=seq.reverse_complement()"
     ],
     "language": "python",
     "metadata": {},
     "outputs": [],
     "prompt_number": 42
    },
    {
     "cell_type": "markdown",
     "metadata": {},
     "source": [
      "##ID location of terminase BLAST hit:"
     ]
    },
    {
     "cell_type": "code",
     "collapsed": false,
     "input": [
      "blastoutput=open(\"1.008.O.s1c1.vs.terminases.txt\")\n",
      "blastoutput=blastoutput.read()\n",
      "vec=blastoutput.split(\"\\t\")\n",
      "start=vec[6]\n",
      "print(start)"
     ],
     "language": "python",
     "metadata": {},
     "outputs": [
      {
       "output_type": "stream",
       "stream": "stdout",
       "text": [
        "8068\n"
       ]
      }
     ],
     "prompt_number": 45
    },
    {
     "cell_type": "markdown",
     "metadata": {},
     "source": [
      "##set conditions for when to reverse complement a contig:"
     ]
    },
    {
     "cell_type": "code",
     "collapsed": false,
     "input": [
      "if start>(viromelen/2):\n",
      "    print(\"must reverse sequence\")\n",
      "    out_seq=seq.reverse_complement()\n",
      "else:\n",
      "    print(\"sequence is in correct orientation\")\n",
      "    out_seq=seq"
     ],
     "language": "python",
     "metadata": {},
     "outputs": [
      {
       "output_type": "stream",
       "stream": "stdout",
       "text": [
        "must reverse sequence\n"
       ]
      }
     ],
     "prompt_number": 59
    },
    {
     "cell_type": "markdown",
     "metadata": {},
     "source": [
      "##write new output file once orientation is determined/corrected:"
     ]
    },
    {
     "cell_type": "code",
     "collapsed": false,
     "input": [
      "outfile=open(\"1.008.O.step1.contig1.oc.fasta\",\"w\")\n",
      "outfile.write(\">\"+\"1.008.O.\"+\"\\n\"+str(out_seq))\n",
      "outfile.close()"
     ],
     "language": "python",
     "metadata": {},
     "outputs": [],
     "prompt_number": 63
    },
    {
     "cell_type": "markdown",
     "metadata": {},
     "source": [
      "#Pipeline:"
     ]
    },
    {
     "cell_type": "code",
     "collapsed": false,
     "input": [
      "#define groupfile:\n",
      "groupfile=open(\"group15.txt\")\n",
      "\n",
      "blast_commands=open(\"blast_commands.sh\",\"w\")\n",
      "for line in groupfile:\n",
      "    name=line.rstrip(\"\\n\")\n",
      "    inputfasta=name+\"step1.contig1.fasta\"\n",
      "    blastoutputname=name+\"vs.terminases.txt\"\n",
      "    blastcommand=\"blastx -db /nobackup1/jbrown/blast_db/NCBI_phage_terminases_20150414.fasta -query \"+inputfasta+\" -num_descriptions 1 -outfmt 6 -out \"+blastoutputname\n",
      "    blast_commands.write(blastcommand+\"\\n\")\n",
      "blast_commands.close()\n",
      "!open blast_commands.sh -a textedit"
     ],
     "language": "python",
     "metadata": {},
     "outputs": [],
     "prompt_number": 88
    },
    {
     "cell_type": "markdown",
     "metadata": {},
     "source": [
      "add below heading:"
     ]
    },
    {
     "cell_type": "raw",
     "metadata": {},
     "source": [
      "#!/bin/bash                                                                                                                                                                \n",
      "#SBATCH -n 16                                                                                                                                                              \n",
      "#SBATCH -N 1                                                                                                                    \n",
      "#SBATCH -o terminase_blast.out      # File to which STDOUT will be written                                                                                   \n",
      "#SBATCH -e terminase_blast.err      # File to which STDERR will be written                                                                                   \n",
      "#SBATCH -p newnodes                # name of partition to use      \n",
      "\n",
      "module add engaging/ncbi-blast/2.2.30+\n"
     ]
    },
    {
     "cell_type": "code",
     "collapsed": false,
     "input": [
      "!scp blast_commands.sh jbrown@eofe4.mit.edu:/nobackup1/jbrown/nahant_phage_reads/group15/"
     ],
     "language": "python",
     "metadata": {},
     "outputs": [
      {
       "output_type": "stream",
       "stream": "stdout",
       "text": [
        "\r",
        "blast_commands.sh                               0%    0     0.0KB/s   --:-- ETA\r",
        "blast_commands.sh                             100% 4661     4.6KB/s   00:00    \r\n"
       ]
      }
     ],
     "prompt_number": 89
    },
    {
     "cell_type": "code",
     "collapsed": false,
     "input": [
      "!scp jbrown@eofe4.mit.edu:/nobackup1/jbrown/nahant_phage_reads/group15/*vs* ./"
     ],
     "language": "python",
     "metadata": {},
     "outputs": [
      {
       "output_type": "stream",
       "stream": "stdout",
       "text": [
        "\r",
        "1.008.O.s1c1.vs.terminases.txt                  0%    0     0.0KB/s   --:-- ETA"
       ]
      },
      {
       "output_type": "stream",
       "stream": "stdout",
       "text": [
        "\r",
        "1.008.O.s1c1.vs.terminases.txt                100%   83     0.1KB/s   00:00    \r\n",
        "\r",
        "1.008.O.vs.terminases.txt                       0%    0     0.0KB/s   --:-- ETA"
       ]
      },
      {
       "output_type": "stream",
       "stream": "stdout",
       "text": [
        "\r",
        "1.008.O.vs.terminases.txt                     100%  322     0.3KB/s   00:00    \r\n",
        "\r",
        "1.011.O.vs.terminases.txt                       0%    0     0.0KB/s   --:-- ETA"
       ]
      },
      {
       "output_type": "stream",
       "stream": "stdout",
       "text": [
        "\r",
        "1.011.O.vs.terminases.txt                     100%  322     0.3KB/s   00:00    \r\n",
        "\r",
        "1.020.O.vs.terminases.txt                     100%    0     0.0KB/s   00:00    \r\n"
       ]
      },
      {
       "output_type": "stream",
       "stream": "stdout",
       "text": [
        "\r",
        "1.040.O.vs.terminases.txt                       0%    0     0.0KB/s   --:-- ETA\r",
        "1.040.O.vs.terminases.txt                     100%  322     0.3KB/s   00:00    \r\n"
       ]
      },
      {
       "output_type": "stream",
       "stream": "stdout",
       "text": [
        "\r",
        "1.043.O.vs.terminases.txt                     100%    0     0.0KB/s   00:00    \r\n"
       ]
      },
      {
       "output_type": "stream",
       "stream": "stdout",
       "text": [
        "\r",
        "1.044.O.vs.terminases.txt                     100%    0     0.0KB/s   00:00    \r\n"
       ]
      },
      {
       "output_type": "stream",
       "stream": "stdout",
       "text": [
        "\r",
        "1.048.O.vs.terminases.txt                     100%    0     0.0KB/s   00:00    \r\n",
        "\r",
        "1.057.O.vs.terminases.txt                     100%    0     0.0KB/s   00:00    \r\n"
       ]
      },
      {
       "output_type": "stream",
       "stream": "stdout",
       "text": [
        "\r",
        "1.062.O.vs.terminases.txt                       0%    0     0.0KB/s   --:-- ETA"
       ]
      },
      {
       "output_type": "stream",
       "stream": "stdout",
       "text": [
        "\r",
        "1.062.O.vs.terminases.txt                     100%  322     0.3KB/s   00:00    \r\n"
       ]
      },
      {
       "output_type": "stream",
       "stream": "stdout",
       "text": [
        "\r",
        "1.069.O.vs.terminases.txt                       0%    0     0.0KB/s   --:-- ETA"
       ]
      },
      {
       "output_type": "stream",
       "stream": "stdout",
       "text": [
        "\r",
        "1.069.O.vs.terminases.txt                     100%  322     0.3KB/s   00:00    \r\n",
        "\r",
        "1.080.O.vs.terminases.txt                     100%    0     0.0KB/s   00:00    \r\n"
       ]
      },
      {
       "output_type": "stream",
       "stream": "stdout",
       "text": [
        "\r",
        "1.095.O.vs.terminases.txt                     100%    0     0.0KB/s   00:00    \r\n"
       ]
      },
      {
       "output_type": "stream",
       "stream": "stdout",
       "text": [
        "\r",
        "1.102.O.vs.terminases.txt                     100%    0     0.0KB/s   00:00    \r\n"
       ]
      },
      {
       "output_type": "stream",
       "stream": "stdout",
       "text": [
        "\r",
        "1.107.A.vs.terminases.txt                     100%    0     0.0KB/s   00:00    \r\n"
       ]
      },
      {
       "output_type": "stream",
       "stream": "stdout",
       "text": [
        "\r",
        "1.107.B.vs.terminases.txt                     100%    0     0.0KB/s   00:00    \r\n"
       ]
      },
      {
       "output_type": "stream",
       "stream": "stdout",
       "text": [
        "\r",
        "1.107.C.vs.terminases.txt                     100%    0     0.0KB/s   00:00    \r\n"
       ]
      },
      {
       "output_type": "stream",
       "stream": "stdout",
       "text": [
        "\r",
        "1.125.O.vs.terminases.txt                       0%    0     0.0KB/s   --:-- ETA\r",
        "1.125.O.vs.terminases.txt                     100%  322     0.3KB/s   00:00    \r\n",
        "\r",
        "1.141.A.vs.terminases.txt                     100%    0     0.0KB/s   00:00    \r\n"
       ]
      },
      {
       "output_type": "stream",
       "stream": "stdout",
       "text": [
        "\r",
        "1.249.A.vs.terminases.txt                       0%    0     0.0KB/s   --:-- ETA"
       ]
      },
      {
       "output_type": "stream",
       "stream": "stdout",
       "text": [
        "\r",
        "1.249.A.vs.terminases.txt                     100%  163     0.2KB/s   00:00    \r\n",
        "\r",
        "1.249.B.vs.terminases.txt                       0%    0     0.0KB/s   --:-- ETA"
       ]
      },
      {
       "output_type": "stream",
       "stream": "stdout",
       "text": [
        "\r",
        "1.249.B.vs.terminases.txt                     100%  165     0.2KB/s   00:00    \r\n",
        "\r",
        "2.092.O.vs.terminases.txt                       0%    0     0.0KB/s   --:-- ETA\r",
        "2.092.O.vs.terminases.txt                     100%  322     0.3KB/s   00:00    \r\n"
       ]
      }
     ],
     "prompt_number": 90
    },
    {
     "cell_type": "markdown",
     "metadata": {},
     "source": [
      "interestingly some of these contigs don't have any sequence that resembles a terminase, shown by the fact that they have no blast matches and thus 0 bytes in the blast results... if I can't identify a terminase, how can I determine what the genome orientation is? "
     ]
    },
    {
     "cell_type": "code",
     "collapsed": false,
     "input": [
      "groupfile=open(\"group15.txt\")\n",
      "for line in groupfile:\n",
      "    name=line.rstrip(\"\\n\")\n",
      "    \n",
      "    blastoutputname=name+\"vs.terminases.txt\"\n",
      "    blastout=open(blastoutputname)\n",
      "    blastout=blastout.read()\n",
      "    vec=blastout.split(\"\\t\")\n",
      "    if len(vec)>2:\n",
      "        start=int(vec[6])\n",
      "        inputfasta=name+\"step1.contig1.fasta\"\n",
      "        f=Fasta(inputfasta)\n",
      "        viromelen=len(f[0])\n",
      "        threshhold=len(f[0])/2\n",
      "        sequence=str(f[0])\n",
      "        seq=Seq(str(sequence))\n",
      "        outfasta=open(name+\"s1c1.oc.fasta\",\"w\")\n",
      "        outfasta.write(\">\"+name+\"\\n\")\n",
      "\n",
      "        if start>threshhold:\n",
      "            print(name+\": must reverse sequence \")\n",
      "            out_seq=seq.reverse_complement()\n",
      "    \n",
      "        else:\n",
      "            print(name+\": sequence is in correct orientation\")\n",
      "            out_seq=seq\n",
      "        outfasta.write(str(out_seq))\n",
      "        outfasta.close()\n",
      "    else:\n",
      "        print(name+\": no blast match\")"
     ],
     "language": "python",
     "metadata": {},
     "outputs": [
      {
       "output_type": "stream",
       "stream": "stdout",
       "text": [
        "1.020.O.: no blast match\n",
        "1.011.O.: must reverse sequence \n",
        "1.040.O.: sequence is in correct orientation\n",
        "1.043.O.: no blast match\n",
        "1.044.O.: no blast match\n",
        "1.048.O.: no blast match\n",
        "1.057.O.: no blast match\n",
        "1.062.O.: must reverse sequence \n",
        "1.080.O.: no blast match\n",
        "1.095.O.: no blast match\n",
        "1.102.O.: no blast match\n",
        "1.125.O.: sequence is in correct orientation\n",
        "1.141.A.: no blast match\n",
        "2.092.O.: sequence is in correct orientation\n",
        "1.008.O.: must reverse sequence "
       ]
      },
      {
       "output_type": "stream",
       "stream": "stdout",
       "text": [
        "\n",
        "1.069.O.: must reverse sequence \n",
        "1.107.B.: no blast match\n",
        "1.107.C.: no blast match\n",
        "1.107.A.: no blast match\n",
        "1.249.A.: must reverse sequence \n",
        "1.249.B.: must reverse sequence \n",
        "1.141.A.: no blast match\n"
       ]
      }
     ],
     "prompt_number": 95
    },
    {
     "cell_type": "code",
     "collapsed": false,
     "input": [],
     "language": "python",
     "metadata": {},
     "outputs": []
    }
   ],
   "metadata": {}
  }
 ]
}