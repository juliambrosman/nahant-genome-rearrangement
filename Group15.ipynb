{
 "metadata": {
  "name": "",
  "signature": "sha256:1050686602c88c80fbde8367cceddaddeb605dee677ec8d0862eb9e4db61ae97"
 },
 "nbformat": 3,
 "nbformat_minor": 0,
 "worksheets": [
  {
   "cells": [
    {
     "cell_type": "code",
     "collapsed": false,
     "input": [
      "pwd"
     ],
     "language": "python",
     "metadata": {},
     "outputs": [
      {
       "metadata": {},
       "output_type": "pyout",
       "prompt_number": 1,
       "text": [
        "u'/Users/jmb/Desktop/ViralFate/PhageGenomeAssembly'"
       ]
      }
     ],
     "prompt_number": 1
    },
    {
     "cell_type": "code",
     "collapsed": false,
     "input": [
      "import os\n",
      "group=\"group15\"\n",
      "\n",
      "prelim_groups=open(\"phage_by_group.txt\")\n",
      "phage_grp={}\n",
      "for line in prelim_groups.readlines():\n",
      "    line=line.rstrip(\"\\n\")\n",
      "    vec=line.split(\"\\t\")\n",
      "    phage_grp[vec[0]]=vec[1]\n",
      "groups=list(phage_grp.values())\n",
      "unique=[]\n",
      "for value in groups:\n",
      "    if value not in unique:\n",
      "        unique.append(value)\n",
      "group15=[]\n",
      "for value in phage_grp.keys():\n",
      "    if phage_grp.get(value)=='CNSv2.0:15':\n",
      "        group15.append(value)\n",
      "print(group15)\n",
      "os.chdir(\"./\"+group)"
     ],
     "language": "python",
     "metadata": {},
     "outputs": [
      {
       "output_type": "stream",
       "stream": "stdout",
       "text": [
        "['2.092.O.', '1.011.O.', '1.141.A.', '1.095.O.', '1.107.B.', '1.069.O.', '1.008.O.', '1.102.O.', '1.107.C.', '1.080.O.', '1.062.O.', '1.043.O.', '1.249.B.', '1.249.A.', '1.020.O.', '1.048.O.', '1.057.O.', '1.125.O.', '1.044.O.', '1.107.A.', '1.040.O.']\n"
       ]
      }
     ],
     "prompt_number": 1
    },
    {
     "cell_type": "code",
     "collapsed": false,
     "input": [],
     "language": "python",
     "metadata": {},
     "outputs": [],
     "prompt_number": 11
    },
    {
     "cell_type": "code",
     "collapsed": false,
     "input": [],
     "language": "python",
     "metadata": {},
     "outputs": [],
     "prompt_number": 12
    },
    {
     "cell_type": "code",
     "collapsed": false,
     "input": [
      "!scp move_group15.sh jbrown@eofe4.mit.edu:/nobackup1/jbrown/nahant_phage_reads/"
     ],
     "language": "python",
     "metadata": {},
     "outputs": [
      {
       "output_type": "stream",
       "stream": "stdout",
       "text": [
        "\r",
        "move_group15.sh                                 0%    0     0.0KB/s   --:-- ETA\r",
        "move_group15.sh                               100%  638     0.6KB/s   00:00    \r\n"
       ]
      }
     ],
     "prompt_number": 13
    },
    {
     "cell_type": "raw",
     "metadata": {},
     "source": [
      "On the server:\n",
      "ls *fastq>group15_fastqlist.txt"
     ]
    },
    {
     "cell_type": "code",
     "collapsed": false,
     "input": [
      "!scp jbrown@eofe4.mit.edu:/nobackup1/jbrown/nahant_phage_reads/group15/group15_fastqlist.txt ./"
     ],
     "language": "python",
     "metadata": {},
     "outputs": [
      {
       "output_type": "stream",
       "stream": "stdout",
       "text": [
        "\r",
        "group15_fastqlist.txt                           0%    0     0.0KB/s   --:-- ETA\r",
        "group15_fastqlist.txt                         100%  617     0.6KB/s   00:01    \r\n"
       ]
      }
     ],
     "prompt_number": 15
    },
    {
     "cell_type": "code",
     "collapsed": false,
     "input": [
      "step1c1=open(\"step1.contig1.sh\",\"w\")\n",
      "step1c1.write(\"#!/bin/bash\\n#SBATCH -n 16\\n#SBATCH -N 1\\n#SBATCH -o s1c1.out\\n#SBATCH -e s1c1.err\\n#SBATCH -p newnodes\\n\\n\")\n",
      "step1c1.write(\"module add engaging/clc-assembly-cell\\nmodule add engaging/samtools/1.1\\nmodule add engaging/bedtools/2.22.1\\n\\n\")\n",
      "for line in group15:\n",
      "    name=line.rstrip(\"\\n\")\n",
      "    step1c1.write(\"\\n\\n#\"+name+\"\\nclc_assembler -o \"+name+\"step1.clc.fasta -m 500 -w 64 -p fb ss 100 300 -q \"+ name+\"*.fastq\\n\")\n",
      "    step1c1.write(\"samtools faidx \"+name+\"step1.clc.fasta 'contig_1'>\"+name+\"step1.contig1.fasta\\n\\nclc_mapper -o \"+name+\"step1.contig1.cas -p fb ss 100 300 -q \"+name+\"*.fastq -d \"+name+\"step1.contig1.fasta -a local -r ignore\\n\")\n",
      "    step1c1.write(\"clc_cas_to_sam -a \"+name+\"step1.contig1.cas -o \"+name+\"step1.contig1.bam\\n\\nsamtools sort \"+name+\"step1.contig1.bam \"+name+\"sorted.step1.contig1\\nsamtools index \"+name+\"sorted.step1.contig1.bam\\n\\nbedtools genomecov -ibam \"+name+\"sorted.step1.contig1.bam -d > \"+name+\"step1.contig1.genomecoverage.txt\\n\\n\")\n",
      "    \n",
      "step1c1.close()\n",
      "!open step1.contig1.sh -a textedit"
     ],
     "language": "python",
     "metadata": {},
     "outputs": [],
     "prompt_number": 5
    },
    {
     "cell_type": "code",
     "collapsed": false,
     "input": [
      "!scp step1.contig1.sh jbrown@eofe4.mit.edu:/nobackup1/jbrown/nahant_phage_reads/group15/"
     ],
     "language": "python",
     "metadata": {},
     "outputs": [
      {
       "output_type": "stream",
       "stream": "stdout",
       "text": [
        "\r",
        "step1.contig1.sh                                0%    0     0.0KB/s   --:-- ETA\r",
        "step1.contig1.sh                              100%   13KB  12.6KB/s   00:00    \r\n"
       ]
      }
     ],
     "prompt_number": 6
    },
    {
     "cell_type": "code",
     "collapsed": false,
     "input": [
      "!scp jbrown@eofe4.mit.edu:/nobackup1/jbrown/nahant_phage_reads/group15/*step1.contig1.fasta ./"
     ],
     "language": "python",
     "metadata": {},
     "outputs": [
      {
       "output_type": "stream",
       "stream": "stdout",
       "text": [
        "\r",
        "1.008.O.step1.contig1.fasta                     0%    0     0.0KB/s   --:-- ETA"
       ]
      },
      {
       "output_type": "stream",
       "stream": "stdout",
       "text": [
        "\r",
        "1.008.O.step1.contig1.fasta                   100% 9683     9.5KB/s   00:00    \r\n",
        "\r",
        "1.011.O.step1.contig1.fasta                     0%    0     0.0KB/s   --:-- ETA"
       ]
      },
      {
       "output_type": "stream",
       "stream": "stdout",
       "text": [
        "\r",
        "1.011.O.step1.contig1.fasta                   100%   10KB  10.4KB/s   00:00    \r\n",
        "\r",
        "1.020.O.step1.contig1.fasta                     0%    0     0.0KB/s   --:-- ETA"
       ]
      },
      {
       "output_type": "stream",
       "stream": "stdout",
       "text": [
        "\r",
        "1.020.O.step1.contig1.fasta                   100%  739     0.7KB/s   00:00    \r\n",
        "\r",
        "1.040.O.step1.contig1.fasta                     0%    0     0.0KB/s   --:-- ETA"
       ]
      },
      {
       "output_type": "stream",
       "stream": "stdout",
       "text": [
        "\r",
        "1.040.O.step1.contig1.fasta                   100% 9974     9.7KB/s   00:00    \r\n",
        "\r",
        "1.043.O.step1.contig1.fasta                     0%    0     0.0KB/s   --:-- ETA"
       ]
      },
      {
       "output_type": "stream",
       "stream": "stdout",
       "text": [
        "\r",
        "1.043.O.step1.contig1.fasta                   100% 8757     8.6KB/s   00:00    \r\n",
        "\r",
        "1.044.O.step1.contig1.fasta                     0%    0     0.0KB/s   --:-- ETA"
       ]
      },
      {
       "output_type": "stream",
       "stream": "stdout",
       "text": [
        "\r",
        "1.044.O.step1.contig1.fasta                   100%   10KB  10.1KB/s   00:00    \r\n",
        "\r",
        "1.048.O.step1.contig1.fasta                     0%    0     0.0KB/s   --:-- ETA"
       ]
      },
      {
       "output_type": "stream",
       "stream": "stdout",
       "text": [
        "\r",
        "1.048.O.step1.contig1.fasta                   100%   10KB  10.3KB/s   00:00    \r\n"
       ]
      },
      {
       "output_type": "stream",
       "stream": "stdout",
       "text": [
        "\r",
        "1.057.O.step1.contig1.fasta                     0%    0     0.0KB/s   --:-- ETA"
       ]
      },
      {
       "output_type": "stream",
       "stream": "stdout",
       "text": [
        "\r",
        "1.057.O.step1.contig1.fasta                   100%   10KB  10.1KB/s   00:00    \r\n",
        "\r",
        "1.062.O.step1.contig1.fasta                     0%    0     0.0KB/s   --:-- ETA"
       ]
      },
      {
       "output_type": "stream",
       "stream": "stdout",
       "text": [
        "\r",
        "1.062.O.step1.contig1.fasta                   100%   10KB  10.4KB/s   00:00    \r\n",
        "\r",
        "1.069.O.step1.contig1.fasta                     0%    0     0.0KB/s   --:-- ETA"
       ]
      },
      {
       "output_type": "stream",
       "stream": "stdout",
       "text": [
        "\r",
        "1.069.O.step1.contig1.fasta                   100% 9679     9.5KB/s   00:00    \r\n",
        "\r",
        "1.080.O.step1.contig1.fasta                     0%    0     0.0KB/s   --:-- ETA"
       ]
      },
      {
       "output_type": "stream",
       "stream": "stdout",
       "text": [
        "\r",
        "1.080.O.step1.contig1.fasta                   100%   10KB   9.9KB/s   00:00    \r\n"
       ]
      },
      {
       "output_type": "stream",
       "stream": "stdout",
       "text": [
        "\r",
        "1.095.O.step1.contig1.fasta                     0%    0     0.0KB/s   --:-- ETA\r",
        "1.095.O.step1.contig1.fasta                   100%   10KB  10.3KB/s   00:00    \r\n"
       ]
      },
      {
       "output_type": "stream",
       "stream": "stdout",
       "text": [
        "\r",
        "1.102.O.step1.contig1.fasta                     0%    0     0.0KB/s   --:-- ETA\r",
        "1.102.O.step1.contig1.fasta                   100% 8968     8.8KB/s   00:00    \r\n"
       ]
      },
      {
       "output_type": "stream",
       "stream": "stdout",
       "text": [
        "\r",
        "1.107.A.step1.contig1.fasta                     0%    0     0.0KB/s   --:-- ETA\r",
        "1.107.A.step1.contig1.fasta                   100%   10KB  10.3KB/s   00:00    \r\n"
       ]
      },
      {
       "output_type": "stream",
       "stream": "stdout",
       "text": [
        "\r",
        "1.107.B.step1.contig1.fasta                     0%    0     0.0KB/s   --:-- ETA\r",
        "1.107.B.step1.contig1.fasta                   100%   10KB  10.3KB/s   00:00    \r\n"
       ]
      },
      {
       "output_type": "stream",
       "stream": "stdout",
       "text": [
        "\r",
        "1.107.C.step1.contig1.fasta                     0%    0     0.0KB/s   --:-- ETA"
       ]
      },
      {
       "output_type": "stream",
       "stream": "stdout",
       "text": [
        "\r",
        "1.107.C.step1.contig1.fasta                   100%   10KB  10.3KB/s   00:00    \r\n",
        "\r",
        "1.125.O.step1.contig1.fasta                     0%    0     0.0KB/s   --:-- ETA"
       ]
      },
      {
       "output_type": "stream",
       "stream": "stdout",
       "text": [
        "\r",
        "1.125.O.step1.contig1.fasta                   100%   10KB  10.4KB/s   00:00    \r\n",
        "\r",
        "1.141.A.step1.contig1.fasta                     0%    0     0.0KB/s   --:-- ETA"
       ]
      },
      {
       "output_type": "stream",
       "stream": "stdout",
       "text": [
        "\r",
        "1.141.A.step1.contig1.fasta                   100%   10KB   9.9KB/s   00:00    \r\n"
       ]
      },
      {
       "output_type": "stream",
       "stream": "stdout",
       "text": [
        "\r",
        "1.249.A.step1.contig1.fasta                     0%    0     0.0KB/s   --:-- ETA\r",
        "1.249.A.step1.contig1.fasta                   100%   10KB  10.2KB/s   00:00    \r\n"
       ]
      },
      {
       "output_type": "stream",
       "stream": "stdout",
       "text": [
        "\r",
        "1.249.B.step1.contig1.fasta                     0%    0     0.0KB/s   --:-- ETA\r",
        "1.249.B.step1.contig1.fasta                   100%   11KB  10.6KB/s   00:00    \r\n"
       ]
      },
      {
       "output_type": "stream",
       "stream": "stdout",
       "text": [
        "\r",
        "2.092.O.step1.contig1.fasta                     0%    0     0.0KB/s   --:-- ETA\r",
        "2.092.O.step1.contig1.fasta                   100% 9686     9.5KB/s   00:00    \r\n"
       ]
      }
     ],
     "prompt_number": 36
    },
    {
     "cell_type": "code",
     "collapsed": false,
     "input": [
      "%%R\n",
      "#make coverage plots for each contig1 in group 15:\n",
      "pdf(\"group15.combinedplot.png\", width=5, height=5)\n",
      "layout(matrix(c(1:22),11,2,byrow=TRUE), heights=c(15,15,15,15,15,15,15,15,15,15,15), widths=c(15,15))\n",
      "for (item in alignments){\n",
      "    filename<-paste(item,\"step1.genomecoverage.txt\",sep=\"\")\n",
      "    coverage<-read.table(filename, sep=\"\\t\")\n",
      "    contig1<-filter(coverage, V1==\"contig_1\")\n",
      "    pdf(paste(item,\"coverage.plot.pdf\", sep=\"\"))\n",
      "    with(contig1, plot(V2, V3, type=\"n\",xlab=\"position\",ylab=\"coverage\", main=item))\n",
      "    with(contig1, lines(V2,V3))\n",
      "    dev.off()\n",
      "}\n",
      "dev.off()"
     ],
     "language": "python",
     "metadata": {},
     "outputs": []
    },
    {
     "cell_type": "code",
     "collapsed": false,
     "input": [
      "!scp jbrown@eofe4.mit.edu:/nobackup1/jbrown/nahant_phage_reads/group15/*pdf* ./"
     ],
     "language": "python",
     "metadata": {},
     "outputs": [
      {
       "output_type": "stream",
       "stream": "stdout",
       "text": [
        "\r",
        "Rplots.pdf                                      0%    0     0.0KB/s   --:-- ETA\r",
        "Rplots.pdf                                    100%  163     0.2KB/s   00:00    \r\n"
       ]
      }
     ],
     "prompt_number": 28
    },
    {
     "cell_type": "markdown",
     "metadata": {},
     "source": [
      "Ran the above R code on the server, and it took more than two hours to make coverage plots.  I think this may be because some files have too many contigs in them when we're probably most interested in just contig1.  Next I'll extract contig 1 from each of the files and re-run read recruitment on just contig1:"
     ]
    },
    {
     "cell_type": "raw",
     "metadata": {},
     "source": [
      "samtools faidx assembly.fasta.output.fasta 'contig_1'>assembly.fasta.ouput.contig1.fasta"
     ]
    },
    {
     "cell_type": "code",
     "collapsed": false,
     "input": [
      "group=open(\"Group15.txt\")\n",
      "step1c1=open(\"step1.contig1.sh\",\"w\")\n",
      "for line in group:\n",
      "    name=line.rstrip(\"\\n\")\n",
      "    step1c1.write(\"samtools faidx \"+name+\"step1.clc.fasta 'contig_1'>\"+name+\"step1.contig1.fasta\\n\\nclc_mapper -o \"+name+\"step1.contig1.cas -p fb ss 100 300 -q \"+name+\"*.fastq -d \"+name+\"step1.contig1.fasta -a local -r ignore\\n\")\n",
      "    step1c1.write(\"clc_cas_to_sam -a \"+name+\"step1.contig1.cas -o \"+name+\"step1.contig1.bam\\n\\nsamtools sort \"+name+\"step1.contig1.bam \"+name+\"sorted.step1.contig1\\nsamtools index \"+name+\"sorted.step1.contig1.bam\\n\\nbedtools genomecov -ibam \"+name+\"sorted.step1.contig1.bam -d > \"+name+\"step1.contig1.genomecoverage.txt\\n\\n\")\n",
      "step1c1.close()"
     ],
     "language": "python",
     "metadata": {},
     "outputs": [],
     "prompt_number": 41
    },
    {
     "cell_type": "code",
     "collapsed": false,
     "input": [
      "!open step1.contig1.sh -a textedit"
     ],
     "language": "python",
     "metadata": {},
     "outputs": [],
     "prompt_number": 42
    },
    {
     "cell_type": "raw",
     "metadata": {},
     "source": [
      "#!/bin/bash                                                                                                                                                                \n",
      "#SBATCH -n 16                                                                                                                                                              \n",
      "#SBATCH -N 1                                                                                                                    \n",
      "#SBATCH -o step1.contig1.out      # File to which STDOUT will be written                                                                                   \n",
      "#SBATCH -e step1.contig1.err      # File to which STDERR will be written                                                                                   \n",
      "#SBATCH -p newnodes                # name of partition to use      \n",
      "\n",
      "\n",
      "module add engaging/clc-assembly-cell\n",
      "module add engaging/samtools/1.1\n",
      "module add engaging/bedtools/2.22.1"
     ]
    },
    {
     "cell_type": "code",
     "collapsed": false,
     "input": [
      "!scp step1.contig1.sh jbrown@eofe4.mit.edu:/nobackup1/jbrown/nahant_phage_reads/group15/"
     ],
     "language": "python",
     "metadata": {},
     "outputs": [
      {
       "output_type": "stream",
       "stream": "stdout",
       "text": [
        "\r",
        "step1.contig1.sh                                0%    0     0.0KB/s   --:-- ETA\r",
        "step1.contig1.sh                              100%   12KB  11.7KB/s   00:00    \r\n"
       ]
      }
     ],
     "prompt_number": 43
    },
    {
     "cell_type": "code",
     "collapsed": false,
     "input": [],
     "language": "python",
     "metadata": {},
     "outputs": []
    },
    {
     "cell_type": "code",
     "collapsed": false,
     "input": [
      "%%R \n",
      "virusnames<-read.table(\"Group15.txt\")\n",
      "alignments<-vector()\n",
      "for (item in virusnames){\n",
      "    #alignments<-c(alignments, paste(item,'step1.genomecoverage.txt',sep=\"\"))\n",
      "    alignments<-c(alignments,as.character(item))\n",
      "    }\n",
      "print(alignments)\n",
      "for (item in alignments){\n",
      "    filename<-paste(item,\"step1.contig1.genomecoverage.txt\",sep=\"\")\n",
      "    coverage<-read.table(filename, sep=\"\\t\")\n",
      "    pdf(paste(item,\"step1.contig1.coverage.plot.pdf\", sep=\"\"))\n",
      "    with(coverage, plot(V2, V3, type=\"n\",xlab=\"position\",ylab=\"coverage\", main=item))\n",
      "    with(coverage, lines(V2,V3))\n",
      "    dev.off()\n",
      "}"
     ],
     "language": "python",
     "metadata": {},
     "outputs": []
    },
    {
     "cell_type": "code",
     "collapsed": false,
     "input": [
      "!scp jbrown@eofe4.mit.edu:/nobackup1/jbrown/nahant_phage_reads/group15/*contig1*pdf* ./"
     ],
     "language": "python",
     "metadata": {},
     "outputs": [
      {
       "output_type": "stream",
       "stream": "stdout",
       "text": [
        "\r",
        "1.008.O.step1.contig1.coverage.plot.pdf         0%    0     0.0KB/s   --:-- ETA"
       ]
      },
      {
       "output_type": "stream",
       "stream": "stdout",
       "text": [
        "\r",
        "1.008.O.step1.contig1.coverage.plot.pdf       100%   45KB  45.4KB/s   00:00    \r\n",
        "\r",
        "1.011.O.step1.contig1.coverage.plot.pdf         0%    0     0.0KB/s   --:-- ETA"
       ]
      },
      {
       "output_type": "stream",
       "stream": "stdout",
       "text": [
        "\r",
        "1.011.O.step1.contig1.coverage.plot.pdf       100%   50KB  50.3KB/s   00:00    \r\n",
        "\r",
        "1.020.O.step1.contig1.coverage.plot.pdf         0%    0     0.0KB/s   --:-- ETA"
       ]
      },
      {
       "output_type": "stream",
       "stream": "stdout",
       "text": [
        "\r",
        "1.020.O.step1.contig1.coverage.plot.pdf       100% 7029     6.9KB/s   00:00    \r\n",
        "\r",
        "1.040.O.step1.contig1.coverage.plot.pdf         0%    0     0.0KB/s   --:-- ETA"
       ]
      },
      {
       "output_type": "stream",
       "stream": "stdout",
       "text": [
        "\r",
        "1.040.O.step1.contig1.coverage.plot.pdf       100%   51KB  51.2KB/s   00:00    \r\n"
       ]
      },
      {
       "output_type": "stream",
       "stream": "stdout",
       "text": [
        "\r",
        "1.043.O.step1.contig1.coverage.plot.pdf         0%    0     0.0KB/s   --:-- ETA\r",
        "1.043.O.step1.contig1.coverage.plot.pdf       100%   47KB  46.6KB/s   00:00    \r\n",
        "\r",
        "1.044.O.step1.contig1.coverage.plot.pdf         0%    0     0.0KB/s   --:-- ETA"
       ]
      },
      {
       "output_type": "stream",
       "stream": "stdout",
       "text": [
        "\r",
        "1.044.O.step1.contig1.coverage.plot.pdf       100%   51KB  51.4KB/s   00:00    \r\n"
       ]
      },
      {
       "output_type": "stream",
       "stream": "stdout",
       "text": [
        "\r",
        "1.048.O.step1.contig1.coverage.plot.pdf         0%    0     0.0KB/s   --:-- ETA"
       ]
      },
      {
       "output_type": "stream",
       "stream": "stdout",
       "text": [
        "\r",
        "1.048.O.step1.contig1.coverage.plot.pdf       100%   51KB  51.5KB/s   00:00    \r\n",
        "\r",
        "1.057.O.step1.contig1.coverage.plot.pdf         0%    0     0.0KB/s   --:-- ETA"
       ]
      },
      {
       "output_type": "stream",
       "stream": "stdout",
       "text": [
        "\r",
        "1.057.O.step1.contig1.coverage.plot.pdf       100%   55KB  54.9KB/s   00:00    \r\n",
        "\r",
        "1.062.O.step1.contig1.coverage.plot.pdf         0%    0     0.0KB/s   --:-- ETA"
       ]
      },
      {
       "output_type": "stream",
       "stream": "stdout",
       "text": [
        "\r",
        "1.062.O.step1.contig1.coverage.plot.pdf       100%   54KB  53.7KB/s   00:00    \r\n",
        "\r",
        "1.069.O.step1.contig1.coverage.plot.pdf         0%    0     0.0KB/s   --:-- ETA"
       ]
      },
      {
       "output_type": "stream",
       "stream": "stdout",
       "text": [
        "\r",
        "1.069.O.step1.contig1.coverage.plot.pdf       100%   51KB  50.8KB/s   00:00    \r\n",
        "\r",
        "1.080.O.step1.contig1.coverage.plot.pdf         0%    0     0.0KB/s   --:-- ETA"
       ]
      },
      {
       "output_type": "stream",
       "stream": "stdout",
       "text": [
        "\r",
        "1.080.O.step1.contig1.coverage.plot.pdf       100%   53KB  52.6KB/s   00:00    \r\n",
        "\r",
        "1.095.O.step1.contig1.coverage.plot.pdf         0%    0     0.0KB/s   --:-- ETA"
       ]
      },
      {
       "output_type": "stream",
       "stream": "stdout",
       "text": [
        "\r",
        "1.095.O.step1.contig1.coverage.plot.pdf       100%   54KB  53.7KB/s   00:00    \r\n",
        "\r",
        "1.102.O.step1.contig1.coverage.plot.pdf         0%    0     0.0KB/s   --:-- ETA"
       ]
      },
      {
       "output_type": "stream",
       "stream": "stdout",
       "text": [
        "\r",
        "1.102.O.step1.contig1.coverage.plot.pdf       100%   47KB  47.0KB/s   00:00    \r\n",
        "\r",
        "1.107.A.step1.contig1.coverage.plot.pdf         0%    0     0.0KB/s   --:-- ETA"
       ]
      },
      {
       "output_type": "stream",
       "stream": "stdout",
       "text": [
        "\r",
        "1.107.A.step1.contig1.coverage.plot.pdf       100%   55KB  55.4KB/s   00:00    \r\n",
        "\r",
        "1.107.B.step1.contig1.coverage.plot.pdf         0%    0     0.0KB/s   --:-- ETA"
       ]
      },
      {
       "output_type": "stream",
       "stream": "stdout",
       "text": [
        "\r",
        "1.107.B.step1.contig1.coverage.plot.pdf       100%   55KB  55.2KB/s   00:00    \r\n",
        "\r",
        "1.107.C.step1.contig1.coverage.plot.pdf         0%    0     0.0KB/s   --:-- ETA"
       ]
      },
      {
       "output_type": "stream",
       "stream": "stdout",
       "text": [
        "\r",
        "1.107.C.step1.contig1.coverage.plot.pdf       100%   55KB  55.0KB/s   00:00    \r\n",
        "\r",
        "1.125.O.step1.contig1.coverage.plot.pdf         0%    0     0.0KB/s   --:-- ETA"
       ]
      },
      {
       "output_type": "stream",
       "stream": "stdout",
       "text": [
        "\r",
        "1.125.O.step1.contig1.coverage.plot.pdf       100%   56KB  56.1KB/s   00:00    \r\n",
        "\r",
        "1.141.A.step1.contig1.coverage.plot.pdf         0%    0     0.0KB/s   --:-- ETA"
       ]
      },
      {
       "output_type": "stream",
       "stream": "stdout",
       "text": [
        "\r",
        "1.141.A.step1.contig1.coverage.plot.pdf       100%   53KB  53.3KB/s   00:00    \r\n",
        "\r",
        "1.249.A.step1.contig1.coverage.plot.pdf         0%    0     0.0KB/s   --:-- ETA"
       ]
      },
      {
       "output_type": "stream",
       "stream": "stdout",
       "text": [
        "\r",
        "1.249.A.step1.contig1.coverage.plot.pdf       100%   55KB  54.9KB/s   00:00    \r\n",
        "\r",
        "1.249.B.step1.contig1.coverage.plot.pdf         0%    0     0.0KB/s   --:-- ETA"
       ]
      },
      {
       "output_type": "stream",
       "stream": "stdout",
       "text": [
        "\r",
        "1.249.B.step1.contig1.coverage.plot.pdf       100%   54KB  53.9KB/s   00:00    \r\n",
        "\r",
        "2.092.O.step1.contig1.coverage.plot.pdf         0%    0     0.0KB/s   --:-- ETA"
       ]
      },
      {
       "output_type": "stream",
       "stream": "stdout",
       "text": [
        "\r",
        "2.092.O.step1.contig1.coverage.plot.pdf       100%   49KB  49.5KB/s   00:00    \r\n"
       ]
      }
     ],
     "prompt_number": 44
    },
    {
     "cell_type": "code",
     "collapsed": false,
     "input": [
      "!scp jbrown@eofe4.mit.edu:/nobackup1/jbrown/nahant_phage_reads/group15/*step1.clc.fasta ./"
     ],
     "language": "python",
     "metadata": {},
     "outputs": [
      {
       "output_type": "stream",
       "stream": "stdout",
       "text": [
        "\r",
        "1.008.O.step1.clc.fasta                         0%    0     0.0KB/s   --:-- ETA"
       ]
      },
      {
       "output_type": "stream",
       "stream": "stdout",
       "text": [
        "\r",
        "1.008.O.step1.clc.fasta                       100% 9683     9.5KB/s   00:00    \r\n",
        "\r",
        "1.011.O.step1.clc.fasta                         0%    0     0.0KB/s   --:-- ETA"
       ]
      },
      {
       "output_type": "stream",
       "stream": "stdout",
       "text": [
        "\r",
        "1.011.O.step1.clc.fasta                       100%   13KB  13.5KB/s   00:00    \r\n",
        "\r",
        "1.020.O.step1.clc.fasta                         0%    0     0.0KB/s   --:-- ETA"
       ]
      },
      {
       "output_type": "stream",
       "stream": "stdout",
       "text": [
        "\r",
        "1.020.O.step1.clc.fasta                       100%  153KB 153.0KB/s   00:00    \r\n",
        "\r",
        "1.040.O.step1.clc.fasta                         0%    0     0.0KB/s   --:-- ETA"
       ]
      },
      {
       "output_type": "stream",
       "stream": "stdout",
       "text": [
        "\r",
        "1.040.O.step1.clc.fasta                       100%   70KB  69.7KB/s   00:00    \r\n"
       ]
      },
      {
       "output_type": "stream",
       "stream": "stdout",
       "text": [
        "\r",
        "1.043.O.step1.clc.fasta                         0%    0     0.0KB/s   --:-- ETA\r",
        "1.043.O.step1.clc.fasta                       100%   51KB  50.9KB/s   00:00    \r\n",
        "\r",
        "1.044.O.step1.clc.fasta                         0%    0     0.0KB/s   --:-- ETA"
       ]
      },
      {
       "output_type": "stream",
       "stream": "stdout",
       "text": [
        "\r",
        "1.044.O.step1.clc.fasta                       100%   11KB  11.1KB/s   00:00    \r\n",
        "\r",
        "1.048.O.step1.clc.fasta                         0%    0     0.0KB/s   --:-- ETA"
       ]
      },
      {
       "output_type": "stream",
       "stream": "stdout",
       "text": [
        "\r",
        "1.048.O.step1.clc.fasta                       100%   20KB  20.1KB/s   00:00    \r\n"
       ]
      },
      {
       "output_type": "stream",
       "stream": "stdout",
       "text": [
        "\r",
        "1.057.O.step1.clc.fasta                         0%    0     0.0KB/s   --:-- ETA\r",
        "1.057.O.step1.clc.fasta                       100%   10KB  10.1KB/s   00:00    \r\n"
       ]
      },
      {
       "output_type": "stream",
       "stream": "stdout",
       "text": [
        "\r",
        "1.062.O.step1.clc.fasta                         0%    0     0.0KB/s   --:-- ETA"
       ]
      },
      {
       "output_type": "stream",
       "stream": "stdout",
       "text": [
        "\r",
        "1.062.O.step1.clc.fasta                       100%   30KB  30.1KB/s   00:00    \r\n",
        "\r",
        "1.069.O.step1.clc.fasta                         0%    0     0.0KB/s   --:-- ETA"
       ]
      },
      {
       "output_type": "stream",
       "stream": "stdout",
       "text": [
        "\r",
        "1.069.O.step1.clc.fasta                       100%   19KB  18.7KB/s   00:00    \r\n",
        "\r",
        "1.080.O.step1.clc.fasta                         0%    0     0.0KB/s   --:-- ETA"
       ]
      },
      {
       "output_type": "stream",
       "stream": "stdout",
       "text": [
        "\r",
        "1.080.O.step1.clc.fasta                       100%   10KB   9.9KB/s   00:00    \r\n",
        "\r",
        "1.095.O.step1.clc.fasta                         0%    0     0.0KB/s   --:-- ETA"
       ]
      },
      {
       "output_type": "stream",
       "stream": "stdout",
       "text": [
        "\r",
        "1.095.O.step1.clc.fasta                       100%   17KB  17.1KB/s   00:01    \r\n"
       ]
      },
      {
       "output_type": "stream",
       "stream": "stdout",
       "text": [
        "\r",
        "1.102.O.step1.clc.fasta                         0%    0     0.0KB/s   --:-- ETA\r",
        "1.102.O.step1.clc.fasta                       100%   12KB  12.4KB/s   00:00    \r\n"
       ]
      },
      {
       "output_type": "stream",
       "stream": "stdout",
       "text": [
        "\r",
        "1.107.A.step1.clc.fasta                         0%    0     0.0KB/s   --:-- ETA\r",
        "1.107.A.step1.clc.fasta                       100%   20KB  19.8KB/s   00:00    \r\n",
        "\r",
        "1.107.B.step1.clc.fasta                         0%    0     0.0KB/s   --:-- ETA"
       ]
      },
      {
       "output_type": "stream",
       "stream": "stdout",
       "text": [
        "\r",
        "1.107.B.step1.clc.fasta                       100%   14KB  13.6KB/s   00:00    \r\n",
        "\r",
        "1.107.C.step1.clc.fasta                         0%    0     0.0KB/s   --:-- ETA"
       ]
      },
      {
       "output_type": "stream",
       "stream": "stdout",
       "text": [
        "\r",
        "1.107.C.step1.clc.fasta                       100%   23KB  23.0KB/s   00:00    \r\n",
        "\r",
        "1.125.O.step1.clc.fasta                         0%    0     0.0KB/s   --:-- ETA"
       ]
      },
      {
       "output_type": "stream",
       "stream": "stdout",
       "text": [
        "\r",
        "1.125.O.step1.clc.fasta                       100%   10KB  10.4KB/s   00:00    \r\n",
        "\r",
        "1.141.A.step1.clc.fasta                         0%    0     0.0KB/s   --:-- ETA"
       ]
      },
      {
       "output_type": "stream",
       "stream": "stdout",
       "text": [
        "\r",
        "1.141.A.step1.clc.fasta                       100%   69KB  69.1KB/s   00:00    \r\n",
        "\r",
        "1.249.A.step1.clc.fasta                         0%    0     0.0KB/s   --:-- ETA"
       ]
      },
      {
       "output_type": "stream",
       "stream": "stdout",
       "text": [
        "\r",
        "1.249.A.step1.clc.fasta                       100%   17KB  17.1KB/s   00:00    \r\n"
       ]
      },
      {
       "output_type": "stream",
       "stream": "stdout",
       "text": [
        "\r",
        "1.249.B.step1.clc.fasta                         0%    0     0.0KB/s   --:-- ETA\r",
        "1.249.B.step1.clc.fasta                       100%   18KB  17.6KB/s   00:00    \r\n"
       ]
      },
      {
       "output_type": "stream",
       "stream": "stdout",
       "text": [
        "\r",
        "2.092.O.step1.clc.fasta                         0%    0     0.0KB/s   --:-- ETA"
       ]
      },
      {
       "output_type": "stream",
       "stream": "stdout",
       "text": [
        "\r",
        "2.092.O.step1.clc.fasta                       100% 9686     9.5KB/s   00:00    \r\n"
       ]
      }
     ],
     "prompt_number": 47
    },
    {
     "cell_type": "markdown",
     "metadata": {},
     "source": [
      "##Orientation Check:"
     ]
    },
    {
     "cell_type": "code",
     "collapsed": false,
     "input": [
      "from pyfaidx import Fasta\n",
      "from Bio.Seq import Seq"
     ],
     "language": "python",
     "metadata": {},
     "outputs": [],
     "prompt_number": 49
    },
    {
     "cell_type": "code",
     "collapsed": false,
     "input": [
      "#define groupfile:\n",
      "groupfile=open(\"group15.txt\")\n",
      "\n",
      "blast_commands=open(\"blast_commands.sh\",\"w\")\n",
      "for line in groupfile:\n",
      "    name=line.rstrip(\"\\n\")\n",
      "    inputfasta=name+\"step1.contig1.fasta\"\n",
      "    blastoutputname=name+\"vs.terminases.txt\"\n",
      "    blastcommand=\"blastx -db /nobackup1/jbrown/blast_db/NCBI_phage_terminases_20150414.fasta -query \"+inputfasta+\" -num_descriptions 1 -outfmt 6 -out \"+blastoutputname\n",
      "    blast_commands.write(blastcommand+\"\\n\")\n",
      "blast_commands.close()\n",
      "!open blast_commands.sh -a textedit"
     ],
     "language": "python",
     "metadata": {},
     "outputs": []
    },
    {
     "cell_type": "raw",
     "metadata": {},
     "source": [
      "#!/bin/bash                                                                                                                                                                \n",
      "#SBATCH -n 16                                                                                                                                                              \n",
      "#SBATCH -N 1                                                                                                                    \n",
      "#SBATCH -o terminase_blast.out      # File to which STDOUT will be written                                                                                   \n",
      "#SBATCH -e terminase_blast.err      # File to which STDERR will be written                                                                                   \n",
      "#SBATCH -p newnodes                # name of partition to use      \n",
      "\n",
      "module add engaging/ncbi-blast/2.2.30+\n"
     ]
    },
    {
     "cell_type": "code",
     "collapsed": false,
     "input": [
      "!scp blast_commands.sh jbrown@eofe4.mit.edu:/nobackup1/jbrown/nahant_phage_reads/group15/"
     ],
     "language": "python",
     "metadata": {},
     "outputs": []
    },
    {
     "cell_type": "code",
     "collapsed": false,
     "input": [
      "!scp jbrown@eofe4.mit.edu:/nobackup1/jbrown/nahant_phage_reads/group15/*vs* ./"
     ],
     "language": "python",
     "metadata": {},
     "outputs": [
      {
       "output_type": "stream",
       "stream": "stdout",
       "text": [
        "\r",
        "1.008.O.s1c1.vs.terminases.txt                  0%    0     0.0KB/s   --:-- ETA\r",
        "1.008.O.s1c1.vs.terminases.txt                100%   83     0.1KB/s   00:00    \r\n"
       ]
      },
      {
       "output_type": "stream",
       "stream": "stdout",
       "text": [
        "\r",
        "1.008.O.vs.terminases.txt                       0%    0     0.0KB/s   --:-- ETA\r",
        "1.008.O.vs.terminases.txt                     100%  322     0.3KB/s   00:00    \r\n"
       ]
      },
      {
       "output_type": "stream",
       "stream": "stdout",
       "text": [
        "\r",
        "1.011.O.vs.terminases.txt                       0%    0     0.0KB/s   --:-- ETA\r",
        "1.011.O.vs.terminases.txt                     100%  322     0.3KB/s   00:00    \r\n"
       ]
      },
      {
       "output_type": "stream",
       "stream": "stdout",
       "text": [
        "\r",
        "1.020.O.vs.terminases.txt                     100%    0     0.0KB/s   00:00    \r\n",
        "\r",
        "1.040.O.vs.terminases.txt                       0%    0     0.0KB/s   --:-- ETA"
       ]
      },
      {
       "output_type": "stream",
       "stream": "stdout",
       "text": [
        "\r",
        "1.040.O.vs.terminases.txt                     100%  322     0.3KB/s   00:00    \r\n",
        "\r",
        "1.043.O.vs.terminases.txt                     100%    0     0.0KB/s   00:00    \r\n"
       ]
      },
      {
       "output_type": "stream",
       "stream": "stdout",
       "text": [
        "\r",
        "1.044.O.vs.terminases.txt                     100%    0     0.0KB/s   00:00    \r\n"
       ]
      },
      {
       "output_type": "stream",
       "stream": "stdout",
       "text": [
        "\r",
        "1.048.O.vs.terminases.txt                     100%    0     0.0KB/s   00:00    \r\n"
       ]
      },
      {
       "output_type": "stream",
       "stream": "stdout",
       "text": [
        "\r",
        "1.057.O.vs.terminases.txt                     100%    0     0.0KB/s   00:00    \r\n"
       ]
      },
      {
       "output_type": "stream",
       "stream": "stdout",
       "text": [
        "\r",
        "1.062.O.vs.terminases.txt                       0%    0     0.0KB/s   --:-- ETA\r",
        "1.062.O.vs.terminases.txt                     100%  322     0.3KB/s   00:00    \r\n"
       ]
      },
      {
       "output_type": "stream",
       "stream": "stdout",
       "text": [
        "\r",
        "1.069.O.vs.terminases.txt                       0%    0     0.0KB/s   --:-- ETA\r",
        "1.069.O.vs.terminases.txt                     100%  322     0.3KB/s   00:00    \r\n",
        "\r",
        "1.080.O.vs.terminases.txt                     100%    0     0.0KB/s   00:00    \r\n"
       ]
      },
      {
       "output_type": "stream",
       "stream": "stdout",
       "text": [
        "\r",
        "1.095.O.vs.terminases.txt                     100%    0     0.0KB/s   00:00    \r\n"
       ]
      },
      {
       "output_type": "stream",
       "stream": "stdout",
       "text": [
        "\r",
        "1.102.O.vs.terminases.txt                     100%    0     0.0KB/s   00:00    \r\n"
       ]
      },
      {
       "output_type": "stream",
       "stream": "stdout",
       "text": [
        "\r",
        "1.107.A.vs.terminases.txt                     100%    0     0.0KB/s   00:00    \r\n"
       ]
      },
      {
       "output_type": "stream",
       "stream": "stdout",
       "text": [
        "\r",
        "1.107.B.vs.terminases.txt                     100%    0     0.0KB/s   00:00    \r\n"
       ]
      },
      {
       "output_type": "stream",
       "stream": "stdout",
       "text": [
        "\r",
        "1.107.C.vs.terminases.txt                     100%    0     0.0KB/s   00:00    \r\n",
        "\r",
        "1.125.O.vs.terminases.txt                       0%    0     0.0KB/s   --:-- ETA"
       ]
      },
      {
       "output_type": "stream",
       "stream": "stdout",
       "text": [
        "\r",
        "1.125.O.vs.terminases.txt                     100%  322     0.3KB/s   00:00    \r\n",
        "\r",
        "1.141.A.vs.terminases.txt                     100%    0     0.0KB/s   00:00    \r\n"
       ]
      },
      {
       "output_type": "stream",
       "stream": "stdout",
       "text": [
        "\r",
        "1.249.A.vs.terminases.txt                       0%    0     0.0KB/s   --:-- ETA"
       ]
      },
      {
       "output_type": "stream",
       "stream": "stdout",
       "text": [
        "\r",
        "1.249.A.vs.terminases.txt                     100%  163     0.2KB/s   00:00    \r\n",
        "\r",
        "1.249.B.vs.terminases.txt                       0%    0     0.0KB/s   --:-- ETA\r",
        "1.249.B.vs.terminases.txt                     100%  165     0.2KB/s   00:00    \r\n"
       ]
      },
      {
       "output_type": "stream",
       "stream": "stdout",
       "text": [
        "\r",
        "2.092.O.vs.terminases.txt                       0%    0     0.0KB/s   --:-- ETA\r",
        "2.092.O.vs.terminases.txt                     100%  322     0.3KB/s   00:00    \r\n"
       ]
      }
     ],
     "prompt_number": 51
    },
    {
     "cell_type": "code",
     "collapsed": false,
     "input": [
      "groupfile=open(\"group15.txt\")\n",
      "for line in groupfile:\n",
      "    name=line.rstrip(\"\\n\")\n",
      "    \n",
      "    blastoutputname=name+\"vs.terminases.txt\"\n",
      "    blastout=open(blastoutputname)\n",
      "    blastout=blastout.read()\n",
      "    vec=blastout.split(\"\\t\")\n",
      "    \n",
      "    if len(vec)>2:\n",
      "        start=int(vec[6])\n",
      "        inputfasta=name+\"step1.contig1.fasta\"\n",
      "        f=Fasta(inputfasta)\n",
      "        viromelen=len(f[0])\n",
      "        threshhold=len(f[0])/2\n",
      "        sequence=str(f[0])\n",
      "        seq=Seq(str(sequence))\n",
      "        outfasta=open(name+\"s1c1.oc.fasta\",\"w\")\n",
      "        outfasta.write(\">\"+name+\"\\n\")\n",
      "\n",
      "        if start>threshhold:\n",
      "            print(name+\": must reverse sequence \")\n",
      "            out_seq=seq.reverse_complement()\n",
      "    \n",
      "        else:\n",
      "            print(name+\": sequence is in correct orientation\")\n",
      "            out_seq=seq\n",
      "        outfasta.write(str(out_seq))\n",
      "        outfasta.close()\n",
      "    else:\n",
      "        print(name+\": no blast match\")"
     ],
     "language": "python",
     "metadata": {},
     "outputs": [
      {
       "output_type": "stream",
       "stream": "stdout",
       "text": [
        "1.020.O.: no blast match\n",
        "1.011.O.: must reverse sequence \n",
        "1.040.O.: sequence is in correct orientation\n",
        "1.043.O.: no blast match\n",
        "1.044.O.: no blast match\n",
        "1.048.O.: no blast match\n",
        "1.057.O.: no blast match\n",
        "1.062.O.: must reverse sequence \n",
        "1.080.O.: no blast match\n",
        "1.095.O.: no blast match\n",
        "1.102.O.: no blast match\n",
        "1.125.O.: sequence is in correct orientation\n",
        "1.141.A.: no blast match\n",
        "2.092.O.: sequence is in correct orientation\n",
        "1.008.O.: must reverse sequence \n",
        "1.069.O.: must reverse sequence \n",
        "1.107.B.: no blast match\n",
        "1.107.C.: no blast match\n",
        "1.107.A.: no blast match\n",
        "1.249.A.: must reverse sequence \n",
        "1.249.B.: must reverse sequence \n",
        "1.141.A.: no blast match\n"
       ]
      }
     ],
     "prompt_number": 50
    },
    {
     "cell_type": "markdown",
     "metadata": {},
     "source": [
      "###Make BLAST db of host genomes"
     ]
    },
    {
     "cell_type": "code",
     "collapsed": false,
     "input": [
      "command=[]\n",
      "for line in open(\"fastq_files.txt\"):\n",
      "    vec=line.rstrip(\"\\n\").replace(\".fastq\",\"\").split(\"_\")\n",
      "    output=\"cp \"+vec[1]+\"* ./grp15_hosts\"\n",
      "    if output not in command:\n",
      "        command.append(output)\n",
      "        print(output)\n"
     ],
     "language": "python",
     "metadata": {},
     "outputs": [
      {
       "output_type": "stream",
       "stream": "stdout",
       "text": [
        "cp 10N.286.54.E5* ./grp15_hosts\n",
        "cp 10N.286.49.B11* ./grp15_hosts\n",
        "cp 10N.222.48.A2* ./grp15_hosts\n",
        "cp 10N.286.45.B9* ./grp15_hosts\n",
        "cp 10N.261.52.C7* ./grp15_hosts\n",
        "cp 10N.261.51.B8* ./grp15_hosts\n",
        "cp 10N.286.46.A10* ./grp15_hosts\n",
        "cp 10N.261.46.B12* ./grp15_hosts\n",
        "cp 10N.286.55.C3* ./grp15_hosts\n",
        "cp 10N.286.49.F11* ./grp15_hosts\n",
        "cp 10N.286.48.A4* ./grp15_hosts\n",
        "cp 10N.286.46.E10* ./grp15_hosts\n",
        "cp 10N.261.45.E3* ./grp15_hosts\n",
        "cp 10N.286.52.E10* ./grp15_hosts\n",
        "cp 10N.286.49.F5* ./grp15_hosts\n",
        "cp 10N.261.49.B3* ./grp15_hosts\n",
        "cp 10N.261.55.B9* ./grp15_hosts\n",
        "cp 10N.286.52.B7* ./grp15_hosts\n"
       ]
      }
     ],
     "prompt_number": 9
    },
    {
     "cell_type": "code",
     "collapsed": false,
     "input": [
      "on server in directory /nobackup1/jbrown/vibrio_genomes/grp15_hosts\n",
      "\n",
      "cd /nobackup1/jbrown/vibrio_genomes/grp15_hosts\n",
      "ls *gbk>gbkfiles.txt\n",
      "module add engaging/python/2.7.8\n",
      "salloc -N 1 -n 16 -p newnodes --time=1:00:00 --exclusive\n",
      "srun python ~/python_scripts/gbk_to_fas.py gbkfiles.txt\n",
      "\n",
      "cd /nobackup1/jbrown/nahant_phage_reads/group15/"
     ],
     "language": "python",
     "metadata": {},
     "outputs": []
    },
    {
     "cell_type": "code",
     "collapsed": false,
     "input": [
      "#check for group15 fastq files:\n",
      "ls fastq*"
     ],
     "language": "python",
     "metadata": {},
     "outputs": [
      {
       "output_type": "stream",
       "stream": "stdout",
       "text": [
        "fastq_files.txt\r\n"
       ]
      }
     ],
     "prompt_number": 11
    },
    {
     "cell_type": "code",
     "collapsed": false,
     "input": [
      "host_files=[]\n",
      "for line in open(\"fastq_files.txt\"):\n",
      "    vec=line.rstrip(\"\\n\").replace(\".fastq\",\"\").split(\"_\")\n",
      "    phage=vec[0]\n",
      "    host=vec[1]\n",
      "    hostfile=host+\"_contigs_prod.genome.fasta\"\n",
      "    if hostfile not in host_files:\n",
      "        host_files.append(hostfile)\n",
      "host_files"
     ],
     "language": "python",
     "metadata": {},
     "outputs": [
      {
       "metadata": {},
       "output_type": "pyout",
       "prompt_number": 12,
       "text": [
        "['10N.286.54.E5_contigs_prod.genome.fasta',\n",
        " '10N.286.49.B11_contigs_prod.genome.fasta',\n",
        " '10N.222.48.A2_contigs_prod.genome.fasta',\n",
        " '10N.286.45.B9_contigs_prod.genome.fasta',\n",
        " '10N.261.52.C7_contigs_prod.genome.fasta',\n",
        " '10N.261.51.B8_contigs_prod.genome.fasta',\n",
        " '10N.286.46.A10_contigs_prod.genome.fasta',\n",
        " '10N.261.46.B12_contigs_prod.genome.fasta',\n",
        " '10N.286.55.C3_contigs_prod.genome.fasta',\n",
        " '10N.286.49.F11_contigs_prod.genome.fasta',\n",
        " '10N.286.48.A4_contigs_prod.genome.fasta',\n",
        " '10N.286.46.E10_contigs_prod.genome.fasta',\n",
        " '10N.261.45.E3_contigs_prod.genome.fasta',\n",
        " '10N.286.52.E10_contigs_prod.genome.fasta',\n",
        " '10N.286.49.F5_contigs_prod.genome.fasta',\n",
        " '10N.261.49.B3_contigs_prod.genome.fasta',\n",
        " '10N.261.55.B9_contigs_prod.genome.fasta',\n",
        " '10N.286.52.B7_contigs_prod.genome.fasta']"
       ]
      }
     ],
     "prompt_number": 12
    },
    {
     "cell_type": "code",
     "collapsed": false,
     "input": [
      "script=open(\"make_db.sh\",\"w\")\n",
      "script.write(\"#!/bin/bash\\n#SBATCH -n 16\\n#SBATCH -N 1\\n#SBATCH -o db.out\\n#SBATCH -e db.err\\n#SBATCH -p newnodes\\n\\n\")\n",
      "script.write(\"module add engaging/ncbi-blast/2.2.30+\\n\\n\\n\")\n",
      "for name in host_files:\n",
      "    script.write(\"makeblastdb -in \"+name+\" -dbtype nucl\\n\\n\")\n",
      "script.close()"
     ],
     "language": "python",
     "metadata": {},
     "outputs": [],
     "prompt_number": 13
    },
    {
     "cell_type": "code",
     "collapsed": false,
     "input": [
      "!scp make_db.sh jbrown@eofe4.mit.edu:/nobackup1/jbrown/vibrio_genomes/grp15_hosts/"
     ],
     "language": "python",
     "metadata": {},
     "outputs": [
      {
       "output_type": "stream",
       "stream": "stdout",
       "text": [
        "Enter passphrase for key '/Users/jmb/.ssh/id_rsa': "
       ]
      },
      {
       "output_type": "stream",
       "stream": "stdout",
       "text": [
        "\r\n",
        "\r\n"
       ]
      }
     ],
     "prompt_number": 14
    },
    {
     "cell_type": "markdown",
     "metadata": {},
     "source": [
      "###BLAST contigs against host genomes:"
     ]
    },
    {
     "cell_type": "code",
     "collapsed": false,
     "input": [
      "script=open(\"blast_clc_contigs_vs_host.sh\",\"w\")\n",
      "script.write(\"#!/bin/bash\\n#SBATCH -n 16\\n#SBATCH -N 1\\n#SBATCH -o blast.out\\n#SBATCH -e blast.err\\n#SBATCH -p newnodes\\n\\n\")\n",
      "script.write(\"module add engaging/ncbi-blast/2.2.30+\\n\\n\\n\")\n",
      "\n",
      "for line in open(\"fastq_files.txt\"):\n",
      "    vec=line.rstrip(\"\\n\").replace(\".fastq\",\"\").split(\"_\")\n",
      "    phage=vec[0]\n",
      "    host=vec[1]\n",
      "    hostdb=\"/nobackup1/jbrown/vibrio_genomes/grp15_hosts/\"+host+\"_contigs_prod.genome.fasta\"\n",
      "    phagefile=phage+\"step1.clc.fasta\"\n",
      "    blastcommand=\"blastn -db \"+hostdb+\" -query \"+phagefile+\" -outfmt 6 -evalue 0.001 -out \"+phage+\"contigs.vs.\"+host+\".txt\\n\\n\"\n",
      "    script.write(blastcommand)\n",
      "script.close()\n",
      "\n",
      "#!scp blast_clc_contigs_vs_host.sh jbrown@eofe4.mit.edu:/nobackup1/jbrown/nahant_phage_reads/group15/\n",
      "#!scp jbrown@eofe4.mit.edu:/nobackup1/jbrown/nahant_phage_reads/group15/*contigs.vs* ./"
     ],
     "language": "python",
     "metadata": {},
     "outputs": [],
     "prompt_number": 18
    },
    {
     "cell_type": "markdown",
     "metadata": {},
     "source": [
      "###Analyze BLAST Results and Contig Info"
     ]
    },
    {
     "cell_type": "code",
     "collapsed": false,
     "input": [
      "import numpy\n",
      "from pyfaidx import Fasta\n",
      "import glob"
     ],
     "language": "python",
     "metadata": {},
     "outputs": [],
     "prompt_number": 10
    },
    {
     "cell_type": "code",
     "collapsed": false,
     "input": [
      "virfiles=glob.glob(\"*step1.clc.fasta\")\n",
      "blasts=glob.glob(\"*contigs.vs.*.txt\")\n",
      "contiginfo=\"virname\\tcontig\\tcontig_len\\tvir_contig\\n\"\n",
      "for fasta in virfiles:\n",
      "    vec1=fasta.split(\"s\")\n",
      "    virname=vec1[0]   #set up the name of the virus\n",
      "    fasta1=fasta.replace(\"\\n\",\"\")\n",
      "    f=Fasta(fasta1)\n",
      "    for seq in f.keys():\n",
      "        seqlen=len(str(f[seq]))\n",
      "        contigname=seq\n",
      "        contiginfo+=(virname+\"\\t\"+contigname+\"\\t\"+str(seqlen)+\"\\t\"+virname+\":\"+contigname+\"\\n\")\n"
     ],
     "language": "python",
     "metadata": {},
     "outputs": [],
     "prompt_number": 11
    },
    {
     "cell_type": "code",
     "collapsed": false,
     "input": [],
     "language": "python",
     "metadata": {},
     "outputs": [],
     "prompt_number": 2
    },
    {
     "cell_type": "code",
     "collapsed": false,
     "input": [
      "%load_ext rmagic"
     ],
     "language": "python",
     "metadata": {},
     "outputs": [],
     "prompt_number": 7
    },
    {
     "cell_type": "code",
     "collapsed": false,
     "input": [
      "%R -i contiginfo -i blasts\n",
      "%R library(dplyr)\n",
      "%R library(ggplot2)"
     ],
     "language": "python",
     "metadata": {},
     "outputs": [
      {
       "metadata": {},
       "output_type": "pyout",
       "prompt_number": 12,
       "text": [
        "array(['ggplot2', 'dplyr', 'tools', 'stats', 'graphics', 'grDevices',\n",
        "       'utils', 'datasets', 'methods', 'base'], \n",
        "      dtype='|S9')"
       ]
      }
     ],
     "prompt_number": 12
    },
    {
     "cell_type": "code",
     "collapsed": false,
     "input": [
      "%%R\n",
      "contig<-textConnection(contiginfo,open=\"r\",encoding=\"UTF-8\")\n",
      "contigtable<-read.table(contig, sep=\"\\t\", header=TRUE)\n",
      "#?textConnection\n",
      "str(contigtable)"
     ],
     "language": "python",
     "metadata": {},
     "outputs": [
      {
       "metadata": {},
       "output_type": "display_data",
       "text": [
        "'data.frame':\t415 obs. of  4 variables:\n",
        " $ virname   : Factor w/ 21 levels \"1.008.O.\",\"1.011.O.\",..: 1 2 2 2 2 2 3 3 3 3 ...\n",
        " $ contig    : Factor w/ 225 levels \"contig_1\",\"contig_10\",..: 1 1 112 149 160 171 1 112 149 160 ...\n",
        " $ contig_len: int  9514 10487 869 645 602 904 717 1019 575 10536 ...\n",
        " $ vir_contig: Factor w/ 415 levels \"1.008.O.:contig_1\",..: 1 2 3 4 5 6 7 118 155 166 ...\n"
       ]
      }
     ],
     "prompt_number": 13
    },
    {
     "cell_type": "code",
     "collapsed": false,
     "input": [
      "%%R\n",
      "allcontigsummary<-data.frame(V1=character(),\n",
      "                 number_hits=character(), \n",
      "                 total_hitlen=character(), \n",
      "                 virus_name=character(),\n",
      "                 vir.contig=character(),   \n",
      "                 stringsAsFactors=FALSE) \n",
      "for (name in blasts){\n",
      "    if (file.info(name)$size>0){\n",
      "    blastfile=read.table(name, sep=\"\\t\")\n",
      "    virusname=sub(\"contigs.vs.*\",\"\",name)\n",
      "    bf=filter(blastfile, V4>100)\n",
      "    bf1<-group_by(bf, V1)\n",
      "    bf.contigsummary<-summarise(bf1, number_hits=n(), total_hitlen=sum(V4))\n",
      "    bf.contigsummary$virus_name<-virusname\n",
      "    bf.contigsummary$vir_contig<-paste(bf.contigsummary$virus_name, bf.contigsummary$V1, sep=\":\")\n",
      "    allcontigsummary<-rbind(allcontigsummary, bf.contigsummary)\n",
      "}}\n",
      "combined_info<-merge(allcontigsummary, contigtable, by=\"vir_contig\", all.x=TRUE, all.y=TRUE)\n",
      "with(combined_info, hist(contig_len, breaks=50))\n",
      "with(combined_info, summary(contig_len))"
     ],
     "language": "python",
     "metadata": {},
     "outputs": [
      {
       "metadata": {},
       "output_type": "display_data",
       "text": [
        "   Min. 1st Qu.  Median    Mean 3rd Qu.    Max. \n",
        "  500.0   547.0   631.0  1459.0   805.5 35450.0 \n"
       ]
      },
      {
       "metadata": {},
       "output_type": "display_data",
       "png": "[encoded data removed]"
      }
     ],
     "prompt_number": 14
    },
    {
     "cell_type": "code",
     "collapsed": false,
     "input": [
      "%%R\n",
      "layout(matrix(c(1,2),2,1, byrow=TRUE))\n",
      "par(mar=c(4,4,2,2))\n",
      "#with(combined_info, plot(total_hitlen, contig_len, col=contig, pch=19))\n",
      "qplot(total_hitlen, contig_len, data=combined_info, color=contig)\n",
      "#with(combined_info, plot(total_hitlen, contig_len, col=virname, pch=19, xlim=c(0,15000), ylim=c(0,15000)))\n",
      "qplot(total_hit_len, contig_len, data=combined_info, color=contig, xlim=c(1,15000), ylim=c(0,15000))"
     ],
     "language": "python",
     "metadata": {},
     "outputs": []
    },
    {
     "cell_type": "code",
     "collapsed": false,
     "input": [
      "%%R\n",
      "#layout(matrix(c(1,2),2,1, byrow=TRUE))\n",
      "#par(mar=c(4,4,2,2))\n",
      "#with(combined_info, plot(total_hitlen, contig_len, col=V1, pch=19))\n",
      "#with(combined_info, plot(total_hitlen, contig_len, col=virname, pch=19, xlim=c(0,15000), ylim=c(0,15000)))\n",
      "#abline(1,1, lty=3, lwd=2)\n",
      "qplot(total_hitlen, contig_len, data=combined_info, color=contig)"
     ],
     "language": "python",
     "metadata": {},
     "outputs": [
      {
       "metadata": {},
       "output_type": "display_data",
       "png": "[encoded data removed]"
      }
     ],
     "prompt_number": 11
    },
    {
     "cell_type": "code",
     "collapsed": false,
     "input": [
      "%%R\n",
      "combined_info[is.na(combined_info)]<-0\n",
      "cig<-group_by(combined_info, virname)\n",
      "cisum<-summarise(cig, contig_num=n(), total_blast_hits=sum(number_hits))\n",
      "write.csv(cisum,file=\"10kb_contig_blast_summary.txt\")"
     ],
     "language": "python",
     "metadata": {},
     "outputs": [],
     "prompt_number": 12
    },
    {
     "cell_type": "code",
     "collapsed": false,
     "input": [
      "%%R\n",
      "ci2<-filter(combined_info, contig==c(\"contig_1\",\"contig_2\",\"contig_3\",\"contig_4\",\"contig_5\",\"contig_6\",\"contig_7\",\"contig_8\",\"contig_9\", \"contig_10\"))\n",
      "ci2$contig<-as.character(ci2$contig)\n",
      "#data.frame(ci2)->ci2\n",
      "qplot(contig,contig_len, data=ci2, geom=c(\"boxplot\", \"jitter\"),\n",
      "   fill=contig, main=\"Contig Size By Number\",\n",
      "   xlab=\"\", ylab=\"Contig Length\") "
     ],
     "language": "python",
     "metadata": {},
     "outputs": [
      {
       "metadata": {},
       "output_type": "display_data",
       "png": "[encoded data removed]"
      }
     ],
     "prompt_number": 15
    },
    {
     "cell_type": "code",
     "collapsed": false,
     "input": [
      "alignments=[]\n",
      "for name in open(\"group15.txt\"):\n",
      "    if name.rstrip(\"\\n\") not in alignments:\n",
      "        alignments.append(name.rstrip(\"\\n\"))\n",
      "alignments"
     ],
     "language": "python",
     "metadata": {},
     "outputs": [
      {
       "metadata": {},
       "output_type": "pyout",
       "prompt_number": 5,
       "text": [
        "['1.020.O.',\n",
        " '1.011.O.',\n",
        " '1.040.O.',\n",
        " '1.043.O.',\n",
        " '1.044.O.',\n",
        " '1.048.O.',\n",
        " '1.057.O.',\n",
        " '1.062.O.',\n",
        " '1.080.O.',\n",
        " '1.095.O.',\n",
        " '1.102.O.',\n",
        " '1.125.O.',\n",
        " '1.141.A.',\n",
        " '2.092.O.',\n",
        " '1.008.O.',\n",
        " '1.069.O.',\n",
        " '1.107.B.',\n",
        " '1.107.C.',\n",
        " '1.107.A.',\n",
        " '1.249.A.',\n",
        " '1.249.B.']"
       ]
      }
     ],
     "prompt_number": 5
    },
    {
     "cell_type": "code",
     "collapsed": false,
     "input": [
      "%R -i alignments "
     ],
     "language": "python",
     "metadata": {},
     "outputs": [],
     "prompt_number": 30
    },
    {
     "cell_type": "code",
     "collapsed": false,
     "input": [
      "%%R\n",
      "coveragesummary<-data.frame(contig=character(),\n",
      "                 base_num=character(), \n",
      "                 coverage=character(),\n",
      "                 vir_name=character(),\n",
      "                 vir_contig=character())\n",
      "for (item in alignments){\n",
      "    filename<-paste(item,\"step1.genomecoverage.txt\",sep=\"\")\n",
      "    coverage<-read.table(filename, sep=\"\\t\")\n",
      "    coverage<-group_by(coverage,V1)\n",
      "    cs<-summarise(coverage,total_reads=n(),mean_reads=mean(V3))\n",
      "    cs$vir_name<-item\n",
      "    cs$vir_contig<-paste(cs$vir_name, cs$V1, sep=\":\")                                \n",
      "    coveragesummary<-rbind(coveragesummary, coverage)\n",
      "}\n",
      "combined_info2<-merge(combined_info, coverage_summary, by=\"vir_contig\", all.x=TRUE, all.y=TRUE)"
     ],
     "language": "python",
     "metadata": {},
     "outputs": []
    },
    {
     "cell_type": "code",
     "collapsed": false,
     "input": [
      "\n"
     ],
     "language": "python",
     "metadata": {},
     "outputs": [],
     "prompt_number": 37
    },
    {
     "cell_type": "code",
     "collapsed": false,
     "input": [
      "%%R\n",
      "filename=\"1.011.O.step1.genomecoverage.txt\"\n",
      "coverage<-read.table(filename, sep=\"\\t\")\n",
      "coverage<-group_by(coverage,V1)\n",
      "cs<-summarise(coverage,total=n(),mean=mean(V3))\n",
      "cs$vir_name<-\"1.011.O\"\n",
      "cs$vir_contig<-paste(cs$vir_name, cs$V1, sep=\":\")  \n",
      "cs"
     ],
     "language": "python",
     "metadata": {},
     "outputs": [
      {
       "metadata": {},
       "output_type": "display_data",
       "text": [
        "Source: local data frame [5 x 5]\n",
        "\n",
        "        V1  total       mean vir_name       vir_contig\n",
        "1 contig_1 346071 44.5432065  1.011.O 1.011.O:contig_1\n",
        "2 contig_2   8690  0.3192175  1.011.O 1.011.O:contig_2\n",
        "3 contig_3   4515  0.3557032  1.011.O 1.011.O:contig_3\n",
        "4 contig_4   3612  0.4382614  1.011.O 1.011.O:contig_4\n",
        "5 contig_5   8136  0.3225172  1.011.O 1.011.O:contig_5\n"
       ]
      }
     ],
     "prompt_number": 42
    },
    {
     "cell_type": "code",
     "collapsed": false,
     "input": [
      "%%R\n",
      "for (item in alignments){\n",
      "    filename<-paste(item,\"step1.genomecoverage.txt\",sep=\"\")\n",
      "    if (file.exists(filename)){\n",
      "    print(filename)\n",
      "}   else{\n",
      "        print(paste(item,\" does not exist\", sep=\"\"))\n",
      "    }\n",
      "}"
     ],
     "language": "python",
     "metadata": {},
     "outputs": [
      {
       "metadata": {},
       "output_type": "display_data",
       "text": [
        "[1] \"1.020.O.step1.genomecoverage.txt\"\n",
        "[1] \"1.011.O.step1.genomecoverage.txt\"\n",
        "[1] \"1.040.O.step1.genomecoverage.txt\"\n",
        "[1] \"1.043.O.step1.genomecoverage.txt\"\n",
        "[1] \"1.044.O.step1.genomecoverage.txt\"\n",
        "[1] \"1.048.O.step1.genomecoverage.txt\"\n",
        "[1] \"1.057.O.step1.genomecoverage.txt\"\n",
        "[1] \"1.062.O.step1.genomecoverage.txt\"\n",
        "[1] \"1.080.O.step1.genomecoverage.txt\"\n",
        "[1] \"1.095.O.step1.genomecoverage.txt\"\n",
        "[1] \"1.102.O.step1.genomecoverage.txt\"\n",
        "[1] \"1.125.O.step1.genomecoverage.txt\"\n",
        "[1] \"1.141.A. does not exist\"\n",
        "[1] \"2.092.O.step1.genomecoverage.txt\"\n",
        "[1] \"1.008.O.step1.genomecoverage.txt\"\n",
        "[1] \"1.069.O.step1.genomecoverage.txt\"\n",
        "[1] \"1.107.B.step1.genomecoverage.txt\"\n",
        "[1] \"1.107.C.step1.genomecoverage.txt\"\n",
        "[1] \"1.107.A.step1.genomecoverage.txt\"\n",
        "[1] \"1.249.A.step1.genomecoverage.txt\"\n",
        "[1] \"1.249.B.step1.genomecoverage.txt\"\n"
       ]
      }
     ],
     "prompt_number": 34
    },
    {
     "cell_type": "code",
     "collapsed": false,
     "input": [],
     "language": "python",
     "metadata": {},
     "outputs": []
    }
   ],
   "metadata": {}
  }
 ]
}