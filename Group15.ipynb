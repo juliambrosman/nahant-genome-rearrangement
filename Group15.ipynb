{
 "metadata": {
  "name": "",
  "signature": "sha256:0656048e40372bf2ed4fb2461e63a4b37df564cd6aea83bfcf86962b8c8b90a0"
 },
 "nbformat": 3,
 "nbformat_minor": 0,
 "worksheets": [
  {
   "cells": [
    {
     "cell_type": "code",
     "collapsed": false,
     "input": [
      "!mkdir group15"
     ],
     "language": "python",
     "metadata": {},
     "outputs": [],
     "prompt_number": 3
    },
    {
     "cell_type": "code",
     "collapsed": false,
     "input": [
      "import os\n",
      "os.chdir(\"./group15/\")"
     ],
     "language": "python",
     "metadata": {},
     "outputs": [],
     "prompt_number": 7
    },
    {
     "cell_type": "code",
     "collapsed": false,
     "input": [
      "lines_seen = set() # holds lines already seen\n",
      "outfile = open(\"Group15.txt\", \"w\")\n",
      "for line in open(\"../group15.txt\", \"r\"):\n",
      "    if line not in lines_seen: # not a duplicate\n",
      "        outfile.write(line)\n",
      "        lines_seen.add(line)\n",
      "outfile.close()"
     ],
     "language": "python",
     "metadata": {},
     "outputs": [],
     "prompt_number": 11
    },
    {
     "cell_type": "code",
     "collapsed": false,
     "input": [
      "group=open(\"Group15.txt\")\n",
      "output=open(\"./move_group15.sh\",\"w\")\n",
      "for line in group:\n",
      "    line=line.rstrip(\"\\n\")\n",
      "    output.write(\"mv \"+line+\"*fastq ./group15/\\n\")\n",
      "output.close()"
     ],
     "language": "python",
     "metadata": {},
     "outputs": [],
     "prompt_number": 12
    },
    {
     "cell_type": "code",
     "collapsed": false,
     "input": [
      "!scp move_group15.sh jbrown@eofe4.mit.edu:/nobackup1/jbrown/nahant_phage_reads/"
     ],
     "language": "python",
     "metadata": {},
     "outputs": [
      {
       "output_type": "stream",
       "stream": "stdout",
       "text": [
        "\r",
        "move_group15.sh                                 0%    0     0.0KB/s   --:-- ETA\r",
        "move_group15.sh                               100%  638     0.6KB/s   00:00    \r\n"
       ]
      }
     ],
     "prompt_number": 13
    },
    {
     "cell_type": "raw",
     "metadata": {},
     "source": [
      "On the server:\n",
      "ls *fastq>group15_fastqlist.txt"
     ]
    },
    {
     "cell_type": "code",
     "collapsed": false,
     "input": [
      "!scp jbrown@eofe4.mit.edu:/nobackup1/jbrown/nahant_phage_reads/group15/group15_fastqlist.txt ./"
     ],
     "language": "python",
     "metadata": {},
     "outputs": [
      {
       "output_type": "stream",
       "stream": "stdout",
       "text": [
        "\r",
        "group15_fastqlist.txt                           0%    0     0.0KB/s   --:-- ETA\r",
        "group15_fastqlist.txt                         100%  617     0.6KB/s   00:01    \r\n"
       ]
      }
     ],
     "prompt_number": 15
    },
    {
     "cell_type": "code",
     "collapsed": false,
     "input": [
      "def step1_script(fastq_list):\n",
      "    fastq=open(fastq_list)\n",
      "    program=open(\"step1.sh\",\"a\")\n",
      "    for name in fastq:\n",
      "        vec=name.split(\"_\")\n",
      "        heading=vec[0]\n",
      "        program.write(\"\\n\\n#\"+name+\"\\nclc_assembler -o \"+heading+\"step1.clc.fasta -m 500 -p fb ss 100 300 -q \"+ name+\"\\nclc_mapper -o \"+heading+\"step1.cas -p fb ss 100 300 -q \"+name.replace(\"\\n\",\"\")+\" -d \"+heading+\"step1.clc.fasta -a local -r ignore\\nclc_cas_to_sam -a \"+heading+\"step1.cas -o \"+heading+\"step1.bam\\n\\nsamtools sort \"+heading+\"step1.bam 1.025.O.sorted\\nsamtools index \"+heading+\"sorted.bam\\nbedtools genomecov -ibam \"+heading+\"step1.bam -d >\"+heading+\"step1.genomecoverage.txt\")\n",
      "    program.close()"
     ],
     "language": "python",
     "metadata": {},
     "outputs": [],
     "prompt_number": 19
    },
    {
     "cell_type": "code",
     "collapsed": false,
     "input": [
      "step1_script(\"group15_fastqlist.txt\")"
     ],
     "language": "python",
     "metadata": {},
     "outputs": [],
     "prompt_number": 20
    },
    {
     "cell_type": "raw",
     "metadata": {},
     "source": [
      "#add heading to step1.sh:\n",
      "\n",
      "#!/bin/bash                                                                                                                                                                \n",
      "#SBATCH -n 16                                                                                                                                                              \n",
      "#SBATCH -N 1                                   # minimum number of nodes                                                                                                                            \n",
      "#SBATCH -o db.out      # File to which STDOUT will be written                                                                                   \n",
      "#SBATCH -e db.err      # File to which STDERR will be written                                                                                   \n",
      "#SBATCH -p newnodes                # name of partition to use                                                                                                                                  \n",
      "\n",
      "module add engaging/clc-assembly-cell\n",
      "module add engaging/samtools/1.1\n",
      "module add engaging/bedtools/2.22.1"
     ]
    },
    {
     "cell_type": "code",
     "collapsed": false,
     "input": [
      "!scp step1.sh jbrown@eofe4.mit.edu:/nobackup1/jbrown/nahant_phage_reads/group15/"
     ],
     "language": "python",
     "metadata": {},
     "outputs": [
      {
       "output_type": "stream",
       "stream": "stdout",
       "text": [
        "\r",
        "step1.sh                                        0%    0     0.0KB/s   --:-- ETA\r",
        "step1.sh                                      100%   11KB  10.9KB/s   00:00    \r\n"
       ]
      }
     ],
     "prompt_number": 21
    },
    {
     "cell_type": "raw",
     "metadata": {},
     "source": [
      "#on the server:\n",
      "sbatch step1.sh"
     ]
    },
    {
     "cell_type": "code",
     "collapsed": false,
     "input": [
      "!scp jbrown@eofe4.mit.edu:/nobackup1/jbrown/nahant_phage_reads/group15/*genomecoverage* ./"
     ],
     "language": "python",
     "metadata": {},
     "outputs": [
      {
       "output_type": "stream",
       "stream": "stdout",
       "text": [
        "\r",
        "1.008.O.step1.genomecoverage.txt                0%    0     0.0KB/s   --:-- ETA"
       ]
      },
      {
       "output_type": "stream",
       "stream": "stdout",
       "text": [
        "\r",
        "1.008.O.step1.genomecoverage.txt              100%  171KB 171.3KB/s   00:00    \r\n",
        "\r",
        "1.011.O.step1.genomecoverage.txt                0%    0     0.0KB/s   --:-- ETA"
       ]
      },
      {
       "output_type": "stream",
       "stream": "stdout",
       "text": [
        "\r",
        "1.011.O.step1.genomecoverage.txt              100% 6031KB   5.9MB/s   00:01    \r\n"
       ]
      },
      {
       "output_type": "stream",
       "stream": "stdout",
       "text": [
        "\r",
        "1.020.O.step1.genomecoverage.txt                0%    0     0.0KB/s   --:-- ETA"
       ]
      },
      {
       "output_type": "stream",
       "stream": "stdout",
       "text": [
        "\r",
        "1.020.O.step1.genomecoverage.txt                0%   11MB  11.2MB/s   01:41 ETA"
       ]
      },
      {
       "output_type": "stream",
       "stream": "stdout",
       "text": [
        "\r",
        "1.020.O.step1.genomecoverage.txt                2%   24MB  11.4MB/s   01:38 ETA"
       ]
      },
      {
       "output_type": "stream",
       "stream": "stdout",
       "text": [
        "\r",
        "1.020.O.step1.genomecoverage.txt                2%   33MB  11.1MB/s   01:39 ETA"
       ]
      },
      {
       "output_type": "stream",
       "stream": "stdout",
       "text": [
        "\r",
        "1.020.O.step1.genomecoverage.txt                3%   42MB  10.9MB/s   01:40 ETA"
       ]
      },
      {
       "output_type": "stream",
       "stream": "stdout",
       "text": [
        "\r",
        "1.020.O.step1.genomecoverage.txt                4%   49MB  10.5MB/s   01:43 ETA"
       ]
      },
      {
       "output_type": "stream",
       "stream": "stdout",
       "text": [
        "\r",
        "1.020.O.step1.genomecoverage.txt                4%   56MB  10.1MB/s   01:47 ETA"
       ]
      },
      {
       "output_type": "stream",
       "stream": "stdout",
       "text": [
        "\r",
        "1.020.O.step1.genomecoverage.txt                5%   63MB   9.8MB/s   01:49 ETA"
       ]
      },
      {
       "output_type": "stream",
       "stream": "stdout",
       "text": [
        "\r",
        "1.020.O.step1.genomecoverage.txt                6%   70MB   9.6MB/s   01:52 ETA"
       ]
      },
      {
       "output_type": "stream",
       "stream": "stdout",
       "text": [
        "\r",
        "1.020.O.step1.genomecoverage.txt                6%   77MB   9.3MB/s   01:54 ETA"
       ]
      },
      {
       "output_type": "stream",
       "stream": "stdout",
       "text": [
        "\r",
        "1.020.O.step1.genomecoverage.txt                7%   85MB   9.1MB/s   01:55 ETA"
       ]
      },
      {
       "output_type": "stream",
       "stream": "stdout",
       "text": [
        "\r",
        "1.020.O.step1.genomecoverage.txt                8%   92MB   9.0MB/s   01:57 ETA"
       ]
      },
      {
       "output_type": "stream",
       "stream": "stdout",
       "text": [
        "\r",
        "1.020.O.step1.genomecoverage.txt                8%   99MB   8.8MB/s   01:58 ETA"
       ]
      },
      {
       "output_type": "stream",
       "stream": "stdout",
       "text": [
        "\r",
        "1.020.O.step1.genomecoverage.txt                9%  107MB   8.7MB/s   01:58 ETA"
       ]
      },
      {
       "output_type": "stream",
       "stream": "stdout",
       "text": [
        "\r",
        "1.020.O.step1.genomecoverage.txt               10%  116MB   8.8MB/s   01:57 ETA"
       ]
      },
      {
       "output_type": "stream",
       "stream": "stdout",
       "text": [
        "\r",
        "1.020.O.step1.genomecoverage.txt               11%  126MB   8.9MB/s   01:54 ETA"
       ]
      },
      {
       "output_type": "stream",
       "stream": "stdout",
       "text": [
        "\r",
        "1.020.O.step1.genomecoverage.txt               11%  132MB   8.6MB/s   01:58 ETA"
       ]
      },
      {
       "output_type": "stream",
       "stream": "stdout",
       "text": [
        "\r",
        "1.020.O.step1.genomecoverage.txt               12%  137MB   8.2MB/s   02:01 ETA"
       ]
      },
      {
       "output_type": "stream",
       "stream": "stdout",
       "text": [
        "\r",
        "1.020.O.step1.genomecoverage.txt               12%  143MB   7.9MB/s   02:05 ETA"
       ]
      },
      {
       "output_type": "stream",
       "stream": "stdout",
       "text": [
        "\r",
        "1.020.O.step1.genomecoverage.txt               13%  149MB   7.7MB/s   02:08 ETA"
       ]
      },
      {
       "output_type": "stream",
       "stream": "stdout",
       "text": [
        "\r",
        "1.020.O.step1.genomecoverage.txt               13%  154MB   7.5MB/s   02:10 ETA"
       ]
      },
      {
       "output_type": "stream",
       "stream": "stdout",
       "text": [
        "\r",
        "1.020.O.step1.genomecoverage.txt               14%  160MB   7.4MB/s   02:12 ETA"
       ]
      },
      {
       "output_type": "stream",
       "stream": "stdout",
       "text": [
        "\r",
        "1.020.O.step1.genomecoverage.txt               14%  167MB   7.3MB/s   02:13 ETA"
       ]
      },
      {
       "output_type": "stream",
       "stream": "stdout",
       "text": [
        "\r",
        "1.020.O.step1.genomecoverage.txt               15%  173MB   7.2MB/s   02:13 ETA"
       ]
      },
      {
       "output_type": "stream",
       "stream": "stdout",
       "text": [
        "\r",
        "1.020.O.step1.genomecoverage.txt               15%  179MB   7.0MB/s   02:16 ETA"
       ]
      },
      {
       "output_type": "stream",
       "stream": "stdout",
       "text": [
        "\r",
        "1.020.O.step1.genomecoverage.txt               16%  184MB   6.9MB/s   02:19 ETA"
       ]
      },
      {
       "output_type": "stream",
       "stream": "stdout",
       "text": [
        "\r",
        "1.020.O.step1.genomecoverage.txt               16%  191MB   6.8MB/s   02:19 ETA"
       ]
      },
      {
       "output_type": "stream",
       "stream": "stdout",
       "text": [
        "\r",
        "1.020.O.step1.genomecoverage.txt               17%  197MB   6.8MB/s   02:19 ETA"
       ]
      },
      {
       "output_type": "stream",
       "stream": "stdout",
       "text": [
        "\r",
        "1.020.O.step1.genomecoverage.txt               17%  203MB   6.8MB/s   02:18 ETA"
       ]
      },
      {
       "output_type": "stream",
       "stream": "stdout",
       "text": [
        "\r",
        "1.020.O.step1.genomecoverage.txt               18%  209MB   6.7MB/s   02:19 ETA"
       ]
      },
      {
       "output_type": "stream",
       "stream": "stdout",
       "text": [
        "\r",
        "1.020.O.step1.genomecoverage.txt               18%  213MB   6.3MB/s   02:26 ETA"
       ]
      },
      {
       "output_type": "stream",
       "stream": "stdout",
       "text": [
        "\r",
        "1.020.O.step1.genomecoverage.txt               18%  216MB   6.0MB/s   02:34 ETA"
       ]
      },
      {
       "output_type": "stream",
       "stream": "stdout",
       "text": [
        "\r",
        "1.020.O.step1.genomecoverage.txt               19%  218MB   5.7MB/s   02:42 ETA"
       ]
      },
      {
       "output_type": "stream",
       "stream": "stdout",
       "text": [
        "\r",
        "1.020.O.step1.genomecoverage.txt               19%  221MB   5.4MB/s   02:51 ETA"
       ]
      },
      {
       "output_type": "stream",
       "stream": "stdout",
       "text": [
        "\r",
        "1.020.O.step1.genomecoverage.txt               19%  223MB   5.0MB/s   03:03 ETA"
       ]
      },
      {
       "output_type": "stream",
       "stream": "stdout",
       "text": [
        "\r",
        "1.020.O.step1.genomecoverage.txt               19%  225MB   4.7MB/s   03:15 ETA"
       ]
      },
      {
       "output_type": "stream",
       "stream": "stdout",
       "text": [
        "\r",
        "1.020.O.step1.genomecoverage.txt               19%  227MB   4.4MB/s   03:26 ETA"
       ]
      },
      {
       "output_type": "stream",
       "stream": "stdout",
       "text": [
        "\r",
        "1.020.O.step1.genomecoverage.txt               20%  229MB   4.2MB/s   03:36 ETA"
       ]
      },
      {
       "output_type": "stream",
       "stream": "stdout",
       "text": [
        "\r",
        "1.020.O.step1.genomecoverage.txt               20%  231MB   4.0MB/s   03:46 ETA"
       ]
      },
      {
       "output_type": "stream",
       "stream": "stdout",
       "text": [
        "\r",
        "1.020.O.step1.genomecoverage.txt               20%  234MB   3.9MB/s   03:54 ETA"
       ]
      },
      {
       "output_type": "stream",
       "stream": "stdout",
       "text": [
        "\r",
        "1.020.O.step1.genomecoverage.txt               20%  237MB   3.8MB/s   03:56 ETA"
       ]
      },
      {
       "output_type": "stream",
       "stream": "stdout",
       "text": [
        "\r",
        "1.020.O.step1.genomecoverage.txt               21%  242MB   3.9MB/s   03:50 ETA"
       ]
      },
      {
       "output_type": "stream",
       "stream": "stdout",
       "text": [
        "\r",
        "1.020.O.step1.genomecoverage.txt               21%  248MB   4.2MB/s   03:35 ETA"
       ]
      },
      {
       "output_type": "stream",
       "stream": "stdout",
       "text": [
        "\r",
        "1.020.O.step1.genomecoverage.txt               22%  257MB   4.6MB/s   03:12 ETA"
       ]
      },
      {
       "output_type": "stream",
       "stream": "stdout",
       "text": [
        "\r",
        "1.020.O.step1.genomecoverage.txt               23%  268MB   5.3MB/s   02:45 ETA"
       ]
      },
      {
       "output_type": "stream",
       "stream": "stdout",
       "text": [
        "\r",
        "1.020.O.step1.genomecoverage.txt               24%  281MB   6.0MB/s   02:22 ETA"
       ]
      },
      {
       "output_type": "stream",
       "stream": "stdout",
       "text": [
        "\r",
        "1.020.O.step1.genomecoverage.txt               25%  290MB   6.3MB/s   02:14 ETA"
       ]
      },
      {
       "output_type": "stream",
       "stream": "stdout",
       "text": [
        "\r",
        "1.020.O.step1.genomecoverage.txt               26%  298MB   6.5MB/s   02:09 ETA"
       ]
      },
      {
       "output_type": "stream",
       "stream": "stdout",
       "text": [
        "\r",
        "1.020.O.step1.genomecoverage.txt               26%  306MB   6.6MB/s   02:06 ETA"
       ]
      },
      {
       "output_type": "stream",
       "stream": "stdout",
       "text": [
        "\r",
        "1.020.O.step1.genomecoverage.txt               27%  314MB   6.8MB/s   02:02 ETA"
       ]
      },
      {
       "output_type": "stream",
       "stream": "stdout",
       "text": [
        "\r",
        "1.020.O.step1.genomecoverage.txt               28%  321MB   6.8MB/s   02:00 ETA"
       ]
      },
      {
       "output_type": "stream",
       "stream": "stdout",
       "text": [
        "\r",
        "1.020.O.step1.genomecoverage.txt               28%  327MB   6.7MB/s   02:01 ETA"
       ]
      },
      {
       "output_type": "stream",
       "stream": "stdout",
       "text": [
        "\r",
        "1.020.O.step1.genomecoverage.txt               29%  333MB   6.7MB/s   02:01 ETA"
       ]
      },
      {
       "output_type": "stream",
       "stream": "stdout",
       "text": [
        "\r",
        "1.020.O.step1.genomecoverage.txt               29%  339MB   6.6MB/s   02:01 ETA"
       ]
      },
      {
       "output_type": "stream",
       "stream": "stdout",
       "text": [
        "\r",
        "1.020.O.step1.genomecoverage.txt               30%  344MB   6.5MB/s   02:03 ETA"
       ]
      },
      {
       "output_type": "stream",
       "stream": "stdout",
       "text": [
        "\r",
        "1.020.O.step1.genomecoverage.txt               30%  350MB   6.4MB/s   02:04 ETA"
       ]
      },
      {
       "output_type": "stream",
       "stream": "stdout",
       "text": [
        "\r",
        "1.020.O.step1.genomecoverage.txt               31%  355MB   6.3MB/s   02:05 ETA"
       ]
      },
      {
       "output_type": "stream",
       "stream": "stdout",
       "text": [
        "\r",
        "1.020.O.step1.genomecoverage.txt               31%  360MB   6.1MB/s   02:07 ETA"
       ]
      },
      {
       "output_type": "stream",
       "stream": "stdout",
       "text": [
        "\r",
        "1.020.O.step1.genomecoverage.txt               31%  363MB   5.9MB/s   02:13 ETA"
       ]
      },
      {
       "output_type": "stream",
       "stream": "stdout",
       "text": [
        "\r",
        "1.020.O.step1.genomecoverage.txt               32%  367MB   5.6MB/s   02:18 ETA"
       ]
      },
      {
       "output_type": "stream",
       "stream": "stdout",
       "text": [
        "\r",
        "1.020.O.step1.genomecoverage.txt               32%  370MB   5.4MB/s   02:22 ETA"
       ]
      },
      {
       "output_type": "stream",
       "stream": "stdout",
       "text": [
        "\r",
        "1.020.O.step1.genomecoverage.txt               32%  374MB   5.2MB/s   02:28 ETA"
       ]
      },
      {
       "output_type": "stream",
       "stream": "stdout",
       "text": [
        "\r",
        "1.020.O.step1.genomecoverage.txt               33%  377MB   5.0MB/s   02:31 ETA"
       ]
      },
      {
       "output_type": "stream",
       "stream": "stdout",
       "text": [
        "\r",
        "1.020.O.step1.genomecoverage.txt               33%  381MB   4.9MB/s   02:34 ETA"
       ]
      },
      {
       "output_type": "stream",
       "stream": "stdout",
       "text": [
        "\r",
        "1.020.O.step1.genomecoverage.txt               33%  385MB   4.8MB/s   02:36 ETA"
       ]
      },
      {
       "output_type": "stream",
       "stream": "stdout",
       "text": [
        "\r",
        "1.020.O.step1.genomecoverage.txt               34%  389MB   4.8MB/s   02:38 ETA"
       ]
      },
      {
       "output_type": "stream",
       "stream": "stdout",
       "text": [
        "\r",
        "1.020.O.step1.genomecoverage.txt               34%  393MB   4.6MB/s   02:41 ETA"
       ]
      },
      {
       "output_type": "stream",
       "stream": "stdout",
       "text": [
        "\r",
        "1.020.O.step1.genomecoverage.txt               34%  396MB   4.5MB/s   02:45 ETA"
       ]
      },
      {
       "output_type": "stream",
       "stream": "stdout",
       "text": [
        "\r",
        "1.020.O.step1.genomecoverage.txt               35%  400MB   4.4MB/s   02:47 ETA"
       ]
      },
      {
       "output_type": "stream",
       "stream": "stdout",
       "text": [
        "\r",
        "1.020.O.step1.genomecoverage.txt               35%  404MB   4.4MB/s   02:49 ETA"
       ]
      },
      {
       "output_type": "stream",
       "stream": "stdout",
       "text": [
        "\r",
        "1.020.O.step1.genomecoverage.txt               35%  407MB   4.3MB/s   02:51 ETA"
       ]
      },
      {
       "output_type": "stream",
       "stream": "stdout",
       "text": [
        "\r",
        "1.020.O.step1.genomecoverage.txt               35%  410MB   4.2MB/s   02:55 ETA"
       ]
      },
      {
       "output_type": "stream",
       "stream": "stdout",
       "text": [
        "\r",
        "1.020.O.step1.genomecoverage.txt               36%  412MB   3.9MB/s   03:05 ETA"
       ]
      },
      {
       "output_type": "stream",
       "stream": "stdout",
       "text": [
        "\r",
        "1.020.O.step1.genomecoverage.txt               36%  414MB   3.8MB/s   03:13 ETA"
       ]
      },
      {
       "output_type": "stream",
       "stream": "stdout",
       "text": [
        "\r",
        "1.020.O.step1.genomecoverage.txt               36%  416MB   3.6MB/s   03:22 ETA"
       ]
      },
      {
       "output_type": "stream",
       "stream": "stdout",
       "text": [
        "\r",
        "1.020.O.step1.genomecoverage.txt               36%  419MB   3.5MB/s   03:29 ETA"
       ]
      },
      {
       "output_type": "stream",
       "stream": "stdout",
       "text": [
        "\r",
        "1.020.O.step1.genomecoverage.txt               36%  421MB   3.3MB/s   03:35 ETA"
       ]
      },
      {
       "output_type": "stream",
       "stream": "stdout",
       "text": [
        "\r",
        "1.020.O.step1.genomecoverage.txt               37%  423MB   3.3MB/s   03:40 ETA"
       ]
      },
      {
       "output_type": "stream",
       "stream": "stdout",
       "text": [
        "\r",
        "1.020.O.step1.genomecoverage.txt               37%  427MB   3.3MB/s   03:40 ETA"
       ]
      },
      {
       "output_type": "stream",
       "stream": "stdout",
       "text": [
        "\r",
        "1.020.O.step1.genomecoverage.txt               37%  431MB   3.4MB/s   03:31 ETA"
       ]
      },
      {
       "output_type": "stream",
       "stream": "stdout",
       "text": [
        "\r",
        "1.020.O.step1.genomecoverage.txt               38%  436MB   3.6MB/s   03:18 ETA"
       ]
      },
      {
       "output_type": "stream",
       "stream": "stdout",
       "text": [
        "\r",
        "1.020.O.step1.genomecoverage.txt               38%  442MB   3.8MB/s   03:04 ETA"
       ]
      },
      {
       "output_type": "stream",
       "stream": "stdout",
       "text": [
        "\r",
        "1.020.O.step1.genomecoverage.txt               39%  449MB   4.1MB/s   02:50 ETA"
       ]
      },
      {
       "output_type": "stream",
       "stream": "stdout",
       "text": [
        "\r",
        "1.020.O.step1.genomecoverage.txt               39%  456MB   4.4MB/s   02:36 ETA"
       ]
      },
      {
       "output_type": "stream",
       "stream": "stdout",
       "text": [
        "\r",
        "1.020.O.step1.genomecoverage.txt               40%  463MB   4.7MB/s   02:24 ETA"
       ]
      },
      {
       "output_type": "stream",
       "stream": "stdout",
       "text": [
        "\r",
        "1.020.O.step1.genomecoverage.txt               41%  471MB   5.0MB/s   02:15 ETA"
       ]
      },
      {
       "output_type": "stream",
       "stream": "stdout",
       "text": [
        "\r",
        "1.020.O.step1.genomecoverage.txt               41%  478MB   5.2MB/s   02:07 ETA"
       ]
      },
      {
       "output_type": "stream",
       "stream": "stdout",
       "text": [
        "\r",
        "1.020.O.step1.genomecoverage.txt               42%  486MB   5.5MB/s   01:59 ETA"
       ]
      },
      {
       "output_type": "stream",
       "stream": "stdout",
       "text": [
        "\r",
        "1.020.O.step1.genomecoverage.txt               43%  494MB   5.7MB/s   01:54 ETA"
       ]
      },
      {
       "output_type": "stream",
       "stream": "stdout",
       "text": [
        "\r",
        "1.020.O.step1.genomecoverage.txt               43%  501MB   5.8MB/s   01:50 ETA"
       ]
      },
      {
       "output_type": "stream",
       "stream": "stdout",
       "text": [
        "\r",
        "1.020.O.step1.genomecoverage.txt               44%  506MB   5.8MB/s   01:50 ETA"
       ]
      },
      {
       "output_type": "stream",
       "stream": "stdout",
       "text": [
        "\r",
        "1.020.O.step1.genomecoverage.txt               44%  510MB   5.6MB/s   01:52 ETA"
       ]
      },
      {
       "output_type": "stream",
       "stream": "stdout",
       "text": [
        "\r",
        "1.020.O.step1.genomecoverage.txt               45%  514MB   5.4MB/s   01:55 ETA"
       ]
      },
      {
       "output_type": "stream",
       "stream": "stdout",
       "text": [
        "\r",
        "1.020.O.step1.genomecoverage.txt               45%  516MB   5.1MB/s   02:02 ETA"
       ]
      },
      {
       "output_type": "stream",
       "stream": "stdout",
       "text": [
        "\r",
        "1.020.O.step1.genomecoverage.txt               45%  518MB   4.8MB/s   02:09 ETA"
       ]
      },
      {
       "output_type": "stream",
       "stream": "stdout",
       "text": [
        "\r",
        "1.020.O.step1.genomecoverage.txt               45%  521MB   4.6MB/s   02:15 ETA"
       ]
      },
      {
       "output_type": "stream",
       "stream": "stdout",
       "text": [
        "\r",
        "1.020.O.step1.genomecoverage.txt               45%  523MB   4.4MB/s   02:21 ETA"
       ]
      },
      {
       "output_type": "stream",
       "stream": "stdout",
       "text": [
        "\r",
        "1.020.O.step1.genomecoverage.txt               46%  526MB   4.2MB/s   02:26 ETA"
       ]
      },
      {
       "output_type": "stream",
       "stream": "stdout",
       "text": [
        "\r",
        "1.020.O.step1.genomecoverage.txt               46%  529MB   4.1MB/s   02:31 ETA"
       ]
      },
      {
       "output_type": "stream",
       "stream": "stdout",
       "text": [
        "\r",
        "1.020.O.step1.genomecoverage.txt               46%  532MB   4.0MB/s   02:32 ETA"
       ]
      },
      {
       "output_type": "stream",
       "stream": "stdout",
       "text": [
        "\r",
        "1.020.O.step1.genomecoverage.txt               47%  537MB   4.1MB/s   02:28 ETA"
       ]
      },
      {
       "output_type": "stream",
       "stream": "stdout",
       "text": [
        "\r",
        "1.020.O.step1.genomecoverage.txt               47%  544MB   4.3MB/s   02:18 ETA"
       ]
      },
      {
       "output_type": "stream",
       "stream": "stdout",
       "text": [
        "\r",
        "1.020.O.step1.genomecoverage.txt               48%  552MB   4.7MB/s   02:04 ETA"
       ]
      },
      {
       "output_type": "stream",
       "stream": "stdout",
       "text": [
        "\r",
        "1.020.O.step1.genomecoverage.txt               49%  561MB   5.1MB/s   01:53 ETA"
       ]
      },
      {
       "output_type": "stream",
       "stream": "stdout",
       "text": [
        "\r",
        "1.020.O.step1.genomecoverage.txt               49%  568MB   5.3MB/s   01:47 ETA"
       ]
      },
      {
       "output_type": "stream",
       "stream": "stdout",
       "text": [
        "\r",
        "1.020.O.step1.genomecoverage.txt               50%  574MB   5.4MB/s   01:45 ETA"
       ]
      },
      {
       "output_type": "stream",
       "stream": "stdout",
       "text": [
        "\r",
        "1.020.O.step1.genomecoverage.txt               50%  579MB   5.4MB/s   01:44 ETA"
       ]
      },
      {
       "output_type": "stream",
       "stream": "stdout",
       "text": [
        "\r",
        "1.020.O.step1.genomecoverage.txt               51%  584MB   5.4MB/s   01:44 ETA"
       ]
      },
      {
       "output_type": "stream",
       "stream": "stdout",
       "text": [
        "\r",
        "1.020.O.step1.genomecoverage.txt               51%  589MB   5.3MB/s   01:43 ETA"
       ]
      },
      {
       "output_type": "stream",
       "stream": "stdout",
       "text": [
        "\r",
        "1.020.O.step1.genomecoverage.txt               52%  594MB   5.3MB/s   01:43 ETA"
       ]
      },
      {
       "output_type": "stream",
       "stream": "stdout",
       "text": [
        "\r",
        "1.020.O.step1.genomecoverage.txt               52%  599MB   5.3MB/s   01:42 ETA"
       ]
      },
      {
       "output_type": "stream",
       "stream": "stdout",
       "text": [
        "\r",
        "1.020.O.step1.genomecoverage.txt               52%  604MB   5.2MB/s   01:43 ETA"
       ]
      },
      {
       "output_type": "stream",
       "stream": "stdout",
       "text": [
        "\r",
        "1.020.O.step1.genomecoverage.txt               53%  607MB   5.0MB/s   01:47 ETA"
       ]
      },
      {
       "output_type": "stream",
       "stream": "stdout",
       "text": [
        "\r",
        "1.020.O.step1.genomecoverage.txt               53%  609MB   4.7MB/s   01:52 ETA"
       ]
      },
      {
       "output_type": "stream",
       "stream": "stdout",
       "text": [
        "\r",
        "1.020.O.step1.genomecoverage.txt               53%  612MB   4.5MB/s   01:56 ETA"
       ]
      },
      {
       "output_type": "stream",
       "stream": "stdout",
       "text": [
        "\r",
        "1.020.O.step1.genomecoverage.txt               53%  615MB   4.4MB/s   02:00 ETA"
       ]
      },
      {
       "output_type": "stream",
       "stream": "stdout",
       "text": [
        "\r",
        "1.020.O.step1.genomecoverage.txt               54%  617MB   4.2MB/s   02:05 ETA"
       ]
      },
      {
       "output_type": "stream",
       "stream": "stdout",
       "text": [
        "\r",
        "1.020.O.step1.genomecoverage.txt               54%  620MB   4.0MB/s   02:09 ETA"
       ]
      },
      {
       "output_type": "stream",
       "stream": "stdout",
       "text": [
        "\r",
        "1.020.O.step1.genomecoverage.txt               54%  623MB   3.9MB/s   02:13 ETA"
       ]
      },
      {
       "output_type": "stream",
       "stream": "stdout",
       "text": [
        "\r",
        "1.020.O.step1.genomecoverage.txt               54%  625MB   3.8MB/s   02:16 ETA"
       ]
      },
      {
       "output_type": "stream",
       "stream": "stdout",
       "text": [
        "\r",
        "1.020.O.step1.genomecoverage.txt               55%  628MB   3.7MB/s   02:20 ETA"
       ]
      },
      {
       "output_type": "stream",
       "stream": "stdout",
       "text": [
        "\r",
        "1.020.O.step1.genomecoverage.txt               55%  631MB   3.6MB/s   02:22 ETA"
       ]
      },
      {
       "output_type": "stream",
       "stream": "stdout",
       "text": [
        "\r",
        "1.020.O.step1.genomecoverage.txt               55%  634MB   3.5MB/s   02:24 ETA"
       ]
      },
      {
       "output_type": "stream",
       "stream": "stdout",
       "text": [
        "\r",
        "1.020.O.step1.genomecoverage.txt               55%  638MB   3.5MB/s   02:22 ETA"
       ]
      },
      {
       "output_type": "stream",
       "stream": "stdout",
       "text": [
        "\r",
        "1.020.O.step1.genomecoverage.txt               56%  641MB   3.5MB/s   02:21 ETA"
       ]
      },
      {
       "output_type": "stream",
       "stream": "stdout",
       "text": [
        "\r",
        "1.020.O.step1.genomecoverage.txt               56%  645MB   3.5MB/s   02:20 ETA"
       ]
      },
      {
       "output_type": "stream",
       "stream": "stdout",
       "text": [
        "\r",
        "1.020.O.step1.genomecoverage.txt               56%  649MB   3.6MB/s   02:17 ETA"
       ]
      },
      {
       "output_type": "stream",
       "stream": "stdout",
       "text": [
        "\r",
        "1.020.O.step1.genomecoverage.txt               57%  653MB   3.6MB/s   02:14 ETA"
       ]
      },
      {
       "output_type": "stream",
       "stream": "stdout",
       "text": [
        "\r",
        "1.020.O.step1.genomecoverage.txt               57%  657MB   3.7MB/s   02:11 ETA"
       ]
      },
      {
       "output_type": "stream",
       "stream": "stdout",
       "text": [
        "\r",
        "1.020.O.step1.genomecoverage.txt               57%  661MB   3.7MB/s   02:09 ETA"
       ]
      },
      {
       "output_type": "stream",
       "stream": "stdout",
       "text": [
        "\r",
        "1.020.O.step1.genomecoverage.txt               58%  665MB   3.8MB/s   02:06 ETA"
       ]
      },
      {
       "output_type": "stream",
       "stream": "stdout",
       "text": [
        "\r",
        "1.020.O.step1.genomecoverage.txt               58%  670MB   3.9MB/s   02:01 ETA"
       ]
      },
      {
       "output_type": "stream",
       "stream": "stdout",
       "text": [
        "\r",
        "1.020.O.step1.genomecoverage.txt               59%  675MB   4.0MB/s   01:56 ETA"
       ]
      },
      {
       "output_type": "stream",
       "stream": "stdout",
       "text": [
        "\r",
        "1.020.O.step1.genomecoverage.txt               59%  681MB   4.2MB/s   01:50 ETA"
       ]
      },
      {
       "output_type": "stream",
       "stream": "stdout",
       "text": [
        "\r",
        "1.020.O.step1.genomecoverage.txt               60%  685MB   4.2MB/s   01:49 ETA"
       ]
      },
      {
       "output_type": "stream",
       "stream": "stdout",
       "text": [
        "\r",
        "1.020.O.step1.genomecoverage.txt               60%  690MB   4.3MB/s   01:45 ETA"
       ]
      },
      {
       "output_type": "stream",
       "stream": "stdout",
       "text": [
        "\r",
        "1.020.O.step1.genomecoverage.txt               60%  695MB   4.4MB/s   01:41 ETA"
       ]
      },
      {
       "output_type": "stream",
       "stream": "stdout",
       "text": [
        "\r",
        "1.020.O.step1.genomecoverage.txt               61%  701MB   4.5MB/s   01:39 ETA"
       ]
      },
      {
       "output_type": "stream",
       "stream": "stdout",
       "text": [
        "\r",
        "1.020.O.step1.genomecoverage.txt               61%  706MB   4.5MB/s   01:36 ETA"
       ]
      },
      {
       "output_type": "stream",
       "stream": "stdout",
       "text": [
        "\r",
        "1.020.O.step1.genomecoverage.txt               62%  710MB   4.5MB/s   01:35 ETA"
       ]
      },
      {
       "output_type": "stream",
       "stream": "stdout",
       "text": [
        "\r",
        "1.020.O.step1.genomecoverage.txt               62%  715MB   4.5MB/s   01:33 ETA"
       ]
      },
      {
       "output_type": "stream",
       "stream": "stdout",
       "text": [
        "\r",
        "1.020.O.step1.genomecoverage.txt               63%  720MB   4.6MB/s   01:31 ETA"
       ]
      },
      {
       "output_type": "stream",
       "stream": "stdout",
       "text": [
        "\r",
        "1.020.O.step1.genomecoverage.txt               63%  725MB   4.7MB/s   01:29 ETA"
       ]
      },
      {
       "output_type": "stream",
       "stream": "stdout",
       "text": [
        "\r",
        "1.020.O.step1.genomecoverage.txt               63%  728MB   4.5MB/s   01:31 ETA"
       ]
      },
      {
       "output_type": "stream",
       "stream": "stdout",
       "text": [
        "\r",
        "1.020.O.step1.genomecoverage.txt               63%  730MB   4.2MB/s   01:38 ETA"
       ]
      },
      {
       "output_type": "stream",
       "stream": "stdout",
       "text": [
        "\r",
        "1.020.O.step1.genomecoverage.txt               64%  731MB   3.9MB/s   01:46 ETA"
       ]
      },
      {
       "output_type": "stream",
       "stream": "stdout",
       "text": [
        "\r",
        "1.020.O.step1.genomecoverage.txt               64%  732MB   3.6MB/s   01:53 ETA"
       ]
      },
      {
       "output_type": "stream",
       "stream": "stdout",
       "text": [
        "\r",
        "1.020.O.step1.genomecoverage.txt               64%  733MB   3.4MB/s   02:00 ETA"
       ]
      },
      {
       "output_type": "stream",
       "stream": "stdout",
       "text": [
        "\r",
        "1.020.O.step1.genomecoverage.txt               64%  735MB   3.2MB/s   02:06 ETA"
       ]
      },
      {
       "output_type": "stream",
       "stream": "stdout",
       "text": [
        "\r",
        "1.020.O.step1.genomecoverage.txt               64%  737MB   3.1MB/s   02:11 ETA"
       ]
      },
      {
       "output_type": "stream",
       "stream": "stdout",
       "text": [
        "\r",
        "1.020.O.step1.genomecoverage.txt               64%  740MB   3.0MB/s   02:12 ETA"
       ]
      },
      {
       "output_type": "stream",
       "stream": "stdout",
       "text": [
        "\r",
        "1.020.O.step1.genomecoverage.txt               65%  744MB   3.2MB/s   02:06 ETA"
       ]
      },
      {
       "output_type": "stream",
       "stream": "stdout",
       "text": [
        "\r",
        "1.020.O.step1.genomecoverage.txt               65%  750MB   3.5MB/s   01:52 ETA"
       ]
      },
      {
       "output_type": "stream",
       "stream": "stdout",
       "text": [
        "\r",
        "1.020.O.step1.genomecoverage.txt               66%  759MB   4.0MB/s   01:35 ETA"
       ]
      },
      {
       "output_type": "stream",
       "stream": "stdout",
       "text": [
        "\r",
        "1.020.O.step1.genomecoverage.txt               67%  771MB   4.8MB/s   01:17 ETA"
       ]
      },
      {
       "output_type": "stream",
       "stream": "stdout",
       "text": [
        "\r",
        "1.020.O.step1.genomecoverage.txt               68%  785MB   5.8MB/s   01:01 ETA"
       ]
      },
      {
       "output_type": "stream",
       "stream": "stdout",
       "text": [
        "\r",
        "1.020.O.step1.genomecoverage.txt               70%  801MB   6.7MB/s   00:50 ETA"
       ]
      },
      {
       "output_type": "stream",
       "stream": "stdout",
       "text": [
        "\r",
        "1.020.O.step1.genomecoverage.txt               71%  815MB   7.5MB/s   00:43 ETA"
       ]
      },
      {
       "output_type": "stream",
       "stream": "stdout",
       "text": [
        "\r",
        "1.020.O.step1.genomecoverage.txt               72%  829MB   8.2MB/s   00:38 ETA"
       ]
      },
      {
       "output_type": "stream",
       "stream": "stdout",
       "text": [
        "\r",
        "1.020.O.step1.genomecoverage.txt               73%  843MB   8.7MB/s   00:34 ETA"
       ]
      },
      {
       "output_type": "stream",
       "stream": "stdout",
       "text": [
        "\r",
        "1.020.O.step1.genomecoverage.txt               75%  857MB   9.3MB/s   00:30 ETA"
       ]
      },
      {
       "output_type": "stream",
       "stream": "stdout",
       "text": [
        "\r",
        "1.020.O.step1.genomecoverage.txt               76%  872MB   9.8MB/s   00:27 ETA"
       ]
      },
      {
       "output_type": "stream",
       "stream": "stdout",
       "text": [
        "\r",
        "1.020.O.step1.genomecoverage.txt               77%  887MB  10.3MB/s   00:24 ETA"
       ]
      },
      {
       "output_type": "stream",
       "stream": "stdout",
       "text": [
        "\r",
        "1.020.O.step1.genomecoverage.txt               78%  899MB  10.5MB/s   00:23 ETA"
       ]
      },
      {
       "output_type": "stream",
       "stream": "stdout",
       "text": [
        "\r",
        "1.020.O.step1.genomecoverage.txt               79%  908MB  10.3MB/s   00:22 ETA"
       ]
      },
      {
       "output_type": "stream",
       "stream": "stdout",
       "text": [
        "\r",
        "1.020.O.step1.genomecoverage.txt               80%  914MB   9.9MB/s   00:23 ETA"
       ]
      },
      {
       "output_type": "stream",
       "stream": "stdout",
       "text": [
        "\r",
        "1.020.O.step1.genomecoverage.txt               80%  919MB   9.4MB/s   00:23 ETA"
       ]
      },
      {
       "output_type": "stream",
       "stream": "stdout",
       "text": [
        "\r",
        "1.020.O.step1.genomecoverage.txt               80%  924MB   9.0MB/s   00:24 ETA"
       ]
      },
      {
       "output_type": "stream",
       "stream": "stdout",
       "text": [
        "\r",
        "1.020.O.step1.genomecoverage.txt               81%  930MB   8.7MB/s   00:24 ETA"
       ]
      },
      {
       "output_type": "stream",
       "stream": "stdout",
       "text": [
        "\r",
        "1.020.O.step1.genomecoverage.txt               81%  935MB   8.3MB/s   00:24 ETA"
       ]
      },
      {
       "output_type": "stream",
       "stream": "stdout",
       "text": [
        "\r",
        "1.020.O.step1.genomecoverage.txt               82%  940MB   8.0MB/s   00:24 ETA"
       ]
      },
      {
       "output_type": "stream",
       "stream": "stdout",
       "text": [
        "\r",
        "1.020.O.step1.genomecoverage.txt               82%  946MB   7.8MB/s   00:25 ETA"
       ]
      },
      {
       "output_type": "stream",
       "stream": "stdout",
       "text": [
        "\r",
        "1.020.O.step1.genomecoverage.txt               83%  953MB   7.7MB/s   00:24 ETA"
       ]
      },
      {
       "output_type": "stream",
       "stream": "stdout",
       "text": [
        "\r",
        "1.020.O.step1.genomecoverage.txt               84%  960MB   7.6MB/s   00:23 ETA"
       ]
      },
      {
       "output_type": "stream",
       "stream": "stdout",
       "text": [
        "\r",
        "1.020.O.step1.genomecoverage.txt               84%  967MB   7.5MB/s   00:23 ETA"
       ]
      },
      {
       "output_type": "stream",
       "stream": "stdout",
       "text": [
        "\r",
        "1.020.O.step1.genomecoverage.txt               85%  974MB   7.5MB/s   00:22 ETA"
       ]
      },
      {
       "output_type": "stream",
       "stream": "stdout",
       "text": [
        "\r",
        "1.020.O.step1.genomecoverage.txt               85%  981MB   7.5MB/s   00:21 ETA"
       ]
      },
      {
       "output_type": "stream",
       "stream": "stdout",
       "text": [
        "\r",
        "1.020.O.step1.genomecoverage.txt               86%  988MB   7.4MB/s   00:20 ETA"
       ]
      },
      {
       "output_type": "stream",
       "stream": "stdout",
       "text": [
        "\r",
        "1.020.O.step1.genomecoverage.txt               86%  992MB   7.1MB/s   00:20 ETA"
       ]
      },
      {
       "output_type": "stream",
       "stream": "stdout",
       "text": [
        "\r",
        "1.020.O.step1.genomecoverage.txt               87%  995MB   6.7MB/s   00:21 ETA"
       ]
      },
      {
       "output_type": "stream",
       "stream": "stdout",
       "text": [
        "\r",
        "1.020.O.step1.genomecoverage.txt               87%  998MB   6.3MB/s   00:22 ETA"
       ]
      },
      {
       "output_type": "stream",
       "stream": "stdout",
       "text": [
        "\r",
        "1.020.O.step1.genomecoverage.txt               87% 1000MB   5.9MB/s   00:23 ETA"
       ]
      },
      {
       "output_type": "stream",
       "stream": "stdout",
       "text": [
        "\r",
        "1.020.O.step1.genomecoverage.txt               87% 1003MB   5.6MB/s   00:24 ETA"
       ]
      },
      {
       "output_type": "stream",
       "stream": "stdout",
       "text": [
        "\r",
        "1.020.O.step1.genomecoverage.txt               88% 1006MB   5.3MB/s   00:25 ETA"
       ]
      },
      {
       "output_type": "stream",
       "stream": "stdout",
       "text": [
        "\r",
        "1.020.O.step1.genomecoverage.txt               88% 1008MB   5.0MB/s   00:26 ETA"
       ]
      },
      {
       "output_type": "stream",
       "stream": "stdout",
       "text": [
        "\r",
        "1.020.O.step1.genomecoverage.txt               88% 1012MB   4.9MB/s   00:26 ETA"
       ]
      },
      {
       "output_type": "stream",
       "stream": "stdout",
       "text": [
        "\r",
        "1.020.O.step1.genomecoverage.txt               89% 1016MB   4.8MB/s   00:25 ETA"
       ]
      },
      {
       "output_type": "stream",
       "stream": "stdout",
       "text": [
        "\r",
        "1.020.O.step1.genomecoverage.txt               89% 1021MB   4.8MB/s   00:24 ETA"
       ]
      },
      {
       "output_type": "stream",
       "stream": "stdout",
       "text": [
        "\r",
        "1.020.O.step1.genomecoverage.txt               89% 1026MB   4.8MB/s   00:23 ETA"
       ]
      },
      {
       "output_type": "stream",
       "stream": "stdout",
       "text": [
        "\r",
        "1.020.O.step1.genomecoverage.txt               90% 1031MB   4.9MB/s   00:22 ETA"
       ]
      },
      {
       "output_type": "stream",
       "stream": "stdout",
       "text": [
        "\r",
        "1.020.O.step1.genomecoverage.txt               90% 1036MB   4.9MB/s   00:21 ETA"
       ]
      },
      {
       "output_type": "stream",
       "stream": "stdout",
       "text": [
        "\r",
        "1.020.O.step1.genomecoverage.txt               91% 1041MB   4.9MB/s   00:20 ETA"
       ]
      },
      {
       "output_type": "stream",
       "stream": "stdout",
       "text": [
        "\r",
        "1.020.O.step1.genomecoverage.txt               91% 1047MB   5.0MB/s   00:18 ETA"
       ]
      },
      {
       "output_type": "stream",
       "stream": "stdout",
       "text": [
        "\r",
        "1.020.O.step1.genomecoverage.txt               92% 1052MB   5.0MB/s   00:17 ETA"
       ]
      },
      {
       "output_type": "stream",
       "stream": "stdout",
       "text": [
        "\r",
        "1.020.O.step1.genomecoverage.txt               92% 1058MB   5.1MB/s   00:16 ETA"
       ]
      },
      {
       "output_type": "stream",
       "stream": "stdout",
       "text": [
        "\r",
        "1.020.O.step1.genomecoverage.txt               93% 1063MB   5.1MB/s   00:15 ETA"
       ]
      },
      {
       "output_type": "stream",
       "stream": "stdout",
       "text": [
        "\r",
        "1.020.O.step1.genomecoverage.txt               93% 1068MB   5.1MB/s   00:14 ETA"
       ]
      },
      {
       "output_type": "stream",
       "stream": "stdout",
       "text": [
        "\r",
        "1.020.O.step1.genomecoverage.txt               94% 1073MB   5.1MB/s   00:13 ETA"
       ]
      },
      {
       "output_type": "stream",
       "stream": "stdout",
       "text": [
        "\r",
        "1.020.O.step1.genomecoverage.txt               94% 1076MB   4.9MB/s   00:13 ETA"
       ]
      },
      {
       "output_type": "stream",
       "stream": "stdout",
       "text": [
        "\r",
        "1.020.O.step1.genomecoverage.txt               94% 1078MB   4.6MB/s   00:13 ETA"
       ]
      },
      {
       "output_type": "stream",
       "stream": "stdout",
       "text": [
        "\r",
        "1.020.O.step1.genomecoverage.txt               94% 1081MB   4.4MB/s   00:13 ETA"
       ]
      },
      {
       "output_type": "stream",
       "stream": "stdout",
       "text": [
        "\r",
        "1.020.O.step1.genomecoverage.txt               94% 1083MB   4.2MB/s   00:13 ETA"
       ]
      },
      {
       "output_type": "stream",
       "stream": "stdout",
       "text": [
        "\r",
        "1.020.O.step1.genomecoverage.txt               95% 1086MB   4.0MB/s   00:13 ETA"
       ]
      },
      {
       "output_type": "stream",
       "stream": "stdout",
       "text": [
        "\r",
        "1.020.O.step1.genomecoverage.txt               95% 1088MB   3.9MB/s   00:13 ETA"
       ]
      },
      {
       "output_type": "stream",
       "stream": "stdout",
       "text": [
        "\r",
        "1.020.O.step1.genomecoverage.txt               95% 1091MB   3.8MB/s   00:13 ETA"
       ]
      },
      {
       "output_type": "stream",
       "stream": "stdout",
       "text": [
        "\r",
        "1.020.O.step1.genomecoverage.txt               95% 1095MB   3.8MB/s   00:12 ETA"
       ]
      },
      {
       "output_type": "stream",
       "stream": "stdout",
       "text": [
        "\r",
        "1.020.O.step1.genomecoverage.txt               96% 1099MB   3.9MB/s   00:10 ETA"
       ]
      },
      {
       "output_type": "stream",
       "stream": "stdout",
       "text": [
        "\r",
        "1.020.O.step1.genomecoverage.txt               96% 1105MB   4.0MB/s   00:09 ETA"
       ]
      },
      {
       "output_type": "stream",
       "stream": "stdout",
       "text": [
        "\r",
        "1.020.O.step1.genomecoverage.txt               97% 1114MB   4.5MB/s   00:06 ETA"
       ]
      },
      {
       "output_type": "stream",
       "stream": "stdout",
       "text": [
        "\r",
        "1.020.O.step1.genomecoverage.txt               98% 1123MB   5.0MB/s   00:03 ETA"
       ]
      },
      {
       "output_type": "stream",
       "stream": "stdout",
       "text": [
        "\r",
        "1.020.O.step1.genomecoverage.txt               99% 1133MB   5.5MB/s   00:01 ETA"
       ]
      },
      {
       "output_type": "stream",
       "stream": "stdout",
       "text": [
        "\r",
        "1.020.O.step1.genomecoverage.txt              100% 1141MB   5.4MB/s   03:31    \r\n"
       ]
      },
      {
       "output_type": "stream",
       "stream": "stdout",
       "text": [
        "\r",
        "1.040.O.step1.genomecoverage.txt                0%    0     0.0KB/s   --:-- ETA"
       ]
      },
      {
       "output_type": "stream",
       "stream": "stdout",
       "text": [
        "\r",
        "1.040.O.step1.genomecoverage.txt                0%   11MB  10.6MB/s   05:56 ETA"
       ]
      },
      {
       "output_type": "stream",
       "stream": "stdout",
       "text": [
        "\r",
        "1.040.O.step1.genomecoverage.txt                0%   20MB  10.5MB/s   06:00 ETA"
       ]
      },
      {
       "output_type": "stream",
       "stream": "stdout",
       "text": [
        "\r",
        "1.040.O.step1.genomecoverage.txt                0%   28MB  10.2MB/s   06:08 ETA"
       ]
      },
      {
       "output_type": "stream",
       "stream": "stdout",
       "text": [
        "\r",
        "1.040.O.step1.genomecoverage.txt                0%   35MB   9.9MB/s   06:20 ETA"
       ]
      },
      {
       "output_type": "stream",
       "stream": "stdout",
       "text": [
        "\r",
        "1.040.O.step1.genomecoverage.txt                1%   40MB   9.5MB/s   06:37 ETA"
       ]
      },
      {
       "output_type": "stream",
       "stream": "stdout",
       "text": [
        "\r",
        "1.040.O.step1.genomecoverage.txt                1%   46MB   9.1MB/s   06:53 ETA"
       ]
      },
      {
       "output_type": "stream",
       "stream": "stdout",
       "text": [
        "\r",
        "1.040.O.step1.genomecoverage.txt                1%   51MB   8.7MB/s   07:09 ETA"
       ]
      },
      {
       "output_type": "stream",
       "stream": "stdout",
       "text": [
        "\r",
        "1.040.O.step1.genomecoverage.txt                1%   57MB   8.4MB/s   07:23 ETA"
       ]
      },
      {
       "output_type": "stream",
       "stream": "stdout",
       "text": [
        "\r",
        "1.040.O.step1.genomecoverage.txt                1%   62MB   8.0MB/s   07:44 ETA"
       ]
      },
      {
       "output_type": "stream",
       "stream": "stdout",
       "text": [
        "\r",
        "1.040.O.step1.genomecoverage.txt                1%   66MB   7.6MB/s   08:09 ETA"
       ]
      },
      {
       "output_type": "stream",
       "stream": "stdout",
       "text": [
        "\r",
        "1.040.O.step1.genomecoverage.txt                1%   70MB   7.3MB/s   08:31 ETA"
       ]
      },
      {
       "output_type": "stream",
       "stream": "stdout",
       "text": [
        "\r",
        "1.040.O.step1.genomecoverage.txt                1%   74MB   7.0MB/s   08:52 ETA"
       ]
      },
      {
       "output_type": "stream",
       "stream": "stdout",
       "text": [
        "\r",
        "1.040.O.step1.genomecoverage.txt                2%   78MB   6.7MB/s   09:12 ETA"
       ]
      },
      {
       "output_type": "stream",
       "stream": "stdout",
       "text": [
        "\r",
        "1.040.O.step1.genomecoverage.txt                2%   83MB   6.5MB/s   09:32 ETA"
       ]
      },
      {
       "output_type": "stream",
       "stream": "stdout",
       "text": [
        "\r",
        "1.040.O.step1.genomecoverage.txt                2%   87MB   6.3MB/s   09:47 ETA"
       ]
      },
      {
       "output_type": "stream",
       "stream": "stdout",
       "text": [
        "\r",
        "1.040.O.step1.genomecoverage.txt                2%   93MB   6.2MB/s   09:57 ETA"
       ]
      },
      {
       "output_type": "stream",
       "stream": "stdout",
       "text": [
        "\r",
        "1.040.O.step1.genomecoverage.txt                2%   98MB   6.2MB/s   10:01 ETA"
       ]
      },
      {
       "output_type": "stream",
       "stream": "stdout",
       "text": [
        "\r",
        "1.040.O.step1.genomecoverage.txt                2%  106MB   6.3MB/s   09:49 ETA"
       ]
      },
      {
       "output_type": "stream",
       "stream": "stdout",
       "text": [
        "\r",
        "1.040.O.step1.genomecoverage.txt                3%  115MB   6.6MB/s   09:21 ETA"
       ]
      },
      {
       "output_type": "stream",
       "stream": "stdout",
       "text": [
        "\r",
        "1.040.O.step1.genomecoverage.txt                3%  126MB   7.0MB/s   08:42 ETA"
       ]
      },
      {
       "output_type": "stream",
       "stream": "stdout",
       "text": [
        "\r",
        "1.040.O.step1.genomecoverage.txt                3%  139MB   7.6MB/s   07:59 ETA"
       ]
      },
      {
       "output_type": "stream",
       "stream": "stdout",
       "text": [
        "\r",
        "1.040.O.step1.genomecoverage.txt                4%  152MB   8.2MB/s   07:26 ETA"
       ]
      },
      {
       "output_type": "stream",
       "stream": "stdout",
       "text": [
        "\r",
        "1.040.O.step1.genomecoverage.txt                4%  161MB   8.3MB/s   07:19 ETA"
       ]
      },
      {
       "output_type": "stream",
       "stream": "stdout",
       "text": [
        "\r",
        "1.040.O.step1.genomecoverage.txt                4%  169MB   8.2MB/s   07:20 ETA"
       ]
      },
      {
       "output_type": "stream",
       "stream": "stdout",
       "text": [
        "\r",
        "1.040.O.step1.genomecoverage.txt                4%  178MB   8.3MB/s   07:14 ETA"
       ]
      },
      {
       "output_type": "stream",
       "stream": "stdout",
       "text": [
        "\r",
        "1.040.O.step1.genomecoverage.txt                4%  185MB   8.2MB/s   07:22 ETA"
       ]
      },
      {
       "output_type": "stream",
       "stream": "stdout",
       "text": [
        "\r",
        "1.040.O.step1.genomecoverage.txt                5%  190MB   7.9MB/s   07:38 ETA"
       ]
      },
      {
       "output_type": "stream",
       "stream": "stdout",
       "text": [
        "\r",
        "1.040.O.step1.genomecoverage.txt                5%  195MB   7.6MB/s   07:54 ETA"
       ]
      },
      {
       "output_type": "stream",
       "stream": "stdout",
       "text": [
        "\r",
        "1.040.O.step1.genomecoverage.txt                5%  201MB   7.4MB/s   08:08 ETA"
       ]
      },
      {
       "output_type": "stream",
       "stream": "stdout",
       "text": [
        "\r",
        "1.040.O.step1.genomecoverage.txt                5%  205MB   7.0MB/s   08:31 ETA"
       ]
      },
      {
       "output_type": "stream",
       "stream": "stdout",
       "text": [
        "\r",
        "1.040.O.step1.genomecoverage.txt                5%  208MB   6.7MB/s   08:56 ETA"
       ]
      },
      {
       "output_type": "stream",
       "stream": "stdout",
       "text": [
        "\r",
        "1.040.O.step1.genomecoverage.txt                5%  212MB   6.4MB/s   09:19 ETA"
       ]
      },
      {
       "output_type": "stream",
       "stream": "stdout",
       "text": [
        "\r",
        "1.040.O.step1.genomecoverage.txt                5%  216MB   6.1MB/s   09:43 ETA"
       ]
      },
      {
       "output_type": "stream",
       "stream": "stdout",
       "text": [
        "\r",
        "1.040.O.step1.genomecoverage.txt                5%  220MB   5.9MB/s   10:06 ETA"
       ]
      },
      {
       "output_type": "stream",
       "stream": "stdout",
       "text": [
        "\r",
        "1.040.O.step1.genomecoverage.txt                5%  224MB   5.7MB/s   10:26 ETA"
       ]
      },
      {
       "output_type": "stream",
       "stream": "stdout",
       "text": [
        "\r",
        "1.040.O.step1.genomecoverage.txt                5%  228MB   5.5MB/s   10:43 ETA"
       ]
      },
      {
       "output_type": "stream",
       "stream": "stdout",
       "text": [
        "\r",
        "1.040.O.step1.genomecoverage.txt                6%  233MB   5.5MB/s   10:50 ETA"
       ]
      },
      {
       "output_type": "stream",
       "stream": "stdout",
       "text": [
        "\r",
        "1.040.O.step1.genomecoverage.txt                6%  239MB   5.5MB/s   10:44 ETA"
       ]
      },
      {
       "output_type": "stream",
       "stream": "stdout",
       "text": [
        "\r",
        "1.040.O.step1.genomecoverage.txt                6%  246MB   5.7MB/s   10:22 ETA"
       ]
      },
      {
       "output_type": "stream",
       "stream": "stdout",
       "text": [
        "\r",
        "1.040.O.step1.genomecoverage.txt                6%  253MB   5.8MB/s   10:08 ETA"
       ]
      },
      {
       "output_type": "stream",
       "stream": "stdout",
       "text": [
        "\r",
        "1.040.O.step1.genomecoverage.txt                6%  258MB   5.8MB/s   10:12 ETA"
       ]
      },
      {
       "output_type": "stream",
       "stream": "stdout",
       "text": [
        "\r",
        "1.040.O.step1.genomecoverage.txt                6%  264MB   5.8MB/s   10:11 ETA"
       ]
      },
      {
       "output_type": "stream",
       "stream": "stdout",
       "text": [
        "\r",
        "1.040.O.step1.genomecoverage.txt                7%  270MB   5.8MB/s   10:10 ETA"
       ]
      },
      {
       "output_type": "stream",
       "stream": "stdout",
       "text": [
        "\r",
        "1.040.O.step1.genomecoverage.txt                7%  275MB   5.7MB/s   10:17 ETA"
       ]
      },
      {
       "output_type": "stream",
       "stream": "stdout",
       "text": [
        "\r",
        "1.040.O.step1.genomecoverage.txt                7%  280MB   5.7MB/s   10:19 ETA"
       ]
      },
      {
       "output_type": "stream",
       "stream": "stdout",
       "text": [
        "\r",
        "1.040.O.step1.genomecoverage.txt                7%  283MB   5.4MB/s   10:48 ETA"
       ]
      },
      {
       "output_type": "stream",
       "stream": "stdout",
       "text": [
        "\r",
        "1.040.O.step1.genomecoverage.txt                7%  286MB   5.1MB/s   11:23 ETA"
       ]
      },
      {
       "output_type": "stream",
       "stream": "stdout",
       "text": [
        "\r",
        "1.040.O.step1.genomecoverage.txt                7%  288MB   4.9MB/s   11:59 ETA"
       ]
      },
      {
       "output_type": "stream",
       "stream": "stdout",
       "text": [
        "\r",
        "1.040.O.step1.genomecoverage.txt                7%  291MB   4.7MB/s   12:33 ETA"
       ]
      },
      {
       "output_type": "stream",
       "stream": "stdout",
       "text": [
        "\r",
        "1.040.O.step1.genomecoverage.txt                7%  293MB   4.4MB/s   13:09 ETA"
       ]
      },
      {
       "output_type": "stream",
       "stream": "stdout",
       "text": [
        "\r",
        "1.040.O.step1.genomecoverage.txt                7%  296MB   4.3MB/s   13:39 ETA"
       ]
      },
      {
       "output_type": "stream",
       "stream": "stdout",
       "text": [
        "\r",
        "1.040.O.step1.genomecoverage.txt                7%  299MB   4.1MB/s   14:08 ETA"
       ]
      },
      {
       "output_type": "stream",
       "stream": "stdout",
       "text": [
        "\r",
        "1.040.O.step1.genomecoverage.txt                7%  302MB   4.0MB/s   14:30 ETA"
       ]
      },
      {
       "output_type": "stream",
       "stream": "stdout",
       "text": [
        "\r",
        "1.040.O.step1.genomecoverage.txt                8%  306MB   4.0MB/s   14:35 ETA"
       ]
      },
      {
       "output_type": "stream",
       "stream": "stdout",
       "text": [
        "\r",
        "1.040.O.step1.genomecoverage.txt                8%  310MB   4.0MB/s   14:37 ETA"
       ]
      },
      {
       "output_type": "stream",
       "stream": "stdout",
       "text": [
        "\r",
        "1.040.O.step1.genomecoverage.txt                8%  314MB   4.0MB/s   14:32 ETA"
       ]
      },
      {
       "output_type": "stream",
       "stream": "stdout",
       "text": [
        "\r",
        "1.040.O.step1.genomecoverage.txt                8%  318MB   4.0MB/s   14:36 ETA"
       ]
      },
      {
       "output_type": "stream",
       "stream": "stdout",
       "text": [
        "\r",
        "1.040.O.step1.genomecoverage.txt                8%  321MB   3.9MB/s   14:41 ETA"
       ]
      },
      {
       "output_type": "stream",
       "stream": "stdout",
       "text": [
        "\r",
        "1.040.O.step1.genomecoverage.txt                8%  325MB   3.9MB/s   14:41 ETA"
       ]
      },
      {
       "output_type": "stream",
       "stream": "stdout",
       "text": [
        "\r",
        "1.040.O.step1.genomecoverage.txt                8%  329MB   3.9MB/s   14:42 ETA"
       ]
      },
      {
       "output_type": "stream",
       "stream": "stdout",
       "text": [
        "\r",
        "1.040.O.step1.genomecoverage.txt                8%  333MB   3.9MB/s   14:50 ETA"
       ]
      },
      {
       "output_type": "stream",
       "stream": "stdout",
       "text": [
        "\r",
        "1.040.O.step1.genomecoverage.txt                8%  335MB   3.8MB/s   15:11 ETA"
       ]
      },
      {
       "output_type": "stream",
       "stream": "stdout",
       "text": [
        "\r",
        "1.040.O.step1.genomecoverage.txt                8%  337MB   3.5MB/s   16:25 ETA"
       ]
      },
      {
       "output_type": "stream",
       "stream": "stdout",
       "text": [
        "\r",
        "1.040.O.step1.genomecoverage.txt                8%  339MB   3.4MB/s   17:10 ETA"
       ]
      },
      {
       "output_type": "stream",
       "stream": "stdout",
       "text": [
        "\r",
        "1.040.O.step1.genomecoverage.txt                8%  341MB   3.2MB/s   17:54 ETA"
       ]
      },
      {
       "output_type": "stream",
       "stream": "stdout",
       "text": [
        "\r",
        "1.040.O.step1.genomecoverage.txt                9%  344MB   3.1MB/s   18:27 ETA"
       ]
      },
      {
       "output_type": "stream",
       "stream": "stdout",
       "text": [
        "\r",
        "1.040.O.step1.genomecoverage.txt                9%  346MB   3.0MB/s   18:56 ETA"
       ]
      },
      {
       "output_type": "stream",
       "stream": "stdout",
       "text": [
        "\r",
        "1.040.O.step1.genomecoverage.txt                9%  348MB   3.0MB/s   19:16 ETA"
       ]
      },
      {
       "output_type": "stream",
       "stream": "stdout",
       "text": [
        "\r",
        "1.040.O.step1.genomecoverage.txt                9%  351MB   3.0MB/s   19:16 ETA"
       ]
      },
      {
       "output_type": "stream",
       "stream": "stdout",
       "text": [
        "\r",
        "1.040.O.step1.genomecoverage.txt                9%  356MB   3.1MB/s   18:20 ETA"
       ]
      },
      {
       "output_type": "stream",
       "stream": "stdout",
       "text": [
        "\r",
        "1.040.O.step1.genomecoverage.txt                9%  361MB   3.4MB/s   16:53 ETA"
       ]
      },
      {
       "output_type": "stream",
       "stream": "stdout",
       "text": [
        "\r",
        "1.040.O.step1.genomecoverage.txt                9%  370MB   3.9MB/s   14:47 ETA"
       ]
      },
      {
       "output_type": "stream",
       "stream": "stdout",
       "text": [
        "\r",
        "1.040.O.step1.genomecoverage.txt               10%  380MB   4.5MB/s   12:32 ETA"
       ]
      },
      {
       "output_type": "stream",
       "stream": "stdout",
       "text": [
        "\r",
        "1.040.O.step1.genomecoverage.txt               10%  393MB   5.3MB/s   10:38 ETA"
       ]
      },
      {
       "output_type": "stream",
       "stream": "stdout",
       "text": [
        "\r",
        "1.040.O.step1.genomecoverage.txt               10%  404MB   5.9MB/s   09:30 ETA"
       ]
      },
      {
       "output_type": "stream",
       "stream": "stdout",
       "text": [
        "\r",
        "1.040.O.step1.genomecoverage.txt               10%  412MB   6.2MB/s   09:08 ETA"
       ]
      },
      {
       "output_type": "stream",
       "stream": "stdout",
       "text": [
        "\r",
        "1.040.O.step1.genomecoverage.txt               11%  419MB   6.3MB/s   08:58 ETA"
       ]
      },
      {
       "output_type": "stream",
       "stream": "stdout",
       "text": [
        "\r",
        "1.040.O.step1.genomecoverage.txt               11%  427MB   6.4MB/s   08:46 ETA"
       ]
      },
      {
       "output_type": "stream",
       "stream": "stdout",
       "text": [
        "\r",
        "1.040.O.step1.genomecoverage.txt               11%  434MB   6.5MB/s   08:36 ETA"
       ]
      },
      {
       "output_type": "stream",
       "stream": "stdout",
       "text": [
        "\r",
        "1.040.O.step1.genomecoverage.txt               11%  442MB   6.6MB/s   08:27 ETA"
       ]
      },
      {
       "output_type": "stream",
       "stream": "stdout",
       "text": [
        "\r",
        "1.040.O.step1.genomecoverage.txt               11%  449MB   6.7MB/s   08:20 ETA"
       ]
      },
      {
       "output_type": "stream",
       "stream": "stdout",
       "text": [
        "\r",
        "1.040.O.step1.genomecoverage.txt               12%  456MB   6.7MB/s   08:19 ETA"
       ]
      },
      {
       "output_type": "stream",
       "stream": "stdout",
       "text": [
        "\r",
        "1.040.O.step1.genomecoverage.txt               12%  461MB   6.5MB/s   08:29 ETA"
       ]
      },
      {
       "output_type": "stream",
       "stream": "stdout",
       "text": [
        "\r",
        "1.040.O.step1.genomecoverage.txt               12%  467MB   6.4MB/s   08:37 ETA"
       ]
      },
      {
       "output_type": "stream",
       "stream": "stdout",
       "text": [
        "\r",
        "1.040.O.step1.genomecoverage.txt               12%  472MB   6.4MB/s   08:42 ETA"
       ]
      },
      {
       "output_type": "stream",
       "stream": "stdout",
       "text": [
        "\r",
        "1.040.O.step1.genomecoverage.txt               12%  477MB   6.2MB/s   08:53 ETA"
       ]
      },
      {
       "output_type": "stream",
       "stream": "stdout",
       "text": [
        "\r",
        "1.040.O.step1.genomecoverage.txt               12%  482MB   6.1MB/s   09:04 ETA"
       ]
      },
      {
       "output_type": "stream",
       "stream": "stdout",
       "text": [
        "\r",
        "1.040.O.step1.genomecoverage.txt               12%  486MB   5.9MB/s   09:22 ETA"
       ]
      },
      {
       "output_type": "stream",
       "stream": "stdout",
       "text": [
        "\r",
        "1.040.O.step1.genomecoverage.txt               12%  491MB   5.7MB/s   09:36 ETA"
       ]
      },
      {
       "output_type": "stream",
       "stream": "stdout",
       "text": [
        "\r",
        "1.040.O.step1.genomecoverage.txt               13%  495MB   5.6MB/s   09:47 ETA"
       ]
      },
      {
       "output_type": "stream",
       "stream": "stdout",
       "text": [
        "\r",
        "1.040.O.step1.genomecoverage.txt               13%  500MB   5.5MB/s   09:59 ETA"
       ]
      },
      {
       "output_type": "stream",
       "stream": "stdout",
       "text": [
        "\r",
        "1.040.O.step1.genomecoverage.txt               13%  504MB   5.3MB/s   10:16 ETA"
       ]
      },
      {
       "output_type": "stream",
       "stream": "stdout",
       "text": [
        "\r",
        "1.040.O.step1.genomecoverage.txt               13%  507MB   5.2MB/s   10:34 ETA"
       ]
      },
      {
       "output_type": "stream",
       "stream": "stdout",
       "text": [
        "\r",
        "1.040.O.step1.genomecoverage.txt               13%  512MB   5.1MB/s   10:46 ETA"
       ]
      },
      {
       "output_type": "stream",
       "stream": "stdout",
       "text": [
        "\r",
        "1.040.O.step1.genomecoverage.txt               13%  516MB   5.0MB/s   10:56 ETA"
       ]
      },
      {
       "output_type": "stream",
       "stream": "stdout",
       "text": [
        "\r",
        "1.040.O.step1.genomecoverage.txt               13%  520MB   4.9MB/s   11:02 ETA"
       ]
      },
      {
       "output_type": "stream",
       "stream": "stdout",
       "text": [
        "\r",
        "1.040.O.step1.genomecoverage.txt               13%  525MB   4.9MB/s   11:07 ETA"
       ]
      },
      {
       "output_type": "stream",
       "stream": "stdout",
       "text": [
        "\r",
        "1.040.O.step1.genomecoverage.txt               13%  529MB   4.9MB/s   11:12 ETA"
       ]
      },
      {
       "output_type": "stream",
       "stream": "stdout",
       "text": [
        "\r",
        "1.040.O.step1.genomecoverage.txt               14%  534MB   4.9MB/s   11:09 ETA"
       ]
      },
      {
       "output_type": "stream",
       "stream": "stdout",
       "text": [
        "\r",
        "1.040.O.step1.genomecoverage.txt               14%  540MB   4.9MB/s   11:01 ETA"
       ]
      },
      {
       "output_type": "stream",
       "stream": "stdout",
       "text": [
        "\r",
        "1.040.O.step1.genomecoverage.txt               14%  544MB   4.9MB/s   11:03 ETA"
       ]
      },
      {
       "output_type": "stream",
       "stream": "stdout",
       "text": [
        "\r",
        "1.040.O.step1.genomecoverage.txt               14%  550MB   5.0MB/s   10:55 ETA"
       ]
      },
      {
       "output_type": "stream",
       "stream": "stdout",
       "text": [
        "\r",
        "1.040.O.step1.genomecoverage.txt               14%  555MB   5.0MB/s   10:52 ETA"
       ]
      },
      {
       "output_type": "stream",
       "stream": "stdout",
       "text": [
        "\r",
        "1.040.O.step1.genomecoverage.txt               14%  560MB   4.9MB/s   10:55 ETA"
       ]
      },
      {
       "output_type": "stream",
       "stream": "stdout",
       "text": [
        "\r",
        "1.040.O.step1.genomecoverage.txt               14%  565MB   5.0MB/s   10:52 ETA"
       ]
      },
      {
       "output_type": "stream",
       "stream": "stdout",
       "text": [
        "\r",
        "1.040.O.step1.genomecoverage.txt               15%  569MB   4.9MB/s   10:53 ETA"
       ]
      },
      {
       "output_type": "stream",
       "stream": "stdout",
       "text": [
        "\r",
        "1.040.O.step1.genomecoverage.txt               15%  573MB   4.8MB/s   11:09 ETA"
       ]
      },
      {
       "output_type": "stream",
       "stream": "stdout",
       "text": [
        "\r",
        "1.040.O.step1.genomecoverage.txt               15%  577MB   4.7MB/s   11:21 ETA"
       ]
      },
      {
       "output_type": "stream",
       "stream": "stdout",
       "text": [
        "\r",
        "1.040.O.step1.genomecoverage.txt               15%  581MB   4.6MB/s   11:34 ETA"
       ]
      },
      {
       "output_type": "stream",
       "stream": "stdout",
       "text": [
        "\r",
        "1.040.O.step1.genomecoverage.txt               15%  585MB   4.6MB/s   11:42 ETA"
       ]
      },
      {
       "output_type": "stream",
       "stream": "stdout",
       "text": [
        "\r",
        "1.040.O.step1.genomecoverage.txt               15%  589MB   4.5MB/s   11:50 ETA"
       ]
      },
      {
       "output_type": "stream",
       "stream": "stdout",
       "text": [
        "\r",
        "1.040.O.step1.genomecoverage.txt               15%  592MB   4.4MB/s   12:03 ETA"
       ]
      },
      {
       "output_type": "stream",
       "stream": "stdout",
       "text": [
        "\r",
        "1.040.O.step1.genomecoverage.txt               15%  597MB   4.5MB/s   11:57 ETA"
       ]
      },
      {
       "output_type": "stream",
       "stream": "stdout",
       "text": [
        "\r",
        "1.040.O.step1.genomecoverage.txt               15%  602MB   4.5MB/s   11:43 ETA"
       ]
      },
      {
       "output_type": "stream",
       "stream": "stdout",
       "text": [
        "\r",
        "1.040.O.step1.genomecoverage.txt               16%  608MB   4.7MB/s   11:19 ETA"
       ]
      },
      {
       "output_type": "stream",
       "stream": "stdout",
       "text": [
        "\r",
        "1.040.O.step1.genomecoverage.txt               16%  617MB   5.1MB/s   10:29 ETA"
       ]
      },
      {
       "output_type": "stream",
       "stream": "stdout",
       "text": [
        "\r",
        "1.040.O.step1.genomecoverage.txt               16%  625MB   5.4MB/s   09:50 ETA"
       ]
      },
      {
       "output_type": "stream",
       "stream": "stdout",
       "text": [
        "\r",
        "1.040.O.step1.genomecoverage.txt               16%  632MB   5.6MB/s   09:28 ETA"
       ]
      },
      {
       "output_type": "stream",
       "stream": "stdout",
       "text": [
        "\r",
        "1.040.O.step1.genomecoverage.txt               16%  639MB   5.7MB/s   09:14 ETA"
       ]
      },
      {
       "output_type": "stream",
       "stream": "stdout",
       "text": [
        "\r",
        "1.040.O.step1.genomecoverage.txt               17%  646MB   5.8MB/s   09:00 ETA"
       ]
      },
      {
       "output_type": "stream",
       "stream": "stdout",
       "text": [
        "\r",
        "1.040.O.step1.genomecoverage.txt               17%  654MB   6.0MB/s   08:45 ETA"
       ]
      },
      {
       "output_type": "stream",
       "stream": "stdout",
       "text": [
        "\r",
        "1.040.O.step1.genomecoverage.txt               17%  661MB   6.1MB/s   08:33 ETA"
       ]
      },
      {
       "output_type": "stream",
       "stream": "stdout",
       "text": [
        "\r",
        "1.040.O.step1.genomecoverage.txt               17%  668MB   6.2MB/s   08:21 ETA"
       ]
      },
      {
       "output_type": "stream",
       "stream": "stdout",
       "text": [
        "\r",
        "1.040.O.step1.genomecoverage.txt               17%  676MB   6.4MB/s   08:10 ETA"
       ]
      },
      {
       "output_type": "stream",
       "stream": "stdout",
       "text": [
        "\r",
        "1.040.O.step1.genomecoverage.txt               17%  682MB   6.3MB/s   08:11 ETA"
       ]
      },
      {
       "output_type": "stream",
       "stream": "stdout",
       "text": [
        "\r",
        "1.040.O.step1.genomecoverage.txt               18%  688MB   6.4MB/s   08:08 ETA"
       ]
      },
      {
       "output_type": "stream",
       "stream": "stdout",
       "text": [
        "\r",
        "1.040.O.step1.genomecoverage.txt               18%  696MB   6.5MB/s   08:00 ETA"
       ]
      },
      {
       "output_type": "stream",
       "stream": "stdout",
       "text": [
        "\r",
        "1.040.O.step1.genomecoverage.txt               18%  703MB   6.5MB/s   07:54 ETA"
       ]
      },
      {
       "output_type": "stream",
       "stream": "stdout",
       "text": [
        "\r",
        "1.040.O.step1.genomecoverage.txt               18%  708MB   6.4MB/s   08:00 ETA"
       ]
      },
      {
       "output_type": "stream",
       "stream": "stdout",
       "text": [
        "\r",
        "1.040.O.step1.genomecoverage.txt               18%  715MB   6.4MB/s   07:57 ETA"
       ]
      },
      {
       "output_type": "stream",
       "stream": "stdout",
       "text": [
        "\r",
        "1.040.O.step1.genomecoverage.txt               19%  722MB   6.5MB/s   07:54 ETA"
       ]
      },
      {
       "output_type": "stream",
       "stream": "stdout",
       "text": [
        "\r",
        "1.040.O.step1.genomecoverage.txt               19%  726MB   6.3MB/s   08:11 ETA"
       ]
      },
      {
       "output_type": "stream",
       "stream": "stdout",
       "text": [
        "\r",
        "1.040.O.step1.genomecoverage.txt               19%  730MB   6.0MB/s   08:27 ETA"
       ]
      },
      {
       "output_type": "stream",
       "stream": "stdout",
       "text": [
        "\r",
        "1.040.O.step1.genomecoverage.txt               19%  734MB   5.8MB/s   08:49 ETA"
       ]
      },
      {
       "output_type": "stream",
       "stream": "stdout",
       "text": [
        "\r",
        "1.040.O.step1.genomecoverage.txt               19%  737MB   5.6MB/s   09:10 ETA"
       ]
      },
      {
       "output_type": "stream",
       "stream": "stdout",
       "text": [
        "\r",
        "1.040.O.step1.genomecoverage.txt               19%  741MB   5.4MB/s   09:27 ETA"
       ]
      },
      {
       "output_type": "stream",
       "stream": "stdout",
       "text": [
        "\r",
        "1.040.O.step1.genomecoverage.txt               19%  745MB   5.2MB/s   09:44 ETA"
       ]
      },
      {
       "output_type": "stream",
       "stream": "stdout",
       "text": [
        "\r",
        "1.040.O.step1.genomecoverage.txt               19%  748MB   5.1MB/s   10:02 ETA"
       ]
      },
      {
       "output_type": "stream",
       "stream": "stdout",
       "text": [
        "\r",
        "1.040.O.step1.genomecoverage.txt               19%  751MB   4.9MB/s   10:27 ETA"
       ]
      },
      {
       "output_type": "stream",
       "stream": "stdout",
       "text": [
        "\r",
        "1.040.O.step1.genomecoverage.txt               19%  755MB   4.7MB/s   10:44 ETA"
       ]
      },
      {
       "output_type": "stream",
       "stream": "stdout",
       "text": [
        "\r",
        "1.040.O.step1.genomecoverage.txt               19%  758MB   4.6MB/s   10:58 ETA"
       ]
      },
      {
       "output_type": "stream",
       "stream": "stdout",
       "text": [
        "\r",
        "1.040.O.step1.genomecoverage.txt               20%  762MB   4.5MB/s   11:10 ETA"
       ]
      },
      {
       "output_type": "stream",
       "stream": "stdout",
       "text": [
        "\r",
        "1.040.O.step1.genomecoverage.txt               20%  766MB   4.5MB/s   11:20 ETA"
       ]
      },
      {
       "output_type": "stream",
       "stream": "stdout",
       "text": [
        "\r",
        "1.040.O.step1.genomecoverage.txt               20%  770MB   4.4MB/s   11:30 ETA"
       ]
      },
      {
       "output_type": "stream",
       "stream": "stdout",
       "text": [
        "\r",
        "1.040.O.step1.genomecoverage.txt               20%  774MB   4.4MB/s   11:33 ETA"
       ]
      },
      {
       "output_type": "stream",
       "stream": "stdout",
       "text": [
        "\r",
        "1.040.O.step1.genomecoverage.txt               20%  779MB   4.4MB/s   11:24 ETA"
       ]
      },
      {
       "output_type": "stream",
       "stream": "stdout",
       "text": [
        "\r",
        "1.040.O.step1.genomecoverage.txt               20%  784MB   4.5MB/s   11:06 ETA"
       ]
      },
      {
       "output_type": "stream",
       "stream": "stdout",
       "text": [
        "\r",
        "1.040.O.step1.genomecoverage.txt               20%  791MB   4.8MB/s   10:26 ETA"
       ]
      },
      {
       "output_type": "stream",
       "stream": "stdout",
       "text": [
        "\r",
        "1.040.O.step1.genomecoverage.txt               21%  800MB   5.2MB/s   09:35 ETA"
       ]
      },
      {
       "output_type": "stream",
       "stream": "stdout",
       "text": [
        "\r",
        "1.040.O.step1.genomecoverage.txt               21%  809MB   5.5MB/s   09:02 ETA"
       ]
      },
      {
       "output_type": "stream",
       "stream": "stdout",
       "text": [
        "\r",
        "1.040.O.step1.genomecoverage.txt               21%  814MB   5.5MB/s   08:57 ETA"
       ]
      },
      {
       "output_type": "stream",
       "stream": "stdout",
       "text": [
        "\r",
        "1.040.O.step1.genomecoverage.txt               21%  820MB   5.5MB/s   09:00 ETA"
       ]
      },
      {
       "output_type": "stream",
       "stream": "stdout",
       "text": [
        "\r",
        "1.040.O.step1.genomecoverage.txt               21%  826MB   5.5MB/s   08:55 ETA"
       ]
      },
      {
       "output_type": "stream",
       "stream": "stdout",
       "text": [
        "\r",
        "1.040.O.step1.genomecoverage.txt               21%  831MB   5.6MB/s   08:51 ETA"
       ]
      },
      {
       "output_type": "stream",
       "stream": "stdout",
       "text": [
        "\r",
        "1.040.O.step1.genomecoverage.txt               22%  837MB   5.6MB/s   08:45 ETA"
       ]
      },
      {
       "output_type": "stream",
       "stream": "stdout",
       "text": [
        "\r",
        "1.040.O.step1.genomecoverage.txt               22%  844MB   5.7MB/s   08:39 ETA"
       ]
      },
      {
       "output_type": "stream",
       "stream": "stdout",
       "text": [
        "\r",
        "1.040.O.step1.genomecoverage.txt               22%  850MB   5.7MB/s   08:34 ETA"
       ]
      },
      {
       "output_type": "stream",
       "stream": "stdout",
       "text": [
        "\r",
        "1.040.O.step1.genomecoverage.txt               22%  857MB   5.9MB/s   08:21 ETA"
       ]
      },
      {
       "output_type": "stream",
       "stream": "stdout",
       "text": [
        "\r",
        "1.040.O.step1.genomecoverage.txt               22%  864MB   6.0MB/s   08:06 ETA"
       ]
      },
      {
       "output_type": "stream",
       "stream": "stdout",
       "text": [
        "\r",
        "1.040.O.step1.genomecoverage.txt               23%  873MB   6.3MB/s   07:42 ETA"
       ]
      },
      {
       "output_type": "stream",
       "stream": "stdout",
       "text": [
        "\r",
        "1.040.O.step1.genomecoverage.txt               23%  883MB   6.7MB/s   07:16 ETA"
       ]
      },
      {
       "output_type": "stream",
       "stream": "stdout",
       "text": [
        "\r",
        "1.040.O.step1.genomecoverage.txt               23%  889MB   6.6MB/s   07:21 ETA"
       ]
      },
      {
       "output_type": "stream",
       "stream": "stdout",
       "text": [
        "\r",
        "1.040.O.step1.genomecoverage.txt               23%  894MB   6.4MB/s   07:31 ETA"
       ]
      },
      {
       "output_type": "stream",
       "stream": "stdout",
       "text": [
        "\r",
        "1.040.O.step1.genomecoverage.txt               23%  898MB   6.2MB/s   07:49 ETA"
       ]
      },
      {
       "output_type": "stream",
       "stream": "stdout",
       "text": [
        "\r",
        "1.040.O.step1.genomecoverage.txt               23%  901MB   5.8MB/s   08:16 ETA"
       ]
      },
      {
       "output_type": "stream",
       "stream": "stdout",
       "text": [
        "\r",
        "1.040.O.step1.genomecoverage.txt               23%  903MB   5.5MB/s   08:45 ETA"
       ]
      },
      {
       "output_type": "stream",
       "stream": "stdout",
       "text": [
        "\r",
        "1.040.O.step1.genomecoverage.txt               23%  906MB   5.2MB/s   09:12 ETA"
       ]
      },
      {
       "output_type": "stream",
       "stream": "stdout",
       "text": [
        "\r",
        "1.040.O.step1.genomecoverage.txt               23%  909MB   5.0MB/s   09:40 ETA"
       ]
      },
      {
       "output_type": "stream",
       "stream": "stdout",
       "text": [
        "\r",
        "1.040.O.step1.genomecoverage.txt               24%  911MB   4.7MB/s   10:08 ETA"
       ]
      },
      {
       "output_type": "stream",
       "stream": "stdout",
       "text": [
        "\r",
        "1.040.O.step1.genomecoverage.txt               24%  914MB   4.6MB/s   10:33 ETA"
       ]
      },
      {
       "output_type": "stream",
       "stream": "stdout",
       "text": [
        "\r",
        "1.040.O.step1.genomecoverage.txt               24%  917MB   4.4MB/s   10:48 ETA"
       ]
      },
      {
       "output_type": "stream",
       "stream": "stdout",
       "text": [
        "\r",
        "1.040.O.step1.genomecoverage.txt               24%  920MB   4.3MB/s   11:10 ETA"
       ]
      },
      {
       "output_type": "stream",
       "stream": "stdout",
       "text": [
        "\r",
        "1.040.O.step1.genomecoverage.txt               24%  923MB   4.1MB/s   11:39 ETA"
       ]
      },
      {
       "output_type": "stream",
       "stream": "stdout",
       "text": [
        "\r",
        "1.040.O.step1.genomecoverage.txt               24%  926MB   4.0MB/s   12:02 ETA"
       ]
      },
      {
       "output_type": "stream",
       "stream": "stdout",
       "text": [
        "\r",
        "1.040.O.step1.genomecoverage.txt               24%  928MB   3.9MB/s   12:24 ETA"
       ]
      },
      {
       "output_type": "stream",
       "stream": "stdout",
       "text": [
        "\r",
        "1.040.O.step1.genomecoverage.txt               24%  931MB   3.7MB/s   12:46 ETA"
       ]
      },
      {
       "output_type": "stream",
       "stream": "stdout",
       "text": [
        "\r",
        "1.040.O.step1.genomecoverage.txt               24%  933MB   3.6MB/s   13:14 ETA"
       ]
      },
      {
       "output_type": "stream",
       "stream": "stdout",
       "text": [
        "\r",
        "1.040.O.step1.genomecoverage.txt               24%  936MB   3.5MB/s   13:35 ETA"
       ]
      },
      {
       "output_type": "stream",
       "stream": "stdout",
       "text": [
        "\r",
        "1.040.O.step1.genomecoverage.txt               24%  939MB   3.4MB/s   13:53 ETA"
       ]
      },
      {
       "output_type": "stream",
       "stream": "stdout",
       "text": [
        "\r",
        "1.040.O.step1.genomecoverage.txt               24%  942MB   3.4MB/s   14:09 ETA"
       ]
      },
      {
       "output_type": "stream",
       "stream": "stdout",
       "text": [
        "\r",
        "1.040.O.step1.genomecoverage.txt               24%  944MB   3.3MB/s   14:24 ETA"
       ]
      },
      {
       "output_type": "stream",
       "stream": "stdout",
       "text": [
        "\r",
        "1.040.O.step1.genomecoverage.txt               24%  947MB   3.3MB/s   14:34 ETA"
       ]
      },
      {
       "output_type": "stream",
       "stream": "stdout",
       "text": [
        "\r",
        "1.040.O.step1.genomecoverage.txt               25%  950MB   3.2MB/s   14:38 ETA"
       ]
      },
      {
       "output_type": "stream",
       "stream": "stdout",
       "text": [
        "\r",
        "1.040.O.step1.genomecoverage.txt               25%  954MB   3.3MB/s   14:17 ETA"
       ]
      },
      {
       "output_type": "stream",
       "stream": "stdout",
       "text": [
        "\r",
        "1.040.O.step1.genomecoverage.txt               25%  959MB   3.5MB/s   13:42 ETA"
       ]
      },
      {
       "output_type": "stream",
       "stream": "stdout",
       "text": [
        "\r",
        "1.040.O.step1.genomecoverage.txt               25%  963MB   3.5MB/s   13:21 ETA"
       ]
      },
      {
       "output_type": "stream",
       "stream": "stdout",
       "text": [
        "\r",
        "1.040.O.step1.genomecoverage.txt               25%  966MB   3.5MB/s   13:31 ETA"
       ]
      },
      {
       "output_type": "stream",
       "stream": "stdout",
       "text": [
        "\r",
        "1.040.O.step1.genomecoverage.txt               25%  970MB   3.5MB/s   13:31 ETA"
       ]
      },
      {
       "output_type": "stream",
       "stream": "stdout",
       "text": [
        "\r",
        "1.040.O.step1.genomecoverage.txt               25%  973MB   3.5MB/s   13:30 ETA"
       ]
      },
      {
       "output_type": "stream",
       "stream": "stdout",
       "text": [
        "\r",
        "1.040.O.step1.genomecoverage.txt               25%  977MB   3.5MB/s   13:26 ETA"
       ]
      },
      {
       "output_type": "stream",
       "stream": "stdout",
       "text": [
        "\r",
        "1.040.O.step1.genomecoverage.txt               25%  980MB   3.5MB/s   13:22 ETA"
       ]
      },
      {
       "output_type": "stream",
       "stream": "stdout",
       "text": [
        "\r",
        "1.040.O.step1.genomecoverage.txt               25%  984MB   3.5MB/s   13:15 ETA"
       ]
      },
      {
       "output_type": "stream",
       "stream": "stdout",
       "text": [
        "\r",
        "1.040.O.step1.genomecoverage.txt               26%  988MB   3.6MB/s   12:59 ETA"
       ]
      },
      {
       "output_type": "stream",
       "stream": "stdout",
       "text": [
        "\r",
        "1.040.O.step1.genomecoverage.txt               26%  993MB   3.7MB/s   12:28 ETA"
       ]
      },
      {
       "output_type": "stream",
       "stream": "stdout",
       "text": [
        "\r",
        "1.040.O.step1.genomecoverage.txt               26%  998MB   3.8MB/s   12:12 ETA"
       ]
      },
      {
       "output_type": "stream",
       "stream": "stdout",
       "text": [
        "\r",
        "1.040.O.step1.genomecoverage.txt               26% 1003MB   4.0MB/s   11:46 ETA"
       ]
      },
      {
       "output_type": "stream",
       "stream": "stdout",
       "text": [
        "\r",
        "1.040.O.step1.genomecoverage.txt               26% 1009MB   4.1MB/s   11:19 ETA"
       ]
      },
      {
       "output_type": "stream",
       "stream": "stdout",
       "text": [
        "\r",
        "1.040.O.step1.genomecoverage.txt               26% 1014MB   4.2MB/s   10:57 ETA"
       ]
      },
      {
       "output_type": "stream",
       "stream": "stdout",
       "text": [
        "\r",
        "1.040.O.step1.genomecoverage.txt               26% 1019MB   4.3MB/s   10:40 ETA"
       ]
      },
      {
       "output_type": "stream",
       "stream": "stdout",
       "text": [
        "\r",
        "1.040.O.step1.genomecoverage.txt               27% 1025MB   4.4MB/s   10:24 ETA"
       ]
      },
      {
       "output_type": "stream",
       "stream": "stdout",
       "text": [
        "\r",
        "1.040.O.step1.genomecoverage.txt               27% 1030MB   4.5MB/s   10:13 ETA"
       ]
      },
      {
       "output_type": "stream",
       "stream": "stdout",
       "text": [
        "\r",
        "1.040.O.step1.genomecoverage.txt               27% 1035MB   4.5MB/s   10:08 ETA"
       ]
      },
      {
       "output_type": "stream",
       "stream": "stdout",
       "text": [
        "\r",
        "1.040.O.step1.genomecoverage.txt               27% 1039MB   4.5MB/s   10:07 ETA"
       ]
      },
      {
       "output_type": "stream",
       "stream": "stdout",
       "text": [
        "\r",
        "1.040.O.step1.genomecoverage.txt               27% 1043MB   4.5MB/s   10:11 ETA"
       ]
      },
      {
       "output_type": "stream",
       "stream": "stdout",
       "text": [
        "\r",
        "1.040.O.step1.genomecoverage.txt               27% 1048MB   4.5MB/s   10:13 ETA"
       ]
      },
      {
       "output_type": "stream",
       "stream": "stdout",
       "text": [
        "\r",
        "1.040.O.step1.genomecoverage.txt               27% 1052MB   4.5MB/s   10:12 ETA"
       ]
      },
      {
       "output_type": "stream",
       "stream": "stdout",
       "text": [
        "\r",
        "1.040.O.step1.genomecoverage.txt               27% 1055MB   4.4MB/s   10:29 ETA"
       ]
      },
      {
       "output_type": "stream",
       "stream": "stdout",
       "text": [
        "\r",
        "1.040.O.step1.genomecoverage.txt               27% 1058MB   4.2MB/s   10:59 ETA"
       ]
      },
      {
       "output_type": "stream",
       "stream": "stdout",
       "text": [
        "\r",
        "1.040.O.step1.genomecoverage.txt               27% 1060MB   4.0MB/s   11:28 ETA"
       ]
      },
      {
       "output_type": "stream",
       "stream": "stdout",
       "text": [
        "\r",
        "1.040.O.step1.genomecoverage.txt               27% 1062MB   3.8MB/s   11:56 ETA"
       ]
      },
      {
       "output_type": "stream",
       "stream": "stdout",
       "text": [
        "\r",
        "1.040.O.step1.genomecoverage.txt               28% 1065MB   3.7MB/s   12:18 ETA"
       ]
      },
      {
       "output_type": "stream",
       "stream": "stdout",
       "text": [
        "\r",
        "1.040.O.step1.genomecoverage.txt               28% 1068MB   3.6MB/s   12:39 ETA"
       ]
      },
      {
       "output_type": "stream",
       "stream": "stdout",
       "text": [
        "\r",
        "1.040.O.step1.genomecoverage.txt               28% 1070MB   3.5MB/s   13:02 ETA"
       ]
      },
      {
       "output_type": "stream",
       "stream": "stdout",
       "text": [
        "\r",
        "1.040.O.step1.genomecoverage.txt               28% 1072MB   3.4MB/s   13:33 ETA"
       ]
      },
      {
       "output_type": "stream",
       "stream": "stdout",
       "text": [
        "\r",
        "1.040.O.step1.genomecoverage.txt               28% 1074MB   3.2MB/s   14:09 ETA"
       ]
      },
      {
       "output_type": "stream",
       "stream": "stdout",
       "text": [
        "\r",
        "1.040.O.step1.genomecoverage.txt               28% 1076MB   3.1MB/s   14:41 ETA"
       ]
      },
      {
       "output_type": "stream",
       "stream": "stdout",
       "text": [
        "\r",
        "1.040.O.step1.genomecoverage.txt               28% 1078MB   3.0MB/s   15:07 ETA"
       ]
      },
      {
       "output_type": "stream",
       "stream": "stdout",
       "text": [
        "\r",
        "1.040.O.step1.genomecoverage.txt               28% 1081MB   2.9MB/s   15:30 ETA"
       ]
      },
      {
       "output_type": "stream",
       "stream": "stdout",
       "text": [
        "\r",
        "1.040.O.step1.genomecoverage.txt               28% 1083MB   2.9MB/s   15:45 ETA"
       ]
      },
      {
       "output_type": "stream",
       "stream": "stdout",
       "text": [
        "\r",
        "1.040.O.step1.genomecoverage.txt               28% 1086MB   2.9MB/s   15:47 ETA"
       ]
      },
      {
       "output_type": "stream",
       "stream": "stdout",
       "text": [
        "\r",
        "1.040.O.step1.genomecoverage.txt               28% 1089MB   2.9MB/s   15:21 ETA"
       ]
      },
      {
       "output_type": "stream",
       "stream": "stdout",
       "text": [
        "\r",
        "1.040.O.step1.genomecoverage.txt               28% 1094MB   3.1MB/s   14:36 ETA"
       ]
      },
      {
       "output_type": "stream",
       "stream": "stdout",
       "text": [
        "\r",
        "1.040.O.step1.genomecoverage.txt               28% 1098MB   3.2MB/s   14:02 ETA"
       ]
      },
      {
       "output_type": "stream",
       "stream": "stdout",
       "text": [
        "\r",
        "1.040.O.step1.genomecoverage.txt               29% 1102MB   3.2MB/s   13:53 ETA"
       ]
      },
      {
       "output_type": "stream",
       "stream": "stdout",
       "text": [
        "\r",
        "1.040.O.step1.genomecoverage.txt               29% 1104MB   3.2MB/s   14:05 ETA"
       ]
      },
      {
       "output_type": "stream",
       "stream": "stdout",
       "text": [
        "\r",
        "1.040.O.step1.genomecoverage.txt               29% 1107MB   3.2MB/s   14:10 ETA"
       ]
      },
      {
       "output_type": "stream",
       "stream": "stdout",
       "text": [
        "\r",
        "1.040.O.step1.genomecoverage.txt               29% 1110MB   3.1MB/s   14:17 ETA"
       ]
      },
      {
       "output_type": "stream",
       "stream": "stdout",
       "text": [
        "\r",
        "1.040.O.step1.genomecoverage.txt               29% 1113MB   3.1MB/s   14:28 ETA"
       ]
      },
      {
       "output_type": "stream",
       "stream": "stdout",
       "text": [
        "\r",
        "1.040.O.step1.genomecoverage.txt               29% 1116MB   3.1MB/s   14:33 ETA"
       ]
      },
      {
       "output_type": "stream",
       "stream": "stdout",
       "text": [
        "\r",
        "1.040.O.step1.genomecoverage.txt               29% 1119MB   3.1MB/s   14:18 ETA"
       ]
      },
      {
       "output_type": "stream",
       "stream": "stdout",
       "text": [
        "\r",
        "1.040.O.step1.genomecoverage.txt               29% 1123MB   3.2MB/s   13:54 ETA"
       ]
      },
      {
       "output_type": "stream",
       "stream": "stdout",
       "text": [
        "\r",
        "1.040.O.step1.genomecoverage.txt               29% 1128MB   3.4MB/s   13:07 ETA"
       ]
      },
      {
       "output_type": "stream",
       "stream": "stdout",
       "text": [
        "\r",
        "1.040.O.step1.genomecoverage.txt               29% 1135MB   3.7MB/s   12:03 ETA"
       ]
      },
      {
       "output_type": "stream",
       "stream": "stdout",
       "text": [
        "\r",
        "1.040.O.step1.genomecoverage.txt               30% 1142MB   4.1MB/s   10:47 ETA"
       ]
      },
      {
       "output_type": "stream",
       "stream": "stdout",
       "text": [
        "\r",
        "1.040.O.step1.genomecoverage.txt               30% 1148MB   4.2MB/s   10:29 ETA"
       ]
      },
      {
       "output_type": "stream",
       "stream": "stdout",
       "text": [
        "\r",
        "1.040.O.step1.genomecoverage.txt               30% 1153MB   4.3MB/s   10:11 ETA"
       ]
      },
      {
       "output_type": "stream",
       "stream": "stdout",
       "text": [
        "\r",
        "1.040.O.step1.genomecoverage.txt               30% 1159MB   4.5MB/s   09:51 ETA"
       ]
      },
      {
       "output_type": "stream",
       "stream": "stdout",
       "text": [
        "\r",
        "1.040.O.step1.genomecoverage.txt               30% 1164MB   4.6MB/s   09:36 ETA"
       ]
      },
      {
       "output_type": "stream",
       "stream": "stdout",
       "text": [
        "\r",
        "1.040.O.step1.genomecoverage.txt               30% 1170MB   4.7MB/s   09:21 ETA"
       ]
      },
      {
       "output_type": "stream",
       "stream": "stdout",
       "text": [
        "\r",
        "1.040.O.step1.genomecoverage.txt               30% 1175MB   4.8MB/s   09:11 ETA"
       ]
      },
      {
       "output_type": "stream",
       "stream": "stdout",
       "text": [
        "\r",
        "1.040.O.step1.genomecoverage.txt               31% 1180MB   4.8MB/s   09:06 ETA"
       ]
      },
      {
       "output_type": "stream",
       "stream": "stdout",
       "text": [
        "\r",
        "1.040.O.step1.genomecoverage.txt               31% 1186MB   4.9MB/s   08:52 ETA"
       ]
      },
      {
       "output_type": "stream",
       "stream": "stdout",
       "text": [
        "\r",
        "1.040.O.step1.genomecoverage.txt               31% 1192MB   5.0MB/s   08:45 ETA"
       ]
      },
      {
       "output_type": "stream",
       "stream": "stdout",
       "text": [
        "\r",
        "1.040.O.step1.genomecoverage.txt               31% 1197MB   4.9MB/s   08:45 ETA"
       ]
      },
      {
       "output_type": "stream",
       "stream": "stdout",
       "text": [
        "\r",
        "1.040.O.step1.genomecoverage.txt               31% 1202MB   4.9MB/s   08:44 ETA"
       ]
      },
      {
       "output_type": "stream",
       "stream": "stdout",
       "text": [
        "\r",
        "1.040.O.step1.genomecoverage.txt               31% 1207MB   5.0MB/s   08:40 ETA"
       ]
      },
      {
       "output_type": "stream",
       "stream": "stdout",
       "text": [
        "\r",
        "1.040.O.step1.genomecoverage.txt               31% 1212MB   5.0MB/s   08:38 ETA"
       ]
      },
      {
       "output_type": "stream",
       "stream": "stdout",
       "text": [
        "\r",
        "1.040.O.step1.genomecoverage.txt               32% 1217MB   5.0MB/s   08:35 ETA"
       ]
      },
      {
       "output_type": "stream",
       "stream": "stdout",
       "text": [
        "\r",
        "1.040.O.step1.genomecoverage.txt               32% 1222MB   5.0MB/s   08:32 ETA"
       ]
      },
      {
       "output_type": "stream",
       "stream": "stdout",
       "text": [
        "\r",
        "1.040.O.step1.genomecoverage.txt               32% 1227MB   5.0MB/s   08:30 ETA"
       ]
      },
      {
       "output_type": "stream",
       "stream": "stdout",
       "text": [
        "\r",
        "1.040.O.step1.genomecoverage.txt               32% 1233MB   5.1MB/s   08:21 ETA"
       ]
      },
      {
       "output_type": "stream",
       "stream": "stdout",
       "text": [
        "\r",
        "1.040.O.step1.genomecoverage.txt               32% 1240MB   5.3MB/s   08:01 ETA"
       ]
      },
      {
       "output_type": "stream",
       "stream": "stdout",
       "text": [
        "\r",
        "1.040.O.step1.genomecoverage.txt               32% 1248MB   5.6MB/s   07:37 ETA"
       ]
      },
      {
       "output_type": "stream",
       "stream": "stdout",
       "text": [
        "\r",
        "1.040.O.step1.genomecoverage.txt               33% 1258MB   6.0MB/s   07:04 ETA"
       ]
      },
      {
       "output_type": "stream",
       "stream": "stdout",
       "text": [
        "\r",
        "1.040.O.step1.genomecoverage.txt               33% 1269MB   6.5MB/s   06:27 ETA"
       ]
      },
      {
       "output_type": "stream",
       "stream": "stdout",
       "text": [
        "\r",
        "1.040.O.step1.genomecoverage.txt               33% 1283MB   7.2MB/s   05:48 ETA"
       ]
      },
      {
       "output_type": "stream",
       "stream": "stdout",
       "text": [
        "\r",
        "1.040.O.step1.genomecoverage.txt               34% 1298MB   8.0MB/s   05:10 ETA"
       ]
      },
      {
       "output_type": "stream",
       "stream": "stdout",
       "text": [
        "\r",
        "1.040.O.step1.genomecoverage.txt               34% 1314MB   8.8MB/s   04:41 ETA"
       ]
      },
      {
       "output_type": "stream",
       "stream": "stdout",
       "text": [
        "\r",
        "1.040.O.step1.genomecoverage.txt               35% 1328MB   9.4MB/s   04:23 ETA"
       ]
      },
      {
       "output_type": "stream",
       "stream": "stdout",
       "text": [
        "\r",
        "1.040.O.step1.genomecoverage.txt               35% 1341MB   9.7MB/s   04:12 ETA"
       ]
      },
      {
       "output_type": "stream",
       "stream": "stdout",
       "text": [
        "\r",
        "1.040.O.step1.genomecoverage.txt               35% 1352MB   9.8MB/s   04:08 ETA"
       ]
      },
      {
       "output_type": "stream",
       "stream": "stdout",
       "text": [
        "\r",
        "1.040.O.step1.genomecoverage.txt               35% 1361MB   9.7MB/s   04:10 ETA"
       ]
      },
      {
       "output_type": "stream",
       "stream": "stdout",
       "text": [
        "\r",
        "1.040.O.step1.genomecoverage.txt               36% 1370MB   9.7MB/s   04:10 ETA"
       ]
      },
      {
       "output_type": "stream",
       "stream": "stdout",
       "text": [
        "\r",
        "1.040.O.step1.genomecoverage.txt               36% 1378MB   9.5MB/s   04:15 ETA"
       ]
      },
      {
       "output_type": "stream",
       "stream": "stdout",
       "text": [
        "\r",
        "1.040.O.step1.genomecoverage.txt               36% 1383MB   9.1MB/s   04:26 ETA"
       ]
      },
      {
       "output_type": "stream",
       "stream": "stdout",
       "text": [
        "\r",
        "1.040.O.step1.genomecoverage.txt               36% 1388MB   8.6MB/s   04:39 ETA"
       ]
      },
      {
       "output_type": "stream",
       "stream": "stdout",
       "text": [
        "\r",
        "1.040.O.step1.genomecoverage.txt               36% 1391MB   8.1MB/s   04:55 ETA"
       ]
      },
      {
       "output_type": "stream",
       "stream": "stdout",
       "text": [
        "\r",
        "1.040.O.step1.genomecoverage.txt               36% 1394MB   7.6MB/s   05:15 ETA"
       ]
      },
      {
       "output_type": "stream",
       "stream": "stdout",
       "text": [
        "\r",
        "1.040.O.step1.genomecoverage.txt               36% 1397MB   7.1MB/s   05:36 ETA"
       ]
      },
      {
       "output_type": "stream",
       "stream": "stdout",
       "text": [
        "\r",
        "1.040.O.step1.genomecoverage.txt               36% 1400MB   6.7MB/s   05:58 ETA"
       ]
      },
      {
       "output_type": "stream",
       "stream": "stdout",
       "text": [
        "\r",
        "1.040.O.step1.genomecoverage.txt               36% 1403MB   6.3MB/s   06:19 ETA"
       ]
      },
      {
       "output_type": "stream",
       "stream": "stdout",
       "text": [
        "\r",
        "1.040.O.step1.genomecoverage.txt               37% 1406MB   6.0MB/s   06:39 ETA"
       ]
      },
      {
       "output_type": "stream",
       "stream": "stdout",
       "text": [
        "\r",
        "1.040.O.step1.genomecoverage.txt               37% 1409MB   5.7MB/s   06:57 ETA"
       ]
      },
      {
       "output_type": "stream",
       "stream": "stdout",
       "text": [
        "\r",
        "1.040.O.step1.genomecoverage.txt               37% 1413MB   5.5MB/s   07:09 ETA"
       ]
      },
      {
       "output_type": "stream",
       "stream": "stdout",
       "text": [
        "\r",
        "1.040.O.step1.genomecoverage.txt               37% 1417MB   5.4MB/s   07:19 ETA"
       ]
      },
      {
       "output_type": "stream",
       "stream": "stdout",
       "text": [
        "\r",
        "1.040.O.step1.genomecoverage.txt               37% 1420MB   5.1MB/s   07:43 ETA"
       ]
      },
      {
       "output_type": "stream",
       "stream": "stdout",
       "text": [
        "\r",
        "1.040.O.step1.genomecoverage.txt               37% 1422MB   4.8MB/s   08:09 ETA"
       ]
      },
      {
       "output_type": "stream",
       "stream": "stdout",
       "text": [
        "\r",
        "1.040.O.step1.genomecoverage.txt               37% 1425MB   4.6MB/s   08:34 ETA"
       ]
      },
      {
       "output_type": "stream",
       "stream": "stdout",
       "text": [
        "\r",
        "1.040.O.step1.genomecoverage.txt               37% 1427MB   4.4MB/s   09:02 ETA"
       ]
      },
      {
       "output_type": "stream",
       "stream": "stdout",
       "text": [
        "\r",
        "1.040.O.step1.genomecoverage.txt               37% 1428MB   4.0MB/s   09:46 ETA"
       ]
      },
      {
       "output_type": "stream",
       "stream": "stdout",
       "text": [
        "\r",
        "1.040.O.step1.genomecoverage.txt               37% 1429MB   3.7MB/s   10:31 ETA"
       ]
      },
      {
       "output_type": "stream",
       "stream": "stdout",
       "text": [
        "\r",
        "1.040.O.step1.genomecoverage.txt               37% 1430MB   3.5MB/s   11:17 ETA"
       ]
      },
      {
       "output_type": "stream",
       "stream": "stdout",
       "text": [
        "\r",
        "1.040.O.step1.genomecoverage.txt               37% 1431MB   3.3MB/s   12:01 ETA"
       ]
      },
      {
       "output_type": "stream",
       "stream": "stdout",
       "text": [
        "\r",
        "1.040.O.step1.genomecoverage.txt               37% 1433MB   3.1MB/s   12:40 ETA"
       ]
      },
      {
       "output_type": "stream",
       "stream": "stdout",
       "text": [
        "\r",
        "1.040.O.step1.genomecoverage.txt               37% 1435MB   3.0MB/s   13:16 ETA"
       ]
      },
      {
       "output_type": "stream",
       "stream": "stdout",
       "text": [
        "\r",
        "1.040.O.step1.genomecoverage.txt               37% 1437MB   2.9MB/s   13:28 ETA"
       ]
      },
      {
       "output_type": "stream",
       "stream": "stdout",
       "text": [
        "\r",
        "1.040.O.step1.genomecoverage.txt               37% 1441MB   3.0MB/s   13:03 ETA"
       ]
      },
      {
       "output_type": "stream",
       "stream": "stdout",
       "text": [
        "\r",
        "1.040.O.step1.genomecoverage.txt               38% 1447MB   3.3MB/s   11:55 ETA"
       ]
      },
      {
       "output_type": "stream",
       "stream": "stdout",
       "text": [
        "\r",
        "1.040.O.step1.genomecoverage.txt               38% 1455MB   3.8MB/s   10:16 ETA"
       ]
      },
      {
       "output_type": "stream",
       "stream": "stdout",
       "text": [
        "\r",
        "1.040.O.step1.genomecoverage.txt               38% 1463MB   4.2MB/s   09:14 ETA"
       ]
      },
      {
       "output_type": "stream",
       "stream": "stdout",
       "text": [
        "\r",
        "1.040.O.step1.genomecoverage.txt               38% 1471MB   4.6MB/s   08:27 ETA"
       ]
      },
      {
       "output_type": "stream",
       "stream": "stdout",
       "text": [
        "\r",
        "1.040.O.step1.genomecoverage.txt               39% 1480MB   5.0MB/s   07:39 ETA"
       ]
      },
      {
       "output_type": "stream",
       "stream": "stdout",
       "text": [
        "\r",
        "1.040.O.step1.genomecoverage.txt               39% 1490MB   5.5MB/s   07:01 ETA"
       ]
      },
      {
       "output_type": "stream",
       "stream": "stdout",
       "text": [
        "\r",
        "1.040.O.step1.genomecoverage.txt               39% 1499MB   5.8MB/s   06:33 ETA"
       ]
      },
      {
       "output_type": "stream",
       "stream": "stdout",
       "text": [
        "\r",
        "1.040.O.step1.genomecoverage.txt               39% 1507MB   6.0MB/s   06:19 ETA"
       ]
      },
      {
       "output_type": "stream",
       "stream": "stdout",
       "text": [
        "\r",
        "1.040.O.step1.genomecoverage.txt               39% 1512MB   6.0MB/s   06:22 ETA"
       ]
      },
      {
       "output_type": "stream",
       "stream": "stdout",
       "text": [
        "\r",
        "1.040.O.step1.genomecoverage.txt               39% 1515MB   5.7MB/s   06:42 ETA"
       ]
      },
      {
       "output_type": "stream",
       "stream": "stdout",
       "text": [
        "\r",
        "1.040.O.step1.genomecoverage.txt               39% 1518MB   5.4MB/s   07:02 ETA"
       ]
      },
      {
       "output_type": "stream",
       "stream": "stdout",
       "text": [
        "\r",
        "1.040.O.step1.genomecoverage.txt               40% 1520MB   5.1MB/s   07:24 ETA"
       ]
      },
      {
       "output_type": "stream",
       "stream": "stdout",
       "text": [
        "\r",
        "1.040.O.step1.genomecoverage.txt               40% 1523MB   4.9MB/s   07:44 ETA"
       ]
      },
      {
       "output_type": "stream",
       "stream": "stdout",
       "text": [
        "\r",
        "1.040.O.step1.genomecoverage.txt               40% 1526MB   4.7MB/s   08:06 ETA"
       ]
      },
      {
       "output_type": "stream",
       "stream": "stdout",
       "text": [
        "\r",
        "1.040.O.step1.genomecoverage.txt               40% 1529MB   4.5MB/s   08:27 ETA"
       ]
      },
      {
       "output_type": "stream",
       "stream": "stdout",
       "text": [
        "\r",
        "1.040.O.step1.genomecoverage.txt               40% 1531MB   4.2MB/s   08:53 ETA"
       ]
      },
      {
       "output_type": "stream",
       "stream": "stdout",
       "text": [
        "\r",
        "1.040.O.step1.genomecoverage.txt               40% 1533MB   4.1MB/s   09:17 ETA"
       ]
      },
      {
       "output_type": "stream",
       "stream": "stdout",
       "text": [
        "\r",
        "1.040.O.step1.genomecoverage.txt               40% 1536MB   3.9MB/s   09:40 ETA"
       ]
      },
      {
       "output_type": "stream",
       "stream": "stdout",
       "text": [
        "\r",
        "1.040.O.step1.genomecoverage.txt               40% 1538MB   3.8MB/s   10:01 ETA"
       ]
      },
      {
       "output_type": "stream",
       "stream": "stdout",
       "text": [
        "\r",
        "1.040.O.step1.genomecoverage.txt               40% 1541MB   3.6MB/s   10:19 ETA"
       ]
      },
      {
       "output_type": "stream",
       "stream": "stdout",
       "text": [
        "\r",
        "1.040.O.step1.genomecoverage.txt               40% 1543MB   3.5MB/s   10:35 ETA"
       ]
      },
      {
       "output_type": "stream",
       "stream": "stdout",
       "text": [
        "\r",
        "1.040.O.step1.genomecoverage.txt               40% 1547MB   3.5MB/s   10:38 ETA"
       ]
      },
      {
       "output_type": "stream",
       "stream": "stdout",
       "text": [
        "\r",
        "1.040.O.step1.genomecoverage.txt               40% 1551MB   3.6MB/s   10:18 ETA"
       ]
      },
      {
       "output_type": "stream",
       "stream": "stdout",
       "text": [
        "\r",
        "1.040.O.step1.genomecoverage.txt               40% 1556MB   3.7MB/s   10:05 ETA"
       ]
      },
      {
       "output_type": "stream",
       "stream": "stdout",
       "text": [
        "\r",
        "1.040.O.step1.genomecoverage.txt               41% 1560MB   3.8MB/s   09:46 ETA"
       ]
      },
      {
       "output_type": "stream",
       "stream": "stdout",
       "text": [
        "\r",
        "1.040.O.step1.genomecoverage.txt               41% 1564MB   3.8MB/s   09:50 ETA"
       ]
      },
      {
       "output_type": "stream",
       "stream": "stdout",
       "text": [
        "\r",
        "1.040.O.step1.genomecoverage.txt               41% 1568MB   3.8MB/s   09:48 ETA"
       ]
      },
      {
       "output_type": "stream",
       "stream": "stdout",
       "text": [
        "\r",
        "1.040.O.step1.genomecoverage.txt               41% 1572MB   3.8MB/s   09:45 ETA"
       ]
      },
      {
       "output_type": "stream",
       "stream": "stdout",
       "text": [
        "\r",
        "1.040.O.step1.genomecoverage.txt               41% 1576MB   3.8MB/s   09:42 ETA"
       ]
      },
      {
       "output_type": "stream",
       "stream": "stdout",
       "text": [
        "\r",
        "1.040.O.step1.genomecoverage.txt               41% 1580MB   3.8MB/s   09:37 ETA"
       ]
      },
      {
       "output_type": "stream",
       "stream": "stdout",
       "text": [
        "\r",
        "1.040.O.step1.genomecoverage.txt               41% 1584MB   3.9MB/s   09:34 ETA"
       ]
      },
      {
       "output_type": "stream",
       "stream": "stdout",
       "text": [
        "\r",
        "1.040.O.step1.genomecoverage.txt               41% 1588MB   3.9MB/s   09:21 ETA"
       ]
      },
      {
       "output_type": "stream",
       "stream": "stdout",
       "text": [
        "\r",
        "1.040.O.step1.genomecoverage.txt               41% 1594MB   4.1MB/s   09:02 ETA"
       ]
      },
      {
       "output_type": "stream",
       "stream": "stdout",
       "text": [
        "\r",
        "1.040.O.step1.genomecoverage.txt               42% 1600MB   4.3MB/s   08:28 ETA"
       ]
      },
      {
       "output_type": "stream",
       "stream": "stdout",
       "text": [
        "\r",
        "1.040.O.step1.genomecoverage.txt               42% 1608MB   4.7MB/s   07:44 ETA"
       ]
      },
      {
       "output_type": "stream",
       "stream": "stdout",
       "text": [
        "\r",
        "1.040.O.step1.genomecoverage.txt               42% 1615MB   4.9MB/s   07:24 ETA"
       ]
      },
      {
       "output_type": "stream",
       "stream": "stdout",
       "text": [
        "\r",
        "1.040.O.step1.genomecoverage.txt               42% 1620MB   4.9MB/s   07:20 ETA"
       ]
      },
      {
       "output_type": "stream",
       "stream": "stdout",
       "text": [
        "\r",
        "1.040.O.step1.genomecoverage.txt               42% 1626MB   5.0MB/s   07:16 ETA"
       ]
      },
      {
       "output_type": "stream",
       "stream": "stdout",
       "text": [
        "\r",
        "1.040.O.step1.genomecoverage.txt               42% 1631MB   5.0MB/s   07:11 ETA"
       ]
      },
      {
       "output_type": "stream",
       "stream": "stdout",
       "text": [
        "\r",
        "1.040.O.step1.genomecoverage.txt               43% 1637MB   5.1MB/s   07:05 ETA"
       ]
      },
      {
       "output_type": "stream",
       "stream": "stdout",
       "text": [
        "\r",
        "1.040.O.step1.genomecoverage.txt               43% 1642MB   5.1MB/s   07:02 ETA"
       ]
      },
      {
       "output_type": "stream",
       "stream": "stdout",
       "text": [
        "\r",
        "1.040.O.step1.genomecoverage.txt               43% 1647MB   5.1MB/s   06:59 ETA"
       ]
      },
      {
       "output_type": "stream",
       "stream": "stdout",
       "text": [
        "\r",
        "1.040.O.step1.genomecoverage.txt               43% 1653MB   5.2MB/s   06:48 ETA"
       ]
      },
      {
       "output_type": "stream",
       "stream": "stdout",
       "text": [
        "\r",
        "1.040.O.step1.genomecoverage.txt               43% 1661MB   5.5MB/s   06:31 ETA"
       ]
      },
      {
       "output_type": "stream",
       "stream": "stdout",
       "text": [
        "\r",
        "1.040.O.step1.genomecoverage.txt               43% 1669MB   5.7MB/s   06:12 ETA"
       ]
      },
      {
       "output_type": "stream",
       "stream": "stdout",
       "text": [
        "\r",
        "1.040.O.step1.genomecoverage.txt               44% 1679MB   6.1MB/s   05:46 ETA"
       ]
      },
      {
       "output_type": "stream",
       "stream": "stdout",
       "text": [
        "\r",
        "1.040.O.step1.genomecoverage.txt               44% 1690MB   6.6MB/s   05:16 ETA"
       ]
      },
      {
       "output_type": "stream",
       "stream": "stdout",
       "text": [
        "\r",
        "1.040.O.step1.genomecoverage.txt               44% 1700MB   7.0MB/s   04:59 ETA"
       ]
      },
      {
       "output_type": "stream",
       "stream": "stdout",
       "text": [
        "\r",
        "1.040.O.step1.genomecoverage.txt               45% 1711MB   7.3MB/s   04:43 ETA"
       ]
      },
      {
       "output_type": "stream",
       "stream": "stdout",
       "text": [
        "\r",
        "1.040.O.step1.genomecoverage.txt               45% 1723MB   7.8MB/s   04:25 ETA"
       ]
      },
      {
       "output_type": "stream",
       "stream": "stdout",
       "text": [
        "\r",
        "1.040.O.step1.genomecoverage.txt               45% 1735MB   8.3MB/s   04:09 ETA"
       ]
      },
      {
       "output_type": "stream",
       "stream": "stdout",
       "text": [
        "\r",
        "1.040.O.step1.genomecoverage.txt               46% 1746MB   8.6MB/s   03:58 ETA"
       ]
      },
      {
       "output_type": "stream",
       "stream": "stdout",
       "text": [
        "\r",
        "1.040.O.step1.genomecoverage.txt               46% 1756MB   8.7MB/s   03:54 ETA"
       ]
      },
      {
       "output_type": "stream",
       "stream": "stdout",
       "text": [
        "\r",
        "1.040.O.step1.genomecoverage.txt               46% 1766MB   8.8MB/s   03:49 ETA"
       ]
      },
      {
       "output_type": "stream",
       "stream": "stdout",
       "text": [
        "\r",
        "1.040.O.step1.genomecoverage.txt               46% 1774MB   8.8MB/s   03:50 ETA"
       ]
      },
      {
       "output_type": "stream",
       "stream": "stdout",
       "text": [
        "\r",
        "1.040.O.step1.genomecoverage.txt               46% 1783MB   8.8MB/s   03:49 ETA"
       ]
      },
      {
       "output_type": "stream",
       "stream": "stdout",
       "text": [
        "\r",
        "1.040.O.step1.genomecoverage.txt               47% 1792MB   8.8MB/s   03:47 ETA"
       ]
      },
      {
       "output_type": "stream",
       "stream": "stdout",
       "text": [
        "\r",
        "1.040.O.step1.genomecoverage.txt               47% 1802MB   8.9MB/s   03:44 ETA"
       ]
      },
      {
       "output_type": "stream",
       "stream": "stdout",
       "text": [
        "\r",
        "1.040.O.step1.genomecoverage.txt               47% 1811MB   8.9MB/s   03:42 ETA"
       ]
      },
      {
       "output_type": "stream",
       "stream": "stdout",
       "text": [
        "\r",
        "1.040.O.step1.genomecoverage.txt               47% 1820MB   9.0MB/s   03:40 ETA"
       ]
      },
      {
       "output_type": "stream",
       "stream": "stdout",
       "text": [
        "\r",
        "1.040.O.step1.genomecoverage.txt               48% 1830MB   9.0MB/s   03:38 ETA"
       ]
      },
      {
       "output_type": "stream",
       "stream": "stdout",
       "text": [
        "\r",
        "1.040.O.step1.genomecoverage.txt               48% 1839MB   9.1MB/s   03:36 ETA"
       ]
      },
      {
       "output_type": "stream",
       "stream": "stdout",
       "text": [
        "\r",
        "1.040.O.step1.genomecoverage.txt               48% 1848MB   9.1MB/s   03:35 ETA"
       ]
      },
      {
       "output_type": "stream",
       "stream": "stdout",
       "text": [
        "\r",
        "1.040.O.step1.genomecoverage.txt               48% 1859MB   9.2MB/s   03:29 ETA"
       ]
      },
      {
       "output_type": "stream",
       "stream": "stdout",
       "text": [
        "\r",
        "1.040.O.step1.genomecoverage.txt               49% 1869MB   9.3MB/s   03:26 ETA"
       ]
      },
      {
       "output_type": "stream",
       "stream": "stdout",
       "text": [
        "\r",
        "1.040.O.step1.genomecoverage.txt               49% 1879MB   9.3MB/s   03:25 ETA"
       ]
      },
      {
       "output_type": "stream",
       "stream": "stdout",
       "text": [
        "\r",
        "1.040.O.step1.genomecoverage.txt               49% 1889MB   9.4MB/s   03:22 ETA"
       ]
      },
      {
       "output_type": "stream",
       "stream": "stdout",
       "text": [
        "\r",
        "1.040.O.step1.genomecoverage.txt               50% 1900MB   9.6MB/s   03:17 ETA"
       ]
      },
      {
       "output_type": "stream",
       "stream": "stdout",
       "text": [
        "\r",
        "1.040.O.step1.genomecoverage.txt               50% 1911MB   9.7MB/s   03:14 ETA"
       ]
      },
      {
       "output_type": "stream",
       "stream": "stdout",
       "text": [
        "\r",
        "1.040.O.step1.genomecoverage.txt               50% 1918MB   9.5MB/s   03:18 ETA"
       ]
      },
      {
       "output_type": "stream",
       "stream": "stdout",
       "text": [
        "\r",
        "1.040.O.step1.genomecoverage.txt               50% 1924MB   9.1MB/s   03:24 ETA"
       ]
      },
      {
       "output_type": "stream",
       "stream": "stdout",
       "text": [
        "\r",
        "1.040.O.step1.genomecoverage.txt               50% 1932MB   9.0MB/s   03:28 ETA"
       ]
      },
      {
       "output_type": "stream",
       "stream": "stdout",
       "text": [
        "\r",
        "1.040.O.step1.genomecoverage.txt               51% 1938MB   8.7MB/s   03:32 ETA"
       ]
      },
      {
       "output_type": "stream",
       "stream": "stdout",
       "text": [
        "\r",
        "1.040.O.step1.genomecoverage.txt               51% 1943MB   8.4MB/s   03:41 ETA"
       ]
      },
      {
       "output_type": "stream",
       "stream": "stdout",
       "text": [
        "\r",
        "1.040.O.step1.genomecoverage.txt               51% 1949MB   8.1MB/s   03:48 ETA"
       ]
      },
      {
       "output_type": "stream",
       "stream": "stdout",
       "text": [
        "\r",
        "1.040.O.step1.genomecoverage.txt               51% 1954MB   7.8MB/s   03:56 ETA"
       ]
      },
      {
       "output_type": "stream",
       "stream": "stdout",
       "text": [
        "\r",
        "1.040.O.step1.genomecoverage.txt               51% 1960MB   7.6MB/s   04:02 ETA"
       ]
      },
      {
       "output_type": "stream",
       "stream": "stdout",
       "text": [
        "\r",
        "1.040.O.step1.genomecoverage.txt               51% 1965MB   7.3MB/s   04:09 ETA"
       ]
      },
      {
       "output_type": "stream",
       "stream": "stdout",
       "text": [
        "\r",
        "1.040.O.step1.genomecoverage.txt               51% 1970MB   7.2MB/s   04:14 ETA"
       ]
      },
      {
       "output_type": "stream",
       "stream": "stdout",
       "text": [
        "\r",
        "1.040.O.step1.genomecoverage.txt               52% 1976MB   7.0MB/s   04:20 ETA"
       ]
      },
      {
       "output_type": "stream",
       "stream": "stdout",
       "text": [
        "\r",
        "1.040.O.step1.genomecoverage.txt               52% 1983MB   7.0MB/s   04:20 ETA"
       ]
      },
      {
       "output_type": "stream",
       "stream": "stdout",
       "text": [
        "\r",
        "1.040.O.step1.genomecoverage.txt               52% 1990MB   7.0MB/s   04:16 ETA"
       ]
      },
      {
       "output_type": "stream",
       "stream": "stdout",
       "text": [
        "\r",
        "1.040.O.step1.genomecoverage.txt               52% 1999MB   7.2MB/s   04:09 ETA"
       ]
      },
      {
       "output_type": "stream",
       "stream": "stdout",
       "text": [
        "\r",
        "1.040.O.step1.genomecoverage.txt               52% 2007MB   7.2MB/s   04:07 ETA"
       ]
      },
      {
       "output_type": "stream",
       "stream": "stdout",
       "text": [
        "\r",
        "1.040.O.step1.genomecoverage.txt               53% 2015MB   7.3MB/s   04:03 ETA"
       ]
      },
      {
       "output_type": "stream",
       "stream": "stdout",
       "text": [
        "\r",
        "1.040.O.step1.genomecoverage.txt               53% 2024MB   7.5MB/s   03:56 ETA"
       ]
      },
      {
       "output_type": "stream",
       "stream": "stdout",
       "text": [
        "\r",
        "1.040.O.step1.genomecoverage.txt               53% 2033MB   7.7MB/s   03:49 ETA"
       ]
      },
      {
       "output_type": "stream",
       "stream": "stdout",
       "text": [
        "\r",
        "1.040.O.step1.genomecoverage.txt               53% 2042MB   7.8MB/s   03:43 ETA"
       ]
      },
      {
       "output_type": "stream",
       "stream": "stdout",
       "text": [
        "\r",
        "1.040.O.step1.genomecoverage.txt               53% 2048MB   7.6MB/s   03:48 ETA"
       ]
      },
      {
       "output_type": "stream",
       "stream": "stdout",
       "text": [
        "\r",
        "1.040.O.step1.genomecoverage.txt               54% 2052MB   7.3MB/s   03:59 ETA"
       ]
      },
      {
       "output_type": "stream",
       "stream": "stdout",
       "text": [
        "\r",
        "1.040.O.step1.genomecoverage.txt               54% 2056MB   7.0MB/s   04:09 ETA"
       ]
      },
      {
       "output_type": "stream",
       "stream": "stdout",
       "text": [
        "\r",
        "1.040.O.step1.genomecoverage.txt               54% 2059MB   6.6MB/s   04:24 ETA"
       ]
      },
      {
       "output_type": "stream",
       "stream": "stdout",
       "text": [
        "\r",
        "1.040.O.step1.genomecoverage.txt               54% 2062MB   6.2MB/s   04:39 ETA"
       ]
      },
      {
       "output_type": "stream",
       "stream": "stdout",
       "text": [
        "\r",
        "1.040.O.step1.genomecoverage.txt               54% 2066MB   5.9MB/s   04:52 ETA"
       ]
      },
      {
       "output_type": "stream",
       "stream": "stdout",
       "text": [
        "\r",
        "1.040.O.step1.genomecoverage.txt               54% 2069MB   5.6MB/s   05:06 ETA"
       ]
      },
      {
       "output_type": "stream",
       "stream": "stdout",
       "text": [
        "\r",
        "1.040.O.step1.genomecoverage.txt               54% 2072MB   5.4MB/s   05:18 ETA"
       ]
      },
      {
       "output_type": "stream",
       "stream": "stdout",
       "text": [
        "\r",
        "1.040.O.step1.genomecoverage.txt               54% 2075MB   5.2MB/s   05:30 ETA"
       ]
      },
      {
       "output_type": "stream",
       "stream": "stdout",
       "text": [
        "\r",
        "1.040.O.step1.genomecoverage.txt               54% 2080MB   5.1MB/s   05:36 ETA"
       ]
      },
      {
       "output_type": "stream",
       "stream": "stdout",
       "text": [
        "\r",
        "1.040.O.step1.genomecoverage.txt               54% 2083MB   4.9MB/s   05:46 ETA"
       ]
      },
      {
       "output_type": "stream",
       "stream": "stdout",
       "text": [
        "\r",
        "1.040.O.step1.genomecoverage.txt               54% 2086MB   4.7MB/s   06:03 ETA"
       ]
      },
      {
       "output_type": "stream",
       "stream": "stdout",
       "text": [
        "\r",
        "1.040.O.step1.genomecoverage.txt               55% 2088MB   4.5MB/s   06:18 ETA"
       ]
      },
      {
       "output_type": "stream",
       "stream": "stdout",
       "text": [
        "\r",
        "1.040.O.step1.genomecoverage.txt               55% 2091MB   4.3MB/s   06:33 ETA"
       ]
      },
      {
       "output_type": "stream",
       "stream": "stdout",
       "text": [
        "\r",
        "1.040.O.step1.genomecoverage.txt               55% 2094MB   4.2MB/s   06:48 ETA"
       ]
      },
      {
       "output_type": "stream",
       "stream": "stdout",
       "text": [
        "\r",
        "1.040.O.step1.genomecoverage.txt               55% 2096MB   4.0MB/s   07:02 ETA"
       ]
      },
      {
       "output_type": "stream",
       "stream": "stdout",
       "text": [
        "\r",
        "1.040.O.step1.genomecoverage.txt               55% 2100MB   3.9MB/s   07:10 ETA"
       ]
      },
      {
       "output_type": "stream",
       "stream": "stdout",
       "text": [
        "\r",
        "1.040.O.step1.genomecoverage.txt               55% 2104MB   4.0MB/s   07:08 ETA"
       ]
      },
      {
       "output_type": "stream",
       "stream": "stdout",
       "text": [
        "\r",
        "1.040.O.step1.genomecoverage.txt               55% 2109MB   4.1MB/s   06:55 ETA"
       ]
      },
      {
       "output_type": "stream",
       "stream": "stdout",
       "text": [
        "\r",
        "1.040.O.step1.genomecoverage.txt               55% 2114MB   4.1MB/s   06:46 ETA"
       ]
      },
      {
       "output_type": "stream",
       "stream": "stdout",
       "text": [
        "\r",
        "1.040.O.step1.genomecoverage.txt               55% 2119MB   4.2MB/s   06:35 ETA"
       ]
      },
      {
       "output_type": "stream",
       "stream": "stdout",
       "text": [
        "\r",
        "1.040.O.step1.genomecoverage.txt               55% 2124MB   4.3MB/s   06:24 ETA"
       ]
      },
      {
       "output_type": "stream",
       "stream": "stdout",
       "text": [
        "\r",
        "1.040.O.step1.genomecoverage.txt               56% 2129MB   4.4MB/s   06:15 ETA"
       ]
      },
      {
       "output_type": "stream",
       "stream": "stdout",
       "text": [
        "\r",
        "1.040.O.step1.genomecoverage.txt               56% 2135MB   4.6MB/s   06:04 ETA"
       ]
      },
      {
       "output_type": "stream",
       "stream": "stdout",
       "text": [
        "\r",
        "1.040.O.step1.genomecoverage.txt               56% 2140MB   4.6MB/s   05:59 ETA"
       ]
      },
      {
       "output_type": "stream",
       "stream": "stdout",
       "text": [
        "\r",
        "1.040.O.step1.genomecoverage.txt               56% 2146MB   4.7MB/s   05:48 ETA"
       ]
      },
      {
       "output_type": "stream",
       "stream": "stdout",
       "text": [
        "\r",
        "1.040.O.step1.genomecoverage.txt               56% 2152MB   4.9MB/s   05:37 ETA"
       ]
      },
      {
       "output_type": "stream",
       "stream": "stdout",
       "text": [
        "\r",
        "1.040.O.step1.genomecoverage.txt               56% 2159MB   5.1MB/s   05:20 ETA"
       ]
      },
      {
       "output_type": "stream",
       "stream": "stdout",
       "text": [
        "\r",
        "1.040.O.step1.genomecoverage.txt               57% 2167MB   5.4MB/s   05:02 ETA"
       ]
      },
      {
       "output_type": "stream",
       "stream": "stdout",
       "text": [
        "\r",
        "1.040.O.step1.genomecoverage.txt               57% 2176MB   5.7MB/s   04:43 ETA"
       ]
      },
      {
       "output_type": "stream",
       "stream": "stdout",
       "text": [
        "\r",
        "1.040.O.step1.genomecoverage.txt               57% 2181MB   5.7MB/s   04:44 ETA"
       ]
      },
      {
       "output_type": "stream",
       "stream": "stdout",
       "text": [
        "\r",
        "1.040.O.step1.genomecoverage.txt               57% 2187MB   5.7MB/s   04:44 ETA"
       ]
      },
      {
       "output_type": "stream",
       "stream": "stdout",
       "text": [
        "\r",
        "1.040.O.step1.genomecoverage.txt               57% 2193MB   5.7MB/s   04:41 ETA"
       ]
      },
      {
       "output_type": "stream",
       "stream": "stdout",
       "text": [
        "\r",
        "1.040.O.step1.genomecoverage.txt               57% 2196MB   5.5MB/s   04:50 ETA"
       ]
      },
      {
       "output_type": "stream",
       "stream": "stdout",
       "text": [
        "\r",
        "1.040.O.step1.genomecoverage.txt               57% 2199MB   5.2MB/s   05:05 ETA"
       ]
      },
      {
       "output_type": "stream",
       "stream": "stdout",
       "text": [
        "\r",
        "1.040.O.step1.genomecoverage.txt               58% 2201MB   4.9MB/s   05:23 ETA"
       ]
      },
      {
       "output_type": "stream",
       "stream": "stdout",
       "text": [
        "\r",
        "1.040.O.step1.genomecoverage.txt               58% 2203MB   4.6MB/s   05:43 ETA"
       ]
      },
      {
       "output_type": "stream",
       "stream": "stdout",
       "text": [
        "\r",
        "1.040.O.step1.genomecoverage.txt               58% 2206MB   4.4MB/s   06:01 ETA"
       ]
      },
      {
       "output_type": "stream",
       "stream": "stdout",
       "text": [
        "\r",
        "1.040.O.step1.genomecoverage.txt               58% 2208MB   4.2MB/s   06:18 ETA"
       ]
      },
      {
       "output_type": "stream",
       "stream": "stdout",
       "text": [
        "\r",
        "1.040.O.step1.genomecoverage.txt               58% 2210MB   4.0MB/s   06:34 ETA"
       ]
      },
      {
       "output_type": "stream",
       "stream": "stdout",
       "text": [
        "\r",
        "1.040.O.step1.genomecoverage.txt               58% 2213MB   3.9MB/s   06:48 ETA"
       ]
      },
      {
       "output_type": "stream",
       "stream": "stdout",
       "text": [
        "\r",
        "1.040.O.step1.genomecoverage.txt               58% 2216MB   3.8MB/s   06:59 ETA"
       ]
      },
      {
       "output_type": "stream",
       "stream": "stdout",
       "text": [
        "\r",
        "1.040.O.step1.genomecoverage.txt               58% 2220MB   3.8MB/s   06:55 ETA"
       ]
      },
      {
       "output_type": "stream",
       "stream": "stdout",
       "text": [
        "\r",
        "1.040.O.step1.genomecoverage.txt               58% 2225MB   3.9MB/s   06:40 ETA"
       ]
      },
      {
       "output_type": "stream",
       "stream": "stdout",
       "text": [
        "\r",
        "1.040.O.step1.genomecoverage.txt               58% 2232MB   4.2MB/s   06:08 ETA"
       ]
      },
      {
       "output_type": "stream",
       "stream": "stdout",
       "text": [
        "\r",
        "1.040.O.step1.genomecoverage.txt               59% 2242MB   4.8MB/s   05:23 ETA"
       ]
      },
      {
       "output_type": "stream",
       "stream": "stdout",
       "text": [
        "\r",
        "1.040.O.step1.genomecoverage.txt               59% 2254MB   5.6MB/s   04:36 ETA"
       ]
      },
      {
       "output_type": "stream",
       "stream": "stdout",
       "text": [
        "\r",
        "1.040.O.step1.genomecoverage.txt               59% 2269MB   6.5MB/s   03:56 ETA"
       ]
      },
      {
       "output_type": "stream",
       "stream": "stdout",
       "text": [
        "\r",
        "1.040.O.step1.genomecoverage.txt               60% 2283MB   7.2MB/s   03:29 ETA"
       ]
      },
      {
       "output_type": "stream",
       "stream": "stdout",
       "text": [
        "\r",
        "1.040.O.step1.genomecoverage.txt               60% 2296MB   7.8MB/s   03:11 ETA"
       ]
      },
      {
       "output_type": "stream",
       "stream": "stdout",
       "text": [
        "\r",
        "1.040.O.step1.genomecoverage.txt               60% 2309MB   8.3MB/s   02:58 ETA"
       ]
      },
      {
       "output_type": "stream",
       "stream": "stdout",
       "text": [
        "\r",
        "1.040.O.step1.genomecoverage.txt               61% 2323MB   8.9MB/s   02:46 ETA"
       ]
      },
      {
       "output_type": "stream",
       "stream": "stdout",
       "text": [
        "\r",
        "1.040.O.step1.genomecoverage.txt               61% 2334MB   9.2MB/s   02:39 ETA"
       ]
      },
      {
       "output_type": "stream",
       "stream": "stdout",
       "text": [
        "\r",
        "1.040.O.step1.genomecoverage.txt               61% 2340MB   8.8MB/s   02:45 ETA"
       ]
      },
      {
       "output_type": "stream",
       "stream": "stdout",
       "text": [
        "\r",
        "1.040.O.step1.genomecoverage.txt               61% 2346MB   8.5MB/s   02:50 ETA"
       ]
      },
      {
       "output_type": "stream",
       "stream": "stdout",
       "text": [
        "\r",
        "1.040.O.step1.genomecoverage.txt               61% 2350MB   8.1MB/s   02:58 ETA"
       ]
      },
      {
       "output_type": "stream",
       "stream": "stdout",
       "text": [
        "\r",
        "1.040.O.step1.genomecoverage.txt               62% 2355MB   7.8MB/s   03:05 ETA"
       ]
      },
      {
       "output_type": "stream",
       "stream": "stdout",
       "text": [
        "\r",
        "1.040.O.step1.genomecoverage.txt               62% 2360MB   7.5MB/s   03:11 ETA"
       ]
      },
      {
       "output_type": "stream",
       "stream": "stdout",
       "text": [
        "\r",
        "1.040.O.step1.genomecoverage.txt               62% 2365MB   7.3MB/s   03:17 ETA"
       ]
      },
      {
       "output_type": "stream",
       "stream": "stdout",
       "text": [
        "\r",
        "1.040.O.step1.genomecoverage.txt               62% 2370MB   7.0MB/s   03:22 ETA"
       ]
      },
      {
       "output_type": "stream",
       "stream": "stdout",
       "text": [
        "\r",
        "1.040.O.step1.genomecoverage.txt               62% 2375MB   6.8MB/s   03:27 ETA"
       ]
      },
      {
       "output_type": "stream",
       "stream": "stdout",
       "text": [
        "\r",
        "1.040.O.step1.genomecoverage.txt               62% 2380MB   6.7MB/s   03:32 ETA"
       ]
      },
      {
       "output_type": "stream",
       "stream": "stdout",
       "text": [
        "\r",
        "1.040.O.step1.genomecoverage.txt               62% 2386MB   6.6MB/s   03:35 ETA"
       ]
      },
      {
       "output_type": "stream",
       "stream": "stdout",
       "text": [
        "\r",
        "1.040.O.step1.genomecoverage.txt               63% 2393MB   6.6MB/s   03:31 ETA"
       ]
      },
      {
       "output_type": "stream",
       "stream": "stdout",
       "text": [
        "\r",
        "1.040.O.step1.genomecoverage.txt               63% 2402MB   6.8MB/s   03:23 ETA"
       ]
      },
      {
       "output_type": "stream",
       "stream": "stdout",
       "text": [
        "\r",
        "1.040.O.step1.genomecoverage.txt               63% 2412MB   7.2MB/s   03:11 ETA"
       ]
      },
      {
       "output_type": "stream",
       "stream": "stdout",
       "text": [
        "\r",
        "1.040.O.step1.genomecoverage.txt               63% 2425MB   7.8MB/s   02:56 ETA"
       ]
      },
      {
       "output_type": "stream",
       "stream": "stdout",
       "text": [
        "\r",
        "1.040.O.step1.genomecoverage.txt               64% 2440MB   8.4MB/s   02:40 ETA"
       ]
      },
      {
       "output_type": "stream",
       "stream": "stdout",
       "text": [
        "\r",
        "1.040.O.step1.genomecoverage.txt               64% 2452MB   8.9MB/s   02:31 ETA"
       ]
      },
      {
       "output_type": "stream",
       "stream": "stdout",
       "text": [
        "\r",
        "1.040.O.step1.genomecoverage.txt               64% 2464MB   9.2MB/s   02:24 ETA"
       ]
      },
      {
       "output_type": "stream",
       "stream": "stdout",
       "text": [
        "\r",
        "1.040.O.step1.genomecoverage.txt               65% 2476MB   9.5MB/s   02:19 ETA"
       ]
      },
      {
       "output_type": "stream",
       "stream": "stdout",
       "text": [
        "\r",
        "1.040.O.step1.genomecoverage.txt               65% 2489MB   9.7MB/s   02:14 ETA"
       ]
      },
      {
       "output_type": "stream",
       "stream": "stdout",
       "text": [
        "\r",
        "1.040.O.step1.genomecoverage.txt               65% 2498MB   9.7MB/s   02:13 ETA"
       ]
      },
      {
       "output_type": "stream",
       "stream": "stdout",
       "text": [
        "\r",
        "1.040.O.step1.genomecoverage.txt               66% 2508MB   9.8MB/s   02:11 ETA"
       ]
      },
      {
       "output_type": "stream",
       "stream": "stdout",
       "text": [
        "\r",
        "1.040.O.step1.genomecoverage.txt               66% 2519MB   9.8MB/s   02:09 ETA"
       ]
      },
      {
       "output_type": "stream",
       "stream": "stdout",
       "text": [
        "\r",
        "1.040.O.step1.genomecoverage.txt               66% 2527MB   9.6MB/s   02:11 ETA"
       ]
      },
      {
       "output_type": "stream",
       "stream": "stdout",
       "text": [
        "\r",
        "1.040.O.step1.genomecoverage.txt               66% 2536MB   9.6MB/s   02:11 ETA"
       ]
      },
      {
       "output_type": "stream",
       "stream": "stdout",
       "text": [
        "\r",
        "1.040.O.step1.genomecoverage.txt               67% 2545MB   9.5MB/s   02:11 ETA"
       ]
      },
      {
       "output_type": "stream",
       "stream": "stdout",
       "text": [
        "\r",
        "1.040.O.step1.genomecoverage.txt               67% 2554MB   9.5MB/s   02:10 ETA"
       ]
      },
      {
       "output_type": "stream",
       "stream": "stdout",
       "text": [
        "\r",
        "1.040.O.step1.genomecoverage.txt               67% 2563MB   9.5MB/s   02:10 ETA"
       ]
      },
      {
       "output_type": "stream",
       "stream": "stdout",
       "text": [
        "\r",
        "1.040.O.step1.genomecoverage.txt               67% 2572MB   9.4MB/s   02:09 ETA"
       ]
      },
      {
       "output_type": "stream",
       "stream": "stdout",
       "text": [
        "\r",
        "1.040.O.step1.genomecoverage.txt               68% 2581MB   9.3MB/s   02:09 ETA"
       ]
      },
      {
       "output_type": "stream",
       "stream": "stdout",
       "text": [
        "\r",
        "1.040.O.step1.genomecoverage.txt               68% 2586MB   9.0MB/s   02:15 ETA"
       ]
      },
      {
       "output_type": "stream",
       "stream": "stdout",
       "text": [
        "\r",
        "1.040.O.step1.genomecoverage.txt               68% 2592MB   8.6MB/s   02:19 ETA"
       ]
      },
      {
       "output_type": "stream",
       "stream": "stdout",
       "text": [
        "\r",
        "1.040.O.step1.genomecoverage.txt               68% 2596MB   8.2MB/s   02:26 ETA"
       ]
      },
      {
       "output_type": "stream",
       "stream": "stdout",
       "text": [
        "\r",
        "1.040.O.step1.genomecoverage.txt               68% 2600MB   7.8MB/s   02:33 ETA"
       ]
      },
      {
       "output_type": "stream",
       "stream": "stdout",
       "text": [
        "\r",
        "1.040.O.step1.genomecoverage.txt               68% 2604MB   7.4MB/s   02:41 ETA"
       ]
      },
      {
       "output_type": "stream",
       "stream": "stdout",
       "text": [
        "\r",
        "1.040.O.step1.genomecoverage.txt               68% 2608MB   7.0MB/s   02:48 ETA"
       ]
      },
      {
       "output_type": "stream",
       "stream": "stdout",
       "text": [
        "\r",
        "1.040.O.step1.genomecoverage.txt               68% 2612MB   6.7MB/s   02:55 ETA"
       ]
      },
      {
       "output_type": "stream",
       "stream": "stdout",
       "text": [
        "\r",
        "1.040.O.step1.genomecoverage.txt               68% 2616MB   6.5MB/s   03:02 ETA"
       ]
      },
      {
       "output_type": "stream",
       "stream": "stdout",
       "text": [
        "\r",
        "1.040.O.step1.genomecoverage.txt               69% 2620MB   6.2MB/s   03:10 ETA"
       ]
      },
      {
       "output_type": "stream",
       "stream": "stdout",
       "text": [
        "\r",
        "1.040.O.step1.genomecoverage.txt               69% 2624MB   6.0MB/s   03:16 ETA"
       ]
      },
      {
       "output_type": "stream",
       "stream": "stdout",
       "text": [
        "\r",
        "1.040.O.step1.genomecoverage.txt               69% 2627MB   5.7MB/s   03:25 ETA"
       ]
      },
      {
       "output_type": "stream",
       "stream": "stdout",
       "text": [
        "\r",
        "1.040.O.step1.genomecoverage.txt               69% 2630MB   5.5MB/s   03:33 ETA"
       ]
      },
      {
       "output_type": "stream",
       "stream": "stdout",
       "text": [
        "\r",
        "1.040.O.step1.genomecoverage.txt               69% 2634MB   5.3MB/s   03:40 ETA"
       ]
      },
      {
       "output_type": "stream",
       "stream": "stdout",
       "text": [
        "\r",
        "1.040.O.step1.genomecoverage.txt               69% 2637MB   5.1MB/s   03:47 ETA"
       ]
      },
      {
       "output_type": "stream",
       "stream": "stdout",
       "text": [
        "\r",
        "1.040.O.step1.genomecoverage.txt               69% 2641MB   4.9MB/s   03:54 ETA"
       ]
      },
      {
       "output_type": "stream",
       "stream": "stdout",
       "text": [
        "\r",
        "1.040.O.step1.genomecoverage.txt               69% 2644MB   4.8MB/s   03:59 ETA"
       ]
      },
      {
       "output_type": "stream",
       "stream": "stdout",
       "text": [
        "\r",
        "1.040.O.step1.genomecoverage.txt               69% 2648MB   4.7MB/s   04:03 ETA"
       ]
      },
      {
       "output_type": "stream",
       "stream": "stdout",
       "text": [
        "\r",
        "1.040.O.step1.genomecoverage.txt               69% 2652MB   4.6MB/s   04:09 ETA"
       ]
      },
      {
       "output_type": "stream",
       "stream": "stdout",
       "text": [
        "\r",
        "1.040.O.step1.genomecoverage.txt               69% 2655MB   4.5MB/s   04:15 ETA"
       ]
      },
      {
       "output_type": "stream",
       "stream": "stdout",
       "text": [
        "\r",
        "1.040.O.step1.genomecoverage.txt               70% 2658MB   4.3MB/s   04:23 ETA"
       ]
      },
      {
       "output_type": "stream",
       "stream": "stdout",
       "text": [
        "\r",
        "1.040.O.step1.genomecoverage.txt               70% 2661MB   4.2MB/s   04:30 ETA"
       ]
      },
      {
       "output_type": "stream",
       "stream": "stdout",
       "text": [
        "\r",
        "1.040.O.step1.genomecoverage.txt               70% 2665MB   4.1MB/s   04:34 ETA"
       ]
      },
      {
       "output_type": "stream",
       "stream": "stdout",
       "text": [
        "\r",
        "1.040.O.step1.genomecoverage.txt               70% 2668MB   4.0MB/s   04:39 ETA"
       ]
      },
      {
       "output_type": "stream",
       "stream": "stdout",
       "text": [
        "\r",
        "1.040.O.step1.genomecoverage.txt               70% 2671MB   4.0MB/s   04:42 ETA"
       ]
      },
      {
       "output_type": "stream",
       "stream": "stdout",
       "text": [
        "\r",
        "1.040.O.step1.genomecoverage.txt               70% 2675MB   4.0MB/s   04:43 ETA"
       ]
      },
      {
       "output_type": "stream",
       "stream": "stdout",
       "text": [
        "\r",
        "1.040.O.step1.genomecoverage.txt               70% 2680MB   4.0MB/s   04:38 ETA"
       ]
      },
      {
       "output_type": "stream",
       "stream": "stdout",
       "text": [
        "\r",
        "1.040.O.step1.genomecoverage.txt               70% 2685MB   4.1MB/s   04:27 ETA"
       ]
      },
      {
       "output_type": "stream",
       "stream": "stdout",
       "text": [
        "\r",
        "1.040.O.step1.genomecoverage.txt               70% 2692MB   4.4MB/s   04:08 ETA"
       ]
      },
      {
       "output_type": "stream",
       "stream": "stdout",
       "text": [
        "\r",
        "1.040.O.step1.genomecoverage.txt               71% 2701MB   4.9MB/s   03:43 ETA"
       ]
      },
      {
       "output_type": "stream",
       "stream": "stdout",
       "text": [
        "\r",
        "1.040.O.step1.genomecoverage.txt               71% 2713MB   5.6MB/s   03:14 ETA"
       ]
      },
      {
       "output_type": "stream",
       "stream": "stdout",
       "text": [
        "\r",
        "1.040.O.step1.genomecoverage.txt               71% 2725MB   6.2MB/s   02:52 ETA"
       ]
      },
      {
       "output_type": "stream",
       "stream": "stdout",
       "text": [
        "\r",
        "1.040.O.step1.genomecoverage.txt               72% 2737MB   6.8MB/s   02:35 ETA"
       ]
      },
      {
       "output_type": "stream",
       "stream": "stdout",
       "text": [
        "\r",
        "1.040.O.step1.genomecoverage.txt               72% 2749MB   7.4MB/s   02:22 ETA"
       ]
      },
      {
       "output_type": "stream",
       "stream": "stdout",
       "text": [
        "\r",
        "1.040.O.step1.genomecoverage.txt               72% 2763MB   8.0MB/s   02:08 ETA"
       ]
      },
      {
       "output_type": "stream",
       "stream": "stdout",
       "text": [
        "\r",
        "1.040.O.step1.genomecoverage.txt               73% 2775MB   8.4MB/s   02:01 ETA"
       ]
      },
      {
       "output_type": "stream",
       "stream": "stdout",
       "text": [
        "\r",
        "1.040.O.step1.genomecoverage.txt               73% 2783MB   8.4MB/s   02:01 ETA"
       ]
      },
      {
       "output_type": "stream",
       "stream": "stdout",
       "text": [
        "\r",
        "1.040.O.step1.genomecoverage.txt               73% 2789MB   8.1MB/s   02:03 ETA"
       ]
      },
      {
       "output_type": "stream",
       "stream": "stdout",
       "text": [
        "\r",
        "1.040.O.step1.genomecoverage.txt               73% 2795MB   7.9MB/s   02:06 ETA"
       ]
      },
      {
       "output_type": "stream",
       "stream": "stdout",
       "text": [
        "\r",
        "1.040.O.step1.genomecoverage.txt               73% 2800MB   7.6MB/s   02:11 ETA"
       ]
      },
      {
       "output_type": "stream",
       "stream": "stdout",
       "text": [
        "\r",
        "1.040.O.step1.genomecoverage.txt               73% 2805MB   7.3MB/s   02:14 ETA"
       ]
      },
      {
       "output_type": "stream",
       "stream": "stdout",
       "text": [
        "\r",
        "1.040.O.step1.genomecoverage.txt               74% 2810MB   7.1MB/s   02:18 ETA"
       ]
      },
      {
       "output_type": "stream",
       "stream": "stdout",
       "text": [
        "\r",
        "1.040.O.step1.genomecoverage.txt               74% 2815MB   6.9MB/s   02:21 ETA"
       ]
      },
      {
       "output_type": "stream",
       "stream": "stdout",
       "text": [
        "\r",
        "1.040.O.step1.genomecoverage.txt               74% 2820MB   6.7MB/s   02:24 ETA"
       ]
      },
      {
       "output_type": "stream",
       "stream": "stdout",
       "text": [
        "\r",
        "1.040.O.step1.genomecoverage.txt               74% 2825MB   6.6MB/s   02:27 ETA"
       ]
      },
      {
       "output_type": "stream",
       "stream": "stdout",
       "text": [
        "\r",
        "1.040.O.step1.genomecoverage.txt               74% 2830MB   6.4MB/s   02:30 ETA"
       ]
      },
      {
       "output_type": "stream",
       "stream": "stdout",
       "text": [
        "\r",
        "1.040.O.step1.genomecoverage.txt               74% 2836MB   6.4MB/s   02:29 ETA"
       ]
      },
      {
       "output_type": "stream",
       "stream": "stdout",
       "text": [
        "\r",
        "1.040.O.step1.genomecoverage.txt               74% 2844MB   6.5MB/s   02:26 ETA"
       ]
      },
      {
       "output_type": "stream",
       "stream": "stdout",
       "text": [
        "\r",
        "1.040.O.step1.genomecoverage.txt               75% 2852MB   6.7MB/s   02:20 ETA"
       ]
      },
      {
       "output_type": "stream",
       "stream": "stdout",
       "text": [
        "\r",
        "1.040.O.step1.genomecoverage.txt               75% 2863MB   7.1MB/s   02:11 ETA"
       ]
      },
      {
       "output_type": "stream",
       "stream": "stdout",
       "text": [
        "\r",
        "1.040.O.step1.genomecoverage.txt               75% 2873MB   7.4MB/s   02:04 ETA"
       ]
      },
      {
       "output_type": "stream",
       "stream": "stdout",
       "text": [
        "\r",
        "1.040.O.step1.genomecoverage.txt               75% 2883MB   7.7MB/s   01:59 ETA"
       ]
      },
      {
       "output_type": "stream",
       "stream": "stdout",
       "text": [
        "\r",
        "1.040.O.step1.genomecoverage.txt               76% 2892MB   7.8MB/s   01:56 ETA"
       ]
      },
      {
       "output_type": "stream",
       "stream": "stdout",
       "text": [
        "\r",
        "1.040.O.step1.genomecoverage.txt               76% 2901MB   7.9MB/s   01:52 ETA"
       ]
      },
      {
       "output_type": "stream",
       "stream": "stdout",
       "text": [
        "\r",
        "1.040.O.step1.genomecoverage.txt               76% 2909MB   7.9MB/s   01:52 ETA"
       ]
      },
      {
       "output_type": "stream",
       "stream": "stdout",
       "text": [
        "\r",
        "1.040.O.step1.genomecoverage.txt               76% 2916MB   7.8MB/s   01:52 ETA"
       ]
      },
      {
       "output_type": "stream",
       "stream": "stdout",
       "text": [
        "\r",
        "1.040.O.step1.genomecoverage.txt               77% 2923MB   7.8MB/s   01:52 ETA"
       ]
      },
      {
       "output_type": "stream",
       "stream": "stdout",
       "text": [
        "\r",
        "1.040.O.step1.genomecoverage.txt               77% 2930MB   7.7MB/s   01:52 ETA"
       ]
      },
      {
       "output_type": "stream",
       "stream": "stdout",
       "text": [
        "\r",
        "1.040.O.step1.genomecoverage.txt               77% 2936MB   7.5MB/s   01:53 ETA"
       ]
      },
      {
       "output_type": "stream",
       "stream": "stdout",
       "text": [
        "\r",
        "1.040.O.step1.genomecoverage.txt               77% 2942MB   7.4MB/s   01:55 ETA"
       ]
      },
      {
       "output_type": "stream",
       "stream": "stdout",
       "text": [
        "\r",
        "1.040.O.step1.genomecoverage.txt               77% 2949MB   7.4MB/s   01:54 ETA"
       ]
      },
      {
       "output_type": "stream",
       "stream": "stdout",
       "text": [
        "\r",
        "1.040.O.step1.genomecoverage.txt               77% 2957MB   7.4MB/s   01:53 ETA"
       ]
      },
      {
       "output_type": "stream",
       "stream": "stdout",
       "text": [
        "\r",
        "1.040.O.step1.genomecoverage.txt               78% 2964MB   7.4MB/s   01:52 ETA"
       ]
      },
      {
       "output_type": "stream",
       "stream": "stdout",
       "text": [
        "\r",
        "1.040.O.step1.genomecoverage.txt               78% 2972MB   7.4MB/s   01:51 ETA"
       ]
      },
      {
       "output_type": "stream",
       "stream": "stdout",
       "text": [
        "\r",
        "1.040.O.step1.genomecoverage.txt               78% 2979MB   7.4MB/s   01:50 ETA"
       ]
      },
      {
       "output_type": "stream",
       "stream": "stdout",
       "text": [
        "\r",
        "1.040.O.step1.genomecoverage.txt               78% 2986MB   7.3MB/s   01:50 ETA"
       ]
      },
      {
       "output_type": "stream",
       "stream": "stdout",
       "text": [
        "\r",
        "1.040.O.step1.genomecoverage.txt               78% 2992MB   7.2MB/s   01:52 ETA"
       ]
      },
      {
       "output_type": "stream",
       "stream": "stdout",
       "text": [
        "\r",
        "1.040.O.step1.genomecoverage.txt               79% 2999MB   7.2MB/s   01:50 ETA"
       ]
      },
      {
       "output_type": "stream",
       "stream": "stdout",
       "text": [
        "\r",
        "1.040.O.step1.genomecoverage.txt               79% 3006MB   7.2MB/s   01:49 ETA"
       ]
      },
      {
       "output_type": "stream",
       "stream": "stdout",
       "text": [
        "\r",
        "1.040.O.step1.genomecoverage.txt               79% 3012MB   7.1MB/s   01:50 ETA"
       ]
      },
      {
       "output_type": "stream",
       "stream": "stdout",
       "text": [
        "\r",
        "1.040.O.step1.genomecoverage.txt               79% 3018MB   6.9MB/s   01:52 ETA"
       ]
      },
      {
       "output_type": "stream",
       "stream": "stdout",
       "text": [
        "\r",
        "1.040.O.step1.genomecoverage.txt               79% 3022MB   6.7MB/s   01:56 ETA"
       ]
      },
      {
       "output_type": "stream",
       "stream": "stdout",
       "text": [
        "\r",
        "1.040.O.step1.genomecoverage.txt               79% 3026MB   6.4MB/s   02:00 ETA"
       ]
      },
      {
       "output_type": "stream",
       "stream": "stdout",
       "text": [
        "\r",
        "1.040.O.step1.genomecoverage.txt               79% 3030MB   6.1MB/s   02:05 ETA"
       ]
      },
      {
       "output_type": "stream",
       "stream": "stdout",
       "text": [
        "\r",
        "1.040.O.step1.genomecoverage.txt               79% 3033MB   5.9MB/s   02:09 ETA"
       ]
      },
      {
       "output_type": "stream",
       "stream": "stdout",
       "text": [
        "\r",
        "1.040.O.step1.genomecoverage.txt               79% 3035MB   5.5MB/s   02:18 ETA"
       ]
      },
      {
       "output_type": "stream",
       "stream": "stdout",
       "text": [
        "\r",
        "1.040.O.step1.genomecoverage.txt               80% 3037MB   5.1MB/s   02:27 ETA"
       ]
      },
      {
       "output_type": "stream",
       "stream": "stdout",
       "text": [
        "\r",
        "1.040.O.step1.genomecoverage.txt               80% 3039MB   4.8MB/s   02:36 ETA"
       ]
      },
      {
       "output_type": "stream",
       "stream": "stdout",
       "text": [
        "\r",
        "1.040.O.step1.genomecoverage.txt               80% 3042MB   4.6MB/s   02:44 ETA"
       ]
      },
      {
       "output_type": "stream",
       "stream": "stdout",
       "text": [
        "\r",
        "1.040.O.step1.genomecoverage.txt               80% 3044MB   4.4MB/s   02:52 ETA"
       ]
      },
      {
       "output_type": "stream",
       "stream": "stdout",
       "text": [
        "\r",
        "1.040.O.step1.genomecoverage.txt               80% 3046MB   4.1MB/s   03:00 ETA"
       ]
      },
      {
       "output_type": "stream",
       "stream": "stdout",
       "text": [
        "\r",
        "1.040.O.step1.genomecoverage.txt               80% 3049MB   4.0MB/s   03:07 ETA"
       ]
      },
      {
       "output_type": "stream",
       "stream": "stdout",
       "text": [
        "\r",
        "1.040.O.step1.genomecoverage.txt               80% 3051MB   3.8MB/s   03:14 ETA"
       ]
      },
      {
       "output_type": "stream",
       "stream": "stdout",
       "text": [
        "\r",
        "1.040.O.step1.genomecoverage.txt               80% 3054MB   3.7MB/s   03:20 ETA"
       ]
      },
      {
       "output_type": "stream",
       "stream": "stdout",
       "text": [
        "\r",
        "1.040.O.step1.genomecoverage.txt               80% 3056MB   3.6MB/s   03:26 ETA"
       ]
      },
      {
       "output_type": "stream",
       "stream": "stdout",
       "text": [
        "\r",
        "1.040.O.step1.genomecoverage.txt               80% 3059MB   3.5MB/s   03:31 ETA"
       ]
      },
      {
       "output_type": "stream",
       "stream": "stdout",
       "text": [
        "\r",
        "1.040.O.step1.genomecoverage.txt               80% 3062MB   3.4MB/s   03:35 ETA"
       ]
      },
      {
       "output_type": "stream",
       "stream": "stdout",
       "text": [
        "\r",
        "1.040.O.step1.genomecoverage.txt               80% 3065MB   3.4MB/s   03:35 ETA"
       ]
      },
      {
       "output_type": "stream",
       "stream": "stdout",
       "text": [
        "\r",
        "1.040.O.step1.genomecoverage.txt               80% 3069MB   3.5MB/s   03:27 ETA"
       ]
      },
      {
       "output_type": "stream",
       "stream": "stdout",
       "text": [
        "\r",
        "1.040.O.step1.genomecoverage.txt               81% 3075MB   3.7MB/s   03:14 ETA"
       ]
      },
      {
       "output_type": "stream",
       "stream": "stdout",
       "text": [
        "\r",
        "1.040.O.step1.genomecoverage.txt               81% 3083MB   4.1MB/s   02:53 ETA"
       ]
      },
      {
       "output_type": "stream",
       "stream": "stdout",
       "text": [
        "\r",
        "1.040.O.step1.genomecoverage.txt               81% 3093MB   4.7MB/s   02:29 ETA"
       ]
      },
      {
       "output_type": "stream",
       "stream": "stdout",
       "text": [
        "\r",
        "1.040.O.step1.genomecoverage.txt               81% 3105MB   5.5MB/s   02:06 ETA"
       ]
      },
      {
       "output_type": "stream",
       "stream": "stdout",
       "text": [
        "\r",
        "1.040.O.step1.genomecoverage.txt               82% 3117MB   6.1MB/s   01:50 ETA"
       ]
      },
      {
       "output_type": "stream",
       "stream": "stdout",
       "text": [
        "\r",
        "1.040.O.step1.genomecoverage.txt               82% 3129MB   6.8MB/s   01:38 ETA"
       ]
      },
      {
       "output_type": "stream",
       "stream": "stdout",
       "text": [
        "\r",
        "1.040.O.step1.genomecoverage.txt               82% 3141MB   7.3MB/s   01:29 ETA"
       ]
      },
      {
       "output_type": "stream",
       "stream": "stdout",
       "text": [
        "\r",
        "1.040.O.step1.genomecoverage.txt               82% 3149MB   7.3MB/s   01:29 ETA"
       ]
      },
      {
       "output_type": "stream",
       "stream": "stdout",
       "text": [
        "\r",
        "1.040.O.step1.genomecoverage.txt               83% 3155MB   7.2MB/s   01:29 ETA"
       ]
      },
      {
       "output_type": "stream",
       "stream": "stdout",
       "text": [
        "\r",
        "1.040.O.step1.genomecoverage.txt               83% 3160MB   6.9MB/s   01:31 ETA"
       ]
      },
      {
       "output_type": "stream",
       "stream": "stdout",
       "text": [
        "\r",
        "1.040.O.step1.genomecoverage.txt               83% 3165MB   6.8MB/s   01:33 ETA"
       ]
      },
      {
       "output_type": "stream",
       "stream": "stdout",
       "text": [
        "\r",
        "1.040.O.step1.genomecoverage.txt               83% 3170MB   6.6MB/s   01:34 ETA"
       ]
      },
      {
       "output_type": "stream",
       "stream": "stdout",
       "text": [
        "\r",
        "1.040.O.step1.genomecoverage.txt               83% 3175MB   6.5MB/s   01:35 ETA"
       ]
      },
      {
       "output_type": "stream",
       "stream": "stdout",
       "text": [
        "\r",
        "1.040.O.step1.genomecoverage.txt               83% 3180MB   6.3MB/s   01:36 ETA"
       ]
      },
      {
       "output_type": "stream",
       "stream": "stdout",
       "text": [
        "\r",
        "1.040.O.step1.genomecoverage.txt               83% 3186MB   6.2MB/s   01:37 ETA"
       ]
      },
      {
       "output_type": "stream",
       "stream": "stdout",
       "text": [
        "\r",
        "1.040.O.step1.genomecoverage.txt               84% 3191MB   6.2MB/s   01:37 ETA"
       ]
      },
      {
       "output_type": "stream",
       "stream": "stdout",
       "text": [
        "\r",
        "1.040.O.step1.genomecoverage.txt               84% 3198MB   6.2MB/s   01:36 ETA"
       ]
      },
      {
       "output_type": "stream",
       "stream": "stdout",
       "text": [
        "\r",
        "1.040.O.step1.genomecoverage.txt               84% 3205MB   6.3MB/s   01:33 ETA"
       ]
      },
      {
       "output_type": "stream",
       "stream": "stdout",
       "text": [
        "\r",
        "1.040.O.step1.genomecoverage.txt               84% 3212MB   6.4MB/s   01:31 ETA"
       ]
      },
      {
       "output_type": "stream",
       "stream": "stdout",
       "text": [
        "\r",
        "1.040.O.step1.genomecoverage.txt               84% 3216MB   6.2MB/s   01:33 ETA"
       ]
      },
      {
       "output_type": "stream",
       "stream": "stdout",
       "text": [
        "\r",
        "1.040.O.step1.genomecoverage.txt               84% 3220MB   5.9MB/s   01:36 ETA"
       ]
      },
      {
       "output_type": "stream",
       "stream": "stdout",
       "text": [
        "\r",
        "1.040.O.step1.genomecoverage.txt               84% 3223MB   5.6MB/s   01:41 ETA"
       ]
      },
      {
       "output_type": "stream",
       "stream": "stdout",
       "text": [
        "\r",
        "1.040.O.step1.genomecoverage.txt               85% 3226MB   5.4MB/s   01:45 ETA"
       ]
      },
      {
       "output_type": "stream",
       "stream": "stdout",
       "text": [
        "\r",
        "1.040.O.step1.genomecoverage.txt               85% 3230MB   5.2MB/s   01:49 ETA"
       ]
      },
      {
       "output_type": "stream",
       "stream": "stdout",
       "text": [
        "\r",
        "1.040.O.step1.genomecoverage.txt               85% 3233MB   5.0MB/s   01:52 ETA"
       ]
      },
      {
       "output_type": "stream",
       "stream": "stdout",
       "text": [
        "\r",
        "1.040.O.step1.genomecoverage.txt               85% 3236MB   4.8MB/s   01:55 ETA"
       ]
      },
      {
       "output_type": "stream",
       "stream": "stdout",
       "text": [
        "\r",
        "1.040.O.step1.genomecoverage.txt               85% 3240MB   4.7MB/s   01:57 ETA"
       ]
      },
      {
       "output_type": "stream",
       "stream": "stdout",
       "text": [
        "\r",
        "1.040.O.step1.genomecoverage.txt               85% 3244MB   4.7MB/s   01:58 ETA"
       ]
      },
      {
       "output_type": "stream",
       "stream": "stdout",
       "text": [
        "\r",
        "1.040.O.step1.genomecoverage.txt               85% 3249MB   4.7MB/s   01:56 ETA"
       ]
      },
      {
       "output_type": "stream",
       "stream": "stdout",
       "text": [
        "\r",
        "1.040.O.step1.genomecoverage.txt               85% 3254MB   4.7MB/s   01:55 ETA"
       ]
      },
      {
       "output_type": "stream",
       "stream": "stdout",
       "text": [
        "\r",
        "1.040.O.step1.genomecoverage.txt               85% 3258MB   4.7MB/s   01:54 ETA"
       ]
      },
      {
       "output_type": "stream",
       "stream": "stdout",
       "text": [
        "\r",
        "1.040.O.step1.genomecoverage.txt               86% 3263MB   4.7MB/s   01:52 ETA"
       ]
      },
      {
       "output_type": "stream",
       "stream": "stdout",
       "text": [
        "\r",
        "1.040.O.step1.genomecoverage.txt               86% 3267MB   4.6MB/s   01:54 ETA"
       ]
      },
      {
       "output_type": "stream",
       "stream": "stdout",
       "text": [
        "\r",
        "1.040.O.step1.genomecoverage.txt               86% 3271MB   4.5MB/s   01:55 ETA"
       ]
      },
      {
       "output_type": "stream",
       "stream": "stdout",
       "text": [
        "\r",
        "1.040.O.step1.genomecoverage.txt               86% 3275MB   4.5MB/s   01:56 ETA"
       ]
      },
      {
       "output_type": "stream",
       "stream": "stdout",
       "text": [
        "\r",
        "1.040.O.step1.genomecoverage.txt               86% 3278MB   4.4MB/s   01:57 ETA"
       ]
      },
      {
       "output_type": "stream",
       "stream": "stdout",
       "text": [
        "\r",
        "1.040.O.step1.genomecoverage.txt               86% 3282MB   4.3MB/s   02:00 ETA"
       ]
      },
      {
       "output_type": "stream",
       "stream": "stdout",
       "text": [
        "\r",
        "1.040.O.step1.genomecoverage.txt               86% 3284MB   4.1MB/s   02:03 ETA"
       ]
      },
      {
       "output_type": "stream",
       "stream": "stdout",
       "text": [
        "\r",
        "1.040.O.step1.genomecoverage.txt               86% 3287MB   4.0MB/s   02:08 ETA"
       ]
      },
      {
       "output_type": "stream",
       "stream": "stdout",
       "text": [
        "\r",
        "1.040.O.step1.genomecoverage.txt               86% 3289MB   3.8MB/s   02:14 ETA"
       ]
      },
      {
       "output_type": "stream",
       "stream": "stdout",
       "text": [
        "\r",
        "1.040.O.step1.genomecoverage.txt               86% 3291MB   3.6MB/s   02:19 ETA"
       ]
      },
      {
       "output_type": "stream",
       "stream": "stdout",
       "text": [
        "\r",
        "1.040.O.step1.genomecoverage.txt               86% 3293MB   3.5MB/s   02:24 ETA"
       ]
      },
      {
       "output_type": "stream",
       "stream": "stdout",
       "text": [
        "\r",
        "1.040.O.step1.genomecoverage.txt               86% 3296MB   3.4MB/s   02:28 ETA"
       ]
      },
      {
       "output_type": "stream",
       "stream": "stdout",
       "text": [
        "\r",
        "1.040.O.step1.genomecoverage.txt               86% 3298MB   3.3MB/s   02:30 ETA"
       ]
      },
      {
       "output_type": "stream",
       "stream": "stdout",
       "text": [
        "\r",
        "1.040.O.step1.genomecoverage.txt               86% 3301MB   3.2MB/s   02:33 ETA"
       ]
      },
      {
       "output_type": "stream",
       "stream": "stdout",
       "text": [
        "\r",
        "1.040.O.step1.genomecoverage.txt               87% 3304MB   3.2MB/s   02:31 ETA"
       ]
      },
      {
       "output_type": "stream",
       "stream": "stdout",
       "text": [
        "\r",
        "1.040.O.step1.genomecoverage.txt               87% 3309MB   3.4MB/s   02:24 ETA"
       ]
      },
      {
       "output_type": "stream",
       "stream": "stdout",
       "text": [
        "\r",
        "1.040.O.step1.genomecoverage.txt               87% 3313MB   3.5MB/s   02:18 ETA"
       ]
      },
      {
       "output_type": "stream",
       "stream": "stdout",
       "text": [
        "\r",
        "1.040.O.step1.genomecoverage.txt               87% 3318MB   3.6MB/s   02:11 ETA"
       ]
      },
      {
       "output_type": "stream",
       "stream": "stdout",
       "text": [
        "\r",
        "1.040.O.step1.genomecoverage.txt               87% 3324MB   3.8MB/s   02:04 ETA"
       ]
      },
      {
       "output_type": "stream",
       "stream": "stdout",
       "text": [
        "\r",
        "1.040.O.step1.genomecoverage.txt               87% 3329MB   3.9MB/s   01:58 ETA"
       ]
      },
      {
       "output_type": "stream",
       "stream": "stdout",
       "text": [
        "\r",
        "1.040.O.step1.genomecoverage.txt               87% 3334MB   4.1MB/s   01:52 ETA"
       ]
      },
      {
       "output_type": "stream",
       "stream": "stdout",
       "text": [
        "\r",
        "1.040.O.step1.genomecoverage.txt               88% 3339MB   4.2MB/s   01:48 ETA"
       ]
      },
      {
       "output_type": "stream",
       "stream": "stdout",
       "text": [
        "\r",
        "1.040.O.step1.genomecoverage.txt               88% 3344MB   4.3MB/s   01:45 ETA"
       ]
      },
      {
       "output_type": "stream",
       "stream": "stdout",
       "text": [
        "\r",
        "1.040.O.step1.genomecoverage.txt               88% 3349MB   4.3MB/s   01:44 ETA"
       ]
      },
      {
       "output_type": "stream",
       "stream": "stdout",
       "text": [
        "\r",
        "1.040.O.step1.genomecoverage.txt               88% 3353MB   4.1MB/s   01:48 ETA"
       ]
      },
      {
       "output_type": "stream",
       "stream": "stdout",
       "text": [
        "\r",
        "1.040.O.step1.genomecoverage.txt               88% 3357MB   4.1MB/s   01:46 ETA"
       ]
      },
      {
       "output_type": "stream",
       "stream": "stdout",
       "text": [
        "\r",
        "1.040.O.step1.genomecoverage.txt               88% 3362MB   4.1MB/s   01:44 ETA"
       ]
      },
      {
       "output_type": "stream",
       "stream": "stdout",
       "text": [
        "\r",
        "1.040.O.step1.genomecoverage.txt               88% 3366MB   4.2MB/s   01:42 ETA"
       ]
      },
      {
       "output_type": "stream",
       "stream": "stdout",
       "text": [
        "\r",
        "1.040.O.step1.genomecoverage.txt               88% 3371MB   4.2MB/s   01:40 ETA"
       ]
      },
      {
       "output_type": "stream",
       "stream": "stdout",
       "text": [
        "\r",
        "1.040.O.step1.genomecoverage.txt               88% 3376MB   4.3MB/s   01:37 ETA"
       ]
      },
      {
       "output_type": "stream",
       "stream": "stdout",
       "text": [
        "\r",
        "1.040.O.step1.genomecoverage.txt               89% 3381MB   4.4MB/s   01:35 ETA"
       ]
      },
      {
       "output_type": "stream",
       "stream": "stdout",
       "text": [
        "\r",
        "1.040.O.step1.genomecoverage.txt               89% 3386MB   4.4MB/s   01:32 ETA"
       ]
      },
      {
       "output_type": "stream",
       "stream": "stdout",
       "text": [
        "\r",
        "1.040.O.step1.genomecoverage.txt               89% 3391MB   4.5MB/s   01:30 ETA"
       ]
      },
      {
       "output_type": "stream",
       "stream": "stdout",
       "text": [
        "\r",
        "1.040.O.step1.genomecoverage.txt               89% 3396MB   4.6MB/s   01:27 ETA"
       ]
      },
      {
       "output_type": "stream",
       "stream": "stdout",
       "text": [
        "\r",
        "1.040.O.step1.genomecoverage.txt               89% 3400MB   4.4MB/s   01:28 ETA"
       ]
      },
      {
       "output_type": "stream",
       "stream": "stdout",
       "text": [
        "\r",
        "1.040.O.step1.genomecoverage.txt               89% 3403MB   4.4MB/s   01:29 ETA"
       ]
      },
      {
       "output_type": "stream",
       "stream": "stdout",
       "text": [
        "\r",
        "1.040.O.step1.genomecoverage.txt               89% 3407MB   4.3MB/s   01:30 ETA"
       ]
      },
      {
       "output_type": "stream",
       "stream": "stdout",
       "text": [
        "\r",
        "1.040.O.step1.genomecoverage.txt               89% 3410MB   4.2MB/s   01:30 ETA"
       ]
      },
      {
       "output_type": "stream",
       "stream": "stdout",
       "text": [
        "\r",
        "1.040.O.step1.genomecoverage.txt               89% 3413MB   4.1MB/s   01:33 ETA"
       ]
      },
      {
       "output_type": "stream",
       "stream": "stdout",
       "text": [
        "\r",
        "1.040.O.step1.genomecoverage.txt               90% 3416MB   4.0MB/s   01:35 ETA"
       ]
      },
      {
       "output_type": "stream",
       "stream": "stdout",
       "text": [
        "\r",
        "1.040.O.step1.genomecoverage.txt               90% 3419MB   3.8MB/s   01:38 ETA"
       ]
      },
      {
       "output_type": "stream",
       "stream": "stdout",
       "text": [
        "\r",
        "1.040.O.step1.genomecoverage.txt               90% 3421MB   3.7MB/s   01:40 ETA"
       ]
      },
      {
       "output_type": "stream",
       "stream": "stdout",
       "text": [
        "\r",
        "1.040.O.step1.genomecoverage.txt               90% 3424MB   3.6MB/s   01:42 ETA"
       ]
      },
      {
       "output_type": "stream",
       "stream": "stdout",
       "text": [
        "\r",
        "1.040.O.step1.genomecoverage.txt               90% 3426MB   3.5MB/s   01:45 ETA"
       ]
      },
      {
       "output_type": "stream",
       "stream": "stdout",
       "text": [
        "\r",
        "1.040.O.step1.genomecoverage.txt               90% 3428MB   3.3MB/s   01:50 ETA"
       ]
      },
      {
       "output_type": "stream",
       "stream": "stdout",
       "text": [
        "\r",
        "1.040.O.step1.genomecoverage.txt               90% 3430MB   3.2MB/s   01:54 ETA"
       ]
      },
      {
       "output_type": "stream",
       "stream": "stdout",
       "text": [
        "\r",
        "1.040.O.step1.genomecoverage.txt               90% 3432MB   3.1MB/s   01:57 ETA"
       ]
      },
      {
       "output_type": "stream",
       "stream": "stdout",
       "text": [
        "\r",
        "1.040.O.step1.genomecoverage.txt               90% 3435MB   3.0MB/s   01:59 ETA"
       ]
      },
      {
       "output_type": "stream",
       "stream": "stdout",
       "text": [
        "\r",
        "1.040.O.step1.genomecoverage.txt               90% 3437MB   2.9MB/s   02:02 ETA"
       ]
      },
      {
       "output_type": "stream",
       "stream": "stdout",
       "text": [
        "\r",
        "1.040.O.step1.genomecoverage.txt               90% 3440MB   2.9MB/s   02:01 ETA"
       ]
      },
      {
       "output_type": "stream",
       "stream": "stdout",
       "text": [
        "\r",
        "1.040.O.step1.genomecoverage.txt               90% 3443MB   3.0MB/s   01:58 ETA"
       ]
      },
      {
       "output_type": "stream",
       "stream": "stdout",
       "text": [
        "\r",
        "1.040.O.step1.genomecoverage.txt               90% 3448MB   3.2MB/s   01:49 ETA"
       ]
      },
      {
       "output_type": "stream",
       "stream": "stdout",
       "text": [
        "\r",
        "1.040.O.step1.genomecoverage.txt               91% 3455MB   3.5MB/s   01:36 ETA"
       ]
      },
      {
       "output_type": "stream",
       "stream": "stdout",
       "text": [
        "\r",
        "1.040.O.step1.genomecoverage.txt               91% 3459MB   3.6MB/s   01:33 ETA"
       ]
      },
      {
       "output_type": "stream",
       "stream": "stdout",
       "text": [
        "\r",
        "1.040.O.step1.genomecoverage.txt               91% 3463MB   3.6MB/s   01:32 ETA"
       ]
      },
      {
       "output_type": "stream",
       "stream": "stdout",
       "text": [
        "\r",
        "1.040.O.step1.genomecoverage.txt               91% 3467MB   3.6MB/s   01:29 ETA"
       ]
      },
      {
       "output_type": "stream",
       "stream": "stdout",
       "text": [
        "\r",
        "1.040.O.step1.genomecoverage.txt               91% 3471MB   3.7MB/s   01:28 ETA"
       ]
      },
      {
       "output_type": "stream",
       "stream": "stdout",
       "text": [
        "\r",
        "1.040.O.step1.genomecoverage.txt               91% 3475MB   3.7MB/s   01:26 ETA"
       ]
      },
      {
       "output_type": "stream",
       "stream": "stdout",
       "text": [
        "\r",
        "1.040.O.step1.genomecoverage.txt               91% 3479MB   3.8MB/s   01:24 ETA"
       ]
      },
      {
       "output_type": "stream",
       "stream": "stdout",
       "text": [
        "\r",
        "1.040.O.step1.genomecoverage.txt               91% 3484MB   3.9MB/s   01:20 ETA"
       ]
      },
      {
       "output_type": "stream",
       "stream": "stdout",
       "text": [
        "\r",
        "1.040.O.step1.genomecoverage.txt               91% 3489MB   4.0MB/s   01:16 ETA"
       ]
      },
      {
       "output_type": "stream",
       "stream": "stdout",
       "text": [
        "\r",
        "1.040.O.step1.genomecoverage.txt               92% 3494MB   4.1MB/s   01:12 ETA"
       ]
      },
      {
       "output_type": "stream",
       "stream": "stdout",
       "text": [
        "\r",
        "1.040.O.step1.genomecoverage.txt               92% 3502MB   4.5MB/s   01:05 ETA"
       ]
      },
      {
       "output_type": "stream",
       "stream": "stdout",
       "text": [
        "\r",
        "1.040.O.step1.genomecoverage.txt               92% 3511MB   5.0MB/s   00:56 ETA"
       ]
      },
      {
       "output_type": "stream",
       "stream": "stdout",
       "text": [
        "\r",
        "1.040.O.step1.genomecoverage.txt               92% 3523MB   5.7MB/s   00:48 ETA"
       ]
      },
      {
       "output_type": "stream",
       "stream": "stdout",
       "text": [
        "\r",
        "1.040.O.step1.genomecoverage.txt               93% 3535MB   6.3MB/s   00:41 ETA"
       ]
      },
      {
       "output_type": "stream",
       "stream": "stdout",
       "text": [
        "\r",
        "1.040.O.step1.genomecoverage.txt               93% 3547MB   6.9MB/s   00:36 ETA"
       ]
      },
      {
       "output_type": "stream",
       "stream": "stdout",
       "text": [
        "\r",
        "1.040.O.step1.genomecoverage.txt               93% 3560MB   7.5MB/s   00:31 ETA"
       ]
      },
      {
       "output_type": "stream",
       "stream": "stdout",
       "text": [
        "\r",
        "1.040.O.step1.genomecoverage.txt               94% 3571MB   7.8MB/s   00:28 ETA"
       ]
      },
      {
       "output_type": "stream",
       "stream": "stdout",
       "text": [
        "\r",
        "1.040.O.step1.genomecoverage.txt               94% 3581MB   8.0MB/s   00:26 ETA"
       ]
      },
      {
       "output_type": "stream",
       "stream": "stdout",
       "text": [
        "\r",
        "1.040.O.step1.genomecoverage.txt               94% 3589MB   8.1MB/s   00:25 ETA"
       ]
      },
      {
       "output_type": "stream",
       "stream": "stdout",
       "text": [
        "\r",
        "1.040.O.step1.genomecoverage.txt               94% 3598MB   8.2MB/s   00:24 ETA"
       ]
      },
      {
       "output_type": "stream",
       "stream": "stdout",
       "text": [
        "\r",
        "1.040.O.step1.genomecoverage.txt               94% 3604MB   8.0MB/s   00:23 ETA"
       ]
      },
      {
       "output_type": "stream",
       "stream": "stdout",
       "text": [
        "\r",
        "1.040.O.step1.genomecoverage.txt               95% 3612MB   7.9MB/s   00:23 ETA"
       ]
      },
      {
       "output_type": "stream",
       "stream": "stdout",
       "text": [
        "\r",
        "1.040.O.step1.genomecoverage.txt               95% 3617MB   7.6MB/s   00:23 ETA"
       ]
      },
      {
       "output_type": "stream",
       "stream": "stdout",
       "text": [
        "\r",
        "1.040.O.step1.genomecoverage.txt               95% 3620MB   7.2MB/s   00:24 ETA"
       ]
      },
      {
       "output_type": "stream",
       "stream": "stdout",
       "text": [
        "\r",
        "1.040.O.step1.genomecoverage.txt               95% 3624MB   6.9MB/s   00:24 ETA"
       ]
      },
      {
       "output_type": "stream",
       "stream": "stdout",
       "text": [
        "\r",
        "1.040.O.step1.genomecoverage.txt               95% 3628MB   6.5MB/s   00:25 ETA"
       ]
      },
      {
       "output_type": "stream",
       "stream": "stdout",
       "text": [
        "\r",
        "1.040.O.step1.genomecoverage.txt               95% 3631MB   6.3MB/s   00:26 ETA"
       ]
      },
      {
       "output_type": "stream",
       "stream": "stdout",
       "text": [
        "\r",
        "1.040.O.step1.genomecoverage.txt               95% 3635MB   6.0MB/s   00:26 ETA"
       ]
      },
      {
       "output_type": "stream",
       "stream": "stdout",
       "text": [
        "\r",
        "1.040.O.step1.genomecoverage.txt               95% 3637MB   5.6MB/s   00:27 ETA"
       ]
      },
      {
       "output_type": "stream",
       "stream": "stdout",
       "text": [
        "\r",
        "1.040.O.step1.genomecoverage.txt               95% 3640MB   5.3MB/s   00:28 ETA"
       ]
      },
      {
       "output_type": "stream",
       "stream": "stdout",
       "text": [
        "\r",
        "1.040.O.step1.genomecoverage.txt               96% 3643MB   5.1MB/s   00:29 ETA"
       ]
      },
      {
       "output_type": "stream",
       "stream": "stdout",
       "text": [
        "\r",
        "1.040.O.step1.genomecoverage.txt               96% 3646MB   4.8MB/s   00:30 ETA"
       ]
      },
      {
       "output_type": "stream",
       "stream": "stdout",
       "text": [
        "\r",
        "1.040.O.step1.genomecoverage.txt               96% 3648MB   4.6MB/s   00:31 ETA"
       ]
      },
      {
       "output_type": "stream",
       "stream": "stdout",
       "text": [
        "\r",
        "1.040.O.step1.genomecoverage.txt               96% 3651MB   4.5MB/s   00:32 ETA"
       ]
      },
      {
       "output_type": "stream",
       "stream": "stdout",
       "text": [
        "\r",
        "1.040.O.step1.genomecoverage.txt               96% 3655MB   4.4MB/s   00:31 ETA"
       ]
      },
      {
       "output_type": "stream",
       "stream": "stdout",
       "text": [
        "\r",
        "1.040.O.step1.genomecoverage.txt               96% 3660MB   4.4MB/s   00:30 ETA"
       ]
      },
      {
       "output_type": "stream",
       "stream": "stdout",
       "text": [
        "\r",
        "1.040.O.step1.genomecoverage.txt               96% 3666MB   4.6MB/s   00:28 ETA"
       ]
      },
      {
       "output_type": "stream",
       "stream": "stdout",
       "text": [
        "\r",
        "1.040.O.step1.genomecoverage.txt               96% 3674MB   5.0MB/s   00:24 ETA"
       ]
      },
      {
       "output_type": "stream",
       "stream": "stdout",
       "text": [
        "\r",
        "1.040.O.step1.genomecoverage.txt               97% 3685MB   5.5MB/s   00:19 ETA"
       ]
      },
      {
       "output_type": "stream",
       "stream": "stdout",
       "text": [
        "\r",
        "1.040.O.step1.genomecoverage.txt               97% 3698MB   6.3MB/s   00:15 ETA"
       ]
      },
      {
       "output_type": "stream",
       "stream": "stdout",
       "text": [
        "\r",
        "1.040.O.step1.genomecoverage.txt               97% 3711MB   7.0MB/s   00:11 ETA"
       ]
      },
      {
       "output_type": "stream",
       "stream": "stdout",
       "text": [
        "\r",
        "1.040.O.step1.genomecoverage.txt               98% 3721MB   7.3MB/s   00:09 ETA"
       ]
      },
      {
       "output_type": "stream",
       "stream": "stdout",
       "text": [
        "\r",
        "1.040.O.step1.genomecoverage.txt               98% 3730MB   7.4MB/s   00:08 ETA"
       ]
      },
      {
       "output_type": "stream",
       "stream": "stdout",
       "text": [
        "\r",
        "1.040.O.step1.genomecoverage.txt               98% 3739MB   7.6MB/s   00:07 ETA"
       ]
      },
      {
       "output_type": "stream",
       "stream": "stdout",
       "text": [
        "\r",
        "1.040.O.step1.genomecoverage.txt               98% 3749MB   7.8MB/s   00:05 ETA"
       ]
      },
      {
       "output_type": "stream",
       "stream": "stdout",
       "text": [
        "\r",
        "1.040.O.step1.genomecoverage.txt               99% 3758MB   8.0MB/s   00:04 ETA"
       ]
      },
      {
       "output_type": "stream",
       "stream": "stdout",
       "text": [
        "\r",
        "1.040.O.step1.genomecoverage.txt               99% 3766MB   7.9MB/s   00:03 ETA"
       ]
      },
      {
       "output_type": "stream",
       "stream": "stdout",
       "text": [
        "\r",
        "1.040.O.step1.genomecoverage.txt               99% 3771MB   7.6MB/s   00:03 ETA"
       ]
      },
      {
       "output_type": "stream",
       "stream": "stdout",
       "text": [
        "\r",
        "1.040.O.step1.genomecoverage.txt               99% 3775MB   7.3MB/s   00:02 ETA"
       ]
      },
      {
       "output_type": "stream",
       "stream": "stdout",
       "text": [
        "\r",
        "1.040.O.step1.genomecoverage.txt               99% 3779MB   7.0MB/s   00:02 ETA"
       ]
      },
      {
       "output_type": "stream",
       "stream": "stdout",
       "text": [
        "\r",
        "1.040.O.step1.genomecoverage.txt               99% 3784MB   6.8MB/s   00:01 ETA"
       ]
      },
      {
       "output_type": "stream",
       "stream": "stdout",
       "text": [
        "\r",
        "1.040.O.step1.genomecoverage.txt               99% 3788MB   6.5MB/s   00:00 ETA"
       ]
      },
      {
       "output_type": "stream",
       "stream": "stdout",
       "text": [
        "\r",
        "1.040.O.step1.genomecoverage.txt               99% 3793MB   6.4MB/s   00:00 ETA"
       ]
      },
      {
       "output_type": "stream",
       "stream": "stdout",
       "text": [
        "\r",
        "1.040.O.step1.genomecoverage.txt              100% 3794MB   5.6MB/s   11:23    \r\n"
       ]
      },
      {
       "output_type": "stream",
       "stream": "stdout",
       "text": [
        "\r",
        "1.043.O.step1.genomecoverage.txt                0%    0     0.0KB/s   --:-- ETA"
       ]
      },
      {
       "output_type": "stream",
       "stream": "stdout",
       "text": [
        "\r",
        "1.043.O.step1.genomecoverage.txt                1% 3616KB   3.5MB/s   00:55 ETA"
       ]
      },
      {
       "output_type": "stream",
       "stream": "stdout",
       "text": [
        "\r",
        "1.043.O.step1.genomecoverage.txt                3% 7120KB   3.5MB/s   00:54 ETA"
       ]
      },
      {
       "output_type": "stream",
       "stream": "stdout",
       "text": [
        "\r",
        "1.043.O.step1.genomecoverage.txt                5%   11MB   3.5MB/s   00:53 ETA"
       ]
      },
      {
       "output_type": "stream",
       "stream": "stdout",
       "text": [
        "\r",
        "1.043.O.step1.genomecoverage.txt                7%   14MB   3.5MB/s   00:52 ETA"
       ]
      },
      {
       "output_type": "stream",
       "stream": "stdout",
       "text": [
        "\r",
        "1.043.O.step1.genomecoverage.txt                8%   18MB   3.5MB/s   00:51 ETA"
       ]
      },
      {
       "output_type": "stream",
       "stream": "stdout",
       "text": [
        "\r",
        "1.043.O.step1.genomecoverage.txt               10%   21MB   3.6MB/s   00:50 ETA"
       ]
      },
      {
       "output_type": "stream",
       "stream": "stdout",
       "text": [
        "\r",
        "1.043.O.step1.genomecoverage.txt               12%   24MB   3.5MB/s   00:50 ETA"
       ]
      },
      {
       "output_type": "stream",
       "stream": "stdout",
       "text": [
        "\r",
        "1.043.O.step1.genomecoverage.txt               13%   27MB   3.4MB/s   00:50 ETA"
       ]
      },
      {
       "output_type": "stream",
       "stream": "stdout",
       "text": [
        "\r",
        "1.043.O.step1.genomecoverage.txt               14%   30MB   3.3MB/s   00:51 ETA"
       ]
      },
      {
       "output_type": "stream",
       "stream": "stdout",
       "text": [
        "\r",
        "1.043.O.step1.genomecoverage.txt               15%   32MB   3.2MB/s   00:52 ETA"
       ]
      },
      {
       "output_type": "stream",
       "stream": "stdout",
       "text": [
        "\r",
        "1.043.O.step1.genomecoverage.txt               17%   35MB   3.2MB/s   00:52 ETA"
       ]
      },
      {
       "output_type": "stream",
       "stream": "stdout",
       "text": [
        "\r",
        "1.043.O.step1.genomecoverage.txt               18%   37MB   3.1MB/s   00:52 ETA"
       ]
      },
      {
       "output_type": "stream",
       "stream": "stdout",
       "text": [
        "\r",
        "1.043.O.step1.genomecoverage.txt               19%   40MB   3.1MB/s   00:52 ETA"
       ]
      },
      {
       "output_type": "stream",
       "stream": "stdout",
       "text": [
        "\r",
        "1.043.O.step1.genomecoverage.txt               21%   43MB   3.0MB/s   00:51 ETA"
       ]
      },
      {
       "output_type": "stream",
       "stream": "stdout",
       "text": [
        "\r",
        "1.043.O.step1.genomecoverage.txt               22%   45MB   3.0MB/s   00:51 ETA"
       ]
      },
      {
       "output_type": "stream",
       "stream": "stdout",
       "text": [
        "\r",
        "1.043.O.step1.genomecoverage.txt               24%   49MB   3.1MB/s   00:49 ETA"
       ]
      },
      {
       "output_type": "stream",
       "stream": "stdout",
       "text": [
        "\r",
        "1.043.O.step1.genomecoverage.txt               26%   53MB   3.2MB/s   00:46 ETA"
       ]
      },
      {
       "output_type": "stream",
       "stream": "stdout",
       "text": [
        "\r",
        "1.043.O.step1.genomecoverage.txt               29%   59MB   3.4MB/s   00:41 ETA"
       ]
      },
      {
       "output_type": "stream",
       "stream": "stdout",
       "text": [
        "\r",
        "1.043.O.step1.genomecoverage.txt               31%   62MB   3.4MB/s   00:40 ETA"
       ]
      },
      {
       "output_type": "stream",
       "stream": "stdout",
       "text": [
        "\r",
        "1.043.O.step1.genomecoverage.txt               32%   65MB   3.4MB/s   00:40 ETA"
       ]
      },
      {
       "output_type": "stream",
       "stream": "stdout",
       "text": [
        "\r",
        "1.043.O.step1.genomecoverage.txt               33%   68MB   3.3MB/s   00:39 ETA"
       ]
      },
      {
       "output_type": "stream",
       "stream": "stdout",
       "text": [
        "\r",
        "1.043.O.step1.genomecoverage.txt               35%   71MB   3.3MB/s   00:39 ETA"
       ]
      },
      {
       "output_type": "stream",
       "stream": "stdout",
       "text": [
        "\r",
        "1.043.O.step1.genomecoverage.txt               37%   74MB   3.3MB/s   00:38 ETA"
       ]
      },
      {
       "output_type": "stream",
       "stream": "stdout",
       "text": [
        "\r",
        "1.043.O.step1.genomecoverage.txt               38%   78MB   3.3MB/s   00:37 ETA"
       ]
      },
      {
       "output_type": "stream",
       "stream": "stdout",
       "text": [
        "\r",
        "1.043.O.step1.genomecoverage.txt               40%   81MB   3.3MB/s   00:35 ETA"
       ]
      },
      {
       "output_type": "stream",
       "stream": "stdout",
       "text": [
        "\r",
        "1.043.O.step1.genomecoverage.txt               42%   86MB   3.5MB/s   00:33 ETA"
       ]
      },
      {
       "output_type": "stream",
       "stream": "stdout",
       "text": [
        "\r",
        "1.043.O.step1.genomecoverage.txt               45%   90MB   3.6MB/s   00:30 ETA"
       ]
      },
      {
       "output_type": "stream",
       "stream": "stdout",
       "text": [
        "\r",
        "1.043.O.step1.genomecoverage.txt               47%   94MB   3.6MB/s   00:29 ETA"
       ]
      },
      {
       "output_type": "stream",
       "stream": "stdout",
       "text": [
        "\r",
        "1.043.O.step1.genomecoverage.txt               49%   98MB   3.6MB/s   00:28 ETA"
       ]
      },
      {
       "output_type": "stream",
       "stream": "stdout",
       "text": [
        "\r",
        "1.043.O.step1.genomecoverage.txt               50%  102MB   3.7MB/s   00:26 ETA"
       ]
      },
      {
       "output_type": "stream",
       "stream": "stdout",
       "text": [
        "\r",
        "1.043.O.step1.genomecoverage.txt               52%  105MB   3.6MB/s   00:26 ETA"
       ]
      },
      {
       "output_type": "stream",
       "stream": "stdout",
       "text": [
        "\r",
        "1.043.O.step1.genomecoverage.txt               54%  109MB   3.6MB/s   00:25 ETA"
       ]
      },
      {
       "output_type": "stream",
       "stream": "stdout",
       "text": [
        "\r",
        "1.043.O.step1.genomecoverage.txt               56%  113MB   3.7MB/s   00:23 ETA"
       ]
      },
      {
       "output_type": "stream",
       "stream": "stdout",
       "text": [
        "\r",
        "1.043.O.step1.genomecoverage.txt               58%  117MB   3.7MB/s   00:22 ETA"
       ]
      },
      {
       "output_type": "stream",
       "stream": "stdout",
       "text": [
        "\r",
        "1.043.O.step1.genomecoverage.txt               60%  120MB   3.7MB/s   00:21 ETA"
       ]
      },
      {
       "output_type": "stream",
       "stream": "stdout",
       "text": [
        "\r",
        "1.043.O.step1.genomecoverage.txt               61%  124MB   3.7MB/s   00:20 ETA"
       ]
      },
      {
       "output_type": "stream",
       "stream": "stdout",
       "text": [
        "\r",
        "1.043.O.step1.genomecoverage.txt               63%  127MB   3.6MB/s   00:20 ETA"
       ]
      },
      {
       "output_type": "stream",
       "stream": "stdout",
       "text": [
        "\r",
        "1.043.O.step1.genomecoverage.txt               64%  130MB   3.5MB/s   00:20 ETA"
       ]
      },
      {
       "output_type": "stream",
       "stream": "stdout",
       "text": [
        "\r",
        "1.043.O.step1.genomecoverage.txt               65%  132MB   3.4MB/s   00:20 ETA"
       ]
      },
      {
       "output_type": "stream",
       "stream": "stdout",
       "text": [
        "\r",
        "1.043.O.step1.genomecoverage.txt               67%  135MB   3.3MB/s   00:20 ETA"
       ]
      },
      {
       "output_type": "stream",
       "stream": "stdout",
       "text": [
        "\r",
        "1.043.O.step1.genomecoverage.txt               68%  137MB   3.2MB/s   00:20 ETA"
       ]
      },
      {
       "output_type": "stream",
       "stream": "stdout",
       "text": [
        "\r",
        "1.043.O.step1.genomecoverage.txt               69%  139MB   3.1MB/s   00:19 ETA"
       ]
      },
      {
       "output_type": "stream",
       "stream": "stdout",
       "text": [
        "\r",
        "1.043.O.step1.genomecoverage.txt               70%  141MB   3.0MB/s   00:19 ETA"
       ]
      },
      {
       "output_type": "stream",
       "stream": "stdout",
       "text": [
        "\r",
        "1.043.O.step1.genomecoverage.txt               71%  144MB   3.0MB/s   00:19 ETA"
       ]
      },
      {
       "output_type": "stream",
       "stream": "stdout",
       "text": [
        "\r",
        "1.043.O.step1.genomecoverage.txt               73%  146MB   2.9MB/s   00:18 ETA"
       ]
      },
      {
       "output_type": "stream",
       "stream": "stdout",
       "text": [
        "\r",
        "1.043.O.step1.genomecoverage.txt               74%  149MB   2.9MB/s   00:17 ETA"
       ]
      },
      {
       "output_type": "stream",
       "stream": "stdout",
       "text": [
        "\r",
        "1.043.O.step1.genomecoverage.txt               75%  152MB   2.9MB/s   00:16 ETA"
       ]
      },
      {
       "output_type": "stream",
       "stream": "stdout",
       "text": [
        "\r",
        "1.043.O.step1.genomecoverage.txt               77%  154MB   2.9MB/s   00:16 ETA"
       ]
      },
      {
       "output_type": "stream",
       "stream": "stdout",
       "text": [
        "\r",
        "1.043.O.step1.genomecoverage.txt               78%  157MB   2.8MB/s   00:15 ETA"
       ]
      },
      {
       "output_type": "stream",
       "stream": "stdout",
       "text": [
        "\r",
        "1.043.O.step1.genomecoverage.txt               80%  161MB   2.9MB/s   00:13 ETA"
       ]
      },
      {
       "output_type": "stream",
       "stream": "stdout",
       "text": [
        "\r",
        "1.043.O.step1.genomecoverage.txt               82%  165MB   3.1MB/s   00:11 ETA"
       ]
      },
      {
       "output_type": "stream",
       "stream": "stdout",
       "text": [
        "\r",
        "1.043.O.step1.genomecoverage.txt               85%  171MB   3.3MB/s   00:09 ETA"
       ]
      },
      {
       "output_type": "stream",
       "stream": "stdout",
       "text": [
        "\r",
        "1.043.O.step1.genomecoverage.txt               88%  178MB   3.7MB/s   00:05 ETA"
       ]
      },
      {
       "output_type": "stream",
       "stream": "stdout",
       "text": [
        "\r",
        "1.043.O.step1.genomecoverage.txt               92%  186MB   4.1MB/s   00:03 ETA"
       ]
      },
      {
       "output_type": "stream",
       "stream": "stdout",
       "text": [
        "\r",
        "1.043.O.step1.genomecoverage.txt               96%  193MB   4.5MB/s   00:01 ETA"
       ]
      },
      {
       "output_type": "stream",
       "stream": "stdout",
       "text": [
        "\r",
        "1.043.O.step1.genomecoverage.txt              100%  200MB   3.6MB/s   00:56    \r\n"
       ]
      },
      {
       "output_type": "stream",
       "stream": "stdout",
       "text": [
        "\r",
        "1.044.O.step1.genomecoverage.txt                0%    0     0.0KB/s   --:-- ETA"
       ]
      },
      {
       "output_type": "stream",
       "stream": "stdout",
       "text": [
        "\r",
        "1.044.O.step1.genomecoverage.txt              100% 2980KB   2.9MB/s   00:01    \r\n"
       ]
      },
      {
       "output_type": "stream",
       "stream": "stdout",
       "text": [
        "\r",
        "1.048.O.step1.genomecoverage.txt                0%    0     0.0KB/s   --:-- ETA"
       ]
      },
      {
       "output_type": "stream",
       "stream": "stdout",
       "text": [
        "\r",
        "1.048.O.step1.genomecoverage.txt               10% 6608KB   6.5MB/s   00:08 ETA"
       ]
      },
      {
       "output_type": "stream",
       "stream": "stdout",
       "text": [
        "\r",
        "1.048.O.step1.genomecoverage.txt               19%   11MB   6.3MB/s   00:07 ETA"
       ]
      },
      {
       "output_type": "stream",
       "stream": "stdout",
       "text": [
        "\r",
        "1.048.O.step1.genomecoverage.txt               25%   15MB   6.1MB/s   00:07 ETA"
       ]
      },
      {
       "output_type": "stream",
       "stream": "stdout",
       "text": [
        "\r",
        "1.048.O.step1.genomecoverage.txt               31%   19MB   5.8MB/s   00:07 ETA"
       ]
      },
      {
       "output_type": "stream",
       "stream": "stdout",
       "text": [
        "\r",
        "1.048.O.step1.genomecoverage.txt               37%   23MB   5.6MB/s   00:06 ETA"
       ]
      },
      {
       "output_type": "stream",
       "stream": "stdout",
       "text": [
        "\r",
        "1.048.O.step1.genomecoverage.txt               43%   26MB   5.4MB/s   00:06 ETA"
       ]
      },
      {
       "output_type": "stream",
       "stream": "stdout",
       "text": [
        "\r",
        "1.048.O.step1.genomecoverage.txt               48%   29MB   5.2MB/s   00:05 ETA"
       ]
      },
      {
       "output_type": "stream",
       "stream": "stdout",
       "text": [
        "\r",
        "1.048.O.step1.genomecoverage.txt               52%   32MB   4.9MB/s   00:05 ETA"
       ]
      },
      {
       "output_type": "stream",
       "stream": "stdout",
       "text": [
        "\r",
        "1.048.O.step1.genomecoverage.txt               57%   34MB   4.7MB/s   00:05 ETA"
       ]
      },
      {
       "output_type": "stream",
       "stream": "stdout",
       "text": [
        "\r",
        "1.048.O.step1.genomecoverage.txt               61%   37MB   4.5MB/s   00:05 ETA"
       ]
      },
      {
       "output_type": "stream",
       "stream": "stdout",
       "text": [
        "\r",
        "1.048.O.step1.genomecoverage.txt               65%   39MB   4.3MB/s   00:04 ETA"
       ]
      },
      {
       "output_type": "stream",
       "stream": "stdout",
       "text": [
        "\r",
        "1.048.O.step1.genomecoverage.txt               70%   42MB   4.1MB/s   00:04 ETA"
       ]
      },
      {
       "output_type": "stream",
       "stream": "stdout",
       "text": [
        "\r",
        "1.048.O.step1.genomecoverage.txt               75%   45MB   4.0MB/s   00:03 ETA"
       ]
      },
      {
       "output_type": "stream",
       "stream": "stdout",
       "text": [
        "\r",
        "1.048.O.step1.genomecoverage.txt               79%   48MB   3.9MB/s   00:03 ETA"
       ]
      },
      {
       "output_type": "stream",
       "stream": "stdout",
       "text": [
        "\r",
        "1.048.O.step1.genomecoverage.txt               82%   50MB   3.7MB/s   00:02 ETA"
       ]
      },
      {
       "output_type": "stream",
       "stream": "stdout",
       "text": [
        "\r",
        "1.048.O.step1.genomecoverage.txt               84%   51MB   3.4MB/s   00:02 ETA"
       ]
      },
      {
       "output_type": "stream",
       "stream": "stdout",
       "text": [
        "\r",
        "1.048.O.step1.genomecoverage.txt               87%   52MB   3.2MB/s   00:02 ETA"
       ]
      },
      {
       "output_type": "stream",
       "stream": "stdout",
       "text": [
        "\r",
        "1.048.O.step1.genomecoverage.txt               90%   54MB   3.1MB/s   00:01 ETA"
       ]
      },
      {
       "output_type": "stream",
       "stream": "stdout",
       "text": [
        "\r",
        "1.048.O.step1.genomecoverage.txt               92%   56MB   2.9MB/s   00:01 ETA"
       ]
      },
      {
       "output_type": "stream",
       "stream": "stdout",
       "text": [
        "\r",
        "1.048.O.step1.genomecoverage.txt               95%   58MB   2.8MB/s   00:00 ETA"
       ]
      },
      {
       "output_type": "stream",
       "stream": "stdout",
       "text": [
        "\r",
        "1.048.O.step1.genomecoverage.txt               99%   60MB   2.7MB/s   00:00 ETA"
       ]
      },
      {
       "output_type": "stream",
       "stream": "stdout",
       "text": [
        "\r",
        "1.048.O.step1.genomecoverage.txt              100%   60MB   2.9MB/s   00:21    \r\n",
        "\r",
        "1.057.O.step1.genomecoverage.txt                0%    0     0.0KB/s   --:-- ETA"
       ]
      },
      {
       "output_type": "stream",
       "stream": "stdout",
       "text": [
        "\r",
        "1.057.O.step1.genomecoverage.txt              100%  188KB 188.0KB/s   00:00    \r\n"
       ]
      },
      {
       "output_type": "stream",
       "stream": "stdout",
       "text": [
        "\r",
        "1.062.O.step1.genomecoverage.txt                0%    0     0.0KB/s   --:-- ETA"
       ]
      },
      {
       "output_type": "stream",
       "stream": "stdout",
       "text": [
        "\r",
        "1.062.O.step1.genomecoverage.txt                6% 3040KB   3.0MB/s   00:14 ETA"
       ]
      },
      {
       "output_type": "stream",
       "stream": "stdout",
       "text": [
        "\r",
        "1.062.O.step1.genomecoverage.txt               12% 5840KB   3.0MB/s   00:13 ETA"
       ]
      },
      {
       "output_type": "stream",
       "stream": "stdout",
       "text": [
        "\r",
        "1.062.O.step1.genomecoverage.txt               19% 9136KB   3.0MB/s   00:12 ETA"
       ]
      },
      {
       "output_type": "stream",
       "stream": "stdout",
       "text": [
        "\r",
        "1.062.O.step1.genomecoverage.txt               27%   12MB   3.0MB/s   00:10 ETA"
       ]
      },
      {
       "output_type": "stream",
       "stream": "stdout",
       "text": [
        "\r",
        "1.062.O.step1.genomecoverage.txt               35%   16MB   3.1MB/s   00:09 ETA"
       ]
      },
      {
       "output_type": "stream",
       "stream": "stdout",
       "text": [
        "\r",
        "1.062.O.step1.genomecoverage.txt               41%   19MB   3.1MB/s   00:08 ETA"
       ]
      },
      {
       "output_type": "stream",
       "stream": "stdout",
       "text": [
        "\r",
        "1.062.O.step1.genomecoverage.txt               47%   21MB   3.0MB/s   00:07 ETA"
       ]
      },
      {
       "output_type": "stream",
       "stream": "stdout",
       "text": [
        "\r",
        "1.062.O.step1.genomecoverage.txt               53%   24MB   3.0MB/s   00:06 ETA"
       ]
      },
      {
       "output_type": "stream",
       "stream": "stdout",
       "text": [
        "\r",
        "1.062.O.step1.genomecoverage.txt               60%   27MB   3.0MB/s   00:06 ETA"
       ]
      },
      {
       "output_type": "stream",
       "stream": "stdout",
       "text": [
        "\r",
        "1.062.O.step1.genomecoverage.txt               63%   29MB   2.8MB/s   00:05 ETA"
       ]
      },
      {
       "output_type": "stream",
       "stream": "stdout",
       "text": [
        "\r",
        "1.062.O.step1.genomecoverage.txt               67%   30MB   2.7MB/s   00:05 ETA"
       ]
      },
      {
       "output_type": "stream",
       "stream": "stdout",
       "text": [
        "\r",
        "1.062.O.step1.genomecoverage.txt               71%   32MB   2.6MB/s   00:04 ETA"
       ]
      },
      {
       "output_type": "stream",
       "stream": "stdout",
       "text": [
        "\r",
        "1.062.O.step1.genomecoverage.txt               75%   34MB   2.5MB/s   00:04 ETA"
       ]
      },
      {
       "output_type": "stream",
       "stream": "stdout",
       "text": [
        "\r",
        "1.062.O.step1.genomecoverage.txt               79%   35MB   2.5MB/s   00:03 ETA"
       ]
      },
      {
       "output_type": "stream",
       "stream": "stdout",
       "text": [
        "\r",
        "1.062.O.step1.genomecoverage.txt               83%   37MB   2.4MB/s   00:03 ETA"
       ]
      },
      {
       "output_type": "stream",
       "stream": "stdout",
       "text": [
        "\r",
        "1.062.O.step1.genomecoverage.txt               88%   40MB   2.4MB/s   00:02 ETA"
       ]
      },
      {
       "output_type": "stream",
       "stream": "stdout",
       "text": [
        "\r",
        "1.062.O.step1.genomecoverage.txt               96%   43MB   2.5MB/s   00:00 ETA"
       ]
      },
      {
       "output_type": "stream",
       "stream": "stdout",
       "text": [
        "\r",
        "1.062.O.step1.genomecoverage.txt              100%   45MB   2.5MB/s   00:18    \r\n"
       ]
      },
      {
       "output_type": "stream",
       "stream": "stdout",
       "text": [
        "\r",
        "1.069.O.step1.genomecoverage.txt                0%    0     0.0KB/s   --:-- ETA"
       ]
      },
      {
       "output_type": "stream",
       "stream": "stdout",
       "text": [
        "\r",
        "1.069.O.step1.genomecoverage.txt               16% 5280KB   5.2MB/s   00:04 ETA"
       ]
      },
      {
       "output_type": "stream",
       "stream": "stdout",
       "text": [
        "\r",
        "1.069.O.step1.genomecoverage.txt               36%   11MB   5.3MB/s   00:03 ETA"
       ]
      },
      {
       "output_type": "stream",
       "stream": "stdout",
       "text": [
        "\r",
        "1.069.O.step1.genomecoverage.txt               59%   18MB   5.4MB/s   00:02 ETA"
       ]
      },
      {
       "output_type": "stream",
       "stream": "stdout",
       "text": [
        "\r",
        "1.069.O.step1.genomecoverage.txt               83%   26MB   5.6MB/s   00:00 ETA"
       ]
      },
      {
       "output_type": "stream",
       "stream": "stdout",
       "text": [
        "\r",
        "1.069.O.step1.genomecoverage.txt              100%   31MB   7.7MB/s   00:04    \r\n"
       ]
      },
      {
       "output_type": "stream",
       "stream": "stdout",
       "text": [
        "\r",
        "1.080.O.step1.genomecoverage.txt                0%    0     0.0KB/s   --:-- ETA"
       ]
      },
      {
       "output_type": "stream",
       "stream": "stdout",
       "text": [
        "\r",
        "1.080.O.step1.genomecoverage.txt              100%  183KB 183.5KB/s   00:00    \r\n"
       ]
      },
      {
       "output_type": "stream",
       "stream": "stdout",
       "text": [
        "\r",
        "1.095.O.step1.genomecoverage.txt                0%    0     0.0KB/s   --:-- ETA"
       ]
      },
      {
       "output_type": "stream",
       "stream": "stdout",
       "text": [
        "\r",
        "1.095.O.step1.genomecoverage.txt                5% 7440KB   7.3MB/s   00:18 ETA"
       ]
      },
      {
       "output_type": "stream",
       "stream": "stdout",
       "text": [
        "\r",
        "1.095.O.step1.genomecoverage.txt                9%   13MB   7.1MB/s   00:17 ETA"
       ]
      },
      {
       "output_type": "stream",
       "stream": "stdout",
       "text": [
        "\r",
        "1.095.O.step1.genomecoverage.txt               14%   21MB   7.2MB/s   00:16 ETA"
       ]
      },
      {
       "output_type": "stream",
       "stream": "stdout",
       "text": [
        "\r",
        "1.095.O.step1.genomecoverage.txt               19%   27MB   7.1MB/s   00:16 ETA"
       ]
      },
      {
       "output_type": "stream",
       "stream": "stdout",
       "text": [
        "\r",
        "1.095.O.step1.genomecoverage.txt               23%   33MB   7.0MB/s   00:15 ETA"
       ]
      },
      {
       "output_type": "stream",
       "stream": "stdout",
       "text": [
        "\r",
        "1.095.O.step1.genomecoverage.txt               26%   37MB   6.7MB/s   00:15 ETA"
       ]
      },
      {
       "output_type": "stream",
       "stream": "stdout",
       "text": [
        "\r",
        "1.095.O.step1.genomecoverage.txt               28%   40MB   6.3MB/s   00:16 ETA"
       ]
      },
      {
       "output_type": "stream",
       "stream": "stdout",
       "text": [
        "\r",
        "1.095.O.step1.genomecoverage.txt               29%   42MB   5.9MB/s   00:16 ETA"
       ]
      },
      {
       "output_type": "stream",
       "stream": "stdout",
       "text": [
        "\r",
        "1.095.O.step1.genomecoverage.txt               31%   45MB   5.5MB/s   00:17 ETA"
       ]
      },
      {
       "output_type": "stream",
       "stream": "stdout",
       "text": [
        "\r",
        "1.095.O.step1.genomecoverage.txt               33%   47MB   5.2MB/s   00:17 ETA"
       ]
      },
      {
       "output_type": "stream",
       "stream": "stdout",
       "text": [
        "\r",
        "1.095.O.step1.genomecoverage.txt               35%   50MB   5.0MB/s   00:18 ETA"
       ]
      },
      {
       "output_type": "stream",
       "stream": "stdout",
       "text": [
        "\r",
        "1.095.O.step1.genomecoverage.txt               37%   52MB   4.7MB/s   00:18 ETA"
       ]
      },
      {
       "output_type": "stream",
       "stream": "stdout",
       "text": [
        "\r",
        "1.095.O.step1.genomecoverage.txt               39%   55MB   4.6MB/s   00:18 ETA"
       ]
      },
      {
       "output_type": "stream",
       "stream": "stdout",
       "text": [
        "\r",
        "1.095.O.step1.genomecoverage.txt               41%   59MB   4.5MB/s   00:18 ETA"
       ]
      },
      {
       "output_type": "stream",
       "stream": "stdout",
       "text": [
        "\r",
        "1.095.O.step1.genomecoverage.txt               44%   62MB   4.4MB/s   00:18 ETA"
       ]
      },
      {
       "output_type": "stream",
       "stream": "stdout",
       "text": [
        "\r",
        "1.095.O.step1.genomecoverage.txt               46%   66MB   4.3MB/s   00:17 ETA"
       ]
      },
      {
       "output_type": "stream",
       "stream": "stdout",
       "text": [
        "\r",
        "1.095.O.step1.genomecoverage.txt               49%   70MB   4.3MB/s   00:16 ETA"
       ]
      },
      {
       "output_type": "stream",
       "stream": "stdout",
       "text": [
        "\r",
        "1.095.O.step1.genomecoverage.txt               52%   74MB   4.2MB/s   00:15 ETA"
       ]
      },
      {
       "output_type": "stream",
       "stream": "stdout",
       "text": [
        "\r",
        "1.095.O.step1.genomecoverage.txt               54%   78MB   4.2MB/s   00:15 ETA"
       ]
      },
      {
       "output_type": "stream",
       "stream": "stdout",
       "text": [
        "\r",
        "1.095.O.step1.genomecoverage.txt               57%   81MB   4.1MB/s   00:14 ETA"
       ]
      },
      {
       "output_type": "stream",
       "stream": "stdout",
       "text": [
        "\r",
        "1.095.O.step1.genomecoverage.txt               59%   84MB   4.0MB/s   00:14 ETA"
       ]
      },
      {
       "output_type": "stream",
       "stream": "stdout",
       "text": [
        "\r",
        "1.095.O.step1.genomecoverage.txt               62%   88MB   4.0MB/s   00:13 ETA"
       ]
      },
      {
       "output_type": "stream",
       "stream": "stdout",
       "text": [
        "\r",
        "1.095.O.step1.genomecoverage.txt               64%   91MB   3.9MB/s   00:12 ETA"
       ]
      },
      {
       "output_type": "stream",
       "stream": "stdout",
       "text": [
        "\r",
        "1.095.O.step1.genomecoverage.txt               66%   94MB   3.8MB/s   00:12 ETA"
       ]
      },
      {
       "output_type": "stream",
       "stream": "stdout",
       "text": [
        "\r",
        "1.095.O.step1.genomecoverage.txt               68%   97MB   3.8MB/s   00:11 ETA"
       ]
      },
      {
       "output_type": "stream",
       "stream": "stdout",
       "text": [
        "\r",
        "1.095.O.step1.genomecoverage.txt               70%   99MB   3.6MB/s   00:11 ETA"
       ]
      },
      {
       "output_type": "stream",
       "stream": "stdout",
       "text": [
        "\r",
        "1.095.O.step1.genomecoverage.txt               71%  102MB   3.4MB/s   00:11 ETA"
       ]
      },
      {
       "output_type": "stream",
       "stream": "stdout",
       "text": [
        "\r",
        "1.095.O.step1.genomecoverage.txt               73%  104MB   3.3MB/s   00:11 ETA"
       ]
      },
      {
       "output_type": "stream",
       "stream": "stdout",
       "text": [
        "\r",
        "1.095.O.step1.genomecoverage.txt               75%  106MB   3.2MB/s   00:10 ETA"
       ]
      },
      {
       "output_type": "stream",
       "stream": "stdout",
       "text": [
        "\r",
        "1.095.O.step1.genomecoverage.txt               77%  109MB   3.2MB/s   00:10 ETA"
       ]
      },
      {
       "output_type": "stream",
       "stream": "stdout",
       "text": [
        "\r",
        "1.095.O.step1.genomecoverage.txt               78%  111MB   3.1MB/s   00:09 ETA"
       ]
      },
      {
       "output_type": "stream",
       "stream": "stdout",
       "text": [
        "\r",
        "1.095.O.step1.genomecoverage.txt               81%  115MB   3.1MB/s   00:08 ETA"
       ]
      },
      {
       "output_type": "stream",
       "stream": "stdout",
       "text": [
        "\r",
        "1.095.O.step1.genomecoverage.txt               83%  118MB   3.1MB/s   00:07 ETA"
       ]
      },
      {
       "output_type": "stream",
       "stream": "stdout",
       "text": [
        "\r",
        "1.095.O.step1.genomecoverage.txt               85%  120MB   3.0MB/s   00:06 ETA"
       ]
      },
      {
       "output_type": "stream",
       "stream": "stdout",
       "text": [
        "\r",
        "1.095.O.step1.genomecoverage.txt               86%  123MB   3.0MB/s   00:06 ETA"
       ]
      },
      {
       "output_type": "stream",
       "stream": "stdout",
       "text": [
        "\r",
        "1.095.O.step1.genomecoverage.txt               88%  126MB   3.0MB/s   00:05 ETA"
       ]
      },
      {
       "output_type": "stream",
       "stream": "stdout",
       "text": [
        "\r",
        "1.095.O.step1.genomecoverage.txt               90%  128MB   3.0MB/s   00:04 ETA"
       ]
      },
      {
       "output_type": "stream",
       "stream": "stdout",
       "text": [
        "\r",
        "1.095.O.step1.genomecoverage.txt               92%  131MB   2.9MB/s   00:03 ETA"
       ]
      },
      {
       "output_type": "stream",
       "stream": "stdout",
       "text": [
        "\r",
        "1.095.O.step1.genomecoverage.txt               94%  134MB   2.9MB/s   00:02 ETA"
       ]
      },
      {
       "output_type": "stream",
       "stream": "stdout",
       "text": [
        "\r",
        "1.095.O.step1.genomecoverage.txt               97%  138MB   3.0MB/s   00:01 ETA"
       ]
      },
      {
       "output_type": "stream",
       "stream": "stdout",
       "text": [
        "\r",
        "1.095.O.step1.genomecoverage.txt              100%  141MB   3.5MB/s   00:40    \r\n"
       ]
      },
      {
       "output_type": "stream",
       "stream": "stdout",
       "text": [
        "\r",
        "1.102.O.step1.genomecoverage.txt                0%    0     0.0KB/s   --:-- ETA"
       ]
      },
      {
       "output_type": "stream",
       "stream": "stdout",
       "text": [
        "\r",
        "1.102.O.step1.genomecoverage.txt               25% 4256KB   4.2MB/s   00:02 ETA"
       ]
      },
      {
       "output_type": "stream",
       "stream": "stdout",
       "text": [
        "\r",
        "1.102.O.step1.genomecoverage.txt               55% 9248KB   4.2MB/s   00:01 ETA"
       ]
      },
      {
       "output_type": "stream",
       "stream": "stdout",
       "text": [
        "\r",
        "1.102.O.step1.genomecoverage.txt               87%   14MB   4.3MB/s   00:00 ETA"
       ]
      },
      {
       "output_type": "stream",
       "stream": "stdout",
       "text": [
        "\r",
        "1.102.O.step1.genomecoverage.txt              100%   16MB   4.1MB/s   00:04    \r\n"
       ]
      },
      {
       "output_type": "stream",
       "stream": "stdout",
       "text": [
        "\r",
        "1.107.A.step1.genomecoverage.txt                0%    0     0.0KB/s   --:-- ETA"
       ]
      },
      {
       "output_type": "stream",
       "stream": "stdout",
       "text": [
        "\r",
        "1.107.A.step1.genomecoverage.txt                9% 5216KB   5.1MB/s   00:09 ETA"
       ]
      },
      {
       "output_type": "stream",
       "stream": "stdout",
       "text": [
        "\r",
        "1.107.A.step1.genomecoverage.txt               19%   10MB   5.1MB/s   00:08 ETA"
       ]
      },
      {
       "output_type": "stream",
       "stream": "stdout",
       "text": [
        "\r",
        "1.107.A.step1.genomecoverage.txt               29%   15MB   5.1MB/s   00:07 ETA"
       ]
      },
      {
       "output_type": "stream",
       "stream": "stdout",
       "text": [
        "\r",
        "1.107.A.step1.genomecoverage.txt               39%   21MB   5.1MB/s   00:06 ETA"
       ]
      },
      {
       "output_type": "stream",
       "stream": "stdout",
       "text": [
        "\r",
        "1.107.A.step1.genomecoverage.txt               47%   25MB   5.1MB/s   00:05 ETA"
       ]
      },
      {
       "output_type": "stream",
       "stream": "stdout",
       "text": [
        "\r",
        "1.107.A.step1.genomecoverage.txt               54%   29MB   4.9MB/s   00:04 ETA"
       ]
      },
      {
       "output_type": "stream",
       "stream": "stdout",
       "text": [
        "\r",
        "1.107.A.step1.genomecoverage.txt               62%   33MB   4.8MB/s   00:04 ETA"
       ]
      },
      {
       "output_type": "stream",
       "stream": "stdout",
       "text": [
        "\r",
        "1.107.A.step1.genomecoverage.txt               69%   36MB   4.7MB/s   00:03 ETA"
       ]
      },
      {
       "output_type": "stream",
       "stream": "stdout",
       "text": [
        "\r",
        "1.107.A.step1.genomecoverage.txt               74%   39MB   4.5MB/s   00:02 ETA"
       ]
      },
      {
       "output_type": "stream",
       "stream": "stdout",
       "text": [
        "\r",
        "1.107.A.step1.genomecoverage.txt               79%   42MB   4.3MB/s   00:02 ETA"
       ]
      },
      {
       "output_type": "stream",
       "stream": "stdout",
       "text": [
        "\r",
        "1.107.A.step1.genomecoverage.txt               85%   45MB   4.2MB/s   00:01 ETA"
       ]
      },
      {
       "output_type": "stream",
       "stream": "stdout",
       "text": [
        "\r",
        "1.107.A.step1.genomecoverage.txt               90%   48MB   4.1MB/s   00:01 ETA"
       ]
      },
      {
       "output_type": "stream",
       "stream": "stdout",
       "text": [
        "\r",
        "1.107.A.step1.genomecoverage.txt               96%   51MB   4.0MB/s   00:00 ETA"
       ]
      },
      {
       "output_type": "stream",
       "stream": "stdout",
       "text": [
        "\r",
        "1.107.A.step1.genomecoverage.txt              100%   53MB   4.0MB/s   00:13    \r\n"
       ]
      },
      {
       "output_type": "stream",
       "stream": "stdout",
       "text": [
        "\r",
        "1.107.B.step1.genomecoverage.txt                0%    0     0.0KB/s   --:-- ETA"
       ]
      },
      {
       "output_type": "stream",
       "stream": "stdout",
       "text": [
        "\r",
        "1.107.B.step1.genomecoverage.txt               12% 2768KB   2.7MB/s   00:06 ETA"
       ]
      },
      {
       "output_type": "stream",
       "stream": "stdout",
       "text": [
        "\r",
        "1.107.B.step1.genomecoverage.txt               21% 4752KB   2.6MB/s   00:06 ETA"
       ]
      },
      {
       "output_type": "stream",
       "stream": "stdout",
       "text": [
        "\r",
        "1.107.B.step1.genomecoverage.txt               29% 6432KB   2.5MB/s   00:05 ETA"
       ]
      },
      {
       "output_type": "stream",
       "stream": "stdout",
       "text": [
        "\r",
        "1.107.B.step1.genomecoverage.txt               37% 8128KB   2.4MB/s   00:05 ETA"
       ]
      },
      {
       "output_type": "stream",
       "stream": "stdout",
       "text": [
        "\r",
        "1.107.B.step1.genomecoverage.txt               45%   10MB   2.4MB/s   00:04 ETA"
       ]
      },
      {
       "output_type": "stream",
       "stream": "stdout",
       "text": [
        "\r",
        "1.107.B.step1.genomecoverage.txt               54%   12MB   2.3MB/s   00:04 ETA"
       ]
      },
      {
       "output_type": "stream",
       "stream": "stdout",
       "text": [
        "\r",
        "1.107.B.step1.genomecoverage.txt               64%   14MB   2.3MB/s   00:03 ETA"
       ]
      },
      {
       "output_type": "stream",
       "stream": "stdout",
       "text": [
        "\r",
        "1.107.B.step1.genomecoverage.txt               75%   16MB   2.3MB/s   00:02 ETA"
       ]
      },
      {
       "output_type": "stream",
       "stream": "stdout",
       "text": [
        "\r",
        "1.107.B.step1.genomecoverage.txt               88%   19MB   2.4MB/s   00:01 ETA"
       ]
      },
      {
       "output_type": "stream",
       "stream": "stdout",
       "text": [
        "\r",
        "1.107.B.step1.genomecoverage.txt              100%   21MB   2.4MB/s   00:09    \r\n"
       ]
      },
      {
       "output_type": "stream",
       "stream": "stdout",
       "text": [
        "\r",
        "1.107.C.step1.genomecoverage.txt                0%    0     0.0KB/s   --:-- ETA"
       ]
      },
      {
       "output_type": "stream",
       "stream": "stdout",
       "text": [
        "\r",
        "1.107.C.step1.genomecoverage.txt                4% 5200KB   5.1MB/s   00:19 ETA"
       ]
      },
      {
       "output_type": "stream",
       "stream": "stdout",
       "text": [
        "\r",
        "1.107.C.step1.genomecoverage.txt               12%   13MB   5.3MB/s   00:16 ETA"
       ]
      },
      {
       "output_type": "stream",
       "stream": "stdout",
       "text": [
        "\r",
        "1.107.C.step1.genomecoverage.txt               21%   22MB   5.8MB/s   00:14 ETA"
       ]
      },
      {
       "output_type": "stream",
       "stream": "stdout",
       "text": [
        "\r",
        "1.107.C.step1.genomecoverage.txt               29%   31MB   6.0MB/s   00:12 ETA"
       ]
      },
      {
       "output_type": "stream",
       "stream": "stdout",
       "text": [
        "\r",
        "1.107.C.step1.genomecoverage.txt               36%   38MB   6.2MB/s   00:10 ETA"
       ]
      },
      {
       "output_type": "stream",
       "stream": "stdout",
       "text": [
        "\r",
        "1.107.C.step1.genomecoverage.txt               44%   46MB   6.3MB/s   00:09 ETA"
       ]
      },
      {
       "output_type": "stream",
       "stream": "stdout",
       "text": [
        "\r",
        "1.107.C.step1.genomecoverage.txt               51%   53MB   6.4MB/s   00:07 ETA"
       ]
      },
      {
       "output_type": "stream",
       "stream": "stdout",
       "text": [
        "\r",
        "1.107.C.step1.genomecoverage.txt               58%   60MB   6.5MB/s   00:06 ETA"
       ]
      },
      {
       "output_type": "stream",
       "stream": "stdout",
       "text": [
        "\r",
        "1.107.C.step1.genomecoverage.txt               64%   66MB   6.4MB/s   00:05 ETA"
       ]
      },
      {
       "output_type": "stream",
       "stream": "stdout",
       "text": [
        "\r",
        "1.107.C.step1.genomecoverage.txt               71%   73MB   6.5MB/s   00:04 ETA"
       ]
      },
      {
       "output_type": "stream",
       "stream": "stdout",
       "text": [
        "\r",
        "1.107.C.step1.genomecoverage.txt               78%   81MB   6.6MB/s   00:03 ETA"
       ]
      },
      {
       "output_type": "stream",
       "stream": "stdout",
       "text": [
        "\r",
        "1.107.C.step1.genomecoverage.txt               85%   88MB   6.7MB/s   00:02 ETA"
       ]
      },
      {
       "output_type": "stream",
       "stream": "stdout",
       "text": [
        "\r",
        "1.107.C.step1.genomecoverage.txt               93%   96MB   6.8MB/s   00:01 ETA"
       ]
      },
      {
       "output_type": "stream",
       "stream": "stdout",
       "text": [
        "\r",
        "1.107.C.step1.genomecoverage.txt               99%  102MB   6.7MB/s   00:00 ETA"
       ]
      },
      {
       "output_type": "stream",
       "stream": "stdout",
       "text": [
        "\r",
        "1.107.C.step1.genomecoverage.txt              100%  103MB   6.9MB/s   00:15    \r\n"
       ]
      },
      {
       "output_type": "stream",
       "stream": "stdout",
       "text": [
        "\r",
        "1.125.O.step1.genomecoverage.txt                0%    0     0.0KB/s   --:-- ETA"
       ]
      },
      {
       "output_type": "stream",
       "stream": "stdout",
       "text": [
        "\r",
        "1.125.O.step1.genomecoverage.txt              100%  194KB 193.8KB/s   00:00    \r\n"
       ]
      },
      {
       "output_type": "stream",
       "stream": "stdout",
       "text": [
        "\r",
        "1.141.A.step1.genomecoverage.txt                0%    0     0.0KB/s   --:-- ETA"
       ]
      },
      {
       "output_type": "stream",
       "stream": "stdout",
       "text": [
        "\r",
        "1.141.A.step1.genomecoverage.txt                0% 3664KB   3.6MB/s 2:27:32 ETA"
       ]
      },
      {
       "output_type": "stream",
       "stream": "stdout",
       "text": [
        "\r",
        "1.141.A.step1.genomecoverage.txt                0% 6432KB   3.5MB/s 2:31:13 ETA"
       ]
      },
      {
       "output_type": "stream",
       "stream": "stdout",
       "text": [
        "\r",
        "1.141.A.step1.genomecoverage.txt                0% 9216KB   3.4MB/s 2:34:37 ETA"
       ]
      },
      {
       "output_type": "stream",
       "stream": "stdout",
       "text": [
        "\r",
        "1.141.A.step1.genomecoverage.txt                0%   12MB   3.4MB/s 2:37:36 ETA"
       ]
      },
      {
       "output_type": "stream",
       "stream": "stdout",
       "text": [
        "\r",
        "1.141.A.step1.genomecoverage.txt                0%   15MB   3.3MB/s 2:40:18 ETA"
       ]
      },
      {
       "output_type": "stream",
       "stream": "stdout",
       "text": [
        "\r",
        "1.141.A.step1.genomecoverage.txt                0%   18MB   3.3MB/s 2:41:15 ETA"
       ]
      },
      {
       "output_type": "stream",
       "stream": "stdout",
       "text": [
        "\r",
        "1.141.A.step1.genomecoverage.txt                0%   21MB   3.3MB/s 2:39:26 ETA"
       ]
      },
      {
       "output_type": "stream",
       "stream": "stdout",
       "text": [
        "\r",
        "1.141.A.step1.genomecoverage.txt                0%   26MB   3.4MB/s 2:34:35 ETA"
       ]
      },
      {
       "output_type": "stream",
       "stream": "stdout",
       "text": [
        "\r",
        "1.141.A.step1.genomecoverage.txt                0%   31MB   3.6MB/s 2:27:14 ETA"
       ]
      },
      {
       "output_type": "stream",
       "stream": "stdout",
       "text": [
        "\r",
        "1.141.A.step1.genomecoverage.txt                0%   38MB   3.9MB/s 2:14:39 ETA"
       ]
      },
      {
       "output_type": "stream",
       "stream": "stdout",
       "text": [
        "\r",
        "1.141.A.step1.genomecoverage.txt                0%   47MB   4.4MB/s 1:59:26 ETA"
       ]
      },
      {
       "output_type": "stream",
       "stream": "stdout",
       "text": [
        "\r",
        "1.141.A.step1.genomecoverage.txt                0%   57MB   5.0MB/s 1:44:34 ETA"
       ]
      },
      {
       "output_type": "stream",
       "stream": "stdout",
       "text": [
        "\r",
        "1.141.A.step1.genomecoverage.txt                0%   66MB   5.4MB/s 1:37:53 ETA"
       ]
      },
      {
       "output_type": "stream",
       "stream": "stdout",
       "text": [
        "\r",
        "1.141.A.step1.genomecoverage.txt                0%   71MB   5.4MB/s 1:38:13 ETA"
       ]
      },
      {
       "output_type": "stream",
       "stream": "stdout",
       "text": [
        "\r",
        "1.141.A.step1.genomecoverage.txt                0%   76MB   5.4MB/s 1:38:04 ETA"
       ]
      },
      {
       "output_type": "stream",
       "stream": "stdout",
       "text": [
        "\r",
        "1.141.A.step1.genomecoverage.txt                0%   81MB   5.3MB/s 1:38:37 ETA"
       ]
      },
      {
       "output_type": "stream",
       "stream": "stdout",
       "text": [
        "\r",
        "1.141.A.step1.genomecoverage.txt                0%   86MB   5.3MB/s 1:39:30 ETA"
       ]
      },
      {
       "output_type": "stream",
       "stream": "stdout",
       "text": [
        "\r",
        "1.141.A.step1.genomecoverage.txt                0%   91MB   5.2MB/s 1:40:39 ETA"
       ]
      },
      {
       "output_type": "stream",
       "stream": "stdout",
       "text": [
        "\r",
        "1.141.A.step1.genomecoverage.txt                0%   96MB   5.2MB/s 1:40:47 ETA"
       ]
      },
      {
       "output_type": "stream",
       "stream": "stdout",
       "text": [
        "\r",
        "1.141.A.step1.genomecoverage.txt                0%  100MB   5.1MB/s 1:43:07 ETA"
       ]
      },
      {
       "output_type": "stream",
       "stream": "stdout",
       "text": [
        "\r",
        "1.141.A.step1.genomecoverage.txt                0%  104MB   5.0MB/s 1:44:48 ETA"
       ]
      },
      {
       "output_type": "stream",
       "stream": "stdout",
       "text": [
        "\r",
        "1.141.A.step1.genomecoverage.txt                0%  109MB   5.0MB/s 1:45:47 ETA"
       ]
      },
      {
       "output_type": "stream",
       "stream": "stdout",
       "text": [
        "\r",
        "1.141.A.step1.genomecoverage.txt                0%  112MB   4.8MB/s 1:50:34 ETA"
       ]
      },
      {
       "output_type": "stream",
       "stream": "stdout",
       "text": [
        "\r",
        "1.141.A.step1.genomecoverage.txt                0%  115MB   4.6MB/s 1:55:17 ETA"
       ]
      },
      {
       "output_type": "stream",
       "stream": "stdout",
       "text": [
        "\r",
        "1.141.A.step1.genomecoverage.txt                0%  117MB   4.4MB/s 1:59:57 ETA"
       ]
      },
      {
       "output_type": "stream",
       "stream": "stdout",
       "text": [
        "\r",
        "1.141.A.step1.genomecoverage.txt                0%  120MB   4.2MB/s 2:04:35 ETA"
       ]
      },
      {
       "output_type": "stream",
       "stream": "stdout",
       "text": [
        "\r",
        "1.141.A.step1.genomecoverage.txt                0%  122MB   4.0MB/s 2:10:20 ETA"
       ]
      },
      {
       "output_type": "stream",
       "stream": "stdout",
       "text": [
        "\r",
        "1.141.A.step1.genomecoverage.txt                0%  123MB   3.7MB/s 2:21:06 ETA"
       ]
      },
      {
       "output_type": "stream",
       "stream": "stdout",
       "text": [
        "\r",
        "1.141.A.step1.genomecoverage.txt                0%  125MB   3.5MB/s 2:31:33 ETA"
       ]
      },
      {
       "output_type": "stream",
       "stream": "stdout",
       "text": [
        "\r",
        "1.141.A.step1.genomecoverage.txt                0%  126MB   3.2MB/s 2:42:51 ETA"
       ]
      },
      {
       "output_type": "stream",
       "stream": "stdout",
       "text": [
        "\r",
        "1.141.A.step1.genomecoverage.txt                0%  127MB   3.0MB/s 2:53:50 ETA"
       ]
      },
      {
       "output_type": "stream",
       "stream": "stdout",
       "text": [
        "\r",
        "1.141.A.step1.genomecoverage.txt                0%  128MB   2.9MB/s 3:02:39 ETA"
       ]
      },
      {
       "output_type": "stream",
       "stream": "stdout",
       "text": [
        "\r",
        "1.141.A.step1.genomecoverage.txt                0%  130MB   2.8MB/s 3:09:46 ETA"
       ]
      },
      {
       "output_type": "stream",
       "stream": "stdout",
       "text": [
        "\r",
        "1.141.A.step1.genomecoverage.txt                0%  133MB   2.8MB/s 3:09:15 ETA"
       ]
      },
      {
       "output_type": "stream",
       "stream": "stdout",
       "text": [
        "\r",
        "1.141.A.step1.genomecoverage.txt                0%  137MB   2.9MB/s 2:58:45 ETA"
       ]
      },
      {
       "output_type": "stream",
       "stream": "stdout",
       "text": [
        "\r",
        "1.141.A.step1.genomecoverage.txt                0%  144MB   3.3MB/s 2:40:06 ETA"
       ]
      },
      {
       "output_type": "stream",
       "stream": "stdout",
       "text": [
        "\r",
        "1.141.A.step1.genomecoverage.txt                0%  153MB   3.9MB/s 2:16:02 ETA"
       ]
      },
      {
       "output_type": "stream",
       "stream": "stdout",
       "text": [
        "\r",
        "1.141.A.step1.genomecoverage.txt                0%  165MB   4.7MB/s 1:51:54 ETA"
       ]
      },
      {
       "output_type": "stream",
       "stream": "stdout",
       "text": [
        "\r",
        "1.141.A.step1.genomecoverage.txt                0%  176MB   5.3MB/s 1:38:31 ETA"
       ]
      },
      {
       "output_type": "stream",
       "stream": "stdout",
       "text": [
        "\r",
        "1.141.A.step1.genomecoverage.txt                0%  187MB   5.9MB/s 1:29:25 ETA"
       ]
      },
      {
       "output_type": "stream",
       "stream": "stdout",
       "text": [
        "\r",
        "1.141.A.step1.genomecoverage.txt                0%  195MB   6.1MB/s 1:25:23 ETA"
       ]
      },
      {
       "output_type": "stream",
       "stream": "stdout",
       "text": [
        "\r",
        "1.141.A.step1.genomecoverage.txt                0%  203MB   6.2MB/s 1:24:05 ETA"
       ]
      },
      {
       "output_type": "stream",
       "stream": "stdout",
       "text": [
        "\r",
        "1.141.A.step1.genomecoverage.txt                0%  210MB   6.4MB/s 1:22:15 ETA"
       ]
      },
      {
       "output_type": "stream",
       "stream": "stdout",
       "text": [
        "\r",
        "1.141.A.step1.genomecoverage.txt                0%  216MB   6.4MB/s 1:22:23 ETA"
       ]
      },
      {
       "output_type": "stream",
       "stream": "stdout",
       "text": [
        "\r",
        "1.141.A.step1.genomecoverage.txt                0%  220MB   6.1MB/s 1:26:35 ETA"
       ]
      },
      {
       "output_type": "stream",
       "stream": "stdout",
       "text": [
        "\r",
        "1.141.A.step1.genomecoverage.txt                0%  223MB   5.7MB/s 1:31:21 ETA"
       ]
      },
      {
       "output_type": "stream",
       "stream": "stdout",
       "text": [
        "\r",
        "1.141.A.step1.genomecoverage.txt                0%  225MB   5.4MB/s 1:37:07 ETA"
       ]
      },
      {
       "output_type": "stream",
       "stream": "stdout",
       "text": [
        "\r",
        "1.141.A.step1.genomecoverage.txt                0%  227MB   5.1MB/s 1:42:41 ETA"
       ]
      },
      {
       "output_type": "stream",
       "stream": "stdout",
       "text": [
        "\r",
        "1.141.A.step1.genomecoverage.txt                0%  230MB   4.8MB/s 1:48:12 ETA"
       ]
      },
      {
       "output_type": "stream",
       "stream": "stdout",
       "text": [
        "\r",
        "1.141.A.step1.genomecoverage.txt                0%  232MB   4.6MB/s 1:53:28 ETA"
       ]
      },
      {
       "output_type": "stream",
       "stream": "stdout",
       "text": [
        "\r",
        "1.141.A.step1.genomecoverage.txt                0%  235MB   4.4MB/s 1:58:24 ETA"
       ]
      },
      {
       "output_type": "stream",
       "stream": "stdout",
       "text": [
        "\r",
        "1.141.A.step1.genomecoverage.txt                0%  238MB   4.3MB/s 2:02:52 ETA"
       ]
      },
      {
       "output_type": "stream",
       "stream": "stdout",
       "text": [
        "\r",
        "1.141.A.step1.genomecoverage.txt                0%  242MB   4.2MB/s 2:03:48 ETA"
       ]
      },
      {
       "output_type": "stream",
       "stream": "stdout",
       "text": [
        "\r",
        "1.141.A.step1.genomecoverage.txt                0%  247MB   4.3MB/s 2:01:32 ETA"
       ]
      },
      {
       "output_type": "stream",
       "stream": "stdout",
       "text": [
        "\r",
        "1.141.A.step1.genomecoverage.txt                0%  253MB   4.5MB/s 1:55:40 ETA"
       ]
      },
      {
       "output_type": "stream",
       "stream": "stdout",
       "text": [
        "\r",
        "1.141.A.step1.genomecoverage.txt                0%  259MB   4.7MB/s 1:52:03 ETA"
       ]
      },
      {
       "output_type": "stream",
       "stream": "stdout",
       "text": [
        "\r",
        "1.141.A.step1.genomecoverage.txt                0%  267MB   5.0MB/s 1:45:36 ETA"
       ]
      },
      {
       "output_type": "stream",
       "stream": "stdout",
       "text": [
        "\r",
        "1.141.A.step1.genomecoverage.txt                0%  273MB   5.1MB/s 1:42:51 ETA"
       ]
      },
      {
       "output_type": "stream",
       "stream": "stdout",
       "text": [
        "\r",
        "1.141.A.step1.genomecoverage.txt                0%  278MB   5.1MB/s 1:42:57 ETA"
       ]
      },
      {
       "output_type": "stream",
       "stream": "stdout",
       "text": [
        "\r",
        "1.141.A.step1.genomecoverage.txt                0%  284MB   5.1MB/s 1:42:15 ETA"
       ]
      },
      {
       "output_type": "stream",
       "stream": "stdout",
       "text": [
        "\r",
        "1.141.A.step1.genomecoverage.txt                0%  288MB   5.1MB/s 1:43:33 ETA"
       ]
      },
      {
       "output_type": "stream",
       "stream": "stdout",
       "text": [
        "\r",
        "1.141.A.step1.genomecoverage.txt                0%  292MB   4.9MB/s 1:46:21 ETA"
       ]
      },
      {
       "output_type": "stream",
       "stream": "stdout",
       "text": [
        "\r",
        "1.141.A.step1.genomecoverage.txt                0%  296MB   4.8MB/s 1:48:36 ETA"
       ]
      },
      {
       "output_type": "stream",
       "stream": "stdout",
       "text": [
        "\r",
        "1.141.A.step1.genomecoverage.txt                0%  300MB   4.7MB/s 1:50:25 ETA"
       ]
      },
      {
       "output_type": "stream",
       "stream": "stdout",
       "text": [
        "\r",
        "1.141.A.step1.genomecoverage.txt                0%  303MB   4.6MB/s 1:53:13 ETA"
       ]
      },
      {
       "output_type": "stream",
       "stream": "stdout",
       "text": [
        "\r",
        "1.141.A.step1.genomecoverage.txt                0%  307MB   4.5MB/s 1:56:35 ETA"
       ]
      },
      {
       "output_type": "stream",
       "stream": "stdout",
       "text": [
        "\r",
        "1.141.A.step1.genomecoverage.txt                0%  310MB   4.4MB/s 1:58:18 ETA"
       ]
      },
      {
       "output_type": "stream",
       "stream": "stdout",
       "text": [
        "\r",
        "1.141.A.step1.genomecoverage.txt                0%  314MB   4.4MB/s 1:59:43 ETA"
       ]
      },
      {
       "output_type": "stream",
       "stream": "stdout",
       "text": [
        "\r",
        "1.141.A.step1.genomecoverage.txt                1%  318MB   4.3MB/s 2:00:45 ETA"
       ]
      },
      {
       "output_type": "stream",
       "stream": "stdout",
       "text": [
        "\r",
        "1.141.A.step1.genomecoverage.txt                1%  322MB   4.3MB/s 2:01:58 ETA"
       ]
      },
      {
       "output_type": "stream",
       "stream": "stdout",
       "text": [
        "\r",
        "1.141.A.step1.genomecoverage.txt                1%  326MB   4.3MB/s 2:02:38 ETA"
       ]
      },
      {
       "output_type": "stream",
       "stream": "stdout",
       "text": [
        "\r",
        "1.141.A.step1.genomecoverage.txt                1%  331MB   4.3MB/s 2:01:51 ETA"
       ]
      },
      {
       "output_type": "stream",
       "stream": "stdout",
       "text": [
        "\r",
        "1.141.A.step1.genomecoverage.txt                1%  336MB   4.4MB/s 1:59:32 ETA"
       ]
      },
      {
       "output_type": "stream",
       "stream": "stdout",
       "text": [
        "\r",
        "1.141.A.step1.genomecoverage.txt                1%  342MB   4.5MB/s 1:55:53 ETA"
       ]
      },
      {
       "output_type": "stream",
       "stream": "stdout",
       "text": [
        "\r",
        "1.141.A.step1.genomecoverage.txt                1%  346MB   4.6MB/s 1:54:51 ETA"
       ]
      },
      {
       "output_type": "stream",
       "stream": "stdout",
       "text": [
        "\r",
        "1.141.A.step1.genomecoverage.txt                1%  351MB   4.5MB/s 1:55:57 ETA"
       ]
      },
      {
       "output_type": "stream",
       "stream": "stdout",
       "text": [
        "\r",
        "1.141.A.step1.genomecoverage.txt                1%  354MB   4.4MB/s 1:57:32 ETA"
       ]
      },
      {
       "output_type": "stream",
       "stream": "stdout",
       "text": [
        "\r",
        "1.141.A.step1.genomecoverage.txt                1%  358MB   4.4MB/s 1:59:56 ETA"
       ]
      },
      {
       "output_type": "stream",
       "stream": "stdout",
       "text": [
        "\r",
        "1.141.A.step1.genomecoverage.txt                1%  362MB   4.3MB/s 2:01:31 ETA"
       ]
      },
      {
       "output_type": "stream",
       "stream": "stdout",
       "text": [
        "\r",
        "1.141.A.step1.genomecoverage.txt                1%  365MB   4.2MB/s 2:04:21 ETA"
       ]
      },
      {
       "output_type": "stream",
       "stream": "stdout",
       "text": [
        "\r",
        "1.141.A.step1.genomecoverage.txt                1%  368MB   4.0MB/s 2:09:04 ETA"
       ]
      },
      {
       "output_type": "stream",
       "stream": "stdout",
       "text": [
        "\r",
        "1.141.A.step1.genomecoverage.txt                1%  370MB   3.9MB/s 2:13:42 ETA"
       ]
      },
      {
       "output_type": "stream",
       "stream": "stdout",
       "text": [
        "\r",
        "1.141.A.step1.genomecoverage.txt                1%  373MB   3.8MB/s 2:18:06 ETA"
       ]
      },
      {
       "output_type": "stream",
       "stream": "stdout",
       "text": [
        "\r",
        "1.141.A.step1.genomecoverage.txt                1%  376MB   3.7MB/s 2:22:15 ETA"
       ]
      },
      {
       "output_type": "stream",
       "stream": "stdout",
       "text": [
        "\r",
        "1.141.A.step1.genomecoverage.txt                1%  378MB   3.5MB/s 2:27:18 ETA"
       ]
      },
      {
       "output_type": "stream",
       "stream": "stdout",
       "text": [
        "\r",
        "1.141.A.step1.genomecoverage.txt                1%  381MB   3.5MB/s 2:30:52 ETA"
       ]
      },
      {
       "output_type": "stream",
       "stream": "stdout",
       "text": [
        "\r",
        "1.141.A.step1.genomecoverage.txt                1%  384MB   3.4MB/s 2:33:52 ETA"
       ]
      },
      {
       "output_type": "stream",
       "stream": "stdout",
       "text": [
        "\r",
        "1.141.A.step1.genomecoverage.txt                1%  386MB   3.3MB/s 2:37:06 ETA"
       ]
      },
      {
       "output_type": "stream",
       "stream": "stdout",
       "text": [
        "\r",
        "1.141.A.step1.genomecoverage.txt                1%  389MB   3.3MB/s 2:40:08 ETA"
       ]
      },
      {
       "output_type": "stream",
       "stream": "stdout",
       "text": [
        "\r",
        "1.141.A.step1.genomecoverage.txt                1%  391MB   3.2MB/s 2:44:10 ETA"
       ]
      },
      {
       "output_type": "stream",
       "stream": "stdout",
       "text": [
        "\r",
        "1.141.A.step1.genomecoverage.txt                1%  393MB   3.0MB/s 2:51:32 ETA"
       ]
      },
      {
       "output_type": "stream",
       "stream": "stdout",
       "text": [
        "\r",
        "1.141.A.step1.genomecoverage.txt                1%  395MB   2.9MB/s 2:58:55 ETA"
       ]
      },
      {
       "output_type": "stream",
       "stream": "stdout",
       "text": [
        "\r",
        "1.141.A.step1.genomecoverage.txt                1%  397MB   2.8MB/s 3:05:07 ETA"
       ]
      },
      {
       "output_type": "stream",
       "stream": "stdout",
       "text": [
        "\r",
        "1.141.A.step1.genomecoverage.txt                1%  399MB   2.8MB/s 3:09:52 ETA"
       ]
      },
      {
       "output_type": "stream",
       "stream": "stdout",
       "text": [
        "\r",
        "1.141.A.step1.genomecoverage.txt                1%  401MB   2.7MB/s 3:13:34 ETA"
       ]
      },
      {
       "output_type": "stream",
       "stream": "stdout",
       "text": [
        "\r",
        "1.141.A.step1.genomecoverage.txt                1%  404MB   2.7MB/s 3:14:57 ETA"
       ]
      },
      {
       "output_type": "stream",
       "stream": "stdout",
       "text": [
        "\r",
        "1.141.A.step1.genomecoverage.txt                1%  407MB   2.7MB/s 3:11:28 ETA"
       ]
      },
      {
       "output_type": "stream",
       "stream": "stdout",
       "text": [
        "\r",
        "1.141.A.step1.genomecoverage.txt                1%  412MB   2.9MB/s 2:59:13 ETA"
       ]
      },
      {
       "output_type": "stream",
       "stream": "stdout",
       "text": [
        "\r",
        "1.141.A.step1.genomecoverage.txt                1%  418MB   3.3MB/s 2:40:29 ETA"
       ]
      },
      {
       "output_type": "stream",
       "stream": "stdout",
       "text": [
        "\r",
        "1.141.A.step1.genomecoverage.txt                1%  426MB   3.8MB/s 2:17:34 ETA"
       ]
      },
      {
       "output_type": "stream",
       "stream": "stdout",
       "text": [
        "\r",
        "1.141.A.step1.genomecoverage.txt                1%  437MB   4.4MB/s 1:57:55 ETA"
       ]
      },
      {
       "output_type": "stream",
       "stream": "stdout",
       "text": [
        "\r",
        "1.141.A.step1.genomecoverage.txt                1%  443MB   4.6MB/s 1:53:05 ETA"
       ]
      },
      {
       "output_type": "stream",
       "stream": "stdout",
       "text": [
        "\r",
        "1.141.A.step1.genomecoverage.txt                1%  448MB   4.7MB/s 1:51:19 ETA"
       ]
      },
      {
       "output_type": "stream",
       "stream": "stdout",
       "text": [
        "\r",
        "1.141.A.step1.genomecoverage.txt                1%  454MB   4.8MB/s 1:49:32 ETA"
       ]
      },
      {
       "output_type": "stream",
       "stream": "stdout",
       "text": [
        "\r",
        "1.141.A.step1.genomecoverage.txt                1%  458MB   4.8MB/s 1:49:12 ETA"
       ]
      },
      {
       "output_type": "stream",
       "stream": "stdout",
       "text": [
        "\r",
        "1.141.A.step1.genomecoverage.txt                1%  464MB   4.8MB/s 1:47:48 ETA"
       ]
      },
      {
       "output_type": "stream",
       "stream": "stdout",
       "text": [
        "\r",
        "1.141.A.step1.genomecoverage.txt                1%  469MB   4.9MB/s 1:46:10 ETA"
       ]
      },
      {
       "output_type": "stream",
       "stream": "stdout",
       "text": [
        "\r",
        "1.141.A.step1.genomecoverage.txt                1%  475MB   4.9MB/s 1:45:15 ETA"
       ]
      },
      {
       "output_type": "stream",
       "stream": "stdout",
       "text": [
        "\r",
        "1.141.A.step1.genomecoverage.txt                1%  480MB   4.9MB/s 1:45:29 ETA"
       ]
      },
      {
       "output_type": "stream",
       "stream": "stdout",
       "text": [
        "\r",
        "1.141.A.step1.genomecoverage.txt                1%  485MB   5.0MB/s 1:45:07 ETA"
       ]
      },
      {
       "output_type": "stream",
       "stream": "stdout",
       "text": [
        "\r",
        "1.141.A.step1.genomecoverage.txt                1%  490MB   5.0MB/s 1:44:43 ETA"
       ]
      },
      {
       "output_type": "stream",
       "stream": "stdout",
       "text": [
        "\r",
        "1.141.A.step1.genomecoverage.txt                1%  495MB   5.0MB/s 1:44:13 ETA"
       ]
      },
      {
       "output_type": "stream",
       "stream": "stdout",
       "text": [
        "\r",
        "1.141.A.step1.genomecoverage.txt                1%  500MB   5.0MB/s 1:43:49 ETA"
       ]
      },
      {
       "output_type": "stream",
       "stream": "stdout",
       "text": [
        "\r",
        "1.141.A.step1.genomecoverage.txt                1%  505MB   5.0MB/s 1:43:24 ETA"
       ]
      },
      {
       "output_type": "stream",
       "stream": "stdout",
       "text": [
        "\r",
        "1.141.A.step1.genomecoverage.txt                1%  511MB   5.1MB/s 1:42:45 ETA"
       ]
      },
      {
       "output_type": "stream",
       "stream": "stdout",
       "text": [
        "\r",
        "1.141.A.step1.genomecoverage.txt                1%  517MB   5.2MB/s 1:40:25 ETA"
       ]
      },
      {
       "output_type": "stream",
       "stream": "stdout",
       "text": [
        "\r",
        "1.141.A.step1.genomecoverage.txt                1%  524MB   5.4MB/s 1:36:13 ETA"
       ]
      },
      {
       "output_type": "stream",
       "stream": "stdout",
       "text": [
        "\r",
        "1.141.A.step1.genomecoverage.txt                1%  532MB   5.6MB/s 1:32:13 ETA"
       ]
      },
      {
       "output_type": "stream",
       "stream": "stdout",
       "text": [
        "\r",
        "1.141.A.step1.genomecoverage.txt                1%  539MB   5.8MB/s 1:29:32 ETA"
       ]
      },
      {
       "output_type": "stream",
       "stream": "stdout",
       "text": [
        "\r",
        "1.141.A.step1.genomecoverage.txt                1%  547MB   6.0MB/s 1:26:40 ETA"
       ]
      },
      {
       "output_type": "stream",
       "stream": "stdout",
       "text": [
        "\r",
        "1.141.A.step1.genomecoverage.txt                1%  556MB   6.3MB/s 1:23:01 ETA"
       ]
      },
      {
       "output_type": "stream",
       "stream": "stdout",
       "text": [
        "\r",
        "1.141.A.step1.genomecoverage.txt                1%  565MB   6.5MB/s 1:19:18 ETA"
       ]
      },
      {
       "output_type": "stream",
       "stream": "stdout",
       "text": [
        "\r",
        "1.141.A.step1.genomecoverage.txt                1%  574MB   6.8MB/s 1:16:12 ETA"
       ]
      },
      {
       "output_type": "stream",
       "stream": "stdout",
       "text": [
        "\r",
        "1.141.A.step1.genomecoverage.txt                1%  582MB   6.9MB/s 1:15:16 ETA"
       ]
      },
      {
       "output_type": "stream",
       "stream": "stdout",
       "text": [
        "\r",
        "1.141.A.step1.genomecoverage.txt                1%  589MB   7.0MB/s 1:14:28 ETA"
       ]
      },
      {
       "output_type": "stream",
       "stream": "stdout",
       "text": [
        "\r",
        "1.141.A.step1.genomecoverage.txt                1%  597MB   7.0MB/s 1:13:53 ETA"
       ]
      },
      {
       "output_type": "stream",
       "stream": "stdout",
       "text": [
        "\r",
        "1.141.A.step1.genomecoverage.txt                1%  603MB   7.0MB/s 1:14:20 ETA"
       ]
      },
      {
       "output_type": "stream",
       "stream": "stdout",
       "text": [
        "\r",
        "1.141.A.step1.genomecoverage.txt                1%  610MB   7.0MB/s 1:14:02 ETA"
       ]
      },
      {
       "output_type": "stream",
       "stream": "stdout",
       "text": [
        "\r",
        "1.141.A.step1.genomecoverage.txt                1%  618MB   7.0MB/s 1:13:31 ETA"
       ]
      },
      {
       "output_type": "stream",
       "stream": "stdout",
       "text": [
        "\r",
        "1.141.A.step1.genomecoverage.txt                1%  624MB   6.9MB/s 1:15:03 ETA"
       ]
      },
      {
       "output_type": "stream",
       "stream": "stdout",
       "text": [
        "\r",
        "1.141.A.step1.genomecoverage.txt                1%  629MB   6.7MB/s 1:17:04 ETA"
       ]
      },
      {
       "output_type": "stream",
       "stream": "stdout",
       "text": [
        "\r",
        "1.141.A.step1.genomecoverage.txt                2%  634MB   6.6MB/s 1:18:37 ETA"
       ]
      },
      {
       "output_type": "stream",
       "stream": "stdout",
       "text": [
        "\r",
        "1.141.A.step1.genomecoverage.txt                2%  639MB   6.5MB/s 1:20:06 ETA"
       ]
      },
      {
       "output_type": "stream",
       "stream": "stdout",
       "text": [
        "\r",
        "1.141.A.step1.genomecoverage.txt                2%  644MB   6.3MB/s 1:22:30 ETA"
       ]
      },
      {
       "output_type": "stream",
       "stream": "stdout",
       "text": [
        "\r",
        "1.141.A.step1.genomecoverage.txt                2%  649MB   6.1MB/s 1:24:10 ETA"
       ]
      },
      {
       "output_type": "stream",
       "stream": "stdout",
       "text": [
        "\r",
        "1.141.A.step1.genomecoverage.txt                2%  652MB   5.9MB/s 1:27:58 ETA"
       ]
      },
      {
       "output_type": "stream",
       "stream": "stdout",
       "text": [
        "\r",
        "1.141.A.step1.genomecoverage.txt                2%  656MB   5.7MB/s 1:31:30 ETA"
       ]
      },
      {
       "output_type": "stream",
       "stream": "stdout",
       "text": [
        "\r",
        "1.141.A.step1.genomecoverage.txt                2%  660MB   5.5MB/s 1:34:42 ETA"
       ]
      },
      {
       "output_type": "stream",
       "stream": "stdout",
       "text": [
        "\r",
        "1.141.A.step1.genomecoverage.txt                2%  663MB   5.3MB/s 1:37:49 ETA"
       ]
      },
      {
       "output_type": "stream",
       "stream": "stdout",
       "text": [
        "\r",
        "1.141.A.step1.genomecoverage.txt                2%  666MB   5.1MB/s 1:42:21 ETA"
       ]
      },
      {
       "output_type": "stream",
       "stream": "stdout",
       "text": [
        "\r",
        "1.141.A.step1.genomecoverage.txt                2%  670MB   4.9MB/s 1:46:07 ETA"
       ]
      },
      {
       "output_type": "stream",
       "stream": "stdout",
       "text": [
        "\r",
        "1.141.A.step1.genomecoverage.txt                2%  673MB   4.8MB/s 1:48:49 ETA"
       ]
      },
      {
       "output_type": "stream",
       "stream": "stdout",
       "text": [
        "\r",
        "1.141.A.step1.genomecoverage.txt                2%  677MB   4.7MB/s 1:50:55 ETA"
       ]
      },
      {
       "output_type": "stream",
       "stream": "stdout",
       "text": [
        "\r",
        "1.141.A.step1.genomecoverage.txt                2%  681MB   4.6MB/s 1:53:23 ETA"
       ]
      },
      {
       "output_type": "stream",
       "stream": "stdout",
       "text": [
        "\r",
        "1.141.A.step1.genomecoverage.txt                2%  684MB   4.5MB/s 1:56:06 ETA"
       ]
      },
      {
       "output_type": "stream",
       "stream": "stdout",
       "text": [
        "\r",
        "1.141.A.step1.genomecoverage.txt                2%  687MB   4.2MB/s 2:02:13 ETA"
       ]
      },
      {
       "output_type": "stream",
       "stream": "stdout",
       "text": [
        "\r",
        "1.141.A.step1.genomecoverage.txt                2%  689MB   4.1MB/s 2:07:40 ETA"
       ]
      },
      {
       "output_type": "stream",
       "stream": "stdout",
       "text": [
        "\r",
        "1.141.A.step1.genomecoverage.txt                2%  691MB   3.9MB/s 2:13:09 ETA"
       ]
      },
      {
       "output_type": "stream",
       "stream": "stdout",
       "text": [
        "\r",
        "1.141.A.step1.genomecoverage.txt                2%  694MB   3.7MB/s 2:17:56 ETA"
       ]
      },
      {
       "output_type": "stream",
       "stream": "stdout",
       "text": [
        "\r",
        "1.141.A.step1.genomecoverage.txt                2%  696MB   3.6MB/s 2:22:10 ETA"
       ]
      },
      {
       "output_type": "stream",
       "stream": "stdout",
       "text": [
        "\r",
        "1.141.A.step1.genomecoverage.txt                2%  699MB   3.5MB/s 2:25:49 ETA"
       ]
      },
      {
       "output_type": "stream",
       "stream": "stdout",
       "text": [
        "\r",
        "1.141.A.step1.genomecoverage.txt                2%  703MB   3.5MB/s 2:26:21 ETA"
       ]
      },
      {
       "output_type": "stream",
       "stream": "stdout",
       "text": [
        "\r",
        "1.141.A.step1.genomecoverage.txt                2%  707MB   3.6MB/s 2:21:48 ETA"
       ]
      },
      {
       "output_type": "stream",
       "stream": "stdout",
       "text": [
        "\r",
        "1.141.A.step1.genomecoverage.txt                2%  713MB   3.9MB/s 2:12:20 ETA"
       ]
      },
      {
       "output_type": "stream",
       "stream": "stdout",
       "text": [
        "\r",
        "1.141.A.step1.genomecoverage.txt                2%  722MB   4.3MB/s 1:59:27 ETA"
       ]
      },
      {
       "output_type": "stream",
       "stream": "stdout",
       "text": [
        "\r",
        "1.141.A.step1.genomecoverage.txt                2%  732MB   5.0MB/s 1:43:42 ETA"
       ]
      },
      {
       "output_type": "stream",
       "stream": "stdout",
       "text": [
        "\r",
        "1.141.A.step1.genomecoverage.txt                2%  745MB   5.8MB/s 1:29:11 ETA"
       ]
      },
      {
       "output_type": "stream",
       "stream": "stdout",
       "text": [
        "\r",
        "1.141.A.step1.genomecoverage.txt                2%  758MB   6.4MB/s 1:20:22 ETA"
       ]
      },
      {
       "output_type": "stream",
       "stream": "stdout",
       "text": [
        "\r",
        "1.141.A.step1.genomecoverage.txt                2%  771MB   7.1MB/s 1:12:30 ETA"
       ]
      },
      {
       "output_type": "stream",
       "stream": "stdout",
       "text": [
        "\r",
        "1.141.A.step1.genomecoverage.txt                2%  785MB   7.8MB/s 1:05:58 ETA"
       ]
      },
      {
       "output_type": "stream",
       "stream": "stdout",
       "text": [
        "\r",
        "1.141.A.step1.genomecoverage.txt                2%  796MB   8.1MB/s 1:03:30 ETA"
       ]
      },
      {
       "output_type": "stream",
       "stream": "stdout",
       "text": [
        "\r",
        "1.141.A.step1.genomecoverage.txt                2%  807MB   8.4MB/s 1:01:23 ETA"
       ]
      },
      {
       "output_type": "stream",
       "stream": "stdout",
       "text": [
        "\r",
        "1.141.A.step1.genomecoverage.txt                2%  817MB   8.6MB/s   59:49 ETA"
       ]
      },
      {
       "output_type": "stream",
       "stream": "stdout",
       "text": [
        "\r",
        "1.141.A.step1.genomecoverage.txt                2%  823MB   8.3MB/s 1:01:56 ETA"
       ]
      },
      {
       "output_type": "stream",
       "stream": "stdout",
       "text": [
        "\r",
        "1.141.A.step1.genomecoverage.txt                2%  828MB   8.0MB/s 1:04:12 ETA"
       ]
      },
      {
       "output_type": "stream",
       "stream": "stdout",
       "text": [
        "\r",
        "1.141.A.step1.genomecoverage.txt                2%  833MB   7.7MB/s 1:06:51 ETA"
       ]
      },
      {
       "output_type": "stream",
       "stream": "stdout",
       "text": [
        "\r",
        "1.141.A.step1.genomecoverage.txt                2%  838MB   7.4MB/s 1:09:09 ETA"
       ]
      },
      {
       "output_type": "stream",
       "stream": "stdout",
       "text": [
        "\r",
        "1.141.A.step1.genomecoverage.txt                2%  843MB   7.2MB/s 1:11:23 ETA"
       ]
      },
      {
       "output_type": "stream",
       "stream": "stdout",
       "text": [
        "\r",
        "1.141.A.step1.genomecoverage.txt                2%  847MB   6.9MB/s 1:14:38 ETA"
       ]
      },
      {
       "output_type": "stream",
       "stream": "stdout",
       "text": [
        "\r",
        "1.141.A.step1.genomecoverage.txt                2%  852MB   6.7MB/s 1:16:56 ETA"
       ]
      },
      {
       "output_type": "stream",
       "stream": "stdout",
       "text": [
        "\r",
        "1.141.A.step1.genomecoverage.txt                2%  857MB   6.5MB/s 1:18:50 ETA"
       ]
      },
      {
       "output_type": "stream",
       "stream": "stdout",
       "text": [
        "\r",
        "1.141.A.step1.genomecoverage.txt                2%  862MB   6.4MB/s 1:20:31 ETA"
       ]
      },
      {
       "output_type": "stream",
       "stream": "stdout",
       "text": [
        "\r",
        "1.141.A.step1.genomecoverage.txt                2%  867MB   6.2MB/s 1:22:43 ETA"
       ]
      },
      {
       "output_type": "stream",
       "stream": "stdout",
       "text": [
        "\r",
        "1.141.A.step1.genomecoverage.txt                2%  870MB   5.9MB/s 1:26:33 ETA"
       ]
      },
      {
       "output_type": "stream",
       "stream": "stdout",
       "text": [
        "\r",
        "1.141.A.step1.genomecoverage.txt                2%  874MB   5.7MB/s 1:30:16 ETA"
       ]
      },
      {
       "output_type": "stream",
       "stream": "stdout",
       "text": [
        "\r",
        "1.141.A.step1.genomecoverage.txt                2%  878MB   5.5MB/s 1:33:38 ETA"
       ]
      },
      {
       "output_type": "stream",
       "stream": "stdout",
       "text": [
        "\r",
        "1.141.A.step1.genomecoverage.txt                2%  881MB   5.3MB/s 1:36:52 ETA"
       ]
      },
      {
       "output_type": "stream",
       "stream": "stdout",
       "text": [
        "\r",
        "1.141.A.step1.genomecoverage.txt                2%  884MB   5.1MB/s 1:41:19 ETA"
       ]
      },
      {
       "output_type": "stream",
       "stream": "stdout",
       "text": [
        "\r",
        "1.141.A.step1.genomecoverage.txt                2%  887MB   4.9MB/s 1:44:58 ETA"
       ]
      },
      {
       "output_type": "stream",
       "stream": "stdout",
       "text": [
        "\r",
        "1.141.A.step1.genomecoverage.txt                2%  891MB   4.8MB/s 1:47:49 ETA"
       ]
      },
      {
       "output_type": "stream",
       "stream": "stdout",
       "text": [
        "\r",
        "1.141.A.step1.genomecoverage.txt                2%  895MB   4.7MB/s 1:50:19 ETA"
       ]
      },
      {
       "output_type": "stream",
       "stream": "stdout",
       "text": [
        "\r",
        "1.141.A.step1.genomecoverage.txt                2%  898MB   4.6MB/s 1:52:45 ETA"
       ]
      },
      {
       "output_type": "stream",
       "stream": "stdout",
       "text": [
        "\r",
        "1.141.A.step1.genomecoverage.txt                2%  902MB   4.5MB/s 1:54:48 ETA"
       ]
      },
      {
       "output_type": "stream",
       "stream": "stdout",
       "text": [
        "\r",
        "1.141.A.step1.genomecoverage.txt                2%  906MB   4.4MB/s 1:56:32 ETA"
       ]
      },
      {
       "output_type": "stream",
       "stream": "stdout",
       "text": [
        "\r",
        "1.141.A.step1.genomecoverage.txt                2%  910MB   4.4MB/s 1:57:05 ETA"
       ]
      },
      {
       "output_type": "stream",
       "stream": "stdout",
       "text": [
        "\r",
        "1.141.A.step1.genomecoverage.txt                2%  915MB   4.4MB/s 1:55:31 ETA"
       ]
      },
      {
       "output_type": "stream",
       "stream": "stdout",
       "text": [
        "\r",
        "1.141.A.step1.genomecoverage.txt                2%  920MB   4.4MB/s 1:55:22 ETA"
       ]
      },
      {
       "output_type": "stream",
       "stream": "stdout",
       "text": [
        "\r",
        "1.141.A.step1.genomecoverage.txt                2%  925MB   4.5MB/s 1:53:37 ETA"
       ]
      },
      {
       "output_type": "stream",
       "stream": "stdout",
       "text": [
        "\r",
        "1.141.A.step1.genomecoverage.txt                2%  930MB   4.6MB/s 1:51:48 ETA"
       ]
      },
      {
       "output_type": "stream",
       "stream": "stdout",
       "text": [
        "\r",
        "1.141.A.step1.genomecoverage.txt                2%  935MB   4.7MB/s 1:49:48 ETA"
       ]
      },
      {
       "output_type": "stream",
       "stream": "stdout",
       "text": [
        "\r",
        "1.141.A.step1.genomecoverage.txt                2%  941MB   4.7MB/s 1:48:17 ETA"
       ]
      },
      {
       "output_type": "stream",
       "stream": "stdout",
       "text": [
        "\r",
        "1.141.A.step1.genomecoverage.txt                2%  946MB   4.8MB/s 1:46:49 ETA"
       ]
      },
      {
       "output_type": "stream",
       "stream": "stdout",
       "text": [
        "\r",
        "1.141.A.step1.genomecoverage.txt                3%  950MB   4.8MB/s 1:47:42 ETA"
       ]
      },
      {
       "output_type": "stream",
       "stream": "stdout",
       "text": [
        "\r",
        "1.141.A.step1.genomecoverage.txt                3%  954MB   4.7MB/s 1:49:15 ETA"
       ]
      },
      {
       "output_type": "stream",
       "stream": "stdout",
       "text": [
        "\r",
        "1.141.A.step1.genomecoverage.txt                3%  959MB   4.7MB/s 1:50:11 ETA"
       ]
      },
      {
       "output_type": "stream",
       "stream": "stdout",
       "text": [
        "\r",
        "1.141.A.step1.genomecoverage.txt                3%  963MB   4.6MB/s 1:50:33 ETA"
       ]
      },
      {
       "output_type": "stream",
       "stream": "stdout",
       "text": [
        "\r",
        "1.141.A.step1.genomecoverage.txt                3%  968MB   4.6MB/s 1:51:04 ETA"
       ]
      },
      {
       "output_type": "stream",
       "stream": "stdout",
       "text": [
        "\r",
        "1.141.A.step1.genomecoverage.txt                3%  972MB   4.6MB/s 1:51:03 ETA"
       ]
      },
      {
       "output_type": "stream",
       "stream": "stdout",
       "text": [
        "\r",
        "1.141.A.step1.genomecoverage.txt                3%  977MB   4.6MB/s 1:50:13 ETA"
       ]
      },
      {
       "output_type": "stream",
       "stream": "stdout",
       "text": [
        "\r",
        "1.141.A.step1.genomecoverage.txt                3%  982MB   4.7MB/s 1:49:38 ETA"
       ]
      },
      {
       "output_type": "stream",
       "stream": "stdout",
       "text": [
        "\r",
        "1.141.A.step1.genomecoverage.txt                3%  987MB   4.7MB/s 1:49:52 ETA"
       ]
      },
      {
       "output_type": "stream",
       "stream": "stdout",
       "text": [
        "\r",
        "1.141.A.step1.genomecoverage.txt                3%  992MB   4.7MB/s 1:48:47 ETA"
       ]
      },
      {
       "output_type": "stream",
       "stream": "stdout",
       "text": [
        "\r",
        "1.141.A.step1.genomecoverage.txt                3%  997MB   4.7MB/s 1:47:59 ETA"
       ]
      },
      {
       "output_type": "stream",
       "stream": "stdout",
       "text": [
        "\r",
        "1.141.A.step1.genomecoverage.txt                3% 1001MB   4.6MB/s 1:50:24 ETA"
       ]
      },
      {
       "output_type": "stream",
       "stream": "stdout",
       "text": [
        "\r",
        "1.141.A.step1.genomecoverage.txt                3% 1003MB   4.5MB/s 1:54:38 ETA"
       ]
      },
      {
       "output_type": "stream",
       "stream": "stdout",
       "text": [
        "\r",
        "1.141.A.step1.genomecoverage.txt                3% 1006MB   4.3MB/s 1:59:24 ETA"
       ]
      },
      {
       "output_type": "stream",
       "stream": "stdout",
       "text": [
        "\r",
        "1.141.A.step1.genomecoverage.txt                3% 1009MB   4.1MB/s 2:04:15 ETA"
       ]
      },
      {
       "output_type": "stream",
       "stream": "stdout",
       "text": [
        "\r",
        "1.141.A.step1.genomecoverage.txt                3% 1011MB   4.0MB/s 2:08:36 ETA"
       ]
      },
      {
       "output_type": "stream",
       "stream": "stdout",
       "text": [
        "\r",
        "1.141.A.step1.genomecoverage.txt                3% 1014MB   3.8MB/s 2:13:59 ETA"
       ]
      },
      {
       "output_type": "stream",
       "stream": "stdout",
       "text": [
        "\r",
        "1.141.A.step1.genomecoverage.txt                3% 1016MB   3.7MB/s 2:19:52 ETA"
       ]
      },
      {
       "output_type": "stream",
       "stream": "stdout",
       "text": [
        "\r",
        "1.141.A.step1.genomecoverage.txt                3% 1018MB   3.5MB/s 2:27:17 ETA"
       ]
      },
      {
       "output_type": "stream",
       "stream": "stdout",
       "text": [
        "\r",
        "1.141.A.step1.genomecoverage.txt                3% 1020MB   3.3MB/s 2:34:18 ETA"
       ]
      },
      {
       "output_type": "stream",
       "stream": "stdout",
       "text": [
        "\r",
        "1.141.A.step1.genomecoverage.txt                3% 1022MB   3.2MB/s 2:40:15 ETA"
       ]
      },
      {
       "output_type": "stream",
       "stream": "stdout",
       "text": [
        "\r",
        "1.141.A.step1.genomecoverage.txt                3% 1024MB   3.1MB/s 2:45:11 ETA"
       ]
      },
      {
       "output_type": "stream",
       "stream": "stdout",
       "text": [
        "\r",
        "1.141.A.step1.genomecoverage.txt                3% 1026MB   3.0MB/s 2:49:32 ETA"
       ]
      },
      {
       "output_type": "stream",
       "stream": "stdout",
       "text": [
        "\r",
        "1.141.A.step1.genomecoverage.txt                3% 1029MB   3.0MB/s 2:51:55 ETA"
       ]
      },
      {
       "output_type": "stream",
       "stream": "stdout",
       "text": [
        "\r",
        "1.141.A.step1.genomecoverage.txt                3% 1032MB   3.0MB/s 2:49:30 ETA"
       ]
      },
      {
       "output_type": "stream",
       "stream": "stdout",
       "text": [
        "\r",
        "1.141.A.step1.genomecoverage.txt                3% 1037MB   3.2MB/s 2:41:21 ETA"
       ]
      },
      {
       "output_type": "stream",
       "stream": "stdout",
       "text": [
        "\r",
        "1.141.A.step1.genomecoverage.txt                3% 1043MB   3.5MB/s 2:27:15 ETA"
       ]
      },
      {
       "output_type": "stream",
       "stream": "stdout",
       "text": [
        "\r",
        "1.141.A.step1.genomecoverage.txt                3% 1051MB   3.9MB/s 2:09:28 ETA"
       ]
      },
      {
       "output_type": "stream",
       "stream": "stdout",
       "text": [
        "\r",
        "1.141.A.step1.genomecoverage.txt                3% 1059MB   4.3MB/s 1:59:04 ETA"
       ]
      },
      {
       "output_type": "stream",
       "stream": "stdout",
       "text": [
        "\r",
        "1.141.A.step1.genomecoverage.txt                3% 1064MB   4.4MB/s 1:56:41 ETA"
       ]
      },
      {
       "output_type": "stream",
       "stream": "stdout",
       "text": [
        "\r",
        "1.141.A.step1.genomecoverage.txt                3% 1068MB   4.4MB/s 1:56:22 ETA"
       ]
      },
      {
       "output_type": "stream",
       "stream": "stdout",
       "text": [
        "\r",
        "1.141.A.step1.genomecoverage.txt                3% 1073MB   4.4MB/s 1:54:51 ETA"
       ]
      },
      {
       "output_type": "stream",
       "stream": "stdout",
       "text": [
        "\r",
        "1.141.A.step1.genomecoverage.txt                3% 1078MB   4.5MB/s 1:53:17 ETA"
       ]
      },
      {
       "output_type": "stream",
       "stream": "stdout",
       "text": [
        "\r",
        "1.141.A.step1.genomecoverage.txt                3% 1083MB   4.6MB/s 1:51:57 ETA"
       ]
      },
      {
       "output_type": "stream",
       "stream": "stdout",
       "text": [
        "\r",
        "1.141.A.step1.genomecoverage.txt                3% 1088MB   4.6MB/s 1:51:48 ETA"
       ]
      },
      {
       "output_type": "stream",
       "stream": "stdout",
       "text": [
        "\r",
        "1.141.A.step1.genomecoverage.txt                3% 1093MB   4.6MB/s 1:50:20 ETA"
       ]
      },
      {
       "output_type": "stream",
       "stream": "stdout",
       "text": [
        "\r",
        "1.141.A.step1.genomecoverage.txt                3% 1098MB   4.7MB/s 1:48:50 ETA"
       ]
      },
      {
       "output_type": "stream",
       "stream": "stdout",
       "text": [
        "\r",
        "1.141.A.step1.genomecoverage.txt                3% 1104MB   4.7MB/s 1:47:31 ETA"
       ]
      },
      {
       "output_type": "stream",
       "stream": "stdout",
       "text": [
        "\r",
        "1.141.A.step1.genomecoverage.txt                3% 1109MB   4.8MB/s 1:46:58 ETA"
       ]
      },
      {
       "output_type": "stream",
       "stream": "stdout",
       "text": [
        "\r",
        "1.141.A.step1.genomecoverage.txt                3% 1113MB   4.7MB/s 1:47:44 ETA"
       ]
      },
      {
       "output_type": "stream",
       "stream": "stdout",
       "text": [
        "\r",
        "1.141.A.step1.genomecoverage.txt                3% 1118MB   4.7MB/s 1:47:33 ETA"
       ]
      },
      {
       "output_type": "stream",
       "stream": "stdout",
       "text": [
        "\r",
        "1.141.A.step1.genomecoverage.txt                3% 1123MB   4.8MB/s 1:47:01 ETA"
       ]
      },
      {
       "output_type": "stream",
       "stream": "stdout",
       "text": [
        "\r",
        "1.141.A.step1.genomecoverage.txt                3% 1128MB   4.8MB/s 1:46:23 ETA"
       ]
      },
      {
       "output_type": "stream",
       "stream": "stdout",
       "text": [
        "\r",
        "1.141.A.step1.genomecoverage.txt                3% 1133MB   4.8MB/s 1:45:53 ETA"
       ]
      },
      {
       "output_type": "stream",
       "stream": "stdout",
       "text": [
        "\r",
        "1.141.A.step1.genomecoverage.txt                3% 1138MB   4.8MB/s 1:45:27 ETA"
       ]
      },
      {
       "output_type": "stream",
       "stream": "stdout",
       "text": [
        "\r",
        "1.141.A.step1.genomecoverage.txt                3% 1142MB   4.8MB/s 1:45:55 ETA"
       ]
      },
      {
       "output_type": "stream",
       "stream": "stdout",
       "text": [
        "\r",
        "1.141.A.step1.genomecoverage.txt                3% 1147MB   4.8MB/s 1:46:30 ETA"
       ]
      },
      {
       "output_type": "stream",
       "stream": "stdout",
       "text": [
        "\r",
        "1.141.A.step1.genomecoverage.txt                3% 1152MB   4.8MB/s 1:45:57 ETA"
       ]
      },
      {
       "output_type": "stream",
       "stream": "stdout",
       "text": [
        "\r",
        "1.141.A.step1.genomecoverage.txt                3% 1157MB   4.8MB/s 1:45:18 ETA"
       ]
      },
      {
       "output_type": "stream",
       "stream": "stdout",
       "text": [
        "\r",
        "1.141.A.step1.genomecoverage.txt                3% 1162MB   4.9MB/s 1:44:49 ETA"
       ]
      },
      {
       "output_type": "stream",
       "stream": "stdout",
       "text": [
        "\r",
        "1.141.A.step1.genomecoverage.txt                3% 1167MB   4.9MB/s 1:44:28 ETA"
       ]
      },
      {
       "output_type": "stream",
       "stream": "stdout",
       "text": [
        "\r",
        "1.141.A.step1.genomecoverage.txt                3% 1170MB   4.7MB/s 1:49:26 ETA"
       ]
      },
      {
       "output_type": "stream",
       "stream": "stdout",
       "text": [
        "\r",
        "1.141.A.step1.genomecoverage.txt                3% 1172MB   4.5MB/s 1:54:05 ETA"
       ]
      },
      {
       "output_type": "stream",
       "stream": "stdout",
       "text": [
        "\r",
        "1.141.A.step1.genomecoverage.txt                3% 1175MB   4.3MB/s 1:58:47 ETA"
       ]
      },
      {
       "output_type": "stream",
       "stream": "stdout",
       "text": [
        "\r",
        "1.141.A.step1.genomecoverage.txt                3% 1178MB   4.1MB/s 2:03:11 ETA"
       ]
      },
      {
       "output_type": "stream",
       "stream": "stdout",
       "text": [
        "\r",
        "1.141.A.step1.genomecoverage.txt                3% 1181MB   4.0MB/s 2:07:43 ETA"
       ]
      },
      {
       "output_type": "stream",
       "stream": "stdout",
       "text": [
        "\r",
        "1.141.A.step1.genomecoverage.txt                3% 1184MB   3.9MB/s 2:10:12 ETA"
       ]
      },
      {
       "output_type": "stream",
       "stream": "stdout",
       "text": [
        "\r",
        "1.141.A.step1.genomecoverage.txt                3% 1188MB   3.9MB/s 2:10:35 ETA"
       ]
      },
      {
       "output_type": "stream",
       "stream": "stdout",
       "text": [
        "\r",
        "1.141.A.step1.genomecoverage.txt                3% 1192MB   4.0MB/s 2:07:36 ETA"
       ]
      },
      {
       "output_type": "stream",
       "stream": "stdout",
       "text": [
        "\r",
        "1.141.A.step1.genomecoverage.txt                3% 1199MB   4.2MB/s 2:00:55 ETA"
       ]
      },
      {
       "output_type": "stream",
       "stream": "stdout",
       "text": [
        "\r",
        "1.141.A.step1.genomecoverage.txt                3% 1204MB   4.3MB/s 1:56:53 ETA"
       ]
      },
      {
       "output_type": "stream",
       "stream": "stdout",
       "text": [
        "\r",
        "1.141.A.step1.genomecoverage.txt                3% 1210MB   4.5MB/s 1:54:12 ETA"
       ]
      },
      {
       "output_type": "stream",
       "stream": "stdout",
       "text": [
        "\r",
        "1.141.A.step1.genomecoverage.txt                3% 1215MB   4.6MB/s 1:51:23 ETA"
       ]
      },
      {
       "output_type": "stream",
       "stream": "stdout",
       "text": [
        "\r",
        "1.141.A.step1.genomecoverage.txt                3% 1220MB   4.6MB/s 1:50:00 ETA"
       ]
      },
      {
       "output_type": "stream",
       "stream": "stdout",
       "text": [
        "\r",
        "1.141.A.step1.genomecoverage.txt                3% 1225MB   4.7MB/s 1:48:46 ETA"
       ]
      },
      {
       "output_type": "stream",
       "stream": "stdout",
       "text": [
        "\r",
        "1.141.A.step1.genomecoverage.txt                3% 1231MB   4.7MB/s 1:47:25 ETA"
       ]
      },
      {
       "output_type": "stream",
       "stream": "stdout",
       "text": [
        "\r",
        "1.141.A.step1.genomecoverage.txt                3% 1235MB   4.7MB/s 1:48:05 ETA"
       ]
      },
      {
       "output_type": "stream",
       "stream": "stdout",
       "text": [
        "\r",
        "1.141.A.step1.genomecoverage.txt                3% 1239MB   4.6MB/s 1:50:15 ETA"
       ]
      },
      {
       "output_type": "stream",
       "stream": "stdout",
       "text": [
        "\r",
        "1.141.A.step1.genomecoverage.txt                3% 1243MB   4.5MB/s 1:51:44 ETA"
       ]
      },
      {
       "output_type": "stream",
       "stream": "stdout",
       "text": [
        "\r",
        "1.141.A.step1.genomecoverage.txt                3% 1246MB   4.4MB/s 1:55:07 ETA"
       ]
      },
      {
       "output_type": "stream",
       "stream": "stdout",
       "text": [
        "\r",
        "1.141.A.step1.genomecoverage.txt                3% 1250MB   4.4MB/s 1:56:28 ETA"
       ]
      },
      {
       "output_type": "stream",
       "stream": "stdout",
       "text": [
        "\r",
        "1.141.A.step1.genomecoverage.txt                3% 1253MB   4.2MB/s 2:00:27 ETA"
       ]
      },
      {
       "output_type": "stream",
       "stream": "stdout",
       "text": [
        "\r",
        "1.141.A.step1.genomecoverage.txt                3% 1256MB   4.1MB/s 2:04:06 ETA"
       ]
      },
      {
       "output_type": "stream",
       "stream": "stdout",
       "text": [
        "\r",
        "1.141.A.step1.genomecoverage.txt                3% 1258MB   3.9MB/s 2:08:57 ETA"
       ]
      },
      {
       "output_type": "stream",
       "stream": "stdout",
       "text": [
        "\r",
        "1.141.A.step1.genomecoverage.txt                3% 1261MB   3.8MB/s 2:13:32 ETA"
       ]
      },
      {
       "output_type": "stream",
       "stream": "stdout",
       "text": [
        "\r",
        "1.141.A.step1.genomecoverage.txt                3% 1264MB   3.7MB/s 2:17:32 ETA"
       ]
      },
      {
       "output_type": "stream",
       "stream": "stdout",
       "text": [
        "\r",
        "1.141.A.step1.genomecoverage.txt                3% 1266MB   3.6MB/s 2:21:36 ETA"
       ]
      },
      {
       "output_type": "stream",
       "stream": "stdout",
       "text": [
        "\r",
        "1.141.A.step1.genomecoverage.txt                4% 1269MB   3.5MB/s 2:25:28 ETA"
       ]
      },
      {
       "output_type": "stream",
       "stream": "stdout",
       "text": [
        "\r",
        "1.141.A.step1.genomecoverage.txt                4% 1271MB   3.4MB/s 2:30:10 ETA"
       ]
      },
      {
       "output_type": "stream",
       "stream": "stdout",
       "text": [
        "\r",
        "1.141.A.step1.genomecoverage.txt                4% 1274MB   3.3MB/s 2:33:38 ETA"
       ]
      },
      {
       "output_type": "stream",
       "stream": "stdout",
       "text": [
        "\r",
        "1.141.A.step1.genomecoverage.txt                4% 1276MB   3.2MB/s 2:36:22 ETA"
       ]
      },
      {
       "output_type": "stream",
       "stream": "stdout",
       "text": [
        "\r",
        "1.141.A.step1.genomecoverage.txt                4% 1279MB   3.2MB/s 2:38:59 ETA"
       ]
      },
      {
       "output_type": "stream",
       "stream": "stdout",
       "text": [
        "\r",
        "1.141.A.step1.genomecoverage.txt                4% 1282MB   3.1MB/s 2:41:35 ETA"
       ]
      },
      {
       "output_type": "stream",
       "stream": "stdout",
       "text": [
        "\r",
        "1.141.A.step1.genomecoverage.txt                4% 1285MB   3.1MB/s 2:43:55 ETA"
       ]
      },
      {
       "output_type": "stream",
       "stream": "stdout",
       "text": [
        "\r",
        "1.141.A.step1.genomecoverage.txt                4% 1288MB   3.1MB/s 2:42:19 ETA"
       ]
      },
      {
       "output_type": "stream",
       "stream": "stdout",
       "text": [
        "\r",
        "1.141.A.step1.genomecoverage.txt                4% 1292MB   3.2MB/s 2:37:09 ETA"
       ]
      },
      {
       "output_type": "stream",
       "stream": "stdout",
       "text": [
        "\r",
        "1.141.A.step1.genomecoverage.txt                4% 1297MB   3.4MB/s 2:27:37 ETA"
       ]
      },
      {
       "output_type": "stream",
       "stream": "stdout",
       "text": [
        "\r",
        "1.141.A.step1.genomecoverage.txt                4% 1305MB   3.8MB/s 2:12:57 ETA"
       ]
      },
      {
       "output_type": "stream",
       "stream": "stdout",
       "text": [
        "\r",
        "1.141.A.step1.genomecoverage.txt                4% 1314MB   4.4MB/s 1:55:52 ETA"
       ]
      },
      {
       "output_type": "stream",
       "stream": "stdout",
       "text": [
        "\r",
        "1.141.A.step1.genomecoverage.txt                4% 1326MB   5.1MB/s 1:39:25 ETA"
       ]
      },
      {
       "output_type": "stream",
       "stream": "stdout",
       "text": [
        "\r",
        "1.141.A.step1.genomecoverage.txt                4% 1339MB   5.9MB/s 1:26:05 ETA"
       ]
      },
      {
       "output_type": "stream",
       "stream": "stdout",
       "text": [
        "\r",
        "1.141.A.step1.genomecoverage.txt                4% 1349MB   6.4MB/s 1:19:22 ETA"
       ]
      },
      {
       "output_type": "stream",
       "stream": "stdout",
       "text": [
        "\r",
        "1.141.A.step1.genomecoverage.txt                4% 1357MB   6.5MB/s 1:18:03 ETA"
       ]
      },
      {
       "output_type": "stream",
       "stream": "stdout",
       "text": [
        "\r",
        "1.141.A.step1.genomecoverage.txt                4% 1364MB   6.6MB/s 1:16:42 ETA"
       ]
      },
      {
       "output_type": "stream",
       "stream": "stdout",
       "text": [
        "\r",
        "1.141.A.step1.genomecoverage.txt                4% 1370MB   6.5MB/s 1:17:24 ETA"
       ]
      },
      {
       "output_type": "stream",
       "stream": "stdout",
       "text": [
        "\r",
        "1.141.A.step1.genomecoverage.txt                4% 1375MB   6.3MB/s 1:19:51 ETA"
       ]
      },
      {
       "output_type": "stream",
       "stream": "stdout",
       "text": [
        "\r",
        "1.141.A.step1.genomecoverage.txt                4% 1379MB   6.1MB/s 1:23:08 ETA"
       ]
      },
      {
       "output_type": "stream",
       "stream": "stdout",
       "text": [
        "\r",
        "1.141.A.step1.genomecoverage.txt                4% 1381MB   5.7MB/s 1:28:33 ETA"
       ]
      },
      {
       "output_type": "stream",
       "stream": "stdout",
       "text": [
        "\r",
        "1.141.A.step1.genomecoverage.txt                4% 1383MB   5.4MB/s 1:33:58 ETA"
       ]
      },
      {
       "output_type": "stream",
       "stream": "stdout",
       "text": [
        "\r",
        "1.141.A.step1.genomecoverage.txt                4% 1386MB   5.1MB/s 1:39:20 ETA"
       ]
      },
      {
       "output_type": "stream",
       "stream": "stdout",
       "text": [
        "\r",
        "1.141.A.step1.genomecoverage.txt                4% 1389MB   4.8MB/s 1:44:24 ETA"
       ]
      },
      {
       "output_type": "stream",
       "stream": "stdout",
       "text": [
        "\r",
        "1.141.A.step1.genomecoverage.txt                4% 1391MB   4.6MB/s 1:49:42 ETA"
       ]
      },
      {
       "output_type": "stream",
       "stream": "stdout",
       "text": [
        "\r",
        "1.141.A.step1.genomecoverage.txt                4% 1393MB   4.3MB/s 1:56:51 ETA"
       ]
      },
      {
       "output_type": "stream",
       "stream": "stdout",
       "text": [
        "\r",
        "1.141.A.step1.genomecoverage.txt                4% 1395MB   4.1MB/s 2:04:00 ETA"
       ]
      },
      {
       "output_type": "stream",
       "stream": "stdout",
       "text": [
        "\r",
        "1.141.A.step1.genomecoverage.txt                4% 1397MB   3.9MB/s 2:10:57 ETA"
       ]
      },
      {
       "output_type": "stream",
       "stream": "stdout",
       "text": [
        "\r",
        "1.141.A.step1.genomecoverage.txt                4% 1398MB   3.6MB/s 2:18:30 ETA"
       ]
      },
      {
       "output_type": "stream",
       "stream": "stdout",
       "text": [
        "\r",
        "1.141.A.step1.genomecoverage.txt                4% 1400MB   3.4MB/s 2:26:45 ETA"
       ]
      },
      {
       "output_type": "stream",
       "stream": "stdout",
       "text": [
        "\r",
        "1.141.A.step1.genomecoverage.txt                4% 1401MB   3.3MB/s 2:34:59 ETA"
       ]
      },
      {
       "output_type": "stream",
       "stream": "stdout",
       "text": [
        "\r",
        "1.141.A.step1.genomecoverage.txt                4% 1403MB   3.1MB/s 2:42:44 ETA"
       ]
      },
      {
       "output_type": "stream",
       "stream": "stdout",
       "text": [
        "\r",
        "1.141.A.step1.genomecoverage.txt                4% 1405MB   3.0MB/s 2:49:47 ETA"
       ]
      },
      {
       "output_type": "stream",
       "stream": "stdout",
       "text": [
        "\r",
        "1.141.A.step1.genomecoverage.txt                4% 1407MB   2.8MB/s 2:57:44 ETA"
       ]
      },
      {
       "output_type": "stream",
       "stream": "stdout",
       "text": [
        "\r",
        "1.141.A.step1.genomecoverage.txt                4% 1408MB   2.7MB/s 3:06:51 ETA"
       ]
      },
      {
       "output_type": "stream",
       "stream": "stdout",
       "text": [
        "\r",
        "1.141.A.step1.genomecoverage.txt                4% 1409MB   2.5MB/s 3:18:54 ETA"
       ]
      },
      {
       "output_type": "stream",
       "stream": "stdout",
       "text": [
        "\r",
        "1.141.A.step1.genomecoverage.txt                4% 1410MB   2.4MB/s 3:30:29 ETA"
       ]
      },
      {
       "output_type": "stream",
       "stream": "stdout",
       "text": [
        "\r",
        "1.141.A.step1.genomecoverage.txt                4% 1411MB   2.3MB/s 3:42:06 ETA"
       ]
      },
      {
       "output_type": "stream",
       "stream": "stdout",
       "text": [
        "\r",
        "1.141.A.step1.genomecoverage.txt                4% 1413MB   2.2MB/s 3:53:34 ETA"
       ]
      },
      {
       "output_type": "stream",
       "stream": "stdout",
       "text": [
        "\r",
        "1.141.A.step1.genomecoverage.txt                4% 1414MB   2.1MB/s 4:00:44 ETA"
       ]
      },
      {
       "output_type": "stream",
       "stream": "stdout",
       "text": [
        "\r",
        "1.141.A.step1.genomecoverage.txt                4% 1415MB   2.0MB/s 4:13:00 ETA"
       ]
      },
      {
       "output_type": "stream",
       "stream": "stdout",
       "text": [
        "\r",
        "1.141.A.step1.genomecoverage.txt                4% 1416MB   1.9MB/s 4:25:36 ETA"
       ]
      },
      {
       "output_type": "stream",
       "stream": "stdout",
       "text": [
        "\r",
        "1.141.A.step1.genomecoverage.txt                4% 1417MB   1.8MB/s 4:37:36 ETA"
       ]
      },
      {
       "output_type": "stream",
       "stream": "stdout",
       "text": [
        "\r",
        "1.141.A.step1.genomecoverage.txt                4% 1418MB   1.7MB/s 4:50:08 ETA"
       ]
      },
      {
       "output_type": "stream",
       "stream": "stdout",
       "text": [
        "\r",
        "1.141.A.step1.genomecoverage.txt                4% 1419MB   1.7MB/s 5:00:27 ETA"
       ]
      },
      {
       "output_type": "stream",
       "stream": "stdout",
       "text": [
        "\r",
        "1.141.A.step1.genomecoverage.txt                4% 1421MB   1.6MB/s 5:09:12 ETA"
       ]
      },
      {
       "output_type": "stream",
       "stream": "stdout",
       "text": [
        "\r",
        "1.141.A.step1.genomecoverage.txt                4% 1422MB   1.6MB/s 5:21:38 ETA"
       ]
      },
      {
       "output_type": "stream",
       "stream": "stdout",
       "text": [
        "\r",
        "1.141.A.step1.genomecoverage.txt                4% 1423MB   1.5MB/s 5:32:40 ETA"
       ]
      },
      {
       "output_type": "stream",
       "stream": "stdout",
       "text": [
        "\r",
        "1.141.A.step1.genomecoverage.txt                4% 1424MB   1.5MB/s 5:41:49 ETA"
       ]
      },
      {
       "output_type": "stream",
       "stream": "stdout",
       "text": [
        "\r",
        "1.141.A.step1.genomecoverage.txt                4% 1425MB   1.5MB/s 5:48:36 ETA"
       ]
      },
      {
       "output_type": "stream",
       "stream": "stdout",
       "text": [
        "\r",
        "1.141.A.step1.genomecoverage.txt                4% 1427MB   1.5MB/s 5:47:40 ETA"
       ]
      },
      {
       "output_type": "stream",
       "stream": "stdout",
       "text": [
        "\r",
        "1.141.A.step1.genomecoverage.txt                4% 1428MB   1.5MB/s 5:43:53 ETA"
       ]
      },
      {
       "output_type": "stream",
       "stream": "stdout",
       "text": [
        "\r",
        "1.141.A.step1.genomecoverage.txt                4% 1430MB   1.5MB/s 5:30:04 ETA"
       ]
      },
      {
       "output_type": "stream",
       "stream": "stdout",
       "text": [
        "\r",
        "1.141.A.step1.genomecoverage.txt                4% 1433MB   1.7MB/s 4:58:47 ETA"
       ]
      },
      {
       "output_type": "stream",
       "stream": "stdout",
       "text": [
        "\r",
        "1.141.A.step1.genomecoverage.txt                4% 1438MB   2.0MB/s 4:10:17 ETA"
       ]
      },
      {
       "output_type": "stream",
       "stream": "stdout",
       "text": [
        "\r",
        "1.141.A.step1.genomecoverage.txt                4% 1444MB   2.4MB/s 3:34:43 ETA"
       ]
      },
      {
       "output_type": "stream",
       "stream": "stdout",
       "text": [
        "\r",
        "1.141.A.step1.genomecoverage.txt                4% 1448MB   2.5MB/s 3:18:20 ETA"
       ]
      },
      {
       "output_type": "stream",
       "stream": "stdout",
       "text": [
        "\r",
        "1.141.A.step1.genomecoverage.txt                4% 1451MB   2.6MB/s 3:14:26 ETA"
       ]
      },
      {
       "output_type": "stream",
       "stream": "stdout",
       "text": [
        "\r",
        "1.141.A.step1.genomecoverage.txt                4% 1454MB   2.7MB/s 3:08:36 ETA"
       ]
      },
      {
       "output_type": "stream",
       "stream": "stdout",
       "text": [
        "\r",
        "1.141.A.step1.genomecoverage.txt                4% 1458MB   2.8MB/s 3:03:06 ETA"
       ]
      },
      {
       "output_type": "stream",
       "stream": "stdout",
       "text": [
        "\r",
        "1.141.A.step1.genomecoverage.txt                4% 1461MB   2.8MB/s 2:57:44 ETA"
       ]
      },
      {
       "output_type": "stream",
       "stream": "stdout",
       "text": [
        "\r",
        "1.141.A.step1.genomecoverage.txt                4% 1465MB   2.9MB/s 2:52:53 ETA"
       ]
      },
      {
       "output_type": "stream",
       "stream": "stdout",
       "text": [
        "\r",
        "1.141.A.step1.genomecoverage.txt                4% 1469MB   3.0MB/s 2:47:51 ETA"
       ]
      },
      {
       "output_type": "stream",
       "stream": "stdout",
       "text": [
        "\r",
        "1.141.A.step1.genomecoverage.txt                4% 1473MB   3.1MB/s 2:42:20 ETA"
       ]
      },
      {
       "output_type": "stream",
       "stream": "stdout",
       "text": [
        "\r",
        "1.141.A.step1.genomecoverage.txt                4% 1477MB   3.2MB/s 2:37:21 ETA"
       ]
      },
      {
       "output_type": "stream",
       "stream": "stdout",
       "text": [
        "\r",
        "1.141.A.step1.genomecoverage.txt                4% 1480MB   3.2MB/s 2:38:47 ETA"
       ]
      },
      {
       "output_type": "stream",
       "stream": "stdout",
       "text": [
        "\r",
        "1.141.A.step1.genomecoverage.txt                4% 1483MB   3.2MB/s 2:39:09 ETA"
       ]
      },
      {
       "output_type": "stream",
       "stream": "stdout",
       "text": [
        "\r",
        "1.141.A.step1.genomecoverage.txt                4% 1486MB   3.1MB/s 2:41:14 ETA"
       ]
      },
      {
       "output_type": "stream",
       "stream": "stdout",
       "text": [
        "\r",
        "1.141.A.step1.genomecoverage.txt                4% 1488MB   3.1MB/s 2:43:14 ETA"
       ]
      },
      {
       "output_type": "stream",
       "stream": "stdout",
       "text": [
        "\r",
        "1.141.A.step1.genomecoverage.txt                4% 1492MB   3.1MB/s 2:42:15 ETA"
       ]
      },
      {
       "output_type": "stream",
       "stream": "stdout",
       "text": [
        "\r",
        "1.141.A.step1.genomecoverage.txt                4% 1495MB   3.1MB/s 2:41:37 ETA"
       ]
      },
      {
       "output_type": "stream",
       "stream": "stdout",
       "text": [
        "\r",
        "1.141.A.step1.genomecoverage.txt                4% 1498MB   3.1MB/s 2:40:39 ETA"
       ]
      },
      {
       "output_type": "stream",
       "stream": "stdout",
       "text": [
        "\r",
        "1.141.A.step1.genomecoverage.txt                4% 1501MB   3.1MB/s 2:40:11 ETA"
       ]
      },
      {
       "output_type": "stream",
       "stream": "stdout",
       "text": [
        "\r",
        "1.141.A.step1.genomecoverage.txt                4% 1505MB   3.2MB/s 2:38:40 ETA"
       ]
      },
      {
       "output_type": "stream",
       "stream": "stdout",
       "text": [
        "\r",
        "1.141.A.step1.genomecoverage.txt                4% 1509MB   3.3MB/s 2:34:31 ETA"
       ]
      },
      {
       "output_type": "stream",
       "stream": "stdout",
       "text": [
        "\r",
        "1.141.A.step1.genomecoverage.txt                4% 1514MB   3.4MB/s 2:27:42 ETA"
       ]
      },
      {
       "output_type": "stream",
       "stream": "stdout",
       "text": [
        "\r",
        "1.141.A.step1.genomecoverage.txt                4% 1520MB   3.7MB/s 2:17:26 ETA"
       ]
      },
      {
       "output_type": "stream",
       "stream": "stdout",
       "text": [
        "\r",
        "1.141.A.step1.genomecoverage.txt                4% 1527MB   4.1MB/s 2:03:06 ETA"
       ]
      },
      {
       "output_type": "stream",
       "stream": "stdout",
       "text": [
        "\r",
        "1.141.A.step1.genomecoverage.txt                4% 1537MB   4.6MB/s 1:48:27 ETA"
       ]
      },
      {
       "output_type": "stream",
       "stream": "stdout",
       "text": [
        "\r",
        "1.141.A.step1.genomecoverage.txt                4% 1546MB   5.1MB/s 1:38:48 ETA"
       ]
      },
      {
       "output_type": "stream",
       "stream": "stdout",
       "text": [
        "\r",
        "1.141.A.step1.genomecoverage.txt                4% 1552MB   5.1MB/s 1:37:53 ETA"
       ]
      },
      {
       "output_type": "stream",
       "stream": "stdout",
       "text": [
        "\r",
        "1.141.A.step1.genomecoverage.txt                4% 1557MB   5.1MB/s 1:38:16 ETA"
       ]
      },
      {
       "output_type": "stream",
       "stream": "stdout",
       "text": [
        "\r",
        "1.141.A.step1.genomecoverage.txt                4% 1562MB   5.1MB/s 1:38:22 ETA"
       ]
      },
      {
       "output_type": "stream",
       "stream": "stdout",
       "text": [
        "\r",
        "1.141.A.step1.genomecoverage.txt                4% 1567MB   5.1MB/s 1:38:33 ETA"
       ]
      },
      {
       "output_type": "stream",
       "stream": "stdout",
       "text": [
        "\r",
        "1.141.A.step1.genomecoverage.txt                4% 1572MB   5.1MB/s 1:38:37 ETA"
       ]
      },
      {
       "output_type": "stream",
       "stream": "stdout",
       "text": [
        "\r",
        "1.141.A.step1.genomecoverage.txt                4% 1577MB   5.1MB/s 1:38:35 ETA"
       ]
      },
      {
       "output_type": "stream",
       "stream": "stdout",
       "text": [
        "\r",
        "1.141.A.step1.genomecoverage.txt                4% 1582MB   5.1MB/s 1:38:34 ETA"
       ]
      },
      {
       "output_type": "stream",
       "stream": "stdout",
       "text": [
        "\r",
        "1.141.A.step1.genomecoverage.txt                5% 1587MB   5.1MB/s 1:38:14 ETA"
       ]
      },
      {
       "output_type": "stream",
       "stream": "stdout",
       "text": [
        "\r",
        "1.141.A.step1.genomecoverage.txt                5% 1594MB   5.3MB/s 1:35:31 ETA"
       ]
      },
      {
       "output_type": "stream",
       "stream": "stdout",
       "text": [
        "\r",
        "1.141.A.step1.genomecoverage.txt                5% 1598MB   5.1MB/s 1:37:48 ETA"
       ]
      },
      {
       "output_type": "stream",
       "stream": "stdout",
       "text": [
        "\r",
        "1.141.A.step1.genomecoverage.txt                5% 1601MB   4.9MB/s 1:41:42 ETA"
       ]
      },
      {
       "output_type": "stream",
       "stream": "stdout",
       "text": [
        "\r",
        "1.141.A.step1.genomecoverage.txt                5% 1603MB   4.7MB/s 1:46:40 ETA"
       ]
      },
      {
       "output_type": "stream",
       "stream": "stdout",
       "text": [
        "\r",
        "1.141.A.step1.genomecoverage.txt                5% 1605MB   4.4MB/s 1:53:46 ETA"
       ]
      },
      {
       "output_type": "stream",
       "stream": "stdout",
       "text": [
        "\r",
        "1.141.A.step1.genomecoverage.txt                5% 1607MB   4.2MB/s 2:00:39 ETA"
       ]
      },
      {
       "output_type": "stream",
       "stream": "stdout",
       "text": [
        "\r",
        "1.141.A.step1.genomecoverage.txt                5% 1609MB   3.9MB/s 2:07:17 ETA"
       ]
      },
      {
       "output_type": "stream",
       "stream": "stdout",
       "text": [
        "\r",
        "1.141.A.step1.genomecoverage.txt                5% 1611MB   3.8MB/s 2:13:12 ETA"
       ]
      },
      {
       "output_type": "stream",
       "stream": "stdout",
       "text": [
        "\r",
        "1.141.A.step1.genomecoverage.txt                5% 1614MB   3.6MB/s 2:18:35 ETA"
       ]
      },
      {
       "output_type": "stream",
       "stream": "stdout",
       "text": [
        "\r",
        "1.141.A.step1.genomecoverage.txt                5% 1616MB   3.5MB/s 2:23:03 ETA"
       ]
      },
      {
       "output_type": "stream",
       "stream": "stdout",
       "text": [
        "\r",
        "1.141.A.step1.genomecoverage.txt                5% 1619MB   3.5MB/s 2:23:57 ETA"
       ]
      },
      {
       "output_type": "stream",
       "stream": "stdout",
       "text": [
        "\r",
        "1.141.A.step1.genomecoverage.txt                5% 1624MB   3.6MB/s 2:19:02 ETA"
       ]
      },
      {
       "output_type": "stream",
       "stream": "stdout",
       "text": [
        "\r",
        "1.141.A.step1.genomecoverage.txt                5% 1629MB   3.8MB/s 2:12:23 ETA"
       ]
      },
      {
       "output_type": "stream",
       "stream": "stdout",
       "text": [
        "\r",
        "1.141.A.step1.genomecoverage.txt                5% 1635MB   4.0MB/s 2:06:30 ETA"
       ]
      },
      {
       "output_type": "stream",
       "stream": "stdout",
       "text": [
        "\r",
        "1.141.A.step1.genomecoverage.txt                5% 1641MB   4.2MB/s 1:59:58 ETA"
       ]
      },
      {
       "output_type": "stream",
       "stream": "stdout",
       "text": [
        "\r",
        "1.141.A.step1.genomecoverage.txt                5% 1648MB   4.5MB/s 1:51:56 ETA"
       ]
      },
      {
       "output_type": "stream",
       "stream": "stdout",
       "text": [
        "\r",
        "1.141.A.step1.genomecoverage.txt                5% 1653MB   4.5MB/s 1:50:52 ETA"
       ]
      },
      {
       "output_type": "stream",
       "stream": "stdout",
       "text": [
        "\r",
        "1.141.A.step1.genomecoverage.txt                5% 1657MB   4.4MB/s 1:52:39 ETA"
       ]
      },
      {
       "output_type": "stream",
       "stream": "stdout",
       "text": [
        "\r",
        "1.141.A.step1.genomecoverage.txt                5% 1661MB   4.4MB/s 1:53:55 ETA"
       ]
      },
      {
       "output_type": "stream",
       "stream": "stdout",
       "text": [
        "\r",
        "1.141.A.step1.genomecoverage.txt                5% 1665MB   4.4MB/s 1:55:03 ETA"
       ]
      },
      {
       "output_type": "stream",
       "stream": "stdout",
       "text": [
        "\r",
        "1.141.A.step1.genomecoverage.txt                5% 1669MB   4.3MB/s 1:56:00 ETA"
       ]
      },
      {
       "output_type": "stream",
       "stream": "stdout",
       "text": [
        "\r",
        "1.141.A.step1.genomecoverage.txt                5% 1672MB   4.2MB/s 2:00:24 ETA"
       ]
      },
      {
       "output_type": "stream",
       "stream": "stdout",
       "text": [
        "\r",
        "1.141.A.step1.genomecoverage.txt                5% 1674MB   4.0MB/s 2:04:45 ETA"
       ]
      },
      {
       "output_type": "stream",
       "stream": "stdout",
       "text": [
        "\r",
        "1.141.A.step1.genomecoverage.txt                5% 1677MB   3.9MB/s 2:08:53 ETA"
       ]
      },
      {
       "output_type": "stream",
       "stream": "stdout",
       "text": [
        "\r",
        "1.141.A.step1.genomecoverage.txt                5% 1680MB   3.8MB/s 2:12:31 ETA"
       ]
      },
      {
       "output_type": "stream",
       "stream": "stdout",
       "text": [
        "\r",
        "1.141.A.step1.genomecoverage.txt                5% 1682MB   3.7MB/s 2:16:40 ETA"
       ]
      },
      {
       "output_type": "stream",
       "stream": "stdout",
       "text": [
        "\r",
        "1.141.A.step1.genomecoverage.txt                5% 1686MB   3.6MB/s 2:18:33 ETA"
       ]
      },
      {
       "output_type": "stream",
       "stream": "stdout",
       "text": [
        "\r",
        "1.141.A.step1.genomecoverage.txt                5% 1688MB   3.5MB/s 2:22:06 ETA"
       ]
      },
      {
       "output_type": "stream",
       "stream": "stdout",
       "text": [
        "\r",
        "1.141.A.step1.genomecoverage.txt                5% 1690MB   3.3MB/s 2:31:14 ETA"
       ]
      },
      {
       "output_type": "stream",
       "stream": "stdout",
       "text": [
        "\r",
        "1.141.A.step1.genomecoverage.txt                5% 1691MB   3.1MB/s 2:39:24 ETA"
       ]
      },
      {
       "output_type": "stream",
       "stream": "stdout",
       "text": [
        "\r",
        "1.141.A.step1.genomecoverage.txt                5% 1693MB   3.0MB/s 2:48:26 ETA"
       ]
      },
      {
       "output_type": "stream",
       "stream": "stdout",
       "text": [
        "\r",
        "1.141.A.step1.genomecoverage.txt                5% 1694MB   2.8MB/s 2:59:59 ETA"
       ]
      },
      {
       "output_type": "stream",
       "stream": "stdout",
       "text": [
        "\r",
        "1.141.A.step1.genomecoverage.txt                5% 1695MB   2.6MB/s 3:11:42 ETA"
       ]
      },
      {
       "output_type": "stream",
       "stream": "stdout",
       "text": [
        "\r",
        "1.141.A.step1.genomecoverage.txt                5% 1696MB   2.5MB/s 3:22:13 ETA"
       ]
      },
      {
       "output_type": "stream",
       "stream": "stdout",
       "text": [
        "\r",
        "1.141.A.step1.genomecoverage.txt                5% 1698MB   2.4MB/s 3:29:06 ETA"
       ]
      },
      {
       "output_type": "stream",
       "stream": "stdout",
       "text": [
        "\r",
        "1.141.A.step1.genomecoverage.txt                5% 1699MB   2.3MB/s 3:35:34 ETA"
       ]
      },
      {
       "output_type": "stream",
       "stream": "stdout",
       "text": [
        "\r",
        "1.141.A.step1.genomecoverage.txt                5% 1701MB   2.3MB/s 3:38:15 ETA"
       ]
      },
      {
       "output_type": "stream",
       "stream": "stdout",
       "text": [
        "\r",
        "1.141.A.step1.genomecoverage.txt                5% 1704MB   2.3MB/s 3:38:09 ETA"
       ]
      },
      {
       "output_type": "stream",
       "stream": "stdout",
       "text": [
        "\r",
        "1.141.A.step1.genomecoverage.txt                5% 1706MB   2.3MB/s 3:40:38 ETA"
       ]
      },
      {
       "output_type": "stream",
       "stream": "stdout",
       "text": [
        "\r",
        "1.141.A.step1.genomecoverage.txt                5% 1708MB   2.2MB/s 3:43:51 ETA"
       ]
      },
      {
       "output_type": "stream",
       "stream": "stdout",
       "text": [
        "\r",
        "1.141.A.step1.genomecoverage.txt                5% 1710MB   2.2MB/s 3:45:32 ETA"
       ]
      },
      {
       "output_type": "stream",
       "stream": "stdout",
       "text": [
        "\r",
        "1.141.A.step1.genomecoverage.txt                5% 1712MB   2.2MB/s 3:45:00 ETA"
       ]
      },
      {
       "output_type": "stream",
       "stream": "stdout",
       "text": [
        "\r",
        "1.141.A.step1.genomecoverage.txt                5% 1714MB   2.1MB/s 3:56:02 ETA"
       ]
      },
      {
       "output_type": "stream",
       "stream": "stdout",
       "text": [
        "\r",
        "1.141.A.step1.genomecoverage.txt                5% 1717MB   2.1MB/s 3:52:49 ETA"
       ]
      },
      {
       "output_type": "stream",
       "stream": "stdout",
       "text": [
        "\r",
        "1.141.A.step1.genomecoverage.txt                5% 1720MB   2.2MB/s 3:46:25 ETA"
       ]
      },
      {
       "output_type": "stream",
       "stream": "stdout",
       "text": [
        "\r",
        "1.141.A.step1.genomecoverage.txt                5% 1723MB   2.3MB/s 3:34:41 ETA"
       ]
      },
      {
       "output_type": "stream",
       "stream": "stdout",
       "text": [
        "\r",
        "1.141.A.step1.genomecoverage.txt                5% 1725MB   2.3MB/s 3:38:46 ETA"
       ]
      },
      {
       "output_type": "stream",
       "stream": "stdout",
       "text": [
        "\r",
        "1.141.A.step1.genomecoverage.txt                5% 1727MB   2.3MB/s 3:40:52 ETA"
       ]
      },
      {
       "output_type": "stream",
       "stream": "stdout",
       "text": [
        "\r",
        "1.141.A.step1.genomecoverage.txt                5% 1729MB   2.3MB/s 3:41:25 ETA"
       ]
      },
      {
       "output_type": "stream",
       "stream": "stdout",
       "text": [
        "\r",
        "1.141.A.step1.genomecoverage.txt                5% 1731MB   2.3MB/s 3:41:36 ETA"
       ]
      },
      {
       "output_type": "stream",
       "stream": "stdout",
       "text": [
        "\r",
        "1.141.A.step1.genomecoverage.txt                5% 1734MB   2.3MB/s 3:40:22 ETA"
       ]
      },
      {
       "output_type": "stream",
       "stream": "stdout",
       "text": [
        "\r",
        "1.141.A.step1.genomecoverage.txt                5% 1736MB   2.3MB/s 3:37:38 ETA"
       ]
      },
      {
       "output_type": "stream",
       "stream": "stdout",
       "text": [
        "\r",
        "1.141.A.step1.genomecoverage.txt                5% 1739MB   2.3MB/s 3:35:06 ETA"
       ]
      },
      {
       "output_type": "stream",
       "stream": "stdout",
       "text": [
        "\r",
        "1.141.A.step1.genomecoverage.txt                5% 1742MB   2.4MB/s 3:31:35 ETA"
       ]
      },
      {
       "output_type": "stream",
       "stream": "stdout",
       "text": [
        "\r",
        "1.141.A.step1.genomecoverage.txt                5% 1744MB   2.4MB/s 3:30:26 ETA"
       ]
      },
      {
       "output_type": "stream",
       "stream": "stdout",
       "text": [
        "\r",
        "1.141.A.step1.genomecoverage.txt                5% 1746MB   2.4MB/s 3:30:14 ETA"
       ]
      },
      {
       "output_type": "stream",
       "stream": "stdout",
       "text": [
        "\r",
        "1.141.A.step1.genomecoverage.txt                5% 1749MB   2.4MB/s 3:28:33 ETA"
       ]
      },
      {
       "output_type": "stream",
       "stream": "stdout",
       "text": [
        "\r",
        "1.141.A.step1.genomecoverage.txt                5% 1752MB   2.4MB/s 3:26:47 ETA"
       ]
      },
      {
       "output_type": "stream",
       "stream": "stdout",
       "text": [
        "\r",
        "1.141.A.step1.genomecoverage.txt                5% 1753MB   2.3MB/s 3:33:19 ETA"
       ]
      },
      {
       "output_type": "stream",
       "stream": "stdout",
       "text": [
        "\r",
        "1.141.A.step1.genomecoverage.txt                5% 1755MB   2.3MB/s 3:41:23 ETA"
       ]
      },
      {
       "output_type": "stream",
       "stream": "stdout",
       "text": [
        "\r",
        "1.141.A.step1.genomecoverage.txt                5% 1756MB   2.2MB/s 3:47:34 ETA"
       ]
      },
      {
       "output_type": "stream",
       "stream": "stdout",
       "text": [
        "\r",
        "1.141.A.step1.genomecoverage.txt                5% 1758MB   2.1MB/s 3:53:25 ETA"
       ]
      },
      {
       "output_type": "stream",
       "stream": "stdout",
       "text": [
        "\r",
        "1.141.A.step1.genomecoverage.txt                5% 1760MB   2.1MB/s 3:59:29 ETA"
       ]
      },
      {
       "output_type": "stream",
       "stream": "stdout",
       "text": [
        "\r",
        "1.141.A.step1.genomecoverage.txt                5% 1761MB   2.1MB/s 4:03:21 ETA"
       ]
      },
      {
       "output_type": "stream",
       "stream": "stdout",
       "text": [
        "\r",
        "1.141.A.step1.genomecoverage.txt                5% 1763MB   2.0MB/s 4:08:05 ETA"
       ]
      },
      {
       "output_type": "stream",
       "stream": "stdout",
       "text": [
        "\r",
        "1.141.A.step1.genomecoverage.txt                5% 1765MB   2.0MB/s 4:10:20 ETA"
       ]
      },
      {
       "output_type": "stream",
       "stream": "stdout",
       "text": [
        "\r",
        "1.141.A.step1.genomecoverage.txt                5% 1767MB   2.0MB/s 4:12:11 ETA"
       ]
      },
      {
       "output_type": "stream",
       "stream": "stdout",
       "text": [
        "\r",
        "1.141.A.step1.genomecoverage.txt                5% 1769MB   2.0MB/s 4:14:42 ETA"
       ]
      },
      {
       "output_type": "stream",
       "stream": "stdout",
       "text": [
        "\r",
        "1.141.A.step1.genomecoverage.txt                5% 1770MB   1.9MB/s 4:24:40 ETA"
       ]
      },
      {
       "output_type": "stream",
       "stream": "stdout",
       "text": [
        "\r",
        "1.141.A.step1.genomecoverage.txt                5% 1771MB   1.8MB/s 4:30:51 ETA"
       ]
      },
      {
       "output_type": "stream",
       "stream": "stdout",
       "text": [
        "\r",
        "1.141.A.step1.genomecoverage.txt                5% 1772MB   1.8MB/s 4:39:19 ETA"
       ]
      },
      {
       "output_type": "stream",
       "stream": "stdout",
       "text": [
        "\r",
        "1.141.A.step1.genomecoverage.txt                5% 1774MB   1.8MB/s 4:44:35 ETA"
       ]
      },
      {
       "output_type": "stream",
       "stream": "stdout",
       "text": [
        "\r",
        "1.141.A.step1.genomecoverage.txt                5% 1775MB   1.7MB/s 4:48:11 ETA"
       ]
      },
      {
       "output_type": "stream",
       "stream": "stdout",
       "text": [
        "\r",
        "1.141.A.step1.genomecoverage.txt                5% 1777MB   1.7MB/s 4:49:24 ETA"
       ]
      },
      {
       "output_type": "stream",
       "stream": "stdout",
       "text": [
        "\r",
        "1.141.A.step1.genomecoverage.txt                5% 1779MB   1.7MB/s 4:47:52 ETA"
       ]
      },
      {
       "output_type": "stream",
       "stream": "stdout",
       "text": [
        "\r",
        "1.141.A.step1.genomecoverage.txt                5% 1781MB   1.7MB/s 4:45:59 ETA"
       ]
      },
      {
       "output_type": "stream",
       "stream": "stdout",
       "text": [
        "\r",
        "1.141.A.step1.genomecoverage.txt                5% 1783MB   1.8MB/s 4:45:20 ETA"
       ]
      },
      {
       "output_type": "stream",
       "stream": "stdout",
       "text": [
        "\r",
        "1.141.A.step1.genomecoverage.txt                5% 1785MB   1.8MB/s 4:41:28 ETA"
       ]
      },
      {
       "output_type": "stream",
       "stream": "stdout",
       "text": [
        "\r",
        "1.141.A.step1.genomecoverage.txt                5% 1787MB   1.8MB/s 4:33:33 ETA"
       ]
      },
      {
       "output_type": "stream",
       "stream": "stdout",
       "text": [
        "\r",
        "1.141.A.step1.genomecoverage.txt                5% 1788MB   1.8MB/s 4:35:47 ETA"
       ]
      },
      {
       "output_type": "stream",
       "stream": "stdout",
       "text": [
        "\r",
        "1.141.A.step1.genomecoverage.txt                5% 1790MB   1.8MB/s 4:38:05 ETA"
       ]
      },
      {
       "output_type": "stream",
       "stream": "stdout",
       "text": [
        "\r",
        "1.141.A.step1.genomecoverage.txt                5% 1792MB   1.8MB/s 4:39:41 ETA"
       ]
      },
      {
       "output_type": "stream",
       "stream": "stdout",
       "text": [
        "\r",
        "1.141.A.step1.genomecoverage.txt                5% 1794MB   1.8MB/s 4:37:57 ETA"
       ]
      },
      {
       "output_type": "stream",
       "stream": "stdout",
       "text": [
        "\r",
        "1.141.A.step1.genomecoverage.txt                5% 1796MB   1.8MB/s 4:35:56 ETA"
       ]
      },
      {
       "output_type": "stream",
       "stream": "stdout",
       "text": [
        "\r",
        "1.141.A.step1.genomecoverage.txt                5% 1798MB   1.8MB/s 4:31:20 ETA"
       ]
      },
      {
       "output_type": "stream",
       "stream": "stdout",
       "text": [
        "\r",
        "1.141.A.step1.genomecoverage.txt                5% 1800MB   1.9MB/s 4:21:24 ETA"
       ]
      },
      {
       "output_type": "stream",
       "stream": "stdout",
       "text": [
        "\r",
        "1.141.A.step1.genomecoverage.txt                5% 1804MB   2.1MB/s 3:58:39 ETA"
       ]
      },
      {
       "output_type": "stream",
       "stream": "stdout",
       "text": [
        "\r",
        "1.141.A.step1.genomecoverage.txt                5% 1808MB   2.3MB/s 3:37:49 ETA"
       ]
      },
      {
       "output_type": "stream",
       "stream": "stdout",
       "text": [
        "\r",
        "1.141.A.step1.genomecoverage.txt                5% 1812MB   2.5MB/s 3:22:04 ETA"
       ]
      },
      {
       "output_type": "stream",
       "stream": "stdout",
       "text": [
        "\r",
        "1.141.A.step1.genomecoverage.txt                5% 1816MB   2.6MB/s 3:13:39 ETA"
       ]
      },
      {
       "output_type": "stream",
       "stream": "stdout",
       "text": [
        "\r",
        "1.141.A.step1.genomecoverage.txt                5% 1819MB   2.7MB/s 3:05:07 ETA"
       ]
      },
      {
       "output_type": "stream",
       "stream": "stdout",
       "text": [
        "\r",
        "1.141.A.step1.genomecoverage.txt                5% 1823MB   2.8MB/s 2:57:52 ETA"
       ]
      },
      {
       "output_type": "stream",
       "stream": "stdout",
       "text": [
        "\r",
        "1.141.A.step1.genomecoverage.txt                5% 1827MB   2.9MB/s 2:50:58 ETA"
       ]
      },
      {
       "output_type": "stream",
       "stream": "stdout",
       "text": [
        "\r",
        "1.141.A.step1.genomecoverage.txt                5% 1831MB   3.0MB/s 2:45:12 ETA"
       ]
      },
      {
       "output_type": "stream",
       "stream": "stdout",
       "text": [
        "\r",
        "1.141.A.step1.genomecoverage.txt                5% 1835MB   3.1MB/s 2:40:15 ETA"
       ]
      },
      {
       "output_type": "stream",
       "stream": "stdout",
       "text": [
        "\r",
        "1.141.A.step1.genomecoverage.txt                5% 1839MB   3.2MB/s 2:33:24 ETA"
       ]
      },
      {
       "output_type": "stream",
       "stream": "stdout",
       "text": [
        "\r",
        "1.141.A.step1.genomecoverage.txt                5% 1844MB   3.4MB/s 2:25:49 ETA"
       ]
      },
      {
       "output_type": "stream",
       "stream": "stdout",
       "text": [
        "\r",
        "1.141.A.step1.genomecoverage.txt                5% 1850MB   3.6MB/s 2:18:34 ETA"
       ]
      },
      {
       "output_type": "stream",
       "stream": "stdout",
       "text": [
        "\r",
        "1.141.A.step1.genomecoverage.txt                5% 1855MB   3.7MB/s 2:12:51 ETA"
       ]
      },
      {
       "output_type": "stream",
       "stream": "stdout",
       "text": [
        "\r",
        "1.141.A.step1.genomecoverage.txt                5% 1860MB   3.9MB/s 2:06:48 ETA"
       ]
      },
      {
       "output_type": "stream",
       "stream": "stdout",
       "text": [
        "\r",
        "1.141.A.step1.genomecoverage.txt                5% 1866MB   4.1MB/s 2:01:21 ETA"
       ]
      },
      {
       "output_type": "stream",
       "stream": "stdout",
       "text": [
        "\r",
        "1.141.A.step1.genomecoverage.txt                5% 1872MB   4.3MB/s 1:55:26 ETA"
       ]
      },
      {
       "output_type": "stream",
       "stream": "stdout",
       "text": [
        "\r",
        "1.141.A.step1.genomecoverage.txt                5% 1878MB   4.5MB/s 1:51:01 ETA"
       ]
      },
      {
       "output_type": "stream",
       "stream": "stdout",
       "text": [
        "\r",
        "1.141.A.step1.genomecoverage.txt                5% 1883MB   4.5MB/s 1:49:38 ETA"
       ]
      },
      {
       "output_type": "stream",
       "stream": "stdout",
       "text": [
        "\r",
        "1.141.A.step1.genomecoverage.txt                5% 1888MB   4.6MB/s 1:48:12 ETA"
       ]
      },
      {
       "output_type": "stream",
       "stream": "stdout",
       "text": [
        "\r",
        "1.141.A.step1.genomecoverage.txt                5% 1893MB   4.6MB/s 1:46:53 ETA"
       ]
      },
      {
       "output_type": "stream",
       "stream": "stdout",
       "text": [
        "\r",
        "1.141.A.step1.genomecoverage.txt                5% 1898MB   4.7MB/s 1:45:55 ETA"
       ]
      },
      {
       "output_type": "stream",
       "stream": "stdout",
       "text": [
        "\r",
        "1.141.A.step1.genomecoverage.txt                6% 1903MB   4.7MB/s 1:46:15 ETA"
       ]
      },
      {
       "output_type": "stream",
       "stream": "stdout",
       "text": [
        "\r",
        "1.141.A.step1.genomecoverage.txt                6% 1907MB   4.6MB/s 1:47:12 ETA"
       ]
      },
      {
       "output_type": "stream",
       "stream": "stdout",
       "text": [
        "\r",
        "1.141.A.step1.genomecoverage.txt                6% 1912MB   4.6MB/s 1:46:56 ETA"
       ]
      },
      {
       "output_type": "stream",
       "stream": "stdout",
       "text": [
        "\r",
        "1.141.A.step1.genomecoverage.txt                6% 1916MB   4.6MB/s 1:48:38 ETA"
       ]
      },
      {
       "output_type": "stream",
       "stream": "stdout",
       "text": [
        "\r",
        "1.141.A.step1.genomecoverage.txt                6% 1920MB   4.5MB/s 1:50:50 ETA"
       ]
      },
      {
       "output_type": "stream",
       "stream": "stdout",
       "text": [
        "\r",
        "1.141.A.step1.genomecoverage.txt                6% 1922MB   4.3MB/s 1:55:21 ETA"
       ]
      },
      {
       "output_type": "stream",
       "stream": "stdout",
       "text": [
        "\r",
        "1.141.A.step1.genomecoverage.txt                6% 1925MB   4.1MB/s 2:00:17 ETA"
       ]
      },
      {
       "output_type": "stream",
       "stream": "stdout",
       "text": [
        "\r",
        "1.141.A.step1.genomecoverage.txt                6% 1927MB   4.0MB/s 2:04:54 ETA"
       ]
      },
      {
       "output_type": "stream",
       "stream": "stdout",
       "text": [
        "\r",
        "1.141.A.step1.genomecoverage.txt                6% 1930MB   3.8MB/s 2:09:23 ETA"
       ]
      },
      {
       "output_type": "stream",
       "stream": "stdout",
       "text": [
        "\r",
        "1.141.A.step1.genomecoverage.txt                6% 1933MB   3.7MB/s 2:13:24 ETA"
       ]
      },
      {
       "output_type": "stream",
       "stream": "stdout",
       "text": [
        "\r",
        "1.141.A.step1.genomecoverage.txt                6% 1935MB   3.6MB/s 2:16:36 ETA"
       ]
      },
      {
       "output_type": "stream",
       "stream": "stdout",
       "text": [
        "\r",
        "1.141.A.step1.genomecoverage.txt                6% 1938MB   3.5MB/s 2:19:59 ETA"
       ]
      },
      {
       "output_type": "stream",
       "stream": "stdout",
       "text": [
        "\r",
        "1.141.A.step1.genomecoverage.txt                6% 1941MB   3.4MB/s 2:25:04 ETA"
       ]
      },
      {
       "output_type": "stream",
       "stream": "stdout",
       "text": [
        "\r",
        "1.141.A.step1.genomecoverage.txt                6% 1942MB   3.3MB/s 2:32:12 ETA"
       ]
      },
      {
       "output_type": "stream",
       "stream": "stdout",
       "text": [
        "\r",
        "1.141.A.step1.genomecoverage.txt                6% 1944MB   3.1MB/s 2:40:08 ETA"
       ]
      },
      {
       "output_type": "stream",
       "stream": "stdout",
       "text": [
        "\r",
        "1.141.A.step1.genomecoverage.txt                6% 1946MB   3.0MB/s 2:47:08 ETA"
       ]
      },
      {
       "output_type": "stream",
       "stream": "stdout",
       "text": [
        "\r",
        "1.141.A.step1.genomecoverage.txt                6% 1948MB   2.9MB/s 2:53:19 ETA"
       ]
      },
      {
       "output_type": "stream",
       "stream": "stdout",
       "text": [
        "\r",
        "1.141.A.step1.genomecoverage.txt                6% 1950MB   2.8MB/s 2:59:35 ETA"
       ]
      },
      {
       "output_type": "stream",
       "stream": "stdout",
       "text": [
        "\r",
        "1.141.A.step1.genomecoverage.txt                6% 1951MB   2.7MB/s 3:05:37 ETA"
       ]
      },
      {
       "output_type": "stream",
       "stream": "stdout",
       "text": [
        "\r",
        "1.141.A.step1.genomecoverage.txt                6% 1954MB   2.6MB/s 3:09:01 ETA"
       ]
      },
      {
       "output_type": "stream",
       "stream": "stdout",
       "text": [
        "\r",
        "1.141.A.step1.genomecoverage.txt                6% 1956MB   2.6MB/s 3:09:18 ETA"
       ]
      },
      {
       "output_type": "stream",
       "stream": "stdout",
       "text": [
        "\r",
        "1.141.A.step1.genomecoverage.txt                6% 1959MB   2.7MB/s 3:04:29 ETA"
       ]
      },
      {
       "output_type": "stream",
       "stream": "stdout",
       "text": [
        "\r",
        "1.141.A.step1.genomecoverage.txt                6% 1964MB   2.8MB/s 2:54:06 ETA"
       ]
      },
      {
       "output_type": "stream",
       "stream": "stdout",
       "text": [
        "\r",
        "1.141.A.step1.genomecoverage.txt                6% 1967MB   2.9MB/s 2:50:43 ETA"
       ]
      },
      {
       "output_type": "stream",
       "stream": "stdout",
       "text": [
        "\r",
        "1.141.A.step1.genomecoverage.txt                6% 1970MB   2.9MB/s 2:49:45 ETA"
       ]
      },
      {
       "output_type": "stream",
       "stream": "stdout",
       "text": [
        "\r",
        "1.141.A.step1.genomecoverage.txt                6% 1973MB   2.9MB/s 2:49:37 ETA"
       ]
      },
      {
       "output_type": "stream",
       "stream": "stdout",
       "text": [
        "\r",
        "1.141.A.step1.genomecoverage.txt                6% 1976MB   2.9MB/s 2:50:35 ETA"
       ]
      },
      {
       "output_type": "stream",
       "stream": "stdout",
       "text": [
        "\r",
        "1.141.A.step1.genomecoverage.txt                6% 1979MB   2.9MB/s 2:50:21 ETA"
       ]
      },
      {
       "output_type": "stream",
       "stream": "stdout",
       "text": [
        "\r",
        "1.141.A.step1.genomecoverage.txt                6% 1982MB   3.0MB/s 2:47:38 ETA"
       ]
      },
      {
       "output_type": "stream",
       "stream": "stdout",
       "text": [
        "\r",
        "1.141.A.step1.genomecoverage.txt                6% 1986MB   3.0MB/s 2:45:04 ETA"
       ]
      },
      {
       "output_type": "stream",
       "stream": "stdout",
       "text": [
        "\r",
        "1.141.A.step1.genomecoverage.txt                6% 1989MB   3.0MB/s 2:43:15 ETA"
       ]
      },
      {
       "output_type": "stream",
       "stream": "stdout",
       "text": [
        "\r",
        "1.141.A.step1.genomecoverage.txt                6% 1992MB   3.0MB/s 2:45:17 ETA"
       ]
      },
      {
       "output_type": "stream",
       "stream": "stdout",
       "text": [
        "\r",
        "1.141.A.step1.genomecoverage.txt                6% 1994MB   2.9MB/s 2:50:23 ETA"
       ]
      },
      {
       "output_type": "stream",
       "stream": "stdout",
       "text": [
        "\r",
        "1.141.A.step1.genomecoverage.txt                6% 1996MB   2.8MB/s 2:54:24 ETA"
       ]
      },
      {
       "output_type": "stream",
       "stream": "stdout",
       "text": [
        "\r",
        "1.141.A.step1.genomecoverage.txt                6% 1998MB   2.8MB/s 2:58:10 ETA"
       ]
      },
      {
       "output_type": "stream",
       "stream": "stdout",
       "text": [
        "\r",
        "1.141.A.step1.genomecoverage.txt                6% 2001MB   2.7MB/s 3:00:21 ETA"
       ]
      },
      {
       "output_type": "stream",
       "stream": "stdout",
       "text": [
        "\r",
        "1.141.A.step1.genomecoverage.txt                6% 2003MB   2.7MB/s 3:01:13 ETA"
       ]
      },
      {
       "output_type": "stream",
       "stream": "stdout",
       "text": [
        "\r",
        "1.141.A.step1.genomecoverage.txt                6% 2006MB   2.7MB/s 3:01:35 ETA"
       ]
      },
      {
       "output_type": "stream",
       "stream": "stdout",
       "text": [
        "\r",
        "1.141.A.step1.genomecoverage.txt                6% 2009MB   2.8MB/s 2:57:13 ETA"
       ]
      },
      {
       "output_type": "stream",
       "stream": "stdout",
       "text": [
        "\r",
        "1.141.A.step1.genomecoverage.txt                6% 2014MB   3.0MB/s 2:44:57 ETA"
       ]
      },
      {
       "output_type": "stream",
       "stream": "stdout",
       "text": [
        "\r",
        "1.141.A.step1.genomecoverage.txt                6% 2021MB   3.3MB/s 2:27:56 ETA"
       ]
      },
      {
       "output_type": "stream",
       "stream": "stdout",
       "text": [
        "\r",
        "1.141.A.step1.genomecoverage.txt                6% 2029MB   3.8MB/s 2:09:03 ETA"
       ]
      },
      {
       "output_type": "stream",
       "stream": "stdout",
       "text": [
        "\r",
        "1.141.A.step1.genomecoverage.txt                6% 2034MB   4.0MB/s 2:05:12 ETA"
       ]
      },
      {
       "output_type": "stream",
       "stream": "stdout",
       "text": [
        "\r",
        "1.141.A.step1.genomecoverage.txt                6% 2038MB   4.0MB/s 2:04:28 ETA"
       ]
      },
      {
       "output_type": "stream",
       "stream": "stdout",
       "text": [
        "\r",
        "1.141.A.step1.genomecoverage.txt                6% 2042MB   4.0MB/s 2:03:20 ETA"
       ]
      },
      {
       "output_type": "stream",
       "stream": "stdout",
       "text": [
        "\r",
        "1.141.A.step1.genomecoverage.txt                6% 2047MB   4.1MB/s 2:01:57 ETA"
       ]
      },
      {
       "output_type": "stream",
       "stream": "stdout",
       "text": [
        "\r",
        "1.141.A.step1.genomecoverage.txt                6% 2051MB   4.1MB/s 2:00:32 ETA"
       ]
      },
      {
       "output_type": "stream",
       "stream": "stdout",
       "text": [
        "\r",
        "1.141.A.step1.genomecoverage.txt                6% 2055MB   4.1MB/s 2:01:13 ETA"
       ]
      },
      {
       "output_type": "stream",
       "stream": "stdout",
       "text": [
        "\r",
        "1.141.A.step1.genomecoverage.txt                6% 2059MB   4.1MB/s 2:01:31 ETA"
       ]
      },
      {
       "output_type": "stream",
       "stream": "stdout",
       "text": [
        "\r",
        "1.141.A.step1.genomecoverage.txt                6% 2063MB   4.1MB/s 2:00:40 ETA"
       ]
      },
      {
       "output_type": "stream",
       "stream": "stdout",
       "text": [
        "\r",
        "1.141.A.step1.genomecoverage.txt                6% 2068MB   4.1MB/s 1:59:13 ETA"
       ]
      },
      {
       "output_type": "stream",
       "stream": "stdout",
       "text": [
        "\r",
        "1.141.A.step1.genomecoverage.txt                6% 2073MB   4.2MB/s 1:57:49 ETA"
       ]
      },
      {
       "output_type": "stream",
       "stream": "stdout",
       "text": [
        "\r",
        "1.141.A.step1.genomecoverage.txt                6% 2077MB   4.2MB/s 1:56:17 ETA"
       ]
      },
      {
       "output_type": "stream",
       "stream": "stdout",
       "text": [
        "\r",
        "1.141.A.step1.genomecoverage.txt                6% 2082MB   4.3MB/s 1:54:51 ETA"
       ]
      },
      {
       "output_type": "stream",
       "stream": "stdout",
       "text": [
        "\r",
        "1.141.A.step1.genomecoverage.txt                6% 2087MB   4.4MB/s 1:52:34 ETA"
       ]
      },
      {
       "output_type": "stream",
       "stream": "stdout",
       "text": [
        "\r",
        "1.141.A.step1.genomecoverage.txt                6% 2093MB   4.5MB/s 1:50:17 ETA"
       ]
      },
      {
       "output_type": "stream",
       "stream": "stdout",
       "text": [
        "\r",
        "1.141.A.step1.genomecoverage.txt                6% 2097MB   4.5MB/s 1:49:53 ETA"
       ]
      },
      {
       "output_type": "stream",
       "stream": "stdout",
       "text": [
        "\r",
        "1.141.A.step1.genomecoverage.txt                6% 2100MB   4.3MB/s 1:53:43 ETA"
       ]
      },
      {
       "output_type": "stream",
       "stream": "stdout",
       "text": [
        "\r",
        "1.141.A.step1.genomecoverage.txt                6% 2103MB   4.2MB/s 1:58:25 ETA"
       ]
      },
      {
       "output_type": "stream",
       "stream": "stdout",
       "text": [
        "\r",
        "1.141.A.step1.genomecoverage.txt                6% 2105MB   4.0MB/s 2:03:00 ETA"
       ]
      },
      {
       "output_type": "stream",
       "stream": "stdout",
       "text": [
        "\r",
        "1.141.A.step1.genomecoverage.txt                6% 2108MB   3.9MB/s 2:07:23 ETA"
       ]
      },
      {
       "output_type": "stream",
       "stream": "stdout",
       "text": [
        "\r",
        "1.141.A.step1.genomecoverage.txt                6% 2111MB   3.8MB/s 2:11:03 ETA"
       ]
      },
      {
       "output_type": "stream",
       "stream": "stdout",
       "text": [
        "\r",
        "1.141.A.step1.genomecoverage.txt                6% 2113MB   3.7MB/s 2:15:00 ETA"
       ]
      },
      {
       "output_type": "stream",
       "stream": "stdout",
       "text": [
        "\r",
        "1.141.A.step1.genomecoverage.txt                6% 2117MB   3.6MB/s 2:16:08 ETA"
       ]
      },
      {
       "output_type": "stream",
       "stream": "stdout",
       "text": [
        "\r",
        "1.141.A.step1.genomecoverage.txt                6% 2121MB   3.7MB/s 2:13:03 ETA"
       ]
      },
      {
       "output_type": "stream",
       "stream": "stdout",
       "text": [
        "\r",
        "1.141.A.step1.genomecoverage.txt                6% 2126MB   3.8MB/s 2:08:09 ETA"
       ]
      },
      {
       "output_type": "stream",
       "stream": "stdout",
       "text": [
        "\r",
        "1.141.A.step1.genomecoverage.txt                6% 2134MB   4.2MB/s 1:57:12 ETA"
       ]
      },
      {
       "output_type": "stream",
       "stream": "stdout",
       "text": [
        "\r",
        "1.141.A.step1.genomecoverage.txt                6% 2142MB   4.6MB/s 1:47:40 ETA"
       ]
      },
      {
       "output_type": "stream",
       "stream": "stdout",
       "text": [
        "\r",
        "1.141.A.step1.genomecoverage.txt                6% 2147MB   4.7MB/s 1:44:50 ETA"
       ]
      },
      {
       "output_type": "stream",
       "stream": "stdout",
       "text": [
        "\r",
        "1.141.A.step1.genomecoverage.txt                6% 2154MB   4.8MB/s 1:41:53 ETA"
       ]
      },
      {
       "output_type": "stream",
       "stream": "stdout",
       "text": [
        "\r",
        "1.141.A.step1.genomecoverage.txt                6% 2160MB   5.0MB/s 1:37:52 ETA"
       ]
      },
      {
       "output_type": "stream",
       "stream": "stdout",
       "text": [
        "\r",
        "1.141.A.step1.genomecoverage.txt                6% 2165MB   5.0MB/s 1:38:40 ETA"
       ]
      },
      {
       "output_type": "stream",
       "stream": "stdout",
       "text": [
        "\r",
        "1.141.A.step1.genomecoverage.txt                6% 2169MB   4.9MB/s 1:41:10 ETA"
       ]
      },
      {
       "output_type": "stream",
       "stream": "stdout",
       "text": [
        "\r",
        "1.141.A.step1.genomecoverage.txt                6% 2173MB   4.8MB/s 1:42:45 ETA"
       ]
      },
      {
       "output_type": "stream",
       "stream": "stdout",
       "text": [
        "\r",
        "1.141.A.step1.genomecoverage.txt                6% 2177MB   4.7MB/s 1:44:31 ETA"
       ]
      },
      {
       "output_type": "stream",
       "stream": "stdout",
       "text": [
        "\r",
        "1.141.A.step1.genomecoverage.txt                6% 2181MB   4.7MB/s 1:44:49 ETA"
       ]
      },
      {
       "output_type": "stream",
       "stream": "stdout",
       "text": [
        "\r",
        "1.141.A.step1.genomecoverage.txt                6% 2185MB   4.6MB/s 1:46:33 ETA"
       ]
      },
      {
       "output_type": "stream",
       "stream": "stdout",
       "text": [
        "\r",
        "1.141.A.step1.genomecoverage.txt                6% 2189MB   4.5MB/s 1:48:59 ETA"
       ]
      },
      {
       "output_type": "stream",
       "stream": "stdout",
       "text": [
        "\r",
        "1.141.A.step1.genomecoverage.txt                6% 2193MB   4.5MB/s 1:50:08 ETA"
       ]
      },
      {
       "output_type": "stream",
       "stream": "stdout",
       "text": [
        "\r",
        "1.141.A.step1.genomecoverage.txt                6% 2196MB   4.3MB/s 1:53:19 ETA"
       ]
      },
      {
       "output_type": "stream",
       "stream": "stdout",
       "text": [
        "\r",
        "1.141.A.step1.genomecoverage.txt                6% 2200MB   4.3MB/s 1:55:34 ETA"
       ]
      },
      {
       "output_type": "stream",
       "stream": "stdout",
       "text": [
        "\r",
        "1.141.A.step1.genomecoverage.txt                6% 2203MB   4.2MB/s 1:57:14 ETA"
       ]
      },
      {
       "output_type": "stream",
       "stream": "stdout",
       "text": [
        "\r",
        "1.141.A.step1.genomecoverage.txt                6% 2207MB   4.1MB/s 1:59:14 ETA"
       ]
      },
      {
       "output_type": "stream",
       "stream": "stdout",
       "text": [
        "\r",
        "1.141.A.step1.genomecoverage.txt                6% 2210MB   4.1MB/s 2:00:29 ETA"
       ]
      },
      {
       "output_type": "stream",
       "stream": "stdout",
       "text": [
        "\r",
        "1.141.A.step1.genomecoverage.txt                6% 2214MB   4.1MB/s 2:01:09 ETA"
       ]
      },
      {
       "output_type": "stream",
       "stream": "stdout",
       "text": [
        "\r",
        "1.141.A.step1.genomecoverage.txt                7% 2218MB   4.0MB/s 2:01:52 ETA"
       ]
      },
      {
       "output_type": "stream",
       "stream": "stdout",
       "text": [
        "\r",
        "1.141.A.step1.genomecoverage.txt                7% 2221MB   3.9MB/s 2:04:57 ETA"
       ]
      },
      {
       "output_type": "stream",
       "stream": "stdout",
       "text": [
        "\r",
        "1.141.A.step1.genomecoverage.txt                7% 2223MB   3.7MB/s 2:11:23 ETA"
       ]
      },
      {
       "output_type": "stream",
       "stream": "stdout",
       "text": [
        "\r",
        "1.141.A.step1.genomecoverage.txt                7% 2225MB   3.6MB/s 2:17:40 ETA"
       ]
      },
      {
       "output_type": "stream",
       "stream": "stdout",
       "text": [
        "\r",
        "1.141.A.step1.genomecoverage.txt                7% 2227MB   3.4MB/s 2:22:59 ETA"
       ]
      },
      {
       "output_type": "stream",
       "stream": "stdout",
       "text": [
        "\r",
        "1.141.A.step1.genomecoverage.txt                7% 2230MB   3.3MB/s 2:28:05 ETA"
       ]
      },
      {
       "output_type": "stream",
       "stream": "stdout",
       "text": [
        "\r",
        "1.141.A.step1.genomecoverage.txt                7% 2232MB   3.2MB/s 2:32:14 ETA"
       ]
      },
      {
       "output_type": "stream",
       "stream": "stdout",
       "text": [
        "\r",
        "1.141.A.step1.genomecoverage.txt                7% 2235MB   3.2MB/s 2:35:25 ETA"
       ]
      },
      {
       "output_type": "stream",
       "stream": "stdout",
       "text": [
        "\r",
        "1.141.A.step1.genomecoverage.txt                7% 2237MB   3.1MB/s 2:39:55 ETA"
       ]
      },
      {
       "output_type": "stream",
       "stream": "stdout",
       "text": [
        "\r",
        "1.141.A.step1.genomecoverage.txt                7% 2239MB   3.0MB/s 2:42:40 ETA"
       ]
      },
      {
       "output_type": "stream",
       "stream": "stdout",
       "text": [
        "\r",
        "1.141.A.step1.genomecoverage.txt                7% 2242MB   3.0MB/s 2:44:47 ETA"
       ]
      },
      {
       "output_type": "stream",
       "stream": "stdout",
       "text": [
        "\r",
        "1.141.A.step1.genomecoverage.txt                7% 2245MB   2.9MB/s 2:46:39 ETA"
       ]
      },
      {
       "output_type": "stream",
       "stream": "stdout",
       "text": [
        "\r",
        "1.141.A.step1.genomecoverage.txt                7% 2247MB   2.9MB/s 2:48:28 ETA"
       ]
      },
      {
       "output_type": "stream",
       "stream": "stdout",
       "text": [
        "\r",
        "1.141.A.step1.genomecoverage.txt                7% 2250MB   2.9MB/s 2:49:34 ETA"
       ]
      },
      {
       "output_type": "stream",
       "stream": "stdout",
       "text": [
        "\r",
        "1.141.A.step1.genomecoverage.txt                7% 2253MB   2.9MB/s 2:49:12 ETA"
       ]
      },
      {
       "output_type": "stream",
       "stream": "stdout",
       "text": [
        "\r",
        "1.141.A.step1.genomecoverage.txt                7% 2255MB   2.9MB/s 2:51:21 ETA"
       ]
      },
      {
       "output_type": "stream",
       "stream": "stdout",
       "text": [
        "\r",
        "1.141.A.step1.genomecoverage.txt                7% 2258MB   2.9MB/s 2:52:00 ETA"
       ]
      },
      {
       "output_type": "stream",
       "stream": "stdout",
       "text": [
        "\r",
        "1.141.A.step1.genomecoverage.txt                7% 2261MB   2.8MB/s 2:52:59 ETA"
       ]
      },
      {
       "output_type": "stream",
       "stream": "stdout",
       "text": [
        "\r",
        "1.141.A.step1.genomecoverage.txt                7% 2264MB   2.8MB/s 2:54:03 ETA"
       ]
      },
      {
       "output_type": "stream",
       "stream": "stdout",
       "text": [
        "\r",
        "1.141.A.step1.genomecoverage.txt                7% 2266MB   2.8MB/s 2:54:27 ETA"
       ]
      },
      {
       "output_type": "stream",
       "stream": "stdout",
       "text": [
        "\r",
        "1.141.A.step1.genomecoverage.txt                7% 2269MB   2.8MB/s 2:54:02 ETA"
       ]
      },
      {
       "output_type": "stream",
       "stream": "stdout",
       "text": [
        "\r",
        "1.141.A.step1.genomecoverage.txt                7% 2272MB   2.9MB/s 2:50:54 ETA"
       ]
      },
      {
       "output_type": "stream",
       "stream": "stdout",
       "text": [
        "\r",
        "1.141.A.step1.genomecoverage.txt                7% 2277MB   3.0MB/s 2:43:37 ETA"
       ]
      },
      {
       "output_type": "stream",
       "stream": "stdout",
       "text": [
        "\r",
        "1.141.A.step1.genomecoverage.txt                7% 2282MB   3.2MB/s 2:32:34 ETA"
       ]
      },
      {
       "output_type": "stream",
       "stream": "stdout",
       "text": [
        "\r",
        "1.141.A.step1.genomecoverage.txt                7% 2288MB   3.5MB/s 2:18:29 ETA"
       ]
      },
      {
       "output_type": "stream",
       "stream": "stdout",
       "text": [
        "\r",
        "1.141.A.step1.genomecoverage.txt                7% 2297MB   4.1MB/s 2:00:48 ETA"
       ]
      },
      {
       "output_type": "stream",
       "stream": "stdout",
       "text": [
        "\r",
        "1.141.A.step1.genomecoverage.txt                7% 2308MB   4.7MB/s 1:43:28 ETA"
       ]
      },
      {
       "output_type": "stream",
       "stream": "stdout",
       "text": [
        "\r",
        "1.141.A.step1.genomecoverage.txt                7% 2320MB   5.5MB/s 1:29:43 ETA"
       ]
      },
      {
       "output_type": "stream",
       "stream": "stdout",
       "text": [
        "\r",
        "1.141.A.step1.genomecoverage.txt                7% 2334MB   6.4MB/s 1:16:43 ETA"
       ]
      },
      {
       "output_type": "stream",
       "stream": "stdout",
       "text": [
        "\r",
        "1.141.A.step1.genomecoverage.txt                7% 2348MB   7.1MB/s 1:09:05 ETA"
       ]
      },
      {
       "output_type": "stream",
       "stream": "stdout",
       "text": [
        "\r",
        "1.141.A.step1.genomecoverage.txt                7% 2360MB   7.6MB/s 1:04:27 ETA"
       ]
      },
      {
       "output_type": "stream",
       "stream": "stdout",
       "text": [
        "\r",
        "1.141.A.step1.genomecoverage.txt                7% 2369MB   7.8MB/s 1:02:46 ETA"
       ]
      },
      {
       "output_type": "stream",
       "stream": "stdout",
       "text": [
        "\r",
        "1.141.A.step1.genomecoverage.txt                7% 2377MB   7.8MB/s 1:02:59 ETA"
       ]
      },
      {
       "output_type": "stream",
       "stream": "stdout",
       "text": [
        "\r",
        "1.141.A.step1.genomecoverage.txt                7% 2385MB   7.8MB/s 1:02:43 ETA"
       ]
      },
      {
       "output_type": "stream",
       "stream": "stdout",
       "text": [
        "\r",
        "1.141.A.step1.genomecoverage.txt                7% 2392MB   7.7MB/s 1:03:18 ETA"
       ]
      },
      {
       "output_type": "stream",
       "stream": "stdout",
       "text": [
        "\r",
        "1.141.A.step1.genomecoverage.txt                7% 2399MB   7.7MB/s 1:03:39 ETA"
       ]
      },
      {
       "output_type": "stream",
       "stream": "stdout",
       "text": [
        "\r",
        "1.141.A.step1.genomecoverage.txt                7% 2407MB   7.6MB/s 1:04:02 ETA"
       ]
      },
      {
       "output_type": "stream",
       "stream": "stdout",
       "text": [
        "\r",
        "1.141.A.step1.genomecoverage.txt                7% 2414MB   7.6MB/s 1:04:08 ETA"
       ]
      },
      {
       "output_type": "stream",
       "stream": "stdout",
       "text": [
        "\r",
        "1.141.A.step1.genomecoverage.txt                7% 2422MB   7.6MB/s 1:04:09 ETA"
       ]
      },
      {
       "output_type": "stream",
       "stream": "stdout",
       "text": [
        "\r",
        "1.141.A.step1.genomecoverage.txt                7% 2429MB   7.6MB/s 1:04:19 ETA"
       ]
      },
      {
       "output_type": "stream",
       "stream": "stdout",
       "text": [
        "\r",
        "1.141.A.step1.genomecoverage.txt                7% 2435MB   7.5MB/s 1:05:13 ETA"
       ]
      },
      {
       "output_type": "stream",
       "stream": "stdout",
       "text": [
        "\r",
        "1.141.A.step1.genomecoverage.txt                7% 2442MB   7.3MB/s 1:06:24 ETA"
       ]
      },
      {
       "output_type": "stream",
       "stream": "stdout",
       "text": [
        "\r",
        "1.141.A.step1.genomecoverage.txt                7% 2449MB   7.3MB/s 1:06:27 ETA"
       ]
      },
      {
       "output_type": "stream",
       "stream": "stdout",
       "text": [
        "\r",
        "1.141.A.step1.genomecoverage.txt                7% 2456MB   7.3MB/s 1:06:18 ETA"
       ]
      },
      {
       "output_type": "stream",
       "stream": "stdout",
       "text": [
        "\r",
        "1.141.A.step1.genomecoverage.txt                7% 2462MB   7.2MB/s 1:07:49 ETA"
       ]
      },
      {
       "output_type": "stream",
       "stream": "stdout",
       "text": [
        "\r",
        "1.141.A.step1.genomecoverage.txt                7% 2468MB   7.0MB/s 1:09:07 ETA"
       ]
      },
      {
       "output_type": "stream",
       "stream": "stdout",
       "text": [
        "\r",
        "1.141.A.step1.genomecoverage.txt                7% 2473MB   6.9MB/s 1:10:30 ETA"
       ]
      },
      {
       "output_type": "stream",
       "stream": "stdout",
       "text": [
        "\r",
        "1.141.A.step1.genomecoverage.txt                7% 2479MB   6.8MB/s 1:11:51 ETA"
       ]
      },
      {
       "output_type": "stream",
       "stream": "stdout",
       "text": [
        "\r",
        "1.141.A.step1.genomecoverage.txt                7% 2485MB   6.7MB/s 1:13:09 ETA"
       ]
      },
      {
       "output_type": "stream",
       "stream": "stdout",
       "text": [
        "\r",
        "1.141.A.step1.genomecoverage.txt                7% 2488MB   6.4MB/s 1:16:22 ETA"
       ]
      },
      {
       "output_type": "stream",
       "stream": "stdout",
       "text": [
        "\r",
        "1.141.A.step1.genomecoverage.txt                7% 2491MB   6.0MB/s 1:21:02 ETA"
       ]
      },
      {
       "output_type": "stream",
       "stream": "stdout",
       "text": [
        "\r",
        "1.141.A.step1.genomecoverage.txt                7% 2494MB   5.7MB/s 1:25:48 ETA"
       ]
      },
      {
       "output_type": "stream",
       "stream": "stdout",
       "text": [
        "\r",
        "1.141.A.step1.genomecoverage.txt                7% 2496MB   5.3MB/s 1:31:07 ETA"
       ]
      },
      {
       "output_type": "stream",
       "stream": "stdout",
       "text": [
        "\r",
        "1.141.A.step1.genomecoverage.txt                7% 2498MB   5.0MB/s 1:37:24 ETA"
       ]
      },
      {
       "output_type": "stream",
       "stream": "stdout",
       "text": [
        "\r",
        "1.141.A.step1.genomecoverage.txt                7% 2500MB   4.7MB/s 1:43:34 ETA"
       ]
      },
      {
       "output_type": "stream",
       "stream": "stdout",
       "text": [
        "\r",
        "1.141.A.step1.genomecoverage.txt                7% 2502MB   4.5MB/s 1:49:20 ETA"
       ]
      },
      {
       "output_type": "stream",
       "stream": "stdout",
       "text": [
        "\r",
        "1.141.A.step1.genomecoverage.txt                7% 2505MB   4.2MB/s 1:54:37 ETA"
       ]
      },
      {
       "output_type": "stream",
       "stream": "stdout",
       "text": [
        "\r",
        "1.141.A.step1.genomecoverage.txt                7% 2507MB   4.1MB/s 1:59:37 ETA"
       ]
      },
      {
       "output_type": "stream",
       "stream": "stdout",
       "text": [
        "\r",
        "1.141.A.step1.genomecoverage.txt                7% 2510MB   3.9MB/s 2:03:57 ETA"
       ]
      },
      {
       "output_type": "stream",
       "stream": "stdout",
       "text": [
        "\r",
        "1.141.A.step1.genomecoverage.txt                7% 2513MB   3.9MB/s 2:05:23 ETA"
       ]
      },
      {
       "output_type": "stream",
       "stream": "stdout",
       "text": [
        "\r",
        "1.141.A.step1.genomecoverage.txt                7% 2518MB   4.0MB/s 2:02:53 ETA"
       ]
      },
      {
       "output_type": "stream",
       "stream": "stdout",
       "text": [
        "\r",
        "1.141.A.step1.genomecoverage.txt                7% 2523MB   4.0MB/s 2:01:00 ETA"
       ]
      },
      {
       "output_type": "stream",
       "stream": "stdout",
       "text": [
        "\r",
        "1.141.A.step1.genomecoverage.txt                7% 2528MB   4.1MB/s 1:57:57 ETA"
       ]
      },
      {
       "output_type": "stream",
       "stream": "stdout",
       "text": [
        "\r",
        "1.141.A.step1.genomecoverage.txt                7% 2531MB   4.0MB/s 2:00:07 ETA"
       ]
      },
      {
       "output_type": "stream",
       "stream": "stdout",
       "text": [
        "\r",
        "1.141.A.step1.genomecoverage.txt                8% 2535MB   4.0MB/s 2:01:13 ETA"
       ]
      },
      {
       "output_type": "stream",
       "stream": "stdout",
       "text": [
        "\r",
        "1.141.A.step1.genomecoverage.txt                8% 2538MB   4.0MB/s 2:01:53 ETA"
       ]
      },
      {
       "output_type": "stream",
       "stream": "stdout",
       "text": [
        "\r",
        "1.141.A.step1.genomecoverage.txt                8% 2542MB   4.0MB/s 2:02:32 ETA"
       ]
      },
      {
       "output_type": "stream",
       "stream": "stdout",
       "text": [
        "\r",
        "1.141.A.step1.genomecoverage.txt                8% 2546MB   4.0MB/s 2:03:02 ETA"
       ]
      },
      {
       "output_type": "stream",
       "stream": "stdout",
       "text": [
        "\r",
        "1.141.A.step1.genomecoverage.txt                8% 2550MB   4.0MB/s 2:03:00 ETA"
       ]
      },
      {
       "output_type": "stream",
       "stream": "stdout",
       "text": [
        "\r",
        "1.141.A.step1.genomecoverage.txt                8% 2554MB   4.0MB/s 2:02:08 ETA"
       ]
      },
      {
       "output_type": "stream",
       "stream": "stdout",
       "text": [
        "\r",
        "1.141.A.step1.genomecoverage.txt                8% 2559MB   4.1MB/s 1:58:32 ETA"
       ]
      },
      {
       "output_type": "stream",
       "stream": "stdout",
       "text": [
        "\r",
        "1.141.A.step1.genomecoverage.txt                8% 2566MB   4.3MB/s 1:52:06 ETA"
       ]
      },
      {
       "output_type": "stream",
       "stream": "stdout",
       "text": [
        "\r",
        "1.141.A.step1.genomecoverage.txt                8% 2572MB   4.6MB/s 1:46:06 ETA"
       ]
      },
      {
       "output_type": "stream",
       "stream": "stdout",
       "text": [
        "\r",
        "1.141.A.step1.genomecoverage.txt                8% 2579MB   4.8MB/s 1:41:53 ETA"
       ]
      },
      {
       "output_type": "stream",
       "stream": "stdout",
       "text": [
        "\r",
        "1.141.A.step1.genomecoverage.txt                8% 2586MB   5.0MB/s 1:36:36 ETA"
       ]
      },
      {
       "output_type": "stream",
       "stream": "stdout",
       "text": [
        "\r",
        "1.141.A.step1.genomecoverage.txt                8% 2594MB   5.3MB/s 1:32:12 ETA"
       ]
      },
      {
       "output_type": "stream",
       "stream": "stdout",
       "text": [
        "\r",
        "1.141.A.step1.genomecoverage.txt                8% 2601MB   5.4MB/s 1:29:08 ETA"
       ]
      },
      {
       "output_type": "stream",
       "stream": "stdout",
       "text": [
        "\r",
        "1.141.A.step1.genomecoverage.txt                8% 2606MB   5.5MB/s 1:28:55 ETA"
       ]
      },
      {
       "output_type": "stream",
       "stream": "stdout",
       "text": [
        "\r",
        "1.141.A.step1.genomecoverage.txt                8% 2612MB   5.5MB/s 1:28:56 ETA"
       ]
      },
      {
       "output_type": "stream",
       "stream": "stdout",
       "text": [
        "\r",
        "1.141.A.step1.genomecoverage.txt                8% 2617MB   5.4MB/s 1:29:19 ETA"
       ]
      },
      {
       "output_type": "stream",
       "stream": "stdout",
       "text": [
        "\r",
        "1.141.A.step1.genomecoverage.txt                8% 2622MB   5.4MB/s 1:29:17 ETA"
       ]
      },
      {
       "output_type": "stream",
       "stream": "stdout",
       "text": [
        "\r",
        "1.141.A.step1.genomecoverage.txt                8% 2628MB   5.4MB/s 1:29:27 ETA"
       ]
      },
      {
       "output_type": "stream",
       "stream": "stdout",
       "text": [
        "\r",
        "1.141.A.step1.genomecoverage.txt                8% 2633MB   5.4MB/s 1:29:19 ETA"
       ]
      },
      {
       "output_type": "stream",
       "stream": "stdout",
       "text": [
        "\r",
        "1.141.A.step1.genomecoverage.txt                8% 2639MB   5.5MB/s 1:28:15 ETA"
       ]
      },
      {
       "output_type": "stream",
       "stream": "stdout",
       "text": [
        "\r",
        "1.141.A.step1.genomecoverage.txt                8% 2646MB   5.6MB/s 1:26:05 ETA"
       ]
      },
      {
       "output_type": "stream",
       "stream": "stdout",
       "text": [
        "\r",
        "1.141.A.step1.genomecoverage.txt                8% 2653MB   5.8MB/s 1:23:44 ETA"
       ]
      },
      {
       "output_type": "stream",
       "stream": "stdout",
       "text": [
        "\r",
        "1.141.A.step1.genomecoverage.txt                8% 2658MB   5.6MB/s 1:25:54 ETA"
       ]
      },
      {
       "output_type": "stream",
       "stream": "stdout",
       "text": [
        "\r",
        "1.141.A.step1.genomecoverage.txt                8% 2662MB   5.5MB/s 1:27:51 ETA"
       ]
      },
      {
       "output_type": "stream",
       "stream": "stdout",
       "text": [
        "\r",
        "1.141.A.step1.genomecoverage.txt                8% 2667MB   5.4MB/s 1:28:55 ETA"
       ]
      },
      {
       "output_type": "stream",
       "stream": "stdout",
       "text": [
        "\r",
        "1.141.A.step1.genomecoverage.txt                8% 2672MB   5.4MB/s 1:29:39 ETA"
       ]
      },
      {
       "output_type": "stream",
       "stream": "stdout",
       "text": [
        "\r",
        "1.141.A.step1.genomecoverage.txt                8% 2677MB   5.3MB/s 1:30:32 ETA"
       ]
      },
      {
       "output_type": "stream",
       "stream": "stdout",
       "text": [
        "\r",
        "1.141.A.step1.genomecoverage.txt                8% 2682MB   5.3MB/s 1:30:53 ETA"
       ]
      },
      {
       "output_type": "stream",
       "stream": "stdout",
       "text": [
        "\r",
        "1.141.A.step1.genomecoverage.txt                8% 2687MB   5.3MB/s 1:31:05 ETA"
       ]
      },
      {
       "output_type": "stream",
       "stream": "stdout",
       "text": [
        "\r",
        "1.141.A.step1.genomecoverage.txt                8% 2692MB   5.3MB/s 1:30:55 ETA"
       ]
      },
      {
       "output_type": "stream",
       "stream": "stdout",
       "text": [
        "\r",
        "1.141.A.step1.genomecoverage.txt                8% 2696MB   5.2MB/s 1:33:50 ETA"
       ]
      },
      {
       "output_type": "stream",
       "stream": "stdout",
       "text": [
        "\r",
        "1.141.A.step1.genomecoverage.txt                8% 2700MB   5.0MB/s 1:36:52 ETA"
       ]
      },
      {
       "output_type": "stream",
       "stream": "stdout",
       "text": [
        "\r",
        "1.141.A.step1.genomecoverage.txt                8% 2703MB   4.9MB/s 1:39:26 ETA"
       ]
      },
      {
       "output_type": "stream",
       "stream": "stdout",
       "text": [
        "\r",
        "1.141.A.step1.genomecoverage.txt                8% 2707MB   4.7MB/s 1:41:55 ETA"
       ]
      },
      {
       "output_type": "stream",
       "stream": "stdout",
       "text": [
        "\r",
        "1.141.A.step1.genomecoverage.txt                8% 2711MB   4.6MB/s 1:44:17 ETA"
       ]
      },
      {
       "output_type": "stream",
       "stream": "stdout",
       "text": [
        "\r",
        "1.141.A.step1.genomecoverage.txt                8% 2714MB   4.5MB/s 1:46:30 ETA"
       ]
      },
      {
       "output_type": "stream",
       "stream": "stdout",
       "text": [
        "\r",
        "1.141.A.step1.genomecoverage.txt                8% 2718MB   4.5MB/s 1:47:27 ETA"
       ]
      },
      {
       "output_type": "stream",
       "stream": "stdout",
       "text": [
        "\r",
        "1.141.A.step1.genomecoverage.txt                8% 2723MB   4.5MB/s 1:46:14 ETA"
       ]
      },
      {
       "output_type": "stream",
       "stream": "stdout",
       "text": [
        "\r",
        "1.141.A.step1.genomecoverage.txt                8% 2729MB   4.7MB/s 1:43:11 ETA"
       ]
      },
      {
       "output_type": "stream",
       "stream": "stdout",
       "text": [
        "\r",
        "1.141.A.step1.genomecoverage.txt                8% 2737MB   5.0MB/s 1:37:24 ETA"
       ]
      },
      {
       "output_type": "stream",
       "stream": "stdout",
       "text": [
        "\r",
        "1.141.A.step1.genomecoverage.txt                8% 2746MB   5.4MB/s 1:28:44 ETA"
       ]
      },
      {
       "output_type": "stream",
       "stream": "stdout",
       "text": [
        "\r",
        "1.141.A.step1.genomecoverage.txt                8% 2758MB   6.1MB/s 1:19:16 ETA"
       ]
      },
      {
       "output_type": "stream",
       "stream": "stdout",
       "text": [
        "\r",
        "1.141.A.step1.genomecoverage.txt                8% 2772MB   6.9MB/s 1:10:00 ETA"
       ]
      },
      {
       "output_type": "stream",
       "stream": "stdout",
       "text": [
        "\r",
        "1.141.A.step1.genomecoverage.txt                8% 2783MB   7.3MB/s 1:06:08 ETA"
       ]
      },
      {
       "output_type": "stream",
       "stream": "stdout",
       "text": [
        "\r",
        "1.141.A.step1.genomecoverage.txt                8% 2791MB   7.3MB/s 1:05:57 ETA"
       ]
      },
      {
       "output_type": "stream",
       "stream": "stdout",
       "text": [
        "\r",
        "1.141.A.step1.genomecoverage.txt                8% 2797MB   7.2MB/s 1:07:00 ETA"
       ]
      },
      {
       "output_type": "stream",
       "stream": "stdout",
       "text": [
        "\r",
        "1.141.A.step1.genomecoverage.txt                8% 2802MB   7.0MB/s 1:08:47 ETA"
       ]
      },
      {
       "output_type": "stream",
       "stream": "stdout",
       "text": [
        "\r",
        "1.141.A.step1.genomecoverage.txt                8% 2807MB   6.8MB/s 1:10:40 ETA"
       ]
      },
      {
       "output_type": "stream",
       "stream": "stdout",
       "text": [
        "\r",
        "1.141.A.step1.genomecoverage.txt                8% 2812MB   6.7MB/s 1:12:23 ETA"
       ]
      },
      {
       "output_type": "stream",
       "stream": "stdout",
       "text": [
        "\r",
        "1.141.A.step1.genomecoverage.txt                8% 2818MB   6.5MB/s 1:14:02 ETA"
       ]
      },
      {
       "output_type": "stream",
       "stream": "stdout",
       "text": [
        "\r",
        "1.141.A.step1.genomecoverage.txt                8% 2823MB   6.4MB/s 1:15:39 ETA"
       ]
      },
      {
       "output_type": "stream",
       "stream": "stdout",
       "text": [
        "\r",
        "1.141.A.step1.genomecoverage.txt                8% 2828MB   6.2MB/s 1:17:07 ETA"
       ]
      },
      {
       "output_type": "stream",
       "stream": "stdout",
       "text": [
        "\r",
        "1.141.A.step1.genomecoverage.txt                8% 2832MB   6.0MB/s 1:19:33 ETA"
       ]
      },
      {
       "output_type": "stream",
       "stream": "stdout",
       "text": [
        "\r",
        "1.141.A.step1.genomecoverage.txt                8% 2835MB   5.7MB/s 1:23:58 ETA"
       ]
      },
      {
       "output_type": "stream",
       "stream": "stdout",
       "text": [
        "\r",
        "1.141.A.step1.genomecoverage.txt                8% 2838MB   5.5MB/s 1:27:27 ETA"
       ]
      },
      {
       "output_type": "stream",
       "stream": "stdout",
       "text": [
        "\r",
        "1.141.A.step1.genomecoverage.txt                8% 2842MB   5.3MB/s 1:30:52 ETA"
       ]
      },
      {
       "output_type": "stream",
       "stream": "stdout",
       "text": [
        "\r",
        "1.141.A.step1.genomecoverage.txt                8% 2845MB   5.1MB/s 1:34:16 ETA"
       ]
      },
      {
       "output_type": "stream",
       "stream": "stdout",
       "text": [
        "\r",
        "1.141.A.step1.genomecoverage.txt                8% 2849MB   4.9MB/s 1:37:20 ETA"
       ]
      },
      {
       "output_type": "stream",
       "stream": "stdout",
       "text": [
        "\r",
        "1.141.A.step1.genomecoverage.txt                9% 2853MB   4.8MB/s 1:39:33 ETA"
       ]
      },
      {
       "output_type": "stream",
       "stream": "stdout",
       "text": [
        "\r",
        "1.141.A.step1.genomecoverage.txt                9% 2857MB   4.8MB/s 1:40:44 ETA"
       ]
      },
      {
       "output_type": "stream",
       "stream": "stdout",
       "text": [
        "\r",
        "1.141.A.step1.genomecoverage.txt                9% 2862MB   4.8MB/s 1:39:53 ETA"
       ]
      },
      {
       "output_type": "stream",
       "stream": "stdout",
       "text": [
        "\r",
        "1.141.A.step1.genomecoverage.txt                9% 2868MB   4.9MB/s 1:37:39 ETA"
       ]
      },
      {
       "output_type": "stream",
       "stream": "stdout",
       "text": [
        "\r",
        "1.141.A.step1.genomecoverage.txt                9% 2873MB   5.0MB/s 1:36:44 ETA"
       ]
      },
      {
       "output_type": "stream",
       "stream": "stdout",
       "text": [
        "\r",
        "1.141.A.step1.genomecoverage.txt                9% 2880MB   5.1MB/s 1:34:14 ETA"
       ]
      },
      {
       "output_type": "stream",
       "stream": "stdout",
       "text": [
        "\r",
        "1.141.A.step1.genomecoverage.txt                9% 2886MB   5.3MB/s 1:30:55 ETA"
       ]
      },
      {
       "output_type": "stream",
       "stream": "stdout",
       "text": [
        "\r",
        "1.141.A.step1.genomecoverage.txt                9% 2893MB   5.4MB/s 1:28:49 ETA"
       ]
      },
      {
       "output_type": "stream",
       "stream": "stdout",
       "text": [
        "\r",
        "1.141.A.step1.genomecoverage.txt                9% 2898MB   5.4MB/s 1:29:44 ETA"
       ]
      },
      {
       "output_type": "stream",
       "stream": "stdout",
       "text": [
        "\r",
        "1.141.A.step1.genomecoverage.txt                9% 2903MB   5.3MB/s 1:30:11 ETA"
       ]
      },
      {
       "output_type": "stream",
       "stream": "stdout",
       "text": [
        "\r",
        "1.141.A.step1.genomecoverage.txt                9% 2908MB   5.3MB/s 1:30:30 ETA"
       ]
      },
      {
       "output_type": "stream",
       "stream": "stdout",
       "text": [
        "\r",
        "1.141.A.step1.genomecoverage.txt                9% 2913MB   5.3MB/s 1:30:47 ETA"
       ]
      },
      {
       "output_type": "stream",
       "stream": "stdout",
       "text": [
        "\r",
        "1.141.A.step1.genomecoverage.txt                9% 2918MB   5.3MB/s 1:31:00 ETA"
       ]
      },
      {
       "output_type": "stream",
       "stream": "stdout",
       "text": [
        "\r",
        "1.141.A.step1.genomecoverage.txt                9% 2923MB   5.2MB/s 1:31:24 ETA"
       ]
      },
      {
       "output_type": "stream",
       "stream": "stdout",
       "text": [
        "\r",
        "1.141.A.step1.genomecoverage.txt                9% 2928MB   5.2MB/s 1:33:04 ETA"
       ]
      },
      {
       "output_type": "stream",
       "stream": "stdout",
       "text": [
        "\r",
        "1.141.A.step1.genomecoverage.txt                9% 2933MB   5.1MB/s 1:33:10 ETA"
       ]
      },
      {
       "output_type": "stream",
       "stream": "stdout",
       "text": [
        "\r",
        "1.141.A.step1.genomecoverage.txt                9% 2938MB   5.1MB/s 1:33:15 ETA"
       ]
      },
      {
       "output_type": "stream",
       "stream": "stdout",
       "text": [
        "\r",
        "1.141.A.step1.genomecoverage.txt                9% 2943MB   5.2MB/s 1:32:41 ETA"
       ]
      },
      {
       "output_type": "stream",
       "stream": "stdout",
       "text": [
        "\r",
        "1.141.A.step1.genomecoverage.txt                9% 2948MB   5.1MB/s 1:33:58 ETA"
       ]
      },
      {
       "output_type": "stream",
       "stream": "stdout",
       "text": [
        "\r",
        "1.141.A.step1.genomecoverage.txt                9% 2953MB   5.1MB/s 1:34:13 ETA"
       ]
      },
      {
       "output_type": "stream",
       "stream": "stdout",
       "text": [
        "\r",
        "1.141.A.step1.genomecoverage.txt                9% 2958MB   5.1MB/s 1:34:12 ETA"
       ]
      },
      {
       "output_type": "stream",
       "stream": "stdout",
       "text": [
        "\r",
        "1.141.A.step1.genomecoverage.txt                9% 2962MB   5.0MB/s 1:34:57 ETA"
       ]
      },
      {
       "output_type": "stream",
       "stream": "stdout",
       "text": [
        "\r",
        "1.141.A.step1.genomecoverage.txt                9% 2967MB   5.0MB/s 1:35:36 ETA"
       ]
      },
      {
       "output_type": "stream",
       "stream": "stdout",
       "text": [
        "\r",
        "1.141.A.step1.genomecoverage.txt                9% 2972MB   5.0MB/s 1:35:29 ETA"
       ]
      },
      {
       "output_type": "stream",
       "stream": "stdout",
       "text": [
        "\r",
        "1.141.A.step1.genomecoverage.txt                9% 2977MB   5.0MB/s 1:35:49 ETA"
       ]
      },
      {
       "output_type": "stream",
       "stream": "stdout",
       "text": [
        "\r",
        "1.141.A.step1.genomecoverage.txt                9% 2981MB   4.9MB/s 1:37:42 ETA"
       ]
      },
      {
       "output_type": "stream",
       "stream": "stdout",
       "text": [
        "\r",
        "1.141.A.step1.genomecoverage.txt                9% 2985MB   4.9MB/s 1:38:37 ETA"
       ]
      },
      {
       "output_type": "stream",
       "stream": "stdout",
       "text": [
        "\r",
        "1.141.A.step1.genomecoverage.txt                9% 2990MB   4.8MB/s 1:39:38 ETA"
       ]
      },
      {
       "output_type": "stream",
       "stream": "stdout",
       "text": [
        "\r",
        "1.141.A.step1.genomecoverage.txt                9% 2994MB   4.7MB/s 1:41:10 ETA"
       ]
      },
      {
       "output_type": "stream",
       "stream": "stdout",
       "text": [
        "\r",
        "1.141.A.step1.genomecoverage.txt                9% 2996MB   4.5MB/s 1:46:05 ETA"
       ]
      },
      {
       "output_type": "stream",
       "stream": "stdout",
       "text": [
        "\r",
        "1.141.A.step1.genomecoverage.txt                9% 2999MB   4.3MB/s 1:50:35 ETA"
       ]
      },
      {
       "output_type": "stream",
       "stream": "stdout",
       "text": [
        "\r",
        "1.141.A.step1.genomecoverage.txt                9% 3002MB   4.2MB/s 1:54:47 ETA"
       ]
      },
      {
       "output_type": "stream",
       "stream": "stdout",
       "text": [
        "\r",
        "1.141.A.step1.genomecoverage.txt                9% 3004MB   4.0MB/s 1:59:02 ETA"
       ]
      },
      {
       "output_type": "stream",
       "stream": "stdout",
       "text": [
        "\r",
        "1.141.A.step1.genomecoverage.txt                9% 3007MB   3.9MB/s 2:02:42 ETA"
       ]
      },
      {
       "output_type": "stream",
       "stream": "stdout",
       "text": [
        "\r",
        "1.141.A.step1.genomecoverage.txt                9% 3010MB   3.8MB/s 2:06:18 ETA"
       ]
      },
      {
       "output_type": "stream",
       "stream": "stdout",
       "text": [
        "\r",
        "1.141.A.step1.genomecoverage.txt                9% 3014MB   3.8MB/s 2:06:46 ETA"
       ]
      },
      {
       "output_type": "stream",
       "stream": "stdout",
       "text": [
        "\r",
        "1.141.A.step1.genomecoverage.txt                9% 3018MB   3.9MB/s 2:03:43 ETA"
       ]
      },
      {
       "output_type": "stream",
       "stream": "stdout",
       "text": [
        "\r",
        "1.141.A.step1.genomecoverage.txt                9% 3024MB   4.0MB/s 1:58:20 ETA"
       ]
      },
      {
       "output_type": "stream",
       "stream": "stdout",
       "text": [
        "\r",
        "1.141.A.step1.genomecoverage.txt                9% 3029MB   4.1MB/s 1:55:23 ETA"
       ]
      },
      {
       "output_type": "stream",
       "stream": "stdout",
       "text": [
        "\r",
        "1.141.A.step1.genomecoverage.txt                9% 3035MB   4.3MB/s 1:51:11 ETA"
       ]
      },
      {
       "output_type": "stream",
       "stream": "stdout",
       "text": [
        "\r",
        "1.141.A.step1.genomecoverage.txt                9% 3039MB   4.3MB/s 1:50:48 ETA"
       ]
      },
      {
       "output_type": "stream",
       "stream": "stdout",
       "text": [
        "\r",
        "1.141.A.step1.genomecoverage.txt                9% 3042MB   4.2MB/s 1:54:52 ETA"
       ]
      },
      {
       "output_type": "stream",
       "stream": "stdout",
       "text": [
        "\r",
        "1.141.A.step1.genomecoverage.txt                9% 3045MB   4.0MB/s 1:58:22 ETA"
       ]
      },
      {
       "output_type": "stream",
       "stream": "stdout",
       "text": [
        "\r",
        "1.141.A.step1.genomecoverage.txt                9% 3048MB   3.9MB/s 2:02:26 ETA"
       ]
      },
      {
       "output_type": "stream",
       "stream": "stdout",
       "text": [
        "\r",
        "1.141.A.step1.genomecoverage.txt                9% 3051MB   3.8MB/s 2:04:54 ETA"
       ]
      },
      {
       "output_type": "stream",
       "stream": "stdout",
       "text": [
        "\r",
        "1.141.A.step1.genomecoverage.txt                9% 3054MB   3.8MB/s 2:06:59 ETA"
       ]
      },
      {
       "output_type": "stream",
       "stream": "stdout",
       "text": [
        "\r",
        "1.141.A.step1.genomecoverage.txt                9% 3057MB   3.7MB/s 2:08:23 ETA"
       ]
      },
      {
       "output_type": "stream",
       "stream": "stdout",
       "text": [
        "\r",
        "1.141.A.step1.genomecoverage.txt                9% 3061MB   3.7MB/s 2:09:36 ETA"
       ]
      },
      {
       "output_type": "stream",
       "stream": "stdout",
       "text": [
        "\r",
        "1.141.A.step1.genomecoverage.txt                9% 3064MB   3.7MB/s 2:10:07 ETA"
       ]
      },
      {
       "output_type": "stream",
       "stream": "stdout",
       "text": [
        "\r",
        "1.141.A.step1.genomecoverage.txt                9% 3068MB   3.6MB/s 2:10:55 ETA"
       ]
      },
      {
       "output_type": "stream",
       "stream": "stdout",
       "text": [
        "\r",
        "1.141.A.step1.genomecoverage.txt                9% 3071MB   3.6MB/s 2:11:24 ETA"
       ]
      },
      {
       "output_type": "stream",
       "stream": "stdout",
       "text": [
        "\r",
        "1.141.A.step1.genomecoverage.txt                9% 3075MB   3.6MB/s 2:10:57 ETA"
       ]
      },
      {
       "output_type": "stream",
       "stream": "stdout",
       "text": [
        "\r",
        "1.141.A.step1.genomecoverage.txt                9% 3079MB   3.7MB/s 2:09:59 ETA"
       ]
      },
      {
       "output_type": "stream",
       "stream": "stdout",
       "text": [
        "\r",
        "1.141.A.step1.genomecoverage.txt                9% 3083MB   3.7MB/s 2:08:57 ETA"
       ]
      },
      {
       "output_type": "stream",
       "stream": "stdout",
       "text": [
        "\r",
        "1.141.A.step1.genomecoverage.txt                9% 3087MB   3.7MB/s 2:07:43 ETA"
       ]
      },
      {
       "output_type": "stream",
       "stream": "stdout",
       "text": [
        "\r",
        "1.141.A.step1.genomecoverage.txt                9% 3091MB   3.8MB/s 2:06:41 ETA"
       ]
      },
      {
       "output_type": "stream",
       "stream": "stdout",
       "text": [
        "\r",
        "1.141.A.step1.genomecoverage.txt                9% 3095MB   3.8MB/s 2:04:19 ETA"
       ]
      },
      {
       "output_type": "stream",
       "stream": "stdout",
       "text": [
        "\r",
        "1.141.A.step1.genomecoverage.txt                9% 3100MB   3.9MB/s 2:01:26 ETA"
       ]
      },
      {
       "output_type": "stream",
       "stream": "stdout",
       "text": [
        "\r",
        "1.141.A.step1.genomecoverage.txt                9% 3104MB   4.0MB/s 1:59:34 ETA"
       ]
      },
      {
       "output_type": "stream",
       "stream": "stdout",
       "text": [
        "\r",
        "1.141.A.step1.genomecoverage.txt                9% 3108MB   4.0MB/s 2:00:12 ETA"
       ]
      },
      {
       "output_type": "stream",
       "stream": "stdout",
       "text": [
        "\r",
        "1.141.A.step1.genomecoverage.txt                9% 3111MB   3.8MB/s 2:03:59 ETA"
       ]
      },
      {
       "output_type": "stream",
       "stream": "stdout",
       "text": [
        "\r",
        "1.141.A.step1.genomecoverage.txt                9% 3113MB   3.7MB/s 2:09:49 ETA"
       ]
      },
      {
       "output_type": "stream",
       "stream": "stdout",
       "text": [
        "\r",
        "1.141.A.step1.genomecoverage.txt                9% 3115MB   3.5MB/s 2:16:18 ETA"
       ]
      },
      {
       "output_type": "stream",
       "stream": "stdout",
       "text": [
        "\r",
        "1.141.A.step1.genomecoverage.txt                9% 3117MB   3.3MB/s 2:22:27 ETA"
       ]
      },
      {
       "output_type": "stream",
       "stream": "stdout",
       "text": [
        "\r",
        "1.141.A.step1.genomecoverage.txt                9% 3119MB   3.2MB/s 2:27:36 ETA"
       ]
      },
      {
       "output_type": "stream",
       "stream": "stdout",
       "text": [
        "\r",
        "1.141.A.step1.genomecoverage.txt                9% 3121MB   3.1MB/s 2:32:34 ETA"
       ]
      },
      {
       "output_type": "stream",
       "stream": "stdout",
       "text": [
        "\r",
        "1.141.A.step1.genomecoverage.txt                9% 3124MB   3.1MB/s 2:36:07 ETA"
       ]
      },
      {
       "output_type": "stream",
       "stream": "stdout",
       "text": [
        "\r",
        "1.141.A.step1.genomecoverage.txt                9% 3126MB   3.0MB/s 2:38:18 ETA"
       ]
      },
      {
       "output_type": "stream",
       "stream": "stdout",
       "text": [
        "\r",
        "1.141.A.step1.genomecoverage.txt                9% 3130MB   3.1MB/s 2:35:29 ETA"
       ]
      },
      {
       "output_type": "stream",
       "stream": "stdout",
       "text": [
        "\r",
        "1.141.A.step1.genomecoverage.txt                9% 3135MB   3.2MB/s 2:27:24 ETA"
       ]
      },
      {
       "output_type": "stream",
       "stream": "stdout",
       "text": [
        "\r",
        "1.141.A.step1.genomecoverage.txt                9% 3140MB   3.4MB/s 2:19:26 ETA"
       ]
      },
      {
       "output_type": "stream",
       "stream": "stdout",
       "text": [
        "\r",
        "1.141.A.step1.genomecoverage.txt                9% 3145MB   3.6MB/s 2:12:03 ETA"
       ]
      },
      {
       "output_type": "stream",
       "stream": "stdout",
       "text": [
        "\r",
        "1.141.A.step1.genomecoverage.txt                9% 3151MB   3.8MB/s 2:05:06 ETA"
       ]
      },
      {
       "output_type": "stream",
       "stream": "stdout",
       "text": [
        "\r",
        "1.141.A.step1.genomecoverage.txt                9% 3156MB   4.0MB/s 1:58:42 ETA"
       ]
      },
      {
       "output_type": "stream",
       "stream": "stdout",
       "text": [
        "\r",
        "1.141.A.step1.genomecoverage.txt                9% 3162MB   4.2MB/s 1:53:40 ETA"
       ]
      },
      {
       "output_type": "stream",
       "stream": "stdout",
       "text": [
        "\r",
        "1.141.A.step1.genomecoverage.txt                9% 3167MB   4.3MB/s 1:51:33 ETA"
       ]
      },
      {
       "output_type": "stream",
       "stream": "stdout",
       "text": [
        "\r",
        "1.141.A.step1.genomecoverage.txt               10% 3171MB   4.2MB/s 1:52:48 ETA"
       ]
      },
      {
       "output_type": "stream",
       "stream": "stdout",
       "text": [
        "\r",
        "1.141.A.step1.genomecoverage.txt               10% 3174MB   4.1MB/s 1:55:44 ETA"
       ]
      },
      {
       "output_type": "stream",
       "stream": "stdout",
       "text": [
        "\r",
        "1.141.A.step1.genomecoverage.txt               10% 3177MB   4.0MB/s 1:58:16 ETA"
       ]
      },
      {
       "output_type": "stream",
       "stream": "stdout",
       "text": [
        "\r",
        "1.141.A.step1.genomecoverage.txt               10% 3181MB   3.9MB/s 2:00:25 ETA"
       ]
      },
      {
       "output_type": "stream",
       "stream": "stdout",
       "text": [
        "\r",
        "1.141.A.step1.genomecoverage.txt               10% 3183MB   3.8MB/s 2:04:22 ETA"
       ]
      },
      {
       "output_type": "stream",
       "stream": "stdout",
       "text": [
        "\r",
        "1.141.A.step1.genomecoverage.txt               10% 3186MB   3.7MB/s 2:06:58 ETA"
       ]
      },
      {
       "output_type": "stream",
       "stream": "stdout",
       "text": [
        "\r",
        "1.141.A.step1.genomecoverage.txt               10% 3190MB   3.7MB/s 2:08:09 ETA"
       ]
      },
      {
       "output_type": "stream",
       "stream": "stdout",
       "text": [
        "\r",
        "1.141.A.step1.genomecoverage.txt               10% 3193MB   3.7MB/s 2:09:17 ETA"
       ]
      },
      {
       "output_type": "stream",
       "stream": "stdout",
       "text": [
        "\r",
        "1.141.A.step1.genomecoverage.txt               10% 3197MB   3.7MB/s 2:09:53 ETA"
       ]
      },
      {
       "output_type": "stream",
       "stream": "stdout",
       "text": [
        "\r",
        "1.141.A.step1.genomecoverage.txt               10% 3200MB   3.6MB/s 2:10:31 ETA"
       ]
      },
      {
       "output_type": "stream",
       "stream": "stdout",
       "text": [
        "\r",
        "1.141.A.step1.genomecoverage.txt               10% 3204MB   3.7MB/s 2:09:43 ETA"
       ]
      },
      {
       "output_type": "stream",
       "stream": "stdout",
       "text": [
        "\r",
        "1.141.A.step1.genomecoverage.txt               10% 3208MB   3.7MB/s 2:07:31 ETA"
       ]
      },
      {
       "output_type": "stream",
       "stream": "stdout",
       "text": [
        "\r",
        "1.141.A.step1.genomecoverage.txt               10% 3213MB   3.8MB/s 2:04:28 ETA"
       ]
      },
      {
       "output_type": "stream",
       "stream": "stdout",
       "text": [
        "\r",
        "1.141.A.step1.genomecoverage.txt               10% 3217MB   3.9MB/s 2:01:48 ETA"
       ]
      },
      {
       "output_type": "stream",
       "stream": "stdout",
       "text": [
        "\r",
        "1.141.A.step1.genomecoverage.txt               10% 3222MB   4.0MB/s 1:59:07 ETA"
       ]
      },
      {
       "output_type": "stream",
       "stream": "stdout",
       "text": [
        "\r",
        "1.141.A.step1.genomecoverage.txt               10% 3226MB   4.0MB/s 1:58:57 ETA"
       ]
      },
      {
       "output_type": "stream",
       "stream": "stdout",
       "text": [
        "\r",
        "1.141.A.step1.genomecoverage.txt               10% 3230MB   4.0MB/s 1:58:14 ETA"
       ]
      },
      {
       "output_type": "stream",
       "stream": "stdout",
       "text": [
        "\r",
        "1.141.A.step1.genomecoverage.txt               10% 3235MB   4.1MB/s 1:57:01 ETA"
       ]
      },
      {
       "output_type": "stream",
       "stream": "stdout",
       "text": [
        "\r",
        "1.141.A.step1.genomecoverage.txt               10% 3239MB   4.1MB/s 1:56:02 ETA"
       ]
      },
      {
       "output_type": "stream",
       "stream": "stdout",
       "text": [
        "\r",
        "1.141.A.step1.genomecoverage.txt               10% 3244MB   4.1MB/s 1:54:56 ETA"
       ]
      },
      {
       "output_type": "stream",
       "stream": "stdout",
       "text": [
        "\r",
        "1.141.A.step1.genomecoverage.txt               10% 3249MB   4.2MB/s 1:53:09 ETA"
       ]
      },
      {
       "output_type": "stream",
       "stream": "stdout",
       "text": [
        "\r",
        "1.141.A.step1.genomecoverage.txt               10% 3254MB   4.3MB/s 1:50:44 ETA"
       ]
      },
      {
       "output_type": "stream",
       "stream": "stdout",
       "text": [
        "\r",
        "1.141.A.step1.genomecoverage.txt               10% 3258MB   4.3MB/s 1:49:30 ETA"
       ]
      },
      {
       "output_type": "stream",
       "stream": "stdout",
       "text": [
        "\r",
        "1.141.A.step1.genomecoverage.txt               10% 3263MB   4.4MB/s 1:48:30 ETA"
       ]
      },
      {
       "output_type": "stream",
       "stream": "stdout",
       "text": [
        "\r",
        "1.141.A.step1.genomecoverage.txt               10% 3268MB   4.5MB/s 1:46:26 ETA"
       ]
      },
      {
       "output_type": "stream",
       "stream": "stdout",
       "text": [
        "\r",
        "1.141.A.step1.genomecoverage.txt               10% 3274MB   4.5MB/s 1:44:32 ETA"
       ]
      },
      {
       "output_type": "stream",
       "stream": "stdout",
       "text": [
        "\r",
        "1.141.A.step1.genomecoverage.txt               10% 3279MB   4.6MB/s 1:43:11 ETA"
       ]
      },
      {
       "output_type": "stream",
       "stream": "stdout",
       "text": [
        "\r",
        "1.141.A.step1.genomecoverage.txt               10% 3284MB   4.7MB/s 1:41:33 ETA"
       ]
      },
      {
       "output_type": "stream",
       "stream": "stdout",
       "text": [
        "\r",
        "1.141.A.step1.genomecoverage.txt               10% 3289MB   4.7MB/s 1:40:16 ETA"
       ]
      },
      {
       "output_type": "stream",
       "stream": "stdout",
       "text": [
        "\r",
        "1.141.A.step1.genomecoverage.txt               10% 3294MB   4.8MB/s 1:39:16 ETA"
       ]
      },
      {
       "output_type": "stream",
       "stream": "stdout",
       "text": [
        "\r",
        "1.141.A.step1.genomecoverage.txt               10% 3300MB   4.9MB/s 1:37:12 ETA"
       ]
      },
      {
       "output_type": "stream",
       "stream": "stdout",
       "text": [
        "\r",
        "1.141.A.step1.genomecoverage.txt               10% 3307MB   5.1MB/s 1:32:43 ETA"
       ]
      },
      {
       "output_type": "stream",
       "stream": "stdout",
       "text": [
        "\r",
        "1.141.A.step1.genomecoverage.txt               10% 3316MB   5.4MB/s 1:26:51 ETA"
       ]
      },
      {
       "output_type": "stream",
       "stream": "stdout",
       "text": [
        "\r",
        "1.141.A.step1.genomecoverage.txt               10% 3323MB   5.7MB/s 1:23:33 ETA"
       ]
      },
      {
       "output_type": "stream",
       "stream": "stdout",
       "text": [
        "\r",
        "1.141.A.step1.genomecoverage.txt               10% 3331MB   5.9MB/s 1:20:39 ETA"
       ]
      },
      {
       "output_type": "stream",
       "stream": "stdout",
       "text": [
        "\r",
        "1.141.A.step1.genomecoverage.txt               10% 3337MB   5.9MB/s 1:20:12 ETA"
       ]
      },
      {
       "output_type": "stream",
       "stream": "stdout",
       "text": [
        "\r",
        "1.141.A.step1.genomecoverage.txt               10% 3344MB   5.9MB/s 1:19:36 ETA"
       ]
      },
      {
       "output_type": "stream",
       "stream": "stdout",
       "text": [
        "\r",
        "1.141.A.step1.genomecoverage.txt               10% 3351MB   6.1MB/s 1:17:57 ETA"
       ]
      },
      {
       "output_type": "stream",
       "stream": "stdout",
       "text": [
        "\r",
        "1.141.A.step1.genomecoverage.txt               10% 3358MB   6.1MB/s 1:17:03 ETA"
       ]
      },
      {
       "output_type": "stream",
       "stream": "stdout",
       "text": [
        "\r",
        "1.141.A.step1.genomecoverage.txt               10% 3361MB   5.9MB/s 1:20:22 ETA"
       ]
      },
      {
       "output_type": "stream",
       "stream": "stdout",
       "text": [
        "\r",
        "1.141.A.step1.genomecoverage.txt               10% 3364MB   5.6MB/s 1:24:05 ETA"
       ]
      },
      {
       "output_type": "stream",
       "stream": "stdout",
       "text": [
        "\r",
        "1.141.A.step1.genomecoverage.txt               10% 3366MB   5.3MB/s 1:29:46 ETA"
       ]
      },
      {
       "output_type": "stream",
       "stream": "stdout",
       "text": [
        "\r",
        "1.141.A.step1.genomecoverage.txt               10% 3369MB   5.0MB/s 1:35:16 ETA"
       ]
      },
      {
       "output_type": "stream",
       "stream": "stdout",
       "text": [
        "\r",
        "1.141.A.step1.genomecoverage.txt               10% 3371MB   4.7MB/s 1:41:30 ETA"
       ]
      },
      {
       "output_type": "stream",
       "stream": "stdout",
       "text": [
        "\r",
        "1.141.A.step1.genomecoverage.txt               10% 3373MB   4.4MB/s 1:47:07 ETA"
       ]
      },
      {
       "output_type": "stream",
       "stream": "stdout",
       "text": [
        "\r",
        "1.141.A.step1.genomecoverage.txt               10% 3375MB   4.2MB/s 1:52:55 ETA"
       ]
      },
      {
       "output_type": "stream",
       "stream": "stdout",
       "text": [
        "\r",
        "1.141.A.step1.genomecoverage.txt               10% 3377MB   4.0MB/s 1:58:25 ETA"
       ]
      },
      {
       "output_type": "stream",
       "stream": "stdout",
       "text": [
        "\r",
        "1.141.A.step1.genomecoverage.txt               10% 3379MB   3.8MB/s 2:03:57 ETA"
       ]
      },
      {
       "output_type": "stream",
       "stream": "stdout",
       "text": [
        "\r",
        "1.141.A.step1.genomecoverage.txt               10% 3382MB   3.7MB/s 2:08:50 ETA"
       ]
      },
      {
       "output_type": "stream",
       "stream": "stdout",
       "text": [
        "\r",
        "1.141.A.step1.genomecoverage.txt               10% 3384MB   3.6MB/s 2:12:10 ETA"
       ]
      },
      {
       "output_type": "stream",
       "stream": "stdout",
       "text": [
        "\r",
        "1.141.A.step1.genomecoverage.txt               10% 3388MB   3.6MB/s 2:11:35 ETA"
       ]
      },
      {
       "output_type": "stream",
       "stream": "stdout",
       "text": [
        "\r",
        "1.141.A.step1.genomecoverage.txt               10% 3393MB   3.7MB/s 2:06:53 ETA"
       ]
      },
      {
       "output_type": "stream",
       "stream": "stdout",
       "text": [
        "\r",
        "1.141.A.step1.genomecoverage.txt               10% 3399MB   3.9MB/s 2:01:02 ETA"
       ]
      },
      {
       "output_type": "stream",
       "stream": "stdout",
       "text": [
        "\r",
        "1.141.A.step1.genomecoverage.txt               10% 3403MB   4.0MB/s 1:59:13 ETA"
       ]
      },
      {
       "output_type": "stream",
       "stream": "stdout",
       "text": [
        "\r",
        "1.141.A.step1.genomecoverage.txt               10% 3408MB   4.0MB/s 1:57:39 ETA"
       ]
      },
      {
       "output_type": "stream",
       "stream": "stdout",
       "text": [
        "\r",
        "1.141.A.step1.genomecoverage.txt               10% 3412MB   4.1MB/s 1:55:29 ETA"
       ]
      },
      {
       "output_type": "stream",
       "stream": "stdout",
       "text": [
        "\r",
        "1.141.A.step1.genomecoverage.txt               10% 3417MB   4.1MB/s 1:53:49 ETA"
       ]
      },
      {
       "output_type": "stream",
       "stream": "stdout",
       "text": [
        "\r",
        "1.141.A.step1.genomecoverage.txt               10% 3420MB   4.1MB/s 1:55:53 ETA"
       ]
      },
      {
       "output_type": "stream",
       "stream": "stdout",
       "text": [
        "\r",
        "1.141.A.step1.genomecoverage.txt               10% 3424MB   4.0MB/s 1:56:52 ETA"
       ]
      },
      {
       "output_type": "stream",
       "stream": "stdout",
       "text": [
        "\r",
        "1.141.A.step1.genomecoverage.txt               10% 3428MB   4.0MB/s 1:57:32 ETA"
       ]
      },
      {
       "output_type": "stream",
       "stream": "stdout",
       "text": [
        "\r",
        "1.141.A.step1.genomecoverage.txt               10% 3432MB   4.0MB/s 1:58:05 ETA"
       ]
      },
      {
       "output_type": "stream",
       "stream": "stdout",
       "text": [
        "\r",
        "1.141.A.step1.genomecoverage.txt               10% 3436MB   4.0MB/s 1:58:29 ETA"
       ]
      },
      {
       "output_type": "stream",
       "stream": "stdout",
       "text": [
        "\r",
        "1.141.A.step1.genomecoverage.txt               10% 3439MB   4.0MB/s 1:58:35 ETA"
       ]
      },
      {
       "output_type": "stream",
       "stream": "stdout",
       "text": [
        "\r",
        "1.141.A.step1.genomecoverage.txt               10% 3444MB   4.0MB/s 1:57:05 ETA"
       ]
      },
      {
       "output_type": "stream",
       "stream": "stdout",
       "text": [
        "\r",
        "1.141.A.step1.genomecoverage.txt               10% 3449MB   4.1MB/s 1:53:37 ETA"
       ]
      },
      {
       "output_type": "stream",
       "stream": "stdout",
       "text": [
        "\r",
        "1.141.A.step1.genomecoverage.txt               10% 3455MB   4.3MB/s 1:49:47 ETA"
       ]
      },
      {
       "output_type": "stream",
       "stream": "stdout",
       "text": [
        "\r",
        "1.141.A.step1.genomecoverage.txt               10% 3459MB   4.3MB/s 1:50:18 ETA"
       ]
      },
      {
       "output_type": "stream",
       "stream": "stdout",
       "text": [
        "\r",
        "1.141.A.step1.genomecoverage.txt               10% 3462MB   4.1MB/s 1:53:40 ETA"
       ]
      },
      {
       "output_type": "stream",
       "stream": "stdout",
       "text": [
        "\r",
        "1.141.A.step1.genomecoverage.txt               10% 3465MB   4.0MB/s 1:56:24 ETA"
       ]
      },
      {
       "output_type": "stream",
       "stream": "stdout",
       "text": [
        "\r",
        "1.141.A.step1.genomecoverage.txt               10% 3468MB   4.0MB/s 1:58:32 ETA"
       ]
      },
      {
       "output_type": "stream",
       "stream": "stdout",
       "text": [
        "\r",
        "1.141.A.step1.genomecoverage.txt               10% 3471MB   3.9MB/s 2:02:07 ETA"
       ]
      },
      {
       "output_type": "stream",
       "stream": "stdout",
       "text": [
        "\r",
        "1.141.A.step1.genomecoverage.txt               10% 3474MB   3.8MB/s 2:05:29 ETA"
       ]
      },
      {
       "output_type": "stream",
       "stream": "stdout",
       "text": [
        "\r",
        "1.141.A.step1.genomecoverage.txt               10% 3477MB   3.7MB/s 2:07:12 ETA"
       ]
      },
      {
       "output_type": "stream",
       "stream": "stdout",
       "text": [
        "\r",
        "1.141.A.step1.genomecoverage.txt               10% 3480MB   3.7MB/s 2:08:38 ETA"
       ]
      },
      {
       "output_type": "stream",
       "stream": "stdout",
       "text": [
        "\r",
        "1.141.A.step1.genomecoverage.txt               10% 3484MB   3.6MB/s 2:10:10 ETA"
       ]
      },
      {
       "output_type": "stream",
       "stream": "stdout",
       "text": [
        "\r",
        "1.141.A.step1.genomecoverage.txt               11% 3486MB   3.5MB/s 2:13:12 ETA"
       ]
      },
      {
       "output_type": "stream",
       "stream": "stdout",
       "text": [
        "\r",
        "1.141.A.step1.genomecoverage.txt               11% 3489MB   3.4MB/s 2:16:34 ETA"
       ]
      },
      {
       "output_type": "stream",
       "stream": "stdout",
       "text": [
        "\r",
        "1.141.A.step1.genomecoverage.txt               11% 3492MB   3.3MB/s 2:20:47 ETA"
       ]
      },
      {
       "output_type": "stream",
       "stream": "stdout",
       "text": [
        "\r",
        "1.141.A.step1.genomecoverage.txt               11% 3494MB   3.3MB/s 2:24:24 ETA"
       ]
      },
      {
       "output_type": "stream",
       "stream": "stdout",
       "text": [
        "\r",
        "1.141.A.step1.genomecoverage.txt               11% 3497MB   3.2MB/s 2:27:05 ETA"
       ]
      },
      {
       "output_type": "stream",
       "stream": "stdout",
       "text": [
        "\r",
        "1.141.A.step1.genomecoverage.txt               11% 3499MB   3.2MB/s 2:29:17 ETA"
       ]
      },
      {
       "output_type": "stream",
       "stream": "stdout",
       "text": [
        "\r",
        "1.141.A.step1.genomecoverage.txt               11% 3502MB   3.1MB/s 2:33:01 ETA"
       ]
      },
      {
       "output_type": "stream",
       "stream": "stdout",
       "text": [
        "\r",
        "1.141.A.step1.genomecoverage.txt               11% 3504MB   3.0MB/s 2:38:12 ETA"
       ]
      },
      {
       "output_type": "stream",
       "stream": "stdout",
       "text": [
        "\r",
        "1.141.A.step1.genomecoverage.txt               11% 3506MB   2.9MB/s 2:42:27 ETA"
       ]
      },
      {
       "output_type": "stream",
       "stream": "stdout",
       "text": [
        "\r",
        "1.141.A.step1.genomecoverage.txt               11% 3508MB   2.8MB/s 2:46:24 ETA"
       ]
      },
      {
       "output_type": "stream",
       "stream": "stdout",
       "text": [
        "\r",
        "1.141.A.step1.genomecoverage.txt               11% 3511MB   2.8MB/s 2:48:58 ETA"
       ]
      },
      {
       "output_type": "stream",
       "stream": "stdout",
       "text": [
        "\r",
        "1.141.A.step1.genomecoverage.txt               11% 3513MB   2.8MB/s 2:50:34 ETA"
       ]
      },
      {
       "output_type": "stream",
       "stream": "stdout",
       "text": [
        "\r",
        "1.141.A.step1.genomecoverage.txt               11% 3516MB   2.8MB/s 2:50:39 ETA"
       ]
      },
      {
       "output_type": "stream",
       "stream": "stdout",
       "text": [
        "\r",
        "1.141.A.step1.genomecoverage.txt               11% 3519MB   2.8MB/s 2:45:55 ETA"
       ]
      },
      {
       "output_type": "stream",
       "stream": "stdout",
       "text": [
        "\r",
        "1.141.A.step1.genomecoverage.txt               11% 3523MB   2.9MB/s 2:39:28 ETA"
       ]
      },
      {
       "output_type": "stream",
       "stream": "stdout",
       "text": [
        "\r",
        "1.141.A.step1.genomecoverage.txt               11% 3527MB   3.0MB/s 2:35:21 ETA"
       ]
      },
      {
       "output_type": "stream",
       "stream": "stdout",
       "text": [
        "\r",
        "1.141.A.step1.genomecoverage.txt               11% 3531MB   3.1MB/s 2:30:36 ETA"
       ]
      },
      {
       "output_type": "stream",
       "stream": "stdout",
       "text": [
        "\r",
        "1.141.A.step1.genomecoverage.txt               11% 3534MB   3.1MB/s 2:30:45 ETA"
       ]
      },
      {
       "output_type": "stream",
       "stream": "stdout",
       "text": [
        "\r",
        "1.141.A.step1.genomecoverage.txt               11% 3537MB   3.1MB/s 2:30:49 ETA"
       ]
      },
      {
       "output_type": "stream",
       "stream": "stdout",
       "text": [
        "\r",
        "1.141.A.step1.genomecoverage.txt               11% 3541MB   3.1MB/s 2:29:54 ETA"
       ]
      },
      {
       "output_type": "stream",
       "stream": "stdout",
       "text": [
        "\r",
        "1.141.A.step1.genomecoverage.txt               11% 3544MB   3.2MB/s 2:28:43 ETA"
       ]
      },
      {
       "output_type": "stream",
       "stream": "stdout",
       "text": [
        "\r",
        "1.141.A.step1.genomecoverage.txt               11% 3547MB   3.2MB/s 2:29:03 ETA"
       ]
      },
      {
       "output_type": "stream",
       "stream": "stdout",
       "text": [
        "\r",
        "1.141.A.step1.genomecoverage.txt               11% 3549MB   3.0MB/s 2:34:59 ETA"
       ]
      },
      {
       "output_type": "stream",
       "stream": "stdout",
       "text": [
        "\r",
        "1.141.A.step1.genomecoverage.txt               11% 3551MB   3.0MB/s 2:38:28 ETA"
       ]
      },
      {
       "output_type": "stream",
       "stream": "stdout",
       "text": [
        "\r",
        "1.141.A.step1.genomecoverage.txt               11% 3554MB   2.9MB/s 2:42:20 ETA"
       ]
      },
      {
       "output_type": "stream",
       "stream": "stdout",
       "text": [
        "\r",
        "1.141.A.step1.genomecoverage.txt               11% 3556MB   2.8MB/s 2:45:26 ETA"
       ]
      },
      {
       "output_type": "stream",
       "stream": "stdout",
       "text": [
        "\r",
        "1.141.A.step1.genomecoverage.txt               11% 3558MB   2.8MB/s 2:47:29 ETA"
       ]
      },
      {
       "output_type": "stream",
       "stream": "stdout",
       "text": [
        "\r",
        "1.141.A.step1.genomecoverage.txt               11% 3561MB   2.8MB/s 2:48:42 ETA"
       ]
      },
      {
       "output_type": "stream",
       "stream": "stdout",
       "text": [
        "\r",
        "1.141.A.step1.genomecoverage.txt               11% 3564MB   2.8MB/s 2:49:08 ETA"
       ]
      },
      {
       "output_type": "stream",
       "stream": "stdout",
       "text": [
        "\r",
        "1.141.A.step1.genomecoverage.txt               11% 3566MB   2.8MB/s 2:48:46 ETA"
       ]
      },
      {
       "output_type": "stream",
       "stream": "stdout",
       "text": [
        "\r",
        "1.141.A.step1.genomecoverage.txt               11% 3569MB   2.8MB/s 2:47:29 ETA"
       ]
      },
      {
       "output_type": "stream",
       "stream": "stdout",
       "text": [
        "\r",
        "1.141.A.step1.genomecoverage.txt               11% 3573MB   2.9MB/s 2:44:37 ETA"
       ]
      },
      {
       "output_type": "stream",
       "stream": "stdout",
       "text": [
        "\r",
        "1.141.A.step1.genomecoverage.txt               11% 3576MB   2.9MB/s 2:42:12 ETA"
       ]
      },
      {
       "output_type": "stream",
       "stream": "stdout",
       "text": [
        "\r",
        "1.141.A.step1.genomecoverage.txt               11% 3579MB   2.9MB/s 2:40:10 ETA"
       ]
      },
      {
       "output_type": "stream",
       "stream": "stdout",
       "text": [
        "\r",
        "1.141.A.step1.genomecoverage.txt               11% 3582MB   2.9MB/s 2:41:33 ETA"
       ]
      },
      {
       "output_type": "stream",
       "stream": "stdout",
       "text": [
        "\r",
        "1.141.A.step1.genomecoverage.txt               11% 3585MB   2.9MB/s 2:42:17 ETA"
       ]
      },
      {
       "output_type": "stream",
       "stream": "stdout",
       "text": [
        "\r",
        "1.141.A.step1.genomecoverage.txt               11% 3587MB   2.8MB/s 2:45:16 ETA"
       ]
      },
      {
       "output_type": "stream",
       "stream": "stdout",
       "text": [
        "\r",
        "1.141.A.step1.genomecoverage.txt               11% 3589MB   2.7MB/s 2:51:09 ETA"
       ]
      },
      {
       "output_type": "stream",
       "stream": "stdout",
       "text": [
        "\r",
        "1.141.A.step1.genomecoverage.txt               11% 3590MB   2.6MB/s 2:58:42 ETA"
       ]
      },
      {
       "output_type": "stream",
       "stream": "stdout",
       "text": [
        "\r",
        "1.141.A.step1.genomecoverage.txt               11% 3592MB   2.5MB/s 3:10:13 ETA"
       ]
      },
      {
       "output_type": "stream",
       "stream": "stdout",
       "text": [
        "\r",
        "1.141.A.step1.genomecoverage.txt               11% 3593MB   2.3MB/s 3:21:08 ETA"
       ]
      },
      {
       "output_type": "stream",
       "stream": "stdout",
       "text": [
        "\r",
        "1.141.A.step1.genomecoverage.txt               11% 3594MB   2.2MB/s 3:31:47 ETA"
       ]
      },
      {
       "output_type": "stream",
       "stream": "stdout",
       "text": [
        "\r",
        "1.141.A.step1.genomecoverage.txt               11% 3595MB   2.2MB/s 3:37:41 ETA"
       ]
      },
      {
       "output_type": "stream",
       "stream": "stdout",
       "text": [
        "\r",
        "1.141.A.step1.genomecoverage.txt               11% 3597MB   2.1MB/s 3:43:07 ETA"
       ]
      },
      {
       "output_type": "stream",
       "stream": "stdout",
       "text": [
        "\r",
        "1.141.A.step1.genomecoverage.txt               11% 3599MB   2.1MB/s 3:45:50 ETA"
       ]
      },
      {
       "output_type": "stream",
       "stream": "stdout",
       "text": [
        "\r",
        "1.141.A.step1.genomecoverage.txt               11% 3602MB   2.1MB/s 3:39:08 ETA"
       ]
      },
      {
       "output_type": "stream",
       "stream": "stdout",
       "text": [
        "\r",
        "1.141.A.step1.genomecoverage.txt               11% 3606MB   2.4MB/s 3:18:18 ETA"
       ]
      },
      {
       "output_type": "stream",
       "stream": "stdout",
       "text": [
        "\r",
        "1.141.A.step1.genomecoverage.txt               11% 3612MB   2.8MB/s 2:50:11 ETA"
       ]
      },
      {
       "output_type": "stream",
       "stream": "stdout",
       "text": [
        "\r",
        "1.141.A.step1.genomecoverage.txt               11% 3618MB   3.1MB/s 2:33:10 ETA"
       ]
      },
      {
       "output_type": "stream",
       "stream": "stdout",
       "text": [
        "\r",
        "1.141.A.step1.genomecoverage.txt               11% 3623MB   3.3MB/s 2:23:24 ETA"
       ]
      },
      {
       "output_type": "stream",
       "stream": "stdout",
       "text": [
        "\r",
        "1.141.A.step1.genomecoverage.txt               11% 3628MB   3.5MB/s 2:15:37 ETA"
       ]
      },
      {
       "output_type": "stream",
       "stream": "stdout",
       "text": [
        "\r",
        "1.141.A.step1.genomecoverage.txt               11% 3633MB   3.5MB/s 2:12:03 ETA"
       ]
      },
      {
       "output_type": "stream",
       "stream": "stdout",
       "text": [
        "\r",
        "1.141.A.step1.genomecoverage.txt               11% 3637MB   3.6MB/s 2:08:35 ETA"
       ]
      },
      {
       "output_type": "stream",
       "stream": "stdout",
       "text": [
        "\r",
        "1.141.A.step1.genomecoverage.txt               11% 3642MB   3.8MB/s 2:04:16 ETA"
       ]
      },
      {
       "output_type": "stream",
       "stream": "stdout",
       "text": [
        "\r",
        "1.141.A.step1.genomecoverage.txt               11% 3646MB   3.8MB/s 2:03:43 ETA"
       ]
      },
      {
       "output_type": "stream",
       "stream": "stdout",
       "text": [
        "\r",
        "1.141.A.step1.genomecoverage.txt               11% 3650MB   3.8MB/s 2:03:23 ETA"
       ]
      },
      {
       "output_type": "stream",
       "stream": "stdout",
       "text": [
        "\r",
        "1.141.A.step1.genomecoverage.txt               11% 3652MB   3.7MB/s 2:07:55 ETA"
       ]
      },
      {
       "output_type": "stream",
       "stream": "stdout",
       "text": [
        "\r",
        "1.141.A.step1.genomecoverage.txt               11% 3655MB   3.6MB/s 2:11:30 ETA"
       ]
      },
      {
       "output_type": "stream",
       "stream": "stdout",
       "text": [
        "\r",
        "1.141.A.step1.genomecoverage.txt               11% 3657MB   3.5MB/s 2:15:08 ETA"
       ]
      },
      {
       "output_type": "stream",
       "stream": "stdout",
       "text": [
        "\r",
        "1.141.A.step1.genomecoverage.txt               11% 3660MB   3.3MB/s 2:19:56 ETA"
       ]
      },
      {
       "output_type": "stream",
       "stream": "stdout",
       "text": [
        "\r",
        "1.141.A.step1.genomecoverage.txt               11% 3662MB   3.3MB/s 2:23:31 ETA"
       ]
      },
      {
       "output_type": "stream",
       "stream": "stdout",
       "text": [
        "\r",
        "1.141.A.step1.genomecoverage.txt               11% 3665MB   3.2MB/s 2:26:11 ETA"
       ]
      },
      {
       "output_type": "stream",
       "stream": "stdout",
       "text": [
        "\r",
        "1.141.A.step1.genomecoverage.txt               11% 3668MB   3.1MB/s 2:28:41 ETA"
       ]
      },
      {
       "output_type": "stream",
       "stream": "stdout",
       "text": [
        "\r",
        "1.141.A.step1.genomecoverage.txt               11% 3670MB   3.1MB/s 2:31:18 ETA"
       ]
      },
      {
       "output_type": "stream",
       "stream": "stdout",
       "text": [
        "\r",
        "1.141.A.step1.genomecoverage.txt               11% 3673MB   3.1MB/s 2:33:15 ETA"
       ]
      },
      {
       "output_type": "stream",
       "stream": "stdout",
       "text": [
        "\r",
        "1.141.A.step1.genomecoverage.txt               11% 3675MB   3.0MB/s 2:35:13 ETA"
       ]
      },
      {
       "output_type": "stream",
       "stream": "stdout",
       "text": [
        "\r",
        "1.141.A.step1.genomecoverage.txt               11% 3679MB   3.1MB/s 2:31:55 ETA"
       ]
      },
      {
       "output_type": "stream",
       "stream": "stdout",
       "text": [
        "\r",
        "1.141.A.step1.genomecoverage.txt               11% 3684MB   3.2MB/s 2:24:52 ETA"
       ]
      },
      {
       "output_type": "stream",
       "stream": "stdout",
       "text": [
        "\r",
        "1.141.A.step1.genomecoverage.txt               11% 3690MB   3.5MB/s 2:12:51 ETA"
       ]
      },
      {
       "output_type": "stream",
       "stream": "stdout",
       "text": [
        "\r",
        "1.141.A.step1.genomecoverage.txt               11% 3698MB   4.0MB/s 1:57:26 ETA"
       ]
      },
      {
       "output_type": "stream",
       "stream": "stdout",
       "text": [
        "\r",
        "1.141.A.step1.genomecoverage.txt               11% 3707MB   4.5MB/s 1:43:56 ETA"
       ]
      },
      {
       "output_type": "stream",
       "stream": "stdout",
       "text": [
        "\r",
        "1.141.A.step1.genomecoverage.txt               11% 3716MB   4.9MB/s 1:34:20 ETA"
       ]
      },
      {
       "output_type": "stream",
       "stream": "stdout",
       "text": [
        "\r",
        "1.141.A.step1.genomecoverage.txt               11% 3724MB   5.2MB/s 1:29:30 ETA"
       ]
      },
      {
       "output_type": "stream",
       "stream": "stdout",
       "text": [
        "\r",
        "1.141.A.step1.genomecoverage.txt               11% 3729MB   5.2MB/s 1:29:12 ETA"
       ]
      },
      {
       "output_type": "stream",
       "stream": "stdout",
       "text": [
        "\r",
        "1.141.A.step1.genomecoverage.txt               11% 3735MB   5.3MB/s 1:28:06 ETA"
       ]
      },
      {
       "output_type": "stream",
       "stream": "stdout",
       "text": [
        "\r",
        "1.141.A.step1.genomecoverage.txt               11% 3742MB   5.4MB/s 1:25:30 ETA"
       ]
      },
      {
       "output_type": "stream",
       "stream": "stdout",
       "text": [
        "\r",
        "1.141.A.step1.genomecoverage.txt               11% 3748MB   5.5MB/s 1:25:02 ETA"
       ]
      },
      {
       "output_type": "stream",
       "stream": "stdout",
       "text": [
        "\r",
        "1.141.A.step1.genomecoverage.txt               11% 3752MB   5.2MB/s 1:30:08 ETA"
       ]
      },
      {
       "output_type": "stream",
       "stream": "stdout",
       "text": [
        "\r",
        "1.141.A.step1.genomecoverage.txt               11% 3756MB   5.0MB/s 1:33:09 ETA"
       ]
      },
      {
       "output_type": "stream",
       "stream": "stdout",
       "text": [
        "\r",
        "1.141.A.step1.genomecoverage.txt               11% 3759MB   4.9MB/s 1:35:49 ETA"
       ]
      },
      {
       "output_type": "stream",
       "stream": "stdout",
       "text": [
        "\r",
        "1.141.A.step1.genomecoverage.txt               11% 3763MB   4.8MB/s 1:37:59 ETA"
       ]
      },
      {
       "output_type": "stream",
       "stream": "stdout",
       "text": [
        "\r",
        "1.141.A.step1.genomecoverage.txt               11% 3767MB   4.6MB/s 1:40:45 ETA"
       ]
      },
      {
       "output_type": "stream",
       "stream": "stdout",
       "text": [
        "\r",
        "1.141.A.step1.genomecoverage.txt               11% 3770MB   4.5MB/s 1:42:29 ETA"
       ]
      },
      {
       "output_type": "stream",
       "stream": "stdout",
       "text": [
        "\r",
        "1.141.A.step1.genomecoverage.txt               11% 3774MB   4.5MB/s 1:44:10 ETA"
       ]
      },
      {
       "output_type": "stream",
       "stream": "stdout",
       "text": [
        "\r",
        "1.141.A.step1.genomecoverage.txt               11% 3779MB   4.5MB/s 1:44:24 ETA"
       ]
      },
      {
       "output_type": "stream",
       "stream": "stdout",
       "text": [
        "\r",
        "1.141.A.step1.genomecoverage.txt               11% 3784MB   4.5MB/s 1:42:28 ETA"
       ]
      },
      {
       "output_type": "stream",
       "stream": "stdout",
       "text": [
        "\r",
        "1.141.A.step1.genomecoverage.txt               11% 3789MB   4.6MB/s 1:40:56 ETA"
       ]
      },
      {
       "output_type": "stream",
       "stream": "stdout",
       "text": [
        "\r",
        "1.141.A.step1.genomecoverage.txt               11% 3794MB   4.7MB/s 1:39:39 ETA"
       ]
      },
      {
       "output_type": "stream",
       "stream": "stdout",
       "text": [
        "\r",
        "1.141.A.step1.genomecoverage.txt               11% 3799MB   4.7MB/s 1:39:09 ETA"
       ]
      },
      {
       "output_type": "stream",
       "stream": "stdout",
       "text": [
        "\r",
        "1.141.A.step1.genomecoverage.txt               12% 3803MB   4.6MB/s 1:41:51 ETA"
       ]
      },
      {
       "output_type": "stream",
       "stream": "stdout",
       "text": [
        "\r",
        "1.141.A.step1.genomecoverage.txt               12% 3806MB   4.5MB/s 1:43:50 ETA"
       ]
      },
      {
       "output_type": "stream",
       "stream": "stdout",
       "text": [
        "\r",
        "1.141.A.step1.genomecoverage.txt               12% 3810MB   4.4MB/s 1:45:58 ETA"
       ]
      },
      {
       "output_type": "stream",
       "stream": "stdout",
       "text": [
        "\r",
        "1.141.A.step1.genomecoverage.txt               12% 3812MB   4.2MB/s 1:51:06 ETA"
       ]
      },
      {
       "output_type": "stream",
       "stream": "stdout",
       "text": [
        "\r",
        "1.141.A.step1.genomecoverage.txt               12% 3815MB   4.0MB/s 1:55:50 ETA"
       ]
      },
      {
       "output_type": "stream",
       "stream": "stdout",
       "text": [
        "\r",
        "1.141.A.step1.genomecoverage.txt               12% 3817MB   3.9MB/s 2:00:24 ETA"
       ]
      },
      {
       "output_type": "stream",
       "stream": "stdout",
       "text": [
        "\r",
        "1.141.A.step1.genomecoverage.txt               12% 3820MB   3.7MB/s 2:04:31 ETA"
       ]
      },
      {
       "output_type": "stream",
       "stream": "stdout",
       "text": [
        "\r",
        "1.141.A.step1.genomecoverage.txt               12% 3822MB   3.6MB/s 2:08:11 ETA"
       ]
      },
      {
       "output_type": "stream",
       "stream": "stdout",
       "text": [
        "\r",
        "1.141.A.step1.genomecoverage.txt               12% 3825MB   3.5MB/s 2:11:13 ETA"
       ]
      },
      {
       "output_type": "stream",
       "stream": "stdout",
       "text": [
        "\r",
        "1.141.A.step1.genomecoverage.txt               12% 3828MB   3.5MB/s 2:11:55 ETA"
       ]
      },
      {
       "output_type": "stream",
       "stream": "stdout",
       "text": [
        "\r",
        "1.141.A.step1.genomecoverage.txt               12% 3833MB   3.6MB/s 2:08:06 ETA"
       ]
      },
      {
       "output_type": "stream",
       "stream": "stdout",
       "text": [
        "\r",
        "1.141.A.step1.genomecoverage.txt               12% 3839MB   3.9MB/s 2:00:32 ETA"
       ]
      },
      {
       "output_type": "stream",
       "stream": "stdout",
       "text": [
        "\r",
        "1.141.A.step1.genomecoverage.txt               12% 3847MB   4.3MB/s 1:48:58 ETA"
       ]
      },
      {
       "output_type": "stream",
       "stream": "stdout",
       "text": [
        "\r",
        "1.141.A.step1.genomecoverage.txt               12% 3855MB   4.7MB/s 1:39:33 ETA"
       ]
      },
      {
       "output_type": "stream",
       "stream": "stdout",
       "text": [
        "\r",
        "1.141.A.step1.genomecoverage.txt               12% 3862MB   4.9MB/s 1:35:06 ETA"
       ]
      },
      {
       "output_type": "stream",
       "stream": "stdout",
       "text": [
        "\r",
        "1.141.A.step1.genomecoverage.txt               12% 3868MB   5.0MB/s 1:32:45 ETA"
       ]
      },
      {
       "output_type": "stream",
       "stream": "stdout",
       "text": [
        "\r",
        "1.141.A.step1.genomecoverage.txt               12% 3873MB   5.0MB/s 1:33:07 ETA"
       ]
      },
      {
       "output_type": "stream",
       "stream": "stdout",
       "text": [
        "\r",
        "1.141.A.step1.genomecoverage.txt               12% 3878MB   5.0MB/s 1:32:56 ETA"
       ]
      },
      {
       "output_type": "stream",
       "stream": "stdout",
       "text": [
        "\r",
        "1.141.A.step1.genomecoverage.txt               12% 3883MB   5.0MB/s 1:33:09 ETA"
       ]
      },
      {
       "output_type": "stream",
       "stream": "stdout",
       "text": [
        "\r",
        "1.141.A.step1.genomecoverage.txt               12% 3888MB   5.0MB/s 1:33:03 ETA"
       ]
      },
      {
       "output_type": "stream",
       "stream": "stdout",
       "text": [
        "\r",
        "1.141.A.step1.genomecoverage.txt               12% 3893MB   5.0MB/s 1:32:56 ETA"
       ]
      },
      {
       "output_type": "stream",
       "stream": "stdout",
       "text": [
        "\r",
        "1.141.A.step1.genomecoverage.txt               12% 3898MB   5.0MB/s 1:32:50 ETA"
       ]
      },
      {
       "output_type": "stream",
       "stream": "stdout",
       "text": [
        "\r",
        "1.141.A.step1.genomecoverage.txt               12% 3903MB   5.0MB/s 1:32:40 ETA"
       ]
      },
      {
       "output_type": "stream",
       "stream": "stdout",
       "text": [
        "\r",
        "1.141.A.step1.genomecoverage.txt               12% 3909MB   5.1MB/s 1:31:21 ETA"
       ]
      },
      {
       "output_type": "stream",
       "stream": "stdout",
       "text": [
        "\r",
        "1.141.A.step1.genomecoverage.txt               12% 3916MB   5.3MB/s 1:27:30 ETA"
       ]
      },
      {
       "output_type": "stream",
       "stream": "stdout",
       "text": [
        "\r",
        "1.141.A.step1.genomecoverage.txt               12% 3925MB   5.6MB/s 1:22:18 ETA"
       ]
      },
      {
       "output_type": "stream",
       "stream": "stdout",
       "text": [
        "\r",
        "1.141.A.step1.genomecoverage.txt               12% 3932MB   5.8MB/s 1:19:22 ETA"
       ]
      },
      {
       "output_type": "stream",
       "stream": "stdout",
       "text": [
        "\r",
        "1.141.A.step1.genomecoverage.txt               12% 3938MB   5.8MB/s 1:19:28 ETA"
       ]
      },
      {
       "output_type": "stream",
       "stream": "stdout",
       "text": [
        "\r",
        "1.141.A.step1.genomecoverage.txt               12% 3943MB   5.7MB/s 1:20:30 ETA"
       ]
      },
      {
       "output_type": "stream",
       "stream": "stdout",
       "text": [
        "\r",
        "1.141.A.step1.genomecoverage.txt               12% 3948MB   5.7MB/s 1:21:36 ETA"
       ]
      },
      {
       "output_type": "stream",
       "stream": "stdout",
       "text": [
        "\r",
        "1.141.A.step1.genomecoverage.txt               12% 3953MB   5.6MB/s 1:22:17 ETA"
       ]
      },
      {
       "output_type": "stream",
       "stream": "stdout",
       "text": [
        "\r",
        "1.141.A.step1.genomecoverage.txt               12% 3958MB   5.6MB/s 1:23:01 ETA"
       ]
      },
      {
       "output_type": "stream",
       "stream": "stdout",
       "text": [
        "\r",
        "1.141.A.step1.genomecoverage.txt               12% 3963MB   5.5MB/s 1:23:38 ETA"
       ]
      },
      {
       "output_type": "stream",
       "stream": "stdout",
       "text": [
        "\r",
        "1.141.A.step1.genomecoverage.txt               12% 3968MB   5.5MB/s 1:24:29 ETA"
       ]
      },
      {
       "output_type": "stream",
       "stream": "stdout",
       "text": [
        "\r",
        "1.141.A.step1.genomecoverage.txt               12% 3973MB   5.4MB/s 1:25:54 ETA"
       ]
      },
      {
       "output_type": "stream",
       "stream": "stdout",
       "text": [
        "\r",
        "1.141.A.step1.genomecoverage.txt               12% 3978MB   5.3MB/s 1:26:23 ETA"
       ]
      },
      {
       "output_type": "stream",
       "stream": "stdout",
       "text": [
        "\r",
        "1.141.A.step1.genomecoverage.txt               12% 3983MB   5.3MB/s 1:26:34 ETA"
       ]
      },
      {
       "output_type": "stream",
       "stream": "stdout",
       "text": [
        "\r",
        "1.141.A.step1.genomecoverage.txt               12% 3988MB   5.3MB/s 1:26:52 ETA"
       ]
      },
      {
       "output_type": "stream",
       "stream": "stdout",
       "text": [
        "\r",
        "1.141.A.step1.genomecoverage.txt               12% 3994MB   5.3MB/s 1:26:46 ETA"
       ]
      },
      {
       "output_type": "stream",
       "stream": "stdout",
       "text": [
        "\r",
        "1.141.A.step1.genomecoverage.txt               12% 3999MB   5.3MB/s 1:26:24 ETA"
       ]
      },
      {
       "output_type": "stream",
       "stream": "stdout",
       "text": [
        "\r",
        "1.141.A.step1.genomecoverage.txt               12% 4005MB   5.3MB/s 1:26:21 ETA"
       ]
      },
      {
       "output_type": "stream",
       "stream": "stdout",
       "text": [
        "\r",
        "1.141.A.step1.genomecoverage.txt               12% 4010MB   5.4MB/s 1:26:08 ETA"
       ]
      },
      {
       "output_type": "stream",
       "stream": "stdout",
       "text": [
        "\r",
        "1.141.A.step1.genomecoverage.txt               12% 4017MB   5.5MB/s 1:23:42 ETA"
       ]
      },
      {
       "output_type": "stream",
       "stream": "stdout",
       "text": [
        "\r",
        "1.141.A.step1.genomecoverage.txt               12% 4024MB   5.7MB/s 1:21:18 ETA"
       ]
      },
      {
       "output_type": "stream",
       "stream": "stdout",
       "text": [
        "\r",
        "1.141.A.step1.genomecoverage.txt               12% 4029MB   5.6MB/s 1:22:11 ETA"
       ]
      },
      {
       "output_type": "stream",
       "stream": "stdout",
       "text": [
        "\r",
        "1.141.A.step1.genomecoverage.txt               12% 4035MB   5.6MB/s 1:22:01 ETA"
       ]
      },
      {
       "output_type": "stream",
       "stream": "stdout",
       "text": [
        "\r",
        "1.141.A.step1.genomecoverage.txt               12% 4042MB   5.7MB/s 1:20:20 ETA"
       ]
      },
      {
       "output_type": "stream",
       "stream": "stdout",
       "text": [
        "\r",
        "1.141.A.step1.genomecoverage.txt               12% 4049MB   5.9MB/s 1:18:31 ETA"
       ]
      },
      {
       "output_type": "stream",
       "stream": "stdout",
       "text": [
        "\r",
        "1.141.A.step1.genomecoverage.txt               12% 4053MB   5.8MB/s 1:19:52 ETA"
       ]
      },
      {
       "output_type": "stream",
       "stream": "stdout",
       "text": [
        "\r",
        "1.141.A.step1.genomecoverage.txt               12% 4058MB   5.7MB/s 1:20:56 ETA"
       ]
      },
      {
       "output_type": "stream",
       "stream": "stdout",
       "text": [
        "\r",
        "1.141.A.step1.genomecoverage.txt               12% 4063MB   5.6MB/s 1:22:04 ETA"
       ]
      },
      {
       "output_type": "stream",
       "stream": "stdout",
       "text": [
        "\r",
        "1.141.A.step1.genomecoverage.txt               12% 4069MB   5.6MB/s 1:22:41 ETA"
       ]
      },
      {
       "output_type": "stream",
       "stream": "stdout",
       "text": [
        "\r",
        "1.141.A.step1.genomecoverage.txt               12% 4074MB   5.5MB/s 1:23:36 ETA"
       ]
      },
      {
       "output_type": "stream",
       "stream": "stdout",
       "text": [
        "\r",
        "1.141.A.step1.genomecoverage.txt               12% 4077MB   5.3MB/s 1:26:58 ETA"
       ]
      },
      {
       "output_type": "stream",
       "stream": "stdout",
       "text": [
        "\r",
        "1.141.A.step1.genomecoverage.txt               12% 4081MB   5.1MB/s 1:29:36 ETA"
       ]
      },
      {
       "output_type": "stream",
       "stream": "stdout",
       "text": [
        "\r",
        "1.141.A.step1.genomecoverage.txt               12% 4084MB   5.0MB/s 1:31:55 ETA"
       ]
      },
      {
       "output_type": "stream",
       "stream": "stdout",
       "text": [
        "\r",
        "1.141.A.step1.genomecoverage.txt               12% 4088MB   4.9MB/s 1:34:11 ETA"
       ]
      },
      {
       "output_type": "stream",
       "stream": "stdout",
       "text": [
        "\r",
        "1.141.A.step1.genomecoverage.txt               12% 4092MB   4.8MB/s 1:36:09 ETA"
       ]
      },
      {
       "output_type": "stream",
       "stream": "stdout",
       "text": [
        "\r",
        "1.141.A.step1.genomecoverage.txt               12% 4096MB   4.7MB/s 1:37:40 ETA"
       ]
      },
      {
       "output_type": "stream",
       "stream": "stdout",
       "text": [
        "\r",
        "1.141.A.step1.genomecoverage.txt               12% 4101MB   4.7MB/s 1:38:11 ETA"
       ]
      },
      {
       "output_type": "stream",
       "stream": "stdout",
       "text": [
        "\r",
        "1.141.A.step1.genomecoverage.txt               12% 4106MB   4.7MB/s 1:37:03 ETA"
       ]
      },
      {
       "output_type": "stream",
       "stream": "stdout",
       "text": [
        "\r",
        "1.141.A.step1.genomecoverage.txt               12% 4112MB   4.9MB/s 1:34:15 ETA"
       ]
      },
      {
       "output_type": "stream",
       "stream": "stdout",
       "text": [
        "\r",
        "1.141.A.step1.genomecoverage.txt               13% 4120MB   5.2MB/s 1:28:23 ETA"
       ]
      },
      {
       "output_type": "stream",
       "stream": "stdout",
       "text": [
        "\r",
        "1.141.A.step1.genomecoverage.txt               13% 4128MB   5.5MB/s 1:24:18 ETA"
       ]
      },
      {
       "output_type": "stream",
       "stream": "stdout",
       "text": [
        "\r",
        "1.141.A.step1.genomecoverage.txt               13% 4136MB   5.7MB/s 1:20:03 ETA"
       ]
      },
      {
       "output_type": "stream",
       "stream": "stdout",
       "text": [
        "\r",
        "1.141.A.step1.genomecoverage.txt               13% 4145MB   6.1MB/s 1:15:21 ETA"
       ]
      },
      {
       "output_type": "stream",
       "stream": "stdout",
       "text": [
        "\r",
        "1.141.A.step1.genomecoverage.txt               13% 4154MB   6.3MB/s 1:12:42 ETA"
       ]
      },
      {
       "output_type": "stream",
       "stream": "stdout",
       "text": [
        "\r",
        "1.141.A.step1.genomecoverage.txt               13% 4159MB   6.2MB/s 1:14:09 ETA"
       ]
      },
      {
       "output_type": "stream",
       "stream": "stdout",
       "text": [
        "\r",
        "1.141.A.step1.genomecoverage.txt               13% 4163MB   6.0MB/s 1:16:00 ETA"
       ]
      },
      {
       "output_type": "stream",
       "stream": "stdout",
       "text": [
        "\r",
        "1.141.A.step1.genomecoverage.txt               13% 4168MB   5.9MB/s 1:17:56 ETA"
       ]
      },
      {
       "output_type": "stream",
       "stream": "stdout",
       "text": [
        "\r",
        "1.141.A.step1.genomecoverage.txt               13% 4173MB   5.8MB/s 1:19:11 ETA"
       ]
      },
      {
       "output_type": "stream",
       "stream": "stdout",
       "text": [
        "\r",
        "1.141.A.step1.genomecoverage.txt               13% 4178MB   5.7MB/s 1:20:13 ETA"
       ]
      },
      {
       "output_type": "stream",
       "stream": "stdout",
       "text": [
        "\r",
        "1.141.A.step1.genomecoverage.txt               13% 4183MB   5.6MB/s 1:21:36 ETA"
       ]
      },
      {
       "output_type": "stream",
       "stream": "stdout",
       "text": [
        "\r",
        "1.141.A.step1.genomecoverage.txt               13% 4186MB   5.4MB/s 1:24:40 ETA"
       ]
      },
      {
       "output_type": "stream",
       "stream": "stdout",
       "text": [
        "\r",
        "1.141.A.step1.genomecoverage.txt               13% 4188MB   5.1MB/s 1:30:15 ETA"
       ]
      },
      {
       "output_type": "stream",
       "stream": "stdout",
       "text": [
        "\r",
        "1.141.A.step1.genomecoverage.txt               13% 4189MB   4.7MB/s 1:37:58 ETA"
       ]
      },
      {
       "output_type": "stream",
       "stream": "stdout",
       "text": [
        "\r",
        "1.141.A.step1.genomecoverage.txt               13% 4190MB   4.3MB/s 1:46:07 ETA"
       ]
      },
      {
       "output_type": "stream",
       "stream": "stdout",
       "text": [
        "\r",
        "1.141.A.step1.genomecoverage.txt               13% 4191MB   4.0MB/s 1:54:38 ETA"
       ]
      },
      {
       "output_type": "stream",
       "stream": "stdout",
       "text": [
        "\r",
        "1.141.A.step1.genomecoverage.txt               13% 4193MB   3.7MB/s 2:02:47 ETA"
       ]
      },
      {
       "output_type": "stream",
       "stream": "stdout",
       "text": [
        "\r",
        "1.141.A.step1.genomecoverage.txt               13% 4194MB   3.5MB/s 2:10:24 ETA"
       ]
      },
      {
       "output_type": "stream",
       "stream": "stdout",
       "text": [
        "\r",
        "1.141.A.step1.genomecoverage.txt               13% 4196MB   3.4MB/s 2:16:04 ETA"
       ]
      },
      {
       "output_type": "stream",
       "stream": "stdout",
       "text": [
        "\r",
        "1.141.A.step1.genomecoverage.txt               13% 4200MB   3.4MB/s 2:16:43 ETA"
       ]
      },
      {
       "output_type": "stream",
       "stream": "stdout",
       "text": [
        "\r",
        "1.141.A.step1.genomecoverage.txt               13% 4205MB   3.5MB/s 2:10:03 ETA"
       ]
      },
      {
       "output_type": "stream",
       "stream": "stdout",
       "text": [
        "\r",
        "1.141.A.step1.genomecoverage.txt               13% 4210MB   3.7MB/s 2:04:47 ETA"
       ]
      },
      {
       "output_type": "stream",
       "stream": "stdout",
       "text": [
        "\r",
        "1.141.A.step1.genomecoverage.txt               13% 4212MB   3.6MB/s 2:08:39 ETA"
       ]
      },
      {
       "output_type": "stream",
       "stream": "stdout",
       "text": [
        "\r",
        "1.141.A.step1.genomecoverage.txt               13% 4214MB   3.4MB/s 2:15:35 ETA"
       ]
      },
      {
       "output_type": "stream",
       "stream": "stdout",
       "text": [
        "\r",
        "1.141.A.step1.genomecoverage.txt               13% 4215MB   3.2MB/s 2:24:20 ETA"
       ]
      },
      {
       "output_type": "stream",
       "stream": "stdout",
       "text": [
        "\r",
        "1.141.A.step1.genomecoverage.txt               13% 4217MB   3.0MB/s 2:33:09 ETA"
       ]
      },
      {
       "output_type": "stream",
       "stream": "stdout",
       "text": [
        "\r",
        "1.141.A.step1.genomecoverage.txt               13% 4218MB   2.8MB/s 2:42:47 ETA"
       ]
      },
      {
       "output_type": "stream",
       "stream": "stdout",
       "text": [
        "\r",
        "1.141.A.step1.genomecoverage.txt               13% 4219MB   2.7MB/s 2:52:21 ETA"
       ]
      },
      {
       "output_type": "stream",
       "stream": "stdout",
       "text": [
        "\r",
        "1.141.A.step1.genomecoverage.txt               13% 4221MB   2.5MB/s 2:59:57 ETA"
       ]
      },
      {
       "output_type": "stream",
       "stream": "stdout",
       "text": [
        "\r",
        "1.141.A.step1.genomecoverage.txt               13% 4222MB   2.5MB/s 3:06:27 ETA"
       ]
      },
      {
       "output_type": "stream",
       "stream": "stdout",
       "text": [
        "\r",
        "1.141.A.step1.genomecoverage.txt               13% 4224MB   2.4MB/s 3:12:34 ETA"
       ]
      },
      {
       "output_type": "stream",
       "stream": "stdout",
       "text": [
        "\r",
        "1.141.A.step1.genomecoverage.txt               13% 4226MB   2.3MB/s 3:17:14 ETA"
       ]
      },
      {
       "output_type": "stream",
       "stream": "stdout",
       "text": [
        "\r",
        "1.141.A.step1.genomecoverage.txt               13% 4228MB   2.3MB/s 3:16:21 ETA"
       ]
      },
      {
       "output_type": "stream",
       "stream": "stdout",
       "text": [
        "\r",
        "1.141.A.step1.genomecoverage.txt               13% 4231MB   2.3MB/s 3:15:42 ETA"
       ]
      },
      {
       "output_type": "stream",
       "stream": "stdout",
       "text": [
        "\r",
        "1.141.A.step1.genomecoverage.txt               13% 4233MB   2.4MB/s 3:13:49 ETA"
       ]
      },
      {
       "output_type": "stream",
       "stream": "stdout",
       "text": [
        "\r",
        "1.141.A.step1.genomecoverage.txt               13% 4236MB   2.4MB/s 3:11:08 ETA"
       ]
      },
      {
       "output_type": "stream",
       "stream": "stdout",
       "text": [
        "\r",
        "1.141.A.step1.genomecoverage.txt               13% 4239MB   2.4MB/s 3:08:55 ETA"
       ]
      },
      {
       "output_type": "stream",
       "stream": "stdout",
       "text": [
        "\r",
        "1.141.A.step1.genomecoverage.txt               13% 4241MB   2.5MB/s 3:06:29 ETA"
       ]
      },
      {
       "output_type": "stream",
       "stream": "stdout",
       "text": [
        "\r",
        "1.141.A.step1.genomecoverage.txt               13% 4244MB   2.5MB/s 3:04:13 ETA"
       ]
      },
      {
       "output_type": "stream",
       "stream": "stdout",
       "text": [
        "\r",
        "1.141.A.step1.genomecoverage.txt               13% 4247MB   2.5MB/s 3:00:39 ETA"
       ]
      },
      {
       "output_type": "stream",
       "stream": "stdout",
       "text": [
        "\r",
        "1.141.A.step1.genomecoverage.txt               13% 4251MB   2.6MB/s 2:52:50 ETA"
       ]
      },
      {
       "output_type": "stream",
       "stream": "stdout",
       "text": [
        "\r",
        "1.141.A.step1.genomecoverage.txt               13% 4254MB   2.7MB/s 2:49:09 ETA"
       ]
      },
      {
       "output_type": "stream",
       "stream": "stdout",
       "text": [
        "\r",
        "1.141.A.step1.genomecoverage.txt               13% 4256MB   2.6MB/s 2:53:51 ETA"
       ]
      },
      {
       "output_type": "stream",
       "stream": "stdout",
       "text": [
        "\r",
        "1.141.A.step1.genomecoverage.txt               13% 4258MB   2.6MB/s 2:57:46 ETA"
       ]
      },
      {
       "output_type": "stream",
       "stream": "stdout",
       "text": [
        "\r",
        "1.141.A.step1.genomecoverage.txt               13% 4260MB   2.5MB/s 3:03:30 ETA"
       ]
      },
      {
       "output_type": "stream",
       "stream": "stdout",
       "text": [
        "\r",
        "1.141.A.step1.genomecoverage.txt               13% 4261MB   2.4MB/s 3:09:22 ETA"
       ]
      },
      {
       "output_type": "stream",
       "stream": "stdout",
       "text": [
        "\r",
        "1.141.A.step1.genomecoverage.txt               13% 4263MB   2.3MB/s 3:18:56 ETA"
       ]
      },
      {
       "output_type": "stream",
       "stream": "stdout",
       "text": [
        "\r",
        "1.141.A.step1.genomecoverage.txt               13% 4264MB   2.2MB/s 3:25:47 ETA"
       ]
      },
      {
       "output_type": "stream",
       "stream": "stdout",
       "text": [
        "\r",
        "1.141.A.step1.genomecoverage.txt               13% 4266MB   2.2MB/s 3:31:17 ETA"
       ]
      },
      {
       "output_type": "stream",
       "stream": "stdout",
       "text": [
        "\r",
        "1.141.A.step1.genomecoverage.txt               13% 4268MB   2.1MB/s 3:35:52 ETA"
       ]
      },
      {
       "output_type": "stream",
       "stream": "stdout",
       "text": [
        "\r",
        "1.141.A.step1.genomecoverage.txt               13% 4269MB   2.1MB/s 3:38:40 ETA"
       ]
      },
      {
       "output_type": "stream",
       "stream": "stdout",
       "text": [
        "\r",
        "1.141.A.step1.genomecoverage.txt               13% 4271MB   2.1MB/s 3:43:16 ETA"
       ]
      },
      {
       "output_type": "stream",
       "stream": "stdout",
       "text": [
        "\r",
        "1.141.A.step1.genomecoverage.txt               13% 4273MB   2.0MB/s 3:46:00 ETA"
       ]
      },
      {
       "output_type": "stream",
       "stream": "stdout",
       "text": [
        "\r",
        "1.141.A.step1.genomecoverage.txt               13% 4275MB   2.0MB/s 3:47:17 ETA"
       ]
      },
      {
       "output_type": "stream",
       "stream": "stdout",
       "text": [
        "\r",
        "1.141.A.step1.genomecoverage.txt               13% 4277MB   2.0MB/s 3:49:09 ETA"
       ]
      },
      {
       "output_type": "stream",
       "stream": "stdout",
       "text": [
        "\r",
        "1.141.A.step1.genomecoverage.txt               13% 4279MB   2.0MB/s 3:49:14 ETA"
       ]
      },
      {
       "output_type": "stream",
       "stream": "stdout",
       "text": [
        "\r",
        "1.141.A.step1.genomecoverage.txt               13% 4280MB   2.0MB/s 3:52:13 ETA"
       ]
      },
      {
       "output_type": "stream",
       "stream": "stdout",
       "text": [
        "\r",
        "1.141.A.step1.genomecoverage.txt               13% 4282MB   1.9MB/s 3:57:05 ETA"
       ]
      },
      {
       "output_type": "stream",
       "stream": "stdout",
       "text": [
        "\r",
        "1.141.A.step1.genomecoverage.txt               13% 4284MB   1.9MB/s 3:59:50 ETA"
       ]
      },
      {
       "output_type": "stream",
       "stream": "stdout",
       "text": [
        "\r",
        "1.141.A.step1.genomecoverage.txt               13% 4285MB   1.9MB/s 4:01:22 ETA"
       ]
      },
      {
       "output_type": "stream",
       "stream": "stdout",
       "text": [
        "\r",
        "1.141.A.step1.genomecoverage.txt               13% 4287MB   1.9MB/s 4:01:34 ETA"
       ]
      },
      {
       "output_type": "stream",
       "stream": "stdout",
       "text": [
        "\r",
        "1.141.A.step1.genomecoverage.txt               13% 4289MB   1.9MB/s 3:59:21 ETA"
       ]
      },
      {
       "output_type": "stream",
       "stream": "stdout",
       "text": [
        "\r",
        "1.141.A.step1.genomecoverage.txt               13% 4292MB   2.0MB/s 3:51:56 ETA"
       ]
      },
      {
       "output_type": "stream",
       "stream": "stdout",
       "text": [
        "\r",
        "1.141.A.step1.genomecoverage.txt               13% 4295MB   2.1MB/s 3:40:01 ETA"
       ]
      },
      {
       "output_type": "stream",
       "stream": "stdout",
       "text": [
        "\r",
        "1.141.A.step1.genomecoverage.txt               13% 4298MB   2.2MB/s 3:29:50 ETA"
       ]
      },
      {
       "output_type": "stream",
       "stream": "stdout",
       "text": [
        "\r",
        "1.141.A.step1.genomecoverage.txt               13% 4302MB   2.3MB/s 3:16:41 ETA"
       ]
      },
      {
       "output_type": "stream",
       "stream": "stdout",
       "text": [
        "\r",
        "1.141.A.step1.genomecoverage.txt               13% 4305MB   2.5MB/s 3:05:14 ETA"
       ]
      },
      {
       "output_type": "stream",
       "stream": "stdout",
       "text": [
        "\r",
        "1.141.A.step1.genomecoverage.txt               13% 4309MB   2.6MB/s 2:55:35 ETA"
       ]
      },
      {
       "output_type": "stream",
       "stream": "stdout",
       "text": [
        "\r",
        "1.141.A.step1.genomecoverage.txt               13% 4312MB   2.6MB/s 2:53:55 ETA"
       ]
      },
      {
       "output_type": "stream",
       "stream": "stdout",
       "text": [
        "\r",
        "1.141.A.step1.genomecoverage.txt               13% 4315MB   2.6MB/s 2:53:35 ETA"
       ]
      },
      {
       "output_type": "stream",
       "stream": "stdout",
       "text": [
        "\r",
        "1.141.A.step1.genomecoverage.txt               13% 4317MB   2.6MB/s 2:53:59 ETA"
       ]
      },
      {
       "output_type": "stream",
       "stream": "stdout",
       "text": [
        "\r",
        "1.141.A.step1.genomecoverage.txt               13% 4320MB   2.6MB/s 2:55:12 ETA"
       ]
      },
      {
       "output_type": "stream",
       "stream": "stdout",
       "text": [
        "\r",
        "1.141.A.step1.genomecoverage.txt               13% 4322MB   2.6MB/s 2:54:49 ETA"
       ]
      },
      {
       "output_type": "stream",
       "stream": "stdout",
       "text": [
        "\r",
        "1.141.A.step1.genomecoverage.txt               13% 4325MB   2.6MB/s 2:54:29 ETA"
       ]
      },
      {
       "output_type": "stream",
       "stream": "stdout",
       "text": [
        "\r",
        "1.141.A.step1.genomecoverage.txt               13% 4328MB   2.6MB/s 2:54:29 ETA"
       ]
      },
      {
       "output_type": "stream",
       "stream": "stdout",
       "text": [
        "\r",
        "1.141.A.step1.genomecoverage.txt               13% 4330MB   2.6MB/s 2:53:27 ETA"
       ]
      },
      {
       "output_type": "stream",
       "stream": "stdout",
       "text": [
        "\r",
        "1.141.A.step1.genomecoverage.txt               13% 4333MB   2.7MB/s 2:52:13 ETA"
       ]
      },
      {
       "output_type": "stream",
       "stream": "stdout",
       "text": [
        "\r",
        "1.141.A.step1.genomecoverage.txt               13% 4336MB   2.7MB/s 2:47:41 ETA"
       ]
      },
      {
       "output_type": "stream",
       "stream": "stdout",
       "text": [
        "\r",
        "1.141.A.step1.genomecoverage.txt               13% 4341MB   2.9MB/s 2:39:29 ETA"
       ]
      },
      {
       "output_type": "stream",
       "stream": "stdout",
       "text": [
        "\r",
        "1.141.A.step1.genomecoverage.txt               13% 4346MB   3.1MB/s 2:27:43 ETA"
       ]
      },
      {
       "output_type": "stream",
       "stream": "stdout",
       "text": [
        "\r",
        "1.141.A.step1.genomecoverage.txt               13% 4353MB   3.5MB/s 2:11:20 ETA"
       ]
      },
      {
       "output_type": "stream",
       "stream": "stdout",
       "text": [
        "\r",
        "1.141.A.step1.genomecoverage.txt               13% 4362MB   4.0MB/s 1:52:58 ETA"
       ]
      },
      {
       "output_type": "stream",
       "stream": "stdout",
       "text": [
        "\r",
        "1.141.A.step1.genomecoverage.txt               13% 4373MB   4.8MB/s 1:35:34 ETA"
       ]
      },
      {
       "output_type": "stream",
       "stream": "stdout",
       "text": [
        "\r",
        "1.141.A.step1.genomecoverage.txt               13% 4384MB   5.3MB/s 1:25:09 ETA"
       ]
      },
      {
       "output_type": "stream",
       "stream": "stdout",
       "text": [
        "\r",
        "1.141.A.step1.genomecoverage.txt               13% 4393MB   5.8MB/s 1:18:53 ETA"
       ]
      },
      {
       "output_type": "stream",
       "stream": "stdout",
       "text": [
        "\r",
        "1.141.A.step1.genomecoverage.txt               13% 4403MB   6.1MB/s 1:14:06 ETA"
       ]
      },
      {
       "output_type": "stream",
       "stream": "stdout",
       "text": [
        "\r",
        "1.141.A.step1.genomecoverage.txt               13% 4411MB   6.3MB/s 1:11:43 ETA"
       ]
      },
      {
       "output_type": "stream",
       "stream": "stdout",
       "text": [
        "\r",
        "1.141.A.step1.genomecoverage.txt               13% 4419MB   6.5MB/s 1:10:11 ETA"
       ]
      },
      {
       "output_type": "stream",
       "stream": "stdout",
       "text": [
        "\r",
        "1.141.A.step1.genomecoverage.txt               13% 4426MB   6.6MB/s 1:08:41 ETA"
       ]
      },
      {
       "output_type": "stream",
       "stream": "stdout",
       "text": [
        "\r",
        "1.141.A.step1.genomecoverage.txt               13% 4435MB   6.8MB/s 1:06:57 ETA"
       ]
      },
      {
       "output_type": "stream",
       "stream": "stdout",
       "text": [
        "\r",
        "1.141.A.step1.genomecoverage.txt               14% 4443MB   7.0MB/s 1:05:20 ETA"
       ]
      },
      {
       "output_type": "stream",
       "stream": "stdout",
       "text": [
        "\r",
        "1.141.A.step1.genomecoverage.txt               14% 4450MB   7.0MB/s 1:05:06 ETA"
       ]
      },
      {
       "output_type": "stream",
       "stream": "stdout",
       "text": [
        "\r",
        "1.141.A.step1.genomecoverage.txt               14% 4458MB   7.0MB/s 1:04:48 ETA"
       ]
      },
      {
       "output_type": "stream",
       "stream": "stdout",
       "text": [
        "\r",
        "1.141.A.step1.genomecoverage.txt               14% 4464MB   7.0MB/s 1:05:02 ETA"
       ]
      },
      {
       "output_type": "stream",
       "stream": "stdout",
       "text": [
        "\r",
        "1.141.A.step1.genomecoverage.txt               14% 4471MB   6.9MB/s 1:05:41 ETA"
       ]
      },
      {
       "output_type": "stream",
       "stream": "stdout",
       "text": [
        "\r",
        "1.141.A.step1.genomecoverage.txt               14% 4478MB   6.9MB/s 1:05:26 ETA"
       ]
      },
      {
       "output_type": "stream",
       "stream": "stdout",
       "text": [
        "\r",
        "1.141.A.step1.genomecoverage.txt               14% 4485MB   7.0MB/s 1:05:05 ETA"
       ]
      },
      {
       "output_type": "stream",
       "stream": "stdout",
       "text": [
        "\r",
        "1.141.A.step1.genomecoverage.txt               14% 4492MB   7.0MB/s 1:04:49 ETA"
       ]
      },
      {
       "output_type": "stream",
       "stream": "stdout",
       "text": [
        "\r",
        "1.141.A.step1.genomecoverage.txt               14% 4499MB   7.0MB/s 1:04:32 ETA"
       ]
      },
      {
       "output_type": "stream",
       "stream": "stdout",
       "text": [
        "\r",
        "1.141.A.step1.genomecoverage.txt               14% 4507MB   7.0MB/s 1:04:24 ETA"
       ]
      },
      {
       "output_type": "stream",
       "stream": "stdout",
       "text": [
        "\r",
        "1.141.A.step1.genomecoverage.txt               14% 4513MB   6.9MB/s 1:05:27 ETA"
       ]
      },
      {
       "output_type": "stream",
       "stream": "stdout",
       "text": [
        "\r",
        "1.141.A.step1.genomecoverage.txt               14% 4517MB   6.7MB/s 1:07:56 ETA"
       ]
      },
      {
       "output_type": "stream",
       "stream": "stdout",
       "text": [
        "\r",
        "1.141.A.step1.genomecoverage.txt               14% 4522MB   6.5MB/s 1:09:47 ETA"
       ]
      },
      {
       "output_type": "stream",
       "stream": "stdout",
       "text": [
        "\r",
        "1.141.A.step1.genomecoverage.txt               14% 4527MB   6.3MB/s 1:11:26 ETA"
       ]
      },
      {
       "output_type": "stream",
       "stream": "stdout",
       "text": [
        "\r",
        "1.141.A.step1.genomecoverage.txt               14% 4531MB   6.1MB/s 1:14:17 ETA"
       ]
      },
      {
       "output_type": "stream",
       "stream": "stdout",
       "text": [
        "\r",
        "1.141.A.step1.genomecoverage.txt               14% 4534MB   5.8MB/s 1:17:30 ETA"
       ]
      },
      {
       "output_type": "stream",
       "stream": "stdout",
       "text": [
        "\r",
        "1.141.A.step1.genomecoverage.txt               14% 4538MB   5.6MB/s 1:20:17 ETA"
       ]
      },
      {
       "output_type": "stream",
       "stream": "stdout",
       "text": [
        "\r",
        "1.141.A.step1.genomecoverage.txt               14% 4542MB   5.4MB/s 1:23:06 ETA"
       ]
      },
      {
       "output_type": "stream",
       "stream": "stdout",
       "text": [
        "\r",
        "1.141.A.step1.genomecoverage.txt               14% 4546MB   5.3MB/s 1:25:37 ETA"
       ]
      },
      {
       "output_type": "stream",
       "stream": "stdout",
       "text": [
        "\r",
        "1.141.A.step1.genomecoverage.txt               14% 4549MB   5.1MB/s 1:27:55 ETA"
       ]
      },
      {
       "output_type": "stream",
       "stream": "stdout",
       "text": [
        "\r",
        "1.141.A.step1.genomecoverage.txt               14% 4554MB   5.0MB/s 1:29:44 ETA"
       ]
      },
      {
       "output_type": "stream",
       "stream": "stdout",
       "text": [
        "\r",
        "1.141.A.step1.genomecoverage.txt               14% 4558MB   5.0MB/s 1:30:18 ETA"
       ]
      },
      {
       "output_type": "stream",
       "stream": "stdout",
       "text": [
        "\r",
        "1.141.A.step1.genomecoverage.txt               14% 4564MB   5.1MB/s 1:28:47 ETA"
       ]
      },
      {
       "output_type": "stream",
       "stream": "stdout",
       "text": [
        "\r",
        "1.141.A.step1.genomecoverage.txt               14% 4571MB   5.3MB/s 1:24:58 ETA"
       ]
      },
      {
       "output_type": "stream",
       "stream": "stdout",
       "text": [
        "\r",
        "1.141.A.step1.genomecoverage.txt               14% 4581MB   5.7MB/s 1:19:03 ETA"
       ]
      },
      {
       "output_type": "stream",
       "stream": "stdout",
       "text": [
        "\r",
        "1.141.A.step1.genomecoverage.txt               14% 4591MB   6.1MB/s 1:13:40 ETA"
       ]
      },
      {
       "output_type": "stream",
       "stream": "stdout",
       "text": [
        "\r",
        "1.141.A.step1.genomecoverage.txt               14% 4599MB   6.3MB/s 1:11:28 ETA"
       ]
      },
      {
       "output_type": "stream",
       "stream": "stdout",
       "text": [
        "\r",
        "1.141.A.step1.genomecoverage.txt               14% 4606MB   6.4MB/s 1:10:15 ETA"
       ]
      },
      {
       "output_type": "stream",
       "stream": "stdout",
       "text": [
        "\r",
        "1.141.A.step1.genomecoverage.txt               14% 4612MB   6.4MB/s 1:10:28 ETA"
       ]
      },
      {
       "output_type": "stream",
       "stream": "stdout",
       "text": [
        "\r",
        "1.141.A.step1.genomecoverage.txt               14% 4619MB   6.5MB/s 1:09:44 ETA"
       ]
      },
      {
       "output_type": "stream",
       "stream": "stdout",
       "text": [
        "\r",
        "1.141.A.step1.genomecoverage.txt               14% 4625MB   6.4MB/s 1:10:52 ETA"
       ]
      },
      {
       "output_type": "stream",
       "stream": "stdout",
       "text": [
        "\r",
        "1.141.A.step1.genomecoverage.txt               14% 4630MB   6.3MB/s 1:12:02 ETA"
       ]
      },
      {
       "output_type": "stream",
       "stream": "stdout",
       "text": [
        "\r",
        "1.141.A.step1.genomecoverage.txt               14% 4635MB   6.1MB/s 1:13:38 ETA"
       ]
      },
      {
       "output_type": "stream",
       "stream": "stdout",
       "text": [
        "\r",
        "1.141.A.step1.genomecoverage.txt               14% 4639MB   6.0MB/s 1:15:33 ETA"
       ]
      },
      {
       "output_type": "stream",
       "stream": "stdout",
       "text": [
        "\r",
        "1.141.A.step1.genomecoverage.txt               14% 4644MB   5.9MB/s 1:16:51 ETA"
       ]
      },
      {
       "output_type": "stream",
       "stream": "stdout",
       "text": [
        "\r",
        "1.141.A.step1.genomecoverage.txt               14% 4649MB   5.8MB/s 1:17:59 ETA"
       ]
      },
      {
       "output_type": "stream",
       "stream": "stdout",
       "text": [
        "\r",
        "1.141.A.step1.genomecoverage.txt               14% 4654MB   5.7MB/s 1:19:01 ETA"
       ]
      },
      {
       "output_type": "stream",
       "stream": "stdout",
       "text": [
        "\r",
        "1.141.A.step1.genomecoverage.txt               14% 4659MB   5.6MB/s 1:20:00 ETA"
       ]
      },
      {
       "output_type": "stream",
       "stream": "stdout",
       "text": [
        "\r",
        "1.141.A.step1.genomecoverage.txt               14% 4664MB   5.6MB/s 1:20:45 ETA"
       ]
      },
      {
       "output_type": "stream",
       "stream": "stdout",
       "text": [
        "\r",
        "1.141.A.step1.genomecoverage.txt               14% 4670MB   5.5MB/s 1:21:21 ETA"
       ]
      },
      {
       "output_type": "stream",
       "stream": "stdout",
       "text": [
        "\r",
        "1.141.A.step1.genomecoverage.txt               14% 4676MB   5.6MB/s 1:20:44 ETA"
       ]
      },
      {
       "output_type": "stream",
       "stream": "stdout",
       "text": [
        "\r",
        "1.141.A.step1.genomecoverage.txt               14% 4683MB   5.8MB/s 1:18:02 ETA"
       ]
      },
      {
       "output_type": "stream",
       "stream": "stdout",
       "text": [
        "\r",
        "1.141.A.step1.genomecoverage.txt               14% 4690MB   5.8MB/s 1:16:57 ETA"
       ]
      },
      {
       "output_type": "stream",
       "stream": "stdout",
       "text": [
        "\r",
        "1.141.A.step1.genomecoverage.txt               14% 4697MB   6.0MB/s 1:14:56 ETA"
       ]
      },
      {
       "output_type": "stream",
       "stream": "stdout",
       "text": [
        "\r",
        "1.141.A.step1.genomecoverage.txt               14% 4705MB   6.2MB/s 1:13:02 ETA"
       ]
      },
      {
       "output_type": "stream",
       "stream": "stdout",
       "text": [
        "\r",
        "1.141.A.step1.genomecoverage.txt               14% 4712MB   6.3MB/s 1:11:14 ETA"
       ]
      },
      {
       "output_type": "stream",
       "stream": "stdout",
       "text": [
        "\r",
        "1.141.A.step1.genomecoverage.txt               14% 4718MB   6.3MB/s 1:11:20 ETA"
       ]
      },
      {
       "output_type": "stream",
       "stream": "stdout",
       "text": [
        "\r",
        "1.141.A.step1.genomecoverage.txt               14% 4726MB   6.4MB/s 1:10:17 ETA"
       ]
      },
      {
       "output_type": "stream",
       "stream": "stdout",
       "text": [
        "\r",
        "1.141.A.step1.genomecoverage.txt               14% 4733MB   6.5MB/s 1:09:27 ETA"
       ]
      },
      {
       "output_type": "stream",
       "stream": "stdout",
       "text": [
        "\r",
        "1.141.A.step1.genomecoverage.txt               14% 4740MB   6.6MB/s 1:08:34 ETA"
       ]
      },
      {
       "output_type": "stream",
       "stream": "stdout",
       "text": [
        "\r",
        "1.141.A.step1.genomecoverage.txt               14% 4747MB   6.6MB/s 1:07:50 ETA"
       ]
      },
      {
       "output_type": "stream",
       "stream": "stdout",
       "text": [
        "\r",
        "1.141.A.step1.genomecoverage.txt               15% 4755MB   6.7MB/s 1:07:11 ETA"
       ]
      },
      {
       "output_type": "stream",
       "stream": "stdout",
       "text": [
        "\r",
        "1.141.A.step1.genomecoverage.txt               15% 4762MB   6.7MB/s 1:06:31 ETA"
       ]
      },
      {
       "output_type": "stream",
       "stream": "stdout",
       "text": [
        "\r",
        "1.141.A.step1.genomecoverage.txt               15% 4769MB   6.8MB/s 1:05:43 ETA"
       ]
      },
      {
       "output_type": "stream",
       "stream": "stdout",
       "text": [
        "\r",
        "1.141.A.step1.genomecoverage.txt               15% 4778MB   7.0MB/s 1:04:23 ETA"
       ]
      },
      {
       "output_type": "stream",
       "stream": "stdout",
       "text": [
        "\r",
        "1.141.A.step1.genomecoverage.txt               15% 4783MB   6.8MB/s 1:05:31 ETA"
       ]
      },
      {
       "output_type": "stream",
       "stream": "stdout",
       "text": [
        "\r",
        "1.141.A.step1.genomecoverage.txt               15% 4787MB   6.5MB/s 1:08:42 ETA"
       ]
      },
      {
       "output_type": "stream",
       "stream": "stdout",
       "text": [
        "\r",
        "1.141.A.step1.genomecoverage.txt               15% 4790MB   6.2MB/s 1:12:45 ETA"
       ]
      },
      {
       "output_type": "stream",
       "stream": "stdout",
       "text": [
        "\r",
        "1.141.A.step1.genomecoverage.txt               15% 4793MB   5.9MB/s 1:16:25 ETA"
       ]
      },
      {
       "output_type": "stream",
       "stream": "stdout",
       "text": [
        "\r",
        "1.141.A.step1.genomecoverage.txt               15% 4797MB   5.6MB/s 1:19:49 ETA"
       ]
      },
      {
       "output_type": "stream",
       "stream": "stdout",
       "text": [
        "\r",
        "1.141.A.step1.genomecoverage.txt               15% 4800MB   5.4MB/s 1:23:28 ETA"
       ]
      },
      {
       "output_type": "stream",
       "stream": "stdout",
       "text": [
        "\r",
        "1.141.A.step1.genomecoverage.txt               15% 4803MB   5.2MB/s 1:26:39 ETA"
       ]
      },
      {
       "output_type": "stream",
       "stream": "stdout",
       "text": [
        "\r",
        "1.141.A.step1.genomecoverage.txt               15% 4807MB   5.0MB/s 1:29:13 ETA"
       ]
      },
      {
       "output_type": "stream",
       "stream": "stdout",
       "text": [
        "\r",
        "1.141.A.step1.genomecoverage.txt               15% 4811MB   4.9MB/s 1:30:56 ETA"
       ]
      },
      {
       "output_type": "stream",
       "stream": "stdout",
       "text": [
        "\r",
        "1.141.A.step1.genomecoverage.txt               15% 4816MB   4.9MB/s 1:30:40 ETA"
       ]
      },
      {
       "output_type": "stream",
       "stream": "stdout",
       "text": [
        "\r",
        "1.141.A.step1.genomecoverage.txt               15% 4822MB   5.1MB/s 1:28:34 ETA"
       ]
      },
      {
       "output_type": "stream",
       "stream": "stdout",
       "text": [
        "\r",
        "1.141.A.step1.genomecoverage.txt               15% 4830MB   5.4MB/s 1:23:22 ETA"
       ]
      },
      {
       "output_type": "stream",
       "stream": "stdout",
       "text": [
        "\r",
        "1.141.A.step1.genomecoverage.txt               15% 4840MB   5.8MB/s 1:16:39 ETA"
       ]
      },
      {
       "output_type": "stream",
       "stream": "stdout",
       "text": [
        "\r",
        "1.141.A.step1.genomecoverage.txt               15% 4848MB   6.1MB/s 1:13:33 ETA"
       ]
      },
      {
       "output_type": "stream",
       "stream": "stdout",
       "text": [
        "\r",
        "1.141.A.step1.genomecoverage.txt               15% 4858MB   6.5MB/s 1:09:12 ETA"
       ]
      },
      {
       "output_type": "stream",
       "stream": "stdout",
       "text": [
        "\r",
        "1.141.A.step1.genomecoverage.txt               15% 4866MB   6.6MB/s 1:07:25 ETA"
       ]
      },
      {
       "output_type": "stream",
       "stream": "stdout",
       "text": [
        "\r",
        "1.141.A.step1.genomecoverage.txt               15% 4872MB   6.5MB/s 1:08:23 ETA"
       ]
      },
      {
       "output_type": "stream",
       "stream": "stdout",
       "text": [
        "\r",
        "1.141.A.step1.genomecoverage.txt               15% 4877MB   6.3MB/s 1:10:41 ETA"
       ]
      },
      {
       "output_type": "stream",
       "stream": "stdout",
       "text": [
        "\r",
        "1.141.A.step1.genomecoverage.txt               15% 4881MB   6.2MB/s 1:12:26 ETA"
       ]
      },
      {
       "output_type": "stream",
       "stream": "stdout",
       "text": [
        "\r",
        "1.141.A.step1.genomecoverage.txt               15% 4886MB   6.0MB/s 1:13:52 ETA"
       ]
      },
      {
       "output_type": "stream",
       "stream": "stdout",
       "text": [
        "\r",
        "1.141.A.step1.genomecoverage.txt               15% 4891MB   5.9MB/s 1:15:06 ETA"
       ]
      },
      {
       "output_type": "stream",
       "stream": "stdout",
       "text": [
        "\r",
        "1.141.A.step1.genomecoverage.txt               15% 4896MB   5.8MB/s 1:16:27 ETA"
       ]
      },
      {
       "output_type": "stream",
       "stream": "stdout",
       "text": [
        "\r",
        "1.141.A.step1.genomecoverage.txt               15% 4901MB   5.8MB/s 1:17:32 ETA"
       ]
      },
      {
       "output_type": "stream",
       "stream": "stdout",
       "text": [
        "\r",
        "1.141.A.step1.genomecoverage.txt               15% 4906MB   5.6MB/s 1:19:12 ETA"
       ]
      },
      {
       "output_type": "stream",
       "stream": "stdout",
       "text": [
        "\r",
        "1.141.A.step1.genomecoverage.txt               15% 4910MB   5.5MB/s 1:21:06 ETA"
       ]
      },
      {
       "output_type": "stream",
       "stream": "stdout",
       "text": [
        "\r",
        "1.141.A.step1.genomecoverage.txt               15% 4914MB   5.4MB/s 1:23:24 ETA"
       ]
      },
      {
       "output_type": "stream",
       "stream": "stdout",
       "text": [
        "\r",
        "1.141.A.step1.genomecoverage.txt               15% 4918MB   5.2MB/s 1:25:48 ETA"
       ]
      },
      {
       "output_type": "stream",
       "stream": "stdout",
       "text": [
        "\r",
        "1.141.A.step1.genomecoverage.txt               15% 4922MB   5.1MB/s 1:27:49 ETA"
       ]
      },
      {
       "output_type": "stream",
       "stream": "stdout",
       "text": [
        "\r",
        "1.141.A.step1.genomecoverage.txt               15% 4926MB   5.0MB/s 1:29:51 ETA"
       ]
      },
      {
       "output_type": "stream",
       "stream": "stdout",
       "text": [
        "\r",
        "1.141.A.step1.genomecoverage.txt               15% 4929MB   4.8MB/s 1:32:59 ETA"
       ]
      },
      {
       "output_type": "stream",
       "stream": "stdout",
       "text": [
        "\r",
        "1.141.A.step1.genomecoverage.txt               15% 4933MB   4.7MB/s 1:35:22 ETA"
       ]
      },
      {
       "output_type": "stream",
       "stream": "stdout",
       "text": [
        "\r",
        "1.141.A.step1.genomecoverage.txt               15% 4936MB   4.5MB/s 1:38:50 ETA"
       ]
      },
      {
       "output_type": "stream",
       "stream": "stdout",
       "text": [
        "\r",
        "1.141.A.step1.genomecoverage.txt               15% 4939MB   4.3MB/s 1:42:36 ETA"
       ]
      },
      {
       "output_type": "stream",
       "stream": "stdout",
       "text": [
        "\r",
        "1.141.A.step1.genomecoverage.txt               15% 4942MB   4.2MB/s 1:45:31 ETA"
       ]
      },
      {
       "output_type": "stream",
       "stream": "stdout",
       "text": [
        "\r",
        "1.141.A.step1.genomecoverage.txt               15% 4944MB   4.1MB/s 1:49:29 ETA"
       ]
      },
      {
       "output_type": "stream",
       "stream": "stdout",
       "text": [
        "\r",
        "1.141.A.step1.genomecoverage.txt               15% 4947MB   3.9MB/s 1:54:17 ETA"
       ]
      },
      {
       "output_type": "stream",
       "stream": "stdout",
       "text": [
        "\r",
        "1.141.A.step1.genomecoverage.txt               15% 4949MB   3.7MB/s 2:00:19 ETA"
       ]
      },
      {
       "output_type": "stream",
       "stream": "stdout",
       "text": [
        "\r",
        "1.141.A.step1.genomecoverage.txt               15% 4951MB   3.5MB/s 2:06:10 ETA"
       ]
      },
      {
       "output_type": "stream",
       "stream": "stdout",
       "text": [
        "\r",
        "1.141.A.step1.genomecoverage.txt               15% 4953MB   3.4MB/s 2:11:01 ETA"
       ]
      },
      {
       "output_type": "stream",
       "stream": "stdout",
       "text": [
        "\r",
        "1.141.A.step1.genomecoverage.txt               15% 4955MB   3.3MB/s 2:15:13 ETA"
       ]
      },
      {
       "output_type": "stream",
       "stream": "stdout",
       "text": [
        "\r",
        "1.141.A.step1.genomecoverage.txt               15% 4958MB   3.2MB/s 2:18:32 ETA"
       ]
      },
      {
       "output_type": "stream",
       "stream": "stdout",
       "text": [
        "\r",
        "1.141.A.step1.genomecoverage.txt               15% 4960MB   3.2MB/s 2:20:46 ETA"
       ]
      },
      {
       "output_type": "stream",
       "stream": "stdout",
       "text": [
        "\r",
        "1.141.A.step1.genomecoverage.txt               15% 4964MB   3.2MB/s 2:18:59 ETA"
       ]
      },
      {
       "output_type": "stream",
       "stream": "stdout",
       "text": [
        "\r",
        "1.141.A.step1.genomecoverage.txt               15% 4968MB   3.3MB/s 2:14:00 ETA"
       ]
      },
      {
       "output_type": "stream",
       "stream": "stdout",
       "text": [
        "\r",
        "1.141.A.step1.genomecoverage.txt               15% 4973MB   3.4MB/s 2:09:59 ETA"
       ]
      },
      {
       "output_type": "stream",
       "stream": "stdout",
       "text": [
        "\r",
        "1.141.A.step1.genomecoverage.txt               15% 4977MB   3.6MB/s 2:05:07 ETA"
       ]
      },
      {
       "output_type": "stream",
       "stream": "stdout",
       "text": [
        "\r",
        "1.141.A.step1.genomecoverage.txt               15% 4982MB   3.7MB/s 2:00:12 ETA"
       ]
      },
      {
       "output_type": "stream",
       "stream": "stdout",
       "text": [
        "\r",
        "1.141.A.step1.genomecoverage.txt               15% 4988MB   3.8MB/s 1:55:47 ETA"
       ]
      },
      {
       "output_type": "stream",
       "stream": "stdout",
       "text": [
        "\r",
        "1.141.A.step1.genomecoverage.txt               15% 4993MB   4.0MB/s 1:52:09 ETA"
       ]
      },
      {
       "output_type": "stream",
       "stream": "stdout",
       "text": [
        "\r",
        "1.141.A.step1.genomecoverage.txt               15% 4998MB   4.1MB/s 1:49:06 ETA"
       ]
      },
      {
       "output_type": "stream",
       "stream": "stdout",
       "text": [
        "\r",
        "1.141.A.step1.genomecoverage.txt               15% 5003MB   4.2MB/s 1:46:21 ETA"
       ]
      },
      {
       "output_type": "stream",
       "stream": "stdout",
       "text": [
        "\r",
        "1.141.A.step1.genomecoverage.txt               15% 5008MB   4.3MB/s 1:44:17 ETA"
       ]
      },
      {
       "output_type": "stream",
       "stream": "stdout",
       "text": [
        "\r",
        "1.141.A.step1.genomecoverage.txt               15% 5014MB   4.5MB/s 1:39:03 ETA"
       ]
      },
      {
       "output_type": "stream",
       "stream": "stdout",
       "text": [
        "\r",
        "1.141.A.step1.genomecoverage.txt               15% 5022MB   4.8MB/s 1:33:13 ETA"
       ]
      },
      {
       "output_type": "stream",
       "stream": "stdout",
       "text": [
        "\r",
        "1.141.A.step1.genomecoverage.txt               15% 5031MB   5.2MB/s 1:25:15 ETA"
       ]
      },
      {
       "output_type": "stream",
       "stream": "stdout",
       "text": [
        "\r",
        "1.141.A.step1.genomecoverage.txt               15% 5038MB   5.4MB/s 1:21:46 ETA"
       ]
      },
      {
       "output_type": "stream",
       "stream": "stdout",
       "text": [
        "\r",
        "1.141.A.step1.genomecoverage.txt               15% 5046MB   5.7MB/s 1:17:53 ETA"
       ]
      },
      {
       "output_type": "stream",
       "stream": "stdout",
       "text": [
        "\r",
        "1.141.A.step1.genomecoverage.txt               15% 5052MB   5.7MB/s 1:17:45 ETA"
       ]
      },
      {
       "output_type": "stream",
       "stream": "stdout",
       "text": [
        "\r",
        "1.141.A.step1.genomecoverage.txt               15% 5059MB   5.8MB/s 1:16:30 ETA"
       ]
      },
      {
       "output_type": "stream",
       "stream": "stdout",
       "text": [
        "\r",
        "1.141.A.step1.genomecoverage.txt               15% 5066MB   5.9MB/s 1:14:52 ETA"
       ]
      },
      {
       "output_type": "stream",
       "stream": "stdout",
       "text": [
        "\r",
        "1.141.A.step1.genomecoverage.txt               16% 5073MB   6.1MB/s 1:13:05 ETA"
       ]
      },
      {
       "output_type": "stream",
       "stream": "stdout",
       "text": [
        "\r",
        "1.141.A.step1.genomecoverage.txt               16% 5080MB   6.2MB/s 1:11:39 ETA"
       ]
      },
      {
       "output_type": "stream",
       "stream": "stdout",
       "text": [
        "\r",
        "1.141.A.step1.genomecoverage.txt               16% 5087MB   6.2MB/s 1:11:18 ETA"
       ]
      },
      {
       "output_type": "stream",
       "stream": "stdout",
       "text": [
        "\r",
        "1.141.A.step1.genomecoverage.txt               16% 5092MB   6.1MB/s 1:12:20 ETA"
       ]
      },
      {
       "output_type": "stream",
       "stream": "stdout",
       "text": [
        "\r",
        "1.141.A.step1.genomecoverage.txt               16% 5098MB   6.1MB/s 1:12:11 ETA"
       ]
      },
      {
       "output_type": "stream",
       "stream": "stdout",
       "text": [
        "\r",
        "1.141.A.step1.genomecoverage.txt               16% 5106MB   6.2MB/s 1:11:01 ETA"
       ]
      },
      {
       "output_type": "stream",
       "stream": "stdout",
       "text": [
        "\r",
        "1.141.A.step1.genomecoverage.txt               16% 5113MB   6.3MB/s 1:09:50 ETA"
       ]
      },
      {
       "output_type": "stream",
       "stream": "stdout",
       "text": [
        "\r",
        "1.141.A.step1.genomecoverage.txt               16% 5120MB   6.4MB/s 1:08:50 ETA"
       ]
      },
      {
       "output_type": "stream",
       "stream": "stdout",
       "text": [
        "\r",
        "1.141.A.step1.genomecoverage.txt               16% 5127MB   6.5MB/s 1:07:52 ETA"
       ]
      },
      {
       "output_type": "stream",
       "stream": "stdout",
       "text": [
        "\r",
        "1.141.A.step1.genomecoverage.txt               16% 5135MB   6.6MB/s 1:07:03 ETA"
       ]
      },
      {
       "output_type": "stream",
       "stream": "stdout",
       "text": [
        "\r",
        "1.141.A.step1.genomecoverage.txt               16% 5142MB   6.7MB/s 1:06:19 ETA"
       ]
      },
      {
       "output_type": "stream",
       "stream": "stdout",
       "text": [
        "\r",
        "1.141.A.step1.genomecoverage.txt               16% 5150MB   6.8MB/s 1:05:09 ETA"
       ]
      },
      {
       "output_type": "stream",
       "stream": "stdout",
       "text": [
        "\r",
        "1.141.A.step1.genomecoverage.txt               16% 5159MB   7.0MB/s 1:03:01 ETA"
       ]
      },
      {
       "output_type": "stream",
       "stream": "stdout",
       "text": [
        "\r",
        "1.141.A.step1.genomecoverage.txt               16% 5169MB   7.3MB/s 1:00:26 ETA"
       ]
      },
      {
       "output_type": "stream",
       "stream": "stdout",
       "text": [
        "\r",
        "1.141.A.step1.genomecoverage.txt               16% 5180MB   7.7MB/s   57:13 ETA"
       ]
      },
      {
       "output_type": "stream",
       "stream": "stdout",
       "text": [
        "\r",
        "1.141.A.step1.genomecoverage.txt               16% 5192MB   8.1MB/s   54:22 ETA"
       ]
      },
      {
       "output_type": "stream",
       "stream": "stdout",
       "text": [
        "\r",
        "1.141.A.step1.genomecoverage.txt               16% 5201MB   8.2MB/s   53:42 ETA"
       ]
      },
      {
       "output_type": "stream",
       "stream": "stdout",
       "text": [
        "\r",
        "1.141.A.step1.genomecoverage.txt               16% 5210MB   8.3MB/s   53:02 ETA"
       ]
      },
      {
       "output_type": "stream",
       "stream": "stdout",
       "text": [
        "\r",
        "1.141.A.step1.genomecoverage.txt               16% 5220MB   8.4MB/s   52:29 ETA"
       ]
      },
      {
       "output_type": "stream",
       "stream": "stdout",
       "text": [
        "\r",
        "1.141.A.step1.genomecoverage.txt               16% 5227MB   8.3MB/s   53:13 ETA"
       ]
      },
      {
       "output_type": "stream",
       "stream": "stdout",
       "text": [
        "\r",
        "1.141.A.step1.genomecoverage.txt               16% 5234MB   8.2MB/s   53:41 ETA"
       ]
      },
      {
       "output_type": "stream",
       "stream": "stdout",
       "text": [
        "\r",
        "1.141.A.step1.genomecoverage.txt               16% 5242MB   8.2MB/s   54:00 ETA"
       ]
      },
      {
       "output_type": "stream",
       "stream": "stdout",
       "text": [
        "\r",
        "1.141.A.step1.genomecoverage.txt               16% 5248MB   8.0MB/s   55:21 ETA"
       ]
      },
      {
       "output_type": "stream",
       "stream": "stdout",
       "text": [
        "\r",
        "1.141.A.step1.genomecoverage.txt               16% 5255MB   7.9MB/s   55:53 ETA"
       ]
      },
      {
       "output_type": "stream",
       "stream": "stdout",
       "text": [
        "\r",
        "1.141.A.step1.genomecoverage.txt               16% 5263MB   7.8MB/s   56:10 ETA"
       ]
      },
      {
       "output_type": "stream",
       "stream": "stdout",
       "text": [
        "\r",
        "1.141.A.step1.genomecoverage.txt               16% 5270MB   7.8MB/s   56:23 ETA"
       ]
      },
      {
       "output_type": "stream",
       "stream": "stdout",
       "text": [
        "\r",
        "1.141.A.step1.genomecoverage.txt               16% 5278MB   7.8MB/s   56:33 ETA"
       ]
      },
      {
       "output_type": "stream",
       "stream": "stdout",
       "text": [
        "\r",
        "1.141.A.step1.genomecoverage.txt               16% 5285MB   7.8MB/s   56:46 ETA"
       ]
      },
      {
       "output_type": "stream",
       "stream": "stdout",
       "text": [
        "\r",
        "1.141.A.step1.genomecoverage.txt               16% 5291MB   7.6MB/s   58:15 ETA"
       ]
      },
      {
       "output_type": "stream",
       "stream": "stdout",
       "text": [
        "\r",
        "1.141.A.step1.genomecoverage.txt               16% 5296MB   7.3MB/s 1:00:03 ETA"
       ]
      },
      {
       "output_type": "stream",
       "stream": "stdout",
       "text": [
        "\r",
        "1.141.A.step1.genomecoverage.txt               16% 5302MB   7.2MB/s 1:01:19 ETA"
       ]
      },
      {
       "output_type": "stream",
       "stream": "stdout",
       "text": [
        "\r",
        "1.141.A.step1.genomecoverage.txt               16% 5307MB   7.0MB/s 1:03:08 ETA"
       ]
      },
      {
       "output_type": "stream",
       "stream": "stdout",
       "text": [
        "\r",
        "1.141.A.step1.genomecoverage.txt               16% 5313MB   6.8MB/s 1:04:23 ETA"
       ]
      },
      {
       "output_type": "stream",
       "stream": "stdout",
       "text": [
        "\r",
        "1.141.A.step1.genomecoverage.txt               16% 5316MB   6.5MB/s 1:07:49 ETA"
       ]
      },
      {
       "output_type": "stream",
       "stream": "stdout",
       "text": [
        "\r",
        "1.141.A.step1.genomecoverage.txt               16% 5319MB   6.1MB/s 1:12:10 ETA"
       ]
      },
      {
       "output_type": "stream",
       "stream": "stdout",
       "text": [
        "\r",
        "1.141.A.step1.genomecoverage.txt               16% 5321MB   5.8MB/s 1:16:24 ETA"
       ]
      },
      {
       "output_type": "stream",
       "stream": "stdout",
       "text": [
        "\r",
        "1.141.A.step1.genomecoverage.txt               16% 5324MB   5.4MB/s 1:20:47 ETA"
       ]
      },
      {
       "output_type": "stream",
       "stream": "stdout",
       "text": [
        "\r",
        "1.141.A.step1.genomecoverage.txt               16% 5327MB   5.2MB/s 1:25:02 ETA"
       ]
      },
      {
       "output_type": "stream",
       "stream": "stdout",
       "text": [
        "\r",
        "1.141.A.step1.genomecoverage.txt               16% 5329MB   4.9MB/s 1:29:18 ETA"
       ]
      },
      {
       "output_type": "stream",
       "stream": "stdout",
       "text": [
        "\r",
        "1.141.A.step1.genomecoverage.txt               16% 5332MB   4.7MB/s 1:33:58 ETA"
       ]
      },
      {
       "output_type": "stream",
       "stream": "stdout",
       "text": [
        "\r",
        "1.141.A.step1.genomecoverage.txt               16% 5333MB   4.3MB/s 1:41:26 ETA"
       ]
      },
      {
       "output_type": "stream",
       "stream": "stdout",
       "text": [
        "\r",
        "1.141.A.step1.genomecoverage.txt               16% 5334MB   4.0MB/s 1:49:27 ETA"
       ]
      },
      {
       "output_type": "stream",
       "stream": "stdout",
       "text": [
        "\r",
        "1.141.A.step1.genomecoverage.txt               16% 5335MB   3.7MB/s 1:58:05 ETA"
       ]
      },
      {
       "output_type": "stream",
       "stream": "stdout",
       "text": [
        "\r",
        "1.141.A.step1.genomecoverage.txt               16% 5336MB   3.5MB/s 2:07:09 ETA"
       ]
      },
      {
       "output_type": "stream",
       "stream": "stdout",
       "text": [
        "\r",
        "1.141.A.step1.genomecoverage.txt               16% 5338MB   3.2MB/s 2:15:57 ETA"
       ]
      },
      {
       "output_type": "stream",
       "stream": "stdout",
       "text": [
        "\r",
        "1.141.A.step1.genomecoverage.txt               16% 5339MB   3.0MB/s 2:24:31 ETA"
       ]
      },
      {
       "output_type": "stream",
       "stream": "stdout",
       "text": [
        "\r",
        "1.141.A.step1.genomecoverage.txt               16% 5341MB   2.9MB/s 2:31:38 ETA"
       ]
      },
      {
       "output_type": "stream",
       "stream": "stdout",
       "text": [
        "\r",
        "1.141.A.step1.genomecoverage.txt               16% 5342MB   2.7MB/s 2:41:14 ETA"
       ]
      },
      {
       "output_type": "stream",
       "stream": "stdout",
       "text": [
        "\r",
        "1.141.A.step1.genomecoverage.txt               16% 5343MB   2.6MB/s 2:50:39 ETA"
       ]
      },
      {
       "output_type": "stream",
       "stream": "stdout",
       "text": [
        "\r",
        "1.141.A.step1.genomecoverage.txt               16% 5344MB   2.5MB/s 2:58:24 ETA"
       ]
      },
      {
       "output_type": "stream",
       "stream": "stdout",
       "text": [
        "\r",
        "1.141.A.step1.genomecoverage.txt               16% 5346MB   2.4MB/s 3:04:39 ETA"
       ]
      },
      {
       "output_type": "stream",
       "stream": "stdout",
       "text": [
        "\r",
        "1.141.A.step1.genomecoverage.txt               16% 5348MB   2.3MB/s 3:09:46 ETA"
       ]
      },
      {
       "output_type": "stream",
       "stream": "stdout",
       "text": [
        "\r",
        "1.141.A.step1.genomecoverage.txt               16% 5350MB   2.3MB/s 3:14:13 ETA"
       ]
      },
      {
       "output_type": "stream",
       "stream": "stdout",
       "text": [
        "\r",
        "1.141.A.step1.genomecoverage.txt               16% 5352MB   2.3MB/s 3:14:09 ETA"
       ]
      },
      {
       "output_type": "stream",
       "stream": "stdout",
       "text": [
        "\r",
        "1.141.A.step1.genomecoverage.txt               16% 5355MB   2.4MB/s 3:05:44 ETA"
       ]
      },
      {
       "output_type": "stream",
       "stream": "stdout",
       "text": [
        "\r",
        "1.141.A.step1.genomecoverage.txt               16% 5360MB   2.6MB/s 2:49:40 ETA"
       ]
      },
      {
       "output_type": "stream",
       "stream": "stdout",
       "text": [
        "\r",
        "1.141.A.step1.genomecoverage.txt               16% 5366MB   3.0MB/s 2:28:19 ETA"
       ]
      },
      {
       "output_type": "stream",
       "stream": "stdout",
       "text": [
        "\r",
        "1.141.A.step1.genomecoverage.txt               16% 5372MB   3.2MB/s 2:15:49 ETA"
       ]
      },
      {
       "output_type": "stream",
       "stream": "stdout",
       "text": [
        "\r",
        "1.141.A.step1.genomecoverage.txt               16% 5376MB   3.3MB/s 2:12:00 ETA"
       ]
      },
      {
       "output_type": "stream",
       "stream": "stdout",
       "text": [
        "\r",
        "1.141.A.step1.genomecoverage.txt               16% 5380MB   3.4MB/s 2:07:17 ETA"
       ]
      },
      {
       "output_type": "stream",
       "stream": "stdout",
       "text": [
        "\r",
        "1.141.A.step1.genomecoverage.txt               16% 5383MB   3.4MB/s 2:08:59 ETA"
       ]
      },
      {
       "output_type": "stream",
       "stream": "stdout",
       "text": [
        "\r",
        "1.141.A.step1.genomecoverage.txt               17% 5387MB   3.4MB/s 2:10:04 ETA"
       ]
      },
      {
       "output_type": "stream",
       "stream": "stdout",
       "text": [
        "\r",
        "1.141.A.step1.genomecoverage.txt               17% 5389MB   3.2MB/s 2:15:34 ETA"
       ]
      },
      {
       "output_type": "stream",
       "stream": "stdout",
       "text": [
        "\r",
        "1.141.A.step1.genomecoverage.txt               17% 5391MB   3.1MB/s 2:20:18 ETA"
       ]
      },
      {
       "output_type": "stream",
       "stream": "stdout",
       "text": [
        "\r",
        "1.141.A.step1.genomecoverage.txt               17% 5393MB   3.0MB/s 2:23:52 ETA"
       ]
      },
      {
       "output_type": "stream",
       "stream": "stdout",
       "text": [
        "\r",
        "1.141.A.step1.genomecoverage.txt               17% 5395MB   3.0MB/s 2:27:01 ETA"
       ]
      },
      {
       "output_type": "stream",
       "stream": "stdout",
       "text": [
        "\r",
        "1.141.A.step1.genomecoverage.txt               17% 5398MB   2.9MB/s 2:29:29 ETA"
       ]
      },
      {
       "output_type": "stream",
       "stream": "stdout",
       "text": [
        "\r",
        "1.141.A.step1.genomecoverage.txt               17% 5401MB   2.9MB/s 2:30:58 ETA"
       ]
      },
      {
       "output_type": "stream",
       "stream": "stdout",
       "text": [
        "\r",
        "1.141.A.step1.genomecoverage.txt               17% 5404MB   2.9MB/s 2:29:42 ETA"
       ]
      },
      {
       "output_type": "stream",
       "stream": "stdout",
       "text": [
        "\r",
        "1.141.A.step1.genomecoverage.txt               17% 5408MB   3.1MB/s 2:21:06 ETA"
       ]
      },
      {
       "output_type": "stream",
       "stream": "stdout",
       "text": [
        "\r",
        "1.141.A.step1.genomecoverage.txt               17% 5414MB   3.4MB/s 2:09:26 ETA"
       ]
      },
      {
       "output_type": "stream",
       "stream": "stdout",
       "text": [
        "\r",
        "1.141.A.step1.genomecoverage.txt               17% 5423MB   3.9MB/s 1:52:12 ETA"
       ]
      },
      {
       "output_type": "stream",
       "stream": "stdout",
       "text": [
        "\r",
        "1.141.A.step1.genomecoverage.txt               17% 5434MB   4.6MB/s 1:34:16 ETA"
       ]
      },
      {
       "output_type": "stream",
       "stream": "stdout",
       "text": [
        "\r",
        "1.141.A.step1.genomecoverage.txt               17% 5447MB   5.5MB/s 1:19:47 ETA"
       ]
      },
      {
       "output_type": "stream",
       "stream": "stdout",
       "text": [
        "\r",
        "1.141.A.step1.genomecoverage.txt               17% 5462MB   6.4MB/s 1:08:15 ETA"
       ]
      },
      {
       "output_type": "stream",
       "stream": "stdout",
       "text": [
        "\r",
        "1.141.A.step1.genomecoverage.txt               17% 5473MB   6.9MB/s 1:03:37 ETA"
       ]
      },
      {
       "output_type": "stream",
       "stream": "stdout",
       "text": [
        "\r",
        "1.141.A.step1.genomecoverage.txt               17% 5481MB   7.0MB/s 1:02:10 ETA"
       ]
      },
      {
       "output_type": "stream",
       "stream": "stdout",
       "text": [
        "\r",
        "1.141.A.step1.genomecoverage.txt               17% 5488MB   7.0MB/s 1:02:34 ETA"
       ]
      },
      {
       "output_type": "stream",
       "stream": "stdout",
       "text": [
        "\r",
        "1.141.A.step1.genomecoverage.txt               17% 5492MB   6.7MB/s 1:04:48 ETA"
       ]
      },
      {
       "output_type": "stream",
       "stream": "stdout",
       "text": [
        "\r",
        "1.141.A.step1.genomecoverage.txt               17% 5498MB   6.6MB/s 1:06:25 ETA"
       ]
      },
      {
       "output_type": "stream",
       "stream": "stdout",
       "text": [
        "\r",
        "1.141.A.step1.genomecoverage.txt               17% 5502MB   6.4MB/s 1:08:03 ETA"
       ]
      },
      {
       "output_type": "stream",
       "stream": "stdout",
       "text": [
        "\r",
        "1.141.A.step1.genomecoverage.txt               17% 5508MB   6.3MB/s 1:09:28 ETA"
       ]
      },
      {
       "output_type": "stream",
       "stream": "stdout",
       "text": [
        "\r",
        "1.141.A.step1.genomecoverage.txt               17% 5512MB   6.1MB/s 1:11:42 ETA"
       ]
      },
      {
       "output_type": "stream",
       "stream": "stdout",
       "text": [
        "\r",
        "1.141.A.step1.genomecoverage.txt               17% 5516MB   5.9MB/s 1:14:24 ETA"
       ]
      },
      {
       "output_type": "stream",
       "stream": "stdout",
       "text": [
        "\r",
        "1.141.A.step1.genomecoverage.txt               17% 5520MB   5.7MB/s 1:16:59 ETA"
       ]
      },
      {
       "output_type": "stream",
       "stream": "stdout",
       "text": [
        "\r",
        "1.141.A.step1.genomecoverage.txt               17% 5524MB   5.5MB/s 1:19:25 ETA"
       ]
      },
      {
       "output_type": "stream",
       "stream": "stdout",
       "text": [
        "\r",
        "1.141.A.step1.genomecoverage.txt               17% 5528MB   5.3MB/s 1:21:39 ETA"
       ]
      },
      {
       "output_type": "stream",
       "stream": "stdout",
       "text": [
        "\r",
        "1.141.A.step1.genomecoverage.txt               17% 5531MB   5.2MB/s 1:23:54 ETA"
       ]
      },
      {
       "output_type": "stream",
       "stream": "stdout",
       "text": [
        "\r",
        "1.141.A.step1.genomecoverage.txt               17% 5536MB   5.1MB/s 1:25:29 ETA"
       ]
      },
      {
       "output_type": "stream",
       "stream": "stdout",
       "text": [
        "\r",
        "1.141.A.step1.genomecoverage.txt               17% 5541MB   5.1MB/s 1:25:39 ETA"
       ]
      },
      {
       "output_type": "stream",
       "stream": "stdout",
       "text": [
        "\r",
        "1.141.A.step1.genomecoverage.txt               17% 5546MB   5.1MB/s 1:25:41 ETA"
       ]
      },
      {
       "output_type": "stream",
       "stream": "stdout",
       "text": [
        "\r",
        "1.141.A.step1.genomecoverage.txt               17% 5551MB   5.1MB/s 1:25:37 ETA"
       ]
      },
      {
       "output_type": "stream",
       "stream": "stdout",
       "text": [
        "\r",
        "1.141.A.step1.genomecoverage.txt               17% 5556MB   5.1MB/s 1:25:01 ETA"
       ]
      },
      {
       "output_type": "stream",
       "stream": "stdout",
       "text": [
        "\r",
        "1.141.A.step1.genomecoverage.txt               17% 5560MB   5.0MB/s 1:27:04 ETA"
       ]
      },
      {
       "output_type": "stream",
       "stream": "stdout",
       "text": [
        "\r",
        "1.141.A.step1.genomecoverage.txt               17% 5563MB   4.8MB/s 1:31:38 ETA"
       ]
      },
      {
       "output_type": "stream",
       "stream": "stdout",
       "text": [
        "\r",
        "1.141.A.step1.genomecoverage.txt               17% 5564MB   4.5MB/s 1:37:38 ETA"
       ]
      },
      {
       "output_type": "stream",
       "stream": "stdout",
       "text": [
        "\r",
        "1.141.A.step1.genomecoverage.txt               17% 5566MB   4.2MB/s 1:43:43 ETA"
       ]
      },
      {
       "output_type": "stream",
       "stream": "stdout",
       "text": [
        "\r",
        "1.141.A.step1.genomecoverage.txt               17% 5568MB   4.0MB/s 1:49:15 ETA"
       ]
      },
      {
       "output_type": "stream",
       "stream": "stdout",
       "text": [
        "\r",
        "1.141.A.step1.genomecoverage.txt               17% 5571MB   3.8MB/s 1:54:36 ETA"
       ]
      },
      {
       "output_type": "stream",
       "stream": "stdout",
       "text": [
        "\r",
        "1.141.A.step1.genomecoverage.txt               17% 5573MB   3.7MB/s 1:59:15 ETA"
       ]
      },
      {
       "output_type": "stream",
       "stream": "stdout",
       "text": [
        "\r",
        "1.141.A.step1.genomecoverage.txt               17% 5575MB   3.5MB/s 2:03:10 ETA"
       ]
      },
      {
       "output_type": "stream",
       "stream": "stdout",
       "text": [
        "\r",
        "1.141.A.step1.genomecoverage.txt               17% 5579MB   3.5MB/s 2:04:22 ETA"
       ]
      },
      {
       "output_type": "stream",
       "stream": "stdout",
       "text": [
        "\r",
        "1.141.A.step1.genomecoverage.txt               17% 5581MB   3.4MB/s 2:08:00 ETA"
       ]
      },
      {
       "output_type": "stream",
       "stream": "stdout",
       "text": [
        "\r",
        "1.141.A.step1.genomecoverage.txt               17% 5584MB   3.3MB/s 2:11:05 ETA"
       ]
      },
      {
       "output_type": "stream",
       "stream": "stdout",
       "text": [
        "\r",
        "1.141.A.step1.genomecoverage.txt               17% 5586MB   3.3MB/s 2:13:48 ETA"
       ]
      },
      {
       "output_type": "stream",
       "stream": "stdout",
       "text": [
        "\r",
        "1.141.A.step1.genomecoverage.txt               17% 5589MB   3.2MB/s 2:16:05 ETA"
       ]
      },
      {
       "output_type": "stream",
       "stream": "stdout",
       "text": [
        "\r",
        "1.141.A.step1.genomecoverage.txt               17% 5592MB   3.1MB/s 2:18:16 ETA"
       ]
      },
      {
       "output_type": "stream",
       "stream": "stdout",
       "text": [
        "\r",
        "1.141.A.step1.genomecoverage.txt               17% 5594MB   3.1MB/s 2:20:09 ETA"
       ]
      },
      {
       "output_type": "stream",
       "stream": "stdout",
       "text": [
        "\r",
        "1.141.A.step1.genomecoverage.txt               17% 5597MB   3.1MB/s 2:20:57 ETA"
       ]
      },
      {
       "output_type": "stream",
       "stream": "stdout",
       "text": [
        "\r",
        "1.141.A.step1.genomecoverage.txt               17% 5601MB   3.2MB/s 2:18:01 ETA"
       ]
      },
      {
       "output_type": "stream",
       "stream": "stdout",
       "text": [
        "\r",
        "1.141.A.step1.genomecoverage.txt               17% 5606MB   3.3MB/s 2:11:15 ETA"
       ]
      },
      {
       "output_type": "stream",
       "stream": "stdout",
       "text": [
        "\r",
        "1.141.A.step1.genomecoverage.txt               17% 5612MB   3.6MB/s 2:01:25 ETA"
       ]
      },
      {
       "output_type": "stream",
       "stream": "stdout",
       "text": [
        "\r",
        "1.141.A.step1.genomecoverage.txt               17% 5620MB   4.0MB/s 1:48:19 ETA"
       ]
      },
      {
       "output_type": "stream",
       "stream": "stdout",
       "text": [
        "\r",
        "1.141.A.step1.genomecoverage.txt               17% 5630MB   4.6MB/s 1:34:04 ETA"
       ]
      },
      {
       "output_type": "stream",
       "stream": "stdout",
       "text": [
        "\r",
        "1.141.A.step1.genomecoverage.txt               17% 5643MB   5.4MB/s 1:19:49 ETA"
       ]
      },
      {
       "output_type": "stream",
       "stream": "stdout",
       "text": [
        "\r",
        "1.141.A.step1.genomecoverage.txt               17% 5657MB   6.4MB/s 1:07:54 ETA"
       ]
      },
      {
       "output_type": "stream",
       "stream": "stdout",
       "text": [
        "\r",
        "1.141.A.step1.genomecoverage.txt               17% 5672MB   7.3MB/s   59:48 ETA"
       ]
      },
      {
       "output_type": "stream",
       "stream": "stdout",
       "text": [
        "\r",
        "1.141.A.step1.genomecoverage.txt               17% 5687MB   7.9MB/s   54:37 ETA"
       ]
      },
      {
       "output_type": "stream",
       "stream": "stdout",
       "text": [
        "\r",
        "1.141.A.step1.genomecoverage.txt               17% 5699MB   8.4MB/s   51:36 ETA"
       ]
      },
      {
       "output_type": "stream",
       "stream": "stdout",
       "text": [
        "\r",
        "1.141.A.step1.genomecoverage.txt               18% 5706MB   8.3MB/s   52:21 ETA"
       ]
      },
      {
       "output_type": "stream",
       "stream": "stdout",
       "text": [
        "\r",
        "1.141.A.step1.genomecoverage.txt               18% 5713MB   8.1MB/s   53:23 ETA"
       ]
      },
      {
       "output_type": "stream",
       "stream": "stdout",
       "text": [
        "\r",
        "1.141.A.step1.genomecoverage.txt               18% 5718MB   7.8MB/s   55:22 ETA"
       ]
      },
      {
       "output_type": "stream",
       "stream": "stdout",
       "text": [
        "\r",
        "1.141.A.step1.genomecoverage.txt               18% 5724MB   7.6MB/s   57:01 ETA"
       ]
      },
      {
       "output_type": "stream",
       "stream": "stdout",
       "text": [
        "\r",
        "1.141.A.step1.genomecoverage.txt               18% 5729MB   7.4MB/s   58:29 ETA"
       ]
      },
      {
       "output_type": "stream",
       "stream": "stdout",
       "text": [
        "\r",
        "1.141.A.step1.genomecoverage.txt               18% 5735MB   7.2MB/s   59:44 ETA"
       ]
      },
      {
       "output_type": "stream",
       "stream": "stdout",
       "text": [
        "\r",
        "1.141.A.step1.genomecoverage.txt               18% 5741MB   7.1MB/s 1:00:44 ETA"
       ]
      },
      {
       "output_type": "stream",
       "stream": "stdout",
       "text": [
        "\r",
        "1.141.A.step1.genomecoverage.txt               18% 5747MB   7.0MB/s 1:01:57 ETA"
       ]
      },
      {
       "output_type": "stream",
       "stream": "stdout",
       "text": [
        "\r",
        "1.141.A.step1.genomecoverage.txt               18% 5754MB   7.0MB/s 1:02:00 ETA"
       ]
      },
      {
       "output_type": "stream",
       "stream": "stdout",
       "text": [
        "\r",
        "1.141.A.step1.genomecoverage.txt               18% 5761MB   7.0MB/s 1:01:32 ETA"
       ]
      },
      {
       "output_type": "stream",
       "stream": "stdout",
       "text": [
        "\r",
        "1.141.A.step1.genomecoverage.txt               18% 5768MB   7.0MB/s 1:01:30 ETA"
       ]
      },
      {
       "output_type": "stream",
       "stream": "stdout",
       "text": [
        "\r",
        "1.141.A.step1.genomecoverage.txt               18% 5773MB   6.8MB/s 1:03:05 ETA"
       ]
      },
      {
       "output_type": "stream",
       "stream": "stdout",
       "text": [
        "\r",
        "1.141.A.step1.genomecoverage.txt               18% 5779MB   6.8MB/s 1:03:54 ETA"
       ]
      },
      {
       "output_type": "stream",
       "stream": "stdout",
       "text": [
        "\r",
        "1.141.A.step1.genomecoverage.txt               18% 5784MB   6.5MB/s 1:06:15 ETA"
       ]
      },
      {
       "output_type": "stream",
       "stream": "stdout",
       "text": [
        "\r",
        "1.141.A.step1.genomecoverage.txt               18% 5787MB   6.2MB/s 1:09:31 ETA"
       ]
      },
      {
       "output_type": "stream",
       "stream": "stdout",
       "text": [
        "\r",
        "1.141.A.step1.genomecoverage.txt               18% 5790MB   5.9MB/s 1:13:04 ETA"
       ]
      },
      {
       "output_type": "stream",
       "stream": "stdout",
       "text": [
        "\r",
        "1.141.A.step1.genomecoverage.txt               18% 5793MB   5.6MB/s 1:17:09 ETA"
       ]
      },
      {
       "output_type": "stream",
       "stream": "stdout",
       "text": [
        "\r",
        "1.141.A.step1.genomecoverage.txt               18% 5796MB   5.3MB/s 1:21:11 ETA"
       ]
      },
      {
       "output_type": "stream",
       "stream": "stdout",
       "text": [
        "\r",
        "1.141.A.step1.genomecoverage.txt               18% 5799MB   5.1MB/s 1:25:24 ETA"
       ]
      },
      {
       "output_type": "stream",
       "stream": "stdout",
       "text": [
        "\r",
        "1.141.A.step1.genomecoverage.txt               18% 5801MB   4.8MB/s 1:29:31 ETA"
       ]
      },
      {
       "output_type": "stream",
       "stream": "stdout",
       "text": [
        "\r",
        "1.141.A.step1.genomecoverage.txt               18% 5804MB   4.6MB/s 1:32:52 ETA"
       ]
      },
      {
       "output_type": "stream",
       "stream": "stdout",
       "text": [
        "\r",
        "1.141.A.step1.genomecoverage.txt               18% 5808MB   4.5MB/s 1:35:07 ETA"
       ]
      },
      {
       "output_type": "stream",
       "stream": "stdout",
       "text": [
        "\r",
        "1.141.A.step1.genomecoverage.txt               18% 5812MB   4.5MB/s 1:35:56 ETA"
       ]
      },
      {
       "output_type": "stream",
       "stream": "stdout",
       "text": [
        "\r",
        "1.141.A.step1.genomecoverage.txt               18% 5817MB   4.6MB/s 1:34:49 ETA"
       ]
      },
      {
       "output_type": "stream",
       "stream": "stdout",
       "text": [
        "\r",
        "1.141.A.step1.genomecoverage.txt               18% 5823MB   4.7MB/s 1:32:15 ETA"
       ]
      },
      {
       "output_type": "stream",
       "stream": "stdout",
       "text": [
        "\r",
        "1.141.A.step1.genomecoverage.txt               18% 5828MB   4.7MB/s 1:31:21 ETA"
       ]
      },
      {
       "output_type": "stream",
       "stream": "stdout",
       "text": [
        "\r",
        "1.141.A.step1.genomecoverage.txt               18% 5835MB   4.9MB/s 1:27:28 ETA"
       ]
      },
      {
       "output_type": "stream",
       "stream": "stdout",
       "text": [
        "\r",
        "1.141.A.step1.genomecoverage.txt               18% 5842MB   5.2MB/s 1:23:27 ETA"
       ]
      },
      {
       "output_type": "stream",
       "stream": "stdout",
       "text": [
        "\r",
        "1.141.A.step1.genomecoverage.txt               18% 5849MB   5.4MB/s 1:20:29 ETA"
       ]
      },
      {
       "output_type": "stream",
       "stream": "stdout",
       "text": [
        "\r",
        "1.141.A.step1.genomecoverage.txt               18% 5857MB   5.6MB/s 1:17:35 ETA"
       ]
      },
      {
       "output_type": "stream",
       "stream": "stdout",
       "text": [
        "\r",
        "1.141.A.step1.genomecoverage.txt               18% 5863MB   5.6MB/s 1:16:20 ETA"
       ]
      },
      {
       "output_type": "stream",
       "stream": "stdout",
       "text": [
        "\r",
        "1.141.A.step1.genomecoverage.txt               18% 5869MB   5.7MB/s 1:16:10 ETA"
       ]
      },
      {
       "output_type": "stream",
       "stream": "stdout",
       "text": [
        "\r",
        "1.141.A.step1.genomecoverage.txt               18% 5876MB   5.8MB/s 1:14:18 ETA"
       ]
      },
      {
       "output_type": "stream",
       "stream": "stdout",
       "text": [
        "\r",
        "1.141.A.step1.genomecoverage.txt               18% 5883MB   5.9MB/s 1:12:22 ETA"
       ]
      },
      {
       "output_type": "stream",
       "stream": "stdout",
       "text": [
        "\r",
        "1.141.A.step1.genomecoverage.txt               18% 5886MB   5.7MB/s 1:15:40 ETA"
       ]
      },
      {
       "output_type": "stream",
       "stream": "stdout",
       "text": [
        "\r",
        "1.141.A.step1.genomecoverage.txt               18% 5890MB   5.5MB/s 1:18:50 ETA"
       ]
      },
      {
       "output_type": "stream",
       "stream": "stdout",
       "text": [
        "\r",
        "1.141.A.step1.genomecoverage.txt               18% 5893MB   5.2MB/s 1:22:15 ETA"
       ]
      },
      {
       "output_type": "stream",
       "stream": "stdout",
       "text": [
        "\r",
        "1.141.A.step1.genomecoverage.txt               18% 5896MB   5.0MB/s 1:26:34 ETA"
       ]
      },
      {
       "output_type": "stream",
       "stream": "stdout",
       "text": [
        "\r",
        "1.141.A.step1.genomecoverage.txt               18% 5898MB   4.7MB/s 1:30:50 ETA"
       ]
      },
      {
       "output_type": "stream",
       "stream": "stdout",
       "text": [
        "\r",
        "1.141.A.step1.genomecoverage.txt               18% 5901MB   4.5MB/s 1:34:56 ETA"
       ]
      },
      {
       "output_type": "stream",
       "stream": "stdout",
       "text": [
        "\r",
        "1.141.A.step1.genomecoverage.txt               18% 5904MB   4.3MB/s 1:38:56 ETA"
       ]
      },
      {
       "output_type": "stream",
       "stream": "stdout",
       "text": [
        "\r",
        "1.141.A.step1.genomecoverage.txt               18% 5906MB   4.2MB/s 1:42:32 ETA"
       ]
      },
      {
       "output_type": "stream",
       "stream": "stdout",
       "text": [
        "\r",
        "1.141.A.step1.genomecoverage.txt               18% 5909MB   4.1MB/s 1:46:03 ETA"
       ]
      },
      {
       "output_type": "stream",
       "stream": "stdout",
       "text": [
        "\r",
        "1.141.A.step1.genomecoverage.txt               18% 5913MB   4.0MB/s 1:46:37 ETA"
       ]
      },
      {
       "output_type": "stream",
       "stream": "stdout",
       "text": [
        "\r",
        "1.141.A.step1.genomecoverage.txt               18% 5918MB   4.1MB/s 1:44:12 ETA"
       ]
      },
      {
       "output_type": "stream",
       "stream": "stdout",
       "text": [
        "\r",
        "1.141.A.step1.genomecoverage.txt               18% 5924MB   4.3MB/s 1:39:03 ETA"
       ]
      },
      {
       "output_type": "stream",
       "stream": "stdout",
       "text": [
        "\r",
        "1.141.A.step1.genomecoverage.txt               18% 5933MB   4.7MB/s 1:30:34 ETA"
       ]
      },
      {
       "output_type": "stream",
       "stream": "stdout",
       "text": [
        "\r",
        "1.141.A.step1.genomecoverage.txt               18% 5941MB   5.1MB/s 1:24:55 ETA"
       ]
      },
      {
       "output_type": "stream",
       "stream": "stdout",
       "text": [
        "\r",
        "1.141.A.step1.genomecoverage.txt               18% 5946MB   5.1MB/s 1:24:47 ETA"
       ]
      },
      {
       "output_type": "stream",
       "stream": "stdout",
       "text": [
        "\r",
        "1.141.A.step1.genomecoverage.txt               18% 5951MB   5.1MB/s 1:24:50 ETA"
       ]
      },
      {
       "output_type": "stream",
       "stream": "stdout",
       "text": [
        "\r",
        "1.141.A.step1.genomecoverage.txt               18% 5956MB   5.1MB/s 1:24:39 ETA"
       ]
      },
      {
       "output_type": "stream",
       "stream": "stdout",
       "text": [
        "\r",
        "1.141.A.step1.genomecoverage.txt               18% 5961MB   5.1MB/s 1:24:31 ETA"
       ]
      },
      {
       "output_type": "stream",
       "stream": "stdout",
       "text": [
        "\r",
        "1.141.A.step1.genomecoverage.txt               18% 5966MB   5.1MB/s 1:24:23 ETA"
       ]
      },
      {
       "output_type": "stream",
       "stream": "stdout",
       "text": [
        "\r",
        "1.141.A.step1.genomecoverage.txt               18% 5970MB   5.0MB/s 1:25:51 ETA"
       ]
      },
      {
       "output_type": "stream",
       "stream": "stdout",
       "text": [
        "\r",
        "1.141.A.step1.genomecoverage.txt               18% 5974MB   4.9MB/s 1:27:30 ETA"
       ]
      },
      {
       "output_type": "stream",
       "stream": "stdout",
       "text": [
        "\r",
        "1.141.A.step1.genomecoverage.txt               18% 5978MB   4.8MB/s 1:29:03 ETA"
       ]
      },
      {
       "output_type": "stream",
       "stream": "stdout",
       "text": [
        "\r",
        "1.141.A.step1.genomecoverage.txt               18% 5982MB   4.7MB/s 1:30:25 ETA"
       ]
      },
      {
       "output_type": "stream",
       "stream": "stdout",
       "text": [
        "\r",
        "1.141.A.step1.genomecoverage.txt               18% 5986MB   4.7MB/s 1:32:06 ETA"
       ]
      },
      {
       "output_type": "stream",
       "stream": "stdout",
       "text": [
        "\r",
        "1.141.A.step1.genomecoverage.txt               18% 5990MB   4.6MB/s 1:33:58 ETA"
       ]
      },
      {
       "output_type": "stream",
       "stream": "stdout",
       "text": [
        "\r",
        "1.141.A.step1.genomecoverage.txt               18% 5994MB   4.5MB/s 1:35:11 ETA"
       ]
      },
      {
       "output_type": "stream",
       "stream": "stdout",
       "text": [
        "\r",
        "1.141.A.step1.genomecoverage.txt               18% 5998MB   4.5MB/s 1:36:06 ETA"
       ]
      },
      {
       "output_type": "stream",
       "stream": "stdout",
       "text": [
        "\r",
        "1.141.A.step1.genomecoverage.txt               18% 6002MB   4.4MB/s 1:36:44 ETA"
       ]
      },
      {
       "output_type": "stream",
       "stream": "stdout",
       "text": [
        "\r",
        "1.141.A.step1.genomecoverage.txt               18% 6006MB   4.4MB/s 1:37:20 ETA"
       ]
      },
      {
       "output_type": "stream",
       "stream": "stdout",
       "text": [
        "\r",
        "1.141.A.step1.genomecoverage.txt               18% 6011MB   4.4MB/s 1:37:20 ETA"
       ]
      },
      {
       "output_type": "stream",
       "stream": "stdout",
       "text": [
        "\r",
        "1.141.A.step1.genomecoverage.txt               18% 6015MB   4.4MB/s 1:36:40 ETA"
       ]
      },
      {
       "output_type": "stream",
       "stream": "stdout",
       "text": [
        "\r",
        "1.141.A.step1.genomecoverage.txt               19% 6020MB   4.5MB/s 1:35:40 ETA"
       ]
      },
      {
       "output_type": "stream",
       "stream": "stdout",
       "text": [
        "\r",
        "1.141.A.step1.genomecoverage.txt               19% 6025MB   4.5MB/s 1:35:49 ETA"
       ]
      },
      {
       "output_type": "stream",
       "stream": "stdout",
       "text": [
        "\r",
        "1.141.A.step1.genomecoverage.txt               19% 6030MB   4.5MB/s 1:34:56 ETA"
       ]
      },
      {
       "output_type": "stream",
       "stream": "stdout",
       "text": [
        "\r",
        "1.141.A.step1.genomecoverage.txt               19% 6035MB   4.6MB/s 1:33:27 ETA"
       ]
      },
      {
       "output_type": "stream",
       "stream": "stdout",
       "text": [
        "\r",
        "1.141.A.step1.genomecoverage.txt               19% 6040MB   4.6MB/s 1:32:14 ETA"
       ]
      },
      {
       "output_type": "stream",
       "stream": "stdout",
       "text": [
        "\r",
        "1.141.A.step1.genomecoverage.txt               19% 6045MB   4.7MB/s 1:30:58 ETA"
       ]
      },
      {
       "output_type": "stream",
       "stream": "stdout",
       "text": [
        "\r",
        "1.141.A.step1.genomecoverage.txt               19% 6050MB   4.7MB/s 1:30:06 ETA"
       ]
      },
      {
       "output_type": "stream",
       "stream": "stdout",
       "text": [
        "\r",
        "1.141.A.step1.genomecoverage.txt               19% 6054MB   4.7MB/s 1:31:47 ETA"
       ]
      },
      {
       "output_type": "stream",
       "stream": "stdout",
       "text": [
        "\r",
        "1.141.A.step1.genomecoverage.txt               19% 6058MB   4.6MB/s 1:33:03 ETA"
       ]
      },
      {
       "output_type": "stream",
       "stream": "stdout",
       "text": [
        "\r",
        "1.141.A.step1.genomecoverage.txt               19% 6062MB   4.5MB/s 1:34:08 ETA"
       ]
      },
      {
       "output_type": "stream",
       "stream": "stdout",
       "text": [
        "\r",
        "1.141.A.step1.genomecoverage.txt               19% 6066MB   4.5MB/s 1:35:05 ETA"
       ]
      },
      {
       "output_type": "stream",
       "stream": "stdout",
       "text": [
        "\r",
        "1.141.A.step1.genomecoverage.txt               19% 6070MB   4.5MB/s 1:35:53 ETA"
       ]
      },
      {
       "output_type": "stream",
       "stream": "stdout",
       "text": [
        "\r",
        "1.141.A.step1.genomecoverage.txt               19% 6075MB   4.5MB/s 1:35:49 ETA"
       ]
      },
      {
       "output_type": "stream",
       "stream": "stdout",
       "text": [
        "\r",
        "1.141.A.step1.genomecoverage.txt               19% 6080MB   4.5MB/s 1:35:12 ETA"
       ]
      },
      {
       "output_type": "stream",
       "stream": "stdout",
       "text": [
        "\r",
        "1.141.A.step1.genomecoverage.txt               19% 6085MB   4.6MB/s 1:33:23 ETA"
       ]
      },
      {
       "output_type": "stream",
       "stream": "stdout",
       "text": [
        "\r",
        "1.141.A.step1.genomecoverage.txt               19% 6090MB   4.6MB/s 1:32:43 ETA"
       ]
      },
      {
       "output_type": "stream",
       "stream": "stdout",
       "text": [
        "\r",
        "1.141.A.step1.genomecoverage.txt               19% 6095MB   4.7MB/s 1:31:37 ETA"
       ]
      },
      {
       "output_type": "stream",
       "stream": "stdout",
       "text": [
        "\r",
        "1.141.A.step1.genomecoverage.txt               19% 6100MB   4.7MB/s 1:30:03 ETA"
       ]
      },
      {
       "output_type": "stream",
       "stream": "stdout",
       "text": [
        "\r",
        "1.141.A.step1.genomecoverage.txt               19% 6105MB   4.7MB/s 1:31:05 ETA"
       ]
      },
      {
       "output_type": "stream",
       "stream": "stdout",
       "text": [
        "\r",
        "1.141.A.step1.genomecoverage.txt               19% 6109MB   4.6MB/s 1:32:08 ETA"
       ]
      },
      {
       "output_type": "stream",
       "stream": "stdout",
       "text": [
        "\r",
        "1.141.A.step1.genomecoverage.txt               19% 6113MB   4.6MB/s 1:32:44 ETA"
       ]
      },
      {
       "output_type": "stream",
       "stream": "stdout",
       "text": [
        "\r",
        "1.141.A.step1.genomecoverage.txt               19% 6118MB   4.6MB/s 1:33:06 ETA"
       ]
      },
      {
       "output_type": "stream",
       "stream": "stdout",
       "text": [
        "\r",
        "1.141.A.step1.genomecoverage.txt               19% 6122MB   4.5MB/s 1:33:43 ETA"
       ]
      },
      {
       "output_type": "stream",
       "stream": "stdout",
       "text": [
        "\r",
        "1.141.A.step1.genomecoverage.txt               19% 6126MB   4.5MB/s 1:33:50 ETA"
       ]
      },
      {
       "output_type": "stream",
       "stream": "stdout",
       "text": [
        "\r",
        "1.141.A.step1.genomecoverage.txt               19% 6131MB   4.6MB/s 1:32:54 ETA"
       ]
      },
      {
       "output_type": "stream",
       "stream": "stdout",
       "text": [
        "\r",
        "1.141.A.step1.genomecoverage.txt               19% 6135MB   4.5MB/s 1:33:55 ETA"
       ]
      },
      {
       "output_type": "stream",
       "stream": "stdout",
       "text": [
        "\r",
        "1.141.A.step1.genomecoverage.txt               19% 6139MB   4.5MB/s 1:35:17 ETA"
       ]
      },
      {
       "output_type": "stream",
       "stream": "stdout",
       "text": [
        "\r",
        "1.141.A.step1.genomecoverage.txt               19% 6144MB   4.5MB/s 1:35:38 ETA"
       ]
      },
      {
       "output_type": "stream",
       "stream": "stdout",
       "text": [
        "\r",
        "1.141.A.step1.genomecoverage.txt               19% 6148MB   4.4MB/s 1:36:19 ETA"
       ]
      },
      {
       "output_type": "stream",
       "stream": "stdout",
       "text": [
        "\r",
        "1.141.A.step1.genomecoverage.txt               19% 6149MB   4.2MB/s 1:42:35 ETA"
       ]
      },
      {
       "output_type": "stream",
       "stream": "stdout",
       "text": [
        "\r",
        "1.141.A.step1.genomecoverage.txt               19% 6151MB   3.9MB/s 1:50:30 ETA"
       ]
      },
      {
       "output_type": "stream",
       "stream": "stdout",
       "text": [
        "\r",
        "1.141.A.step1.genomecoverage.txt               19% 6152MB   3.6MB/s 1:58:36 ETA"
       ]
      },
      {
       "output_type": "stream",
       "stream": "stdout",
       "text": [
        "\r",
        "1.141.A.step1.genomecoverage.txt               19% 6153MB   3.4MB/s 2:05:31 ETA"
       ]
      },
      {
       "output_type": "stream",
       "stream": "stdout",
       "text": [
        "\r",
        "1.141.A.step1.genomecoverage.txt               19% 6155MB   3.2MB/s 2:12:24 ETA"
       ]
      },
      {
       "output_type": "stream",
       "stream": "stdout",
       "text": [
        "\r",
        "1.141.A.step1.genomecoverage.txt               19% 6157MB   3.1MB/s 2:18:30 ETA"
       ]
      },
      {
       "output_type": "stream",
       "stream": "stdout",
       "text": [
        "\r",
        "1.141.A.step1.genomecoverage.txt               19% 6159MB   3.0MB/s 2:24:15 ETA"
       ]
      },
      {
       "output_type": "stream",
       "stream": "stdout",
       "text": [
        "\r",
        "1.141.A.step1.genomecoverage.txt               19% 6161MB   2.9MB/s 2:27:25 ETA"
       ]
      },
      {
       "output_type": "stream",
       "stream": "stdout",
       "text": [
        "\r",
        "1.141.A.step1.genomecoverage.txt               19% 6164MB   2.9MB/s 2:25:24 ETA"
       ]
      },
      {
       "output_type": "stream",
       "stream": "stdout",
       "text": [
        "\r",
        "1.141.A.step1.genomecoverage.txt               19% 6169MB   3.1MB/s 2:16:50 ETA"
       ]
      },
      {
       "output_type": "stream",
       "stream": "stdout",
       "text": [
        "\r",
        "1.141.A.step1.genomecoverage.txt               19% 6176MB   3.5MB/s 2:02:03 ETA"
       ]
      },
      {
       "output_type": "stream",
       "stream": "stdout",
       "text": [
        "\r",
        "1.141.A.step1.genomecoverage.txt               19% 6186MB   4.1MB/s 1:43:33 ETA"
       ]
      },
      {
       "output_type": "stream",
       "stream": "stdout",
       "text": [
        "\r",
        "1.141.A.step1.genomecoverage.txt               19% 6194MB   4.6MB/s 1:33:03 ETA"
       ]
      },
      {
       "output_type": "stream",
       "stream": "stdout",
       "text": [
        "\r",
        "1.141.A.step1.genomecoverage.txt               19% 6204MB   5.1MB/s 1:23:30 ETA"
       ]
      },
      {
       "output_type": "stream",
       "stream": "stdout",
       "text": [
        "\r",
        "1.141.A.step1.genomecoverage.txt               19% 6214MB   5.6MB/s 1:15:49 ETA"
       ]
      },
      {
       "output_type": "stream",
       "stream": "stdout",
       "text": [
        "\r",
        "1.141.A.step1.genomecoverage.txt               19% 6225MB   6.1MB/s 1:09:22 ETA"
       ]
      },
      {
       "output_type": "stream",
       "stream": "stdout",
       "text": [
        "\r",
        "1.141.A.step1.genomecoverage.txt               19% 6234MB   6.4MB/s 1:05:49 ETA"
       ]
      },
      {
       "output_type": "stream",
       "stream": "stdout",
       "text": [
        "\r",
        "1.141.A.step1.genomecoverage.txt               19% 6242MB   6.6MB/s 1:04:27 ETA"
       ]
      },
      {
       "output_type": "stream",
       "stream": "stdout",
       "text": [
        "\r",
        "1.141.A.step1.genomecoverage.txt               19% 6250MB   6.7MB/s 1:02:51 ETA"
       ]
      },
      {
       "output_type": "stream",
       "stream": "stdout",
       "text": [
        "\r",
        "1.141.A.step1.genomecoverage.txt               19% 6259MB   7.0MB/s 1:00:50 ETA"
       ]
      },
      {
       "output_type": "stream",
       "stream": "stdout",
       "text": [
        "\r",
        "1.141.A.step1.genomecoverage.txt               19% 6267MB   7.0MB/s 1:00:07 ETA"
       ]
      },
      {
       "output_type": "stream",
       "stream": "stdout",
       "text": [
        "\r",
        "1.141.A.step1.genomecoverage.txt               19% 6274MB   7.1MB/s   59:59 ETA"
       ]
      },
      {
       "output_type": "stream",
       "stream": "stdout",
       "text": [
        "\r",
        "1.141.A.step1.genomecoverage.txt               19% 6282MB   7.1MB/s   59:27 ETA"
       ]
      },
      {
       "output_type": "stream",
       "stream": "stdout",
       "text": [
        "\r",
        "1.141.A.step1.genomecoverage.txt               19% 6288MB   7.0MB/s 1:00:33 ETA"
       ]
      },
      {
       "output_type": "stream",
       "stream": "stdout",
       "text": [
        "\r",
        "1.141.A.step1.genomecoverage.txt               19% 6292MB   6.7MB/s 1:03:12 ETA"
       ]
      },
      {
       "output_type": "stream",
       "stream": "stdout",
       "text": [
        "\r",
        "1.141.A.step1.genomecoverage.txt               19% 6296MB   6.5MB/s 1:05:12 ETA"
       ]
      },
      {
       "output_type": "stream",
       "stream": "stdout",
       "text": [
        "\r",
        "1.141.A.step1.genomecoverage.txt               19% 6301MB   6.3MB/s 1:06:53 ETA"
       ]
      },
      {
       "output_type": "stream",
       "stream": "stdout",
       "text": [
        "\r",
        "1.141.A.step1.genomecoverage.txt               19% 6306MB   6.2MB/s 1:08:27 ETA"
       ]
      },
      {
       "output_type": "stream",
       "stream": "stdout",
       "text": [
        "\r",
        "1.141.A.step1.genomecoverage.txt               19% 6311MB   6.0MB/s 1:09:57 ETA"
       ]
      },
      {
       "output_type": "stream",
       "stream": "stdout",
       "text": [
        "\r",
        "1.141.A.step1.genomecoverage.txt               19% 6315MB   5.8MB/s 1:12:28 ETA"
       ]
      },
      {
       "output_type": "stream",
       "stream": "stdout",
       "text": [
        "\r",
        "1.141.A.step1.genomecoverage.txt               19% 6319MB   5.5MB/s 1:17:17 ETA"
       ]
      },
      {
       "output_type": "stream",
       "stream": "stdout",
       "text": [
        "\r",
        "1.141.A.step1.genomecoverage.txt               19% 6324MB   5.4MB/s 1:18:07 ETA"
       ]
      },
      {
       "output_type": "stream",
       "stream": "stdout",
       "text": [
        "\r",
        "1.141.A.step1.genomecoverage.txt               19% 6329MB   5.4MB/s 1:18:46 ETA"
       ]
      },
      {
       "output_type": "stream",
       "stream": "stdout",
       "text": [
        "\r",
        "1.141.A.step1.genomecoverage.txt               19% 6333MB   5.2MB/s 1:20:44 ETA"
       ]
      },
      {
       "output_type": "stream",
       "stream": "stdout",
       "text": [
        "\r",
        "1.141.A.step1.genomecoverage.txt               20% 6336MB   5.0MB/s 1:24:05 ETA"
       ]
      },
      {
       "output_type": "stream",
       "stream": "stdout",
       "text": [
        "\r",
        "1.141.A.step1.genomecoverage.txt               20% 6340MB   4.9MB/s 1:26:54 ETA"
       ]
      },
      {
       "output_type": "stream",
       "stream": "stdout",
       "text": [
        "\r",
        "1.141.A.step1.genomecoverage.txt               20% 6343MB   4.7MB/s 1:29:18 ETA"
       ]
      },
      {
       "output_type": "stream",
       "stream": "stdout",
       "text": [
        "\r",
        "1.141.A.step1.genomecoverage.txt               20% 6347MB   4.6MB/s 1:31:46 ETA"
       ]
      },
      {
       "output_type": "stream",
       "stream": "stdout",
       "text": [
        "\r",
        "1.141.A.step1.genomecoverage.txt               20% 6350MB   4.5MB/s 1:34:33 ETA"
       ]
      },
      {
       "output_type": "stream",
       "stream": "stdout",
       "text": [
        "\r",
        "1.141.A.step1.genomecoverage.txt               20% 6353MB   4.3MB/s 1:38:28 ETA"
       ]
      },
      {
       "output_type": "stream",
       "stream": "stdout",
       "text": [
        "\r",
        "1.141.A.step1.genomecoverage.txt               20% 6356MB   4.2MB/s 1:40:29 ETA"
       ]
      },
      {
       "output_type": "stream",
       "stream": "stdout",
       "text": [
        "\r",
        "1.141.A.step1.genomecoverage.txt               20% 6360MB   4.1MB/s 1:42:05 ETA"
       ]
      },
      {
       "output_type": "stream",
       "stream": "stdout",
       "text": [
        "\r",
        "1.141.A.step1.genomecoverage.txt               20% 6363MB   4.0MB/s 1:44:48 ETA"
       ]
      },
      {
       "output_type": "stream",
       "stream": "stdout",
       "text": [
        "\r",
        "1.141.A.step1.genomecoverage.txt               20% 6366MB   4.0MB/s 1:46:17 ETA"
       ]
      },
      {
       "output_type": "stream",
       "stream": "stdout",
       "text": [
        "\r",
        "1.141.A.step1.genomecoverage.txt               20% 6370MB   3.9MB/s 1:47:05 ETA"
       ]
      },
      {
       "output_type": "stream",
       "stream": "stdout",
       "text": [
        "\r",
        "1.141.A.step1.genomecoverage.txt               20% 6374MB   3.9MB/s 1:47:01 ETA"
       ]
      },
      {
       "output_type": "stream",
       "stream": "stdout",
       "text": [
        "\r",
        "1.141.A.step1.genomecoverage.txt               20% 6378MB   4.0MB/s 1:45:01 ETA"
       ]
      },
      {
       "output_type": "stream",
       "stream": "stdout",
       "text": [
        "\r",
        "1.141.A.step1.genomecoverage.txt               20% 6383MB   4.1MB/s 1:43:04 ETA"
       ]
      },
      {
       "output_type": "stream",
       "stream": "stdout",
       "text": [
        "\r",
        "1.141.A.step1.genomecoverage.txt               20% 6388MB   4.2MB/s 1:40:57 ETA"
       ]
      },
      {
       "output_type": "stream",
       "stream": "stdout",
       "text": [
        "\r",
        "1.141.A.step1.genomecoverage.txt               20% 6393MB   4.3MB/s 1:38:41 ETA"
       ]
      },
      {
       "output_type": "stream",
       "stream": "stdout",
       "text": [
        "\r",
        "1.141.A.step1.genomecoverage.txt               20% 6399MB   4.4MB/s 1:36:19 ETA"
       ]
      },
      {
       "output_type": "stream",
       "stream": "stdout",
       "text": [
        "\r",
        "1.141.A.step1.genomecoverage.txt               20% 6404MB   4.5MB/s 1:34:14 ETA"
       ]
      },
      {
       "output_type": "stream",
       "stream": "stdout",
       "text": [
        "\r",
        "1.141.A.step1.genomecoverage.txt               20% 6409MB   4.6MB/s 1:32:17 ETA"
       ]
      },
      {
       "output_type": "stream",
       "stream": "stdout",
       "text": [
        "\r",
        "1.141.A.step1.genomecoverage.txt               20% 6415MB   4.7MB/s 1:30:24 ETA"
       ]
      },
      {
       "output_type": "stream",
       "stream": "stdout",
       "text": [
        "\r",
        "1.141.A.step1.genomecoverage.txt               20% 6420MB   4.8MB/s 1:28:36 ETA"
       ]
      },
      {
       "output_type": "stream",
       "stream": "stdout",
       "text": [
        "\r",
        "1.141.A.step1.genomecoverage.txt               20% 6427MB   4.9MB/s 1:25:49 ETA"
       ]
      },
      {
       "output_type": "stream",
       "stream": "stdout",
       "text": [
        "\r",
        "1.141.A.step1.genomecoverage.txt               20% 6434MB   5.1MB/s 1:21:51 ETA"
       ]
      },
      {
       "output_type": "stream",
       "stream": "stdout",
       "text": [
        "\r",
        "1.141.A.step1.genomecoverage.txt               20% 6442MB   5.5MB/s 1:16:48 ETA"
       ]
      },
      {
       "output_type": "stream",
       "stream": "stdout",
       "text": [
        "\r",
        "1.141.A.step1.genomecoverage.txt               20% 6452MB   5.9MB/s 1:10:58 ETA"
       ]
      },
      {
       "output_type": "stream",
       "stream": "stdout",
       "text": [
        "\r",
        "1.141.A.step1.genomecoverage.txt               20% 6464MB   6.5MB/s 1:04:30 ETA"
       ]
      },
      {
       "output_type": "stream",
       "stream": "stdout",
       "text": [
        "\r",
        "1.141.A.step1.genomecoverage.txt               20% 6478MB   7.2MB/s   58:06 ETA"
       ]
      },
      {
       "output_type": "stream",
       "stream": "stdout",
       "text": [
        "\r",
        "1.141.A.step1.genomecoverage.txt               20% 6490MB   7.8MB/s   54:04 ETA"
       ]
      },
      {
       "output_type": "stream",
       "stream": "stdout",
       "text": [
        "\r",
        "1.141.A.step1.genomecoverage.txt               20% 6503MB   8.3MB/s   50:40 ETA"
       ]
      },
      {
       "output_type": "stream",
       "stream": "stdout",
       "text": [
        "\r",
        "1.141.A.step1.genomecoverage.txt               20% 6516MB   8.7MB/s   48:02 ETA"
       ]
      },
      {
       "output_type": "stream",
       "stream": "stdout",
       "text": [
        "\r",
        "1.141.A.step1.genomecoverage.txt               20% 6528MB   9.1MB/s   46:09 ETA"
       ]
      },
      {
       "output_type": "stream",
       "stream": "stdout",
       "text": [
        "\r",
        "1.141.A.step1.genomecoverage.txt               20% 6539MB   9.2MB/s   45:35 ETA"
       ]
      },
      {
       "output_type": "stream",
       "stream": "stdout",
       "text": [
        "\r",
        "1.141.A.step1.genomecoverage.txt               20% 6549MB   9.3MB/s   44:56 ETA"
       ]
      },
      {
       "output_type": "stream",
       "stream": "stdout",
       "text": [
        "\r",
        "1.141.A.step1.genomecoverage.txt               20% 6560MB   9.5MB/s   44:15 ETA"
       ]
      },
      {
       "output_type": "stream",
       "stream": "stdout",
       "text": [
        "\r",
        "1.141.A.step1.genomecoverage.txt               20% 6571MB   9.6MB/s   43:29 ETA"
       ]
      },
      {
       "output_type": "stream",
       "stream": "stdout",
       "text": [
        "\r",
        "1.141.A.step1.genomecoverage.txt               20% 6580MB   9.6MB/s   43:31 ETA"
       ]
      },
      {
       "output_type": "stream",
       "stream": "stdout",
       "text": [
        "\r",
        "1.141.A.step1.genomecoverage.txt               20% 6586MB   9.2MB/s   45:35 ETA"
       ]
      },
      {
       "output_type": "stream",
       "stream": "stdout",
       "text": [
        "\r",
        "1.141.A.step1.genomecoverage.txt               20% 6589MB   8.6MB/s   48:29 ETA"
       ]
      },
      {
       "output_type": "stream",
       "stream": "stdout",
       "text": [
        "\r",
        "1.141.A.step1.genomecoverage.txt               20% 6593MB   8.1MB/s   51:38 ETA"
       ]
      },
      {
       "output_type": "stream",
       "stream": "stdout",
       "text": [
        "\r",
        "1.141.A.step1.genomecoverage.txt               20% 6596MB   7.6MB/s   55:07 ETA"
       ]
      },
      {
       "output_type": "stream",
       "stream": "stdout",
       "text": [
        "\r",
        "1.141.A.step1.genomecoverage.txt               20% 6598MB   7.1MB/s   58:56 ETA"
       ]
      },
      {
       "output_type": "stream",
       "stream": "stdout",
       "text": [
        "\r",
        "1.141.A.step1.genomecoverage.txt               20% 6601MB   6.7MB/s 1:02:52 ETA"
       ]
      },
      {
       "output_type": "stream",
       "stream": "stdout",
       "text": [
        "\r",
        "1.141.A.step1.genomecoverage.txt               20% 6604MB   6.3MB/s 1:06:49 ETA"
       ]
      },
      {
       "output_type": "stream",
       "stream": "stdout",
       "text": [
        "\r",
        "1.141.A.step1.genomecoverage.txt               20% 6606MB   5.9MB/s 1:10:49 ETA"
       ]
      },
      {
       "output_type": "stream",
       "stream": "stdout",
       "text": [
        "\r",
        "1.141.A.step1.genomecoverage.txt               20% 6609MB   5.6MB/s 1:14:27 ETA"
       ]
      },
      {
       "output_type": "stream",
       "stream": "stdout",
       "text": [
        "\r",
        "1.141.A.step1.genomecoverage.txt               20% 6613MB   5.4MB/s 1:17:24 ETA"
       ]
      },
      {
       "output_type": "stream",
       "stream": "stdout",
       "text": [
        "\r",
        "1.141.A.step1.genomecoverage.txt               20% 6617MB   5.3MB/s 1:19:07 ETA"
       ]
      },
      {
       "output_type": "stream",
       "stream": "stdout",
       "text": [
        "\r",
        "1.141.A.step1.genomecoverage.txt               20% 6622MB   5.3MB/s 1:19:21 ETA"
       ]
      },
      {
       "output_type": "stream",
       "stream": "stdout",
       "text": [
        "\r",
        "1.141.A.step1.genomecoverage.txt               20% 6629MB   5.4MB/s 1:17:09 ETA"
       ]
      },
      {
       "output_type": "stream",
       "stream": "stdout",
       "text": [
        "\r",
        "1.141.A.step1.genomecoverage.txt               20% 6638MB   5.8MB/s 1:12:23 ETA"
       ]
      },
      {
       "output_type": "stream",
       "stream": "stdout",
       "text": [
        "\r",
        "1.141.A.step1.genomecoverage.txt               20% 6647MB   6.1MB/s 1:08:26 ETA"
       ]
      },
      {
       "output_type": "stream",
       "stream": "stdout",
       "text": [
        "\r",
        "1.141.A.step1.genomecoverage.txt               21% 6656MB   6.4MB/s 1:04:49 ETA"
       ]
      },
      {
       "output_type": "stream",
       "stream": "stdout",
       "text": [
        "\r",
        "1.141.A.step1.genomecoverage.txt               21% 6666MB   6.8MB/s 1:01:24 ETA"
       ]
      },
      {
       "output_type": "stream",
       "stream": "stdout",
       "text": [
        "\r",
        "1.141.A.step1.genomecoverage.txt               21% 6677MB   7.2MB/s   57:41 ETA"
       ]
      },
      {
       "output_type": "stream",
       "stream": "stdout",
       "text": [
        "\r",
        "1.141.A.step1.genomecoverage.txt               21% 6688MB   7.6MB/s   54:51 ETA"
       ]
      },
      {
       "output_type": "stream",
       "stream": "stdout",
       "text": [
        "\r",
        "1.141.A.step1.genomecoverage.txt               21% 6700MB   8.0MB/s   52:19 ETA"
       ]
      },
      {
       "output_type": "stream",
       "stream": "stdout",
       "text": [
        "\r",
        "1.141.A.step1.genomecoverage.txt               21% 6710MB   8.2MB/s   50:29 ETA"
       ]
      },
      {
       "output_type": "stream",
       "stream": "stdout",
       "text": [
        "\r",
        "1.141.A.step1.genomecoverage.txt               21% 6718MB   8.2MB/s   50:54 ETA"
       ]
      },
      {
       "output_type": "stream",
       "stream": "stdout",
       "text": [
        "\r",
        "1.141.A.step1.genomecoverage.txt               21% 6724MB   8.0MB/s   52:18 ETA"
       ]
      },
      {
       "output_type": "stream",
       "stream": "stdout",
       "text": [
        "\r",
        "1.141.A.step1.genomecoverage.txt               21% 6728MB   7.6MB/s   54:47 ETA"
       ]
      },
      {
       "output_type": "stream",
       "stream": "stdout",
       "text": [
        "\r",
        "1.141.A.step1.genomecoverage.txt               21% 6733MB   7.3MB/s   57:01 ETA"
       ]
      },
      {
       "output_type": "stream",
       "stream": "stdout",
       "text": [
        "\r",
        "1.141.A.step1.genomecoverage.txt               21% 6738MB   7.1MB/s   58:55 ETA"
       ]
      },
      {
       "output_type": "stream",
       "stream": "stdout",
       "text": [
        "\r",
        "1.141.A.step1.genomecoverage.txt               21% 6743MB   6.8MB/s 1:00:47 ETA"
       ]
      },
      {
       "output_type": "stream",
       "stream": "stdout",
       "text": [
        "\r",
        "1.141.A.step1.genomecoverage.txt               21% 6748MB   6.6MB/s 1:02:33 ETA"
       ]
      },
      {
       "output_type": "stream",
       "stream": "stdout",
       "text": [
        "\r",
        "1.141.A.step1.genomecoverage.txt               21% 6753MB   6.5MB/s 1:04:05 ETA"
       ]
      },
      {
       "output_type": "stream",
       "stream": "stdout",
       "text": [
        "\r",
        "1.141.A.step1.genomecoverage.txt               21% 6758MB   6.4MB/s 1:05:23 ETA"
       ]
      },
      {
       "output_type": "stream",
       "stream": "stdout",
       "text": [
        "\r",
        "1.141.A.step1.genomecoverage.txt               21% 6762MB   6.2MB/s 1:07:27 ETA"
       ]
      },
      {
       "output_type": "stream",
       "stream": "stdout",
       "text": [
        "\r",
        "1.141.A.step1.genomecoverage.txt               21% 6767MB   6.0MB/s 1:08:42 ETA"
       ]
      },
      {
       "output_type": "stream",
       "stream": "stdout",
       "text": [
        "\r",
        "1.141.A.step1.genomecoverage.txt               21% 6770MB   5.8MB/s 1:12:06 ETA"
       ]
      },
      {
       "output_type": "stream",
       "stream": "stdout",
       "text": [
        "\r",
        "1.141.A.step1.genomecoverage.txt               21% 6774MB   5.5MB/s 1:15:21 ETA"
       ]
      },
      {
       "output_type": "stream",
       "stream": "stdout",
       "text": [
        "\r",
        "1.141.A.step1.genomecoverage.txt               21% 6776MB   5.2MB/s 1:19:24 ETA"
       ]
      },
      {
       "output_type": "stream",
       "stream": "stdout",
       "text": [
        "\r",
        "1.141.A.step1.genomecoverage.txt               21% 6779MB   5.0MB/s 1:23:24 ETA"
       ]
      },
      {
       "output_type": "stream",
       "stream": "stdout",
       "text": [
        "\r",
        "1.141.A.step1.genomecoverage.txt               21% 6782MB   4.8MB/s 1:27:11 ETA"
       ]
      },
      {
       "output_type": "stream",
       "stream": "stdout",
       "text": [
        "\r",
        "1.141.A.step1.genomecoverage.txt               21% 6785MB   4.6MB/s 1:31:02 ETA"
       ]
      },
      {
       "output_type": "stream",
       "stream": "stdout",
       "text": [
        "\r",
        "1.141.A.step1.genomecoverage.txt               21% 6787MB   4.4MB/s 1:34:43 ETA"
       ]
      },
      {
       "output_type": "stream",
       "stream": "stdout",
       "text": [
        "\r",
        "1.141.A.step1.genomecoverage.txt               21% 6790MB   4.2MB/s 1:37:47 ETA"
       ]
      },
      {
       "output_type": "stream",
       "stream": "stdout",
       "text": [
        "\r",
        "1.141.A.step1.genomecoverage.txt               21% 6794MB   4.2MB/s 1:38:44 ETA"
       ]
      },
      {
       "output_type": "stream",
       "stream": "stdout",
       "text": [
        "\r",
        "1.141.A.step1.genomecoverage.txt               21% 6799MB   4.2MB/s 1:37:46 ETA"
       ]
      },
      {
       "output_type": "stream",
       "stream": "stdout",
       "text": [
        "\r",
        "1.141.A.step1.genomecoverage.txt               21% 6803MB   4.2MB/s 1:37:39 ETA"
       ]
      },
      {
       "output_type": "stream",
       "stream": "stdout",
       "text": [
        "\r",
        "1.141.A.step1.genomecoverage.txt               21% 6808MB   4.3MB/s 1:35:58 ETA"
       ]
      },
      {
       "output_type": "stream",
       "stream": "stdout",
       "text": [
        "\r",
        "1.141.A.step1.genomecoverage.txt               21% 6813MB   4.4MB/s 1:34:27 ETA"
       ]
      },
      {
       "output_type": "stream",
       "stream": "stdout",
       "text": [
        "\r",
        "1.141.A.step1.genomecoverage.txt               21% 6818MB   4.5MB/s 1:32:41 ETA"
       ]
      },
      {
       "output_type": "stream",
       "stream": "stdout",
       "text": [
        "\r",
        "1.141.A.step1.genomecoverage.txt               21% 6823MB   4.5MB/s 1:31:21 ETA"
       ]
      },
      {
       "output_type": "stream",
       "stream": "stdout",
       "text": [
        "\r",
        "1.141.A.step1.genomecoverage.txt               21% 6829MB   4.6MB/s 1:30:08 ETA"
       ]
      },
      {
       "output_type": "stream",
       "stream": "stdout",
       "text": [
        "\r",
        "1.141.A.step1.genomecoverage.txt               21% 6834MB   4.7MB/s 1:28:36 ETA"
       ]
      },
      {
       "output_type": "stream",
       "stream": "stdout",
       "text": [
        "\r",
        "1.141.A.step1.genomecoverage.txt               21% 6839MB   4.7MB/s 1:27:20 ETA"
       ]
      },
      {
       "output_type": "stream",
       "stream": "stdout",
       "text": [
        "\r",
        "1.141.A.step1.genomecoverage.txt               21% 6846MB   4.9MB/s 1:23:50 ETA"
       ]
      },
      {
       "output_type": "stream",
       "stream": "stdout",
       "text": [
        "\r",
        "1.141.A.step1.genomecoverage.txt               21% 6854MB   5.2MB/s 1:19:40 ETA"
       ]
      },
      {
       "output_type": "stream",
       "stream": "stdout",
       "text": [
        "\r",
        "1.141.A.step1.genomecoverage.txt               21% 6863MB   5.6MB/s 1:13:29 ETA"
       ]
      },
      {
       "output_type": "stream",
       "stream": "stdout",
       "text": [
        "\r",
        "1.141.A.step1.genomecoverage.txt               21% 6874MB   6.2MB/s 1:06:42 ETA"
       ]
      },
      {
       "output_type": "stream",
       "stream": "stdout",
       "text": [
        "\r",
        "1.141.A.step1.genomecoverage.txt               21% 6886MB   6.7MB/s 1:01:22 ETA"
       ]
      },
      {
       "output_type": "stream",
       "stream": "stdout",
       "text": [
        "\r",
        "1.141.A.step1.genomecoverage.txt               21% 6896MB   7.0MB/s   58:47 ETA"
       ]
      },
      {
       "output_type": "stream",
       "stream": "stdout",
       "text": [
        "\r",
        "1.141.A.step1.genomecoverage.txt               21% 6905MB   7.2MB/s   57:07 ETA"
       ]
      },
      {
       "output_type": "stream",
       "stream": "stdout",
       "text": [
        "\r",
        "1.141.A.step1.genomecoverage.txt               21% 6912MB   7.3MB/s   56:54 ETA"
       ]
      },
      {
       "output_type": "stream",
       "stream": "stdout",
       "text": [
        "\r",
        "1.141.A.step1.genomecoverage.txt               21% 6920MB   7.3MB/s   56:36 ETA"
       ]
      },
      {
       "output_type": "stream",
       "stream": "stdout",
       "text": [
        "\r",
        "1.141.A.step1.genomecoverage.txt               21% 6927MB   7.3MB/s   56:13 ETA"
       ]
      },
      {
       "output_type": "stream",
       "stream": "stdout",
       "text": [
        "\r",
        "1.141.A.step1.genomecoverage.txt               21% 6935MB   7.4MB/s   55:54 ETA"
       ]
      },
      {
       "output_type": "stream",
       "stream": "stdout",
       "text": [
        "\r",
        "1.141.A.step1.genomecoverage.txt               21% 6943MB   7.4MB/s   55:34 ETA"
       ]
      },
      {
       "output_type": "stream",
       "stream": "stdout",
       "text": [
        "\r",
        "1.141.A.step1.genomecoverage.txt               21% 6951MB   7.5MB/s   55:09 ETA"
       ]
      },
      {
       "output_type": "stream",
       "stream": "stdout",
       "text": [
        "\r",
        "1.141.A.step1.genomecoverage.txt               21% 6959MB   7.5MB/s   54:41 ETA"
       ]
      },
      {
       "output_type": "stream",
       "stream": "stdout",
       "text": [
        "\r",
        "1.141.A.step1.genomecoverage.txt               21% 6968MB   7.6MB/s   53:54 ETA"
       ]
      },
      {
       "output_type": "stream",
       "stream": "stdout",
       "text": [
        "\r",
        "1.141.A.step1.genomecoverage.txt               22% 6977MB   7.8MB/s   52:48 ETA"
       ]
      },
      {
       "output_type": "stream",
       "stream": "stdout",
       "text": [
        "\r",
        "1.141.A.step1.genomecoverage.txt               22% 6987MB   8.0MB/s   51:23 ETA"
       ]
      },
      {
       "output_type": "stream",
       "stream": "stdout",
       "text": [
        "\r",
        "1.141.A.step1.genomecoverage.txt               22% 6997MB   8.2MB/s   50:10 ETA"
       ]
      },
      {
       "output_type": "stream",
       "stream": "stdout",
       "text": [
        "\r",
        "1.141.A.step1.genomecoverage.txt               22% 7004MB   8.1MB/s   50:55 ETA"
       ]
      },
      {
       "output_type": "stream",
       "stream": "stdout",
       "text": [
        "\r",
        "1.141.A.step1.genomecoverage.txt               22% 7010MB   7.9MB/s   52:17 ETA"
       ]
      },
      {
       "output_type": "stream",
       "stream": "stdout",
       "text": [
        "\r",
        "1.141.A.step1.genomecoverage.txt               22% 7015MB   7.6MB/s   54:07 ETA"
       ]
      },
      {
       "output_type": "stream",
       "stream": "stdout",
       "text": [
        "\r",
        "1.141.A.step1.genomecoverage.txt               22% 7020MB   7.4MB/s   55:41 ETA"
       ]
      },
      {
       "output_type": "stream",
       "stream": "stdout",
       "text": [
        "\r",
        "1.141.A.step1.genomecoverage.txt               22% 7026MB   7.2MB/s   57:17 ETA"
       ]
      },
      {
       "output_type": "stream",
       "stream": "stdout",
       "text": [
        "\r",
        "1.141.A.step1.genomecoverage.txt               22% 7031MB   7.0MB/s   58:36 ETA"
       ]
      },
      {
       "output_type": "stream",
       "stream": "stdout",
       "text": [
        "\r",
        "1.141.A.step1.genomecoverage.txt               22% 7036MB   6.9MB/s   59:59 ETA"
       ]
      },
      {
       "output_type": "stream",
       "stream": "stdout",
       "text": [
        "\r",
        "1.141.A.step1.genomecoverage.txt               22% 7042MB   6.7MB/s 1:01:11 ETA"
       ]
      },
      {
       "output_type": "stream",
       "stream": "stdout",
       "text": [
        "\r",
        "1.141.A.step1.genomecoverage.txt               22% 7048MB   6.6MB/s 1:02:12 ETA"
       ]
      },
      {
       "output_type": "stream",
       "stream": "stdout",
       "text": [
        "\r",
        "1.141.A.step1.genomecoverage.txt               22% 7055MB   6.7MB/s 1:01:29 ETA"
       ]
      },
      {
       "output_type": "stream",
       "stream": "stdout",
       "text": [
        "\r",
        "1.141.A.step1.genomecoverage.txt               22% 7063MB   6.8MB/s 1:00:01 ETA"
       ]
      },
      {
       "output_type": "stream",
       "stream": "stdout",
       "text": [
        "\r",
        "1.141.A.step1.genomecoverage.txt               22% 7072MB   7.1MB/s   58:04 ETA"
       ]
      },
      {
       "output_type": "stream",
       "stream": "stdout",
       "text": [
        "\r",
        "1.141.A.step1.genomecoverage.txt               22% 7080MB   7.2MB/s   57:07 ETA"
       ]
      },
      {
       "output_type": "stream",
       "stream": "stdout",
       "text": [
        "\r",
        "1.141.A.step1.genomecoverage.txt               22% 7090MB   7.4MB/s   55:22 ETA"
       ]
      },
      {
       "output_type": "stream",
       "stream": "stdout",
       "text": [
        "\r",
        "1.141.A.step1.genomecoverage.txt               22% 7100MB   7.6MB/s   53:43 ETA"
       ]
      },
      {
       "output_type": "stream",
       "stream": "stdout",
       "text": [
        "\r",
        "1.141.A.step1.genomecoverage.txt               22% 7110MB   7.9MB/s   52:03 ETA"
       ]
      },
      {
       "output_type": "stream",
       "stream": "stdout",
       "text": [
        "\r",
        "1.141.A.step1.genomecoverage.txt               22% 7119MB   8.1MB/s   50:47 ETA"
       ]
      },
      {
       "output_type": "stream",
       "stream": "stdout",
       "text": [
        "\r",
        "1.141.A.step1.genomecoverage.txt               22% 7129MB   8.2MB/s   49:45 ETA"
       ]
      },
      {
       "output_type": "stream",
       "stream": "stdout",
       "text": [
        "\r",
        "1.141.A.step1.genomecoverage.txt               22% 7139MB   8.4MB/s   48:45 ETA"
       ]
      },
      {
       "output_type": "stream",
       "stream": "stdout",
       "text": [
        "\r",
        "1.141.A.step1.genomecoverage.txt               22% 7149MB   8.6MB/s   47:44 ETA"
       ]
      },
      {
       "output_type": "stream",
       "stream": "stdout",
       "text": [
        "\r",
        "1.141.A.step1.genomecoverage.txt               22% 7160MB   8.8MB/s   46:38 ETA"
       ]
      },
      {
       "output_type": "stream",
       "stream": "stdout",
       "text": [
        "\r",
        "1.141.A.step1.genomecoverage.txt               22% 7169MB   8.8MB/s   46:29 ETA"
       ]
      },
      {
       "output_type": "stream",
       "stream": "stdout",
       "text": [
        "\r",
        "1.141.A.step1.genomecoverage.txt               22% 7178MB   8.9MB/s   45:58 ETA"
       ]
      },
      {
       "output_type": "stream",
       "stream": "stdout",
       "text": [
        "\r",
        "1.141.A.step1.genomecoverage.txt               22% 7189MB   9.0MB/s   45:18 ETA"
       ]
      },
      {
       "output_type": "stream",
       "stream": "stdout",
       "text": [
        "\r",
        "1.141.A.step1.genomecoverage.txt               22% 7197MB   8.9MB/s   45:42 ETA"
       ]
      },
      {
       "output_type": "stream",
       "stream": "stdout",
       "text": [
        "\r",
        "1.141.A.step1.genomecoverage.txt               22% 7206MB   8.9MB/s   45:39 ETA"
       ]
      },
      {
       "output_type": "stream",
       "stream": "stdout",
       "text": [
        "\r",
        "1.141.A.step1.genomecoverage.txt               22% 7215MB   9.0MB/s   45:33 ETA"
       ]
      },
      {
       "output_type": "stream",
       "stream": "stdout",
       "text": [
        "\r",
        "1.141.A.step1.genomecoverage.txt               22% 7224MB   9.0MB/s   45:19 ETA"
       ]
      },
      {
       "output_type": "stream",
       "stream": "stdout",
       "text": [
        "\r",
        "1.141.A.step1.genomecoverage.txt               22% 7234MB   9.1MB/s   45:00 ETA"
       ]
      },
      {
       "output_type": "stream",
       "stream": "stdout",
       "text": [
        "\r",
        "1.141.A.step1.genomecoverage.txt               22% 7243MB   9.1MB/s   44:52 ETA"
       ]
      },
      {
       "output_type": "stream",
       "stream": "stdout",
       "text": [
        "\r",
        "1.141.A.step1.genomecoverage.txt               22% 7253MB   9.1MB/s   44:38 ETA"
       ]
      },
      {
       "output_type": "stream",
       "stream": "stdout",
       "text": [
        "\r",
        "1.141.A.step1.genomecoverage.txt               22% 7262MB   9.2MB/s   44:24 ETA"
       ]
      },
      {
       "output_type": "stream",
       "stream": "stdout",
       "text": [
        "\r",
        "1.141.A.step1.genomecoverage.txt               22% 7272MB   9.2MB/s   44:03 ETA"
       ]
      },
      {
       "output_type": "stream",
       "stream": "stdout",
       "text": [
        "\r",
        "1.141.A.step1.genomecoverage.txt               22% 7280MB   9.1MB/s   44:49 ETA"
       ]
      },
      {
       "output_type": "stream",
       "stream": "stdout",
       "text": [
        "\r",
        "1.141.A.step1.genomecoverage.txt               23% 7288MB   9.0MB/s   45:20 ETA"
       ]
      },
      {
       "output_type": "stream",
       "stream": "stdout",
       "text": [
        "\r",
        "1.141.A.step1.genomecoverage.txt               23% 7297MB   9.0MB/s   45:11 ETA"
       ]
      },
      {
       "output_type": "stream",
       "stream": "stdout",
       "text": [
        "\r",
        "1.141.A.step1.genomecoverage.txt               23% 7306MB   9.0MB/s   45:01 ETA"
       ]
      },
      {
       "output_type": "stream",
       "stream": "stdout",
       "text": [
        "\r",
        "1.141.A.step1.genomecoverage.txt               23% 7316MB   9.1MB/s   44:48 ETA"
       ]
      },
      {
       "output_type": "stream",
       "stream": "stdout",
       "text": [
        "\r",
        "1.141.A.step1.genomecoverage.txt               23% 7325MB   9.1MB/s   44:34 ETA"
       ]
      },
      {
       "output_type": "stream",
       "stream": "stdout",
       "text": [
        "\r",
        "1.141.A.step1.genomecoverage.txt               23% 7334MB   9.1MB/s   44:25 ETA"
       ]
      },
      {
       "output_type": "stream",
       "stream": "stdout",
       "text": [
        "\r",
        "1.141.A.step1.genomecoverage.txt               23% 7344MB   9.2MB/s   44:13 ETA"
       ]
      },
      {
       "output_type": "stream",
       "stream": "stdout",
       "text": [
        "\r",
        "1.141.A.step1.genomecoverage.txt               23% 7352MB   9.1MB/s   44:32 ETA"
       ]
      },
      {
       "output_type": "stream",
       "stream": "stdout",
       "text": [
        "\r",
        "1.141.A.step1.genomecoverage.txt               23% 7359MB   8.9MB/s   45:33 ETA"
       ]
      },
      {
       "output_type": "stream",
       "stream": "stdout",
       "text": [
        "\r",
        "1.141.A.step1.genomecoverage.txt               23% 7365MB   8.6MB/s   47:08 ETA"
       ]
      },
      {
       "output_type": "stream",
       "stream": "stdout",
       "text": [
        "\r",
        "1.141.A.step1.genomecoverage.txt               23% 7370MB   8.2MB/s   49:10 ETA"
       ]
      },
      {
       "output_type": "stream",
       "stream": "stdout",
       "text": [
        "\r",
        "1.141.A.step1.genomecoverage.txt               23% 7376MB   7.9MB/s   51:04 ETA"
       ]
      },
      {
       "output_type": "stream",
       "stream": "stdout",
       "text": [
        "\r",
        "1.141.A.step1.genomecoverage.txt               23% 7381MB   7.7MB/s   52:53 ETA"
       ]
      },
      {
       "output_type": "stream",
       "stream": "stdout",
       "text": [
        "\r",
        "1.141.A.step1.genomecoverage.txt               23% 7386MB   7.4MB/s   54:25 ETA"
       ]
      },
      {
       "output_type": "stream",
       "stream": "stdout",
       "text": [
        "\r",
        "1.141.A.step1.genomecoverage.txt               23% 7392MB   7.2MB/s   55:54 ETA"
       ]
      },
      {
       "output_type": "stream",
       "stream": "stdout",
       "text": [
        "\r",
        "1.141.A.step1.genomecoverage.txt               23% 7397MB   7.0MB/s   57:36 ETA"
       ]
      },
      {
       "output_type": "stream",
       "stream": "stdout",
       "text": [
        "\r",
        "1.141.A.step1.genomecoverage.txt               23% 7402MB   6.8MB/s   59:13 ETA"
       ]
      },
      {
       "output_type": "stream",
       "stream": "stdout",
       "text": [
        "\r",
        "1.141.A.step1.genomecoverage.txt               23% 7408MB   6.7MB/s 1:00:00 ETA"
       ]
      },
      {
       "output_type": "stream",
       "stream": "stdout",
       "text": [
        "\r",
        "1.141.A.step1.genomecoverage.txt               23% 7415MB   6.8MB/s   59:24 ETA"
       ]
      },
      {
       "output_type": "stream",
       "stream": "stdout",
       "text": [
        "\r",
        "1.141.A.step1.genomecoverage.txt               23% 7422MB   6.8MB/s   59:39 ETA"
       ]
      },
      {
       "output_type": "stream",
       "stream": "stdout",
       "text": [
        "\r",
        "1.141.A.step1.genomecoverage.txt               23% 7429MB   6.8MB/s   59:07 ETA"
       ]
      },
      {
       "output_type": "stream",
       "stream": "stdout",
       "text": [
        "\r",
        "1.141.A.step1.genomecoverage.txt               23% 7435MB   6.7MB/s 1:00:04 ETA"
       ]
      },
      {
       "output_type": "stream",
       "stream": "stdout",
       "text": [
        "\r",
        "1.141.A.step1.genomecoverage.txt               23% 7439MB   6.4MB/s 1:02:42 ETA"
       ]
      },
      {
       "output_type": "stream",
       "stream": "stdout",
       "text": [
        "\r",
        "1.141.A.step1.genomecoverage.txt               23% 7442MB   6.1MB/s 1:05:52 ETA"
       ]
      },
      {
       "output_type": "stream",
       "stream": "stdout",
       "text": [
        "\r",
        "1.141.A.step1.genomecoverage.txt               23% 7446MB   5.9MB/s 1:08:28 ETA"
       ]
      },
      {
       "output_type": "stream",
       "stream": "stdout",
       "text": [
        "\r",
        "1.141.A.step1.genomecoverage.txt               23% 7449MB   5.7MB/s 1:11:10 ETA"
       ]
      },
      {
       "output_type": "stream",
       "stream": "stdout",
       "text": [
        "\r",
        "1.141.A.step1.genomecoverage.txt               23% 7453MB   5.5MB/s 1:13:51 ETA"
       ]
      },
      {
       "output_type": "stream",
       "stream": "stdout",
       "text": [
        "\r",
        "1.141.A.step1.genomecoverage.txt               23% 7457MB   5.3MB/s 1:16:21 ETA"
       ]
      },
      {
       "output_type": "stream",
       "stream": "stdout",
       "text": [
        "\r",
        "1.141.A.step1.genomecoverage.txt               23% 7461MB   5.1MB/s 1:18:33 ETA"
       ]
      },
      {
       "output_type": "stream",
       "stream": "stdout",
       "text": [
        "\r",
        "1.141.A.step1.genomecoverage.txt               23% 7465MB   5.1MB/s 1:19:58 ETA"
       ]
      },
      {
       "output_type": "stream",
       "stream": "stdout",
       "text": [
        "\r",
        "1.141.A.step1.genomecoverage.txt               23% 7470MB   5.1MB/s 1:19:51 ETA"
       ]
      },
      {
       "output_type": "stream",
       "stream": "stdout",
       "text": [
        "\r",
        "1.141.A.step1.genomecoverage.txt               23% 7476MB   5.2MB/s 1:17:43 ETA"
       ]
      },
      {
       "output_type": "stream",
       "stream": "stdout",
       "text": [
        "\r",
        "1.141.A.step1.genomecoverage.txt               23% 7485MB   5.5MB/s 1:13:23 ETA"
       ]
      },
      {
       "output_type": "stream",
       "stream": "stdout",
       "text": [
        "\r",
        "1.141.A.step1.genomecoverage.txt               23% 7495MB   6.0MB/s 1:07:11 ETA"
       ]
      },
      {
       "output_type": "stream",
       "stream": "stdout",
       "text": [
        "\r",
        "1.141.A.step1.genomecoverage.txt               23% 7508MB   6.7MB/s 1:00:32 ETA"
       ]
      },
      {
       "output_type": "stream",
       "stream": "stdout",
       "text": [
        "\r",
        "1.141.A.step1.genomecoverage.txt               23% 7522MB   7.5MB/s   53:57 ETA"
       ]
      },
      {
       "output_type": "stream",
       "stream": "stdout",
       "text": [
        "\r",
        "1.141.A.step1.genomecoverage.txt               23% 7536MB   8.0MB/s   50:03 ETA"
       ]
      },
      {
       "output_type": "stream",
       "stream": "stdout",
       "text": [
        "\r",
        "1.141.A.step1.genomecoverage.txt               23% 7550MB   8.7MB/s   46:09 ETA"
       ]
      },
      {
       "output_type": "stream",
       "stream": "stdout",
       "text": [
        "\r",
        "1.141.A.step1.genomecoverage.txt               23% 7561MB   8.9MB/s   45:17 ETA"
       ]
      },
      {
       "output_type": "stream",
       "stream": "stdout",
       "text": [
        "\r",
        "1.141.A.step1.genomecoverage.txt               23% 7570MB   8.9MB/s   45:17 ETA"
       ]
      },
      {
       "output_type": "stream",
       "stream": "stdout",
       "text": [
        "\r",
        "1.141.A.step1.genomecoverage.txt               23% 7577MB   8.7MB/s   46:01 ETA"
       ]
      },
      {
       "output_type": "stream",
       "stream": "stdout",
       "text": [
        "\r",
        "1.141.A.step1.genomecoverage.txt               23% 7585MB   8.7MB/s   46:25 ETA"
       ]
      },
      {
       "output_type": "stream",
       "stream": "stdout",
       "text": [
        "\r",
        "1.141.A.step1.genomecoverage.txt               23% 7593MB   8.6MB/s   46:31 ETA"
       ]
      },
      {
       "output_type": "stream",
       "stream": "stdout",
       "text": [
        "\r",
        "1.141.A.step1.genomecoverage.txt               23% 7602MB   8.6MB/s   46:26 ETA"
       ]
      },
      {
       "output_type": "stream",
       "stream": "stdout",
       "text": [
        "\r",
        "1.141.A.step1.genomecoverage.txt               24% 7609MB   8.5MB/s   47:15 ETA"
       ]
      },
      {
       "output_type": "stream",
       "stream": "stdout",
       "text": [
        "\r",
        "1.141.A.step1.genomecoverage.txt               24% 7616MB   8.3MB/s   48:25 ETA"
       ]
      },
      {
       "output_type": "stream",
       "stream": "stdout",
       "text": [
        "\r",
        "1.141.A.step1.genomecoverage.txt               24% 7623MB   8.2MB/s   49:10 ETA"
       ]
      },
      {
       "output_type": "stream",
       "stream": "stdout",
       "text": [
        "\r",
        "1.141.A.step1.genomecoverage.txt               24% 7630MB   8.1MB/s   49:45 ETA"
       ]
      },
      {
       "output_type": "stream",
       "stream": "stdout",
       "text": [
        "\r",
        "1.141.A.step1.genomecoverage.txt               24% 7637MB   8.0MB/s   50:11 ETA"
       ]
      },
      {
       "output_type": "stream",
       "stream": "stdout",
       "text": [
        "\r",
        "1.141.A.step1.genomecoverage.txt               24% 7644MB   7.9MB/s   50:38 ETA"
       ]
      },
      {
       "output_type": "stream",
       "stream": "stdout",
       "text": [
        "\r",
        "1.141.A.step1.genomecoverage.txt               24% 7650MB   7.7MB/s   52:20 ETA"
       ]
      },
      {
       "output_type": "stream",
       "stream": "stdout",
       "text": [
        "\r",
        "1.141.A.step1.genomecoverage.txt               24% 7656MB   7.5MB/s   53:27 ETA"
       ]
      },
      {
       "output_type": "stream",
       "stream": "stdout",
       "text": [
        "\r",
        "1.141.A.step1.genomecoverage.txt               24% 7663MB   7.4MB/s   53:49 ETA"
       ]
      },
      {
       "output_type": "stream",
       "stream": "stdout",
       "text": [
        "\r",
        "1.141.A.step1.genomecoverage.txt               24% 7670MB   7.4MB/s   53:58 ETA"
       ]
      },
      {
       "output_type": "stream",
       "stream": "stdout",
       "text": [
        "\r",
        "1.141.A.step1.genomecoverage.txt               24% 7677MB   7.4MB/s   53:58 ETA"
       ]
      },
      {
       "output_type": "stream",
       "stream": "stdout",
       "text": [
        "\r",
        "1.141.A.step1.genomecoverage.txt               24% 7683MB   7.2MB/s   55:20 ETA"
       ]
      },
      {
       "output_type": "stream",
       "stream": "stdout",
       "text": [
        "\r",
        "1.141.A.step1.genomecoverage.txt               24% 7688MB   7.1MB/s   56:37 ETA"
       ]
      },
      {
       "output_type": "stream",
       "stream": "stdout",
       "text": [
        "\r",
        "1.141.A.step1.genomecoverage.txt               24% 7695MB   7.1MB/s   56:42 ETA"
       ]
      },
      {
       "output_type": "stream",
       "stream": "stdout",
       "text": [
        "\r",
        "1.141.A.step1.genomecoverage.txt               24% 7701MB   6.9MB/s   57:56 ETA"
       ]
      },
      {
       "output_type": "stream",
       "stream": "stdout",
       "text": [
        "\r",
        "1.141.A.step1.genomecoverage.txt               24% 7707MB   6.8MB/s   58:57 ETA"
       ]
      },
      {
       "output_type": "stream",
       "stream": "stdout",
       "text": [
        "\r",
        "1.141.A.step1.genomecoverage.txt               24% 7712MB   6.6MB/s 1:00:20 ETA"
       ]
      },
      {
       "output_type": "stream",
       "stream": "stdout",
       "text": [
        "\r",
        "1.141.A.step1.genomecoverage.txt               24% 7716MB   6.4MB/s 1:02:24 ETA"
       ]
      },
      {
       "output_type": "stream",
       "stream": "stdout",
       "text": [
        "\r",
        "1.141.A.step1.genomecoverage.txt               24% 7721MB   6.2MB/s 1:04:17 ETA"
       ]
      },
      {
       "output_type": "stream",
       "stream": "stdout",
       "text": [
        "\r",
        "1.141.A.step1.genomecoverage.txt               24% 7725MB   6.1MB/s 1:05:56 ETA"
       ]
      },
      {
       "output_type": "stream",
       "stream": "stdout",
       "text": [
        "\r",
        "1.141.A.step1.genomecoverage.txt               24% 7730MB   5.9MB/s 1:07:09 ETA"
       ]
      },
      {
       "output_type": "stream",
       "stream": "stdout",
       "text": [
        "\r",
        "1.141.A.step1.genomecoverage.txt               24% 7735MB   5.8MB/s 1:08:16 ETA"
       ]
      },
      {
       "output_type": "stream",
       "stream": "stdout",
       "text": [
        "\r",
        "1.141.A.step1.genomecoverage.txt               24% 7740MB   5.8MB/s 1:09:19 ETA"
       ]
      },
      {
       "output_type": "stream",
       "stream": "stdout",
       "text": [
        "\r",
        "1.141.A.step1.genomecoverage.txt               24% 7745MB   5.7MB/s 1:10:03 ETA"
       ]
      },
      {
       "output_type": "stream",
       "stream": "stdout",
       "text": [
        "\r",
        "1.141.A.step1.genomecoverage.txt               24% 7751MB   5.7MB/s 1:10:20 ETA"
       ]
      },
      {
       "output_type": "stream",
       "stream": "stdout",
       "text": [
        "\r",
        "1.141.A.step1.genomecoverage.txt               24% 7757MB   5.8MB/s 1:09:09 ETA"
       ]
      },
      {
       "output_type": "stream",
       "stream": "stdout",
       "text": [
        "\r",
        "1.141.A.step1.genomecoverage.txt               24% 7765MB   6.0MB/s 1:06:34 ETA"
       ]
      },
      {
       "output_type": "stream",
       "stream": "stdout",
       "text": [
        "\r",
        "1.141.A.step1.genomecoverage.txt               24% 7775MB   6.4MB/s 1:02:23 ETA"
       ]
      },
      {
       "output_type": "stream",
       "stream": "stdout",
       "text": [
        "\r",
        "1.141.A.step1.genomecoverage.txt               24% 7787MB   6.9MB/s   57:39 ETA"
       ]
      },
      {
       "output_type": "stream",
       "stream": "stdout",
       "text": [
        "\r",
        "1.141.A.step1.genomecoverage.txt               24% 7797MB   7.2MB/s   55:13 ETA"
       ]
      },
      {
       "output_type": "stream",
       "stream": "stdout",
       "text": [
        "\r",
        "1.141.A.step1.genomecoverage.txt               24% 7808MB   7.6MB/s   52:19 ETA"
       ]
      },
      {
       "output_type": "stream",
       "stream": "stdout",
       "text": [
        "\r",
        "1.141.A.step1.genomecoverage.txt               24% 7817MB   7.7MB/s   51:40 ETA"
       ]
      },
      {
       "output_type": "stream",
       "stream": "stdout",
       "text": [
        "\r",
        "1.141.A.step1.genomecoverage.txt               24% 7825MB   7.8MB/s   51:18 ETA"
       ]
      },
      {
       "output_type": "stream",
       "stream": "stdout",
       "text": [
        "\r",
        "1.141.A.step1.genomecoverage.txt               24% 7834MB   7.9MB/s   50:15 ETA"
       ]
      },
      {
       "output_type": "stream",
       "stream": "stdout",
       "text": [
        "\r",
        "1.141.A.step1.genomecoverage.txt               24% 7843MB   8.1MB/s   49:21 ETA"
       ]
      },
      {
       "output_type": "stream",
       "stream": "stdout",
       "text": [
        "\r",
        "1.141.A.step1.genomecoverage.txt               24% 7850MB   7.9MB/s   50:02 ETA"
       ]
      },
      {
       "output_type": "stream",
       "stream": "stdout",
       "text": [
        "\r",
        "1.141.A.step1.genomecoverage.txt               24% 7857MB   7.8MB/s   50:51 ETA"
       ]
      },
      {
       "output_type": "stream",
       "stream": "stdout",
       "text": [
        "\r",
        "1.141.A.step1.genomecoverage.txt               24% 7862MB   7.6MB/s   52:32 ETA"
       ]
      },
      {
       "output_type": "stream",
       "stream": "stdout",
       "text": [
        "\r",
        "1.141.A.step1.genomecoverage.txt               24% 7868MB   7.3MB/s   54:03 ETA"
       ]
      },
      {
       "output_type": "stream",
       "stream": "stdout",
       "text": [
        "\r",
        "1.141.A.step1.genomecoverage.txt               24% 7872MB   7.1MB/s   56:13 ETA"
       ]
      },
      {
       "output_type": "stream",
       "stream": "stdout",
       "text": [
        "\r",
        "1.141.A.step1.genomecoverage.txt               24% 7875MB   6.6MB/s 1:00:03 ETA"
       ]
      },
      {
       "output_type": "stream",
       "stream": "stdout",
       "text": [
        "\r",
        "1.141.A.step1.genomecoverage.txt               24% 7877MB   6.2MB/s 1:04:10 ETA"
       ]
      },
      {
       "output_type": "stream",
       "stream": "stdout",
       "text": [
        "\r",
        "1.141.A.step1.genomecoverage.txt               24% 7879MB   5.8MB/s 1:08:52 ETA"
       ]
      },
      {
       "output_type": "stream",
       "stream": "stdout",
       "text": [
        "\r",
        "1.141.A.step1.genomecoverage.txt               24% 7881MB   5.4MB/s 1:13:36 ETA"
       ]
      },
      {
       "output_type": "stream",
       "stream": "stdout",
       "text": [
        "\r",
        "1.141.A.step1.genomecoverage.txt               24% 7883MB   5.1MB/s 1:18:06 ETA"
       ]
      },
      {
       "output_type": "stream",
       "stream": "stdout",
       "text": [
        "\r",
        "1.141.A.step1.genomecoverage.txt               24% 7886MB   4.8MB/s 1:22:29 ETA"
       ]
      },
      {
       "output_type": "stream",
       "stream": "stdout",
       "text": [
        "\r",
        "1.141.A.step1.genomecoverage.txt               24% 7888MB   4.6MB/s 1:27:08 ETA"
       ]
      },
      {
       "output_type": "stream",
       "stream": "stdout",
       "text": [
        "\r",
        "1.141.A.step1.genomecoverage.txt               24% 7890MB   4.3MB/s 1:32:28 ETA"
       ]
      },
      {
       "output_type": "stream",
       "stream": "stdout",
       "text": [
        "\r",
        "1.141.A.step1.genomecoverage.txt               24% 7892MB   4.1MB/s 1:37:09 ETA"
       ]
      },
      {
       "output_type": "stream",
       "stream": "stdout",
       "text": [
        "\r",
        "1.141.A.step1.genomecoverage.txt               24% 7894MB   3.9MB/s 1:41:35 ETA"
       ]
      },
      {
       "output_type": "stream",
       "stream": "stdout",
       "text": [
        "\r",
        "1.141.A.step1.genomecoverage.txt               24% 7896MB   3.7MB/s 1:47:11 ETA"
       ]
      },
      {
       "output_type": "stream",
       "stream": "stdout",
       "text": [
        "\r",
        "1.141.A.step1.genomecoverage.txt               24% 7899MB   3.6MB/s 1:51:32 ETA"
       ]
      },
      {
       "output_type": "stream",
       "stream": "stdout",
       "text": [
        "\r",
        "1.141.A.step1.genomecoverage.txt               24% 7901MB   3.4MB/s 1:55:28 ETA"
       ]
      },
      {
       "output_type": "stream",
       "stream": "stdout",
       "text": [
        "\r",
        "1.141.A.step1.genomecoverage.txt               24% 7903MB   3.3MB/s 1:58:54 ETA"
       ]
      },
      {
       "output_type": "stream",
       "stream": "stdout",
       "text": [
        "\r",
        "1.141.A.step1.genomecoverage.txt               24% 7906MB   3.2MB/s 2:02:24 ETA"
       ]
      },
      {
       "output_type": "stream",
       "stream": "stdout",
       "text": [
        "\r",
        "1.141.A.step1.genomecoverage.txt               24% 7908MB   3.2MB/s 2:05:40 ETA"
       ]
      },
      {
       "output_type": "stream",
       "stream": "stdout",
       "text": [
        "\r",
        "1.141.A.step1.genomecoverage.txt               24% 7911MB   3.1MB/s 2:07:24 ETA"
       ]
      },
      {
       "output_type": "stream",
       "stream": "stdout",
       "text": [
        "\r",
        "1.141.A.step1.genomecoverage.txt               24% 7914MB   3.1MB/s 2:05:56 ETA"
       ]
      },
      {
       "output_type": "stream",
       "stream": "stdout",
       "text": [
        "\r",
        "1.141.A.step1.genomecoverage.txt               24% 7918MB   3.2MB/s 2:05:41 ETA"
       ]
      },
      {
       "output_type": "stream",
       "stream": "stdout",
       "text": [
        "\r",
        "1.141.A.step1.genomecoverage.txt               25% 7921MB   3.2MB/s 2:04:39 ETA"
       ]
      },
      {
       "output_type": "stream",
       "stream": "stdout",
       "text": [
        "\r",
        "1.141.A.step1.genomecoverage.txt               25% 7924MB   3.1MB/s 2:06:50 ETA"
       ]
      },
      {
       "output_type": "stream",
       "stream": "stdout",
       "text": [
        "\r",
        "1.141.A.step1.genomecoverage.txt               25% 7925MB   2.9MB/s 2:15:13 ETA"
       ]
      },
      {
       "output_type": "stream",
       "stream": "stdout",
       "text": [
        "\r",
        "1.141.A.step1.genomecoverage.txt               25% 7926MB   2.8MB/s 2:23:50 ETA"
       ]
      },
      {
       "output_type": "stream",
       "stream": "stdout",
       "text": [
        "\r",
        "1.141.A.step1.genomecoverage.txt               25% 7927MB   2.6MB/s 2:30:30 ETA"
       ]
      },
      {
       "output_type": "stream",
       "stream": "stdout",
       "text": [
        "\r",
        "1.141.A.step1.genomecoverage.txt               25% 7929MB   2.5MB/s 2:36:05 ETA"
       ]
      },
      {
       "output_type": "stream",
       "stream": "stdout",
       "text": [
        "\r",
        "1.141.A.step1.genomecoverage.txt               25% 7931MB   2.5MB/s 2:41:22 ETA"
       ]
      },
      {
       "output_type": "stream",
       "stream": "stdout",
       "text": [
        "\r",
        "1.141.A.step1.genomecoverage.txt               25% 7933MB   2.4MB/s 2:44:36 ETA"
       ]
      },
      {
       "output_type": "stream",
       "stream": "stdout",
       "text": [
        "\r",
        "1.141.A.step1.genomecoverage.txt               25% 7936MB   2.4MB/s 2:42:15 ETA"
       ]
      },
      {
       "output_type": "stream",
       "stream": "stdout",
       "text": [
        "\r",
        "1.141.A.step1.genomecoverage.txt               25% 7940MB   2.6MB/s 2:30:55 ETA"
       ]
      },
      {
       "output_type": "stream",
       "stream": "stdout",
       "text": [
        "\r",
        "1.141.A.step1.genomecoverage.txt               25% 7945MB   2.9MB/s 2:17:26 ETA"
       ]
      },
      {
       "output_type": "stream",
       "stream": "stdout",
       "text": [
        "\r",
        "1.141.A.step1.genomecoverage.txt               25% 7950MB   3.1MB/s 2:07:27 ETA"
       ]
      },
      {
       "output_type": "stream",
       "stream": "stdout",
       "text": [
        "\r",
        "1.141.A.step1.genomecoverage.txt               25% 7955MB   3.3MB/s 2:00:08 ETA"
       ]
      },
      {
       "output_type": "stream",
       "stream": "stdout",
       "text": [
        "\r",
        "1.141.A.step1.genomecoverage.txt               25% 7960MB   3.4MB/s 1:55:13 ETA"
       ]
      },
      {
       "output_type": "stream",
       "stream": "stdout",
       "text": [
        "\r",
        "1.141.A.step1.genomecoverage.txt               25% 7965MB   3.6MB/s 1:50:01 ETA"
       ]
      },
      {
       "output_type": "stream",
       "stream": "stdout",
       "text": [
        "\r",
        "1.141.A.step1.genomecoverage.txt               25% 7970MB   3.7MB/s 1:45:42 ETA"
       ]
      },
      {
       "output_type": "stream",
       "stream": "stdout",
       "text": [
        "\r",
        "1.141.A.step1.genomecoverage.txt               25% 7975MB   3.9MB/s 1:41:54 ETA"
       ]
      },
      {
       "output_type": "stream",
       "stream": "stdout",
       "text": [
        "\r",
        "1.141.A.step1.genomecoverage.txt               25% 7980MB   4.0MB/s 1:38:49 ETA"
       ]
      },
      {
       "output_type": "stream",
       "stream": "stdout",
       "text": [
        "\r",
        "1.141.A.step1.genomecoverage.txt               25% 7985MB   4.1MB/s 1:36:03 ETA"
       ]
      },
      {
       "output_type": "stream",
       "stream": "stdout",
       "text": [
        "\r",
        "1.141.A.step1.genomecoverage.txt               25% 7991MB   4.2MB/s 1:33:22 ETA"
       ]
      },
      {
       "output_type": "stream",
       "stream": "stdout",
       "text": [
        "\r",
        "1.141.A.step1.genomecoverage.txt               25% 7997MB   4.4MB/s 1:28:59 ETA"
       ]
      },
      {
       "output_type": "stream",
       "stream": "stdout",
       "text": [
        "\r",
        "1.141.A.step1.genomecoverage.txt               25% 8005MB   4.8MB/s 1:22:49 ETA"
       ]
      },
      {
       "output_type": "stream",
       "stream": "stdout",
       "text": [
        "\r",
        "1.141.A.step1.genomecoverage.txt               25% 8014MB   5.2MB/s 1:15:17 ETA"
       ]
      },
      {
       "output_type": "stream",
       "stream": "stdout",
       "text": [
        "\r",
        "1.141.A.step1.genomecoverage.txt               25% 8022MB   5.5MB/s 1:11:33 ETA"
       ]
      },
      {
       "output_type": "stream",
       "stream": "stdout",
       "text": [
        "\r",
        "1.141.A.step1.genomecoverage.txt               25% 8030MB   5.7MB/s 1:08:56 ETA"
       ]
      },
      {
       "output_type": "stream",
       "stream": "stdout",
       "text": [
        "\r",
        "1.141.A.step1.genomecoverage.txt               25% 8039MB   6.1MB/s 1:04:55 ETA"
       ]
      },
      {
       "output_type": "stream",
       "stream": "stdout",
       "text": [
        "\r",
        "1.141.A.step1.genomecoverage.txt               25% 8048MB   6.4MB/s 1:01:31 ETA"
       ]
      },
      {
       "output_type": "stream",
       "stream": "stdout",
       "text": [
        "\r",
        "1.141.A.step1.genomecoverage.txt               25% 8057MB   6.7MB/s   59:05 ETA"
       ]
      },
      {
       "output_type": "stream",
       "stream": "stdout",
       "text": [
        "\r",
        "1.141.A.step1.genomecoverage.txt               25% 8067MB   7.0MB/s   56:38 ETA"
       ]
      },
      {
       "output_type": "stream",
       "stream": "stdout",
       "text": [
        "\r",
        "1.141.A.step1.genomecoverage.txt               25% 8076MB   7.2MB/s   54:41 ETA"
       ]
      },
      {
       "output_type": "stream",
       "stream": "stdout",
       "text": [
        "\r",
        "1.141.A.step1.genomecoverage.txt               25% 8086MB   7.4MB/s   53:00 ETA"
       ]
      },
      {
       "output_type": "stream",
       "stream": "stdout",
       "text": [
        "\r",
        "1.141.A.step1.genomecoverage.txt               25% 8093MB   7.4MB/s   53:06 ETA"
       ]
      },
      {
       "output_type": "stream",
       "stream": "stdout",
       "text": [
        "\r",
        "1.141.A.step1.genomecoverage.txt               25% 8100MB   7.4MB/s   53:22 ETA"
       ]
      },
      {
       "output_type": "stream",
       "stream": "stdout",
       "text": [
        "\r",
        "1.141.A.step1.genomecoverage.txt               25% 8105MB   7.2MB/s   54:56 ETA"
       ]
      },
      {
       "output_type": "stream",
       "stream": "stdout",
       "text": [
        "\r",
        "1.141.A.step1.genomecoverage.txt               25% 8109MB   6.8MB/s   57:40 ETA"
       ]
      },
      {
       "output_type": "stream",
       "stream": "stdout",
       "text": [
        "\r",
        "1.141.A.step1.genomecoverage.txt               25% 8113MB   6.5MB/s 1:00:23 ETA"
       ]
      },
      {
       "output_type": "stream",
       "stream": "stdout",
       "text": [
        "\r",
        "1.141.A.step1.genomecoverage.txt               25% 8117MB   6.3MB/s 1:02:51 ETA"
       ]
      },
      {
       "output_type": "stream",
       "stream": "stdout",
       "text": [
        "\r",
        "1.141.A.step1.genomecoverage.txt               25% 8120MB   6.0MB/s 1:05:13 ETA"
       ]
      },
      {
       "output_type": "stream",
       "stream": "stdout",
       "text": [
        "\r",
        "1.141.A.step1.genomecoverage.txt               25% 8123MB   5.7MB/s 1:08:56 ETA"
       ]
      },
      {
       "output_type": "stream",
       "stream": "stdout",
       "text": [
        "\r",
        "1.141.A.step1.genomecoverage.txt               25% 8125MB   5.3MB/s 1:13:26 ETA"
       ]
      },
      {
       "output_type": "stream",
       "stream": "stdout",
       "text": [
        "\r",
        "1.141.A.step1.genomecoverage.txt               25% 8127MB   5.0MB/s 1:18:17 ETA"
       ]
      },
      {
       "output_type": "stream",
       "stream": "stdout",
       "text": [
        "\r",
        "1.141.A.step1.genomecoverage.txt               25% 8130MB   4.7MB/s 1:23:03 ETA"
       ]
      },
      {
       "output_type": "stream",
       "stream": "stdout",
       "text": [
        "\r",
        "1.141.A.step1.genomecoverage.txt               25% 8132MB   4.5MB/s 1:27:29 ETA"
       ]
      },
      {
       "output_type": "stream",
       "stream": "stdout",
       "text": [
        "\r",
        "1.141.A.step1.genomecoverage.txt               25% 8134MB   4.3MB/s 1:32:08 ETA"
       ]
      },
      {
       "output_type": "stream",
       "stream": "stdout",
       "text": [
        "\r",
        "1.141.A.step1.genomecoverage.txt               25% 8136MB   4.1MB/s 1:36:46 ETA"
       ]
      },
      {
       "output_type": "stream",
       "stream": "stdout",
       "text": [
        "\r",
        "1.141.A.step1.genomecoverage.txt               25% 8139MB   3.9MB/s 1:40:53 ETA"
       ]
      },
      {
       "output_type": "stream",
       "stream": "stdout",
       "text": [
        "\r",
        "1.141.A.step1.genomecoverage.txt               25% 8141MB   3.8MB/s 1:44:21 ETA"
       ]
      },
      {
       "output_type": "stream",
       "stream": "stdout",
       "text": [
        "\r",
        "1.141.A.step1.genomecoverage.txt               25% 8145MB   3.7MB/s 1:45:44 ETA"
       ]
      },
      {
       "output_type": "stream",
       "stream": "stdout",
       "text": [
        "\r",
        "1.141.A.step1.genomecoverage.txt               25% 8148MB   3.7MB/s 1:46:24 ETA"
       ]
      },
      {
       "output_type": "stream",
       "stream": "stdout",
       "text": [
        "\r",
        "1.141.A.step1.genomecoverage.txt               25% 8152MB   3.7MB/s 1:46:20 ETA"
       ]
      },
      {
       "output_type": "stream",
       "stream": "stdout",
       "text": [
        "\r",
        "1.141.A.step1.genomecoverage.txt               25% 8156MB   3.7MB/s 1:45:33 ETA"
       ]
      },
      {
       "output_type": "stream",
       "stream": "stdout",
       "text": [
        "\r",
        "1.141.A.step1.genomecoverage.txt               25% 8160MB   3.7MB/s 1:44:57 ETA"
       ]
      },
      {
       "output_type": "stream",
       "stream": "stdout",
       "text": [
        "\r",
        "1.141.A.step1.genomecoverage.txt               25% 8164MB   3.8MB/s 1:44:04 ETA"
       ]
      },
      {
       "output_type": "stream",
       "stream": "stdout",
       "text": [
        "\r",
        "1.141.A.step1.genomecoverage.txt               25% 8167MB   3.7MB/s 1:45:40 ETA"
       ]
      },
      {
       "output_type": "stream",
       "stream": "stdout",
       "text": [
        "\r",
        "1.141.A.step1.genomecoverage.txt               25% 8171MB   3.7MB/s 1:45:35 ETA"
       ]
      },
      {
       "output_type": "stream",
       "stream": "stdout",
       "text": [
        "\r",
        "1.141.A.step1.genomecoverage.txt               25% 8174MB   3.7MB/s 1:46:15 ETA"
       ]
      },
      {
       "output_type": "stream",
       "stream": "stdout",
       "text": [
        "\r",
        "1.141.A.step1.genomecoverage.txt               25% 8177MB   3.6MB/s 1:48:35 ETA"
       ]
      },
      {
       "output_type": "stream",
       "stream": "stdout",
       "text": [
        "\r",
        "1.141.A.step1.genomecoverage.txt               25% 8180MB   3.6MB/s 1:49:33 ETA"
       ]
      },
      {
       "output_type": "stream",
       "stream": "stdout",
       "text": [
        "\r",
        "1.141.A.step1.genomecoverage.txt               25% 8184MB   3.6MB/s 1:50:18 ETA"
       ]
      },
      {
       "output_type": "stream",
       "stream": "stdout",
       "text": [
        "\r",
        "1.141.A.step1.genomecoverage.txt               25% 8187MB   3.5MB/s 1:51:11 ETA"
       ]
      },
      {
       "output_type": "stream",
       "stream": "stdout",
       "text": [
        "\r",
        "1.141.A.step1.genomecoverage.txt               25% 8190MB   3.5MB/s 1:51:31 ETA"
       ]
      },
      {
       "output_type": "stream",
       "stream": "stdout",
       "text": [
        "\r",
        "1.141.A.step1.genomecoverage.txt               25% 8193MB   3.5MB/s 1:53:21 ETA"
       ]
      },
      {
       "output_type": "stream",
       "stream": "stdout",
       "text": [
        "\r",
        "1.141.A.step1.genomecoverage.txt               25% 8197MB   3.4MB/s 1:53:51 ETA"
       ]
      },
      {
       "output_type": "stream",
       "stream": "stdout",
       "text": [
        "\r",
        "1.141.A.step1.genomecoverage.txt               25% 8200MB   3.4MB/s 1:53:35 ETA"
       ]
      },
      {
       "output_type": "stream",
       "stream": "stdout",
       "text": [
        "\r",
        "1.141.A.step1.genomecoverage.txt               25% 8204MB   3.5MB/s 1:52:43 ETA"
       ]
      },
      {
       "output_type": "stream",
       "stream": "stdout",
       "text": [
        "\r",
        "1.141.A.step1.genomecoverage.txt               25% 8207MB   3.5MB/s 1:51:48 ETA"
       ]
      },
      {
       "output_type": "stream",
       "stream": "stdout",
       "text": [
        "\r",
        "1.141.A.step1.genomecoverage.txt               25% 8211MB   3.5MB/s 1:51:14 ETA"
       ]
      },
      {
       "output_type": "stream",
       "stream": "stdout",
       "text": [
        "\r",
        "1.141.A.step1.genomecoverage.txt               25% 8215MB   3.6MB/s 1:50:17 ETA"
       ]
      },
      {
       "output_type": "stream",
       "stream": "stdout",
       "text": [
        "\r",
        "1.141.A.step1.genomecoverage.txt               25% 8219MB   3.6MB/s 1:47:58 ETA"
       ]
      },
      {
       "output_type": "stream",
       "stream": "stdout",
       "text": [
        "\r",
        "1.141.A.step1.genomecoverage.txt               25% 8224MB   3.8MB/s 1:43:51 ETA"
       ]
      },
      {
       "output_type": "stream",
       "stream": "stdout",
       "text": [
        "\r",
        "1.141.A.step1.genomecoverage.txt               25% 8231MB   4.0MB/s 1:37:26 ETA"
       ]
      },
      {
       "output_type": "stream",
       "stream": "stdout",
       "text": [
        "\r",
        "1.141.A.step1.genomecoverage.txt               26% 8239MB   4.4MB/s 1:27:54 ETA"
       ]
      },
      {
       "output_type": "stream",
       "stream": "stdout",
       "text": [
        "\r",
        "1.141.A.step1.genomecoverage.txt               26% 8249MB   5.0MB/s 1:17:37 ETA"
       ]
      },
      {
       "output_type": "stream",
       "stream": "stdout",
       "text": [
        "\r",
        "1.141.A.step1.genomecoverage.txt               26% 8260MB   5.6MB/s 1:10:07 ETA"
       ]
      },
      {
       "output_type": "stream",
       "stream": "stdout",
       "text": [
        "\r",
        "1.141.A.step1.genomecoverage.txt               26% 8271MB   6.1MB/s 1:03:53 ETA"
       ]
      },
      {
       "output_type": "stream",
       "stream": "stdout",
       "text": [
        "\r",
        "1.141.A.step1.genomecoverage.txt               26% 8281MB   6.6MB/s   59:10 ETA"
       ]
      },
      {
       "output_type": "stream",
       "stream": "stdout",
       "text": [
        "\r",
        "1.141.A.step1.genomecoverage.txt               26% 8290MB   6.8MB/s   57:14 ETA"
       ]
      },
      {
       "output_type": "stream",
       "stream": "stdout",
       "text": [
        "\r",
        "1.141.A.step1.genomecoverage.txt               26% 8297MB   6.8MB/s   57:07 ETA"
       ]
      },
      {
       "output_type": "stream",
       "stream": "stdout",
       "text": [
        "\r",
        "1.141.A.step1.genomecoverage.txt               26% 8305MB   6.9MB/s   56:32 ETA"
       ]
      },
      {
       "output_type": "stream",
       "stream": "stdout",
       "text": [
        "\r",
        "1.141.A.step1.genomecoverage.txt               26% 8310MB   6.8MB/s   57:41 ETA"
       ]
      },
      {
       "output_type": "stream",
       "stream": "stdout",
       "text": [
        "\r",
        "1.141.A.step1.genomecoverage.txt               26% 8314MB   6.4MB/s 1:00:44 ETA"
       ]
      },
      {
       "output_type": "stream",
       "stream": "stdout",
       "text": [
        "\r",
        "1.141.A.step1.genomecoverage.txt               26% 8317MB   6.1MB/s 1:03:22 ETA"
       ]
      },
      {
       "output_type": "stream",
       "stream": "stdout",
       "text": [
        "\r",
        "1.141.A.step1.genomecoverage.txt               26% 8321MB   5.9MB/s 1:05:57 ETA"
       ]
      },
      {
       "output_type": "stream",
       "stream": "stdout",
       "text": [
        "\r",
        "1.141.A.step1.genomecoverage.txt               26% 8324MB   5.7MB/s 1:08:56 ETA"
       ]
      },
      {
       "output_type": "stream",
       "stream": "stdout",
       "text": [
        "\r",
        "1.141.A.step1.genomecoverage.txt               26% 8327MB   5.4MB/s 1:12:45 ETA"
       ]
      },
      {
       "output_type": "stream",
       "stream": "stdout",
       "text": [
        "\r",
        "1.141.A.step1.genomecoverage.txt               26% 8330MB   5.1MB/s 1:16:28 ETA"
       ]
      },
      {
       "output_type": "stream",
       "stream": "stdout",
       "text": [
        "\r",
        "1.141.A.step1.genomecoverage.txt               26% 8333MB   4.9MB/s 1:20:11 ETA"
       ]
      },
      {
       "output_type": "stream",
       "stream": "stdout",
       "text": [
        "\r",
        "1.141.A.step1.genomecoverage.txt               26% 8335MB   4.6MB/s 1:23:50 ETA"
       ]
      },
      {
       "output_type": "stream",
       "stream": "stdout",
       "text": [
        "\r",
        "1.141.A.step1.genomecoverage.txt               26% 8338MB   4.5MB/s 1:27:18 ETA"
       ]
      },
      {
       "output_type": "stream",
       "stream": "stdout",
       "text": [
        "\r",
        "1.141.A.step1.genomecoverage.txt               26% 8341MB   4.3MB/s 1:30:12 ETA"
       ]
      },
      {
       "output_type": "stream",
       "stream": "stdout",
       "text": [
        "\r",
        "1.141.A.step1.genomecoverage.txt               26% 8345MB   4.3MB/s 1:30:54 ETA"
       ]
      },
      {
       "output_type": "stream",
       "stream": "stdout",
       "text": [
        "\r",
        "1.141.A.step1.genomecoverage.txt               26% 8350MB   4.4MB/s 1:29:17 ETA"
       ]
      },
      {
       "output_type": "stream",
       "stream": "stdout",
       "text": [
        "\r",
        "1.141.A.step1.genomecoverage.txt               26% 8357MB   4.6MB/s 1:24:25 ETA"
       ]
      },
      {
       "output_type": "stream",
       "stream": "stdout",
       "text": [
        "\r",
        "1.141.A.step1.genomecoverage.txt               26% 8366MB   5.0MB/s 1:17:32 ETA"
       ]
      },
      {
       "output_type": "stream",
       "stream": "stdout",
       "text": [
        "\r",
        "1.141.A.step1.genomecoverage.txt               26% 8376MB   5.6MB/s 1:09:23 ETA"
       ]
      },
      {
       "output_type": "stream",
       "stream": "stdout",
       "text": [
        "\r",
        "1.141.A.step1.genomecoverage.txt               26% 8387MB   6.1MB/s 1:03:48 ETA"
       ]
      },
      {
       "output_type": "stream",
       "stream": "stdout",
       "text": [
        "\r",
        "1.141.A.step1.genomecoverage.txt               26% 8398MB   6.6MB/s   58:48 ETA"
       ]
      },
      {
       "output_type": "stream",
       "stream": "stdout",
       "text": [
        "\r",
        "1.141.A.step1.genomecoverage.txt               26% 8410MB   7.2MB/s   54:16 ETA"
       ]
      },
      {
       "output_type": "stream",
       "stream": "stdout",
       "text": [
        "\r",
        "1.141.A.step1.genomecoverage.txt               26% 8423MB   7.7MB/s   50:19 ETA"
       ]
      },
      {
       "output_type": "stream",
       "stream": "stdout",
       "text": [
        "\r",
        "1.141.A.step1.genomecoverage.txt               26% 8436MB   8.2MB/s   47:12 ETA"
       ]
      },
      {
       "output_type": "stream",
       "stream": "stdout",
       "text": [
        "\r",
        "1.141.A.step1.genomecoverage.txt               26% 8448MB   8.7MB/s   44:44 ETA"
       ]
      },
      {
       "output_type": "stream",
       "stream": "stdout",
       "text": [
        "\r",
        "1.141.A.step1.genomecoverage.txt               26% 8458MB   8.8MB/s   44:00 ETA"
       ]
      },
      {
       "output_type": "stream",
       "stream": "stdout",
       "text": [
        "\r",
        "1.141.A.step1.genomecoverage.txt               26% 8469MB   9.0MB/s   42:56 ETA"
       ]
      },
      {
       "output_type": "stream",
       "stream": "stdout",
       "text": [
        "\r",
        "1.141.A.step1.genomecoverage.txt               26% 8480MB   9.1MB/s   42:17 ETA"
       ]
      },
      {
       "output_type": "stream",
       "stream": "stdout",
       "text": [
        "\r",
        "1.141.A.step1.genomecoverage.txt               26% 8488MB   9.1MB/s   42:34 ETA"
       ]
      },
      {
       "output_type": "stream",
       "stream": "stdout",
       "text": [
        "\r",
        "1.141.A.step1.genomecoverage.txt               26% 8497MB   9.1MB/s   42:28 ETA"
       ]
      },
      {
       "output_type": "stream",
       "stream": "stdout",
       "text": [
        "\r",
        "1.141.A.step1.genomecoverage.txt               26% 8507MB   9.1MB/s   42:19 ETA"
       ]
      },
      {
       "output_type": "stream",
       "stream": "stdout",
       "text": [
        "\r",
        "1.141.A.step1.genomecoverage.txt               26% 8516MB   9.2MB/s   42:12 ETA"
       ]
      },
      {
       "output_type": "stream",
       "stream": "stdout",
       "text": [
        "\r",
        "1.141.A.step1.genomecoverage.txt               26% 8523MB   8.9MB/s   43:11 ETA"
       ]
      },
      {
       "output_type": "stream",
       "stream": "stdout",
       "text": [
        "\r",
        "1.141.A.step1.genomecoverage.txt               26% 8531MB   8.8MB/s   43:55 ETA"
       ]
      },
      {
       "output_type": "stream",
       "stream": "stdout",
       "text": [
        "\r",
        "1.141.A.step1.genomecoverage.txt               26% 8538MB   8.7MB/s   44:32 ETA"
       ]
      },
      {
       "output_type": "stream",
       "stream": "stdout",
       "text": [
        "\r",
        "1.141.A.step1.genomecoverage.txt               26% 8545MB   8.5MB/s   45:23 ETA"
       ]
      },
      {
       "output_type": "stream",
       "stream": "stdout",
       "text": [
        "\r",
        "1.141.A.step1.genomecoverage.txt               26% 8550MB   8.2MB/s   47:11 ETA"
       ]
      },
      {
       "output_type": "stream",
       "stream": "stdout",
       "text": [
        "\r",
        "1.141.A.step1.genomecoverage.txt               27% 8556MB   7.9MB/s   48:56 ETA"
       ]
      },
      {
       "output_type": "stream",
       "stream": "stdout",
       "text": [
        "\r",
        "1.141.A.step1.genomecoverage.txt               27% 8560MB   7.5MB/s   51:15 ETA"
       ]
      },
      {
       "output_type": "stream",
       "stream": "stdout",
       "text": [
        "\r",
        "1.141.A.step1.genomecoverage.txt               27% 8565MB   7.3MB/s   53:07 ETA"
       ]
      },
      {
       "output_type": "stream",
       "stream": "stdout",
       "text": [
        "\r",
        "1.141.A.step1.genomecoverage.txt               27% 8570MB   7.0MB/s   54:47 ETA"
       ]
      },
      {
       "output_type": "stream",
       "stream": "stdout",
       "text": [
        "\r",
        "1.141.A.step1.genomecoverage.txt               27% 8575MB   6.8MB/s   56:25 ETA"
       ]
      },
      {
       "output_type": "stream",
       "stream": "stdout",
       "text": [
        "\r",
        "1.141.A.step1.genomecoverage.txt               27% 8579MB   6.6MB/s   58:32 ETA"
       ]
      },
      {
       "output_type": "stream",
       "stream": "stdout",
       "text": [
        "\r",
        "1.141.A.step1.genomecoverage.txt               27% 8583MB   6.3MB/s 1:01:15 ETA"
       ]
      },
      {
       "output_type": "stream",
       "stream": "stdout",
       "text": [
        "\r",
        "1.141.A.step1.genomecoverage.txt               27% 8587MB   6.1MB/s 1:03:39 ETA"
       ]
      },
      {
       "output_type": "stream",
       "stream": "stdout",
       "text": [
        "\r",
        "1.141.A.step1.genomecoverage.txt               27% 8591MB   5.8MB/s 1:05:56 ETA"
       ]
      },
      {
       "output_type": "stream",
       "stream": "stdout",
       "text": [
        "\r",
        "1.141.A.step1.genomecoverage.txt               27% 8594MB   5.6MB/s 1:08:19 ETA"
       ]
      },
      {
       "output_type": "stream",
       "stream": "stdout",
       "text": [
        "\r",
        "1.141.A.step1.genomecoverage.txt               27% 8598MB   5.5MB/s 1:10:27 ETA"
       ]
      },
      {
       "output_type": "stream",
       "stream": "stdout",
       "text": [
        "\r",
        "1.141.A.step1.genomecoverage.txt               27% 8603MB   5.3MB/s 1:12:11 ETA"
       ]
      },
      {
       "output_type": "stream",
       "stream": "stdout",
       "text": [
        "\r",
        "1.141.A.step1.genomecoverage.txt               27% 8608MB   5.3MB/s 1:12:36 ETA"
       ]
      },
      {
       "output_type": "stream",
       "stream": "stdout",
       "text": [
        "\r",
        "1.141.A.step1.genomecoverage.txt               27% 8613MB   5.3MB/s 1:12:28 ETA"
       ]
      },
      {
       "output_type": "stream",
       "stream": "stdout",
       "text": [
        "\r",
        "1.141.A.step1.genomecoverage.txt               27% 8620MB   5.5MB/s 1:09:54 ETA"
       ]
      },
      {
       "output_type": "stream",
       "stream": "stdout",
       "text": [
        "\r",
        "1.141.A.step1.genomecoverage.txt               27% 8629MB   5.8MB/s 1:06:24 ETA"
       ]
      },
      {
       "output_type": "stream",
       "stream": "stdout",
       "text": [
        "\r",
        "1.141.A.step1.genomecoverage.txt               27% 8636MB   6.0MB/s 1:03:59 ETA"
       ]
      },
      {
       "output_type": "stream",
       "stream": "stdout",
       "text": [
        "\r",
        "1.141.A.step1.genomecoverage.txt               27% 8644MB   6.2MB/s 1:02:03 ETA"
       ]
      },
      {
       "output_type": "stream",
       "stream": "stdout",
       "text": [
        "\r",
        "1.141.A.step1.genomecoverage.txt               27% 8651MB   6.3MB/s 1:01:16 ETA"
       ]
      },
      {
       "output_type": "stream",
       "stream": "stdout",
       "text": [
        "\r",
        "1.141.A.step1.genomecoverage.txt               27% 8659MB   6.4MB/s 1:00:00 ETA"
       ]
      },
      {
       "output_type": "stream",
       "stream": "stdout",
       "text": [
        "\r",
        "1.141.A.step1.genomecoverage.txt               27% 8665MB   6.3MB/s 1:00:27 ETA"
       ]
      },
      {
       "output_type": "stream",
       "stream": "stdout",
       "text": [
        "\r",
        "1.141.A.step1.genomecoverage.txt               27% 8670MB   6.2MB/s 1:01:54 ETA"
       ]
      },
      {
       "output_type": "stream",
       "stream": "stdout",
       "text": [
        "\r",
        "1.141.A.step1.genomecoverage.txt               27% 8673MB   5.9MB/s 1:04:30 ETA"
       ]
      },
      {
       "output_type": "stream",
       "stream": "stdout",
       "text": [
        "\r",
        "1.141.A.step1.genomecoverage.txt               27% 8677MB   5.7MB/s 1:06:44 ETA"
       ]
      },
      {
       "output_type": "stream",
       "stream": "stdout",
       "text": [
        "\r",
        "1.141.A.step1.genomecoverage.txt               27% 8681MB   5.6MB/s 1:08:56 ETA"
       ]
      },
      {
       "output_type": "stream",
       "stream": "stdout",
       "text": [
        "\r",
        "1.141.A.step1.genomecoverage.txt               27% 8685MB   5.4MB/s 1:10:59 ETA"
       ]
      },
      {
       "output_type": "stream",
       "stream": "stdout",
       "text": [
        "\r",
        "1.141.A.step1.genomecoverage.txt               27% 8689MB   5.3MB/s 1:12:59 ETA"
       ]
      },
      {
       "output_type": "stream",
       "stream": "stdout",
       "text": [
        "\r",
        "1.141.A.step1.genomecoverage.txt               27% 8693MB   5.1MB/s 1:14:33 ETA"
       ]
      },
      {
       "output_type": "stream",
       "stream": "stdout",
       "text": [
        "\r",
        "1.141.A.step1.genomecoverage.txt               27% 8696MB   5.0MB/s 1:17:26 ETA"
       ]
      },
      {
       "output_type": "stream",
       "stream": "stdout",
       "text": [
        "\r",
        "1.141.A.step1.genomecoverage.txt               27% 8699MB   4.7MB/s 1:20:58 ETA"
       ]
      },
      {
       "output_type": "stream",
       "stream": "stdout",
       "text": [
        "\r",
        "1.141.A.step1.genomecoverage.txt               27% 8702MB   4.5MB/s 1:24:28 ETA"
       ]
      },
      {
       "output_type": "stream",
       "stream": "stdout",
       "text": [
        "\r",
        "1.141.A.step1.genomecoverage.txt               27% 8705MB   4.4MB/s 1:27:58 ETA"
       ]
      },
      {
       "output_type": "stream",
       "stream": "stdout",
       "text": [
        "\r",
        "1.141.A.step1.genomecoverage.txt               27% 8707MB   4.2MB/s 1:31:40 ETA"
       ]
      },
      {
       "output_type": "stream",
       "stream": "stdout",
       "text": [
        "\r",
        "1.141.A.step1.genomecoverage.txt               27% 8710MB   4.1MB/s 1:33:57 ETA"
       ]
      },
      {
       "output_type": "stream",
       "stream": "stdout",
       "text": [
        "\r",
        "1.141.A.step1.genomecoverage.txt               27% 8714MB   4.0MB/s 1:34:41 ETA"
       ]
      },
      {
       "output_type": "stream",
       "stream": "stdout",
       "text": [
        "\r",
        "1.141.A.step1.genomecoverage.txt               27% 8719MB   4.1MB/s 1:33:32 ETA"
       ]
      },
      {
       "output_type": "stream",
       "stream": "stdout",
       "text": [
        "\r",
        "1.141.A.step1.genomecoverage.txt               27% 8722MB   4.1MB/s 1:34:34 ETA"
       ]
      },
      {
       "output_type": "stream",
       "stream": "stdout",
       "text": [
        "\r",
        "1.141.A.step1.genomecoverage.txt               27% 8725MB   3.9MB/s 1:37:41 ETA"
       ]
      },
      {
       "output_type": "stream",
       "stream": "stdout",
       "text": [
        "\r",
        "1.141.A.step1.genomecoverage.txt               27% 8728MB   3.8MB/s 1:39:45 ETA"
       ]
      },
      {
       "output_type": "stream",
       "stream": "stdout",
       "text": [
        "\r",
        "1.141.A.step1.genomecoverage.txt               27% 8731MB   3.8MB/s 1:41:48 ETA"
       ]
      },
      {
       "output_type": "stream",
       "stream": "stdout",
       "text": [
        "\r",
        "1.141.A.step1.genomecoverage.txt               27% 8734MB   3.7MB/s 1:42:57 ETA"
       ]
      },
      {
       "output_type": "stream",
       "stream": "stdout",
       "text": [
        "\r",
        "1.141.A.step1.genomecoverage.txt               27% 8738MB   3.7MB/s 1:43:56 ETA"
       ]
      },
      {
       "output_type": "stream",
       "stream": "stdout",
       "text": [
        "\r",
        "1.141.A.step1.genomecoverage.txt               27% 8742MB   3.7MB/s 1:43:40 ETA"
       ]
      },
      {
       "output_type": "stream",
       "stream": "stdout",
       "text": [
        "\r",
        "1.141.A.step1.genomecoverage.txt               27% 8746MB   3.8MB/s 1:41:17 ETA"
       ]
      },
      {
       "output_type": "stream",
       "stream": "stdout",
       "text": [
        "\r",
        "1.141.A.step1.genomecoverage.txt               27% 8752MB   3.9MB/s 1:37:01 ETA"
       ]
      },
      {
       "output_type": "stream",
       "stream": "stdout",
       "text": [
        "\r",
        "1.141.A.step1.genomecoverage.txt               27% 8757MB   4.1MB/s 1:33:37 ETA"
       ]
      },
      {
       "output_type": "stream",
       "stream": "stdout",
       "text": [
        "\r",
        "1.141.A.step1.genomecoverage.txt               27% 8762MB   4.2MB/s 1:30:57 ETA"
       ]
      },
      {
       "output_type": "stream",
       "stream": "stdout",
       "text": [
        "\r",
        "1.141.A.step1.genomecoverage.txt               27% 8768MB   4.4MB/s 1:26:58 ETA"
       ]
      },
      {
       "output_type": "stream",
       "stream": "stdout",
       "text": [
        "\r",
        "1.141.A.step1.genomecoverage.txt               27% 8774MB   4.5MB/s 1:24:39 ETA"
       ]
      },
      {
       "output_type": "stream",
       "stream": "stdout",
       "text": [
        "\r",
        "1.141.A.step1.genomecoverage.txt               27% 8779MB   4.5MB/s 1:24:18 ETA"
       ]
      },
      {
       "output_type": "stream",
       "stream": "stdout",
       "text": [
        "\r",
        "1.141.A.step1.genomecoverage.txt               27% 8784MB   4.6MB/s 1:23:25 ETA"
       ]
      },
      {
       "output_type": "stream",
       "stream": "stdout",
       "text": [
        "\r",
        "1.141.A.step1.genomecoverage.txt               27% 8789MB   4.6MB/s 1:22:31 ETA"
       ]
      },
      {
       "output_type": "stream",
       "stream": "stdout",
       "text": [
        "\r",
        "1.141.A.step1.genomecoverage.txt               27% 8794MB   4.7MB/s 1:21:43 ETA"
       ]
      },
      {
       "output_type": "stream",
       "stream": "stdout",
       "text": [
        "\r",
        "1.141.A.step1.genomecoverage.txt               27% 8799MB   4.7MB/s 1:20:59 ETA"
       ]
      },
      {
       "output_type": "stream",
       "stream": "stdout",
       "text": [
        "\r",
        "1.141.A.step1.genomecoverage.txt               27% 8804MB   4.8MB/s 1:20:19 ETA"
       ]
      },
      {
       "output_type": "stream",
       "stream": "stdout",
       "text": [
        "\r",
        "1.141.A.step1.genomecoverage.txt               27% 8809MB   4.8MB/s 1:19:11 ETA"
       ]
      },
      {
       "output_type": "stream",
       "stream": "stdout",
       "text": [
        "\r",
        "1.141.A.step1.genomecoverage.txt               27% 8815MB   5.0MB/s 1:16:58 ETA"
       ]
      },
      {
       "output_type": "stream",
       "stream": "stdout",
       "text": [
        "\r",
        "1.141.A.step1.genomecoverage.txt               27% 8823MB   5.2MB/s 1:13:04 ETA"
       ]
      },
      {
       "output_type": "stream",
       "stream": "stdout",
       "text": [
        "\r",
        "1.141.A.step1.genomecoverage.txt               27% 8831MB   5.5MB/s 1:08:57 ETA"
       ]
      },
      {
       "output_type": "stream",
       "stream": "stdout",
       "text": [
        "\r",
        "1.141.A.step1.genomecoverage.txt               27% 8839MB   5.7MB/s 1:06:25 ETA"
       ]
      },
      {
       "output_type": "stream",
       "stream": "stdout",
       "text": [
        "\r",
        "1.141.A.step1.genomecoverage.txt               27% 8847MB   6.0MB/s 1:03:36 ETA"
       ]
      },
      {
       "output_type": "stream",
       "stream": "stdout",
       "text": [
        "\r",
        "1.141.A.step1.genomecoverage.txt               27% 8856MB   6.3MB/s 1:00:33 ETA"
       ]
      },
      {
       "output_type": "stream",
       "stream": "stdout",
       "text": [
        "\r",
        "1.141.A.step1.genomecoverage.txt               27% 8866MB   6.6MB/s   57:38 ETA"
       ]
      },
      {
       "output_type": "stream",
       "stream": "stdout",
       "text": [
        "\r",
        "1.141.A.step1.genomecoverage.txt               28% 8875MB   6.9MB/s   55:23 ETA"
       ]
      },
      {
       "output_type": "stream",
       "stream": "stdout",
       "text": [
        "\r",
        "1.141.A.step1.genomecoverage.txt               28% 8881MB   6.8MB/s   55:54 ETA"
       ]
      },
      {
       "output_type": "stream",
       "stream": "stdout",
       "text": [
        "\r",
        "1.141.A.step1.genomecoverage.txt               28% 8885MB   6.5MB/s   58:27 ETA"
       ]
      },
      {
       "output_type": "stream",
       "stream": "stdout",
       "text": [
        "\r",
        "1.141.A.step1.genomecoverage.txt               28% 8889MB   6.2MB/s 1:00:51 ETA"
       ]
      },
      {
       "output_type": "stream",
       "stream": "stdout",
       "text": [
        "\r",
        "1.141.A.step1.genomecoverage.txt               28% 8893MB   6.0MB/s 1:03:06 ETA"
       ]
      },
      {
       "output_type": "stream",
       "stream": "stdout",
       "text": [
        "\r",
        "1.141.A.step1.genomecoverage.txt               28% 8897MB   5.8MB/s 1:05:14 ETA"
       ]
      },
      {
       "output_type": "stream",
       "stream": "stdout",
       "text": [
        "\r",
        "1.141.A.step1.genomecoverage.txt               28% 8901MB   5.6MB/s 1:07:22 ETA"
       ]
      },
      {
       "output_type": "stream",
       "stream": "stdout",
       "text": [
        "\r",
        "1.141.A.step1.genomecoverage.txt               28% 8905MB   5.5MB/s 1:09:02 ETA"
       ]
      },
      {
       "output_type": "stream",
       "stream": "stdout",
       "text": [
        "\r",
        "1.141.A.step1.genomecoverage.txt               28% 8910MB   5.4MB/s 1:09:45 ETA"
       ]
      },
      {
       "output_type": "stream",
       "stream": "stdout",
       "text": [
        "\r",
        "1.141.A.step1.genomecoverage.txt               28% 8915MB   5.4MB/s 1:10:39 ETA"
       ]
      },
      {
       "output_type": "stream",
       "stream": "stdout",
       "text": [
        "\r",
        "1.141.A.step1.genomecoverage.txt               28% 8920MB   5.3MB/s 1:11:15 ETA"
       ]
      },
      {
       "output_type": "stream",
       "stream": "stdout",
       "text": [
        "\r",
        "1.141.A.step1.genomecoverage.txt               28% 8925MB   5.3MB/s 1:11:20 ETA"
       ]
      },
      {
       "output_type": "stream",
       "stream": "stdout",
       "text": [
        "\r",
        "1.141.A.step1.genomecoverage.txt               28% 8929MB   5.2MB/s 1:12:57 ETA"
       ]
      },
      {
       "output_type": "stream",
       "stream": "stdout",
       "text": [
        "\r",
        "1.141.A.step1.genomecoverage.txt               28% 8932MB   5.0MB/s 1:15:43 ETA"
       ]
      },
      {
       "output_type": "stream",
       "stream": "stdout",
       "text": [
        "\r",
        "1.141.A.step1.genomecoverage.txt               28% 8935MB   4.8MB/s 1:19:31 ETA"
       ]
      },
      {
       "output_type": "stream",
       "stream": "stdout",
       "text": [
        "\r",
        "1.141.A.step1.genomecoverage.txt               28% 8938MB   4.6MB/s 1:23:13 ETA"
       ]
      },
      {
       "output_type": "stream",
       "stream": "stdout",
       "text": [
        "\r",
        "1.141.A.step1.genomecoverage.txt               28% 8940MB   4.4MB/s 1:26:57 ETA"
       ]
      },
      {
       "output_type": "stream",
       "stream": "stdout",
       "text": [
        "\r",
        "1.141.A.step1.genomecoverage.txt               28% 8943MB   4.2MB/s 1:30:26 ETA"
       ]
      },
      {
       "output_type": "stream",
       "stream": "stdout",
       "text": [
        "\r",
        "1.141.A.step1.genomecoverage.txt               28% 8946MB   4.1MB/s 1:33:25 ETA"
       ]
      },
      {
       "output_type": "stream",
       "stream": "stdout",
       "text": [
        "\r",
        "1.141.A.step1.genomecoverage.txt               28% 8949MB   4.0MB/s 1:35:41 ETA"
       ]
      },
      {
       "output_type": "stream",
       "stream": "stdout",
       "text": [
        "\r",
        "1.141.A.step1.genomecoverage.txt               28% 8953MB   4.0MB/s 1:35:54 ETA"
       ]
      },
      {
       "output_type": "stream",
       "stream": "stdout",
       "text": [
        "\r",
        "1.141.A.step1.genomecoverage.txt               28% 8958MB   4.1MB/s 1:32:52 ETA"
       ]
      },
      {
       "output_type": "stream",
       "stream": "stdout",
       "text": [
        "\r",
        "1.141.A.step1.genomecoverage.txt               28% 8965MB   4.4MB/s 1:26:30 ETA"
       ]
      },
      {
       "output_type": "stream",
       "stream": "stdout",
       "text": [
        "\r",
        "1.141.A.step1.genomecoverage.txt               28% 8974MB   4.9MB/s 1:17:52 ETA"
       ]
      },
      {
       "output_type": "stream",
       "stream": "stdout",
       "text": [
        "\r",
        "1.141.A.step1.genomecoverage.txt               28% 8986MB   5.6MB/s 1:07:39 ETA"
       ]
      },
      {
       "output_type": "stream",
       "stream": "stdout",
       "text": [
        "\r",
        "1.141.A.step1.genomecoverage.txt               28% 9000MB   6.4MB/s   58:45 ETA"
       ]
      },
      {
       "output_type": "stream",
       "stream": "stdout",
       "text": [
        "\r",
        "1.141.A.step1.genomecoverage.txt               28% 9016MB   7.4MB/s   51:11 ETA"
       ]
      },
      {
       "output_type": "stream",
       "stream": "stdout",
       "text": [
        "\r",
        "1.141.A.step1.genomecoverage.txt               28% 9030MB   8.0MB/s   47:01 ETA"
       ]
      },
      {
       "output_type": "stream",
       "stream": "stdout",
       "text": [
        "\r",
        "1.141.A.step1.genomecoverage.txt               28% 9043MB   8.6MB/s   44:08 ETA"
       ]
      },
      {
       "output_type": "stream",
       "stream": "stdout",
       "text": [
        "\r",
        "1.141.A.step1.genomecoverage.txt               28% 9052MB   8.6MB/s   43:53 ETA"
       ]
      },
      {
       "output_type": "stream",
       "stream": "stdout",
       "text": [
        "\r",
        "1.141.A.step1.genomecoverage.txt               28% 9059MB   8.4MB/s   44:47 ETA"
       ]
      },
      {
       "output_type": "stream",
       "stream": "stdout",
       "text": [
        "\r",
        "1.141.A.step1.genomecoverage.txt               28% 9065MB   8.2MB/s   46:15 ETA"
       ]
      },
      {
       "output_type": "stream",
       "stream": "stdout",
       "text": [
        "\r",
        "1.141.A.step1.genomecoverage.txt               28% 9071MB   8.0MB/s   47:07 ETA"
       ]
      },
      {
       "output_type": "stream",
       "stream": "stdout",
       "text": [
        "\r",
        "1.141.A.step1.genomecoverage.txt               28% 9078MB   7.9MB/s   47:54 ETA"
       ]
      },
      {
       "output_type": "stream",
       "stream": "stdout",
       "text": [
        "\r",
        "1.141.A.step1.genomecoverage.txt               28% 9085MB   7.8MB/s   48:34 ETA"
       ]
      },
      {
       "output_type": "stream",
       "stream": "stdout",
       "text": [
        "\r",
        "1.141.A.step1.genomecoverage.txt               28% 9090MB   7.5MB/s   50:11 ETA"
       ]
      },
      {
       "output_type": "stream",
       "stream": "stdout",
       "text": [
        "\r",
        "1.141.A.step1.genomecoverage.txt               28% 9095MB   7.3MB/s   51:49 ETA"
       ]
      },
      {
       "output_type": "stream",
       "stream": "stdout",
       "text": [
        "\r",
        "1.141.A.step1.genomecoverage.txt               28% 9100MB   7.1MB/s   53:20 ETA"
       ]
      },
      {
       "output_type": "stream",
       "stream": "stdout",
       "text": [
        "\r",
        "1.141.A.step1.genomecoverage.txt               28% 9106MB   6.9MB/s   54:34 ETA"
       ]
      },
      {
       "output_type": "stream",
       "stream": "stdout",
       "text": [
        "\r",
        "1.141.A.step1.genomecoverage.txt               28% 9111MB   6.7MB/s   55:53 ETA"
       ]
      },
      {
       "output_type": "stream",
       "stream": "stdout",
       "text": [
        "\r",
        "1.141.A.step1.genomecoverage.txt               28% 9116MB   6.6MB/s   57:11 ETA"
       ]
      },
      {
       "output_type": "stream",
       "stream": "stdout",
       "text": [
        "\r",
        "1.141.A.step1.genomecoverage.txt               28% 9122MB   6.5MB/s   58:15 ETA"
       ]
      },
      {
       "output_type": "stream",
       "stream": "stdout",
       "text": [
        "\r",
        "1.141.A.step1.genomecoverage.txt               28% 9128MB   6.4MB/s   58:37 ETA"
       ]
      },
      {
       "output_type": "stream",
       "stream": "stdout",
       "text": [
        "\r",
        "1.141.A.step1.genomecoverage.txt               28% 9135MB   6.5MB/s   57:46 ETA"
       ]
      },
      {
       "output_type": "stream",
       "stream": "stdout",
       "text": [
        "\r",
        "1.141.A.step1.genomecoverage.txt               28% 9141MB   6.5MB/s   57:56 ETA"
       ]
      },
      {
       "output_type": "stream",
       "stream": "stdout",
       "text": [
        "\r",
        "1.141.A.step1.genomecoverage.txt               28% 9148MB   6.5MB/s   57:23 ETA"
       ]
      },
      {
       "output_type": "stream",
       "stream": "stdout",
       "text": [
        "\r",
        "1.141.A.step1.genomecoverage.txt               28% 9156MB   6.6MB/s   56:40 ETA"
       ]
      },
      {
       "output_type": "stream",
       "stream": "stdout",
       "text": [
        "\r",
        "1.141.A.step1.genomecoverage.txt               28% 9163MB   6.7MB/s   55:48 ETA"
       ]
      },
      {
       "output_type": "stream",
       "stream": "stdout",
       "text": [
        "\r",
        "1.141.A.step1.genomecoverage.txt               28% 9171MB   6.8MB/s   54:56 ETA"
       ]
      },
      {
       "output_type": "stream",
       "stream": "stdout",
       "text": [
        "\r",
        "1.141.A.step1.genomecoverage.txt               28% 9179MB   6.9MB/s   54:12 ETA"
       ]
      },
      {
       "output_type": "stream",
       "stream": "stdout",
       "text": [
        "\r",
        "1.141.A.step1.genomecoverage.txt               29% 9187MB   7.0MB/s   53:31 ETA"
       ]
      },
      {
       "output_type": "stream",
       "stream": "stdout",
       "text": [
        "\r",
        "1.141.A.step1.genomecoverage.txt               29% 9194MB   7.1MB/s   53:09 ETA"
       ]
      },
      {
       "output_type": "stream",
       "stream": "stdout",
       "text": [
        "\r",
        "1.141.A.step1.genomecoverage.txt               29% 9201MB   7.0MB/s   53:14 ETA"
       ]
      },
      {
       "output_type": "stream",
       "stream": "stdout",
       "text": [
        "\r",
        "1.141.A.step1.genomecoverage.txt               29% 9207MB   6.9MB/s   54:01 ETA"
       ]
      },
      {
       "output_type": "stream",
       "stream": "stdout",
       "text": [
        "\r",
        "1.141.A.step1.genomecoverage.txt               29% 9212MB   6.8MB/s   55:27 ETA"
       ]
      },
      {
       "output_type": "stream",
       "stream": "stdout",
       "text": [
        "\r",
        "1.141.A.step1.genomecoverage.txt               29% 9218MB   6.6MB/s   56:33 ETA"
       ]
      },
      {
       "output_type": "stream",
       "stream": "stdout",
       "text": [
        "\r",
        "1.141.A.step1.genomecoverage.txt               29% 9222MB   6.4MB/s   58:04 ETA"
       ]
      },
      {
       "output_type": "stream",
       "stream": "stdout",
       "text": [
        "\r",
        "1.141.A.step1.genomecoverage.txt               29% 9228MB   6.3MB/s   59:15 ETA"
       ]
      },
      {
       "output_type": "stream",
       "stream": "stdout",
       "text": [
        "\r",
        "1.141.A.step1.genomecoverage.txt               29% 9233MB   6.2MB/s 1:00:15 ETA"
       ]
      },
      {
       "output_type": "stream",
       "stream": "stdout",
       "text": [
        "\r",
        "1.141.A.step1.genomecoverage.txt               29% 9238MB   6.1MB/s 1:01:16 ETA"
       ]
      },
      {
       "output_type": "stream",
       "stream": "stdout",
       "text": [
        "\r",
        "1.141.A.step1.genomecoverage.txt               29% 9242MB   5.9MB/s 1:03:04 ETA"
       ]
      },
      {
       "output_type": "stream",
       "stream": "stdout",
       "text": [
        "\r",
        "1.141.A.step1.genomecoverage.txt               29% 9247MB   5.8MB/s 1:04:24 ETA"
       ]
      },
      {
       "output_type": "stream",
       "stream": "stdout",
       "text": [
        "\r",
        "1.141.A.step1.genomecoverage.txt               29% 9250MB   5.5MB/s 1:07:34 ETA"
       ]
      },
      {
       "output_type": "stream",
       "stream": "stdout",
       "text": [
        "\r",
        "1.141.A.step1.genomecoverage.txt               29% 9253MB   5.3MB/s 1:11:10 ETA"
       ]
      },
      {
       "output_type": "stream",
       "stream": "stdout",
       "text": [
        "\r",
        "1.141.A.step1.genomecoverage.txt               29% 9256MB   5.0MB/s 1:14:32 ETA"
       ]
      },
      {
       "output_type": "stream",
       "stream": "stdout",
       "text": [
        "\r",
        "1.141.A.step1.genomecoverage.txt               29% 9258MB   4.8MB/s 1:18:03 ETA"
       ]
      },
      {
       "output_type": "stream",
       "stream": "stdout",
       "text": [
        "\r",
        "1.141.A.step1.genomecoverage.txt               29% 9261MB   4.6MB/s 1:21:22 ETA"
       ]
      },
      {
       "output_type": "stream",
       "stream": "stdout",
       "text": [
        "\r",
        "1.141.A.step1.genomecoverage.txt               29% 9265MB   4.5MB/s 1:23:38 ETA"
       ]
      },
      {
       "output_type": "stream",
       "stream": "stdout",
       "text": [
        "\r",
        "1.141.A.step1.genomecoverage.txt               29% 9268MB   4.4MB/s 1:24:57 ETA"
       ]
      },
      {
       "output_type": "stream",
       "stream": "stdout",
       "text": [
        "\r",
        "1.141.A.step1.genomecoverage.txt               29% 9273MB   4.4MB/s 1:24:39 ETA"
       ]
      },
      {
       "output_type": "stream",
       "stream": "stdout",
       "text": [
        "\r",
        "1.141.A.step1.genomecoverage.txt               29% 9278MB   4.5MB/s 1:22:42 ETA"
       ]
      },
      {
       "output_type": "stream",
       "stream": "stdout",
       "text": [
        "\r",
        "1.141.A.step1.genomecoverage.txt               29% 9285MB   4.7MB/s 1:18:57 ETA"
       ]
      },
      {
       "output_type": "stream",
       "stream": "stdout",
       "text": [
        "\r",
        "1.141.A.step1.genomecoverage.txt               29% 9291MB   4.9MB/s 1:16:25 ETA"
       ]
      },
      {
       "output_type": "stream",
       "stream": "stdout",
       "text": [
        "\r",
        "1.141.A.step1.genomecoverage.txt               29% 9299MB   5.1MB/s 1:12:31 ETA"
       ]
      },
      {
       "output_type": "stream",
       "stream": "stdout",
       "text": [
        "\r",
        "1.141.A.step1.genomecoverage.txt               29% 9306MB   5.3MB/s 1:10:00 ETA"
       ]
      },
      {
       "output_type": "stream",
       "stream": "stdout",
       "text": [
        "\r",
        "1.141.A.step1.genomecoverage.txt               29% 9311MB   5.3MB/s 1:10:15 ETA"
       ]
      },
      {
       "output_type": "stream",
       "stream": "stdout",
       "text": [
        "\r",
        "1.141.A.step1.genomecoverage.txt               29% 9316MB   5.3MB/s 1:10:23 ETA"
       ]
      },
      {
       "output_type": "stream",
       "stream": "stdout",
       "text": [
        "\r",
        "1.141.A.step1.genomecoverage.txt               29% 9321MB   5.3MB/s 1:10:36 ETA"
       ]
      },
      {
       "output_type": "stream",
       "stream": "stdout",
       "text": [
        "\r",
        "1.141.A.step1.genomecoverage.txt               29% 9327MB   5.3MB/s 1:10:33 ETA"
       ]
      },
      {
       "output_type": "stream",
       "stream": "stdout",
       "text": [
        "\r",
        "1.141.A.step1.genomecoverage.txt               29% 9331MB   5.2MB/s 1:11:04 ETA"
       ]
      },
      {
       "output_type": "stream",
       "stream": "stdout",
       "text": [
        "\r",
        "1.141.A.step1.genomecoverage.txt               29% 9335MB   5.1MB/s 1:12:56 ETA"
       ]
      },
      {
       "output_type": "stream",
       "stream": "stdout",
       "text": [
        "\r",
        "1.141.A.step1.genomecoverage.txt               29% 9341MB   5.1MB/s 1:12:28 ETA"
       ]
      },
      {
       "output_type": "stream",
       "stream": "stdout",
       "text": [
        "\r",
        "1.141.A.step1.genomecoverage.txt               29% 9347MB   5.2MB/s 1:11:33 ETA"
       ]
      },
      {
       "output_type": "stream",
       "stream": "stdout",
       "text": [
        "\r",
        "1.141.A.step1.genomecoverage.txt               29% 9351MB   5.2MB/s 1:11:57 ETA"
       ]
      },
      {
       "output_type": "stream",
       "stream": "stdout",
       "text": [
        "\r",
        "1.141.A.step1.genomecoverage.txt               29% 9356MB   5.1MB/s 1:12:53 ETA"
       ]
      },
      {
       "output_type": "stream",
       "stream": "stdout",
       "text": [
        "\r",
        "1.141.A.step1.genomecoverage.txt               29% 9360MB   5.0MB/s 1:15:04 ETA"
       ]
      },
      {
       "output_type": "stream",
       "stream": "stdout",
       "text": [
        "\r",
        "1.141.A.step1.genomecoverage.txt               29% 9364MB   4.9MB/s 1:16:01 ETA"
       ]
      },
      {
       "output_type": "stream",
       "stream": "stdout",
       "text": [
        "\r",
        "1.141.A.step1.genomecoverage.txt               29% 9368MB   4.8MB/s 1:16:46 ETA"
       ]
      },
      {
       "output_type": "stream",
       "stream": "stdout",
       "text": [
        "\r",
        "1.141.A.step1.genomecoverage.txt               29% 9373MB   4.8MB/s 1:17:22 ETA"
       ]
      },
      {
       "output_type": "stream",
       "stream": "stdout",
       "text": [
        "\r",
        "1.141.A.step1.genomecoverage.txt               29% 9377MB   4.8MB/s 1:17:45 ETA"
       ]
      },
      {
       "output_type": "stream",
       "stream": "stdout",
       "text": [
        "\r",
        "1.141.A.step1.genomecoverage.txt               29% 9381MB   4.7MB/s 1:19:01 ETA"
       ]
      },
      {
       "output_type": "stream",
       "stream": "stdout",
       "text": [
        "\r",
        "1.141.A.step1.genomecoverage.txt               29% 9384MB   4.5MB/s 1:21:45 ETA"
       ]
      },
      {
       "output_type": "stream",
       "stream": "stdout",
       "text": [
        "\r",
        "1.141.A.step1.genomecoverage.txt               29% 9388MB   4.4MB/s 1:23:52 ETA"
       ]
      },
      {
       "output_type": "stream",
       "stream": "stdout",
       "text": [
        "\r",
        "1.141.A.step1.genomecoverage.txt               29% 9391MB   4.4MB/s 1:25:28 ETA"
       ]
      },
      {
       "output_type": "stream",
       "stream": "stdout",
       "text": [
        "\r",
        "1.141.A.step1.genomecoverage.txt               29% 9394MB   4.2MB/s 1:28:29 ETA"
       ]
      },
      {
       "output_type": "stream",
       "stream": "stdout",
       "text": [
        "\r",
        "1.141.A.step1.genomecoverage.txt               29% 9397MB   4.1MB/s 1:30:54 ETA"
       ]
      },
      {
       "output_type": "stream",
       "stream": "stdout",
       "text": [
        "\r",
        "1.141.A.step1.genomecoverage.txt               29% 9401MB   4.0MB/s 1:32:16 ETA"
       ]
      },
      {
       "output_type": "stream",
       "stream": "stdout",
       "text": [
        "\r",
        "1.141.A.step1.genomecoverage.txt               29% 9404MB   4.0MB/s 1:33:31 ETA"
       ]
      },
      {
       "output_type": "stream",
       "stream": "stdout",
       "text": [
        "\r",
        "1.141.A.step1.genomecoverage.txt               29% 9408MB   3.9MB/s 1:34:37 ETA"
       ]
      },
      {
       "output_type": "stream",
       "stream": "stdout",
       "text": [
        "\r",
        "1.141.A.step1.genomecoverage.txt               29% 9411MB   3.9MB/s 1:35:26 ETA"
       ]
      },
      {
       "output_type": "stream",
       "stream": "stdout",
       "text": [
        "\r",
        "1.141.A.step1.genomecoverage.txt               29% 9415MB   3.9MB/s 1:35:25 ETA"
       ]
      },
      {
       "output_type": "stream",
       "stream": "stdout",
       "text": [
        "\r",
        "1.141.A.step1.genomecoverage.txt               29% 9419MB   3.9MB/s 1:34:36 ETA"
       ]
      },
      {
       "output_type": "stream",
       "stream": "stdout",
       "text": [
        "\r",
        "1.141.A.step1.genomecoverage.txt               29% 9421MB   3.7MB/s 1:40:23 ETA"
       ]
      },
      {
       "output_type": "stream",
       "stream": "stdout",
       "text": [
        "\r",
        "1.141.A.step1.genomecoverage.txt               29% 9423MB   3.5MB/s 1:46:14 ETA"
       ]
      },
      {
       "output_type": "stream",
       "stream": "stdout",
       "text": [
        "\r",
        "1.141.A.step1.genomecoverage.txt               29% 9424MB   3.2MB/s 1:54:59 ETA"
       ]
      },
      {
       "output_type": "stream",
       "stream": "stdout",
       "text": [
        "\r",
        "1.141.A.step1.genomecoverage.txt               29% 9426MB   3.1MB/s 2:00:21 ETA"
       ]
      },
      {
       "output_type": "stream",
       "stream": "stdout",
       "text": [
        "\r",
        "1.141.A.step1.genomecoverage.txt               29% 9428MB   3.0MB/s 2:04:59 ETA"
       ]
      },
      {
       "output_type": "stream",
       "stream": "stdout",
       "text": [
        "\r",
        "1.141.A.step1.genomecoverage.txt               29% 9430MB   2.9MB/s 2:09:03 ETA"
       ]
      },
      {
       "output_type": "stream",
       "stream": "stdout",
       "text": [
        "\r",
        "1.141.A.step1.genomecoverage.txt               29% 9433MB   2.8MB/s 2:10:26 ETA"
       ]
      },
      {
       "output_type": "stream",
       "stream": "stdout",
       "text": [
        "\r",
        "1.141.A.step1.genomecoverage.txt               29% 9436MB   2.9MB/s 2:06:55 ETA"
       ]
      },
      {
       "output_type": "stream",
       "stream": "stdout",
       "text": [
        "\r",
        "1.141.A.step1.genomecoverage.txt               29% 9441MB   3.1MB/s 1:58:13 ETA"
       ]
      },
      {
       "output_type": "stream",
       "stream": "stdout",
       "text": [
        "\r",
        "1.141.A.step1.genomecoverage.txt               29% 9447MB   3.4MB/s 1:50:22 ETA"
       ]
      },
      {
       "output_type": "stream",
       "stream": "stdout",
       "text": [
        "\r",
        "1.141.A.step1.genomecoverage.txt               29% 9452MB   3.6MB/s 1:43:51 ETA"
       ]
      },
      {
       "output_type": "stream",
       "stream": "stdout",
       "text": [
        "\r",
        "1.141.A.step1.genomecoverage.txt               29% 9458MB   3.8MB/s 1:37:02 ETA"
       ]
      },
      {
       "output_type": "stream",
       "stream": "stdout",
       "text": [
        "\r",
        "1.141.A.step1.genomecoverage.txt               29% 9464MB   4.1MB/s 1:31:26 ETA"
       ]
      },
      {
       "output_type": "stream",
       "stream": "stdout",
       "text": [
        "\r",
        "1.141.A.step1.genomecoverage.txt               29% 9471MB   4.3MB/s 1:26:09 ETA"
       ]
      },
      {
       "output_type": "stream",
       "stream": "stdout",
       "text": [
        "\r",
        "1.141.A.step1.genomecoverage.txt               29% 9478MB   4.5MB/s 1:21:42 ETA"
       ]
      },
      {
       "output_type": "stream",
       "stream": "stdout",
       "text": [
        "\r",
        "1.141.A.step1.genomecoverage.txt               29% 9484MB   4.7MB/s 1:18:32 ETA"
       ]
      },
      {
       "output_type": "stream",
       "stream": "stdout",
       "text": [
        "\r",
        "1.141.A.step1.genomecoverage.txt               29% 9489MB   4.7MB/s 1:18:16 ETA"
       ]
      },
      {
       "output_type": "stream",
       "stream": "stdout",
       "text": [
        "\r",
        "1.141.A.step1.genomecoverage.txt               29% 9494MB   4.8MB/s 1:17:41 ETA"
       ]
      },
      {
       "output_type": "stream",
       "stream": "stdout",
       "text": [
        "\r",
        "1.141.A.step1.genomecoverage.txt               29% 9499MB   4.8MB/s 1:17:47 ETA"
       ]
      },
      {
       "output_type": "stream",
       "stream": "stdout",
       "text": [
        "\r",
        "1.141.A.step1.genomecoverage.txt               29% 9503MB   4.7MB/s 1:18:27 ETA"
       ]
      },
      {
       "output_type": "stream",
       "stream": "stdout",
       "text": [
        "\r",
        "1.141.A.step1.genomecoverage.txt               30% 9508MB   4.7MB/s 1:18:26 ETA"
       ]
      },
      {
       "output_type": "stream",
       "stream": "stdout",
       "text": [
        "\r",
        "1.141.A.step1.genomecoverage.txt               30% 9511MB   4.6MB/s 1:21:16 ETA"
       ]
      },
      {
       "output_type": "stream",
       "stream": "stdout",
       "text": [
        "\r",
        "1.141.A.step1.genomecoverage.txt               30% 9513MB   4.4MB/s 1:24:45 ETA"
       ]
      },
      {
       "output_type": "stream",
       "stream": "stdout",
       "text": [
        "\r",
        "1.141.A.step1.genomecoverage.txt               30% 9516MB   4.2MB/s 1:27:48 ETA"
       ]
      },
      {
       "output_type": "stream",
       "stream": "stdout",
       "text": [
        "\r",
        "1.141.A.step1.genomecoverage.txt               30% 9519MB   4.1MB/s 1:30:56 ETA"
       ]
      },
      {
       "output_type": "stream",
       "stream": "stdout",
       "text": [
        "\r",
        "1.141.A.step1.genomecoverage.txt               30% 9522MB   3.9MB/s 1:34:09 ETA"
       ]
      },
      {
       "output_type": "stream",
       "stream": "stdout",
       "text": [
        "\r",
        "1.141.A.step1.genomecoverage.txt               30% 9524MB   3.8MB/s 1:36:48 ETA"
       ]
      },
      {
       "output_type": "stream",
       "stream": "stdout",
       "text": [
        "\r",
        "1.141.A.step1.genomecoverage.txt               30% 9527MB   3.7MB/s 1:39:08 ETA"
       ]
      },
      {
       "output_type": "stream",
       "stream": "stdout",
       "text": [
        "\r",
        "1.141.A.step1.genomecoverage.txt               30% 9530MB   3.7MB/s 1:40:58 ETA"
       ]
      },
      {
       "output_type": "stream",
       "stream": "stdout",
       "text": [
        "\r",
        "1.141.A.step1.genomecoverage.txt               30% 9533MB   3.6MB/s 1:43:01 ETA"
       ]
      },
      {
       "output_type": "stream",
       "stream": "stdout",
       "text": [
        "\r",
        "1.141.A.step1.genomecoverage.txt               30% 9537MB   3.6MB/s 1:43:52 ETA"
       ]
      },
      {
       "output_type": "stream",
       "stream": "stdout",
       "text": [
        "\r",
        "1.141.A.step1.genomecoverage.txt               30% 9540MB   3.6MB/s 1:43:33 ETA"
       ]
      },
      {
       "output_type": "stream",
       "stream": "stdout",
       "text": [
        "\r",
        "1.141.A.step1.genomecoverage.txt               30% 9545MB   3.6MB/s 1:41:32 ETA"
       ]
      },
      {
       "output_type": "stream",
       "stream": "stdout",
       "text": [
        "\r",
        "1.141.A.step1.genomecoverage.txt               30% 9548MB   3.7MB/s 1:40:37 ETA"
       ]
      },
      {
       "output_type": "stream",
       "stream": "stdout",
       "text": [
        "\r",
        "1.141.A.step1.genomecoverage.txt               30% 9551MB   3.5MB/s 1:44:25 ETA"
       ]
      },
      {
       "output_type": "stream",
       "stream": "stdout",
       "text": [
        "\r",
        "1.141.A.step1.genomecoverage.txt               30% 9553MB   3.4MB/s 1:48:09 ETA"
       ]
      },
      {
       "output_type": "stream",
       "stream": "stdout",
       "text": [
        "\r",
        "1.141.A.step1.genomecoverage.txt               30% 9555MB   3.3MB/s 1:52:00 ETA"
       ]
      },
      {
       "output_type": "stream",
       "stream": "stdout",
       "text": [
        "\r",
        "1.141.A.step1.genomecoverage.txt               30% 9558MB   3.2MB/s 1:55:11 ETA"
       ]
      },
      {
       "output_type": "stream",
       "stream": "stdout",
       "text": [
        "\r",
        "1.141.A.step1.genomecoverage.txt               30% 9560MB   3.1MB/s 1:59:07 ETA"
       ]
      },
      {
       "output_type": "stream",
       "stream": "stdout",
       "text": [
        "\r",
        "1.141.A.step1.genomecoverage.txt               30% 9562MB   3.0MB/s 2:02:04 ETA"
       ]
      },
      {
       "output_type": "stream",
       "stream": "stdout",
       "text": [
        "\r",
        "1.141.A.step1.genomecoverage.txt               30% 9565MB   3.0MB/s 2:04:23 ETA"
       ]
      },
      {
       "output_type": "stream",
       "stream": "stdout",
       "text": [
        "\r",
        "1.141.A.step1.genomecoverage.txt               30% 9567MB   2.9MB/s 2:06:13 ETA"
       ]
      },
      {
       "output_type": "stream",
       "stream": "stdout",
       "text": [
        "\r",
        "1.141.A.step1.genomecoverage.txt               30% 9570MB   2.9MB/s 2:08:07 ETA"
       ]
      },
      {
       "output_type": "stream",
       "stream": "stdout",
       "text": [
        "\r",
        "1.141.A.step1.genomecoverage.txt               30% 9572MB   2.9MB/s 2:09:18 ETA"
       ]
      },
      {
       "output_type": "stream",
       "stream": "stdout",
       "text": [
        "\r",
        "1.141.A.step1.genomecoverage.txt               30% 9575MB   2.9MB/s 2:09:01 ETA"
       ]
      },
      {
       "output_type": "stream",
       "stream": "stdout",
       "text": [
        "\r",
        "1.141.A.step1.genomecoverage.txt               30% 9579MB   3.0MB/s 2:04:53 ETA"
       ]
      },
      {
       "output_type": "stream",
       "stream": "stdout",
       "text": [
        "\r",
        "1.141.A.step1.genomecoverage.txt               30% 9584MB   3.1MB/s 1:57:40 ETA"
       ]
      },
      {
       "output_type": "stream",
       "stream": "stdout",
       "text": [
        "\r",
        "1.141.A.step1.genomecoverage.txt               30% 9589MB   3.3MB/s 1:51:44 ETA"
       ]
      },
      {
       "output_type": "stream",
       "stream": "stdout",
       "text": [
        "\r",
        "1.141.A.step1.genomecoverage.txt               30% 9592MB   3.3MB/s 1:52:31 ETA"
       ]
      },
      {
       "output_type": "stream",
       "stream": "stdout",
       "text": [
        "\r",
        "1.141.A.step1.genomecoverage.txt               30% 9594MB   3.2MB/s 1:56:04 ETA"
       ]
      },
      {
       "output_type": "stream",
       "stream": "stdout",
       "text": [
        "\r",
        "1.141.A.step1.genomecoverage.txt               30% 9595MB   3.0MB/s 2:02:16 ETA"
       ]
      },
      {
       "output_type": "stream",
       "stream": "stdout",
       "text": [
        "\r",
        "1.141.A.step1.genomecoverage.txt               30% 9597MB   2.8MB/s 2:10:04 ETA"
       ]
      },
      {
       "output_type": "stream",
       "stream": "stdout",
       "text": [
        "\r",
        "1.141.A.step1.genomecoverage.txt               30% 9598MB   2.7MB/s 2:18:39 ETA"
       ]
      },
      {
       "output_type": "stream",
       "stream": "stdout",
       "text": [
        "\r",
        "1.141.A.step1.genomecoverage.txt               30% 9599MB   2.5MB/s 2:27:18 ETA"
       ]
      },
      {
       "output_type": "stream",
       "stream": "stdout",
       "text": [
        "\r",
        "1.141.A.step1.genomecoverage.txt               30% 9600MB   2.4MB/s 2:35:45 ETA"
       ]
      },
      {
       "output_type": "stream",
       "stream": "stdout",
       "text": [
        "\r",
        "1.141.A.step1.genomecoverage.txt               30% 9601MB   2.2MB/s 2:44:01 ETA"
       ]
      },
      {
       "output_type": "stream",
       "stream": "stdout",
       "text": [
        "\r",
        "1.141.A.step1.genomecoverage.txt               30% 9602MB   2.1MB/s 2:51:58 ETA"
       ]
      },
      {
       "output_type": "stream",
       "stream": "stdout",
       "text": [
        "\r",
        "1.141.A.step1.genomecoverage.txt               30% 9604MB   2.1MB/s 2:57:56 ETA"
       ]
      },
      {
       "output_type": "stream",
       "stream": "stdout",
       "text": [
        "\r",
        "1.141.A.step1.genomecoverage.txt               30% 9605MB   2.0MB/s 3:03:05 ETA"
       ]
      },
      {
       "output_type": "stream",
       "stream": "stdout",
       "text": [
        "\r",
        "1.141.A.step1.genomecoverage.txt               30% 9607MB   2.0MB/s 3:09:02 ETA"
       ]
      },
      {
       "output_type": "stream",
       "stream": "stdout",
       "text": [
        "\r",
        "1.141.A.step1.genomecoverage.txt               30% 9608MB   1.9MB/s 3:13:18 ETA"
       ]
      },
      {
       "output_type": "stream",
       "stream": "stdout",
       "text": [
        "\r",
        "1.141.A.step1.genomecoverage.txt               30% 9610MB   1.9MB/s 3:15:59 ETA"
       ]
      },
      {
       "output_type": "stream",
       "stream": "stdout",
       "text": [
        "\r",
        "1.141.A.step1.genomecoverage.txt               30% 9611MB   1.9MB/s 3:17:58 ETA"
       ]
      },
      {
       "output_type": "stream",
       "stream": "stdout",
       "text": [
        "\r",
        "1.141.A.step1.genomecoverage.txt               30% 9613MB   1.9MB/s 3:18:36 ETA"
       ]
      },
      {
       "output_type": "stream",
       "stream": "stdout",
       "text": [
        "\r",
        "1.141.A.step1.genomecoverage.txt               30% 9615MB   1.9MB/s 3:17:10 ETA"
       ]
      },
      {
       "output_type": "stream",
       "stream": "stdout",
       "text": [
        "\r",
        "1.141.A.step1.genomecoverage.txt               30% 9618MB   1.9MB/s 3:11:16 ETA"
       ]
      },
      {
       "output_type": "stream",
       "stream": "stdout",
       "text": [
        "\r",
        "1.141.A.step1.genomecoverage.txt               30% 9621MB   2.0MB/s 3:00:24 ETA"
       ]
      },
      {
       "output_type": "stream",
       "stream": "stdout",
       "text": [
        "\r",
        "1.141.A.step1.genomecoverage.txt               30% 9623MB   2.1MB/s 2:58:15 ETA"
       ]
      },
      {
       "output_type": "stream",
       "stream": "stdout",
       "text": [
        "\r",
        "1.141.A.step1.genomecoverage.txt               30% 9625MB   2.0MB/s 3:01:49 ETA"
       ]
      },
      {
       "output_type": "stream",
       "stream": "stdout",
       "text": [
        "\r",
        "1.141.A.step1.genomecoverage.txt               30% 9626MB   2.0MB/s 3:05:35 ETA"
       ]
      },
      {
       "output_type": "stream",
       "stream": "stdout",
       "text": [
        "\r",
        "1.141.A.step1.genomecoverage.txt               30% 9628MB   2.0MB/s 3:08:03 ETA"
       ]
      },
      {
       "output_type": "stream",
       "stream": "stdout",
       "text": [
        "\r",
        "1.141.A.step1.genomecoverage.txt               30% 9630MB   1.9MB/s 3:09:43 ETA"
       ]
      },
      {
       "output_type": "stream",
       "stream": "stdout",
       "text": [
        "\r",
        "1.141.A.step1.genomecoverage.txt               30% 9631MB   1.9MB/s 3:12:20 ETA"
       ]
      },
      {
       "output_type": "stream",
       "stream": "stdout",
       "text": [
        "\r",
        "1.141.A.step1.genomecoverage.txt               30% 9633MB   1.9MB/s 3:17:32 ETA"
       ]
      },
      {
       "output_type": "stream",
       "stream": "stdout",
       "text": [
        "\r",
        "1.141.A.step1.genomecoverage.txt               30% 9634MB   1.8MB/s 3:25:39 ETA"
       ]
      },
      {
       "output_type": "stream",
       "stream": "stdout",
       "text": [
        "\r",
        "1.141.A.step1.genomecoverage.txt               30% 9635MB   1.7MB/s 3:33:09 ETA"
       ]
      },
      {
       "output_type": "stream",
       "stream": "stdout",
       "text": [
        "\r",
        "1.141.A.step1.genomecoverage.txt               30% 9637MB   1.7MB/s 3:36:20 ETA"
       ]
      },
      {
       "output_type": "stream",
       "stream": "stdout",
       "text": [
        "\r",
        "1.141.A.step1.genomecoverage.txt               30% 9638MB   1.7MB/s 3:37:27 ETA"
       ]
      },
      {
       "output_type": "stream",
       "stream": "stdout",
       "text": [
        "\r",
        "1.141.A.step1.genomecoverage.txt               30% 9640MB   1.7MB/s 3:36:51 ETA"
       ]
      },
      {
       "output_type": "stream",
       "stream": "stdout",
       "text": [
        "\r",
        "1.141.A.step1.genomecoverage.txt               30% 9642MB   1.7MB/s 3:30:41 ETA"
       ]
      },
      {
       "output_type": "stream",
       "stream": "stdout",
       "text": [
        "\r",
        "1.141.A.step1.genomecoverage.txt               30% 9644MB   1.8MB/s 3:28:54 ETA"
       ]
      },
      {
       "output_type": "stream",
       "stream": "stdout",
       "text": [
        "\r",
        "1.141.A.step1.genomecoverage.txt               30% 9646MB   1.8MB/s 3:23:54 ETA"
       ]
      },
      {
       "output_type": "stream",
       "stream": "stdout",
       "text": [
        "\r",
        "1.141.A.step1.genomecoverage.txt               30% 9648MB   1.9MB/s 3:18:45 ETA"
       ]
      },
      {
       "output_type": "stream",
       "stream": "stdout",
       "text": [
        "\r",
        "1.141.A.step1.genomecoverage.txt               30% 9651MB   1.9MB/s 3:14:29 ETA"
       ]
      },
      {
       "output_type": "stream",
       "stream": "stdout",
       "text": [
        "\r",
        "1.141.A.step1.genomecoverage.txt               30% 9652MB   1.9MB/s 3:18:53 ETA"
       ]
      },
      {
       "output_type": "stream",
       "stream": "stdout",
       "text": [
        "\r",
        "1.141.A.step1.genomecoverage.txt               30% 9654MB   1.8MB/s 3:22:51 ETA"
       ]
      },
      {
       "output_type": "stream",
       "stream": "stdout",
       "text": [
        "\r",
        "1.141.A.step1.genomecoverage.txt               30% 9655MB   1.8MB/s 3:24:34 ETA"
       ]
      },
      {
       "output_type": "stream",
       "stream": "stdout",
       "text": [
        "\r",
        "1.141.A.step1.genomecoverage.txt               30% 9657MB   1.8MB/s 3:26:19 ETA"
       ]
      },
      {
       "output_type": "stream",
       "stream": "stdout",
       "text": [
        "\r",
        "1.141.A.step1.genomecoverage.txt               30% 9659MB   1.8MB/s 3:29:01 ETA"
       ]
      },
      {
       "output_type": "stream",
       "stream": "stdout",
       "text": [
        "\r",
        "1.141.A.step1.genomecoverage.txt               30% 9660MB   1.8MB/s 3:29:38 ETA"
       ]
      },
      {
       "output_type": "stream",
       "stream": "stdout",
       "text": [
        "\r",
        "1.141.A.step1.genomecoverage.txt               30% 9662MB   1.7MB/s 3:30:56 ETA"
       ]
      },
      {
       "output_type": "stream",
       "stream": "stdout",
       "text": [
        "\r",
        "1.141.A.step1.genomecoverage.txt               30% 9663MB   1.7MB/s 3:33:40 ETA"
       ]
      },
      {
       "output_type": "stream",
       "stream": "stdout",
       "text": [
        "\r",
        "1.141.A.step1.genomecoverage.txt               30% 9665MB   1.7MB/s 3:38:12 ETA"
       ]
      },
      {
       "output_type": "stream",
       "stream": "stdout",
       "text": [
        "\r",
        "1.141.A.step1.genomecoverage.txt               30% 9666MB   1.7MB/s 3:38:55 ETA"
       ]
      },
      {
       "output_type": "stream",
       "stream": "stdout",
       "text": [
        "\r",
        "1.141.A.step1.genomecoverage.txt               30% 9668MB   1.7MB/s 3:38:57 ETA"
       ]
      },
      {
       "output_type": "stream",
       "stream": "stdout",
       "text": [
        "\r",
        "1.141.A.step1.genomecoverage.txt               30% 9670MB   1.7MB/s 3:37:58 ETA"
       ]
      },
      {
       "output_type": "stream",
       "stream": "stdout",
       "text": [
        "\r",
        "1.141.A.step1.genomecoverage.txt               30% 9672MB   1.7MB/s 3:37:05 ETA"
       ]
      },
      {
       "output_type": "stream",
       "stream": "stdout",
       "text": [
        "\r",
        "1.141.A.step1.genomecoverage.txt               30% 9673MB   1.6MB/s 3:43:30 ETA"
       ]
      },
      {
       "output_type": "stream",
       "stream": "stdout",
       "text": [
        "\r",
        "1.141.A.step1.genomecoverage.txt               30% 9674MB   1.6MB/s 3:46:18 ETA"
       ]
      },
      {
       "output_type": "stream",
       "stream": "stdout",
       "text": [
        "\r",
        "1.141.A.step1.genomecoverage.txt               30% 9676MB   1.6MB/s 3:46:26 ETA"
       ]
      },
      {
       "output_type": "stream",
       "stream": "stdout",
       "text": [
        "\r",
        "1.141.A.step1.genomecoverage.txt               30% 9677MB   1.6MB/s 3:45:28 ETA"
       ]
      },
      {
       "output_type": "stream",
       "stream": "stdout",
       "text": [
        "\r",
        "1.141.A.step1.genomecoverage.txt               30% 9679MB   1.6MB/s 3:43:19 ETA"
       ]
      },
      {
       "output_type": "stream",
       "stream": "stdout",
       "text": [
        "\r",
        "1.141.A.step1.genomecoverage.txt               30% 9681MB   1.7MB/s 3:39:45 ETA"
       ]
      },
      {
       "output_type": "stream",
       "stream": "stdout",
       "text": [
        "\r",
        "1.141.A.step1.genomecoverage.txt               30% 9683MB   1.7MB/s 3:34:04 ETA"
       ]
      },
      {
       "output_type": "stream",
       "stream": "stdout",
       "text": [
        "\r",
        "1.141.A.step1.genomecoverage.txt               30% 9685MB   1.7MB/s 3:36:21 ETA"
       ]
      },
      {
       "output_type": "stream",
       "stream": "stdout",
       "text": [
        "\r",
        "1.141.A.step1.genomecoverage.txt               30% 9686MB   1.6MB/s 3:43:26 ETA"
       ]
      },
      {
       "output_type": "stream",
       "stream": "stdout",
       "text": [
        "\r",
        "1.141.A.step1.genomecoverage.txt               30% 9687MB   1.6MB/s 3:50:26 ETA"
       ]
      },
      {
       "output_type": "stream",
       "stream": "stdout",
       "text": [
        "\r",
        "1.141.A.step1.genomecoverage.txt               30% 9688MB   1.6MB/s 3:56:25 ETA"
       ]
      },
      {
       "output_type": "stream",
       "stream": "stdout",
       "text": [
        "\r",
        "1.141.A.step1.genomecoverage.txt               30% 9690MB   1.5MB/s 3:57:53 ETA"
       ]
      },
      {
       "output_type": "stream",
       "stream": "stdout",
       "text": [
        "\r",
        "1.141.A.step1.genomecoverage.txt               30% 9691MB   1.5MB/s 4:07:18 ETA"
       ]
      },
      {
       "output_type": "stream",
       "stream": "stdout",
       "text": [
        "^CKilled by signal 2.\r",
        "\r\n",
        "\r\n"
       ]
      }
     ],
     "prompt_number": 1
    },
    {
     "cell_type": "code",
     "collapsed": false,
     "input": [
      "%load_ext rmagic"
     ],
     "language": "python",
     "metadata": {},
     "outputs": [],
     "prompt_number": 9
    },
    {
     "cell_type": "code",
     "collapsed": false,
     "input": [
      "%%R\n",
      "library(dplyr)"
     ],
     "language": "python",
     "metadata": {},
     "outputs": [
      {
       "metadata": {},
       "output_type": "display_data",
       "text": [
        "\n",
        "Attaching package: \u2018dplyr\u2019\n",
        "\n",
        "The following object is masked from \u2018package:stats\u2019:\n",
        "\n",
        "    filter\n",
        "\n",
        "The following objects are masked from \u2018package:base\u2019:\n",
        "\n",
        "    intersect, setdiff, setequal, union\n",
        "\n"
       ]
      }
     ],
     "prompt_number": 10
    },
    {
     "cell_type": "code",
     "collapsed": false,
     "input": [
      "import os\n",
      "os.chdir(\"./group15/\")"
     ],
     "language": "python",
     "metadata": {},
     "outputs": [],
     "prompt_number": 5
    },
    {
     "cell_type": "code",
     "collapsed": false,
     "input": [
      "ls"
     ],
     "language": "python",
     "metadata": {},
     "outputs": [
      {
       "output_type": "stream",
       "stream": "stdout",
       "text": [
        "1.008.O.step1.genomecoverage.txt  group15_fastqlist.txt\r\n",
        "1.011.O.step1.genomecoverage.txt  move_group15.sh\r\n",
        "1.020.O.step1.genomecoverage.txt  step1.sh\r\n",
        "Group15.txt\r\n"
       ]
      }
     ],
     "prompt_number": 6
    },
    {
     "cell_type": "code",
     "collapsed": false,
     "input": [
      "!scp ./Group15.txt jbrown@eofe4.mit.edu:/nobackup1/jbrown/nahant_phage_reads/group15/"
     ],
     "language": "python",
     "metadata": {},
     "outputs": [
      {
       "output_type": "stream",
       "stream": "stdout",
       "text": [
        "\r",
        "Group15.txt                                     0%    0     0.0KB/s   --:-- ETA\r",
        "Group15.txt                                   100%  197     0.2KB/s   00:00    \r\n"
       ]
      }
     ],
     "prompt_number": 8
    },
    {
     "cell_type": "code",
     "collapsed": false,
     "input": [
      "%%R\n",
      "?pdf"
     ],
     "language": "python",
     "metadata": {},
     "outputs": [
      {
       "output_type": "stream",
       "stream": "stdout",
       "text": [
        "R Help on \u2018pdf\u2019pdf                 package:grDevices                  R Documentation\n",
        "\n",
        "_\bP_\bD_\bF _\bG_\br_\ba_\bp_\bh_\bi_\bc_\bs _\bD_\be_\bv_\bi_\bc_\be\n",
        "\n",
        "_\bD_\be_\bs_\bc_\br_\bi_\bp_\bt_\bi_\bo_\bn:\n",
        "\n",
        "     \u2018pdf\u2019 starts the graphics device driver for producing PDF\n",
        "     graphics.\n",
        "\n",
        "_\bU_\bs_\ba_\bg_\be:\n",
        "\n",
        "     pdf(file = ifelse(onefile, \"Rplots.pdf\", \"Rplot%03d.pdf\"),\n",
        "         width, height, onefile, family, title, fonts, version,\n",
        "         paper, encoding, bg, fg, pointsize, pagecentre, colormodel,\n",
        "         useDingbats, useKerning, fillOddEven, compress)\n",
        "     \n",
        "_\bA_\br_\bg_\bu_\bm_\be_\bn_\bt_\bs:\n",
        "\n",
        "    file: a character string giving the name of the file.  If it is of\n",
        "          the form \u2018\"|cmd\"\u2019, the output is piped to the command given\n",
        "          by \u2018cmd\u2019.  If it is \u2018NULL\u2019, then no external file is created\n",
        "          (effectively, no drawing occurs), but the device may still be\n",
        "          queried (e.g., for size of text).\n",
        "\n",
        "          For use with \u2018onefile = FALSE\u2019 give a C integer format such\n",
        "          as \u2018\"Rplot%03d.pdf\"\u2019 (the default in that case).  (See\n",
        "          \u2018postscript\u2019 for further details.)\n",
        "\n",
        "          Tilde expansion (see \u2018path.expand\u2019) is done.\n",
        "\n",
        "width, height: the width and height of the graphics region in inches.\n",
        "          The default values are \u20187\u2019.\n",
        "\n",
        " onefile: logical: if true (the default) allow multiple figures in one\n",
        "          file.  If false, generate a file with name containing the\n",
        "          page number for each page.  Defaults to \u2018TRUE\u2019, and forced to\n",
        "          true if \u2018file\u2019 is a pipe.\n",
        "\n",
        "  family: the font family to be used, see \u2018postscript\u2019.  Defaults to\n",
        "          \u2018\"Helvetica\"\u2019.\n",
        "\n",
        "   title: title string to embed as the \u2018/Title\u2019 field in the file.\n",
        "          Defaults to \u2018\"R Graphics Output\"\u2019.\n",
        "\n",
        "   fonts: a character vector specifying R graphics font family names\n",
        "          for additional fonts which will be included in the PDF file.\n",
        "          Defaults to \u2018NULL\u2019.\n",
        "\n",
        " version: a string describing the PDF version that will be required to\n",
        "          view the output.  This is a minimum, and will be increased\n",
        "          (with a warning) if necessary.  Defaults to \u2018\"1.4\"\u2019, but see\n",
        "          \u2018Details\u2019.\n",
        "\n",
        "   paper: the target paper size.  The choices are \u2018\"a4\"\u2019, \u2018\"letter\"\u2019,\n",
        "          \u2018\"legal\"\u2019 (or \u2018\"us\"\u2019) and \u2018\"executive\"\u2019 (and these can be\n",
        "          capitalized), or \u2018\"a4r\"\u2019 and \u2018\"USr\"\u2019 for rotated\n",
        "          (\u2018landscape\u2019).  The default is \u2018\"special\"\u2019, which means that\n",
        "          the \u2018width\u2019 and \u2018height\u2019 specify the paper size.  A further\n",
        "          choice is \u2018\"default\"\u2019; if this is selected, the papersize is\n",
        "          taken from the option \u2018\"papersize\"\u2019 if that is set and as\n",
        "          \u2018\"a4\"\u2019 if it is unset or empty.  Defaults to \u2018\"special\"\u2019.\n",
        "\n",
        "encoding: the name of an encoding file.  See \u2018postscript\u2019 for details.\n",
        "          Defaults to \u2018\"default\"\u2019.\n",
        "\n",
        "      bg: the initial background color to be used.  Defaults to\n",
        "          \u2018\"transparent\"\u2019.\n",
        "\n",
        "      fg: the initial foreground color to be used.  Defaults to\n",
        "          \u2018\"black\"\u2019.\n",
        "\n",
        "pointsize: the default point size to be used.  Strictly speaking, in\n",
        "          bp, that is 1/72 of an inch, but approximately in points.\n",
        "          Defaults to \u201812\u2019.\n",
        "\n",
        "pagecentre: logical: should the device region be centred on the page? -\n",
        "          is only relevant for \u2018paper != \"special\"\u2019.  Defaults to\n",
        "          \u2018TRUE\u2019.\n",
        "\n",
        "colormodel: a character string describing the color model: currently\n",
        "          allowed values are \u2018\"srgb\"\u2019, \u2018\"gray\"\u2019 (or \u2018\"grey\"\u2019) and\n",
        "          \u2018\"cmyk\"\u2019.  Defaults to \u2018\"srgb\"\u2019.  See section \u2018Color models\u2019.\n",
        "\n",
        "useDingbats: logical.  Should small circles be rendered _via_ the\n",
        "          Dingbats font?  Defaults to \u2018TRUE\u2019, which produces smaller\n",
        "          and better output.  Setting this to \u2018FALSE\u2019 can work around\n",
        "          font display problems in broken PDF viewers: although this\n",
        "          font is one of the 14 guaranteed to be available in all PDF\n",
        "          viewers, that guarantee is not always honoured.  See the\n",
        "          \u2018Note\u2019 for a possible fix for some viewers.\n",
        "\n",
        "useKerning: logical.  Should kerning corrections be included in setting\n",
        "          text and calculating string widths?  Defaults to \u2018TRUE\u2019.\n",
        "\n",
        "fillOddEven: logical controlling the polygon fill mode: see \u2018polygon\u2019\n",
        "          for details.  Defaults to \u2018FALSE\u2019.\n",
        "\n",
        "compress: logical.  Should PDF streams be generated with Flate\n",
        "          compression?  Defaults to \u2018TRUE\u2019.\n",
        "\n",
        "_\bD_\be_\bt_\ba_\bi_\bl_\bs:\n",
        "\n",
        "     All arguments except \u2018file\u2019 default to values given by\n",
        "     \u2018pdf.options()\u2019.  The ultimate defaults are quoted in the\n",
        "     arguments section.\n",
        "\n",
        "     \u2018pdf()\u2019 opens the file \u2018file\u2019 and the PDF commands needed to plot\n",
        "     any graphics requested are sent to that file.\n",
        "\n",
        "     The \u2018file\u2019 argument is interpreted as a C integer format as used\n",
        "     by \u2018sprintf\u2019, with integer argument the page number.  The default\n",
        "     gives files \u2018Rplot001.pdf\u2019, ..., \u2018Rplot999.pdf\u2019, \u2018Rplot1000.pdf\u2019,\n",
        "     ....\n",
        "\n",
        "     The \u2018family\u2019 argument can be used to specify a PDF-specific font\n",
        "     family as the initial/default font for the device.  If additional\n",
        "     font families are to be used they should be included in the\n",
        "     \u2018fonts\u2019 argument.\n",
        "\n",
        "     If a device-independent R graphics font family is specified (e.g.,\n",
        "     via \u2018par(family = )\u2019 in the graphics package), the PDF device\n",
        "     makes use of the PostScript font mappings to convert the R\n",
        "     graphics font family to a PDF-specific font family description.\n",
        "     (See the documentation for \u2018pdfFonts\u2019.)\n",
        "\n",
        "     This device does _not_ embed fonts in the PDF file, so it is only\n",
        "     straightforward to use mappings to the font families that can be\n",
        "     assumed to be available in any PDF viewer: \u2018\"Times\"\u2019 (equivalently\n",
        "     \u2018\"serif\"\u2019), \u2018\"Helvetica\"\u2019 (equivalently \u2018\"sans\"\u2019) and \u2018\"Courier\"\u2019\n",
        "     (equivalently \u2018\"mono\"\u2019).  Other families may be specified, but it\n",
        "     is the user's responsibility to ensure that these fonts are\n",
        "     available on the system and third-party software (e.g.,\n",
        "     Ghostscript) may be required to embed the fonts so that the PDF\n",
        "     can be included in other documents (e.g., LaTeX): see\n",
        "     \u2018embedFonts\u2019.  The URW-based families described for \u2018postscript\u2019\n",
        "     can be used with viewers set up to use URW fonts, which is usual\n",
        "     with those based on \u2018xpdf\u2019 or Ghostscript.  Since \u2018embedFonts\u2019\n",
        "     makes use of Ghostscript, it should be able to embed the URW-based\n",
        "     families for use with other viewers.\n",
        "\n",
        "     See \u2018postscript\u2019 for details of encodings, as the internal code is\n",
        "     shared between the drivers.  The native PDF encoding is given in\n",
        "     file \u2018PDFDoc.enc\u2019.\n",
        "\n",
        "     The PDF produced is fairly simple, with each page being\n",
        "     represented as a single stream (by default compressed and possibly\n",
        "     with references to raster images).  The R graphics model does not\n",
        "     distinguish graphics objects at the level of the driver interface.\n",
        "\n",
        "     The \u2018version\u2019 argument declares the version of PDF that gets\n",
        "     produced.  The version must be at least 1.2 when compression is\n",
        "     used, 1.4 for semi-transparent output to be understood, and at\n",
        "     least 1.3 if CID fonts are to be used: if any of these features\n",
        "     are used the version number will be increased (with a warning).\n",
        "     (PDF 1.4 was first supported by Acrobat 5 in 2001; it is very\n",
        "     unlikely not to be supported in a current viewer.)\n",
        "\n",
        "     Line widths as controlled by \u2018par(lwd = )\u2019 are in multiples of\n",
        "     1/96 inch.  Multiples less than 1 are allowed.  \u2018pch = \".\"\u2019 with\n",
        "     \u2018cex = 1\u2019 corresponds to a square of side 1/72 inch, which is also\n",
        "     the \u2018pixel\u2019 size assumed for graphics parameters such as \u2018\"cra\"\u2019.\n",
        "\n",
        "     The \u2018paper\u2019 argument sets the \u2018/MediaBox\u2019 entry in the file, which\n",
        "     defaults to \u2018width\u2019 by \u2018height\u2019.  If it is set to something other\n",
        "     than \u2018\"special\"\u2019, a device region of the specified size is (by\n",
        "     default) centred on the rectangle given by the paper size: if\n",
        "     either \u2018width\u2019 or \u2018height\u2019 is less than \u20180.1\u2019 or too large to give\n",
        "     a total margin of 0.5 inch, it is reset to the corresponding paper\n",
        "     dimension minus 0.5.  Thus if you want the default behaviour of\n",
        "     \u2018postscript\u2019 use \u2018pdf(paper = \"a4r\", width = 0, height = 0)\u2019 to\n",
        "     centre the device region on a landscape A4 page with 0.25 inch\n",
        "     margins.\n",
        "\n",
        "     When the background colour is fully transparent (as is the initial\n",
        "     default value), the PDF produced does not paint the background.\n",
        "     Most PDF viewers will use a white canvas so the visual effect is\n",
        "     if the background were white.  This will not be the case when\n",
        "     printing onto coloured paper, though.\n",
        "\n",
        "_\bC_\bo_\bl_\bo_\br _\bm_\bo_\bd_\be_\bl_\bs:\n",
        "\n",
        "     The default color model (\u2018\"srgb\"\u2019) is sRGB.  Model \u2018\"gray\"\u2019 (or\n",
        "     \u2018\"grey\"\u2019) maps sRGB colors to greyscale using perceived luminosity\n",
        "     (biased towards green).  \u2018\"cmyk\"\u2019 outputs in CMYK colorspace.  The\n",
        "     simplest possible conversion from sRGB to CMYK is used (<URL:\n",
        "     http://en.wikipedia.org/wiki/CMYK_color_model#Mapping_RGB_to_CMYK>),\n",
        "     and raster images are output in RGB.\n",
        "\n",
        "     Also available for backwards compatibility is model \u2018\"rgb\"\u2019 which\n",
        "     uses uncalibrated RGB and corresponds to the model used with that\n",
        "     name in R prior to 2.13.0.  Some viewers may render some plots in\n",
        "     that colorspace faster than in sRGB, and the plot files will be\n",
        "     smaller.\n",
        "\n",
        "_\bC_\bo_\bn_\bv_\be_\bn_\bt_\bi_\bo_\bn_\bs:\n",
        "\n",
        "     This section describes the implementation of the conventions for\n",
        "     graphics devices set out in the \u201cR Internals Manual\u201d.\n",
        "\n",
        "        \u2022 The default device size is 7 inches square.\n",
        "\n",
        "        \u2022 Font sizes are in big points.\n",
        "\n",
        "        \u2022 The default font family is Helvetica.\n",
        "\n",
        "        \u2022 Line widths are as a multiple of 1/96 inch, with a minimum of\n",
        "          0.01 enforced.\n",
        "\n",
        "        \u2022 Circles of any radius are allowed.  Unless \u2018useDingbats =\n",
        "          FALSE\u2019, opaque circles of less than 10 big points radius are\n",
        "          rendered using char 108 in the Dingbats font: all\n",
        "          semi-transparent and larger circles using a B\u00e9zier curve for\n",
        "          each quadrant.\n",
        "\n",
        "        \u2022 Colours are by default specified as sRGB.\n",
        "\n",
        "     At very small line widths, the line type may be forced to solid.\n",
        "\n",
        "_\bP_\br_\bi_\bn_\bt_\bi_\bn_\bg:\n",
        "\n",
        "     Except on Windows it is possible to print directly from \u2018pdf\u2019 by\n",
        "     something like (this is appropriate for a CUPS printing system):\n",
        "     \n",
        "         pdf(\"|lp -o landscape\", paper = \"a4r\")\n",
        "\n",
        "     This forces \u2018onefile = TRUE\u2019.\n",
        "\n",
        "_\bN_\bo_\bt_\be:\n",
        "\n",
        "     If you see problems with PDF output, do remember that the problem\n",
        "     is much more likely to be in your viewer than in R.  Try another\n",
        "     viewer if possible.  Symptoms for which the viewer has been at\n",
        "     fault are apparent grids on image plots (turn off graphics\n",
        "     anti-aliasing in your viewer if you can) and missing or incorrect\n",
        "     glyphs in text (viewers silently doing font substitution).\n",
        "\n",
        "     Unfortunately the default viewers on most Linux and OS X systems\n",
        "     have these problems, and no obvious way to turn off graphics\n",
        "     anti-aliasing.\n",
        "\n",
        "     Acrobat Reader does not use the fonts specified but rather\n",
        "     emulates them from multiple-master fonts.  This can be seen in\n",
        "     imprecise centering of characters, for example the multiply and\n",
        "     divide signs in Helvetica.  This can be circumvented by embedding\n",
        "     fonts where possible.  Most other viewers substitute fonts, e.g.\n",
        "     URW fonts for the standard Helvetica and Times fonts, and these\n",
        "     too often have different font metrics from the true fonts.\n",
        "\n",
        "     Acrobat Reader can be extended by \u2018font packs\u2019, and these will be\n",
        "     needed for the full use of encodings other than Latin-1 (although\n",
        "     they may be offered for download as needed).\n",
        "\n",
        "     On some systems the default plotting character \u2018pch = 1\u2019 was\n",
        "     displayed in some PDF viewers incorrectly as a \u2018\"q\"\u2019 character.\n",
        "     (These seem to be viewers based on the \u2018poppler\u2019 PDF rendering\n",
        "     library).  This may be due to incorrect or incomplete mapping of\n",
        "     font names to those used by the system.  Adding the following\n",
        "     lines to \u2018~/.fonts.conf\u2019 or \u2018/etc/fonts/local.conf\u2019 may circumvent\n",
        "     this problem, although this has largely been corrected on the\n",
        "     affected systems.\n",
        "     \n",
        "     <fontconfig>\n",
        "     <alias binding=\"same\">\n",
        "       <family>ZapfDingbats</family>\n",
        "       <accept><family>Dingbats</family></accept>\n",
        "     </alias>\n",
        "     </fontconfig>\n",
        "\n",
        "     Some further workarounds for problems with symbol fonts on viewers\n",
        "     using \u2018fontconfig\u2019 are given in the \u2018Cairo Fonts\u2019 section of the\n",
        "     help for \u2018X11\u2019.\n",
        "\n",
        "     There is a different font bug in the \u2018pdf.js\u2019 viewer included in\n",
        "     Firefox 19 and later: that maps Dingbats to the Symbol font and so\n",
        "     displays symbols such \u2018pch = 1\u2019 as lambda.\n",
        "\n",
        "_\bS_\be_\be _\bA_\bl_\bs_\bo:\n",
        "\n",
        "     \u2018pdfFonts\u2019, \u2018pdf.options\u2019, \u2018embedFonts\u2019, \u2018Devices\u2019, \u2018postscript\u2019.\n",
        "\n",
        "     \u2018cairo_pdf\u2019 and (on OS X only) \u2018quartz\u2019 for other devices that can\n",
        "     produce PDF.\n",
        "\n",
        "     More details of font families and encodings and especially\n",
        "     handling text in a non-Latin-1 encoding and embedding fonts can be\n",
        "     found in\n",
        "\n",
        "     Paul Murrell and Brian Ripley (2006) Non-standard fonts in\n",
        "     PostScript and PDF graphics. _R News_, 6(2):41-47.  <URL:\n",
        "     http://cran.r-project.org/doc/Rnews/Rnews_2006-2.pdf>.\n",
        "\n",
        "_\bE_\bx_\ba_\bm_\bp_\bl_\be_\bs:\n",
        "\n",
        "     ## Test function for encodings\n",
        "     TestChars <- function(encoding = \"ISOLatin1\", ...)\n",
        "     {\n",
        "         pdf(encoding = encoding, ...)\n",
        "         par(pty = \"s\")\n",
        "         plot(c(-1,16), c(-1,16), type = \"n\", xlab = \"\", ylab = \"\",\n",
        "              xaxs = \"i\", yaxs = \"i\")\n",
        "              title(paste(\"Centred chars in encoding\", encoding))\n",
        "         grid(17, 17, lty = 1)\n",
        "         for(i in c(32:255)) {\n",
        "             x <- i %% 16\n",
        "             y <- i %/% 16\n",
        "             points(x, y, pch = i)\n",
        "         }\n",
        "         dev.off()\n",
        "     }\n",
        "     ## there will be many warnings.\n",
        "     TestChars(\"ISOLatin2\")\n",
        "     ## this does not view properly in older viewers.\n",
        "     TestChars(\"ISOLatin2\", family = \"URWHelvetica\")\n",
        "     ## works well for viewing in gs-based viewers, and often in xpdf.\n",
        "     \n"
       ]
      }
     ],
     "prompt_number": 26
    },
    {
     "cell_type": "code",
     "collapsed": false,
     "input": [
      "%%R \n",
      "virusnames<-read.table(\"Group15.txt\")\n",
      "alignments<-vector()\n",
      "for (item in virusnames){\n",
      "    #alignments<-c(alignments, paste(item,'step1.genomecoverage.txt',sep=\"\"))\n",
      "    alignments<-c(alignments,as.character(item))\n",
      "    }\n",
      "print(alignments)"
     ],
     "language": "python",
     "metadata": {},
     "outputs": [
      {
       "metadata": {},
       "output_type": "display_data",
       "text": [
        " [1] \"1.020.O.\" \"1.011.O.\" \"1.040.O.\" \"1.043.O.\" \"1.044.O.\" \"1.048.O.\"\n",
        " [7] \"1.057.O.\" \"1.062.O.\" \"1.080.O.\" \"1.095.O.\" \"1.102.O.\" \"1.125.O.\"\n",
        "[13] \"1.141.A.\" \"2.092.O.\" \"1.008.O.\" \"1.069.O.\" \"1.107.B.\" \"1.107.C.\"\n",
        "[19] \"1.107.A.\" \"1.249.A.\" \"1.249.B.\" \"1.141.A.\"\n"
       ]
      }
     ],
     "prompt_number": 36
    },
    {
     "cell_type": "code",
     "collapsed": false,
     "input": [],
     "language": "python",
     "metadata": {},
     "outputs": [],
     "prompt_number": 43
    },
    {
     "cell_type": "code",
     "collapsed": false,
     "input": [
      "%%R\n",
      "#make coverage plots for each contig1 in group 5:\n",
      "png(\"group15.combinedplot.png\", width=1650,height=3150,pointsize=14, type=\"cairo\")\n",
      "layout(matrix(c(1:22),11,2,byrow=TRUE), heights=c(15,15,15,15,15,15,15,15,15,15,15), widths=c(15,15))\n",
      "for (item in alignments){\n",
      "    filename<-paste(item,\"step1.genomecoverage.txt\",sep=\"\")\n",
      "    coverage<-read.table(filename, sep=\"\\t\")\n",
      "    contig1<-filter(coverage, V1==\"contig_1\")\n",
      "    #png(paste(\"./group6/coverageplots/\",item,\"coverage.plot.png\", sep=\"\"))\n",
      "    with(contig1, plot(V2, V3, type=\"n\",xlab=\"position\",ylab=\"coverage\", main=item))\n",
      "    with(contig1, lines(V2,V3))\n",
      "}\n",
      "dev.off()"
     ],
     "language": "python",
     "metadata": {},
     "outputs": []
    },
    {
     "cell_type": "code",
     "collapsed": false,
     "input": [
      "%%R\n",
      "#make coverage plots for each contig1 in group 5:\n",
      "pdf(\"group15.combinedplot.png\", width=5, height=5)\n",
      "layout(matrix(c(1:22),11,2,byrow=TRUE), heights=c(15,15,15,15,15,15,15,15,15,15,15), widths=c(15,15))\n",
      "for (item in alignments){\n",
      "    filename<-paste(item,\"step1.genomecoverage.txt\",sep=\"\")\n",
      "    coverage<-read.table(filename, sep=\"\\t\")\n",
      "    contig1<-filter(coverage, V1==\"contig_1\")\n",
      "    pdf(paste(item,\"coverage.plot.pdf\", sep=\"\"))\n",
      "    with(contig1, plot(V2, V3, type=\"n\",xlab=\"position\",ylab=\"coverage\", main=item))\n",
      "    with(contig1, lines(V2,V3))\n",
      "    dev.off()\n",
      "}\n",
      "dev.off()"
     ],
     "language": "python",
     "metadata": {},
     "outputs": []
    },
    {
     "cell_type": "code",
     "collapsed": false,
     "input": [
      "!scp jbrown@eofe4.mit.edu:/nobackup1/jbrown/nahant_phage_reads/group15/*pdf* ./"
     ],
     "language": "python",
     "metadata": {},
     "outputs": [
      {
       "output_type": "stream",
       "stream": "stdout",
       "text": [
        "\r",
        "Rplots.pdf                                      0%    0     0.0KB/s   --:-- ETA\r",
        "Rplots.pdf                                    100%  163     0.2KB/s   00:00    \r\n"
       ]
      }
     ],
     "prompt_number": 28
    },
    {
     "cell_type": "markdown",
     "metadata": {},
     "source": [
      "Ran the above R code on the server, and it took more than two hours to make coverage plots.  I think this may be because some files have too many contigs in them when we're probably most interested in just contig1.  Next I'll extract contig 1 from each of the files and re-run read recruitment on just contig1:"
     ]
    },
    {
     "cell_type": "raw",
     "metadata": {},
     "source": [
      "samtools faidx assembly.fasta.output.fasta 'contig_1'>assembly.fasta.ouput.contig1.fasta"
     ]
    },
    {
     "cell_type": "code",
     "collapsed": false,
     "input": [
      "group=open(\"Group15.txt\")\n",
      "step1c1=open(\"step1.contig1.sh\",\"w\")\n",
      "for line in group:\n",
      "    name=line.rstrip(\"\\n\")\n",
      "    step1c1.write(\"samtools faidx \"+name+\"step1.clc.fasta 'contig_1'>\"+name+\"step1.contig1.fasta\\n\\nclc_mapper -o \"+name+\"step1.contig1.cas -p fb ss 100 300 -q \"+name+\"*.fastq -d \"+name+\"step1.contig1.fasta -a local -r ignore\\n\")\n",
      "    step1c1.write(\"clc_cas_to_sam -a \"+name+\"step1.contig1.cas -o \"+name+\"step1.contig1.bam\\n\\nsamtools sort \"+name+\"step1.contig1.bam \"+name+\"sorted.step1.contig1\\nsamtools index \"+name+\"sorted.step1.contig1.bam\\n\\nbedtools genomecov -ibam \"+name+\"sorted.step1.contig1.bam -d > \"+name+\"step1.contig1.genomecoverage.txt\\n\\n\")\n",
      "step1c1.close()"
     ],
     "language": "python",
     "metadata": {},
     "outputs": [],
     "prompt_number": 41
    },
    {
     "cell_type": "code",
     "collapsed": false,
     "input": [
      "!open step1.contig1.sh -a textedit"
     ],
     "language": "python",
     "metadata": {},
     "outputs": [],
     "prompt_number": 42
    },
    {
     "cell_type": "raw",
     "metadata": {},
     "source": [
      "#!/bin/bash                                                                                                                                                                \n",
      "#SBATCH -n 16                                                                                                                                                              \n",
      "#SBATCH -N 1                                                                                                                    \n",
      "#SBATCH -o step1.contig1.out      # File to which STDOUT will be written                                                                                   \n",
      "#SBATCH -e step1.contig1.err      # File to which STDERR will be written                                                                                   \n",
      "#SBATCH -p newnodes                # name of partition to use      \n",
      "\n",
      "\n",
      "module add engaging/clc-assembly-cell\n",
      "module add engaging/samtools/1.1\n",
      "module add engaging/bedtools/2.22.1"
     ]
    },
    {
     "cell_type": "code",
     "collapsed": false,
     "input": [
      "!scp step1.contig1.sh jbrown@eofe4.mit.edu:/nobackup1/jbrown/nahant_phage_reads/group15/"
     ],
     "language": "python",
     "metadata": {},
     "outputs": [
      {
       "output_type": "stream",
       "stream": "stdout",
       "text": [
        "\r",
        "step1.contig1.sh                                0%    0     0.0KB/s   --:-- ETA\r",
        "step1.contig1.sh                              100%   12KB  11.7KB/s   00:00    \r\n"
       ]
      }
     ],
     "prompt_number": 43
    },
    {
     "cell_type": "code",
     "collapsed": false,
     "input": [],
     "language": "python",
     "metadata": {},
     "outputs": []
    },
    {
     "cell_type": "code",
     "collapsed": false,
     "input": [
      "%%R \n",
      "virusnames<-read.table(\"Group15.txt\")\n",
      "alignments<-vector()\n",
      "for (item in virusnames){\n",
      "    #alignments<-c(alignments, paste(item,'step1.genomecoverage.txt',sep=\"\"))\n",
      "    alignments<-c(alignments,as.character(item))\n",
      "    }\n",
      "print(alignments)\n",
      "for (item in alignments){\n",
      "    filename<-paste(item,\"step1.contig1.genomecoverage.txt\",sep=\"\")\n",
      "    coverage<-read.table(filename, sep=\"\\t\")\n",
      "    pdf(paste(item,\"step1.contig1.coverage.plot.pdf\", sep=\"\"))\n",
      "    with(coverage, plot(V2, V3, type=\"n\",xlab=\"position\",ylab=\"coverage\", main=item))\n",
      "    with(coverage, lines(V2,V3))\n",
      "    dev.off()\n",
      "}"
     ],
     "language": "python",
     "metadata": {},
     "outputs": []
    },
    {
     "cell_type": "code",
     "collapsed": false,
     "input": [
      "!scp jbrown@eofe4.mit.edu:/nobackup1/jbrown/nahant_phage_reads/group15/*contig1*pdf* ./"
     ],
     "language": "python",
     "metadata": {},
     "outputs": [
      {
       "output_type": "stream",
       "stream": "stdout",
       "text": [
        "\r",
        "1.008.O.step1.contig1.coverage.plot.pdf         0%    0     0.0KB/s   --:-- ETA"
       ]
      },
      {
       "output_type": "stream",
       "stream": "stdout",
       "text": [
        "\r",
        "1.008.O.step1.contig1.coverage.plot.pdf       100%   45KB  45.4KB/s   00:00    \r\n",
        "\r",
        "1.011.O.step1.contig1.coverage.plot.pdf         0%    0     0.0KB/s   --:-- ETA"
       ]
      },
      {
       "output_type": "stream",
       "stream": "stdout",
       "text": [
        "\r",
        "1.011.O.step1.contig1.coverage.plot.pdf       100%   50KB  50.3KB/s   00:00    \r\n",
        "\r",
        "1.020.O.step1.contig1.coverage.plot.pdf         0%    0     0.0KB/s   --:-- ETA"
       ]
      },
      {
       "output_type": "stream",
       "stream": "stdout",
       "text": [
        "\r",
        "1.020.O.step1.contig1.coverage.plot.pdf       100% 7029     6.9KB/s   00:00    \r\n",
        "\r",
        "1.040.O.step1.contig1.coverage.plot.pdf         0%    0     0.0KB/s   --:-- ETA"
       ]
      },
      {
       "output_type": "stream",
       "stream": "stdout",
       "text": [
        "\r",
        "1.040.O.step1.contig1.coverage.plot.pdf       100%   51KB  51.2KB/s   00:00    \r\n"
       ]
      },
      {
       "output_type": "stream",
       "stream": "stdout",
       "text": [
        "\r",
        "1.043.O.step1.contig1.coverage.plot.pdf         0%    0     0.0KB/s   --:-- ETA\r",
        "1.043.O.step1.contig1.coverage.plot.pdf       100%   47KB  46.6KB/s   00:00    \r\n",
        "\r",
        "1.044.O.step1.contig1.coverage.plot.pdf         0%    0     0.0KB/s   --:-- ETA"
       ]
      },
      {
       "output_type": "stream",
       "stream": "stdout",
       "text": [
        "\r",
        "1.044.O.step1.contig1.coverage.plot.pdf       100%   51KB  51.4KB/s   00:00    \r\n"
       ]
      },
      {
       "output_type": "stream",
       "stream": "stdout",
       "text": [
        "\r",
        "1.048.O.step1.contig1.coverage.plot.pdf         0%    0     0.0KB/s   --:-- ETA"
       ]
      },
      {
       "output_type": "stream",
       "stream": "stdout",
       "text": [
        "\r",
        "1.048.O.step1.contig1.coverage.plot.pdf       100%   51KB  51.5KB/s   00:00    \r\n",
        "\r",
        "1.057.O.step1.contig1.coverage.plot.pdf         0%    0     0.0KB/s   --:-- ETA"
       ]
      },
      {
       "output_type": "stream",
       "stream": "stdout",
       "text": [
        "\r",
        "1.057.O.step1.contig1.coverage.plot.pdf       100%   55KB  54.9KB/s   00:00    \r\n",
        "\r",
        "1.062.O.step1.contig1.coverage.plot.pdf         0%    0     0.0KB/s   --:-- ETA"
       ]
      },
      {
       "output_type": "stream",
       "stream": "stdout",
       "text": [
        "\r",
        "1.062.O.step1.contig1.coverage.plot.pdf       100%   54KB  53.7KB/s   00:00    \r\n",
        "\r",
        "1.069.O.step1.contig1.coverage.plot.pdf         0%    0     0.0KB/s   --:-- ETA"
       ]
      },
      {
       "output_type": "stream",
       "stream": "stdout",
       "text": [
        "\r",
        "1.069.O.step1.contig1.coverage.plot.pdf       100%   51KB  50.8KB/s   00:00    \r\n",
        "\r",
        "1.080.O.step1.contig1.coverage.plot.pdf         0%    0     0.0KB/s   --:-- ETA"
       ]
      },
      {
       "output_type": "stream",
       "stream": "stdout",
       "text": [
        "\r",
        "1.080.O.step1.contig1.coverage.plot.pdf       100%   53KB  52.6KB/s   00:00    \r\n",
        "\r",
        "1.095.O.step1.contig1.coverage.plot.pdf         0%    0     0.0KB/s   --:-- ETA"
       ]
      },
      {
       "output_type": "stream",
       "stream": "stdout",
       "text": [
        "\r",
        "1.095.O.step1.contig1.coverage.plot.pdf       100%   54KB  53.7KB/s   00:00    \r\n",
        "\r",
        "1.102.O.step1.contig1.coverage.plot.pdf         0%    0     0.0KB/s   --:-- ETA"
       ]
      },
      {
       "output_type": "stream",
       "stream": "stdout",
       "text": [
        "\r",
        "1.102.O.step1.contig1.coverage.plot.pdf       100%   47KB  47.0KB/s   00:00    \r\n",
        "\r",
        "1.107.A.step1.contig1.coverage.plot.pdf         0%    0     0.0KB/s   --:-- ETA"
       ]
      },
      {
       "output_type": "stream",
       "stream": "stdout",
       "text": [
        "\r",
        "1.107.A.step1.contig1.coverage.plot.pdf       100%   55KB  55.4KB/s   00:00    \r\n",
        "\r",
        "1.107.B.step1.contig1.coverage.plot.pdf         0%    0     0.0KB/s   --:-- ETA"
       ]
      },
      {
       "output_type": "stream",
       "stream": "stdout",
       "text": [
        "\r",
        "1.107.B.step1.contig1.coverage.plot.pdf       100%   55KB  55.2KB/s   00:00    \r\n",
        "\r",
        "1.107.C.step1.contig1.coverage.plot.pdf         0%    0     0.0KB/s   --:-- ETA"
       ]
      },
      {
       "output_type": "stream",
       "stream": "stdout",
       "text": [
        "\r",
        "1.107.C.step1.contig1.coverage.plot.pdf       100%   55KB  55.0KB/s   00:00    \r\n",
        "\r",
        "1.125.O.step1.contig1.coverage.plot.pdf         0%    0     0.0KB/s   --:-- ETA"
       ]
      },
      {
       "output_type": "stream",
       "stream": "stdout",
       "text": [
        "\r",
        "1.125.O.step1.contig1.coverage.plot.pdf       100%   56KB  56.1KB/s   00:00    \r\n",
        "\r",
        "1.141.A.step1.contig1.coverage.plot.pdf         0%    0     0.0KB/s   --:-- ETA"
       ]
      },
      {
       "output_type": "stream",
       "stream": "stdout",
       "text": [
        "\r",
        "1.141.A.step1.contig1.coverage.plot.pdf       100%   53KB  53.3KB/s   00:00    \r\n",
        "\r",
        "1.249.A.step1.contig1.coverage.plot.pdf         0%    0     0.0KB/s   --:-- ETA"
       ]
      },
      {
       "output_type": "stream",
       "stream": "stdout",
       "text": [
        "\r",
        "1.249.A.step1.contig1.coverage.plot.pdf       100%   55KB  54.9KB/s   00:00    \r\n",
        "\r",
        "1.249.B.step1.contig1.coverage.plot.pdf         0%    0     0.0KB/s   --:-- ETA"
       ]
      },
      {
       "output_type": "stream",
       "stream": "stdout",
       "text": [
        "\r",
        "1.249.B.step1.contig1.coverage.plot.pdf       100%   54KB  53.9KB/s   00:00    \r\n",
        "\r",
        "2.092.O.step1.contig1.coverage.plot.pdf         0%    0     0.0KB/s   --:-- ETA"
       ]
      },
      {
       "output_type": "stream",
       "stream": "stdout",
       "text": [
        "\r",
        "2.092.O.step1.contig1.coverage.plot.pdf       100%   49KB  49.5KB/s   00:00    \r\n"
       ]
      }
     ],
     "prompt_number": 44
    },
    {
     "cell_type": "code",
     "collapsed": false,
     "input": [
      "!scp jbrown@eofe4.mit.edu:/nobackup1/jbrown/nahant_phage_reads/group15/*step1.clc.fasta ./"
     ],
     "language": "python",
     "metadata": {},
     "outputs": [
      {
       "output_type": "stream",
       "stream": "stdout",
       "text": [
        "\r",
        "1.008.O.step1.clc.fasta                         0%    0     0.0KB/s   --:-- ETA"
       ]
      },
      {
       "output_type": "stream",
       "stream": "stdout",
       "text": [
        "\r",
        "1.008.O.step1.clc.fasta                       100% 9683     9.5KB/s   00:00    \r\n",
        "\r",
        "1.011.O.step1.clc.fasta                         0%    0     0.0KB/s   --:-- ETA"
       ]
      },
      {
       "output_type": "stream",
       "stream": "stdout",
       "text": [
        "\r",
        "1.011.O.step1.clc.fasta                       100%   13KB  13.5KB/s   00:00    \r\n",
        "\r",
        "1.020.O.step1.clc.fasta                         0%    0     0.0KB/s   --:-- ETA"
       ]
      },
      {
       "output_type": "stream",
       "stream": "stdout",
       "text": [
        "\r",
        "1.020.O.step1.clc.fasta                       100%  153KB 153.0KB/s   00:00    \r\n",
        "\r",
        "1.040.O.step1.clc.fasta                         0%    0     0.0KB/s   --:-- ETA"
       ]
      },
      {
       "output_type": "stream",
       "stream": "stdout",
       "text": [
        "\r",
        "1.040.O.step1.clc.fasta                       100%   70KB  69.7KB/s   00:00    \r\n"
       ]
      },
      {
       "output_type": "stream",
       "stream": "stdout",
       "text": [
        "\r",
        "1.043.O.step1.clc.fasta                         0%    0     0.0KB/s   --:-- ETA\r",
        "1.043.O.step1.clc.fasta                       100%   51KB  50.9KB/s   00:00    \r\n",
        "\r",
        "1.044.O.step1.clc.fasta                         0%    0     0.0KB/s   --:-- ETA"
       ]
      },
      {
       "output_type": "stream",
       "stream": "stdout",
       "text": [
        "\r",
        "1.044.O.step1.clc.fasta                       100%   11KB  11.1KB/s   00:00    \r\n",
        "\r",
        "1.048.O.step1.clc.fasta                         0%    0     0.0KB/s   --:-- ETA"
       ]
      },
      {
       "output_type": "stream",
       "stream": "stdout",
       "text": [
        "\r",
        "1.048.O.step1.clc.fasta                       100%   20KB  20.1KB/s   00:00    \r\n"
       ]
      },
      {
       "output_type": "stream",
       "stream": "stdout",
       "text": [
        "\r",
        "1.057.O.step1.clc.fasta                         0%    0     0.0KB/s   --:-- ETA\r",
        "1.057.O.step1.clc.fasta                       100%   10KB  10.1KB/s   00:00    \r\n"
       ]
      },
      {
       "output_type": "stream",
       "stream": "stdout",
       "text": [
        "\r",
        "1.062.O.step1.clc.fasta                         0%    0     0.0KB/s   --:-- ETA"
       ]
      },
      {
       "output_type": "stream",
       "stream": "stdout",
       "text": [
        "\r",
        "1.062.O.step1.clc.fasta                       100%   30KB  30.1KB/s   00:00    \r\n",
        "\r",
        "1.069.O.step1.clc.fasta                         0%    0     0.0KB/s   --:-- ETA"
       ]
      },
      {
       "output_type": "stream",
       "stream": "stdout",
       "text": [
        "\r",
        "1.069.O.step1.clc.fasta                       100%   19KB  18.7KB/s   00:00    \r\n",
        "\r",
        "1.080.O.step1.clc.fasta                         0%    0     0.0KB/s   --:-- ETA"
       ]
      },
      {
       "output_type": "stream",
       "stream": "stdout",
       "text": [
        "\r",
        "1.080.O.step1.clc.fasta                       100%   10KB   9.9KB/s   00:00    \r\n",
        "\r",
        "1.095.O.step1.clc.fasta                         0%    0     0.0KB/s   --:-- ETA"
       ]
      },
      {
       "output_type": "stream",
       "stream": "stdout",
       "text": [
        "\r",
        "1.095.O.step1.clc.fasta                       100%   17KB  17.1KB/s   00:01    \r\n"
       ]
      },
      {
       "output_type": "stream",
       "stream": "stdout",
       "text": [
        "\r",
        "1.102.O.step1.clc.fasta                         0%    0     0.0KB/s   --:-- ETA\r",
        "1.102.O.step1.clc.fasta                       100%   12KB  12.4KB/s   00:00    \r\n"
       ]
      },
      {
       "output_type": "stream",
       "stream": "stdout",
       "text": [
        "\r",
        "1.107.A.step1.clc.fasta                         0%    0     0.0KB/s   --:-- ETA\r",
        "1.107.A.step1.clc.fasta                       100%   20KB  19.8KB/s   00:00    \r\n",
        "\r",
        "1.107.B.step1.clc.fasta                         0%    0     0.0KB/s   --:-- ETA"
       ]
      },
      {
       "output_type": "stream",
       "stream": "stdout",
       "text": [
        "\r",
        "1.107.B.step1.clc.fasta                       100%   14KB  13.6KB/s   00:00    \r\n",
        "\r",
        "1.107.C.step1.clc.fasta                         0%    0     0.0KB/s   --:-- ETA"
       ]
      },
      {
       "output_type": "stream",
       "stream": "stdout",
       "text": [
        "\r",
        "1.107.C.step1.clc.fasta                       100%   23KB  23.0KB/s   00:00    \r\n",
        "\r",
        "1.125.O.step1.clc.fasta                         0%    0     0.0KB/s   --:-- ETA"
       ]
      },
      {
       "output_type": "stream",
       "stream": "stdout",
       "text": [
        "\r",
        "1.125.O.step1.clc.fasta                       100%   10KB  10.4KB/s   00:00    \r\n",
        "\r",
        "1.141.A.step1.clc.fasta                         0%    0     0.0KB/s   --:-- ETA"
       ]
      },
      {
       "output_type": "stream",
       "stream": "stdout",
       "text": [
        "\r",
        "1.141.A.step1.clc.fasta                       100%   69KB  69.1KB/s   00:00    \r\n",
        "\r",
        "1.249.A.step1.clc.fasta                         0%    0     0.0KB/s   --:-- ETA"
       ]
      },
      {
       "output_type": "stream",
       "stream": "stdout",
       "text": [
        "\r",
        "1.249.A.step1.clc.fasta                       100%   17KB  17.1KB/s   00:00    \r\n"
       ]
      },
      {
       "output_type": "stream",
       "stream": "stdout",
       "text": [
        "\r",
        "1.249.B.step1.clc.fasta                         0%    0     0.0KB/s   --:-- ETA\r",
        "1.249.B.step1.clc.fasta                       100%   18KB  17.6KB/s   00:00    \r\n"
       ]
      },
      {
       "output_type": "stream",
       "stream": "stdout",
       "text": [
        "\r",
        "2.092.O.step1.clc.fasta                         0%    0     0.0KB/s   --:-- ETA"
       ]
      },
      {
       "output_type": "stream",
       "stream": "stdout",
       "text": [
        "\r",
        "2.092.O.step1.clc.fasta                       100% 9686     9.5KB/s   00:00    \r\n"
       ]
      }
     ],
     "prompt_number": 47
    },
    {
     "cell_type": "markdown",
     "metadata": {},
     "source": [
      "##Orientation Check:"
     ]
    },
    {
     "cell_type": "code",
     "collapsed": false,
     "input": [
      "from pyfaidx import Fasta\n",
      "from Bio.Seq import Seq"
     ],
     "language": "python",
     "metadata": {},
     "outputs": [],
     "prompt_number": 49
    },
    {
     "cell_type": "code",
     "collapsed": false,
     "input": [
      "#define groupfile:\n",
      "groupfile=open(\"group15.txt\")\n",
      "\n",
      "blast_commands=open(\"blast_commands.sh\",\"w\")\n",
      "for line in groupfile:\n",
      "    name=line.rstrip(\"\\n\")\n",
      "    inputfasta=name+\"step1.contig1.fasta\"\n",
      "    blastoutputname=name+\"vs.terminases.txt\"\n",
      "    blastcommand=\"blastx -db /nobackup1/jbrown/blast_db/NCBI_phage_terminases_20150414.fasta -query \"+inputfasta+\" -num_descriptions 1 -outfmt 6 -out \"+blastoutputname\n",
      "    blast_commands.write(blastcommand+\"\\n\")\n",
      "blast_commands.close()\n",
      "!open blast_commands.sh -a textedit"
     ],
     "language": "python",
     "metadata": {},
     "outputs": []
    },
    {
     "cell_type": "raw",
     "metadata": {},
     "source": [
      "#!/bin/bash                                                                                                                                                                \n",
      "#SBATCH -n 16                                                                                                                                                              \n",
      "#SBATCH -N 1                                                                                                                    \n",
      "#SBATCH -o terminase_blast.out      # File to which STDOUT will be written                                                                                   \n",
      "#SBATCH -e terminase_blast.err      # File to which STDERR will be written                                                                                   \n",
      "#SBATCH -p newnodes                # name of partition to use      \n",
      "\n",
      "module add engaging/ncbi-blast/2.2.30+\n"
     ]
    },
    {
     "cell_type": "code",
     "collapsed": false,
     "input": [
      "!scp blast_commands.sh jbrown@eofe4.mit.edu:/nobackup1/jbrown/nahant_phage_reads/group15/"
     ],
     "language": "python",
     "metadata": {},
     "outputs": []
    },
    {
     "cell_type": "code",
     "collapsed": false,
     "input": [
      "!scp jbrown@eofe4.mit.edu:/nobackup1/jbrown/nahant_phage_reads/group15/*vs* ./"
     ],
     "language": "python",
     "metadata": {},
     "outputs": [
      {
       "output_type": "stream",
       "stream": "stdout",
       "text": [
        "\r",
        "1.008.O.s1c1.vs.terminases.txt                  0%    0     0.0KB/s   --:-- ETA\r",
        "1.008.O.s1c1.vs.terminases.txt                100%   83     0.1KB/s   00:00    \r\n"
       ]
      },
      {
       "output_type": "stream",
       "stream": "stdout",
       "text": [
        "\r",
        "1.008.O.vs.terminases.txt                       0%    0     0.0KB/s   --:-- ETA\r",
        "1.008.O.vs.terminases.txt                     100%  322     0.3KB/s   00:00    \r\n"
       ]
      },
      {
       "output_type": "stream",
       "stream": "stdout",
       "text": [
        "\r",
        "1.011.O.vs.terminases.txt                       0%    0     0.0KB/s   --:-- ETA\r",
        "1.011.O.vs.terminases.txt                     100%  322     0.3KB/s   00:00    \r\n"
       ]
      },
      {
       "output_type": "stream",
       "stream": "stdout",
       "text": [
        "\r",
        "1.020.O.vs.terminases.txt                     100%    0     0.0KB/s   00:00    \r\n",
        "\r",
        "1.040.O.vs.terminases.txt                       0%    0     0.0KB/s   --:-- ETA"
       ]
      },
      {
       "output_type": "stream",
       "stream": "stdout",
       "text": [
        "\r",
        "1.040.O.vs.terminases.txt                     100%  322     0.3KB/s   00:00    \r\n",
        "\r",
        "1.043.O.vs.terminases.txt                     100%    0     0.0KB/s   00:00    \r\n"
       ]
      },
      {
       "output_type": "stream",
       "stream": "stdout",
       "text": [
        "\r",
        "1.044.O.vs.terminases.txt                     100%    0     0.0KB/s   00:00    \r\n"
       ]
      },
      {
       "output_type": "stream",
       "stream": "stdout",
       "text": [
        "\r",
        "1.048.O.vs.terminases.txt                     100%    0     0.0KB/s   00:00    \r\n"
       ]
      },
      {
       "output_type": "stream",
       "stream": "stdout",
       "text": [
        "\r",
        "1.057.O.vs.terminases.txt                     100%    0     0.0KB/s   00:00    \r\n"
       ]
      },
      {
       "output_type": "stream",
       "stream": "stdout",
       "text": [
        "\r",
        "1.062.O.vs.terminases.txt                       0%    0     0.0KB/s   --:-- ETA\r",
        "1.062.O.vs.terminases.txt                     100%  322     0.3KB/s   00:00    \r\n"
       ]
      },
      {
       "output_type": "stream",
       "stream": "stdout",
       "text": [
        "\r",
        "1.069.O.vs.terminases.txt                       0%    0     0.0KB/s   --:-- ETA\r",
        "1.069.O.vs.terminases.txt                     100%  322     0.3KB/s   00:00    \r\n",
        "\r",
        "1.080.O.vs.terminases.txt                     100%    0     0.0KB/s   00:00    \r\n"
       ]
      },
      {
       "output_type": "stream",
       "stream": "stdout",
       "text": [
        "\r",
        "1.095.O.vs.terminases.txt                     100%    0     0.0KB/s   00:00    \r\n"
       ]
      },
      {
       "output_type": "stream",
       "stream": "stdout",
       "text": [
        "\r",
        "1.102.O.vs.terminases.txt                     100%    0     0.0KB/s   00:00    \r\n"
       ]
      },
      {
       "output_type": "stream",
       "stream": "stdout",
       "text": [
        "\r",
        "1.107.A.vs.terminases.txt                     100%    0     0.0KB/s   00:00    \r\n"
       ]
      },
      {
       "output_type": "stream",
       "stream": "stdout",
       "text": [
        "\r",
        "1.107.B.vs.terminases.txt                     100%    0     0.0KB/s   00:00    \r\n"
       ]
      },
      {
       "output_type": "stream",
       "stream": "stdout",
       "text": [
        "\r",
        "1.107.C.vs.terminases.txt                     100%    0     0.0KB/s   00:00    \r\n",
        "\r",
        "1.125.O.vs.terminases.txt                       0%    0     0.0KB/s   --:-- ETA"
       ]
      },
      {
       "output_type": "stream",
       "stream": "stdout",
       "text": [
        "\r",
        "1.125.O.vs.terminases.txt                     100%  322     0.3KB/s   00:00    \r\n",
        "\r",
        "1.141.A.vs.terminases.txt                     100%    0     0.0KB/s   00:00    \r\n"
       ]
      },
      {
       "output_type": "stream",
       "stream": "stdout",
       "text": [
        "\r",
        "1.249.A.vs.terminases.txt                       0%    0     0.0KB/s   --:-- ETA"
       ]
      },
      {
       "output_type": "stream",
       "stream": "stdout",
       "text": [
        "\r",
        "1.249.A.vs.terminases.txt                     100%  163     0.2KB/s   00:00    \r\n",
        "\r",
        "1.249.B.vs.terminases.txt                       0%    0     0.0KB/s   --:-- ETA\r",
        "1.249.B.vs.terminases.txt                     100%  165     0.2KB/s   00:00    \r\n"
       ]
      },
      {
       "output_type": "stream",
       "stream": "stdout",
       "text": [
        "\r",
        "2.092.O.vs.terminases.txt                       0%    0     0.0KB/s   --:-- ETA\r",
        "2.092.O.vs.terminases.txt                     100%  322     0.3KB/s   00:00    \r\n"
       ]
      }
     ],
     "prompt_number": 51
    },
    {
     "cell_type": "code",
     "collapsed": false,
     "input": [
      "groupfile=open(\"group15.txt\")\n",
      "for line in groupfile:\n",
      "    name=line.rstrip(\"\\n\")\n",
      "    \n",
      "    blastoutputname=name+\"vs.terminases.txt\"\n",
      "    blastout=open(blastoutputname)\n",
      "    blastout=blastout.read()\n",
      "    vec=blastout.split(\"\\t\")\n",
      "    if len(vec)>2:\n",
      "        start=int(vec[6])\n",
      "        inputfasta=name+\"step1.contig1.fasta\"\n",
      "        f=Fasta(inputfasta)\n",
      "        viromelen=len(f[0])\n",
      "        threshhold=len(f[0])/2\n",
      "        sequence=str(f[0])\n",
      "        seq=Seq(str(sequence))\n",
      "        outfasta=open(name+\"s1c1.oc.fasta\",\"w\")\n",
      "        outfasta.write(\">\"+name+\"\\n\")\n",
      "\n",
      "        if start>threshhold:\n",
      "            print(name+\": must reverse sequence \")\n",
      "            out_seq=seq.reverse_complement()\n",
      "    \n",
      "        else:\n",
      "            print(name+\": sequence is in correct orientation\")\n",
      "            out_seq=seq\n",
      "        outfasta.write(str(out_seq))\n",
      "        outfasta.close()\n",
      "    else:\n",
      "        print(name+\": no blast match\")"
     ],
     "language": "python",
     "metadata": {},
     "outputs": [
      {
       "output_type": "stream",
       "stream": "stdout",
       "text": [
        "1.020.O.: no blast match\n",
        "1.011.O.: must reverse sequence \n",
        "1.040.O.: sequence is in correct orientation\n",
        "1.043.O.: no blast match\n",
        "1.044.O.: no blast match\n",
        "1.048.O.: no blast match\n",
        "1.057.O.: no blast match\n",
        "1.062.O.: must reverse sequence \n",
        "1.080.O.: no blast match\n",
        "1.095.O.: no blast match\n",
        "1.102.O.: no blast match\n",
        "1.125.O.: sequence is in correct orientation\n",
        "1.141.A.: no blast match\n",
        "2.092.O.: sequence is in correct orientation\n",
        "1.008.O.: must reverse sequence \n",
        "1.069.O.: must reverse sequence \n",
        "1.107.B.: no blast match\n",
        "1.107.C.: no blast match\n",
        "1.107.A.: no blast match\n",
        "1.249.A.: must reverse sequence \n",
        "1.249.B.: must reverse sequence \n",
        "1.141.A.: no blast match\n"
       ]
      }
     ],
     "prompt_number": 50
    },
    {
     "cell_type": "code",
     "collapsed": false,
     "input": [
      "groupfile=open(\"group15.txt\")\n",
      "for line in groupfile:\n",
      "    name=line.rstrip(\"\\n\")\n",
      "    \n",
      "    blastoutputname=name+\"vs.terminases.txt\"\n",
      "    blastout=open(blastoutputname)\n",
      "    blast=blastout.read()\n",
      "    print(blast)"
     ],
     "language": "python",
     "metadata": {},
     "outputs": [
      {
       "output_type": "stream",
       "stream": "stdout",
       "text": [
        "\n",
        "contig_1\tgi|468641229|gb|AGH31416.1|\t46.34\t41\t18\t2\t9041\t8919\t362\t398\t4.5\t32.7\n",
        "contig_1\tgi|472342258|ref|YP_007675768.1|\t46.34\t41\t18\t2\t9041\t8919\t362\t398\t4.5\t32.7\n",
        "contig_1\tgi|468641109|gb|AGH31382.1|\t46.34\t41\t18\t2\t9041\t8919\t362\t398\t4.5\t32.7\n",
        "contig_1\tgi|472339779|ref|YP_007673310.1|\t46.34\t41\t18\t2\t9041\t8919\t362\t398\t4.5\t32.7\n",
        "\n",
        "contig_1\tgi|468641229|gb|AGH31416.1|\t46.34\t41\t18\t2\t1448\t1570\t362\t398\t4.2\t32.7\n",
        "contig_1\tgi|472342258|ref|YP_007675768.1|\t46.34\t41\t18\t2\t1448\t1570\t362\t398\t4.2\t32.7\n",
        "contig_1\tgi|468641109|gb|AGH31382.1|\t46.34\t41\t18\t2\t1448\t1570\t362\t398\t4.2\t32.7\n",
        "contig_1\tgi|472339779|ref|YP_007673310.1|\t46.34\t41\t18\t2\t1448\t1570\t362\t398\t4.2\t32.7\n",
        "\n",
        "\n",
        "\n",
        "\n",
        "\n",
        "contig_1\tgi|468641229|gb|AGH31416.1|\t46.34\t41\t18\t2\t9042\t8920\t362\t398\t4.5\t32.7\n",
        "contig_1\tgi|472342258|ref|YP_007675768.1|\t46.34\t41\t18\t2\t9042\t8920\t362\t398\t4.5\t32.7\n",
        "contig_1\tgi|468641109|gb|AGH31382.1|\t46.34\t41\t18\t2\t9042\t8920\t362\t398\t4.5\t32.7\n",
        "contig_1\tgi|472339779|ref|YP_007673310.1|\t46.34\t41\t18\t2\t9042\t8920\t362\t398\t4.5\t32.7\n",
        "\n",
        "\n",
        "\n",
        "\n",
        "contig_1\tgi|468641229|gb|AGH31416.1|\t46.34\t41\t18\t2\t1448\t1570\t362\t398\t4.5\t32.7\n",
        "contig_1\tgi|472342258|ref|YP_007675768.1|\t46.34\t41\t18\t2\t1448\t1570\t362\t398\t4.5\t32.7\n",
        "contig_1\tgi|468641109|gb|AGH31382.1|\t46.34\t41\t18\t2\t1448\t1570\t362\t398\t4.5\t32.7\n",
        "contig_1\tgi|472339779|ref|YP_007673310.1|\t46.34\t41\t18\t2\t1448\t1570\t362\t398\t4.5\t32.7\n",
        "\n",
        "\n",
        "contig_1\tgi|468641229|gb|AGH31416.1|\t46.34\t41\t18\t2\t1449\t1571\t362\t398\t4.0\t32.7\n",
        "contig_1\tgi|472342258|ref|YP_007675768.1|\t46.34\t41\t18\t2\t1449\t1571\t362\t398\t4.0\t32.7\n",
        "contig_1\tgi|468641109|gb|AGH31382.1|\t46.34\t41\t18\t2\t1449\t1571\t362\t398\t4.0\t32.7\n",
        "contig_1\tgi|472339779|ref|YP_007673310.1|\t46.34\t41\t18\t2\t1449\t1571\t362\t398\t4.0\t32.7\n",
        "\n",
        "contig_1\tgi|468641229|gb|AGH31416.1|\t46.34\t41\t18\t2\t8068\t7946\t362\t398\t4.0\t32.7\n",
        "contig_1\tgi|472342258|ref|YP_007675768.1|\t46.34\t41\t18\t2\t8068\t7946\t362\t398\t4.0\t32.7\n",
        "contig_1\tgi|468641109|gb|AGH31382.1|\t46.34\t41\t18\t2\t8068\t7946\t362\t398\t4.0\t32.7\n",
        "contig_1\tgi|472339779|ref|YP_007673310.1|\t46.34\t41\t18\t2\t8068\t7946\t362\t398\t4.0\t32.7\n"
       ]
      },
      {
       "output_type": "stream",
       "stream": "stdout",
       "text": [
        "\n",
        "contig_1\tgi|468641229|gb|AGH31416.1|\t46.34\t41\t18\t2\t8063\t7941\t362\t398\t4.0\t32.7\n",
        "contig_1\tgi|472342258|ref|YP_007675768.1|\t46.34\t41\t18\t2\t8063\t7941\t362\t398\t4.0\t32.7\n",
        "contig_1\tgi|468641109|gb|AGH31382.1|\t46.34\t41\t18\t2\t8063\t7941\t362\t398\t4.0\t32.7\n",
        "contig_1\tgi|472339779|ref|YP_007673310.1|\t46.34\t41\t18\t2\t8063\t7941\t362\t398\t4.0\t32.7\n",
        "\n",
        "\n",
        "\n",
        "\n",
        "contig_1\tgi|659044972|ref|WP_029860026.1|\t42.22\t45\t25\t1\t9965\t10099\t138\t181\t2.3\t33.1\n",
        "contig_1\tgi|726142719|gb|KHF13395.1|\t42.22\t45\t25\t1\t9965\t10099\t138\t181\t2.7\t33.5\n",
        "\n",
        "contig_1\tgi|659044972|ref|WP_029860026.1|\t42.22\t45\t25\t1\t10016\t10150\t138\t181\t2.4\t33.1\n",
        "contig_1\tgi|726142719|gb|KHF13395.1|\t42.22\t45\t25\t1\t10016\t10150\t138\t181\t2.8\t33.5\n"
       ]
      },
      {
       "output_type": "stream",
       "stream": "stdout",
       "text": [
        "\n",
        "\n"
       ]
      }
     ],
     "prompt_number": 54
    },
    {
     "cell_type": "code",
     "collapsed": false,
     "input": [],
     "language": "python",
     "metadata": {},
     "outputs": []
    }
   ],
   "metadata": {}
  }
 ]
}