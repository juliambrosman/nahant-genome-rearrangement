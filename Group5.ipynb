{
 "metadata": {
  "name": "",
  "signature": "sha256:e833dd28d1ce61b88de9a1089f959527f98d49e75260aa0cc801682cb42549d7"
 },
 "nbformat": 3,
 "nbformat_minor": 0,
 "worksheets": [
  {
   "cells": [
    {
     "cell_type": "code",
     "collapsed": false,
     "input": [
      "import os\n",
      "\n",
      "prelim_groups=open(\"phage_by_group.txt\")\n",
      "phage_grp={}\n",
      "for line in prelim_groups.readlines():\n",
      "    line=line.rstrip(\"\\n\")\n",
      "    vec=line.split(\"\\t\")\n",
      "    phage_grp[vec[0]]=vec[1]\n",
      "groups=list(phage_grp.values())\n",
      "unique=[]\n",
      "for value in groups:\n",
      "    if value not in unique:\n",
      "        unique.append(value)\n",
      "\n",
      "group5=[]\n",
      "for value in phage_grp.keys():\n",
      "    if phage_grp.get(value)=='CNSv2.0:5':\n",
      "        group5.append(value)\n",
      "group5"
     ],
     "language": "python",
     "metadata": {},
     "outputs": [
      {
       "metadata": {},
       "output_type": "pyout",
       "prompt_number": 5,
       "text": [
        "['1.238.A.',\n",
        " '1.152.O.',\n",
        " '1.238.B.',\n",
        " '1.224.A.',\n",
        " '1.026.O.',\n",
        " '1.261.O.',\n",
        " '1.097.O.',\n",
        " '1.025.O.',\n",
        " '1.188.A.',\n",
        " '1.188.B.',\n",
        " '2.130.O.',\n",
        " '1.150.O.',\n",
        " '1.245.O.',\n",
        " '1.188.C.',\n",
        " '1.169.O.']"
       ]
      }
     ],
     "prompt_number": 5
    },
    {
     "cell_type": "code",
     "collapsed": false,
     "input": [],
     "language": "python",
     "metadata": {},
     "outputs": []
    },
    {
     "cell_type": "code",
     "collapsed": false,
     "input": [
      "import os\n",
      "os.chdir(\"./Group5/\")"
     ],
     "language": "python",
     "metadata": {},
     "outputs": [],
     "prompt_number": 6
    },
    {
     "cell_type": "code",
     "collapsed": false,
     "input": [
      "pwd"
     ],
     "language": "python",
     "metadata": {},
     "outputs": [
      {
       "metadata": {},
       "output_type": "pyout",
       "prompt_number": 4,
       "text": [
        "u'/Users/jmb/Desktop/ViralFate/PhageGenomeAssembly'"
       ]
      }
     ],
     "prompt_number": 4
    },
    {
     "cell_type": "code",
     "collapsed": false,
     "input": [
      "!ls *fasta > grp5genomelist.txt"
     ],
     "language": "python",
     "metadata": {},
     "outputs": [],
     "prompt_number": 16
    },
    {
     "cell_type": "code",
     "collapsed": false,
     "input": [
      "!open grp5genomelist.txt -a textedit"
     ],
     "language": "python",
     "metadata": {},
     "outputs": [],
     "prompt_number": 17
    },
    {
     "cell_type": "code",
     "collapsed": false,
     "input": [
      "from pyfaidx import Fasta\n",
      "from Bio.Seq import Seq"
     ],
     "language": "python",
     "metadata": {},
     "outputs": [],
     "prompt_number": 29
    },
    {
     "cell_type": "code",
     "collapsed": false,
     "input": [
      "groupfile=open(\"grp5genomelist.txt\")\n",
      "blast_commands=open(\"blast_commands.sh\",\"w\")\n",
      "blast_commands.write(\"#!/bin/bash\\n#SBATCH -n 16\\n#SBATCH -N 1\\n#SBATCH -o db.out\\n#SBATCH -e db.err\\n#SBATCH -p newnodes\\n\\n\")\n",
      "blast_commands.write(\"module add engaging/ncbi-blast/2.2.30+\\n\\n\\n\")\n",
      "for line in groupfile:\n",
      "    name=line.rstrip(\"\\n\")\n",
      "    inputfasta=name\n",
      "    blastoutputname=name+\".vs.terminases.txt\"\n",
      "    blastcommand=\"blastx -db /nobackup1/jbrown/blast_db/NCBI_phage_terminases_20150414.fasta -query \"+inputfasta+\" -num_descriptions 1 -outfmt 6 -out \"+blastoutputname\n",
      "    blast_commands.write(blastcommand+\"\\n\")\n",
      "blast_commands.close()\n",
      "!open blast_commands.sh -a textedit"
     ],
     "language": "python",
     "metadata": {},
     "outputs": [],
     "prompt_number": 19
    },
    {
     "cell_type": "code",
     "collapsed": false,
     "input": [
      "!scp blast_commands.sh jbrown@eofe4.mit.edu:/nobackup1/jbrown/nahant_phage_reads/group5/finished"
     ],
     "language": "python",
     "metadata": {},
     "outputs": [
      {
       "output_type": "stream",
       "stream": "stdout",
       "text": [
        "\r",
        "blast_commands.sh                               0%    0     0.0KB/s   --:-- ETA\r",
        "blast_commands.sh                             100% 2762     2.7KB/s   00:00    \r\n"
       ]
      }
     ],
     "prompt_number": 20
    },
    {
     "cell_type": "code",
     "collapsed": false,
     "input": [
      "!scp jbrown@eofe4.mit.edu:/nobackup1/jbrown/nahant_phage_reads/group5/finished/*vs* ./"
     ],
     "language": "python",
     "metadata": {},
     "outputs": [
      {
       "output_type": "stream",
       "stream": "stdout",
       "text": [
        "\r",
        "1.025.O.step1.fasta.vs.terminases.txt           0%    0     0.0KB/s   --:-- ETA"
       ]
      },
      {
       "output_type": "stream",
       "stream": "stdout",
       "text": [
        "\r",
        "1.025.O.step1.fasta.vs.terminases.txt         100%  580     0.6KB/s   00:00    \r\n",
        "\r",
        "1.025.O_vs_aclameprots.txt                      0%    0     0.0KB/s   --:-- ETA"
       ]
      },
      {
       "output_type": "stream",
       "stream": "stdout",
       "text": [
        "\r",
        "1.025.O_vs_aclameprots.txt                    100% 3318     3.2KB/s   00:00    \r\n"
       ]
      },
      {
       "output_type": "stream",
       "stream": "stdout",
       "text": [
        "\r",
        "1.026.O.step2.fasta.vs.terminases.txt           0%    0     0.0KB/s   --:-- ETA\r",
        "1.026.O.step2.fasta.vs.terminases.txt         100%  741     0.7KB/s   00:00    \r\n"
       ]
      },
      {
       "output_type": "stream",
       "stream": "stdout",
       "text": [
        "\r",
        "1.097.O.step2.fasta.vs.terminases.txt           0%    0     0.0KB/s   --:-- ETA\r",
        "1.097.O.step2.fasta.vs.terminases.txt         100%  743     0.7KB/s   00:00    \r\n",
        "\r",
        "1.150.O.step2.fasta.vs.terminases.txt           0%    0     0.0KB/s   --:-- ETA"
       ]
      },
      {
       "output_type": "stream",
       "stream": "stdout",
       "text": [
        "\r",
        "1.150.O.step2.fasta.vs.terminases.txt         100%  741     0.7KB/s   00:00    \r\n",
        "\r",
        "1.152.O.step2.fasta.vs.terminases.txt           0%    0     0.0KB/s   --:-- ETA"
       ]
      },
      {
       "output_type": "stream",
       "stream": "stdout",
       "text": [
        "\r",
        "1.152.O.step2.fasta.vs.terminases.txt         100%  755     0.7KB/s   00:00    \r\n"
       ]
      },
      {
       "output_type": "stream",
       "stream": "stdout",
       "text": [
        "\r",
        "1.169.O.step1.fasta.vs.terminases.txt           0%    0     0.0KB/s   --:-- ETA\r",
        "1.169.O.step1.fasta.vs.terminases.txt         100%  860     0.8KB/s   00:00    \r\n",
        "\r",
        "1.188.A.step2.fasta.vs.terminases.txt           0%    0     0.0KB/s   --:-- ETA"
       ]
      },
      {
       "output_type": "stream",
       "stream": "stdout",
       "text": [
        "\r",
        "1.188.A.step2.fasta.vs.terminases.txt         100% 1825     1.8KB/s   00:00    \r\n",
        "\r",
        "1.188.B.step2.fasta.vs.terminases.txt           0%    0     0.0KB/s   --:-- ETA"
       ]
      },
      {
       "output_type": "stream",
       "stream": "stdout",
       "text": [
        "\r",
        "1.188.B.step2.fasta.vs.terminases.txt         100% 1825     1.8KB/s   00:00    \r\n",
        "\r",
        "1.188.C.step2.fasta.vs.terminases.txt           0%    0     0.0KB/s   --:-- ETA"
       ]
      },
      {
       "output_type": "stream",
       "stream": "stdout",
       "text": [
        "\r",
        "1.188.C.step2.fasta.vs.terminases.txt         100% 1809     1.8KB/s   00:00    \r\n",
        "\r",
        "1.224.A.step2.fasta.vs.terminases.txt           0%    0     0.0KB/s   --:-- ETA"
       ]
      },
      {
       "output_type": "stream",
       "stream": "stdout",
       "text": [
        "\r",
        "1.224.A.step2.fasta.vs.terminases.txt         100% 2145     2.1KB/s   00:00    \r\n",
        "\r",
        "1.238.A.step2.fasta.vs.terminases.txt           0%    0     0.0KB/s   --:-- ETA"
       ]
      },
      {
       "output_type": "stream",
       "stream": "stdout",
       "text": [
        "\r",
        "1.238.A.step2.fasta.vs.terminases.txt         100% 7071     6.9KB/s   00:00    \r\n",
        "\r",
        "1.238.B.step2.fasta.vs.terminases.txt           0%    0     0.0KB/s   --:-- ETA"
       ]
      },
      {
       "output_type": "stream",
       "stream": "stdout",
       "text": [
        "\r",
        "1.238.B.step2.fasta.vs.terminases.txt         100% 7071     6.9KB/s   00:00    \r\n",
        "\r",
        "1.245.O.step2.fasta.vs.terminases.txt           0%    0     0.0KB/s   --:-- ETA\r",
        "1.245.O.step2.fasta.vs.terminases.txt         100% 7079     6.9KB/s   00:00    \r\n"
       ]
      },
      {
       "output_type": "stream",
       "stream": "stdout",
       "text": [
        "\r",
        "1.261.O.step2.fasta.vs.terminases.txt           0%    0     0.0KB/s   --:-- ETA\r",
        "1.261.O.step2.fasta.vs.terminases.txt         100% 1301     1.3KB/s   00:00    \r\n"
       ]
      },
      {
       "output_type": "stream",
       "stream": "stdout",
       "text": [
        "\r",
        "2.130.O.step2.fasta.vs.terminases.txt           0%    0     0.0KB/s   --:-- ETA\r",
        "2.130.O.step2.fasta.vs.terminases.txt         100%  741     0.7KB/s   00:00    \r\n"
       ]
      }
     ],
     "prompt_number": 22
    },
    {
     "cell_type": "code",
     "collapsed": false,
     "input": [
      "groupfile=open(\"grp5genomelist.txt\")\n",
      "for line in groupfile:\n",
      "    name=line.rstrip(\"\\n\")\n",
      "    blastoutputname=name+\".vs.terminases.txt\"\n",
      "    blastout=open(blastoutputname)\n",
      "    blastout=blastout.read()\n",
      "    vec=blastout.split(\"\\t\")\n",
      "    veca=name.split(\"s\")\n",
      "    phagename=veca[0]\n",
      "    if len(vec)>2:\n",
      "        start=int(vec[6])\n",
      "        inputfasta=name\n",
      "\n",
      "        f=Fasta(inputfasta)\n",
      "        viromelen=len(f[0])\n",
      "        threshhold=len(f[0])/2\n",
      "        sequence=str(f[0])\n",
      "        seq=Seq(str(sequence))\n",
      "        outfasta=open(phagename+\"s1c1.oc.fasta\",\"w\")\n",
      "        outfasta.write(\">\"+phagename+\"\\n\")\n",
      "\n",
      "        if start>threshhold:\n",
      "            print(name+\": must reverse sequence \")\n",
      "            out_seq=seq.reverse_complement()\n",
      "    \n",
      "        else:\n",
      "            print(name+\": sequence is in correct orientation\")\n",
      "            out_seq=seq\n",
      "        outfasta.write(str(out_seq))\n",
      "        outfasta.close()\n",
      "    else:\n",
      "        print(name+\": no blast match\")"
     ],
     "language": "python",
     "metadata": {},
     "outputs": [
      {
       "output_type": "stream",
       "stream": "stdout",
       "text": [
        "1.025.O.step1.fasta: sequence is in correct orientation\n",
        "1.026.O.step2.fasta: sequence is in correct orientation\n",
        "1.097.O.step2.fasta: sequence is in correct orientation\n",
        "1.150.O.step2.fasta: sequence is in correct orientation\n",
        "1.152.O.step2.fasta: must reverse sequence \n",
        "1.169.O.step1.fasta: must reverse sequence \n",
        "1.188.A.step2.fasta: sequence is in correct orientation\n",
        "1.188.B.step2.fasta: sequence is in correct orientation\n",
        "1.188.C.step2.fasta: must reverse sequence "
       ]
      },
      {
       "output_type": "stream",
       "stream": "stdout",
       "text": [
        "\n",
        "1.224.A.step2.fasta: sequence is in correct orientation\n",
        "1.238.A.step2.fasta: must reverse sequence \n",
        "1.238.B.step2.fasta: must reverse sequence \n",
        "1.245.O.step2.fasta: must reverse sequence \n",
        "1.261.O.step2.fasta: sequence is in correct orientation\n",
        "2.130.O.step2.fasta: sequence is in correct orientation\n"
       ]
      }
     ],
     "prompt_number": 30
    },
    {
     "cell_type": "code",
     "collapsed": false,
     "input": [
      "!mkdir ReorientedFinished"
     ],
     "language": "python",
     "metadata": {},
     "outputs": [],
     "prompt_number": 32
    },
    {
     "cell_type": "code",
     "collapsed": false,
     "input": [
      "mv *.oc.fasta ./ReorientedFinished/"
     ],
     "language": "python",
     "metadata": {},
     "outputs": [],
     "prompt_number": 33
    },
    {
     "cell_type": "code",
     "collapsed": false,
     "input": [
      "pwd"
     ],
     "language": "python",
     "metadata": {},
     "outputs": [
      {
       "metadata": {},
       "output_type": "pyout",
       "prompt_number": 34,
       "text": [
        "u'/Users/jmb/Desktop/ViralFate/PhageGenomeAssembly/Group5/genome_seqs/Genomes'"
       ]
      }
     ],
     "prompt_number": 34
    },
    {
     "cell_type": "code",
     "collapsed": false,
     "input": [
      "script=open(\"KK_recruitment.slurm\",\"w\")\n",
      "script.write(\"#!/bin/bash\\n#SBATCH -n 16\\n#SBATCH -N 1\\n#SBATCH -o KKadj.out\\n#SBATCH -e KKadj.err\\n#SBATCH -p sched_mit_hill\\n\\n\")\n",
      "script.write(\"module add engaging/clc-assembly-cell\\nmodule add engaging/samtools/1.1\\nmodule add engaging/bedtools/2.22.1\\n\\n\")\n",
      "\n",
      "for virus in group5:\n",
      "    target_seq=virus+\"KKadjust.fasta\"\n",
      "    reads=virus+\"*.fastq\"\n",
      "    recruitfile=virus+\"KKadjust.recruitment.cas\"\n",
      "    outputfasta=virus+\"KKadj.final.fasta\"\n",
      "    directed=virus+\"KKadj.\"\n",
      "\n",
      "    script.write(\"clc_mapper -o \"+recruitfile+\" -p fb ss 100 300 -q \"+reads+\" -d \"+target_seq+\" -a local -r ignore \\n\")\n",
      "    script.write(\"clc_extract_consensus -z none -a \"+recruitfile+\" -o \"+outputfasta+\"\\n\")\n",
      "    script.write(\"clc_cas_to_sam -a \"+recruitfile+\" -o \"+directed+\"bam\\n\")\n",
      "    script.write(\"samtools sort \"+directed+\"bam \"+directed+\"sorted\\n\")\n",
      "    script.write(\"samtools index \"+directed+\"sorted.bam\\n\")\n",
      "    script.write(\"bedtools genomecov -ibam \"+directed+\"sorted.bam -d > \"+directed+\"genomecoverage.txt\\n\\n\")\n",
      "\n",
      "script.close()\n",
      "!open KK_recruitment.slurm -a textedit"
     ],
     "language": "python",
     "metadata": {},
     "outputs": [],
     "prompt_number": 11
    },
    {
     "cell_type": "code",
     "collapsed": false,
     "input": [
      "!scp ./KKAdjustedGenomes/* jbrown@eofe4.mit.edu:/nobackup1/jbrown/nahant_phage_reads/group5/"
     ],
     "language": "python",
     "metadata": {},
     "outputs": [
      {
       "output_type": "stream",
       "stream": "stdout",
       "text": [
        "\r",
        "1.025.O.KKadjust.fasta                          0%    0     0.0KB/s   --:-- ETA\r",
        "1.025.O.KKadjust.fasta                        100%   74KB  74.1KB/s   00:00    \r\n"
       ]
      },
      {
       "output_type": "stream",
       "stream": "stdout",
       "text": [
        "\r",
        "1.026.O.KKadjust.fasta                          0%    0     0.0KB/s   --:-- ETA\r",
        "1.026.O.KKadjust.fasta                        100%   74KB  74.2KB/s   00:00    \r\n"
       ]
      },
      {
       "output_type": "stream",
       "stream": "stdout",
       "text": [
        "\r",
        "1.097.O.KKadjust.fasta                          0%    0     0.0KB/s   --:-- ETA\r",
        "1.097.O.KKadjust.fasta                        100%   75KB  75.2KB/s   00:00    \r\n"
       ]
      },
      {
       "output_type": "stream",
       "stream": "stdout",
       "text": [
        "\r",
        "1.150.O.KKadjust.fasta                          0%    0     0.0KB/s   --:-- ETA\r",
        "1.150.O.KKadjust.fasta                        100%   74KB  74.1KB/s   00:00    \r\n"
       ]
      },
      {
       "output_type": "stream",
       "stream": "stdout",
       "text": [
        "\r",
        "1.152.O.KKadjust.fasta                          0%    0     0.0KB/s   --:-- ETA\r",
        "1.152.O.KKadjust.fasta                        100%   74KB  74.1KB/s   00:00    \r\n"
       ]
      },
      {
       "output_type": "stream",
       "stream": "stdout",
       "text": [
        "\r",
        "1.169.O.KKadjust.fasta                          0%    0     0.0KB/s   --:-- ETA\r",
        "1.169.O.KKadjust.fasta                        100%   71KB  70.7KB/s   00:00    \r\n"
       ]
      },
      {
       "output_type": "stream",
       "stream": "stdout",
       "text": [
        "\r",
        "1.188.A.KKadjust.fasta                          0%    0     0.0KB/s   --:-- ETA\r",
        "1.188.A.KKadjust.fasta                        100%   71KB  70.7KB/s   00:00    \r\n"
       ]
      },
      {
       "output_type": "stream",
       "stream": "stdout",
       "text": [
        "\r",
        "1.188.B.KKadjust.fasta                          0%    0     0.0KB/s   --:-- ETA\r",
        "1.188.B.KKadjust.fasta                        100%   71KB  70.7KB/s   00:00    \r\n"
       ]
      },
      {
       "output_type": "stream",
       "stream": "stdout",
       "text": [
        "\r",
        "1.188.C.KKadjust.fasta                          0%    0     0.0KB/s   --:-- ETA\r",
        "1.188.C.KKadjust.fasta                        100%   71KB  70.7KB/s   00:00    \r\n"
       ]
      },
      {
       "output_type": "stream",
       "stream": "stdout",
       "text": [
        "\r",
        "1.224.A.KKadjust.fasta                          0%    0     0.0KB/s   --:-- ETA\r",
        "1.224.A.KKadjust.fasta                        100%   70KB  70.3KB/s   00:00    \r\n"
       ]
      },
      {
       "output_type": "stream",
       "stream": "stdout",
       "text": [
        "\r",
        "1.238.A.KKadjust.fasta                          0%    0     0.0KB/s   --:-- ETA\r",
        "1.238.A.KKadjust.fasta                        100%   69KB  68.9KB/s   00:00    \r\n"
       ]
      },
      {
       "output_type": "stream",
       "stream": "stdout",
       "text": [
        "\r",
        "1.238.B.KKadjust.fasta                          0%    0     0.0KB/s   --:-- ETA\r",
        "1.238.B.KKadjust.fasta                        100%   69KB  68.9KB/s   00:00    \r\n"
       ]
      },
      {
       "output_type": "stream",
       "stream": "stdout",
       "text": [
        "\r",
        "1.245.O.KKadjust.fasta                          0%    0     0.0KB/s   --:-- ETA\r",
        "1.245.O.KKadjust.fasta                        100%   70KB  70.1KB/s   00:00    \r\n"
       ]
      },
      {
       "output_type": "stream",
       "stream": "stdout",
       "text": [
        "\r",
        "1.261.O.KKadjust.fasta                          0%    0     0.0KB/s   --:-- ETA\r",
        "1.261.O.KKadjust.fasta                        100%   70KB  70.4KB/s   00:00    \r\n"
       ]
      },
      {
       "output_type": "stream",
       "stream": "stdout",
       "text": [
        "\r",
        "2.130.O.KKadjust.fasta                          0%    0     0.0KB/s   --:-- ETA\r",
        "2.130.O.KKadjust.fasta                        100%   74KB  74.1KB/s   00:00    \r\n"
       ]
      }
     ],
     "prompt_number": 13
    },
    {
     "cell_type": "code",
     "collapsed": false,
     "input": [
      "!scp KK_recruitment.slurm jbrown@eofe4.mit.edu:/nobackup1/jbrown/nahant_phage_reads/group5/"
     ],
     "language": "python",
     "metadata": {},
     "outputs": [
      {
       "output_type": "stream",
       "stream": "stdout",
       "text": [
        "\r",
        "KK_recruitment.slurm                            0%    0     0.0KB/s   --:-- ETA\r",
        "KK_recruitment.slurm                          100% 7386     7.2KB/s   00:00    \r\n"
       ]
      }
     ],
     "prompt_number": 14
    },
    {
     "cell_type": "code",
     "collapsed": false,
     "input": [
      "!scp jbrown@eofe4.mit.edu:/nobackup1/jbrown/nahant_phage_reads/group5/*final.fasta ./KKAdjustedGenomes/"
     ],
     "language": "python",
     "metadata": {},
     "outputs": [
      {
       "output_type": "stream",
       "stream": "stdout",
       "text": [
        "\r",
        "1.025.O.KKadj.final.fasta                       0%    0     0.0KB/s   --:-- ETA"
       ]
      },
      {
       "output_type": "stream",
       "stream": "stdout",
       "text": [
        "\r",
        "1.025.O.KKadj.final.fasta                     100%   75KB  75.3KB/s   00:00    \r\n",
        "\r",
        "1.026.O.KKadj.final.fasta                       0%    0     0.0KB/s   --:-- ETA"
       ]
      },
      {
       "output_type": "stream",
       "stream": "stdout",
       "text": [
        "\r",
        "1.026.O.KKadj.final.fasta                     100%   75KB  75.4KB/s   00:00    \r\n",
        "\r",
        "1.097.O.KKadj.final.fasta                       0%    0     0.0KB/s   --:-- ETA"
       ]
      },
      {
       "output_type": "stream",
       "stream": "stdout",
       "text": [
        "\r",
        "1.097.O.KKadj.final.fasta                     100%   76KB  76.4KB/s   00:00    \r\n",
        "\r",
        "1.150.O.KKadj.final.fasta                       0%    0     0.0KB/s   --:-- ETA"
       ]
      },
      {
       "output_type": "stream",
       "stream": "stdout",
       "text": [
        "\r",
        "1.150.O.KKadj.final.fasta                     100%   75KB  75.3KB/s   00:00    \r\n"
       ]
      },
      {
       "output_type": "stream",
       "stream": "stdout",
       "text": [
        "\r",
        "1.152.O.KKadj.final.fasta                       0%    0     0.0KB/s   --:-- ETA"
       ]
      },
      {
       "output_type": "stream",
       "stream": "stdout",
       "text": [
        "\r",
        "1.152.O.KKadj.final.fasta                     100%   75KB  75.3KB/s   00:00    \r\n",
        "\r",
        "1.169.O.KKadj.final.fasta                       0%    0     0.0KB/s   --:-- ETA"
       ]
      },
      {
       "output_type": "stream",
       "stream": "stdout",
       "text": [
        "\r",
        "1.169.O.KKadj.final.fasta                     100%   72KB  71.8KB/s   00:00    \r\n"
       ]
      },
      {
       "output_type": "stream",
       "stream": "stdout",
       "text": [
        "\r",
        "1.188.A.KKadj.final.fasta                       0%    0     0.0KB/s   --:-- ETA"
       ]
      },
      {
       "output_type": "stream",
       "stream": "stdout",
       "text": [
        "\r",
        "1.188.A.KKadj.final.fasta                     100%   72KB  71.9KB/s   00:00    \r\n",
        "\r",
        "1.188.B.KKadj.final.fasta                       0%    0     0.0KB/s   --:-- ETA"
       ]
      },
      {
       "output_type": "stream",
       "stream": "stdout",
       "text": [
        "\r",
        "1.188.B.KKadj.final.fasta                     100%   72KB  71.9KB/s   00:00    \r\n"
       ]
      },
      {
       "output_type": "stream",
       "stream": "stdout",
       "text": [
        "\r",
        "1.188.C.KKadj.final.fasta                       0%    0     0.0KB/s   --:-- ETA"
       ]
      },
      {
       "output_type": "stream",
       "stream": "stdout",
       "text": [
        "\r",
        "1.188.C.KKadj.final.fasta                     100%   72KB  71.9KB/s   00:00    \r\n"
       ]
      },
      {
       "output_type": "stream",
       "stream": "stdout",
       "text": [
        "\r",
        "1.224.A.KKadj.final.fasta                       0%    0     0.0KB/s   --:-- ETA"
       ]
      },
      {
       "output_type": "stream",
       "stream": "stdout",
       "text": [
        "\r",
        "1.224.A.KKadj.final.fasta                     100%   71KB  71.5KB/s   00:01    \r\n",
        "\r",
        "1.238.A.KKadj.final.fasta                       0%    0     0.0KB/s   --:-- ETA"
       ]
      },
      {
       "output_type": "stream",
       "stream": "stdout",
       "text": [
        "\r",
        "1.238.A.KKadj.final.fasta                     100%   70KB  70.1KB/s   00:00    \r\n",
        "\r",
        "1.238.B.KKadj.final.fasta                       0%    0     0.0KB/s   --:-- ETA"
       ]
      },
      {
       "output_type": "stream",
       "stream": "stdout",
       "text": [
        "\r",
        "1.238.B.KKadj.final.fasta                     100%   70KB  70.0KB/s   00:00    \r\n"
       ]
      },
      {
       "output_type": "stream",
       "stream": "stdout",
       "text": [
        "\r",
        "1.245.O.KKadj.final.fasta                       0%    0     0.0KB/s   --:-- ETA"
       ]
      },
      {
       "output_type": "stream",
       "stream": "stdout",
       "text": [
        "\r",
        "1.245.O.KKadj.final.fasta                     100%   71KB  71.3KB/s   00:00    \r\n"
       ]
      },
      {
       "output_type": "stream",
       "stream": "stdout",
       "text": [
        "\r",
        "1.261.O.KKadj.final.fasta                       0%    0     0.0KB/s   --:-- ETA"
       ]
      },
      {
       "output_type": "stream",
       "stream": "stdout",
       "text": [
        "\r",
        "1.261.O.KKadj.final.fasta                     100%   72KB  71.6KB/s   00:01    \r\n",
        "\r",
        "2.130.O.KKadj.final.fasta                       0%    0     0.0KB/s   --:-- ETA"
       ]
      },
      {
       "output_type": "stream",
       "stream": "stdout",
       "text": [
        "\r",
        "2.130.O.KKadj.final.fasta                     100%   75KB  75.3KB/s   00:00    \r\n"
       ]
      }
     ],
     "prompt_number": 16
    },
    {
     "cell_type": "code",
     "collapsed": false,
     "input": [
      "!scp jbrown@eofe4.mit.edu:/nobackup1/jbrown/nahant_phage_reads/group5/*KKadj.genomecoverage* ./KKAdjustedGenomes/"
     ],
     "language": "python",
     "metadata": {},
     "outputs": [
      {
       "output_type": "stream",
       "stream": "stdout",
       "text": [
        "\r",
        "1.025.O.KKadj.genomecoverage.txt                0%    0     0.0KB/s   --:-- ETA"
       ]
      },
      {
       "output_type": "stream",
       "stream": "stdout",
       "text": [
        "\r",
        "1.025.O.KKadj.genomecoverage.txt               33% 1200KB   1.2MB/s   00:01 ETA"
       ]
      },
      {
       "output_type": "stream",
       "stream": "stdout",
       "text": [
        "\r",
        "1.025.O.KKadj.genomecoverage.txt               61% 2192KB   1.2MB/s   00:01 ETA"
       ]
      },
      {
       "output_type": "stream",
       "stream": "stdout",
       "text": [
        "\r",
        "1.025.O.KKadj.genomecoverage.txt               78% 2768KB   1.1MB/s   00:00 ETA"
       ]
      },
      {
       "output_type": "stream",
       "stream": "stdout",
       "text": [
        "\r",
        "1.025.O.KKadj.genomecoverage.txt               95% 3376KB   1.0MB/s   00:00 ETA"
       ]
      },
      {
       "output_type": "stream",
       "stream": "stdout",
       "text": [
        "\r",
        "1.025.O.KKadj.genomecoverage.txt              100% 3543KB 885.8KB/s   00:04    \r\n",
        "\r",
        "1.026.O.KKadj.genomecoverage.txt                0%    0     0.0KB/s   --:-- ETA"
       ]
      },
      {
       "output_type": "stream",
       "stream": "stdout",
       "text": [
        "\r",
        "1.026.O.KKadj.genomecoverage.txt               10%  576KB 576.0KB/s   00:08 ETA"
       ]
      },
      {
       "output_type": "stream",
       "stream": "stdout",
       "text": [
        "\r",
        "1.026.O.KKadj.genomecoverage.txt               24% 1312KB 592.0KB/s   00:06 ETA"
       ]
      },
      {
       "output_type": "stream",
       "stream": "stdout",
       "text": [
        "\r",
        "1.026.O.KKadj.genomecoverage.txt               37% 1984KB 600.0KB/s   00:05 ETA"
       ]
      },
      {
       "output_type": "stream",
       "stream": "stdout",
       "text": [
        "\r",
        "1.026.O.KKadj.genomecoverage.txt               48% 2592KB 600.8KB/s   00:04 ETA"
       ]
      },
      {
       "output_type": "stream",
       "stream": "stdout",
       "text": [
        "\r",
        "1.026.O.KKadj.genomecoverage.txt               58% 3104KB 591.9KB/s   00:03 ETA"
       ]
      },
      {
       "output_type": "stream",
       "stream": "stdout",
       "text": [
        "\r",
        "1.026.O.KKadj.genomecoverage.txt               70% 3744KB 596.7KB/s   00:02 ETA"
       ]
      },
      {
       "output_type": "stream",
       "stream": "stdout",
       "text": [
        "\r",
        "1.026.O.KKadj.genomecoverage.txt               77% 4128KB 575.5KB/s   00:02 ETA"
       ]
      },
      {
       "output_type": "stream",
       "stream": "stdout",
       "text": [
        "\r",
        "1.026.O.KKadj.genomecoverage.txt               88% 4736KB 578.7KB/s   00:01 ETA"
       ]
      },
      {
       "output_type": "stream",
       "stream": "stdout",
       "text": [
        "\r",
        "1.026.O.KKadj.genomecoverage.txt               99% 5280KB 575.2KB/s   00:00 ETA\r",
        "1.026.O.KKadj.genomecoverage.txt              100% 5325KB 591.6KB/s   00:09    \r\n"
       ]
      },
      {
       "output_type": "stream",
       "stream": "stdout",
       "text": [
        "\r",
        "1.097.O.KKadj.genomecoverage.txt                0%    0     0.0KB/s   --:-- ETA"
       ]
      },
      {
       "output_type": "stream",
       "stream": "stdout",
       "text": [
        "\r",
        "1.097.O.KKadj.genomecoverage.txt                7%  384KB 384.0KB/s   00:13 ETA"
       ]
      },
      {
       "output_type": "stream",
       "stream": "stdout",
       "text": [
        "\r",
        "1.097.O.KKadj.genomecoverage.txt               18% 1024KB 409.6KB/s   00:10 ETA"
       ]
      },
      {
       "output_type": "stream",
       "stream": "stdout",
       "text": [
        "\r",
        "1.097.O.KKadj.genomecoverage.txt               33% 1824KB 448.6KB/s   00:07 ETA"
       ]
      },
      {
       "output_type": "stream",
       "stream": "stdout",
       "text": [
        "\r",
        "1.097.O.KKadj.genomecoverage.txt               47% 2560KB 477.4KB/s   00:05 ETA"
       ]
      },
      {
       "output_type": "stream",
       "stream": "stdout",
       "text": [
        "\r",
        "1.097.O.KKadj.genomecoverage.txt               58% 3168KB 490.4KB/s   00:04 ETA"
       ]
      },
      {
       "output_type": "stream",
       "stream": "stdout",
       "text": [
        "\r",
        "1.097.O.KKadj.genomecoverage.txt               71% 3872KB 511.8KB/s   00:02 ETA"
       ]
      },
      {
       "output_type": "stream",
       "stream": "stdout",
       "text": [
        "\r",
        "1.097.O.KKadj.genomecoverage.txt               87% 4704KB 543.8KB/s   00:01 ETA"
       ]
      },
      {
       "output_type": "stream",
       "stream": "stdout",
       "text": [
        "\r",
        "1.097.O.KKadj.genomecoverage.txt              100% 5397KB 674.7KB/s   00:08    \r\n"
       ]
      },
      {
       "output_type": "stream",
       "stream": "stdout",
       "text": [
        "\r",
        "1.150.O.KKadj.genomecoverage.txt                0%    0     0.0KB/s   --:-- ETA"
       ]
      },
      {
       "output_type": "stream",
       "stream": "stdout",
       "text": [
        "\r",
        "1.150.O.KKadj.genomecoverage.txt               16%  896KB 896.0KB/s   00:04 ETA"
       ]
      },
      {
       "output_type": "stream",
       "stream": "stdout",
       "text": [
        "\r",
        "1.150.O.KKadj.genomecoverage.txt               34% 1824KB 899.2KB/s   00:03 ETA"
       ]
      },
      {
       "output_type": "stream",
       "stream": "stdout",
       "text": [
        "\r",
        "1.150.O.KKadj.genomecoverage.txt               53% 2848KB 911.7KB/s   00:02 ETA"
       ]
      },
      {
       "output_type": "stream",
       "stream": "stdout",
       "text": [
        "\r",
        "1.150.O.KKadj.genomecoverage.txt               69% 3712KB 906.9KB/s   00:01 ETA"
       ]
      },
      {
       "output_type": "stream",
       "stream": "stdout",
       "text": [
        "\r",
        "1.150.O.KKadj.genomecoverage.txt               85% 4544KB 899.4KB/s   00:00 ETA"
       ]
      },
      {
       "output_type": "stream",
       "stream": "stdout",
       "text": [
        "\r",
        "1.150.O.KKadj.genomecoverage.txt              100% 5316KB 886.0KB/s   00:06    \r\n"
       ]
      },
      {
       "output_type": "stream",
       "stream": "stdout",
       "text": [
        "\r",
        "1.152.O.KKadj.genomecoverage.txt                0%    0     0.0KB/s   --:-- ETA"
       ]
      },
      {
       "output_type": "stream",
       "stream": "stdout",
       "text": [
        "\r",
        "1.152.O.KKadj.genomecoverage.txt               19%  992KB 992.0KB/s   00:04 ETA"
       ]
      },
      {
       "output_type": "stream",
       "stream": "stdout",
       "text": [
        "\r",
        "1.152.O.KKadj.genomecoverage.txt               40% 2080KB   1.0MB/s   00:03 ETA"
       ]
      },
      {
       "output_type": "stream",
       "stream": "stdout",
       "text": [
        "\r",
        "1.152.O.KKadj.genomecoverage.txt               60% 3104KB   1.0MB/s   00:02 ETA"
       ]
      },
      {
       "output_type": "stream",
       "stream": "stdout",
       "text": [
        "\r",
        "1.152.O.KKadj.genomecoverage.txt               77% 4032KB 996.3KB/s   00:01 ETA"
       ]
      },
      {
       "output_type": "stream",
       "stream": "stdout",
       "text": [
        "\r",
        "1.152.O.KKadj.genomecoverage.txt               92% 4768KB 970.2KB/s   00:00 ETA"
       ]
      },
      {
       "output_type": "stream",
       "stream": "stdout",
       "text": [
        "\r",
        "1.152.O.KKadj.genomecoverage.txt              100% 5171KB   1.0MB/s   00:05    \r\n"
       ]
      },
      {
       "output_type": "stream",
       "stream": "stdout",
       "text": [
        "\r",
        "1.169.O.KKadj.genomecoverage.txt                0%    0     0.0KB/s   --:-- ETA"
       ]
      },
      {
       "output_type": "stream",
       "stream": "stdout",
       "text": [
        "\r",
        "1.169.O.KKadj.genomecoverage.txt               22%  800KB 800.0KB/s   00:03 ETA"
       ]
      },
      {
       "output_type": "stream",
       "stream": "stdout",
       "text": [
        "\r",
        "1.169.O.KKadj.genomecoverage.txt               53% 1888KB 828.8KB/s   00:01 ETA"
       ]
      },
      {
       "output_type": "stream",
       "stream": "stdout",
       "text": [
        "\r",
        "1.169.O.KKadj.genomecoverage.txt               83% 2944KB 851.5KB/s   00:00 ETA"
       ]
      },
      {
       "output_type": "stream",
       "stream": "stdout",
       "text": [
        "\r",
        "1.169.O.KKadj.genomecoverage.txt               98% 3456KB 817.6KB/s   00:00 ETA"
       ]
      },
      {
       "output_type": "stream",
       "stream": "stdout",
       "text": [
        "\r",
        "1.169.O.KKadj.genomecoverage.txt              100% 3520KB 879.9KB/s   00:04    \r\n"
       ]
      },
      {
       "output_type": "stream",
       "stream": "stdout",
       "text": [
        "\r",
        "1.188.A.KKadj.genomecoverage.txt                0%    0     0.0KB/s   --:-- ETA"
       ]
      },
      {
       "output_type": "stream",
       "stream": "stdout",
       "text": [
        "\r",
        "1.188.A.KKadj.genomecoverage.txt               10%  544KB 544.0KB/s   00:08 ETA"
       ]
      },
      {
       "output_type": "stream",
       "stream": "stdout",
       "text": [
        "\r",
        "1.188.A.KKadj.genomecoverage.txt               26% 1312KB 566.4KB/s   00:06 ETA"
       ]
      },
      {
       "output_type": "stream",
       "stream": "stdout",
       "text": [
        "\r",
        "1.188.A.KKadj.genomecoverage.txt               41% 2080KB 586.6KB/s   00:05 ETA"
       ]
      },
      {
       "output_type": "stream",
       "stream": "stdout",
       "text": [
        "\r",
        "1.188.A.KKadj.genomecoverage.txt               48% 2464KB 566.3KB/s   00:04 ETA"
       ]
      },
      {
       "output_type": "stream",
       "stream": "stdout",
       "text": [
        "\r",
        "1.188.A.KKadj.genomecoverage.txt               57% 2880KB 551.3KB/s   00:03 ETA"
       ]
      },
      {
       "output_type": "stream",
       "stream": "stdout",
       "text": [
        "\r",
        "1.188.A.KKadj.genomecoverage.txt               71% 3584KB 566.5KB/s   00:02 ETA"
       ]
      },
      {
       "output_type": "stream",
       "stream": "stdout",
       "text": [
        "\r",
        "1.188.A.KKadj.genomecoverage.txt               83% 4224KB 573.9KB/s   00:01 ETA"
       ]
      },
      {
       "output_type": "stream",
       "stream": "stdout",
       "text": [
        "\r",
        "1.188.A.KKadj.genomecoverage.txt               92% 4640KB 558.1KB/s   00:00 ETA"
       ]
      },
      {
       "output_type": "stream",
       "stream": "stdout",
       "text": [
        "\r",
        "1.188.A.KKadj.genomecoverage.txt              100% 5029KB 558.8KB/s   00:09    \r\n",
        "\r",
        "1.188.B.KKadj.genomecoverage.txt                0%    0     0.0KB/s   --:-- ETA"
       ]
      },
      {
       "output_type": "stream",
       "stream": "stdout",
       "text": [
        "\r",
        "1.188.B.KKadj.genomecoverage.txt                6%  352KB 352.0KB/s   00:13 ETA"
       ]
      },
      {
       "output_type": "stream",
       "stream": "stdout",
       "text": [
        "\r",
        "1.188.B.KKadj.genomecoverage.txt               17%  896KB 371.2KB/s   00:11 ETA"
       ]
      },
      {
       "output_type": "stream",
       "stream": "stdout",
       "text": [
        "\r",
        "1.188.B.KKadj.genomecoverage.txt               30% 1568KB 401.3KB/s   00:08 ETA"
       ]
      },
      {
       "output_type": "stream",
       "stream": "stdout",
       "text": [
        "\r",
        "1.188.B.KKadj.genomecoverage.txt               46% 2368KB 441.2KB/s   00:06 ETA"
       ]
      },
      {
       "output_type": "stream",
       "stream": "stdout",
       "text": [
        "\r",
        "1.188.B.KKadj.genomecoverage.txt               62% 3168KB 477.0KB/s   00:03 ETA"
       ]
      },
      {
       "output_type": "stream",
       "stream": "stdout",
       "text": [
        "\r",
        "1.188.B.KKadj.genomecoverage.txt               78% 3968KB 509.3KB/s   00:02 ETA"
       ]
      },
      {
       "output_type": "stream",
       "stream": "stdout",
       "text": [
        "\r",
        "1.188.B.KKadj.genomecoverage.txt               93% 4768KB 538.4KB/s   00:00 ETA"
       ]
      },
      {
       "output_type": "stream",
       "stream": "stdout",
       "text": [
        "\r",
        "1.188.B.KKadj.genomecoverage.txt              100% 5073KB 634.1KB/s   00:08    \r\n"
       ]
      },
      {
       "output_type": "stream",
       "stream": "stdout",
       "text": [
        "\r",
        "1.188.C.KKadj.genomecoverage.txt                0%    0     0.0KB/s   --:-- ETA"
       ]
      },
      {
       "output_type": "stream",
       "stream": "stdout",
       "text": [
        "\r",
        "1.188.C.KKadj.genomecoverage.txt               12%  640KB 640.0KB/s   00:06 ETA"
       ]
      },
      {
       "output_type": "stream",
       "stream": "stdout",
       "text": [
        "\r",
        "1.188.C.KKadj.genomecoverage.txt               29% 1472KB 659.2KB/s   00:05 ETA"
       ]
      },
      {
       "output_type": "stream",
       "stream": "stdout",
       "text": [
        "\r",
        "1.188.C.KKadj.genomecoverage.txt               45% 2240KB 670.1KB/s   00:04 ETA"
       ]
      },
      {
       "output_type": "stream",
       "stream": "stdout",
       "text": [
        "\r",
        "1.188.C.KKadj.genomecoverage.txt               58% 2880KB 667.1KB/s   00:03 ETA"
       ]
      },
      {
       "output_type": "stream",
       "stream": "stdout",
       "text": [
        "\r",
        "1.188.C.KKadj.genomecoverage.txt               90% 4448KB 757.2KB/s   00:00 ETA"
       ]
      },
      {
       "output_type": "stream",
       "stream": "stdout",
       "text": [
        "\r",
        "1.188.C.KKadj.genomecoverage.txt              100% 4932KB 986.4KB/s   00:05    \r\n"
       ]
      },
      {
       "output_type": "stream",
       "stream": "stdout",
       "text": [
        "\r",
        "1.224.A.KKadj.genomecoverage.txt                0%    0     0.0KB/s   --:-- ETA"
       ]
      },
      {
       "output_type": "stream",
       "stream": "stdout",
       "text": [
        "\r",
        "1.224.A.KKadj.genomecoverage.txt               33% 1696KB   1.7MB/s   00:01 ETA"
       ]
      },
      {
       "output_type": "stream",
       "stream": "stdout",
       "text": [
        "\r",
        "1.224.A.KKadj.genomecoverage.txt               68% 3424KB   1.7MB/s   00:00 ETA"
       ]
      },
      {
       "output_type": "stream",
       "stream": "stdout",
       "text": [
        "\r",
        "1.224.A.KKadj.genomecoverage.txt              100% 4994KB   1.6MB/s   00:03    \r\n"
       ]
      },
      {
       "output_type": "stream",
       "stream": "stdout",
       "text": [
        "\r",
        "1.238.A.KKadj.genomecoverage.txt                0%    0     0.0KB/s   --:-- ETA"
       ]
      },
      {
       "output_type": "stream",
       "stream": "stdout",
       "text": [
        "\r",
        "1.238.A.KKadj.genomecoverage.txt               36% 1744KB   1.7MB/s   00:01 ETA"
       ]
      },
      {
       "output_type": "stream",
       "stream": "stdout",
       "text": [
        "\r",
        "1.238.A.KKadj.genomecoverage.txt               76% 3664KB   1.7MB/s   00:00 ETA"
       ]
      },
      {
       "output_type": "stream",
       "stream": "stdout",
       "text": [
        "\r",
        "1.238.A.KKadj.genomecoverage.txt              100% 4808KB   2.4MB/s   00:02    \r\n",
        "\r",
        "1.238.B.KKadj.genomecoverage.txt                0%    0     0.0KB/s   --:-- ETA"
       ]
      },
      {
       "output_type": "stream",
       "stream": "stdout",
       "text": [
        "\r",
        "1.238.B.KKadj.genomecoverage.txt               25% 1232KB   1.2MB/s   00:02 ETA"
       ]
      },
      {
       "output_type": "stream",
       "stream": "stdout",
       "text": [
        "\r",
        "1.238.B.KKadj.genomecoverage.txt               59% 2832KB   1.2MB/s   00:01 ETA"
       ]
      },
      {
       "output_type": "stream",
       "stream": "stdout",
       "text": [
        "\r",
        "1.238.B.KKadj.genomecoverage.txt               98% 4688KB   1.3MB/s   00:00 ETA"
       ]
      },
      {
       "output_type": "stream",
       "stream": "stdout",
       "text": [
        "\r",
        "1.238.B.KKadj.genomecoverage.txt              100% 4747KB   1.6MB/s   00:03    \r\n",
        "\r",
        "1.245.O.KKadj.genomecoverage.txt                0%    0     0.0KB/s   --:-- ETA"
       ]
      },
      {
       "output_type": "stream",
       "stream": "stdout",
       "text": [
        "\r",
        "1.245.O.KKadj.genomecoverage.txt               36% 1808KB   1.8MB/s   00:01 ETA"
       ]
      },
      {
       "output_type": "stream",
       "stream": "stdout",
       "text": [
        "\r",
        "1.245.O.KKadj.genomecoverage.txt               78% 3824KB   1.8MB/s   00:00 ETA"
       ]
      },
      {
       "output_type": "stream",
       "stream": "stdout",
       "text": [
        "\r",
        "1.245.O.KKadj.genomecoverage.txt              100% 4891KB   1.6MB/s   00:03    \r\n"
       ]
      },
      {
       "output_type": "stream",
       "stream": "stdout",
       "text": [
        "\r",
        "1.261.O.KKadj.genomecoverage.txt                0%    0     0.0KB/s   --:-- ETA"
       ]
      },
      {
       "output_type": "stream",
       "stream": "stdout",
       "text": [
        "\r",
        "1.261.O.KKadj.genomecoverage.txt               42% 2160KB   2.1MB/s   00:01 ETA"
       ]
      },
      {
       "output_type": "stream",
       "stream": "stdout",
       "text": [
        "\r",
        "1.261.O.KKadj.genomecoverage.txt               83% 4240KB   2.1MB/s   00:00 ETA"
       ]
      },
      {
       "output_type": "stream",
       "stream": "stdout",
       "text": [
        "\r",
        "1.261.O.KKadj.genomecoverage.txt              100% 5051KB   2.5MB/s   00:02    \r\n",
        "\r",
        "2.130.O.KKadj.genomecoverage.txt                0%    0     0.0KB/s   --:-- ETA"
       ]
      },
      {
       "output_type": "stream",
       "stream": "stdout",
       "text": [
        "\r",
        "2.130.O.KKadj.genomecoverage.txt               22% 1200KB   1.2MB/s   00:03 ETA"
       ]
      },
      {
       "output_type": "stream",
       "stream": "stdout",
       "text": [
        "\r",
        "2.130.O.KKadj.genomecoverage.txt               49% 2640KB   1.2MB/s   00:02 ETA"
       ]
      },
      {
       "output_type": "stream",
       "stream": "stdout",
       "text": [
        "\r",
        "2.130.O.KKadj.genomecoverage.txt               68% 3632KB   1.2MB/s   00:01 ETA"
       ]
      },
      {
       "output_type": "stream",
       "stream": "stdout",
       "text": [
        "\r",
        "2.130.O.KKadj.genomecoverage.txt               87% 4656KB   1.2MB/s   00:00 ETA"
       ]
      },
      {
       "output_type": "stream",
       "stream": "stdout",
       "text": [
        "\r",
        "2.130.O.KKadj.genomecoverage.txt              100% 5319KB   1.0MB/s   00:05    \r\n"
       ]
      }
     ],
     "prompt_number": 17
    },
    {
     "cell_type": "markdown",
     "metadata": {},
     "source": [
      "###Final set of recruitment plots"
     ]
    },
    {
     "cell_type": "code",
     "collapsed": false,
     "input": [
      "%load_ext rmagic"
     ],
     "language": "python",
     "metadata": {},
     "outputs": [],
     "prompt_number": 18
    },
    {
     "cell_type": "code",
     "collapsed": false,
     "input": [
      "%%R -i group5\n",
      "\n",
      "for (item in group5){\n",
      "    filename<-paste(\"./KKAdjustedGenomes/\",item,\"KKadj.genomecoverage.txt\",sep=\"\")\n",
      "    coverage<-read.table(filename, sep=\"\\t\")\n",
      "    pdf(paste(\"./KKAdjustedGenomes/\",item,\"KKadj.cov.pdf\", sep=\"\"))\n",
      "    with(coverage, plot(V2, V3, type=\"n\",xlab=\"position\",ylab=\"coverage\", main=item))\n",
      "    with(coverage, lines(V2,V3))\n",
      "    dev.off()\n",
      "}"
     ],
     "language": "python",
     "metadata": {},
     "outputs": [],
     "prompt_number": 19
    },
    {
     "cell_type": "markdown",
     "metadata": {},
     "source": [
      "###Creating fasta file with useful contig name:"
     ]
    },
    {
     "cell_type": "code",
     "collapsed": false,
     "input": [
      "!scp jbrown@eofe4.mit.edu:/nobackup1/jbrown/nahant_phage_reads/group5/fastq.list.txt ./"
     ],
     "language": "python",
     "metadata": {},
     "outputs": [
      {
       "output_type": "stream",
       "stream": "stdout",
       "text": [
        "\r",
        "fastq.list.txt                                  0%    0     0.0KB/s   --:-- ETA"
       ]
      },
      {
       "output_type": "stream",
       "stream": "stdout",
       "text": [
        "\r",
        "fastq.list.txt                                100%  437     0.4KB/s   00:00    \r\n"
       ]
      }
     ],
     "prompt_number": 24
    },
    {
     "cell_type": "code",
     "collapsed": false,
     "input": [
      "from pyfaidx import Fasta\n",
      "\n",
      "for element in open(\"fastq.list.txt\"):\n",
      "    a=element.rstrip(\"\\n\")\n",
      "    v=a.split(\"f\")\n",
      "    name=str(v[0])\n",
      "    b=v[0].split(\"_\")\n",
      "    virfile=\"./KKAdjustedGenomes/\"+b[0]+\"KKadj.final.fasta\"\n",
      "    f=Fasta(virfile)\n",
      "    sequence=str(f[0])\n",
      "    output=open(name+\"final.fasta\",\"w\")\n",
      "    output.write(\">Vibriophage_\"+name+\"\\n\"+sequence)\n",
      "    output.close()"
     ],
     "language": "python",
     "metadata": {},
     "outputs": [],
     "prompt_number": 37
    },
    {
     "cell_type": "code",
     "collapsed": false,
     "input": [
      "!mkdir final_genomes"
     ],
     "language": "python",
     "metadata": {},
     "outputs": [],
     "prompt_number": 38
    },
    {
     "cell_type": "code",
     "collapsed": false,
     "input": [
      "!mv *final.fasta ./final_genomes/"
     ],
     "language": "python",
     "metadata": {},
     "outputs": [],
     "prompt_number": 39
    },
    {
     "cell_type": "markdown",
     "metadata": {},
     "source": [
      "###Now Annotation using RASTtk:"
     ]
    },
    {
     "cell_type": "code",
     "collapsed": false,
     "input": [
      "import os\n",
      "os.chdir(\"./final_genomes\")"
     ],
     "language": "python",
     "metadata": {},
     "outputs": [],
     "prompt_number": 54
    },
    {
     "cell_type": "code",
     "collapsed": false,
     "input": [
      "import glob\n",
      "\n",
      "f1=glob.glob(\"*.fasta\")\n",
      "out=open(\"to_gto.sh\",\"w\")\n",
      "out.write(\"mkdir ToSubmit\\n\\n\")\n",
      "for line in f1:\n",
      "    gto=line.replace(\"final.fasta\",\"\")\n",
      "    name=\"Vibriophage_\"+gto\n",
      "    out.write('rast-create-genome --scientific-name \"Vibriophage '+name+'\" --genetic-code 11 --domain Virus --contigs '+line+' > ./ToSubmit/'+gto+'gto'+\"\\n\\nsleep 5\\n\\n\")\n",
      "out.close()\n",
      "!open to_gto.sh -a textedit"
     ],
     "language": "python",
     "metadata": {},
     "outputs": [],
     "prompt_number": 52
    },
    {
     "cell_type": "raw",
     "metadata": {},
     "source": [
      "source \"/Applications/RASTtk.app//user-env.sh\"\n",
      "kbase-login juliambrown\n",
      "bash to_gto.sh"
     ]
    },
    {
     "cell_type": "raw",
     "metadata": {},
     "source": [
      "rast-process-genome-batch --workflow vir_genomes.workflow2.json ./ToSubmit\n",
      "Submission ID: 030e282b-59c2-446c-b639-58a1d3e41a41\n",
      "rast-query-genome-batch 030e282b-59c2-446c-b639-58a1d3e41a41    "
     ]
    },
    {
     "cell_type": "markdown",
     "metadata": {},
     "source": [
      "####And now we wait..."
     ]
    },
    {
     "cell_type": "code",
     "collapsed": false,
     "input": [],
     "language": "python",
     "metadata": {},
     "outputs": []
    }
   ],
   "metadata": {}
  }
 ]
}