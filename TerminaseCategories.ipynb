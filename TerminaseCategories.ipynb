{
 "metadata": {
  "name": "",
  "signature": "sha256:b4b738ef44ac1b5d61967037e68e18a8f12b5ba2073b18d10e4a18b0aa1ee0ea"
 },
 "nbformat": 3,
 "nbformat_minor": 0,
 "worksheets": [
  {
   "cells": [
    {
     "cell_type": "code",
     "collapsed": false,
     "input": [
      "%load_ext rmagic\n",
      "%R library(dplyr);library(ggplot2)"
     ],
     "language": "python",
     "metadata": {},
     "outputs": [
      {
       "metadata": {},
       "output_type": "display_data",
       "text": [
        "\n",
        "Attaching package: \u2018dplyr\u2019\n",
        "\n",
        "The following object is masked from \u2018package:stats\u2019:\n",
        "\n",
        "    filter\n",
        "\n",
        "The following objects are masked from \u2018package:base\u2019:\n",
        "\n",
        "    intersect, setdiff, setequal, union\n",
        "\n"
       ]
      },
      {
       "metadata": {},
       "output_type": "pyout",
       "prompt_number": 2,
       "text": [
        "array(['ggplot2', 'dplyr', 'tools', 'stats', 'graphics', 'grDevices',\n",
        "       'utils', 'datasets', 'methods', 'base'], \n",
        "      dtype='|S9')"
       ]
      }
     ],
     "prompt_number": 2
    },
    {
     "cell_type": "code",
     "collapsed": false,
     "input": [
      "import os\n",
      "group=\"group15\"\n",
      "\n",
      "prelim_groups=open(\"phage_by_group.txt\")\n",
      "phage_grp={}\n",
      "for line in prelim_groups.readlines():\n",
      "    line=line.rstrip(\"\\n\")\n",
      "    vec=line.split(\"\\t\")\n",
      "    phage_grp[vec[0]]=vec[1]\n",
      "groups=list(phage_grp.values())\n",
      "unique=[]\n",
      "for value in groups:\n",
      "    if value not in unique:\n",
      "        unique.append(value)\n",
      "out=open(\"whats_left.txt\",\"w\")\n",
      "for value in phage_grp.keys():\n",
      "    if phage_grp.get(value)!='CNSv2.0:15' and phage_grp.get(value)!= 'CNSv2.0:5' and phage_grp.get(value)!= 'CNSv2.0:17' and phage_grp.get(value)!=\"CNSv2.0:4\":\n",
      "        out.write(value+\"\\n\")\n",
      "out.close()\n",
      "!open whats_left.txt -a textedit"
     ],
     "language": "python",
     "metadata": {},
     "outputs": [],
     "prompt_number": 21
    },
    {
     "cell_type": "code",
     "collapsed": false,
     "input": [
      "%%R\n",
      "ktblast<-read.table(\"/Users/jmb/Desktop/KathrynDocs/ourTerminases-vs-NCBI-knownPack-prelim-033115KK.txt\", sep=\"\\t\", header=TRUE, fill=TRUE)\n",
      "egroup<-group_by(ktblast, Accession..E.value.)\n",
      "e_hit_sum<-summarise(egroup, count=n())\n",
      "head(e_hit_sum)\n",
      "\n"
     ],
     "language": "python",
     "metadata": {},
     "outputs": [
      {
       "metadata": {},
       "output_type": "display_data",
       "text": [
        "Source: local data frame [6 x 2]\n",
        "\n",
        "               Accession..E.value. count\n",
        "1                                      1\n",
        "2   APSE-1-gi9633550refNC_000935.1    89\n",
        "3 Bcep22-gi158997720refNC_005262.2    15\n",
        "4    ES18-gi62362213refNC_006949.1    12\n",
        "5 Fels-1-gi169257155refNC_010391.1     7\n",
        "6 Gifsy1-gi169257208refNC_010392.1    17\n"
       ]
      }
     ],
     "prompt_number": 3
    },
    {
     "cell_type": "code",
     "collapsed": false,
     "input": [
      "%%R\n",
      "categories<-read.table(\"/Users/jmb/Desktop/KathrynDocs/corrected_genome_categorization.txt\", header=TRUE, sep=\"\\t\")\n",
      "e_hit_sum$type<-categories$Virus.Type[match(e_hit_sum$Accession..E.value.,categories$Hit)]\n",
      "ktblast$type<-e_hit_sum$type[match(ktblast$Accession..E.value.,e_hit_sum$Accession..E.value.)]\n",
      "\n",
      "\n",
      "\n",
      "ktblast.agg <- aggregate(Lowest.E.value ~ Query.1, ktblast, min)\n",
      "# then simply merge with the original\n",
      "ktblast.min <- merge(ktblast.agg, ktblast)\n",
      "print(nrow(ktblast.min))\n",
      "print(nrow(ktblast))\n",
      "#ktblast[,c(1,2,21)]%>%group_by(.,type)%>%summarise(.,count=n())\n",
      "\n",
      "write.table(ktblast.min[,c(1,2,21)],\"ktblast_terminase_IDs.txt\",sep=\",\", quote=FALSE, row.names=FALSE)"
     ],
     "language": "python",
     "metadata": {},
     "outputs": [
      {
       "metadata": {},
       "output_type": "display_data",
       "text": [
        "[1] 271\n",
        "[1] 293\n"
       ]
      }
     ],
     "prompt_number": 17
    },
    {
     "cell_type": "code",
     "collapsed": false,
     "input": [
      "##use this script to pull out different categories of phages i wish to work with\n",
      "\n",
      "ktblast=open(\"ktblast_terminase_IDs.txt\").readlines()\n",
      "whatsleft=open(\"whats_left.txt\").read().split(\"\\n\")\n",
      "\n",
      "categories={}\n",
      "\n",
      "for line in ktblast[1:]:\n",
      "    name=line.split(\",\")[0].split(\"_\")[0]\n",
      "    cat=line.split(\",\")[2].replace(\"\\n\",\"\")\n",
      "    if name in whatsleft:\n",
      "        categories[name]=cat\n",
      "\n",
      "print(len(categories))"
     ],
     "language": "python",
     "metadata": {},
     "outputs": [
      {
       "output_type": "stream",
       "stream": "stdout",
       "text": [
        "184\n"
       ]
      }
     ],
     "prompt_number": 37
    },
    {
     "cell_type": "code",
     "collapsed": false,
     "input": [
      "ktblast=open(\"ktblast_terminase_IDs.txt\").readlines()\n",
      "output=open(\"../ProtComparisons/terminase_categories.txt\",\"w\")\n",
      "for line in ktblast[1:]:\n",
      "    name=line.split(\",\")[0].split(\"_\")[0]\n",
      "    terminase=line.split(\",\")[2]\n",
      "    group=line.split(\",\")[1]\n",
      "    output.write(name+\"\\t\"+group+\"\\t\"+terminase)\n",
      "output.close()\n",
      "\n",
      "!open ../ProtComparisons/terminase_categories.txt -a textedit"
     ],
     "language": "python",
     "metadata": {},
     "outputs": [],
     "prompt_number": 18
    },
    {
     "cell_type": "code",
     "collapsed": false,
     "input": [],
     "language": "python",
     "metadata": {},
     "outputs": [],
     "prompt_number": 13
    },
    {
     "cell_type": "code",
     "collapsed": false,
     "input": [],
     "language": "python",
     "metadata": {},
     "outputs": []
    }
   ],
   "metadata": {}
  }
 ]
}