{
 "metadata": {
  "name": "",
  "signature": "sha256:7400d6d40692ca1e0c6b350330f575c47df5d448b1350acb278e9e8fdc638810"
 },
 "nbformat": 3,
 "nbformat_minor": 0,
 "worksheets": [
  {
   "cells": [
    {
     "cell_type": "code",
     "collapsed": false,
     "input": [
      "%load_ext rmagic\n",
      "%R library(dplyr);library(ggplot2)"
     ],
     "language": "python",
     "metadata": {},
     "outputs": [
      {
       "metadata": {},
       "output_type": "display_data",
       "text": [
        "\n",
        "Attaching package: \u2018dplyr\u2019\n",
        "\n",
        "The following object is masked from \u2018package:stats\u2019:\n",
        "\n",
        "    filter\n",
        "\n",
        "The following objects are masked from \u2018package:base\u2019:\n",
        "\n",
        "    intersect, setdiff, setequal, union\n",
        "\n"
       ]
      },
      {
       "metadata": {},
       "output_type": "pyout",
       "prompt_number": 2,
       "text": [
        "array(['ggplot2', 'dplyr', 'tools', 'stats', 'graphics', 'grDevices',\n",
        "       'utils', 'datasets', 'methods', 'base'], \n",
        "      dtype='|S9')"
       ]
      }
     ],
     "prompt_number": 2
    },
    {
     "cell_type": "code",
     "collapsed": false,
     "input": [
      "import os\n",
      "group=\"group15\"\n",
      "\n",
      "prelim_groups=open(\"phage_by_group.txt\")\n",
      "phage_grp={}\n",
      "for line in prelim_groups.readlines():\n",
      "    line=line.rstrip(\"\\n\")\n",
      "    vec=line.split(\"\\t\")\n",
      "    phage_grp[vec[0]]=vec[1]\n",
      "groups=list(phage_grp.values())\n",
      "unique=[]\n",
      "for value in groups:\n",
      "    if value not in unique:\n",
      "        unique.append(value)\n",
      "out=open(\"whats_left.txt\",\"w\")\n",
      "for value in phage_grp.keys():\n",
      "    if phage_grp.get(value)!='CNSv2.0:15' and phage_grp.get(value)!= 'CNSv2.0:5' and phage_grp.get(value)!= 'CNSv2.0:17' and phage_grp.get(value)!=\"CNSv2.0:4\":\n",
      "        out.write(value+\"\\n\")\n",
      "out.close()\n",
      "!open whats_left.txt -a textedit"
     ],
     "language": "python",
     "metadata": {},
     "outputs": [],
     "prompt_number": 21
    },
    {
     "cell_type": "code",
     "collapsed": false,
     "input": [
      "%%R\n",
      "ktblast<-read.table(\"/Users/jmb/Desktop/KathrynDocs/ourTerminases-vs-NCBI-knownPack-prelim-033115KK.txt\", sep=\"\\t\", header=TRUE, fill=TRUE)\n",
      "egroup<-group_by(ktblast, Accession..E.value.)\n",
      "e_hit_sum<-summarise(egroup, count=n())\n",
      "categories<-read.table(\"/Users/jmb/Desktop/KathrynDocs/corrected_genome_categorization.txt\", header=TRUE, sep=\"\\t\")\n",
      "e_hit_sum$type<-categories$Virus.Type[match(e_hit_sum$Accession..E.value.,categories$Hit)]\n",
      "ktblast$type<-e_hit_sum$type[match(ktblast$Accession..E.value.,e_hit_sum$Accession..E.value.)]\n",
      "write.table(ktblast[,c(1,2,21)],\"ktblast_terminase_IDs.txt\",sep=\",\", quote=FALSE, row.names=FALSE)\n",
      "head(ktblast[,c(1,2,21)])\n",
      "\n",
      "ktblast[,c(1,2,21)]%>%group_by(.,type)%>%summarise(.,count=n())"
     ],
     "language": "python",
     "metadata": {},
     "outputs": [
      {
       "metadata": {},
       "output_type": "display_data",
       "text": [
        "Source: local data frame [14 x 2]\n",
        "\n",
        "                                type count\n",
        "1                3 extended cos ends    11\n",
        "2           Lambda-like (5 cos ends)    25\n",
        "3                            Mu-like    15\n",
        "4                N15-like (cos ends)     2\n",
        "5                           N4 (DTR)    15\n",
        "6      P2-like (5 extended cos ends)    16\n",
        "7                   P22-like headful     2\n",
        "8  P22-like headful (ES18 sub-group)   101\n",
        "9                       T1 (headful)    18\n",
        "10                 T4-like (headful)    26\n",
        "11                     T5-like (DTR)    20\n",
        "12                     T7-like (DTR)    15\n",
        "13                           unknown    25\n",
        "14                                NA     2\n"
       ]
      }
     ],
     "prompt_number": 19
    },
    {
     "cell_type": "code",
     "collapsed": false,
     "input": [
      "##use this script to pull out different categories of phages i wish to work with\n",
      "\n",
      "ktblast=open(\"ktblast_terminase_IDs.txt\").readlines()\n",
      "whatsleft=open(\"whats_left.txt\").read().split(\"\\n\")\n",
      "\n",
      "categories={}\n",
      "\n",
      "for line in ktblast[1:]:\n",
      "    name=line.split(\",\")[0].split(\"_\")[0]\n",
      "    cat=line.split(\",\")[2].replace(\"\\n\",\"\")\n",
      "    if name in whatsleft:\n",
      "        categories[name]=cat\n",
      "\n",
      "print(len(categories))"
     ],
     "language": "python",
     "metadata": {},
     "outputs": [
      {
       "output_type": "stream",
       "stream": "stdout",
       "text": [
        "184\n"
       ]
      }
     ],
     "prompt_number": 37
    },
    {
     "cell_type": "code",
     "collapsed": false,
     "input": [
      "ktblast=open(\"ktblast_terminase_IDs.txt\").readlines()\n",
      "output=open(\"../ProtComparisons/terminase_categories.txt\",\"w\")\n",
      "for line in ktblast[1:]:\n",
      "    name=line.split(\",\")[0].split(\"_\")[0]\n",
      "    terminase=line.split(\",\")[2]\n",
      "    group=line.split(\",\")[1]\n",
      "    output.write(name+\"\\t\"+group+\"\\t\"+terminase)\n",
      "output.close()\n",
      "\n",
      "!open ../ProtComparisons/terminase_categories.txt -a textedit"
     ],
     "language": "python",
     "metadata": {},
     "outputs": [],
     "prompt_number": 14
    },
    {
     "cell_type": "code",
     "collapsed": false,
     "input": [],
     "language": "python",
     "metadata": {},
     "outputs": [],
     "prompt_number": 13
    },
    {
     "cell_type": "code",
     "collapsed": false,
     "input": [],
     "language": "python",
     "metadata": {},
     "outputs": []
    }
   ],
   "metadata": {}
  }
 ]
}