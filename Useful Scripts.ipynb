{
 "metadata": {
  "name": "",
  "signature": "sha256:f4d530d2ade9de1ccf972a4c684e618f55cfeab55678cca54a1425036a1e3ad0"
 },
 "nbformat": 3,
 "nbformat_minor": 0,
 "worksheets": [
  {
   "cells": [
    {
     "cell_type": "code",
     "collapsed": false,
     "input": [],
     "language": "python",
     "metadata": {},
     "outputs": [],
     "prompt_number": 1
    },
    {
     "cell_type": "code",
     "collapsed": false,
     "input": [
      "#process output prodigal file:\n",
      "###code used for larger script to determine location of gene upstream of large subunit terminase\n",
      "\n",
      "\n",
      "groupfile=grouplist\n",
      "for phage in groupfile:\n",
      "\n",
      "    gene_tbl=open(phage+\"genes\").readlines()\n",
      "    output=open(phage+\"prodigal.info\",\"w\")\n",
      "    output.write(\"phage\\tnumber\\tgene\\tunique\\torientation\\tstart\\tstop\\n\")\n",
      "    loc=[]\n",
      "    nam=[]\n",
      "    for line in gene_tbl[2:]:\n",
      "        here=line.split()\n",
      "        if here[0]==\"CDS\":\n",
      "            loc.append(here[1])\n",
      "        else:\n",
      "            info=here[0].split(\";\")\n",
      "            there=info[0].split(\"=\")\n",
      "            if len(there)==3:\n",
      "                nam.append(\"contig_\"+there[2])\n",
      "    \n",
      "    dict1=dict(zip(nam,loc))\n",
      "    for key in dict1:\n",
      "        value=dict1[key]\n",
      "        number=key.split(\"_\")[2]\n",
      "        unique=phage+key\n",
      "        if value.startswith(\"complement\"):\n",
      "            vec1=value.split(\"(\")\n",
      "            vec2=vec1[1].split(\"..\")\n",
      "            start=vec2[1].replace(\")\",\"\")\n",
      "            stop=vec2[0]\n",
      "            orientation=\"reverse\"\n",
      "        else:\n",
      "            vec2=value.split(\"..\")\n",
      "            start=vec2[0]\n",
      "            stop=vec2[1]\n",
      "            orientation=\"forward\"\n",
      "        #print(phage+\"\\t\"+number+\"\\t\"+key+\"\\t\"+orientation+\"\\t\"+start+\"\\t\"+stop+\"\\n\")\n",
      "        output.write(phage+\"\\t\"+number+\"\\t\"+key+\"\\t\"+unique+\"\\t\"+orientation+\"\\t\"+start+\"\\t\"+stop+\"\\n\")\n",
      "    \n",
      "    output.close()"
     ],
     "language": "python",
     "metadata": {},
     "outputs": []
    }
   ],
   "metadata": {}
  }
 ]
}