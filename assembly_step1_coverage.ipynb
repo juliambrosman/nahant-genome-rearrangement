{
 "cells": [
  {
   "cell_type": "code",
   "execution_count": 3,
   "metadata": {
    "collapsed": true
   },
   "outputs": [],
   "source": [
    "import os\n",
    "\n",
    "os.mkdir(\"data/step1_cov/\")"
   ]
  },
  {
   "cell_type": "code",
   "execution_count": 5,
   "metadata": {
    "collapsed": false
   },
   "outputs": [
    {
     "name": "stdout",
     "output_type": "stream",
     "text": [
      "1.004.O.step1.clc.genomecoverage              100% 1931KB   8.7KB/s   03:41    \n",
      "1.005.O.step1.clc.genomecoverage              100% 1853KB   7.9KB/s   03:55    \n",
      "1.007.O.step1.clc.genomecoverage              100% 1800KB  12.1KB/s   02:29    \n",
      "1.009.O.step1.clc.genomecoverage              100% 2503KB  25.0KB/s   01:40    \n",
      "1.011.O.step1.clc.genomecoverage              100%  237KB  26.4KB/s   00:09    \n",
      "1.012.O.step1.clc.genomecoverage              100% 2188KB  22.1KB/s   01:39    \n",
      "1.013.O.step1.clc.genomecoverage              100% 2245KB  10.1KB/s   03:42    \n",
      "1.016.O.step1.clc.genomecoverage              100% 2312KB  18.1KB/s   02:08    \n",
      "1.017.O.step1.clc.genomecoverage              100% 1469KB  19.3KB/s   01:16    \n",
      "1.020.O.step1.clc.genomecoverage              100% 2528KB  19.8KB/s   02:08    \n",
      "1.021.A.step1.clc.genomecoverage              100%  933KB  17.9KB/s   00:52    \n",
      "1.021.B.step1.clc.genomecoverage              100%  983KB  14.7KB/s   01:07    \n",
      "1.021.C.step1.clc.genomecoverage              100% 1024KB  16.8KB/s   01:01    \n",
      "1.022.O.step1.clc.genomecoverage              100% 1157KB  15.4KB/s   01:15    \n",
      "1.023.O.step1.clc.genomecoverage              100% 1141KB  20.8KB/s   00:55    \n",
      "1.024.O.step1.clc.genomecoverage              100% 2808KB  17.8KB/s   02:38    \n",
      "1.028.O.step1.clc.genomecoverage              100% 1848KB  16.1KB/s   01:55    \n",
      "1.029.O.step1.clc.genomecoverage              100% 2330KB  22.4KB/s   01:44    \n",
      "1.031.O.step1.clc.genomecoverage              100% 4044KB  33.2KB/s   02:02    \n",
      "1.032.O.step1.clc.genomecoverage              100% 6823KB  39.2KB/s   02:54    \n",
      "1.033.O.step1.clc.genomecoverage              100% 1474KB  43.4KB/s   00:34    \n",
      "1.034.X.step1.clc.genomecoverage              100% 1277KB  29.0KB/s   00:44    \n",
      "1.036.O.step1.clc.genomecoverage              100%  977KB  37.6KB/s   00:26    \n",
      "1.037.O.step1.clc.genomecoverage              100%  936KB  27.5KB/s   00:34    \n",
      "1.039.O.step1.clc.genomecoverage              100% 1403KB  34.2KB/s   00:41    \n",
      "1.040.O.step1.clc.genomecoverage              100% 1168KB  33.4KB/s   00:35    \n",
      "1.042.O.step1.clc.genomecoverage              100%  921KB  48.5KB/s   00:19    \n",
      "1.043.O.step1.clc.genomecoverage              100%  815KB  45.3KB/s   00:18    \n",
      "1.044.O.step1.clc.genomecoverage              100%  202KB  50.4KB/s   00:04    \n",
      "1.046.O.step1.clc.genomecoverage              100% 1922KB  46.9KB/s   00:41    \n",
      "1.047.O.step1.clc.genomecoverage              100% 1774KB  46.7KB/s   00:38    \n",
      "1.048.O.step1.clc.genomecoverage              100%  341KB  48.7KB/s   00:07    \n",
      "1.050.O.step1.clc.genomecoverage              100%  942KB  42.8KB/s   00:22    \n",
      "1.052.A.step1.clc.genomecoverage              100% 1506KB  35.9KB/s   00:42    \n",
      "1.056.O.step1.clc.genomecoverage              100% 1055KB  48.0KB/s   00:22    \n",
      "1.061.O.step1.clc.genomecoverage              100%  784KB  46.1KB/s   00:17    \n",
      "1.062.O.step1.clc.genomecoverage              100%  493KB  49.3KB/s   00:10    \n",
      "1.063.O.step1.clc.genomecoverage              100% 2594KB  47.2KB/s   00:55    \n",
      "1.066.O.step1.clc.genomecoverage              100% 1074KB  46.7KB/s   00:23    \n",
      "1.067.O.step1.clc.genomecoverage              100% 1916KB  46.7KB/s   00:41    \n",
      "1.068.O.step1.clc.genomecoverage              100% 1585KB  45.3KB/s   00:35    \n",
      "1.069.O.step1.clc.genomecoverage              100%  314KB  44.9KB/s   00:07    \n",
      "1.072.O.step1.clc.genomecoverage              100% 1541KB  45.3KB/s   00:34    \n",
      "1.075.O.step1.clc.genomecoverage              100%  975KB  40.6KB/s   00:24    \n",
      "1.077.O.step1.clc.genomecoverage              100% 1008KB  43.8KB/s   00:23    \n",
      "1.086.O.step1.clc.genomecoverage              100% 1052KB  45.8KB/s   00:23    \n",
      "1.087.A.step1.clc.genomecoverage              100%  859KB  35.8KB/s   00:24    \n",
      "1.088.O.step1.clc.genomecoverage              100% 1313KB  48.6KB/s   00:27    \n",
      "1.094.O.step1.clc.genomecoverage              100% 1012KB  48.2KB/s   00:21    \n",
      "1.095.O.step1.clc.genomecoverage              100%  303KB  43.3KB/s   00:07    \n",
      "1.097.O.step1.clc.genomecoverage              100% 1448KB  46.7KB/s   00:31    \n",
      "1.102.O.step1.clc.genomecoverage              100%  218KB  54.5KB/s   00:04    \n",
      "1.103.O.step1.clc.genomecoverage              100% 1156KB  46.2KB/s   00:25    \n",
      "1.105.O.step1.clc.genomecoverage              100%  977KB  46.6KB/s   00:21    \n",
      "1.107.A.step1.clc.genomecoverage              100%  337KB  37.4KB/s   00:09    \n",
      "1.107.B.step1.clc.genomecoverage              100%  240KB  48.1KB/s   00:05    \n",
      "1.107.C.step1.clc.genomecoverage              100%  364KB  28.0KB/s   00:13    \n",
      "1.108.O.step1.clc.genomecoverage              100% 1547KB  44.2KB/s   00:35    \n",
      "1.113.A.step1.clc.genomecoverage              100%  821KB  45.6KB/s   00:18    \n",
      "1.115.A.step1.clc.genomecoverage              100%  797KB  46.9KB/s   00:17    \n",
      "1.115.B.step1.clc.genomecoverage              100%  804KB  44.7KB/s   00:18    \n",
      "1.116.O.step1.clc.genomecoverage              100%  792KB  46.6KB/s   00:17    \n",
      "1.118.A.step1.clc.genomecoverage              100% 1137KB  47.4KB/s   00:24    \n",
      "1.118.B.step1.clc.genomecoverage              100% 1130KB  47.1KB/s   00:24    \n",
      "1.122.B.step1.clc.genomecoverage              100% 1201KB  44.5KB/s   00:27    \n",
      "1.126.O.step1.clc.genomecoverage              100%  337KB  48.2KB/s   00:07    \n",
      "1.132.O.step1.clc.genomecoverage              100%  683KB  45.5KB/s   00:15    \n",
      "1.136.O.step1.clc.genomecoverage              100%  612KB  47.1KB/s   00:13    \n",
      "1.137.O.step1.clc.genomecoverage              100%  822KB  45.7KB/s   00:18    \n",
      "1.138.O.step1.clc.genomecoverage              100%  606KB  46.6KB/s   00:13    \n",
      "1.139.A.step1.clc.genomecoverage              100% 1384KB  47.7KB/s   00:29    \n",
      "1.141.A.step1.clc.genomecoverage              100% 1210KB  44.8KB/s   00:27    \n",
      "1.142.O.step1.clc.genomecoverage              100% 1356KB  48.4KB/s   00:28    \n",
      "1.144.O.step1.clc.genomecoverage              100%  839KB  35.0KB/s   00:24    \n",
      "1.147.O.step1.clc.genomecoverage              100%  691KB  49.4KB/s   00:14    \n",
      "1.149.O.step1.clc.genomecoverage              100% 2057KB  46.8KB/s   00:44    \n",
      "1.156.O.step1.clc.genomecoverage              100%  677KB  48.4KB/s   00:14    \n",
      "1.158.O.step1.clc.genomecoverage              100% 3464KB  46.8KB/s   01:14    \n",
      "1.159.O.step1.clc.genomecoverage              100% 1644KB  47.0KB/s   00:35    \n",
      "1.160.O.step1.clc.genomecoverage              100% 1125KB  45.0KB/s   00:25    \n",
      "1.161.O.step1.clc.genomecoverage              100% 2620KB  46.8KB/s   00:56    \n",
      "1.166.O.step1.clc.genomecoverage              100%  482KB  32.1KB/s   00:15    \n",
      "1.171.O.step1.clc.genomecoverage              100% 1069KB  46.5KB/s   00:23    \n",
      "1.173.O.step1.clc.genomecoverage              100%  858KB  45.2KB/s   00:19    \n",
      "1.175.O.step1.clc.genomecoverage              100%  954KB  45.4KB/s   00:21    \n",
      "1.176.O.step1.clc.genomecoverage              100%  673KB  48.1KB/s   00:14    \n",
      "1.178.O.step1.clc.genomecoverage              100% 1789KB  45.9KB/s   00:39    \n",
      "1.179.O.step1.clc.genomecoverage              100%  649KB  43.3KB/s   00:15    \n",
      "1.184.A.step1.clc.genomecoverage              100%  831KB  41.6KB/s   00:20    \n",
      "1.188.A.step1.clc.genomecoverage              100% 1295KB  34.1KB/s   00:38    \n",
      "1.194.O.step1.clc.genomecoverage              100% 1104KB  44.2KB/s   00:25    \n",
      "1.199.A.step1.clc.genomecoverage              100% 1003KB  38.6KB/s   00:26    \n",
      "1.199.B.step1.clc.genomecoverage              100% 1074KB  46.7KB/s   00:23    \n",
      "1.202.O.step1.clc.genomecoverage              100%  840KB  46.7KB/s   00:18    \n",
      "1.207.B.step1.clc.genomecoverage              100% 1073KB  48.8KB/s   00:22    \n",
      "1.208.B.step1.clc.genomecoverage              100%  908KB  47.8KB/s   00:19    \n",
      "1.209.O.step1.clc.genomecoverage              100%  862KB  45.4KB/s   00:19    \n",
      "1.213.O.step1.clc.genomecoverage              100%  799KB  47.0KB/s   00:17    \n",
      "1.215.A.step1.clc.genomecoverage              100% 1511KB  47.2KB/s   00:32    \n",
      "1.215.B.step1.clc.genomecoverage              100% 1684KB  43.2KB/s   00:39    \n",
      "1.217.O.step1.clc.genomecoverage              100%  657KB  43.8KB/s   00:15    \n",
      "1.219.O.step1.clc.genomecoverage              100% 1231KB  45.6KB/s   00:27    \n",
      "1.232.O.step1.clc.genomecoverage              100% 1607KB  47.3KB/s   00:34    \n",
      "1.235.O.step1.clc.genomecoverage              100% 2693KB  35.0KB/s   01:17    \n",
      "1.236.O.step1.clc.genomecoverage              100%  788KB  43.8KB/s   00:18    \n",
      "1.237.A.step1.clc.genomecoverage              100% 1185KB  42.3KB/s   00:28    \n",
      "1.238.B.step1.clc.genomecoverage              100% 1319KB  33.0KB/s   00:40    \n",
      "1.240.O.step1.clc.genomecoverage              100%  722KB  12.2KB/s   00:59    \n",
      "1.246.O.step1.clc.genomecoverage              100%  873KB  13.6KB/s   01:04    \n",
      "1.248.O.step1.clc.genomecoverage              100%  942KB  15.5KB/s   01:01    \n",
      "1.249.A.step1.clc.genomecoverage              100%  301KB  17.7KB/s   00:17    \n",
      "1.249.B.step1.clc.genomecoverage              100%  313KB   7.0KB/s   00:45    \n",
      "1.250.O.step1.clc.genomecoverage              100% 1634KB  14.5KB/s   01:53    \n",
      "1.251.O.step1.clc.genomecoverage              100% 2885KB  22.0KB/s   02:11    \n",
      "1.253.O.step1.clc.genomecoverage              100%  912KB  43.4KB/s   00:21    \n",
      "1.254.O.step1.clc.genomecoverage              100%  613KB  43.8KB/s   00:14    \n",
      "1.255.O.step1.clc.genomecoverage              100% 3147KB  47.0KB/s   01:07    \n",
      "1.256.O.step1.clc.genomecoverage              100%  898KB  47.3KB/s   00:19    \n",
      "1.257.O.step1.clc.genomecoverage              100%  794KB  46.7KB/s   00:17    \n",
      "1.269.O.step1.clc.genomecoverage              100% 1059KB  48.1KB/s   00:22    \n",
      "1.270.B.step1.clc.genomecoverage              100% 1094KB  40.5KB/s   00:27    \n",
      "1.281.O.step1.clc.genomecoverage              100% 1049KB  45.6KB/s   00:23    \n",
      "1.283.C.step1.clc.genomecoverage              100% 1384KB  47.7KB/s   00:29    \n",
      "1.284.A.step1.clc.genomecoverage              100%  849KB  44.7KB/s   00:19    \n",
      "1.285.O.step1.clc.genomecoverage              100% 1117KB  48.6KB/s   00:23    \n",
      "1.289.A.step1.clc.genomecoverage              100%  872KB  45.9KB/s   00:19    \n",
      "12G01.O.step1.clc.genomecoverage              100% 1501KB  46.9KB/s   00:32    \n",
      "2.095.B.step1.clc.genomecoverage              100%  852KB  47.4KB/s   00:18    \n",
      "2.096.O.step1.clc.genomecoverage              100% 2751KB  47.4KB/s   00:58    \n",
      "2.159.A.step1.clc.genomecoverage              100% 1466KB  47.3KB/s   00:31    \n",
      "2.159.B.step1.clc.genomecoverage              100% 1442KB  48.1KB/s   00:30    \n"
     ]
    }
   ],
   "source": [
    "!scp jbrown@eofe4.mit.edu:/nobackup1/jbrown/nahant_phage_reads/multi_contig_check/*genomecoverage data/step1_cov/"
   ]
  },
  {
   "cell_type": "code",
   "execution_count": 5,
   "metadata": {
    "collapsed": true
   },
   "outputs": [],
   "source": [
    "class OnlineVariance(object):\n",
    "    \"\"\"\n",
    "    Welford's algorithm computes the sample variance incrementally.\n",
    "    from: http://stackoverflow.com/questions/5543651/computing-standard-deviation-in-a-stream\n",
    "    \n",
    "    Example use:\n",
    "    > N = 100\n",
    "    > data = np.random.random(N)\n",
    "    > ov = OnlineVariance(ddof=0)\n",
    "    > for d in data:\n",
    "    >     ov.include(d)\n",
    "    > std = ov.std\n",
    "    > print(std)\n",
    "    \"\"\"\n",
    "\n",
    "    def __init__(self, iterable=None, ddof=1):\n",
    "        self.ddof, self.n, self.mean, self.M2 = ddof, 0, 0.0, 0.0\n",
    "        if iterable is not None:\n",
    "            for datum in iterable:\n",
    "                self.include(datum)\n",
    "\n",
    "    def include(self, datum):\n",
    "        self.n += 1\n",
    "        self.delta = datum - self.mean\n",
    "        self.mean += self.delta / self.n\n",
    "        self.M2 += self.delta * (datum - self.mean)\n",
    "        self.variance = self.M2 / (self.n - self.ddof)\n",
    "\n",
    "    @property\n",
    "    def std(self):\n",
    "        return np.sqrt(self.variance)"
   ]
  },
  {
   "cell_type": "code",
   "execution_count": 9,
   "metadata": {
    "collapsed": true
   },
   "outputs": [],
   "source": [
    "import pandas as pd\n",
    "import glob\n",
    "import os.path as op\n",
    "import os\n",
    "import numpy as np"
   ]
  },
  {
   "cell_type": "code",
   "execution_count": 2,
   "metadata": {
    "collapsed": true
   },
   "outputs": [],
   "source": [
    "def cov_tbl(bed_cov):\n",
    "    '''\n",
    "    create dict of mean coverage per contig based on bedtools coverage per base output\n",
    "    '''\n",
    "    coverage = pd.read_csv(bed_cov, sep=\"\\t\", header=None)\n",
    "    contig_sizes = coverage.groupby([0])[1].max()\n",
    "    mean_coverage = coverage.groupby([0])[2].mean()\n",
    "    return contig_sizes, mean_coverage"
   ]
  },
  {
   "cell_type": "code",
   "execution_count": 19,
   "metadata": {
    "collapsed": false
   },
   "outputs": [
    {
     "ename": "SyntaxError",
     "evalue": "invalid syntax (<ipython-input-19-84d101f9740b>, line 17)",
     "output_type": "error",
     "traceback": [
      "\u001b[0;36m  File \u001b[0;32m\"<ipython-input-19-84d101f9740b>\"\u001b[0;36m, line \u001b[0;32m17\u001b[0m\n\u001b[0;31m    coverage['is1'] = [i=i if i==\"contig_1\" for i in coverage[0] else i=\"contig_other\"]\u001b[0m\n\u001b[0m                        ^\u001b[0m\n\u001b[0;31mSyntaxError\u001b[0m\u001b[0;31m:\u001b[0m invalid syntax\n"
     ]
    }
   ],
   "source": [
    "if op.exists(\"./data/step1_cov/adjusted/\")==False:\n",
    "    os.mkdir(\"./data/step1_cov/adjusted/\")\n",
    "    \n",
    "for l in glob.glob(\"./data/step1_cov/*genomecoverage\")[:1]:\n",
    "    name = op.basename(l).replace(\"step1.clc.genomecoverage\",\"\")\n",
    "    coverage = pd.read_csv(l, sep=\"\\t\", header=None)\n",
    "    contig_sizes = coverage.groupby([0])[1].max()\n",
    "    mean_coverage = coverage.groupby([0])[2].mean()\n",
    "    together = pd.concat([contig_sizes, mean_coverage], axis=1)\n",
    "    together.rename(columns={'0': 'contig', '1': 'bp', '2':'coverage'}, inplace=True)\n",
    "    together.columns = ['bp', 'coverage']\n",
    "    \n",
    "    \n",
    "    names = []\n",
    "    c1var = OnlineVariance(ddof=0)\n",
    "    covar = OnlineVariance(ddof=0)\n",
    "    coverage['is1'] = [i=i if i==\"contig_1\" for i in coverage[0] else i=\"contig_other\"]\n",
    "    for i, r in coverage.iterrows():\n",
    "\n",
    "        if r[0] == \"contig_1\":\n",
    "            c1_name = \"contig_1\"\n",
    "            r[4] = \"contig_1\"\n",
    "            c1var.include(r[2])\n",
    "        else:\n",
    "            co_name = \"other_contigs\"\n",
    "            r[4] = \"contig_other\"\n",
    "            covar.include(r[2])\n",
    "        newdf.append(r)\n",
    "    print(newdf)\n",
    "    print(coverage)\n",
    "    print(name, c1var.std, covar.std)\n",
    "    #    df1 = pd.DataFrame({\"contig_1\":)\n"
   ]
  },
  {
   "cell_type": "code",
   "execution_count": 16,
   "metadata": {
    "collapsed": false
   },
   "outputs": [
    {
     "name": "stdout",
     "output_type": "stream",
     "text": [
      "Empty DataFrame\n",
      "Columns: []\n",
      "Index: []\n"
     ]
    }
   ],
   "source": [
    "print(newdf)"
   ]
  },
  {
   "cell_type": "code",
   "execution_count": 44,
   "metadata": {
    "collapsed": false
   },
   "outputs": [
    {
     "ename": "TypeError",
     "evalue": "cannot concatenate a non-NDFrame object",
     "output_type": "error",
     "traceback": [
      "\u001b[0;31m---------------------------------------------------------------------------\u001b[0m",
      "\u001b[0;31mTypeError\u001b[0m                                 Traceback (most recent call last)",
      "\u001b[0;32m<ipython-input-44-41bc502092b5>\u001b[0m in \u001b[0;36m<module>\u001b[0;34m()\u001b[0m\n\u001b[1;32m      8\u001b[0m     \u001b[0mc1\u001b[0m \u001b[0;34m=\u001b[0m \u001b[0mtogether\u001b[0m\u001b[0;34m[\u001b[0m\u001b[0mtogether\u001b[0m\u001b[0;34m.\u001b[0m\u001b[0mindex\u001b[0m\u001b[0;34m==\u001b[0m\u001b[0;34m'contig_1'\u001b[0m\u001b[0;34m]\u001b[0m\u001b[0;34m\u001b[0m\u001b[0m\n\u001b[1;32m      9\u001b[0m \u001b[0;34m\u001b[0m\u001b[0m\n\u001b[0;32m---> 10\u001b[0;31m     \u001b[0mcothers\u001b[0m \u001b[0;34m=\u001b[0m \u001b[0mpd\u001b[0m\u001b[0;34m.\u001b[0m\u001b[0mconcat\u001b[0m\u001b[0;34m(\u001b[0m\u001b[0;34m[\u001b[0m\u001b[0mtogether\u001b[0m\u001b[0;34m[\u001b[0m\u001b[0mtogether\u001b[0m\u001b[0;34m.\u001b[0m\u001b[0mindex\u001b[0m \u001b[0;34m!=\u001b[0m \u001b[0;34m'contig_1'\u001b[0m\u001b[0;34m]\u001b[0m\u001b[0;34m[\u001b[0m\u001b[0;34m'bp'\u001b[0m\u001b[0;34m]\u001b[0m\u001b[0;34m.\u001b[0m\u001b[0mmean\u001b[0m\u001b[0;34m(\u001b[0m\u001b[0;34m)\u001b[0m\u001b[0;34m,\u001b[0m\u001b[0mtogether\u001b[0m\u001b[0;34m[\u001b[0m\u001b[0mtogether\u001b[0m\u001b[0;34m.\u001b[0m\u001b[0mindex\u001b[0m \u001b[0;34m!=\u001b[0m \u001b[0;34m'contig_1'\u001b[0m\u001b[0;34m]\u001b[0m\u001b[0;34m[\u001b[0m\u001b[0;34m'coverage'\u001b[0m\u001b[0;34m]\u001b[0m\u001b[0;34m.\u001b[0m\u001b[0mmean\u001b[0m\u001b[0;34m(\u001b[0m\u001b[0;34m)\u001b[0m\u001b[0;34m]\u001b[0m\u001b[0;34m)\u001b[0m\u001b[0;34m\u001b[0m\u001b[0m\n\u001b[0m\u001b[1;32m     11\u001b[0m     \u001b[0;32mprint\u001b[0m\u001b[0;34m(\u001b[0m\u001b[0mcothers\u001b[0m\u001b[0;34m)\u001b[0m\u001b[0;34m\u001b[0m\u001b[0m\n",
      "\u001b[0;32m//anaconda/lib/python2.7/site-packages/pandas/tools/merge.pyc\u001b[0m in \u001b[0;36mconcat\u001b[0;34m(objs, axis, join, join_axes, ignore_index, keys, levels, names, verify_integrity, copy)\u001b[0m\n\u001b[1;32m    810\u001b[0m                        \u001b[0mkeys\u001b[0m\u001b[0;34m=\u001b[0m\u001b[0mkeys\u001b[0m\u001b[0;34m,\u001b[0m \u001b[0mlevels\u001b[0m\u001b[0;34m=\u001b[0m\u001b[0mlevels\u001b[0m\u001b[0;34m,\u001b[0m \u001b[0mnames\u001b[0m\u001b[0;34m=\u001b[0m\u001b[0mnames\u001b[0m\u001b[0;34m,\u001b[0m\u001b[0;34m\u001b[0m\u001b[0m\n\u001b[1;32m    811\u001b[0m                        \u001b[0mverify_integrity\u001b[0m\u001b[0;34m=\u001b[0m\u001b[0mverify_integrity\u001b[0m\u001b[0;34m,\u001b[0m\u001b[0;34m\u001b[0m\u001b[0m\n\u001b[0;32m--> 812\u001b[0;31m                        copy=copy)\n\u001b[0m\u001b[1;32m    813\u001b[0m     \u001b[0;32mreturn\u001b[0m \u001b[0mop\u001b[0m\u001b[0;34m.\u001b[0m\u001b[0mget_result\u001b[0m\u001b[0;34m(\u001b[0m\u001b[0;34m)\u001b[0m\u001b[0;34m\u001b[0m\u001b[0m\n\u001b[1;32m    814\u001b[0m \u001b[0;34m\u001b[0m\u001b[0m\n",
      "\u001b[0;32m//anaconda/lib/python2.7/site-packages/pandas/tools/merge.pyc\u001b[0m in \u001b[0;36m__init__\u001b[0;34m(self, objs, axis, join, join_axes, keys, levels, names, ignore_index, verify_integrity, copy)\u001b[0m\n\u001b[1;32m    866\u001b[0m         \u001b[0;32mfor\u001b[0m \u001b[0mobj\u001b[0m \u001b[0;32min\u001b[0m \u001b[0mobjs\u001b[0m\u001b[0;34m:\u001b[0m\u001b[0;34m\u001b[0m\u001b[0m\n\u001b[1;32m    867\u001b[0m             \u001b[0;32mif\u001b[0m \u001b[0;32mnot\u001b[0m \u001b[0misinstance\u001b[0m\u001b[0;34m(\u001b[0m\u001b[0mobj\u001b[0m\u001b[0;34m,\u001b[0m \u001b[0mNDFrame\u001b[0m\u001b[0;34m)\u001b[0m\u001b[0;34m:\u001b[0m\u001b[0;34m\u001b[0m\u001b[0m\n\u001b[0;32m--> 868\u001b[0;31m                 \u001b[0;32mraise\u001b[0m \u001b[0mTypeError\u001b[0m\u001b[0;34m(\u001b[0m\u001b[0;34m\"cannot concatenate a non-NDFrame object\"\u001b[0m\u001b[0;34m)\u001b[0m\u001b[0;34m\u001b[0m\u001b[0m\n\u001b[0m\u001b[1;32m    869\u001b[0m \u001b[0;34m\u001b[0m\u001b[0m\n\u001b[1;32m    870\u001b[0m             \u001b[0;31m# consolidate\u001b[0m\u001b[0;34m\u001b[0m\u001b[0;34m\u001b[0m\u001b[0m\n",
      "\u001b[0;31mTypeError\u001b[0m: cannot concatenate a non-NDFrame object"
     ]
    }
   ],
   "source": [
    "for l in glob.glob(\"./data/step1_cov/*genomecoverage\")[:1]:\n",
    "    name = op.basename(l).replace(\"step1.clc.genomecoverage\",\"\")\n",
    "    coverage = pd.read_csv(l, sep=\"\\t\", header=None)\n",
    "    contig_sizes = coverage.groupby([0])[1].max()\n",
    "    mean_coverage = coverage.groupby([0])[2].mean()\n",
    "    together = pd.concat([contig_sizes, mean_coverage], axis=1)\n",
    "    together.columns = ['bp', 'coverage']\n",
    "    c1 = together[together.index=='contig_1']\n",
    "    c1['name'] = name\n",
    "    others_bp = together[together.index != 'contig_1']['bp'].mean()\n",
    "    others_cov = together[together.index != 'contig_1']['coverage'].mean()\n",
    "    data = [others_bp, others_cov, name]\n",
    "    df = pd.DataFrame(data, )"
   ]
  },
  {
   "cell_type": "code",
   "execution_count": 35,
   "metadata": {
    "collapsed": false
   },
   "outputs": [
    {
     "data": {
      "text/html": [
       "<div>\n",
       "<table border=\"1\" class=\"dataframe\">\n",
       "  <thead>\n",
       "    <tr style=\"text-align: right;\">\n",
       "      <th></th>\n",
       "      <th>bp</th>\n",
       "      <th>coverage</th>\n",
       "    </tr>\n",
       "    <tr>\n",
       "      <th>0</th>\n",
       "      <th></th>\n",
       "      <th></th>\n",
       "    </tr>\n",
       "  </thead>\n",
       "  <tbody>\n",
       "    <tr>\n",
       "      <th>contig_1</th>\n",
       "      <td>45496</td>\n",
       "      <td>25813.746901</td>\n",
       "    </tr>\n",
       "  </tbody>\n",
       "</table>\n",
       "</div>"
      ],
      "text/plain": [
       "             bp      coverage\n",
       "0                            \n",
       "contig_1  45496  25813.746901"
      ]
     },
     "execution_count": 35,
     "metadata": {},
     "output_type": "execute_result"
    }
   ],
   "source": [
    "\n"
   ]
  },
  {
   "cell_type": "markdown",
   "metadata": {},
   "source": []
  },
  {
   "cell_type": "code",
   "execution_count": null,
   "metadata": {
    "collapsed": true
   },
   "outputs": [],
   "source": []
  },
  {
   "cell_type": "code",
   "execution_count": null,
   "metadata": {
    "collapsed": true
   },
   "outputs": [],
   "source": []
  },
  {
   "cell_type": "code",
   "execution_count": null,
   "metadata": {
    "collapsed": true
   },
   "outputs": [],
   "source": []
  },
  {
   "cell_type": "code",
   "execution_count": 8,
   "metadata": {
    "collapsed": false
   },
   "outputs": [],
   "source": [
    "!open ./data/step1_cov/adjusted/*.genomecovadjust.txt -a textedit"
   ]
  },
  {
   "cell_type": "code",
   "execution_count": 13,
   "metadata": {
    "collapsed": false
   },
   "outputs": [
    {
     "name": "stderr",
     "output_type": "stream",
     "text": [
      "//anaconda/lib/python2.7/site-packages/rpy2/robjects/functions.py:106: UserWarning: \n",
      "Attaching package: ‘dplyr’\n",
      "\n",
      "\n",
      "  res = super(Function, self).__call__(*new_args, **new_kwargs)\n",
      "//anaconda/lib/python2.7/site-packages/rpy2/robjects/functions.py:106: UserWarning: The following objects are masked from ‘package:stats’:\n",
      "\n",
      "    filter, lag\n",
      "\n",
      "\n",
      "  res = super(Function, self).__call__(*new_args, **new_kwargs)\n",
      "//anaconda/lib/python2.7/site-packages/rpy2/robjects/functions.py:106: UserWarning: The following objects are masked from ‘package:base’:\n",
      "\n",
      "    intersect, setdiff, setequal, union\n",
      "\n",
      "\n",
      "  res = super(Function, self).__call__(*new_args, **new_kwargs)\n"
     ]
    },
    {
     "data": {
      "text/plain": [
       "array(['dplyr', 'ggplot2', 'tools', 'stats', 'graphics', 'grDevices',\n",
       "       'utils', 'datasets', 'methods', 'base'], \n",
       "      dtype='|S9')"
      ]
     },
     "execution_count": 13,
     "metadata": {},
     "output_type": "execute_result"
    }
   ],
   "source": [
    "%load_ext rpy2.ipython\n",
    "%R library(ggplot2); library(dplyr)"
   ]
  },
  {
   "cell_type": "code",
   "execution_count": 17,
   "metadata": {
    "collapsed": false
   },
   "outputs": [
    {
     "data": {
      "text/plain": [
       "     phage assembly1_contig_count\n",
       "1 1.003.O.                      1\n",
       "2 1.004.O.                     61\n",
       "3 1.005.O.                     67\n",
       "4 1.007.O.                     27\n",
       "5 1.008.O.                      1\n",
       "6 1.009.O.                     44\n"
      ]
     },
     "metadata": {},
     "output_type": "display_data"
    }
   ],
   "source": [
    "%%R\n",
    "ctgct <- read.table(\"./data/asm_contig_cts.txt\", sep=\"\\t\", header=TRUE)\n",
    "\n",
    "head(ctgct)"
   ]
  },
  {
   "cell_type": "code",
   "execution_count": 21,
   "metadata": {
    "collapsed": false
   },
   "outputs": [
    {
     "data": {
      "text/plain": [
       "[1] 285\n",
       "[1] 154\n"
      ]
     },
     "metadata": {},
     "output_type": "display_data"
    }
   ],
   "source": [
    "%%R\n",
    "ctgct %>% nrow %>% print\n",
    "ctgct %>% filter(assembly1_contig_count==1) %>% nrow %>% print"
   ]
  },
  {
   "cell_type": "code",
   "execution_count": null,
   "metadata": {
    "collapsed": true
   },
   "outputs": [],
   "source": []
  }
 ],
 "metadata": {
  "kernelspec": {
   "display_name": "Python 2",
   "language": "python",
   "name": "python2"
  },
  "language_info": {
   "codemirror_mode": {
    "name": "ipython",
    "version": 2
   },
   "file_extension": ".py",
   "mimetype": "text/x-python",
   "name": "python",
   "nbconvert_exporter": "python",
   "pygments_lexer": "ipython2",
   "version": "2.7.12"
  }
 },
 "nbformat": 4,
 "nbformat_minor": 0
}
