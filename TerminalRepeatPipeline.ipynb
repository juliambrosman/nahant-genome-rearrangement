{
 "metadata": {
  "name": "",
  "signature": "sha256:257c3564ba6f66384ff35370f4738e665aa05d9f99cfe7a3061ae77fea2187f9"
 },
 "nbformat": 3,
 "nbformat_minor": 0,
 "worksheets": [
  {
   "cells": [
    {
     "cell_type": "code",
     "collapsed": false,
     "input": [
      "%load_ext rmagic "
     ],
     "language": "python",
     "metadata": {},
     "outputs": [],
     "prompt_number": 1
    },
    {
     "cell_type": "markdown",
     "metadata": {},
     "source": [
      "First Round Assembly:"
     ]
    },
    {
     "cell_type": "code",
     "collapsed": false,
     "input": [
      "fastq=open(\"fastq.list.txt\")\n",
      "program=open(\"20150403_group5.step1.sh\",\"a\")\n",
      "for name in fastq:\n",
      "    vec=name.split(\"_\")\n",
      "    heading=vec[0]\n",
      "    program.write(\"\\n\\n#\"+name+\"\\nclc_assembler -o \"+heading+\"step1.clc.fasta -m 500 -p fb ss 100 300 -q \"+ name+\"\\nclc_mapper -o \"+heading+\"step1.cas -p fb ss 100 300 -q \"+name.replace(\"\\n\",\"\")+\" -d \"+heading+\"step1.clc.fasta -a local -r ignore\\nclc_cas_to_sam -a \"+heading+\"step1.cas -o \"+heading+\"step1.bam\\n\\nsamtools sort \"+heading+\"step1.bam 1.025.O.sorted\\nsamtools index \"+heading+\"sorted.bam\\nbedtools genomecov -ibam \"+heading+\"step1.bam -d >\"+heading+\"step1.genomecoverage.txt\")\n",
      "program.close()"
     ],
     "language": "python",
     "metadata": {},
     "outputs": [],
     "prompt_number": 10
    },
    {
     "cell_type": "code",
     "collapsed": false,
     "input": [
      "#Write a list of tasks to do the first round assembly for a list of fastq read files\n",
      "#the script file should alread have the headings needed for batch submission into SLURM\n",
      "def step1_script(fastq_list, script_file_name):\n",
      "    fastq=open(fastq_list)\n",
      "    program=open(script_file_name,\"a\")\n",
      "    for name in fastq:\n",
      "        vec=name.split(\"_\")\n",
      "        heading=vec[0]\n",
      "        program.write(\"\\n\\n#\"+name+\"\\nclc_assembler -o \"+heading+\"step1.clc.fasta -m 500 -p fb ss 100 300 -q \"+ name+\"\\nclc_mapper -o \"+heading+\"step1.cas -p fb ss 100 300 -q \"+name.replace(\"\\n\",\"\")+\" -d \"+heading+\"step1.clc.fasta -a local -r ignore\\nclc_cas_to_sam -a \"+heading+\"step1.cas -o \"+heading+\"step1.bam\\n\\nsamtools sort \"+heading+\"step1.bam 1.025.O.sorted\\nsamtools index \"+heading+\"sorted.bam\\nbedtools genomecov -ibam \"+heading+\"step1.bam -d >\"+heading+\"step1.genomecoverage.txt\")\n",
      "    program.close()"
     ],
     "language": "python",
     "metadata": {},
     "outputs": []
    },
    {
     "cell_type": "code",
     "collapsed": false,
     "input": [
      "fastq=open(\"fastq.list.txt\")\n",
      "alignments=[]\n",
      "for name in fastq:\n",
      "    vec=name.split(\"_\")\n",
      "    heading=vec[0]\n",
      "    alignments.append(heading)\n",
      "alignments"
     ],
     "language": "python",
     "metadata": {},
     "outputs": [
      {
       "metadata": {},
       "output_type": "pyout",
       "prompt_number": 3,
       "text": [
        "['1.025.O.',\n",
        " '1.026.O.',\n",
        " '1.097.O.',\n",
        " '1.150.O.',\n",
        " '1.152.O.',\n",
        " '1.169.O.',\n",
        " '1.188.A.',\n",
        " '1.188.B.',\n",
        " '1.188.C.',\n",
        " '1.224.A.',\n",
        " '1.238.A.',\n",
        " '1.238.B.',\n",
        " '1.245.O.',\n",
        " '1.261.O.',\n",
        " '2.130.O.']"
       ]
      }
     ],
     "prompt_number": 3
    },
    {
     "cell_type": "code",
     "collapsed": false,
     "input": [
      "%Rpush alignments"
     ],
     "language": "python",
     "metadata": {},
     "outputs": [],
     "prompt_number": 12
    },
    {
     "cell_type": "code",
     "collapsed": false,
     "input": [
      "%%R\n",
      "library(dplyr)"
     ],
     "language": "python",
     "metadata": {},
     "outputs": [
      {
       "metadata": {},
       "output_type": "display_data",
       "text": [
        "\n",
        "Attaching package: \u2018dplyr\u2019\n",
        "\n",
        "The following object is masked from \u2018package:stats\u2019:\n",
        "\n",
        "    filter\n",
        "\n",
        "The following objects are masked from \u2018package:base\u2019:\n",
        "\n",
        "    intersect, setdiff, setequal, union\n",
        "\n"
       ]
      }
     ],
     "prompt_number": 9
    },
    {
     "cell_type": "code",
     "collapsed": false,
     "input": [
      "%%R \n",
      "\n"
     ],
     "language": "python",
     "metadata": {},
     "outputs": [
      {
       "metadata": {},
       "output_type": "display_data",
       "text": [
        " [1] \"1.064.O._10N.261.52.E5.fastq is one of the files\" \n",
        " [2] \"1.074.O._10N.222.49.B7.fastq is one of the files\" \n",
        " [3] \"1.082.O._10N.261.49.E4.fastq is one of the files\" \n",
        " [4] \"1.085.O._10N.222.51.E3.fastq is one of the files\" \n",
        " [5] \"1.108.O._10N.222.51.A4.fastq is one of the files\" \n",
        " [6] \"1.110.O._10N.261.52.C1.fastq is one of the files\" \n",
        " [7] \"1.115.A._10N.222.49.B11.fastq is one of the files\"\n",
        " [8] \"1.115.B._10N.222.49.B11.fastq is one of the files\"\n",
        " [9] \"1.116.O._10N.222.52.C10.fastq is one of the files\"\n",
        "[10] \"1.131.O._10N.222.49.A8.fastq is one of the files\" \n",
        "[11] \"1.132.O._10N.222.49.F8.fastq is one of the files\" \n",
        "[12] \"1.133.O._10N.222.51.E4.fastq is one of the files\" \n",
        "[13] \"1.134.O._10N.222.52.B8.fastq is one of the files\" \n",
        "[14] \"1.147.O._10N.286.49.E9.fastq is one of the files\" \n",
        "[15] \"1.148.O._10N.286.54.A10.fastq is one of the files\"\n",
        "[16] \"1.157.O._10N.261.45.B7.fastq is one of the files\" \n",
        "[17] \"1.162.O._10N.261.48.E3.fastq is one of the files\" \n",
        "[18] \"1.165.O._10N.261.51.B7.fastq is one of the files\" \n",
        "[19] \"1.167.O._10N.261.51.F2.fastq is one of the files\" \n",
        "[20] \"1.168.O._10N.261.52.A10.fastq is one of the files\"\n",
        "[21] \"1.172.O._10N.261.52.F5.fastq is one of the files\" \n",
        "[22] \"1.176.O._10N.261.55.F5.fastq is one of the files\" \n",
        "[23] \"1.182.O._10N.286.46.E1.fastq is one of the files\" \n",
        "[24] \"1.189.B._10N.286.51.B5.fastq is one of the files\" \n",
        "[25] \"1.189.C._10N.286.51.B5.fastq is one of the files\" \n",
        "[26] \"1.189.O._10N.286.51.B5.fastq is one of the files\" \n",
        "[27] \"1.206.O._10N.222.51.B10.fastq is one of the files\"\n",
        "[28] \"1.226.O._10N.261.48.E5.fastq is one of the files\" \n",
        "[29] \"1.228.O._10N.261.49.C1.fastq is one of the files\" \n",
        "[30] \"1.233.A._10N.261.51.E6.fastq is one of the files\" \n",
        "[31] \"1.233.B._10N.261.51.E6.fastq is one of the files\" \n",
        "[32] \"1.239.O._10N.261.52.F6.fastq is one of the files\" \n",
        "[33] \"1.240.O._10N.261.52.F8.fastq is one of the files\" \n",
        "[34] \"1.242.O._10N.261.54.B2.fastq is one of the files\" \n",
        "[35] \"1.266.O._10N.286.52.F9.fastq is one of the files\" \n"
       ]
      }
     ],
     "prompt_number": 5
    },
    {
     "cell_type": "code",
     "collapsed": false,
     "input": [
      "%%R\n",
      "library(dplyr)\n",
      "alignments<-read.table(\"fastq.list.txt\")\n",
      "for (item in alignments){\n",
      "    filename<-paste(item,\"step1.genomecoverage.txt\",sep=\"\")\n",
      "    coverage<-read.table(filename, sep=\"\\t\")\n",
      "    contig1<-filter(coverage, V1==\"contig_1\")\n",
      "    png(paste(\"./coverageplots/\",item,\"coverage.plot.png\", sep=\"\"))\n",
      "    with(contig1, plot(V2, V3, type=\"n\",xlab=\"position\",ylab=\"coverage\", main=item))\n",
      "    with(contig1, lines(V2,V3))\n",
      "    dev.off()\n",
      "}"
     ],
     "language": "python",
     "metadata": {},
     "outputs": [],
     "prompt_number": 81
    },
    {
     "cell_type": "code",
     "collapsed": false,
     "input": [
      "%%R\n",
      "for (item in alignments){\n",
      "    filename<-paste(item,\"step1.genomecoverage.txt\",sep=\"\")\n",
      "    coverage<-read.table(filename, sep=\"\\t\")\n",
      "    contig1<-filter(coverage, V1==\"contig_1\")\n",
      "    stddev<-sd(contig1$V3)\n",
      "    print(paste(item, stddev, sep=\" \"))\n",
      "}"
     ],
     "language": "python",
     "metadata": {},
     "outputs": [
      {
       "metadata": {},
       "output_type": "display_data",
       "text": [
        "[1] \"1.025.O. 198.543016964143\"\n",
        "[1] \"1.026.O. 31.7411759634143\"\n",
        "[1] \"1.097.O. 12.1348015859595\"\n",
        "[1] \"1.150.O. 23.6200268431922\"\n",
        "[1] \"1.152.O. 160.07119649875\"\n",
        "[1] \"1.169.O. 15.3078033580593\"\n",
        "[1] \"1.188.A. 17.318006044584\"\n",
        "[1] \"1.188.B. 33.4128272247034\"\n",
        "[1] \"1.188.C. 29.0770329553832\"\n",
        "[1] \"1.224.A. 47.6708545968054\"\n",
        "[1] \"1.238.A. 91.2066946455141\"\n",
        "[1] \"1.238.B. 5.4677079140091\"\n",
        "[1] \"1.245.O. 43.8954388610347\"\n",
        "[1] \"1.261.O. 131.441014054544\"\n",
        "[1] \"2.130.O. 149.784820544536\"\n"
       ]
      }
     ],
     "prompt_number": 7
    },
    {
     "cell_type": "code",
     "collapsed": false,
     "input": [
      "%%R\n",
      "step2<-vector()\n",
      "done<-vector()\n",
      "for (item in alignments){\n",
      "    filename<-paste(item,\"step1.genomecoverage.txt\",sep=\"\")\n",
      "    coverage<-read.table(filename, sep=\"\\t\")\n",
      "    contig1<-filter(coverage, V1==\"contig_1\")\n",
      "    start<-min(contig1$V2)\n",
      "    end<-max(contig1$V2)\n",
      "    stddev<-sd(contig1$V3)\n",
      "    max_spot<-contig1$V2[mean(which(contig1$V3==max(contig1$V3)))]\n",
      "    #print(paste(\"start is\",start,\"stop is\",end,\"max diff is\", maxdiff, \"min diff is\", mindiff, sep=\" \"))\n",
      "    if (max(contig1$V3)<median(contig1$V3)+stddev+100){\n",
      "    print(paste(item, \"difference in coverage is insignificant\",sep=\" \"))\n",
      "    done<-c(done, item)\n",
      "} else if ((max_spot-start)<200|(end-max_spot)<200) {\n",
      "    print(paste(item,\"max coverage at the termini\", sep=\" \"))\n",
      "    done<-c(done, item)\n",
      "} else {\n",
      "    step2<-c(step2, item)\n",
      "}     \n",
      "\n",
      "}\n",
      "write.table(done, \"step1.and.done.txt\", quote=FALSE, row.names=FALSE, col.names=FALSE)"
     ],
     "language": "python",
     "metadata": {},
     "outputs": [
      {
       "metadata": {},
       "output_type": "display_data",
       "text": [
        "[1] \"1.025.O. max coverage at the termini\"\n",
        "[1] \"1.169.O. difference in coverage is insignificant\"\n"
       ]
      }
     ],
     "prompt_number": 73
    },
    {
     "cell_type": "code",
     "collapsed": false,
     "input": [
      "%%R\n",
      "#range_list<-vector()\n",
      "#cut_location<-vector()\n",
      "output<-vector()\n",
      "for (item in step2){\n",
      "    filename<-paste(item,\"step1.genomecoverage.txt\",sep=\"\")\n",
      "    coverage<-read.table(filename, sep=\"\\t\")\n",
      "    contig1<-filter(coverage, V1==\"contig_1\")\n",
      "    #high_range<-median(contig1$V3)+50\n",
      "    #high_coverage<-contig1[contig1$V3>high_range,]\n",
      "    max_spot<-contig1$V2[mean(which(contig1$V3==max(contig1$V3)))]\n",
      "    c1len<-max(contig1$V2)\n",
      "    #max_locale<-max_spot+200\n",
      "    #min_locale<-max_spot-200\n",
      "    range1<-paste(\"'contig_1:\",1,\"-\",max_spot,\"'\",sep=\"\")\n",
      "#    range2<-paste(\"'contig_1:\",max_spot+1,\"-\",c1len,\"'\",sep=\"\")\n",
      "    range2<-paste(\"'contig_1:\",max_spot+1,\"'\",sep=\"\")\n",
      "    output<-c(output,paste(item, range1, range2, sep=\";\"))\n",
      "    #range_list<-c(range_list, range)\n",
      "    #cut_location<-c(cut_location, paste(item, max_spot, sep=\";\"))\n",
      "    #png(paste(\"./coverageplots/\",item,\"highcoverage.png\", sep=\"\"))\n",
      "    #with(contig1, plot(V2, V3, type=\"n\",xlab=\"position\",ylab=\"coverage\", main=item,xlim=c(min_locale,max_locale)))\n",
      "    #with(contig1, lines(V2,V3, xlim=c(min_locale,max_locale)))\n",
      "    #dev.off()\n",
      "}\n",
      "write.table(output, \"step1.contig.split.txt\", quote=FALSE, row.names=FALSE, col.names=FALSE)"
     ],
     "language": "python",
     "metadata": {},
     "outputs": [],
     "prompt_number": 74
    },
    {
     "cell_type": "code",
     "collapsed": false,
     "input": [],
     "language": "python",
     "metadata": {},
     "outputs": [],
     "prompt_number": 6
    },
    {
     "cell_type": "code",
     "collapsed": false,
     "input": [
      "def step2script(script_file)    \n",
      "    script=open(script_file,\"a\")\n",
      "    output=open(\"step1.contig.split.txt\")\n",
      "    done=open(\"step1.and.done.txt\")\n",
      "    for line in output.readlines():\n",
      "        vec=line.split(\";\")\n",
      "        script.write(\"samtools faidx \"+vec[0]+\"step1.clc.fasta \"+vec[1]+\" >\"+vec[0]+\"step1.front.fasta\\nsamtools faidx \"+vec[0]+\"step1.clc.fasta \"+vec[2]+\" >\"+vec[0]+\"step1.back.fasta\\n\\ncat \"+vec[0]+\"step1.back.fasta \"+vec[0]+\"step1.front.fasta > \"+vec[0]+\"step1.backfront.fasta\\n\\npython merge_fasta.py \"+vec[0]+\"step1.backfront.fasta \"+vec[0]+\"TR_assembly \"+vec[0]+\"step1.switcharound.fasta\\n\\n\")\n",
      "        script.write(\"clc_mapper -o \"+vec[0]+\"switcharound.cas -p fb ss 100 300 -q \"+vec[0]+\"*.fastq -d \"+vec[0]+\"step1.switcharound.fasta -a local -r ignore \\nclc_cas_to_sam -a \"+vec[0]+\"switcharound.cas -o \"+vec[0]+\"switcharound.bam\\nsamtools sort \"+vec[0]+\"switcharound.bam \"+vec[0]+\"sorted.switcharound\\nsamtools index \"+vec[0]+\"sorted.switcharound.bam\\n\\nbedtools genomecov -ibam \"+vec[0]+\"sorted.switcharound.bam -d > \"+vec[0]+\"switcharound.genomecoverage.txt\\nclc_extract_consensus -z none -a \"+vec[0]+\"switcharound.cas -o ./finished/\"+vec[0]+\"step2.fasta\\n\\n\")\n",
      "        script.write(\"clc_mapper -o \"+vec[0]+\"step2.cas -p fb ss 100 300 -q \"+vec[0]+\"*.fastq -d ./finished/\"+vec[0]+\"step2.fasta -a local -r ignore \\nclc_cas_to_sam -a \"+vec[0]+\"step2.cas -o \"+vec[0]+\"step2.bam\\nsamtools sort \"+vec[0]+\"step2.bam \"+vec[0]+\"sorted.step2\\nsamtools index \"+vec[0]+\"sorted.step2.bam\\n\\nbedtools genomecov -ibam \"+vec[0]+\"sorted.step2.bam -d > \"+vec[0]+\"step2.genomecoverage.txt\\n\\n#####\\n\\n\")\n",
      "    for line in done:\n",
      "        script.write(\"samtools faidx \"+line+\"step1.clc.fasta 'contig_1'>./finished/\"+line+\"step1.fasta\\n\")\n",
      "    script.close()"
     ],
     "language": "python",
     "metadata": {},
     "outputs": [],
     "prompt_number": 76
    },
    {
     "cell_type": "code",
     "collapsed": false,
     "input": [],
     "language": "python",
     "metadata": {},
     "outputs": [
      {
       "metadata": {},
       "output_type": "pyout",
       "prompt_number": 80,
       "text": [
        "array(['1.025.O.', '1.169.O.'], \n",
        "      dtype='|S8')"
       ]
      }
     ],
     "prompt_number": 80
    },
    {
     "cell_type": "code",
     "collapsed": false,
     "input": [],
     "language": "python",
     "metadata": {},
     "outputs": [
      {
       "output_type": "stream",
       "stream": "stdout",
       "text": [
        "samtools faidx 1.025.O.step1.clc.fasta 'contig_1'>./finished/1.025.O.step1.fasta\n",
        "\n",
        "samtools faidx 1.169.O.step1.clc.fasta 'contig_1'>./finished/1.169.O.step1.fasta\n",
        "\n"
       ]
      }
     ],
     "prompt_number": 81
    },
    {
     "cell_type": "code",
     "collapsed": false,
     "input": [],
     "language": "python",
     "metadata": {},
     "outputs": []
    },
    {
     "cell_type": "code",
     "collapsed": false,
     "input": [
      "#!/usr/bin/python\n",
      "#program to concatenate sequences in fasta file into one sequence\n",
      "import sys\n",
      "#print(sys.argv)\n",
      "\n",
      "fastafile=sys.argv[1]\n",
      "mergedname=sys.argv[2]\n",
      "fastaoutput=sys.argv[3]\n",
      "\n",
      "def merge_fasta(fastafile, mergedname, fastaoutput):\n",
      "    fasta=open(fastafile)\n",
      "    fasta2=open(fastaoutput,\"w\")\n",
      "    fasta2.write(\">\"+mergedname+\"\\n\")\n",
      "    for line in fasta:\n",
      "        if line.startswith(\">\"):\n",
      "            print(\"merging \"+line)\n",
      "        else:\n",
      "            fasta2.write(line)\n",
      "    fasta2.close()\n",
      "    \n",
      "merge_fasta(fastafile, mergedname, fastaoutput)\n"
     ],
     "language": "python",
     "metadata": {},
     "outputs": [],
     "prompt_number": 32
    },
    {
     "cell_type": "code",
     "collapsed": false,
     "input": [
      "%%R\n",
      "for (item in step2){\n",
      "    coverage1<-read.table(paste(item,\"step1.genomecoverage.txt\",sep=\"\"), sep=\"\\t\")\n",
      "    coverage2<-read.table(paste(item,\"switcharound.genomecoverage.txt\",sep=\"\"), sep=\"\\t\")\n",
      "    coverage3<-read.table(paste(item,\"step2.genomecoverage.txt\",sep=\"\"), sep=\"\\t\")\n",
      "    png(paste(\"./coverageplots/\",item,\"3panelcoverage.plot.png\", sep=\"\"), width=1440,pointsize=14)\n",
      "    layout(matrix(c(1,2,3),1,3,byrow=TRUE), widths=c(15,15,15))\n",
      "    with(coverage1, plot(V2, V3, type=\"n\",xlab=\"position\",ylab=\"coverage\", main=paste(item, \"Step1\", sep=\":\")))\n",
      "    with(coverage1, lines(V2,V3))\n",
      "    with(coverage2, plot(V2, V3, type=\"n\",xlab=\"position\",ylab=\"coverage\", main=paste(item,\"switcharound\",sep=\":\")))\n",
      "    with(coverage2, lines(V2,V3))\n",
      "    with(coverage3, plot(V2, V3, type=\"n\",xlab=\"position\",ylab=\"coverage\", main=paste(item,\"Step2\",sep=\":\")))\n",
      "    with(coverage3, lines(V2,V3))\n",
      "    dev.off()\n",
      "}"
     ],
     "language": "python",
     "metadata": {},
     "outputs": [],
     "prompt_number": 79
    },
    {
     "cell_type": "code",
     "collapsed": false,
     "input": [
      "#in engaging:\n",
      "ls *fastq>fastq.list.txt"
     ],
     "language": "python",
     "metadata": {},
     "outputs": [],
     "prompt_number": 68
    },
    {
     "cell_type": "code",
     "collapsed": false,
     "input": [
      "###now doing the same thing for group 6:\n",
      "fastq=open(\"fastq.list.txt\")\n",
      "program=open(\"20150406.group6.step1.sh\",\"a\")\n",
      "for name in fastq:\n",
      "    vec=name.split(\"_\")\n",
      "    heading=vec[0]\n",
      "    program.write(\"\\n\\n#\"+name+\"\\nclc_assembler -o \"+heading+\"step1.clc.fasta -m 500 -p fb ss 100 300 -q \"+ name+\"\\nclc_mapper -o \"+heading+\"step1.cas -p fb ss 100 300 -q \"+name.replace(\"\\n\",\"\")+\" -d \"+heading+\"step1.clc.fasta -a local -r ignore\\nclc_cas_to_sam -a \"+heading+\"step1.cas -o \"+heading+\"step1.bam\\n\\nsamtools sort \"+heading+\"step1.bam 1.025.O.sorted\\nsamtools index \"+heading+\"sorted.bam\\nbedtools genomecov -ibam \"+heading+\"step1.bam -d >\"+heading+\"step1.genomecoverage.txt\")\n",
      "program.close()"
     ],
     "language": "python",
     "metadata": {},
     "outputs": [],
     "prompt_number": 2
    },
    {
     "cell_type": "code",
     "collapsed": false,
     "input": [
      "alignments=[]\n",
      "for name in open(\"fastq.list.txt\"):\n",
      "    vec=name.split(\"_\")\n",
      "    heading=vec[0]\n",
      "    alignments.append(heading)\n",
      "alignments"
     ],
     "language": "python",
     "metadata": {},
     "outputs": [
      {
       "output_type": "stream",
       "stream": "stdout",
       "text": [
        "/bin/sh: Rpush: command not found\r\n"
       ]
      }
     ],
     "prompt_number": 4
    },
    {
     "cell_type": "code",
     "collapsed": false,
     "input": [
      "%Rpush alignments"
     ],
     "language": "python",
     "metadata": {},
     "outputs": [],
     "prompt_number": 7
    },
    {
     "cell_type": "code",
     "collapsed": false,
     "input": [
      "%%R \n",
      "#make coverage plots for each contig1 in group 5:\n",
      "png(paste(\"./group6/coverageplots/\", \"group6.combinedplot.png\", sep=\"\"), width=1920,height=5280,pointsize=14)\n",
      "layout(matrix(c(1:35),7,5,byrow=TRUE), widths=c(15,15,15,15,15))\n",
      "for (item in alignments){\n",
      "    filename<-paste(item,\"step1.genomecoverage.txt\",sep=\"\")\n",
      "    coverage<-read.table(filename, sep=\"\\t\")\n",
      "    contig1<-filter(coverage, V1==\"contig_1\")\n",
      "    #png(paste(\"./group6/coverageplots/\",item,\"coverage.plot.png\", sep=\"\"))\n",
      "    with(contig1, plot(V2, V3, type=\"n\",xlab=\"position\",ylab=\"coverage\", main=item))\n",
      "    with(contig1, lines(V2,V3))\n",
      "}\n",
      "dev.off()"
     ],
     "language": "python",
     "metadata": {},
     "outputs": [
      {
       "metadata": {},
       "output_type": "display_data",
       "text": [
        "quartz_off_screen \n",
        "                2 \n"
       ]
      }
     ],
     "prompt_number": 10
    },
    {
     "cell_type": "code",
     "collapsed": false,
     "input": [
      "%%R\n",
      "step2<-vector()\n",
      "done<-vector()\n",
      "for (item in alignments){\n",
      "    filename<-paste(item,\"step1.genomecoverage.txt\",sep=\"\")\n",
      "    coverage<-read.table(filename, sep=\"\\t\")\n",
      "    contig1<-filter(coverage, V1==\"contig_1\")\n",
      "    start<-min(contig1$V2)\n",
      "    end<-max(contig1$V2)\n",
      "    stddev<-sd(contig1$V3)\n",
      "    max_spot<-contig1$V2[mean(which(contig1$V3==max(contig1$V3)))]\n",
      "    #print(paste(\"start is\",start,\"stop is\",end,\"max diff is\", maxdiff, \"min diff is\", mindiff, sep=\" \"))\n",
      "    if (max(contig1$V3)<median(contig1$V3)+stddev+100){\n",
      "    print(paste(item, \"difference in coverage is insignificant\",sep=\" \"))\n",
      "    done<-c(done, item)\n",
      "} else if ((max_spot-start)<200|(end-max_spot)<200) {\n",
      "    print(paste(item,\"max coverage at the termini\", sep=\" \"))\n",
      "    done<-c(done, item)\n",
      "} else {\n",
      "    step2<-c(step2, item)\n",
      "}     \n",
      "\n",
      "}"
     ],
     "language": "python",
     "metadata": {},
     "outputs": [
      {
       "metadata": {},
       "output_type": "display_data",
       "text": [
        "[1] \"1.074.O. difference in coverage is insignificant\"\n",
        "[1] \"1.085.O. difference in coverage is insignificant\"\n",
        "[1] \"1.108.O. difference in coverage is insignificant\"\n",
        "[1] \"1.110.O. difference in coverage is insignificant\"\n",
        "[1] \"1.115.A. difference in coverage is insignificant\"\n",
        "[1] \"1.115.B. difference in coverage is insignificant\"\n",
        "[1] \"1.116.O. difference in coverage is insignificant\"\n",
        "[1] \"1.131.O. difference in coverage is insignificant\"\n",
        "[1] \"1.133.O. difference in coverage is insignificant\"\n",
        "[1] \"1.134.O. difference in coverage is insignificant\"\n",
        "[1] \"1.157.O. difference in coverage is insignificant\"\n",
        "[1] \"1.172.O. difference in coverage is insignificant\"\n",
        "[1] \"1.176.O. difference in coverage is insignificant\"\n",
        "[1] \"1.189.B. difference in coverage is insignificant\"\n",
        "[1] \"1.239.O. difference in coverage is insignificant\"\n"
       ]
      }
     ],
     "prompt_number": 17
    },
    {
     "cell_type": "code",
     "collapsed": false,
     "input": [
      "%%R\n",
      "#range_list<-vector()\n",
      "#cut_location<-vector()\n",
      "output<-vector()\n",
      "for (item in step2){\n",
      "    filename<-paste(item,\"step1.genomecoverage.txt\",sep=\"\")\n",
      "    coverage<-read.table(filename, sep=\"\\t\")\n",
      "    contig1<-filter(coverage, V1==\"contig_1\")\n",
      "    max_spot<-contig1$V2[mean(which(contig1$V3==max(contig1$V3)))]\n",
      "    c1len<-max(contig1$V2)    \n",
      "    range1<-paste(\"'contig_1:\",1,\"-\",max_spot,\"'\",sep=\"\")\n",
      "    range2<-paste(\"'contig_1:\",max_spot+1,\"'\",sep=\"\")\n",
      "    output<-c(output,paste(item, range1, range2, sep=\";\"))\n",
      "  \n",
      "}"
     ],
     "language": "python",
     "metadata": {},
     "outputs": [],
     "prompt_number": 18
    },
    {
     "cell_type": "code",
     "collapsed": false,
     "input": [
      "%Rpull output done"
     ],
     "language": "python",
     "metadata": {},
     "outputs": [],
     "prompt_number": 20
    },
    {
     "cell_type": "code",
     "collapsed": false,
     "input": [
      "script=open(\"20150406_TR_step2_switch.recruit.consensus.sh\",\"a\")\n",
      "\n",
      "for line in output:\n",
      "    vec=line.split(\";\")\n",
      "    script.write(\"samtools faidx \"+vec[0]+\"step1.clc.fasta \"+vec[1]+\" >\"+vec[0]+\"step1.front.fasta\\nsamtools faidx \"+vec[0]+\"step1.clc.fasta \"+vec[2]+\" >\"+vec[0]+\"step1.back.fasta\\n\\ncat \"+vec[0]+\"step1.back.fasta \"+vec[0]+\"step1.front.fasta > \"+vec[0]+\"step1.backfront.fasta\\n\\npython merge_fasta.py \"+vec[0]+\"step1.backfront.fasta \"+vec[0]+\"TR_assembly \"+vec[0]+\"step1.switcharound.fasta\\n\\n\")\n",
      "    script.write(\"clc_mapper -o \"+vec[0]+\"switcharound.cas -p fb ss 100 300 -q \"+vec[0]+\"*.fastq -d \"+vec[0]+\"step1.switcharound.fasta -a local -r ignore \\nclc_cas_to_sam -a \"+vec[0]+\"switcharound.cas -o \"+vec[0]+\"switcharound.bam\\nsamtools sort \"+vec[0]+\"switcharound.bam \"+vec[0]+\"sorted.switcharound\\nsamtools index \"+vec[0]+\"sorted.switcharound.bam\\n\\nbedtools genomecov -ibam \"+vec[0]+\"sorted.switcharound.bam -d > \"+vec[0]+\"switcharound.genomecoverage.txt\\nclc_extract_consensus -z none -a \"+vec[0]+\"switcharound.cas -o ./finished/\"+vec[0]+\"step2.fasta\\n\\n\")\n",
      "    script.write(\"clc_mapper -o \"+vec[0]+\"step2.cas -p fb ss 100 300 -q \"+vec[0]+\"*.fastq -d ./finished/\"+vec[0]+\"step2.fasta -a local -r ignore \\nclc_cas_to_sam -a \"+vec[0]+\"step2.cas -o \"+vec[0]+\"step2.bam\\nsamtools sort \"+vec[0]+\"step2.bam \"+vec[0]+\"sorted.step2\\nsamtools index \"+vec[0]+\"sorted.step2.bam\\n\\nbedtools genomecov -ibam \"+vec[0]+\"sorted.step2.bam -d > \"+vec[0]+\"step2.genomecoverage.txt\\n\\n#####\\n\\n\")\n",
      "for line in done:\n",
      "    script.write(\"samtools faidx \"+line+\"step1.clc.fasta 'contig_1'>./finished/\"+line+\"step1.fasta\\n\")\n",
      "script.close()"
     ],
     "language": "python",
     "metadata": {},
     "outputs": [],
     "prompt_number": 23
    },
    {
     "cell_type": "code",
     "collapsed": false,
     "input": [
      "%%R\n",
      "#make coverage plots for each contig1 in group 5:\n",
      "png(paste(\"./group6/coverageplots/\", \"group6.steps.png\", sep=\"\"), width=1920,height=5280,pointsize=14)\n",
      "layout(matrix(c(1:60),20,3,byrow=TRUE), widths=c(15,15,15))\n",
      "for (item in step2){\n",
      "    coverage1<-read.table(paste(item,\"step1.genomecoverage.txt\",sep=\"\"), sep=\"\\t\")\n",
      "    coverage2<-read.table(paste(item,\"switcharound.genomecoverage.txt\",sep=\"\"), sep=\"\\t\")\n",
      "    coverage3<-read.table(paste(item,\"step2.genomecoverage.txt\",sep=\"\"), sep=\"\\t\")\n",
      "    with(coverage1, plot(V2, V3, type=\"n\",xlab=\"position\",ylab=\"coverage\", main=paste(item, \"Step1\", sep=\":\")))\n",
      "    with(coverage1, lines(V2,V3))\n",
      "    with(coverage2, plot(V2, V3, type=\"n\",xlab=\"position\",ylab=\"coverage\", main=paste(item,\"switcharound\",sep=\":\")))\n",
      "    with(coverage2, lines(V2,V3))\n",
      "    with(coverage3, plot(V2, V3, type=\"n\",xlab=\"position\",ylab=\"coverage\", main=paste(item,\"Step2\",sep=\":\")))\n",
      "    with(coverage3, lines(V2,V3))\n",
      "}\n",
      "dev.off()"
     ],
     "language": "python",
     "metadata": {},
     "outputs": [
      {
       "metadata": {},
       "output_type": "display_data",
       "text": [
        "quartz_off_screen \n",
        "                2 \n"
       ]
      }
     ],
     "prompt_number": 25
    },
    {
     "cell_type": "code",
     "collapsed": false,
     "input": [],
     "language": "python",
     "metadata": {},
     "outputs": []
    }
   ],
   "metadata": {}
  }
 ]
}